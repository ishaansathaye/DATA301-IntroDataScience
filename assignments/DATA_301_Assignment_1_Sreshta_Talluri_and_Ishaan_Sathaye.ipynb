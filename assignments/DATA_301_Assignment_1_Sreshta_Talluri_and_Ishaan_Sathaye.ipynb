{
  "cells": [
    {
      "cell_type": "markdown",
      "metadata": {
        "id": "fQLu8g7NkVNI"
      },
      "source": [
        "**This assignment is in two parts. Read the notebook from the beginning and answer the questions as you go. You can add as many cells as you want. Submission instructions are at the end. See Canvas for general rules about Assignments and collaboration.**"
      ]
    },
    {
      "cell_type": "markdown",
      "metadata": {
        "id": "MfiaV4H5iZ3x"
      },
      "source": [
        "# Part 1: The Distribution of First Digits\n",
        "\n",
        "In this lab, you will explore the distribution of first digits in real data. For example, the first digits of the numbers 8675309, 24601, 1989, 420, 42, 2.7, 0.9, and 0.05 are 8, 2, 1, 4, 4, 2, 9, and 5 respectively. In this lab, you will investigate the question: how frequently does each digit 1-9 appear as the first digit of the number?"
      ]
    },
    {
      "cell_type": "code",
      "execution_count": 11,
      "metadata": {
        "id": "6sqR0SLF0Mot"
      },
      "outputs": [],
      "source": [
        "import pandas as pd"
      ]
    },
    {
      "cell_type": "markdown",
      "metadata": {
        "id": "X4RaiSB8kVNJ"
      },
      "source": [
        "## Question 0\n",
        "\n",
        "Make a prediction.\n",
        "\n",
        "1. Approximately what percentage of the values do you think will have a _first_ digit of 1? What percentage of the values do you think will have a first digit of 9?\n",
        "2. Approximately what percentage of the values do you think will have a _last_ digit of 1? What percentage of the values do you think will have a last digit of 9?\n",
        "\n",
        "(Don't worry about being wrong. You will earn full credit for any justified answer.)"
      ]
    },
    {
      "cell_type": "markdown",
      "metadata": {
        "id": "WlxSEeCxkVNK"
      },
      "source": [
        "**1. For the first digits, we predict that the distribution will be somewhat even, so around 10% for the digit 1 and 10% for the digit 9.**\n",
        "\n",
        "**2. For the last digits, we predict that the distribution will be somewhat even similar to first digits, so around 10% for the digit 1 and 10% for the digit 9.**"
      ]
    },
    {
      "cell_type": "markdown",
      "metadata": {
        "id": "IKpeJAfokVNL"
      },
      "source": [
        "## Question 1\n",
        "\n",
        "The [S&P 500](https://en.wikipedia.org/wiki/S%26P_500_Index) is a stock index based on the market capitalizations of large companies that are publicly traded on the NYSE or NASDAQ. The CSV file (https://raw.githubusercontent.com/kevindavisross/data301/main/data/sp500.csv) contains data from February 1, 2018 about the stocks that comprise the S&P 500. We will investigate the first digit distributions of the variables in this data set.\n",
        "\n",
        "Read in the S&P 500 data. What is the observational unit in this data set? Is there a variable that is natural to use as the index? If so, set that variable to be the index. Once you are done, display a few rows of the `DataFrame`."
      ]
    },
    {
      "cell_type": "code",
      "execution_count": 12,
      "metadata": {
        "colab": {
          "base_uri": "https://localhost:8080/",
          "height": 450
        },
        "id": "LxNsWuUNkVNM",
        "outputId": "9d20aac1-78e0-4839-b580-eef5d9d7b199"
      },
      "outputs": [
        {
          "data": {
            "text/html": [
              "<div>\n",
              "<style scoped>\n",
              "    .dataframe tbody tr th:only-of-type {\n",
              "        vertical-align: middle;\n",
              "    }\n",
              "\n",
              "    .dataframe tbody tr th {\n",
              "        vertical-align: top;\n",
              "    }\n",
              "\n",
              "    .dataframe thead th {\n",
              "        text-align: right;\n",
              "    }\n",
              "</style>\n",
              "<table border=\"1\" class=\"dataframe\">\n",
              "  <thead>\n",
              "    <tr style=\"text-align: right;\">\n",
              "      <th></th>\n",
              "      <th>date</th>\n",
              "      <th>open</th>\n",
              "      <th>close</th>\n",
              "      <th>volume</th>\n",
              "    </tr>\n",
              "    <tr>\n",
              "      <th>Name</th>\n",
              "      <th></th>\n",
              "      <th></th>\n",
              "      <th></th>\n",
              "      <th></th>\n",
              "    </tr>\n",
              "  </thead>\n",
              "  <tbody>\n",
              "    <tr>\n",
              "      <th>AAL</th>\n",
              "      <td>2018-02-01</td>\n",
              "      <td>$54.00</td>\n",
              "      <td>$53.88</td>\n",
              "      <td>3623078</td>\n",
              "    </tr>\n",
              "    <tr>\n",
              "      <th>AAPL</th>\n",
              "      <td>2018-02-01</td>\n",
              "      <td>$167.16</td>\n",
              "      <td>$167.78</td>\n",
              "      <td>47230787</td>\n",
              "    </tr>\n",
              "    <tr>\n",
              "      <th>AAP</th>\n",
              "      <td>2018-02-01</td>\n",
              "      <td>$116.24</td>\n",
              "      <td>$117.29</td>\n",
              "      <td>760629</td>\n",
              "    </tr>\n",
              "    <tr>\n",
              "      <th>ABBV</th>\n",
              "      <td>2018-02-01</td>\n",
              "      <td>$112.24</td>\n",
              "      <td>$116.34</td>\n",
              "      <td>9943452</td>\n",
              "    </tr>\n",
              "    <tr>\n",
              "      <th>ABC</th>\n",
              "      <td>2018-02-01</td>\n",
              "      <td>$97.74</td>\n",
              "      <td>$99.29</td>\n",
              "      <td>2786798</td>\n",
              "    </tr>\n",
              "    <tr>\n",
              "      <th>...</th>\n",
              "      <td>...</td>\n",
              "      <td>...</td>\n",
              "      <td>...</td>\n",
              "      <td>...</td>\n",
              "    </tr>\n",
              "    <tr>\n",
              "      <th>XYL</th>\n",
              "      <td>2018-02-01</td>\n",
              "      <td>$72.50</td>\n",
              "      <td>$74.84</td>\n",
              "      <td>1817612</td>\n",
              "    </tr>\n",
              "    <tr>\n",
              "      <th>YUM</th>\n",
              "      <td>2018-02-01</td>\n",
              "      <td>$84.24</td>\n",
              "      <td>$83.98</td>\n",
              "      <td>1685275</td>\n",
              "    </tr>\n",
              "    <tr>\n",
              "      <th>ZBH</th>\n",
              "      <td>2018-02-01</td>\n",
              "      <td>$126.35</td>\n",
              "      <td>$128.19</td>\n",
              "      <td>1756300</td>\n",
              "    </tr>\n",
              "    <tr>\n",
              "      <th>ZION</th>\n",
              "      <td>2018-02-01</td>\n",
              "      <td>$53.79</td>\n",
              "      <td>$54.98</td>\n",
              "      <td>3542047</td>\n",
              "    </tr>\n",
              "    <tr>\n",
              "      <th>ZTS</th>\n",
              "      <td>2018-02-01</td>\n",
              "      <td>$76.84</td>\n",
              "      <td>$77.82</td>\n",
              "      <td>2982259</td>\n",
              "    </tr>\n",
              "  </tbody>\n",
              "</table>\n",
              "<p>505 rows × 4 columns</p>\n",
              "</div>"
            ],
            "text/plain": [
              "            date     open    close    volume\n",
              "Name                                        \n",
              "AAL   2018-02-01   $54.00   $53.88   3623078\n",
              "AAPL  2018-02-01  $167.16  $167.78  47230787\n",
              "AAP   2018-02-01  $116.24  $117.29    760629\n",
              "ABBV  2018-02-01  $112.24  $116.34   9943452\n",
              "ABC   2018-02-01   $97.74   $99.29   2786798\n",
              "...          ...      ...      ...       ...\n",
              "XYL   2018-02-01   $72.50   $74.84   1817612\n",
              "YUM   2018-02-01   $84.24   $83.98   1685275\n",
              "ZBH   2018-02-01  $126.35  $128.19   1756300\n",
              "ZION  2018-02-01   $53.79   $54.98   3542047\n",
              "ZTS   2018-02-01   $76.84   $77.82   2982259\n",
              "\n",
              "[505 rows x 4 columns]"
            ]
          },
          "execution_count": 12,
          "metadata": {},
          "output_type": "execute_result"
        }
      ],
      "source": [
        "df_snp = pd.read_csv(\"https://raw.githubusercontent.com/kevindavisross/data301/main/data/sp500.csv\")\n",
        "df_snp = df_snp.set_index(\"Name\")\n",
        "df_snp"
      ]
    },
    {
      "cell_type": "markdown",
      "metadata": {
        "id": "7IXwAbCnkVNQ"
      },
      "source": [
        "**The observational unit is a given stock specifically on Feb. 1, 2018. The most natural to use as the index would be the stock name as that is unique for each observation.**"
      ]
    },
    {
      "cell_type": "markdown",
      "metadata": {
        "id": "jXLVHxjIkVNR"
      },
      "source": [
        "## Question 2\n",
        "\n",
        "We will start by looking at the `volume` column. This variable tells us how many shares were traded on that date.\n",
        "\n",
        "Extract the first digit of every value in this column. (_Hint:_ First, turn the numbers into strings. Then, use the [text processing functionalities](https://pandas.pydata.org/pandas-docs/stable/text.html) of `pandas` to extract the first character of each string; see in particular [\"Indexing with `.str`\"](https://pandas.pydata.org/pandas-docs/stable/user_guide/text.html#indexing-with-str).) Make an appropriate visualization to display the distribution of the first digits. (*Hint*: even though this variable is quantitative, you do NOT want a histogram or density plot.)\n",
        "\n",
        "How does this compare with what you predicted in Question 0?"
      ]
    },
    {
      "cell_type": "code",
      "execution_count": 13,
      "metadata": {
        "colab": {
          "base_uri": "https://localhost:8080/",
          "height": 442
        },
        "id": "gCnuPUejkVNS",
        "outputId": "375ab931-7a64-48a5-af11-66963e8fb4f3"
      },
      "outputs": [
        {
          "data": {
            "text/plain": [
              "<Axes: title={'center': 'First Digit of S&P 500 Volume'}, xlabel='First Digit', ylabel='Count'>"
            ]
          },
          "execution_count": 13,
          "metadata": {},
          "output_type": "execute_result"
        },
        {
          "data": {
            "image/png": "[encoded data removed]",
            "text/plain": [
              "<Figure size 640x480 with 1 Axes>"
            ]
          },
          "metadata": {},
          "output_type": "display_data"
        }
      ],
      "source": [
        "df_snp_first = df_snp[\"volume\"].astype(str).str[0]\n",
        "df_snp_first.value_counts().plot.bar(xlabel=\"First Digit\", ylabel=\"Count\", title=\"First Digit of S&P 500 Volume\")"
      ]
    },
    {
      "cell_type": "markdown",
      "metadata": {
        "id": "YiTi4orlkVNU"
      },
      "source": [
        "**ENTER YOUR WRITTEN EXPLANATION HERE.**\n",
        "\n",
        "In question 0, we predicted that the distributions of the first digits would be even. However, from the outputted distribution it seems that the first digit is more common to be 1 and less common as it gets higher."
      ]
    },
    {
      "cell_type": "markdown",
      "metadata": {
        "id": "gX4YumLtkVNV"
      },
      "source": [
        "## Question 3\n",
        "\n",
        "Now, repeat Question 2, but for the distribution of _last_ digits. Again, make an appropriate visualization and compare with your prediction in Question 0."
      ]
    },
    {
      "cell_type": "code",
      "execution_count": 14,
      "metadata": {
        "colab": {
          "base_uri": "https://localhost:8080/",
          "height": 442
        },
        "id": "PdKf6S7DkVNX",
        "outputId": "a33f14b3-e513-40cf-a3ac-0be7ad6fe06a"
      },
      "outputs": [
        {
          "data": {
            "text/plain": [
              "<Axes: title={'center': 'Distribution of Last Digit'}, xlabel='Last Digit', ylabel='Frequency'>"
            ]
          },
          "execution_count": 14,
          "metadata": {},
          "output_type": "execute_result"
        },
        {
          "data": {
            "image/png": "[encoded data removed]",
            "text/plain": [
              "<Figure size 640x480 with 1 Axes>"
            ]
          },
          "metadata": {},
          "output_type": "display_data"
        }
      ],
      "source": [
        "df_snp_last = df_snp[\"volume\"].astype(str).str[-1]\n",
        "df_snp_last_sorted = df_snp_last.value_counts().sort_index()\n",
        "df_snp_last_sorted.plot.bar(xlabel=\"Last Digit\", ylabel=\"Frequency\", title=\"Distribution of Last Digit\")"
      ]
    },
    {
      "cell_type": "markdown",
      "metadata": {
        "id": "JPsZCTnAkVNZ"
      },
      "source": [
        "**ENTER YOUR WRITTEN EXPLANATION HERE.**\n",
        "\n",
        "In this distribution for the last digits, our prediction is somewhat right as in the graph the distribution of the digits is around even."
      ]
    },
    {
      "cell_type": "markdown",
      "metadata": {
        "id": "v3GOfL93kVNa"
      },
      "source": [
        "## Question 4\n",
        "\n",
        "Maybe the `volume` column was just a fluke. Let's see if the first digit distribution holds up when we look at a very different variable: the closing price of the stock. Make a visualization of the first digit distribution of the closing price (the `close` column of the `DataFrame`). Comment on what you see.\n",
        "\n",
        "(_Hint:_ What type did `pandas` infer this variable as and why? You will have to first clean the values using the [text processing functionalities](https://pandas.pydata.org/pandas-docs/stable/text.html) of `pandas`.)"
      ]
    },
    {
      "cell_type": "code",
      "execution_count": 15,
      "metadata": {
        "colab": {
          "base_uri": "https://localhost:8080/",
          "height": 442
        },
        "id": "0EAC_EY3kVNb",
        "outputId": "2cc58987-cc79-4df6-aa81-14ae47f4400e"
      },
      "outputs": [
        {
          "data": {
            "text/plain": [
              "<Axes: title={'center': 'Distribution of First Digit of Closing Price'}, xlabel='First Digit', ylabel='Frequency'>"
            ]
          },
          "execution_count": 15,
          "metadata": {},
          "output_type": "execute_result"
        },
        {
          "data": {
            "image/png": "[encoded data removed]",
            "text/plain": [
              "<Figure size 640x480 with 1 Axes>"
            ]
          },
          "metadata": {},
          "output_type": "display_data"
        }
      ],
      "source": [
        "remove_dollar = lambda x: str(x.replace('$', ''))\n",
        "df_snp[\"close\"] = df_snp[\"close\"].apply(remove_dollar)\n",
        "df_snp_close_first = df_snp[\"close\"].astype(str).str[0]\n",
        "df_snp_close_first.value_counts().sort_index().plot.bar(xlabel=\"First Digit\", ylabel=\"Frequency\", title=\"Distribution of First Digit of Closing Price\")"
      ]
    },
    {
      "cell_type": "markdown",
      "metadata": {
        "id": "YI6oR6sjkVNe"
      },
      "source": [
        "**ENTER YOUR WRITTEN EXPLANATION HERE.**\n",
        "\n",
        "In this distribution, we found out that pandas infered this variable as a object due to the dollar sign at the beginning of the lcosing price. From this distribution we can see that the number 1 is again the most common first digit in the closing prices of the stocks."
      ]
    },
    {
      "cell_type": "markdown",
      "metadata": {
        "id": "HbDf5_dgbOWQ"
      },
      "source": [
        "**Note:** The first digit variable is a quantitative variable, since it would make sense to take an average. But it also only takes a limited set of values 1, 2, ..., 9, so in this sense it's like a categorical variable. First digit is an example of a **discrete quantitative variable**. Discrete variables are sometimes treated as quantitative (e.g., compute mean, median, SD) and sometimes treated as categorical (e.g., compute the relative frequency of each value, display the distribution in a bar plot instead of a histogram).\n",
        "\n",
        "**Further reading:** The distribution of first digits you observed is known as [\"Benford's Law\"](https://en.wikipedia.org/wiki/Benford%27s_law). [This article](https://towardsdatascience.com/benfords-law-a-simple-explanation-341e17abbe75) gives a good explanation of why Benford's law occurs. This [Shiny applet](https://calpolystat.shinyapps.io/BenfordData/) contains some other data sets where the first digit follows Benford's law."
      ]
    },
    {
      "cell_type": "markdown",
      "metadata": {
        "id": "_4W3LtwRjQ4l"
      },
      "source": [
        "# Part 2: Choose your own Data!\n",
        "\n",
        "You will choose a data set and use it to investigate the relationship between two categorical variables. You have lots of flexibility, but you must satisfy the following requirements.\n",
        "\n",
        "- The data set should be interesting to you personally. If you're working in a group, it should be interesting to everyone in the group.\n",
        "- The data set needs to have two categorical variables. (It can have more, but you'll only to investigate two categorical variables.)\n",
        "- At least one of the categorical variables should have more than 2 categories.\n",
        "- The data set should NOT be one that we have used in class (e.g., NOT Titanic, NOT OKCupid, etc)\n",
        "- It is ok if you use a data set from a previous course, as long as it's one that you find interesting. But you need to perform the analysis using Pandas.\n",
        "\n",
        "Recall that the [Introduction to Colab notebook](https://colab.research.google.com/drive/146XB9D9YrQ8ek0Aijm-ea46vEqgm7Hgh?usp=sharing) from the first day of class has some notes about uploading data for use in Colab."
      ]
    },
    {
      "cell_type": "markdown",
      "metadata": {
        "id": "8-8qxRZljqif"
      },
      "source": [
        "## Question 1\n",
        "\n",
        "Briefly describe the data. What are the observational units? How many observational units are in the data set? What are the two main variables of interest? How many observational units are missing values of the variables? If you have any other information about how the data was collected --- How were the units selected for the sample? How were the variables measured? --- you can describe it briefly."
      ]
    },
    {
      "cell_type": "code",
      "execution_count": 16,
      "metadata": {
        "colab": {
          "base_uri": "https://localhost:8080/",
          "height": 592
        },
        "id": "jQr3sDFAlMhv",
        "outputId": "a1b2753e-9023-44c1-f47d-b8aaf296fed2"
      },
      "outputs": [
        {
          "data": {
            "text/html": [
              "<div>\n",
              "<style scoped>\n",
              "    .dataframe tbody tr th:only-of-type {\n",
              "        vertical-align: middle;\n",
              "    }\n",
              "\n",
              "    .dataframe tbody tr th {\n",
              "        vertical-align: top;\n",
              "    }\n",
              "\n",
              "    .dataframe thead th {\n",
              "        text-align: right;\n",
              "    }\n",
              "</style>\n",
              "<table border=\"1\" class=\"dataframe\">\n",
              "  <thead>\n",
              "    <tr style=\"text-align: right;\">\n",
              "      <th></th>\n",
              "      <th>track_name</th>\n",
              "      <th>artist(s)_name</th>\n",
              "      <th>artist_count</th>\n",
              "      <th>released_year</th>\n",
              "      <th>released_month</th>\n",
              "      <th>released_day</th>\n",
              "      <th>in_spotify_playlists</th>\n",
              "      <th>in_spotify_charts</th>\n",
              "      <th>streams</th>\n",
              "      <th>in_apple_playlists</th>\n",
              "      <th>...</th>\n",
              "      <th>bpm</th>\n",
              "      <th>key</th>\n",
              "      <th>mode</th>\n",
              "      <th>danceability_%</th>\n",
              "      <th>valence_%</th>\n",
              "      <th>energy_%</th>\n",
              "      <th>acousticness_%</th>\n",
              "      <th>instrumentalness_%</th>\n",
              "      <th>liveness_%</th>\n",
              "      <th>speechiness_%</th>\n",
              "    </tr>\n",
              "  </thead>\n",
              "  <tbody>\n",
              "    <tr>\n",
              "      <th>0</th>\n",
              "      <td>Seven (feat. Latto) (Explicit Ver.)</td>\n",
              "      <td>Latto, Jung Kook</td>\n",
              "      <td>2</td>\n",
              "      <td>2023</td>\n",
              "      <td>7</td>\n",
              "      <td>14</td>\n",
              "      <td>553</td>\n",
              "      <td>147</td>\n",
              "      <td>141381703</td>\n",
              "      <td>43</td>\n",
              "      <td>...</td>\n",
              "      <td>125</td>\n",
              "      <td>B</td>\n",
              "      <td>Major</td>\n",
              "      <td>80</td>\n",
              "      <td>89</td>\n",
              "      <td>83</td>\n",
              "      <td>31</td>\n",
              "      <td>0</td>\n",
              "      <td>8</td>\n",
              "      <td>4</td>\n",
              "    </tr>\n",
              "    <tr>\n",
              "      <th>1</th>\n",
              "      <td>LALA</td>\n",
              "      <td>Myke Towers</td>\n",
              "      <td>1</td>\n",
              "      <td>2023</td>\n",
              "      <td>3</td>\n",
              "      <td>23</td>\n",
              "      <td>1474</td>\n",
              "      <td>48</td>\n",
              "      <td>133716286</td>\n",
              "      <td>48</td>\n",
              "      <td>...</td>\n",
              "      <td>92</td>\n",
              "      <td>C#</td>\n",
              "      <td>Major</td>\n",
              "      <td>71</td>\n",
              "      <td>61</td>\n",
              "      <td>74</td>\n",
              "      <td>7</td>\n",
              "      <td>0</td>\n",
              "      <td>10</td>\n",
              "      <td>4</td>\n",
              "    </tr>\n",
              "    <tr>\n",
              "      <th>2</th>\n",
              "      <td>vampire</td>\n",
              "      <td>Olivia Rodrigo</td>\n",
              "      <td>1</td>\n",
              "      <td>2023</td>\n",
              "      <td>6</td>\n",
              "      <td>30</td>\n",
              "      <td>1397</td>\n",
              "      <td>113</td>\n",
              "      <td>140003974</td>\n",
              "      <td>94</td>\n",
              "      <td>...</td>\n",
              "      <td>138</td>\n",
              "      <td>F</td>\n",
              "      <td>Major</td>\n",
              "      <td>51</td>\n",
              "      <td>32</td>\n",
              "      <td>53</td>\n",
              "      <td>17</td>\n",
              "      <td>0</td>\n",
              "      <td>31</td>\n",
              "      <td>6</td>\n",
              "    </tr>\n",
              "    <tr>\n",
              "      <th>3</th>\n",
              "      <td>Cruel Summer</td>\n",
              "      <td>Taylor Swift</td>\n",
              "      <td>1</td>\n",
              "      <td>2019</td>\n",
              "      <td>8</td>\n",
              "      <td>23</td>\n",
              "      <td>7858</td>\n",
              "      <td>100</td>\n",
              "      <td>800840817</td>\n",
              "      <td>116</td>\n",
              "      <td>...</td>\n",
              "      <td>170</td>\n",
              "      <td>A</td>\n",
              "      <td>Major</td>\n",
              "      <td>55</td>\n",
              "      <td>58</td>\n",
              "      <td>72</td>\n",
              "      <td>11</td>\n",
              "      <td>0</td>\n",
              "      <td>11</td>\n",
              "      <td>15</td>\n",
              "    </tr>\n",
              "    <tr>\n",
              "      <th>4</th>\n",
              "      <td>WHERE SHE GOES</td>\n",
              "      <td>Bad Bunny</td>\n",
              "      <td>1</td>\n",
              "      <td>2023</td>\n",
              "      <td>5</td>\n",
              "      <td>18</td>\n",
              "      <td>3133</td>\n",
              "      <td>50</td>\n",
              "      <td>303236322</td>\n",
              "      <td>84</td>\n",
              "      <td>...</td>\n",
              "      <td>144</td>\n",
              "      <td>A</td>\n",
              "      <td>Minor</td>\n",
              "      <td>65</td>\n",
              "      <td>23</td>\n",
              "      <td>80</td>\n",
              "      <td>14</td>\n",
              "      <td>63</td>\n",
              "      <td>11</td>\n",
              "      <td>6</td>\n",
              "    </tr>\n",
              "    <tr>\n",
              "      <th>...</th>\n",
              "      <td>...</td>\n",
              "      <td>...</td>\n",
              "      <td>...</td>\n",
              "      <td>...</td>\n",
              "      <td>...</td>\n",
              "      <td>...</td>\n",
              "      <td>...</td>\n",
              "      <td>...</td>\n",
              "      <td>...</td>\n",
              "      <td>...</td>\n",
              "      <td>...</td>\n",
              "      <td>...</td>\n",
              "      <td>...</td>\n",
              "      <td>...</td>\n",
              "      <td>...</td>\n",
              "      <td>...</td>\n",
              "      <td>...</td>\n",
              "      <td>...</td>\n",
              "      <td>...</td>\n",
              "      <td>...</td>\n",
              "      <td>...</td>\n",
              "    </tr>\n",
              "    <tr>\n",
              "      <th>948</th>\n",
              "      <td>My Mind &amp; Me</td>\n",
              "      <td>Selena Gomez</td>\n",
              "      <td>1</td>\n",
              "      <td>2022</td>\n",
              "      <td>11</td>\n",
              "      <td>3</td>\n",
              "      <td>953</td>\n",
              "      <td>0</td>\n",
              "      <td>91473363</td>\n",
              "      <td>61</td>\n",
              "      <td>...</td>\n",
              "      <td>144</td>\n",
              "      <td>A</td>\n",
              "      <td>Major</td>\n",
              "      <td>60</td>\n",
              "      <td>24</td>\n",
              "      <td>39</td>\n",
              "      <td>57</td>\n",
              "      <td>0</td>\n",
              "      <td>8</td>\n",
              "      <td>3</td>\n",
              "    </tr>\n",
              "    <tr>\n",
              "      <th>949</th>\n",
              "      <td>Bigger Than The Whole Sky</td>\n",
              "      <td>Taylor Swift</td>\n",
              "      <td>1</td>\n",
              "      <td>2022</td>\n",
              "      <td>10</td>\n",
              "      <td>21</td>\n",
              "      <td>1180</td>\n",
              "      <td>0</td>\n",
              "      <td>121871870</td>\n",
              "      <td>4</td>\n",
              "      <td>...</td>\n",
              "      <td>166</td>\n",
              "      <td>F#</td>\n",
              "      <td>Major</td>\n",
              "      <td>42</td>\n",
              "      <td>7</td>\n",
              "      <td>24</td>\n",
              "      <td>83</td>\n",
              "      <td>1</td>\n",
              "      <td>12</td>\n",
              "      <td>6</td>\n",
              "    </tr>\n",
              "    <tr>\n",
              "      <th>950</th>\n",
              "      <td>A Veces (feat. Feid)</td>\n",
              "      <td>Feid, Paulo Londra</td>\n",
              "      <td>2</td>\n",
              "      <td>2022</td>\n",
              "      <td>11</td>\n",
              "      <td>3</td>\n",
              "      <td>573</td>\n",
              "      <td>0</td>\n",
              "      <td>73513683</td>\n",
              "      <td>2</td>\n",
              "      <td>...</td>\n",
              "      <td>92</td>\n",
              "      <td>C#</td>\n",
              "      <td>Major</td>\n",
              "      <td>80</td>\n",
              "      <td>81</td>\n",
              "      <td>67</td>\n",
              "      <td>4</td>\n",
              "      <td>0</td>\n",
              "      <td>8</td>\n",
              "      <td>6</td>\n",
              "    </tr>\n",
              "    <tr>\n",
              "      <th>951</th>\n",
              "      <td>En La De Ella</td>\n",
              "      <td>Feid, Sech, Jhayco</td>\n",
              "      <td>3</td>\n",
              "      <td>2022</td>\n",
              "      <td>10</td>\n",
              "      <td>20</td>\n",
              "      <td>1320</td>\n",
              "      <td>0</td>\n",
              "      <td>133895612</td>\n",
              "      <td>29</td>\n",
              "      <td>...</td>\n",
              "      <td>97</td>\n",
              "      <td>C#</td>\n",
              "      <td>Major</td>\n",
              "      <td>82</td>\n",
              "      <td>67</td>\n",
              "      <td>77</td>\n",
              "      <td>8</td>\n",
              "      <td>0</td>\n",
              "      <td>12</td>\n",
              "      <td>5</td>\n",
              "    </tr>\n",
              "    <tr>\n",
              "      <th>952</th>\n",
              "      <td>Alone</td>\n",
              "      <td>Burna Boy</td>\n",
              "      <td>1</td>\n",
              "      <td>2022</td>\n",
              "      <td>11</td>\n",
              "      <td>4</td>\n",
              "      <td>782</td>\n",
              "      <td>2</td>\n",
              "      <td>96007391</td>\n",
              "      <td>27</td>\n",
              "      <td>...</td>\n",
              "      <td>90</td>\n",
              "      <td>E</td>\n",
              "      <td>Minor</td>\n",
              "      <td>61</td>\n",
              "      <td>32</td>\n",
              "      <td>67</td>\n",
              "      <td>15</td>\n",
              "      <td>0</td>\n",
              "      <td>11</td>\n",
              "      <td>5</td>\n",
              "    </tr>\n",
              "  </tbody>\n",
              "</table>\n",
              "<p>953 rows × 24 columns</p>\n",
              "</div>"
            ],
            "text/plain": [
              "                              track_name      artist(s)_name  artist_count   \n",
              "0    Seven (feat. Latto) (Explicit Ver.)    Latto, Jung Kook             2  \\\n",
              "1                                   LALA         Myke Towers             1   \n",
              "2                                vampire      Olivia Rodrigo             1   \n",
              "3                           Cruel Summer        Taylor Swift             1   \n",
              "4                         WHERE SHE GOES           Bad Bunny             1   \n",
              "..                                   ...                 ...           ...   \n",
              "948                         My Mind & Me        Selena Gomez             1   \n",
              "949            Bigger Than The Whole Sky        Taylor Swift             1   \n",
              "950                 A Veces (feat. Feid)  Feid, Paulo Londra             2   \n",
              "951                        En La De Ella  Feid, Sech, Jhayco             3   \n",
              "952                                Alone           Burna Boy             1   \n",
              "\n",
              "     released_year  released_month  released_day  in_spotify_playlists   \n",
              "0             2023               7            14                   553  \\\n",
              "1             2023               3            23                  1474   \n",
              "2             2023               6            30                  1397   \n",
              "3             2019               8            23                  7858   \n",
              "4             2023               5            18                  3133   \n",
              "..             ...             ...           ...                   ...   \n",
              "948           2022              11             3                   953   \n",
              "949           2022              10            21                  1180   \n",
              "950           2022              11             3                   573   \n",
              "951           2022              10            20                  1320   \n",
              "952           2022              11             4                   782   \n",
              "\n",
              "     in_spotify_charts    streams  in_apple_playlists  ...  bpm key   mode   \n",
              "0                  147  141381703                  43  ...  125   B  Major  \\\n",
              "1                   48  133716286                  48  ...   92  C#  Major   \n",
              "2                  113  140003974                  94  ...  138   F  Major   \n",
              "3                  100  800840817                 116  ...  170   A  Major   \n",
              "4                   50  303236322                  84  ...  144   A  Minor   \n",
              "..                 ...        ...                 ...  ...  ...  ..    ...   \n",
              "948                  0   91473363                  61  ...  144   A  Major   \n",
              "949                  0  121871870                   4  ...  166  F#  Major   \n",
              "950                  0   73513683                   2  ...   92  C#  Major   \n",
              "951                  0  133895612                  29  ...   97  C#  Major   \n",
              "952                  2   96007391                  27  ...   90   E  Minor   \n",
              "\n",
              "    danceability_%  valence_% energy_% acousticness_%  instrumentalness_%   \n",
              "0               80         89       83             31                   0  \\\n",
              "1               71         61       74              7                   0   \n",
              "2               51         32       53             17                   0   \n",
              "3               55         58       72             11                   0   \n",
              "4               65         23       80             14                  63   \n",
              "..             ...        ...      ...            ...                 ...   \n",
              "948             60         24       39             57                   0   \n",
              "949             42          7       24             83                   1   \n",
              "950             80         81       67              4                   0   \n",
              "951             82         67       77              8                   0   \n",
              "952             61         32       67             15                   0   \n",
              "\n",
              "     liveness_%  speechiness_%  \n",
              "0             8              4  \n",
              "1            10              4  \n",
              "2            31              6  \n",
              "3            11             15  \n",
              "4            11              6  \n",
              "..          ...            ...  \n",
              "948           8              3  \n",
              "949          12              6  \n",
              "950           8              6  \n",
              "951          12              5  \n",
              "952          11              5  \n",
              "\n",
              "[953 rows x 24 columns]"
            ]
          },
          "execution_count": 16,
          "metadata": {},
          "output_type": "execute_result"
        }
      ],
      "source": [
        "df_spotify = pd.read_csv(\"../content/spotify-2023.csv\", encoding=\"latin-1\")\n",
        "df_spotify"
      ]
    },
    {
      "cell_type": "code",
      "execution_count": 17,
      "metadata": {
        "colab": {
          "base_uri": "https://localhost:8080/"
        },
        "id": "dZ5FdFR4nQQt",
        "outputId": "19344e9b-1cac-44e7-f378-39b18f6da99d"
      },
      "outputs": [
        {
          "data": {
            "text/plain": [
              "95"
            ]
          },
          "execution_count": 17,
          "metadata": {},
          "output_type": "execute_result"
        }
      ],
      "source": [
        "df_spotify[\"key\"].isnull().sum()"
      ]
    },
    {
      "cell_type": "code",
      "execution_count": 18,
      "metadata": {
        "colab": {
          "base_uri": "https://localhost:8080/"
        },
        "id": "Xqp7bYG5nuN7",
        "outputId": "56037e61-5d21-44a4-e844-14df95f4bdcd"
      },
      "outputs": [
        {
          "data": {
            "text/plain": [
              "0"
            ]
          },
          "execution_count": 18,
          "metadata": {},
          "output_type": "execute_result"
        }
      ],
      "source": [
        "df_spotify[\"mode\"].isnull().sum()"
      ]
    },
    {
      "cell_type": "code",
      "execution_count": 19,
      "metadata": {
        "colab": {
          "base_uri": "https://localhost:8080/"
        },
        "id": "ZIdTnvSWtCx8",
        "outputId": "38319964-1c86-4ca6-aa39-7deb029b1ee5"
      },
      "outputs": [
        {
          "data": {
            "text/plain": [
              "key\n",
              "C#    120\n",
              "G      96\n",
              "G#     91\n",
              "F      89\n",
              "B      81\n",
              "D      81\n",
              "A      75\n",
              "F#     73\n",
              "E      62\n",
              "A#     57\n",
              "D#     33\n",
              "Name: count, dtype: int64"
            ]
          },
          "execution_count": 19,
          "metadata": {},
          "output_type": "execute_result"
        }
      ],
      "source": [
        "df_spotify[\"key\"].value_counts()"
      ]
    },
    {
      "cell_type": "markdown",
      "metadata": {
        "id": "-64fOXWYm0Og"
      },
      "source": [
        "There are 953 observational units and these are songs. Two main variables of interest are the key and the mode. Yes, there are 95 units missing \"key\" data and none of the units are missing \"mode\" data. Units selected are the top spotify songs for 2023. The variables were measured from the information available from Spotify."
      ]
    },
    {
      "cell_type": "markdown",
      "metadata": {
        "id": "qw6gBvOalNFl"
      },
      "source": [
        "## Question 2\n",
        "\n",
        "Use Pandas to investigate the relationship between the two categorical variables. Your analysis should produce at least one appropriate table and at least one appropriate plot. (Focus on quality not quantity; more is not necessarily better. One table and one plot might be fine if it appropriately summarizes the relationship you are investigating.)"
      ]
    },
    {
      "cell_type": "code",
      "execution_count": 20,
      "metadata": {
        "colab": {
          "base_uri": "https://localhost:8080/",
          "height": 142
        },
        "id": "MWXzaaXHlNN1",
        "outputId": "637cd3aa-0e29-4f47-e7bb-dd59e6a0c861"
      },
      "outputs": [
        {
          "data": {
            "text/html": [
              "<div>\n",
              "<style scoped>\n",
              "    .dataframe tbody tr th:only-of-type {\n",
              "        vertical-align: middle;\n",
              "    }\n",
              "\n",
              "    .dataframe tbody tr th {\n",
              "        vertical-align: top;\n",
              "    }\n",
              "\n",
              "    .dataframe thead th {\n",
              "        text-align: right;\n",
              "    }\n",
              "</style>\n",
              "<table border=\"1\" class=\"dataframe\">\n",
              "  <thead>\n",
              "    <tr style=\"text-align: right;\">\n",
              "      <th>key</th>\n",
              "      <th>A</th>\n",
              "      <th>A#</th>\n",
              "      <th>B</th>\n",
              "      <th>C#</th>\n",
              "      <th>D</th>\n",
              "      <th>D#</th>\n",
              "      <th>E</th>\n",
              "      <th>F</th>\n",
              "      <th>F#</th>\n",
              "      <th>G</th>\n",
              "      <th>G#</th>\n",
              "    </tr>\n",
              "    <tr>\n",
              "      <th>mode</th>\n",
              "      <th></th>\n",
              "      <th></th>\n",
              "      <th></th>\n",
              "      <th></th>\n",
              "      <th></th>\n",
              "      <th></th>\n",
              "      <th></th>\n",
              "      <th></th>\n",
              "      <th></th>\n",
              "      <th></th>\n",
              "      <th></th>\n",
              "    </tr>\n",
              "  </thead>\n",
              "  <tbody>\n",
              "    <tr>\n",
              "      <th>Major</th>\n",
              "      <td>0.56</td>\n",
              "      <td>0.473684</td>\n",
              "      <td>0.432099</td>\n",
              "      <td>0.608333</td>\n",
              "      <td>0.814815</td>\n",
              "      <td>0.363636</td>\n",
              "      <td>0.274194</td>\n",
              "      <td>0.494382</td>\n",
              "      <td>0.410959</td>\n",
              "      <td>0.6875</td>\n",
              "      <td>0.692308</td>\n",
              "    </tr>\n",
              "    <tr>\n",
              "      <th>Minor</th>\n",
              "      <td>0.44</td>\n",
              "      <td>0.526316</td>\n",
              "      <td>0.567901</td>\n",
              "      <td>0.391667</td>\n",
              "      <td>0.185185</td>\n",
              "      <td>0.636364</td>\n",
              "      <td>0.725806</td>\n",
              "      <td>0.505618</td>\n",
              "      <td>0.589041</td>\n",
              "      <td>0.3125</td>\n",
              "      <td>0.307692</td>\n",
              "    </tr>\n",
              "  </tbody>\n",
              "</table>\n",
              "</div>"
            ],
            "text/plain": [
              "key       A        A#         B        C#         D        D#         E   \n",
              "mode                                                                      \n",
              "Major  0.56  0.473684  0.432099  0.608333  0.814815  0.363636  0.274194  \\\n",
              "Minor  0.44  0.526316  0.567901  0.391667  0.185185  0.636364  0.725806   \n",
              "\n",
              "key           F        F#       G        G#  \n",
              "mode                                         \n",
              "Major  0.494382  0.410959  0.6875  0.692308  \n",
              "Minor  0.505618  0.589041  0.3125  0.307692  "
            ]
          },
          "execution_count": 20,
          "metadata": {},
          "output_type": "execute_result"
        }
      ],
      "source": [
        "joint_mode_key = pd.crosstab(df_spotify[\"mode\"], df_spotify[\"key\"], normalize=True)\n",
        "marginal_mode = joint_mode_key.sum(axis=0)\n",
        "conditional = joint_mode_key.divide(marginal_mode, axis=1)\n",
        "conditional"
      ]
    },
    {
      "cell_type": "code",
      "execution_count": 27,
      "metadata": {
        "colab": {
          "base_uri": "https://localhost:8080/",
          "height": 475
        },
        "id": "uEM3i_owow-W",
        "outputId": "80f9e32a-62fc-47b7-97ed-c2921954cc96"
      },
      "outputs": [
        {
          "data": {
            "text/plain": [
              "<Axes: title={'center': 'Relationship between Mode and Key'}, xlabel='Key', ylabel='Proportion'>"
            ]
          },
          "execution_count": 27,
          "metadata": {},
          "output_type": "execute_result"
        },
        {
          "data": {
            "image/png": "[encoded data removed]",
            "text/plain": [
              "<Figure size 640x480 with 1 Axes>"
            ]
          },
          "metadata": {},
          "output_type": "display_data"
        }
      ],
      "source": [
        "conditional.T.plot.bar(stacked=True, xlabel=\"Key\", ylabel=\"Proportion\", title=\"Relationship between Mode and Key\")"
      ]
    },
    {
      "cell_type": "markdown",
      "metadata": {
        "id": "yz0am6C0lNU9"
      },
      "source": [
        "## Question 3\n",
        "\n",
        "Write a short paragraph describing your conclusions in context. How would you describe the relationship between the two categorical variables? Refer to your analysis from Question 2. You should include some specific numerical values and interpret them in context (e.g., percentage change or percentage point difference)."
      ]
    },
    {
      "cell_type": "markdown",
      "metadata": {
        "id": "ZmFELkfxrUz-"
      },
      "source": [
        "The \"D\", \"G\", \"C#\", and \"G#\" keys were more likely to be in the major mode than in the minor mode in the top spotify songs of 2023. On the other hand, the \"D#\", \"E\", \"F#\" keys were more likely to be in the minor mode than the major mode. Interestingly, there were no top songs of spotify 2023 that were in the C key."
      ]
    },
    {
      "cell_type": "code",
      "execution_count": 22,
      "metadata": {
        "colab": {
          "base_uri": "https://localhost:8080/"
        },
        "id": "T4IhodNhlNcH",
        "outputId": "6acd6b2f-10d7-4833-a24d-08754a0adcea"
      },
      "outputs": [
        {
          "name": "stdout",
          "output_type": "stream",
          "text": [
            "54.0621266427718\n"
          ]
        }
      ],
      "source": [
        "# ENTER YOUR CODE HERE. ADD AS MANY CELLS AS YOU WANT.\n",
        "print((conditional['D'][\"Major\"] - conditional['E'][\"Major\"])*100)"
      ]
    },
    {
      "cell_type": "markdown",
      "metadata": {
        "id": "yQN95_rnqyrX"
      },
      "source": [
        "Songs in the \"D\" key were 54 percentage points more likely to be in the major key than the \"E\" key. From the distribution, D was the popular key to be in the major mode and E was the most popular key to be in the minor mode."
      ]
    },
    {
      "cell_type": "code",
      "execution_count": 23,
      "metadata": {
        "colab": {
          "base_uri": "https://localhost:8080/"
        },
        "id": "DHbtpxY-uiro",
        "outputId": "eb249290-93f9-42a5-b26b-c11cc9b45f5f"
      },
      "outputs": [
        {
          "data": {
            "text/plain": [
              "11"
            ]
          },
          "execution_count": 23,
          "metadata": {},
          "output_type": "execute_result"
        }
      ],
      "source": [
        "len(conditional.loc[\"Major\"])"
      ]
    },
    {
      "cell_type": "code",
      "execution_count": 24,
      "metadata": {
        "colab": {
          "base_uri": "https://localhost:8080/"
        },
        "id": "lD-cak1DtT65",
        "outputId": "108db776-df34-46b3-c082-fb8d85707408"
      },
      "outputs": [
        {
          "data": {
            "text/plain": [
              "5"
            ]
          },
          "execution_count": 24,
          "metadata": {},
          "output_type": "execute_result"
        }
      ],
      "source": [
        "(conditional.loc[\"Major\"] > 0.5).sum()"
      ]
    },
    {
      "cell_type": "code",
      "execution_count": 25,
      "metadata": {
        "colab": {
          "base_uri": "https://localhost:8080/"
        },
        "id": "nqfZw6fQt7Z6",
        "outputId": "4fec9875-a578-41cd-bca8-db8d46900ff4"
      },
      "outputs": [
        {
          "data": {
            "text/plain": [
              "mode\n",
              "Major    0.577125\n",
              "Minor    0.422875\n",
              "Name: proportion, dtype: float64"
            ]
          },
          "execution_count": 25,
          "metadata": {},
          "output_type": "execute_result"
        }
      ],
      "source": [
        "df_spotify[\"mode\"].value_counts(normalize=True)"
      ]
    },
    {
      "cell_type": "markdown",
      "metadata": {
        "id": "vNhAxJm6t0dZ"
      },
      "source": [
        "From our original dataset, there were 58% units that were in the Major mode, however we found out that the majority of the keys utilized the minor mode. There were 11 keys but only 5 keys used the major mode. This is an example of the Simpson's Paradox."
      ]
    },
    {
      "cell_type": "markdown",
      "metadata": {
        "id": "ArxUuzYNkVNe"
      },
      "source": [
        "## Submission Instructions\n",
        "\n",
        "- After you have completed the notebook, select **Runtime > Restart and run all**\n",
        "- After the notebook finishes rerunning check to make sure that you have no errors and everything runs properly.  Fix any problems and redo this step until it works.\n",
        "- Rename this notebook by clicking on \"DATA 301 Assigment - YOUR NAMES HERE\" at the very top of this page. Replace \"YOUR NAMES HERE\" with the first and last names of ALL partners who collaborated on this assignment.\n",
        "- Expand all cells with View > Expand Sections\n",
        "- Save a PDF version: File > Print > Save as PDF\n",
        "    - Under \"More Settings\" make sure \"Background graphics\" is checked\n",
        "    - Printing to PDF doesn't always work so well and some of your output might get cutoff. That's ok.\n",
        "    - It's not necessary, but if you want a more nicely formatted PDF you can uncomment and run the code in the following cell. (Here's a [video](https://www.youtube.com/watch?v=-Ti9Mm21uVc) with other options.)\n",
        "- Download the notebook: File > Download .ipynb\n",
        "- **Submit the notebook and PDF in Canvas**. If you worked in a team, only one person should submit in Canvas. Add the names of all team members in the comments in the submission in Canvas."
      ]
    },
    {
      "cell_type": "code",
      "execution_count": 26,
      "metadata": {
        "id": "t_4T1BUFZjS3"
      },
      "outputs": [],
      "source": [
        "# !wget -nc https://raw.githubusercontent.com/brpy/colab-pdf/master/colab_pdf.py\n",
        "# from colab_pdf import colab_pdf\n",
        "# colab_pdf('DATA 301 Lab1B - Sreshta Talluri and Ishaan Sathaye.ipynb')"
      ]
    }
  ],
  "metadata": {
    "colab": {
      "provenance": []
    },
    "kernelspec": {
      "display_name": "Python 3",
      "language": "python",
      "name": "python3"
    },
    "language_info": {
      "codemirror_mode": {
        "name": "ipython",
        "version": 3
      },
      "file_extension": ".py",
      "mimetype": "text/x-python",
      "name": "python",
      "nbconvert_exporter": "python",
      "pygments_lexer": "ipython3",
      "version": "3.9.6"
    }
  },
  "nbformat": 4,
  "nbformat_minor": 0
}
