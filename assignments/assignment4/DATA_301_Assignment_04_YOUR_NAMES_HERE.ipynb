{
  "nbformat": 4,
  "nbformat_minor": 0,
  "metadata": {
    "kernelspec": {
      "display_name": "Python 3",
      "language": "python",
      "name": "python3"
    },
    "language_info": {
      "codemirror_mode": {
        "name": "ipython",
        "version": 3
      },
      "file_extension": ".py",
      "mimetype": "text/x-python",
      "name": "python",
      "nbconvert_exporter": "python",
      "pygments_lexer": "ipython3",
      "version": "3.6.8"
    },
    "colab": {
      "provenance": []
    }
  },
  "cells": [
    {
      "cell_type": "markdown",
      "metadata": {
        "id": "ByynuurZOPFd"
      },
      "source": [
        "# Song Lyrics Generator\n",
        "\n",
        "In this assignment, you will scrape a website to get lyrics of songs by your favorite artist. Then, you will train a model called a Markov chain on these lyrics so that you can generate a song in the style of your favorite artist.\n",
        "\n",
        "# Question 1. Scraping Song Lyrics\n",
        "\n",
        "Find a web site that has lyrics for several songs by your favorite artist. Scrape the lyrics into a Python list called `lyrics`, where each element of the list represents the lyrics of one song.\n",
        "\n",
        "**Tips:**\n",
        "- Find a web page that has links to all of the songs, like [this one](https://www.songlyrics.com/steve-miller-band-lyrics/). Then, you can scrape this page, extract the hyperlinks, and issue new HTTP requests to each hyperlink to get each song.\n",
        "- If you can't find the artist or songs you want on https://www.songlyrics.com/ you can try some of the [music related APIs here](https://github.com/public-apis/public-apis#music). If you find a useful site, please share it with everyone on Discord.\n",
        "- Use `time.sleep()` to stagger your HTTP requests so that you do not get banned by the website for making too many requests."
      ]
    },
    {
      "cell_type": "code",
      "metadata": {
        "id": "7i7B9nidOPFg"
      },
      "source": [
        "import requests\n",
        "import time\n",
        "\n",
        "from bs4 import BeautifulSoup"
      ],
      "execution_count": null,
      "outputs": []
    },
    {
      "cell_type": "code",
      "metadata": {
        "id": "tbiq7kkEOPFl"
      },
      "source": [
        "lyrics = []\n",
        "\n",
        "# YOUR CODE HERE"
      ],
      "execution_count": null,
      "outputs": []
    },
    {
      "cell_type": "code",
      "metadata": {
        "id": "qvRlrVnKOPFp"
      },
      "source": [
        "# Print out the lyrics to the first song.\n",
        "print(lyrics[0])"
      ],
      "execution_count": null,
      "outputs": []
    },
    {
      "cell_type": "markdown",
      "metadata": {
        "id": "b9MbbohNOPFt"
      },
      "source": [
        "`pickle` is a Python library that serializes Python objects to disk so that you can load them in later."
      ]
    },
    {
      "cell_type": "code",
      "metadata": {
        "id": "nQI-4UeqOPFu"
      },
      "source": [
        "import pickle\n",
        "pickle.dump(lyrics, open(\"lyrics.pkl\", \"wb\"))"
      ],
      "execution_count": null,
      "outputs": []
    },
    {
      "cell_type": "markdown",
      "metadata": {
        "id": "o4ddDff6OPFx"
      },
      "source": [
        "# Question 2. Unigram Markov Chain Model\n",
        "\n",
        "You will build a Markov chain for the artist whose lyrics you scraped in Question 1. Your model will process the lyrics and store the word transitions for that artist. The transitions will be stored in a dict called `chain`, which maps each word to a list of \"next\" words.\n",
        "\n",
        "For example, if your song was [\"The Joker\" by the Steve Miller Band](https://www.youtube.com/watch?v=dV3AziKTBUo), `chain` might look as follows:\n",
        "\n",
        "```\n",
        "chain = {\n",
        "    \"some\": [\"people\", \"call\", \"people\"],\n",
        "    \"call\": [\"me\", \"me\", \"me\"],\n",
        "    \"the\": [\"space\", \"gangster\", \"pompitous\", ...],\n",
        "    \"me\": [\"the\", \"the\", \"Maurice\"],\n",
        "    ...\n",
        "}\n",
        "```\n",
        "\n",
        "Besides words, you should include a few additional states in your Markov chain. You should have `\"<START>\"` and `\"<END>\"` states so that we can keep track of how songs are likely to begin and end. You should also include a state called `\"<N>\"` to denote line breaks so that you can keep track of where lines begin and end. It is up to you whether you want to include normalize case and strip punctuation.\n",
        "\n",
        "So for example, for [\"The Joker\"](https://www.azlyrics.com/lyrics/stevemillerband/thejoker.html), you would add the following to your chain:\n",
        "\n",
        "```\n",
        "chain = {\n",
        "    \"<START>\": [\"Some\", ...],\n",
        "    \"Some\": [\"people\", ...],\n",
        "    \"people\": [\"call\", ...],\n",
        "    \"call\": [\"me\", ...],\n",
        "    \"me\": [\"the\", ...],\n",
        "    \"the\": [\"space\", ...],\n",
        "    \"space\": [\"cowboy,\", ...],\n",
        "    \"cowboy,\": [\"yeah\", ...],\n",
        "    \"yeah\": [\"<N>\", ...],\n",
        "    \"<N>\": [\"Some\", ..., \"Come\"],\n",
        "    ...,\n",
        "    \"Come\": [\"on\", ...],\n",
        "    \"on\": [\"baby\", ...],\n",
        "    \"baby\": [\"and\", ...],\n",
        "    \"and\": [\"I'll\", ...],\n",
        "    \"I'll\": [\"show\", ...],\n",
        "    \"show\": [\"you\", ...],\n",
        "    \"you\": [\"a\", ...],\n",
        "    \"a\": [\"good\", ...],\n",
        "    \"good\": [\"time\", ...],\n",
        "    \"time\": [\"<END>\", ...],\n",
        "}\n",
        "```\n",
        "\n",
        "Your chain will be trained on not just one song, but by all songs by your artist."
      ]
    },
    {
      "cell_type": "code",
      "metadata": {
        "id": "5P9Bsg6pOPFy"
      },
      "source": [
        "def train_markov_chain(lyrics):\n",
        "    \"\"\"\n",
        "    Args:\n",
        "      - lyrics: a list of strings, where each string represents\n",
        "                the lyrics of one song by an artist.\n",
        "\n",
        "    Returns:\n",
        "      A dict that maps a single word (\"unigram\") to a list of\n",
        "      words that follow that word, representing the Markov\n",
        "      chain trained on the lyrics.\n",
        "    \"\"\"\n",
        "    chain = {\"<START>\": []}\n",
        "    for lyric in lyrics:\n",
        "        # YOUR CODE HERE\n",
        "        pass\n",
        "\n",
        "    return chain"
      ],
      "execution_count": null,
      "outputs": []
    },
    {
      "cell_type": "code",
      "metadata": {
        "id": "ewkgeMyQOPF2"
      },
      "source": [
        "# Load the pickled lyrics object that you created in Question 1.\n",
        "import pickle\n",
        "lyrics = pickle.load(open(\"lyrics.pkl\", \"rb\"))\n",
        "\n",
        "# Call the function you wrote above.\n",
        "chain = train_markov_chain(lyrics)\n",
        "\n",
        "# What words tend to start a song (i.e., what words follow the <START> tag?)\n",
        "print(chain[\"<START>\"])\n",
        "\n",
        "# What words tend to begin a line (i.e., what words follow the line break tag?)\n",
        "print(chain[\"<N>\"][:20])"
      ],
      "execution_count": null,
      "outputs": []
    },
    {
      "cell_type": "markdown",
      "metadata": {
        "id": "CkdEbg7HOPF5"
      },
      "source": [
        "Now, let's generate new lyrics using the Markov chain you constructed above. To do this, we'll begin at the `\"<START>\"` state and randomly sample a word from the list of words that follow `\"<START>\"`. Then, at each step, we'll randomly sample the next word from the list of words that followed each current word. We will continue this process until we sample the `\"<END>\"` state. This will give us the complete lyrics of a randomly generated song!\n",
        "\n",
        "You may find the `random.choice()` function helpful for this question."
      ]
    },
    {
      "cell_type": "code",
      "metadata": {
        "id": "CsFHxt0XOPF6"
      },
      "source": [
        "import random\n",
        "\n",
        "def generate_new_lyrics(chain):\n",
        "    \"\"\"\n",
        "    Args:\n",
        "      - chain: a dict representing the Markov chain,\n",
        "               such as one generated by generate_new_lyrics()\n",
        "\n",
        "    Returns:\n",
        "      A string representing the randomly generated song.\n",
        "    \"\"\"\n",
        "\n",
        "    # a list for storing the generated words\n",
        "    words = []\n",
        "    # generate the first word\n",
        "    words.append(random.choice(chain[\"<START>\"]))\n",
        "\n",
        "    # YOUR CODE HERE\n",
        "\n",
        "\n",
        "    # join the words together into a string with line breaks\n",
        "    lyrics = \" \".join(words[:-1])\n",
        "    return \"\\n\".join(lyrics.split(\"<N>\"))"
      ],
      "execution_count": null,
      "outputs": []
    },
    {
      "cell_type": "code",
      "metadata": {
        "id": "hmop55SGOPF-"
      },
      "source": [
        "print(generate_new_lyrics(chain))"
      ],
      "execution_count": null,
      "outputs": []
    },
    {
      "cell_type": "markdown",
      "metadata": {
        "id": "CjwB8aiMOPGE"
      },
      "source": [
        "# Question 3. Bigram Markov Chain Model\n",
        "\n",
        "Now you'll build a more complex Markov chain that uses the last _two_ words (or bigram) to predict the next word. Now your dict `chain` should map a _tuple_ of words to a list of words that appear after it.\n",
        "\n",
        "As before, you should also include tags that indicate the beginning and end of a song, as well as line breaks. That is, a tuple might contain tags like `\"<START>\"`, `\"<END>\"`, and `\"<N>\"`, in addition to regular words. So for example, for [\"The Joker\"](https://www.azlyrics.com/lyrics/stevemillerband/thejoker.html), you would add the following to your chain:\n",
        "\n",
        "```\n",
        "chain = {\n",
        "    (None, \"<START>\"): [\"Some\", ...],\n",
        "    (\"<START>\", \"Some\"): [\"people\", ...],\n",
        "    (\"Some\", \"people\"): [\"call\", ...],\n",
        "    (\"people\", \"call\"): [\"me\", ...],\n",
        "    (\"call\", \"me\"): [\"the\", ...],\n",
        "    (\"me\", \"the\"): [\"space\", ...],\n",
        "    (\"the\", \"space\"): [\"cowboy,\", ...],\n",
        "    (\"space\", \"cowboy,\"): [\"yeah\", ...],\n",
        "    (\"cowboy,\", \"yeah\"): [\"<N>\", ...],\n",
        "    (\"yeah\", \"<N>\"): [\"Some\", ...],\n",
        "    (\"time\", \"<N>\"): [\"Come\"],\n",
        "    ...,\n",
        "    (\"<N>\", \"Come\"): [\"on\", ...],\n",
        "    (\"Come\", \"on\"): [\"baby\", ...],\n",
        "    (\"on\", \"baby\"): [\"and\", ...],\n",
        "    (\"baby\", \"and\"): [\"I'll\", ...],\n",
        "    (\"and\", \"I'll\"): [\"show\", ...],\n",
        "    (\"I'll\", \"show\"): [\"you\", ...],\n",
        "    (\"show\", \"you\"): [\"a\", ...],\n",
        "    (\"you\", \"a\"): [\"good\", ...],\n",
        "    (\"a\", \"good\"): [\"time\", ...],\n",
        "    (\"good\", \"time\"): [\"<END>\", ...],\n",
        "}\n",
        "```"
      ]
    },
    {
      "cell_type": "code",
      "metadata": {
        "id": "sQQf5qfLOPGF"
      },
      "source": [
        "def train_markov_chain(lyrics):\n",
        "    \"\"\"\n",
        "    Args:\n",
        "      - lyrics: a list of strings, where each string represents\n",
        "                the lyrics of one song by an artist.\n",
        "\n",
        "    Returns:\n",
        "      A dict that maps a tuple of 2 words (\"bigram\") to a list of\n",
        "      words that follow that bigram, representing the Markov\n",
        "      chain trained on the lyrics.\n",
        "    \"\"\"\n",
        "    chain = {(None, \"<START>\"): []}\n",
        "    for lyric in lyrics:\n",
        "        # YOUR CODE HERE\n",
        "        pass\n",
        "\n",
        "    return chain"
      ],
      "execution_count": null,
      "outputs": []
    },
    {
      "cell_type": "code",
      "metadata": {
        "id": "OpPtRfOxOPGI"
      },
      "source": [
        "# Load the pickled lyrics object that you created in Question 1.\n",
        "import pickle\n",
        "lyrics = pickle.load(open(\"lyrics.pkl\", \"rb\"))\n",
        "\n",
        "# Call the function you wrote above.\n",
        "chain = train_markov_chain(lyrics)\n",
        "\n",
        "# What words tend to start a song (i.e., what words follow the <START> tag?)\n",
        "print(chain[(None, \"<START>\")])"
      ],
      "execution_count": null,
      "outputs": []
    },
    {
      "cell_type": "markdown",
      "metadata": {
        "id": "4rih6gnzOPGL"
      },
      "source": [
        "Now, let's generate new lyrics using the Markov chain you constructed above. To do this, we'll begin at the `(None, \"<START>\")` state and randomly sample a word from the list of words that follow this bigram. Then, at each step, we'll randomly sample the next word from the list of words that followed the current bigram (i.e., the last two words). We will continue this process until we sample the `\"<END>\"` state. This will give us the complete lyrics of a randomly generated song!"
      ]
    },
    {
      "cell_type": "code",
      "metadata": {
        "id": "fmtEgsDoOPGM"
      },
      "source": [
        "import random\n",
        "\n",
        "def generate_new_lyrics(chain):\n",
        "    \"\"\"\n",
        "    Args:\n",
        "      - chain: a dict representing the Markov chain,\n",
        "               such as one generated by generate_new_lyrics()\n",
        "\n",
        "    Returns:\n",
        "      A string representing the randomly generated song.\n",
        "    \"\"\"\n",
        "\n",
        "    # a list for storing the generated words\n",
        "    words = []\n",
        "    # generate the first word\n",
        "    words.append(random.choice(chain[(None, \"<START>\")]))\n",
        "\n",
        "    # YOUR CODE HERE\n",
        "\n",
        "\n",
        "    # join the words together into a string with line breaks\n",
        "    lyrics = \" \".join(words[:-1])\n",
        "    return \"\\n\".join(lyrics.split(\"<N>\"))"
      ],
      "execution_count": null,
      "outputs": []
    },
    {
      "cell_type": "code",
      "metadata": {
        "id": "WPPTdLloOPGO"
      },
      "source": [
        "print(generate_new_lyrics(chain))"
      ],
      "execution_count": null,
      "outputs": []
    },
    {
      "cell_type": "markdown",
      "source": [
        "**Paste your randomly generated song lyrics (either unigram or bigram) into the Discord channel and we can try to guess the artist!**"
      ],
      "metadata": {
        "id": "poEifRUxQFb7"
      }
    },
    {
      "cell_type": "markdown",
      "metadata": {
        "id": "RUEJzOtnOPGR"
      },
      "source": [
        "# Question 4. Analysis\n",
        "\n",
        "Compare the quality of the lyrics generated by the unigram model (in Question 2) and the bigram model (in Question 3). Which model seems to generate more reasonable lyrics? Can you explain why? What do you see as the advantages and disadvantages of each model?"
      ]
    },
    {
      "cell_type": "markdown",
      "metadata": {
        "id": "8k2Hym0UOPGS"
      },
      "source": [
        "**YOUR ANSWER HERE.**"
      ]
    },
    {
      "cell_type": "markdown",
      "metadata": {
        "id": "bJYlXhArOPGT"
      },
      "source": [
        "## Submission Instructions\n",
        "\n",
        "- After you have completed the notebook, select **Runtime > Run all**\n",
        "- After the notebook finishes rerunning check to make sure that you have no errors and everything runs properly.  Fix any problems and redo this step until it works.\n",
        "- Rename this notebook by clicking on \"DATA 301 Assignment 04 - YOUR NAMES HERE\" at the very top of this page. Replace \"YOUR NAMES HERE\" with the first and last names of you and your partner (if you worked with one).\n",
        "- Expand all cells with View > Expand Sections\n",
        "- Save a PDF version: File > Print > Save as PDF\n",
        "    - Under \"More Settings\" make sure \"Background graphics\" is checked\n",
        "    - Printing Colab to PDF doesn't always work so well and some of your output might get cutoff. That's ok.\n",
        "    - It's not necessary, but if you want a more nicely formatted PDF you can uncomment and run the code in the following cell. (Here's a [video](https://www.youtube.com/watch?v=-Ti9Mm21uVc) with other options.)\n",
        "- Download the notebook: File > Download .ipynb\n",
        "- Submit the notebook and PDF in Canvas. If you worked in a pair, only one person should submit in Canvas."
      ]
    },
    {
      "cell_type": "code",
      "source": [
        "# !wget -nc https://raw.githubusercontent.com/brpy/colab-pdf/master/colab_pdf.py\n",
        "# from colab_pdf import colab_pdf\n",
        "# colab_pdf('DATA 301 Lab4B - YOUR NAMES HERE.ipynb')"
      ],
      "metadata": {
        "id": "lHeFmDDKoQH4"
      },
      "execution_count": null,
      "outputs": []
    },
    {
      "cell_type": "code",
      "source": [],
      "metadata": {
        "id": "hfzKScBqoUQA"
      },
      "execution_count": null,
      "outputs": []
    }
  ]
}