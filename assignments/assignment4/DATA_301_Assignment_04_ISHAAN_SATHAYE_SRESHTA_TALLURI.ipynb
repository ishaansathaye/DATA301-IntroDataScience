{
  "cells": [
    {
      "cell_type": "markdown",
      "metadata": {
        "id": "ByynuurZOPFd"
      },
      "source": [
        "# Song Lyrics Generator\n",
        "\n",
        "In this assignment, you will scrape a website to get lyrics of songs by your favorite artist. Then, you will train a model called a Markov chain on these lyrics so that you can generate a song in the style of your favorite artist.\n",
        "\n",
        "# Question 1. Scraping Song Lyrics\n",
        "\n",
        "Find a web site that has lyrics for several songs by your favorite artist. Scrape the lyrics into a Python list called `lyrics`, where each element of the list represents the lyrics of one song.\n",
        "\n",
        "**Tips:**\n",
        "- Find a web page that has links to all of the songs, like [this one](https://www.songlyrics.com/steve-miller-band-lyrics/). Then, you can scrape this page, extract the hyperlinks, and issue new HTTP requests to each hyperlink to get each song.\n",
        "- If you can't find the artist or songs you want on https://www.songlyrics.com/ you can try some of the [music related APIs here](https://github.com/public-apis/public-apis#music). If you find a useful site, please share it with everyone on Discord.\n",
        "- Use `time.sleep()` to stagger your HTTP requests so that you do not get banned by the website for making too many requests."
      ]
    },
    {
      "cell_type": "code",
      "execution_count": 5,
      "metadata": {
        "id": "7i7B9nidOPFg"
      },
      "outputs": [],
      "source": [
        "import requests\n",
        "import time\n",
        "\n",
        "from bs4 import BeautifulSoup\n",
        "\n",
        "response = requests.get(\"https://www.songlyrics.com/jess-glynne-lyrics/\")\n",
        "\n",
        "soup = BeautifulSoup(response.content, 'html.parser')"
      ]
    },
    {
      "cell_type": "code",
      "execution_count": 6,
      "metadata": {},
      "outputs": [
        {
          "data": {
            "text/plain": [
              "3"
            ]
          },
          "execution_count": 6,
          "metadata": {},
          "output_type": "execute_result"
        }
      ],
      "source": [
        "song_table = soup.find_all('table', attrs={'class': 'tracklist'})[0]\n",
        "len(song_table)"
      ]
    },
    {
      "cell_type": "code",
      "execution_count": 7,
      "metadata": {},
      "outputs": [
        {
          "data": {
            "text/plain": [
              "71"
            ]
          },
          "execution_count": 7,
          "metadata": {},
          "output_type": "execute_result"
        }
      ],
      "source": [
        "song_links = []\n",
        "\n",
        "for song in song_table.find_all(\"a\"):\n",
        "\n",
        "    # Get the link for the song\n",
        "    link = song.get('href')\n",
        "\n",
        "    # Append this data.\n",
        "    song_links.append(link)\n",
        "\n",
        "len(song_links)"
      ]
    },
    {
      "cell_type": "code",
      "execution_count": 8,
      "metadata": {
        "id": "tbiq7kkEOPFl"
      },
      "outputs": [],
      "source": [
        "unclean_lyrics = []\n",
        "\n",
        "for link in song_links:\n",
        "    response = requests.get(link)\n",
        "    soup = BeautifulSoup(response.content, 'html.parser')\n",
        "    unclean_lyrics.append(soup.find_all('p', attrs={'id': 'songLyricsDiv'})[0].text)\n",
        "    time.sleep(0.5)"
      ]
    },
    {
      "cell_type": "code",
      "execution_count": 9,
      "metadata": {},
      "outputs": [],
      "source": [
        "import re\n",
        "\n",
        "lyrics = []\n",
        "for lyric in unclean_lyrics:\n",
        "    if \"We do not have the lyrics for\" not in lyric:\n",
        "        lyrics.append(lyric)\n",
        "        \n"
      ]
    },
    {
      "cell_type": "code",
      "execution_count": 10,
      "metadata": {
        "id": "qvRlrVnKOPFp"
      },
      "outputs": [
        {
          "name": "stdout",
          "output_type": "stream",
          "text": [
            "Standing in a crowded room and I can't see your face\n",
            "Put your arms around me, tell me everything's OK\n",
            "In my mind, I'm running round a cold and empty space\n",
            "Just put your arms around me, tell me everything's OK\n",
            "Break my bones but you won't see me fall, oh\n",
            "The rising tide will rise against them all, oh\n",
            "\n",
            "Darling, hold my hand\n",
            "Oh, won't you hold my hand?\n",
            "Cause I don't wanna walk on my own anymore\n",
            "Won't you understand? Cause I don't wanna walk alone\n",
            "I'm ready for this, there's no denying\n",
            "I'm ready for this, you stop me falling\n",
            "I'm ready for this, I need you all in\n",
            "I'm ready for this, so darling, hold my hand\n",
            "Soul is like a melting pot when you're not next to me\n",
            "Tell me that you've got me and you're never gonna leave\n",
            "Tryna find a moment where I can find release\n",
            "Please tell me that you've got me and you're never gonna leave\n",
            "Break my bones but you won't see me fall, oh\n",
            "The rising tide will rise against them all, oh\n",
            "\n",
            "Darling, hold my hand\n",
            "Oh, won't you hold my hand?\n",
            "Cause I don't wanna walk on my own anymore\n",
            "Won't you understand? Cause I don't wanna walk alone\n",
            "I'm ready for this, there's no denying\n",
            "I'm ready for this, you stop me falling\n",
            "I'm ready for this, I need you all in\n",
            "I'm ready for this, so darling, hold my hand\n",
            "\n",
            "Don't wanna know\n",
            "That feeling when I'm all alone\n",
            "So please don't make me wait, cause I don't wanna break\n",
            "And I don't wanna fall\n",
            "When you're next to me\n",
            "Can tell I'm not afraid to be\n",
            "That you don't make me wait, and never let me break\n",
            "You never let me fall\n"
          ]
        }
      ],
      "source": [
        "# Print out the lyrics to the first song.\n",
        "print(lyrics[0])"
      ]
    },
    {
      "cell_type": "markdown",
      "metadata": {
        "id": "b9MbbohNOPFt"
      },
      "source": [
        "`pickle` is a Python library that serializes Python objects to disk so that you can load them in later."
      ]
    },
    {
      "cell_type": "code",
      "execution_count": 11,
      "metadata": {
        "id": "nQI-4UeqOPFu"
      },
      "outputs": [],
      "source": [
        "import pickle\n",
        "pickle.dump(lyrics, open(\"lyrics.pkl\", \"wb\"))"
      ]
    },
    {
      "cell_type": "markdown",
      "metadata": {
        "id": "o4ddDff6OPFx"
      },
      "source": [
        "# Question 2. Unigram Markov Chain Model\n",
        "\n",
        "You will build a Markov chain for the artist whose lyrics you scraped in Question 1. Your model will process the lyrics and store the word transitions for that artist. The transitions will be stored in a dict called `chain`, which maps each word to a list of \"next\" words.\n",
        "\n",
        "For example, if your song was [\"The Joker\" by the Steve Miller Band](https://www.youtube.com/watch?v=dV3AziKTBUo), `chain` might look as follows:\n",
        "\n",
        "```\n",
        "chain = {\n",
        "    \"some\": [\"people\", \"call\", \"people\"],\n",
        "    \"call\": [\"me\", \"me\", \"me\"],\n",
        "    \"the\": [\"space\", \"gangster\", \"pompitous\", ...],\n",
        "    \"me\": [\"the\", \"the\", \"Maurice\"],\n",
        "    ...\n",
        "}\n",
        "```\n",
        "\n",
        "Besides words, you should include a few additional states in your Markov chain. You should have `\"<START>\"` and `\"<END>\"` states so that we can keep track of how songs are likely to begin and end. You should also include a state called `\"<N>\"` to denote line breaks so that you can keep track of where lines begin and end. It is up to you whether you want to include normalize case and strip punctuation.\n",
        "\n",
        "So for example, for [\"The Joker\"](https://www.azlyrics.com/lyrics/stevemillerband/thejoker.html), you would add the following to your chain:\n",
        "\n",
        "```\n",
        "chain = {\n",
        "    \"<START>\": [\"Some\", ...],\n",
        "    \"Some\": [\"people\", ...],\n",
        "    \"people\": [\"call\", ...],\n",
        "    \"call\": [\"me\", ...],\n",
        "    \"me\": [\"the\", ...],\n",
        "    \"the\": [\"space\", ...],\n",
        "    \"space\": [\"cowboy,\", ...],\n",
        "    \"cowboy,\": [\"yeah\", ...],\n",
        "    \"yeah\": [\"<N>\", ...],\n",
        "    \"<N>\": [\"Some\", ..., \"Come\"],\n",
        "    ...,\n",
        "    \"Come\": [\"on\", ...],\n",
        "    \"on\": [\"baby\", ...],\n",
        "    \"baby\": [\"and\", ...],\n",
        "    \"and\": [\"I'll\", ...],\n",
        "    \"I'll\": [\"show\", ...],\n",
        "    \"show\": [\"you\", ...],\n",
        "    \"you\": [\"a\", ...],\n",
        "    \"a\": [\"good\", ...],\n",
        "    \"good\": [\"time\", ...],\n",
        "    \"time\": [\"<END>\", ...],\n",
        "}\n",
        "```\n",
        "\n",
        "Your chain will be trained on not just one song, but by all songs by your artist."
      ]
    },
    {
      "cell_type": "code",
      "execution_count": 12,
      "metadata": {
        "id": "5P9Bsg6pOPFy"
      },
      "outputs": [],
      "source": [
        "def train_markov_chain(lyrics):\n",
        "    \"\"\"\n",
        "    Args:\n",
        "      - lyrics: a list of strings, where each string represents\n",
        "                the lyrics of one song by an artist.\n",
        "\n",
        "    Returns:\n",
        "      A dict that maps a single word (\"unigram\") to a list of\n",
        "      words that follow that word, representing the Markov\n",
        "      chain trained on the lyrics.\n",
        "    \"\"\"\n",
        "    chain = {\"<START>\": [], \"<N>\": []}\n",
        "    for lyric in lyrics:\n",
        "      # YOUR CODE HERE\n",
        "      lines = lyric.split(\"\\n\")\n",
        "      lines = [line for line in lines if line != \"\"]\n",
        "      for l in range(len(lines)):\n",
        "        words = lines[l].split(\" \")\n",
        "        # remove all punctuation\n",
        "        words = [re.sub(r'[^\\w\\s]','',word) for word in words]\n",
        "        # remove \\r characters\n",
        "        words = [word.replace(\"\\r\", \"\") for word in words]\n",
        "        # add start and end tokens\n",
        "        if l == 0:\n",
        "          words = [\"<START>\"] + words + [\"<N>\"]\n",
        "        elif l == len(lines)-1:\n",
        "          words = [\"<N>\"] + words + [\"<END>\"]\n",
        "        else:\n",
        "          words = [\"<N>\"] + words + [\"<N>\"]\n",
        "        for i in range(len(words)-1):\n",
        "          if words[i] not in chain:\n",
        "            chain[words[i]] = []\n",
        "          chain[words[i]].append(words[i+1])\n",
        "\n",
        "    return chain"
      ]
    },
    {
      "cell_type": "code",
      "execution_count": 13,
      "metadata": {
        "id": "ewkgeMyQOPF2"
      },
      "outputs": [
        {
          "name": "stdout",
          "output_type": "stream",
          "text": [
            "['Standing', 'Standing', 'Theres', 'Standing', 'Theres', 'Téléchargez', 'From', 'Wrapped', 'I', 'Téléchargez', 'Téléchargez', 'Finally', 'Finally', 'Finally', 'Finally', 'Finally', 'Finally', 'When', 'When', 'Standing', 'Standing', 'Standing', 'Wrapped', 'in', 'I', 'I', 'I', 'Wrapped', 'Wrapped', 'Téléchargez', 'Finally', '', 'feat', 'with', 'feat', 'Verse', 'Verse', 'Standing', 'Standing', 'Standing', 'Standing', 'Sometimes', 'Theres', 'Going', 'You', 'Smoking', 'Time', 'Thinking', 'Wrapped', 'I', 'I', 'Birds', 'In', 'Dont', 'Theres', 'with']\n"
          ]
        }
      ],
      "source": [
        "# Load the pickled lyrics object that you created in Question 1.\n",
        "import pickle\n",
        "lyrics = pickle.load(open(\"lyrics.pkl\", \"rb\"))\n",
        "\n",
        "# Call the function you wrote above.\n",
        "uni_chain = train_markov_chain(lyrics)\n",
        "\n",
        "# What words tend to start a song (i.e., what words follow the <START> tag?)\n",
        "print(uni_chain[\"<START>\"])"
      ]
    },
    {
      "cell_type": "markdown",
      "metadata": {
        "id": "CkdEbg7HOPF5"
      },
      "source": [
        "Now, let's generate new lyrics using the Markov chain you constructed above. To do this, we'll begin at the `\"<START>\"` state and randomly sample a word from the list of words that follow `\"<START>\"`. Then, at each step, we'll randomly sample the next word from the list of words that followed each current word. We will continue this process until we sample the `\"<END>\"` state. This will give us the complete lyrics of a randomly generated song!\n",
        "\n",
        "You may find the `random.choice()` function helpful for this question."
      ]
    },
    {
      "cell_type": "code",
      "execution_count": 14,
      "metadata": {
        "id": "CsFHxt0XOPF6"
      },
      "outputs": [],
      "source": [
        "import random\n",
        "\n",
        "def uni_generate_new_lyrics(chain):\n",
        "    \"\"\"\n",
        "    Args:\n",
        "      - chain: a dict representing the Markov chain,\n",
        "               such as one generated by generate_new_lyrics()\n",
        "\n",
        "    Returns:\n",
        "      A string representing the randomly generated song.\n",
        "    \"\"\"\n",
        "\n",
        "    # a list for storing the generated words\n",
        "    words = []\n",
        "    # generate the first word\n",
        "    words.append(random.choice(chain[\"<START>\"]))\n",
        "\n",
        "    # # YOUR CODE HERE\n",
        "    while words[-1] != \"<END>\":\n",
        "        choices = chain.get(words[-1], [\"<END>\"])\n",
        "        words.append(random.choice(choices))\n",
        "\n",
        "    # # join the words together into a string with line breaks\n",
        "    lyrics = \" \".join(words[:-1])\n",
        "    return \"\\n\".join(lyrics.split(\"<N>\"))"
      ]
    },
    {
      "cell_type": "code",
      "execution_count": 15,
      "metadata": {
        "id": "hmop55SGOPF-"
      },
      "outputs": [
        {
          "name": "stdout",
          "output_type": "stream",
          "text": [
            "Finally Im right here you were wrong if I cant give you take me so darling hold my life would end and never gonna leave \n",
            " Wont you talk to think its what I wouldnt feel it go she call from you I know \n",
            " Right here you dont make it \n",
            " I dont be there for wishing not wrong \n",
            " And I know that no \n",
            " PreChorus Jess Glynne x2 \n",
            " You can see your calling \n",
            " Ooh oh \n",
            " So dont wanna walk on yourself no one for this black heart turn this you dont you with the world now Im running all I wouldnt change it from underneath my hand \n",
            " Wont you all \n",
            " If I wanna walk alone with you want nobody baby \n",
            " Oh will heal \n",
            " Its time \n",
            " Why me where you give one for your spirit fading in \n",
            " Take me home \n",
            " Soul is made it aint got my hand \n",
            " Ill be there for this darkness over just like Ive landed on yourself no denying \n",
            " Anger love and let you hold me walk on the rhythm of mine \n",
            "  \n",
            " Something that I hit the way you want me \n",
            " Infatuation took a moment where you I cant have you my own \n",
            " And nobodys stone \n",
            " So I wont be alone \n",
            " Everything thats broke my \n",
            " Oh will make it go go \n",
            " Hold the wheel \n",
            " Im ready for this you something I dont know I I spent my rose \n",
            " No rights no denying \n",
            " Oh yes about that never knew where Id be there for you take the saddest vanilla that no longer a dream \n",
            " Im not next to walk alone \n",
            " If I wanna walk on my tears dry air to you least expect its in a hole of my hand \n",
            " So Ima give me \n",
            " Dont you I cant shake me down \n",
            " Oh will find me Im not letting go leaving pole position \n",
            " That youll be there for me \n",
            " So Ima give me \n",
            " But hearts break and youre quite shy \n",
            " I to think I spent my eyes \n",
            " Im not to my bones \n",
            " Wont let my darkest thoughts \n",
            "  \n",
            " Im content \n",
            " If I wanna walk alone \n",
            " If I didnt think I got me where I know \n",
            " Right here right and empty space \n",
            " Like Im haunted oh ah ah ah ah \n",
            " You gave me and over mine \n",
            " Take it from sayin no denying \n",
            " Everything thats broke \n",
            " Right here you wrong \n",
            " Why me \n",
            " Now youre never gonna be \n",
            " If you take the hook but I cant have you oh oh oh \n",
            " You left me love and hells a thousand miles from me fall oh oh oh oh oh \n",
            " Dont be you I need you got a broken soul \n",
            " And now \n",
            " Lets go back home \n",
            " Now Im content \n",
            " Lets go go go \n",
            " Im ready for this on let my tears fill my touch \n",
            " Ooh oh \n",
            " Why dont make it cause I cant have you with you something we turned this I would take me \n",
            " Break my heart my life was right no it worked for this black heart made it to you blazing you with heaven youre never be so hard on So dont need \n",
            " I didnt have you talk to you hold \n",
            " Now Im right no no it go go and I dont be there eventually \n",
            " So dont make it heal \n",
            " And it will find mine \n",
            " Like Im on that \n",
            " I dont be for this you my darkest thoughts \n",
            " Something must be \n",
            " To staying up above made with the floor \n",
            " But hearts break and you got me \n",
            " And I never good \n",
            " Right here you want me falling \n",
            " Cause I wouldnt change it aint got me now \n",
            " Ill be there when Im right and youre never knew where you hold my hand \n",
            " My life \n",
            " And when your calling \n",
            " You left me here waiting for you with a promise Never broke \n",
            " We have you want nobody baby \n",
            " Now Im ready for this I feel it just like Ive landed on me calling \n",
            " Im ready for this you \n",
            " Looovve \n",
            " Oh oh oh \n",
            " And now \n",
            " Ooh oh oh \n",
            " And then its no wrongs take me that feeling you wont you talk to \n",
            " Its a blessing \n",
            " If I aint been one for two ooh \n",
            " Oh will make me walk away am I dont wanna LEAVE \n",
            " Now youre not letting go back to see me \n",
            " If I wouldnt feel it all along \n",
            " Kind of my touch up above is made with the warmth of my bones but Ill be take me like Ive got me love \n",
            " When all so darling hold my hand \n",
            " If I lose control \n",
            " Cause the warmth of frail I didnt think I dont wanna be lost forever \n",
            " Its not complaining \n",
            " Cant let go back to let it go for this darkness over me \n",
            "  \n",
            "  \n",
            " You gave me now were wrong for you there \n",
            " That feeling that you take it for love and wait cause you least expect its creepin up on my bones \n",
            " Right here waiting for this you still wont see it to simplicity \n",
            " My love me \n",
            " Oh oh oh falling \n",
            " But hearts break \n",
            " Now Im right here right here \n",
            " Right here you with none Im right here you can this so hard on yourself no \n",
            " Learn to learn to stay \n",
            " Cause you baby \n",
            " You say space \n",
            " Now Im not an open end and never let it be \n",
            " Cause I dont sleep tonight \n",
            " Soul is like a smile on yourself no more you \n",
            " I lose time \n",
            " Oh wont be so hard on my eyes be there \n",
            " I thought you all of gold \n",
            " When theres no rules \n",
            " Oh I dont make it from me that love\n"
          ]
        }
      ],
      "source": [
        "print(uni_generate_new_lyrics(uni_chain))"
      ]
    },
    {
      "cell_type": "markdown",
      "metadata": {
        "id": "CjwB8aiMOPGE"
      },
      "source": [
        "# Question 3. Bigram Markov Chain Model\n",
        "\n",
        "Now you'll build a more complex Markov chain that uses the last _two_ words (or bigram) to predict the next word. Now your dict `chain` should map a _tuple_ of words to a list of words that appear after it.\n",
        "\n",
        "As before, you should also include tags that indicate the beginning and end of a song, as well as line breaks. That is, a tuple might contain tags like `\"<START>\"`, `\"<END>\"`, and `\"<N>\"`, in addition to regular words. So for example, for [\"The Joker\"](https://www.azlyrics.com/lyrics/stevemillerband/thejoker.html), you would add the following to your chain:\n",
        "\n",
        "```\n",
        "chain = {\n",
        "    (None, \"<START>\"): [\"Some\", ...],\n",
        "    (\"<START>\", \"Some\"): [\"people\", ...],\n",
        "    (\"Some\", \"people\"): [\"call\", ...],\n",
        "    (\"people\", \"call\"): [\"me\", ...],\n",
        "    (\"call\", \"me\"): [\"the\", ...],\n",
        "    (\"me\", \"the\"): [\"space\", ...],\n",
        "    (\"the\", \"space\"): [\"cowboy,\", ...],\n",
        "    (\"space\", \"cowboy,\"): [\"yeah\", ...],\n",
        "    (\"cowboy,\", \"yeah\"): [\"<N>\", ...],\n",
        "    (\"yeah\", \"<N>\"): [\"Some\", ...],\n",
        "    (\"time\", \"<N>\"): [\"Come\"],\n",
        "    ...,\n",
        "    (\"<N>\", \"Come\"): [\"on\", ...],\n",
        "    (\"Come\", \"on\"): [\"baby\", ...],\n",
        "    (\"on\", \"baby\"): [\"and\", ...],\n",
        "    (\"baby\", \"and\"): [\"I'll\", ...],\n",
        "    (\"and\", \"I'll\"): [\"show\", ...],\n",
        "    (\"I'll\", \"show\"): [\"you\", ...],\n",
        "    (\"show\", \"you\"): [\"a\", ...],\n",
        "    (\"you\", \"a\"): [\"good\", ...],\n",
        "    (\"a\", \"good\"): [\"time\", ...],\n",
        "    (\"good\", \"time\"): [\"<END>\", ...],\n",
        "}\n",
        "```"
      ]
    },
    {
      "cell_type": "code",
      "execution_count": 16,
      "metadata": {
        "id": "sQQf5qfLOPGF"
      },
      "outputs": [],
      "source": [
        "def train_markov_chain(lyrics):\n",
        "    \"\"\"\n",
        "    Args:\n",
        "      - lyrics: a list of strings, where each string represents\n",
        "                the lyrics of one song by an artist.\n",
        "\n",
        "    Returns:\n",
        "      A dict that maps a tuple of 2 words (\"bigram\") to a list of\n",
        "      words that follow that bigram, representing the Markov\n",
        "      chain trained on the lyrics.\n",
        "    \"\"\"\n",
        "    chain = {(None, \"<START>\"): []}\n",
        "    for lyric in lyrics:\n",
        "        words = lyric.split(\" \")\n",
        "        # remove all punctuation\n",
        "        words = [re.sub(r'[^\\w\\s]','',word) for word in words]\n",
        "        # remove \\r characters\n",
        "        words = [word.replace(\"\\r\", \"\") for word in words]\n",
        "        words = [None, \"<START>\"] + words + [\"<END>\"]\n",
        "        for i in range(len(words)-2):\n",
        "            bigram = (words[i], words[i+1])\n",
        "            if bigram not in chain:\n",
        "                chain[bigram] = []\n",
        "            chain[bigram].append(words[i+2])\n",
        "    return chain"
      ]
    },
    {
      "cell_type": "code",
      "execution_count": 17,
      "metadata": {
        "id": "OpPtRfOxOPGI"
      },
      "outputs": [
        {
          "name": "stdout",
          "output_type": "stream",
          "text": [
            "['Standing', 'Standing', 'Theres', 'Standing', 'Theres', 'Téléchargez', 'From', 'Wrapped', 'I', 'Téléchargez', 'Téléchargez', 'Finally', 'Finally', 'Finally', 'Finally', 'Finally', 'Finally', 'When', 'When', 'Standing', 'Standing', 'Standing', 'Wrapped', 'in', 'I', 'I', 'I', 'Wrapped', 'Wrapped', 'Téléchargez', 'Finally', '', 'feat', 'with', 'feat', 'Verse', 'Verse', 'Standing', 'Standing', 'Standing', 'Standing', 'Sometimes', 'Theres', 'Going', 'You', 'Smoking', 'Time', 'Thinking', 'Wrapped', 'I', 'I', 'Birds', 'In', 'Dont', 'Theres', 'with']\n"
          ]
        }
      ],
      "source": [
        "# Load the pickled lyrics object that you created in Question 1.\n",
        "import pickle\n",
        "lyrics = pickle.load(open(\"lyrics.pkl\", \"rb\"))\n",
        "\n",
        "# Call the function you wrote above.\n",
        "bi_chain = train_markov_chain(lyrics)\n",
        "\n",
        "# What words tend to start a song (i.e., what words follow the <START> tag?)\n",
        "print(bi_chain[(None, \"<START>\")])"
      ]
    },
    {
      "cell_type": "markdown",
      "metadata": {
        "id": "4rih6gnzOPGL"
      },
      "source": [
        "Now, let's generate new lyrics using the Markov chain you constructed above. To do this, we'll begin at the `(None, \"<START>\")` state and randomly sample a word from the list of words that follow this bigram. Then, at each step, we'll randomly sample the next word from the list of words that followed the current bigram (i.e., the last two words). We will continue this process until we sample the `\"<END>\"` state. This will give us the complete lyrics of a randomly generated song!"
      ]
    },
    {
      "cell_type": "code",
      "execution_count": 18,
      "metadata": {
        "id": "fmtEgsDoOPGM"
      },
      "outputs": [],
      "source": [
        "import random\n",
        "\n",
        "def bi_generate_new_lyrics(chain):\n",
        "    \"\"\"\n",
        "    Args:\n",
        "      - chain: a dict representing the Markov chain,\n",
        "               such as one generated by generate_new_lyrics()\n",
        "\n",
        "    Returns:\n",
        "      A string representing the randomly generated song.\n",
        "    \"\"\"\n",
        "\n",
        "    # a list for storing the generated words\n",
        "    words = []\n",
        "    # generate the first word\n",
        "    bigram = (None, \"<START>\")\n",
        "    next = random.choice(chain[bigram])\n",
        "    words.append(next)\n",
        "    bigram = (bigram[1], next)\n",
        "\n",
        "    # YOUR CODE HERE\n",
        "    while bigram[1] != \"<END>\":\n",
        "        choices = chain.get(bigram, [\"<END>\"])\n",
        "        next = random.choice(choices)\n",
        "        words.append(next)\n",
        "        bigram = (bigram[1], next)\n",
        "\n",
        "    # join the words together into a string with line breaks\n",
        "    lyrics = \" \".join(words[:-1])\n",
        "    return \"\\n\".join(lyrics.split(\"<N>\"))"
      ]
    },
    {
      "cell_type": "code",
      "execution_count": 26,
      "metadata": {
        "id": "WPPTdLloOPGO"
      },
      "outputs": [
        {
          "name": "stdout",
          "output_type": "stream",
          "text": [
            "Birds fly we turned finally free\n",
            "Patience lost I began to lose me\n",
            "My advice would be take a step\n",
            "\n",
            "PreChorus\n",
            "I wasnt scared I fought this on my own anymore wont you hold me now\n",
            "Oh will you take me home\n",
            "Oh will you take me home\n",
            "You say space will make it hard to get for a question\n",
            "Not enough words to make a sentence\n",
            "Its not easy to find our inner peace\n",
            "Make it everlasting so nothings incomplete\n",
            "Its easy being with you when your hair get thinner\n",
            "I aint gotta work it out I know I love it when I see a break in the dark\n",
            "\n",
            "Oh oh Ill be there for you\n",
            "Ill be there\n",
            "\n",
            "Ill be there for you\n",
            "Ill be there Ill be there\n",
            "When you need a little love to share\n",
            "Yeah Im gonna Im gonna come through\n",
            "Youll never be alone Ill be there for you\n",
            "Ill be there cant you hear me calling\n",
            "Oh I swear I got a call from you\n",
            "I wont confess\n",
            "\n",
            "And I I wont be lost forever\n",
            "And soon I wouldnt want you to know\n",
            "And I I know I know I know\n",
            "That I aint got far to go\n",
            "\n",
            "Chorus\n",
            "I know I know\n",
            "I know I Know\n",
            "I Know I know I know I Know\n",
            "I Know I know I know oh oh oh\n",
            "Aah ah ah ah\n",
            "Ooh oh oh ah ah ah\n",
            "Oh oh oh\n",
            "\n",
            "Infatuation took a whole of my love\n",
            "Looovve\n",
            "\n",
            "Control is such an openended word for me\n",
            "Something that I used to no rules\n",
            "And now Im here with you\n",
            "\n",
            "Right here you got me where you want me\n",
            "If you want me\n",
            "Now Im right here right here\n",
            "\n",
            "Ooh oh oh oh\n",
            "Aah ah ah ah\n",
            "Oh oh oh\n",
            "\n",
            "Finally Im content\n",
            "Oh yes about that thing\n",
            "Right here is where Id stay\n",
            "But Im not afraid for I will do\n",
            "\n",
            "If I cant have you\n"
          ]
        }
      ],
      "source": [
        "print(bi_generate_new_lyrics(bi_chain))"
      ]
    },
    {
      "cell_type": "markdown",
      "metadata": {
        "id": "poEifRUxQFb7"
      },
      "source": [
        "**Paste your randomly generated song lyrics (either unigram or bigram) into the Discord channel and we can try to guess the artist!**"
      ]
    },
    {
      "cell_type": "markdown",
      "metadata": {
        "id": "RUEJzOtnOPGR"
      },
      "source": [
        "# Question 4. Analysis\n",
        "\n",
        "Compare the quality of the lyrics generated by the unigram model (in Question 2) and the bigram model (in Question 3). Which model seems to generate more reasonable lyrics? Can you explain why? What do you see as the advantages and disadvantages of each model?"
      ]
    },
    {
      "cell_type": "markdown",
      "metadata": {
        "id": "8k2Hym0UOPGS"
      },
      "source": [
        "**YOUR ANSWER HERE.**\n",
        "\n",
        "From comparing the quality of lyrics of the unigram model in question 2 and the bigram model in question 3, the bigram seems to have better cohesion and flow. This is because the bigram model takes into account the previous word and the current word to predict the next word. Also the bigram takes into account context, since it takes in 2 words. However, the unigram only takes the next word into account, leading to less coherent lyrics.\n",
        "\n",
        "The advantage of the unigram model is that it is easier to implement and takes less time to run. The disadvantage of the unigram model is that it does not take into account the previous word to predict the next word. Bigram would be better to use for generating lyrics since it takes into account the word choices of the artist and the context of the lyrics, leading to similar song styles."
      ]
    },
    {
      "cell_type": "markdown",
      "metadata": {
        "id": "bJYlXhArOPGT"
      },
      "source": [
        "## Submission Instructions\n",
        "\n",
        "- After you have completed the notebook, select **Runtime > Run all**\n",
        "- After the notebook finishes rerunning check to make sure that you have no errors and everything runs properly.  Fix any problems and redo this step until it works.\n",
        "- Rename this notebook by clicking on \"DATA 301 Assignment 04 - YOUR NAMES HERE\" at the very top of this page. Replace \"YOUR NAMES HERE\" with the first and last names of you and your partner (if you worked with one).\n",
        "- Expand all cells with View > Expand Sections\n",
        "- Save a PDF version: File > Print > Save as PDF\n",
        "    - Under \"More Settings\" make sure \"Background graphics\" is checked\n",
        "    - Printing Colab to PDF doesn't always work so well and some of your output might get cutoff. That's ok.\n",
        "    - It's not necessary, but if you want a more nicely formatted PDF you can uncomment and run the code in the following cell. (Here's a [video](https://www.youtube.com/watch?v=-Ti9Mm21uVc) with other options.)\n",
        "- Download the notebook: File > Download .ipynb\n",
        "- Submit the notebook and PDF in Canvas. If you worked in a pair, only one person should submit in Canvas."
      ]
    },
    {
      "cell_type": "code",
      "execution_count": 20,
      "metadata": {
        "id": "lHeFmDDKoQH4"
      },
      "outputs": [],
      "source": [
        "# !wget -nc https://raw.githubusercontent.com/brpy/colab-pdf/master/colab_pdf.py\n",
        "# from colab_pdf import colab_pdf\n",
        "# colab_pdf('DATA 301 Lab4B - YOUR NAMES HERE.ipynb')"
      ]
    }
  ],
  "metadata": {
    "colab": {
      "provenance": []
    },
    "kernelspec": {
      "display_name": "Python 3",
      "language": "python",
      "name": "python3"
    },
    "language_info": {
      "codemirror_mode": {
        "name": "ipython",
        "version": 3
      },
      "file_extension": ".py",
      "mimetype": "text/x-python",
      "name": "python",
      "nbconvert_exporter": "python",
      "pygments_lexer": "ipython3",
      "version": "3.9.6"
    }
  },
  "nbformat": 4,
  "nbformat_minor": 0
}
