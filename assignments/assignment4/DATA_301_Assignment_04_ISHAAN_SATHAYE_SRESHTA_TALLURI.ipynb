{
  "cells": [
    {
      "cell_type": "markdown",
      "metadata": {
        "id": "ByynuurZOPFd"
      },
      "source": [
        "# Song Lyrics Generator\n",
        "\n",
        "In this assignment, you will scrape a website to get lyrics of songs by your favorite artist. Then, you will train a model called a Markov chain on these lyrics so that you can generate a song in the style of your favorite artist.\n",
        "\n",
        "# Question 1. Scraping Song Lyrics\n",
        "\n",
        "Find a web site that has lyrics for several songs by your favorite artist. Scrape the lyrics into a Python list called `lyrics`, where each element of the list represents the lyrics of one song.\n",
        "\n",
        "**Tips:**\n",
        "- Find a web page that has links to all of the songs, like [this one](https://www.songlyrics.com/steve-miller-band-lyrics/). Then, you can scrape this page, extract the hyperlinks, and issue new HTTP requests to each hyperlink to get each song.\n",
        "- If you can't find the artist or songs you want on https://www.songlyrics.com/ you can try some of the [music related APIs here](https://github.com/public-apis/public-apis#music). If you find a useful site, please share it with everyone on Discord.\n",
        "- Use `time.sleep()` to stagger your HTTP requests so that you do not get banned by the website for making too many requests."
      ]
    },
    {
      "cell_type": "code",
      "execution_count": 27,
      "metadata": {
        "id": "7i7B9nidOPFg"
      },
      "outputs": [],
      "source": [
        "import requests\n",
        "import time\n",
        "\n",
        "from bs4 import BeautifulSoup\n",
        "\n",
        "response = requests.get(\"https://www.songlyrics.com/jess-glynne-lyrics/\")\n",
        "\n",
        "soup = BeautifulSoup(response.content, 'html.parser')"
      ]
    },
    {
      "cell_type": "code",
      "execution_count": 28,
      "metadata": {},
      "outputs": [
        {
          "data": {
            "text/plain": [
              "3"
            ]
          },
          "execution_count": 28,
          "metadata": {},
          "output_type": "execute_result"
        }
      ],
      "source": [
        "song_table = soup.find_all('table', attrs={'class': 'tracklist'})[0]\n",
        "len(song_table)"
      ]
    },
    {
      "cell_type": "code",
      "execution_count": 29,
      "metadata": {},
      "outputs": [
        {
          "data": {
            "text/plain": [
              "71"
            ]
          },
          "execution_count": 29,
          "metadata": {},
          "output_type": "execute_result"
        }
      ],
      "source": [
        "song_links = []\n",
        "\n",
        "for song in song_table.find_all(\"a\"):\n",
        "\n",
        "    # Get the link for the song\n",
        "    link = song.get('href')\n",
        "\n",
        "    # Append this data.\n",
        "    song_links.append(link)\n",
        "\n",
        "len(song_links)"
      ]
    },
    {
      "cell_type": "code",
      "execution_count": 30,
      "metadata": {
        "id": "tbiq7kkEOPFl"
      },
      "outputs": [],
      "source": [
        "unclean_lyrics = []\n",
        "\n",
        "for link in song_links:\n",
        "    response = requests.get(link)\n",
        "    soup = BeautifulSoup(response.content, 'html.parser')\n",
        "    unclean_lyrics.append(soup.find_all('p', attrs={'id': 'songLyricsDiv'})[0].text)\n",
        "    time.sleep(0.5)"
      ]
    },
    {
      "cell_type": "code",
      "execution_count": 31,
      "metadata": {},
      "outputs": [],
      "source": [
        "import re\n",
        "\n",
        "lyrics = []\n",
        "for lyric in unclean_lyrics:\n",
        "    if \"We do not have the lyrics for\" not in lyric:\n",
        "        lyrics.append(lyric)\n",
        "        \n"
      ]
    },
    {
      "cell_type": "code",
      "execution_count": 43,
      "metadata": {
        "id": "qvRlrVnKOPFp"
      },
      "outputs": [
        {
          "name": "stdout",
          "output_type": "stream",
          "text": [
            "Standing in a crowded room and I can't see your face\n",
            "Put your arms around me, tell me everything's OK\n",
            "In my mind, I'm running round a cold and empty space\n",
            "Just put your arms around me, tell me everything's OK\n",
            "Break my bones but you won't see me fall, oh\n",
            "The rising tide will rise against them all, oh\n",
            "\n",
            "Darling, hold my hand\n",
            "Oh, won't you hold my hand?\n",
            "Cause I don't wanna walk on my own anymore\n",
            "Won't you understand? Cause I don't wanna walk alone\n",
            "I'm ready for this, there's no denying\n",
            "I'm ready for this, you stop me falling\n",
            "I'm ready for this, I need you all in\n",
            "I'm ready for this, so darling, hold my hand\n",
            "Soul is like a melting pot when you're not next to me\n",
            "Tell me that you've got me and you're never gonna leave\n",
            "Tryna find a moment where I can find release\n",
            "Please tell me that you've got me and you're never gonna leave\n",
            "Break my bones but you won't see me fall, oh\n",
            "The rising tide will rise against them all, oh\n",
            "\n",
            "Darling, hold my hand\n",
            "Oh, won't you hold my hand?\n",
            "Cause I don't wanna walk on my own anymore\n",
            "Won't you understand? Cause I don't wanna walk alone\n",
            "I'm ready for this, there's no denying\n",
            "I'm ready for this, you stop me falling\n",
            "I'm ready for this, I need you all in\n",
            "I'm ready for this, so darling, hold my hand\n",
            "\n",
            "Don't wanna know\n",
            "That feeling when I'm all alone\n",
            "So please don't make me wait, cause I don't wanna break\n",
            "And I don't wanna fall\n",
            "When you're next to me\n",
            "Can tell I'm not afraid to be\n",
            "That you don't make me wait, and never let me break\n",
            "You never let me fall\n"
          ]
        }
      ],
      "source": [
        "# Print out the lyrics to the first song.\n",
        "print(lyrics[0])"
      ]
    },
    {
      "cell_type": "markdown",
      "metadata": {
        "id": "b9MbbohNOPFt"
      },
      "source": [
        "`pickle` is a Python library that serializes Python objects to disk so that you can load them in later."
      ]
    },
    {
      "cell_type": "code",
      "execution_count": 33,
      "metadata": {
        "id": "nQI-4UeqOPFu"
      },
      "outputs": [],
      "source": [
        "import pickle\n",
        "pickle.dump(lyrics, open(\"lyrics.pkl\", \"wb\"))"
      ]
    },
    {
      "cell_type": "markdown",
      "metadata": {
        "id": "o4ddDff6OPFx"
      },
      "source": [
        "# Question 2. Unigram Markov Chain Model\n",
        "\n",
        "You will build a Markov chain for the artist whose lyrics you scraped in Question 1. Your model will process the lyrics and store the word transitions for that artist. The transitions will be stored in a dict called `chain`, which maps each word to a list of \"next\" words.\n",
        "\n",
        "For example, if your song was [\"The Joker\" by the Steve Miller Band](https://www.youtube.com/watch?v=dV3AziKTBUo), `chain` might look as follows:\n",
        "\n",
        "```\n",
        "chain = {\n",
        "    \"some\": [\"people\", \"call\", \"people\"],\n",
        "    \"call\": [\"me\", \"me\", \"me\"],\n",
        "    \"the\": [\"space\", \"gangster\", \"pompitous\", ...],\n",
        "    \"me\": [\"the\", \"the\", \"Maurice\"],\n",
        "    ...\n",
        "}\n",
        "```\n",
        "\n",
        "Besides words, you should include a few additional states in your Markov chain. You should have `\"<START>\"` and `\"<END>\"` states so that we can keep track of how songs are likely to begin and end. You should also include a state called `\"<N>\"` to denote line breaks so that you can keep track of where lines begin and end. It is up to you whether you want to include normalize case and strip punctuation.\n",
        "\n",
        "So for example, for [\"The Joker\"](https://www.azlyrics.com/lyrics/stevemillerband/thejoker.html), you would add the following to your chain:\n",
        "\n",
        "```\n",
        "chain = {\n",
        "    \"<START>\": [\"Some\", ...],\n",
        "    \"Some\": [\"people\", ...],\n",
        "    \"people\": [\"call\", ...],\n",
        "    \"call\": [\"me\", ...],\n",
        "    \"me\": [\"the\", ...],\n",
        "    \"the\": [\"space\", ...],\n",
        "    \"space\": [\"cowboy,\", ...],\n",
        "    \"cowboy,\": [\"yeah\", ...],\n",
        "    \"yeah\": [\"<N>\", ...],\n",
        "    \"<N>\": [\"Some\", ..., \"Come\"],\n",
        "    ...,\n",
        "    \"Come\": [\"on\", ...],\n",
        "    \"on\": [\"baby\", ...],\n",
        "    \"baby\": [\"and\", ...],\n",
        "    \"and\": [\"I'll\", ...],\n",
        "    \"I'll\": [\"show\", ...],\n",
        "    \"show\": [\"you\", ...],\n",
        "    \"you\": [\"a\", ...],\n",
        "    \"a\": [\"good\", ...],\n",
        "    \"good\": [\"time\", ...],\n",
        "    \"time\": [\"<END>\", ...],\n",
        "}\n",
        "```\n",
        "\n",
        "Your chain will be trained on not just one song, but by all songs by your artist."
      ]
    },
    {
      "cell_type": "code",
      "execution_count": 34,
      "metadata": {
        "id": "5P9Bsg6pOPFy"
      },
      "outputs": [],
      "source": [
        "def train_markov_chain(lyrics):\n",
        "    \"\"\"\n",
        "    Args:\n",
        "      - lyrics: a list of strings, where each string represents\n",
        "                the lyrics of one song by an artist.\n",
        "\n",
        "    Returns:\n",
        "      A dict that maps a single word (\"unigram\") to a list of\n",
        "      words that follow that word, representing the Markov\n",
        "      chain trained on the lyrics.\n",
        "    \"\"\"\n",
        "    chain = {\"<START>\": [], \"<N>\": []}\n",
        "    for lyric in lyrics:\n",
        "      # YOUR CODE HERE\n",
        "      lines = lyric.split(\"\\n\")\n",
        "      lines = [line for line in lines if line != \"\"]\n",
        "      for l in range(len(lines)):\n",
        "        words = lines[l].split(\" \")\n",
        "        # remove all punctuation\n",
        "        words = [re.sub(r'[^\\w\\s]','',word) for word in words]\n",
        "        # remove \\r characters\n",
        "        words = [word.replace(\"\\r\", \"\") for word in words]\n",
        "        # add start and end tokens\n",
        "        if l == 0:\n",
        "          words = [\"<START>\"] + words + [\"<N>\"]\n",
        "        elif l == len(lines)-1:\n",
        "          words = [\"<N>\"] + words + [\"<END>\"]\n",
        "        else:\n",
        "          words = [\"<N>\"] + words + [\"<N>\"]\n",
        "        for i in range(len(words)-1):\n",
        "          if words[i] not in chain:\n",
        "            chain[words[i]] = []\n",
        "          chain[words[i]].append(words[i+1])\n",
        "\n",
        "    return chain"
      ]
    },
    {
      "cell_type": "code",
      "execution_count": 35,
      "metadata": {
        "id": "ewkgeMyQOPF2"
      },
      "outputs": [
        {
          "name": "stdout",
          "output_type": "stream",
          "text": [
            "['Standing', 'Standing', 'Theres', 'Standing', 'Theres', 'Téléchargez', 'From', 'Wrapped', 'I', 'Téléchargez', 'Téléchargez', 'Finally', 'Finally', 'Finally', 'Finally', 'Finally', 'Finally', 'When', 'When', 'Standing', 'Standing', 'Standing', 'Wrapped', 'in', 'I', 'I', 'I', 'Wrapped', 'Wrapped', 'Téléchargez', 'Finally', '', 'feat', 'with', 'feat', 'Verse', 'Verse', 'Standing', 'Standing', 'Standing', 'Standing', 'Sometimes', 'Theres', 'Going', 'You', 'Smoking', 'Time', 'Thinking', 'Wrapped', 'I', 'I', 'Birds', 'In', 'Dont', 'Theres', 'with']\n"
          ]
        }
      ],
      "source": [
        "# Load the pickled lyrics object that you created in Question 1.\n",
        "import pickle\n",
        "lyrics = pickle.load(open(\"lyrics.pkl\", \"rb\"))\n",
        "\n",
        "# Call the function you wrote above.\n",
        "chain = train_markov_chain(lyrics)\n",
        "\n",
        "# What words tend to start a song (i.e., what words follow the <START> tag?)\n",
        "print(chain[\"<START>\"])"
      ]
    },
    {
      "cell_type": "markdown",
      "metadata": {
        "id": "CkdEbg7HOPF5"
      },
      "source": [
        "Now, let's generate new lyrics using the Markov chain you constructed above. To do this, we'll begin at the `\"<START>\"` state and randomly sample a word from the list of words that follow `\"<START>\"`. Then, at each step, we'll randomly sample the next word from the list of words that followed each current word. We will continue this process until we sample the `\"<END>\"` state. This will give us the complete lyrics of a randomly generated song!\n",
        "\n",
        "You may find the `random.choice()` function helpful for this question."
      ]
    },
    {
      "cell_type": "code",
      "execution_count": 36,
      "metadata": {
        "id": "CsFHxt0XOPF6"
      },
      "outputs": [],
      "source": [
        "import random\n",
        "\n",
        "def generate_new_lyrics(chain):\n",
        "    \"\"\"\n",
        "    Args:\n",
        "      - chain: a dict representing the Markov chain,\n",
        "               such as one generated by generate_new_lyrics()\n",
        "\n",
        "    Returns:\n",
        "      A string representing the randomly generated song.\n",
        "    \"\"\"\n",
        "\n",
        "    # a list for storing the generated words\n",
        "    words = []\n",
        "    # generate the first word\n",
        "    words.append(random.choice(chain[\"<START>\"]))\n",
        "\n",
        "    # # YOUR CODE HERE\n",
        "    while words[-1] != \"<END>\":\n",
        "        choices = chain.get(words[-1], [\"<END>\"])\n",
        "        words.append(random.choice(choices))\n",
        "\n",
        "    # # join the words together into a string with line breaks\n",
        "    lyrics = \" \".join(words[:-1])\n",
        "    return \"\\n\".join(lyrics.split(\"<N>\"))"
      ]
    },
    {
      "cell_type": "code",
      "execution_count": 46,
      "metadata": {
        "id": "hmop55SGOPF-"
      },
      "outputs": [
        {
          "name": "stdout",
          "output_type": "stream",
          "text": [
            "Birds fly we turned finally free\n",
            "Patience lost I began to lose me\n",
            "My advice would be take a step\n",
            "\n",
            "PreChorus\n",
            "I wasnt scared I fought this on my feet\n",
            "And I aint playing with you\n",
            "Day one I said Id go for me\n",
            "One box ticked got a little love to share\n",
            "Yeah Im gonna Im gonna come through\n",
            "Youll never be alone Ill be there\n",
            "Oh I swear I got enough love for two ooh ooh ooh\n",
            "Youll never be alone Ill be there for you my love\n",
            "To dreams that never will come true\n",
            "Am I strong enough to see my life\n",
            "Through someone elses eyes\n",
            "Its not an easy road\n",
            "But now Im caught up in a crowded room and I cant see your face\n",
            "Put your arms around me tell me everythings OK\n",
            "In my mind Im running round a cold and empty space\n",
            "Just put your arms around me tell me that youve got me where you want me\n",
            "Now Im right here right here\n",
            "Oh oh oh oh\n",
            "Aah ah ah ah\n",
            "Ooh oh oh oh\n",
            "Aah ah ah ah\n",
            "\n",
            "You know Im contained\n",
            "Oh yes Im up on that thing\n",
            "Right here is where Id stay\n",
            "But Im not complaining\n",
            "\n",
            "Right here you got me where you want me\n",
            "Now Im right here waiting for your calling\n",
            "Now Im right here waiting for your calling\n",
            "Now Im right here right here\n",
            "\n",
            "Oh oh oh oh\n",
            "\n",
            "Dont know why Im surviving every lonely day\n",
            "When theres got to be no chance for me\n",
            "My life would end and it doesnt matter how I try\n",
            "I gave it all for love\n",
            "\n",
            "Started strong without a trace\n",
            "When I held you down\n",
            "So tell me everythings OK\n",
            "Break my bones but you wont see me fall\n"
          ]
        }
      ],
      "source": [
        "print(generate_new_lyrics(chain))"
      ]
    },
    {
      "cell_type": "markdown",
      "metadata": {
        "id": "CjwB8aiMOPGE"
      },
      "source": [
        "# Question 3. Bigram Markov Chain Model\n",
        "\n",
        "Now you'll build a more complex Markov chain that uses the last _two_ words (or bigram) to predict the next word. Now your dict `chain` should map a _tuple_ of words to a list of words that appear after it.\n",
        "\n",
        "As before, you should also include tags that indicate the beginning and end of a song, as well as line breaks. That is, a tuple might contain tags like `\"<START>\"`, `\"<END>\"`, and `\"<N>\"`, in addition to regular words. So for example, for [\"The Joker\"](https://www.azlyrics.com/lyrics/stevemillerband/thejoker.html), you would add the following to your chain:\n",
        "\n",
        "```\n",
        "chain = {\n",
        "    (None, \"<START>\"): [\"Some\", ...],\n",
        "    (\"<START>\", \"Some\"): [\"people\", ...],\n",
        "    (\"Some\", \"people\"): [\"call\", ...],\n",
        "    (\"people\", \"call\"): [\"me\", ...],\n",
        "    (\"call\", \"me\"): [\"the\", ...],\n",
        "    (\"me\", \"the\"): [\"space\", ...],\n",
        "    (\"the\", \"space\"): [\"cowboy,\", ...],\n",
        "    (\"space\", \"cowboy,\"): [\"yeah\", ...],\n",
        "    (\"cowboy,\", \"yeah\"): [\"<N>\", ...],\n",
        "    (\"yeah\", \"<N>\"): [\"Some\", ...],\n",
        "    (\"time\", \"<N>\"): [\"Come\"],\n",
        "    ...,\n",
        "    (\"<N>\", \"Come\"): [\"on\", ...],\n",
        "    (\"Come\", \"on\"): [\"baby\", ...],\n",
        "    (\"on\", \"baby\"): [\"and\", ...],\n",
        "    (\"baby\", \"and\"): [\"I'll\", ...],\n",
        "    (\"and\", \"I'll\"): [\"show\", ...],\n",
        "    (\"I'll\", \"show\"): [\"you\", ...],\n",
        "    (\"show\", \"you\"): [\"a\", ...],\n",
        "    (\"you\", \"a\"): [\"good\", ...],\n",
        "    (\"a\", \"good\"): [\"time\", ...],\n",
        "    (\"good\", \"time\"): [\"<END>\", ...],\n",
        "}\n",
        "```"
      ]
    },
    {
      "cell_type": "code",
      "execution_count": 38,
      "metadata": {
        "id": "sQQf5qfLOPGF"
      },
      "outputs": [],
      "source": [
        "def train_markov_chain(lyrics):\n",
        "    \"\"\"\n",
        "    Args:\n",
        "      - lyrics: a list of strings, where each string represents\n",
        "                the lyrics of one song by an artist.\n",
        "\n",
        "    Returns:\n",
        "      A dict that maps a tuple of 2 words (\"bigram\") to a list of\n",
        "      words that follow that bigram, representing the Markov\n",
        "      chain trained on the lyrics.\n",
        "    \"\"\"\n",
        "    chain = {(None, \"<START>\"): []}\n",
        "    for lyric in lyrics:\n",
        "        words = lyric.split(\" \")\n",
        "        # remove all punctuation\n",
        "        words = [re.sub(r'[^\\w\\s]','',word) for word in words]\n",
        "        # remove \\r characters\n",
        "        words = [word.replace(\"\\r\", \"\") for word in words]\n",
        "        words = [None, \"<START>\"] + words + [\"<END>\"]\n",
        "        for i in range(len(words)-2):\n",
        "            bigram = (words[i], words[i+1])\n",
        "            if bigram not in chain:\n",
        "                chain[bigram] = []\n",
        "            chain[bigram].append(words[i+2])\n",
        "    return chain"
      ]
    },
    {
      "cell_type": "code",
      "execution_count": 39,
      "metadata": {
        "id": "OpPtRfOxOPGI"
      },
      "outputs": [
        {
          "name": "stdout",
          "output_type": "stream",
          "text": [
            "['Standing', 'Standing', 'Theres', 'Standing', 'Theres', 'Téléchargez', 'From', 'Wrapped', 'I', 'Téléchargez', 'Téléchargez', 'Finally', 'Finally', 'Finally', 'Finally', 'Finally', 'Finally', 'When', 'When', 'Standing', 'Standing', 'Standing', 'Wrapped', 'in', 'I', 'I', 'I', 'Wrapped', 'Wrapped', 'Téléchargez', 'Finally', '', 'feat', 'with', 'feat', 'Verse', 'Verse', 'Standing', 'Standing', 'Standing', 'Standing', 'Sometimes', 'Theres', 'Going', 'You', 'Smoking', 'Time', 'Thinking', 'Wrapped', 'I', 'I', 'Birds', 'In', 'Dont', 'Theres', 'with']\n"
          ]
        }
      ],
      "source": [
        "# Load the pickled lyrics object that you created in Question 1.\n",
        "import pickle\n",
        "lyrics = pickle.load(open(\"lyrics.pkl\", \"rb\"))\n",
        "\n",
        "# Call the function you wrote above.\n",
        "chain = train_markov_chain(lyrics)\n",
        "\n",
        "# What words tend to start a song (i.e., what words follow the <START> tag?)\n",
        "print(chain[(None, \"<START>\")])"
      ]
    },
    {
      "cell_type": "markdown",
      "metadata": {
        "id": "4rih6gnzOPGL"
      },
      "source": [
        "Now, let's generate new lyrics using the Markov chain you constructed above. To do this, we'll begin at the `(None, \"<START>\")` state and randomly sample a word from the list of words that follow this bigram. Then, at each step, we'll randomly sample the next word from the list of words that followed the current bigram (i.e., the last two words). We will continue this process until we sample the `\"<END>\"` state. This will give us the complete lyrics of a randomly generated song!"
      ]
    },
    {
      "cell_type": "code",
      "execution_count": 40,
      "metadata": {
        "id": "fmtEgsDoOPGM"
      },
      "outputs": [],
      "source": [
        "import random\n",
        "\n",
        "def generate_new_lyrics(chain):\n",
        "    \"\"\"\n",
        "    Args:\n",
        "      - chain: a dict representing the Markov chain,\n",
        "               such as one generated by generate_new_lyrics()\n",
        "\n",
        "    Returns:\n",
        "      A string representing the randomly generated song.\n",
        "    \"\"\"\n",
        "\n",
        "    # a list for storing the generated words\n",
        "    words = []\n",
        "    # generate the first word\n",
        "    bigram = (None, \"<START>\")\n",
        "    next = random.choice(chain[bigram])\n",
        "    words.append(next)\n",
        "    bigram = (bigram[1], next)\n",
        "\n",
        "    # YOUR CODE HERE\n",
        "    while bigram[1] != \"<END>\":\n",
        "        choices = chain.get(bigram, [\"<END>\"])\n",
        "        next = random.choice(choices)\n",
        "        words.append(next)\n",
        "        bigram = (bigram[1], next)\n",
        "\n",
        "    # join the words together into a string with line breaks\n",
        "    lyrics = \" \".join(words[:-1])\n",
        "    return \"\\n\".join(lyrics.split(\"<N>\"))"
      ]
    },
    {
      "cell_type": "code",
      "execution_count": 50,
      "metadata": {
        "id": "WPPTdLloOPGO"
      },
      "outputs": [
        {
          "name": "stdout",
          "output_type": "stream",
          "text": [
            "Thinking about those nusery rhyming days\n",
            "When it was all just fun and games\n",
            "Never had a care in the way you talk to me\n",
            "You rationalize my darkest thoughts\n",
            "Yeah you set them free\n",
            "\n",
            "Came to you with a broken soul\n",
            "Will you hold my hand\n",
            "Cause I dont wanna break\n",
            "And I dont already know\n",
            "You told me wed win\n",
            "So I took all I need\n",
            "Cut me do I not bleed\n",
            "No bad blood\n",
            "\n",
            "No bad blood\n",
            "Just LIVE your LIFE\n",
            "You cut me deeper every day with your smile\n",
            "\n",
            "See I aint got far to go\n",
            "Cause I spent forever waiting\n",
            "And its no longer a dream\n",
            "And now Ive landed on my own anymore\n",
            "Wont you understand Cause I dont wanna walk alone\n",
            "Im ready for this theres no denying\n",
            "Im ready for your calling\n",
            "Now Im right here right here\n",
            "\n",
            "Ooh oh oh oh\n",
            "\n",
            "Cant let go and it doesnt matter how I cry\n",
            "My tears of love are a waste of time\n",
            "If I turn away am I to travel with no one else could see\n",
            "I drew a smile on my feet\n",
            "And I aint got far to go\n",
            "Cause I spent forever waiting\n",
            "And its no longer a dream\n",
            "And now Ive landed on my shoulders\n",
            "I was lost How am I strong enough to see it through\n",
            "Go crazy is what Id be\n",
            "Im not complaining\n",
            "Finally Im content\n",
            "Oh yes Ive found that thing\n",
            "Right here is what I will heal\n",
            "See there are things that you did trust\n",
            "And nobodys stone is carved\n",
            "Who knows if this will last\n",
            "Cos you found me hiding\n",
            "With my heart my heart turn into stone\n",
            "So dont be so hard on yourself no\n",
            "Learn to forgive learn to let it go\n",
            "\n",
            "And oh Youve turn this black heart made it into gold\n",
            "So I wanna let you know that\n",
            "\n",
            "My love and my touch up above is made with the warmth of my\n",
            "My love and my touch up above is made with the warmth of my love\n",
            "Looovve\n",
            "\n",
            "Control is such an open end it worked for me\n",
            "Something that I could need\n",
            "Cause having this means that Ive ever tasted\n",
            "The saddest vanilla but I dont wanna walk alone\n",
            "Im ready for this so darling hold my hand\n",
            "Cause I dont wanna walk on my own\n",
            "Kind of frail I feel it in my bones\n",
            "Wont let my eyes see clear\n",
            "And then the second it goes wrong\n",
            "And darling youll be packed up and be gone\n",
            "\n",
            "Is it time youll all be mine and oh\n",
            "You gave me something I didnt have before\n",
            "And Ima give you something to stop you saying more\n"
          ]
        }
      ],
      "source": [
        "print(generate_new_lyrics(chain))"
      ]
    },
    {
      "cell_type": "markdown",
      "metadata": {
        "id": "poEifRUxQFb7"
      },
      "source": [
        "**Paste your randomly generated song lyrics (either unigram or bigram) into the Discord channel and we can try to guess the artist!**"
      ]
    },
    {
      "cell_type": "markdown",
      "metadata": {
        "id": "RUEJzOtnOPGR"
      },
      "source": [
        "# Question 4. Analysis\n",
        "\n",
        "Compare the quality of the lyrics generated by the unigram model (in Question 2) and the bigram model (in Question 3). Which model seems to generate more reasonable lyrics? Can you explain why? What do you see as the advantages and disadvantages of each model?"
      ]
    },
    {
      "cell_type": "markdown",
      "metadata": {
        "id": "8k2Hym0UOPGS"
      },
      "source": [
        "**YOUR ANSWER HERE.**"
      ]
    },
    {
      "cell_type": "markdown",
      "metadata": {
        "id": "bJYlXhArOPGT"
      },
      "source": [
        "## Submission Instructions\n",
        "\n",
        "- After you have completed the notebook, select **Runtime > Run all**\n",
        "- After the notebook finishes rerunning check to make sure that you have no errors and everything runs properly.  Fix any problems and redo this step until it works.\n",
        "- Rename this notebook by clicking on \"DATA 301 Assignment 04 - YOUR NAMES HERE\" at the very top of this page. Replace \"YOUR NAMES HERE\" with the first and last names of you and your partner (if you worked with one).\n",
        "- Expand all cells with View > Expand Sections\n",
        "- Save a PDF version: File > Print > Save as PDF\n",
        "    - Under \"More Settings\" make sure \"Background graphics\" is checked\n",
        "    - Printing Colab to PDF doesn't always work so well and some of your output might get cutoff. That's ok.\n",
        "    - It's not necessary, but if you want a more nicely formatted PDF you can uncomment and run the code in the following cell. (Here's a [video](https://www.youtube.com/watch?v=-Ti9Mm21uVc) with other options.)\n",
        "- Download the notebook: File > Download .ipynb\n",
        "- Submit the notebook and PDF in Canvas. If you worked in a pair, only one person should submit in Canvas."
      ]
    },
    {
      "cell_type": "code",
      "execution_count": 42,
      "metadata": {
        "id": "lHeFmDDKoQH4"
      },
      "outputs": [],
      "source": [
        "# !wget -nc https://raw.githubusercontent.com/brpy/colab-pdf/master/colab_pdf.py\n",
        "# from colab_pdf import colab_pdf\n",
        "# colab_pdf('DATA 301 Lab4B - YOUR NAMES HERE.ipynb')"
      ]
    }
  ],
  "metadata": {
    "colab": {
      "provenance": []
    },
    "kernelspec": {
      "display_name": "Python 3",
      "language": "python",
      "name": "python3"
    },
    "language_info": {
      "codemirror_mode": {
        "name": "ipython",
        "version": 3
      },
      "file_extension": ".py",
      "mimetype": "text/x-python",
      "name": "python",
      "nbconvert_exporter": "python",
      "pygments_lexer": "ipython3",
      "version": "3.9.6"
    }
  },
  "nbformat": 4,
  "nbformat_minor": 0
}
