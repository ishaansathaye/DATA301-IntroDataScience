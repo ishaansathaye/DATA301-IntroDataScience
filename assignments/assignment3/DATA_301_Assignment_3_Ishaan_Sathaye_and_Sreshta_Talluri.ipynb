{
  "cells": [
    {
      "cell_type": "markdown",
      "metadata": {
        "id": "fQLu8g7NkVNI"
      },
      "source": [
        "**This assignment is in four parts. Read the notebook from the beginning and answer the questions as you go. You can add as many cells as you want. Submission instructions are at the end. See Canvas for general rules about Assignments and collaboration.**"
      ]
    },
    {
      "cell_type": "markdown",
      "metadata": {
        "id": "6iYuYA2_h1EQ"
      },
      "source": [
        "## Part 1: The 2000 U.S. Presidential Election\n",
        "\n",
        "The 2000 presidential election---between Republican George W. Bush, Democrat Al Gore, and other third-party candidates---was one of the closest in American history. The election came down to one state, Florida, which Bush won by just 537 votes (out of nearly 6,000,000 votes cast in the state).\n",
        "\n",
        "After Election Day, Democrats claimed that the [\"butterfly ballot\"](https://ischool.uw.edu/podcasts/dtctw/palm-beach-county-butterfly-ballot) that was used in Palm Beach County confused Gore voters into voting for Reform Party candidate Pat Buchanan. To vote for Gore, who is listed second on the left, a voter actually had to punch the third hole (because the second hole is actually a vote for Buchanan, who is listed first on the right).\n",
        "\n",
        "In this exercise, you will evaluate this claim. The data file `https://dlsun.github.io/pods/data/florida.csv` contains county-level information about:\n",
        "\n",
        "- the number of votes for Gore, Bush, Buchanan, and a few other candidates in the 2000 presidential election\n",
        "- the number of votes for Clinton (Democrat), Dole (Republican), and Perot (Reform) in the 1996 presidential election\n",
        "- the number of votes for Buchanan in the 1996 primary\n",
        "- the number of registered Reform voters and the total number of registered voters\n",
        "\n",
        "Using this data, evaluate the claim that many voters in Palm Beach County voted for Buchanan when they intended to vote for Gore.\n",
        "You should check whether Palm Beach County fits the general pattern of the other counties in Florida, but you need to decide how to measure/visualize the \"general pattern\". Visualizations will likely be more helpful than summary statistics.\n",
        "Then, craft a story that guides the reader through your discoveries. Your story should contain both figures and explanations.\n",
        "\n",
        "There are many ways to approach this problem. You don't have to explore every possibility, but you should include at least more than one perspective. That is, you should include several plots/summaries.\n",
        "\n",
        "Hint: you can add new columns to the data frame. For example, the current columns contain counts, but you might also want to consider proportions. Also, you have the 1996 data for a reason, so you should make some comparisons between 2000 and 1996 (e.g., you might want to compute changes from 1996 to 2000.)"
      ]
    },
    {
      "cell_type": "code",
      "execution_count": 2,
      "metadata": {
        "id": "vOIKn1LViity"
      },
      "outputs": [
        {
          "data": {
            "text/html": [
              "<div>\n",
              "<style scoped>\n",
              "    .dataframe tbody tr th:only-of-type {\n",
              "        vertical-align: middle;\n",
              "    }\n",
              "\n",
              "    .dataframe tbody tr th {\n",
              "        vertical-align: top;\n",
              "    }\n",
              "\n",
              "    .dataframe thead th {\n",
              "        text-align: right;\n",
              "    }\n",
              "</style>\n",
              "<table border=\"1\" class=\"dataframe\">\n",
              "  <thead>\n",
              "    <tr style=\"text-align: right;\">\n",
              "      <th></th>\n",
              "      <th>county</th>\n",
              "      <th>buchanan2000</th>\n",
              "      <th>gore2000</th>\n",
              "      <th>bush2000</th>\n",
              "      <th>nader2000</th>\n",
              "      <th>browne2000</th>\n",
              "      <th>total2000</th>\n",
              "      <th>clinton96</th>\n",
              "      <th>dole96</th>\n",
              "      <th>perot96</th>\n",
              "      <th>buchanan96p</th>\n",
              "      <th>reform.reg</th>\n",
              "      <th>total.reg</th>\n",
              "    </tr>\n",
              "  </thead>\n",
              "  <tbody>\n",
              "    <tr>\n",
              "      <th>0</th>\n",
              "      <td>ALACHUA</td>\n",
              "      <td>262</td>\n",
              "      <td>47,300</td>\n",
              "      <td>34,062</td>\n",
              "      <td>3,215</td>\n",
              "      <td>658</td>\n",
              "      <td>85,235</td>\n",
              "      <td>40,144</td>\n",
              "      <td>25,303</td>\n",
              "      <td>8,072</td>\n",
              "      <td>2,151</td>\n",
              "      <td>91</td>\n",
              "      <td>120,867</td>\n",
              "    </tr>\n",
              "    <tr>\n",
              "      <th>1</th>\n",
              "      <td>BAKER</td>\n",
              "      <td>73</td>\n",
              "      <td>2,392</td>\n",
              "      <td>5,610</td>\n",
              "      <td>53</td>\n",
              "      <td>17</td>\n",
              "      <td>8,072</td>\n",
              "      <td>2,273</td>\n",
              "      <td>3,684</td>\n",
              "      <td>667</td>\n",
              "      <td>73</td>\n",
              "      <td>4</td>\n",
              "      <td>12,352</td>\n",
              "    </tr>\n",
              "    <tr>\n",
              "      <th>2</th>\n",
              "      <td>BAY</td>\n",
              "      <td>248</td>\n",
              "      <td>18,850</td>\n",
              "      <td>38,637</td>\n",
              "      <td>828</td>\n",
              "      <td>171</td>\n",
              "      <td>58,486</td>\n",
              "      <td>17,020</td>\n",
              "      <td>28,290</td>\n",
              "      <td>5,922</td>\n",
              "      <td>1,816</td>\n",
              "      <td>55</td>\n",
              "      <td>92,749</td>\n",
              "    </tr>\n",
              "    <tr>\n",
              "      <th>3</th>\n",
              "      <td>BRADFORD</td>\n",
              "      <td>65</td>\n",
              "      <td>3,072</td>\n",
              "      <td>5,413</td>\n",
              "      <td>84</td>\n",
              "      <td>28</td>\n",
              "      <td>8,597</td>\n",
              "      <td>3,356</td>\n",
              "      <td>4,038</td>\n",
              "      <td>819</td>\n",
              "      <td>155</td>\n",
              "      <td>3</td>\n",
              "      <td>13,547</td>\n",
              "    </tr>\n",
              "    <tr>\n",
              "      <th>4</th>\n",
              "      <td>BREVARD</td>\n",
              "      <td>570</td>\n",
              "      <td>97,318</td>\n",
              "      <td>115,185</td>\n",
              "      <td>4,470</td>\n",
              "      <td>643</td>\n",
              "      <td>217,616</td>\n",
              "      <td>80,416</td>\n",
              "      <td>87,980</td>\n",
              "      <td>25,249</td>\n",
              "      <td>7,927</td>\n",
              "      <td>148</td>\n",
              "      <td>283,680</td>\n",
              "    </tr>\n",
              "  </tbody>\n",
              "</table>\n",
              "</div>"
            ],
            "text/plain": [
              "     county buchanan2000 gore2000 bush2000 nader2000 browne2000 total2000   \n",
              "0   ALACHUA          262   47,300   34,062     3,215        658    85,235  \\\n",
              "1     BAKER           73    2,392    5,610        53         17     8,072   \n",
              "2       BAY          248   18,850   38,637       828        171    58,486   \n",
              "3  BRADFORD           65    3,072    5,413        84         28     8,597   \n",
              "4   BREVARD          570   97,318  115,185     4,470        643   217,616   \n",
              "\n",
              "  clinton96  dole96 perot96 buchanan96p  reform.reg total.reg  \n",
              "0    40,144  25,303   8,072       2,151          91   120,867  \n",
              "1     2,273   3,684     667          73           4    12,352  \n",
              "2    17,020  28,290   5,922       1,816          55    92,749  \n",
              "3     3,356   4,038     819         155           3    13,547  \n",
              "4    80,416  87,980  25,249       7,927         148   283,680  "
            ]
          },
          "execution_count": 2,
          "metadata": {},
          "output_type": "execute_result"
        }
      ],
      "source": [
        "# ENTER YOUR CODE HERE. ADD AS MANY CELLS AS YOU WANT.\n",
        "import pandas as pd\n",
        "import numpy as np\n",
        "\n",
        "df_2000 = pd.read_csv('https://dlsun.github.io/pods/data/florida.csv')\n",
        "\n",
        "df_2000.head()"
      ]
    },
    {
      "cell_type": "code",
      "execution_count": 3,
      "metadata": {},
      "outputs": [
        {
          "data": {
            "text/html": [
              "<div>\n",
              "<style scoped>\n",
              "    .dataframe tbody tr th:only-of-type {\n",
              "        vertical-align: middle;\n",
              "    }\n",
              "\n",
              "    .dataframe tbody tr th {\n",
              "        vertical-align: top;\n",
              "    }\n",
              "\n",
              "    .dataframe thead th {\n",
              "        text-align: right;\n",
              "    }\n",
              "</style>\n",
              "<table border=\"1\" class=\"dataframe\">\n",
              "  <thead>\n",
              "    <tr style=\"text-align: right;\">\n",
              "      <th></th>\n",
              "      <th>county</th>\n",
              "      <th>buchanan2000</th>\n",
              "      <th>gore2000</th>\n",
              "      <th>bush2000</th>\n",
              "      <th>nader2000</th>\n",
              "      <th>browne2000</th>\n",
              "      <th>total2000</th>\n",
              "      <th>clinton96</th>\n",
              "      <th>dole96</th>\n",
              "      <th>perot96</th>\n",
              "      <th>buchanan96p</th>\n",
              "      <th>reform.reg</th>\n",
              "      <th>total.reg</th>\n",
              "    </tr>\n",
              "  </thead>\n",
              "  <tbody>\n",
              "    <tr>\n",
              "      <th>0</th>\n",
              "      <td>ALACHUA</td>\n",
              "      <td>262</td>\n",
              "      <td>47300</td>\n",
              "      <td>34062</td>\n",
              "      <td>3215</td>\n",
              "      <td>658</td>\n",
              "      <td>85235</td>\n",
              "      <td>40144</td>\n",
              "      <td>25303</td>\n",
              "      <td>8072</td>\n",
              "      <td>2151</td>\n",
              "      <td>91</td>\n",
              "      <td>120867</td>\n",
              "    </tr>\n",
              "    <tr>\n",
              "      <th>1</th>\n",
              "      <td>BAKER</td>\n",
              "      <td>73</td>\n",
              "      <td>2392</td>\n",
              "      <td>5610</td>\n",
              "      <td>53</td>\n",
              "      <td>17</td>\n",
              "      <td>8072</td>\n",
              "      <td>2273</td>\n",
              "      <td>3684</td>\n",
              "      <td>667</td>\n",
              "      <td>73</td>\n",
              "      <td>4</td>\n",
              "      <td>12352</td>\n",
              "    </tr>\n",
              "    <tr>\n",
              "      <th>2</th>\n",
              "      <td>BAY</td>\n",
              "      <td>248</td>\n",
              "      <td>18850</td>\n",
              "      <td>38637</td>\n",
              "      <td>828</td>\n",
              "      <td>171</td>\n",
              "      <td>58486</td>\n",
              "      <td>17020</td>\n",
              "      <td>28290</td>\n",
              "      <td>5922</td>\n",
              "      <td>1816</td>\n",
              "      <td>55</td>\n",
              "      <td>92749</td>\n",
              "    </tr>\n",
              "    <tr>\n",
              "      <th>3</th>\n",
              "      <td>BRADFORD</td>\n",
              "      <td>65</td>\n",
              "      <td>3072</td>\n",
              "      <td>5413</td>\n",
              "      <td>84</td>\n",
              "      <td>28</td>\n",
              "      <td>8597</td>\n",
              "      <td>3356</td>\n",
              "      <td>4038</td>\n",
              "      <td>819</td>\n",
              "      <td>155</td>\n",
              "      <td>3</td>\n",
              "      <td>13547</td>\n",
              "    </tr>\n",
              "    <tr>\n",
              "      <th>4</th>\n",
              "      <td>BREVARD</td>\n",
              "      <td>570</td>\n",
              "      <td>97318</td>\n",
              "      <td>115185</td>\n",
              "      <td>4470</td>\n",
              "      <td>643</td>\n",
              "      <td>217616</td>\n",
              "      <td>80416</td>\n",
              "      <td>87980</td>\n",
              "      <td>25249</td>\n",
              "      <td>7927</td>\n",
              "      <td>148</td>\n",
              "      <td>283680</td>\n",
              "    </tr>\n",
              "  </tbody>\n",
              "</table>\n",
              "</div>"
            ],
            "text/plain": [
              "     county buchanan2000 gore2000 bush2000 nader2000 browne2000 total2000   \n",
              "0   ALACHUA          262    47300    34062      3215        658     85235  \\\n",
              "1     BAKER           73     2392     5610        53         17      8072   \n",
              "2       BAY          248    18850    38637       828        171     58486   \n",
              "3  BRADFORD           65     3072     5413        84         28      8597   \n",
              "4   BREVARD          570    97318   115185      4470        643    217616   \n",
              "\n",
              "  clinton96 dole96 perot96 buchanan96p  reform.reg total.reg  \n",
              "0     40144  25303    8072        2151          91    120867  \n",
              "1      2273   3684     667          73           4     12352  \n",
              "2     17020  28290    5922        1816          55     92749  \n",
              "3      3356   4038     819         155           3     13547  \n",
              "4     80416  87980   25249        7927         148    283680  "
            ]
          },
          "execution_count": 3,
          "metadata": {},
          "output_type": "execute_result"
        }
      ],
      "source": [
        "# remove commas from numbers\n",
        "df_2000 = df_2000.replace(',','', regex=True)\n",
        "\n",
        "# convert all columns to numeric except for first column\n",
        "df_2000.iloc[:,1:] = df_2000.iloc[:,1:].apply(pd.to_numeric)\n",
        "\n",
        "df_2000.head()"
      ]
    },
    {
      "cell_type": "code",
      "execution_count": 4,
      "metadata": {},
      "outputs": [
        {
          "data": {
            "text/html": [
              "<div>\n",
              "<style scoped>\n",
              "    .dataframe tbody tr th:only-of-type {\n",
              "        vertical-align: middle;\n",
              "    }\n",
              "\n",
              "    .dataframe tbody tr th {\n",
              "        vertical-align: top;\n",
              "    }\n",
              "\n",
              "    .dataframe thead th {\n",
              "        text-align: right;\n",
              "    }\n",
              "</style>\n",
              "<table border=\"1\" class=\"dataframe\">\n",
              "  <thead>\n",
              "    <tr style=\"text-align: right;\">\n",
              "      <th></th>\n",
              "      <th>county</th>\n",
              "      <th>buchanan2000</th>\n",
              "      <th>gore2000</th>\n",
              "      <th>bush2000</th>\n",
              "      <th>nader2000</th>\n",
              "      <th>browne2000</th>\n",
              "      <th>total2000</th>\n",
              "      <th>clinton96</th>\n",
              "      <th>dole96</th>\n",
              "      <th>perot96</th>\n",
              "      <th>buchanan96p</th>\n",
              "      <th>reform.reg</th>\n",
              "      <th>total.reg</th>\n",
              "      <th>buchanan2000_prop</th>\n",
              "      <th>gore2000_prop</th>\n",
              "      <th>bush2000_prop</th>\n",
              "      <th>buchanan1996_prop</th>\n",
              "      <th>buchanan change</th>\n",
              "      <th>buchanan2000_96_prop</th>\n",
              "      <th>buchanan_vs_gore</th>\n",
              "    </tr>\n",
              "  </thead>\n",
              "  <tbody>\n",
              "    <tr>\n",
              "      <th>0</th>\n",
              "      <td>ALACHUA</td>\n",
              "      <td>262</td>\n",
              "      <td>47300</td>\n",
              "      <td>34062</td>\n",
              "      <td>3215</td>\n",
              "      <td>658</td>\n",
              "      <td>85235</td>\n",
              "      <td>40144</td>\n",
              "      <td>25303</td>\n",
              "      <td>8072</td>\n",
              "      <td>2151</td>\n",
              "      <td>91</td>\n",
              "      <td>120867</td>\n",
              "      <td>0.003074</td>\n",
              "      <td>0.554936</td>\n",
              "      <td>0.399625</td>\n",
              "      <td>0.017796</td>\n",
              "      <td>-0.014723</td>\n",
              "      <td>-0.782843</td>\n",
              "      <td>0.005539</td>\n",
              "    </tr>\n",
              "    <tr>\n",
              "      <th>1</th>\n",
              "      <td>BAKER</td>\n",
              "      <td>73</td>\n",
              "      <td>2392</td>\n",
              "      <td>5610</td>\n",
              "      <td>53</td>\n",
              "      <td>17</td>\n",
              "      <td>8072</td>\n",
              "      <td>2273</td>\n",
              "      <td>3684</td>\n",
              "      <td>667</td>\n",
              "      <td>73</td>\n",
              "      <td>4</td>\n",
              "      <td>12352</td>\n",
              "      <td>0.009044</td>\n",
              "      <td>0.296333</td>\n",
              "      <td>0.694995</td>\n",
              "      <td>0.00591</td>\n",
              "      <td>0.003134</td>\n",
              "      <td>0.0</td>\n",
              "      <td>0.030518</td>\n",
              "    </tr>\n",
              "    <tr>\n",
              "      <th>2</th>\n",
              "      <td>BAY</td>\n",
              "      <td>248</td>\n",
              "      <td>18850</td>\n",
              "      <td>38637</td>\n",
              "      <td>828</td>\n",
              "      <td>171</td>\n",
              "      <td>58486</td>\n",
              "      <td>17020</td>\n",
              "      <td>28290</td>\n",
              "      <td>5922</td>\n",
              "      <td>1816</td>\n",
              "      <td>55</td>\n",
              "      <td>92749</td>\n",
              "      <td>0.00424</td>\n",
              "      <td>0.322299</td>\n",
              "      <td>0.66062</td>\n",
              "      <td>0.01958</td>\n",
              "      <td>-0.015339</td>\n",
              "      <td>-0.75969</td>\n",
              "      <td>0.013156</td>\n",
              "    </tr>\n",
              "    <tr>\n",
              "      <th>3</th>\n",
              "      <td>BRADFORD</td>\n",
              "      <td>65</td>\n",
              "      <td>3072</td>\n",
              "      <td>5413</td>\n",
              "      <td>84</td>\n",
              "      <td>28</td>\n",
              "      <td>8597</td>\n",
              "      <td>3356</td>\n",
              "      <td>4038</td>\n",
              "      <td>819</td>\n",
              "      <td>155</td>\n",
              "      <td>3</td>\n",
              "      <td>13547</td>\n",
              "      <td>0.007561</td>\n",
              "      <td>0.357334</td>\n",
              "      <td>0.629638</td>\n",
              "      <td>0.011442</td>\n",
              "      <td>-0.003881</td>\n",
              "      <td>-0.409091</td>\n",
              "      <td>0.021159</td>\n",
              "    </tr>\n",
              "    <tr>\n",
              "      <th>4</th>\n",
              "      <td>BREVARD</td>\n",
              "      <td>570</td>\n",
              "      <td>97318</td>\n",
              "      <td>115185</td>\n",
              "      <td>4470</td>\n",
              "      <td>643</td>\n",
              "      <td>217616</td>\n",
              "      <td>80416</td>\n",
              "      <td>87980</td>\n",
              "      <td>25249</td>\n",
              "      <td>7927</td>\n",
              "      <td>148</td>\n",
              "      <td>283680</td>\n",
              "      <td>0.002619</td>\n",
              "      <td>0.447201</td>\n",
              "      <td>0.529304</td>\n",
              "      <td>0.027943</td>\n",
              "      <td>-0.025324</td>\n",
              "      <td>-0.865835</td>\n",
              "      <td>0.005857</td>\n",
              "    </tr>\n",
              "  </tbody>\n",
              "</table>\n",
              "</div>"
            ],
            "text/plain": [
              "     county buchanan2000 gore2000 bush2000 nader2000 browne2000 total2000   \n",
              "0   ALACHUA          262    47300    34062      3215        658     85235  \\\n",
              "1     BAKER           73     2392     5610        53         17      8072   \n",
              "2       BAY          248    18850    38637       828        171     58486   \n",
              "3  BRADFORD           65     3072     5413        84         28      8597   \n",
              "4   BREVARD          570    97318   115185      4470        643    217616   \n",
              "\n",
              "  clinton96 dole96 perot96 buchanan96p  reform.reg total.reg   \n",
              "0     40144  25303    8072        2151          91    120867  \\\n",
              "1      2273   3684     667          73           4     12352   \n",
              "2     17020  28290    5922        1816          55     92749   \n",
              "3      3356   4038     819         155           3     13547   \n",
              "4     80416  87980   25249        7927         148    283680   \n",
              "\n",
              "  buchanan2000_prop gore2000_prop bush2000_prop buchanan1996_prop   \n",
              "0          0.003074      0.554936      0.399625          0.017796  \\\n",
              "1          0.009044      0.296333      0.694995           0.00591   \n",
              "2           0.00424      0.322299       0.66062           0.01958   \n",
              "3          0.007561      0.357334      0.629638          0.011442   \n",
              "4          0.002619      0.447201      0.529304          0.027943   \n",
              "\n",
              "  buchanan change buchanan2000_96_prop buchanan_vs_gore  \n",
              "0       -0.014723            -0.782843         0.005539  \n",
              "1        0.003134                  0.0         0.030518  \n",
              "2       -0.015339             -0.75969         0.013156  \n",
              "3       -0.003881            -0.409091         0.021159  \n",
              "4       -0.025324            -0.865835         0.005857  "
            ]
          },
          "execution_count": 4,
          "metadata": {},
          "output_type": "execute_result"
        }
      ],
      "source": [
        "df_2000['buchanan2000_prop'] = df_2000['buchanan2000'] / df_2000['total2000']\n",
        "df_2000[\"gore2000_prop\"] = df_2000[\"gore2000\"] / df_2000[\"total2000\"]\n",
        "df_2000[\"bush2000_prop\"] = df_2000[\"bush2000\"] / df_2000[\"total2000\"]\n",
        "df_2000[\"buchanan1996_prop\"] = df_2000[\"buchanan96p\"] / df_2000[\"total.reg\"]\n",
        "df_2000[\"buchanan change\"] = df_2000[\"buchanan2000_prop\"] - df_2000[\"buchanan1996_prop\"]\n",
        "df_2000[\"buchanan2000_96_prop\"] = (df_2000[\"buchanan2000\"] - df_2000[\"buchanan96p\"]) / (df_2000[\"buchanan2000\"] + df_2000[\"buchanan96p\"])\n",
        "df_2000[\"buchanan_vs_gore\"] = df_2000[\"buchanan2000\"] / df_2000[\"gore2000\"]\n",
        "\n",
        "df_2000.head()"
      ]
    },
    {
      "cell_type": "code",
      "execution_count": 5,
      "metadata": {},
      "outputs": [
        {
          "data": {
            "text/html": [
              "<div>\n",
              "<style scoped>\n",
              "    .dataframe tbody tr th:only-of-type {\n",
              "        vertical-align: middle;\n",
              "    }\n",
              "\n",
              "    .dataframe tbody tr th {\n",
              "        vertical-align: top;\n",
              "    }\n",
              "\n",
              "    .dataframe thead th {\n",
              "        text-align: right;\n",
              "    }\n",
              "</style>\n",
              "<table border=\"1\" class=\"dataframe\">\n",
              "  <thead>\n",
              "    <tr style=\"text-align: right;\">\n",
              "      <th></th>\n",
              "      <th>county</th>\n",
              "      <th>buchanan2000</th>\n",
              "      <th>gore2000</th>\n",
              "      <th>bush2000</th>\n",
              "      <th>nader2000</th>\n",
              "      <th>browne2000</th>\n",
              "      <th>total2000</th>\n",
              "      <th>clinton96</th>\n",
              "      <th>dole96</th>\n",
              "      <th>perot96</th>\n",
              "      <th>buchanan96p</th>\n",
              "      <th>reform.reg</th>\n",
              "      <th>total.reg</th>\n",
              "      <th>buchanan2000_prop</th>\n",
              "      <th>gore2000_prop</th>\n",
              "      <th>bush2000_prop</th>\n",
              "      <th>buchanan1996_prop</th>\n",
              "      <th>buchanan change</th>\n",
              "      <th>buchanan2000_96_prop</th>\n",
              "      <th>buchanan_vs_gore</th>\n",
              "    </tr>\n",
              "  </thead>\n",
              "  <tbody>\n",
              "    <tr>\n",
              "      <th>49</th>\n",
              "      <td>PALM BEACH</td>\n",
              "      <td>3407</td>\n",
              "      <td>268945</td>\n",
              "      <td>152846</td>\n",
              "      <td>5564</td>\n",
              "      <td>743</td>\n",
              "      <td>428098</td>\n",
              "      <td>230621</td>\n",
              "      <td>133762</td>\n",
              "      <td>30739</td>\n",
              "      <td>8788</td>\n",
              "      <td>337</td>\n",
              "      <td>656694</td>\n",
              "      <td>0.007958</td>\n",
              "      <td>0.628232</td>\n",
              "      <td>0.357035</td>\n",
              "      <td>0.013382</td>\n",
              "      <td>-0.005424</td>\n",
              "      <td>-0.441246</td>\n",
              "      <td>0.012668</td>\n",
              "    </tr>\n",
              "  </tbody>\n",
              "</table>\n",
              "</div>"
            ],
            "text/plain": [
              "        county buchanan2000 gore2000 bush2000 nader2000 browne2000 total2000   \n",
              "49  PALM BEACH         3407   268945   152846      5564        743    428098  \\\n",
              "\n",
              "   clinton96  dole96 perot96 buchanan96p  reform.reg total.reg   \n",
              "49    230621  133762   30739        8788         337    656694  \\\n",
              "\n",
              "   buchanan2000_prop gore2000_prop bush2000_prop buchanan1996_prop   \n",
              "49          0.007958      0.628232      0.357035          0.013382  \\\n",
              "\n",
              "   buchanan change buchanan2000_96_prop buchanan_vs_gore  \n",
              "49       -0.005424            -0.441246         0.012668  "
            ]
          },
          "execution_count": 5,
          "metadata": {},
          "output_type": "execute_result"
        }
      ],
      "source": [
        "# see all county names in data in a list\n",
        "palm_beach = df_2000[df_2000['county'] == 'PALM BEACH']\n",
        "\n",
        "palm_beach"
      ]
    },
    {
      "cell_type": "code",
      "execution_count": 6,
      "metadata": {},
      "outputs": [],
      "source": [
        "import plotly.express as px"
      ]
    },
    {
      "cell_type": "code",
      "execution_count": 7,
      "metadata": {},
      "outputs": [
        {
          "data": {
            "application/vnd.plotly.v1+json": {
              "config": {
                "plotlyServerURL": "https://plot.ly"
              },
              "data": [
                {
                  "hovertemplate": "<b>%{hovertext}</b><br><br>Buchanan 1996 Primary Votes=%{x}<br>Buchanan 2000 Votes=%{y}<extra></extra>",
                  "hovertext": [
                    "ALACHUA",
                    "BAKER",
                    "BAY",
                    "BRADFORD",
                    "BREVARD",
                    "BROWARD",
                    "CALHOUN",
                    "CHARLOTTE",
                    "CITRUS",
                    "CLAY",
                    "COLLIER",
                    "COLUMBIA",
                    "DADE",
                    "DE SOTO",
                    "DIXIE",
                    "DUVAL",
                    "ESCAMBIA",
                    "FLAGLER",
                    "FRANKLIN",
                    "GADSDEN",
                    "GILCHRIST",
                    "GLADES",
                    "GULF",
                    "HAMILTON",
                    "HARDEE",
                    "HENDRY",
                    "HERNANDO",
                    "HIGHLANDS",
                    "HILLSBOROUGH",
                    "HOLMES",
                    "INDIAN RIVER",
                    "JACKSON",
                    "JEFFERSON",
                    "LAFAYETTE",
                    "LAKE",
                    "LEE",
                    "LEON",
                    "LEVY",
                    "LIBERTY",
                    "MADISON",
                    "MANATEE",
                    "MARION",
                    "MARTIN",
                    "MONROE",
                    "NASSAU",
                    "OKALOOSA",
                    "OKEECHOBEE",
                    "ORANGE",
                    "OSCEOLA",
                    "PALM BEACH",
                    "PASCO",
                    "PINELLAS",
                    "POLK",
                    "PUTNAM",
                    "ST. JOHNS",
                    "ST. LUCIE",
                    "SANTA ROSA",
                    "SARASOTA",
                    "SEMINOLE",
                    "SUMTER",
                    "SUWANNEE",
                    "TAYLOR",
                    "UNION",
                    "VOLUSIA",
                    "WAKULLA",
                    "WALTON",
                    "WASHINGTON"
                  ],
                  "legendgroup": "",
                  "marker": {
                    "color": "#636efa",
                    "symbol": "circle"
                  },
                  "mode": "markers",
                  "name": "",
                  "orientation": "v",
                  "showlegend": false,
                  "type": "scatter",
                  "x": [
                    2151,
                    73,
                    1816,
                    155,
                    7927,
                    10966,
                    41,
                    2982,
                    2293,
                    2351,
                    2722,
                    657,
                    6349,
                    189,
                    55,
                    7051,
                    4977,
                    629,
                    32,
                    138,
                    106,
                    58,
                    105,
                    37,
                    97,
                    183,
                    2645,
                    1096,
                    7267,
                    62,
                    1797,
                    390,
                    99,
                    15,
                    3531,
                    7359,
                    2222,
                    330,
                    18,
                    109,
                    4804,
                    862,
                    4483,
                    2497,
                    628,
                    4147,
                    149,
                    7203,
                    1499,
                    8788,
                    4675,
                    12116,
                    5157,
                    952,
                    2536,
                    5660,
                    4052,
                    1885,
                    3229,
                    481,
                    376,
                    99,
                    45,
                    4441,
                    133,
                    546,
                    190
                  ],
                  "xaxis": "x",
                  "y": [
                    262,
                    73,
                    248,
                    65,
                    570,
                    789,
                    90,
                    182,
                    270,
                    186,
                    122,
                    89,
                    561,
                    36,
                    29,
                    650,
                    504,
                    83,
                    33,
                    39,
                    29,
                    9,
                    71,
                    24,
                    30,
                    22,
                    242,
                    99,
                    836,
                    76,
                    105,
                    102,
                    29,
                    10,
                    289,
                    305,
                    282,
                    67,
                    39,
                    29,
                    272,
                    563,
                    108,
                    47,
                    90,
                    267,
                    43,
                    446,
                    145,
                    3407,
                    570,
                    1010,
                    538,
                    147,
                    229,
                    124,
                    311,
                    305,
                    194,
                    114,
                    108,
                    27,
                    26,
                    396,
                    46,
                    120,
                    88
                  ],
                  "yaxis": "y"
                },
                {
                  "hovertemplate": "<b>OLS trendline</b><br>buchanan2000 = 0.100633 * buchanan96p + 14.0701<br>R<sup>2</sup>=0.425189<br><br>Buchanan 1996 Primary Votes=%{x}<br>Buchanan 2000 Votes=%{y} <b>(trend)</b><extra></extra>",
                  "legendgroup": "",
                  "marker": {
                    "color": "#636efa",
                    "symbol": "circle"
                  },
                  "mode": "lines",
                  "name": "",
                  "showlegend": false,
                  "type": "scatter",
                  "x": [
                    15,
                    18,
                    32,
                    37,
                    41,
                    45,
                    55,
                    58,
                    62,
                    73,
                    97,
                    99,
                    99,
                    105,
                    106,
                    109,
                    133,
                    138,
                    149,
                    155,
                    183,
                    189,
                    190,
                    330,
                    376,
                    390,
                    481,
                    546,
                    628,
                    629,
                    657,
                    862,
                    952,
                    1096,
                    1499,
                    1797,
                    1816,
                    1885,
                    2151,
                    2222,
                    2293,
                    2351,
                    2497,
                    2536,
                    2645,
                    2722,
                    2982,
                    3229,
                    3531,
                    4052,
                    4147,
                    4441,
                    4483,
                    4675,
                    4804,
                    4977,
                    5157,
                    5660,
                    6349,
                    7051,
                    7203,
                    7267,
                    7359,
                    7927,
                    8788,
                    10966,
                    12116
                  ],
                  "xaxis": "x",
                  "y": [
                    15.579596796974368,
                    15.881495905514504,
                    17.290358412035133,
                    17.793523592935358,
                    18.196055737655538,
                    18.598587882375718,
                    19.60491824417617,
                    19.906817352716306,
                    20.309349497436486,
                    21.41631289541698,
                    23.83150576373806,
                    24.03277183609815,
                    24.03277183609815,
                    24.63657005317842,
                    24.737203089358466,
                    25.0391021978986,
                    27.454295066219682,
                    27.957460247119908,
                    29.0644236451004,
                    29.668221862180673,
                    32.485946875221934,
                    33.0897450923022,
                    33.19037812848225,
                    47.27900319368855,
                    51.908122857970625,
                    53.31698536449125,
                    62.474591656875354,
                    69.01573900857828,
                    77.26764797534197,
                    77.36828101152201,
                    80.18600602456328,
                    100.8157784414725,
                    109.87275169767656,
                    124.36390890760305,
                    164.9190224881612,
                    194.90766726981462,
                    196.81969495723547,
                    203.76337445365857,
                    230.53176207755055,
                    237.67670764633374,
                    244.82165321511695,
                    250.65836931355955,
                    265.35079259584614,
                    269.2754810068679,
                    280.2444819504928,
                    287.99322573635624,
                    314.15781514316797,
                    339.0141750796391,
                    369.4053520060127,
                    421.8351638558162,
                    431.3953022929204,
                    460.98141492985366,
                    465.2080024494156,
                    484.5295453959842,
                    497.51120706321,
                    514.9207223223578,
                    533.034668834766,
                    583.6530860333286,
                    652.9892479613795,
                    723.6336393597712,
                    738.929860859138,
                    745.3703751746609,
                    754.6286145032251,
                    811.7881790534907,
                    898.4332232045094,
                    1117.6119760046474,
                    1233.3399676116992
                  ],
                  "yaxis": "y"
                }
              ],
              "layout": {
                "legend": {
                  "tracegroupgap": 0
                },
                "template": {
                  "data": {
                    "bar": [
                      {
                        "error_x": {
                          "color": "#2a3f5f"
                        },
                        "error_y": {
                          "color": "#2a3f5f"
                        },
                        "marker": {
                          "line": {
                            "color": "#E5ECF6",
                            "width": 0.5
                          },
                          "pattern": {
                            "fillmode": "overlay",
                            "size": 10,
                            "solidity": 0.2
                          }
                        },
                        "type": "bar"
                      }
                    ],
                    "barpolar": [
                      {
                        "marker": {
                          "line": {
                            "color": "#E5ECF6",
                            "width": 0.5
                          },
                          "pattern": {
                            "fillmode": "overlay",
                            "size": 10,
                            "solidity": 0.2
                          }
                        },
                        "type": "barpolar"
                      }
                    ],
                    "carpet": [
                      {
                        "aaxis": {
                          "endlinecolor": "#2a3f5f",
                          "gridcolor": "white",
                          "linecolor": "white",
                          "minorgridcolor": "white",
                          "startlinecolor": "#2a3f5f"
                        },
                        "baxis": {
                          "endlinecolor": "#2a3f5f",
                          "gridcolor": "white",
                          "linecolor": "white",
                          "minorgridcolor": "white",
                          "startlinecolor": "#2a3f5f"
                        },
                        "type": "carpet"
                      }
                    ],
                    "choropleth": [
                      {
                        "colorbar": {
                          "outlinewidth": 0,
                          "ticks": ""
                        },
                        "type": "choropleth"
                      }
                    ],
                    "contour": [
                      {
                        "colorbar": {
                          "outlinewidth": 0,
                          "ticks": ""
                        },
                        "colorscale": [
                          [
                            0,
                            "#0d0887"
                          ],
                          [
                            0.1111111111111111,
                            "#46039f"
                          ],
                          [
                            0.2222222222222222,
                            "#7201a8"
                          ],
                          [
                            0.3333333333333333,
                            "#9c179e"
                          ],
                          [
                            0.4444444444444444,
                            "#bd3786"
                          ],
                          [
                            0.5555555555555556,
                            "#d8576b"
                          ],
                          [
                            0.6666666666666666,
                            "#ed7953"
                          ],
                          [
                            0.7777777777777778,
                            "#fb9f3a"
                          ],
                          [
                            0.8888888888888888,
                            "#fdca26"
                          ],
                          [
                            1,
                            "#f0f921"
                          ]
                        ],
                        "type": "contour"
                      }
                    ],
                    "contourcarpet": [
                      {
                        "colorbar": {
                          "outlinewidth": 0,
                          "ticks": ""
                        },
                        "type": "contourcarpet"
                      }
                    ],
                    "heatmap": [
                      {
                        "colorbar": {
                          "outlinewidth": 0,
                          "ticks": ""
                        },
                        "colorscale": [
                          [
                            0,
                            "#0d0887"
                          ],
                          [
                            0.1111111111111111,
                            "#46039f"
                          ],
                          [
                            0.2222222222222222,
                            "#7201a8"
                          ],
                          [
                            0.3333333333333333,
                            "#9c179e"
                          ],
                          [
                            0.4444444444444444,
                            "#bd3786"
                          ],
                          [
                            0.5555555555555556,
                            "#d8576b"
                          ],
                          [
                            0.6666666666666666,
                            "#ed7953"
                          ],
                          [
                            0.7777777777777778,
                            "#fb9f3a"
                          ],
                          [
                            0.8888888888888888,
                            "#fdca26"
                          ],
                          [
                            1,
                            "#f0f921"
                          ]
                        ],
                        "type": "heatmap"
                      }
                    ],
                    "heatmapgl": [
                      {
                        "colorbar": {
                          "outlinewidth": 0,
                          "ticks": ""
                        },
                        "colorscale": [
                          [
                            0,
                            "#0d0887"
                          ],
                          [
                            0.1111111111111111,
                            "#46039f"
                          ],
                          [
                            0.2222222222222222,
                            "#7201a8"
                          ],
                          [
                            0.3333333333333333,
                            "#9c179e"
                          ],
                          [
                            0.4444444444444444,
                            "#bd3786"
                          ],
                          [
                            0.5555555555555556,
                            "#d8576b"
                          ],
                          [
                            0.6666666666666666,
                            "#ed7953"
                          ],
                          [
                            0.7777777777777778,
                            "#fb9f3a"
                          ],
                          [
                            0.8888888888888888,
                            "#fdca26"
                          ],
                          [
                            1,
                            "#f0f921"
                          ]
                        ],
                        "type": "heatmapgl"
                      }
                    ],
                    "histogram": [
                      {
                        "marker": {
                          "pattern": {
                            "fillmode": "overlay",
                            "size": 10,
                            "solidity": 0.2
                          }
                        },
                        "type": "histogram"
                      }
                    ],
                    "histogram2d": [
                      {
                        "colorbar": {
                          "outlinewidth": 0,
                          "ticks": ""
                        },
                        "colorscale": [
                          [
                            0,
                            "#0d0887"
                          ],
                          [
                            0.1111111111111111,
                            "#46039f"
                          ],
                          [
                            0.2222222222222222,
                            "#7201a8"
                          ],
                          [
                            0.3333333333333333,
                            "#9c179e"
                          ],
                          [
                            0.4444444444444444,
                            "#bd3786"
                          ],
                          [
                            0.5555555555555556,
                            "#d8576b"
                          ],
                          [
                            0.6666666666666666,
                            "#ed7953"
                          ],
                          [
                            0.7777777777777778,
                            "#fb9f3a"
                          ],
                          [
                            0.8888888888888888,
                            "#fdca26"
                          ],
                          [
                            1,
                            "#f0f921"
                          ]
                        ],
                        "type": "histogram2d"
                      }
                    ],
                    "histogram2dcontour": [
                      {
                        "colorbar": {
                          "outlinewidth": 0,
                          "ticks": ""
                        },
                        "colorscale": [
                          [
                            0,
                            "#0d0887"
                          ],
                          [
                            0.1111111111111111,
                            "#46039f"
                          ],
                          [
                            0.2222222222222222,
                            "#7201a8"
                          ],
                          [
                            0.3333333333333333,
                            "#9c179e"
                          ],
                          [
                            0.4444444444444444,
                            "#bd3786"
                          ],
                          [
                            0.5555555555555556,
                            "#d8576b"
                          ],
                          [
                            0.6666666666666666,
                            "#ed7953"
                          ],
                          [
                            0.7777777777777778,
                            "#fb9f3a"
                          ],
                          [
                            0.8888888888888888,
                            "#fdca26"
                          ],
                          [
                            1,
                            "#f0f921"
                          ]
                        ],
                        "type": "histogram2dcontour"
                      }
                    ],
                    "mesh3d": [
                      {
                        "colorbar": {
                          "outlinewidth": 0,
                          "ticks": ""
                        },
                        "type": "mesh3d"
                      }
                    ],
                    "parcoords": [
                      {
                        "line": {
                          "colorbar": {
                            "outlinewidth": 0,
                            "ticks": ""
                          }
                        },
                        "type": "parcoords"
                      }
                    ],
                    "pie": [
                      {
                        "automargin": true,
                        "type": "pie"
                      }
                    ],
                    "scatter": [
                      {
                        "fillpattern": {
                          "fillmode": "overlay",
                          "size": 10,
                          "solidity": 0.2
                        },
                        "type": "scatter"
                      }
                    ],
                    "scatter3d": [
                      {
                        "line": {
                          "colorbar": {
                            "outlinewidth": 0,
                            "ticks": ""
                          }
                        },
                        "marker": {
                          "colorbar": {
                            "outlinewidth": 0,
                            "ticks": ""
                          }
                        },
                        "type": "scatter3d"
                      }
                    ],
                    "scattercarpet": [
                      {
                        "marker": {
                          "colorbar": {
                            "outlinewidth": 0,
                            "ticks": ""
                          }
                        },
                        "type": "scattercarpet"
                      }
                    ],
                    "scattergeo": [
                      {
                        "marker": {
                          "colorbar": {
                            "outlinewidth": 0,
                            "ticks": ""
                          }
                        },
                        "type": "scattergeo"
                      }
                    ],
                    "scattergl": [
                      {
                        "marker": {
                          "colorbar": {
                            "outlinewidth": 0,
                            "ticks": ""
                          }
                        },
                        "type": "scattergl"
                      }
                    ],
                    "scattermapbox": [
                      {
                        "marker": {
                          "colorbar": {
                            "outlinewidth": 0,
                            "ticks": ""
                          }
                        },
                        "type": "scattermapbox"
                      }
                    ],
                    "scatterpolar": [
                      {
                        "marker": {
                          "colorbar": {
                            "outlinewidth": 0,
                            "ticks": ""
                          }
                        },
                        "type": "scatterpolar"
                      }
                    ],
                    "scatterpolargl": [
                      {
                        "marker": {
                          "colorbar": {
                            "outlinewidth": 0,
                            "ticks": ""
                          }
                        },
                        "type": "scatterpolargl"
                      }
                    ],
                    "scatterternary": [
                      {
                        "marker": {
                          "colorbar": {
                            "outlinewidth": 0,
                            "ticks": ""
                          }
                        },
                        "type": "scatterternary"
                      }
                    ],
                    "surface": [
                      {
                        "colorbar": {
                          "outlinewidth": 0,
                          "ticks": ""
                        },
                        "colorscale": [
                          [
                            0,
                            "#0d0887"
                          ],
                          [
                            0.1111111111111111,
                            "#46039f"
                          ],
                          [
                            0.2222222222222222,
                            "#7201a8"
                          ],
                          [
                            0.3333333333333333,
                            "#9c179e"
                          ],
                          [
                            0.4444444444444444,
                            "#bd3786"
                          ],
                          [
                            0.5555555555555556,
                            "#d8576b"
                          ],
                          [
                            0.6666666666666666,
                            "#ed7953"
                          ],
                          [
                            0.7777777777777778,
                            "#fb9f3a"
                          ],
                          [
                            0.8888888888888888,
                            "#fdca26"
                          ],
                          [
                            1,
                            "#f0f921"
                          ]
                        ],
                        "type": "surface"
                      }
                    ],
                    "table": [
                      {
                        "cells": {
                          "fill": {
                            "color": "#EBF0F8"
                          },
                          "line": {
                            "color": "white"
                          }
                        },
                        "header": {
                          "fill": {
                            "color": "#C8D4E3"
                          },
                          "line": {
                            "color": "white"
                          }
                        },
                        "type": "table"
                      }
                    ]
                  },
                  "layout": {
                    "annotationdefaults": {
                      "arrowcolor": "#2a3f5f",
                      "arrowhead": 0,
                      "arrowwidth": 1
                    },
                    "autotypenumbers": "strict",
                    "coloraxis": {
                      "colorbar": {
                        "outlinewidth": 0,
                        "ticks": ""
                      }
                    },
                    "colorscale": {
                      "diverging": [
                        [
                          0,
                          "#8e0152"
                        ],
                        [
                          0.1,
                          "#c51b7d"
                        ],
                        [
                          0.2,
                          "#de77ae"
                        ],
                        [
                          0.3,
                          "#f1b6da"
                        ],
                        [
                          0.4,
                          "#fde0ef"
                        ],
                        [
                          0.5,
                          "#f7f7f7"
                        ],
                        [
                          0.6,
                          "#e6f5d0"
                        ],
                        [
                          0.7,
                          "#b8e186"
                        ],
                        [
                          0.8,
                          "#7fbc41"
                        ],
                        [
                          0.9,
                          "#4d9221"
                        ],
                        [
                          1,
                          "#276419"
                        ]
                      ],
                      "sequential": [
                        [
                          0,
                          "#0d0887"
                        ],
                        [
                          0.1111111111111111,
                          "#46039f"
                        ],
                        [
                          0.2222222222222222,
                          "#7201a8"
                        ],
                        [
                          0.3333333333333333,
                          "#9c179e"
                        ],
                        [
                          0.4444444444444444,
                          "#bd3786"
                        ],
                        [
                          0.5555555555555556,
                          "#d8576b"
                        ],
                        [
                          0.6666666666666666,
                          "#ed7953"
                        ],
                        [
                          0.7777777777777778,
                          "#fb9f3a"
                        ],
                        [
                          0.8888888888888888,
                          "#fdca26"
                        ],
                        [
                          1,
                          "#f0f921"
                        ]
                      ],
                      "sequentialminus": [
                        [
                          0,
                          "#0d0887"
                        ],
                        [
                          0.1111111111111111,
                          "#46039f"
                        ],
                        [
                          0.2222222222222222,
                          "#7201a8"
                        ],
                        [
                          0.3333333333333333,
                          "#9c179e"
                        ],
                        [
                          0.4444444444444444,
                          "#bd3786"
                        ],
                        [
                          0.5555555555555556,
                          "#d8576b"
                        ],
                        [
                          0.6666666666666666,
                          "#ed7953"
                        ],
                        [
                          0.7777777777777778,
                          "#fb9f3a"
                        ],
                        [
                          0.8888888888888888,
                          "#fdca26"
                        ],
                        [
                          1,
                          "#f0f921"
                        ]
                      ]
                    },
                    "colorway": [
                      "#636efa",
                      "#EF553B",
                      "#00cc96",
                      "#ab63fa",
                      "#FFA15A",
                      "#19d3f3",
                      "#FF6692",
                      "#B6E880",
                      "#FF97FF",
                      "#FECB52"
                    ],
                    "font": {
                      "color": "#2a3f5f"
                    },
                    "geo": {
                      "bgcolor": "white",
                      "lakecolor": "white",
                      "landcolor": "#E5ECF6",
                      "showlakes": true,
                      "showland": true,
                      "subunitcolor": "white"
                    },
                    "hoverlabel": {
                      "align": "left"
                    },
                    "hovermode": "closest",
                    "mapbox": {
                      "style": "light"
                    },
                    "paper_bgcolor": "white",
                    "plot_bgcolor": "#E5ECF6",
                    "polar": {
                      "angularaxis": {
                        "gridcolor": "white",
                        "linecolor": "white",
                        "ticks": ""
                      },
                      "bgcolor": "#E5ECF6",
                      "radialaxis": {
                        "gridcolor": "white",
                        "linecolor": "white",
                        "ticks": ""
                      }
                    },
                    "scene": {
                      "xaxis": {
                        "backgroundcolor": "#E5ECF6",
                        "gridcolor": "white",
                        "gridwidth": 2,
                        "linecolor": "white",
                        "showbackground": true,
                        "ticks": "",
                        "zerolinecolor": "white"
                      },
                      "yaxis": {
                        "backgroundcolor": "#E5ECF6",
                        "gridcolor": "white",
                        "gridwidth": 2,
                        "linecolor": "white",
                        "showbackground": true,
                        "ticks": "",
                        "zerolinecolor": "white"
                      },
                      "zaxis": {
                        "backgroundcolor": "#E5ECF6",
                        "gridcolor": "white",
                        "gridwidth": 2,
                        "linecolor": "white",
                        "showbackground": true,
                        "ticks": "",
                        "zerolinecolor": "white"
                      }
                    },
                    "shapedefaults": {
                      "line": {
                        "color": "#2a3f5f"
                      }
                    },
                    "ternary": {
                      "aaxis": {
                        "gridcolor": "white",
                        "linecolor": "white",
                        "ticks": ""
                      },
                      "baxis": {
                        "gridcolor": "white",
                        "linecolor": "white",
                        "ticks": ""
                      },
                      "bgcolor": "#E5ECF6",
                      "caxis": {
                        "gridcolor": "white",
                        "linecolor": "white",
                        "ticks": ""
                      }
                    },
                    "title": {
                      "x": 0.05
                    },
                    "xaxis": {
                      "automargin": true,
                      "gridcolor": "white",
                      "linecolor": "white",
                      "ticks": "",
                      "title": {
                        "standoff": 15
                      },
                      "zerolinecolor": "white",
                      "zerolinewidth": 2
                    },
                    "yaxis": {
                      "automargin": true,
                      "gridcolor": "white",
                      "linecolor": "white",
                      "ticks": "",
                      "title": {
                        "standoff": 15
                      },
                      "zerolinecolor": "white",
                      "zerolinewidth": 2
                    }
                  }
                },
                "title": {
                  "text": "Buchanan 1996 Primary vs 2000 Votes"
                },
                "xaxis": {
                  "anchor": "y",
                  "domain": [
                    0,
                    1
                  ],
                  "title": {
                    "text": "Buchanan 1996 Primary Votes"
                  }
                },
                "yaxis": {
                  "anchor": "x",
                  "domain": [
                    0,
                    1
                  ],
                  "title": {
                    "text": "Buchanan 2000 Votes"
                  }
                }
              }
            }
          },
          "metadata": {},
          "output_type": "display_data"
        }
      ],
      "source": [
        "fig = px.scatter(df_2000, \n",
        "                 x=\"buchanan96p\", \n",
        "                 y=\"buchanan2000\", \n",
        "                 hover_name=\"county\",\n",
        "                 labels={\n",
        "                     \"buchanan96p\": \"Buchanan 1996 Primary Votes\",\n",
        "                     \"buchanan2000\": \"Buchanan 2000 Votes\"\n",
        "                 },\n",
        "                 title=\"Buchanan 1996 Primary vs 2000 Votes\",\n",
        "                 # add a trendline\n",
        "                 trendline=\"ols\")\n",
        "fig.show()"
      ]
    },
    {
      "cell_type": "markdown",
      "metadata": {},
      "source": [
        "**Looking at the graph above, we plotted the graph of votes for Buchanan in the 1996 Primary versus votes for Buchanan in the 2000 election. If we see the general trendline and compare the Palm Beach point, Palm Beach is a major outlier. Many more people voted for Buchanan in the 2000 election compared to the 1996 primary.**"
      ]
    },
    {
      "cell_type": "code",
      "execution_count": 8,
      "metadata": {},
      "outputs": [
        {
          "data": {
            "application/vnd.plotly.v1+json": {
              "config": {
                "plotlyServerURL": "https://plot.ly"
              },
              "data": [
                {
                  "hovertemplate": "<b>%{hovertext}</b><br><br>Total Voters in 2000=%{x}<br>Buchanan 2000 Votes=%{y}<extra></extra>",
                  "hovertext": [
                    "ALACHUA",
                    "BAKER",
                    "BAY",
                    "BRADFORD",
                    "BREVARD",
                    "BROWARD",
                    "CALHOUN",
                    "CHARLOTTE",
                    "CITRUS",
                    "CLAY",
                    "COLLIER",
                    "COLUMBIA",
                    "DADE",
                    "DE SOTO",
                    "DIXIE",
                    "DUVAL",
                    "ESCAMBIA",
                    "FLAGLER",
                    "FRANKLIN",
                    "GADSDEN",
                    "GILCHRIST",
                    "GLADES",
                    "GULF",
                    "HAMILTON",
                    "HARDEE",
                    "HENDRY",
                    "HERNANDO",
                    "HIGHLANDS",
                    "HILLSBOROUGH",
                    "HOLMES",
                    "INDIAN RIVER",
                    "JACKSON",
                    "JEFFERSON",
                    "LAFAYETTE",
                    "LAKE",
                    "LEE",
                    "LEON",
                    "LEVY",
                    "LIBERTY",
                    "MADISON",
                    "MANATEE",
                    "MARION",
                    "MARTIN",
                    "MONROE",
                    "NASSAU",
                    "OKALOOSA",
                    "OKEECHOBEE",
                    "ORANGE",
                    "OSCEOLA",
                    "PALM BEACH",
                    "PASCO",
                    "PINELLAS",
                    "POLK",
                    "PUTNAM",
                    "ST. JOHNS",
                    "ST. LUCIE",
                    "SANTA ROSA",
                    "SARASOTA",
                    "SEMINOLE",
                    "SUMTER",
                    "SUWANNEE",
                    "TAYLOR",
                    "UNION",
                    "VOLUSIA",
                    "WAKULLA",
                    "WALTON",
                    "WASHINGTON"
                  ],
                  "legendgroup": "",
                  "marker": {
                    "color": "#636efa",
                    "symbol": "circle"
                  },
                  "mode": "markers",
                  "name": "",
                  "orientation": "v",
                  "showlegend": false,
                  "type": "scatter",
                  "x": [
                    85235,
                    8072,
                    58486,
                    8597,
                    217616,
                    572108,
                    5077,
                    66648,
                    56817,
                    57141,
                    91916,
                    18396,
                    624272,
                    7758,
                    4630,
                    263468,
                    116013,
                    26994,
                    4592,
                    14478,
                    5359,
                    3328,
                    6042,
                    3921,
                    6197,
                    8096,
                    64907,
                    34808,
                    352000,
                    7248,
                    49469,
                    16184,
                    5609,
                    2489,
                    88180,
                    183826,
                    102740,
                    12639,
                    2358,
                    6121,
                    109849,
                    101954,
                    61663,
                    33794,
                    23674,
                    70264,
                    9798,
                    279364,
                    55434,
                    428098,
                    141935,
                    395180,
                    167503,
                    26023,
                    60403,
                    77797,
                    49897,
                    160451,
                    136672,
                    22120,
                    12333,
                    6761,
                    3767,
                    184924,
                    8525,
                    18146,
                    7904
                  ],
                  "xaxis": "x",
                  "y": [
                    262,
                    73,
                    248,
                    65,
                    570,
                    789,
                    90,
                    182,
                    270,
                    186,
                    122,
                    89,
                    561,
                    36,
                    29,
                    650,
                    504,
                    83,
                    33,
                    39,
                    29,
                    9,
                    71,
                    24,
                    30,
                    22,
                    242,
                    99,
                    836,
                    76,
                    105,
                    102,
                    29,
                    10,
                    289,
                    305,
                    282,
                    67,
                    39,
                    29,
                    272,
                    563,
                    108,
                    47,
                    90,
                    267,
                    43,
                    446,
                    145,
                    3407,
                    570,
                    1010,
                    538,
                    147,
                    229,
                    124,
                    311,
                    305,
                    194,
                    114,
                    108,
                    27,
                    26,
                    396,
                    46,
                    120,
                    88
                  ],
                  "yaxis": "y"
                }
              ],
              "layout": {
                "legend": {
                  "tracegroupgap": 0
                },
                "template": {
                  "data": {
                    "bar": [
                      {
                        "error_x": {
                          "color": "#2a3f5f"
                        },
                        "error_y": {
                          "color": "#2a3f5f"
                        },
                        "marker": {
                          "line": {
                            "color": "#E5ECF6",
                            "width": 0.5
                          },
                          "pattern": {
                            "fillmode": "overlay",
                            "size": 10,
                            "solidity": 0.2
                          }
                        },
                        "type": "bar"
                      }
                    ],
                    "barpolar": [
                      {
                        "marker": {
                          "line": {
                            "color": "#E5ECF6",
                            "width": 0.5
                          },
                          "pattern": {
                            "fillmode": "overlay",
                            "size": 10,
                            "solidity": 0.2
                          }
                        },
                        "type": "barpolar"
                      }
                    ],
                    "carpet": [
                      {
                        "aaxis": {
                          "endlinecolor": "#2a3f5f",
                          "gridcolor": "white",
                          "linecolor": "white",
                          "minorgridcolor": "white",
                          "startlinecolor": "#2a3f5f"
                        },
                        "baxis": {
                          "endlinecolor": "#2a3f5f",
                          "gridcolor": "white",
                          "linecolor": "white",
                          "minorgridcolor": "white",
                          "startlinecolor": "#2a3f5f"
                        },
                        "type": "carpet"
                      }
                    ],
                    "choropleth": [
                      {
                        "colorbar": {
                          "outlinewidth": 0,
                          "ticks": ""
                        },
                        "type": "choropleth"
                      }
                    ],
                    "contour": [
                      {
                        "colorbar": {
                          "outlinewidth": 0,
                          "ticks": ""
                        },
                        "colorscale": [
                          [
                            0,
                            "#0d0887"
                          ],
                          [
                            0.1111111111111111,
                            "#46039f"
                          ],
                          [
                            0.2222222222222222,
                            "#7201a8"
                          ],
                          [
                            0.3333333333333333,
                            "#9c179e"
                          ],
                          [
                            0.4444444444444444,
                            "#bd3786"
                          ],
                          [
                            0.5555555555555556,
                            "#d8576b"
                          ],
                          [
                            0.6666666666666666,
                            "#ed7953"
                          ],
                          [
                            0.7777777777777778,
                            "#fb9f3a"
                          ],
                          [
                            0.8888888888888888,
                            "#fdca26"
                          ],
                          [
                            1,
                            "#f0f921"
                          ]
                        ],
                        "type": "contour"
                      }
                    ],
                    "contourcarpet": [
                      {
                        "colorbar": {
                          "outlinewidth": 0,
                          "ticks": ""
                        },
                        "type": "contourcarpet"
                      }
                    ],
                    "heatmap": [
                      {
                        "colorbar": {
                          "outlinewidth": 0,
                          "ticks": ""
                        },
                        "colorscale": [
                          [
                            0,
                            "#0d0887"
                          ],
                          [
                            0.1111111111111111,
                            "#46039f"
                          ],
                          [
                            0.2222222222222222,
                            "#7201a8"
                          ],
                          [
                            0.3333333333333333,
                            "#9c179e"
                          ],
                          [
                            0.4444444444444444,
                            "#bd3786"
                          ],
                          [
                            0.5555555555555556,
                            "#d8576b"
                          ],
                          [
                            0.6666666666666666,
                            "#ed7953"
                          ],
                          [
                            0.7777777777777778,
                            "#fb9f3a"
                          ],
                          [
                            0.8888888888888888,
                            "#fdca26"
                          ],
                          [
                            1,
                            "#f0f921"
                          ]
                        ],
                        "type": "heatmap"
                      }
                    ],
                    "heatmapgl": [
                      {
                        "colorbar": {
                          "outlinewidth": 0,
                          "ticks": ""
                        },
                        "colorscale": [
                          [
                            0,
                            "#0d0887"
                          ],
                          [
                            0.1111111111111111,
                            "#46039f"
                          ],
                          [
                            0.2222222222222222,
                            "#7201a8"
                          ],
                          [
                            0.3333333333333333,
                            "#9c179e"
                          ],
                          [
                            0.4444444444444444,
                            "#bd3786"
                          ],
                          [
                            0.5555555555555556,
                            "#d8576b"
                          ],
                          [
                            0.6666666666666666,
                            "#ed7953"
                          ],
                          [
                            0.7777777777777778,
                            "#fb9f3a"
                          ],
                          [
                            0.8888888888888888,
                            "#fdca26"
                          ],
                          [
                            1,
                            "#f0f921"
                          ]
                        ],
                        "type": "heatmapgl"
                      }
                    ],
                    "histogram": [
                      {
                        "marker": {
                          "pattern": {
                            "fillmode": "overlay",
                            "size": 10,
                            "solidity": 0.2
                          }
                        },
                        "type": "histogram"
                      }
                    ],
                    "histogram2d": [
                      {
                        "colorbar": {
                          "outlinewidth": 0,
                          "ticks": ""
                        },
                        "colorscale": [
                          [
                            0,
                            "#0d0887"
                          ],
                          [
                            0.1111111111111111,
                            "#46039f"
                          ],
                          [
                            0.2222222222222222,
                            "#7201a8"
                          ],
                          [
                            0.3333333333333333,
                            "#9c179e"
                          ],
                          [
                            0.4444444444444444,
                            "#bd3786"
                          ],
                          [
                            0.5555555555555556,
                            "#d8576b"
                          ],
                          [
                            0.6666666666666666,
                            "#ed7953"
                          ],
                          [
                            0.7777777777777778,
                            "#fb9f3a"
                          ],
                          [
                            0.8888888888888888,
                            "#fdca26"
                          ],
                          [
                            1,
                            "#f0f921"
                          ]
                        ],
                        "type": "histogram2d"
                      }
                    ],
                    "histogram2dcontour": [
                      {
                        "colorbar": {
                          "outlinewidth": 0,
                          "ticks": ""
                        },
                        "colorscale": [
                          [
                            0,
                            "#0d0887"
                          ],
                          [
                            0.1111111111111111,
                            "#46039f"
                          ],
                          [
                            0.2222222222222222,
                            "#7201a8"
                          ],
                          [
                            0.3333333333333333,
                            "#9c179e"
                          ],
                          [
                            0.4444444444444444,
                            "#bd3786"
                          ],
                          [
                            0.5555555555555556,
                            "#d8576b"
                          ],
                          [
                            0.6666666666666666,
                            "#ed7953"
                          ],
                          [
                            0.7777777777777778,
                            "#fb9f3a"
                          ],
                          [
                            0.8888888888888888,
                            "#fdca26"
                          ],
                          [
                            1,
                            "#f0f921"
                          ]
                        ],
                        "type": "histogram2dcontour"
                      }
                    ],
                    "mesh3d": [
                      {
                        "colorbar": {
                          "outlinewidth": 0,
                          "ticks": ""
                        },
                        "type": "mesh3d"
                      }
                    ],
                    "parcoords": [
                      {
                        "line": {
                          "colorbar": {
                            "outlinewidth": 0,
                            "ticks": ""
                          }
                        },
                        "type": "parcoords"
                      }
                    ],
                    "pie": [
                      {
                        "automargin": true,
                        "type": "pie"
                      }
                    ],
                    "scatter": [
                      {
                        "fillpattern": {
                          "fillmode": "overlay",
                          "size": 10,
                          "solidity": 0.2
                        },
                        "type": "scatter"
                      }
                    ],
                    "scatter3d": [
                      {
                        "line": {
                          "colorbar": {
                            "outlinewidth": 0,
                            "ticks": ""
                          }
                        },
                        "marker": {
                          "colorbar": {
                            "outlinewidth": 0,
                            "ticks": ""
                          }
                        },
                        "type": "scatter3d"
                      }
                    ],
                    "scattercarpet": [
                      {
                        "marker": {
                          "colorbar": {
                            "outlinewidth": 0,
                            "ticks": ""
                          }
                        },
                        "type": "scattercarpet"
                      }
                    ],
                    "scattergeo": [
                      {
                        "marker": {
                          "colorbar": {
                            "outlinewidth": 0,
                            "ticks": ""
                          }
                        },
                        "type": "scattergeo"
                      }
                    ],
                    "scattergl": [
                      {
                        "marker": {
                          "colorbar": {
                            "outlinewidth": 0,
                            "ticks": ""
                          }
                        },
                        "type": "scattergl"
                      }
                    ],
                    "scattermapbox": [
                      {
                        "marker": {
                          "colorbar": {
                            "outlinewidth": 0,
                            "ticks": ""
                          }
                        },
                        "type": "scattermapbox"
                      }
                    ],
                    "scatterpolar": [
                      {
                        "marker": {
                          "colorbar": {
                            "outlinewidth": 0,
                            "ticks": ""
                          }
                        },
                        "type": "scatterpolar"
                      }
                    ],
                    "scatterpolargl": [
                      {
                        "marker": {
                          "colorbar": {
                            "outlinewidth": 0,
                            "ticks": ""
                          }
                        },
                        "type": "scatterpolargl"
                      }
                    ],
                    "scatterternary": [
                      {
                        "marker": {
                          "colorbar": {
                            "outlinewidth": 0,
                            "ticks": ""
                          }
                        },
                        "type": "scatterternary"
                      }
                    ],
                    "surface": [
                      {
                        "colorbar": {
                          "outlinewidth": 0,
                          "ticks": ""
                        },
                        "colorscale": [
                          [
                            0,
                            "#0d0887"
                          ],
                          [
                            0.1111111111111111,
                            "#46039f"
                          ],
                          [
                            0.2222222222222222,
                            "#7201a8"
                          ],
                          [
                            0.3333333333333333,
                            "#9c179e"
                          ],
                          [
                            0.4444444444444444,
                            "#bd3786"
                          ],
                          [
                            0.5555555555555556,
                            "#d8576b"
                          ],
                          [
                            0.6666666666666666,
                            "#ed7953"
                          ],
                          [
                            0.7777777777777778,
                            "#fb9f3a"
                          ],
                          [
                            0.8888888888888888,
                            "#fdca26"
                          ],
                          [
                            1,
                            "#f0f921"
                          ]
                        ],
                        "type": "surface"
                      }
                    ],
                    "table": [
                      {
                        "cells": {
                          "fill": {
                            "color": "#EBF0F8"
                          },
                          "line": {
                            "color": "white"
                          }
                        },
                        "header": {
                          "fill": {
                            "color": "#C8D4E3"
                          },
                          "line": {
                            "color": "white"
                          }
                        },
                        "type": "table"
                      }
                    ]
                  },
                  "layout": {
                    "annotationdefaults": {
                      "arrowcolor": "#2a3f5f",
                      "arrowhead": 0,
                      "arrowwidth": 1
                    },
                    "autotypenumbers": "strict",
                    "coloraxis": {
                      "colorbar": {
                        "outlinewidth": 0,
                        "ticks": ""
                      }
                    },
                    "colorscale": {
                      "diverging": [
                        [
                          0,
                          "#8e0152"
                        ],
                        [
                          0.1,
                          "#c51b7d"
                        ],
                        [
                          0.2,
                          "#de77ae"
                        ],
                        [
                          0.3,
                          "#f1b6da"
                        ],
                        [
                          0.4,
                          "#fde0ef"
                        ],
                        [
                          0.5,
                          "#f7f7f7"
                        ],
                        [
                          0.6,
                          "#e6f5d0"
                        ],
                        [
                          0.7,
                          "#b8e186"
                        ],
                        [
                          0.8,
                          "#7fbc41"
                        ],
                        [
                          0.9,
                          "#4d9221"
                        ],
                        [
                          1,
                          "#276419"
                        ]
                      ],
                      "sequential": [
                        [
                          0,
                          "#0d0887"
                        ],
                        [
                          0.1111111111111111,
                          "#46039f"
                        ],
                        [
                          0.2222222222222222,
                          "#7201a8"
                        ],
                        [
                          0.3333333333333333,
                          "#9c179e"
                        ],
                        [
                          0.4444444444444444,
                          "#bd3786"
                        ],
                        [
                          0.5555555555555556,
                          "#d8576b"
                        ],
                        [
                          0.6666666666666666,
                          "#ed7953"
                        ],
                        [
                          0.7777777777777778,
                          "#fb9f3a"
                        ],
                        [
                          0.8888888888888888,
                          "#fdca26"
                        ],
                        [
                          1,
                          "#f0f921"
                        ]
                      ],
                      "sequentialminus": [
                        [
                          0,
                          "#0d0887"
                        ],
                        [
                          0.1111111111111111,
                          "#46039f"
                        ],
                        [
                          0.2222222222222222,
                          "#7201a8"
                        ],
                        [
                          0.3333333333333333,
                          "#9c179e"
                        ],
                        [
                          0.4444444444444444,
                          "#bd3786"
                        ],
                        [
                          0.5555555555555556,
                          "#d8576b"
                        ],
                        [
                          0.6666666666666666,
                          "#ed7953"
                        ],
                        [
                          0.7777777777777778,
                          "#fb9f3a"
                        ],
                        [
                          0.8888888888888888,
                          "#fdca26"
                        ],
                        [
                          1,
                          "#f0f921"
                        ]
                      ]
                    },
                    "colorway": [
                      "#636efa",
                      "#EF553B",
                      "#00cc96",
                      "#ab63fa",
                      "#FFA15A",
                      "#19d3f3",
                      "#FF6692",
                      "#B6E880",
                      "#FF97FF",
                      "#FECB52"
                    ],
                    "font": {
                      "color": "#2a3f5f"
                    },
                    "geo": {
                      "bgcolor": "white",
                      "lakecolor": "white",
                      "landcolor": "#E5ECF6",
                      "showlakes": true,
                      "showland": true,
                      "subunitcolor": "white"
                    },
                    "hoverlabel": {
                      "align": "left"
                    },
                    "hovermode": "closest",
                    "mapbox": {
                      "style": "light"
                    },
                    "paper_bgcolor": "white",
                    "plot_bgcolor": "#E5ECF6",
                    "polar": {
                      "angularaxis": {
                        "gridcolor": "white",
                        "linecolor": "white",
                        "ticks": ""
                      },
                      "bgcolor": "#E5ECF6",
                      "radialaxis": {
                        "gridcolor": "white",
                        "linecolor": "white",
                        "ticks": ""
                      }
                    },
                    "scene": {
                      "xaxis": {
                        "backgroundcolor": "#E5ECF6",
                        "gridcolor": "white",
                        "gridwidth": 2,
                        "linecolor": "white",
                        "showbackground": true,
                        "ticks": "",
                        "zerolinecolor": "white"
                      },
                      "yaxis": {
                        "backgroundcolor": "#E5ECF6",
                        "gridcolor": "white",
                        "gridwidth": 2,
                        "linecolor": "white",
                        "showbackground": true,
                        "ticks": "",
                        "zerolinecolor": "white"
                      },
                      "zaxis": {
                        "backgroundcolor": "#E5ECF6",
                        "gridcolor": "white",
                        "gridwidth": 2,
                        "linecolor": "white",
                        "showbackground": true,
                        "ticks": "",
                        "zerolinecolor": "white"
                      }
                    },
                    "shapedefaults": {
                      "line": {
                        "color": "#2a3f5f"
                      }
                    },
                    "ternary": {
                      "aaxis": {
                        "gridcolor": "white",
                        "linecolor": "white",
                        "ticks": ""
                      },
                      "baxis": {
                        "gridcolor": "white",
                        "linecolor": "white",
                        "ticks": ""
                      },
                      "bgcolor": "#E5ECF6",
                      "caxis": {
                        "gridcolor": "white",
                        "linecolor": "white",
                        "ticks": ""
                      }
                    },
                    "title": {
                      "x": 0.05
                    },
                    "xaxis": {
                      "automargin": true,
                      "gridcolor": "white",
                      "linecolor": "white",
                      "ticks": "",
                      "title": {
                        "standoff": 15
                      },
                      "zerolinecolor": "white",
                      "zerolinewidth": 2
                    },
                    "yaxis": {
                      "automargin": true,
                      "gridcolor": "white",
                      "linecolor": "white",
                      "ticks": "",
                      "title": {
                        "standoff": 15
                      },
                      "zerolinecolor": "white",
                      "zerolinewidth": 2
                    }
                  }
                },
                "title": {
                  "text": "Total Registered Voters vs Buchanan 2000 Votes"
                },
                "xaxis": {
                  "anchor": "y",
                  "domain": [
                    0,
                    1
                  ],
                  "title": {
                    "text": "Total Voters in 2000"
                  }
                },
                "yaxis": {
                  "anchor": "x",
                  "domain": [
                    0,
                    1
                  ],
                  "title": {
                    "text": "Buchanan 2000 Votes"
                  }
                }
              }
            }
          },
          "metadata": {},
          "output_type": "display_data"
        }
      ],
      "source": [
        "fig2 = px.scatter(df_2000,\n",
        "                  x=\"total2000\",\n",
        "                  y=\"buchanan2000\",\n",
        "                  hover_name=\"county\",\n",
        "                  labels={\n",
        "                      \"total2000\": \"Total Voters in 2000\",\n",
        "                      \"buchanan2000\": \"Buchanan 2000 Votes\"\n",
        "                  },\n",
        "                  title=\"Total Registered Voters vs Buchanan 2000 Votes\",)\n",
        "\n",
        "fig2.show()"
      ]
    },
    {
      "cell_type": "markdown",
      "metadata": {},
      "source": [
        "**This graph/visualization shows a similar story as the previous graph, however, this graph compares the votes for Buchanan against the total votes in the 2000 election. Looking at this graph, we can see that Palm Beach is an outlier again. The number of people who voted for Buchanan is well above the general trendline for how many votes Buchanan should be getting compared to the total 2000 election votes.**"
      ]
    },
    {
      "cell_type": "code",
      "execution_count": 9,
      "metadata": {},
      "outputs": [
        {
          "data": {
            "application/vnd.plotly.v1+json": {
              "config": {
                "plotlyServerURL": "https://plot.ly"
              },
              "data": [
                {
                  "hovertemplate": "<b>%{hovertext}</b><br><br>Total Voters in 2000=%{x}<br>Gore 2000 Votes=%{y}<extra></extra>",
                  "hovertext": [
                    "ALACHUA",
                    "BAKER",
                    "BAY",
                    "BRADFORD",
                    "BREVARD",
                    "BROWARD",
                    "CALHOUN",
                    "CHARLOTTE",
                    "CITRUS",
                    "CLAY",
                    "COLLIER",
                    "COLUMBIA",
                    "DADE",
                    "DE SOTO",
                    "DIXIE",
                    "DUVAL",
                    "ESCAMBIA",
                    "FLAGLER",
                    "FRANKLIN",
                    "GADSDEN",
                    "GILCHRIST",
                    "GLADES",
                    "GULF",
                    "HAMILTON",
                    "HARDEE",
                    "HENDRY",
                    "HERNANDO",
                    "HIGHLANDS",
                    "HILLSBOROUGH",
                    "HOLMES",
                    "INDIAN RIVER",
                    "JACKSON",
                    "JEFFERSON",
                    "LAFAYETTE",
                    "LAKE",
                    "LEE",
                    "LEON",
                    "LEVY",
                    "LIBERTY",
                    "MADISON",
                    "MANATEE",
                    "MARION",
                    "MARTIN",
                    "MONROE",
                    "NASSAU",
                    "OKALOOSA",
                    "OKEECHOBEE",
                    "ORANGE",
                    "OSCEOLA",
                    "PALM BEACH",
                    "PASCO",
                    "PINELLAS",
                    "POLK",
                    "PUTNAM",
                    "ST. JOHNS",
                    "ST. LUCIE",
                    "SANTA ROSA",
                    "SARASOTA",
                    "SEMINOLE",
                    "SUMTER",
                    "SUWANNEE",
                    "TAYLOR",
                    "UNION",
                    "VOLUSIA",
                    "WAKULLA",
                    "WALTON",
                    "WASHINGTON"
                  ],
                  "legendgroup": "",
                  "marker": {
                    "color": "#636efa",
                    "symbol": "circle"
                  },
                  "mode": "markers",
                  "name": "",
                  "orientation": "v",
                  "showlegend": false,
                  "type": "scatter",
                  "x": [
                    85235,
                    8072,
                    58486,
                    8597,
                    217616,
                    572108,
                    5077,
                    66648,
                    56817,
                    57141,
                    91916,
                    18396,
                    624272,
                    7758,
                    4630,
                    263468,
                    116013,
                    26994,
                    4592,
                    14478,
                    5359,
                    3328,
                    6042,
                    3921,
                    6197,
                    8096,
                    64907,
                    34808,
                    352000,
                    7248,
                    49469,
                    16184,
                    5609,
                    2489,
                    88180,
                    183826,
                    102740,
                    12639,
                    2358,
                    6121,
                    109849,
                    101954,
                    61663,
                    33794,
                    23674,
                    70264,
                    9798,
                    279364,
                    55434,
                    428098,
                    141935,
                    395180,
                    167503,
                    26023,
                    60403,
                    77797,
                    49897,
                    160451,
                    136672,
                    22120,
                    12333,
                    6761,
                    3767,
                    184924,
                    8525,
                    18146,
                    7904
                  ],
                  "xaxis": "x",
                  "y": [
                    47300,
                    2392,
                    18850,
                    3072,
                    97318,
                    386518,
                    2155,
                    29641,
                    25501,
                    14630,
                    29905,
                    7047,
                    328702,
                    3322,
                    1825,
                    107680,
                    40958,
                    13891,
                    2042,
                    9565,
                    1910,
                    1420,
                    2389,
                    1718,
                    2341,
                    3239,
                    32644,
                    14152,
                    166581,
                    2154,
                    19769,
                    6868,
                    3038,
                    788,
                    36555,
                    73560,
                    61425,
                    5403,
                    1011,
                    3011,
                    49169,
                    44648,
                    26619,
                    16483,
                    6952,
                    16924,
                    4588,
                    140115,
                    28177,
                    268945,
                    69550,
                    199660,
                    74977,
                    12091,
                    19482,
                    41559,
                    12795,
                    72854,
                    58888,
                    9634,
                    4084,
                    2647,
                    1399,
                    97063,
                    3835,
                    5637,
                    2796
                  ],
                  "yaxis": "y"
                },
                {
                  "hovertemplate": "<b>OLS trendline</b><br>gore2000 = 0.561287 * total2000 + -6287.15<br>R<sup>2</sup>=0.966713<br><br>Total Voters in 2000=%{x}<br>Gore 2000 Votes=%{y} <b>(trend)</b><extra></extra>",
                  "legendgroup": "",
                  "marker": {
                    "color": "#636efa",
                    "symbol": "circle"
                  },
                  "mode": "lines",
                  "name": "",
                  "showlegend": false,
                  "type": "scatter",
                  "x": [
                    2358,
                    2489,
                    3328,
                    3767,
                    3921,
                    4592,
                    4630,
                    5077,
                    5359,
                    5609,
                    6042,
                    6121,
                    6197,
                    6761,
                    7248,
                    7758,
                    7904,
                    8072,
                    8096,
                    8525,
                    8597,
                    9798,
                    12333,
                    12639,
                    14478,
                    16184,
                    18146,
                    18396,
                    22120,
                    23674,
                    26023,
                    26994,
                    33794,
                    34808,
                    49469,
                    49897,
                    55434,
                    56817,
                    57141,
                    58486,
                    60403,
                    61663,
                    64907,
                    66648,
                    70264,
                    77797,
                    85235,
                    88180,
                    91916,
                    101954,
                    102740,
                    109849,
                    116013,
                    136672,
                    141935,
                    160451,
                    167503,
                    183826,
                    184924,
                    217616,
                    263468,
                    279364,
                    352000,
                    395180,
                    428098,
                    572108,
                    624272
                  ],
                  "xaxis": "x",
                  "y": [
                    -4963.639856351094,
                    -4890.11130472467,
                    -4419.191802323375,
                    -4172.786961376809,
                    -4086.3488167167384,
                    -3709.7254721264294,
                    -3688.3965792882304,
                    -3437.50144511257,
                    -3279.218608786986,
                    -3138.89694537778,
                    -2895.859824353035,
                    -2851.518178715726,
                    -2808.8603930393274,
                    -2492.294720388159,
                    -2218.9481200670257,
                    -1932.6919267122457,
                    -1850.7440752812695,
                    -1756.447917470283,
                    -1742.977037782999,
                    -1502.1850633728018,
                    -1461.7724243109506,
                    -787.6671532931252,
                    635.1945136762229,
                    806.948229689091,
                    1839.1543857272097,
                    2796.709416831631,
                    3897.9538312670793,
                    4038.2754946762852,
                    6128.506992819816,
                    7000.74645257144,
                    8319.20880196434,
                    8864.218142645695,
                    12680.967387376097,
                    13250.112054163836,
                    21479.13568313331,
                    21719.36637088987,
                    24827.21057207696,
                    25603.47001405669,
                    25785.32688983502,
                    26540.257438976547,
                    27616.24395399834,
                    28323.465137580737,
                    30144.279041978592,
                    31121.479105960305,
                    33151.09164551106,
                    37379.264007357255,
                    41554.11413710794,
                    43207.10333206839,
                    45304.07027005556,
                    50938.265699262,
                    51379.43700902055,
                    55369.623829724726,
                    58829.39476274211,
                    70425.01574022525,
                    73379.06739831585,
                    83771.85107705528,
                    87730.04455850217,
                    96891.92660581603,
                    97508.21935150927,
                    115857.80263220432,
                    141593.91827475996,
                    150516.1309209709,
                    191285.74829453524,
                    215522.10599857327,
                    233998.54006299024,
                    314829.4310532292,
                    344108.3880535405
                  ],
                  "yaxis": "y"
                }
              ],
              "layout": {
                "legend": {
                  "tracegroupgap": 0
                },
                "template": {
                  "data": {
                    "bar": [
                      {
                        "error_x": {
                          "color": "#2a3f5f"
                        },
                        "error_y": {
                          "color": "#2a3f5f"
                        },
                        "marker": {
                          "line": {
                            "color": "#E5ECF6",
                            "width": 0.5
                          },
                          "pattern": {
                            "fillmode": "overlay",
                            "size": 10,
                            "solidity": 0.2
                          }
                        },
                        "type": "bar"
                      }
                    ],
                    "barpolar": [
                      {
                        "marker": {
                          "line": {
                            "color": "#E5ECF6",
                            "width": 0.5
                          },
                          "pattern": {
                            "fillmode": "overlay",
                            "size": 10,
                            "solidity": 0.2
                          }
                        },
                        "type": "barpolar"
                      }
                    ],
                    "carpet": [
                      {
                        "aaxis": {
                          "endlinecolor": "#2a3f5f",
                          "gridcolor": "white",
                          "linecolor": "white",
                          "minorgridcolor": "white",
                          "startlinecolor": "#2a3f5f"
                        },
                        "baxis": {
                          "endlinecolor": "#2a3f5f",
                          "gridcolor": "white",
                          "linecolor": "white",
                          "minorgridcolor": "white",
                          "startlinecolor": "#2a3f5f"
                        },
                        "type": "carpet"
                      }
                    ],
                    "choropleth": [
                      {
                        "colorbar": {
                          "outlinewidth": 0,
                          "ticks": ""
                        },
                        "type": "choropleth"
                      }
                    ],
                    "contour": [
                      {
                        "colorbar": {
                          "outlinewidth": 0,
                          "ticks": ""
                        },
                        "colorscale": [
                          [
                            0,
                            "#0d0887"
                          ],
                          [
                            0.1111111111111111,
                            "#46039f"
                          ],
                          [
                            0.2222222222222222,
                            "#7201a8"
                          ],
                          [
                            0.3333333333333333,
                            "#9c179e"
                          ],
                          [
                            0.4444444444444444,
                            "#bd3786"
                          ],
                          [
                            0.5555555555555556,
                            "#d8576b"
                          ],
                          [
                            0.6666666666666666,
                            "#ed7953"
                          ],
                          [
                            0.7777777777777778,
                            "#fb9f3a"
                          ],
                          [
                            0.8888888888888888,
                            "#fdca26"
                          ],
                          [
                            1,
                            "#f0f921"
                          ]
                        ],
                        "type": "contour"
                      }
                    ],
                    "contourcarpet": [
                      {
                        "colorbar": {
                          "outlinewidth": 0,
                          "ticks": ""
                        },
                        "type": "contourcarpet"
                      }
                    ],
                    "heatmap": [
                      {
                        "colorbar": {
                          "outlinewidth": 0,
                          "ticks": ""
                        },
                        "colorscale": [
                          [
                            0,
                            "#0d0887"
                          ],
                          [
                            0.1111111111111111,
                            "#46039f"
                          ],
                          [
                            0.2222222222222222,
                            "#7201a8"
                          ],
                          [
                            0.3333333333333333,
                            "#9c179e"
                          ],
                          [
                            0.4444444444444444,
                            "#bd3786"
                          ],
                          [
                            0.5555555555555556,
                            "#d8576b"
                          ],
                          [
                            0.6666666666666666,
                            "#ed7953"
                          ],
                          [
                            0.7777777777777778,
                            "#fb9f3a"
                          ],
                          [
                            0.8888888888888888,
                            "#fdca26"
                          ],
                          [
                            1,
                            "#f0f921"
                          ]
                        ],
                        "type": "heatmap"
                      }
                    ],
                    "heatmapgl": [
                      {
                        "colorbar": {
                          "outlinewidth": 0,
                          "ticks": ""
                        },
                        "colorscale": [
                          [
                            0,
                            "#0d0887"
                          ],
                          [
                            0.1111111111111111,
                            "#46039f"
                          ],
                          [
                            0.2222222222222222,
                            "#7201a8"
                          ],
                          [
                            0.3333333333333333,
                            "#9c179e"
                          ],
                          [
                            0.4444444444444444,
                            "#bd3786"
                          ],
                          [
                            0.5555555555555556,
                            "#d8576b"
                          ],
                          [
                            0.6666666666666666,
                            "#ed7953"
                          ],
                          [
                            0.7777777777777778,
                            "#fb9f3a"
                          ],
                          [
                            0.8888888888888888,
                            "#fdca26"
                          ],
                          [
                            1,
                            "#f0f921"
                          ]
                        ],
                        "type": "heatmapgl"
                      }
                    ],
                    "histogram": [
                      {
                        "marker": {
                          "pattern": {
                            "fillmode": "overlay",
                            "size": 10,
                            "solidity": 0.2
                          }
                        },
                        "type": "histogram"
                      }
                    ],
                    "histogram2d": [
                      {
                        "colorbar": {
                          "outlinewidth": 0,
                          "ticks": ""
                        },
                        "colorscale": [
                          [
                            0,
                            "#0d0887"
                          ],
                          [
                            0.1111111111111111,
                            "#46039f"
                          ],
                          [
                            0.2222222222222222,
                            "#7201a8"
                          ],
                          [
                            0.3333333333333333,
                            "#9c179e"
                          ],
                          [
                            0.4444444444444444,
                            "#bd3786"
                          ],
                          [
                            0.5555555555555556,
                            "#d8576b"
                          ],
                          [
                            0.6666666666666666,
                            "#ed7953"
                          ],
                          [
                            0.7777777777777778,
                            "#fb9f3a"
                          ],
                          [
                            0.8888888888888888,
                            "#fdca26"
                          ],
                          [
                            1,
                            "#f0f921"
                          ]
                        ],
                        "type": "histogram2d"
                      }
                    ],
                    "histogram2dcontour": [
                      {
                        "colorbar": {
                          "outlinewidth": 0,
                          "ticks": ""
                        },
                        "colorscale": [
                          [
                            0,
                            "#0d0887"
                          ],
                          [
                            0.1111111111111111,
                            "#46039f"
                          ],
                          [
                            0.2222222222222222,
                            "#7201a8"
                          ],
                          [
                            0.3333333333333333,
                            "#9c179e"
                          ],
                          [
                            0.4444444444444444,
                            "#bd3786"
                          ],
                          [
                            0.5555555555555556,
                            "#d8576b"
                          ],
                          [
                            0.6666666666666666,
                            "#ed7953"
                          ],
                          [
                            0.7777777777777778,
                            "#fb9f3a"
                          ],
                          [
                            0.8888888888888888,
                            "#fdca26"
                          ],
                          [
                            1,
                            "#f0f921"
                          ]
                        ],
                        "type": "histogram2dcontour"
                      }
                    ],
                    "mesh3d": [
                      {
                        "colorbar": {
                          "outlinewidth": 0,
                          "ticks": ""
                        },
                        "type": "mesh3d"
                      }
                    ],
                    "parcoords": [
                      {
                        "line": {
                          "colorbar": {
                            "outlinewidth": 0,
                            "ticks": ""
                          }
                        },
                        "type": "parcoords"
                      }
                    ],
                    "pie": [
                      {
                        "automargin": true,
                        "type": "pie"
                      }
                    ],
                    "scatter": [
                      {
                        "fillpattern": {
                          "fillmode": "overlay",
                          "size": 10,
                          "solidity": 0.2
                        },
                        "type": "scatter"
                      }
                    ],
                    "scatter3d": [
                      {
                        "line": {
                          "colorbar": {
                            "outlinewidth": 0,
                            "ticks": ""
                          }
                        },
                        "marker": {
                          "colorbar": {
                            "outlinewidth": 0,
                            "ticks": ""
                          }
                        },
                        "type": "scatter3d"
                      }
                    ],
                    "scattercarpet": [
                      {
                        "marker": {
                          "colorbar": {
                            "outlinewidth": 0,
                            "ticks": ""
                          }
                        },
                        "type": "scattercarpet"
                      }
                    ],
                    "scattergeo": [
                      {
                        "marker": {
                          "colorbar": {
                            "outlinewidth": 0,
                            "ticks": ""
                          }
                        },
                        "type": "scattergeo"
                      }
                    ],
                    "scattergl": [
                      {
                        "marker": {
                          "colorbar": {
                            "outlinewidth": 0,
                            "ticks": ""
                          }
                        },
                        "type": "scattergl"
                      }
                    ],
                    "scattermapbox": [
                      {
                        "marker": {
                          "colorbar": {
                            "outlinewidth": 0,
                            "ticks": ""
                          }
                        },
                        "type": "scattermapbox"
                      }
                    ],
                    "scatterpolar": [
                      {
                        "marker": {
                          "colorbar": {
                            "outlinewidth": 0,
                            "ticks": ""
                          }
                        },
                        "type": "scatterpolar"
                      }
                    ],
                    "scatterpolargl": [
                      {
                        "marker": {
                          "colorbar": {
                            "outlinewidth": 0,
                            "ticks": ""
                          }
                        },
                        "type": "scatterpolargl"
                      }
                    ],
                    "scatterternary": [
                      {
                        "marker": {
                          "colorbar": {
                            "outlinewidth": 0,
                            "ticks": ""
                          }
                        },
                        "type": "scatterternary"
                      }
                    ],
                    "surface": [
                      {
                        "colorbar": {
                          "outlinewidth": 0,
                          "ticks": ""
                        },
                        "colorscale": [
                          [
                            0,
                            "#0d0887"
                          ],
                          [
                            0.1111111111111111,
                            "#46039f"
                          ],
                          [
                            0.2222222222222222,
                            "#7201a8"
                          ],
                          [
                            0.3333333333333333,
                            "#9c179e"
                          ],
                          [
                            0.4444444444444444,
                            "#bd3786"
                          ],
                          [
                            0.5555555555555556,
                            "#d8576b"
                          ],
                          [
                            0.6666666666666666,
                            "#ed7953"
                          ],
                          [
                            0.7777777777777778,
                            "#fb9f3a"
                          ],
                          [
                            0.8888888888888888,
                            "#fdca26"
                          ],
                          [
                            1,
                            "#f0f921"
                          ]
                        ],
                        "type": "surface"
                      }
                    ],
                    "table": [
                      {
                        "cells": {
                          "fill": {
                            "color": "#EBF0F8"
                          },
                          "line": {
                            "color": "white"
                          }
                        },
                        "header": {
                          "fill": {
                            "color": "#C8D4E3"
                          },
                          "line": {
                            "color": "white"
                          }
                        },
                        "type": "table"
                      }
                    ]
                  },
                  "layout": {
                    "annotationdefaults": {
                      "arrowcolor": "#2a3f5f",
                      "arrowhead": 0,
                      "arrowwidth": 1
                    },
                    "autotypenumbers": "strict",
                    "coloraxis": {
                      "colorbar": {
                        "outlinewidth": 0,
                        "ticks": ""
                      }
                    },
                    "colorscale": {
                      "diverging": [
                        [
                          0,
                          "#8e0152"
                        ],
                        [
                          0.1,
                          "#c51b7d"
                        ],
                        [
                          0.2,
                          "#de77ae"
                        ],
                        [
                          0.3,
                          "#f1b6da"
                        ],
                        [
                          0.4,
                          "#fde0ef"
                        ],
                        [
                          0.5,
                          "#f7f7f7"
                        ],
                        [
                          0.6,
                          "#e6f5d0"
                        ],
                        [
                          0.7,
                          "#b8e186"
                        ],
                        [
                          0.8,
                          "#7fbc41"
                        ],
                        [
                          0.9,
                          "#4d9221"
                        ],
                        [
                          1,
                          "#276419"
                        ]
                      ],
                      "sequential": [
                        [
                          0,
                          "#0d0887"
                        ],
                        [
                          0.1111111111111111,
                          "#46039f"
                        ],
                        [
                          0.2222222222222222,
                          "#7201a8"
                        ],
                        [
                          0.3333333333333333,
                          "#9c179e"
                        ],
                        [
                          0.4444444444444444,
                          "#bd3786"
                        ],
                        [
                          0.5555555555555556,
                          "#d8576b"
                        ],
                        [
                          0.6666666666666666,
                          "#ed7953"
                        ],
                        [
                          0.7777777777777778,
                          "#fb9f3a"
                        ],
                        [
                          0.8888888888888888,
                          "#fdca26"
                        ],
                        [
                          1,
                          "#f0f921"
                        ]
                      ],
                      "sequentialminus": [
                        [
                          0,
                          "#0d0887"
                        ],
                        [
                          0.1111111111111111,
                          "#46039f"
                        ],
                        [
                          0.2222222222222222,
                          "#7201a8"
                        ],
                        [
                          0.3333333333333333,
                          "#9c179e"
                        ],
                        [
                          0.4444444444444444,
                          "#bd3786"
                        ],
                        [
                          0.5555555555555556,
                          "#d8576b"
                        ],
                        [
                          0.6666666666666666,
                          "#ed7953"
                        ],
                        [
                          0.7777777777777778,
                          "#fb9f3a"
                        ],
                        [
                          0.8888888888888888,
                          "#fdca26"
                        ],
                        [
                          1,
                          "#f0f921"
                        ]
                      ]
                    },
                    "colorway": [
                      "#636efa",
                      "#EF553B",
                      "#00cc96",
                      "#ab63fa",
                      "#FFA15A",
                      "#19d3f3",
                      "#FF6692",
                      "#B6E880",
                      "#FF97FF",
                      "#FECB52"
                    ],
                    "font": {
                      "color": "#2a3f5f"
                    },
                    "geo": {
                      "bgcolor": "white",
                      "lakecolor": "white",
                      "landcolor": "#E5ECF6",
                      "showlakes": true,
                      "showland": true,
                      "subunitcolor": "white"
                    },
                    "hoverlabel": {
                      "align": "left"
                    },
                    "hovermode": "closest",
                    "mapbox": {
                      "style": "light"
                    },
                    "paper_bgcolor": "white",
                    "plot_bgcolor": "#E5ECF6",
                    "polar": {
                      "angularaxis": {
                        "gridcolor": "white",
                        "linecolor": "white",
                        "ticks": ""
                      },
                      "bgcolor": "#E5ECF6",
                      "radialaxis": {
                        "gridcolor": "white",
                        "linecolor": "white",
                        "ticks": ""
                      }
                    },
                    "scene": {
                      "xaxis": {
                        "backgroundcolor": "#E5ECF6",
                        "gridcolor": "white",
                        "gridwidth": 2,
                        "linecolor": "white",
                        "showbackground": true,
                        "ticks": "",
                        "zerolinecolor": "white"
                      },
                      "yaxis": {
                        "backgroundcolor": "#E5ECF6",
                        "gridcolor": "white",
                        "gridwidth": 2,
                        "linecolor": "white",
                        "showbackground": true,
                        "ticks": "",
                        "zerolinecolor": "white"
                      },
                      "zaxis": {
                        "backgroundcolor": "#E5ECF6",
                        "gridcolor": "white",
                        "gridwidth": 2,
                        "linecolor": "white",
                        "showbackground": true,
                        "ticks": "",
                        "zerolinecolor": "white"
                      }
                    },
                    "shapedefaults": {
                      "line": {
                        "color": "#2a3f5f"
                      }
                    },
                    "ternary": {
                      "aaxis": {
                        "gridcolor": "white",
                        "linecolor": "white",
                        "ticks": ""
                      },
                      "baxis": {
                        "gridcolor": "white",
                        "linecolor": "white",
                        "ticks": ""
                      },
                      "bgcolor": "#E5ECF6",
                      "caxis": {
                        "gridcolor": "white",
                        "linecolor": "white",
                        "ticks": ""
                      }
                    },
                    "title": {
                      "x": 0.05
                    },
                    "xaxis": {
                      "automargin": true,
                      "gridcolor": "white",
                      "linecolor": "white",
                      "ticks": "",
                      "title": {
                        "standoff": 15
                      },
                      "zerolinecolor": "white",
                      "zerolinewidth": 2
                    },
                    "yaxis": {
                      "automargin": true,
                      "gridcolor": "white",
                      "linecolor": "white",
                      "ticks": "",
                      "title": {
                        "standoff": 15
                      },
                      "zerolinecolor": "white",
                      "zerolinewidth": 2
                    }
                  }
                },
                "title": {
                  "text": "Total Voters in 2000 vs Gore 2000 Votes"
                },
                "xaxis": {
                  "anchor": "y",
                  "domain": [
                    0,
                    1
                  ],
                  "title": {
                    "text": "Total Voters in 2000"
                  }
                },
                "yaxis": {
                  "anchor": "x",
                  "domain": [
                    0,
                    1
                  ],
                  "title": {
                    "text": "Gore 2000 Votes"
                  }
                }
              }
            }
          },
          "metadata": {},
          "output_type": "display_data"
        }
      ],
      "source": [
        "fig3 = px.scatter(df_2000,\n",
        "                  x=\"total2000\",\n",
        "                  y=\"gore2000\",\n",
        "                  hover_name=\"county\",\n",
        "                  labels={\n",
        "                      \"total2000\": \"Total Voters in 2000\",\n",
        "                      \"gore2000\": \"Gore 2000 Votes\"\n",
        "                  },\n",
        "                  title=\"Total Voters in 2000 vs Gore 2000 Votes\",\n",
        "                  trendline=\"ols\")\n",
        "\n",
        "fig3.show()"
      ]
    },
    {
      "cell_type": "markdown",
      "metadata": {
        "id": "SkJyrze5kTgm"
      },
      "source": [
        "**Previously, we checked the values regarding the votes for Buchanan, however, this visualization compares the votes that Gore got to check if Gore had less votes in Palm Beach. According to the graph, Gore did not have less votes than the general trend for votes. This is interesting because if Buchanan had significantly more votes than the trend, we would expect Gore to have less as they would balance out, however, that is not the case. So, maybe the votes that Buchanan got are not from Gore and someone else instead. Therefore, we can't fully conclude anything and probably have to get more information.**"
      ]
    },
    {
      "cell_type": "markdown",
      "metadata": {
        "id": "kCvVZOzbii62"
      },
      "source": [
        "## Part 2: Retrieval Practice and Learning\n",
        "\n",
        "What is the most effective way to learn a subject? Many students focus exclusively on the _encoding_ process---that is, how to get the knowledge into memory in the first place. For example, taking notes is an activity for encoding knowledge.\n",
        "\n",
        "_Retrieval_, on the other hand, is the process of reconstructing that knowledge from memory. [Karpicke and Blunt](http://science.sciencemag.org/content/331/6018/772) (2011) demonstrated that _retrieval_ is more effective for learning than activites designed to promote effective encoding. They conducted an experiment in which subjects had to learn about sea otters by reading a passage. Subjects were randomly assigned to one of two conditions: some were instructed to create a [concept map](https://en.wikipedia.org/wiki/Concept_map) as they read the passage, while others were instructed to practice retrieval (i.e., read the passage, recall as much as they could, read the text again, and recall again). The two main measurements they recorded were:\n",
        "\n",
        "1. each subject's score on a follow-up learning test one week later\n",
        "2. each subject's _prediction_ of how well they would do on that test\n",
        "\n",
        "In this lab, you will analyze data from a _replication_ of Karpicke and Blunt's experiment, conducted by Buttrick _et al_.\n",
        "- The data file is here: https://dlsun.github.io/pods/data/KarpickeBlunt2011Replication/data.csv.\n",
        "- The codebook (explaining what the variables mean) is here: https://dlsun.github.io/pods/data/KarpickeBlunt2011Replication/codebook.csv."
      ]
    },
    {
      "cell_type": "markdown",
      "metadata": {
        "id": "c5b_695GjLSz"
      },
      "source": [
        "**For all of the following parts, your code should be as short and simple as possible. Use `groupby` whenever possible.**"
      ]
    },
    {
      "cell_type": "markdown",
      "metadata": {
        "id": "p0aOp1-hjE0N"
      },
      "source": [
        "1\\. Which group felt like they learned more: the subjects who made concept maps or the ones who practiced retrieval? (Or are they about the same?) Make an appropriate visualization/summary and describe the results in context.\n",
        "\n",
        "_Hint:_ Use the variable \"PR.2\", which contains the participants' predictions of how well they would do on a test one week later."
      ]
    },
    {
      "cell_type": "code",
      "execution_count": 10,
      "metadata": {
        "id": "Bv_LSqYajFAA"
      },
      "outputs": [
        {
          "data": {
            "text/html": [
              "<div>\n",
              "<style scoped>\n",
              "    .dataframe tbody tr th:only-of-type {\n",
              "        vertical-align: middle;\n",
              "    }\n",
              "\n",
              "    .dataframe tbody tr th {\n",
              "        vertical-align: top;\n",
              "    }\n",
              "\n",
              "    .dataframe thead th {\n",
              "        text-align: right;\n",
              "    }\n",
              "</style>\n",
              "<table border=\"1\" class=\"dataframe\">\n",
              "  <thead>\n",
              "    <tr style=\"text-align: right;\">\n",
              "      <th></th>\n",
              "      <th>ID</th>\n",
              "      <th>Age</th>\n",
              "      <th>Gender</th>\n",
              "      <th>Date.P1</th>\n",
              "      <th>Date.P2</th>\n",
              "      <th>Condition</th>\n",
              "      <th>IC.1</th>\n",
              "      <th>IC.2</th>\n",
              "      <th>Comp.1</th>\n",
              "      <th>Comp.2</th>\n",
              "      <th>...</th>\n",
              "      <th>Scorer.2.2</th>\n",
              "      <th>R2CS.avg</th>\n",
              "      <th>TS.1</th>\n",
              "      <th>Scorer.1.3</th>\n",
              "      <th>TS.2</th>\n",
              "      <th>Scorer.2.3</th>\n",
              "      <th>TS.avg</th>\n",
              "      <th>Exc.1</th>\n",
              "      <th>Exc.2</th>\n",
              "      <th>Collection</th>\n",
              "    </tr>\n",
              "  </thead>\n",
              "  <tbody>\n",
              "    <tr>\n",
              "      <th>0</th>\n",
              "      <td>KB1</td>\n",
              "      <td>18</td>\n",
              "      <td>Female</td>\n",
              "      <td>11/21/16</td>\n",
              "      <td>11/28/16</td>\n",
              "      <td>Concept</td>\n",
              "      <td>1</td>\n",
              "      <td>1</td>\n",
              "      <td>1</td>\n",
              "      <td>1</td>\n",
              "      <td>...</td>\n",
              "      <td>NaN</td>\n",
              "      <td>NaN</td>\n",
              "      <td>0.36</td>\n",
              "      <td>NK</td>\n",
              "      <td>0.42</td>\n",
              "      <td>MS</td>\n",
              "      <td>0.39</td>\n",
              "      <td>0</td>\n",
              "      <td>0</td>\n",
              "      <td>1</td>\n",
              "    </tr>\n",
              "    <tr>\n",
              "      <th>1</th>\n",
              "      <td>KB2</td>\n",
              "      <td>18</td>\n",
              "      <td>Male</td>\n",
              "      <td>11/21/16</td>\n",
              "      <td>11/28/16</td>\n",
              "      <td>Concept</td>\n",
              "      <td>1</td>\n",
              "      <td>1</td>\n",
              "      <td>1</td>\n",
              "      <td>1</td>\n",
              "      <td>...</td>\n",
              "      <td>NaN</td>\n",
              "      <td>NaN</td>\n",
              "      <td>0.48</td>\n",
              "      <td>MS</td>\n",
              "      <td>0.36</td>\n",
              "      <td>NK</td>\n",
              "      <td>0.42</td>\n",
              "      <td>0</td>\n",
              "      <td>0</td>\n",
              "      <td>1</td>\n",
              "    </tr>\n",
              "    <tr>\n",
              "      <th>2</th>\n",
              "      <td>KB3</td>\n",
              "      <td>18</td>\n",
              "      <td>Male</td>\n",
              "      <td>11/21/16</td>\n",
              "      <td>11/28/16</td>\n",
              "      <td>Concept</td>\n",
              "      <td>1</td>\n",
              "      <td>1</td>\n",
              "      <td>1</td>\n",
              "      <td>1</td>\n",
              "      <td>...</td>\n",
              "      <td>NaN</td>\n",
              "      <td>NaN</td>\n",
              "      <td>0.08</td>\n",
              "      <td>NK</td>\n",
              "      <td>0.08</td>\n",
              "      <td>MS</td>\n",
              "      <td>0.08</td>\n",
              "      <td>0</td>\n",
              "      <td>0</td>\n",
              "      <td>1</td>\n",
              "    </tr>\n",
              "    <tr>\n",
              "      <th>3</th>\n",
              "      <td>KB4</td>\n",
              "      <td>19</td>\n",
              "      <td>Female</td>\n",
              "      <td>11/21/16</td>\n",
              "      <td>11/28/16</td>\n",
              "      <td>Concept</td>\n",
              "      <td>1</td>\n",
              "      <td>1</td>\n",
              "      <td>1</td>\n",
              "      <td>1</td>\n",
              "      <td>...</td>\n",
              "      <td>NaN</td>\n",
              "      <td>NaN</td>\n",
              "      <td>0.44</td>\n",
              "      <td>MS</td>\n",
              "      <td>0.42</td>\n",
              "      <td>NK</td>\n",
              "      <td>0.43</td>\n",
              "      <td>0</td>\n",
              "      <td>0</td>\n",
              "      <td>1</td>\n",
              "    </tr>\n",
              "    <tr>\n",
              "      <th>4</th>\n",
              "      <td>KB5</td>\n",
              "      <td>19</td>\n",
              "      <td>Female</td>\n",
              "      <td>11/22/16</td>\n",
              "      <td>11/29/16</td>\n",
              "      <td>Concept</td>\n",
              "      <td>1</td>\n",
              "      <td>1</td>\n",
              "      <td>1</td>\n",
              "      <td>1</td>\n",
              "      <td>...</td>\n",
              "      <td>NaN</td>\n",
              "      <td>NaN</td>\n",
              "      <td>0.26</td>\n",
              "      <td>NK</td>\n",
              "      <td>0.28</td>\n",
              "      <td>MS</td>\n",
              "      <td>0.27</td>\n",
              "      <td>0</td>\n",
              "      <td>0</td>\n",
              "      <td>1</td>\n",
              "    </tr>\n",
              "  </tbody>\n",
              "</table>\n",
              "<p>5 rows × 35 columns</p>\n",
              "</div>"
            ],
            "text/plain": [
              "    ID  Age  Gender   Date.P1   Date.P2 Condition  IC.1  IC.2  Comp.1  Comp.2   \n",
              "0  KB1   18  Female  11/21/16  11/28/16   Concept     1     1       1       1  \\\n",
              "1  KB2   18    Male  11/21/16  11/28/16   Concept     1     1       1       1   \n",
              "2  KB3   18    Male  11/21/16  11/28/16   Concept     1     1       1       1   \n",
              "3  KB4   19  Female  11/21/16  11/28/16   Concept     1     1       1       1   \n",
              "4  KB5   19  Female  11/22/16  11/29/16   Concept     1     1       1       1   \n",
              "\n",
              "   ...  Scorer.2.2  R2CS.avg  TS.1 Scorer.1.3  TS.2 Scorer.2.3  TS.avg  Exc.1   \n",
              "0  ...         NaN       NaN  0.36         NK  0.42         MS    0.39      0  \\\n",
              "1  ...         NaN       NaN  0.48         MS  0.36         NK    0.42      0   \n",
              "2  ...         NaN       NaN  0.08         NK  0.08         MS    0.08      0   \n",
              "3  ...         NaN       NaN  0.44         MS  0.42         NK    0.43      0   \n",
              "4  ...         NaN       NaN  0.26         NK  0.28         MS    0.27      0   \n",
              "\n",
              "  Exc.2  Collection  \n",
              "0     0           1  \n",
              "1     0           1  \n",
              "2     0           1  \n",
              "3     0           1  \n",
              "4     0           1  \n",
              "\n",
              "[5 rows x 35 columns]"
            ]
          },
          "execution_count": 10,
          "metadata": {},
          "output_type": "execute_result"
        }
      ],
      "source": [
        "# ENTER YOUR CODE HERE. ADD AS MANY CELLS AS YOU WANT.\n",
        "url = 'https://dlsun.github.io/pods/data/KarpickeBlunt2011Replication/data.csv'\n",
        "df_learning = pd.read_csv(url)\n",
        "\n",
        "df_learning.head()"
      ]
    },
    {
      "cell_type": "code",
      "execution_count": 11,
      "metadata": {},
      "outputs": [
        {
          "data": {
            "text/html": [
              "<div>\n",
              "<style scoped>\n",
              "    .dataframe tbody tr th:only-of-type {\n",
              "        vertical-align: middle;\n",
              "    }\n",
              "\n",
              "    .dataframe tbody tr th {\n",
              "        vertical-align: top;\n",
              "    }\n",
              "\n",
              "    .dataframe thead th {\n",
              "        text-align: right;\n",
              "    }\n",
              "</style>\n",
              "<table border=\"1\" class=\"dataframe\">\n",
              "  <thead>\n",
              "    <tr style=\"text-align: right;\">\n",
              "      <th></th>\n",
              "      <th>Name</th>\n",
              "      <th>Variable full label</th>\n",
              "      <th>Variable description</th>\n",
              "      <th>Valid range</th>\n",
              "      <th>Scoring</th>\n",
              "      <th>Value indicating missing data</th>\n",
              "      <th>Value indicating inapplicable data</th>\n",
              "      <th>Experiment file used</th>\n",
              "    </tr>\n",
              "  </thead>\n",
              "  <tbody>\n",
              "    <tr>\n",
              "      <th>0</th>\n",
              "      <td>ID</td>\n",
              "      <td>Participant ID</td>\n",
              "      <td>Participant's study number/identifier</td>\n",
              "      <td>KB1 - KB52</td>\n",
              "      <td>NaN</td>\n",
              "      <td>0</td>\n",
              "      <td>NaN</td>\n",
              "      <td>NaN</td>\n",
              "    </tr>\n",
              "    <tr>\n",
              "      <th>1</th>\n",
              "      <td>netID</td>\n",
              "      <td>UVA netID</td>\n",
              "      <td>Student's UVA netID identifier</td>\n",
              "      <td>NaN</td>\n",
              "      <td>NaN</td>\n",
              "      <td>0</td>\n",
              "      <td>NaN</td>\n",
              "      <td>NaN</td>\n",
              "    </tr>\n",
              "    <tr>\n",
              "      <th>2</th>\n",
              "      <td>Date.P1</td>\n",
              "      <td>Date part 1</td>\n",
              "      <td>Date of part 1 session</td>\n",
              "      <td>00/00/00</td>\n",
              "      <td>NaN</td>\n",
              "      <td>0</td>\n",
              "      <td>NaN</td>\n",
              "      <td>NaN</td>\n",
              "    </tr>\n",
              "    <tr>\n",
              "      <th>3</th>\n",
              "      <td>Date.P2</td>\n",
              "      <td>Date part 2</td>\n",
              "      <td>Date of part 2 session (1 week later)</td>\n",
              "      <td>00/00/00</td>\n",
              "      <td>NaN</td>\n",
              "      <td>0</td>\n",
              "      <td>NaN</td>\n",
              "      <td>NaN</td>\n",
              "    </tr>\n",
              "    <tr>\n",
              "      <th>4</th>\n",
              "      <td>Condition</td>\n",
              "      <td>Condition assigned</td>\n",
              "      <td>Participant's assigned study condition (block ...</td>\n",
              "      <td>Retrieval OR Concept</td>\n",
              "      <td>NaN</td>\n",
              "      <td>0</td>\n",
              "      <td>NaN</td>\n",
              "      <td>NaN</td>\n",
              "    </tr>\n",
              "    <tr>\n",
              "      <th>5</th>\n",
              "      <td>IC.1</td>\n",
              "      <td>Informed consent 1</td>\n",
              "      <td>Informed consent administered for part 1 session</td>\n",
              "      <td>0-1</td>\n",
              "      <td>NaN</td>\n",
              "      <td>0</td>\n",
              "      <td>NaN</td>\n",
              "      <td>\"Karpicke &amp; Blunt (2011) - informed consent (c...</td>\n",
              "    </tr>\n",
              "    <tr>\n",
              "      <th>6</th>\n",
              "      <td>IC.2</td>\n",
              "      <td>Informed consent 2</td>\n",
              "      <td>Informed consent administered for part 2 session</td>\n",
              "      <td>0-1</td>\n",
              "      <td>NaN</td>\n",
              "      <td>0</td>\n",
              "      <td>NaN</td>\n",
              "      <td>\"Karpicke &amp; Blunt (2011) - informed consent (c...</td>\n",
              "    </tr>\n",
              "    <tr>\n",
              "      <th>7</th>\n",
              "      <td>Comp.1</td>\n",
              "      <td>Compensation 1</td>\n",
              "      <td>Compensation (SONA credit) awarded for part 1 ...</td>\n",
              "      <td>0-1</td>\n",
              "      <td>NaN</td>\n",
              "      <td>0</td>\n",
              "      <td>NaN</td>\n",
              "      <td>0.5 SONA credit</td>\n",
              "    </tr>\n",
              "    <tr>\n",
              "      <th>8</th>\n",
              "      <td>Comp.2</td>\n",
              "      <td>Compensation 2</td>\n",
              "      <td>Compensation (SONA credit) awarded for part 2 ...</td>\n",
              "      <td>0-1</td>\n",
              "      <td>NaN</td>\n",
              "      <td>0</td>\n",
              "      <td>NaN</td>\n",
              "      <td>0.5 SONA credit</td>\n",
              "    </tr>\n",
              "    <tr>\n",
              "      <th>9</th>\n",
              "      <td>PR.1</td>\n",
              "      <td>Prediction response 1</td>\n",
              "      <td>Q1 response</td>\n",
              "      <td>0-1</td>\n",
              "      <td>(responses: 1 = yes, 0 = no)</td>\n",
              "      <td>0</td>\n",
              "      <td>NaN</td>\n",
              "      <td>\"Karpicke &amp; Blunt (2011) - Prediction question...</td>\n",
              "    </tr>\n",
              "    <tr>\n",
              "      <th>10</th>\n",
              "      <td>PR.2</td>\n",
              "      <td>Prediction response 2</td>\n",
              "      <td>Q2 response</td>\n",
              "      <td>0.0 - 1.0</td>\n",
              "      <td>NaN</td>\n",
              "      <td>0</td>\n",
              "      <td>NaN</td>\n",
              "      <td>\"Karpicke &amp; Blunt (2011) - Prediction question...</td>\n",
              "    </tr>\n",
              "    <tr>\n",
              "      <th>11</th>\n",
              "      <td>MCS.1</td>\n",
              "      <td>Map completion score 1</td>\n",
              "      <td>Concept map completion single score</td>\n",
              "      <td>0.0 - 1.0</td>\n",
              "      <td>(score = number of idea units mapped divided b...</td>\n",
              "      <td>0</td>\n",
              "      <td>NaN</td>\n",
              "      <td>\"Karpicke &amp; Blunt (2011) - Concept map templat...</td>\n",
              "    </tr>\n",
              "    <tr>\n",
              "      <th>12</th>\n",
              "      <td>Scorer.1</td>\n",
              "      <td>Scorer 1</td>\n",
              "      <td>First scorer for the concept map completion sc...</td>\n",
              "      <td>AA - ZZ</td>\n",
              "      <td>NaN</td>\n",
              "      <td>0</td>\n",
              "      <td>NaN</td>\n",
              "      <td>\"Karpicke &amp; Blunt (2011) - Original idea units...</td>\n",
              "    </tr>\n",
              "    <tr>\n",
              "      <th>13</th>\n",
              "      <td>MCS.2</td>\n",
              "      <td>Map completion score 2</td>\n",
              "      <td>Concept map completion double score</td>\n",
              "      <td>0.0 - 1.0</td>\n",
              "      <td>(score = number of idea units mapped divided b...</td>\n",
              "      <td>0</td>\n",
              "      <td>NaN</td>\n",
              "      <td>\"Karpicke &amp; Blunt (2011) - Concept map templat...</td>\n",
              "    </tr>\n",
              "    <tr>\n",
              "      <th>14</th>\n",
              "      <td>Scorer.2</td>\n",
              "      <td>Scorer 2</td>\n",
              "      <td>Second scorer for the concept map completion s...</td>\n",
              "      <td>AA - ZZ</td>\n",
              "      <td>NaN</td>\n",
              "      <td>0</td>\n",
              "      <td>NaN</td>\n",
              "      <td>\"Karpicke &amp; Blunt (2011) - Original idea units...</td>\n",
              "    </tr>\n",
              "    <tr>\n",
              "      <th>15</th>\n",
              "      <td>MCS.avg</td>\n",
              "      <td>Map completion score average</td>\n",
              "      <td>Average of the first and second scorers' conce...</td>\n",
              "      <td>0.0 - 1.0</td>\n",
              "      <td>(score = (MCS.1 + MCS.2)/2)</td>\n",
              "      <td>0</td>\n",
              "      <td>NaN</td>\n",
              "      <td>NaN</td>\n",
              "    </tr>\n",
              "    <tr>\n",
              "      <th>16</th>\n",
              "      <td>R1CS.1</td>\n",
              "      <td>Retrieval #1 completion score 1</td>\n",
              "      <td>Retrieval practice #1 completion single score</td>\n",
              "      <td>0.0 - 1.0</td>\n",
              "      <td>(score = number of idea units listed divided b...</td>\n",
              "      <td>0</td>\n",
              "      <td>NaN</td>\n",
              "      <td>\"Karpicke &amp; Blunt (2011) - Retrieval practice ...</td>\n",
              "    </tr>\n",
              "    <tr>\n",
              "      <th>17</th>\n",
              "      <td>Scorer.1</td>\n",
              "      <td>Scorer 1</td>\n",
              "      <td>First scorer for the retrieval practice #1 com...</td>\n",
              "      <td>AA - ZZ</td>\n",
              "      <td>NaN</td>\n",
              "      <td>0</td>\n",
              "      <td>NaN</td>\n",
              "      <td>\"Karpicke &amp; Blunt (2011) - Original idea units...</td>\n",
              "    </tr>\n",
              "    <tr>\n",
              "      <th>18</th>\n",
              "      <td>R1CS.2</td>\n",
              "      <td>Retrieval #1 completion score 2</td>\n",
              "      <td>Retrieval practice #1 completion double score</td>\n",
              "      <td>0.0 - 1.0</td>\n",
              "      <td>(score = number of idea units listed divided b...</td>\n",
              "      <td>0</td>\n",
              "      <td>NaN</td>\n",
              "      <td>\"Karpicke &amp; Blunt (2011) - Retrieval practice ...</td>\n",
              "    </tr>\n",
              "    <tr>\n",
              "      <th>19</th>\n",
              "      <td>Scorer.2</td>\n",
              "      <td>Scorer 2</td>\n",
              "      <td>Second scorer for the retrieval practice #1 co...</td>\n",
              "      <td>AA - ZZ</td>\n",
              "      <td>NaN</td>\n",
              "      <td>0</td>\n",
              "      <td>NaN</td>\n",
              "      <td>\"Karpicke &amp; Blunt (2011) - Original idea units...</td>\n",
              "    </tr>\n",
              "    <tr>\n",
              "      <th>20</th>\n",
              "      <td>R1CS.avg</td>\n",
              "      <td>Retrieval #1 average completion score</td>\n",
              "      <td>Average of the first and second scorers' retri...</td>\n",
              "      <td>0.0 - 1.0</td>\n",
              "      <td>(score = (R1CS.1 + R1CS.2)/2)</td>\n",
              "      <td>0</td>\n",
              "      <td>NaN</td>\n",
              "      <td>NaN</td>\n",
              "    </tr>\n",
              "    <tr>\n",
              "      <th>21</th>\n",
              "      <td>R2CS.1</td>\n",
              "      <td>Retrieval #2 completion score 1</td>\n",
              "      <td>Retrieval practice #2 completion single score ...</td>\n",
              "      <td>0.0 - 1.0</td>\n",
              "      <td>(score = number of idea units listed divided b...</td>\n",
              "      <td>0</td>\n",
              "      <td>NaN</td>\n",
              "      <td>\"Karpicke &amp; Blunt (2011) - Retrieval practice ...</td>\n",
              "    </tr>\n",
              "    <tr>\n",
              "      <th>22</th>\n",
              "      <td>Scorer.1</td>\n",
              "      <td>Scorer 1</td>\n",
              "      <td>First scorer for the retrieval practice #2 com...</td>\n",
              "      <td>AA - ZZ</td>\n",
              "      <td>NaN</td>\n",
              "      <td>0</td>\n",
              "      <td>NaN</td>\n",
              "      <td>\"Karpicke &amp; Blunt (2011) - Original idea units...</td>\n",
              "    </tr>\n",
              "    <tr>\n",
              "      <th>23</th>\n",
              "      <td>R2CS.2</td>\n",
              "      <td>Retrieval #2 completion score 2</td>\n",
              "      <td>Retrieval practice #2 completion double score</td>\n",
              "      <td>0.0 - 1.0</td>\n",
              "      <td>(score = number of idea units listed divided b...</td>\n",
              "      <td>0</td>\n",
              "      <td>NaN</td>\n",
              "      <td>\"Karpicke &amp; Blunt (2011) - Retrieval practice ...</td>\n",
              "    </tr>\n",
              "    <tr>\n",
              "      <th>24</th>\n",
              "      <td>Scorer.2</td>\n",
              "      <td>Scorer 2</td>\n",
              "      <td>Second scorer for the retrieval practice #2 co...</td>\n",
              "      <td>AA - ZZ</td>\n",
              "      <td>NaN</td>\n",
              "      <td>0</td>\n",
              "      <td>NaN</td>\n",
              "      <td>\"Karpicke &amp; Blunt (2011) - Original idea units...</td>\n",
              "    </tr>\n",
              "    <tr>\n",
              "      <th>25</th>\n",
              "      <td>R2CS.avg</td>\n",
              "      <td>Retrieval #2 average completion score</td>\n",
              "      <td>Average of the first and second scorers' retri...</td>\n",
              "      <td>0.0 - 1.0</td>\n",
              "      <td>(score = (R2CS.1 + R2CS.2)/2)</td>\n",
              "      <td>0</td>\n",
              "      <td>NaN</td>\n",
              "      <td>NaN</td>\n",
              "    </tr>\n",
              "    <tr>\n",
              "      <th>26</th>\n",
              "      <td>TS.1</td>\n",
              "      <td>Test score 1</td>\n",
              "      <td>Follow-up learning test single score</td>\n",
              "      <td>0.0 - 1.0</td>\n",
              "      <td>(score = number of earned points/25 possible p...</td>\n",
              "      <td>0</td>\n",
              "      <td>NaN</td>\n",
              "      <td>\"Karpicke &amp; Blunt (2011) - Original learning t...</td>\n",
              "    </tr>\n",
              "    <tr>\n",
              "      <th>27</th>\n",
              "      <td>Scorer.1</td>\n",
              "      <td>Scorer 1</td>\n",
              "      <td>First scorer of the follow-up learning test</td>\n",
              "      <td>AA - ZZ</td>\n",
              "      <td>NaN</td>\n",
              "      <td>0</td>\n",
              "      <td>NaN</td>\n",
              "      <td>\"Karpicke &amp; Blunt (2011) - Original learning t...</td>\n",
              "    </tr>\n",
              "    <tr>\n",
              "      <th>28</th>\n",
              "      <td>TS.2</td>\n",
              "      <td>Test score 2</td>\n",
              "      <td>Follow-up learning test double score</td>\n",
              "      <td>0.0 - 1.0</td>\n",
              "      <td>(score = number of earned points/25 possible p...</td>\n",
              "      <td>0</td>\n",
              "      <td>NaN</td>\n",
              "      <td>\"Karpicke &amp; Blunt (2011) - Original learning t...</td>\n",
              "    </tr>\n",
              "    <tr>\n",
              "      <th>29</th>\n",
              "      <td>Scorer.2</td>\n",
              "      <td>Scorer 2</td>\n",
              "      <td>Second scorer of the follow-up learning test</td>\n",
              "      <td>AA - ZZ</td>\n",
              "      <td>NaN</td>\n",
              "      <td>0</td>\n",
              "      <td>NaN</td>\n",
              "      <td>\"Karpicke &amp; Blunt (2011) - Original learning t...</td>\n",
              "    </tr>\n",
              "    <tr>\n",
              "      <th>30</th>\n",
              "      <td>TS.avg</td>\n",
              "      <td>Test score average</td>\n",
              "      <td>Average of the first and second scorers' test ...</td>\n",
              "      <td>0.0 - 1.0</td>\n",
              "      <td>(score = (TS.1 + TS.2)/2)</td>\n",
              "      <td>0</td>\n",
              "      <td>NaN</td>\n",
              "      <td>NaN</td>\n",
              "    </tr>\n",
              "    <tr>\n",
              "      <th>31</th>\n",
              "      <td>Exc.1</td>\n",
              "      <td>Exclusion part 1</td>\n",
              "      <td>Exclusions for part 1 session</td>\n",
              "      <td>0-1</td>\n",
              "      <td>1 = exclusion, 0 = no exclusion</td>\n",
              "      <td>0</td>\n",
              "      <td>NaN</td>\n",
              "      <td>NaN</td>\n",
              "    </tr>\n",
              "    <tr>\n",
              "      <th>32</th>\n",
              "      <td>Exc.2</td>\n",
              "      <td>Exclusion part 2</td>\n",
              "      <td>Exclusions for part 2 session</td>\n",
              "      <td>0-1</td>\n",
              "      <td>1 = exclusion, 0 = no exclusion</td>\n",
              "      <td>0</td>\n",
              "      <td>NaN</td>\n",
              "      <td>NaN</td>\n",
              "    </tr>\n",
              "    <tr>\n",
              "      <th>33</th>\n",
              "      <td>Collection</td>\n",
              "      <td>Collection round</td>\n",
              "      <td>Round of SSRP collection (1st round (90% confi...</td>\n",
              "      <td>1-2</td>\n",
              "      <td>NaN</td>\n",
              "      <td>0</td>\n",
              "      <td>NaN</td>\n",
              "      <td>NaN</td>\n",
              "    </tr>\n",
              "  </tbody>\n",
              "</table>\n",
              "</div>"
            ],
            "text/plain": [
              "          Name                    Variable full label   \n",
              "0           ID                         Participant ID  \\\n",
              "1        netID                              UVA netID   \n",
              "2      Date.P1                            Date part 1   \n",
              "3      Date.P2                            Date part 2   \n",
              "4    Condition                     Condition assigned   \n",
              "5         IC.1                     Informed consent 1   \n",
              "6         IC.2                     Informed consent 2   \n",
              "7       Comp.1                         Compensation 1   \n",
              "8       Comp.2                         Compensation 2   \n",
              "9         PR.1                  Prediction response 1   \n",
              "10        PR.2                  Prediction response 2   \n",
              "11       MCS.1                 Map completion score 1   \n",
              "12    Scorer.1                               Scorer 1   \n",
              "13       MCS.2                 Map completion score 2   \n",
              "14    Scorer.2                               Scorer 2   \n",
              "15     MCS.avg           Map completion score average   \n",
              "16      R1CS.1        Retrieval #1 completion score 1   \n",
              "17    Scorer.1                               Scorer 1   \n",
              "18      R1CS.2        Retrieval #1 completion score 2   \n",
              "19    Scorer.2                               Scorer 2   \n",
              "20    R1CS.avg  Retrieval #1 average completion score   \n",
              "21      R2CS.1        Retrieval #2 completion score 1   \n",
              "22    Scorer.1                               Scorer 1   \n",
              "23      R2CS.2        Retrieval #2 completion score 2   \n",
              "24    Scorer.2                               Scorer 2   \n",
              "25    R2CS.avg  Retrieval #2 average completion score   \n",
              "26        TS.1                           Test score 1   \n",
              "27    Scorer.1                               Scorer 1   \n",
              "28        TS.2                           Test score 2   \n",
              "29    Scorer.2                               Scorer 2   \n",
              "30      TS.avg                     Test score average   \n",
              "31       Exc.1                       Exclusion part 1   \n",
              "32       Exc.2                       Exclusion part 2   \n",
              "33  Collection                       Collection round   \n",
              "\n",
              "                                 Variable description           Valid range   \n",
              "0               Participant's study number/identifier            KB1 - KB52  \\\n",
              "1                      Student's UVA netID identifier                   NaN   \n",
              "2                              Date of part 1 session              00/00/00   \n",
              "3               Date of part 2 session (1 week later)              00/00/00   \n",
              "4   Participant's assigned study condition (block ...  Retrieval OR Concept   \n",
              "5    Informed consent administered for part 1 session                   0-1   \n",
              "6    Informed consent administered for part 2 session                   0-1   \n",
              "7   Compensation (SONA credit) awarded for part 1 ...                   0-1   \n",
              "8   Compensation (SONA credit) awarded for part 2 ...                   0-1   \n",
              "9                                         Q1 response                   0-1   \n",
              "10                                        Q2 response             0.0 - 1.0   \n",
              "11               Concept map completion single score              0.0 - 1.0   \n",
              "12  First scorer for the concept map completion sc...               AA - ZZ   \n",
              "13                Concept map completion double score             0.0 - 1.0   \n",
              "14  Second scorer for the concept map completion s...               AA - ZZ   \n",
              "15  Average of the first and second scorers' conce...             0.0 - 1.0   \n",
              "16     Retrieval practice #1 completion single score              0.0 - 1.0   \n",
              "17  First scorer for the retrieval practice #1 com...               AA - ZZ   \n",
              "18      Retrieval practice #1 completion double score             0.0 - 1.0   \n",
              "19  Second scorer for the retrieval practice #1 co...               AA - ZZ   \n",
              "20  Average of the first and second scorers' retri...             0.0 - 1.0   \n",
              "21  Retrieval practice #2 completion single score ...            0.0 - 1.0    \n",
              "22  First scorer for the retrieval practice #2 com...               AA - ZZ   \n",
              "23      Retrieval practice #2 completion double score             0.0 - 1.0   \n",
              "24  Second scorer for the retrieval practice #2 co...               AA - ZZ   \n",
              "25  Average of the first and second scorers' retri...             0.0 - 1.0   \n",
              "26               Follow-up learning test single score             0.0 - 1.0   \n",
              "27       First scorer of the follow-up learning test                AA - ZZ   \n",
              "28               Follow-up learning test double score             0.0 - 1.0   \n",
              "29       Second scorer of the follow-up learning test               AA - ZZ   \n",
              "30  Average of the first and second scorers' test ...             0.0 - 1.0   \n",
              "31                      Exclusions for part 1 session                   0-1   \n",
              "32                      Exclusions for part 2 session                   0-1   \n",
              "33  Round of SSRP collection (1st round (90% confi...                   1-2   \n",
              "\n",
              "                                              Scoring   \n",
              "0                                                 NaN  \\\n",
              "1                                                 NaN   \n",
              "2                                                 NaN   \n",
              "3                                                 NaN   \n",
              "4                                                 NaN   \n",
              "5                                                 NaN   \n",
              "6                                                 NaN   \n",
              "7                                                 NaN   \n",
              "8                                                 NaN   \n",
              "9                        (responses: 1 = yes, 0 = no)   \n",
              "10                                                NaN   \n",
              "11  (score = number of idea units mapped divided b...   \n",
              "12                                                NaN   \n",
              "13  (score = number of idea units mapped divided b...   \n",
              "14                                                NaN   \n",
              "15                        (score = (MCS.1 + MCS.2)/2)   \n",
              "16  (score = number of idea units listed divided b...   \n",
              "17                                                NaN   \n",
              "18  (score = number of idea units listed divided b...   \n",
              "19                                                NaN   \n",
              "20                      (score = (R1CS.1 + R1CS.2)/2)   \n",
              "21  (score = number of idea units listed divided b...   \n",
              "22                                                NaN   \n",
              "23  (score = number of idea units listed divided b...   \n",
              "24                                                NaN   \n",
              "25                      (score = (R2CS.1 + R2CS.2)/2)   \n",
              "26  (score = number of earned points/25 possible p...   \n",
              "27                                                NaN   \n",
              "28  (score = number of earned points/25 possible p...   \n",
              "29                                                NaN   \n",
              "30                          (score = (TS.1 + TS.2)/2)   \n",
              "31                    1 = exclusion, 0 = no exclusion   \n",
              "32                    1 = exclusion, 0 = no exclusion   \n",
              "33                                                NaN   \n",
              "\n",
              "    Value indicating missing data  Value indicating inapplicable data   \n",
              "0                               0                                 NaN  \\\n",
              "1                               0                                 NaN   \n",
              "2                               0                                 NaN   \n",
              "3                               0                                 NaN   \n",
              "4                               0                                 NaN   \n",
              "5                               0                                 NaN   \n",
              "6                               0                                 NaN   \n",
              "7                               0                                 NaN   \n",
              "8                               0                                 NaN   \n",
              "9                               0                                 NaN   \n",
              "10                              0                                 NaN   \n",
              "11                              0                                 NaN   \n",
              "12                              0                                 NaN   \n",
              "13                              0                                 NaN   \n",
              "14                              0                                 NaN   \n",
              "15                              0                                 NaN   \n",
              "16                              0                                 NaN   \n",
              "17                              0                                 NaN   \n",
              "18                              0                                 NaN   \n",
              "19                              0                                 NaN   \n",
              "20                              0                                 NaN   \n",
              "21                              0                                 NaN   \n",
              "22                              0                                 NaN   \n",
              "23                              0                                 NaN   \n",
              "24                              0                                 NaN   \n",
              "25                              0                                 NaN   \n",
              "26                              0                                 NaN   \n",
              "27                              0                                 NaN   \n",
              "28                              0                                 NaN   \n",
              "29                              0                                 NaN   \n",
              "30                              0                                 NaN   \n",
              "31                              0                                 NaN   \n",
              "32                              0                                 NaN   \n",
              "33                              0                                 NaN   \n",
              "\n",
              "                                 Experiment file used  \n",
              "0                                                 NaN  \n",
              "1                                                 NaN  \n",
              "2                                                 NaN  \n",
              "3                                                 NaN  \n",
              "4                                                 NaN  \n",
              "5   \"Karpicke & Blunt (2011) - informed consent (c...  \n",
              "6   \"Karpicke & Blunt (2011) - informed consent (c...  \n",
              "7                                     0.5 SONA credit  \n",
              "8                                     0.5 SONA credit  \n",
              "9   \"Karpicke & Blunt (2011) - Prediction question...  \n",
              "10  \"Karpicke & Blunt (2011) - Prediction question...  \n",
              "11  \"Karpicke & Blunt (2011) - Concept map templat...  \n",
              "12  \"Karpicke & Blunt (2011) - Original idea units...  \n",
              "13  \"Karpicke & Blunt (2011) - Concept map templat...  \n",
              "14  \"Karpicke & Blunt (2011) - Original idea units...  \n",
              "15                                                NaN  \n",
              "16  \"Karpicke & Blunt (2011) - Retrieval practice ...  \n",
              "17  \"Karpicke & Blunt (2011) - Original idea units...  \n",
              "18  \"Karpicke & Blunt (2011) - Retrieval practice ...  \n",
              "19  \"Karpicke & Blunt (2011) - Original idea units...  \n",
              "20                                                NaN  \n",
              "21  \"Karpicke & Blunt (2011) - Retrieval practice ...  \n",
              "22  \"Karpicke & Blunt (2011) - Original idea units...  \n",
              "23  \"Karpicke & Blunt (2011) - Retrieval practice ...  \n",
              "24  \"Karpicke & Blunt (2011) - Original idea units...  \n",
              "25                                                NaN  \n",
              "26  \"Karpicke & Blunt (2011) - Original learning t...  \n",
              "27  \"Karpicke & Blunt (2011) - Original learning t...  \n",
              "28  \"Karpicke & Blunt (2011) - Original learning t...  \n",
              "29  \"Karpicke & Blunt (2011) - Original learning t...  \n",
              "30                                                NaN  \n",
              "31                                                NaN  \n",
              "32                                                NaN  \n",
              "33                                                NaN  "
            ]
          },
          "execution_count": 11,
          "metadata": {},
          "output_type": "execute_result"
        }
      ],
      "source": [
        "df_codebook = pd.read_csv('https://dlsun.github.io/pods/data/KarpickeBlunt2011Replication/codebook.csv')\n",
        "df_codebook"
      ]
    },
    {
      "cell_type": "code",
      "execution_count": 12,
      "metadata": {},
      "outputs": [
        {
          "data": {
            "text/html": [
              "<div>\n",
              "<style scoped>\n",
              "    .dataframe tbody tr th:only-of-type {\n",
              "        vertical-align: middle;\n",
              "    }\n",
              "\n",
              "    .dataframe tbody tr th {\n",
              "        vertical-align: top;\n",
              "    }\n",
              "\n",
              "    .dataframe thead th {\n",
              "        text-align: right;\n",
              "    }\n",
              "</style>\n",
              "<table border=\"1\" class=\"dataframe\">\n",
              "  <thead>\n",
              "    <tr style=\"text-align: right;\">\n",
              "      <th></th>\n",
              "      <th>Name</th>\n",
              "      <th>Variable full label</th>\n",
              "      <th>Variable description</th>\n",
              "      <th>Valid range</th>\n",
              "      <th>Scoring</th>\n",
              "    </tr>\n",
              "  </thead>\n",
              "  <tbody>\n",
              "    <tr>\n",
              "      <th>0</th>\n",
              "      <td>ID</td>\n",
              "      <td>Participant ID</td>\n",
              "      <td>Participant's study number/identifier</td>\n",
              "      <td>KB1 - KB52</td>\n",
              "      <td>NaN</td>\n",
              "    </tr>\n",
              "    <tr>\n",
              "      <th>1</th>\n",
              "      <td>netID</td>\n",
              "      <td>UVA netID</td>\n",
              "      <td>Student's UVA netID identifier</td>\n",
              "      <td>NaN</td>\n",
              "      <td>NaN</td>\n",
              "    </tr>\n",
              "    <tr>\n",
              "      <th>2</th>\n",
              "      <td>Date.P1</td>\n",
              "      <td>Date part 1</td>\n",
              "      <td>Date of part 1 session</td>\n",
              "      <td>00/00/00</td>\n",
              "      <td>NaN</td>\n",
              "    </tr>\n",
              "    <tr>\n",
              "      <th>3</th>\n",
              "      <td>Date.P2</td>\n",
              "      <td>Date part 2</td>\n",
              "      <td>Date of part 2 session (1 week later)</td>\n",
              "      <td>00/00/00</td>\n",
              "      <td>NaN</td>\n",
              "    </tr>\n",
              "    <tr>\n",
              "      <th>4</th>\n",
              "      <td>Condition</td>\n",
              "      <td>Condition assigned</td>\n",
              "      <td>Participant's assigned study condition (block ...</td>\n",
              "      <td>Retrieval OR Concept</td>\n",
              "      <td>NaN</td>\n",
              "    </tr>\n",
              "    <tr>\n",
              "      <th>5</th>\n",
              "      <td>IC.1</td>\n",
              "      <td>Informed consent 1</td>\n",
              "      <td>Informed consent administered for part 1 session</td>\n",
              "      <td>0-1</td>\n",
              "      <td>NaN</td>\n",
              "    </tr>\n",
              "    <tr>\n",
              "      <th>6</th>\n",
              "      <td>IC.2</td>\n",
              "      <td>Informed consent 2</td>\n",
              "      <td>Informed consent administered for part 2 session</td>\n",
              "      <td>0-1</td>\n",
              "      <td>NaN</td>\n",
              "    </tr>\n",
              "    <tr>\n",
              "      <th>7</th>\n",
              "      <td>Comp.1</td>\n",
              "      <td>Compensation 1</td>\n",
              "      <td>Compensation (SONA credit) awarded for part 1 ...</td>\n",
              "      <td>0-1</td>\n",
              "      <td>NaN</td>\n",
              "    </tr>\n",
              "    <tr>\n",
              "      <th>8</th>\n",
              "      <td>Comp.2</td>\n",
              "      <td>Compensation 2</td>\n",
              "      <td>Compensation (SONA credit) awarded for part 2 ...</td>\n",
              "      <td>0-1</td>\n",
              "      <td>NaN</td>\n",
              "    </tr>\n",
              "    <tr>\n",
              "      <th>9</th>\n",
              "      <td>PR.1</td>\n",
              "      <td>Prediction response 1</td>\n",
              "      <td>Q1 response</td>\n",
              "      <td>0-1</td>\n",
              "      <td>(responses: 1 = yes, 0 = no)</td>\n",
              "    </tr>\n",
              "    <tr>\n",
              "      <th>10</th>\n",
              "      <td>PR.2</td>\n",
              "      <td>Prediction response 2</td>\n",
              "      <td>Q2 response</td>\n",
              "      <td>0.0 - 1.0</td>\n",
              "      <td>NaN</td>\n",
              "    </tr>\n",
              "    <tr>\n",
              "      <th>11</th>\n",
              "      <td>MCS.1</td>\n",
              "      <td>Map completion score 1</td>\n",
              "      <td>Concept map completion single score</td>\n",
              "      <td>0.0 - 1.0</td>\n",
              "      <td>(score = number of idea units mapped divided b...</td>\n",
              "    </tr>\n",
              "    <tr>\n",
              "      <th>12</th>\n",
              "      <td>Scorer.1</td>\n",
              "      <td>Scorer 1</td>\n",
              "      <td>First scorer for the concept map completion sc...</td>\n",
              "      <td>AA - ZZ</td>\n",
              "      <td>NaN</td>\n",
              "    </tr>\n",
              "    <tr>\n",
              "      <th>13</th>\n",
              "      <td>MCS.2</td>\n",
              "      <td>Map completion score 2</td>\n",
              "      <td>Concept map completion double score</td>\n",
              "      <td>0.0 - 1.0</td>\n",
              "      <td>(score = number of idea units mapped divided b...</td>\n",
              "    </tr>\n",
              "    <tr>\n",
              "      <th>14</th>\n",
              "      <td>Scorer.2</td>\n",
              "      <td>Scorer 2</td>\n",
              "      <td>Second scorer for the concept map completion s...</td>\n",
              "      <td>AA - ZZ</td>\n",
              "      <td>NaN</td>\n",
              "    </tr>\n",
              "    <tr>\n",
              "      <th>15</th>\n",
              "      <td>MCS.avg</td>\n",
              "      <td>Map completion score average</td>\n",
              "      <td>Average of the first and second scorers' conce...</td>\n",
              "      <td>0.0 - 1.0</td>\n",
              "      <td>(score = (MCS.1 + MCS.2)/2)</td>\n",
              "    </tr>\n",
              "    <tr>\n",
              "      <th>16</th>\n",
              "      <td>R1CS.1</td>\n",
              "      <td>Retrieval #1 completion score 1</td>\n",
              "      <td>Retrieval practice #1 completion single score</td>\n",
              "      <td>0.0 - 1.0</td>\n",
              "      <td>(score = number of idea units listed divided b...</td>\n",
              "    </tr>\n",
              "    <tr>\n",
              "      <th>17</th>\n",
              "      <td>Scorer.1</td>\n",
              "      <td>Scorer 1</td>\n",
              "      <td>First scorer for the retrieval practice #1 com...</td>\n",
              "      <td>AA - ZZ</td>\n",
              "      <td>NaN</td>\n",
              "    </tr>\n",
              "    <tr>\n",
              "      <th>18</th>\n",
              "      <td>R1CS.2</td>\n",
              "      <td>Retrieval #1 completion score 2</td>\n",
              "      <td>Retrieval practice #1 completion double score</td>\n",
              "      <td>0.0 - 1.0</td>\n",
              "      <td>(score = number of idea units listed divided b...</td>\n",
              "    </tr>\n",
              "    <tr>\n",
              "      <th>19</th>\n",
              "      <td>Scorer.2</td>\n",
              "      <td>Scorer 2</td>\n",
              "      <td>Second scorer for the retrieval practice #1 co...</td>\n",
              "      <td>AA - ZZ</td>\n",
              "      <td>NaN</td>\n",
              "    </tr>\n",
              "    <tr>\n",
              "      <th>20</th>\n",
              "      <td>R1CS.avg</td>\n",
              "      <td>Retrieval #1 average completion score</td>\n",
              "      <td>Average of the first and second scorers' retri...</td>\n",
              "      <td>0.0 - 1.0</td>\n",
              "      <td>(score = (R1CS.1 + R1CS.2)/2)</td>\n",
              "    </tr>\n",
              "    <tr>\n",
              "      <th>21</th>\n",
              "      <td>R2CS.1</td>\n",
              "      <td>Retrieval #2 completion score 1</td>\n",
              "      <td>Retrieval practice #2 completion single score ...</td>\n",
              "      <td>0.0 - 1.0</td>\n",
              "      <td>(score = number of idea units listed divided b...</td>\n",
              "    </tr>\n",
              "    <tr>\n",
              "      <th>22</th>\n",
              "      <td>Scorer.1</td>\n",
              "      <td>Scorer 1</td>\n",
              "      <td>First scorer for the retrieval practice #2 com...</td>\n",
              "      <td>AA - ZZ</td>\n",
              "      <td>NaN</td>\n",
              "    </tr>\n",
              "    <tr>\n",
              "      <th>23</th>\n",
              "      <td>R2CS.2</td>\n",
              "      <td>Retrieval #2 completion score 2</td>\n",
              "      <td>Retrieval practice #2 completion double score</td>\n",
              "      <td>0.0 - 1.0</td>\n",
              "      <td>(score = number of idea units listed divided b...</td>\n",
              "    </tr>\n",
              "    <tr>\n",
              "      <th>24</th>\n",
              "      <td>Scorer.2</td>\n",
              "      <td>Scorer 2</td>\n",
              "      <td>Second scorer for the retrieval practice #2 co...</td>\n",
              "      <td>AA - ZZ</td>\n",
              "      <td>NaN</td>\n",
              "    </tr>\n",
              "    <tr>\n",
              "      <th>25</th>\n",
              "      <td>R2CS.avg</td>\n",
              "      <td>Retrieval #2 average completion score</td>\n",
              "      <td>Average of the first and second scorers' retri...</td>\n",
              "      <td>0.0 - 1.0</td>\n",
              "      <td>(score = (R2CS.1 + R2CS.2)/2)</td>\n",
              "    </tr>\n",
              "    <tr>\n",
              "      <th>26</th>\n",
              "      <td>TS.1</td>\n",
              "      <td>Test score 1</td>\n",
              "      <td>Follow-up learning test single score</td>\n",
              "      <td>0.0 - 1.0</td>\n",
              "      <td>(score = number of earned points/25 possible p...</td>\n",
              "    </tr>\n",
              "    <tr>\n",
              "      <th>27</th>\n",
              "      <td>Scorer.1</td>\n",
              "      <td>Scorer 1</td>\n",
              "      <td>First scorer of the follow-up learning test</td>\n",
              "      <td>AA - ZZ</td>\n",
              "      <td>NaN</td>\n",
              "    </tr>\n",
              "    <tr>\n",
              "      <th>28</th>\n",
              "      <td>TS.2</td>\n",
              "      <td>Test score 2</td>\n",
              "      <td>Follow-up learning test double score</td>\n",
              "      <td>0.0 - 1.0</td>\n",
              "      <td>(score = number of earned points/25 possible p...</td>\n",
              "    </tr>\n",
              "    <tr>\n",
              "      <th>29</th>\n",
              "      <td>Scorer.2</td>\n",
              "      <td>Scorer 2</td>\n",
              "      <td>Second scorer of the follow-up learning test</td>\n",
              "      <td>AA - ZZ</td>\n",
              "      <td>NaN</td>\n",
              "    </tr>\n",
              "    <tr>\n",
              "      <th>30</th>\n",
              "      <td>TS.avg</td>\n",
              "      <td>Test score average</td>\n",
              "      <td>Average of the first and second scorers' test ...</td>\n",
              "      <td>0.0 - 1.0</td>\n",
              "      <td>(score = (TS.1 + TS.2)/2)</td>\n",
              "    </tr>\n",
              "    <tr>\n",
              "      <th>31</th>\n",
              "      <td>Exc.1</td>\n",
              "      <td>Exclusion part 1</td>\n",
              "      <td>Exclusions for part 1 session</td>\n",
              "      <td>0-1</td>\n",
              "      <td>1 = exclusion, 0 = no exclusion</td>\n",
              "    </tr>\n",
              "    <tr>\n",
              "      <th>32</th>\n",
              "      <td>Exc.2</td>\n",
              "      <td>Exclusion part 2</td>\n",
              "      <td>Exclusions for part 2 session</td>\n",
              "      <td>0-1</td>\n",
              "      <td>1 = exclusion, 0 = no exclusion</td>\n",
              "    </tr>\n",
              "    <tr>\n",
              "      <th>33</th>\n",
              "      <td>Collection</td>\n",
              "      <td>Collection round</td>\n",
              "      <td>Round of SSRP collection (1st round (90% confi...</td>\n",
              "      <td>1-2</td>\n",
              "      <td>NaN</td>\n",
              "    </tr>\n",
              "  </tbody>\n",
              "</table>\n",
              "</div>"
            ],
            "text/plain": [
              "          Name                    Variable full label   \n",
              "0           ID                         Participant ID  \\\n",
              "1        netID                              UVA netID   \n",
              "2      Date.P1                            Date part 1   \n",
              "3      Date.P2                            Date part 2   \n",
              "4    Condition                     Condition assigned   \n",
              "5         IC.1                     Informed consent 1   \n",
              "6         IC.2                     Informed consent 2   \n",
              "7       Comp.1                         Compensation 1   \n",
              "8       Comp.2                         Compensation 2   \n",
              "9         PR.1                  Prediction response 1   \n",
              "10        PR.2                  Prediction response 2   \n",
              "11       MCS.1                 Map completion score 1   \n",
              "12    Scorer.1                               Scorer 1   \n",
              "13       MCS.2                 Map completion score 2   \n",
              "14    Scorer.2                               Scorer 2   \n",
              "15     MCS.avg           Map completion score average   \n",
              "16      R1CS.1        Retrieval #1 completion score 1   \n",
              "17    Scorer.1                               Scorer 1   \n",
              "18      R1CS.2        Retrieval #1 completion score 2   \n",
              "19    Scorer.2                               Scorer 2   \n",
              "20    R1CS.avg  Retrieval #1 average completion score   \n",
              "21      R2CS.1        Retrieval #2 completion score 1   \n",
              "22    Scorer.1                               Scorer 1   \n",
              "23      R2CS.2        Retrieval #2 completion score 2   \n",
              "24    Scorer.2                               Scorer 2   \n",
              "25    R2CS.avg  Retrieval #2 average completion score   \n",
              "26        TS.1                           Test score 1   \n",
              "27    Scorer.1                               Scorer 1   \n",
              "28        TS.2                           Test score 2   \n",
              "29    Scorer.2                               Scorer 2   \n",
              "30      TS.avg                     Test score average   \n",
              "31       Exc.1                       Exclusion part 1   \n",
              "32       Exc.2                       Exclusion part 2   \n",
              "33  Collection                       Collection round   \n",
              "\n",
              "                                 Variable description           Valid range   \n",
              "0               Participant's study number/identifier            KB1 - KB52  \\\n",
              "1                      Student's UVA netID identifier                   NaN   \n",
              "2                              Date of part 1 session              00/00/00   \n",
              "3               Date of part 2 session (1 week later)              00/00/00   \n",
              "4   Participant's assigned study condition (block ...  Retrieval OR Concept   \n",
              "5    Informed consent administered for part 1 session                   0-1   \n",
              "6    Informed consent administered for part 2 session                   0-1   \n",
              "7   Compensation (SONA credit) awarded for part 1 ...                   0-1   \n",
              "8   Compensation (SONA credit) awarded for part 2 ...                   0-1   \n",
              "9                                         Q1 response                   0-1   \n",
              "10                                        Q2 response             0.0 - 1.0   \n",
              "11               Concept map completion single score              0.0 - 1.0   \n",
              "12  First scorer for the concept map completion sc...               AA - ZZ   \n",
              "13                Concept map completion double score             0.0 - 1.0   \n",
              "14  Second scorer for the concept map completion s...               AA - ZZ   \n",
              "15  Average of the first and second scorers' conce...             0.0 - 1.0   \n",
              "16     Retrieval practice #1 completion single score              0.0 - 1.0   \n",
              "17  First scorer for the retrieval practice #1 com...               AA - ZZ   \n",
              "18      Retrieval practice #1 completion double score             0.0 - 1.0   \n",
              "19  Second scorer for the retrieval practice #1 co...               AA - ZZ   \n",
              "20  Average of the first and second scorers' retri...             0.0 - 1.0   \n",
              "21  Retrieval practice #2 completion single score ...            0.0 - 1.0    \n",
              "22  First scorer for the retrieval practice #2 com...               AA - ZZ   \n",
              "23      Retrieval practice #2 completion double score             0.0 - 1.0   \n",
              "24  Second scorer for the retrieval practice #2 co...               AA - ZZ   \n",
              "25  Average of the first and second scorers' retri...             0.0 - 1.0   \n",
              "26               Follow-up learning test single score             0.0 - 1.0   \n",
              "27       First scorer of the follow-up learning test                AA - ZZ   \n",
              "28               Follow-up learning test double score             0.0 - 1.0   \n",
              "29       Second scorer of the follow-up learning test               AA - ZZ   \n",
              "30  Average of the first and second scorers' test ...             0.0 - 1.0   \n",
              "31                      Exclusions for part 1 session                   0-1   \n",
              "32                      Exclusions for part 2 session                   0-1   \n",
              "33  Round of SSRP collection (1st round (90% confi...                   1-2   \n",
              "\n",
              "                                              Scoring  \n",
              "0                                                 NaN  \n",
              "1                                                 NaN  \n",
              "2                                                 NaN  \n",
              "3                                                 NaN  \n",
              "4                                                 NaN  \n",
              "5                                                 NaN  \n",
              "6                                                 NaN  \n",
              "7                                                 NaN  \n",
              "8                                                 NaN  \n",
              "9                        (responses: 1 = yes, 0 = no)  \n",
              "10                                                NaN  \n",
              "11  (score = number of idea units mapped divided b...  \n",
              "12                                                NaN  \n",
              "13  (score = number of idea units mapped divided b...  \n",
              "14                                                NaN  \n",
              "15                        (score = (MCS.1 + MCS.2)/2)  \n",
              "16  (score = number of idea units listed divided b...  \n",
              "17                                                NaN  \n",
              "18  (score = number of idea units listed divided b...  \n",
              "19                                                NaN  \n",
              "20                      (score = (R1CS.1 + R1CS.2)/2)  \n",
              "21  (score = number of idea units listed divided b...  \n",
              "22                                                NaN  \n",
              "23  (score = number of idea units listed divided b...  \n",
              "24                                                NaN  \n",
              "25                      (score = (R2CS.1 + R2CS.2)/2)  \n",
              "26  (score = number of earned points/25 possible p...  \n",
              "27                                                NaN  \n",
              "28  (score = number of earned points/25 possible p...  \n",
              "29                                                NaN  \n",
              "30                          (score = (TS.1 + TS.2)/2)  \n",
              "31                    1 = exclusion, 0 = no exclusion  \n",
              "32                    1 = exclusion, 0 = no exclusion  \n",
              "33                                                NaN  "
            ]
          },
          "execution_count": 12,
          "metadata": {},
          "output_type": "execute_result"
        }
      ],
      "source": [
        "df_codebook = df_codebook[['Name', 'Variable full label', 'Variable description', 'Valid range', 'Scoring']]\n",
        "df_codebook"
      ]
    },
    {
      "cell_type": "code",
      "execution_count": 13,
      "metadata": {},
      "outputs": [
        {
          "data": {
            "text/html": [
              "<div>\n",
              "<style scoped>\n",
              "    .dataframe tbody tr th:only-of-type {\n",
              "        vertical-align: middle;\n",
              "    }\n",
              "\n",
              "    .dataframe tbody tr th {\n",
              "        vertical-align: top;\n",
              "    }\n",
              "\n",
              "    .dataframe thead th {\n",
              "        text-align: right;\n",
              "    }\n",
              "</style>\n",
              "<table border=\"1\" class=\"dataframe\">\n",
              "  <thead>\n",
              "    <tr style=\"text-align: right;\">\n",
              "      <th></th>\n",
              "      <th>Condition</th>\n",
              "      <th>PR.2</th>\n",
              "    </tr>\n",
              "  </thead>\n",
              "  <tbody>\n",
              "    <tr>\n",
              "      <th>0</th>\n",
              "      <td>Concept</td>\n",
              "      <td>0.690385</td>\n",
              "    </tr>\n",
              "    <tr>\n",
              "      <th>1</th>\n",
              "      <td>Retrieval</td>\n",
              "      <td>0.576471</td>\n",
              "    </tr>\n",
              "  </tbody>\n",
              "</table>\n",
              "</div>"
            ],
            "text/plain": [
              "   Condition      PR.2\n",
              "0    Concept  0.690385\n",
              "1  Retrieval  0.576471"
            ]
          },
          "execution_count": 13,
          "metadata": {},
          "output_type": "execute_result"
        }
      ],
      "source": [
        "p1 = df_learning.groupby('Condition')['PR.2'].mean().reset_index()\n",
        "p1"
      ]
    },
    {
      "cell_type": "code",
      "execution_count": 14,
      "metadata": {},
      "outputs": [
        {
          "data": {
            "text/plain": [
              "<Axes: title={'center': 'Proportion of Prediction by Condition'}, xlabel='Condition', ylabel='Proportion of Prediction'>"
            ]
          },
          "execution_count": 14,
          "metadata": {},
          "output_type": "execute_result"
        },
        {
          "data": {
            "image/png": "[encoded data removed]",
            "text/plain": [
              "<Figure size 640x480 with 1 Axes>"
            ]
          },
          "metadata": {},
          "output_type": "display_data"
        }
      ],
      "source": [
        "p1.plot.bar(\n",
        "    title='Proportion of Prediction by Condition',\n",
        "    x = 'Condition',\n",
        "    y = 'PR.2',\n",
        "    legend=False,\n",
        "    ylabel='Proportion of Prediction',\n",
        "    ylim=(0, 1),\n",
        "    yticks=np.arange(0, 1.1, .1)\n",
        ")"
      ]
    },
    {
      "cell_type": "code",
      "execution_count": 18,
      "metadata": {},
      "outputs": [
        {
          "data": {
            "text/plain": [
              "Condition\n",
              "Concept      Axes(0.125,0.11;0.775x0.77)\n",
              "Retrieval    Axes(0.125,0.11;0.775x0.77)\n",
              "Name: PR.2, dtype: object"
            ]
          },
          "execution_count": 18,
          "metadata": {},
          "output_type": "execute_result"
        },
        {
          "data": {
            "image/png": "[encoded data removed]",
            "text/plain": [
              "<Figure size 640x480 with 1 Axes>"
            ]
          },
          "metadata": {},
          "output_type": "display_data"
        }
      ],
      "source": [
        "p2 = df_learning.groupby('Condition')['PR.2'].plot.density(\n",
        "    title='Proportion of Prediction by Condition',\n",
        "    legend=True,\n",
        ")\n",
        "p2"
      ]
    },
    {
      "cell_type": "markdown",
      "metadata": {
        "id": "TUH5o-WRkOmk"
      },
      "source": [
        "**YOUR RESPONSE HERE**\n",
        "\n",
        "It seems that more of those who practiced the concept map predicted that they would do well on a test one week later than the group that practiced retrieval."
      ]
    },
    {
      "cell_type": "markdown",
      "metadata": {
        "id": "FiFkblz8OIch"
      },
      "source": [
        "2\\. Which group actually did better on the follow-up learning test one week later? Make an appropriate visualization and explain what you see.\n",
        "\n",
        "Read the codebook carefully to figure out which variable to use (consulting the [original paper](http://science.sciencemag.org/content/331/6018/772), if necessary), make an informed decision, and *explain your choice*.\n",
        "\n",
        "Hint: check out \"TSAvg\""
      ]
    },
    {
      "cell_type": "code",
      "execution_count": null,
      "metadata": {
        "id": "zoCX4a3KkgBC"
      },
      "outputs": [
        {
          "data": {
            "text/html": [
              "<div>\n",
              "<style scoped>\n",
              "    .dataframe tbody tr th:only-of-type {\n",
              "        vertical-align: middle;\n",
              "    }\n",
              "\n",
              "    .dataframe tbody tr th {\n",
              "        vertical-align: top;\n",
              "    }\n",
              "\n",
              "    .dataframe thead th {\n",
              "        text-align: right;\n",
              "    }\n",
              "</style>\n",
              "<table border=\"1\" class=\"dataframe\">\n",
              "  <thead>\n",
              "    <tr style=\"text-align: right;\">\n",
              "      <th></th>\n",
              "      <th>Condition</th>\n",
              "      <th>TS.avg</th>\n",
              "    </tr>\n",
              "  </thead>\n",
              "  <tbody>\n",
              "    <tr>\n",
              "      <th>0</th>\n",
              "      <td>Concept</td>\n",
              "      <td>0.468846</td>\n",
              "    </tr>\n",
              "    <tr>\n",
              "      <th>1</th>\n",
              "      <td>Retrieval</td>\n",
              "      <td>0.616471</td>\n",
              "    </tr>\n",
              "  </tbody>\n",
              "</table>\n",
              "</div>"
            ],
            "text/plain": [
              "   Condition    TS.avg\n",
              "0    Concept  0.468846\n",
              "1  Retrieval  0.616471"
            ]
          },
          "execution_count": 47,
          "metadata": {},
          "output_type": "execute_result"
        }
      ],
      "source": [
        "# ENTER YOUR CODE HERE. ADD AS MANY CELLS AS YOU WANT.\n",
        "p2 = df_learning.groupby('Condition')['TS.avg'].mean().reset_index()\n",
        "p2"
      ]
    },
    {
      "cell_type": "code",
      "execution_count": null,
      "metadata": {},
      "outputs": [
        {
          "data": {
            "text/plain": [
              "<Axes: title={'center': 'Proportion of Average Test Score by Condition'}, xlabel='Condition', ylabel='Proportion of Avg Test Scores'>"
            ]
          },
          "execution_count": 48,
          "metadata": {},
          "output_type": "execute_result"
        },
        {
          "data": {
            "image/png": "[encoded data removed]",
            "text/plain": [
              "<Figure size 640x480 with 1 Axes>"
            ]
          },
          "metadata": {},
          "output_type": "display_data"
        }
      ],
      "source": [
        "p2.plot.bar(\n",
        "    title='Proportion of Average Test Score by Condition',\n",
        "    ylabel='Proportion of Avg Test Scores',\n",
        "    x = 'Condition',\n",
        "    legend=False,\n",
        "    ylim=(0, 1),\n",
        "    yticks=np.arange(0, 1.1, .1)\n",
        ")"
      ]
    },
    {
      "cell_type": "code",
      "execution_count": 21,
      "metadata": {},
      "outputs": [
        {
          "data": {
            "text/plain": [
              "Condition\n",
              "Concept      Axes(0.125,0.11;0.775x0.77)\n",
              "Retrieval    Axes(0.125,0.11;0.775x0.77)\n",
              "Name: TS.avg, dtype: object"
            ]
          },
          "execution_count": 21,
          "metadata": {},
          "output_type": "execute_result"
        },
        {
          "data": {
            "image/png": "[encoded data removed]",
            "text/plain": [
              "<Figure size 640x480 with 1 Axes>"
            ]
          },
          "metadata": {},
          "output_type": "display_data"
        }
      ],
      "source": [
        "p3 = df_learning.groupby('Condition')['TS.avg'].plot.density(\n",
        "    title='Proportion of Average Test Score by Condition',\n",
        "    legend=True,\n",
        ")\n",
        "p3"
      ]
    },
    {
      "cell_type": "markdown",
      "metadata": {
        "id": "f6yUZJXBkgNo"
      },
      "source": [
        "**YOUR RESPONSE HERE**\n",
        "\n",
        "It seems that the retrieval group did better since the proportion of their average test scores is higher than the concept map group. We stuck with the TS.avg variable since it measures the average of the first and second scorer's test scores."
      ]
    },
    {
      "cell_type": "markdown",
      "metadata": {
        "id": "e_fjtBzsOIco"
      },
      "source": [
        "3\\. How good were subjects at predicting how well they would do on the follow-up learning test? Calculate a measure of how well subjects predicted their performance, make an appropriate visualization/summary, and describe the results in context."
      ]
    },
    {
      "cell_type": "code",
      "execution_count": null,
      "metadata": {
        "id": "KjpGo6dYjFYG"
      },
      "outputs": [
        {
          "data": {
            "text/html": [
              "<div>\n",
              "<style scoped>\n",
              "    .dataframe tbody tr th:only-of-type {\n",
              "        vertical-align: middle;\n",
              "    }\n",
              "\n",
              "    .dataframe tbody tr th {\n",
              "        vertical-align: top;\n",
              "    }\n",
              "\n",
              "    .dataframe thead th {\n",
              "        text-align: right;\n",
              "    }\n",
              "</style>\n",
              "<table border=\"1\" class=\"dataframe\">\n",
              "  <thead>\n",
              "    <tr style=\"text-align: right;\">\n",
              "      <th></th>\n",
              "      <th>Condition</th>\n",
              "      <th>Prediction Error</th>\n",
              "    </tr>\n",
              "  </thead>\n",
              "  <tbody>\n",
              "    <tr>\n",
              "      <th>0</th>\n",
              "      <td>Concept</td>\n",
              "      <td>0.275385</td>\n",
              "    </tr>\n",
              "    <tr>\n",
              "      <th>1</th>\n",
              "      <td>Retrieval</td>\n",
              "      <td>0.191765</td>\n",
              "    </tr>\n",
              "  </tbody>\n",
              "</table>\n",
              "</div>"
            ],
            "text/plain": [
              "   Condition  Prediction Error\n",
              "0    Concept          0.275385\n",
              "1  Retrieval          0.191765"
            ]
          },
          "execution_count": 49,
          "metadata": {},
          "output_type": "execute_result"
        }
      ],
      "source": [
        "# ENTER YOUR CODE HERE. ADD AS MANY CELLS AS YOU WANT.\n",
        "df_learning['Prediction Error'] = abs(df_learning['TS.avg'] - df_learning['PR.2'])\n",
        "prediction_accuracy = df_learning.groupby('Condition')['Prediction Error'].mean().reset_index()\n",
        "\n",
        "prediction_accuracy"
      ]
    },
    {
      "cell_type": "code",
      "execution_count": null,
      "metadata": {},
      "outputs": [
        {
          "data": {
            "text/html": [
              "\n",
              "<style>\n",
              "  #altair-viz-2e714b4ffbe848bfa2a1708cbc2de794.vega-embed {\n",
              "    width: 100%;\n",
              "    display: flex;\n",
              "  }\n",
              "\n",
              "  #altair-viz-2e714b4ffbe848bfa2a1708cbc2de794.vega-embed details,\n",
              "  #altair-viz-2e714b4ffbe848bfa2a1708cbc2de794.vega-embed details summary {\n",
              "    position: relative;\n",
              "  }\n",
              "</style>\n",
              "<div id=\"altair-viz-2e714b4ffbe848bfa2a1708cbc2de794\"></div>\n",
              "<script type=\"text/javascript\">\n",
              "  var VEGA_DEBUG = (typeof VEGA_DEBUG == \"undefined\") ? {} : VEGA_DEBUG;\n",
              "  (function(spec, embedOpt){\n",
              "    let outputDiv = document.currentScript.previousElementSibling;\n",
              "    if (outputDiv.id !== \"altair-viz-2e714b4ffbe848bfa2a1708cbc2de794\") {\n",
              "      outputDiv = document.getElementById(\"altair-viz-2e714b4ffbe848bfa2a1708cbc2de794\");\n",
              "    }\n",
              "    const paths = {\n",
              "      \"vega\": \"https://cdn.jsdelivr.net/npm/vega@5?noext\",\n",
              "      \"vega-lib\": \"https://cdn.jsdelivr.net/npm/vega-lib?noext\",\n",
              "      \"vega-lite\": \"https://cdn.jsdelivr.net/npm/vega-lite@5.15.1?noext\",\n",
              "      \"vega-embed\": \"https://cdn.jsdelivr.net/npm/vega-embed@6?noext\",\n",
              "    };\n",
              "\n",
              "    function maybeLoadScript(lib, version) {\n",
              "      var key = `${lib.replace(\"-\", \"\")}_version`;\n",
              "      return (VEGA_DEBUG[key] == version) ?\n",
              "        Promise.resolve(paths[lib]) :\n",
              "        new Promise(function(resolve, reject) {\n",
              "          var s = document.createElement('script');\n",
              "          document.getElementsByTagName(\"head\")[0].appendChild(s);\n",
              "          s.async = true;\n",
              "          s.onload = () => {\n",
              "            VEGA_DEBUG[key] = version;\n",
              "            return resolve(paths[lib]);\n",
              "          };\n",
              "          s.onerror = () => reject(`Error loading script: ${paths[lib]}`);\n",
              "          s.src = paths[lib];\n",
              "        });\n",
              "    }\n",
              "\n",
              "    function showError(err) {\n",
              "      outputDiv.innerHTML = `<div class=\"error\" style=\"color:red;\">${err}</div>`;\n",
              "      throw err;\n",
              "    }\n",
              "\n",
              "    function displayChart(vegaEmbed) {\n",
              "      vegaEmbed(outputDiv, spec, embedOpt)\n",
              "        .catch(err => showError(`Javascript Error: ${err.message}<br>This usually means there's a typo in your chart specification. See the javascript console for the full traceback.`));\n",
              "    }\n",
              "\n",
              "    if(typeof define === \"function\" && define.amd) {\n",
              "      requirejs.config({paths});\n",
              "      require([\"vega-embed\"], displayChart, err => showError(`Error loading script: ${err.message}`));\n",
              "    } else {\n",
              "      maybeLoadScript(\"vega\", \"5\")\n",
              "        .then(() => maybeLoadScript(\"vega-lite\", \"5.15.1\"))\n",
              "        .then(() => maybeLoadScript(\"vega-embed\", \"6\"))\n",
              "        .catch(showError)\n",
              "        .then(() => displayChart(vegaEmbed));\n",
              "    }\n",
              "  })({\"config\": {\"view\": {\"continuousWidth\": 300, \"continuousHeight\": 300}}, \"data\": {\"name\": \"data-c101a5e828884a2ce693592e2dda7aae\"}, \"mark\": {\"type\": \"bar\"}, \"encoding\": {\"x\": {\"field\": \"Condition\", \"type\": \"nominal\"}, \"y\": {\"field\": \"Prediction Error\", \"type\": \"quantitative\"}}, \"title\": \"Prediction Accuracy by Condition\", \"$schema\": \"https://vega.github.io/schema/vega-lite/v5.15.1.json\", \"datasets\": {\"data-c101a5e828884a2ce693592e2dda7aae\": [{\"Condition\": \"Concept\", \"Prediction Error\": 0.2753846153846154}, {\"Condition\": \"Retrieval\", \"Prediction Error\": 0.19176470588235295}]}}, {\"mode\": \"vega-lite\"});\n",
              "</script>"
            ],
            "text/plain": [
              "alt.Chart(...)"
            ]
          },
          "execution_count": 50,
          "metadata": {},
          "output_type": "execute_result"
        }
      ],
      "source": [
        "import altair as alt\n",
        "\n",
        "alt.Chart(prediction_accuracy).mark_bar().encode(\n",
        "    x='Condition',\n",
        "    y='Prediction Error'\n",
        ").properties(\n",
        "    title='Prediction Accuracy by Condition'\n",
        ")"
      ]
    },
    {
      "cell_type": "code",
      "execution_count": 28,
      "metadata": {},
      "outputs": [
        {
          "data": {
            "application/vnd.plotly.v1+json": {
              "config": {
                "plotlyServerURL": "https://plot.ly"
              },
              "data": [
                {
                  "hovertemplate": "Condition=Concept<br>PR.2=%{x}<br>TS.avg=%{y}<extra></extra>",
                  "legendgroup": "Concept",
                  "marker": {
                    "color": "#636efa",
                    "symbol": "circle"
                  },
                  "mode": "markers",
                  "name": "Concept",
                  "orientation": "v",
                  "showlegend": true,
                  "type": "scatter",
                  "x": [
                    0.8,
                    0.7,
                    0.7,
                    0.7,
                    0.95,
                    0.6,
                    0.6,
                    0.5,
                    0.6,
                    0.9,
                    0.8,
                    0.6,
                    0.9,
                    0.9,
                    0.6,
                    0.7,
                    0.7,
                    0.5,
                    0.9,
                    0.4,
                    0.6,
                    0.7,
                    0.7,
                    0.7,
                    0.7,
                    0.5
                  ],
                  "xaxis": "x",
                  "y": [
                    0.39,
                    0.42,
                    0.08,
                    0.43,
                    0.27,
                    0.43,
                    0.37,
                    0.45,
                    0.61,
                    0.68,
                    0.58,
                    0.19,
                    0.68,
                    0.53,
                    0.59,
                    0.3,
                    0.52,
                    0.43,
                    0.6,
                    0.8,
                    0.22,
                    0.5,
                    0.64,
                    0.2,
                    0.49,
                    0.79
                  ],
                  "yaxis": "y"
                },
                {
                  "hovertemplate": "<b>OLS trendline</b><br>TS.avg = -0.06918 * PR.2 + 0.516607<br>R<sup>2</sup>=0.002846<br><br>Condition=Concept<br>PR.2=%{x}<br>TS.avg=%{y} <b>(trend)</b><extra></extra>",
                  "legendgroup": "Concept",
                  "marker": {
                    "color": "#636efa",
                    "symbol": "circle"
                  },
                  "mode": "lines",
                  "name": "Concept",
                  "showlegend": false,
                  "type": "scatter",
                  "x": [
                    0.4,
                    0.5,
                    0.5,
                    0.5,
                    0.6,
                    0.6,
                    0.6,
                    0.6,
                    0.6,
                    0.6,
                    0.7,
                    0.7,
                    0.7,
                    0.7,
                    0.7,
                    0.7,
                    0.7,
                    0.7,
                    0.7,
                    0.8,
                    0.8,
                    0.9,
                    0.9,
                    0.9,
                    0.9,
                    0.95
                  ],
                  "xaxis": "x",
                  "y": [
                    0.4889349670122527,
                    0.4820169651272386,
                    0.4820169651272386,
                    0.4820169651272386,
                    0.4750989632422244,
                    0.4750989632422244,
                    0.4750989632422244,
                    0.4750989632422244,
                    0.4750989632422244,
                    0.4750989632422244,
                    0.4681809613572102,
                    0.4681809613572102,
                    0.4681809613572102,
                    0.4681809613572102,
                    0.4681809613572102,
                    0.4681809613572102,
                    0.4681809613572102,
                    0.4681809613572102,
                    0.4681809613572102,
                    0.46126295947219603,
                    0.46126295947219603,
                    0.45434495758718185,
                    0.45434495758718185,
                    0.45434495758718185,
                    0.45434495758718185,
                    0.4508859566446748
                  ],
                  "yaxis": "y"
                },
                {
                  "hovertemplate": "Condition=Retrieval<br>PR.2=%{x}<br>TS.avg=%{y}<extra></extra>",
                  "legendgroup": "Retrieval",
                  "marker": {
                    "color": "#EF553B",
                    "symbol": "circle"
                  },
                  "mode": "markers",
                  "name": "Retrieval",
                  "orientation": "v",
                  "showlegend": true,
                  "type": "scatter",
                  "x": [
                    0.4,
                    0.6,
                    0.9,
                    0.7,
                    0.3,
                    0.4,
                    0.7,
                    0.4,
                    0.6,
                    0.8,
                    0.9,
                    0.8,
                    0.4,
                    0.6,
                    0.4,
                    0.4,
                    0.5
                  ],
                  "xaxis": "x",
                  "y": [
                    0.34,
                    0.79,
                    0.8,
                    0.44,
                    0.34,
                    0.6,
                    0.62,
                    0.73,
                    0.62,
                    0.37,
                    1,
                    0.44,
                    0.63,
                    0.68,
                    0.84,
                    0.56,
                    0.68
                  ],
                  "yaxis": "y"
                },
                {
                  "hovertemplate": "<b>OLS trendline</b><br>TS.avg = 0.236802 * PR.2 + 0.479961<br>R<sup>2</sup>=0.060989<br><br>Condition=Retrieval<br>PR.2=%{x}<br>TS.avg=%{y} <b>(trend)</b><extra></extra>",
                  "legendgroup": "Retrieval",
                  "marker": {
                    "color": "#EF553B",
                    "symbol": "circle"
                  },
                  "mode": "lines",
                  "name": "Retrieval",
                  "showlegend": false,
                  "type": "scatter",
                  "x": [
                    0.3,
                    0.4,
                    0.4,
                    0.4,
                    0.4,
                    0.4,
                    0.4,
                    0.5,
                    0.6,
                    0.6,
                    0.6,
                    0.7,
                    0.7,
                    0.8,
                    0.8,
                    0.9,
                    0.9
                  ],
                  "xaxis": "x",
                  "y": [
                    0.5510019267822739,
                    0.5746820809248557,
                    0.5746820809248557,
                    0.5746820809248557,
                    0.5746820809248557,
                    0.5746820809248557,
                    0.5746820809248557,
                    0.5983622350674376,
                    0.6220423892100195,
                    0.6220423892100195,
                    0.6220423892100195,
                    0.6457225433526014,
                    0.6457225433526014,
                    0.6694026974951832,
                    0.6694026974951832,
                    0.6930828516377651,
                    0.6930828516377651
                  ],
                  "yaxis": "y"
                }
              ],
              "layout": {
                "legend": {
                  "title": {
                    "text": "Condition"
                  },
                  "tracegroupgap": 0
                },
                "template": {
                  "data": {
                    "bar": [
                      {
                        "error_x": {
                          "color": "#2a3f5f"
                        },
                        "error_y": {
                          "color": "#2a3f5f"
                        },
                        "marker": {
                          "line": {
                            "color": "#E5ECF6",
                            "width": 0.5
                          },
                          "pattern": {
                            "fillmode": "overlay",
                            "size": 10,
                            "solidity": 0.2
                          }
                        },
                        "type": "bar"
                      }
                    ],
                    "barpolar": [
                      {
                        "marker": {
                          "line": {
                            "color": "#E5ECF6",
                            "width": 0.5
                          },
                          "pattern": {
                            "fillmode": "overlay",
                            "size": 10,
                            "solidity": 0.2
                          }
                        },
                        "type": "barpolar"
                      }
                    ],
                    "carpet": [
                      {
                        "aaxis": {
                          "endlinecolor": "#2a3f5f",
                          "gridcolor": "white",
                          "linecolor": "white",
                          "minorgridcolor": "white",
                          "startlinecolor": "#2a3f5f"
                        },
                        "baxis": {
                          "endlinecolor": "#2a3f5f",
                          "gridcolor": "white",
                          "linecolor": "white",
                          "minorgridcolor": "white",
                          "startlinecolor": "#2a3f5f"
                        },
                        "type": "carpet"
                      }
                    ],
                    "choropleth": [
                      {
                        "colorbar": {
                          "outlinewidth": 0,
                          "ticks": ""
                        },
                        "type": "choropleth"
                      }
                    ],
                    "contour": [
                      {
                        "colorbar": {
                          "outlinewidth": 0,
                          "ticks": ""
                        },
                        "colorscale": [
                          [
                            0,
                            "#0d0887"
                          ],
                          [
                            0.1111111111111111,
                            "#46039f"
                          ],
                          [
                            0.2222222222222222,
                            "#7201a8"
                          ],
                          [
                            0.3333333333333333,
                            "#9c179e"
                          ],
                          [
                            0.4444444444444444,
                            "#bd3786"
                          ],
                          [
                            0.5555555555555556,
                            "#d8576b"
                          ],
                          [
                            0.6666666666666666,
                            "#ed7953"
                          ],
                          [
                            0.7777777777777778,
                            "#fb9f3a"
                          ],
                          [
                            0.8888888888888888,
                            "#fdca26"
                          ],
                          [
                            1,
                            "#f0f921"
                          ]
                        ],
                        "type": "contour"
                      }
                    ],
                    "contourcarpet": [
                      {
                        "colorbar": {
                          "outlinewidth": 0,
                          "ticks": ""
                        },
                        "type": "contourcarpet"
                      }
                    ],
                    "heatmap": [
                      {
                        "colorbar": {
                          "outlinewidth": 0,
                          "ticks": ""
                        },
                        "colorscale": [
                          [
                            0,
                            "#0d0887"
                          ],
                          [
                            0.1111111111111111,
                            "#46039f"
                          ],
                          [
                            0.2222222222222222,
                            "#7201a8"
                          ],
                          [
                            0.3333333333333333,
                            "#9c179e"
                          ],
                          [
                            0.4444444444444444,
                            "#bd3786"
                          ],
                          [
                            0.5555555555555556,
                            "#d8576b"
                          ],
                          [
                            0.6666666666666666,
                            "#ed7953"
                          ],
                          [
                            0.7777777777777778,
                            "#fb9f3a"
                          ],
                          [
                            0.8888888888888888,
                            "#fdca26"
                          ],
                          [
                            1,
                            "#f0f921"
                          ]
                        ],
                        "type": "heatmap"
                      }
                    ],
                    "heatmapgl": [
                      {
                        "colorbar": {
                          "outlinewidth": 0,
                          "ticks": ""
                        },
                        "colorscale": [
                          [
                            0,
                            "#0d0887"
                          ],
                          [
                            0.1111111111111111,
                            "#46039f"
                          ],
                          [
                            0.2222222222222222,
                            "#7201a8"
                          ],
                          [
                            0.3333333333333333,
                            "#9c179e"
                          ],
                          [
                            0.4444444444444444,
                            "#bd3786"
                          ],
                          [
                            0.5555555555555556,
                            "#d8576b"
                          ],
                          [
                            0.6666666666666666,
                            "#ed7953"
                          ],
                          [
                            0.7777777777777778,
                            "#fb9f3a"
                          ],
                          [
                            0.8888888888888888,
                            "#fdca26"
                          ],
                          [
                            1,
                            "#f0f921"
                          ]
                        ],
                        "type": "heatmapgl"
                      }
                    ],
                    "histogram": [
                      {
                        "marker": {
                          "pattern": {
                            "fillmode": "overlay",
                            "size": 10,
                            "solidity": 0.2
                          }
                        },
                        "type": "histogram"
                      }
                    ],
                    "histogram2d": [
                      {
                        "colorbar": {
                          "outlinewidth": 0,
                          "ticks": ""
                        },
                        "colorscale": [
                          [
                            0,
                            "#0d0887"
                          ],
                          [
                            0.1111111111111111,
                            "#46039f"
                          ],
                          [
                            0.2222222222222222,
                            "#7201a8"
                          ],
                          [
                            0.3333333333333333,
                            "#9c179e"
                          ],
                          [
                            0.4444444444444444,
                            "#bd3786"
                          ],
                          [
                            0.5555555555555556,
                            "#d8576b"
                          ],
                          [
                            0.6666666666666666,
                            "#ed7953"
                          ],
                          [
                            0.7777777777777778,
                            "#fb9f3a"
                          ],
                          [
                            0.8888888888888888,
                            "#fdca26"
                          ],
                          [
                            1,
                            "#f0f921"
                          ]
                        ],
                        "type": "histogram2d"
                      }
                    ],
                    "histogram2dcontour": [
                      {
                        "colorbar": {
                          "outlinewidth": 0,
                          "ticks": ""
                        },
                        "colorscale": [
                          [
                            0,
                            "#0d0887"
                          ],
                          [
                            0.1111111111111111,
                            "#46039f"
                          ],
                          [
                            0.2222222222222222,
                            "#7201a8"
                          ],
                          [
                            0.3333333333333333,
                            "#9c179e"
                          ],
                          [
                            0.4444444444444444,
                            "#bd3786"
                          ],
                          [
                            0.5555555555555556,
                            "#d8576b"
                          ],
                          [
                            0.6666666666666666,
                            "#ed7953"
                          ],
                          [
                            0.7777777777777778,
                            "#fb9f3a"
                          ],
                          [
                            0.8888888888888888,
                            "#fdca26"
                          ],
                          [
                            1,
                            "#f0f921"
                          ]
                        ],
                        "type": "histogram2dcontour"
                      }
                    ],
                    "mesh3d": [
                      {
                        "colorbar": {
                          "outlinewidth": 0,
                          "ticks": ""
                        },
                        "type": "mesh3d"
                      }
                    ],
                    "parcoords": [
                      {
                        "line": {
                          "colorbar": {
                            "outlinewidth": 0,
                            "ticks": ""
                          }
                        },
                        "type": "parcoords"
                      }
                    ],
                    "pie": [
                      {
                        "automargin": true,
                        "type": "pie"
                      }
                    ],
                    "scatter": [
                      {
                        "fillpattern": {
                          "fillmode": "overlay",
                          "size": 10,
                          "solidity": 0.2
                        },
                        "type": "scatter"
                      }
                    ],
                    "scatter3d": [
                      {
                        "line": {
                          "colorbar": {
                            "outlinewidth": 0,
                            "ticks": ""
                          }
                        },
                        "marker": {
                          "colorbar": {
                            "outlinewidth": 0,
                            "ticks": ""
                          }
                        },
                        "type": "scatter3d"
                      }
                    ],
                    "scattercarpet": [
                      {
                        "marker": {
                          "colorbar": {
                            "outlinewidth": 0,
                            "ticks": ""
                          }
                        },
                        "type": "scattercarpet"
                      }
                    ],
                    "scattergeo": [
                      {
                        "marker": {
                          "colorbar": {
                            "outlinewidth": 0,
                            "ticks": ""
                          }
                        },
                        "type": "scattergeo"
                      }
                    ],
                    "scattergl": [
                      {
                        "marker": {
                          "colorbar": {
                            "outlinewidth": 0,
                            "ticks": ""
                          }
                        },
                        "type": "scattergl"
                      }
                    ],
                    "scattermapbox": [
                      {
                        "marker": {
                          "colorbar": {
                            "outlinewidth": 0,
                            "ticks": ""
                          }
                        },
                        "type": "scattermapbox"
                      }
                    ],
                    "scatterpolar": [
                      {
                        "marker": {
                          "colorbar": {
                            "outlinewidth": 0,
                            "ticks": ""
                          }
                        },
                        "type": "scatterpolar"
                      }
                    ],
                    "scatterpolargl": [
                      {
                        "marker": {
                          "colorbar": {
                            "outlinewidth": 0,
                            "ticks": ""
                          }
                        },
                        "type": "scatterpolargl"
                      }
                    ],
                    "scatterternary": [
                      {
                        "marker": {
                          "colorbar": {
                            "outlinewidth": 0,
                            "ticks": ""
                          }
                        },
                        "type": "scatterternary"
                      }
                    ],
                    "surface": [
                      {
                        "colorbar": {
                          "outlinewidth": 0,
                          "ticks": ""
                        },
                        "colorscale": [
                          [
                            0,
                            "#0d0887"
                          ],
                          [
                            0.1111111111111111,
                            "#46039f"
                          ],
                          [
                            0.2222222222222222,
                            "#7201a8"
                          ],
                          [
                            0.3333333333333333,
                            "#9c179e"
                          ],
                          [
                            0.4444444444444444,
                            "#bd3786"
                          ],
                          [
                            0.5555555555555556,
                            "#d8576b"
                          ],
                          [
                            0.6666666666666666,
                            "#ed7953"
                          ],
                          [
                            0.7777777777777778,
                            "#fb9f3a"
                          ],
                          [
                            0.8888888888888888,
                            "#fdca26"
                          ],
                          [
                            1,
                            "#f0f921"
                          ]
                        ],
                        "type": "surface"
                      }
                    ],
                    "table": [
                      {
                        "cells": {
                          "fill": {
                            "color": "#EBF0F8"
                          },
                          "line": {
                            "color": "white"
                          }
                        },
                        "header": {
                          "fill": {
                            "color": "#C8D4E3"
                          },
                          "line": {
                            "color": "white"
                          }
                        },
                        "type": "table"
                      }
                    ]
                  },
                  "layout": {
                    "annotationdefaults": {
                      "arrowcolor": "#2a3f5f",
                      "arrowhead": 0,
                      "arrowwidth": 1
                    },
                    "autotypenumbers": "strict",
                    "coloraxis": {
                      "colorbar": {
                        "outlinewidth": 0,
                        "ticks": ""
                      }
                    },
                    "colorscale": {
                      "diverging": [
                        [
                          0,
                          "#8e0152"
                        ],
                        [
                          0.1,
                          "#c51b7d"
                        ],
                        [
                          0.2,
                          "#de77ae"
                        ],
                        [
                          0.3,
                          "#f1b6da"
                        ],
                        [
                          0.4,
                          "#fde0ef"
                        ],
                        [
                          0.5,
                          "#f7f7f7"
                        ],
                        [
                          0.6,
                          "#e6f5d0"
                        ],
                        [
                          0.7,
                          "#b8e186"
                        ],
                        [
                          0.8,
                          "#7fbc41"
                        ],
                        [
                          0.9,
                          "#4d9221"
                        ],
                        [
                          1,
                          "#276419"
                        ]
                      ],
                      "sequential": [
                        [
                          0,
                          "#0d0887"
                        ],
                        [
                          0.1111111111111111,
                          "#46039f"
                        ],
                        [
                          0.2222222222222222,
                          "#7201a8"
                        ],
                        [
                          0.3333333333333333,
                          "#9c179e"
                        ],
                        [
                          0.4444444444444444,
                          "#bd3786"
                        ],
                        [
                          0.5555555555555556,
                          "#d8576b"
                        ],
                        [
                          0.6666666666666666,
                          "#ed7953"
                        ],
                        [
                          0.7777777777777778,
                          "#fb9f3a"
                        ],
                        [
                          0.8888888888888888,
                          "#fdca26"
                        ],
                        [
                          1,
                          "#f0f921"
                        ]
                      ],
                      "sequentialminus": [
                        [
                          0,
                          "#0d0887"
                        ],
                        [
                          0.1111111111111111,
                          "#46039f"
                        ],
                        [
                          0.2222222222222222,
                          "#7201a8"
                        ],
                        [
                          0.3333333333333333,
                          "#9c179e"
                        ],
                        [
                          0.4444444444444444,
                          "#bd3786"
                        ],
                        [
                          0.5555555555555556,
                          "#d8576b"
                        ],
                        [
                          0.6666666666666666,
                          "#ed7953"
                        ],
                        [
                          0.7777777777777778,
                          "#fb9f3a"
                        ],
                        [
                          0.8888888888888888,
                          "#fdca26"
                        ],
                        [
                          1,
                          "#f0f921"
                        ]
                      ]
                    },
                    "colorway": [
                      "#636efa",
                      "#EF553B",
                      "#00cc96",
                      "#ab63fa",
                      "#FFA15A",
                      "#19d3f3",
                      "#FF6692",
                      "#B6E880",
                      "#FF97FF",
                      "#FECB52"
                    ],
                    "font": {
                      "color": "#2a3f5f"
                    },
                    "geo": {
                      "bgcolor": "white",
                      "lakecolor": "white",
                      "landcolor": "#E5ECF6",
                      "showlakes": true,
                      "showland": true,
                      "subunitcolor": "white"
                    },
                    "hoverlabel": {
                      "align": "left"
                    },
                    "hovermode": "closest",
                    "mapbox": {
                      "style": "light"
                    },
                    "paper_bgcolor": "white",
                    "plot_bgcolor": "#E5ECF6",
                    "polar": {
                      "angularaxis": {
                        "gridcolor": "white",
                        "linecolor": "white",
                        "ticks": ""
                      },
                      "bgcolor": "#E5ECF6",
                      "radialaxis": {
                        "gridcolor": "white",
                        "linecolor": "white",
                        "ticks": ""
                      }
                    },
                    "scene": {
                      "xaxis": {
                        "backgroundcolor": "#E5ECF6",
                        "gridcolor": "white",
                        "gridwidth": 2,
                        "linecolor": "white",
                        "showbackground": true,
                        "ticks": "",
                        "zerolinecolor": "white"
                      },
                      "yaxis": {
                        "backgroundcolor": "#E5ECF6",
                        "gridcolor": "white",
                        "gridwidth": 2,
                        "linecolor": "white",
                        "showbackground": true,
                        "ticks": "",
                        "zerolinecolor": "white"
                      },
                      "zaxis": {
                        "backgroundcolor": "#E5ECF6",
                        "gridcolor": "white",
                        "gridwidth": 2,
                        "linecolor": "white",
                        "showbackground": true,
                        "ticks": "",
                        "zerolinecolor": "white"
                      }
                    },
                    "shapedefaults": {
                      "line": {
                        "color": "#2a3f5f"
                      }
                    },
                    "ternary": {
                      "aaxis": {
                        "gridcolor": "white",
                        "linecolor": "white",
                        "ticks": ""
                      },
                      "baxis": {
                        "gridcolor": "white",
                        "linecolor": "white",
                        "ticks": ""
                      },
                      "bgcolor": "#E5ECF6",
                      "caxis": {
                        "gridcolor": "white",
                        "linecolor": "white",
                        "ticks": ""
                      }
                    },
                    "title": {
                      "x": 0.05
                    },
                    "xaxis": {
                      "automargin": true,
                      "gridcolor": "white",
                      "linecolor": "white",
                      "ticks": "",
                      "title": {
                        "standoff": 15
                      },
                      "zerolinecolor": "white",
                      "zerolinewidth": 2
                    },
                    "yaxis": {
                      "automargin": true,
                      "gridcolor": "white",
                      "linecolor": "white",
                      "ticks": "",
                      "title": {
                        "standoff": 15
                      },
                      "zerolinecolor": "white",
                      "zerolinewidth": 2
                    }
                  }
                },
                "title": {
                  "text": "Average Test Score vs Prediction"
                },
                "xaxis": {
                  "anchor": "y",
                  "domain": [
                    0,
                    1
                  ],
                  "title": {
                    "text": "PR.2"
                  }
                },
                "yaxis": {
                  "anchor": "x",
                  "domain": [
                    0,
                    1
                  ],
                  "title": {
                    "text": "TS.avg"
                  }
                }
              }
            }
          },
          "metadata": {},
          "output_type": "display_data"
        }
      ],
      "source": [
        "fig2 = px.scatter(df_learning,\n",
        "                    x=\"PR.2\",\n",
        "                    y=\"TS.avg\",\n",
        "                    color=\"Condition\",\n",
        "                    title=\"Average Test Score vs Prediction\",\n",
        "                    trendline=\"ols\")\n",
        "fig2.show()"
      ]
    },
    {
      "cell_type": "markdown",
      "metadata": {
        "id": "OTeCGq7RjFj0"
      },
      "source": [
        "**YOUR RESPONSE HERE**\n",
        "\n",
        "From the bar graph, the group with the retrieval practice had a lower prediction error compared to the concept group. Essentially, those who practiced retrieval were better at predicting their performance on the follow-up test than those who utilized concept maps. This is also reinforced by the chart above where the retrieval group more accurately predicted their score on the follow-up test."
      ]
    },
    {
      "cell_type": "markdown",
      "metadata": {
        "id": "CkTIB4EWlIwi"
      },
      "source": [
        "4\\. Write a paragraph summarizing the conclusions of your analysis. Based on this study alone, what would you tell other students about study strategies?"
      ]
    },
    {
      "cell_type": "markdown",
      "metadata": {
        "id": "4VgZicMtlIz3"
      },
      "source": [
        "**YOUR RESPONSE HERE**\n",
        "\n",
        "Based on this study alone, we would tell other students that retrieval practice is a better study strategy than concept mapping. This is because the retrieval group did better on the follow-up test than the concept group. When it comes to predicting how well they would do on the follow-up test, the retrieval group was still better at predicting their performance than the concept group, so in the end I would tell the other students that retrieval practice is a better study strategy than concept mapping."
      ]
    },
    {
      "cell_type": "markdown",
      "metadata": {
        "id": "yPuMVEsImSRo"
      },
      "source": [
        "## Part 3: Data Visualization\n",
        "\n",
        "In the in class notebook for Day 06, you played with two activities: \"Graph Gallery\" and \"Copy the Masters\". Choose one graph that you created --- using either Altair or Plotly --- for these activities and reproduce it here. Your graph doesn't have to be perfect, but you should definitely do some tailoring beyond what you did in class to make it as clean as possible.\n",
        "\n",
        "Remember: just because you can produce a graph doesn't necessarily mean it's an effective visual in context. If you choose the \"graph gallery\" activity, select a graph that most effectively conveys the story in the data. If you choose the \"copy the masters\" activity, you don't necessarily have to \"copy\" them; maybe you can find a way to improve the graphic!\n",
        "\n",
        "Include all the code necessary to produce the graphic. Then write two paragraphs:\n",
        "\n",
        "- one that describes the story that the graphic tells in context\n",
        "- one that describes why you chose this graphic and your process for recreating it. What was the hardest part to implement?"
      ]
    },
    {
      "cell_type": "markdown",
      "metadata": {
        "id": "4a5aJOdeocUZ"
      },
      "source": [
        "1\\. Provide your code and reproduce your graphic here"
      ]
    },
    {
      "cell_type": "code",
      "execution_count": null,
      "metadata": {
        "id": "RNnAgYubmsZg"
      },
      "outputs": [
        {
          "data": {
            "application/vnd.plotly.v1+json": {
              "config": {
                "plotlyServerURL": "https://plot.ly"
              },
              "data": [
                {
                  "hovertemplate": "species=Adelie<br>Bill Length (mm)=%{x}<br>Bill Depth (mm)=%{y}<extra></extra>",
                  "legendgroup": "Adelie",
                  "marker": {
                    "color": "#1F77B4",
                    "symbol": "circle"
                  },
                  "mode": "markers",
                  "name": "Adelie",
                  "orientation": "v",
                  "showlegend": true,
                  "type": "scatter",
                  "x": [
                    39.1,
                    39.5,
                    40.3,
                    null,
                    36.7,
                    39.3,
                    38.9,
                    39.2,
                    34.1,
                    42,
                    37.8,
                    37.8,
                    41.1,
                    38.6,
                    34.6,
                    36.6,
                    38.7,
                    42.5,
                    34.4,
                    46,
                    37.8,
                    37.7,
                    35.9,
                    38.2,
                    38.8,
                    35.3,
                    40.6,
                    40.5,
                    37.9,
                    40.5,
                    39.5,
                    37.2,
                    39.5,
                    40.9,
                    36.4,
                    39.2,
                    38.8,
                    42.2,
                    37.6,
                    39.8,
                    36.5,
                    40.8,
                    36,
                    44.1,
                    37,
                    39.6,
                    41.1,
                    37.5,
                    36,
                    42.3,
                    39.6,
                    40.1,
                    35,
                    42,
                    34.5,
                    41.4,
                    39,
                    40.6,
                    36.5,
                    37.6,
                    35.7,
                    41.3,
                    37.6,
                    41.1,
                    36.4,
                    41.6,
                    35.5,
                    41.1,
                    35.9,
                    41.8,
                    33.5,
                    39.7,
                    39.6,
                    45.8,
                    35.5,
                    42.8,
                    40.9,
                    37.2,
                    36.2,
                    42.1,
                    34.6,
                    42.9,
                    36.7,
                    35.1,
                    37.3,
                    41.3,
                    36.3,
                    36.9,
                    38.3,
                    38.9,
                    35.7,
                    41.1,
                    34,
                    39.6,
                    36.2,
                    40.8,
                    38.1,
                    40.3,
                    33.1,
                    43.2,
                    35,
                    41,
                    37.7,
                    37.8,
                    37.9,
                    39.7,
                    38.6,
                    38.2,
                    38.1,
                    43.2,
                    38.1,
                    45.6,
                    39.7,
                    42.2,
                    39.6,
                    42.7,
                    38.6,
                    37.3,
                    35.7,
                    41.1,
                    36.2,
                    37.7,
                    40.2,
                    41.4,
                    35.2,
                    40.6,
                    38.8,
                    41.5,
                    39,
                    44.1,
                    38.5,
                    43.1,
                    36.8,
                    37.5,
                    38.1,
                    41.1,
                    35.6,
                    40.2,
                    37,
                    39.7,
                    40.2,
                    40.6,
                    32.1,
                    40.7,
                    37.3,
                    39,
                    39.2,
                    36.6,
                    36,
                    37.8,
                    36,
                    41.5
                  ],
                  "xaxis": "x",
                  "y": [
                    18.7,
                    17.4,
                    18,
                    null,
                    19.3,
                    20.6,
                    17.8,
                    19.6,
                    18.1,
                    20.2,
                    17.1,
                    17.3,
                    17.6,
                    21.2,
                    21.1,
                    17.8,
                    19,
                    20.7,
                    18.4,
                    21.5,
                    18.3,
                    18.7,
                    19.2,
                    18.1,
                    17.2,
                    18.9,
                    18.6,
                    17.9,
                    18.6,
                    18.9,
                    16.7,
                    18.1,
                    17.8,
                    18.9,
                    17,
                    21.1,
                    20,
                    18.5,
                    19.3,
                    19.1,
                    18,
                    18.4,
                    18.5,
                    19.7,
                    16.9,
                    18.8,
                    19,
                    18.9,
                    17.9,
                    21.2,
                    17.7,
                    18.9,
                    17.9,
                    19.5,
                    18.1,
                    18.6,
                    17.5,
                    18.8,
                    16.6,
                    19.1,
                    16.9,
                    21.1,
                    17,
                    18.2,
                    17.1,
                    18,
                    16.2,
                    19.1,
                    16.6,
                    19.4,
                    19,
                    18.4,
                    17.2,
                    18.9,
                    17.5,
                    18.5,
                    16.8,
                    19.4,
                    16.1,
                    19.1,
                    17.2,
                    17.6,
                    18.8,
                    19.4,
                    17.8,
                    20.3,
                    19.5,
                    18.6,
                    19.2,
                    18.8,
                    18,
                    18.1,
                    17.1,
                    18.1,
                    17.3,
                    18.9,
                    18.6,
                    18.5,
                    16.1,
                    18.5,
                    17.9,
                    20,
                    16,
                    20,
                    18.6,
                    18.9,
                    17.2,
                    20,
                    17,
                    19,
                    16.5,
                    20.3,
                    17.7,
                    19.5,
                    20.7,
                    18.3,
                    17,
                    20.5,
                    17,
                    18.6,
                    17.2,
                    19.8,
                    17,
                    18.5,
                    15.9,
                    19,
                    17.6,
                    18.3,
                    17.1,
                    18,
                    17.9,
                    19.2,
                    18.5,
                    18.5,
                    17.6,
                    17.5,
                    17.5,
                    20.1,
                    16.5,
                    17.9,
                    17.1,
                    17.2,
                    15.5,
                    17,
                    16.8,
                    18.7,
                    18.6,
                    18.4,
                    17.8,
                    18.1,
                    17.1,
                    18.5
                  ],
                  "yaxis": "y"
                },
                {
                  "alignmentgroup": "True",
                  "hovertemplate": "species=Adelie<br>Bill Length (mm)=%{x}<extra></extra>",
                  "legendgroup": "Adelie",
                  "marker": {
                    "color": "#1F77B4",
                    "symbol": "circle"
                  },
                  "name": "Adelie",
                  "notched": true,
                  "offsetgroup": "Adelie",
                  "showlegend": false,
                  "type": "box",
                  "x": [
                    39.1,
                    39.5,
                    40.3,
                    null,
                    36.7,
                    39.3,
                    38.9,
                    39.2,
                    34.1,
                    42,
                    37.8,
                    37.8,
                    41.1,
                    38.6,
                    34.6,
                    36.6,
                    38.7,
                    42.5,
                    34.4,
                    46,
                    37.8,
                    37.7,
                    35.9,
                    38.2,
                    38.8,
                    35.3,
                    40.6,
                    40.5,
                    37.9,
                    40.5,
                    39.5,
                    37.2,
                    39.5,
                    40.9,
                    36.4,
                    39.2,
                    38.8,
                    42.2,
                    37.6,
                    39.8,
                    36.5,
                    40.8,
                    36,
                    44.1,
                    37,
                    39.6,
                    41.1,
                    37.5,
                    36,
                    42.3,
                    39.6,
                    40.1,
                    35,
                    42,
                    34.5,
                    41.4,
                    39,
                    40.6,
                    36.5,
                    37.6,
                    35.7,
                    41.3,
                    37.6,
                    41.1,
                    36.4,
                    41.6,
                    35.5,
                    41.1,
                    35.9,
                    41.8,
                    33.5,
                    39.7,
                    39.6,
                    45.8,
                    35.5,
                    42.8,
                    40.9,
                    37.2,
                    36.2,
                    42.1,
                    34.6,
                    42.9,
                    36.7,
                    35.1,
                    37.3,
                    41.3,
                    36.3,
                    36.9,
                    38.3,
                    38.9,
                    35.7,
                    41.1,
                    34,
                    39.6,
                    36.2,
                    40.8,
                    38.1,
                    40.3,
                    33.1,
                    43.2,
                    35,
                    41,
                    37.7,
                    37.8,
                    37.9,
                    39.7,
                    38.6,
                    38.2,
                    38.1,
                    43.2,
                    38.1,
                    45.6,
                    39.7,
                    42.2,
                    39.6,
                    42.7,
                    38.6,
                    37.3,
                    35.7,
                    41.1,
                    36.2,
                    37.7,
                    40.2,
                    41.4,
                    35.2,
                    40.6,
                    38.8,
                    41.5,
                    39,
                    44.1,
                    38.5,
                    43.1,
                    36.8,
                    37.5,
                    38.1,
                    41.1,
                    35.6,
                    40.2,
                    37,
                    39.7,
                    40.2,
                    40.6,
                    32.1,
                    40.7,
                    37.3,
                    39,
                    39.2,
                    36.6,
                    36,
                    37.8,
                    36,
                    41.5
                  ],
                  "xaxis": "x3",
                  "yaxis": "y3"
                },
                {
                  "alignmentgroup": "True",
                  "hovertemplate": "species=Adelie<br>Bill Depth (mm)=%{y}<extra></extra>",
                  "legendgroup": "Adelie",
                  "marker": {
                    "color": "#1F77B4",
                    "symbol": "circle"
                  },
                  "name": "Adelie",
                  "notched": true,
                  "offsetgroup": "Adelie",
                  "showlegend": false,
                  "type": "box",
                  "xaxis": "x2",
                  "y": [
                    18.7,
                    17.4,
                    18,
                    null,
                    19.3,
                    20.6,
                    17.8,
                    19.6,
                    18.1,
                    20.2,
                    17.1,
                    17.3,
                    17.6,
                    21.2,
                    21.1,
                    17.8,
                    19,
                    20.7,
                    18.4,
                    21.5,
                    18.3,
                    18.7,
                    19.2,
                    18.1,
                    17.2,
                    18.9,
                    18.6,
                    17.9,
                    18.6,
                    18.9,
                    16.7,
                    18.1,
                    17.8,
                    18.9,
                    17,
                    21.1,
                    20,
                    18.5,
                    19.3,
                    19.1,
                    18,
                    18.4,
                    18.5,
                    19.7,
                    16.9,
                    18.8,
                    19,
                    18.9,
                    17.9,
                    21.2,
                    17.7,
                    18.9,
                    17.9,
                    19.5,
                    18.1,
                    18.6,
                    17.5,
                    18.8,
                    16.6,
                    19.1,
                    16.9,
                    21.1,
                    17,
                    18.2,
                    17.1,
                    18,
                    16.2,
                    19.1,
                    16.6,
                    19.4,
                    19,
                    18.4,
                    17.2,
                    18.9,
                    17.5,
                    18.5,
                    16.8,
                    19.4,
                    16.1,
                    19.1,
                    17.2,
                    17.6,
                    18.8,
                    19.4,
                    17.8,
                    20.3,
                    19.5,
                    18.6,
                    19.2,
                    18.8,
                    18,
                    18.1,
                    17.1,
                    18.1,
                    17.3,
                    18.9,
                    18.6,
                    18.5,
                    16.1,
                    18.5,
                    17.9,
                    20,
                    16,
                    20,
                    18.6,
                    18.9,
                    17.2,
                    20,
                    17,
                    19,
                    16.5,
                    20.3,
                    17.7,
                    19.5,
                    20.7,
                    18.3,
                    17,
                    20.5,
                    17,
                    18.6,
                    17.2,
                    19.8,
                    17,
                    18.5,
                    15.9,
                    19,
                    17.6,
                    18.3,
                    17.1,
                    18,
                    17.9,
                    19.2,
                    18.5,
                    18.5,
                    17.6,
                    17.5,
                    17.5,
                    20.1,
                    16.5,
                    17.9,
                    17.1,
                    17.2,
                    15.5,
                    17,
                    16.8,
                    18.7,
                    18.6,
                    18.4,
                    17.8,
                    18.1,
                    17.1,
                    18.5
                  ],
                  "yaxis": "y2"
                },
                {
                  "hovertemplate": "<b>OLS trendline</b><br>bill_depth_mm = 0.178834 * bill_length_mm + 11.4091<br>R<sup>2</sup>=0.153266<br><br>species=Adelie<br>Bill Length (mm)=%{x}<br>Bill Depth (mm)=%{y} <b>(trend)</b><extra></extra>",
                  "legendgroup": "Adelie",
                  "marker": {
                    "color": "#1F77B4",
                    "symbol": "circle"
                  },
                  "mode": "lines",
                  "name": "Adelie",
                  "showlegend": false,
                  "type": "scatter",
                  "x": [
                    32.1,
                    33.1,
                    33.5,
                    34,
                    34.1,
                    34.4,
                    34.5,
                    34.6,
                    34.6,
                    35,
                    35,
                    35.1,
                    35.2,
                    35.3,
                    35.5,
                    35.5,
                    35.6,
                    35.7,
                    35.7,
                    35.7,
                    35.9,
                    35.9,
                    36,
                    36,
                    36,
                    36,
                    36.2,
                    36.2,
                    36.2,
                    36.3,
                    36.4,
                    36.4,
                    36.5,
                    36.5,
                    36.6,
                    36.6,
                    36.7,
                    36.7,
                    36.8,
                    36.9,
                    37,
                    37,
                    37.2,
                    37.2,
                    37.3,
                    37.3,
                    37.3,
                    37.5,
                    37.5,
                    37.6,
                    37.6,
                    37.6,
                    37.7,
                    37.7,
                    37.7,
                    37.8,
                    37.8,
                    37.8,
                    37.8,
                    37.8,
                    37.9,
                    37.9,
                    38.1,
                    38.1,
                    38.1,
                    38.1,
                    38.2,
                    38.2,
                    38.3,
                    38.5,
                    38.6,
                    38.6,
                    38.6,
                    38.7,
                    38.8,
                    38.8,
                    38.8,
                    38.9,
                    38.9,
                    39,
                    39,
                    39,
                    39.1,
                    39.2,
                    39.2,
                    39.2,
                    39.3,
                    39.5,
                    39.5,
                    39.5,
                    39.6,
                    39.6,
                    39.6,
                    39.6,
                    39.6,
                    39.7,
                    39.7,
                    39.7,
                    39.7,
                    39.8,
                    40.1,
                    40.2,
                    40.2,
                    40.2,
                    40.3,
                    40.3,
                    40.5,
                    40.5,
                    40.6,
                    40.6,
                    40.6,
                    40.6,
                    40.7,
                    40.8,
                    40.8,
                    40.9,
                    40.9,
                    41,
                    41.1,
                    41.1,
                    41.1,
                    41.1,
                    41.1,
                    41.1,
                    41.1,
                    41.3,
                    41.3,
                    41.4,
                    41.4,
                    41.5,
                    41.5,
                    41.6,
                    41.8,
                    42,
                    42,
                    42.1,
                    42.2,
                    42.2,
                    42.3,
                    42.5,
                    42.7,
                    42.8,
                    42.9,
                    43.1,
                    43.2,
                    43.2,
                    44.1,
                    44.1,
                    45.6,
                    45.8,
                    46
                  ],
                  "xaxis": "x",
                  "y": [
                    17.1497071067625,
                    17.328541456405077,
                    17.400075196262108,
                    17.489492371083397,
                    17.507375806047655,
                    17.561026110940425,
                    17.578909545904683,
                    17.59679298086894,
                    17.59679298086894,
                    17.66832672072597,
                    17.66832672072597,
                    17.68621015569023,
                    17.704093590654487,
                    17.721977025618745,
                    17.75774389554726,
                    17.75774389554726,
                    17.77562733051152,
                    17.793510765475776,
                    17.793510765475776,
                    17.793510765475776,
                    17.829277635404292,
                    17.829277635404292,
                    17.84716107036855,
                    17.84716107036855,
                    17.84716107036855,
                    17.84716107036855,
                    17.882927940297066,
                    17.882927940297066,
                    17.882927940297066,
                    17.900811375261323,
                    17.91869481022558,
                    17.91869481022558,
                    17.93657824518984,
                    17.93657824518984,
                    17.954461680154097,
                    17.954461680154097,
                    17.972345115118355,
                    17.972345115118355,
                    17.99022855008261,
                    18.008111985046867,
                    18.025995420011125,
                    18.025995420011125,
                    18.061762289939644,
                    18.061762289939644,
                    18.079645724903898,
                    18.079645724903898,
                    18.079645724903898,
                    18.115412594832414,
                    18.115412594832414,
                    18.13329602979667,
                    18.13329602979667,
                    18.13329602979667,
                    18.15117946476093,
                    18.15117946476093,
                    18.15117946476093,
                    18.169062899725187,
                    18.169062899725187,
                    18.169062899725187,
                    18.169062899725187,
                    18.169062899725187,
                    18.186946334689445,
                    18.186946334689445,
                    18.22271320461796,
                    18.22271320461796,
                    18.22271320461796,
                    18.22271320461796,
                    18.24059663958222,
                    18.24059663958222,
                    18.258480074546476,
                    18.294246944474992,
                    18.31213037943925,
                    18.31213037943925,
                    18.31213037943925,
                    18.330013814403507,
                    18.347897249367765,
                    18.347897249367765,
                    18.347897249367765,
                    18.365780684332023,
                    18.365780684332023,
                    18.38366411929628,
                    18.38366411929628,
                    18.38366411929628,
                    18.40154755426054,
                    18.419430989224796,
                    18.419430989224796,
                    18.419430989224796,
                    18.437314424189054,
                    18.47308129411757,
                    18.47308129411757,
                    18.47308129411757,
                    18.490964729081828,
                    18.490964729081828,
                    18.490964729081828,
                    18.490964729081828,
                    18.490964729081828,
                    18.508848164046086,
                    18.508848164046086,
                    18.508848164046086,
                    18.508848164046086,
                    18.52673159901034,
                    18.580381903903113,
                    18.598265338867375,
                    18.598265338867375,
                    18.598265338867375,
                    18.61614877383163,
                    18.61614877383163,
                    18.651915643760145,
                    18.651915643760145,
                    18.669799078724402,
                    18.669799078724402,
                    18.669799078724402,
                    18.669799078724402,
                    18.68768251368866,
                    18.705565948652918,
                    18.705565948652918,
                    18.723449383617176,
                    18.723449383617176,
                    18.741332818581434,
                    18.75921625354569,
                    18.75921625354569,
                    18.75921625354569,
                    18.75921625354569,
                    18.75921625354569,
                    18.75921625354569,
                    18.75921625354569,
                    18.794983123474207,
                    18.794983123474207,
                    18.812866558438465,
                    18.812866558438465,
                    18.830749993402723,
                    18.830749993402723,
                    18.84863342836698,
                    18.884400298295496,
                    18.920167168224012,
                    18.920167168224012,
                    18.93805060318827,
                    18.955934038152527,
                    18.955934038152527,
                    18.97381747311678,
                    19.0095843430453,
                    19.045351212973817,
                    19.06323464793807,
                    19.08111808290233,
                    19.116884952830844,
                    19.134768387795102,
                    19.134768387795102,
                    19.295719302473422,
                    19.295719302473422,
                    19.56397082693729,
                    19.5997376968658,
                    19.635504566794317
                  ],
                  "yaxis": "y"
                },
                {
                  "hovertemplate": "species=Gentoo<br>Bill Length (mm)=%{x}<br>Bill Depth (mm)=%{y}<extra></extra>",
                  "legendgroup": "Gentoo",
                  "marker": {
                    "color": "#FF7F0E",
                    "symbol": "circle"
                  },
                  "mode": "markers",
                  "name": "Gentoo",
                  "orientation": "v",
                  "showlegend": true,
                  "type": "scatter",
                  "x": [
                    46.1,
                    50,
                    48.7,
                    50,
                    47.6,
                    46.5,
                    45.4,
                    46.7,
                    43.3,
                    46.8,
                    40.9,
                    49,
                    45.5,
                    48.4,
                    45.8,
                    49.3,
                    42,
                    49.2,
                    46.2,
                    48.7,
                    50.2,
                    45.1,
                    46.5,
                    46.3,
                    42.9,
                    46.1,
                    44.5,
                    47.8,
                    48.2,
                    50,
                    47.3,
                    42.8,
                    45.1,
                    59.6,
                    49.1,
                    48.4,
                    42.6,
                    44.4,
                    44,
                    48.7,
                    42.7,
                    49.6,
                    45.3,
                    49.6,
                    50.5,
                    43.6,
                    45.5,
                    50.5,
                    44.9,
                    45.2,
                    46.6,
                    48.5,
                    45.1,
                    50.1,
                    46.5,
                    45,
                    43.8,
                    45.5,
                    43.2,
                    50.4,
                    45.3,
                    46.2,
                    45.7,
                    54.3,
                    45.8,
                    49.8,
                    46.2,
                    49.5,
                    43.5,
                    50.7,
                    47.7,
                    46.4,
                    48.2,
                    46.5,
                    46.4,
                    48.6,
                    47.5,
                    51.1,
                    45.2,
                    45.2,
                    49.1,
                    52.5,
                    47.4,
                    50,
                    44.9,
                    50.8,
                    43.4,
                    51.3,
                    47.5,
                    52.1,
                    47.5,
                    52.2,
                    45.5,
                    49.5,
                    44.5,
                    50.8,
                    49.4,
                    46.9,
                    48.4,
                    51.1,
                    48.5,
                    55.9,
                    47.2,
                    49.1,
                    47.3,
                    46.8,
                    41.7,
                    53.4,
                    43.3,
                    48.1,
                    50.5,
                    49.8,
                    43.5,
                    51.5,
                    46.2,
                    55.1,
                    44.5,
                    48.8,
                    47.2,
                    null,
                    46.8,
                    50.4,
                    45.2,
                    49.9
                  ],
                  "xaxis": "x",
                  "y": [
                    13.2,
                    16.3,
                    14.1,
                    15.2,
                    14.5,
                    13.5,
                    14.6,
                    15.3,
                    13.4,
                    15.4,
                    13.7,
                    16.1,
                    13.7,
                    14.6,
                    14.6,
                    15.7,
                    13.5,
                    15.2,
                    14.5,
                    15.1,
                    14.3,
                    14.5,
                    14.5,
                    15.8,
                    13.1,
                    15.1,
                    14.3,
                    15,
                    14.3,
                    15.3,
                    15.3,
                    14.2,
                    14.5,
                    17,
                    14.8,
                    16.3,
                    13.7,
                    17.3,
                    13.6,
                    15.7,
                    13.7,
                    16,
                    13.7,
                    15,
                    15.9,
                    13.9,
                    13.9,
                    15.9,
                    13.3,
                    15.8,
                    14.2,
                    14.1,
                    14.4,
                    15,
                    14.4,
                    15.4,
                    13.9,
                    15,
                    14.5,
                    15.3,
                    13.8,
                    14.9,
                    13.9,
                    15.7,
                    14.2,
                    16.8,
                    14.4,
                    16.2,
                    14.2,
                    15,
                    15,
                    15.6,
                    15.6,
                    14.8,
                    15,
                    16,
                    14.2,
                    16.3,
                    13.8,
                    16.4,
                    14.5,
                    15.6,
                    14.6,
                    15.9,
                    13.8,
                    17.3,
                    14.4,
                    14.2,
                    14,
                    17,
                    15,
                    17.1,
                    14.5,
                    16.1,
                    14.7,
                    15.7,
                    15.8,
                    14.6,
                    14.4,
                    16.5,
                    15,
                    17,
                    15.5,
                    15,
                    13.8,
                    16.1,
                    14.7,
                    15.8,
                    14,
                    15.1,
                    15.2,
                    15.9,
                    15.2,
                    16.3,
                    14.1,
                    16,
                    15.7,
                    16.2,
                    13.7,
                    null,
                    14.3,
                    15.7,
                    14.8,
                    16.1
                  ],
                  "yaxis": "y"
                },
                {
                  "alignmentgroup": "True",
                  "hovertemplate": "species=Gentoo<br>Bill Length (mm)=%{x}<extra></extra>",
                  "legendgroup": "Gentoo",
                  "marker": {
                    "color": "#FF7F0E",
                    "symbol": "circle"
                  },
                  "name": "Gentoo",
                  "notched": true,
                  "offsetgroup": "Gentoo",
                  "showlegend": false,
                  "type": "box",
                  "x": [
                    46.1,
                    50,
                    48.7,
                    50,
                    47.6,
                    46.5,
                    45.4,
                    46.7,
                    43.3,
                    46.8,
                    40.9,
                    49,
                    45.5,
                    48.4,
                    45.8,
                    49.3,
                    42,
                    49.2,
                    46.2,
                    48.7,
                    50.2,
                    45.1,
                    46.5,
                    46.3,
                    42.9,
                    46.1,
                    44.5,
                    47.8,
                    48.2,
                    50,
                    47.3,
                    42.8,
                    45.1,
                    59.6,
                    49.1,
                    48.4,
                    42.6,
                    44.4,
                    44,
                    48.7,
                    42.7,
                    49.6,
                    45.3,
                    49.6,
                    50.5,
                    43.6,
                    45.5,
                    50.5,
                    44.9,
                    45.2,
                    46.6,
                    48.5,
                    45.1,
                    50.1,
                    46.5,
                    45,
                    43.8,
                    45.5,
                    43.2,
                    50.4,
                    45.3,
                    46.2,
                    45.7,
                    54.3,
                    45.8,
                    49.8,
                    46.2,
                    49.5,
                    43.5,
                    50.7,
                    47.7,
                    46.4,
                    48.2,
                    46.5,
                    46.4,
                    48.6,
                    47.5,
                    51.1,
                    45.2,
                    45.2,
                    49.1,
                    52.5,
                    47.4,
                    50,
                    44.9,
                    50.8,
                    43.4,
                    51.3,
                    47.5,
                    52.1,
                    47.5,
                    52.2,
                    45.5,
                    49.5,
                    44.5,
                    50.8,
                    49.4,
                    46.9,
                    48.4,
                    51.1,
                    48.5,
                    55.9,
                    47.2,
                    49.1,
                    47.3,
                    46.8,
                    41.7,
                    53.4,
                    43.3,
                    48.1,
                    50.5,
                    49.8,
                    43.5,
                    51.5,
                    46.2,
                    55.1,
                    44.5,
                    48.8,
                    47.2,
                    null,
                    46.8,
                    50.4,
                    45.2,
                    49.9
                  ],
                  "xaxis": "x3",
                  "yaxis": "y3"
                },
                {
                  "alignmentgroup": "True",
                  "hovertemplate": "species=Gentoo<br>Bill Depth (mm)=%{y}<extra></extra>",
                  "legendgroup": "Gentoo",
                  "marker": {
                    "color": "#FF7F0E",
                    "symbol": "circle"
                  },
                  "name": "Gentoo",
                  "notched": true,
                  "offsetgroup": "Gentoo",
                  "showlegend": false,
                  "type": "box",
                  "xaxis": "x2",
                  "y": [
                    13.2,
                    16.3,
                    14.1,
                    15.2,
                    14.5,
                    13.5,
                    14.6,
                    15.3,
                    13.4,
                    15.4,
                    13.7,
                    16.1,
                    13.7,
                    14.6,
                    14.6,
                    15.7,
                    13.5,
                    15.2,
                    14.5,
                    15.1,
                    14.3,
                    14.5,
                    14.5,
                    15.8,
                    13.1,
                    15.1,
                    14.3,
                    15,
                    14.3,
                    15.3,
                    15.3,
                    14.2,
                    14.5,
                    17,
                    14.8,
                    16.3,
                    13.7,
                    17.3,
                    13.6,
                    15.7,
                    13.7,
                    16,
                    13.7,
                    15,
                    15.9,
                    13.9,
                    13.9,
                    15.9,
                    13.3,
                    15.8,
                    14.2,
                    14.1,
                    14.4,
                    15,
                    14.4,
                    15.4,
                    13.9,
                    15,
                    14.5,
                    15.3,
                    13.8,
                    14.9,
                    13.9,
                    15.7,
                    14.2,
                    16.8,
                    14.4,
                    16.2,
                    14.2,
                    15,
                    15,
                    15.6,
                    15.6,
                    14.8,
                    15,
                    16,
                    14.2,
                    16.3,
                    13.8,
                    16.4,
                    14.5,
                    15.6,
                    14.6,
                    15.9,
                    13.8,
                    17.3,
                    14.4,
                    14.2,
                    14,
                    17,
                    15,
                    17.1,
                    14.5,
                    16.1,
                    14.7,
                    15.7,
                    15.8,
                    14.6,
                    14.4,
                    16.5,
                    15,
                    17,
                    15.5,
                    15,
                    13.8,
                    16.1,
                    14.7,
                    15.8,
                    14,
                    15.1,
                    15.2,
                    15.9,
                    15.2,
                    16.3,
                    14.1,
                    16,
                    15.7,
                    16.2,
                    13.7,
                    null,
                    14.3,
                    15.7,
                    14.8,
                    16.1
                  ],
                  "yaxis": "y2"
                },
                {
                  "hovertemplate": "<b>OLS trendline</b><br>bill_depth_mm = 0.204844 * bill_length_mm + 5.25101<br>R<sup>2</sup>=0.413943<br><br>species=Gentoo<br>Bill Length (mm)=%{x}<br>Bill Depth (mm)=%{y} <b>(trend)</b><extra></extra>",
                  "legendgroup": "Gentoo",
                  "marker": {
                    "color": "#FF7F0E",
                    "symbol": "circle"
                  },
                  "mode": "lines",
                  "name": "Gentoo",
                  "showlegend": false,
                  "type": "scatter",
                  "x": [
                    40.9,
                    41.7,
                    42,
                    42.6,
                    42.7,
                    42.8,
                    42.9,
                    43.2,
                    43.3,
                    43.3,
                    43.4,
                    43.5,
                    43.5,
                    43.6,
                    43.8,
                    44,
                    44.4,
                    44.5,
                    44.5,
                    44.5,
                    44.9,
                    44.9,
                    45,
                    45.1,
                    45.1,
                    45.1,
                    45.2,
                    45.2,
                    45.2,
                    45.2,
                    45.3,
                    45.3,
                    45.4,
                    45.5,
                    45.5,
                    45.5,
                    45.5,
                    45.7,
                    45.8,
                    45.8,
                    46.1,
                    46.1,
                    46.2,
                    46.2,
                    46.2,
                    46.2,
                    46.3,
                    46.4,
                    46.4,
                    46.5,
                    46.5,
                    46.5,
                    46.5,
                    46.6,
                    46.7,
                    46.8,
                    46.8,
                    46.8,
                    46.9,
                    47.2,
                    47.2,
                    47.3,
                    47.3,
                    47.4,
                    47.5,
                    47.5,
                    47.5,
                    47.6,
                    47.7,
                    47.8,
                    48.1,
                    48.2,
                    48.2,
                    48.4,
                    48.4,
                    48.4,
                    48.5,
                    48.5,
                    48.6,
                    48.7,
                    48.7,
                    48.7,
                    48.8,
                    49,
                    49.1,
                    49.1,
                    49.1,
                    49.2,
                    49.3,
                    49.4,
                    49.5,
                    49.5,
                    49.6,
                    49.6,
                    49.8,
                    49.8,
                    49.9,
                    50,
                    50,
                    50,
                    50,
                    50.1,
                    50.2,
                    50.4,
                    50.4,
                    50.5,
                    50.5,
                    50.5,
                    50.7,
                    50.8,
                    50.8,
                    51.1,
                    51.1,
                    51.3,
                    51.5,
                    52.1,
                    52.2,
                    52.5,
                    53.4,
                    54.3,
                    55.1,
                    55.9,
                    59.6
                  ],
                  "xaxis": "x",
                  "y": [
                    13.629141932350505,
                    13.793017404847687,
                    13.854470707034128,
                    13.977377311407015,
                    13.997861745469162,
                    14.018346179531308,
                    14.038830613593456,
                    14.1002839157799,
                    14.120768349842045,
                    14.120768349842045,
                    14.141252783904193,
                    14.161737217966342,
                    14.161737217966342,
                    14.18222165202849,
                    14.223190520152784,
                    14.26415938827708,
                    14.346097124525668,
                    14.366581558587816,
                    14.366581558587816,
                    14.366581558587816,
                    14.448519294836407,
                    14.448519294836407,
                    14.469003728898555,
                    14.489488162960702,
                    14.489488162960702,
                    14.489488162960702,
                    14.50997259702285,
                    14.50997259702285,
                    14.50997259702285,
                    14.50997259702285,
                    14.530457031084996,
                    14.530457031084996,
                    14.550941465147144,
                    14.571425899209292,
                    14.571425899209292,
                    14.571425899209292,
                    14.571425899209292,
                    14.612394767333587,
                    14.632879201395735,
                    14.632879201395735,
                    14.694332503582178,
                    14.694332503582178,
                    14.714816937644326,
                    14.714816937644326,
                    14.714816937644326,
                    14.714816937644326,
                    14.735301371706472,
                    14.75578580576862,
                    14.75578580576862,
                    14.776270239830767,
                    14.776270239830767,
                    14.776270239830767,
                    14.776270239830767,
                    14.796754673892915,
                    14.817239107955062,
                    14.837723542017208,
                    14.837723542017208,
                    14.837723542017208,
                    14.858207976079356,
                    14.919661278265801,
                    14.919661278265801,
                    14.940145712327947,
                    14.940145712327947,
                    14.960630146390095,
                    14.981114580452243,
                    14.981114580452243,
                    14.981114580452243,
                    15.00159901451439,
                    15.022083448576538,
                    15.042567882638684,
                    15.104021184825127,
                    15.124505618887275,
                    15.124505618887275,
                    15.16547448701157,
                    15.16547448701157,
                    15.16547448701157,
                    15.185958921073718,
                    15.185958921073718,
                    15.206443355135866,
                    15.226927789198013,
                    15.226927789198013,
                    15.226927789198013,
                    15.24741222326016,
                    15.288381091384455,
                    15.308865525446603,
                    15.308865525446603,
                    15.308865525446603,
                    15.32934995950875,
                    15.349834393570896,
                    15.370318827633044,
                    15.390803261695192,
                    15.390803261695192,
                    15.411287695757341,
                    15.411287695757341,
                    15.452256563881635,
                    15.452256563881635,
                    15.472740997943783,
                    15.49322543200593,
                    15.49322543200593,
                    15.49322543200593,
                    15.49322543200593,
                    15.513709866068078,
                    15.534194300130226,
                    15.57516316825452,
                    15.57516316825452,
                    15.595647602316667,
                    15.595647602316667,
                    15.595647602316667,
                    15.636616470440963,
                    15.65710090450311,
                    15.65710090450311,
                    15.718554206689554,
                    15.718554206689554,
                    15.759523074813847,
                    15.800491942938143,
                    15.923398547311029,
                    15.943882981373177,
                    16.00533628355962,
                    16.189696190118944,
                    16.374056096678274,
                    16.537931569175456,
                    16.701807041672634,
                    17.459731101972093
                  ],
                  "yaxis": "y"
                },
                {
                  "hovertemplate": "species=Chinstrap<br>Bill Length (mm)=%{x}<br>Bill Depth (mm)=%{y}<extra></extra>",
                  "legendgroup": "Chinstrap",
                  "marker": {
                    "color": "#2CA02C",
                    "symbol": "circle"
                  },
                  "mode": "markers",
                  "name": "Chinstrap",
                  "orientation": "v",
                  "showlegend": true,
                  "type": "scatter",
                  "x": [
                    46.5,
                    50,
                    51.3,
                    45.4,
                    52.7,
                    45.2,
                    46.1,
                    51.3,
                    46,
                    51.3,
                    46.6,
                    51.7,
                    47,
                    52,
                    45.9,
                    50.5,
                    50.3,
                    58,
                    46.4,
                    49.2,
                    42.4,
                    48.5,
                    43.2,
                    50.6,
                    46.7,
                    52,
                    50.5,
                    49.5,
                    46.4,
                    52.8,
                    40.9,
                    54.2,
                    42.5,
                    51,
                    49.7,
                    47.5,
                    47.6,
                    52,
                    46.9,
                    53.5,
                    49,
                    46.2,
                    50.9,
                    45.5,
                    50.9,
                    50.8,
                    50.1,
                    49,
                    51.5,
                    49.8,
                    48.1,
                    51.4,
                    45.7,
                    50.7,
                    42.5,
                    52.2,
                    45.2,
                    49.3,
                    50.2,
                    45.6,
                    51.9,
                    46.8,
                    45.7,
                    55.8,
                    43.5,
                    49.6,
                    50.8,
                    50.2
                  ],
                  "xaxis": "x",
                  "y": [
                    17.9,
                    19.5,
                    19.2,
                    18.7,
                    19.8,
                    17.8,
                    18.2,
                    18.2,
                    18.9,
                    19.9,
                    17.8,
                    20.3,
                    17.3,
                    18.1,
                    17.1,
                    19.6,
                    20,
                    17.8,
                    18.6,
                    18.2,
                    17.3,
                    17.5,
                    16.6,
                    19.4,
                    17.9,
                    19,
                    18.4,
                    19,
                    17.8,
                    20,
                    16.6,
                    20.8,
                    16.7,
                    18.8,
                    18.6,
                    16.8,
                    18.3,
                    20.7,
                    16.6,
                    19.9,
                    19.5,
                    17.5,
                    19.1,
                    17,
                    17.9,
                    18.5,
                    17.9,
                    19.6,
                    18.7,
                    17.3,
                    16.4,
                    19,
                    17.3,
                    19.7,
                    17.3,
                    18.8,
                    16.6,
                    19.9,
                    18.8,
                    19.4,
                    19.5,
                    16.5,
                    17,
                    19.8,
                    18.1,
                    18.2,
                    19,
                    18.7
                  ],
                  "yaxis": "y"
                },
                {
                  "alignmentgroup": "True",
                  "hovertemplate": "species=Chinstrap<br>Bill Length (mm)=%{x}<extra></extra>",
                  "legendgroup": "Chinstrap",
                  "marker": {
                    "color": "#2CA02C",
                    "symbol": "circle"
                  },
                  "name": "Chinstrap",
                  "notched": true,
                  "offsetgroup": "Chinstrap",
                  "showlegend": false,
                  "type": "box",
                  "x": [
                    46.5,
                    50,
                    51.3,
                    45.4,
                    52.7,
                    45.2,
                    46.1,
                    51.3,
                    46,
                    51.3,
                    46.6,
                    51.7,
                    47,
                    52,
                    45.9,
                    50.5,
                    50.3,
                    58,
                    46.4,
                    49.2,
                    42.4,
                    48.5,
                    43.2,
                    50.6,
                    46.7,
                    52,
                    50.5,
                    49.5,
                    46.4,
                    52.8,
                    40.9,
                    54.2,
                    42.5,
                    51,
                    49.7,
                    47.5,
                    47.6,
                    52,
                    46.9,
                    53.5,
                    49,
                    46.2,
                    50.9,
                    45.5,
                    50.9,
                    50.8,
                    50.1,
                    49,
                    51.5,
                    49.8,
                    48.1,
                    51.4,
                    45.7,
                    50.7,
                    42.5,
                    52.2,
                    45.2,
                    49.3,
                    50.2,
                    45.6,
                    51.9,
                    46.8,
                    45.7,
                    55.8,
                    43.5,
                    49.6,
                    50.8,
                    50.2
                  ],
                  "xaxis": "x3",
                  "yaxis": "y3"
                },
                {
                  "alignmentgroup": "True",
                  "hovertemplate": "species=Chinstrap<br>Bill Depth (mm)=%{y}<extra></extra>",
                  "legendgroup": "Chinstrap",
                  "marker": {
                    "color": "#2CA02C",
                    "symbol": "circle"
                  },
                  "name": "Chinstrap",
                  "notched": true,
                  "offsetgroup": "Chinstrap",
                  "showlegend": false,
                  "type": "box",
                  "xaxis": "x2",
                  "y": [
                    17.9,
                    19.5,
                    19.2,
                    18.7,
                    19.8,
                    17.8,
                    18.2,
                    18.2,
                    18.9,
                    19.9,
                    17.8,
                    20.3,
                    17.3,
                    18.1,
                    17.1,
                    19.6,
                    20,
                    17.8,
                    18.6,
                    18.2,
                    17.3,
                    17.5,
                    16.6,
                    19.4,
                    17.9,
                    19,
                    18.4,
                    19,
                    17.8,
                    20,
                    16.6,
                    20.8,
                    16.7,
                    18.8,
                    18.6,
                    16.8,
                    18.3,
                    20.7,
                    16.6,
                    19.9,
                    19.5,
                    17.5,
                    19.1,
                    17,
                    17.9,
                    18.5,
                    17.9,
                    19.6,
                    18.7,
                    17.3,
                    16.4,
                    19,
                    17.3,
                    19.7,
                    17.3,
                    18.8,
                    16.6,
                    19.9,
                    18.8,
                    19.4,
                    19.5,
                    16.5,
                    17,
                    19.8,
                    18.1,
                    18.2,
                    19,
                    18.7
                  ],
                  "yaxis": "y2"
                },
                {
                  "hovertemplate": "<b>OLS trendline</b><br>bill_depth_mm = 0.222212 * bill_length_mm + 7.56914<br>R<sup>2</sup>=0.427110<br><br>species=Chinstrap<br>Bill Length (mm)=%{x}<br>Bill Depth (mm)=%{y} <b>(trend)</b><extra></extra>",
                  "legendgroup": "Chinstrap",
                  "marker": {
                    "color": "#2CA02C",
                    "symbol": "circle"
                  },
                  "mode": "lines",
                  "name": "Chinstrap",
                  "showlegend": false,
                  "type": "scatter",
                  "x": [
                    40.9,
                    42.4,
                    42.5,
                    42.5,
                    43.2,
                    43.5,
                    45.2,
                    45.2,
                    45.4,
                    45.5,
                    45.6,
                    45.7,
                    45.7,
                    45.9,
                    46,
                    46.1,
                    46.2,
                    46.4,
                    46.4,
                    46.5,
                    46.6,
                    46.7,
                    46.8,
                    46.9,
                    47,
                    47.5,
                    47.6,
                    48.1,
                    48.5,
                    49,
                    49,
                    49.2,
                    49.3,
                    49.5,
                    49.6,
                    49.7,
                    49.8,
                    50,
                    50.1,
                    50.2,
                    50.2,
                    50.3,
                    50.5,
                    50.5,
                    50.6,
                    50.7,
                    50.8,
                    50.8,
                    50.9,
                    50.9,
                    51,
                    51.3,
                    51.3,
                    51.3,
                    51.4,
                    51.5,
                    51.7,
                    51.9,
                    52,
                    52,
                    52,
                    52.2,
                    52.7,
                    52.8,
                    53.5,
                    54.2,
                    55.8,
                    58
                  ],
                  "xaxis": "x",
                  "y": [
                    16.65759963088263,
                    16.990917216888135,
                    17.013138389288503,
                    17.013138389288503,
                    17.168686596091074,
                    17.235350113292174,
                    17.613110044098416,
                    17.613110044098416,
                    17.657552388899152,
                    17.67977356129952,
                    17.701994733699884,
                    17.72421590610025,
                    17.72421590610025,
                    17.768658250900987,
                    17.790879423301355,
                    17.813100595701723,
                    17.835321768102087,
                    17.879764112902823,
                    17.879764112902823,
                    17.90198528530319,
                    17.92420645770356,
                    17.946427630103926,
                    17.96864880250429,
                    17.99086997490466,
                    18.013091147305026,
                    18.12419700930686,
                    18.14641818170723,
                    18.257524043709065,
                    18.346408733310533,
                    18.457514595312368,
                    18.457514595312368,
                    18.501956940113104,
                    18.524178112513468,
                    18.568620457314204,
                    18.59084162971457,
                    18.61306280211494,
                    18.635283974515303,
                    18.67972631931604,
                    18.701947491716407,
                    18.724168664116775,
                    18.724168664116775,
                    18.74638983651714,
                    18.790832181317874,
                    18.790832181317874,
                    18.813053353718242,
                    18.83527452611861,
                    18.857495698518974,
                    18.857495698518974,
                    18.879716870919342,
                    18.879716870919342,
                    18.90193804331971,
                    18.96860156052081,
                    18.96860156052081,
                    18.96860156052081,
                    18.990822732921178,
                    19.013043905321545,
                    19.05748625012228,
                    19.101928594923013,
                    19.12414976732338,
                    19.12414976732338,
                    19.12414976732338,
                    19.168592112124117,
                    19.279697974125952,
                    19.30191914652632,
                    19.45746735332889,
                    19.61301556013146,
                    19.968554318537333,
                    20.45742011134541
                  ],
                  "yaxis": "y"
                }
              ],
              "layout": {
                "legend": {
                  "title": {
                    "text": "species"
                  },
                  "tracegroupgap": 0
                },
                "template": {
                  "data": {
                    "bar": [
                      {
                        "error_x": {
                          "color": "rgb(36,36,36)"
                        },
                        "error_y": {
                          "color": "rgb(36,36,36)"
                        },
                        "marker": {
                          "line": {
                            "color": "white",
                            "width": 0.5
                          },
                          "pattern": {
                            "fillmode": "overlay",
                            "size": 10,
                            "solidity": 0.2
                          }
                        },
                        "type": "bar"
                      }
                    ],
                    "barpolar": [
                      {
                        "marker": {
                          "line": {
                            "color": "white",
                            "width": 0.5
                          },
                          "pattern": {
                            "fillmode": "overlay",
                            "size": 10,
                            "solidity": 0.2
                          }
                        },
                        "type": "barpolar"
                      }
                    ],
                    "carpet": [
                      {
                        "aaxis": {
                          "endlinecolor": "rgb(36,36,36)",
                          "gridcolor": "white",
                          "linecolor": "white",
                          "minorgridcolor": "white",
                          "startlinecolor": "rgb(36,36,36)"
                        },
                        "baxis": {
                          "endlinecolor": "rgb(36,36,36)",
                          "gridcolor": "white",
                          "linecolor": "white",
                          "minorgridcolor": "white",
                          "startlinecolor": "rgb(36,36,36)"
                        },
                        "type": "carpet"
                      }
                    ],
                    "choropleth": [
                      {
                        "colorbar": {
                          "outlinewidth": 1,
                          "tickcolor": "rgb(36,36,36)",
                          "ticks": "outside"
                        },
                        "type": "choropleth"
                      }
                    ],
                    "contour": [
                      {
                        "colorbar": {
                          "outlinewidth": 1,
                          "tickcolor": "rgb(36,36,36)",
                          "ticks": "outside"
                        },
                        "colorscale": [
                          [
                            0,
                            "#440154"
                          ],
                          [
                            0.1111111111111111,
                            "#482878"
                          ],
                          [
                            0.2222222222222222,
                            "#3e4989"
                          ],
                          [
                            0.3333333333333333,
                            "#31688e"
                          ],
                          [
                            0.4444444444444444,
                            "#26828e"
                          ],
                          [
                            0.5555555555555556,
                            "#1f9e89"
                          ],
                          [
                            0.6666666666666666,
                            "#35b779"
                          ],
                          [
                            0.7777777777777778,
                            "#6ece58"
                          ],
                          [
                            0.8888888888888888,
                            "#b5de2b"
                          ],
                          [
                            1,
                            "#fde725"
                          ]
                        ],
                        "type": "contour"
                      }
                    ],
                    "contourcarpet": [
                      {
                        "colorbar": {
                          "outlinewidth": 1,
                          "tickcolor": "rgb(36,36,36)",
                          "ticks": "outside"
                        },
                        "type": "contourcarpet"
                      }
                    ],
                    "heatmap": [
                      {
                        "colorbar": {
                          "outlinewidth": 1,
                          "tickcolor": "rgb(36,36,36)",
                          "ticks": "outside"
                        },
                        "colorscale": [
                          [
                            0,
                            "#440154"
                          ],
                          [
                            0.1111111111111111,
                            "#482878"
                          ],
                          [
                            0.2222222222222222,
                            "#3e4989"
                          ],
                          [
                            0.3333333333333333,
                            "#31688e"
                          ],
                          [
                            0.4444444444444444,
                            "#26828e"
                          ],
                          [
                            0.5555555555555556,
                            "#1f9e89"
                          ],
                          [
                            0.6666666666666666,
                            "#35b779"
                          ],
                          [
                            0.7777777777777778,
                            "#6ece58"
                          ],
                          [
                            0.8888888888888888,
                            "#b5de2b"
                          ],
                          [
                            1,
                            "#fde725"
                          ]
                        ],
                        "type": "heatmap"
                      }
                    ],
                    "heatmapgl": [
                      {
                        "colorbar": {
                          "outlinewidth": 1,
                          "tickcolor": "rgb(36,36,36)",
                          "ticks": "outside"
                        },
                        "colorscale": [
                          [
                            0,
                            "#440154"
                          ],
                          [
                            0.1111111111111111,
                            "#482878"
                          ],
                          [
                            0.2222222222222222,
                            "#3e4989"
                          ],
                          [
                            0.3333333333333333,
                            "#31688e"
                          ],
                          [
                            0.4444444444444444,
                            "#26828e"
                          ],
                          [
                            0.5555555555555556,
                            "#1f9e89"
                          ],
                          [
                            0.6666666666666666,
                            "#35b779"
                          ],
                          [
                            0.7777777777777778,
                            "#6ece58"
                          ],
                          [
                            0.8888888888888888,
                            "#b5de2b"
                          ],
                          [
                            1,
                            "#fde725"
                          ]
                        ],
                        "type": "heatmapgl"
                      }
                    ],
                    "histogram": [
                      {
                        "marker": {
                          "line": {
                            "color": "white",
                            "width": 0.6
                          }
                        },
                        "type": "histogram"
                      }
                    ],
                    "histogram2d": [
                      {
                        "colorbar": {
                          "outlinewidth": 1,
                          "tickcolor": "rgb(36,36,36)",
                          "ticks": "outside"
                        },
                        "colorscale": [
                          [
                            0,
                            "#440154"
                          ],
                          [
                            0.1111111111111111,
                            "#482878"
                          ],
                          [
                            0.2222222222222222,
                            "#3e4989"
                          ],
                          [
                            0.3333333333333333,
                            "#31688e"
                          ],
                          [
                            0.4444444444444444,
                            "#26828e"
                          ],
                          [
                            0.5555555555555556,
                            "#1f9e89"
                          ],
                          [
                            0.6666666666666666,
                            "#35b779"
                          ],
                          [
                            0.7777777777777778,
                            "#6ece58"
                          ],
                          [
                            0.8888888888888888,
                            "#b5de2b"
                          ],
                          [
                            1,
                            "#fde725"
                          ]
                        ],
                        "type": "histogram2d"
                      }
                    ],
                    "histogram2dcontour": [
                      {
                        "colorbar": {
                          "outlinewidth": 1,
                          "tickcolor": "rgb(36,36,36)",
                          "ticks": "outside"
                        },
                        "colorscale": [
                          [
                            0,
                            "#440154"
                          ],
                          [
                            0.1111111111111111,
                            "#482878"
                          ],
                          [
                            0.2222222222222222,
                            "#3e4989"
                          ],
                          [
                            0.3333333333333333,
                            "#31688e"
                          ],
                          [
                            0.4444444444444444,
                            "#26828e"
                          ],
                          [
                            0.5555555555555556,
                            "#1f9e89"
                          ],
                          [
                            0.6666666666666666,
                            "#35b779"
                          ],
                          [
                            0.7777777777777778,
                            "#6ece58"
                          ],
                          [
                            0.8888888888888888,
                            "#b5de2b"
                          ],
                          [
                            1,
                            "#fde725"
                          ]
                        ],
                        "type": "histogram2dcontour"
                      }
                    ],
                    "mesh3d": [
                      {
                        "colorbar": {
                          "outlinewidth": 1,
                          "tickcolor": "rgb(36,36,36)",
                          "ticks": "outside"
                        },
                        "type": "mesh3d"
                      }
                    ],
                    "parcoords": [
                      {
                        "line": {
                          "colorbar": {
                            "outlinewidth": 1,
                            "tickcolor": "rgb(36,36,36)",
                            "ticks": "outside"
                          }
                        },
                        "type": "parcoords"
                      }
                    ],
                    "pie": [
                      {
                        "automargin": true,
                        "type": "pie"
                      }
                    ],
                    "scatter": [
                      {
                        "fillpattern": {
                          "fillmode": "overlay",
                          "size": 10,
                          "solidity": 0.2
                        },
                        "type": "scatter"
                      }
                    ],
                    "scatter3d": [
                      {
                        "line": {
                          "colorbar": {
                            "outlinewidth": 1,
                            "tickcolor": "rgb(36,36,36)",
                            "ticks": "outside"
                          }
                        },
                        "marker": {
                          "colorbar": {
                            "outlinewidth": 1,
                            "tickcolor": "rgb(36,36,36)",
                            "ticks": "outside"
                          }
                        },
                        "type": "scatter3d"
                      }
                    ],
                    "scattercarpet": [
                      {
                        "marker": {
                          "colorbar": {
                            "outlinewidth": 1,
                            "tickcolor": "rgb(36,36,36)",
                            "ticks": "outside"
                          }
                        },
                        "type": "scattercarpet"
                      }
                    ],
                    "scattergeo": [
                      {
                        "marker": {
                          "colorbar": {
                            "outlinewidth": 1,
                            "tickcolor": "rgb(36,36,36)",
                            "ticks": "outside"
                          }
                        },
                        "type": "scattergeo"
                      }
                    ],
                    "scattergl": [
                      {
                        "marker": {
                          "colorbar": {
                            "outlinewidth": 1,
                            "tickcolor": "rgb(36,36,36)",
                            "ticks": "outside"
                          }
                        },
                        "type": "scattergl"
                      }
                    ],
                    "scattermapbox": [
                      {
                        "marker": {
                          "colorbar": {
                            "outlinewidth": 1,
                            "tickcolor": "rgb(36,36,36)",
                            "ticks": "outside"
                          }
                        },
                        "type": "scattermapbox"
                      }
                    ],
                    "scatterpolar": [
                      {
                        "marker": {
                          "colorbar": {
                            "outlinewidth": 1,
                            "tickcolor": "rgb(36,36,36)",
                            "ticks": "outside"
                          }
                        },
                        "type": "scatterpolar"
                      }
                    ],
                    "scatterpolargl": [
                      {
                        "marker": {
                          "colorbar": {
                            "outlinewidth": 1,
                            "tickcolor": "rgb(36,36,36)",
                            "ticks": "outside"
                          }
                        },
                        "type": "scatterpolargl"
                      }
                    ],
                    "scatterternary": [
                      {
                        "marker": {
                          "colorbar": {
                            "outlinewidth": 1,
                            "tickcolor": "rgb(36,36,36)",
                            "ticks": "outside"
                          }
                        },
                        "type": "scatterternary"
                      }
                    ],
                    "surface": [
                      {
                        "colorbar": {
                          "outlinewidth": 1,
                          "tickcolor": "rgb(36,36,36)",
                          "ticks": "outside"
                        },
                        "colorscale": [
                          [
                            0,
                            "#440154"
                          ],
                          [
                            0.1111111111111111,
                            "#482878"
                          ],
                          [
                            0.2222222222222222,
                            "#3e4989"
                          ],
                          [
                            0.3333333333333333,
                            "#31688e"
                          ],
                          [
                            0.4444444444444444,
                            "#26828e"
                          ],
                          [
                            0.5555555555555556,
                            "#1f9e89"
                          ],
                          [
                            0.6666666666666666,
                            "#35b779"
                          ],
                          [
                            0.7777777777777778,
                            "#6ece58"
                          ],
                          [
                            0.8888888888888888,
                            "#b5de2b"
                          ],
                          [
                            1,
                            "#fde725"
                          ]
                        ],
                        "type": "surface"
                      }
                    ],
                    "table": [
                      {
                        "cells": {
                          "fill": {
                            "color": "rgb(237,237,237)"
                          },
                          "line": {
                            "color": "white"
                          }
                        },
                        "header": {
                          "fill": {
                            "color": "rgb(217,217,217)"
                          },
                          "line": {
                            "color": "white"
                          }
                        },
                        "type": "table"
                      }
                    ]
                  },
                  "layout": {
                    "annotationdefaults": {
                      "arrowhead": 0,
                      "arrowwidth": 1
                    },
                    "autotypenumbers": "strict",
                    "coloraxis": {
                      "colorbar": {
                        "outlinewidth": 1,
                        "tickcolor": "rgb(36,36,36)",
                        "ticks": "outside"
                      }
                    },
                    "colorscale": {
                      "diverging": [
                        [
                          0,
                          "rgb(103,0,31)"
                        ],
                        [
                          0.1,
                          "rgb(178,24,43)"
                        ],
                        [
                          0.2,
                          "rgb(214,96,77)"
                        ],
                        [
                          0.3,
                          "rgb(244,165,130)"
                        ],
                        [
                          0.4,
                          "rgb(253,219,199)"
                        ],
                        [
                          0.5,
                          "rgb(247,247,247)"
                        ],
                        [
                          0.6,
                          "rgb(209,229,240)"
                        ],
                        [
                          0.7,
                          "rgb(146,197,222)"
                        ],
                        [
                          0.8,
                          "rgb(67,147,195)"
                        ],
                        [
                          0.9,
                          "rgb(33,102,172)"
                        ],
                        [
                          1,
                          "rgb(5,48,97)"
                        ]
                      ],
                      "sequential": [
                        [
                          0,
                          "#440154"
                        ],
                        [
                          0.1111111111111111,
                          "#482878"
                        ],
                        [
                          0.2222222222222222,
                          "#3e4989"
                        ],
                        [
                          0.3333333333333333,
                          "#31688e"
                        ],
                        [
                          0.4444444444444444,
                          "#26828e"
                        ],
                        [
                          0.5555555555555556,
                          "#1f9e89"
                        ],
                        [
                          0.6666666666666666,
                          "#35b779"
                        ],
                        [
                          0.7777777777777778,
                          "#6ece58"
                        ],
                        [
                          0.8888888888888888,
                          "#b5de2b"
                        ],
                        [
                          1,
                          "#fde725"
                        ]
                      ],
                      "sequentialminus": [
                        [
                          0,
                          "#440154"
                        ],
                        [
                          0.1111111111111111,
                          "#482878"
                        ],
                        [
                          0.2222222222222222,
                          "#3e4989"
                        ],
                        [
                          0.3333333333333333,
                          "#31688e"
                        ],
                        [
                          0.4444444444444444,
                          "#26828e"
                        ],
                        [
                          0.5555555555555556,
                          "#1f9e89"
                        ],
                        [
                          0.6666666666666666,
                          "#35b779"
                        ],
                        [
                          0.7777777777777778,
                          "#6ece58"
                        ],
                        [
                          0.8888888888888888,
                          "#b5de2b"
                        ],
                        [
                          1,
                          "#fde725"
                        ]
                      ]
                    },
                    "colorway": [
                      "#1F77B4",
                      "#FF7F0E",
                      "#2CA02C",
                      "#D62728",
                      "#9467BD",
                      "#8C564B",
                      "#E377C2",
                      "#7F7F7F",
                      "#BCBD22",
                      "#17BECF"
                    ],
                    "font": {
                      "color": "rgb(36,36,36)"
                    },
                    "geo": {
                      "bgcolor": "white",
                      "lakecolor": "white",
                      "landcolor": "white",
                      "showlakes": true,
                      "showland": true,
                      "subunitcolor": "white"
                    },
                    "hoverlabel": {
                      "align": "left"
                    },
                    "hovermode": "closest",
                    "mapbox": {
                      "style": "light"
                    },
                    "paper_bgcolor": "white",
                    "plot_bgcolor": "white",
                    "polar": {
                      "angularaxis": {
                        "gridcolor": "rgb(232,232,232)",
                        "linecolor": "rgb(36,36,36)",
                        "showgrid": false,
                        "showline": true,
                        "ticks": "outside"
                      },
                      "bgcolor": "white",
                      "radialaxis": {
                        "gridcolor": "rgb(232,232,232)",
                        "linecolor": "rgb(36,36,36)",
                        "showgrid": false,
                        "showline": true,
                        "ticks": "outside"
                      }
                    },
                    "scene": {
                      "xaxis": {
                        "backgroundcolor": "white",
                        "gridcolor": "rgb(232,232,232)",
                        "gridwidth": 2,
                        "linecolor": "rgb(36,36,36)",
                        "showbackground": true,
                        "showgrid": false,
                        "showline": true,
                        "ticks": "outside",
                        "zeroline": false,
                        "zerolinecolor": "rgb(36,36,36)"
                      },
                      "yaxis": {
                        "backgroundcolor": "white",
                        "gridcolor": "rgb(232,232,232)",
                        "gridwidth": 2,
                        "linecolor": "rgb(36,36,36)",
                        "showbackground": true,
                        "showgrid": false,
                        "showline": true,
                        "ticks": "outside",
                        "zeroline": false,
                        "zerolinecolor": "rgb(36,36,36)"
                      },
                      "zaxis": {
                        "backgroundcolor": "white",
                        "gridcolor": "rgb(232,232,232)",
                        "gridwidth": 2,
                        "linecolor": "rgb(36,36,36)",
                        "showbackground": true,
                        "showgrid": false,
                        "showline": true,
                        "ticks": "outside",
                        "zeroline": false,
                        "zerolinecolor": "rgb(36,36,36)"
                      }
                    },
                    "shapedefaults": {
                      "fillcolor": "black",
                      "line": {
                        "width": 0
                      },
                      "opacity": 0.3
                    },
                    "ternary": {
                      "aaxis": {
                        "gridcolor": "rgb(232,232,232)",
                        "linecolor": "rgb(36,36,36)",
                        "showgrid": false,
                        "showline": true,
                        "ticks": "outside"
                      },
                      "baxis": {
                        "gridcolor": "rgb(232,232,232)",
                        "linecolor": "rgb(36,36,36)",
                        "showgrid": false,
                        "showline": true,
                        "ticks": "outside"
                      },
                      "bgcolor": "white",
                      "caxis": {
                        "gridcolor": "rgb(232,232,232)",
                        "linecolor": "rgb(36,36,36)",
                        "showgrid": false,
                        "showline": true,
                        "ticks": "outside"
                      }
                    },
                    "title": {
                      "x": 0.05
                    },
                    "xaxis": {
                      "automargin": true,
                      "gridcolor": "rgb(232,232,232)",
                      "linecolor": "rgb(36,36,36)",
                      "showgrid": false,
                      "showline": true,
                      "ticks": "outside",
                      "title": {
                        "standoff": 15
                      },
                      "zeroline": false,
                      "zerolinecolor": "rgb(36,36,36)"
                    },
                    "yaxis": {
                      "automargin": true,
                      "gridcolor": "rgb(232,232,232)",
                      "linecolor": "rgb(36,36,36)",
                      "showgrid": false,
                      "showline": true,
                      "ticks": "outside",
                      "title": {
                        "standoff": 15
                      },
                      "zeroline": false,
                      "zerolinecolor": "rgb(36,36,36)"
                    }
                  }
                },
                "title": {
                  "text": "Bill Length vs Bill Depth by Species"
                },
                "xaxis": {
                  "anchor": "y",
                  "domain": [
                    0,
                    0.7363
                  ],
                  "title": {
                    "text": "Bill Length (mm)"
                  }
                },
                "xaxis2": {
                  "anchor": "y2",
                  "domain": [
                    0.7413,
                    1
                  ],
                  "matches": "x2",
                  "showline": false,
                  "showticklabels": false,
                  "ticks": ""
                },
                "xaxis3": {
                  "anchor": "y3",
                  "domain": [
                    0,
                    0.7363
                  ],
                  "matches": "x",
                  "showticklabels": false
                },
                "xaxis4": {
                  "anchor": "y4",
                  "domain": [
                    0.7413,
                    1
                  ],
                  "matches": "x2",
                  "showline": false,
                  "showticklabels": false,
                  "ticks": ""
                },
                "yaxis": {
                  "anchor": "x",
                  "domain": [
                    0,
                    0.7326
                  ],
                  "title": {
                    "text": "Bill Depth (mm)"
                  }
                },
                "yaxis2": {
                  "anchor": "x2",
                  "domain": [
                    0,
                    0.7326
                  ],
                  "matches": "y",
                  "showticklabels": false
                },
                "yaxis3": {
                  "anchor": "x3",
                  "domain": [
                    0.7426,
                    1
                  ],
                  "matches": "y3",
                  "showline": false,
                  "showticklabels": false,
                  "ticks": ""
                },
                "yaxis4": {
                  "anchor": "x4",
                  "domain": [
                    0.7426,
                    1
                  ],
                  "matches": "y3",
                  "showline": false,
                  "showticklabels": false,
                  "ticks": ""
                }
              }
            }
          },
          "metadata": {},
          "output_type": "display_data"
        }
      ],
      "source": [
        "df_penguins = pd.read_csv(\"https://raw.githubusercontent.com/kevindavisross/data301/main/data/penguins.csv\")\n",
        "\n",
        "px.scatter(df_penguins,\n",
        "           x=\"bill_length_mm\",\n",
        "           y=\"bill_depth_mm\",\n",
        "           color=\"species\",\n",
        "           marginal_y=\"box\",\n",
        "           marginal_x=\"box\",\n",
        "           trendline=\"ols\",\n",
        "           template=\"simple_white\",\n",
        "           title=\"Bill Length vs Bill Depth by Species\",\n",
        "           labels={\n",
        "                \"bill_length_mm\": \"Bill Length (mm)\",\n",
        "                \"bill_depth_mm\": \"Bill Depth (mm)\"\n",
        "           })"
      ]
    },
    {
      "cell_type": "markdown",
      "metadata": {
        "id": "66aXomeWmrvz"
      },
      "source": [
        "2\\. Write a paragraph that describes the story the graphic tells in context."
      ]
    },
    {
      "cell_type": "markdown",
      "metadata": {
        "id": "vFq8jlAOomza"
      },
      "source": [
        "**This graph displays the bill length versus the bill depth for the penguins. If we do not split up the graph based on the species, then we actually see a negative correlation meaning that penguins with longer bills have smaller bill depths. However, if we put the data in context with the species (as shown in the above graph), we see that for each species there is actually a positive correlation (can see with the trendline as well). Also, each species has its own range for bill lengths or bill depths, most likely due to evolution and them adapting to their surroundings.**\n",
        "\n",
        "**On the side of the scatter plot, there are also box plots that we can compare for each species regarding specifically bill length or bill depth. We can see that Adelie and Chinstrap have a similar distribution for bill depths, while Gentoo and Chinstrap have similar distribution/spread for bil lengths.**"
      ]
    },
    {
      "cell_type": "markdown",
      "metadata": {
        "id": "rkAwRLUzom12"
      },
      "source": [
        "3\\. Write a paragraph that describes why you chose this graphic and your process for recreating it. What was the hardest part to implement?"
      ]
    },
    {
      "cell_type": "markdown",
      "metadata": {
        "id": "GHcjMTgIom5S"
      },
      "source": [
        "**A scatter plot is the best way to visualize the bill length vs bill depth for the penguins as each penguin is an observation and we are able to see the general trend visually. We are also able to split the observations by their species, so we can see the trend of all the penguins/observations and specifically for each species as well. A bar graph or line graph would not be able to show the data in the same way where it is easy for the audience to visually see what the general trend is. I saw something similar in the Plotly Graph Gallery that had observations graphed on a scatter plot, colored by a certain variable, and then had a box plot for each axis. I thought that this would be perfect for our penguin data as we want to see how bill depth is related to bill length, but we can also compare each independently. The hardest part was finding out about the marginalx and the marginaly to create the boxplots specific to each axis.**"
      ]
    },
    {
      "cell_type": "markdown",
      "metadata": {
        "id": "t4v3KApNoz2M"
      },
      "source": [
        "## Part 4: House Recommendations\n",
        "\n",
        "In the \"Activity\" from the Day 07 notebook you recommended some houses that were similar to, but cheaper than, house 0 in the Ames data set. You will recreate your recommendation here. Provide a list of your top recommendations --- including the number of the house and its main features --- and explain why you're recommending these houses. Your explanation should include\n",
        "\n",
        "- Which variables you included, and why\n",
        "- Which scaling you used, and why\n",
        "- Which distance metric you used, and why\n",
        "- How sensitive your recommendations were to different choices (of variables, scaling, distance metric). You should at least compare to what you did in the previous parts (where you considered the 3 quantitative variables and 1 categorical variable).\n",
        "\n",
        "Hint: be careful about how you are treating the categorical variables."
      ]
    },
    {
      "cell_type": "markdown",
      "metadata": {
        "id": "PbaDlnd4qIsW"
      },
      "source": [
        "1\\. Provide all the code to reproduce your recommendations here."
      ]
    },
    {
      "cell_type": "code",
      "execution_count": null,
      "metadata": {
        "id": "at_5TpybqI3n"
      },
      "outputs": [
        {
          "data": {
            "text/html": [
              "<div>\n",
              "<style scoped>\n",
              "    .dataframe tbody tr th:only-of-type {\n",
              "        vertical-align: middle;\n",
              "    }\n",
              "\n",
              "    .dataframe tbody tr th {\n",
              "        vertical-align: top;\n",
              "    }\n",
              "\n",
              "    .dataframe thead th {\n",
              "        text-align: right;\n",
              "    }\n",
              "</style>\n",
              "<table border=\"1\" class=\"dataframe\">\n",
              "  <thead>\n",
              "    <tr style=\"text-align: right;\">\n",
              "      <th></th>\n",
              "      <th>Order</th>\n",
              "      <th>PID</th>\n",
              "      <th>MS SubClass</th>\n",
              "      <th>MS Zoning</th>\n",
              "      <th>Lot Frontage</th>\n",
              "      <th>Lot Area</th>\n",
              "      <th>Street</th>\n",
              "      <th>Alley</th>\n",
              "      <th>Lot Shape</th>\n",
              "      <th>Land Contour</th>\n",
              "      <th>...</th>\n",
              "      <th>Pool QC</th>\n",
              "      <th>Fence</th>\n",
              "      <th>Misc Feature</th>\n",
              "      <th>Misc Val</th>\n",
              "      <th>Mo Sold</th>\n",
              "      <th>Yr Sold</th>\n",
              "      <th>Sale Type</th>\n",
              "      <th>Sale Condition</th>\n",
              "      <th>SalePrice</th>\n",
              "      <th>Bathrooms</th>\n",
              "    </tr>\n",
              "  </thead>\n",
              "  <tbody>\n",
              "    <tr>\n",
              "      <th>0</th>\n",
              "      <td>1</td>\n",
              "      <td>526301100</td>\n",
              "      <td>20</td>\n",
              "      <td>RL</td>\n",
              "      <td>141.0</td>\n",
              "      <td>31770</td>\n",
              "      <td>Pave</td>\n",
              "      <td>NaN</td>\n",
              "      <td>IR1</td>\n",
              "      <td>Lvl</td>\n",
              "      <td>...</td>\n",
              "      <td>NaN</td>\n",
              "      <td>NaN</td>\n",
              "      <td>NaN</td>\n",
              "      <td>0</td>\n",
              "      <td>5</td>\n",
              "      <td>2010</td>\n",
              "      <td>WD</td>\n",
              "      <td>Normal</td>\n",
              "      <td>215000</td>\n",
              "      <td>1.0</td>\n",
              "    </tr>\n",
              "    <tr>\n",
              "      <th>1</th>\n",
              "      <td>2</td>\n",
              "      <td>526350040</td>\n",
              "      <td>20</td>\n",
              "      <td>RH</td>\n",
              "      <td>80.0</td>\n",
              "      <td>11622</td>\n",
              "      <td>Pave</td>\n",
              "      <td>NaN</td>\n",
              "      <td>Reg</td>\n",
              "      <td>Lvl</td>\n",
              "      <td>...</td>\n",
              "      <td>NaN</td>\n",
              "      <td>MnPrv</td>\n",
              "      <td>NaN</td>\n",
              "      <td>0</td>\n",
              "      <td>6</td>\n",
              "      <td>2010</td>\n",
              "      <td>WD</td>\n",
              "      <td>Normal</td>\n",
              "      <td>105000</td>\n",
              "      <td>1.0</td>\n",
              "    </tr>\n",
              "    <tr>\n",
              "      <th>2</th>\n",
              "      <td>3</td>\n",
              "      <td>526351010</td>\n",
              "      <td>20</td>\n",
              "      <td>RL</td>\n",
              "      <td>81.0</td>\n",
              "      <td>14267</td>\n",
              "      <td>Pave</td>\n",
              "      <td>NaN</td>\n",
              "      <td>IR1</td>\n",
              "      <td>Lvl</td>\n",
              "      <td>...</td>\n",
              "      <td>NaN</td>\n",
              "      <td>NaN</td>\n",
              "      <td>Gar2</td>\n",
              "      <td>12500</td>\n",
              "      <td>6</td>\n",
              "      <td>2010</td>\n",
              "      <td>WD</td>\n",
              "      <td>Normal</td>\n",
              "      <td>172000</td>\n",
              "      <td>1.5</td>\n",
              "    </tr>\n",
              "    <tr>\n",
              "      <th>3</th>\n",
              "      <td>4</td>\n",
              "      <td>526353030</td>\n",
              "      <td>20</td>\n",
              "      <td>RL</td>\n",
              "      <td>93.0</td>\n",
              "      <td>11160</td>\n",
              "      <td>Pave</td>\n",
              "      <td>NaN</td>\n",
              "      <td>Reg</td>\n",
              "      <td>Lvl</td>\n",
              "      <td>...</td>\n",
              "      <td>NaN</td>\n",
              "      <td>NaN</td>\n",
              "      <td>NaN</td>\n",
              "      <td>0</td>\n",
              "      <td>4</td>\n",
              "      <td>2010</td>\n",
              "      <td>WD</td>\n",
              "      <td>Normal</td>\n",
              "      <td>244000</td>\n",
              "      <td>2.5</td>\n",
              "    </tr>\n",
              "    <tr>\n",
              "      <th>4</th>\n",
              "      <td>5</td>\n",
              "      <td>527105010</td>\n",
              "      <td>60</td>\n",
              "      <td>RL</td>\n",
              "      <td>74.0</td>\n",
              "      <td>13830</td>\n",
              "      <td>Pave</td>\n",
              "      <td>NaN</td>\n",
              "      <td>IR1</td>\n",
              "      <td>Lvl</td>\n",
              "      <td>...</td>\n",
              "      <td>NaN</td>\n",
              "      <td>MnPrv</td>\n",
              "      <td>NaN</td>\n",
              "      <td>0</td>\n",
              "      <td>3</td>\n",
              "      <td>2010</td>\n",
              "      <td>WD</td>\n",
              "      <td>Normal</td>\n",
              "      <td>189900</td>\n",
              "      <td>2.5</td>\n",
              "    </tr>\n",
              "    <tr>\n",
              "      <th>...</th>\n",
              "      <td>...</td>\n",
              "      <td>...</td>\n",
              "      <td>...</td>\n",
              "      <td>...</td>\n",
              "      <td>...</td>\n",
              "      <td>...</td>\n",
              "      <td>...</td>\n",
              "      <td>...</td>\n",
              "      <td>...</td>\n",
              "      <td>...</td>\n",
              "      <td>...</td>\n",
              "      <td>...</td>\n",
              "      <td>...</td>\n",
              "      <td>...</td>\n",
              "      <td>...</td>\n",
              "      <td>...</td>\n",
              "      <td>...</td>\n",
              "      <td>...</td>\n",
              "      <td>...</td>\n",
              "      <td>...</td>\n",
              "      <td>...</td>\n",
              "    </tr>\n",
              "    <tr>\n",
              "      <th>2925</th>\n",
              "      <td>2926</td>\n",
              "      <td>923275080</td>\n",
              "      <td>80</td>\n",
              "      <td>RL</td>\n",
              "      <td>37.0</td>\n",
              "      <td>7937</td>\n",
              "      <td>Pave</td>\n",
              "      <td>NaN</td>\n",
              "      <td>IR1</td>\n",
              "      <td>Lvl</td>\n",
              "      <td>...</td>\n",
              "      <td>NaN</td>\n",
              "      <td>GdPrv</td>\n",
              "      <td>NaN</td>\n",
              "      <td>0</td>\n",
              "      <td>3</td>\n",
              "      <td>2006</td>\n",
              "      <td>WD</td>\n",
              "      <td>Normal</td>\n",
              "      <td>142500</td>\n",
              "      <td>1.0</td>\n",
              "    </tr>\n",
              "    <tr>\n",
              "      <th>2926</th>\n",
              "      <td>2927</td>\n",
              "      <td>923276100</td>\n",
              "      <td>20</td>\n",
              "      <td>RL</td>\n",
              "      <td>NaN</td>\n",
              "      <td>8885</td>\n",
              "      <td>Pave</td>\n",
              "      <td>NaN</td>\n",
              "      <td>IR1</td>\n",
              "      <td>Low</td>\n",
              "      <td>...</td>\n",
              "      <td>NaN</td>\n",
              "      <td>MnPrv</td>\n",
              "      <td>NaN</td>\n",
              "      <td>0</td>\n",
              "      <td>6</td>\n",
              "      <td>2006</td>\n",
              "      <td>WD</td>\n",
              "      <td>Normal</td>\n",
              "      <td>131000</td>\n",
              "      <td>1.0</td>\n",
              "    </tr>\n",
              "    <tr>\n",
              "      <th>2927</th>\n",
              "      <td>2928</td>\n",
              "      <td>923400125</td>\n",
              "      <td>85</td>\n",
              "      <td>RL</td>\n",
              "      <td>62.0</td>\n",
              "      <td>10441</td>\n",
              "      <td>Pave</td>\n",
              "      <td>NaN</td>\n",
              "      <td>Reg</td>\n",
              "      <td>Lvl</td>\n",
              "      <td>...</td>\n",
              "      <td>NaN</td>\n",
              "      <td>MnPrv</td>\n",
              "      <td>Shed</td>\n",
              "      <td>700</td>\n",
              "      <td>7</td>\n",
              "      <td>2006</td>\n",
              "      <td>WD</td>\n",
              "      <td>Normal</td>\n",
              "      <td>132000</td>\n",
              "      <td>1.0</td>\n",
              "    </tr>\n",
              "    <tr>\n",
              "      <th>2928</th>\n",
              "      <td>2929</td>\n",
              "      <td>924100070</td>\n",
              "      <td>20</td>\n",
              "      <td>RL</td>\n",
              "      <td>77.0</td>\n",
              "      <td>10010</td>\n",
              "      <td>Pave</td>\n",
              "      <td>NaN</td>\n",
              "      <td>Reg</td>\n",
              "      <td>Lvl</td>\n",
              "      <td>...</td>\n",
              "      <td>NaN</td>\n",
              "      <td>NaN</td>\n",
              "      <td>NaN</td>\n",
              "      <td>0</td>\n",
              "      <td>4</td>\n",
              "      <td>2006</td>\n",
              "      <td>WD</td>\n",
              "      <td>Normal</td>\n",
              "      <td>170000</td>\n",
              "      <td>1.0</td>\n",
              "    </tr>\n",
              "    <tr>\n",
              "      <th>2929</th>\n",
              "      <td>2930</td>\n",
              "      <td>924151050</td>\n",
              "      <td>60</td>\n",
              "      <td>RL</td>\n",
              "      <td>74.0</td>\n",
              "      <td>9627</td>\n",
              "      <td>Pave</td>\n",
              "      <td>NaN</td>\n",
              "      <td>Reg</td>\n",
              "      <td>Lvl</td>\n",
              "      <td>...</td>\n",
              "      <td>NaN</td>\n",
              "      <td>NaN</td>\n",
              "      <td>NaN</td>\n",
              "      <td>0</td>\n",
              "      <td>11</td>\n",
              "      <td>2006</td>\n",
              "      <td>WD</td>\n",
              "      <td>Normal</td>\n",
              "      <td>188000</td>\n",
              "      <td>2.5</td>\n",
              "    </tr>\n",
              "  </tbody>\n",
              "</table>\n",
              "<p>2930 rows × 83 columns</p>\n",
              "</div>"
            ],
            "text/plain": [
              "      Order        PID  MS SubClass MS Zoning  Lot Frontage  Lot Area Street   \n",
              "0         1  526301100           20        RL         141.0     31770   Pave  \\\n",
              "1         2  526350040           20        RH          80.0     11622   Pave   \n",
              "2         3  526351010           20        RL          81.0     14267   Pave   \n",
              "3         4  526353030           20        RL          93.0     11160   Pave   \n",
              "4         5  527105010           60        RL          74.0     13830   Pave   \n",
              "...     ...        ...          ...       ...           ...       ...    ...   \n",
              "2925   2926  923275080           80        RL          37.0      7937   Pave   \n",
              "2926   2927  923276100           20        RL           NaN      8885   Pave   \n",
              "2927   2928  923400125           85        RL          62.0     10441   Pave   \n",
              "2928   2929  924100070           20        RL          77.0     10010   Pave   \n",
              "2929   2930  924151050           60        RL          74.0      9627   Pave   \n",
              "\n",
              "     Alley Lot Shape Land Contour  ... Pool QC  Fence Misc Feature Misc Val   \n",
              "0      NaN       IR1          Lvl  ...     NaN    NaN          NaN        0  \\\n",
              "1      NaN       Reg          Lvl  ...     NaN  MnPrv          NaN        0   \n",
              "2      NaN       IR1          Lvl  ...     NaN    NaN         Gar2    12500   \n",
              "3      NaN       Reg          Lvl  ...     NaN    NaN          NaN        0   \n",
              "4      NaN       IR1          Lvl  ...     NaN  MnPrv          NaN        0   \n",
              "...    ...       ...          ...  ...     ...    ...          ...      ...   \n",
              "2925   NaN       IR1          Lvl  ...     NaN  GdPrv          NaN        0   \n",
              "2926   NaN       IR1          Low  ...     NaN  MnPrv          NaN        0   \n",
              "2927   NaN       Reg          Lvl  ...     NaN  MnPrv         Shed      700   \n",
              "2928   NaN       Reg          Lvl  ...     NaN    NaN          NaN        0   \n",
              "2929   NaN       Reg          Lvl  ...     NaN    NaN          NaN        0   \n",
              "\n",
              "     Mo Sold Yr Sold Sale Type Sale Condition  SalePrice  Bathrooms  \n",
              "0          5    2010       WD          Normal     215000        1.0  \n",
              "1          6    2010       WD          Normal     105000        1.0  \n",
              "2          6    2010       WD          Normal     172000        1.5  \n",
              "3          4    2010       WD          Normal     244000        2.5  \n",
              "4          3    2010       WD          Normal     189900        2.5  \n",
              "...      ...     ...       ...            ...        ...        ...  \n",
              "2925       3    2006       WD          Normal     142500        1.0  \n",
              "2926       6    2006       WD          Normal     131000        1.0  \n",
              "2927       7    2006       WD          Normal     132000        1.0  \n",
              "2928       4    2006       WD          Normal     170000        1.0  \n",
              "2929      11    2006       WD          Normal     188000        2.5  \n",
              "\n",
              "[2930 rows x 83 columns]"
            ]
          },
          "execution_count": 52,
          "metadata": {},
          "output_type": "execute_result"
        }
      ],
      "source": [
        "# ENTER YOUR CODE HERE. ADD AS MANY CELLS AS YOU WANT.\n",
        "df_housing = pd.read_csv(\"https://raw.githubusercontent.com/kevindavisross/data301/main/data/AmesHousing.txt\", sep=\"\\t\")\n",
        "df_housing[\"Bathrooms\"] = df_housing[\"Full Bath\"] + 0.5 * df_housing[\"Half Bath\"]\n",
        "\n",
        "df_housing"
      ]
    },
    {
      "cell_type": "code",
      "execution_count": null,
      "metadata": {},
      "outputs": [
        {
          "data": {
            "text/plain": [
              "Index(['Order', 'PID', 'MS SubClass', 'MS Zoning', 'Lot Frontage', 'Lot Area',\n",
              "       'Street', 'Alley', 'Lot Shape', 'Land Contour', 'Utilities',\n",
              "       'Lot Config', 'Land Slope', 'Neighborhood', 'Condition 1',\n",
              "       'Condition 2', 'Bldg Type', 'House Style', 'Overall Qual',\n",
              "       'Overall Cond', 'Year Built', 'Year Remod/Add', 'Roof Style',\n",
              "       'Roof Matl', 'Exterior 1st', 'Exterior 2nd', 'Mas Vnr Type',\n",
              "       'Mas Vnr Area', 'Exter Qual', 'Exter Cond', 'Foundation', 'Bsmt Qual',\n",
              "       'Bsmt Cond', 'Bsmt Exposure', 'BsmtFin Type 1', 'BsmtFin SF 1',\n",
              "       'BsmtFin Type 2', 'BsmtFin SF 2', 'Bsmt Unf SF', 'Total Bsmt SF',\n",
              "       'Heating', 'Heating QC', 'Central Air', 'Electrical', '1st Flr SF',\n",
              "       '2nd Flr SF', 'Low Qual Fin SF', 'Gr Liv Area', 'Bsmt Full Bath',\n",
              "       'Bsmt Half Bath', 'Full Bath', 'Half Bath', 'Bedroom AbvGr',\n",
              "       'Kitchen AbvGr', 'Kitchen Qual', 'TotRms AbvGrd', 'Functional',\n",
              "       'Fireplaces', 'Fireplace Qu', 'Garage Type', 'Garage Yr Blt',\n",
              "       'Garage Finish', 'Garage Cars', 'Garage Area', 'Garage Qual',\n",
              "       'Garage Cond', 'Paved Drive', 'Wood Deck SF', 'Open Porch SF',\n",
              "       'Enclosed Porch', '3Ssn Porch', 'Screen Porch', 'Pool Area', 'Pool QC',\n",
              "       'Fence', 'Misc Feature', 'Misc Val', 'Mo Sold', 'Yr Sold', 'Sale Type',\n",
              "       'Sale Condition', 'SalePrice', 'Bathrooms'],\n",
              "      dtype='object')"
            ]
          },
          "execution_count": 53,
          "metadata": {},
          "output_type": "execute_result"
        }
      ],
      "source": [
        "df_housing.columns\n",
        "# Interested in: Bedroom AbvGr, Gr Liv Area, Lot Area, Bldg Type, House Style, Year Built, Garage Area, Bathrooms"
      ]
    },
    {
      "cell_type": "code",
      "execution_count": null,
      "metadata": {},
      "outputs": [
        {
          "data": {
            "text/html": [
              "<div>\n",
              "<style scoped>\n",
              "    .dataframe tbody tr th:only-of-type {\n",
              "        vertical-align: middle;\n",
              "    }\n",
              "\n",
              "    .dataframe tbody tr th {\n",
              "        vertical-align: top;\n",
              "    }\n",
              "\n",
              "    .dataframe thead th {\n",
              "        text-align: right;\n",
              "    }\n",
              "</style>\n",
              "<table border=\"1\" class=\"dataframe\">\n",
              "  <thead>\n",
              "    <tr style=\"text-align: right;\">\n",
              "      <th></th>\n",
              "      <th>Bedroom AbvGr</th>\n",
              "      <th>Gr Liv Area</th>\n",
              "      <th>Lot Area</th>\n",
              "      <th>Bldg Type</th>\n",
              "      <th>House Style</th>\n",
              "      <th>Year Built</th>\n",
              "      <th>Garage Area</th>\n",
              "      <th>Bathrooms</th>\n",
              "    </tr>\n",
              "  </thead>\n",
              "  <tbody>\n",
              "    <tr>\n",
              "      <th>0</th>\n",
              "      <td>3</td>\n",
              "      <td>1656</td>\n",
              "      <td>31770</td>\n",
              "      <td>1Fam</td>\n",
              "      <td>1Story</td>\n",
              "      <td>1960</td>\n",
              "      <td>528.0</td>\n",
              "      <td>1.0</td>\n",
              "    </tr>\n",
              "    <tr>\n",
              "      <th>1</th>\n",
              "      <td>2</td>\n",
              "      <td>896</td>\n",
              "      <td>11622</td>\n",
              "      <td>1Fam</td>\n",
              "      <td>1Story</td>\n",
              "      <td>1961</td>\n",
              "      <td>730.0</td>\n",
              "      <td>1.0</td>\n",
              "    </tr>\n",
              "    <tr>\n",
              "      <th>2</th>\n",
              "      <td>3</td>\n",
              "      <td>1329</td>\n",
              "      <td>14267</td>\n",
              "      <td>1Fam</td>\n",
              "      <td>1Story</td>\n",
              "      <td>1958</td>\n",
              "      <td>312.0</td>\n",
              "      <td>1.5</td>\n",
              "    </tr>\n",
              "    <tr>\n",
              "      <th>3</th>\n",
              "      <td>3</td>\n",
              "      <td>2110</td>\n",
              "      <td>11160</td>\n",
              "      <td>1Fam</td>\n",
              "      <td>1Story</td>\n",
              "      <td>1968</td>\n",
              "      <td>522.0</td>\n",
              "      <td>2.5</td>\n",
              "    </tr>\n",
              "    <tr>\n",
              "      <th>4</th>\n",
              "      <td>3</td>\n",
              "      <td>1629</td>\n",
              "      <td>13830</td>\n",
              "      <td>1Fam</td>\n",
              "      <td>2Story</td>\n",
              "      <td>1997</td>\n",
              "      <td>482.0</td>\n",
              "      <td>2.5</td>\n",
              "    </tr>\n",
              "    <tr>\n",
              "      <th>...</th>\n",
              "      <td>...</td>\n",
              "      <td>...</td>\n",
              "      <td>...</td>\n",
              "      <td>...</td>\n",
              "      <td>...</td>\n",
              "      <td>...</td>\n",
              "      <td>...</td>\n",
              "      <td>...</td>\n",
              "    </tr>\n",
              "    <tr>\n",
              "      <th>2925</th>\n",
              "      <td>3</td>\n",
              "      <td>1003</td>\n",
              "      <td>7937</td>\n",
              "      <td>1Fam</td>\n",
              "      <td>SLvl</td>\n",
              "      <td>1984</td>\n",
              "      <td>588.0</td>\n",
              "      <td>1.0</td>\n",
              "    </tr>\n",
              "    <tr>\n",
              "      <th>2926</th>\n",
              "      <td>2</td>\n",
              "      <td>902</td>\n",
              "      <td>8885</td>\n",
              "      <td>1Fam</td>\n",
              "      <td>1Story</td>\n",
              "      <td>1983</td>\n",
              "      <td>484.0</td>\n",
              "      <td>1.0</td>\n",
              "    </tr>\n",
              "    <tr>\n",
              "      <th>2927</th>\n",
              "      <td>3</td>\n",
              "      <td>970</td>\n",
              "      <td>10441</td>\n",
              "      <td>1Fam</td>\n",
              "      <td>SFoyer</td>\n",
              "      <td>1992</td>\n",
              "      <td>0.0</td>\n",
              "      <td>1.0</td>\n",
              "    </tr>\n",
              "    <tr>\n",
              "      <th>2928</th>\n",
              "      <td>2</td>\n",
              "      <td>1389</td>\n",
              "      <td>10010</td>\n",
              "      <td>1Fam</td>\n",
              "      <td>1Story</td>\n",
              "      <td>1974</td>\n",
              "      <td>418.0</td>\n",
              "      <td>1.0</td>\n",
              "    </tr>\n",
              "    <tr>\n",
              "      <th>2929</th>\n",
              "      <td>3</td>\n",
              "      <td>2000</td>\n",
              "      <td>9627</td>\n",
              "      <td>1Fam</td>\n",
              "      <td>2Story</td>\n",
              "      <td>1993</td>\n",
              "      <td>650.0</td>\n",
              "      <td>2.5</td>\n",
              "    </tr>\n",
              "  </tbody>\n",
              "</table>\n",
              "<p>2930 rows × 8 columns</p>\n",
              "</div>"
            ],
            "text/plain": [
              "      Bedroom AbvGr  Gr Liv Area  Lot Area Bldg Type House Style  Year Built   \n",
              "0                 3         1656     31770      1Fam      1Story        1960  \\\n",
              "1                 2          896     11622      1Fam      1Story        1961   \n",
              "2                 3         1329     14267      1Fam      1Story        1958   \n",
              "3                 3         2110     11160      1Fam      1Story        1968   \n",
              "4                 3         1629     13830      1Fam      2Story        1997   \n",
              "...             ...          ...       ...       ...         ...         ...   \n",
              "2925              3         1003      7937      1Fam        SLvl        1984   \n",
              "2926              2          902      8885      1Fam      1Story        1983   \n",
              "2927              3          970     10441      1Fam      SFoyer        1992   \n",
              "2928              2         1389     10010      1Fam      1Story        1974   \n",
              "2929              3         2000      9627      1Fam      2Story        1993   \n",
              "\n",
              "      Garage Area  Bathrooms  \n",
              "0           528.0        1.0  \n",
              "1           730.0        1.0  \n",
              "2           312.0        1.5  \n",
              "3           522.0        2.5  \n",
              "4           482.0        2.5  \n",
              "...           ...        ...  \n",
              "2925        588.0        1.0  \n",
              "2926        484.0        1.0  \n",
              "2927          0.0        1.0  \n",
              "2928        418.0        1.0  \n",
              "2929        650.0        2.5  \n",
              "\n",
              "[2930 rows x 8 columns]"
            ]
          },
          "execution_count": 54,
          "metadata": {},
          "output_type": "execute_result"
        }
      ],
      "source": [
        "df_housing_subset = df_housing[[\"Bedroom AbvGr\", \"Gr Liv Area\", \"Lot Area\", \"Bldg Type\", \"House Style\", \"Year Built\", \"Garage Area\", \"Bathrooms\"]]\n",
        "\n",
        "df_housing_subset"
      ]
    },
    {
      "cell_type": "code",
      "execution_count": null,
      "metadata": {},
      "outputs": [
        {
          "data": {
            "text/plain": [
              "Bedroom AbvGr    0\n",
              "Gr Liv Area      0\n",
              "Lot Area         0\n",
              "Bldg Type        0\n",
              "House Style      0\n",
              "Year Built       0\n",
              "Garage Area      1\n",
              "Bathrooms        0\n",
              "dtype: int64"
            ]
          },
          "execution_count": 55,
          "metadata": {},
          "output_type": "execute_result"
        }
      ],
      "source": [
        "# find any missing values\n",
        "df_housing_subset.isnull().sum()"
      ]
    },
    {
      "cell_type": "code",
      "execution_count": null,
      "metadata": {},
      "outputs": [
        {
          "data": {
            "text/plain": [
              "Bedroom AbvGr    0\n",
              "Gr Liv Area      0\n",
              "Lot Area         0\n",
              "Bldg Type        0\n",
              "House Style      0\n",
              "Year Built       0\n",
              "Garage Area      0\n",
              "Bathrooms        0\n",
              "dtype: int64"
            ]
          },
          "execution_count": 56,
          "metadata": {},
          "output_type": "execute_result"
        }
      ],
      "source": [
        "df_housing_subset[df_housing_subset[\"Garage Area\"].isnull()]\n",
        "df_housing_subset.loc[df_housing_subset[\"Garage Area\"].isnull(), \"Garage Area\"] = 0\n",
        "\n",
        "df_housing_subset.isnull().sum()"
      ]
    },
    {
      "cell_type": "code",
      "execution_count": null,
      "metadata": {},
      "outputs": [
        {
          "data": {
            "text/html": [
              "<div>\n",
              "<style scoped>\n",
              "    .dataframe tbody tr th:only-of-type {\n",
              "        vertical-align: middle;\n",
              "    }\n",
              "\n",
              "    .dataframe tbody tr th {\n",
              "        vertical-align: top;\n",
              "    }\n",
              "\n",
              "    .dataframe thead th {\n",
              "        text-align: right;\n",
              "    }\n",
              "</style>\n",
              "<table border=\"1\" class=\"dataframe\">\n",
              "  <thead>\n",
              "    <tr style=\"text-align: right;\">\n",
              "      <th></th>\n",
              "      <th>Bedroom AbvGr</th>\n",
              "      <th>Gr Liv Area</th>\n",
              "      <th>Lot Area</th>\n",
              "      <th>Year Built</th>\n",
              "      <th>Garage Area</th>\n",
              "      <th>Bathrooms</th>\n",
              "      <th>Bldg Type_1Fam</th>\n",
              "      <th>Bldg Type_2fmCon</th>\n",
              "      <th>Bldg Type_Duplex</th>\n",
              "      <th>Bldg Type_Twnhs</th>\n",
              "      <th>Bldg Type_TwnhsE</th>\n",
              "      <th>House Style_1.5Fin</th>\n",
              "      <th>House Style_1.5Unf</th>\n",
              "      <th>House Style_1Story</th>\n",
              "      <th>House Style_2.5Fin</th>\n",
              "      <th>House Style_2.5Unf</th>\n",
              "      <th>House Style_2Story</th>\n",
              "      <th>House Style_SFoyer</th>\n",
              "      <th>House Style_SLvl</th>\n",
              "    </tr>\n",
              "  </thead>\n",
              "  <tbody>\n",
              "    <tr>\n",
              "      <th>0</th>\n",
              "      <td>3</td>\n",
              "      <td>1656</td>\n",
              "      <td>31770</td>\n",
              "      <td>1960</td>\n",
              "      <td>528.0</td>\n",
              "      <td>1.0</td>\n",
              "      <td>True</td>\n",
              "      <td>False</td>\n",
              "      <td>False</td>\n",
              "      <td>False</td>\n",
              "      <td>False</td>\n",
              "      <td>False</td>\n",
              "      <td>False</td>\n",
              "      <td>True</td>\n",
              "      <td>False</td>\n",
              "      <td>False</td>\n",
              "      <td>False</td>\n",
              "      <td>False</td>\n",
              "      <td>False</td>\n",
              "    </tr>\n",
              "    <tr>\n",
              "      <th>1</th>\n",
              "      <td>2</td>\n",
              "      <td>896</td>\n",
              "      <td>11622</td>\n",
              "      <td>1961</td>\n",
              "      <td>730.0</td>\n",
              "      <td>1.0</td>\n",
              "      <td>True</td>\n",
              "      <td>False</td>\n",
              "      <td>False</td>\n",
              "      <td>False</td>\n",
              "      <td>False</td>\n",
              "      <td>False</td>\n",
              "      <td>False</td>\n",
              "      <td>True</td>\n",
              "      <td>False</td>\n",
              "      <td>False</td>\n",
              "      <td>False</td>\n",
              "      <td>False</td>\n",
              "      <td>False</td>\n",
              "    </tr>\n",
              "    <tr>\n",
              "      <th>2</th>\n",
              "      <td>3</td>\n",
              "      <td>1329</td>\n",
              "      <td>14267</td>\n",
              "      <td>1958</td>\n",
              "      <td>312.0</td>\n",
              "      <td>1.5</td>\n",
              "      <td>True</td>\n",
              "      <td>False</td>\n",
              "      <td>False</td>\n",
              "      <td>False</td>\n",
              "      <td>False</td>\n",
              "      <td>False</td>\n",
              "      <td>False</td>\n",
              "      <td>True</td>\n",
              "      <td>False</td>\n",
              "      <td>False</td>\n",
              "      <td>False</td>\n",
              "      <td>False</td>\n",
              "      <td>False</td>\n",
              "    </tr>\n",
              "    <tr>\n",
              "      <th>3</th>\n",
              "      <td>3</td>\n",
              "      <td>2110</td>\n",
              "      <td>11160</td>\n",
              "      <td>1968</td>\n",
              "      <td>522.0</td>\n",
              "      <td>2.5</td>\n",
              "      <td>True</td>\n",
              "      <td>False</td>\n",
              "      <td>False</td>\n",
              "      <td>False</td>\n",
              "      <td>False</td>\n",
              "      <td>False</td>\n",
              "      <td>False</td>\n",
              "      <td>True</td>\n",
              "      <td>False</td>\n",
              "      <td>False</td>\n",
              "      <td>False</td>\n",
              "      <td>False</td>\n",
              "      <td>False</td>\n",
              "    </tr>\n",
              "    <tr>\n",
              "      <th>4</th>\n",
              "      <td>3</td>\n",
              "      <td>1629</td>\n",
              "      <td>13830</td>\n",
              "      <td>1997</td>\n",
              "      <td>482.0</td>\n",
              "      <td>2.5</td>\n",
              "      <td>True</td>\n",
              "      <td>False</td>\n",
              "      <td>False</td>\n",
              "      <td>False</td>\n",
              "      <td>False</td>\n",
              "      <td>False</td>\n",
              "      <td>False</td>\n",
              "      <td>False</td>\n",
              "      <td>False</td>\n",
              "      <td>False</td>\n",
              "      <td>True</td>\n",
              "      <td>False</td>\n",
              "      <td>False</td>\n",
              "    </tr>\n",
              "    <tr>\n",
              "      <th>...</th>\n",
              "      <td>...</td>\n",
              "      <td>...</td>\n",
              "      <td>...</td>\n",
              "      <td>...</td>\n",
              "      <td>...</td>\n",
              "      <td>...</td>\n",
              "      <td>...</td>\n",
              "      <td>...</td>\n",
              "      <td>...</td>\n",
              "      <td>...</td>\n",
              "      <td>...</td>\n",
              "      <td>...</td>\n",
              "      <td>...</td>\n",
              "      <td>...</td>\n",
              "      <td>...</td>\n",
              "      <td>...</td>\n",
              "      <td>...</td>\n",
              "      <td>...</td>\n",
              "      <td>...</td>\n",
              "    </tr>\n",
              "    <tr>\n",
              "      <th>2925</th>\n",
              "      <td>3</td>\n",
              "      <td>1003</td>\n",
              "      <td>7937</td>\n",
              "      <td>1984</td>\n",
              "      <td>588.0</td>\n",
              "      <td>1.0</td>\n",
              "      <td>True</td>\n",
              "      <td>False</td>\n",
              "      <td>False</td>\n",
              "      <td>False</td>\n",
              "      <td>False</td>\n",
              "      <td>False</td>\n",
              "      <td>False</td>\n",
              "      <td>False</td>\n",
              "      <td>False</td>\n",
              "      <td>False</td>\n",
              "      <td>False</td>\n",
              "      <td>False</td>\n",
              "      <td>True</td>\n",
              "    </tr>\n",
              "    <tr>\n",
              "      <th>2926</th>\n",
              "      <td>2</td>\n",
              "      <td>902</td>\n",
              "      <td>8885</td>\n",
              "      <td>1983</td>\n",
              "      <td>484.0</td>\n",
              "      <td>1.0</td>\n",
              "      <td>True</td>\n",
              "      <td>False</td>\n",
              "      <td>False</td>\n",
              "      <td>False</td>\n",
              "      <td>False</td>\n",
              "      <td>False</td>\n",
              "      <td>False</td>\n",
              "      <td>True</td>\n",
              "      <td>False</td>\n",
              "      <td>False</td>\n",
              "      <td>False</td>\n",
              "      <td>False</td>\n",
              "      <td>False</td>\n",
              "    </tr>\n",
              "    <tr>\n",
              "      <th>2927</th>\n",
              "      <td>3</td>\n",
              "      <td>970</td>\n",
              "      <td>10441</td>\n",
              "      <td>1992</td>\n",
              "      <td>0.0</td>\n",
              "      <td>1.0</td>\n",
              "      <td>True</td>\n",
              "      <td>False</td>\n",
              "      <td>False</td>\n",
              "      <td>False</td>\n",
              "      <td>False</td>\n",
              "      <td>False</td>\n",
              "      <td>False</td>\n",
              "      <td>False</td>\n",
              "      <td>False</td>\n",
              "      <td>False</td>\n",
              "      <td>False</td>\n",
              "      <td>True</td>\n",
              "      <td>False</td>\n",
              "    </tr>\n",
              "    <tr>\n",
              "      <th>2928</th>\n",
              "      <td>2</td>\n",
              "      <td>1389</td>\n",
              "      <td>10010</td>\n",
              "      <td>1974</td>\n",
              "      <td>418.0</td>\n",
              "      <td>1.0</td>\n",
              "      <td>True</td>\n",
              "      <td>False</td>\n",
              "      <td>False</td>\n",
              "      <td>False</td>\n",
              "      <td>False</td>\n",
              "      <td>False</td>\n",
              "      <td>False</td>\n",
              "      <td>True</td>\n",
              "      <td>False</td>\n",
              "      <td>False</td>\n",
              "      <td>False</td>\n",
              "      <td>False</td>\n",
              "      <td>False</td>\n",
              "    </tr>\n",
              "    <tr>\n",
              "      <th>2929</th>\n",
              "      <td>3</td>\n",
              "      <td>2000</td>\n",
              "      <td>9627</td>\n",
              "      <td>1993</td>\n",
              "      <td>650.0</td>\n",
              "      <td>2.5</td>\n",
              "      <td>True</td>\n",
              "      <td>False</td>\n",
              "      <td>False</td>\n",
              "      <td>False</td>\n",
              "      <td>False</td>\n",
              "      <td>False</td>\n",
              "      <td>False</td>\n",
              "      <td>False</td>\n",
              "      <td>False</td>\n",
              "      <td>False</td>\n",
              "      <td>True</td>\n",
              "      <td>False</td>\n",
              "      <td>False</td>\n",
              "    </tr>\n",
              "  </tbody>\n",
              "</table>\n",
              "<p>2930 rows × 19 columns</p>\n",
              "</div>"
            ],
            "text/plain": [
              "      Bedroom AbvGr  Gr Liv Area  Lot Area  Year Built  Garage Area   \n",
              "0                 3         1656     31770        1960        528.0  \\\n",
              "1                 2          896     11622        1961        730.0   \n",
              "2                 3         1329     14267        1958        312.0   \n",
              "3                 3         2110     11160        1968        522.0   \n",
              "4                 3         1629     13830        1997        482.0   \n",
              "...             ...          ...       ...         ...          ...   \n",
              "2925              3         1003      7937        1984        588.0   \n",
              "2926              2          902      8885        1983        484.0   \n",
              "2927              3          970     10441        1992          0.0   \n",
              "2928              2         1389     10010        1974        418.0   \n",
              "2929              3         2000      9627        1993        650.0   \n",
              "\n",
              "      Bathrooms  Bldg Type_1Fam  Bldg Type_2fmCon  Bldg Type_Duplex   \n",
              "0           1.0            True             False             False  \\\n",
              "1           1.0            True             False             False   \n",
              "2           1.5            True             False             False   \n",
              "3           2.5            True             False             False   \n",
              "4           2.5            True             False             False   \n",
              "...         ...             ...               ...               ...   \n",
              "2925        1.0            True             False             False   \n",
              "2926        1.0            True             False             False   \n",
              "2927        1.0            True             False             False   \n",
              "2928        1.0            True             False             False   \n",
              "2929        2.5            True             False             False   \n",
              "\n",
              "      Bldg Type_Twnhs  Bldg Type_TwnhsE  House Style_1.5Fin   \n",
              "0               False             False               False  \\\n",
              "1               False             False               False   \n",
              "2               False             False               False   \n",
              "3               False             False               False   \n",
              "4               False             False               False   \n",
              "...               ...               ...                 ...   \n",
              "2925            False             False               False   \n",
              "2926            False             False               False   \n",
              "2927            False             False               False   \n",
              "2928            False             False               False   \n",
              "2929            False             False               False   \n",
              "\n",
              "      House Style_1.5Unf  House Style_1Story  House Style_2.5Fin   \n",
              "0                  False                True               False  \\\n",
              "1                  False                True               False   \n",
              "2                  False                True               False   \n",
              "3                  False                True               False   \n",
              "4                  False               False               False   \n",
              "...                  ...                 ...                 ...   \n",
              "2925               False               False               False   \n",
              "2926               False                True               False   \n",
              "2927               False               False               False   \n",
              "2928               False                True               False   \n",
              "2929               False               False               False   \n",
              "\n",
              "      House Style_2.5Unf  House Style_2Story  House Style_SFoyer   \n",
              "0                  False               False               False  \\\n",
              "1                  False               False               False   \n",
              "2                  False               False               False   \n",
              "3                  False               False               False   \n",
              "4                  False                True               False   \n",
              "...                  ...                 ...                 ...   \n",
              "2925               False               False               False   \n",
              "2926               False               False               False   \n",
              "2927               False               False                True   \n",
              "2928               False               False               False   \n",
              "2929               False                True               False   \n",
              "\n",
              "      House Style_SLvl  \n",
              "0                False  \n",
              "1                False  \n",
              "2                False  \n",
              "3                False  \n",
              "4                False  \n",
              "...                ...  \n",
              "2925              True  \n",
              "2926             False  \n",
              "2927             False  \n",
              "2928             False  \n",
              "2929             False  \n",
              "\n",
              "[2930 rows x 19 columns]"
            ]
          },
          "execution_count": 57,
          "metadata": {},
          "output_type": "execute_result"
        }
      ],
      "source": [
        "df_housing_dummies = pd.get_dummies(df_housing_subset, columns=[\"Bldg Type\", \"House Style\"])\n",
        "df_housing_dummies"
      ]
    },
    {
      "cell_type": "code",
      "execution_count": null,
      "metadata": {},
      "outputs": [
        {
          "data": {
            "text/plain": [
              "array([[ 0.17609421,  0.30926506,  2.74438073, ..., -0.65146333,\n",
              "        -0.17074395, -0.21373267],\n",
              "       [-1.03223376, -1.19442705,  0.18709726, ..., -0.65146333,\n",
              "        -0.17074395, -0.21373267],\n",
              "       [ 0.17609421, -0.33771825,  0.5228137 , ..., -0.65146333,\n",
              "        -0.17074395, -0.21373267],\n",
              "       ...,\n",
              "       [ 0.17609421, -1.04801492,  0.03719892, ..., -0.65146333,\n",
              "         5.85672304, -0.21373267],\n",
              "       [-1.03223376, -0.21900572, -0.01750572, ..., -0.65146333,\n",
              "        -0.17074395, -0.21373267],\n",
              "       [ 0.17609421,  0.9898836 , -0.06611797, ...,  1.53500581,\n",
              "        -0.17074395, -0.21373267]])"
            ]
          },
          "execution_count": 58,
          "metadata": {},
          "output_type": "execute_result"
        }
      ],
      "source": [
        "from sklearn.preprocessing import StandardScaler\n",
        "\n",
        "scaler = StandardScaler()\n",
        "scaler.fit(df_housing_dummies)\n",
        "df_housing_scaled = scaler.transform(df_housing_dummies)\n",
        "\n",
        "df_housing_scaled\n"
      ]
    },
    {
      "cell_type": "code",
      "execution_count": null,
      "metadata": {},
      "outputs": [
        {
          "data": {
            "text/plain": [
              "array([[0.        ],\n",
              "       [3.33817768],\n",
              "       [2.6403318 ],\n",
              "       ...,\n",
              "       [7.52623689],\n",
              "       [3.13733521],\n",
              "       [4.90935057]])"
            ]
          },
          "execution_count": 59,
          "metadata": {},
          "output_type": "execute_result"
        }
      ],
      "source": [
        "from sklearn.metrics.pairwise import euclidean_distances\n",
        "\n",
        "eu_dist = euclidean_distances(df_housing_scaled, df_housing_scaled[0, :].reshape(1, -1))\n",
        "eu_dist"
      ]
    },
    {
      "cell_type": "code",
      "execution_count": null,
      "metadata": {},
      "outputs": [
        {
          "data": {
            "text/html": [
              "<div>\n",
              "<style scoped>\n",
              "    .dataframe tbody tr th:only-of-type {\n",
              "        vertical-align: middle;\n",
              "    }\n",
              "\n",
              "    .dataframe tbody tr th {\n",
              "        vertical-align: top;\n",
              "    }\n",
              "\n",
              "    .dataframe thead th {\n",
              "        text-align: right;\n",
              "    }\n",
              "</style>\n",
              "<table border=\"1\" class=\"dataframe\">\n",
              "  <thead>\n",
              "    <tr style=\"text-align: right;\">\n",
              "      <th></th>\n",
              "      <th>Order</th>\n",
              "      <th>PID</th>\n",
              "      <th>MS SubClass</th>\n",
              "      <th>MS Zoning</th>\n",
              "      <th>Lot Frontage</th>\n",
              "      <th>Lot Area</th>\n",
              "      <th>Street</th>\n",
              "      <th>Alley</th>\n",
              "      <th>Lot Shape</th>\n",
              "      <th>Land Contour</th>\n",
              "      <th>...</th>\n",
              "      <th>Fence</th>\n",
              "      <th>Misc Feature</th>\n",
              "      <th>Misc Val</th>\n",
              "      <th>Mo Sold</th>\n",
              "      <th>Yr Sold</th>\n",
              "      <th>Sale Type</th>\n",
              "      <th>Sale Condition</th>\n",
              "      <th>SalePrice</th>\n",
              "      <th>Bathrooms</th>\n",
              "      <th>eu_distances</th>\n",
              "    </tr>\n",
              "  </thead>\n",
              "  <tbody>\n",
              "    <tr>\n",
              "      <th>2298</th>\n",
              "      <td>2299</td>\n",
              "      <td>923251160</td>\n",
              "      <td>20</td>\n",
              "      <td>RL</td>\n",
              "      <td>124.0</td>\n",
              "      <td>27697</td>\n",
              "      <td>Pave</td>\n",
              "      <td>NaN</td>\n",
              "      <td>Reg</td>\n",
              "      <td>Lvl</td>\n",
              "      <td>...</td>\n",
              "      <td>NaN</td>\n",
              "      <td>NaN</td>\n",
              "      <td>0</td>\n",
              "      <td>11</td>\n",
              "      <td>2007</td>\n",
              "      <td>COD</td>\n",
              "      <td>Abnorml</td>\n",
              "      <td>80000</td>\n",
              "      <td>1.0</td>\n",
              "      <td>0.655589</td>\n",
              "    </tr>\n",
              "    <tr>\n",
              "      <th>2903</th>\n",
              "      <td>2904</td>\n",
              "      <td>923125030</td>\n",
              "      <td>20</td>\n",
              "      <td>A (agr)</td>\n",
              "      <td>125.0</td>\n",
              "      <td>31250</td>\n",
              "      <td>Pave</td>\n",
              "      <td>NaN</td>\n",
              "      <td>Reg</td>\n",
              "      <td>Lvl</td>\n",
              "      <td>...</td>\n",
              "      <td>NaN</td>\n",
              "      <td>NaN</td>\n",
              "      <td>0</td>\n",
              "      <td>5</td>\n",
              "      <td>2006</td>\n",
              "      <td>WD</td>\n",
              "      <td>Normal</td>\n",
              "      <td>81500</td>\n",
              "      <td>1.5</td>\n",
              "      <td>1.465712</td>\n",
              "    </tr>\n",
              "    <tr>\n",
              "      <th>1013</th>\n",
              "      <td>1014</td>\n",
              "      <td>527226020</td>\n",
              "      <td>20</td>\n",
              "      <td>RL</td>\n",
              "      <td>NaN</td>\n",
              "      <td>31220</td>\n",
              "      <td>Pave</td>\n",
              "      <td>NaN</td>\n",
              "      <td>IR1</td>\n",
              "      <td>Bnk</td>\n",
              "      <td>...</td>\n",
              "      <td>NaN</td>\n",
              "      <td>Shed</td>\n",
              "      <td>750</td>\n",
              "      <td>5</td>\n",
              "      <td>2008</td>\n",
              "      <td>WD</td>\n",
              "      <td>Normal</td>\n",
              "      <td>115000</td>\n",
              "      <td>1.0</td>\n",
              "      <td>0.477549</td>\n",
              "    </tr>\n",
              "    <tr>\n",
              "      <th>970</th>\n",
              "      <td>971</td>\n",
              "      <td>923202060</td>\n",
              "      <td>20</td>\n",
              "      <td>RL</td>\n",
              "      <td>100.0</td>\n",
              "      <td>21750</td>\n",
              "      <td>Pave</td>\n",
              "      <td>NaN</td>\n",
              "      <td>Reg</td>\n",
              "      <td>Lvl</td>\n",
              "      <td>...</td>\n",
              "      <td>GdPrv</td>\n",
              "      <td>NaN</td>\n",
              "      <td>0</td>\n",
              "      <td>11</td>\n",
              "      <td>2009</td>\n",
              "      <td>WD</td>\n",
              "      <td>Normal</td>\n",
              "      <td>115000</td>\n",
              "      <td>1.0</td>\n",
              "      <td>1.570220</td>\n",
              "    </tr>\n",
              "    <tr>\n",
              "      <th>2700</th>\n",
              "      <td>2701</td>\n",
              "      <td>904100170</td>\n",
              "      <td>20</td>\n",
              "      <td>RL</td>\n",
              "      <td>100.0</td>\n",
              "      <td>21370</td>\n",
              "      <td>Pave</td>\n",
              "      <td>NaN</td>\n",
              "      <td>Reg</td>\n",
              "      <td>Lvl</td>\n",
              "      <td>...</td>\n",
              "      <td>NaN</td>\n",
              "      <td>Shed</td>\n",
              "      <td>600</td>\n",
              "      <td>6</td>\n",
              "      <td>2006</td>\n",
              "      <td>WD</td>\n",
              "      <td>Normal</td>\n",
              "      <td>131000</td>\n",
              "      <td>1.0</td>\n",
              "      <td>1.496900</td>\n",
              "    </tr>\n",
              "    <tr>\n",
              "      <th>334</th>\n",
              "      <td>335</td>\n",
              "      <td>923251080</td>\n",
              "      <td>20</td>\n",
              "      <td>RL</td>\n",
              "      <td>NaN</td>\n",
              "      <td>26142</td>\n",
              "      <td>Pave</td>\n",
              "      <td>NaN</td>\n",
              "      <td>IR1</td>\n",
              "      <td>Lvl</td>\n",
              "      <td>...</td>\n",
              "      <td>NaN</td>\n",
              "      <td>NaN</td>\n",
              "      <td>0</td>\n",
              "      <td>4</td>\n",
              "      <td>2010</td>\n",
              "      <td>WD</td>\n",
              "      <td>Normal</td>\n",
              "      <td>157900</td>\n",
              "      <td>1.0</td>\n",
              "      <td>1.542711</td>\n",
              "    </tr>\n",
              "    <tr>\n",
              "      <th>2294</th>\n",
              "      <td>2295</td>\n",
              "      <td>923229140</td>\n",
              "      <td>20</td>\n",
              "      <td>RL</td>\n",
              "      <td>61.0</td>\n",
              "      <td>33983</td>\n",
              "      <td>Pave</td>\n",
              "      <td>NaN</td>\n",
              "      <td>IR1</td>\n",
              "      <td>Lvl</td>\n",
              "      <td>...</td>\n",
              "      <td>GdPrv</td>\n",
              "      <td>NaN</td>\n",
              "      <td>0</td>\n",
              "      <td>5</td>\n",
              "      <td>2007</td>\n",
              "      <td>WD</td>\n",
              "      <td>Normal</td>\n",
              "      <td>196000</td>\n",
              "      <td>1.5</td>\n",
              "      <td>1.203981</td>\n",
              "    </tr>\n",
              "    <tr>\n",
              "      <th>1895</th>\n",
              "      <td>1896</td>\n",
              "      <td>534425015</td>\n",
              "      <td>20</td>\n",
              "      <td>RL</td>\n",
              "      <td>NaN</td>\n",
              "      <td>22002</td>\n",
              "      <td>Pave</td>\n",
              "      <td>NaN</td>\n",
              "      <td>Reg</td>\n",
              "      <td>Lvl</td>\n",
              "      <td>...</td>\n",
              "      <td>NaN</td>\n",
              "      <td>NaN</td>\n",
              "      <td>0</td>\n",
              "      <td>7</td>\n",
              "      <td>2007</td>\n",
              "      <td>WD</td>\n",
              "      <td>Normal</td>\n",
              "      <td>200000</td>\n",
              "      <td>1.5</td>\n",
              "      <td>1.466419</td>\n",
              "    </tr>\n",
              "    <tr>\n",
              "      <th>2223</th>\n",
              "      <td>2224</td>\n",
              "      <td>909428180</td>\n",
              "      <td>20</td>\n",
              "      <td>RL</td>\n",
              "      <td>NaN</td>\n",
              "      <td>25485</td>\n",
              "      <td>Pave</td>\n",
              "      <td>NaN</td>\n",
              "      <td>IR1</td>\n",
              "      <td>Lvl</td>\n",
              "      <td>...</td>\n",
              "      <td>NaN</td>\n",
              "      <td>NaN</td>\n",
              "      <td>0</td>\n",
              "      <td>5</td>\n",
              "      <td>2007</td>\n",
              "      <td>WD</td>\n",
              "      <td>Normal</td>\n",
              "      <td>201000</td>\n",
              "      <td>1.5</td>\n",
              "      <td>1.155843</td>\n",
              "    </tr>\n",
              "    <tr>\n",
              "      <th>0</th>\n",
              "      <td>1</td>\n",
              "      <td>526301100</td>\n",
              "      <td>20</td>\n",
              "      <td>RL</td>\n",
              "      <td>141.0</td>\n",
              "      <td>31770</td>\n",
              "      <td>Pave</td>\n",
              "      <td>NaN</td>\n",
              "      <td>IR1</td>\n",
              "      <td>Lvl</td>\n",
              "      <td>...</td>\n",
              "      <td>NaN</td>\n",
              "      <td>NaN</td>\n",
              "      <td>0</td>\n",
              "      <td>5</td>\n",
              "      <td>2010</td>\n",
              "      <td>WD</td>\n",
              "      <td>Normal</td>\n",
              "      <td>215000</td>\n",
              "      <td>1.0</td>\n",
              "      <td>0.000000</td>\n",
              "    </tr>\n",
              "  </tbody>\n",
              "</table>\n",
              "<p>10 rows × 84 columns</p>\n",
              "</div>"
            ],
            "text/plain": [
              "      Order        PID  MS SubClass MS Zoning  Lot Frontage  Lot Area Street   \n",
              "2298   2299  923251160           20        RL         124.0     27697   Pave  \\\n",
              "2903   2904  923125030           20   A (agr)         125.0     31250   Pave   \n",
              "1013   1014  527226020           20        RL           NaN     31220   Pave   \n",
              "970     971  923202060           20        RL         100.0     21750   Pave   \n",
              "2700   2701  904100170           20        RL         100.0     21370   Pave   \n",
              "334     335  923251080           20        RL           NaN     26142   Pave   \n",
              "2294   2295  923229140           20        RL          61.0     33983   Pave   \n",
              "1895   1896  534425015           20        RL           NaN     22002   Pave   \n",
              "2223   2224  909428180           20        RL           NaN     25485   Pave   \n",
              "0         1  526301100           20        RL         141.0     31770   Pave   \n",
              "\n",
              "     Alley Lot Shape Land Contour  ...  Fence Misc Feature Misc Val Mo Sold   \n",
              "2298   NaN       Reg          Lvl  ...    NaN          NaN        0      11  \\\n",
              "2903   NaN       Reg          Lvl  ...    NaN          NaN        0       5   \n",
              "1013   NaN       IR1          Bnk  ...    NaN         Shed      750       5   \n",
              "970    NaN       Reg          Lvl  ...  GdPrv          NaN        0      11   \n",
              "2700   NaN       Reg          Lvl  ...    NaN         Shed      600       6   \n",
              "334    NaN       IR1          Lvl  ...    NaN          NaN        0       4   \n",
              "2294   NaN       IR1          Lvl  ...  GdPrv          NaN        0       5   \n",
              "1895   NaN       Reg          Lvl  ...    NaN          NaN        0       7   \n",
              "2223   NaN       IR1          Lvl  ...    NaN          NaN        0       5   \n",
              "0      NaN       IR1          Lvl  ...    NaN          NaN        0       5   \n",
              "\n",
              "     Yr Sold Sale Type Sale Condition SalePrice  Bathrooms  eu_distances  \n",
              "2298    2007       COD        Abnorml     80000        1.0      0.655589  \n",
              "2903    2006       WD          Normal     81500        1.5      1.465712  \n",
              "1013    2008       WD          Normal    115000        1.0      0.477549  \n",
              "970     2009       WD          Normal    115000        1.0      1.570220  \n",
              "2700    2006       WD          Normal    131000        1.0      1.496900  \n",
              "334     2010       WD          Normal    157900        1.0      1.542711  \n",
              "2294    2007       WD          Normal    196000        1.5      1.203981  \n",
              "1895    2007       WD          Normal    200000        1.5      1.466419  \n",
              "2223    2007       WD          Normal    201000        1.5      1.155843  \n",
              "0       2010       WD          Normal    215000        1.0      0.000000  \n",
              "\n",
              "[10 rows x 84 columns]"
            ]
          },
          "execution_count": 60,
          "metadata": {},
          "output_type": "execute_result"
        }
      ],
      "source": [
        "df_housing[\"eu_distances\"] = eu_dist\n",
        "df_recommend = df_housing.sort_values(by = \"eu_distances\").head(10).sort_values(by = \"SalePrice\")\n",
        "df_recommend"
      ]
    },
    {
      "cell_type": "markdown",
      "metadata": {
        "id": "SdwHMfuFqJDb"
      },
      "source": [
        "2\\. Provide the list of your top recommendations here, including the number of the house and its main features"
      ]
    },
    {
      "cell_type": "code",
      "execution_count": null,
      "metadata": {
        "id": "zmfmuntEqq05"
      },
      "outputs": [
        {
          "data": {
            "text/html": [
              "<div>\n",
              "<style scoped>\n",
              "    .dataframe tbody tr th:only-of-type {\n",
              "        vertical-align: middle;\n",
              "    }\n",
              "\n",
              "    .dataframe tbody tr th {\n",
              "        vertical-align: top;\n",
              "    }\n",
              "\n",
              "    .dataframe thead th {\n",
              "        text-align: right;\n",
              "    }\n",
              "</style>\n",
              "<table border=\"1\" class=\"dataframe\">\n",
              "  <thead>\n",
              "    <tr style=\"text-align: right;\">\n",
              "      <th></th>\n",
              "      <th>Bedroom AbvGr</th>\n",
              "      <th>Gr Liv Area</th>\n",
              "      <th>Lot Area</th>\n",
              "      <th>Bldg Type</th>\n",
              "      <th>House Style</th>\n",
              "      <th>Year Built</th>\n",
              "      <th>Garage Area</th>\n",
              "      <th>Bathrooms</th>\n",
              "      <th>SalePrice</th>\n",
              "    </tr>\n",
              "  </thead>\n",
              "  <tbody>\n",
              "    <tr>\n",
              "      <th>2298</th>\n",
              "      <td>3</td>\n",
              "      <td>1608</td>\n",
              "      <td>27697</td>\n",
              "      <td>1Fam</td>\n",
              "      <td>1Story</td>\n",
              "      <td>1961</td>\n",
              "      <td>444.0</td>\n",
              "      <td>1.0</td>\n",
              "      <td>80000</td>\n",
              "    </tr>\n",
              "    <tr>\n",
              "      <th>2903</th>\n",
              "      <td>3</td>\n",
              "      <td>1600</td>\n",
              "      <td>31250</td>\n",
              "      <td>1Fam</td>\n",
              "      <td>1Story</td>\n",
              "      <td>1951</td>\n",
              "      <td>270.0</td>\n",
              "      <td>1.5</td>\n",
              "      <td>81500</td>\n",
              "    </tr>\n",
              "    <tr>\n",
              "      <th>1013</th>\n",
              "      <td>3</td>\n",
              "      <td>1474</td>\n",
              "      <td>31220</td>\n",
              "      <td>1Fam</td>\n",
              "      <td>1Story</td>\n",
              "      <td>1952</td>\n",
              "      <td>495.0</td>\n",
              "      <td>1.0</td>\n",
              "      <td>115000</td>\n",
              "    </tr>\n",
              "    <tr>\n",
              "      <th>970</th>\n",
              "      <td>3</td>\n",
              "      <td>1771</td>\n",
              "      <td>21750</td>\n",
              "      <td>1Fam</td>\n",
              "      <td>1Story</td>\n",
              "      <td>1960</td>\n",
              "      <td>336.0</td>\n",
              "      <td>1.0</td>\n",
              "      <td>115000</td>\n",
              "    </tr>\n",
              "    <tr>\n",
              "      <th>2700</th>\n",
              "      <td>3</td>\n",
              "      <td>1640</td>\n",
              "      <td>21370</td>\n",
              "      <td>1Fam</td>\n",
              "      <td>1Story</td>\n",
              "      <td>1950</td>\n",
              "      <td>394.0</td>\n",
              "      <td>1.0</td>\n",
              "      <td>131000</td>\n",
              "    </tr>\n",
              "  </tbody>\n",
              "</table>\n",
              "</div>"
            ],
            "text/plain": [
              "      Bedroom AbvGr  Gr Liv Area  Lot Area Bldg Type House Style  Year Built   \n",
              "2298              3         1608     27697      1Fam      1Story        1961  \\\n",
              "2903              3         1600     31250      1Fam      1Story        1951   \n",
              "1013              3         1474     31220      1Fam      1Story        1952   \n",
              "970               3         1771     21750      1Fam      1Story        1960   \n",
              "2700              3         1640     21370      1Fam      1Story        1950   \n",
              "\n",
              "      Garage Area  Bathrooms  SalePrice  \n",
              "2298        444.0        1.0      80000  \n",
              "2903        270.0        1.5      81500  \n",
              "1013        495.0        1.0     115000  \n",
              "970         336.0        1.0     115000  \n",
              "2700        394.0        1.0     131000  "
            ]
          },
          "execution_count": 61,
          "metadata": {},
          "output_type": "execute_result"
        }
      ],
      "source": [
        "# ENTER YOUR CODE HERE. ADD AS MANY CELLS AS YOU WANT.\n",
        "df_recommend[[\"Bedroom AbvGr\", \"Gr Liv Area\", \"Lot Area\", \"Bldg Type\", \"House Style\", \"Year Built\", \"Garage Area\", \"Bathrooms\", \"SalePrice\"]].head(5)"
      ]
    },
    {
      "cell_type": "code",
      "execution_count": null,
      "metadata": {},
      "outputs": [
        {
          "data": {
            "text/html": [
              "<div>\n",
              "<style scoped>\n",
              "    .dataframe tbody tr th:only-of-type {\n",
              "        vertical-align: middle;\n",
              "    }\n",
              "\n",
              "    .dataframe tbody tr th {\n",
              "        vertical-align: top;\n",
              "    }\n",
              "\n",
              "    .dataframe thead th {\n",
              "        text-align: right;\n",
              "    }\n",
              "</style>\n",
              "<table border=\"1\" class=\"dataframe\">\n",
              "  <thead>\n",
              "    <tr style=\"text-align: right;\">\n",
              "      <th></th>\n",
              "      <th>Bedroom AbvGr</th>\n",
              "      <th>Gr Liv Area</th>\n",
              "      <th>Lot Area</th>\n",
              "      <th>Bldg Type</th>\n",
              "      <th>House Style</th>\n",
              "      <th>Year Built</th>\n",
              "      <th>Garage Area</th>\n",
              "      <th>Bathrooms</th>\n",
              "      <th>SalePrice</th>\n",
              "    </tr>\n",
              "  </thead>\n",
              "  <tbody>\n",
              "    <tr>\n",
              "      <th>0</th>\n",
              "      <td>3</td>\n",
              "      <td>1656</td>\n",
              "      <td>31770</td>\n",
              "      <td>1Fam</td>\n",
              "      <td>1Story</td>\n",
              "      <td>1960</td>\n",
              "      <td>528.0</td>\n",
              "      <td>1.0</td>\n",
              "      <td>215000</td>\n",
              "    </tr>\n",
              "  </tbody>\n",
              "</table>\n",
              "</div>"
            ],
            "text/plain": [
              "   Bedroom AbvGr  Gr Liv Area  Lot Area Bldg Type House Style  Year Built   \n",
              "0              3         1656     31770      1Fam      1Story        1960  \\\n",
              "\n",
              "   Garage Area  Bathrooms  SalePrice  \n",
              "0        528.0        1.0     215000  "
            ]
          },
          "execution_count": 62,
          "metadata": {},
          "output_type": "execute_result"
        }
      ],
      "source": [
        "# get house number 0\n",
        "df_recommend[df_recommend[\"Order\"] == 1][[\"Bedroom AbvGr\", \"Gr Liv Area\", \"Lot Area\", \"Bldg Type\", \"House Style\", \"Year Built\", \"Garage Area\", \"Bathrooms\", \"SalePrice\"]]"
      ]
    },
    {
      "cell_type": "markdown",
      "metadata": {
        "id": "IUFHYVxMqJGv"
      },
      "source": [
        "3\\. Explain your choices here. Your explanation should include\n",
        "\n",
        "- Which variables you included, and why\n",
        "- Which scaling you used, and why\n",
        "- Which distance metric you used, and why\n",
        "- How sensitive your recommendations were to different choices (of variables, scaling, distance metric). You should at least compare to what you did in the previous parts (where you considered the 3 quantitative variables and 1 categorical variable)."
      ]
    },
    {
      "cell_type": "markdown",
      "metadata": {
        "id": "wAC1ZMK-qtwI"
      },
      "source": [
        "**YOUR RESPONSE HERE**\n",
        "\n",
        "- **Which variables you included, and why**\n",
        "    - Variables I included in my analysis are the bedrooms above ground, living area, lot area, building type, house style, year built, garage area, and bathrooms.\n",
        "    The reason I chose these variables because they are the most common aspects that people look for when buying a house.\n",
        "- **Which scaling you used, and why**\n",
        "    - The scaling I used was the Standard Scaler because it is the most common scaling method used in data science and it is the default scaling method in sklearn. Standardizing the data is important because it allows us to compare the data on the same scale.\n",
        "- **Which distance metric you used, and why**\n",
        "    - The distance metric I used was the Euclidean distance because it allows us to measure the distance between two points in space.\n",
        "- **How sensitive your recommendations were to different choices (of variables, scaling, distance metric). You should at least compare to what you did in the previous parts (where you considered the 3 quantitative variables and 1 categorical variable).**\n",
        "    - My recommendations were not very sensitive to different choices of distance metrics, since when I used Euclidean and Manhattan the top 5 recommendations were the same. However, from the previous part from day 7 lecture when we considered 3 quant and 1 categorical var, the recommendations differed. The number 1 choice of house 2298 remained the same however then ext 4 recommendations changed due to the effect of the various variables used in this analysis."
      ]
    },
    {
      "cell_type": "code",
      "execution_count": null,
      "metadata": {
        "id": "T4IhodNhlNcH"
      },
      "outputs": [
        {
          "data": {
            "text/plain": [
              "array([[ 0.        ],\n",
              "       [ 6.24124991],\n",
              "       [ 4.71652916],\n",
              "       ...,\n",
              "       [15.60433858],\n",
              "       [ 5.47271521],\n",
              "       [11.66969279]])"
            ]
          },
          "execution_count": 63,
          "metadata": {},
          "output_type": "execute_result"
        }
      ],
      "source": [
        "# ENTER YOUR CODE HERE. ADD AS MANY CELLS AS YOU WANT.\n",
        "from sklearn.metrics.pairwise import manhattan_distances\n",
        "\n",
        "man_dist = manhattan_distances(df_housing_scaled, df_housing_scaled[0, :].reshape(1, -1))\n",
        "man_dist"
      ]
    },
    {
      "cell_type": "code",
      "execution_count": null,
      "metadata": {},
      "outputs": [
        {
          "data": {
            "text/html": [
              "<div>\n",
              "<style scoped>\n",
              "    .dataframe tbody tr th:only-of-type {\n",
              "        vertical-align: middle;\n",
              "    }\n",
              "\n",
              "    .dataframe tbody tr th {\n",
              "        vertical-align: top;\n",
              "    }\n",
              "\n",
              "    .dataframe thead th {\n",
              "        text-align: right;\n",
              "    }\n",
              "</style>\n",
              "<table border=\"1\" class=\"dataframe\">\n",
              "  <thead>\n",
              "    <tr style=\"text-align: right;\">\n",
              "      <th></th>\n",
              "      <th>Order</th>\n",
              "      <th>PID</th>\n",
              "      <th>MS SubClass</th>\n",
              "      <th>MS Zoning</th>\n",
              "      <th>Lot Frontage</th>\n",
              "      <th>Lot Area</th>\n",
              "      <th>Street</th>\n",
              "      <th>Alley</th>\n",
              "      <th>Lot Shape</th>\n",
              "      <th>Land Contour</th>\n",
              "      <th>...</th>\n",
              "      <th>Misc Feature</th>\n",
              "      <th>Misc Val</th>\n",
              "      <th>Mo Sold</th>\n",
              "      <th>Yr Sold</th>\n",
              "      <th>Sale Type</th>\n",
              "      <th>Sale Condition</th>\n",
              "      <th>SalePrice</th>\n",
              "      <th>Bathrooms</th>\n",
              "      <th>eu_distances</th>\n",
              "      <th>man_distances</th>\n",
              "    </tr>\n",
              "  </thead>\n",
              "  <tbody>\n",
              "    <tr>\n",
              "      <th>2298</th>\n",
              "      <td>2299</td>\n",
              "      <td>923251160</td>\n",
              "      <td>20</td>\n",
              "      <td>RL</td>\n",
              "      <td>124.0</td>\n",
              "      <td>27697</td>\n",
              "      <td>Pave</td>\n",
              "      <td>NaN</td>\n",
              "      <td>Reg</td>\n",
              "      <td>Lvl</td>\n",
              "      <td>...</td>\n",
              "      <td>NaN</td>\n",
              "      <td>0</td>\n",
              "      <td>11</td>\n",
              "      <td>2007</td>\n",
              "      <td>COD</td>\n",
              "      <td>Abnorml</td>\n",
              "      <td>80000</td>\n",
              "      <td>1.0</td>\n",
              "      <td>0.655589</td>\n",
              "      <td>0.655589</td>\n",
              "    </tr>\n",
              "    <tr>\n",
              "      <th>2903</th>\n",
              "      <td>2904</td>\n",
              "      <td>923125030</td>\n",
              "      <td>20</td>\n",
              "      <td>A (agr)</td>\n",
              "      <td>125.0</td>\n",
              "      <td>31250</td>\n",
              "      <td>Pave</td>\n",
              "      <td>NaN</td>\n",
              "      <td>Reg</td>\n",
              "      <td>Lvl</td>\n",
              "      <td>...</td>\n",
              "      <td>NaN</td>\n",
              "      <td>0</td>\n",
              "      <td>5</td>\n",
              "      <td>2006</td>\n",
              "      <td>WD</td>\n",
              "      <td>Normal</td>\n",
              "      <td>81500</td>\n",
              "      <td>1.5</td>\n",
              "      <td>1.465712</td>\n",
              "      <td>1.465712</td>\n",
              "    </tr>\n",
              "    <tr>\n",
              "      <th>1013</th>\n",
              "      <td>1014</td>\n",
              "      <td>527226020</td>\n",
              "      <td>20</td>\n",
              "      <td>RL</td>\n",
              "      <td>NaN</td>\n",
              "      <td>31220</td>\n",
              "      <td>Pave</td>\n",
              "      <td>NaN</td>\n",
              "      <td>IR1</td>\n",
              "      <td>Bnk</td>\n",
              "      <td>...</td>\n",
              "      <td>Shed</td>\n",
              "      <td>750</td>\n",
              "      <td>5</td>\n",
              "      <td>2008</td>\n",
              "      <td>WD</td>\n",
              "      <td>Normal</td>\n",
              "      <td>115000</td>\n",
              "      <td>1.0</td>\n",
              "      <td>0.477549</td>\n",
              "      <td>0.477549</td>\n",
              "    </tr>\n",
              "    <tr>\n",
              "      <th>970</th>\n",
              "      <td>971</td>\n",
              "      <td>923202060</td>\n",
              "      <td>20</td>\n",
              "      <td>RL</td>\n",
              "      <td>100.0</td>\n",
              "      <td>21750</td>\n",
              "      <td>Pave</td>\n",
              "      <td>NaN</td>\n",
              "      <td>Reg</td>\n",
              "      <td>Lvl</td>\n",
              "      <td>...</td>\n",
              "      <td>NaN</td>\n",
              "      <td>0</td>\n",
              "      <td>11</td>\n",
              "      <td>2009</td>\n",
              "      <td>WD</td>\n",
              "      <td>Normal</td>\n",
              "      <td>115000</td>\n",
              "      <td>1.0</td>\n",
              "      <td>1.570220</td>\n",
              "      <td>1.570220</td>\n",
              "    </tr>\n",
              "    <tr>\n",
              "      <th>2700</th>\n",
              "      <td>2701</td>\n",
              "      <td>904100170</td>\n",
              "      <td>20</td>\n",
              "      <td>RL</td>\n",
              "      <td>100.0</td>\n",
              "      <td>21370</td>\n",
              "      <td>Pave</td>\n",
              "      <td>NaN</td>\n",
              "      <td>Reg</td>\n",
              "      <td>Lvl</td>\n",
              "      <td>...</td>\n",
              "      <td>Shed</td>\n",
              "      <td>600</td>\n",
              "      <td>6</td>\n",
              "      <td>2006</td>\n",
              "      <td>WD</td>\n",
              "      <td>Normal</td>\n",
              "      <td>131000</td>\n",
              "      <td>1.0</td>\n",
              "      <td>1.496900</td>\n",
              "      <td>1.496900</td>\n",
              "    </tr>\n",
              "    <tr>\n",
              "      <th>334</th>\n",
              "      <td>335</td>\n",
              "      <td>923251080</td>\n",
              "      <td>20</td>\n",
              "      <td>RL</td>\n",
              "      <td>NaN</td>\n",
              "      <td>26142</td>\n",
              "      <td>Pave</td>\n",
              "      <td>NaN</td>\n",
              "      <td>IR1</td>\n",
              "      <td>Lvl</td>\n",
              "      <td>...</td>\n",
              "      <td>NaN</td>\n",
              "      <td>0</td>\n",
              "      <td>4</td>\n",
              "      <td>2010</td>\n",
              "      <td>WD</td>\n",
              "      <td>Normal</td>\n",
              "      <td>157900</td>\n",
              "      <td>1.0</td>\n",
              "      <td>1.542711</td>\n",
              "      <td>1.542711</td>\n",
              "    </tr>\n",
              "    <tr>\n",
              "      <th>2294</th>\n",
              "      <td>2295</td>\n",
              "      <td>923229140</td>\n",
              "      <td>20</td>\n",
              "      <td>RL</td>\n",
              "      <td>61.0</td>\n",
              "      <td>33983</td>\n",
              "      <td>Pave</td>\n",
              "      <td>NaN</td>\n",
              "      <td>IR1</td>\n",
              "      <td>Lvl</td>\n",
              "      <td>...</td>\n",
              "      <td>NaN</td>\n",
              "      <td>0</td>\n",
              "      <td>5</td>\n",
              "      <td>2007</td>\n",
              "      <td>WD</td>\n",
              "      <td>Normal</td>\n",
              "      <td>196000</td>\n",
              "      <td>1.5</td>\n",
              "      <td>1.203981</td>\n",
              "      <td>1.203981</td>\n",
              "    </tr>\n",
              "    <tr>\n",
              "      <th>1895</th>\n",
              "      <td>1896</td>\n",
              "      <td>534425015</td>\n",
              "      <td>20</td>\n",
              "      <td>RL</td>\n",
              "      <td>NaN</td>\n",
              "      <td>22002</td>\n",
              "      <td>Pave</td>\n",
              "      <td>NaN</td>\n",
              "      <td>Reg</td>\n",
              "      <td>Lvl</td>\n",
              "      <td>...</td>\n",
              "      <td>NaN</td>\n",
              "      <td>0</td>\n",
              "      <td>7</td>\n",
              "      <td>2007</td>\n",
              "      <td>WD</td>\n",
              "      <td>Normal</td>\n",
              "      <td>200000</td>\n",
              "      <td>1.5</td>\n",
              "      <td>1.466419</td>\n",
              "      <td>1.466419</td>\n",
              "    </tr>\n",
              "    <tr>\n",
              "      <th>2223</th>\n",
              "      <td>2224</td>\n",
              "      <td>909428180</td>\n",
              "      <td>20</td>\n",
              "      <td>RL</td>\n",
              "      <td>NaN</td>\n",
              "      <td>25485</td>\n",
              "      <td>Pave</td>\n",
              "      <td>NaN</td>\n",
              "      <td>IR1</td>\n",
              "      <td>Lvl</td>\n",
              "      <td>...</td>\n",
              "      <td>NaN</td>\n",
              "      <td>0</td>\n",
              "      <td>5</td>\n",
              "      <td>2007</td>\n",
              "      <td>WD</td>\n",
              "      <td>Normal</td>\n",
              "      <td>201000</td>\n",
              "      <td>1.5</td>\n",
              "      <td>1.155843</td>\n",
              "      <td>1.155843</td>\n",
              "    </tr>\n",
              "    <tr>\n",
              "      <th>0</th>\n",
              "      <td>1</td>\n",
              "      <td>526301100</td>\n",
              "      <td>20</td>\n",
              "      <td>RL</td>\n",
              "      <td>141.0</td>\n",
              "      <td>31770</td>\n",
              "      <td>Pave</td>\n",
              "      <td>NaN</td>\n",
              "      <td>IR1</td>\n",
              "      <td>Lvl</td>\n",
              "      <td>...</td>\n",
              "      <td>NaN</td>\n",
              "      <td>0</td>\n",
              "      <td>5</td>\n",
              "      <td>2010</td>\n",
              "      <td>WD</td>\n",
              "      <td>Normal</td>\n",
              "      <td>215000</td>\n",
              "      <td>1.0</td>\n",
              "      <td>0.000000</td>\n",
              "      <td>0.000000</td>\n",
              "    </tr>\n",
              "  </tbody>\n",
              "</table>\n",
              "<p>10 rows × 85 columns</p>\n",
              "</div>"
            ],
            "text/plain": [
              "      Order        PID  MS SubClass MS Zoning  Lot Frontage  Lot Area Street   \n",
              "2298   2299  923251160           20        RL         124.0     27697   Pave  \\\n",
              "2903   2904  923125030           20   A (agr)         125.0     31250   Pave   \n",
              "1013   1014  527226020           20        RL           NaN     31220   Pave   \n",
              "970     971  923202060           20        RL         100.0     21750   Pave   \n",
              "2700   2701  904100170           20        RL         100.0     21370   Pave   \n",
              "334     335  923251080           20        RL           NaN     26142   Pave   \n",
              "2294   2295  923229140           20        RL          61.0     33983   Pave   \n",
              "1895   1896  534425015           20        RL           NaN     22002   Pave   \n",
              "2223   2224  909428180           20        RL           NaN     25485   Pave   \n",
              "0         1  526301100           20        RL         141.0     31770   Pave   \n",
              "\n",
              "     Alley Lot Shape Land Contour  ... Misc Feature Misc Val Mo Sold Yr Sold   \n",
              "2298   NaN       Reg          Lvl  ...          NaN        0      11    2007  \\\n",
              "2903   NaN       Reg          Lvl  ...          NaN        0       5    2006   \n",
              "1013   NaN       IR1          Bnk  ...         Shed      750       5    2008   \n",
              "970    NaN       Reg          Lvl  ...          NaN        0      11    2009   \n",
              "2700   NaN       Reg          Lvl  ...         Shed      600       6    2006   \n",
              "334    NaN       IR1          Lvl  ...          NaN        0       4    2010   \n",
              "2294   NaN       IR1          Lvl  ...          NaN        0       5    2007   \n",
              "1895   NaN       Reg          Lvl  ...          NaN        0       7    2007   \n",
              "2223   NaN       IR1          Lvl  ...          NaN        0       5    2007   \n",
              "0      NaN       IR1          Lvl  ...          NaN        0       5    2010   \n",
              "\n",
              "     Sale Type Sale Condition SalePrice Bathrooms  eu_distances  man_distances  \n",
              "2298       COD        Abnorml     80000       1.0      0.655589       0.655589  \n",
              "2903       WD          Normal     81500       1.5      1.465712       1.465712  \n",
              "1013       WD          Normal    115000       1.0      0.477549       0.477549  \n",
              "970        WD          Normal    115000       1.0      1.570220       1.570220  \n",
              "2700       WD          Normal    131000       1.0      1.496900       1.496900  \n",
              "334        WD          Normal    157900       1.0      1.542711       1.542711  \n",
              "2294       WD          Normal    196000       1.5      1.203981       1.203981  \n",
              "1895       WD          Normal    200000       1.5      1.466419       1.466419  \n",
              "2223       WD          Normal    201000       1.5      1.155843       1.155843  \n",
              "0          WD          Normal    215000       1.0      0.000000       0.000000  \n",
              "\n",
              "[10 rows x 85 columns]"
            ]
          },
          "execution_count": 64,
          "metadata": {},
          "output_type": "execute_result"
        }
      ],
      "source": [
        "df_housing[\"man_distances\"] = eu_dist\n",
        "df_recommend2 = df_housing.sort_values(by = \"man_distances\").head(10).sort_values(by = \"SalePrice\")\n",
        "df_recommend2"
      ]
    },
    {
      "cell_type": "code",
      "execution_count": null,
      "metadata": {},
      "outputs": [
        {
          "data": {
            "text/html": [
              "<div>\n",
              "<style scoped>\n",
              "    .dataframe tbody tr th:only-of-type {\n",
              "        vertical-align: middle;\n",
              "    }\n",
              "\n",
              "    .dataframe tbody tr th {\n",
              "        vertical-align: top;\n",
              "    }\n",
              "\n",
              "    .dataframe thead th {\n",
              "        text-align: right;\n",
              "    }\n",
              "</style>\n",
              "<table border=\"1\" class=\"dataframe\">\n",
              "  <thead>\n",
              "    <tr style=\"text-align: right;\">\n",
              "      <th></th>\n",
              "      <th>Bedroom AbvGr</th>\n",
              "      <th>Gr Liv Area</th>\n",
              "      <th>Lot Area</th>\n",
              "      <th>Bldg Type</th>\n",
              "      <th>House Style</th>\n",
              "      <th>Year Built</th>\n",
              "      <th>Garage Area</th>\n",
              "      <th>Bathrooms</th>\n",
              "      <th>SalePrice</th>\n",
              "    </tr>\n",
              "  </thead>\n",
              "  <tbody>\n",
              "    <tr>\n",
              "      <th>2298</th>\n",
              "      <td>3</td>\n",
              "      <td>1608</td>\n",
              "      <td>27697</td>\n",
              "      <td>1Fam</td>\n",
              "      <td>1Story</td>\n",
              "      <td>1961</td>\n",
              "      <td>444.0</td>\n",
              "      <td>1.0</td>\n",
              "      <td>80000</td>\n",
              "    </tr>\n",
              "    <tr>\n",
              "      <th>2903</th>\n",
              "      <td>3</td>\n",
              "      <td>1600</td>\n",
              "      <td>31250</td>\n",
              "      <td>1Fam</td>\n",
              "      <td>1Story</td>\n",
              "      <td>1951</td>\n",
              "      <td>270.0</td>\n",
              "      <td>1.5</td>\n",
              "      <td>81500</td>\n",
              "    </tr>\n",
              "    <tr>\n",
              "      <th>1013</th>\n",
              "      <td>3</td>\n",
              "      <td>1474</td>\n",
              "      <td>31220</td>\n",
              "      <td>1Fam</td>\n",
              "      <td>1Story</td>\n",
              "      <td>1952</td>\n",
              "      <td>495.0</td>\n",
              "      <td>1.0</td>\n",
              "      <td>115000</td>\n",
              "    </tr>\n",
              "    <tr>\n",
              "      <th>970</th>\n",
              "      <td>3</td>\n",
              "      <td>1771</td>\n",
              "      <td>21750</td>\n",
              "      <td>1Fam</td>\n",
              "      <td>1Story</td>\n",
              "      <td>1960</td>\n",
              "      <td>336.0</td>\n",
              "      <td>1.0</td>\n",
              "      <td>115000</td>\n",
              "    </tr>\n",
              "    <tr>\n",
              "      <th>2700</th>\n",
              "      <td>3</td>\n",
              "      <td>1640</td>\n",
              "      <td>21370</td>\n",
              "      <td>1Fam</td>\n",
              "      <td>1Story</td>\n",
              "      <td>1950</td>\n",
              "      <td>394.0</td>\n",
              "      <td>1.0</td>\n",
              "      <td>131000</td>\n",
              "    </tr>\n",
              "  </tbody>\n",
              "</table>\n",
              "</div>"
            ],
            "text/plain": [
              "      Bedroom AbvGr  Gr Liv Area  Lot Area Bldg Type House Style  Year Built   \n",
              "2298              3         1608     27697      1Fam      1Story        1961  \\\n",
              "2903              3         1600     31250      1Fam      1Story        1951   \n",
              "1013              3         1474     31220      1Fam      1Story        1952   \n",
              "970               3         1771     21750      1Fam      1Story        1960   \n",
              "2700              3         1640     21370      1Fam      1Story        1950   \n",
              "\n",
              "      Garage Area  Bathrooms  SalePrice  \n",
              "2298        444.0        1.0      80000  \n",
              "2903        270.0        1.5      81500  \n",
              "1013        495.0        1.0     115000  \n",
              "970         336.0        1.0     115000  \n",
              "2700        394.0        1.0     131000  "
            ]
          },
          "execution_count": 65,
          "metadata": {},
          "output_type": "execute_result"
        }
      ],
      "source": [
        "df_recommend[[\"Bedroom AbvGr\", \"Gr Liv Area\", \"Lot Area\", \"Bldg Type\", \"House Style\", \"Year Built\", \"Garage Area\", \"Bathrooms\", \"SalePrice\"]].head(5)"
      ]
    },
    {
      "cell_type": "markdown",
      "metadata": {
        "id": "ArxUuzYNkVNe"
      },
      "source": [
        "## Submission Instructions\n",
        "\n",
        "- After you have completed the notebook, select **Runtime > Restart and run all**\n",
        "- After the notebook finishes rerunning check to make sure that you have no errors and everything runs properly.  Fix any problems and redo this step until it works.\n",
        "- Rename this notebook by clicking on \"DATA 301 Assigment - YOUR NAMES HERE\" at the very top of this page. Replace \"YOUR NAMES HERE\" with the first and last names of ALL partners who collaborated on this assignment.\n",
        "- Expand all cells with View > Expand Sections\n",
        "- Save a PDF version: File > Print > Save as PDF\n",
        "    - Under \"More Settings\" make sure \"Background graphics\" is checked\n",
        "    - Printing to PDF doesn't always work so well and some of your output might get cutoff. That's ok.\n",
        "    - It's not necessary, but if you want a more nicely formatted PDF you can uncomment and run the code in the following cell. (Here's a [video](https://www.youtube.com/watch?v=-Ti9Mm21uVc) with other options.)\n",
        "- Download the notebook: File > Download .ipynb\n",
        "- **Submit the notebook and PDF in Canvas**. If you worked in a team, only one person should submit in Canvas. Add the names of all team members in the comments in the submission in Canvas."
      ]
    },
    {
      "cell_type": "code",
      "execution_count": null,
      "metadata": {
        "id": "t_4T1BUFZjS3"
      },
      "outputs": [],
      "source": [
        "# !wget -nc https://raw.githubusercontent.com/brpy/colab-pdf/master/colab_pdf.py\n",
        "# from colab_pdf import colab_pdf\n",
        "# colab_pdf('DATA 301 Lab1B - YOUR NAMES HERE.ipynb')"
      ]
    }
  ],
  "metadata": {
    "colab": {
      "provenance": []
    },
    "kernelspec": {
      "display_name": "Python 3",
      "language": "python",
      "name": "python3"
    },
    "language_info": {
      "codemirror_mode": {
        "name": "ipython",
        "version": 3
      },
      "file_extension": ".py",
      "mimetype": "text/x-python",
      "name": "python",
      "nbconvert_exporter": "python",
      "pygments_lexer": "ipython3",
      "version": "3.9.6"
    }
  },
  "nbformat": 4,
  "nbformat_minor": 0
}
