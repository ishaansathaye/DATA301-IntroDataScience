{
  "cells": [
    {
      "cell_type": "markdown",
      "metadata": {
        "id": "fQLu8g7NkVNI"
      },
      "source": [
        "**This assignment is in four parts. Read the notebook from the beginning and answer the questions as you go. You can add as many cells as you want. Submission instructions are at the end. See Canvas for general rules about Assignments and collaboration.**"
      ]
    },
    {
      "cell_type": "markdown",
      "metadata": {
        "id": "6iYuYA2_h1EQ"
      },
      "source": [
        "## Part 1: The 2000 U.S. Presidential Election\n",
        "\n",
        "The 2000 presidential election---between Republican George W. Bush, Democrat Al Gore, and other third-party candidates---was one of the closest in American history. The election came down to one state, Florida, which Bush won by just 537 votes (out of nearly 6,000,000 votes cast in the state).\n",
        "\n",
        "After Election Day, Democrats claimed that the [\"butterfly ballot\"](https://ischool.uw.edu/podcasts/dtctw/palm-beach-county-butterfly-ballot) that was used in Palm Beach County confused Gore voters into voting for Reform Party candidate Pat Buchanan. To vote for Gore, who is listed second on the left, a voter actually had to punch the third hole (because the second hole is actually a vote for Buchanan, who is listed first on the right).\n",
        "\n",
        "In this exercise, you will evaluate this claim. The data file `https://dlsun.github.io/pods/data/florida.csv` contains county-level information about:\n",
        "\n",
        "- the number of votes for Gore, Bush, Buchanan, and a few other candidates in the 2000 presidential election\n",
        "- the number of votes for Clinton (Democrat), Dole (Republican), and Perot (Reform) in the 1996 presidential election\n",
        "- the number of votes for Buchanan in the 1996 primary\n",
        "- the number of registered Reform voters and the total number of registered voters\n",
        "\n",
        "Using this data, evaluate the claim that many voters in Palm Beach County voted for Buchanan when they intended to vote for Gore.\n",
        "You should check whether Palm Beach County fits the general pattern of the other counties in Florida, but you need to decide how to measure/visualize the \"general pattern\". Visualizations will likely be more helpful than summary statistics.\n",
        "Then, craft a story that guides the reader through your discoveries. Your story should contain both figures and explanations.\n",
        "\n",
        "There are many ways to approach this problem. You don't have to explore every possibility, but you should include at least more than one perspective. That is, you should include several plots/summaries.\n",
        "\n",
        "Hint: you can add new columns to the data frame. For example, the current columns contain counts, but you might also want to consider proportions. Also, you have the 1996 data for a reason, so you should make some comparisons between 2000 and 1996 (e.g., you might want to compute changes from 1996 to 2000.)"
      ]
    },
    {
      "cell_type": "code",
      "execution_count": 1,
      "metadata": {
        "id": "vOIKn1LViity"
      },
      "outputs": [
        {
          "data": {
            "text/html": [
              "<div>\n",
              "<style scoped>\n",
              "    .dataframe tbody tr th:only-of-type {\n",
              "        vertical-align: middle;\n",
              "    }\n",
              "\n",
              "    .dataframe tbody tr th {\n",
              "        vertical-align: top;\n",
              "    }\n",
              "\n",
              "    .dataframe thead th {\n",
              "        text-align: right;\n",
              "    }\n",
              "</style>\n",
              "<table border=\"1\" class=\"dataframe\">\n",
              "  <thead>\n",
              "    <tr style=\"text-align: right;\">\n",
              "      <th></th>\n",
              "      <th>county</th>\n",
              "      <th>buchanan2000</th>\n",
              "      <th>gore2000</th>\n",
              "      <th>bush2000</th>\n",
              "      <th>nader2000</th>\n",
              "      <th>browne2000</th>\n",
              "      <th>total2000</th>\n",
              "      <th>clinton96</th>\n",
              "      <th>dole96</th>\n",
              "      <th>perot96</th>\n",
              "      <th>buchanan96p</th>\n",
              "      <th>reform.reg</th>\n",
              "      <th>total.reg</th>\n",
              "    </tr>\n",
              "  </thead>\n",
              "  <tbody>\n",
              "    <tr>\n",
              "      <th>0</th>\n",
              "      <td>ALACHUA</td>\n",
              "      <td>262</td>\n",
              "      <td>47,300</td>\n",
              "      <td>34,062</td>\n",
              "      <td>3,215</td>\n",
              "      <td>658</td>\n",
              "      <td>85,235</td>\n",
              "      <td>40,144</td>\n",
              "      <td>25,303</td>\n",
              "      <td>8,072</td>\n",
              "      <td>2,151</td>\n",
              "      <td>91</td>\n",
              "      <td>120,867</td>\n",
              "    </tr>\n",
              "    <tr>\n",
              "      <th>1</th>\n",
              "      <td>BAKER</td>\n",
              "      <td>73</td>\n",
              "      <td>2,392</td>\n",
              "      <td>5,610</td>\n",
              "      <td>53</td>\n",
              "      <td>17</td>\n",
              "      <td>8,072</td>\n",
              "      <td>2,273</td>\n",
              "      <td>3,684</td>\n",
              "      <td>667</td>\n",
              "      <td>73</td>\n",
              "      <td>4</td>\n",
              "      <td>12,352</td>\n",
              "    </tr>\n",
              "    <tr>\n",
              "      <th>2</th>\n",
              "      <td>BAY</td>\n",
              "      <td>248</td>\n",
              "      <td>18,850</td>\n",
              "      <td>38,637</td>\n",
              "      <td>828</td>\n",
              "      <td>171</td>\n",
              "      <td>58,486</td>\n",
              "      <td>17,020</td>\n",
              "      <td>28,290</td>\n",
              "      <td>5,922</td>\n",
              "      <td>1,816</td>\n",
              "      <td>55</td>\n",
              "      <td>92,749</td>\n",
              "    </tr>\n",
              "    <tr>\n",
              "      <th>3</th>\n",
              "      <td>BRADFORD</td>\n",
              "      <td>65</td>\n",
              "      <td>3,072</td>\n",
              "      <td>5,413</td>\n",
              "      <td>84</td>\n",
              "      <td>28</td>\n",
              "      <td>8,597</td>\n",
              "      <td>3,356</td>\n",
              "      <td>4,038</td>\n",
              "      <td>819</td>\n",
              "      <td>155</td>\n",
              "      <td>3</td>\n",
              "      <td>13,547</td>\n",
              "    </tr>\n",
              "    <tr>\n",
              "      <th>4</th>\n",
              "      <td>BREVARD</td>\n",
              "      <td>570</td>\n",
              "      <td>97,318</td>\n",
              "      <td>115,185</td>\n",
              "      <td>4,470</td>\n",
              "      <td>643</td>\n",
              "      <td>217,616</td>\n",
              "      <td>80,416</td>\n",
              "      <td>87,980</td>\n",
              "      <td>25,249</td>\n",
              "      <td>7,927</td>\n",
              "      <td>148</td>\n",
              "      <td>283,680</td>\n",
              "    </tr>\n",
              "  </tbody>\n",
              "</table>\n",
              "</div>"
            ],
            "text/plain": [
              "     county buchanan2000 gore2000 bush2000 nader2000 browne2000 total2000   \n",
              "0   ALACHUA          262   47,300   34,062     3,215        658    85,235  \\\n",
              "1     BAKER           73    2,392    5,610        53         17     8,072   \n",
              "2       BAY          248   18,850   38,637       828        171    58,486   \n",
              "3  BRADFORD           65    3,072    5,413        84         28     8,597   \n",
              "4   BREVARD          570   97,318  115,185     4,470        643   217,616   \n",
              "\n",
              "  clinton96  dole96 perot96 buchanan96p  reform.reg total.reg  \n",
              "0    40,144  25,303   8,072       2,151          91   120,867  \n",
              "1     2,273   3,684     667          73           4    12,352  \n",
              "2    17,020  28,290   5,922       1,816          55    92,749  \n",
              "3     3,356   4,038     819         155           3    13,547  \n",
              "4    80,416  87,980  25,249       7,927         148   283,680  "
            ]
          },
          "execution_count": 1,
          "metadata": {},
          "output_type": "execute_result"
        }
      ],
      "source": [
        "# ENTER YOUR CODE HERE. ADD AS MANY CELLS AS YOU WANT.\n",
        "# Using this data, evaluate the claim that many voters in Palm Beach County voted for Buchanan when they intended to vote for Gore.\n",
        "# You should check whether Palm Beach County fits the general pattern of the other counties in Florida, but you need to decide how to measure/visualize the \"general pattern\". Visualizations will likely be more helpful than summary statistics.\n",
        "# Then, craft a story that guides the reader through your discoveries. Your story should contain both figures and explanations.\n",
        "import pandas as pd\n",
        "import numpy as np\n",
        "\n",
        "df_2000 = pd.read_csv('https://dlsun.github.io/pods/data/florida.csv')\n",
        "\n",
        "# data has:\n",
        "# - the number of votes for Gore, Bush, Buchanan, and a few other candidates in the 2000 presidential election\n",
        "# - the number of votes for Clinton (Democrat), Dole (Republican), and Perot (Reform) in the 1996 presidential election\n",
        "# - the number of votes for Buchanan in the 1996 primary\n",
        "# - the number of registered Reform voters and the total number of registered voters\n",
        "\n",
        "df_2000.head()"
      ]
    },
    {
      "cell_type": "code",
      "execution_count": 3,
      "metadata": {},
      "outputs": [
        {
          "data": {
            "text/html": [
              "<div>\n",
              "<style scoped>\n",
              "    .dataframe tbody tr th:only-of-type {\n",
              "        vertical-align: middle;\n",
              "    }\n",
              "\n",
              "    .dataframe tbody tr th {\n",
              "        vertical-align: top;\n",
              "    }\n",
              "\n",
              "    .dataframe thead th {\n",
              "        text-align: right;\n",
              "    }\n",
              "</style>\n",
              "<table border=\"1\" class=\"dataframe\">\n",
              "  <thead>\n",
              "    <tr style=\"text-align: right;\">\n",
              "      <th></th>\n",
              "      <th>county</th>\n",
              "      <th>buchanan2000</th>\n",
              "      <th>gore2000</th>\n",
              "      <th>bush2000</th>\n",
              "      <th>nader2000</th>\n",
              "      <th>browne2000</th>\n",
              "      <th>total2000</th>\n",
              "      <th>clinton96</th>\n",
              "      <th>dole96</th>\n",
              "      <th>perot96</th>\n",
              "      <th>buchanan96p</th>\n",
              "      <th>reform.reg</th>\n",
              "      <th>total.reg</th>\n",
              "    </tr>\n",
              "  </thead>\n",
              "  <tbody>\n",
              "    <tr>\n",
              "      <th>0</th>\n",
              "      <td>ALACHUA</td>\n",
              "      <td>262</td>\n",
              "      <td>47300</td>\n",
              "      <td>34062</td>\n",
              "      <td>3215</td>\n",
              "      <td>658</td>\n",
              "      <td>85235</td>\n",
              "      <td>40144</td>\n",
              "      <td>25303</td>\n",
              "      <td>8072</td>\n",
              "      <td>2151</td>\n",
              "      <td>91</td>\n",
              "      <td>120867</td>\n",
              "    </tr>\n",
              "    <tr>\n",
              "      <th>1</th>\n",
              "      <td>BAKER</td>\n",
              "      <td>73</td>\n",
              "      <td>2392</td>\n",
              "      <td>5610</td>\n",
              "      <td>53</td>\n",
              "      <td>17</td>\n",
              "      <td>8072</td>\n",
              "      <td>2273</td>\n",
              "      <td>3684</td>\n",
              "      <td>667</td>\n",
              "      <td>73</td>\n",
              "      <td>4</td>\n",
              "      <td>12352</td>\n",
              "    </tr>\n",
              "    <tr>\n",
              "      <th>2</th>\n",
              "      <td>BAY</td>\n",
              "      <td>248</td>\n",
              "      <td>18850</td>\n",
              "      <td>38637</td>\n",
              "      <td>828</td>\n",
              "      <td>171</td>\n",
              "      <td>58486</td>\n",
              "      <td>17020</td>\n",
              "      <td>28290</td>\n",
              "      <td>5922</td>\n",
              "      <td>1816</td>\n",
              "      <td>55</td>\n",
              "      <td>92749</td>\n",
              "    </tr>\n",
              "    <tr>\n",
              "      <th>3</th>\n",
              "      <td>BRADFORD</td>\n",
              "      <td>65</td>\n",
              "      <td>3072</td>\n",
              "      <td>5413</td>\n",
              "      <td>84</td>\n",
              "      <td>28</td>\n",
              "      <td>8597</td>\n",
              "      <td>3356</td>\n",
              "      <td>4038</td>\n",
              "      <td>819</td>\n",
              "      <td>155</td>\n",
              "      <td>3</td>\n",
              "      <td>13547</td>\n",
              "    </tr>\n",
              "    <tr>\n",
              "      <th>4</th>\n",
              "      <td>BREVARD</td>\n",
              "      <td>570</td>\n",
              "      <td>97318</td>\n",
              "      <td>115185</td>\n",
              "      <td>4470</td>\n",
              "      <td>643</td>\n",
              "      <td>217616</td>\n",
              "      <td>80416</td>\n",
              "      <td>87980</td>\n",
              "      <td>25249</td>\n",
              "      <td>7927</td>\n",
              "      <td>148</td>\n",
              "      <td>283680</td>\n",
              "    </tr>\n",
              "  </tbody>\n",
              "</table>\n",
              "</div>"
            ],
            "text/plain": [
              "     county buchanan2000 gore2000 bush2000 nader2000 browne2000 total2000   \n",
              "0   ALACHUA          262    47300    34062      3215        658     85235  \\\n",
              "1     BAKER           73     2392     5610        53         17      8072   \n",
              "2       BAY          248    18850    38637       828        171     58486   \n",
              "3  BRADFORD           65     3072     5413        84         28      8597   \n",
              "4   BREVARD          570    97318   115185      4470        643    217616   \n",
              "\n",
              "  clinton96 dole96 perot96 buchanan96p  reform.reg total.reg  \n",
              "0     40144  25303    8072        2151          91    120867  \n",
              "1      2273   3684     667          73           4     12352  \n",
              "2     17020  28290    5922        1816          55     92749  \n",
              "3      3356   4038     819         155           3     13547  \n",
              "4     80416  87980   25249        7927         148    283680  "
            ]
          },
          "execution_count": 3,
          "metadata": {},
          "output_type": "execute_result"
        }
      ],
      "source": [
        "# remove commas from numbers\n",
        "df_2000 = df_2000.replace(',','', regex=True)\n",
        "\n",
        "# convert all columns to numeric except for first column\n",
        "df_2000.iloc[:,1:] = df_2000.iloc[:,1:].apply(pd.to_numeric)\n",
        "\n",
        "df_2000.head()"
      ]
    },
    {
      "cell_type": "code",
      "execution_count": 6,
      "metadata": {},
      "outputs": [
        {
          "data": {
            "text/html": [
              "<div>\n",
              "<style scoped>\n",
              "    .dataframe tbody tr th:only-of-type {\n",
              "        vertical-align: middle;\n",
              "    }\n",
              "\n",
              "    .dataframe tbody tr th {\n",
              "        vertical-align: top;\n",
              "    }\n",
              "\n",
              "    .dataframe thead th {\n",
              "        text-align: right;\n",
              "    }\n",
              "</style>\n",
              "<table border=\"1\" class=\"dataframe\">\n",
              "  <thead>\n",
              "    <tr style=\"text-align: right;\">\n",
              "      <th></th>\n",
              "      <th>county</th>\n",
              "      <th>buchanan2000</th>\n",
              "      <th>gore2000</th>\n",
              "      <th>bush2000</th>\n",
              "      <th>nader2000</th>\n",
              "      <th>browne2000</th>\n",
              "      <th>total2000</th>\n",
              "      <th>clinton96</th>\n",
              "      <th>dole96</th>\n",
              "      <th>perot96</th>\n",
              "      <th>buchanan96p</th>\n",
              "      <th>reform.reg</th>\n",
              "      <th>total.reg</th>\n",
              "      <th>buchanan2000_prop</th>\n",
              "      <th>gore2000_prop</th>\n",
              "      <th>bush2000_prop</th>\n",
              "      <th>buchanan1996_prop</th>\n",
              "      <th>buchanan change</th>\n",
              "    </tr>\n",
              "  </thead>\n",
              "  <tbody>\n",
              "    <tr>\n",
              "      <th>0</th>\n",
              "      <td>ALACHUA</td>\n",
              "      <td>262</td>\n",
              "      <td>47300</td>\n",
              "      <td>34062</td>\n",
              "      <td>3215</td>\n",
              "      <td>658</td>\n",
              "      <td>85235</td>\n",
              "      <td>40144</td>\n",
              "      <td>25303</td>\n",
              "      <td>8072</td>\n",
              "      <td>2151</td>\n",
              "      <td>91</td>\n",
              "      <td>120867</td>\n",
              "      <td>0.002168</td>\n",
              "      <td>0.391339</td>\n",
              "      <td>0.281814</td>\n",
              "      <td>0.017796</td>\n",
              "      <td>-0.015629</td>\n",
              "    </tr>\n",
              "    <tr>\n",
              "      <th>1</th>\n",
              "      <td>BAKER</td>\n",
              "      <td>73</td>\n",
              "      <td>2392</td>\n",
              "      <td>5610</td>\n",
              "      <td>53</td>\n",
              "      <td>17</td>\n",
              "      <td>8072</td>\n",
              "      <td>2273</td>\n",
              "      <td>3684</td>\n",
              "      <td>667</td>\n",
              "      <td>73</td>\n",
              "      <td>4</td>\n",
              "      <td>12352</td>\n",
              "      <td>0.00591</td>\n",
              "      <td>0.193653</td>\n",
              "      <td>0.454177</td>\n",
              "      <td>0.00591</td>\n",
              "      <td>0.0</td>\n",
              "    </tr>\n",
              "    <tr>\n",
              "      <th>2</th>\n",
              "      <td>BAY</td>\n",
              "      <td>248</td>\n",
              "      <td>18850</td>\n",
              "      <td>38637</td>\n",
              "      <td>828</td>\n",
              "      <td>171</td>\n",
              "      <td>58486</td>\n",
              "      <td>17020</td>\n",
              "      <td>28290</td>\n",
              "      <td>5922</td>\n",
              "      <td>1816</td>\n",
              "      <td>55</td>\n",
              "      <td>92749</td>\n",
              "      <td>0.002674</td>\n",
              "      <td>0.203237</td>\n",
              "      <td>0.416576</td>\n",
              "      <td>0.01958</td>\n",
              "      <td>-0.016906</td>\n",
              "    </tr>\n",
              "    <tr>\n",
              "      <th>3</th>\n",
              "      <td>BRADFORD</td>\n",
              "      <td>65</td>\n",
              "      <td>3072</td>\n",
              "      <td>5413</td>\n",
              "      <td>84</td>\n",
              "      <td>28</td>\n",
              "      <td>8597</td>\n",
              "      <td>3356</td>\n",
              "      <td>4038</td>\n",
              "      <td>819</td>\n",
              "      <td>155</td>\n",
              "      <td>3</td>\n",
              "      <td>13547</td>\n",
              "      <td>0.004798</td>\n",
              "      <td>0.226766</td>\n",
              "      <td>0.399572</td>\n",
              "      <td>0.011442</td>\n",
              "      <td>-0.006644</td>\n",
              "    </tr>\n",
              "    <tr>\n",
              "      <th>4</th>\n",
              "      <td>BREVARD</td>\n",
              "      <td>570</td>\n",
              "      <td>97318</td>\n",
              "      <td>115185</td>\n",
              "      <td>4470</td>\n",
              "      <td>643</td>\n",
              "      <td>217616</td>\n",
              "      <td>80416</td>\n",
              "      <td>87980</td>\n",
              "      <td>25249</td>\n",
              "      <td>7927</td>\n",
              "      <td>148</td>\n",
              "      <td>283680</td>\n",
              "      <td>0.002009</td>\n",
              "      <td>0.343056</td>\n",
              "      <td>0.406038</td>\n",
              "      <td>0.027943</td>\n",
              "      <td>-0.025934</td>\n",
              "    </tr>\n",
              "  </tbody>\n",
              "</table>\n",
              "</div>"
            ],
            "text/plain": [
              "     county buchanan2000 gore2000 bush2000 nader2000 browne2000 total2000   \n",
              "0   ALACHUA          262    47300    34062      3215        658     85235  \\\n",
              "1     BAKER           73     2392     5610        53         17      8072   \n",
              "2       BAY          248    18850    38637       828        171     58486   \n",
              "3  BRADFORD           65     3072     5413        84         28      8597   \n",
              "4   BREVARD          570    97318   115185      4470        643    217616   \n",
              "\n",
              "  clinton96 dole96 perot96 buchanan96p  reform.reg total.reg   \n",
              "0     40144  25303    8072        2151          91    120867  \\\n",
              "1      2273   3684     667          73           4     12352   \n",
              "2     17020  28290    5922        1816          55     92749   \n",
              "3      3356   4038     819         155           3     13547   \n",
              "4     80416  87980   25249        7927         148    283680   \n",
              "\n",
              "  buchanan2000_prop gore2000_prop bush2000_prop buchanan1996_prop   \n",
              "0          0.002168      0.391339      0.281814          0.017796  \\\n",
              "1           0.00591      0.193653      0.454177           0.00591   \n",
              "2          0.002674      0.203237      0.416576           0.01958   \n",
              "3          0.004798      0.226766      0.399572          0.011442   \n",
              "4          0.002009      0.343056      0.406038          0.027943   \n",
              "\n",
              "  buchanan change  \n",
              "0       -0.015629  \n",
              "1             0.0  \n",
              "2       -0.016906  \n",
              "3       -0.006644  \n",
              "4       -0.025934  "
            ]
          },
          "execution_count": 6,
          "metadata": {},
          "output_type": "execute_result"
        }
      ],
      "source": [
        "df_2000['buchanan2000_prop'] = df_2000['buchanan2000'] / df_2000['total.reg']\n",
        "df_2000[\"gore2000_prop\"] = df_2000[\"gore2000\"] / df_2000[\"total.reg\"]\n",
        "df_2000[\"bush2000_prop\"] = df_2000[\"bush2000\"] / df_2000[\"total.reg\"]\n",
        "df_2000[\"buchanan1996_prop\"] = df_2000[\"buchanan96p\"] / df_2000[\"total.reg\"]\n",
        "df_2000[\"buchanan change\"] = df_2000[\"buchanan2000_prop\"] - df_2000[\"buchanan1996_prop\"]\n",
        "\n",
        "df_2000.head()"
      ]
    },
    {
      "cell_type": "code",
      "execution_count": 7,
      "metadata": {},
      "outputs": [
        {
          "data": {
            "text/html": [
              "<div>\n",
              "<style scoped>\n",
              "    .dataframe tbody tr th:only-of-type {\n",
              "        vertical-align: middle;\n",
              "    }\n",
              "\n",
              "    .dataframe tbody tr th {\n",
              "        vertical-align: top;\n",
              "    }\n",
              "\n",
              "    .dataframe thead th {\n",
              "        text-align: right;\n",
              "    }\n",
              "</style>\n",
              "<table border=\"1\" class=\"dataframe\">\n",
              "  <thead>\n",
              "    <tr style=\"text-align: right;\">\n",
              "      <th></th>\n",
              "      <th>county</th>\n",
              "      <th>buchanan2000</th>\n",
              "      <th>gore2000</th>\n",
              "      <th>bush2000</th>\n",
              "      <th>nader2000</th>\n",
              "      <th>browne2000</th>\n",
              "      <th>total2000</th>\n",
              "      <th>clinton96</th>\n",
              "      <th>dole96</th>\n",
              "      <th>perot96</th>\n",
              "      <th>buchanan96p</th>\n",
              "      <th>reform.reg</th>\n",
              "      <th>total.reg</th>\n",
              "      <th>buchanan2000_prop</th>\n",
              "      <th>gore2000_prop</th>\n",
              "      <th>bush2000_prop</th>\n",
              "      <th>buchanan1996_prop</th>\n",
              "      <th>buchanan change</th>\n",
              "    </tr>\n",
              "  </thead>\n",
              "  <tbody>\n",
              "    <tr>\n",
              "      <th>49</th>\n",
              "      <td>PALM BEACH</td>\n",
              "      <td>3407</td>\n",
              "      <td>268945</td>\n",
              "      <td>152846</td>\n",
              "      <td>5564</td>\n",
              "      <td>743</td>\n",
              "      <td>428098</td>\n",
              "      <td>230621</td>\n",
              "      <td>133762</td>\n",
              "      <td>30739</td>\n",
              "      <td>8788</td>\n",
              "      <td>337</td>\n",
              "      <td>656694</td>\n",
              "      <td>0.005188</td>\n",
              "      <td>0.409544</td>\n",
              "      <td>0.232751</td>\n",
              "      <td>0.013382</td>\n",
              "      <td>-0.008194</td>\n",
              "    </tr>\n",
              "  </tbody>\n",
              "</table>\n",
              "</div>"
            ],
            "text/plain": [
              "        county buchanan2000 gore2000 bush2000 nader2000 browne2000 total2000   \n",
              "49  PALM BEACH         3407   268945   152846      5564        743    428098  \\\n",
              "\n",
              "   clinton96  dole96 perot96 buchanan96p  reform.reg total.reg   \n",
              "49    230621  133762   30739        8788         337    656694  \\\n",
              "\n",
              "   buchanan2000_prop gore2000_prop bush2000_prop buchanan1996_prop   \n",
              "49          0.005188      0.409544      0.232751          0.013382  \\\n",
              "\n",
              "   buchanan change  \n",
              "49       -0.008194  "
            ]
          },
          "execution_count": 7,
          "metadata": {},
          "output_type": "execute_result"
        }
      ],
      "source": [
        "# see all county names in data in a list\n",
        "palm_beach = df_2000[df_2000['county'] == 'PALM BEACH']\n",
        "\n",
        "palm_beach"
      ]
    },
    {
      "cell_type": "code",
      "execution_count": 27,
      "metadata": {},
      "outputs": [
        {
          "data": {
            "application/vnd.plotly.v1+json": {
              "config": {
                "plotlyServerURL": "https://plot.ly"
              },
              "data": [
                {
                  "hovertemplate": "<b>%{hovertext}</b><br><br>Buchanan 1996 Primary Votes=%{x}<br>Buchanan 2000 Votes=%{y}<extra></extra>",
                  "hovertext": [
                    "ALACHUA",
                    "BAKER",
                    "BAY",
                    "BRADFORD",
                    "BREVARD",
                    "BROWARD",
                    "CALHOUN",
                    "CHARLOTTE",
                    "CITRUS",
                    "CLAY",
                    "COLLIER",
                    "COLUMBIA",
                    "DADE",
                    "DE SOTO",
                    "DIXIE",
                    "DUVAL",
                    "ESCAMBIA",
                    "FLAGLER",
                    "FRANKLIN",
                    "GADSDEN",
                    "GILCHRIST",
                    "GLADES",
                    "GULF",
                    "HAMILTON",
                    "HARDEE",
                    "HENDRY",
                    "HERNANDO",
                    "HIGHLANDS",
                    "HILLSBOROUGH",
                    "HOLMES",
                    "INDIAN RIVER",
                    "JACKSON",
                    "JEFFERSON",
                    "LAFAYETTE",
                    "LAKE",
                    "LEE",
                    "LEON",
                    "LEVY",
                    "LIBERTY",
                    "MADISON",
                    "MANATEE",
                    "MARION",
                    "MARTIN",
                    "MONROE",
                    "NASSAU",
                    "OKALOOSA",
                    "OKEECHOBEE",
                    "ORANGE",
                    "OSCEOLA",
                    "PALM BEACH",
                    "PASCO",
                    "PINELLAS",
                    "POLK",
                    "PUTNAM",
                    "ST. JOHNS",
                    "ST. LUCIE",
                    "SANTA ROSA",
                    "SARASOTA",
                    "SEMINOLE",
                    "SUMTER",
                    "SUWANNEE",
                    "TAYLOR",
                    "UNION",
                    "VOLUSIA",
                    "WAKULLA",
                    "WALTON",
                    "WASHINGTON"
                  ],
                  "legendgroup": "",
                  "marker": {
                    "color": "#636efa",
                    "symbol": "circle"
                  },
                  "mode": "markers",
                  "name": "",
                  "orientation": "v",
                  "showlegend": false,
                  "type": "scatter",
                  "x": [
                    2151,
                    73,
                    1816,
                    155,
                    7927,
                    10966,
                    41,
                    2982,
                    2293,
                    2351,
                    2722,
                    657,
                    6349,
                    189,
                    55,
                    7051,
                    4977,
                    629,
                    32,
                    138,
                    106,
                    58,
                    105,
                    37,
                    97,
                    183,
                    2645,
                    1096,
                    7267,
                    62,
                    1797,
                    390,
                    99,
                    15,
                    3531,
                    7359,
                    2222,
                    330,
                    18,
                    109,
                    4804,
                    862,
                    4483,
                    2497,
                    628,
                    4147,
                    149,
                    7203,
                    1499,
                    8788,
                    4675,
                    12116,
                    5157,
                    952,
                    2536,
                    5660,
                    4052,
                    1885,
                    3229,
                    481,
                    376,
                    99,
                    45,
                    4441,
                    133,
                    546,
                    190
                  ],
                  "xaxis": "x",
                  "y": [
                    262,
                    73,
                    248,
                    65,
                    570,
                    789,
                    90,
                    182,
                    270,
                    186,
                    122,
                    89,
                    561,
                    36,
                    29,
                    650,
                    504,
                    83,
                    33,
                    39,
                    29,
                    9,
                    71,
                    24,
                    30,
                    22,
                    242,
                    99,
                    836,
                    76,
                    105,
                    102,
                    29,
                    10,
                    289,
                    305,
                    282,
                    67,
                    39,
                    29,
                    272,
                    563,
                    108,
                    47,
                    90,
                    267,
                    43,
                    446,
                    145,
                    3407,
                    570,
                    1010,
                    538,
                    147,
                    229,
                    124,
                    311,
                    305,
                    194,
                    114,
                    108,
                    27,
                    26,
                    396,
                    46,
                    120,
                    88
                  ],
                  "yaxis": "y"
                },
                {
                  "hovertemplate": "<b>OLS trendline</b><br>buchanan2000 = 0.100633 * buchanan96p + 14.0701<br>R<sup>2</sup>=0.425189<br><br>Buchanan 1996 Primary Votes=%{x}<br>Buchanan 2000 Votes=%{y} <b>(trend)</b><extra></extra>",
                  "legendgroup": "",
                  "marker": {
                    "color": "#636efa",
                    "symbol": "circle"
                  },
                  "mode": "lines",
                  "name": "",
                  "showlegend": false,
                  "type": "scatter",
                  "x": [
                    15,
                    18,
                    32,
                    37,
                    41,
                    45,
                    55,
                    58,
                    62,
                    73,
                    97,
                    99,
                    99,
                    105,
                    106,
                    109,
                    133,
                    138,
                    149,
                    155,
                    183,
                    189,
                    190,
                    330,
                    376,
                    390,
                    481,
                    546,
                    628,
                    629,
                    657,
                    862,
                    952,
                    1096,
                    1499,
                    1797,
                    1816,
                    1885,
                    2151,
                    2222,
                    2293,
                    2351,
                    2497,
                    2536,
                    2645,
                    2722,
                    2982,
                    3229,
                    3531,
                    4052,
                    4147,
                    4441,
                    4483,
                    4675,
                    4804,
                    4977,
                    5157,
                    5660,
                    6349,
                    7051,
                    7203,
                    7267,
                    7359,
                    7927,
                    8788,
                    10966,
                    12116
                  ],
                  "xaxis": "x",
                  "y": [
                    15.579596796974368,
                    15.881495905514504,
                    17.290358412035133,
                    17.793523592935358,
                    18.196055737655538,
                    18.598587882375718,
                    19.60491824417617,
                    19.906817352716306,
                    20.309349497436486,
                    21.41631289541698,
                    23.83150576373806,
                    24.03277183609815,
                    24.03277183609815,
                    24.63657005317842,
                    24.737203089358466,
                    25.0391021978986,
                    27.454295066219682,
                    27.957460247119908,
                    29.0644236451004,
                    29.668221862180673,
                    32.485946875221934,
                    33.0897450923022,
                    33.19037812848225,
                    47.27900319368855,
                    51.908122857970625,
                    53.31698536449125,
                    62.474591656875354,
                    69.01573900857828,
                    77.26764797534197,
                    77.36828101152201,
                    80.18600602456328,
                    100.8157784414725,
                    109.87275169767656,
                    124.36390890760305,
                    164.9190224881612,
                    194.90766726981462,
                    196.81969495723547,
                    203.76337445365857,
                    230.53176207755055,
                    237.67670764633374,
                    244.82165321511695,
                    250.65836931355955,
                    265.35079259584614,
                    269.2754810068679,
                    280.2444819504928,
                    287.99322573635624,
                    314.15781514316797,
                    339.0141750796391,
                    369.4053520060127,
                    421.8351638558162,
                    431.3953022929204,
                    460.98141492985366,
                    465.2080024494156,
                    484.5295453959842,
                    497.51120706321,
                    514.9207223223578,
                    533.034668834766,
                    583.6530860333286,
                    652.9892479613795,
                    723.6336393597712,
                    738.929860859138,
                    745.3703751746609,
                    754.6286145032251,
                    811.7881790534907,
                    898.4332232045094,
                    1117.6119760046474,
                    1233.3399676116992
                  ],
                  "yaxis": "y"
                }
              ],
              "layout": {
                "legend": {
                  "tracegroupgap": 0
                },
                "template": {
                  "data": {
                    "bar": [
                      {
                        "error_x": {
                          "color": "#2a3f5f"
                        },
                        "error_y": {
                          "color": "#2a3f5f"
                        },
                        "marker": {
                          "line": {
                            "color": "#E5ECF6",
                            "width": 0.5
                          },
                          "pattern": {
                            "fillmode": "overlay",
                            "size": 10,
                            "solidity": 0.2
                          }
                        },
                        "type": "bar"
                      }
                    ],
                    "barpolar": [
                      {
                        "marker": {
                          "line": {
                            "color": "#E5ECF6",
                            "width": 0.5
                          },
                          "pattern": {
                            "fillmode": "overlay",
                            "size": 10,
                            "solidity": 0.2
                          }
                        },
                        "type": "barpolar"
                      }
                    ],
                    "carpet": [
                      {
                        "aaxis": {
                          "endlinecolor": "#2a3f5f",
                          "gridcolor": "white",
                          "linecolor": "white",
                          "minorgridcolor": "white",
                          "startlinecolor": "#2a3f5f"
                        },
                        "baxis": {
                          "endlinecolor": "#2a3f5f",
                          "gridcolor": "white",
                          "linecolor": "white",
                          "minorgridcolor": "white",
                          "startlinecolor": "#2a3f5f"
                        },
                        "type": "carpet"
                      }
                    ],
                    "choropleth": [
                      {
                        "colorbar": {
                          "outlinewidth": 0,
                          "ticks": ""
                        },
                        "type": "choropleth"
                      }
                    ],
                    "contour": [
                      {
                        "colorbar": {
                          "outlinewidth": 0,
                          "ticks": ""
                        },
                        "colorscale": [
                          [
                            0,
                            "#0d0887"
                          ],
                          [
                            0.1111111111111111,
                            "#46039f"
                          ],
                          [
                            0.2222222222222222,
                            "#7201a8"
                          ],
                          [
                            0.3333333333333333,
                            "#9c179e"
                          ],
                          [
                            0.4444444444444444,
                            "#bd3786"
                          ],
                          [
                            0.5555555555555556,
                            "#d8576b"
                          ],
                          [
                            0.6666666666666666,
                            "#ed7953"
                          ],
                          [
                            0.7777777777777778,
                            "#fb9f3a"
                          ],
                          [
                            0.8888888888888888,
                            "#fdca26"
                          ],
                          [
                            1,
                            "#f0f921"
                          ]
                        ],
                        "type": "contour"
                      }
                    ],
                    "contourcarpet": [
                      {
                        "colorbar": {
                          "outlinewidth": 0,
                          "ticks": ""
                        },
                        "type": "contourcarpet"
                      }
                    ],
                    "heatmap": [
                      {
                        "colorbar": {
                          "outlinewidth": 0,
                          "ticks": ""
                        },
                        "colorscale": [
                          [
                            0,
                            "#0d0887"
                          ],
                          [
                            0.1111111111111111,
                            "#46039f"
                          ],
                          [
                            0.2222222222222222,
                            "#7201a8"
                          ],
                          [
                            0.3333333333333333,
                            "#9c179e"
                          ],
                          [
                            0.4444444444444444,
                            "#bd3786"
                          ],
                          [
                            0.5555555555555556,
                            "#d8576b"
                          ],
                          [
                            0.6666666666666666,
                            "#ed7953"
                          ],
                          [
                            0.7777777777777778,
                            "#fb9f3a"
                          ],
                          [
                            0.8888888888888888,
                            "#fdca26"
                          ],
                          [
                            1,
                            "#f0f921"
                          ]
                        ],
                        "type": "heatmap"
                      }
                    ],
                    "heatmapgl": [
                      {
                        "colorbar": {
                          "outlinewidth": 0,
                          "ticks": ""
                        },
                        "colorscale": [
                          [
                            0,
                            "#0d0887"
                          ],
                          [
                            0.1111111111111111,
                            "#46039f"
                          ],
                          [
                            0.2222222222222222,
                            "#7201a8"
                          ],
                          [
                            0.3333333333333333,
                            "#9c179e"
                          ],
                          [
                            0.4444444444444444,
                            "#bd3786"
                          ],
                          [
                            0.5555555555555556,
                            "#d8576b"
                          ],
                          [
                            0.6666666666666666,
                            "#ed7953"
                          ],
                          [
                            0.7777777777777778,
                            "#fb9f3a"
                          ],
                          [
                            0.8888888888888888,
                            "#fdca26"
                          ],
                          [
                            1,
                            "#f0f921"
                          ]
                        ],
                        "type": "heatmapgl"
                      }
                    ],
                    "histogram": [
                      {
                        "marker": {
                          "pattern": {
                            "fillmode": "overlay",
                            "size": 10,
                            "solidity": 0.2
                          }
                        },
                        "type": "histogram"
                      }
                    ],
                    "histogram2d": [
                      {
                        "colorbar": {
                          "outlinewidth": 0,
                          "ticks": ""
                        },
                        "colorscale": [
                          [
                            0,
                            "#0d0887"
                          ],
                          [
                            0.1111111111111111,
                            "#46039f"
                          ],
                          [
                            0.2222222222222222,
                            "#7201a8"
                          ],
                          [
                            0.3333333333333333,
                            "#9c179e"
                          ],
                          [
                            0.4444444444444444,
                            "#bd3786"
                          ],
                          [
                            0.5555555555555556,
                            "#d8576b"
                          ],
                          [
                            0.6666666666666666,
                            "#ed7953"
                          ],
                          [
                            0.7777777777777778,
                            "#fb9f3a"
                          ],
                          [
                            0.8888888888888888,
                            "#fdca26"
                          ],
                          [
                            1,
                            "#f0f921"
                          ]
                        ],
                        "type": "histogram2d"
                      }
                    ],
                    "histogram2dcontour": [
                      {
                        "colorbar": {
                          "outlinewidth": 0,
                          "ticks": ""
                        },
                        "colorscale": [
                          [
                            0,
                            "#0d0887"
                          ],
                          [
                            0.1111111111111111,
                            "#46039f"
                          ],
                          [
                            0.2222222222222222,
                            "#7201a8"
                          ],
                          [
                            0.3333333333333333,
                            "#9c179e"
                          ],
                          [
                            0.4444444444444444,
                            "#bd3786"
                          ],
                          [
                            0.5555555555555556,
                            "#d8576b"
                          ],
                          [
                            0.6666666666666666,
                            "#ed7953"
                          ],
                          [
                            0.7777777777777778,
                            "#fb9f3a"
                          ],
                          [
                            0.8888888888888888,
                            "#fdca26"
                          ],
                          [
                            1,
                            "#f0f921"
                          ]
                        ],
                        "type": "histogram2dcontour"
                      }
                    ],
                    "mesh3d": [
                      {
                        "colorbar": {
                          "outlinewidth": 0,
                          "ticks": ""
                        },
                        "type": "mesh3d"
                      }
                    ],
                    "parcoords": [
                      {
                        "line": {
                          "colorbar": {
                            "outlinewidth": 0,
                            "ticks": ""
                          }
                        },
                        "type": "parcoords"
                      }
                    ],
                    "pie": [
                      {
                        "automargin": true,
                        "type": "pie"
                      }
                    ],
                    "scatter": [
                      {
                        "fillpattern": {
                          "fillmode": "overlay",
                          "size": 10,
                          "solidity": 0.2
                        },
                        "type": "scatter"
                      }
                    ],
                    "scatter3d": [
                      {
                        "line": {
                          "colorbar": {
                            "outlinewidth": 0,
                            "ticks": ""
                          }
                        },
                        "marker": {
                          "colorbar": {
                            "outlinewidth": 0,
                            "ticks": ""
                          }
                        },
                        "type": "scatter3d"
                      }
                    ],
                    "scattercarpet": [
                      {
                        "marker": {
                          "colorbar": {
                            "outlinewidth": 0,
                            "ticks": ""
                          }
                        },
                        "type": "scattercarpet"
                      }
                    ],
                    "scattergeo": [
                      {
                        "marker": {
                          "colorbar": {
                            "outlinewidth": 0,
                            "ticks": ""
                          }
                        },
                        "type": "scattergeo"
                      }
                    ],
                    "scattergl": [
                      {
                        "marker": {
                          "colorbar": {
                            "outlinewidth": 0,
                            "ticks": ""
                          }
                        },
                        "type": "scattergl"
                      }
                    ],
                    "scattermapbox": [
                      {
                        "marker": {
                          "colorbar": {
                            "outlinewidth": 0,
                            "ticks": ""
                          }
                        },
                        "type": "scattermapbox"
                      }
                    ],
                    "scatterpolar": [
                      {
                        "marker": {
                          "colorbar": {
                            "outlinewidth": 0,
                            "ticks": ""
                          }
                        },
                        "type": "scatterpolar"
                      }
                    ],
                    "scatterpolargl": [
                      {
                        "marker": {
                          "colorbar": {
                            "outlinewidth": 0,
                            "ticks": ""
                          }
                        },
                        "type": "scatterpolargl"
                      }
                    ],
                    "scatterternary": [
                      {
                        "marker": {
                          "colorbar": {
                            "outlinewidth": 0,
                            "ticks": ""
                          }
                        },
                        "type": "scatterternary"
                      }
                    ],
                    "surface": [
                      {
                        "colorbar": {
                          "outlinewidth": 0,
                          "ticks": ""
                        },
                        "colorscale": [
                          [
                            0,
                            "#0d0887"
                          ],
                          [
                            0.1111111111111111,
                            "#46039f"
                          ],
                          [
                            0.2222222222222222,
                            "#7201a8"
                          ],
                          [
                            0.3333333333333333,
                            "#9c179e"
                          ],
                          [
                            0.4444444444444444,
                            "#bd3786"
                          ],
                          [
                            0.5555555555555556,
                            "#d8576b"
                          ],
                          [
                            0.6666666666666666,
                            "#ed7953"
                          ],
                          [
                            0.7777777777777778,
                            "#fb9f3a"
                          ],
                          [
                            0.8888888888888888,
                            "#fdca26"
                          ],
                          [
                            1,
                            "#f0f921"
                          ]
                        ],
                        "type": "surface"
                      }
                    ],
                    "table": [
                      {
                        "cells": {
                          "fill": {
                            "color": "#EBF0F8"
                          },
                          "line": {
                            "color": "white"
                          }
                        },
                        "header": {
                          "fill": {
                            "color": "#C8D4E3"
                          },
                          "line": {
                            "color": "white"
                          }
                        },
                        "type": "table"
                      }
                    ]
                  },
                  "layout": {
                    "annotationdefaults": {
                      "arrowcolor": "#2a3f5f",
                      "arrowhead": 0,
                      "arrowwidth": 1
                    },
                    "autotypenumbers": "strict",
                    "coloraxis": {
                      "colorbar": {
                        "outlinewidth": 0,
                        "ticks": ""
                      }
                    },
                    "colorscale": {
                      "diverging": [
                        [
                          0,
                          "#8e0152"
                        ],
                        [
                          0.1,
                          "#c51b7d"
                        ],
                        [
                          0.2,
                          "#de77ae"
                        ],
                        [
                          0.3,
                          "#f1b6da"
                        ],
                        [
                          0.4,
                          "#fde0ef"
                        ],
                        [
                          0.5,
                          "#f7f7f7"
                        ],
                        [
                          0.6,
                          "#e6f5d0"
                        ],
                        [
                          0.7,
                          "#b8e186"
                        ],
                        [
                          0.8,
                          "#7fbc41"
                        ],
                        [
                          0.9,
                          "#4d9221"
                        ],
                        [
                          1,
                          "#276419"
                        ]
                      ],
                      "sequential": [
                        [
                          0,
                          "#0d0887"
                        ],
                        [
                          0.1111111111111111,
                          "#46039f"
                        ],
                        [
                          0.2222222222222222,
                          "#7201a8"
                        ],
                        [
                          0.3333333333333333,
                          "#9c179e"
                        ],
                        [
                          0.4444444444444444,
                          "#bd3786"
                        ],
                        [
                          0.5555555555555556,
                          "#d8576b"
                        ],
                        [
                          0.6666666666666666,
                          "#ed7953"
                        ],
                        [
                          0.7777777777777778,
                          "#fb9f3a"
                        ],
                        [
                          0.8888888888888888,
                          "#fdca26"
                        ],
                        [
                          1,
                          "#f0f921"
                        ]
                      ],
                      "sequentialminus": [
                        [
                          0,
                          "#0d0887"
                        ],
                        [
                          0.1111111111111111,
                          "#46039f"
                        ],
                        [
                          0.2222222222222222,
                          "#7201a8"
                        ],
                        [
                          0.3333333333333333,
                          "#9c179e"
                        ],
                        [
                          0.4444444444444444,
                          "#bd3786"
                        ],
                        [
                          0.5555555555555556,
                          "#d8576b"
                        ],
                        [
                          0.6666666666666666,
                          "#ed7953"
                        ],
                        [
                          0.7777777777777778,
                          "#fb9f3a"
                        ],
                        [
                          0.8888888888888888,
                          "#fdca26"
                        ],
                        [
                          1,
                          "#f0f921"
                        ]
                      ]
                    },
                    "colorway": [
                      "#636efa",
                      "#EF553B",
                      "#00cc96",
                      "#ab63fa",
                      "#FFA15A",
                      "#19d3f3",
                      "#FF6692",
                      "#B6E880",
                      "#FF97FF",
                      "#FECB52"
                    ],
                    "font": {
                      "color": "#2a3f5f"
                    },
                    "geo": {
                      "bgcolor": "white",
                      "lakecolor": "white",
                      "landcolor": "#E5ECF6",
                      "showlakes": true,
                      "showland": true,
                      "subunitcolor": "white"
                    },
                    "hoverlabel": {
                      "align": "left"
                    },
                    "hovermode": "closest",
                    "mapbox": {
                      "style": "light"
                    },
                    "paper_bgcolor": "white",
                    "plot_bgcolor": "#E5ECF6",
                    "polar": {
                      "angularaxis": {
                        "gridcolor": "white",
                        "linecolor": "white",
                        "ticks": ""
                      },
                      "bgcolor": "#E5ECF6",
                      "radialaxis": {
                        "gridcolor": "white",
                        "linecolor": "white",
                        "ticks": ""
                      }
                    },
                    "scene": {
                      "xaxis": {
                        "backgroundcolor": "#E5ECF6",
                        "gridcolor": "white",
                        "gridwidth": 2,
                        "linecolor": "white",
                        "showbackground": true,
                        "ticks": "",
                        "zerolinecolor": "white"
                      },
                      "yaxis": {
                        "backgroundcolor": "#E5ECF6",
                        "gridcolor": "white",
                        "gridwidth": 2,
                        "linecolor": "white",
                        "showbackground": true,
                        "ticks": "",
                        "zerolinecolor": "white"
                      },
                      "zaxis": {
                        "backgroundcolor": "#E5ECF6",
                        "gridcolor": "white",
                        "gridwidth": 2,
                        "linecolor": "white",
                        "showbackground": true,
                        "ticks": "",
                        "zerolinecolor": "white"
                      }
                    },
                    "shapedefaults": {
                      "line": {
                        "color": "#2a3f5f"
                      }
                    },
                    "ternary": {
                      "aaxis": {
                        "gridcolor": "white",
                        "linecolor": "white",
                        "ticks": ""
                      },
                      "baxis": {
                        "gridcolor": "white",
                        "linecolor": "white",
                        "ticks": ""
                      },
                      "bgcolor": "#E5ECF6",
                      "caxis": {
                        "gridcolor": "white",
                        "linecolor": "white",
                        "ticks": ""
                      }
                    },
                    "title": {
                      "x": 0.05
                    },
                    "xaxis": {
                      "automargin": true,
                      "gridcolor": "white",
                      "linecolor": "white",
                      "ticks": "",
                      "title": {
                        "standoff": 15
                      },
                      "zerolinecolor": "white",
                      "zerolinewidth": 2
                    },
                    "yaxis": {
                      "automargin": true,
                      "gridcolor": "white",
                      "linecolor": "white",
                      "ticks": "",
                      "title": {
                        "standoff": 15
                      },
                      "zerolinecolor": "white",
                      "zerolinewidth": 2
                    }
                  }
                },
                "title": {
                  "text": "Buchanan 1996 Primary vs 2000 Votes"
                },
                "xaxis": {
                  "anchor": "y",
                  "domain": [
                    0,
                    1
                  ],
                  "title": {
                    "text": "Buchanan 1996 Primary Votes"
                  }
                },
                "yaxis": {
                  "anchor": "x",
                  "domain": [
                    0,
                    1
                  ],
                  "title": {
                    "text": "Buchanan 2000 Votes"
                  }
                }
              }
            }
          },
          "metadata": {},
          "output_type": "display_data"
        }
      ],
      "source": [
        "import plotly.express as px\n",
        "\n",
        "fig = px.scatter(df_2000, \n",
        "                 x=\"buchanan96p\", \n",
        "                 y=\"buchanan2000\", \n",
        "                 hover_name=\"county\",\n",
        "                 labels={\n",
        "                     \"buchanan96p\": \"Buchanan 1996 Primary Votes\",\n",
        "                     \"buchanan2000\": \"Buchanan 2000 Votes\"\n",
        "                 },\n",
        "                 title=\"Buchanan 1996 Primary vs 2000 Votes\",\n",
        "                 # add a trendline\n",
        "                 trendline=\"ols\")\n",
        "fig.show()"
      ]
    },
    {
      "cell_type": "code",
      "execution_count": 34,
      "metadata": {},
      "outputs": [
        {
          "data": {
            "application/vnd.plotly.v1+json": {
              "config": {
                "plotlyServerURL": "https://plot.ly"
              },
              "data": [
                {
                  "hovertemplate": "<b>%{hovertext}</b><br><br>buchanan change=%{x}<br>total.reg=%{y}<extra></extra>",
                  "hovertext": [
                    "ALACHUA",
                    "BAKER",
                    "BAY",
                    "BRADFORD",
                    "BREVARD",
                    "BROWARD",
                    "CALHOUN",
                    "CHARLOTTE",
                    "CITRUS",
                    "CLAY",
                    "COLLIER",
                    "COLUMBIA",
                    "DADE",
                    "DE SOTO",
                    "DIXIE",
                    "DUVAL",
                    "ESCAMBIA",
                    "FLAGLER",
                    "FRANKLIN",
                    "GADSDEN",
                    "GILCHRIST",
                    "GLADES",
                    "GULF",
                    "HAMILTON",
                    "HARDEE",
                    "HENDRY",
                    "HERNANDO",
                    "HIGHLANDS",
                    "HILLSBOROUGH",
                    "HOLMES",
                    "INDIAN RIVER",
                    "JACKSON",
                    "JEFFERSON",
                    "LAFAYETTE",
                    "LAKE",
                    "LEE",
                    "LEON",
                    "LEVY",
                    "LIBERTY",
                    "MADISON",
                    "MANATEE",
                    "MARION",
                    "MARTIN",
                    "MONROE",
                    "NASSAU",
                    "OKALOOSA",
                    "OKEECHOBEE",
                    "ORANGE",
                    "OSCEOLA",
                    "PALM BEACH",
                    "PASCO",
                    "PINELLAS",
                    "POLK",
                    "PUTNAM",
                    "ST. JOHNS",
                    "ST. LUCIE",
                    "SANTA ROSA",
                    "SARASOTA",
                    "SEMINOLE",
                    "SUMTER",
                    "SUWANNEE",
                    "TAYLOR",
                    "UNION",
                    "VOLUSIA",
                    "WAKULLA",
                    "WALTON",
                    "WASHINGTON"
                  ],
                  "legendgroup": "",
                  "marker": {
                    "color": "#636efa",
                    "symbol": "circle"
                  },
                  "mode": "markers",
                  "name": "",
                  "orientation": "v",
                  "showlegend": false,
                  "type": "scatter",
                  "x": [
                    -0.015628748955463442,
                    0,
                    -0.016905842650594614,
                    -0.006643537314534583,
                    -0.025934151156232373,
                    -0.01146363222658274,
                    0.006773569256289742,
                    -0.02831199822038868,
                    -0.02485929858192632,
                    -0.024924879980658756,
                    -0.02104036513125951,
                    -0.01824547878320645,
                    -0.006453252938972831,
                    -0.009726018689212383,
                    -0.002473599086671107,
                    -0.015097873183526076,
                    -0.02615728287057613,
                    -0.016315066037172053,
                    0.00013196093956188964,
                    -0.0037709976002742547,
                    -0.01119511485897063,
                    -0.0077458109389819795,
                    -0.0034263831502569786,
                    -0.0018734687995388384,
                    -0.006154694102516994,
                    -0.009896729776247849,
                    -0.025149399784403816,
                    -0.018832284996505546,
                    -0.012876756763250686,
                    0.001356983619269168,
                    -0.02369084290114814,
                    -0.012013515204605182,
                    -0.008577380223011886,
                    -0.001238850346878097,
                    -0.024742236569971994,
                    -0.02789046252144964,
                    -0.013249827547347643,
                    -0.0140860157463446,
                    0.005597014925373134,
                    -0.007708614376565812,
                    -0.026568490661163808,
                    -0.002024277793198698,
                    -0.05056984996647942,
                    -0.05061042368154682,
                    -0.015297128234290589,
                    -0.03485447358965146,
                    -0.0060751948647409446,
                    -0.01669305966959748,
                    -0.014686103518590827,
                    -0.008194075170475136,
                    -0.018518434977962836,
                    -0.019316092743681745,
                    -0.018639505744389787,
                    -0.019927715615407467,
                    -0.025773368636256996,
                    -0.04700089145476928,
                    -0.04809843400447427,
                    -0.007118880803802744,
                    -0.015914715999664403,
                    -0.011632698342261246,
                    -0.012998981423097442,
                    -0.005851755526657998,
                    -0.002813981042654029,
                    -0.015523540518551494,
                    -0.006501270363174412,
                    -0.015136441159749858,
                    -0.0071040534893439195
                  ],
                  "xaxis": "x",
                  "y": [
                    120867,
                    12352,
                    92749,
                    13547,
                    283680,
                    887764,
                    7234,
                    98898,
                    81378,
                    86861,
                    123572,
                    31131,
                    896912,
                    15731,
                    10511,
                    423967,
                    171004,
                    33466,
                    7578,
                    26253,
                    6878,
                    6326,
                    9923,
                    6939,
                    10886,
                    16268,
                    95549,
                    52941,
                    499427,
                    10317,
                    71420,
                    23973,
                    8161,
                    4036,
                    131031,
                    252918,
                    146417,
                    18671,
                    3752,
                    10378,
                    170578,
                    147707,
                    86514,
                    48409,
                    35170,
                    111320,
                    17448,
                    404779,
                    92196,
                    656694,
                    221671,
                    574961,
                    247807,
                    40396,
                    89511,
                    117785,
                    77778,
                    221945,
                    190704,
                    31549,
                    20617,
                    12304,
                    6752,
                    260572,
                    13382,
                    28144,
                    14358
                  ],
                  "yaxis": "y"
                }
              ],
              "layout": {
                "legend": {
                  "tracegroupgap": 0
                },
                "margin": {
                  "t": 60
                },
                "template": {
                  "data": {
                    "bar": [
                      {
                        "error_x": {
                          "color": "#2a3f5f"
                        },
                        "error_y": {
                          "color": "#2a3f5f"
                        },
                        "marker": {
                          "line": {
                            "color": "#E5ECF6",
                            "width": 0.5
                          },
                          "pattern": {
                            "fillmode": "overlay",
                            "size": 10,
                            "solidity": 0.2
                          }
                        },
                        "type": "bar"
                      }
                    ],
                    "barpolar": [
                      {
                        "marker": {
                          "line": {
                            "color": "#E5ECF6",
                            "width": 0.5
                          },
                          "pattern": {
                            "fillmode": "overlay",
                            "size": 10,
                            "solidity": 0.2
                          }
                        },
                        "type": "barpolar"
                      }
                    ],
                    "carpet": [
                      {
                        "aaxis": {
                          "endlinecolor": "#2a3f5f",
                          "gridcolor": "white",
                          "linecolor": "white",
                          "minorgridcolor": "white",
                          "startlinecolor": "#2a3f5f"
                        },
                        "baxis": {
                          "endlinecolor": "#2a3f5f",
                          "gridcolor": "white",
                          "linecolor": "white",
                          "minorgridcolor": "white",
                          "startlinecolor": "#2a3f5f"
                        },
                        "type": "carpet"
                      }
                    ],
                    "choropleth": [
                      {
                        "colorbar": {
                          "outlinewidth": 0,
                          "ticks": ""
                        },
                        "type": "choropleth"
                      }
                    ],
                    "contour": [
                      {
                        "colorbar": {
                          "outlinewidth": 0,
                          "ticks": ""
                        },
                        "colorscale": [
                          [
                            0,
                            "#0d0887"
                          ],
                          [
                            0.1111111111111111,
                            "#46039f"
                          ],
                          [
                            0.2222222222222222,
                            "#7201a8"
                          ],
                          [
                            0.3333333333333333,
                            "#9c179e"
                          ],
                          [
                            0.4444444444444444,
                            "#bd3786"
                          ],
                          [
                            0.5555555555555556,
                            "#d8576b"
                          ],
                          [
                            0.6666666666666666,
                            "#ed7953"
                          ],
                          [
                            0.7777777777777778,
                            "#fb9f3a"
                          ],
                          [
                            0.8888888888888888,
                            "#fdca26"
                          ],
                          [
                            1,
                            "#f0f921"
                          ]
                        ],
                        "type": "contour"
                      }
                    ],
                    "contourcarpet": [
                      {
                        "colorbar": {
                          "outlinewidth": 0,
                          "ticks": ""
                        },
                        "type": "contourcarpet"
                      }
                    ],
                    "heatmap": [
                      {
                        "colorbar": {
                          "outlinewidth": 0,
                          "ticks": ""
                        },
                        "colorscale": [
                          [
                            0,
                            "#0d0887"
                          ],
                          [
                            0.1111111111111111,
                            "#46039f"
                          ],
                          [
                            0.2222222222222222,
                            "#7201a8"
                          ],
                          [
                            0.3333333333333333,
                            "#9c179e"
                          ],
                          [
                            0.4444444444444444,
                            "#bd3786"
                          ],
                          [
                            0.5555555555555556,
                            "#d8576b"
                          ],
                          [
                            0.6666666666666666,
                            "#ed7953"
                          ],
                          [
                            0.7777777777777778,
                            "#fb9f3a"
                          ],
                          [
                            0.8888888888888888,
                            "#fdca26"
                          ],
                          [
                            1,
                            "#f0f921"
                          ]
                        ],
                        "type": "heatmap"
                      }
                    ],
                    "heatmapgl": [
                      {
                        "colorbar": {
                          "outlinewidth": 0,
                          "ticks": ""
                        },
                        "colorscale": [
                          [
                            0,
                            "#0d0887"
                          ],
                          [
                            0.1111111111111111,
                            "#46039f"
                          ],
                          [
                            0.2222222222222222,
                            "#7201a8"
                          ],
                          [
                            0.3333333333333333,
                            "#9c179e"
                          ],
                          [
                            0.4444444444444444,
                            "#bd3786"
                          ],
                          [
                            0.5555555555555556,
                            "#d8576b"
                          ],
                          [
                            0.6666666666666666,
                            "#ed7953"
                          ],
                          [
                            0.7777777777777778,
                            "#fb9f3a"
                          ],
                          [
                            0.8888888888888888,
                            "#fdca26"
                          ],
                          [
                            1,
                            "#f0f921"
                          ]
                        ],
                        "type": "heatmapgl"
                      }
                    ],
                    "histogram": [
                      {
                        "marker": {
                          "pattern": {
                            "fillmode": "overlay",
                            "size": 10,
                            "solidity": 0.2
                          }
                        },
                        "type": "histogram"
                      }
                    ],
                    "histogram2d": [
                      {
                        "colorbar": {
                          "outlinewidth": 0,
                          "ticks": ""
                        },
                        "colorscale": [
                          [
                            0,
                            "#0d0887"
                          ],
                          [
                            0.1111111111111111,
                            "#46039f"
                          ],
                          [
                            0.2222222222222222,
                            "#7201a8"
                          ],
                          [
                            0.3333333333333333,
                            "#9c179e"
                          ],
                          [
                            0.4444444444444444,
                            "#bd3786"
                          ],
                          [
                            0.5555555555555556,
                            "#d8576b"
                          ],
                          [
                            0.6666666666666666,
                            "#ed7953"
                          ],
                          [
                            0.7777777777777778,
                            "#fb9f3a"
                          ],
                          [
                            0.8888888888888888,
                            "#fdca26"
                          ],
                          [
                            1,
                            "#f0f921"
                          ]
                        ],
                        "type": "histogram2d"
                      }
                    ],
                    "histogram2dcontour": [
                      {
                        "colorbar": {
                          "outlinewidth": 0,
                          "ticks": ""
                        },
                        "colorscale": [
                          [
                            0,
                            "#0d0887"
                          ],
                          [
                            0.1111111111111111,
                            "#46039f"
                          ],
                          [
                            0.2222222222222222,
                            "#7201a8"
                          ],
                          [
                            0.3333333333333333,
                            "#9c179e"
                          ],
                          [
                            0.4444444444444444,
                            "#bd3786"
                          ],
                          [
                            0.5555555555555556,
                            "#d8576b"
                          ],
                          [
                            0.6666666666666666,
                            "#ed7953"
                          ],
                          [
                            0.7777777777777778,
                            "#fb9f3a"
                          ],
                          [
                            0.8888888888888888,
                            "#fdca26"
                          ],
                          [
                            1,
                            "#f0f921"
                          ]
                        ],
                        "type": "histogram2dcontour"
                      }
                    ],
                    "mesh3d": [
                      {
                        "colorbar": {
                          "outlinewidth": 0,
                          "ticks": ""
                        },
                        "type": "mesh3d"
                      }
                    ],
                    "parcoords": [
                      {
                        "line": {
                          "colorbar": {
                            "outlinewidth": 0,
                            "ticks": ""
                          }
                        },
                        "type": "parcoords"
                      }
                    ],
                    "pie": [
                      {
                        "automargin": true,
                        "type": "pie"
                      }
                    ],
                    "scatter": [
                      {
                        "fillpattern": {
                          "fillmode": "overlay",
                          "size": 10,
                          "solidity": 0.2
                        },
                        "type": "scatter"
                      }
                    ],
                    "scatter3d": [
                      {
                        "line": {
                          "colorbar": {
                            "outlinewidth": 0,
                            "ticks": ""
                          }
                        },
                        "marker": {
                          "colorbar": {
                            "outlinewidth": 0,
                            "ticks": ""
                          }
                        },
                        "type": "scatter3d"
                      }
                    ],
                    "scattercarpet": [
                      {
                        "marker": {
                          "colorbar": {
                            "outlinewidth": 0,
                            "ticks": ""
                          }
                        },
                        "type": "scattercarpet"
                      }
                    ],
                    "scattergeo": [
                      {
                        "marker": {
                          "colorbar": {
                            "outlinewidth": 0,
                            "ticks": ""
                          }
                        },
                        "type": "scattergeo"
                      }
                    ],
                    "scattergl": [
                      {
                        "marker": {
                          "colorbar": {
                            "outlinewidth": 0,
                            "ticks": ""
                          }
                        },
                        "type": "scattergl"
                      }
                    ],
                    "scattermapbox": [
                      {
                        "marker": {
                          "colorbar": {
                            "outlinewidth": 0,
                            "ticks": ""
                          }
                        },
                        "type": "scattermapbox"
                      }
                    ],
                    "scatterpolar": [
                      {
                        "marker": {
                          "colorbar": {
                            "outlinewidth": 0,
                            "ticks": ""
                          }
                        },
                        "type": "scatterpolar"
                      }
                    ],
                    "scatterpolargl": [
                      {
                        "marker": {
                          "colorbar": {
                            "outlinewidth": 0,
                            "ticks": ""
                          }
                        },
                        "type": "scatterpolargl"
                      }
                    ],
                    "scatterternary": [
                      {
                        "marker": {
                          "colorbar": {
                            "outlinewidth": 0,
                            "ticks": ""
                          }
                        },
                        "type": "scatterternary"
                      }
                    ],
                    "surface": [
                      {
                        "colorbar": {
                          "outlinewidth": 0,
                          "ticks": ""
                        },
                        "colorscale": [
                          [
                            0,
                            "#0d0887"
                          ],
                          [
                            0.1111111111111111,
                            "#46039f"
                          ],
                          [
                            0.2222222222222222,
                            "#7201a8"
                          ],
                          [
                            0.3333333333333333,
                            "#9c179e"
                          ],
                          [
                            0.4444444444444444,
                            "#bd3786"
                          ],
                          [
                            0.5555555555555556,
                            "#d8576b"
                          ],
                          [
                            0.6666666666666666,
                            "#ed7953"
                          ],
                          [
                            0.7777777777777778,
                            "#fb9f3a"
                          ],
                          [
                            0.8888888888888888,
                            "#fdca26"
                          ],
                          [
                            1,
                            "#f0f921"
                          ]
                        ],
                        "type": "surface"
                      }
                    ],
                    "table": [
                      {
                        "cells": {
                          "fill": {
                            "color": "#EBF0F8"
                          },
                          "line": {
                            "color": "white"
                          }
                        },
                        "header": {
                          "fill": {
                            "color": "#C8D4E3"
                          },
                          "line": {
                            "color": "white"
                          }
                        },
                        "type": "table"
                      }
                    ]
                  },
                  "layout": {
                    "annotationdefaults": {
                      "arrowcolor": "#2a3f5f",
                      "arrowhead": 0,
                      "arrowwidth": 1
                    },
                    "autotypenumbers": "strict",
                    "coloraxis": {
                      "colorbar": {
                        "outlinewidth": 0,
                        "ticks": ""
                      }
                    },
                    "colorscale": {
                      "diverging": [
                        [
                          0,
                          "#8e0152"
                        ],
                        [
                          0.1,
                          "#c51b7d"
                        ],
                        [
                          0.2,
                          "#de77ae"
                        ],
                        [
                          0.3,
                          "#f1b6da"
                        ],
                        [
                          0.4,
                          "#fde0ef"
                        ],
                        [
                          0.5,
                          "#f7f7f7"
                        ],
                        [
                          0.6,
                          "#e6f5d0"
                        ],
                        [
                          0.7,
                          "#b8e186"
                        ],
                        [
                          0.8,
                          "#7fbc41"
                        ],
                        [
                          0.9,
                          "#4d9221"
                        ],
                        [
                          1,
                          "#276419"
                        ]
                      ],
                      "sequential": [
                        [
                          0,
                          "#0d0887"
                        ],
                        [
                          0.1111111111111111,
                          "#46039f"
                        ],
                        [
                          0.2222222222222222,
                          "#7201a8"
                        ],
                        [
                          0.3333333333333333,
                          "#9c179e"
                        ],
                        [
                          0.4444444444444444,
                          "#bd3786"
                        ],
                        [
                          0.5555555555555556,
                          "#d8576b"
                        ],
                        [
                          0.6666666666666666,
                          "#ed7953"
                        ],
                        [
                          0.7777777777777778,
                          "#fb9f3a"
                        ],
                        [
                          0.8888888888888888,
                          "#fdca26"
                        ],
                        [
                          1,
                          "#f0f921"
                        ]
                      ],
                      "sequentialminus": [
                        [
                          0,
                          "#0d0887"
                        ],
                        [
                          0.1111111111111111,
                          "#46039f"
                        ],
                        [
                          0.2222222222222222,
                          "#7201a8"
                        ],
                        [
                          0.3333333333333333,
                          "#9c179e"
                        ],
                        [
                          0.4444444444444444,
                          "#bd3786"
                        ],
                        [
                          0.5555555555555556,
                          "#d8576b"
                        ],
                        [
                          0.6666666666666666,
                          "#ed7953"
                        ],
                        [
                          0.7777777777777778,
                          "#fb9f3a"
                        ],
                        [
                          0.8888888888888888,
                          "#fdca26"
                        ],
                        [
                          1,
                          "#f0f921"
                        ]
                      ]
                    },
                    "colorway": [
                      "#636efa",
                      "#EF553B",
                      "#00cc96",
                      "#ab63fa",
                      "#FFA15A",
                      "#19d3f3",
                      "#FF6692",
                      "#B6E880",
                      "#FF97FF",
                      "#FECB52"
                    ],
                    "font": {
                      "color": "#2a3f5f"
                    },
                    "geo": {
                      "bgcolor": "white",
                      "lakecolor": "white",
                      "landcolor": "#E5ECF6",
                      "showlakes": true,
                      "showland": true,
                      "subunitcolor": "white"
                    },
                    "hoverlabel": {
                      "align": "left"
                    },
                    "hovermode": "closest",
                    "mapbox": {
                      "style": "light"
                    },
                    "paper_bgcolor": "white",
                    "plot_bgcolor": "#E5ECF6",
                    "polar": {
                      "angularaxis": {
                        "gridcolor": "white",
                        "linecolor": "white",
                        "ticks": ""
                      },
                      "bgcolor": "#E5ECF6",
                      "radialaxis": {
                        "gridcolor": "white",
                        "linecolor": "white",
                        "ticks": ""
                      }
                    },
                    "scene": {
                      "xaxis": {
                        "backgroundcolor": "#E5ECF6",
                        "gridcolor": "white",
                        "gridwidth": 2,
                        "linecolor": "white",
                        "showbackground": true,
                        "ticks": "",
                        "zerolinecolor": "white"
                      },
                      "yaxis": {
                        "backgroundcolor": "#E5ECF6",
                        "gridcolor": "white",
                        "gridwidth": 2,
                        "linecolor": "white",
                        "showbackground": true,
                        "ticks": "",
                        "zerolinecolor": "white"
                      },
                      "zaxis": {
                        "backgroundcolor": "#E5ECF6",
                        "gridcolor": "white",
                        "gridwidth": 2,
                        "linecolor": "white",
                        "showbackground": true,
                        "ticks": "",
                        "zerolinecolor": "white"
                      }
                    },
                    "shapedefaults": {
                      "line": {
                        "color": "#2a3f5f"
                      }
                    },
                    "ternary": {
                      "aaxis": {
                        "gridcolor": "white",
                        "linecolor": "white",
                        "ticks": ""
                      },
                      "baxis": {
                        "gridcolor": "white",
                        "linecolor": "white",
                        "ticks": ""
                      },
                      "bgcolor": "#E5ECF6",
                      "caxis": {
                        "gridcolor": "white",
                        "linecolor": "white",
                        "ticks": ""
                      }
                    },
                    "title": {
                      "x": 0.05
                    },
                    "xaxis": {
                      "automargin": true,
                      "gridcolor": "white",
                      "linecolor": "white",
                      "ticks": "",
                      "title": {
                        "standoff": 15
                      },
                      "zerolinecolor": "white",
                      "zerolinewidth": 2
                    },
                    "yaxis": {
                      "automargin": true,
                      "gridcolor": "white",
                      "linecolor": "white",
                      "ticks": "",
                      "title": {
                        "standoff": 15
                      },
                      "zerolinecolor": "white",
                      "zerolinewidth": 2
                    }
                  }
                },
                "xaxis": {
                  "anchor": "y",
                  "domain": [
                    0,
                    1
                  ],
                  "title": {
                    "text": "buchanan change"
                  }
                },
                "yaxis": {
                  "anchor": "x",
                  "domain": [
                    0,
                    1
                  ],
                  "title": {
                    "text": "total.reg"
                  }
                }
              }
            }
          },
          "metadata": {},
          "output_type": "display_data"
        }
      ],
      "source": [
        "fig2 = px.scatter(df_2000,\n",
        "                  y=\"total.reg\",\n",
        "                  x=\"buchanan change\",\n",
        "                  hover_name=\"county\",)\n",
        "\n",
        "fig2.show()"
      ]
    },
    {
      "cell_type": "markdown",
      "metadata": {
        "id": "SkJyrze5kTgm"
      },
      "source": [
        "**YOUR RESPONSE HERE**"
      ]
    },
    {
      "cell_type": "markdown",
      "metadata": {
        "id": "kCvVZOzbii62"
      },
      "source": [
        "## Part 2: Retrieval Practice and Learning\n",
        "\n",
        "What is the most effective way to learn a subject? Many students focus exclusively on the _encoding_ process---that is, how to get the knowledge into memory in the first place. For example, taking notes is an activity for encoding knowledge.\n",
        "\n",
        "_Retrieval_, on the other hand, is the process of reconstructing that knowledge from memory. [Karpicke and Blunt](http://science.sciencemag.org/content/331/6018/772) (2011) demonstrated that _retrieval_ is more effective for learning than activites designed to promote effective encoding. They conducted an experiment in which subjects had to learn about sea otters by reading a passage. Subjects were randomly assigned to one of two conditions: some were instructed to create a [concept map](https://en.wikipedia.org/wiki/Concept_map) as they read the passage, while others were instructed to practice retrieval (i.e., read the passage, recall as much as they could, read the text again, and recall again). The two main measurements they recorded were:\n",
        "\n",
        "1. each subject's score on a follow-up learning test one week later\n",
        "2. each subject's _prediction_ of how well they would do on that test\n",
        "\n",
        "In this lab, you will analyze data from a _replication_ of Karpicke and Blunt's experiment, conducted by Buttrick _et al_.\n",
        "- The data file is here: https://dlsun.github.io/pods/data/KarpickeBlunt2011Replication/data.csv.\n",
        "- The codebook (explaining what the variables mean) is here: https://dlsun.github.io/pods/data/KarpickeBlunt2011Replication/codebook.csv."
      ]
    },
    {
      "cell_type": "markdown",
      "metadata": {
        "id": "c5b_695GjLSz"
      },
      "source": [
        "**For all of the following parts, your code should be as short and simple as possible. Use `groupby` whenever possible.**"
      ]
    },
    {
      "cell_type": "markdown",
      "metadata": {
        "id": "p0aOp1-hjE0N"
      },
      "source": [
        "1\\. Which group felt like they learned more: the subjects who made concept maps or the ones who practiced retrieval? (Or are they about the same?) Make an appropriate visualization/summary and describe the results in context.\n",
        "\n",
        "_Hint:_ Use the variable \"PR.2\", which contains the participants' predictions of how well they would do on a test one week later."
      ]
    },
    {
      "cell_type": "code",
      "execution_count": 22,
      "metadata": {
        "id": "Bv_LSqYajFAA"
      },
      "outputs": [
        {
          "data": {
            "text/html": [
              "<div>\n",
              "<style scoped>\n",
              "    .dataframe tbody tr th:only-of-type {\n",
              "        vertical-align: middle;\n",
              "    }\n",
              "\n",
              "    .dataframe tbody tr th {\n",
              "        vertical-align: top;\n",
              "    }\n",
              "\n",
              "    .dataframe thead th {\n",
              "        text-align: right;\n",
              "    }\n",
              "</style>\n",
              "<table border=\"1\" class=\"dataframe\">\n",
              "  <thead>\n",
              "    <tr style=\"text-align: right;\">\n",
              "      <th></th>\n",
              "      <th>ID</th>\n",
              "      <th>Age</th>\n",
              "      <th>Gender</th>\n",
              "      <th>Date.P1</th>\n",
              "      <th>Date.P2</th>\n",
              "      <th>Condition</th>\n",
              "      <th>IC.1</th>\n",
              "      <th>IC.2</th>\n",
              "      <th>Comp.1</th>\n",
              "      <th>Comp.2</th>\n",
              "      <th>...</th>\n",
              "      <th>Scorer.2.2</th>\n",
              "      <th>R2CS.avg</th>\n",
              "      <th>TS.1</th>\n",
              "      <th>Scorer.1.3</th>\n",
              "      <th>TS.2</th>\n",
              "      <th>Scorer.2.3</th>\n",
              "      <th>TS.avg</th>\n",
              "      <th>Exc.1</th>\n",
              "      <th>Exc.2</th>\n",
              "      <th>Collection</th>\n",
              "    </tr>\n",
              "  </thead>\n",
              "  <tbody>\n",
              "    <tr>\n",
              "      <th>0</th>\n",
              "      <td>KB1</td>\n",
              "      <td>18</td>\n",
              "      <td>Female</td>\n",
              "      <td>11/21/16</td>\n",
              "      <td>11/28/16</td>\n",
              "      <td>Concept</td>\n",
              "      <td>1</td>\n",
              "      <td>1</td>\n",
              "      <td>1</td>\n",
              "      <td>1</td>\n",
              "      <td>...</td>\n",
              "      <td>NaN</td>\n",
              "      <td>NaN</td>\n",
              "      <td>0.36</td>\n",
              "      <td>NK</td>\n",
              "      <td>0.42</td>\n",
              "      <td>MS</td>\n",
              "      <td>0.39</td>\n",
              "      <td>0</td>\n",
              "      <td>0</td>\n",
              "      <td>1</td>\n",
              "    </tr>\n",
              "    <tr>\n",
              "      <th>1</th>\n",
              "      <td>KB2</td>\n",
              "      <td>18</td>\n",
              "      <td>Male</td>\n",
              "      <td>11/21/16</td>\n",
              "      <td>11/28/16</td>\n",
              "      <td>Concept</td>\n",
              "      <td>1</td>\n",
              "      <td>1</td>\n",
              "      <td>1</td>\n",
              "      <td>1</td>\n",
              "      <td>...</td>\n",
              "      <td>NaN</td>\n",
              "      <td>NaN</td>\n",
              "      <td>0.48</td>\n",
              "      <td>MS</td>\n",
              "      <td>0.36</td>\n",
              "      <td>NK</td>\n",
              "      <td>0.42</td>\n",
              "      <td>0</td>\n",
              "      <td>0</td>\n",
              "      <td>1</td>\n",
              "    </tr>\n",
              "    <tr>\n",
              "      <th>2</th>\n",
              "      <td>KB3</td>\n",
              "      <td>18</td>\n",
              "      <td>Male</td>\n",
              "      <td>11/21/16</td>\n",
              "      <td>11/28/16</td>\n",
              "      <td>Concept</td>\n",
              "      <td>1</td>\n",
              "      <td>1</td>\n",
              "      <td>1</td>\n",
              "      <td>1</td>\n",
              "      <td>...</td>\n",
              "      <td>NaN</td>\n",
              "      <td>NaN</td>\n",
              "      <td>0.08</td>\n",
              "      <td>NK</td>\n",
              "      <td>0.08</td>\n",
              "      <td>MS</td>\n",
              "      <td>0.08</td>\n",
              "      <td>0</td>\n",
              "      <td>0</td>\n",
              "      <td>1</td>\n",
              "    </tr>\n",
              "    <tr>\n",
              "      <th>3</th>\n",
              "      <td>KB4</td>\n",
              "      <td>19</td>\n",
              "      <td>Female</td>\n",
              "      <td>11/21/16</td>\n",
              "      <td>11/28/16</td>\n",
              "      <td>Concept</td>\n",
              "      <td>1</td>\n",
              "      <td>1</td>\n",
              "      <td>1</td>\n",
              "      <td>1</td>\n",
              "      <td>...</td>\n",
              "      <td>NaN</td>\n",
              "      <td>NaN</td>\n",
              "      <td>0.44</td>\n",
              "      <td>MS</td>\n",
              "      <td>0.42</td>\n",
              "      <td>NK</td>\n",
              "      <td>0.43</td>\n",
              "      <td>0</td>\n",
              "      <td>0</td>\n",
              "      <td>1</td>\n",
              "    </tr>\n",
              "    <tr>\n",
              "      <th>4</th>\n",
              "      <td>KB5</td>\n",
              "      <td>19</td>\n",
              "      <td>Female</td>\n",
              "      <td>11/22/16</td>\n",
              "      <td>11/29/16</td>\n",
              "      <td>Concept</td>\n",
              "      <td>1</td>\n",
              "      <td>1</td>\n",
              "      <td>1</td>\n",
              "      <td>1</td>\n",
              "      <td>...</td>\n",
              "      <td>NaN</td>\n",
              "      <td>NaN</td>\n",
              "      <td>0.26</td>\n",
              "      <td>NK</td>\n",
              "      <td>0.28</td>\n",
              "      <td>MS</td>\n",
              "      <td>0.27</td>\n",
              "      <td>0</td>\n",
              "      <td>0</td>\n",
              "      <td>1</td>\n",
              "    </tr>\n",
              "  </tbody>\n",
              "</table>\n",
              "<p>5 rows × 35 columns</p>\n",
              "</div>"
            ],
            "text/plain": [
              "    ID  Age  Gender   Date.P1   Date.P2 Condition  IC.1  IC.2  Comp.1  Comp.2   \n",
              "0  KB1   18  Female  11/21/16  11/28/16   Concept     1     1       1       1  \\\n",
              "1  KB2   18    Male  11/21/16  11/28/16   Concept     1     1       1       1   \n",
              "2  KB3   18    Male  11/21/16  11/28/16   Concept     1     1       1       1   \n",
              "3  KB4   19  Female  11/21/16  11/28/16   Concept     1     1       1       1   \n",
              "4  KB5   19  Female  11/22/16  11/29/16   Concept     1     1       1       1   \n",
              "\n",
              "   ...  Scorer.2.2  R2CS.avg  TS.1 Scorer.1.3  TS.2 Scorer.2.3  TS.avg  Exc.1   \n",
              "0  ...         NaN       NaN  0.36         NK  0.42         MS    0.39      0  \\\n",
              "1  ...         NaN       NaN  0.48         MS  0.36         NK    0.42      0   \n",
              "2  ...         NaN       NaN  0.08         NK  0.08         MS    0.08      0   \n",
              "3  ...         NaN       NaN  0.44         MS  0.42         NK    0.43      0   \n",
              "4  ...         NaN       NaN  0.26         NK  0.28         MS    0.27      0   \n",
              "\n",
              "  Exc.2  Collection  \n",
              "0     0           1  \n",
              "1     0           1  \n",
              "2     0           1  \n",
              "3     0           1  \n",
              "4     0           1  \n",
              "\n",
              "[5 rows x 35 columns]"
            ]
          },
          "execution_count": 22,
          "metadata": {},
          "output_type": "execute_result"
        }
      ],
      "source": [
        "# ENTER YOUR CODE HERE. ADD AS MANY CELLS AS YOU WANT.\n",
        "url = 'https://dlsun.github.io/pods/data/KarpickeBlunt2011Replication/data.csv'\n",
        "df_learning = pd.read_csv(url)\n",
        "\n",
        "df_learning.head()"
      ]
    },
    {
      "cell_type": "code",
      "execution_count": 45,
      "metadata": {},
      "outputs": [
        {
          "data": {
            "text/html": [
              "<div>\n",
              "<style scoped>\n",
              "    .dataframe tbody tr th:only-of-type {\n",
              "        vertical-align: middle;\n",
              "    }\n",
              "\n",
              "    .dataframe tbody tr th {\n",
              "        vertical-align: top;\n",
              "    }\n",
              "\n",
              "    .dataframe thead th {\n",
              "        text-align: right;\n",
              "    }\n",
              "</style>\n",
              "<table border=\"1\" class=\"dataframe\">\n",
              "  <thead>\n",
              "    <tr style=\"text-align: right;\">\n",
              "      <th></th>\n",
              "      <th>Name</th>\n",
              "      <th>Variable full label</th>\n",
              "      <th>Variable description</th>\n",
              "      <th>Valid range</th>\n",
              "      <th>Scoring</th>\n",
              "      <th>Value indicating missing data</th>\n",
              "      <th>Value indicating inapplicable data</th>\n",
              "      <th>Experiment file used</th>\n",
              "    </tr>\n",
              "  </thead>\n",
              "  <tbody>\n",
              "    <tr>\n",
              "      <th>0</th>\n",
              "      <td>ID</td>\n",
              "      <td>Participant ID</td>\n",
              "      <td>Participant's study number/identifier</td>\n",
              "      <td>KB1 - KB52</td>\n",
              "      <td>NaN</td>\n",
              "      <td>0</td>\n",
              "      <td>NaN</td>\n",
              "      <td>NaN</td>\n",
              "    </tr>\n",
              "    <tr>\n",
              "      <th>1</th>\n",
              "      <td>netID</td>\n",
              "      <td>UVA netID</td>\n",
              "      <td>Student's UVA netID identifier</td>\n",
              "      <td>NaN</td>\n",
              "      <td>NaN</td>\n",
              "      <td>0</td>\n",
              "      <td>NaN</td>\n",
              "      <td>NaN</td>\n",
              "    </tr>\n",
              "    <tr>\n",
              "      <th>2</th>\n",
              "      <td>Date.P1</td>\n",
              "      <td>Date part 1</td>\n",
              "      <td>Date of part 1 session</td>\n",
              "      <td>00/00/00</td>\n",
              "      <td>NaN</td>\n",
              "      <td>0</td>\n",
              "      <td>NaN</td>\n",
              "      <td>NaN</td>\n",
              "    </tr>\n",
              "    <tr>\n",
              "      <th>3</th>\n",
              "      <td>Date.P2</td>\n",
              "      <td>Date part 2</td>\n",
              "      <td>Date of part 2 session (1 week later)</td>\n",
              "      <td>00/00/00</td>\n",
              "      <td>NaN</td>\n",
              "      <td>0</td>\n",
              "      <td>NaN</td>\n",
              "      <td>NaN</td>\n",
              "    </tr>\n",
              "    <tr>\n",
              "      <th>4</th>\n",
              "      <td>Condition</td>\n",
              "      <td>Condition assigned</td>\n",
              "      <td>Participant's assigned study condition (block design)</td>\n",
              "      <td>Retrieval OR Concept</td>\n",
              "      <td>NaN</td>\n",
              "      <td>0</td>\n",
              "      <td>NaN</td>\n",
              "      <td>NaN</td>\n",
              "    </tr>\n",
              "    <tr>\n",
              "      <th>5</th>\n",
              "      <td>IC.1</td>\n",
              "      <td>Informed consent 1</td>\n",
              "      <td>Informed consent administered for part 1 session</td>\n",
              "      <td>0-1</td>\n",
              "      <td>NaN</td>\n",
              "      <td>0</td>\n",
              "      <td>NaN</td>\n",
              "      <td>\"Karpicke &amp; Blunt (2011) - informed consent (credit).pdf\"</td>\n",
              "    </tr>\n",
              "    <tr>\n",
              "      <th>6</th>\n",
              "      <td>IC.2</td>\n",
              "      <td>Informed consent 2</td>\n",
              "      <td>Informed consent administered for part 2 session</td>\n",
              "      <td>0-1</td>\n",
              "      <td>NaN</td>\n",
              "      <td>0</td>\n",
              "      <td>NaN</td>\n",
              "      <td>\"Karpicke &amp; Blunt (2011) - informed consent (credit).pdf\"</td>\n",
              "    </tr>\n",
              "    <tr>\n",
              "      <th>7</th>\n",
              "      <td>Comp.1</td>\n",
              "      <td>Compensation 1</td>\n",
              "      <td>Compensation (SONA credit) awarded for part 1 session</td>\n",
              "      <td>0-1</td>\n",
              "      <td>NaN</td>\n",
              "      <td>0</td>\n",
              "      <td>NaN</td>\n",
              "      <td>0.5 SONA credit</td>\n",
              "    </tr>\n",
              "    <tr>\n",
              "      <th>8</th>\n",
              "      <td>Comp.2</td>\n",
              "      <td>Compensation 2</td>\n",
              "      <td>Compensation (SONA credit) awarded for part 2 session</td>\n",
              "      <td>0-1</td>\n",
              "      <td>NaN</td>\n",
              "      <td>0</td>\n",
              "      <td>NaN</td>\n",
              "      <td>0.5 SONA credit</td>\n",
              "    </tr>\n",
              "    <tr>\n",
              "      <th>9</th>\n",
              "      <td>PR.1</td>\n",
              "      <td>Prediction response 1</td>\n",
              "      <td>Q1 response</td>\n",
              "      <td>0-1</td>\n",
              "      <td>(responses: 1 = yes, 0 = no)</td>\n",
              "      <td>0</td>\n",
              "      <td>NaN</td>\n",
              "      <td>\"Karpicke &amp; Blunt (2011) - Prediction question.pdf\" (both concept-mapping condition and retrieval practice condition versions)</td>\n",
              "    </tr>\n",
              "    <tr>\n",
              "      <th>10</th>\n",
              "      <td>PR.2</td>\n",
              "      <td>Prediction response 2</td>\n",
              "      <td>Q2 response</td>\n",
              "      <td>0.0 - 1.0</td>\n",
              "      <td>NaN</td>\n",
              "      <td>0</td>\n",
              "      <td>NaN</td>\n",
              "      <td>\"Karpicke &amp; Blunt (2011) - Prediction question (concept-mapping condition).pdf\"</td>\n",
              "    </tr>\n",
              "    <tr>\n",
              "      <th>11</th>\n",
              "      <td>MCS.1</td>\n",
              "      <td>Map completion score 1</td>\n",
              "      <td>Concept map completion single score</td>\n",
              "      <td>0.0 - 1.0</td>\n",
              "      <td>(score = number of idea units mapped divided by 30 possible idea units)</td>\n",
              "      <td>0</td>\n",
              "      <td>NaN</td>\n",
              "      <td>\"Karpicke &amp; Blunt (2011) - Concept map template.pdf\"</td>\n",
              "    </tr>\n",
              "    <tr>\n",
              "      <th>12</th>\n",
              "      <td>Scorer.1</td>\n",
              "      <td>Scorer 1</td>\n",
              "      <td>First scorer for the concept map completion score</td>\n",
              "      <td>AA - ZZ</td>\n",
              "      <td>NaN</td>\n",
              "      <td>0</td>\n",
              "      <td>NaN</td>\n",
              "      <td>\"Karpicke &amp; Blunt (2011) - Original idea units.pdf\"</td>\n",
              "    </tr>\n",
              "    <tr>\n",
              "      <th>13</th>\n",
              "      <td>MCS.2</td>\n",
              "      <td>Map completion score 2</td>\n",
              "      <td>Concept map completion double score</td>\n",
              "      <td>0.0 - 1.0</td>\n",
              "      <td>(score = number of idea units mapped divided by 30 possible idea units)</td>\n",
              "      <td>0</td>\n",
              "      <td>NaN</td>\n",
              "      <td>\"Karpicke &amp; Blunt (2011) - Concept map template.pdf\"</td>\n",
              "    </tr>\n",
              "    <tr>\n",
              "      <th>14</th>\n",
              "      <td>Scorer.2</td>\n",
              "      <td>Scorer 2</td>\n",
              "      <td>Second scorer for the concept map completion score</td>\n",
              "      <td>AA - ZZ</td>\n",
              "      <td>NaN</td>\n",
              "      <td>0</td>\n",
              "      <td>NaN</td>\n",
              "      <td>\"Karpicke &amp; Blunt (2011) - Original idea units.pdf\"</td>\n",
              "    </tr>\n",
              "    <tr>\n",
              "      <th>15</th>\n",
              "      <td>MCS.avg</td>\n",
              "      <td>Map completion score average</td>\n",
              "      <td>Average of the first and second scorers' concept map completion scores</td>\n",
              "      <td>0.0 - 1.0</td>\n",
              "      <td>(score = (MCS.1 + MCS.2)/2)</td>\n",
              "      <td>0</td>\n",
              "      <td>NaN</td>\n",
              "      <td>NaN</td>\n",
              "    </tr>\n",
              "    <tr>\n",
              "      <th>16</th>\n",
              "      <td>R1CS.1</td>\n",
              "      <td>Retrieval #1 completion score 1</td>\n",
              "      <td>Retrieval practice #1 completion single score</td>\n",
              "      <td>0.0 - 1.0</td>\n",
              "      <td>(score = number of idea units listed divided by 30 possible idea units)</td>\n",
              "      <td>0</td>\n",
              "      <td>NaN</td>\n",
              "      <td>\"Karpicke &amp; Blunt (2011) - Retrieval practice template.pdf\"</td>\n",
              "    </tr>\n",
              "    <tr>\n",
              "      <th>17</th>\n",
              "      <td>Scorer.1</td>\n",
              "      <td>Scorer 1</td>\n",
              "      <td>First scorer for the retrieval practice #1 completion score</td>\n",
              "      <td>AA - ZZ</td>\n",
              "      <td>NaN</td>\n",
              "      <td>0</td>\n",
              "      <td>NaN</td>\n",
              "      <td>\"Karpicke &amp; Blunt (2011) - Original idea units.pdf\"</td>\n",
              "    </tr>\n",
              "    <tr>\n",
              "      <th>18</th>\n",
              "      <td>R1CS.2</td>\n",
              "      <td>Retrieval #1 completion score 2</td>\n",
              "      <td>Retrieval practice #1 completion double score</td>\n",
              "      <td>0.0 - 1.0</td>\n",
              "      <td>(score = number of idea units listed divided by 30 possible idea units)</td>\n",
              "      <td>0</td>\n",
              "      <td>NaN</td>\n",
              "      <td>\"Karpicke &amp; Blunt (2011) - Retrieval practice template.pdf\"</td>\n",
              "    </tr>\n",
              "    <tr>\n",
              "      <th>19</th>\n",
              "      <td>Scorer.2</td>\n",
              "      <td>Scorer 2</td>\n",
              "      <td>Second scorer for the retrieval practice #1 completion score</td>\n",
              "      <td>AA - ZZ</td>\n",
              "      <td>NaN</td>\n",
              "      <td>0</td>\n",
              "      <td>NaN</td>\n",
              "      <td>\"Karpicke &amp; Blunt (2011) - Original idea units.pdf\"</td>\n",
              "    </tr>\n",
              "    <tr>\n",
              "      <th>20</th>\n",
              "      <td>R1CS.avg</td>\n",
              "      <td>Retrieval #1 average completion score</td>\n",
              "      <td>Average of the first and second scorers' retrieval practice #1 completion scores</td>\n",
              "      <td>0.0 - 1.0</td>\n",
              "      <td>(score = (R1CS.1 + R1CS.2)/2)</td>\n",
              "      <td>0</td>\n",
              "      <td>NaN</td>\n",
              "      <td>NaN</td>\n",
              "    </tr>\n",
              "    <tr>\n",
              "      <th>21</th>\n",
              "      <td>R2CS.1</td>\n",
              "      <td>Retrieval #2 completion score 1</td>\n",
              "      <td>Retrieval practice #2 completion single score (completed on separate retrieval template than R1CS)</td>\n",
              "      <td>0.0 - 1.0</td>\n",
              "      <td>(score = number of idea units listed divided by 30 possible idea units)</td>\n",
              "      <td>0</td>\n",
              "      <td>NaN</td>\n",
              "      <td>\"Karpicke &amp; Blunt (2011) - Retrieval practice template.pdf\"</td>\n",
              "    </tr>\n",
              "    <tr>\n",
              "      <th>22</th>\n",
              "      <td>Scorer.1</td>\n",
              "      <td>Scorer 1</td>\n",
              "      <td>First scorer for the retrieval practice #2 completion score</td>\n",
              "      <td>AA - ZZ</td>\n",
              "      <td>NaN</td>\n",
              "      <td>0</td>\n",
              "      <td>NaN</td>\n",
              "      <td>\"Karpicke &amp; Blunt (2011) - Original idea units.pdf\"</td>\n",
              "    </tr>\n",
              "    <tr>\n",
              "      <th>23</th>\n",
              "      <td>R2CS.2</td>\n",
              "      <td>Retrieval #2 completion score 2</td>\n",
              "      <td>Retrieval practice #2 completion double score</td>\n",
              "      <td>0.0 - 1.0</td>\n",
              "      <td>(score = number of idea units listed divided by 30 possible idea units)</td>\n",
              "      <td>0</td>\n",
              "      <td>NaN</td>\n",
              "      <td>\"Karpicke &amp; Blunt (2011) - Retrieval practice template.pdf\"</td>\n",
              "    </tr>\n",
              "    <tr>\n",
              "      <th>24</th>\n",
              "      <td>Scorer.2</td>\n",
              "      <td>Scorer 2</td>\n",
              "      <td>Second scorer for the retrieval practice #2 completion score</td>\n",
              "      <td>AA - ZZ</td>\n",
              "      <td>NaN</td>\n",
              "      <td>0</td>\n",
              "      <td>NaN</td>\n",
              "      <td>\"Karpicke &amp; Blunt (2011) - Original idea units.pdf\"</td>\n",
              "    </tr>\n",
              "    <tr>\n",
              "      <th>25</th>\n",
              "      <td>R2CS.avg</td>\n",
              "      <td>Retrieval #2 average completion score</td>\n",
              "      <td>Average of the first and second scorers' retrieval practice #2 completion scores</td>\n",
              "      <td>0.0 - 1.0</td>\n",
              "      <td>(score = (R2CS.1 + R2CS.2)/2)</td>\n",
              "      <td>0</td>\n",
              "      <td>NaN</td>\n",
              "      <td>NaN</td>\n",
              "    </tr>\n",
              "    <tr>\n",
              "      <th>26</th>\n",
              "      <td>TS.1</td>\n",
              "      <td>Test score 1</td>\n",
              "      <td>Follow-up learning test single score</td>\n",
              "      <td>0.0 - 1.0</td>\n",
              "      <td>(score = number of earned points/25 possible points)</td>\n",
              "      <td>0</td>\n",
              "      <td>NaN</td>\n",
              "      <td>\"Karpicke &amp; Blunt (2011) - Original learning test (sea otters)).pdf\"</td>\n",
              "    </tr>\n",
              "    <tr>\n",
              "      <th>27</th>\n",
              "      <td>Scorer.1</td>\n",
              "      <td>Scorer 1</td>\n",
              "      <td>First scorer of the follow-up learning test</td>\n",
              "      <td>AA - ZZ</td>\n",
              "      <td>NaN</td>\n",
              "      <td>0</td>\n",
              "      <td>NaN</td>\n",
              "      <td>\"Karpicke &amp; Blunt (2011) - Original learning test (sea otters) KEY.pdf\"</td>\n",
              "    </tr>\n",
              "    <tr>\n",
              "      <th>28</th>\n",
              "      <td>TS.2</td>\n",
              "      <td>Test score 2</td>\n",
              "      <td>Follow-up learning test double score</td>\n",
              "      <td>0.0 - 1.0</td>\n",
              "      <td>(score = number of earned points/25 possible points)</td>\n",
              "      <td>0</td>\n",
              "      <td>NaN</td>\n",
              "      <td>\"Karpicke &amp; Blunt (2011) - Original learning test (sea otters)).pdf\"</td>\n",
              "    </tr>\n",
              "    <tr>\n",
              "      <th>29</th>\n",
              "      <td>Scorer.2</td>\n",
              "      <td>Scorer 2</td>\n",
              "      <td>Second scorer of the follow-up learning test</td>\n",
              "      <td>AA - ZZ</td>\n",
              "      <td>NaN</td>\n",
              "      <td>0</td>\n",
              "      <td>NaN</td>\n",
              "      <td>\"Karpicke &amp; Blunt (2011) - Original learning test (sea otters) KEY.pdf\"</td>\n",
              "    </tr>\n",
              "    <tr>\n",
              "      <th>30</th>\n",
              "      <td>TS.avg</td>\n",
              "      <td>Test score average</td>\n",
              "      <td>Average of the first and second scorers' test scores</td>\n",
              "      <td>0.0 - 1.0</td>\n",
              "      <td>(score = (TS.1 + TS.2)/2)</td>\n",
              "      <td>0</td>\n",
              "      <td>NaN</td>\n",
              "      <td>NaN</td>\n",
              "    </tr>\n",
              "    <tr>\n",
              "      <th>31</th>\n",
              "      <td>Exc.1</td>\n",
              "      <td>Exclusion part 1</td>\n",
              "      <td>Exclusions for part 1 session</td>\n",
              "      <td>0-1</td>\n",
              "      <td>1 = exclusion, 0 = no exclusion</td>\n",
              "      <td>0</td>\n",
              "      <td>NaN</td>\n",
              "      <td>NaN</td>\n",
              "    </tr>\n",
              "    <tr>\n",
              "      <th>32</th>\n",
              "      <td>Exc.2</td>\n",
              "      <td>Exclusion part 2</td>\n",
              "      <td>Exclusions for part 2 session</td>\n",
              "      <td>0-1</td>\n",
              "      <td>1 = exclusion, 0 = no exclusion</td>\n",
              "      <td>0</td>\n",
              "      <td>NaN</td>\n",
              "      <td>NaN</td>\n",
              "    </tr>\n",
              "    <tr>\n",
              "      <th>33</th>\n",
              "      <td>Collection</td>\n",
              "      <td>Collection round</td>\n",
              "      <td>Round of SSRP collection (1st round (90% confidence to predict 75% of the original effect size) or 2nd (90% confidence to predict 50% of the original effect size))</td>\n",
              "      <td>1-2</td>\n",
              "      <td>NaN</td>\n",
              "      <td>0</td>\n",
              "      <td>NaN</td>\n",
              "      <td>NaN</td>\n",
              "    </tr>\n",
              "  </tbody>\n",
              "</table>\n",
              "</div>"
            ],
            "text/plain": [
              "          Name                    Variable full label   \n",
              "0           ID                         Participant ID  \\\n",
              "1        netID                              UVA netID   \n",
              "2      Date.P1                            Date part 1   \n",
              "3      Date.P2                            Date part 2   \n",
              "4    Condition                     Condition assigned   \n",
              "5         IC.1                     Informed consent 1   \n",
              "6         IC.2                     Informed consent 2   \n",
              "7       Comp.1                         Compensation 1   \n",
              "8       Comp.2                         Compensation 2   \n",
              "9         PR.1                  Prediction response 1   \n",
              "10        PR.2                  Prediction response 2   \n",
              "11       MCS.1                 Map completion score 1   \n",
              "12    Scorer.1                               Scorer 1   \n",
              "13       MCS.2                 Map completion score 2   \n",
              "14    Scorer.2                               Scorer 2   \n",
              "15     MCS.avg           Map completion score average   \n",
              "16      R1CS.1        Retrieval #1 completion score 1   \n",
              "17    Scorer.1                               Scorer 1   \n",
              "18      R1CS.2        Retrieval #1 completion score 2   \n",
              "19    Scorer.2                               Scorer 2   \n",
              "20    R1CS.avg  Retrieval #1 average completion score   \n",
              "21      R2CS.1        Retrieval #2 completion score 1   \n",
              "22    Scorer.1                               Scorer 1   \n",
              "23      R2CS.2        Retrieval #2 completion score 2   \n",
              "24    Scorer.2                               Scorer 2   \n",
              "25    R2CS.avg  Retrieval #2 average completion score   \n",
              "26        TS.1                           Test score 1   \n",
              "27    Scorer.1                               Scorer 1   \n",
              "28        TS.2                           Test score 2   \n",
              "29    Scorer.2                               Scorer 2   \n",
              "30      TS.avg                     Test score average   \n",
              "31       Exc.1                       Exclusion part 1   \n",
              "32       Exc.2                       Exclusion part 2   \n",
              "33  Collection                       Collection round   \n",
              "\n",
              "                                                                                                                                                   Variable description   \n",
              "0                                                                                                                                 Participant's study number/identifier  \\\n",
              "1                                                                                                                                        Student's UVA netID identifier   \n",
              "2                                                                                                                                                Date of part 1 session   \n",
              "3                                                                                                                                 Date of part 2 session (1 week later)   \n",
              "4                                                                                                                 Participant's assigned study condition (block design)   \n",
              "5                                                                                                                      Informed consent administered for part 1 session   \n",
              "6                                                                                                                      Informed consent administered for part 2 session   \n",
              "7                                                                                                                 Compensation (SONA credit) awarded for part 1 session   \n",
              "8                                                                                                                 Compensation (SONA credit) awarded for part 2 session   \n",
              "9                                                                                                                                                           Q1 response   \n",
              "10                                                                                                                                                          Q2 response   \n",
              "11                                                                                                                                 Concept map completion single score    \n",
              "12                                                                                                                   First scorer for the concept map completion score    \n",
              "13                                                                                                                                  Concept map completion double score   \n",
              "14                                                                                                                   Second scorer for the concept map completion score   \n",
              "15                                                                                               Average of the first and second scorers' concept map completion scores   \n",
              "16                                                                                                                       Retrieval practice #1 completion single score    \n",
              "17                                                                                                          First scorer for the retrieval practice #1 completion score   \n",
              "18                                                                                                                        Retrieval practice #1 completion double score   \n",
              "19                                                                                                         Second scorer for the retrieval practice #1 completion score   \n",
              "20                                                                                     Average of the first and second scorers' retrieval practice #1 completion scores   \n",
              "21                                                                   Retrieval practice #2 completion single score (completed on separate retrieval template than R1CS)   \n",
              "22                                                                                                          First scorer for the retrieval practice #2 completion score   \n",
              "23                                                                                                                        Retrieval practice #2 completion double score   \n",
              "24                                                                                                         Second scorer for the retrieval practice #2 completion score   \n",
              "25                                                                                     Average of the first and second scorers' retrieval practice #2 completion scores   \n",
              "26                                                                                                                                 Follow-up learning test single score   \n",
              "27                                                                                                                         First scorer of the follow-up learning test    \n",
              "28                                                                                                                                 Follow-up learning test double score   \n",
              "29                                                                                                                         Second scorer of the follow-up learning test   \n",
              "30                                                                                                                 Average of the first and second scorers' test scores   \n",
              "31                                                                                                                                        Exclusions for part 1 session   \n",
              "32                                                                                                                                        Exclusions for part 2 session   \n",
              "33  Round of SSRP collection (1st round (90% confidence to predict 75% of the original effect size) or 2nd (90% confidence to predict 50% of the original effect size))   \n",
              "\n",
              "             Valid range   \n",
              "0             KB1 - KB52  \\\n",
              "1                    NaN   \n",
              "2               00/00/00   \n",
              "3               00/00/00   \n",
              "4   Retrieval OR Concept   \n",
              "5                    0-1   \n",
              "6                    0-1   \n",
              "7                    0-1   \n",
              "8                    0-1   \n",
              "9                    0-1   \n",
              "10             0.0 - 1.0   \n",
              "11             0.0 - 1.0   \n",
              "12               AA - ZZ   \n",
              "13             0.0 - 1.0   \n",
              "14               AA - ZZ   \n",
              "15             0.0 - 1.0   \n",
              "16             0.0 - 1.0   \n",
              "17               AA - ZZ   \n",
              "18             0.0 - 1.0   \n",
              "19               AA - ZZ   \n",
              "20             0.0 - 1.0   \n",
              "21            0.0 - 1.0    \n",
              "22               AA - ZZ   \n",
              "23             0.0 - 1.0   \n",
              "24               AA - ZZ   \n",
              "25             0.0 - 1.0   \n",
              "26             0.0 - 1.0   \n",
              "27               AA - ZZ   \n",
              "28             0.0 - 1.0   \n",
              "29               AA - ZZ   \n",
              "30             0.0 - 1.0   \n",
              "31                   0-1   \n",
              "32                   0-1   \n",
              "33                   1-2   \n",
              "\n",
              "                                                                    Scoring   \n",
              "0                                                                       NaN  \\\n",
              "1                                                                       NaN   \n",
              "2                                                                       NaN   \n",
              "3                                                                       NaN   \n",
              "4                                                                       NaN   \n",
              "5                                                                       NaN   \n",
              "6                                                                       NaN   \n",
              "7                                                                       NaN   \n",
              "8                                                                       NaN   \n",
              "9                                              (responses: 1 = yes, 0 = no)   \n",
              "10                                                                      NaN   \n",
              "11  (score = number of idea units mapped divided by 30 possible idea units)   \n",
              "12                                                                      NaN   \n",
              "13  (score = number of idea units mapped divided by 30 possible idea units)   \n",
              "14                                                                      NaN   \n",
              "15                                              (score = (MCS.1 + MCS.2)/2)   \n",
              "16  (score = number of idea units listed divided by 30 possible idea units)   \n",
              "17                                                                      NaN   \n",
              "18  (score = number of idea units listed divided by 30 possible idea units)   \n",
              "19                                                                      NaN   \n",
              "20                                            (score = (R1CS.1 + R1CS.2)/2)   \n",
              "21  (score = number of idea units listed divided by 30 possible idea units)   \n",
              "22                                                                      NaN   \n",
              "23  (score = number of idea units listed divided by 30 possible idea units)   \n",
              "24                                                                      NaN   \n",
              "25                                            (score = (R2CS.1 + R2CS.2)/2)   \n",
              "26                     (score = number of earned points/25 possible points)   \n",
              "27                                                                      NaN   \n",
              "28                     (score = number of earned points/25 possible points)   \n",
              "29                                                                      NaN   \n",
              "30                                                (score = (TS.1 + TS.2)/2)   \n",
              "31                                          1 = exclusion, 0 = no exclusion   \n",
              "32                                          1 = exclusion, 0 = no exclusion   \n",
              "33                                                                      NaN   \n",
              "\n",
              "    Value indicating missing data  Value indicating inapplicable data   \n",
              "0                               0                                 NaN  \\\n",
              "1                               0                                 NaN   \n",
              "2                               0                                 NaN   \n",
              "3                               0                                 NaN   \n",
              "4                               0                                 NaN   \n",
              "5                               0                                 NaN   \n",
              "6                               0                                 NaN   \n",
              "7                               0                                 NaN   \n",
              "8                               0                                 NaN   \n",
              "9                               0                                 NaN   \n",
              "10                              0                                 NaN   \n",
              "11                              0                                 NaN   \n",
              "12                              0                                 NaN   \n",
              "13                              0                                 NaN   \n",
              "14                              0                                 NaN   \n",
              "15                              0                                 NaN   \n",
              "16                              0                                 NaN   \n",
              "17                              0                                 NaN   \n",
              "18                              0                                 NaN   \n",
              "19                              0                                 NaN   \n",
              "20                              0                                 NaN   \n",
              "21                              0                                 NaN   \n",
              "22                              0                                 NaN   \n",
              "23                              0                                 NaN   \n",
              "24                              0                                 NaN   \n",
              "25                              0                                 NaN   \n",
              "26                              0                                 NaN   \n",
              "27                              0                                 NaN   \n",
              "28                              0                                 NaN   \n",
              "29                              0                                 NaN   \n",
              "30                              0                                 NaN   \n",
              "31                              0                                 NaN   \n",
              "32                              0                                 NaN   \n",
              "33                              0                                 NaN   \n",
              "\n",
              "                                                                                                              Experiment file used  \n",
              "0                                                                                                                              NaN  \n",
              "1                                                                                                                              NaN  \n",
              "2                                                                                                                              NaN  \n",
              "3                                                                                                                              NaN  \n",
              "4                                                                                                                              NaN  \n",
              "5                                                                        \"Karpicke & Blunt (2011) - informed consent (credit).pdf\"  \n",
              "6                                                                        \"Karpicke & Blunt (2011) - informed consent (credit).pdf\"  \n",
              "7                                                                                                                  0.5 SONA credit  \n",
              "8                                                                                                                  0.5 SONA credit  \n",
              "9   \"Karpicke & Blunt (2011) - Prediction question.pdf\" (both concept-mapping condition and retrieval practice condition versions)  \n",
              "10                                                 \"Karpicke & Blunt (2011) - Prediction question (concept-mapping condition).pdf\"  \n",
              "11                                                                            \"Karpicke & Blunt (2011) - Concept map template.pdf\"  \n",
              "12                                                                             \"Karpicke & Blunt (2011) - Original idea units.pdf\"  \n",
              "13                                                                            \"Karpicke & Blunt (2011) - Concept map template.pdf\"  \n",
              "14                                                                             \"Karpicke & Blunt (2011) - Original idea units.pdf\"  \n",
              "15                                                                                                                             NaN  \n",
              "16                                                                     \"Karpicke & Blunt (2011) - Retrieval practice template.pdf\"  \n",
              "17                                                                             \"Karpicke & Blunt (2011) - Original idea units.pdf\"  \n",
              "18                                                                     \"Karpicke & Blunt (2011) - Retrieval practice template.pdf\"  \n",
              "19                                                                             \"Karpicke & Blunt (2011) - Original idea units.pdf\"  \n",
              "20                                                                                                                             NaN  \n",
              "21                                                                     \"Karpicke & Blunt (2011) - Retrieval practice template.pdf\"  \n",
              "22                                                                             \"Karpicke & Blunt (2011) - Original idea units.pdf\"  \n",
              "23                                                                     \"Karpicke & Blunt (2011) - Retrieval practice template.pdf\"  \n",
              "24                                                                             \"Karpicke & Blunt (2011) - Original idea units.pdf\"  \n",
              "25                                                                                                                             NaN  \n",
              "26                                                            \"Karpicke & Blunt (2011) - Original learning test (sea otters)).pdf\"  \n",
              "27                                                         \"Karpicke & Blunt (2011) - Original learning test (sea otters) KEY.pdf\"  \n",
              "28                                                            \"Karpicke & Blunt (2011) - Original learning test (sea otters)).pdf\"  \n",
              "29                                                         \"Karpicke & Blunt (2011) - Original learning test (sea otters) KEY.pdf\"  \n",
              "30                                                                                                                             NaN  \n",
              "31                                                                                                                             NaN  \n",
              "32                                                                                                                             NaN  \n",
              "33                                                                                                                             NaN  "
            ]
          },
          "execution_count": 45,
          "metadata": {},
          "output_type": "execute_result"
        }
      ],
      "source": [
        "df_codebook = pd.read_csv('https://dlsun.github.io/pods/data/KarpickeBlunt2011Replication/codebook.csv')\n",
        "df_codebook"
      ]
    },
    {
      "cell_type": "code",
      "execution_count": 46,
      "metadata": {},
      "outputs": [
        {
          "data": {
            "text/html": [
              "<div>\n",
              "<style scoped>\n",
              "    .dataframe tbody tr th:only-of-type {\n",
              "        vertical-align: middle;\n",
              "    }\n",
              "\n",
              "    .dataframe tbody tr th {\n",
              "        vertical-align: top;\n",
              "    }\n",
              "\n",
              "    .dataframe thead th {\n",
              "        text-align: right;\n",
              "    }\n",
              "</style>\n",
              "<table border=\"1\" class=\"dataframe\">\n",
              "  <thead>\n",
              "    <tr style=\"text-align: right;\">\n",
              "      <th></th>\n",
              "      <th>Name</th>\n",
              "      <th>Variable full label</th>\n",
              "      <th>Variable description</th>\n",
              "      <th>Valid range</th>\n",
              "      <th>Scoring</th>\n",
              "    </tr>\n",
              "  </thead>\n",
              "  <tbody>\n",
              "    <tr>\n",
              "      <th>0</th>\n",
              "      <td>ID</td>\n",
              "      <td>Participant ID</td>\n",
              "      <td>Participant's study number/identifier</td>\n",
              "      <td>KB1 - KB52</td>\n",
              "      <td>NaN</td>\n",
              "    </tr>\n",
              "    <tr>\n",
              "      <th>1</th>\n",
              "      <td>netID</td>\n",
              "      <td>UVA netID</td>\n",
              "      <td>Student's UVA netID identifier</td>\n",
              "      <td>NaN</td>\n",
              "      <td>NaN</td>\n",
              "    </tr>\n",
              "    <tr>\n",
              "      <th>2</th>\n",
              "      <td>Date.P1</td>\n",
              "      <td>Date part 1</td>\n",
              "      <td>Date of part 1 session</td>\n",
              "      <td>00/00/00</td>\n",
              "      <td>NaN</td>\n",
              "    </tr>\n",
              "    <tr>\n",
              "      <th>3</th>\n",
              "      <td>Date.P2</td>\n",
              "      <td>Date part 2</td>\n",
              "      <td>Date of part 2 session (1 week later)</td>\n",
              "      <td>00/00/00</td>\n",
              "      <td>NaN</td>\n",
              "    </tr>\n",
              "    <tr>\n",
              "      <th>4</th>\n",
              "      <td>Condition</td>\n",
              "      <td>Condition assigned</td>\n",
              "      <td>Participant's assigned study condition (block design)</td>\n",
              "      <td>Retrieval OR Concept</td>\n",
              "      <td>NaN</td>\n",
              "    </tr>\n",
              "    <tr>\n",
              "      <th>5</th>\n",
              "      <td>IC.1</td>\n",
              "      <td>Informed consent 1</td>\n",
              "      <td>Informed consent administered for part 1 session</td>\n",
              "      <td>0-1</td>\n",
              "      <td>NaN</td>\n",
              "    </tr>\n",
              "    <tr>\n",
              "      <th>6</th>\n",
              "      <td>IC.2</td>\n",
              "      <td>Informed consent 2</td>\n",
              "      <td>Informed consent administered for part 2 session</td>\n",
              "      <td>0-1</td>\n",
              "      <td>NaN</td>\n",
              "    </tr>\n",
              "    <tr>\n",
              "      <th>7</th>\n",
              "      <td>Comp.1</td>\n",
              "      <td>Compensation 1</td>\n",
              "      <td>Compensation (SONA credit) awarded for part 1 session</td>\n",
              "      <td>0-1</td>\n",
              "      <td>NaN</td>\n",
              "    </tr>\n",
              "    <tr>\n",
              "      <th>8</th>\n",
              "      <td>Comp.2</td>\n",
              "      <td>Compensation 2</td>\n",
              "      <td>Compensation (SONA credit) awarded for part 2 session</td>\n",
              "      <td>0-1</td>\n",
              "      <td>NaN</td>\n",
              "    </tr>\n",
              "    <tr>\n",
              "      <th>9</th>\n",
              "      <td>PR.1</td>\n",
              "      <td>Prediction response 1</td>\n",
              "      <td>Q1 response</td>\n",
              "      <td>0-1</td>\n",
              "      <td>(responses: 1 = yes, 0 = no)</td>\n",
              "    </tr>\n",
              "    <tr>\n",
              "      <th>10</th>\n",
              "      <td>PR.2</td>\n",
              "      <td>Prediction response 2</td>\n",
              "      <td>Q2 response</td>\n",
              "      <td>0.0 - 1.0</td>\n",
              "      <td>NaN</td>\n",
              "    </tr>\n",
              "    <tr>\n",
              "      <th>11</th>\n",
              "      <td>MCS.1</td>\n",
              "      <td>Map completion score 1</td>\n",
              "      <td>Concept map completion single score</td>\n",
              "      <td>0.0 - 1.0</td>\n",
              "      <td>(score = number of idea units mapped divided by 30 possible idea units)</td>\n",
              "    </tr>\n",
              "    <tr>\n",
              "      <th>12</th>\n",
              "      <td>Scorer.1</td>\n",
              "      <td>Scorer 1</td>\n",
              "      <td>First scorer for the concept map completion score</td>\n",
              "      <td>AA - ZZ</td>\n",
              "      <td>NaN</td>\n",
              "    </tr>\n",
              "    <tr>\n",
              "      <th>13</th>\n",
              "      <td>MCS.2</td>\n",
              "      <td>Map completion score 2</td>\n",
              "      <td>Concept map completion double score</td>\n",
              "      <td>0.0 - 1.0</td>\n",
              "      <td>(score = number of idea units mapped divided by 30 possible idea units)</td>\n",
              "    </tr>\n",
              "    <tr>\n",
              "      <th>14</th>\n",
              "      <td>Scorer.2</td>\n",
              "      <td>Scorer 2</td>\n",
              "      <td>Second scorer for the concept map completion score</td>\n",
              "      <td>AA - ZZ</td>\n",
              "      <td>NaN</td>\n",
              "    </tr>\n",
              "    <tr>\n",
              "      <th>15</th>\n",
              "      <td>MCS.avg</td>\n",
              "      <td>Map completion score average</td>\n",
              "      <td>Average of the first and second scorers' concept map completion scores</td>\n",
              "      <td>0.0 - 1.0</td>\n",
              "      <td>(score = (MCS.1 + MCS.2)/2)</td>\n",
              "    </tr>\n",
              "    <tr>\n",
              "      <th>16</th>\n",
              "      <td>R1CS.1</td>\n",
              "      <td>Retrieval #1 completion score 1</td>\n",
              "      <td>Retrieval practice #1 completion single score</td>\n",
              "      <td>0.0 - 1.0</td>\n",
              "      <td>(score = number of idea units listed divided by 30 possible idea units)</td>\n",
              "    </tr>\n",
              "    <tr>\n",
              "      <th>17</th>\n",
              "      <td>Scorer.1</td>\n",
              "      <td>Scorer 1</td>\n",
              "      <td>First scorer for the retrieval practice #1 completion score</td>\n",
              "      <td>AA - ZZ</td>\n",
              "      <td>NaN</td>\n",
              "    </tr>\n",
              "    <tr>\n",
              "      <th>18</th>\n",
              "      <td>R1CS.2</td>\n",
              "      <td>Retrieval #1 completion score 2</td>\n",
              "      <td>Retrieval practice #1 completion double score</td>\n",
              "      <td>0.0 - 1.0</td>\n",
              "      <td>(score = number of idea units listed divided by 30 possible idea units)</td>\n",
              "    </tr>\n",
              "    <tr>\n",
              "      <th>19</th>\n",
              "      <td>Scorer.2</td>\n",
              "      <td>Scorer 2</td>\n",
              "      <td>Second scorer for the retrieval practice #1 completion score</td>\n",
              "      <td>AA - ZZ</td>\n",
              "      <td>NaN</td>\n",
              "    </tr>\n",
              "    <tr>\n",
              "      <th>20</th>\n",
              "      <td>R1CS.avg</td>\n",
              "      <td>Retrieval #1 average completion score</td>\n",
              "      <td>Average of the first and second scorers' retrieval practice #1 completion scores</td>\n",
              "      <td>0.0 - 1.0</td>\n",
              "      <td>(score = (R1CS.1 + R1CS.2)/2)</td>\n",
              "    </tr>\n",
              "    <tr>\n",
              "      <th>21</th>\n",
              "      <td>R2CS.1</td>\n",
              "      <td>Retrieval #2 completion score 1</td>\n",
              "      <td>Retrieval practice #2 completion single score (completed on separate retrieval template than R1CS)</td>\n",
              "      <td>0.0 - 1.0</td>\n",
              "      <td>(score = number of idea units listed divided by 30 possible idea units)</td>\n",
              "    </tr>\n",
              "    <tr>\n",
              "      <th>22</th>\n",
              "      <td>Scorer.1</td>\n",
              "      <td>Scorer 1</td>\n",
              "      <td>First scorer for the retrieval practice #2 completion score</td>\n",
              "      <td>AA - ZZ</td>\n",
              "      <td>NaN</td>\n",
              "    </tr>\n",
              "    <tr>\n",
              "      <th>23</th>\n",
              "      <td>R2CS.2</td>\n",
              "      <td>Retrieval #2 completion score 2</td>\n",
              "      <td>Retrieval practice #2 completion double score</td>\n",
              "      <td>0.0 - 1.0</td>\n",
              "      <td>(score = number of idea units listed divided by 30 possible idea units)</td>\n",
              "    </tr>\n",
              "    <tr>\n",
              "      <th>24</th>\n",
              "      <td>Scorer.2</td>\n",
              "      <td>Scorer 2</td>\n",
              "      <td>Second scorer for the retrieval practice #2 completion score</td>\n",
              "      <td>AA - ZZ</td>\n",
              "      <td>NaN</td>\n",
              "    </tr>\n",
              "    <tr>\n",
              "      <th>25</th>\n",
              "      <td>R2CS.avg</td>\n",
              "      <td>Retrieval #2 average completion score</td>\n",
              "      <td>Average of the first and second scorers' retrieval practice #2 completion scores</td>\n",
              "      <td>0.0 - 1.0</td>\n",
              "      <td>(score = (R2CS.1 + R2CS.2)/2)</td>\n",
              "    </tr>\n",
              "    <tr>\n",
              "      <th>26</th>\n",
              "      <td>TS.1</td>\n",
              "      <td>Test score 1</td>\n",
              "      <td>Follow-up learning test single score</td>\n",
              "      <td>0.0 - 1.0</td>\n",
              "      <td>(score = number of earned points/25 possible points)</td>\n",
              "    </tr>\n",
              "    <tr>\n",
              "      <th>27</th>\n",
              "      <td>Scorer.1</td>\n",
              "      <td>Scorer 1</td>\n",
              "      <td>First scorer of the follow-up learning test</td>\n",
              "      <td>AA - ZZ</td>\n",
              "      <td>NaN</td>\n",
              "    </tr>\n",
              "    <tr>\n",
              "      <th>28</th>\n",
              "      <td>TS.2</td>\n",
              "      <td>Test score 2</td>\n",
              "      <td>Follow-up learning test double score</td>\n",
              "      <td>0.0 - 1.0</td>\n",
              "      <td>(score = number of earned points/25 possible points)</td>\n",
              "    </tr>\n",
              "    <tr>\n",
              "      <th>29</th>\n",
              "      <td>Scorer.2</td>\n",
              "      <td>Scorer 2</td>\n",
              "      <td>Second scorer of the follow-up learning test</td>\n",
              "      <td>AA - ZZ</td>\n",
              "      <td>NaN</td>\n",
              "    </tr>\n",
              "    <tr>\n",
              "      <th>30</th>\n",
              "      <td>TS.avg</td>\n",
              "      <td>Test score average</td>\n",
              "      <td>Average of the first and second scorers' test scores</td>\n",
              "      <td>0.0 - 1.0</td>\n",
              "      <td>(score = (TS.1 + TS.2)/2)</td>\n",
              "    </tr>\n",
              "    <tr>\n",
              "      <th>31</th>\n",
              "      <td>Exc.1</td>\n",
              "      <td>Exclusion part 1</td>\n",
              "      <td>Exclusions for part 1 session</td>\n",
              "      <td>0-1</td>\n",
              "      <td>1 = exclusion, 0 = no exclusion</td>\n",
              "    </tr>\n",
              "    <tr>\n",
              "      <th>32</th>\n",
              "      <td>Exc.2</td>\n",
              "      <td>Exclusion part 2</td>\n",
              "      <td>Exclusions for part 2 session</td>\n",
              "      <td>0-1</td>\n",
              "      <td>1 = exclusion, 0 = no exclusion</td>\n",
              "    </tr>\n",
              "    <tr>\n",
              "      <th>33</th>\n",
              "      <td>Collection</td>\n",
              "      <td>Collection round</td>\n",
              "      <td>Round of SSRP collection (1st round (90% confidence to predict 75% of the original effect size) or 2nd (90% confidence to predict 50% of the original effect size))</td>\n",
              "      <td>1-2</td>\n",
              "      <td>NaN</td>\n",
              "    </tr>\n",
              "  </tbody>\n",
              "</table>\n",
              "</div>"
            ],
            "text/plain": [
              "          Name                    Variable full label   \n",
              "0           ID                         Participant ID  \\\n",
              "1        netID                              UVA netID   \n",
              "2      Date.P1                            Date part 1   \n",
              "3      Date.P2                            Date part 2   \n",
              "4    Condition                     Condition assigned   \n",
              "5         IC.1                     Informed consent 1   \n",
              "6         IC.2                     Informed consent 2   \n",
              "7       Comp.1                         Compensation 1   \n",
              "8       Comp.2                         Compensation 2   \n",
              "9         PR.1                  Prediction response 1   \n",
              "10        PR.2                  Prediction response 2   \n",
              "11       MCS.1                 Map completion score 1   \n",
              "12    Scorer.1                               Scorer 1   \n",
              "13       MCS.2                 Map completion score 2   \n",
              "14    Scorer.2                               Scorer 2   \n",
              "15     MCS.avg           Map completion score average   \n",
              "16      R1CS.1        Retrieval #1 completion score 1   \n",
              "17    Scorer.1                               Scorer 1   \n",
              "18      R1CS.2        Retrieval #1 completion score 2   \n",
              "19    Scorer.2                               Scorer 2   \n",
              "20    R1CS.avg  Retrieval #1 average completion score   \n",
              "21      R2CS.1        Retrieval #2 completion score 1   \n",
              "22    Scorer.1                               Scorer 1   \n",
              "23      R2CS.2        Retrieval #2 completion score 2   \n",
              "24    Scorer.2                               Scorer 2   \n",
              "25    R2CS.avg  Retrieval #2 average completion score   \n",
              "26        TS.1                           Test score 1   \n",
              "27    Scorer.1                               Scorer 1   \n",
              "28        TS.2                           Test score 2   \n",
              "29    Scorer.2                               Scorer 2   \n",
              "30      TS.avg                     Test score average   \n",
              "31       Exc.1                       Exclusion part 1   \n",
              "32       Exc.2                       Exclusion part 2   \n",
              "33  Collection                       Collection round   \n",
              "\n",
              "                                                                                                                                                   Variable description   \n",
              "0                                                                                                                                 Participant's study number/identifier  \\\n",
              "1                                                                                                                                        Student's UVA netID identifier   \n",
              "2                                                                                                                                                Date of part 1 session   \n",
              "3                                                                                                                                 Date of part 2 session (1 week later)   \n",
              "4                                                                                                                 Participant's assigned study condition (block design)   \n",
              "5                                                                                                                      Informed consent administered for part 1 session   \n",
              "6                                                                                                                      Informed consent administered for part 2 session   \n",
              "7                                                                                                                 Compensation (SONA credit) awarded for part 1 session   \n",
              "8                                                                                                                 Compensation (SONA credit) awarded for part 2 session   \n",
              "9                                                                                                                                                           Q1 response   \n",
              "10                                                                                                                                                          Q2 response   \n",
              "11                                                                                                                                 Concept map completion single score    \n",
              "12                                                                                                                   First scorer for the concept map completion score    \n",
              "13                                                                                                                                  Concept map completion double score   \n",
              "14                                                                                                                   Second scorer for the concept map completion score   \n",
              "15                                                                                               Average of the first and second scorers' concept map completion scores   \n",
              "16                                                                                                                       Retrieval practice #1 completion single score    \n",
              "17                                                                                                          First scorer for the retrieval practice #1 completion score   \n",
              "18                                                                                                                        Retrieval practice #1 completion double score   \n",
              "19                                                                                                         Second scorer for the retrieval practice #1 completion score   \n",
              "20                                                                                     Average of the first and second scorers' retrieval practice #1 completion scores   \n",
              "21                                                                   Retrieval practice #2 completion single score (completed on separate retrieval template than R1CS)   \n",
              "22                                                                                                          First scorer for the retrieval practice #2 completion score   \n",
              "23                                                                                                                        Retrieval practice #2 completion double score   \n",
              "24                                                                                                         Second scorer for the retrieval practice #2 completion score   \n",
              "25                                                                                     Average of the first and second scorers' retrieval practice #2 completion scores   \n",
              "26                                                                                                                                 Follow-up learning test single score   \n",
              "27                                                                                                                         First scorer of the follow-up learning test    \n",
              "28                                                                                                                                 Follow-up learning test double score   \n",
              "29                                                                                                                         Second scorer of the follow-up learning test   \n",
              "30                                                                                                                 Average of the first and second scorers' test scores   \n",
              "31                                                                                                                                        Exclusions for part 1 session   \n",
              "32                                                                                                                                        Exclusions for part 2 session   \n",
              "33  Round of SSRP collection (1st round (90% confidence to predict 75% of the original effect size) or 2nd (90% confidence to predict 50% of the original effect size))   \n",
              "\n",
              "             Valid range   \n",
              "0             KB1 - KB52  \\\n",
              "1                    NaN   \n",
              "2               00/00/00   \n",
              "3               00/00/00   \n",
              "4   Retrieval OR Concept   \n",
              "5                    0-1   \n",
              "6                    0-1   \n",
              "7                    0-1   \n",
              "8                    0-1   \n",
              "9                    0-1   \n",
              "10             0.0 - 1.0   \n",
              "11             0.0 - 1.0   \n",
              "12               AA - ZZ   \n",
              "13             0.0 - 1.0   \n",
              "14               AA - ZZ   \n",
              "15             0.0 - 1.0   \n",
              "16             0.0 - 1.0   \n",
              "17               AA - ZZ   \n",
              "18             0.0 - 1.0   \n",
              "19               AA - ZZ   \n",
              "20             0.0 - 1.0   \n",
              "21            0.0 - 1.0    \n",
              "22               AA - ZZ   \n",
              "23             0.0 - 1.0   \n",
              "24               AA - ZZ   \n",
              "25             0.0 - 1.0   \n",
              "26             0.0 - 1.0   \n",
              "27               AA - ZZ   \n",
              "28             0.0 - 1.0   \n",
              "29               AA - ZZ   \n",
              "30             0.0 - 1.0   \n",
              "31                   0-1   \n",
              "32                   0-1   \n",
              "33                   1-2   \n",
              "\n",
              "                                                                    Scoring  \n",
              "0                                                                       NaN  \n",
              "1                                                                       NaN  \n",
              "2                                                                       NaN  \n",
              "3                                                                       NaN  \n",
              "4                                                                       NaN  \n",
              "5                                                                       NaN  \n",
              "6                                                                       NaN  \n",
              "7                                                                       NaN  \n",
              "8                                                                       NaN  \n",
              "9                                              (responses: 1 = yes, 0 = no)  \n",
              "10                                                                      NaN  \n",
              "11  (score = number of idea units mapped divided by 30 possible idea units)  \n",
              "12                                                                      NaN  \n",
              "13  (score = number of idea units mapped divided by 30 possible idea units)  \n",
              "14                                                                      NaN  \n",
              "15                                              (score = (MCS.1 + MCS.2)/2)  \n",
              "16  (score = number of idea units listed divided by 30 possible idea units)  \n",
              "17                                                                      NaN  \n",
              "18  (score = number of idea units listed divided by 30 possible idea units)  \n",
              "19                                                                      NaN  \n",
              "20                                            (score = (R1CS.1 + R1CS.2)/2)  \n",
              "21  (score = number of idea units listed divided by 30 possible idea units)  \n",
              "22                                                                      NaN  \n",
              "23  (score = number of idea units listed divided by 30 possible idea units)  \n",
              "24                                                                      NaN  \n",
              "25                                            (score = (R2CS.1 + R2CS.2)/2)  \n",
              "26                     (score = number of earned points/25 possible points)  \n",
              "27                                                                      NaN  \n",
              "28                     (score = number of earned points/25 possible points)  \n",
              "29                                                                      NaN  \n",
              "30                                                (score = (TS.1 + TS.2)/2)  \n",
              "31                                          1 = exclusion, 0 = no exclusion  \n",
              "32                                          1 = exclusion, 0 = no exclusion  \n",
              "33                                                                      NaN  "
            ]
          },
          "execution_count": 46,
          "metadata": {},
          "output_type": "execute_result"
        }
      ],
      "source": [
        "df_codebook = df_codebook[['Name', 'Variable full label', 'Variable description', 'Valid range', 'Scoring']]\n",
        "df_codebook"
      ]
    },
    {
      "cell_type": "code",
      "execution_count": 47,
      "metadata": {},
      "outputs": [
        {
          "data": {
            "text/html": [
              "<div>\n",
              "<style scoped>\n",
              "    .dataframe tbody tr th:only-of-type {\n",
              "        vertical-align: middle;\n",
              "    }\n",
              "\n",
              "    .dataframe tbody tr th {\n",
              "        vertical-align: top;\n",
              "    }\n",
              "\n",
              "    .dataframe thead th {\n",
              "        text-align: right;\n",
              "    }\n",
              "</style>\n",
              "<table border=\"1\" class=\"dataframe\">\n",
              "  <thead>\n",
              "    <tr style=\"text-align: right;\">\n",
              "      <th></th>\n",
              "      <th>Name</th>\n",
              "      <th>Variable full label</th>\n",
              "      <th>Variable description</th>\n",
              "    </tr>\n",
              "  </thead>\n",
              "  <tbody>\n",
              "    <tr>\n",
              "      <th>0</th>\n",
              "      <td>ID</td>\n",
              "      <td>Participant ID</td>\n",
              "      <td>Participant's study number/identifier</td>\n",
              "    </tr>\n",
              "    <tr>\n",
              "      <th>1</th>\n",
              "      <td>netID</td>\n",
              "      <td>UVA netID</td>\n",
              "      <td>Student's UVA netID identifier</td>\n",
              "    </tr>\n",
              "    <tr>\n",
              "      <th>2</th>\n",
              "      <td>Date.P1</td>\n",
              "      <td>Date part 1</td>\n",
              "      <td>Date of part 1 session</td>\n",
              "    </tr>\n",
              "    <tr>\n",
              "      <th>3</th>\n",
              "      <td>Date.P2</td>\n",
              "      <td>Date part 2</td>\n",
              "      <td>Date of part 2 session (1 week later)</td>\n",
              "    </tr>\n",
              "    <tr>\n",
              "      <th>4</th>\n",
              "      <td>Condition</td>\n",
              "      <td>Condition assigned</td>\n",
              "      <td>Participant's assigned study condition (block design)</td>\n",
              "    </tr>\n",
              "    <tr>\n",
              "      <th>5</th>\n",
              "      <td>IC.1</td>\n",
              "      <td>Informed consent 1</td>\n",
              "      <td>Informed consent administered for part 1 session</td>\n",
              "    </tr>\n",
              "    <tr>\n",
              "      <th>6</th>\n",
              "      <td>IC.2</td>\n",
              "      <td>Informed consent 2</td>\n",
              "      <td>Informed consent administered for part 2 session</td>\n",
              "    </tr>\n",
              "    <tr>\n",
              "      <th>7</th>\n",
              "      <td>Comp.1</td>\n",
              "      <td>Compensation 1</td>\n",
              "      <td>Compensation (SONA credit) awarded for part 1 session</td>\n",
              "    </tr>\n",
              "    <tr>\n",
              "      <th>8</th>\n",
              "      <td>Comp.2</td>\n",
              "      <td>Compensation 2</td>\n",
              "      <td>Compensation (SONA credit) awarded for part 2 session</td>\n",
              "    </tr>\n",
              "    <tr>\n",
              "      <th>9</th>\n",
              "      <td>PR.1</td>\n",
              "      <td>Prediction response 1</td>\n",
              "      <td>Q1 response</td>\n",
              "    </tr>\n",
              "    <tr>\n",
              "      <th>10</th>\n",
              "      <td>PR.2</td>\n",
              "      <td>Prediction response 2</td>\n",
              "      <td>Q2 response</td>\n",
              "    </tr>\n",
              "    <tr>\n",
              "      <th>11</th>\n",
              "      <td>MCS.1</td>\n",
              "      <td>Map completion score 1</td>\n",
              "      <td>Concept map completion single score</td>\n",
              "    </tr>\n",
              "    <tr>\n",
              "      <th>12</th>\n",
              "      <td>Scorer.1</td>\n",
              "      <td>Scorer 1</td>\n",
              "      <td>First scorer for the concept map completion score</td>\n",
              "    </tr>\n",
              "    <tr>\n",
              "      <th>13</th>\n",
              "      <td>MCS.2</td>\n",
              "      <td>Map completion score 2</td>\n",
              "      <td>Concept map completion double score</td>\n",
              "    </tr>\n",
              "    <tr>\n",
              "      <th>14</th>\n",
              "      <td>Scorer.2</td>\n",
              "      <td>Scorer 2</td>\n",
              "      <td>Second scorer for the concept map completion score</td>\n",
              "    </tr>\n",
              "    <tr>\n",
              "      <th>15</th>\n",
              "      <td>MCS.avg</td>\n",
              "      <td>Map completion score average</td>\n",
              "      <td>Average of the first and second scorers' concept map completion scores</td>\n",
              "    </tr>\n",
              "    <tr>\n",
              "      <th>16</th>\n",
              "      <td>R1CS.1</td>\n",
              "      <td>Retrieval #1 completion score 1</td>\n",
              "      <td>Retrieval practice #1 completion single score</td>\n",
              "    </tr>\n",
              "    <tr>\n",
              "      <th>17</th>\n",
              "      <td>Scorer.1</td>\n",
              "      <td>Scorer 1</td>\n",
              "      <td>First scorer for the retrieval practice #1 completion score</td>\n",
              "    </tr>\n",
              "    <tr>\n",
              "      <th>18</th>\n",
              "      <td>R1CS.2</td>\n",
              "      <td>Retrieval #1 completion score 2</td>\n",
              "      <td>Retrieval practice #1 completion double score</td>\n",
              "    </tr>\n",
              "    <tr>\n",
              "      <th>19</th>\n",
              "      <td>Scorer.2</td>\n",
              "      <td>Scorer 2</td>\n",
              "      <td>Second scorer for the retrieval practice #1 completion score</td>\n",
              "    </tr>\n",
              "    <tr>\n",
              "      <th>20</th>\n",
              "      <td>R1CS.avg</td>\n",
              "      <td>Retrieval #1 average completion score</td>\n",
              "      <td>Average of the first and second scorers' retrieval practice #1 completion scores</td>\n",
              "    </tr>\n",
              "    <tr>\n",
              "      <th>21</th>\n",
              "      <td>R2CS.1</td>\n",
              "      <td>Retrieval #2 completion score 1</td>\n",
              "      <td>Retrieval practice #2 completion single score (completed on separate retrieval template than R1CS)</td>\n",
              "    </tr>\n",
              "    <tr>\n",
              "      <th>22</th>\n",
              "      <td>Scorer.1</td>\n",
              "      <td>Scorer 1</td>\n",
              "      <td>First scorer for the retrieval practice #2 completion score</td>\n",
              "    </tr>\n",
              "    <tr>\n",
              "      <th>23</th>\n",
              "      <td>R2CS.2</td>\n",
              "      <td>Retrieval #2 completion score 2</td>\n",
              "      <td>Retrieval practice #2 completion double score</td>\n",
              "    </tr>\n",
              "    <tr>\n",
              "      <th>24</th>\n",
              "      <td>Scorer.2</td>\n",
              "      <td>Scorer 2</td>\n",
              "      <td>Second scorer for the retrieval practice #2 completion score</td>\n",
              "    </tr>\n",
              "    <tr>\n",
              "      <th>25</th>\n",
              "      <td>R2CS.avg</td>\n",
              "      <td>Retrieval #2 average completion score</td>\n",
              "      <td>Average of the first and second scorers' retrieval practice #2 completion scores</td>\n",
              "    </tr>\n",
              "    <tr>\n",
              "      <th>26</th>\n",
              "      <td>TS.1</td>\n",
              "      <td>Test score 1</td>\n",
              "      <td>Follow-up learning test single score</td>\n",
              "    </tr>\n",
              "    <tr>\n",
              "      <th>27</th>\n",
              "      <td>Scorer.1</td>\n",
              "      <td>Scorer 1</td>\n",
              "      <td>First scorer of the follow-up learning test</td>\n",
              "    </tr>\n",
              "    <tr>\n",
              "      <th>28</th>\n",
              "      <td>TS.2</td>\n",
              "      <td>Test score 2</td>\n",
              "      <td>Follow-up learning test double score</td>\n",
              "    </tr>\n",
              "    <tr>\n",
              "      <th>29</th>\n",
              "      <td>Scorer.2</td>\n",
              "      <td>Scorer 2</td>\n",
              "      <td>Second scorer of the follow-up learning test</td>\n",
              "    </tr>\n",
              "    <tr>\n",
              "      <th>30</th>\n",
              "      <td>TS.avg</td>\n",
              "      <td>Test score average</td>\n",
              "      <td>Average of the first and second scorers' test scores</td>\n",
              "    </tr>\n",
              "    <tr>\n",
              "      <th>31</th>\n",
              "      <td>Exc.1</td>\n",
              "      <td>Exclusion part 1</td>\n",
              "      <td>Exclusions for part 1 session</td>\n",
              "    </tr>\n",
              "    <tr>\n",
              "      <th>32</th>\n",
              "      <td>Exc.2</td>\n",
              "      <td>Exclusion part 2</td>\n",
              "      <td>Exclusions for part 2 session</td>\n",
              "    </tr>\n",
              "    <tr>\n",
              "      <th>33</th>\n",
              "      <td>Collection</td>\n",
              "      <td>Collection round</td>\n",
              "      <td>Round of SSRP collection (1st round (90% confidence to predict 75% of the original effect size) or 2nd (90% confidence to predict 50% of the original effect size))</td>\n",
              "    </tr>\n",
              "  </tbody>\n",
              "</table>\n",
              "</div>"
            ],
            "text/plain": [
              "          Name                    Variable full label   \n",
              "0           ID                         Participant ID  \\\n",
              "1        netID                              UVA netID   \n",
              "2      Date.P1                            Date part 1   \n",
              "3      Date.P2                            Date part 2   \n",
              "4    Condition                     Condition assigned   \n",
              "5         IC.1                     Informed consent 1   \n",
              "6         IC.2                     Informed consent 2   \n",
              "7       Comp.1                         Compensation 1   \n",
              "8       Comp.2                         Compensation 2   \n",
              "9         PR.1                  Prediction response 1   \n",
              "10        PR.2                  Prediction response 2   \n",
              "11       MCS.1                 Map completion score 1   \n",
              "12    Scorer.1                               Scorer 1   \n",
              "13       MCS.2                 Map completion score 2   \n",
              "14    Scorer.2                               Scorer 2   \n",
              "15     MCS.avg           Map completion score average   \n",
              "16      R1CS.1        Retrieval #1 completion score 1   \n",
              "17    Scorer.1                               Scorer 1   \n",
              "18      R1CS.2        Retrieval #1 completion score 2   \n",
              "19    Scorer.2                               Scorer 2   \n",
              "20    R1CS.avg  Retrieval #1 average completion score   \n",
              "21      R2CS.1        Retrieval #2 completion score 1   \n",
              "22    Scorer.1                               Scorer 1   \n",
              "23      R2CS.2        Retrieval #2 completion score 2   \n",
              "24    Scorer.2                               Scorer 2   \n",
              "25    R2CS.avg  Retrieval #2 average completion score   \n",
              "26        TS.1                           Test score 1   \n",
              "27    Scorer.1                               Scorer 1   \n",
              "28        TS.2                           Test score 2   \n",
              "29    Scorer.2                               Scorer 2   \n",
              "30      TS.avg                     Test score average   \n",
              "31       Exc.1                       Exclusion part 1   \n",
              "32       Exc.2                       Exclusion part 2   \n",
              "33  Collection                       Collection round   \n",
              "\n",
              "                                                                                                                                                   Variable description  \n",
              "0                                                                                                                                 Participant's study number/identifier  \n",
              "1                                                                                                                                        Student's UVA netID identifier  \n",
              "2                                                                                                                                                Date of part 1 session  \n",
              "3                                                                                                                                 Date of part 2 session (1 week later)  \n",
              "4                                                                                                                 Participant's assigned study condition (block design)  \n",
              "5                                                                                                                      Informed consent administered for part 1 session  \n",
              "6                                                                                                                      Informed consent administered for part 2 session  \n",
              "7                                                                                                                 Compensation (SONA credit) awarded for part 1 session  \n",
              "8                                                                                                                 Compensation (SONA credit) awarded for part 2 session  \n",
              "9                                                                                                                                                           Q1 response  \n",
              "10                                                                                                                                                          Q2 response  \n",
              "11                                                                                                                                 Concept map completion single score   \n",
              "12                                                                                                                   First scorer for the concept map completion score   \n",
              "13                                                                                                                                  Concept map completion double score  \n",
              "14                                                                                                                   Second scorer for the concept map completion score  \n",
              "15                                                                                               Average of the first and second scorers' concept map completion scores  \n",
              "16                                                                                                                       Retrieval practice #1 completion single score   \n",
              "17                                                                                                          First scorer for the retrieval practice #1 completion score  \n",
              "18                                                                                                                        Retrieval practice #1 completion double score  \n",
              "19                                                                                                         Second scorer for the retrieval practice #1 completion score  \n",
              "20                                                                                     Average of the first and second scorers' retrieval practice #1 completion scores  \n",
              "21                                                                   Retrieval practice #2 completion single score (completed on separate retrieval template than R1CS)  \n",
              "22                                                                                                          First scorer for the retrieval practice #2 completion score  \n",
              "23                                                                                                                        Retrieval practice #2 completion double score  \n",
              "24                                                                                                         Second scorer for the retrieval practice #2 completion score  \n",
              "25                                                                                     Average of the first and second scorers' retrieval practice #2 completion scores  \n",
              "26                                                                                                                                 Follow-up learning test single score  \n",
              "27                                                                                                                         First scorer of the follow-up learning test   \n",
              "28                                                                                                                                 Follow-up learning test double score  \n",
              "29                                                                                                                         Second scorer of the follow-up learning test  \n",
              "30                                                                                                                 Average of the first and second scorers' test scores  \n",
              "31                                                                                                                                        Exclusions for part 1 session  \n",
              "32                                                                                                                                        Exclusions for part 2 session  \n",
              "33  Round of SSRP collection (1st round (90% confidence to predict 75% of the original effect size) or 2nd (90% confidence to predict 50% of the original effect size))  "
            ]
          },
          "execution_count": 47,
          "metadata": {},
          "output_type": "execute_result"
        }
      ],
      "source": [
        "pd.set_option('display.max_colwidth', 1000)\n",
        "df_codebook[['Name', 'Variable full label', 'Variable description']]"
      ]
    },
    {
      "cell_type": "code",
      "execution_count": 49,
      "metadata": {},
      "outputs": [
        {
          "data": {
            "text/html": [
              "<div>\n",
              "<style scoped>\n",
              "    .dataframe tbody tr th:only-of-type {\n",
              "        vertical-align: middle;\n",
              "    }\n",
              "\n",
              "    .dataframe tbody tr th {\n",
              "        vertical-align: top;\n",
              "    }\n",
              "\n",
              "    .dataframe thead th {\n",
              "        text-align: right;\n",
              "    }\n",
              "</style>\n",
              "<table border=\"1\" class=\"dataframe\">\n",
              "  <thead>\n",
              "    <tr style=\"text-align: right;\">\n",
              "      <th></th>\n",
              "      <th>Condition</th>\n",
              "      <th>PR.2</th>\n",
              "    </tr>\n",
              "  </thead>\n",
              "  <tbody>\n",
              "    <tr>\n",
              "      <th>0</th>\n",
              "      <td>Concept</td>\n",
              "      <td>0.690385</td>\n",
              "    </tr>\n",
              "    <tr>\n",
              "      <th>1</th>\n",
              "      <td>Retrieval</td>\n",
              "      <td>0.576471</td>\n",
              "    </tr>\n",
              "  </tbody>\n",
              "</table>\n",
              "</div>"
            ],
            "text/plain": [
              "   Condition      PR.2\n",
              "0    Concept  0.690385\n",
              "1  Retrieval  0.576471"
            ]
          },
          "execution_count": 49,
          "metadata": {},
          "output_type": "execute_result"
        }
      ],
      "source": [
        "p1 = df_learning.groupby('Condition')['PR.2'].mean().reset_index()\n",
        "p1"
      ]
    },
    {
      "cell_type": "code",
      "execution_count": 52,
      "metadata": {},
      "outputs": [
        {
          "data": {
            "text/plain": [
              "<Axes: title={'center': 'Proportion of Prediction by Condition'}, xlabel='Condition', ylabel='Proportion of Prediction'>"
            ]
          },
          "execution_count": 52,
          "metadata": {},
          "output_type": "execute_result"
        },
        {
          "data": {
            "image/png": "[encoded data removed]",
            "text/plain": [
              "<Figure size 640x480 with 1 Axes>"
            ]
          },
          "metadata": {},
          "output_type": "display_data"
        }
      ],
      "source": [
        "p1.plot.bar(\n",
        "    title='Proportion of Prediction by Condition',\n",
        "    x = 'Condition',\n",
        "    y = 'PR.2',\n",
        "    legend=False,\n",
        "    ylabel='Proportion of Prediction',\n",
        "    ylim=(0, 1),\n",
        "    yticks=np.arange(0, 1.1, .1)\n",
        ")"
      ]
    },
    {
      "cell_type": "markdown",
      "metadata": {
        "id": "TUH5o-WRkOmk"
      },
      "source": [
        "**YOUR RESPONSE HERE**\n",
        "\n",
        "It seems that more of those who practiced the concept map predicted that they would do well on a test one week later than the group that practiced retrieval. However, the difference is not very large."
      ]
    },
    {
      "cell_type": "markdown",
      "metadata": {
        "id": "FiFkblz8OIch"
      },
      "source": [
        "2\\. Which group actually did better on the follow-up learning test one week later? Make an appropriate visualization and explain what you see.\n",
        "\n",
        "Read the codebook carefully to figure out which variable to use (consulting the [original paper](http://science.sciencemag.org/content/331/6018/772), if necessary), make an informed decision, and *explain your choice*.\n",
        "\n",
        "Hint: check out \"TSAvg\""
      ]
    },
    {
      "cell_type": "code",
      "execution_count": 53,
      "metadata": {
        "id": "zoCX4a3KkgBC"
      },
      "outputs": [
        {
          "data": {
            "text/html": [
              "<div>\n",
              "<style scoped>\n",
              "    .dataframe tbody tr th:only-of-type {\n",
              "        vertical-align: middle;\n",
              "    }\n",
              "\n",
              "    .dataframe tbody tr th {\n",
              "        vertical-align: top;\n",
              "    }\n",
              "\n",
              "    .dataframe thead th {\n",
              "        text-align: right;\n",
              "    }\n",
              "</style>\n",
              "<table border=\"1\" class=\"dataframe\">\n",
              "  <thead>\n",
              "    <tr style=\"text-align: right;\">\n",
              "      <th></th>\n",
              "      <th>Condition</th>\n",
              "      <th>TS.avg</th>\n",
              "    </tr>\n",
              "  </thead>\n",
              "  <tbody>\n",
              "    <tr>\n",
              "      <th>0</th>\n",
              "      <td>Concept</td>\n",
              "      <td>0.468846</td>\n",
              "    </tr>\n",
              "    <tr>\n",
              "      <th>1</th>\n",
              "      <td>Retrieval</td>\n",
              "      <td>0.616471</td>\n",
              "    </tr>\n",
              "  </tbody>\n",
              "</table>\n",
              "</div>"
            ],
            "text/plain": [
              "   Condition    TS.avg\n",
              "0    Concept  0.468846\n",
              "1  Retrieval  0.616471"
            ]
          },
          "execution_count": 53,
          "metadata": {},
          "output_type": "execute_result"
        }
      ],
      "source": [
        "# ENTER YOUR CODE HERE. ADD AS MANY CELLS AS YOU WANT.\n",
        "p2 = df_learning.groupby('Condition')['TS.avg'].mean().reset_index()\n",
        "p2"
      ]
    },
    {
      "cell_type": "code",
      "execution_count": 55,
      "metadata": {},
      "outputs": [
        {
          "data": {
            "text/plain": [
              "<Axes: title={'center': 'Proportion of Average Test Score by Condition'}, xlabel='Condition', ylabel='Proportion of Avg Test Scores'>"
            ]
          },
          "execution_count": 55,
          "metadata": {},
          "output_type": "execute_result"
        },
        {
          "data": {
            "image/png": "[encoded data removed]",
            "text/plain": [
              "<Figure size 640x480 with 1 Axes>"
            ]
          },
          "metadata": {},
          "output_type": "display_data"
        }
      ],
      "source": [
        "p2.plot.bar(\n",
        "    title='Proportion of Average Test Score by Condition',\n",
        "    ylabel='Proportion of Avg Test Scores',\n",
        "    x = 'Condition',\n",
        "    legend=False,\n",
        "    ylim=(0, 1),\n",
        "    yticks=np.arange(0, 1.1, .1)\n",
        ")"
      ]
    },
    {
      "cell_type": "markdown",
      "metadata": {
        "id": "f6yUZJXBkgNo"
      },
      "source": [
        "**YOUR RESPONSE HERE**\n",
        "\n",
        "It seems that the retrieval group did better since the proportion of their average test scores is higher than the concept map group. We stuck with the TS.avg variable since it measures the average of the first and second scorer's test scores."
      ]
    },
    {
      "cell_type": "markdown",
      "metadata": {
        "id": "e_fjtBzsOIco"
      },
      "source": [
        "3\\. How good were subjects at predicting how well they would do on the follow-up learning test? Calculate a measure of how well subjects predicted their performance, make an appropriate visualization/summary, and describe the results in context."
      ]
    },
    {
      "cell_type": "code",
      "execution_count": null,
      "metadata": {
        "id": "KjpGo6dYjFYG"
      },
      "outputs": [],
      "source": [
        "# ENTER YOUR CODE HERE. ADD AS MANY CELLS AS YOU WANT."
      ]
    },
    {
      "cell_type": "markdown",
      "metadata": {
        "id": "OTeCGq7RjFj0"
      },
      "source": [
        "**YOUR RESPONSE HERE**"
      ]
    },
    {
      "cell_type": "markdown",
      "metadata": {
        "id": "CkTIB4EWlIwi"
      },
      "source": [
        "4\\. Write a paragraph summarizing the conclusions of your analysis. Based on this study alone, what would you tell other students about study strategies?"
      ]
    },
    {
      "cell_type": "markdown",
      "metadata": {
        "id": "4VgZicMtlIz3"
      },
      "source": [
        "**YOUR RESPONSE HERE**"
      ]
    },
    {
      "cell_type": "markdown",
      "metadata": {
        "id": "yPuMVEsImSRo"
      },
      "source": [
        "## Part 3: Data Visualization\n",
        "\n",
        "In the in class notebook for Day 06, you played with two activities: \"Graph Gallery\" and \"Copy the Masters\". Choose one graph that you created --- using either Altair or Plotly --- for these activities and reproduce it here. Your graph doesn't have to be perfect, but you should definitely do some tailoring beyond what you did in class to make it as clean as possible.\n",
        "\n",
        "Remember: just because you can produce a graph doesn't necessarily mean it's an effective visual in context. If you choose the \"graph gallery\" activity, select a graph that most effectively conveys the story in the data. If you choose the \"copy the masters\" activity, you don't necessarily have to \"copy\" them; maybe you can find a way to improve the graphic!\n",
        "\n",
        "Include all the code necessary to produce the graphic. Then write two paragraphs:\n",
        "\n",
        "- one that describes the story that the graphic tells in context\n",
        "- one that describes why you chose this graphic and your process for recreating it. What was the hardest part to implement?"
      ]
    },
    {
      "cell_type": "markdown",
      "metadata": {
        "id": "4a5aJOdeocUZ"
      },
      "source": [
        "1\\. Provide your code and reproduce your graphic here"
      ]
    },
    {
      "cell_type": "code",
      "execution_count": null,
      "metadata": {
        "id": "RNnAgYubmsZg"
      },
      "outputs": [],
      "source": [
        "# ENTER YOUR CODE HERE. ADD AS MANY CELLS AS YOU WANT."
      ]
    },
    {
      "cell_type": "markdown",
      "metadata": {
        "id": "66aXomeWmrvz"
      },
      "source": [
        "2\\. Write a paragraph that describes the story the graphic tells in context."
      ]
    },
    {
      "cell_type": "markdown",
      "metadata": {
        "id": "vFq8jlAOomza"
      },
      "source": [
        "**YOUR RESPONSE HERE**"
      ]
    },
    {
      "cell_type": "markdown",
      "metadata": {
        "id": "rkAwRLUzom12"
      },
      "source": [
        "3\\. Write a paragraph that describes why you chose this graphic and your process for recreating it. What was the hardest part to implement?"
      ]
    },
    {
      "cell_type": "markdown",
      "metadata": {
        "id": "GHcjMTgIom5S"
      },
      "source": [
        "**YOUR RESPONSE HERE**"
      ]
    },
    {
      "cell_type": "markdown",
      "metadata": {
        "id": "t4v3KApNoz2M"
      },
      "source": [
        "## Part 4: House Recommendations\n",
        "\n",
        "In the \"Activity\" from the Day 07 notebook you recommended some houses that were similar to, but cheaper than, house 0 in the Ames data set. You will recreate your recommendation here. Provide a list of your top recommendations --- including the number of the house and its main features --- and explain why you're recommending these houses. Your explanation should include\n",
        "\n",
        "- Which variables you included, and why\n",
        "- Which scaling you used, and why\n",
        "- Which distance metric you used, and why\n",
        "- How sensitive your recommendations were to different choices (of variables, scaling, distance metric). You should at least compare to what you did in the previous parts (where you considered the 3 quantitative variables and 1 categorical variable).\n",
        "\n",
        "Hint: be careful about how you are treating the categorical variables."
      ]
    },
    {
      "cell_type": "markdown",
      "metadata": {
        "id": "PbaDlnd4qIsW"
      },
      "source": [
        "1\\. Provide all the code to reproduce your recommendations here."
      ]
    },
    {
      "cell_type": "code",
      "execution_count": 56,
      "metadata": {
        "id": "at_5TpybqI3n"
      },
      "outputs": [
        {
          "data": {
            "text/html": [
              "<div>\n",
              "<style scoped>\n",
              "    .dataframe tbody tr th:only-of-type {\n",
              "        vertical-align: middle;\n",
              "    }\n",
              "\n",
              "    .dataframe tbody tr th {\n",
              "        vertical-align: top;\n",
              "    }\n",
              "\n",
              "    .dataframe thead th {\n",
              "        text-align: right;\n",
              "    }\n",
              "</style>\n",
              "<table border=\"1\" class=\"dataframe\">\n",
              "  <thead>\n",
              "    <tr style=\"text-align: right;\">\n",
              "      <th></th>\n",
              "      <th>Order</th>\n",
              "      <th>PID</th>\n",
              "      <th>MS SubClass</th>\n",
              "      <th>MS Zoning</th>\n",
              "      <th>Lot Frontage</th>\n",
              "      <th>Lot Area</th>\n",
              "      <th>Street</th>\n",
              "      <th>Alley</th>\n",
              "      <th>Lot Shape</th>\n",
              "      <th>Land Contour</th>\n",
              "      <th>...</th>\n",
              "      <th>Pool QC</th>\n",
              "      <th>Fence</th>\n",
              "      <th>Misc Feature</th>\n",
              "      <th>Misc Val</th>\n",
              "      <th>Mo Sold</th>\n",
              "      <th>Yr Sold</th>\n",
              "      <th>Sale Type</th>\n",
              "      <th>Sale Condition</th>\n",
              "      <th>SalePrice</th>\n",
              "      <th>Bathrooms</th>\n",
              "    </tr>\n",
              "  </thead>\n",
              "  <tbody>\n",
              "    <tr>\n",
              "      <th>0</th>\n",
              "      <td>1</td>\n",
              "      <td>526301100</td>\n",
              "      <td>20</td>\n",
              "      <td>RL</td>\n",
              "      <td>141.0</td>\n",
              "      <td>31770</td>\n",
              "      <td>Pave</td>\n",
              "      <td>NaN</td>\n",
              "      <td>IR1</td>\n",
              "      <td>Lvl</td>\n",
              "      <td>...</td>\n",
              "      <td>NaN</td>\n",
              "      <td>NaN</td>\n",
              "      <td>NaN</td>\n",
              "      <td>0</td>\n",
              "      <td>5</td>\n",
              "      <td>2010</td>\n",
              "      <td>WD</td>\n",
              "      <td>Normal</td>\n",
              "      <td>215000</td>\n",
              "      <td>1.0</td>\n",
              "    </tr>\n",
              "    <tr>\n",
              "      <th>1</th>\n",
              "      <td>2</td>\n",
              "      <td>526350040</td>\n",
              "      <td>20</td>\n",
              "      <td>RH</td>\n",
              "      <td>80.0</td>\n",
              "      <td>11622</td>\n",
              "      <td>Pave</td>\n",
              "      <td>NaN</td>\n",
              "      <td>Reg</td>\n",
              "      <td>Lvl</td>\n",
              "      <td>...</td>\n",
              "      <td>NaN</td>\n",
              "      <td>MnPrv</td>\n",
              "      <td>NaN</td>\n",
              "      <td>0</td>\n",
              "      <td>6</td>\n",
              "      <td>2010</td>\n",
              "      <td>WD</td>\n",
              "      <td>Normal</td>\n",
              "      <td>105000</td>\n",
              "      <td>1.0</td>\n",
              "    </tr>\n",
              "    <tr>\n",
              "      <th>2</th>\n",
              "      <td>3</td>\n",
              "      <td>526351010</td>\n",
              "      <td>20</td>\n",
              "      <td>RL</td>\n",
              "      <td>81.0</td>\n",
              "      <td>14267</td>\n",
              "      <td>Pave</td>\n",
              "      <td>NaN</td>\n",
              "      <td>IR1</td>\n",
              "      <td>Lvl</td>\n",
              "      <td>...</td>\n",
              "      <td>NaN</td>\n",
              "      <td>NaN</td>\n",
              "      <td>Gar2</td>\n",
              "      <td>12500</td>\n",
              "      <td>6</td>\n",
              "      <td>2010</td>\n",
              "      <td>WD</td>\n",
              "      <td>Normal</td>\n",
              "      <td>172000</td>\n",
              "      <td>1.5</td>\n",
              "    </tr>\n",
              "    <tr>\n",
              "      <th>3</th>\n",
              "      <td>4</td>\n",
              "      <td>526353030</td>\n",
              "      <td>20</td>\n",
              "      <td>RL</td>\n",
              "      <td>93.0</td>\n",
              "      <td>11160</td>\n",
              "      <td>Pave</td>\n",
              "      <td>NaN</td>\n",
              "      <td>Reg</td>\n",
              "      <td>Lvl</td>\n",
              "      <td>...</td>\n",
              "      <td>NaN</td>\n",
              "      <td>NaN</td>\n",
              "      <td>NaN</td>\n",
              "      <td>0</td>\n",
              "      <td>4</td>\n",
              "      <td>2010</td>\n",
              "      <td>WD</td>\n",
              "      <td>Normal</td>\n",
              "      <td>244000</td>\n",
              "      <td>2.5</td>\n",
              "    </tr>\n",
              "    <tr>\n",
              "      <th>4</th>\n",
              "      <td>5</td>\n",
              "      <td>527105010</td>\n",
              "      <td>60</td>\n",
              "      <td>RL</td>\n",
              "      <td>74.0</td>\n",
              "      <td>13830</td>\n",
              "      <td>Pave</td>\n",
              "      <td>NaN</td>\n",
              "      <td>IR1</td>\n",
              "      <td>Lvl</td>\n",
              "      <td>...</td>\n",
              "      <td>NaN</td>\n",
              "      <td>MnPrv</td>\n",
              "      <td>NaN</td>\n",
              "      <td>0</td>\n",
              "      <td>3</td>\n",
              "      <td>2010</td>\n",
              "      <td>WD</td>\n",
              "      <td>Normal</td>\n",
              "      <td>189900</td>\n",
              "      <td>2.5</td>\n",
              "    </tr>\n",
              "    <tr>\n",
              "      <th>...</th>\n",
              "      <td>...</td>\n",
              "      <td>...</td>\n",
              "      <td>...</td>\n",
              "      <td>...</td>\n",
              "      <td>...</td>\n",
              "      <td>...</td>\n",
              "      <td>...</td>\n",
              "      <td>...</td>\n",
              "      <td>...</td>\n",
              "      <td>...</td>\n",
              "      <td>...</td>\n",
              "      <td>...</td>\n",
              "      <td>...</td>\n",
              "      <td>...</td>\n",
              "      <td>...</td>\n",
              "      <td>...</td>\n",
              "      <td>...</td>\n",
              "      <td>...</td>\n",
              "      <td>...</td>\n",
              "      <td>...</td>\n",
              "      <td>...</td>\n",
              "    </tr>\n",
              "    <tr>\n",
              "      <th>2925</th>\n",
              "      <td>2926</td>\n",
              "      <td>923275080</td>\n",
              "      <td>80</td>\n",
              "      <td>RL</td>\n",
              "      <td>37.0</td>\n",
              "      <td>7937</td>\n",
              "      <td>Pave</td>\n",
              "      <td>NaN</td>\n",
              "      <td>IR1</td>\n",
              "      <td>Lvl</td>\n",
              "      <td>...</td>\n",
              "      <td>NaN</td>\n",
              "      <td>GdPrv</td>\n",
              "      <td>NaN</td>\n",
              "      <td>0</td>\n",
              "      <td>3</td>\n",
              "      <td>2006</td>\n",
              "      <td>WD</td>\n",
              "      <td>Normal</td>\n",
              "      <td>142500</td>\n",
              "      <td>1.0</td>\n",
              "    </tr>\n",
              "    <tr>\n",
              "      <th>2926</th>\n",
              "      <td>2927</td>\n",
              "      <td>923276100</td>\n",
              "      <td>20</td>\n",
              "      <td>RL</td>\n",
              "      <td>NaN</td>\n",
              "      <td>8885</td>\n",
              "      <td>Pave</td>\n",
              "      <td>NaN</td>\n",
              "      <td>IR1</td>\n",
              "      <td>Low</td>\n",
              "      <td>...</td>\n",
              "      <td>NaN</td>\n",
              "      <td>MnPrv</td>\n",
              "      <td>NaN</td>\n",
              "      <td>0</td>\n",
              "      <td>6</td>\n",
              "      <td>2006</td>\n",
              "      <td>WD</td>\n",
              "      <td>Normal</td>\n",
              "      <td>131000</td>\n",
              "      <td>1.0</td>\n",
              "    </tr>\n",
              "    <tr>\n",
              "      <th>2927</th>\n",
              "      <td>2928</td>\n",
              "      <td>923400125</td>\n",
              "      <td>85</td>\n",
              "      <td>RL</td>\n",
              "      <td>62.0</td>\n",
              "      <td>10441</td>\n",
              "      <td>Pave</td>\n",
              "      <td>NaN</td>\n",
              "      <td>Reg</td>\n",
              "      <td>Lvl</td>\n",
              "      <td>...</td>\n",
              "      <td>NaN</td>\n",
              "      <td>MnPrv</td>\n",
              "      <td>Shed</td>\n",
              "      <td>700</td>\n",
              "      <td>7</td>\n",
              "      <td>2006</td>\n",
              "      <td>WD</td>\n",
              "      <td>Normal</td>\n",
              "      <td>132000</td>\n",
              "      <td>1.0</td>\n",
              "    </tr>\n",
              "    <tr>\n",
              "      <th>2928</th>\n",
              "      <td>2929</td>\n",
              "      <td>924100070</td>\n",
              "      <td>20</td>\n",
              "      <td>RL</td>\n",
              "      <td>77.0</td>\n",
              "      <td>10010</td>\n",
              "      <td>Pave</td>\n",
              "      <td>NaN</td>\n",
              "      <td>Reg</td>\n",
              "      <td>Lvl</td>\n",
              "      <td>...</td>\n",
              "      <td>NaN</td>\n",
              "      <td>NaN</td>\n",
              "      <td>NaN</td>\n",
              "      <td>0</td>\n",
              "      <td>4</td>\n",
              "      <td>2006</td>\n",
              "      <td>WD</td>\n",
              "      <td>Normal</td>\n",
              "      <td>170000</td>\n",
              "      <td>1.0</td>\n",
              "    </tr>\n",
              "    <tr>\n",
              "      <th>2929</th>\n",
              "      <td>2930</td>\n",
              "      <td>924151050</td>\n",
              "      <td>60</td>\n",
              "      <td>RL</td>\n",
              "      <td>74.0</td>\n",
              "      <td>9627</td>\n",
              "      <td>Pave</td>\n",
              "      <td>NaN</td>\n",
              "      <td>Reg</td>\n",
              "      <td>Lvl</td>\n",
              "      <td>...</td>\n",
              "      <td>NaN</td>\n",
              "      <td>NaN</td>\n",
              "      <td>NaN</td>\n",
              "      <td>0</td>\n",
              "      <td>11</td>\n",
              "      <td>2006</td>\n",
              "      <td>WD</td>\n",
              "      <td>Normal</td>\n",
              "      <td>188000</td>\n",
              "      <td>2.5</td>\n",
              "    </tr>\n",
              "  </tbody>\n",
              "</table>\n",
              "<p>2930 rows × 83 columns</p>\n",
              "</div>"
            ],
            "text/plain": [
              "      Order        PID  MS SubClass MS Zoning  Lot Frontage  Lot Area Street   \n",
              "0         1  526301100           20        RL         141.0     31770   Pave  \\\n",
              "1         2  526350040           20        RH          80.0     11622   Pave   \n",
              "2         3  526351010           20        RL          81.0     14267   Pave   \n",
              "3         4  526353030           20        RL          93.0     11160   Pave   \n",
              "4         5  527105010           60        RL          74.0     13830   Pave   \n",
              "...     ...        ...          ...       ...           ...       ...    ...   \n",
              "2925   2926  923275080           80        RL          37.0      7937   Pave   \n",
              "2926   2927  923276100           20        RL           NaN      8885   Pave   \n",
              "2927   2928  923400125           85        RL          62.0     10441   Pave   \n",
              "2928   2929  924100070           20        RL          77.0     10010   Pave   \n",
              "2929   2930  924151050           60        RL          74.0      9627   Pave   \n",
              "\n",
              "     Alley Lot Shape Land Contour  ... Pool QC  Fence Misc Feature Misc Val   \n",
              "0      NaN       IR1          Lvl  ...     NaN    NaN          NaN        0  \\\n",
              "1      NaN       Reg          Lvl  ...     NaN  MnPrv          NaN        0   \n",
              "2      NaN       IR1          Lvl  ...     NaN    NaN         Gar2    12500   \n",
              "3      NaN       Reg          Lvl  ...     NaN    NaN          NaN        0   \n",
              "4      NaN       IR1          Lvl  ...     NaN  MnPrv          NaN        0   \n",
              "...    ...       ...          ...  ...     ...    ...          ...      ...   \n",
              "2925   NaN       IR1          Lvl  ...     NaN  GdPrv          NaN        0   \n",
              "2926   NaN       IR1          Low  ...     NaN  MnPrv          NaN        0   \n",
              "2927   NaN       Reg          Lvl  ...     NaN  MnPrv         Shed      700   \n",
              "2928   NaN       Reg          Lvl  ...     NaN    NaN          NaN        0   \n",
              "2929   NaN       Reg          Lvl  ...     NaN    NaN          NaN        0   \n",
              "\n",
              "     Mo Sold Yr Sold Sale Type Sale Condition  SalePrice  Bathrooms  \n",
              "0          5    2010       WD          Normal     215000        1.0  \n",
              "1          6    2010       WD          Normal     105000        1.0  \n",
              "2          6    2010       WD          Normal     172000        1.5  \n",
              "3          4    2010       WD          Normal     244000        2.5  \n",
              "4          3    2010       WD          Normal     189900        2.5  \n",
              "...      ...     ...       ...            ...        ...        ...  \n",
              "2925       3    2006       WD          Normal     142500        1.0  \n",
              "2926       6    2006       WD          Normal     131000        1.0  \n",
              "2927       7    2006       WD          Normal     132000        1.0  \n",
              "2928       4    2006       WD          Normal     170000        1.0  \n",
              "2929      11    2006       WD          Normal     188000        2.5  \n",
              "\n",
              "[2930 rows x 83 columns]"
            ]
          },
          "execution_count": 56,
          "metadata": {},
          "output_type": "execute_result"
        }
      ],
      "source": [
        "# ENTER YOUR CODE HERE. ADD AS MANY CELLS AS YOU WANT.\n",
        "df_housing = pd.read_csv(\"https://raw.githubusercontent.com/kevindavisross/data301/main/data/AmesHousing.txt\", sep=\"\\t\")\n",
        "df_housing[\"Bathrooms\"] = df_housing[\"Full Bath\"] + 0.5 * df_housing[\"Half Bath\"]\n",
        "\n",
        "df_housing"
      ]
    },
    {
      "cell_type": "code",
      "execution_count": 82,
      "metadata": {},
      "outputs": [
        {
          "data": {
            "text/plain": [
              "Index(['Order', 'PID', 'MS SubClass', 'MS Zoning', 'Lot Frontage', 'Lot Area',\n",
              "       'Street', 'Alley', 'Lot Shape', 'Land Contour', 'Utilities',\n",
              "       'Lot Config', 'Land Slope', 'Neighborhood', 'Condition 1',\n",
              "       'Condition 2', 'Bldg Type', 'House Style', 'Overall Qual',\n",
              "       'Overall Cond', 'Year Built', 'Year Remod/Add', 'Roof Style',\n",
              "       'Roof Matl', 'Exterior 1st', 'Exterior 2nd', 'Mas Vnr Type',\n",
              "       'Mas Vnr Area', 'Exter Qual', 'Exter Cond', 'Foundation', 'Bsmt Qual',\n",
              "       'Bsmt Cond', 'Bsmt Exposure', 'BsmtFin Type 1', 'BsmtFin SF 1',\n",
              "       'BsmtFin Type 2', 'BsmtFin SF 2', 'Bsmt Unf SF', 'Total Bsmt SF',\n",
              "       'Heating', 'Heating QC', 'Central Air', 'Electrical', '1st Flr SF',\n",
              "       '2nd Flr SF', 'Low Qual Fin SF', 'Gr Liv Area', 'Bsmt Full Bath',\n",
              "       'Bsmt Half Bath', 'Full Bath', 'Half Bath', 'Bedroom AbvGr',\n",
              "       'Kitchen AbvGr', 'Kitchen Qual', 'TotRms AbvGrd', 'Functional',\n",
              "       'Fireplaces', 'Fireplace Qu', 'Garage Type', 'Garage Yr Blt',\n",
              "       'Garage Finish', 'Garage Cars', 'Garage Area', 'Garage Qual',\n",
              "       'Garage Cond', 'Paved Drive', 'Wood Deck SF', 'Open Porch SF',\n",
              "       'Enclosed Porch', '3Ssn Porch', 'Screen Porch', 'Pool Area', 'Pool QC',\n",
              "       'Fence', 'Misc Feature', 'Misc Val', 'Mo Sold', 'Yr Sold', 'Sale Type',\n",
              "       'Sale Condition', 'SalePrice', 'Bathrooms'],\n",
              "      dtype='object')"
            ]
          },
          "execution_count": 82,
          "metadata": {},
          "output_type": "execute_result"
        }
      ],
      "source": [
        "df_housing.columns\n",
        "# Interested in: Bedroom AbvGr, Gr Liv Area, Lot Area, Bldg Type, House Style, Year Built, Garage Area, Bathrooms"
      ]
    },
    {
      "cell_type": "code",
      "execution_count": 99,
      "metadata": {},
      "outputs": [
        {
          "data": {
            "text/html": [
              "<div>\n",
              "<style scoped>\n",
              "    .dataframe tbody tr th:only-of-type {\n",
              "        vertical-align: middle;\n",
              "    }\n",
              "\n",
              "    .dataframe tbody tr th {\n",
              "        vertical-align: top;\n",
              "    }\n",
              "\n",
              "    .dataframe thead th {\n",
              "        text-align: right;\n",
              "    }\n",
              "</style>\n",
              "<table border=\"1\" class=\"dataframe\">\n",
              "  <thead>\n",
              "    <tr style=\"text-align: right;\">\n",
              "      <th></th>\n",
              "      <th>Bedroom AbvGr</th>\n",
              "      <th>Gr Liv Area</th>\n",
              "      <th>Lot Area</th>\n",
              "      <th>Bldg Type</th>\n",
              "      <th>House Style</th>\n",
              "      <th>Year Built</th>\n",
              "      <th>Garage Area</th>\n",
              "      <th>Bathrooms</th>\n",
              "    </tr>\n",
              "  </thead>\n",
              "  <tbody>\n",
              "    <tr>\n",
              "      <th>0</th>\n",
              "      <td>3</td>\n",
              "      <td>1656</td>\n",
              "      <td>31770</td>\n",
              "      <td>1Fam</td>\n",
              "      <td>1Story</td>\n",
              "      <td>1960</td>\n",
              "      <td>528.0</td>\n",
              "      <td>1.0</td>\n",
              "    </tr>\n",
              "    <tr>\n",
              "      <th>1</th>\n",
              "      <td>2</td>\n",
              "      <td>896</td>\n",
              "      <td>11622</td>\n",
              "      <td>1Fam</td>\n",
              "      <td>1Story</td>\n",
              "      <td>1961</td>\n",
              "      <td>730.0</td>\n",
              "      <td>1.0</td>\n",
              "    </tr>\n",
              "    <tr>\n",
              "      <th>2</th>\n",
              "      <td>3</td>\n",
              "      <td>1329</td>\n",
              "      <td>14267</td>\n",
              "      <td>1Fam</td>\n",
              "      <td>1Story</td>\n",
              "      <td>1958</td>\n",
              "      <td>312.0</td>\n",
              "      <td>1.5</td>\n",
              "    </tr>\n",
              "    <tr>\n",
              "      <th>3</th>\n",
              "      <td>3</td>\n",
              "      <td>2110</td>\n",
              "      <td>11160</td>\n",
              "      <td>1Fam</td>\n",
              "      <td>1Story</td>\n",
              "      <td>1968</td>\n",
              "      <td>522.0</td>\n",
              "      <td>2.5</td>\n",
              "    </tr>\n",
              "    <tr>\n",
              "      <th>4</th>\n",
              "      <td>3</td>\n",
              "      <td>1629</td>\n",
              "      <td>13830</td>\n",
              "      <td>1Fam</td>\n",
              "      <td>2Story</td>\n",
              "      <td>1997</td>\n",
              "      <td>482.0</td>\n",
              "      <td>2.5</td>\n",
              "    </tr>\n",
              "    <tr>\n",
              "      <th>...</th>\n",
              "      <td>...</td>\n",
              "      <td>...</td>\n",
              "      <td>...</td>\n",
              "      <td>...</td>\n",
              "      <td>...</td>\n",
              "      <td>...</td>\n",
              "      <td>...</td>\n",
              "      <td>...</td>\n",
              "    </tr>\n",
              "    <tr>\n",
              "      <th>2925</th>\n",
              "      <td>3</td>\n",
              "      <td>1003</td>\n",
              "      <td>7937</td>\n",
              "      <td>1Fam</td>\n",
              "      <td>SLvl</td>\n",
              "      <td>1984</td>\n",
              "      <td>588.0</td>\n",
              "      <td>1.0</td>\n",
              "    </tr>\n",
              "    <tr>\n",
              "      <th>2926</th>\n",
              "      <td>2</td>\n",
              "      <td>902</td>\n",
              "      <td>8885</td>\n",
              "      <td>1Fam</td>\n",
              "      <td>1Story</td>\n",
              "      <td>1983</td>\n",
              "      <td>484.0</td>\n",
              "      <td>1.0</td>\n",
              "    </tr>\n",
              "    <tr>\n",
              "      <th>2927</th>\n",
              "      <td>3</td>\n",
              "      <td>970</td>\n",
              "      <td>10441</td>\n",
              "      <td>1Fam</td>\n",
              "      <td>SFoyer</td>\n",
              "      <td>1992</td>\n",
              "      <td>0.0</td>\n",
              "      <td>1.0</td>\n",
              "    </tr>\n",
              "    <tr>\n",
              "      <th>2928</th>\n",
              "      <td>2</td>\n",
              "      <td>1389</td>\n",
              "      <td>10010</td>\n",
              "      <td>1Fam</td>\n",
              "      <td>1Story</td>\n",
              "      <td>1974</td>\n",
              "      <td>418.0</td>\n",
              "      <td>1.0</td>\n",
              "    </tr>\n",
              "    <tr>\n",
              "      <th>2929</th>\n",
              "      <td>3</td>\n",
              "      <td>2000</td>\n",
              "      <td>9627</td>\n",
              "      <td>1Fam</td>\n",
              "      <td>2Story</td>\n",
              "      <td>1993</td>\n",
              "      <td>650.0</td>\n",
              "      <td>2.5</td>\n",
              "    </tr>\n",
              "  </tbody>\n",
              "</table>\n",
              "<p>2930 rows × 8 columns</p>\n",
              "</div>"
            ],
            "text/plain": [
              "      Bedroom AbvGr  Gr Liv Area  Lot Area Bldg Type House Style  Year Built   \n",
              "0                 3         1656     31770      1Fam      1Story        1960  \\\n",
              "1                 2          896     11622      1Fam      1Story        1961   \n",
              "2                 3         1329     14267      1Fam      1Story        1958   \n",
              "3                 3         2110     11160      1Fam      1Story        1968   \n",
              "4                 3         1629     13830      1Fam      2Story        1997   \n",
              "...             ...          ...       ...       ...         ...         ...   \n",
              "2925              3         1003      7937      1Fam        SLvl        1984   \n",
              "2926              2          902      8885      1Fam      1Story        1983   \n",
              "2927              3          970     10441      1Fam      SFoyer        1992   \n",
              "2928              2         1389     10010      1Fam      1Story        1974   \n",
              "2929              3         2000      9627      1Fam      2Story        1993   \n",
              "\n",
              "      Garage Area  Bathrooms  \n",
              "0           528.0        1.0  \n",
              "1           730.0        1.0  \n",
              "2           312.0        1.5  \n",
              "3           522.0        2.5  \n",
              "4           482.0        2.5  \n",
              "...           ...        ...  \n",
              "2925        588.0        1.0  \n",
              "2926        484.0        1.0  \n",
              "2927          0.0        1.0  \n",
              "2928        418.0        1.0  \n",
              "2929        650.0        2.5  \n",
              "\n",
              "[2930 rows x 8 columns]"
            ]
          },
          "execution_count": 99,
          "metadata": {},
          "output_type": "execute_result"
        }
      ],
      "source": [
        "df_housing_subset = df_housing[[\"Bedroom AbvGr\", \"Gr Liv Area\", \"Lot Area\", \"Bldg Type\", \"House Style\", \"Year Built\", \"Garage Area\", \"Bathrooms\"]]\n",
        "\n",
        "df_housing_subset"
      ]
    },
    {
      "cell_type": "code",
      "execution_count": 100,
      "metadata": {},
      "outputs": [
        {
          "data": {
            "text/plain": [
              "Bedroom AbvGr    0\n",
              "Gr Liv Area      0\n",
              "Lot Area         0\n",
              "Bldg Type        0\n",
              "House Style      0\n",
              "Year Built       0\n",
              "Garage Area      1\n",
              "Bathrooms        0\n",
              "dtype: int64"
            ]
          },
          "execution_count": 100,
          "metadata": {},
          "output_type": "execute_result"
        }
      ],
      "source": [
        "# find any missing values\n",
        "df_housing_subset.isnull().sum()"
      ]
    },
    {
      "cell_type": "code",
      "execution_count": 101,
      "metadata": {},
      "outputs": [
        {
          "data": {
            "text/plain": [
              "Bedroom AbvGr    0\n",
              "Gr Liv Area      0\n",
              "Lot Area         0\n",
              "Bldg Type        0\n",
              "House Style      0\n",
              "Year Built       0\n",
              "Garage Area      0\n",
              "Bathrooms        0\n",
              "dtype: int64"
            ]
          },
          "execution_count": 101,
          "metadata": {},
          "output_type": "execute_result"
        }
      ],
      "source": [
        "df_housing_subset[df_housing_subset[\"Garage Area\"].isnull()]\n",
        "df_housing_subset.loc[df_housing_subset[\"Garage Area\"].isnull(), \"Garage Area\"] = 0\n",
        "\n",
        "df_housing_subset.isnull().sum()"
      ]
    },
    {
      "cell_type": "code",
      "execution_count": 102,
      "metadata": {},
      "outputs": [
        {
          "data": {
            "text/html": [
              "<div>\n",
              "<style scoped>\n",
              "    .dataframe tbody tr th:only-of-type {\n",
              "        vertical-align: middle;\n",
              "    }\n",
              "\n",
              "    .dataframe tbody tr th {\n",
              "        vertical-align: top;\n",
              "    }\n",
              "\n",
              "    .dataframe thead th {\n",
              "        text-align: right;\n",
              "    }\n",
              "</style>\n",
              "<table border=\"1\" class=\"dataframe\">\n",
              "  <thead>\n",
              "    <tr style=\"text-align: right;\">\n",
              "      <th></th>\n",
              "      <th>Bedroom AbvGr</th>\n",
              "      <th>Gr Liv Area</th>\n",
              "      <th>Lot Area</th>\n",
              "      <th>Year Built</th>\n",
              "      <th>Garage Area</th>\n",
              "      <th>Bathrooms</th>\n",
              "      <th>Bldg Type_1Fam</th>\n",
              "      <th>Bldg Type_2fmCon</th>\n",
              "      <th>Bldg Type_Duplex</th>\n",
              "      <th>Bldg Type_Twnhs</th>\n",
              "      <th>Bldg Type_TwnhsE</th>\n",
              "      <th>House Style_1.5Fin</th>\n",
              "      <th>House Style_1.5Unf</th>\n",
              "      <th>House Style_1Story</th>\n",
              "      <th>House Style_2.5Fin</th>\n",
              "      <th>House Style_2.5Unf</th>\n",
              "      <th>House Style_2Story</th>\n",
              "      <th>House Style_SFoyer</th>\n",
              "      <th>House Style_SLvl</th>\n",
              "    </tr>\n",
              "  </thead>\n",
              "  <tbody>\n",
              "    <tr>\n",
              "      <th>0</th>\n",
              "      <td>3</td>\n",
              "      <td>1656</td>\n",
              "      <td>31770</td>\n",
              "      <td>1960</td>\n",
              "      <td>528.0</td>\n",
              "      <td>1.0</td>\n",
              "      <td>True</td>\n",
              "      <td>False</td>\n",
              "      <td>False</td>\n",
              "      <td>False</td>\n",
              "      <td>False</td>\n",
              "      <td>False</td>\n",
              "      <td>False</td>\n",
              "      <td>True</td>\n",
              "      <td>False</td>\n",
              "      <td>False</td>\n",
              "      <td>False</td>\n",
              "      <td>False</td>\n",
              "      <td>False</td>\n",
              "    </tr>\n",
              "    <tr>\n",
              "      <th>1</th>\n",
              "      <td>2</td>\n",
              "      <td>896</td>\n",
              "      <td>11622</td>\n",
              "      <td>1961</td>\n",
              "      <td>730.0</td>\n",
              "      <td>1.0</td>\n",
              "      <td>True</td>\n",
              "      <td>False</td>\n",
              "      <td>False</td>\n",
              "      <td>False</td>\n",
              "      <td>False</td>\n",
              "      <td>False</td>\n",
              "      <td>False</td>\n",
              "      <td>True</td>\n",
              "      <td>False</td>\n",
              "      <td>False</td>\n",
              "      <td>False</td>\n",
              "      <td>False</td>\n",
              "      <td>False</td>\n",
              "    </tr>\n",
              "    <tr>\n",
              "      <th>2</th>\n",
              "      <td>3</td>\n",
              "      <td>1329</td>\n",
              "      <td>14267</td>\n",
              "      <td>1958</td>\n",
              "      <td>312.0</td>\n",
              "      <td>1.5</td>\n",
              "      <td>True</td>\n",
              "      <td>False</td>\n",
              "      <td>False</td>\n",
              "      <td>False</td>\n",
              "      <td>False</td>\n",
              "      <td>False</td>\n",
              "      <td>False</td>\n",
              "      <td>True</td>\n",
              "      <td>False</td>\n",
              "      <td>False</td>\n",
              "      <td>False</td>\n",
              "      <td>False</td>\n",
              "      <td>False</td>\n",
              "    </tr>\n",
              "    <tr>\n",
              "      <th>3</th>\n",
              "      <td>3</td>\n",
              "      <td>2110</td>\n",
              "      <td>11160</td>\n",
              "      <td>1968</td>\n",
              "      <td>522.0</td>\n",
              "      <td>2.5</td>\n",
              "      <td>True</td>\n",
              "      <td>False</td>\n",
              "      <td>False</td>\n",
              "      <td>False</td>\n",
              "      <td>False</td>\n",
              "      <td>False</td>\n",
              "      <td>False</td>\n",
              "      <td>True</td>\n",
              "      <td>False</td>\n",
              "      <td>False</td>\n",
              "      <td>False</td>\n",
              "      <td>False</td>\n",
              "      <td>False</td>\n",
              "    </tr>\n",
              "    <tr>\n",
              "      <th>4</th>\n",
              "      <td>3</td>\n",
              "      <td>1629</td>\n",
              "      <td>13830</td>\n",
              "      <td>1997</td>\n",
              "      <td>482.0</td>\n",
              "      <td>2.5</td>\n",
              "      <td>True</td>\n",
              "      <td>False</td>\n",
              "      <td>False</td>\n",
              "      <td>False</td>\n",
              "      <td>False</td>\n",
              "      <td>False</td>\n",
              "      <td>False</td>\n",
              "      <td>False</td>\n",
              "      <td>False</td>\n",
              "      <td>False</td>\n",
              "      <td>True</td>\n",
              "      <td>False</td>\n",
              "      <td>False</td>\n",
              "    </tr>\n",
              "    <tr>\n",
              "      <th>...</th>\n",
              "      <td>...</td>\n",
              "      <td>...</td>\n",
              "      <td>...</td>\n",
              "      <td>...</td>\n",
              "      <td>...</td>\n",
              "      <td>...</td>\n",
              "      <td>...</td>\n",
              "      <td>...</td>\n",
              "      <td>...</td>\n",
              "      <td>...</td>\n",
              "      <td>...</td>\n",
              "      <td>...</td>\n",
              "      <td>...</td>\n",
              "      <td>...</td>\n",
              "      <td>...</td>\n",
              "      <td>...</td>\n",
              "      <td>...</td>\n",
              "      <td>...</td>\n",
              "      <td>...</td>\n",
              "    </tr>\n",
              "    <tr>\n",
              "      <th>2925</th>\n",
              "      <td>3</td>\n",
              "      <td>1003</td>\n",
              "      <td>7937</td>\n",
              "      <td>1984</td>\n",
              "      <td>588.0</td>\n",
              "      <td>1.0</td>\n",
              "      <td>True</td>\n",
              "      <td>False</td>\n",
              "      <td>False</td>\n",
              "      <td>False</td>\n",
              "      <td>False</td>\n",
              "      <td>False</td>\n",
              "      <td>False</td>\n",
              "      <td>False</td>\n",
              "      <td>False</td>\n",
              "      <td>False</td>\n",
              "      <td>False</td>\n",
              "      <td>False</td>\n",
              "      <td>True</td>\n",
              "    </tr>\n",
              "    <tr>\n",
              "      <th>2926</th>\n",
              "      <td>2</td>\n",
              "      <td>902</td>\n",
              "      <td>8885</td>\n",
              "      <td>1983</td>\n",
              "      <td>484.0</td>\n",
              "      <td>1.0</td>\n",
              "      <td>True</td>\n",
              "      <td>False</td>\n",
              "      <td>False</td>\n",
              "      <td>False</td>\n",
              "      <td>False</td>\n",
              "      <td>False</td>\n",
              "      <td>False</td>\n",
              "      <td>True</td>\n",
              "      <td>False</td>\n",
              "      <td>False</td>\n",
              "      <td>False</td>\n",
              "      <td>False</td>\n",
              "      <td>False</td>\n",
              "    </tr>\n",
              "    <tr>\n",
              "      <th>2927</th>\n",
              "      <td>3</td>\n",
              "      <td>970</td>\n",
              "      <td>10441</td>\n",
              "      <td>1992</td>\n",
              "      <td>0.0</td>\n",
              "      <td>1.0</td>\n",
              "      <td>True</td>\n",
              "      <td>False</td>\n",
              "      <td>False</td>\n",
              "      <td>False</td>\n",
              "      <td>False</td>\n",
              "      <td>False</td>\n",
              "      <td>False</td>\n",
              "      <td>False</td>\n",
              "      <td>False</td>\n",
              "      <td>False</td>\n",
              "      <td>False</td>\n",
              "      <td>True</td>\n",
              "      <td>False</td>\n",
              "    </tr>\n",
              "    <tr>\n",
              "      <th>2928</th>\n",
              "      <td>2</td>\n",
              "      <td>1389</td>\n",
              "      <td>10010</td>\n",
              "      <td>1974</td>\n",
              "      <td>418.0</td>\n",
              "      <td>1.0</td>\n",
              "      <td>True</td>\n",
              "      <td>False</td>\n",
              "      <td>False</td>\n",
              "      <td>False</td>\n",
              "      <td>False</td>\n",
              "      <td>False</td>\n",
              "      <td>False</td>\n",
              "      <td>True</td>\n",
              "      <td>False</td>\n",
              "      <td>False</td>\n",
              "      <td>False</td>\n",
              "      <td>False</td>\n",
              "      <td>False</td>\n",
              "    </tr>\n",
              "    <tr>\n",
              "      <th>2929</th>\n",
              "      <td>3</td>\n",
              "      <td>2000</td>\n",
              "      <td>9627</td>\n",
              "      <td>1993</td>\n",
              "      <td>650.0</td>\n",
              "      <td>2.5</td>\n",
              "      <td>True</td>\n",
              "      <td>False</td>\n",
              "      <td>False</td>\n",
              "      <td>False</td>\n",
              "      <td>False</td>\n",
              "      <td>False</td>\n",
              "      <td>False</td>\n",
              "      <td>False</td>\n",
              "      <td>False</td>\n",
              "      <td>False</td>\n",
              "      <td>True</td>\n",
              "      <td>False</td>\n",
              "      <td>False</td>\n",
              "    </tr>\n",
              "  </tbody>\n",
              "</table>\n",
              "<p>2930 rows × 19 columns</p>\n",
              "</div>"
            ],
            "text/plain": [
              "      Bedroom AbvGr  Gr Liv Area  Lot Area  Year Built  Garage Area   \n",
              "0                 3         1656     31770        1960        528.0  \\\n",
              "1                 2          896     11622        1961        730.0   \n",
              "2                 3         1329     14267        1958        312.0   \n",
              "3                 3         2110     11160        1968        522.0   \n",
              "4                 3         1629     13830        1997        482.0   \n",
              "...             ...          ...       ...         ...          ...   \n",
              "2925              3         1003      7937        1984        588.0   \n",
              "2926              2          902      8885        1983        484.0   \n",
              "2927              3          970     10441        1992          0.0   \n",
              "2928              2         1389     10010        1974        418.0   \n",
              "2929              3         2000      9627        1993        650.0   \n",
              "\n",
              "      Bathrooms  Bldg Type_1Fam  Bldg Type_2fmCon  Bldg Type_Duplex   \n",
              "0           1.0            True             False             False  \\\n",
              "1           1.0            True             False             False   \n",
              "2           1.5            True             False             False   \n",
              "3           2.5            True             False             False   \n",
              "4           2.5            True             False             False   \n",
              "...         ...             ...               ...               ...   \n",
              "2925        1.0            True             False             False   \n",
              "2926        1.0            True             False             False   \n",
              "2927        1.0            True             False             False   \n",
              "2928        1.0            True             False             False   \n",
              "2929        2.5            True             False             False   \n",
              "\n",
              "      Bldg Type_Twnhs  Bldg Type_TwnhsE  House Style_1.5Fin   \n",
              "0               False             False               False  \\\n",
              "1               False             False               False   \n",
              "2               False             False               False   \n",
              "3               False             False               False   \n",
              "4               False             False               False   \n",
              "...               ...               ...                 ...   \n",
              "2925            False             False               False   \n",
              "2926            False             False               False   \n",
              "2927            False             False               False   \n",
              "2928            False             False               False   \n",
              "2929            False             False               False   \n",
              "\n",
              "      House Style_1.5Unf  House Style_1Story  House Style_2.5Fin   \n",
              "0                  False                True               False  \\\n",
              "1                  False                True               False   \n",
              "2                  False                True               False   \n",
              "3                  False                True               False   \n",
              "4                  False               False               False   \n",
              "...                  ...                 ...                 ...   \n",
              "2925               False               False               False   \n",
              "2926               False                True               False   \n",
              "2927               False               False               False   \n",
              "2928               False                True               False   \n",
              "2929               False               False               False   \n",
              "\n",
              "      House Style_2.5Unf  House Style_2Story  House Style_SFoyer   \n",
              "0                  False               False               False  \\\n",
              "1                  False               False               False   \n",
              "2                  False               False               False   \n",
              "3                  False               False               False   \n",
              "4                  False                True               False   \n",
              "...                  ...                 ...                 ...   \n",
              "2925               False               False               False   \n",
              "2926               False               False               False   \n",
              "2927               False               False                True   \n",
              "2928               False               False               False   \n",
              "2929               False                True               False   \n",
              "\n",
              "      House Style_SLvl  \n",
              "0                False  \n",
              "1                False  \n",
              "2                False  \n",
              "3                False  \n",
              "4                False  \n",
              "...                ...  \n",
              "2925              True  \n",
              "2926             False  \n",
              "2927             False  \n",
              "2928             False  \n",
              "2929             False  \n",
              "\n",
              "[2930 rows x 19 columns]"
            ]
          },
          "execution_count": 102,
          "metadata": {},
          "output_type": "execute_result"
        }
      ],
      "source": [
        "df_housing_dummies = pd.get_dummies(df_housing_subset, columns=[\"Bldg Type\", \"House Style\"])\n",
        "df_housing_dummies"
      ]
    },
    {
      "cell_type": "code",
      "execution_count": 103,
      "metadata": {},
      "outputs": [
        {
          "data": {
            "text/plain": [
              "array([[ 0.17609421,  0.30926506,  2.74438073, ..., -0.65146333,\n",
              "        -0.17074395, -0.21373267],\n",
              "       [-1.03223376, -1.19442705,  0.18709726, ..., -0.65146333,\n",
              "        -0.17074395, -0.21373267],\n",
              "       [ 0.17609421, -0.33771825,  0.5228137 , ..., -0.65146333,\n",
              "        -0.17074395, -0.21373267],\n",
              "       ...,\n",
              "       [ 0.17609421, -1.04801492,  0.03719892, ..., -0.65146333,\n",
              "         5.85672304, -0.21373267],\n",
              "       [-1.03223376, -0.21900572, -0.01750572, ..., -0.65146333,\n",
              "        -0.17074395, -0.21373267],\n",
              "       [ 0.17609421,  0.9898836 , -0.06611797, ...,  1.53500581,\n",
              "        -0.17074395, -0.21373267]])"
            ]
          },
          "execution_count": 103,
          "metadata": {},
          "output_type": "execute_result"
        }
      ],
      "source": [
        "from sklearn.preprocessing import StandardScaler\n",
        "\n",
        "scaler = StandardScaler()\n",
        "scaler.fit(df_housing_dummies)\n",
        "df_housing_scaled = scaler.transform(df_housing_dummies)\n",
        "\n",
        "df_housing_scaled\n"
      ]
    },
    {
      "cell_type": "code",
      "execution_count": 104,
      "metadata": {},
      "outputs": [
        {
          "data": {
            "text/plain": [
              "array([[0.        ],\n",
              "       [3.33817768],\n",
              "       [2.6403318 ],\n",
              "       ...,\n",
              "       [7.52623689],\n",
              "       [3.13733521],\n",
              "       [4.90935057]])"
            ]
          },
          "execution_count": 104,
          "metadata": {},
          "output_type": "execute_result"
        }
      ],
      "source": [
        "from sklearn.metrics.pairwise import euclidean_distances\n",
        "\n",
        "eu_dist = euclidean_distances(df_housing_scaled, df_housing_scaled[0, :].reshape(1, -1))\n",
        "eu_dist"
      ]
    },
    {
      "cell_type": "code",
      "execution_count": 111,
      "metadata": {},
      "outputs": [
        {
          "data": {
            "text/html": [
              "<div>\n",
              "<style scoped>\n",
              "    .dataframe tbody tr th:only-of-type {\n",
              "        vertical-align: middle;\n",
              "    }\n",
              "\n",
              "    .dataframe tbody tr th {\n",
              "        vertical-align: top;\n",
              "    }\n",
              "\n",
              "    .dataframe thead th {\n",
              "        text-align: right;\n",
              "    }\n",
              "</style>\n",
              "<table border=\"1\" class=\"dataframe\">\n",
              "  <thead>\n",
              "    <tr style=\"text-align: right;\">\n",
              "      <th></th>\n",
              "      <th>Order</th>\n",
              "      <th>PID</th>\n",
              "      <th>MS SubClass</th>\n",
              "      <th>MS Zoning</th>\n",
              "      <th>Lot Frontage</th>\n",
              "      <th>Lot Area</th>\n",
              "      <th>Street</th>\n",
              "      <th>Alley</th>\n",
              "      <th>Lot Shape</th>\n",
              "      <th>Land Contour</th>\n",
              "      <th>...</th>\n",
              "      <th>Fence</th>\n",
              "      <th>Misc Feature</th>\n",
              "      <th>Misc Val</th>\n",
              "      <th>Mo Sold</th>\n",
              "      <th>Yr Sold</th>\n",
              "      <th>Sale Type</th>\n",
              "      <th>Sale Condition</th>\n",
              "      <th>SalePrice</th>\n",
              "      <th>Bathrooms</th>\n",
              "      <th>eu_distances</th>\n",
              "    </tr>\n",
              "  </thead>\n",
              "  <tbody>\n",
              "    <tr>\n",
              "      <th>2298</th>\n",
              "      <td>2299</td>\n",
              "      <td>923251160</td>\n",
              "      <td>20</td>\n",
              "      <td>RL</td>\n",
              "      <td>124.0</td>\n",
              "      <td>27697</td>\n",
              "      <td>Pave</td>\n",
              "      <td>NaN</td>\n",
              "      <td>Reg</td>\n",
              "      <td>Lvl</td>\n",
              "      <td>...</td>\n",
              "      <td>NaN</td>\n",
              "      <td>NaN</td>\n",
              "      <td>0</td>\n",
              "      <td>11</td>\n",
              "      <td>2007</td>\n",
              "      <td>COD</td>\n",
              "      <td>Abnorml</td>\n",
              "      <td>80000</td>\n",
              "      <td>1.0</td>\n",
              "      <td>0.655589</td>\n",
              "    </tr>\n",
              "    <tr>\n",
              "      <th>2903</th>\n",
              "      <td>2904</td>\n",
              "      <td>923125030</td>\n",
              "      <td>20</td>\n",
              "      <td>A (agr)</td>\n",
              "      <td>125.0</td>\n",
              "      <td>31250</td>\n",
              "      <td>Pave</td>\n",
              "      <td>NaN</td>\n",
              "      <td>Reg</td>\n",
              "      <td>Lvl</td>\n",
              "      <td>...</td>\n",
              "      <td>NaN</td>\n",
              "      <td>NaN</td>\n",
              "      <td>0</td>\n",
              "      <td>5</td>\n",
              "      <td>2006</td>\n",
              "      <td>WD</td>\n",
              "      <td>Normal</td>\n",
              "      <td>81500</td>\n",
              "      <td>1.5</td>\n",
              "      <td>1.465712</td>\n",
              "    </tr>\n",
              "    <tr>\n",
              "      <th>1013</th>\n",
              "      <td>1014</td>\n",
              "      <td>527226020</td>\n",
              "      <td>20</td>\n",
              "      <td>RL</td>\n",
              "      <td>NaN</td>\n",
              "      <td>31220</td>\n",
              "      <td>Pave</td>\n",
              "      <td>NaN</td>\n",
              "      <td>IR1</td>\n",
              "      <td>Bnk</td>\n",
              "      <td>...</td>\n",
              "      <td>NaN</td>\n",
              "      <td>Shed</td>\n",
              "      <td>750</td>\n",
              "      <td>5</td>\n",
              "      <td>2008</td>\n",
              "      <td>WD</td>\n",
              "      <td>Normal</td>\n",
              "      <td>115000</td>\n",
              "      <td>1.0</td>\n",
              "      <td>0.477549</td>\n",
              "    </tr>\n",
              "    <tr>\n",
              "      <th>970</th>\n",
              "      <td>971</td>\n",
              "      <td>923202060</td>\n",
              "      <td>20</td>\n",
              "      <td>RL</td>\n",
              "      <td>100.0</td>\n",
              "      <td>21750</td>\n",
              "      <td>Pave</td>\n",
              "      <td>NaN</td>\n",
              "      <td>Reg</td>\n",
              "      <td>Lvl</td>\n",
              "      <td>...</td>\n",
              "      <td>GdPrv</td>\n",
              "      <td>NaN</td>\n",
              "      <td>0</td>\n",
              "      <td>11</td>\n",
              "      <td>2009</td>\n",
              "      <td>WD</td>\n",
              "      <td>Normal</td>\n",
              "      <td>115000</td>\n",
              "      <td>1.0</td>\n",
              "      <td>1.570220</td>\n",
              "    </tr>\n",
              "    <tr>\n",
              "      <th>2700</th>\n",
              "      <td>2701</td>\n",
              "      <td>904100170</td>\n",
              "      <td>20</td>\n",
              "      <td>RL</td>\n",
              "      <td>100.0</td>\n",
              "      <td>21370</td>\n",
              "      <td>Pave</td>\n",
              "      <td>NaN</td>\n",
              "      <td>Reg</td>\n",
              "      <td>Lvl</td>\n",
              "      <td>...</td>\n",
              "      <td>NaN</td>\n",
              "      <td>Shed</td>\n",
              "      <td>600</td>\n",
              "      <td>6</td>\n",
              "      <td>2006</td>\n",
              "      <td>WD</td>\n",
              "      <td>Normal</td>\n",
              "      <td>131000</td>\n",
              "      <td>1.0</td>\n",
              "      <td>1.496900</td>\n",
              "    </tr>\n",
              "    <tr>\n",
              "      <th>334</th>\n",
              "      <td>335</td>\n",
              "      <td>923251080</td>\n",
              "      <td>20</td>\n",
              "      <td>RL</td>\n",
              "      <td>NaN</td>\n",
              "      <td>26142</td>\n",
              "      <td>Pave</td>\n",
              "      <td>NaN</td>\n",
              "      <td>IR1</td>\n",
              "      <td>Lvl</td>\n",
              "      <td>...</td>\n",
              "      <td>NaN</td>\n",
              "      <td>NaN</td>\n",
              "      <td>0</td>\n",
              "      <td>4</td>\n",
              "      <td>2010</td>\n",
              "      <td>WD</td>\n",
              "      <td>Normal</td>\n",
              "      <td>157900</td>\n",
              "      <td>1.0</td>\n",
              "      <td>1.542711</td>\n",
              "    </tr>\n",
              "    <tr>\n",
              "      <th>2294</th>\n",
              "      <td>2295</td>\n",
              "      <td>923229140</td>\n",
              "      <td>20</td>\n",
              "      <td>RL</td>\n",
              "      <td>61.0</td>\n",
              "      <td>33983</td>\n",
              "      <td>Pave</td>\n",
              "      <td>NaN</td>\n",
              "      <td>IR1</td>\n",
              "      <td>Lvl</td>\n",
              "      <td>...</td>\n",
              "      <td>GdPrv</td>\n",
              "      <td>NaN</td>\n",
              "      <td>0</td>\n",
              "      <td>5</td>\n",
              "      <td>2007</td>\n",
              "      <td>WD</td>\n",
              "      <td>Normal</td>\n",
              "      <td>196000</td>\n",
              "      <td>1.5</td>\n",
              "      <td>1.203981</td>\n",
              "    </tr>\n",
              "    <tr>\n",
              "      <th>1895</th>\n",
              "      <td>1896</td>\n",
              "      <td>534425015</td>\n",
              "      <td>20</td>\n",
              "      <td>RL</td>\n",
              "      <td>NaN</td>\n",
              "      <td>22002</td>\n",
              "      <td>Pave</td>\n",
              "      <td>NaN</td>\n",
              "      <td>Reg</td>\n",
              "      <td>Lvl</td>\n",
              "      <td>...</td>\n",
              "      <td>NaN</td>\n",
              "      <td>NaN</td>\n",
              "      <td>0</td>\n",
              "      <td>7</td>\n",
              "      <td>2007</td>\n",
              "      <td>WD</td>\n",
              "      <td>Normal</td>\n",
              "      <td>200000</td>\n",
              "      <td>1.5</td>\n",
              "      <td>1.466419</td>\n",
              "    </tr>\n",
              "    <tr>\n",
              "      <th>2223</th>\n",
              "      <td>2224</td>\n",
              "      <td>909428180</td>\n",
              "      <td>20</td>\n",
              "      <td>RL</td>\n",
              "      <td>NaN</td>\n",
              "      <td>25485</td>\n",
              "      <td>Pave</td>\n",
              "      <td>NaN</td>\n",
              "      <td>IR1</td>\n",
              "      <td>Lvl</td>\n",
              "      <td>...</td>\n",
              "      <td>NaN</td>\n",
              "      <td>NaN</td>\n",
              "      <td>0</td>\n",
              "      <td>5</td>\n",
              "      <td>2007</td>\n",
              "      <td>WD</td>\n",
              "      <td>Normal</td>\n",
              "      <td>201000</td>\n",
              "      <td>1.5</td>\n",
              "      <td>1.155843</td>\n",
              "    </tr>\n",
              "    <tr>\n",
              "      <th>0</th>\n",
              "      <td>1</td>\n",
              "      <td>526301100</td>\n",
              "      <td>20</td>\n",
              "      <td>RL</td>\n",
              "      <td>141.0</td>\n",
              "      <td>31770</td>\n",
              "      <td>Pave</td>\n",
              "      <td>NaN</td>\n",
              "      <td>IR1</td>\n",
              "      <td>Lvl</td>\n",
              "      <td>...</td>\n",
              "      <td>NaN</td>\n",
              "      <td>NaN</td>\n",
              "      <td>0</td>\n",
              "      <td>5</td>\n",
              "      <td>2010</td>\n",
              "      <td>WD</td>\n",
              "      <td>Normal</td>\n",
              "      <td>215000</td>\n",
              "      <td>1.0</td>\n",
              "      <td>0.000000</td>\n",
              "    </tr>\n",
              "  </tbody>\n",
              "</table>\n",
              "<p>10 rows × 84 columns</p>\n",
              "</div>"
            ],
            "text/plain": [
              "      Order        PID  MS SubClass MS Zoning  Lot Frontage  Lot Area Street   \n",
              "2298   2299  923251160           20        RL         124.0     27697   Pave  \\\n",
              "2903   2904  923125030           20   A (agr)         125.0     31250   Pave   \n",
              "1013   1014  527226020           20        RL           NaN     31220   Pave   \n",
              "970     971  923202060           20        RL         100.0     21750   Pave   \n",
              "2700   2701  904100170           20        RL         100.0     21370   Pave   \n",
              "334     335  923251080           20        RL           NaN     26142   Pave   \n",
              "2294   2295  923229140           20        RL          61.0     33983   Pave   \n",
              "1895   1896  534425015           20        RL           NaN     22002   Pave   \n",
              "2223   2224  909428180           20        RL           NaN     25485   Pave   \n",
              "0         1  526301100           20        RL         141.0     31770   Pave   \n",
              "\n",
              "     Alley Lot Shape Land Contour  ...  Fence Misc Feature Misc Val Mo Sold   \n",
              "2298   NaN       Reg          Lvl  ...    NaN          NaN        0      11  \\\n",
              "2903   NaN       Reg          Lvl  ...    NaN          NaN        0       5   \n",
              "1013   NaN       IR1          Bnk  ...    NaN         Shed      750       5   \n",
              "970    NaN       Reg          Lvl  ...  GdPrv          NaN        0      11   \n",
              "2700   NaN       Reg          Lvl  ...    NaN         Shed      600       6   \n",
              "334    NaN       IR1          Lvl  ...    NaN          NaN        0       4   \n",
              "2294   NaN       IR1          Lvl  ...  GdPrv          NaN        0       5   \n",
              "1895   NaN       Reg          Lvl  ...    NaN          NaN        0       7   \n",
              "2223   NaN       IR1          Lvl  ...    NaN          NaN        0       5   \n",
              "0      NaN       IR1          Lvl  ...    NaN          NaN        0       5   \n",
              "\n",
              "     Yr Sold Sale Type Sale Condition SalePrice  Bathrooms  eu_distances  \n",
              "2298    2007       COD        Abnorml     80000        1.0      0.655589  \n",
              "2903    2006       WD          Normal     81500        1.5      1.465712  \n",
              "1013    2008       WD          Normal    115000        1.0      0.477549  \n",
              "970     2009       WD          Normal    115000        1.0      1.570220  \n",
              "2700    2006       WD          Normal    131000        1.0      1.496900  \n",
              "334     2010       WD          Normal    157900        1.0      1.542711  \n",
              "2294    2007       WD          Normal    196000        1.5      1.203981  \n",
              "1895    2007       WD          Normal    200000        1.5      1.466419  \n",
              "2223    2007       WD          Normal    201000        1.5      1.155843  \n",
              "0       2010       WD          Normal    215000        1.0      0.000000  \n",
              "\n",
              "[10 rows x 84 columns]"
            ]
          },
          "execution_count": 111,
          "metadata": {},
          "output_type": "execute_result"
        }
      ],
      "source": [
        "df_housing[\"eu_distances\"] = eu_dist\n",
        "df_recommend = df_housing.sort_values(by = \"eu_distances\").head(10).sort_values(by = \"SalePrice\")\n",
        "df_recommend"
      ]
    },
    {
      "cell_type": "markdown",
      "metadata": {
        "id": "SdwHMfuFqJDb"
      },
      "source": [
        "2\\. Provide the list of your top recommendations here, including the number of the house and its main features"
      ]
    },
    {
      "cell_type": "code",
      "execution_count": 123,
      "metadata": {
        "id": "zmfmuntEqq05"
      },
      "outputs": [
        {
          "data": {
            "text/html": [
              "<div>\n",
              "<style scoped>\n",
              "    .dataframe tbody tr th:only-of-type {\n",
              "        vertical-align: middle;\n",
              "    }\n",
              "\n",
              "    .dataframe tbody tr th {\n",
              "        vertical-align: top;\n",
              "    }\n",
              "\n",
              "    .dataframe thead th {\n",
              "        text-align: right;\n",
              "    }\n",
              "</style>\n",
              "<table border=\"1\" class=\"dataframe\">\n",
              "  <thead>\n",
              "    <tr style=\"text-align: right;\">\n",
              "      <th></th>\n",
              "      <th>Bedroom AbvGr</th>\n",
              "      <th>Gr Liv Area</th>\n",
              "      <th>Lot Area</th>\n",
              "      <th>Bldg Type</th>\n",
              "      <th>House Style</th>\n",
              "      <th>Year Built</th>\n",
              "      <th>Garage Area</th>\n",
              "      <th>Bathrooms</th>\n",
              "      <th>SalePrice</th>\n",
              "    </tr>\n",
              "  </thead>\n",
              "  <tbody>\n",
              "    <tr>\n",
              "      <th>2298</th>\n",
              "      <td>3</td>\n",
              "      <td>1608</td>\n",
              "      <td>27697</td>\n",
              "      <td>1Fam</td>\n",
              "      <td>1Story</td>\n",
              "      <td>1961</td>\n",
              "      <td>444.0</td>\n",
              "      <td>1.0</td>\n",
              "      <td>80000</td>\n",
              "    </tr>\n",
              "    <tr>\n",
              "      <th>2903</th>\n",
              "      <td>3</td>\n",
              "      <td>1600</td>\n",
              "      <td>31250</td>\n",
              "      <td>1Fam</td>\n",
              "      <td>1Story</td>\n",
              "      <td>1951</td>\n",
              "      <td>270.0</td>\n",
              "      <td>1.5</td>\n",
              "      <td>81500</td>\n",
              "    </tr>\n",
              "    <tr>\n",
              "      <th>1013</th>\n",
              "      <td>3</td>\n",
              "      <td>1474</td>\n",
              "      <td>31220</td>\n",
              "      <td>1Fam</td>\n",
              "      <td>1Story</td>\n",
              "      <td>1952</td>\n",
              "      <td>495.0</td>\n",
              "      <td>1.0</td>\n",
              "      <td>115000</td>\n",
              "    </tr>\n",
              "    <tr>\n",
              "      <th>970</th>\n",
              "      <td>3</td>\n",
              "      <td>1771</td>\n",
              "      <td>21750</td>\n",
              "      <td>1Fam</td>\n",
              "      <td>1Story</td>\n",
              "      <td>1960</td>\n",
              "      <td>336.0</td>\n",
              "      <td>1.0</td>\n",
              "      <td>115000</td>\n",
              "    </tr>\n",
              "    <tr>\n",
              "      <th>2700</th>\n",
              "      <td>3</td>\n",
              "      <td>1640</td>\n",
              "      <td>21370</td>\n",
              "      <td>1Fam</td>\n",
              "      <td>1Story</td>\n",
              "      <td>1950</td>\n",
              "      <td>394.0</td>\n",
              "      <td>1.0</td>\n",
              "      <td>131000</td>\n",
              "    </tr>\n",
              "  </tbody>\n",
              "</table>\n",
              "</div>"
            ],
            "text/plain": [
              "      Bedroom AbvGr  Gr Liv Area  Lot Area Bldg Type House Style  Year Built   \n",
              "2298              3         1608     27697      1Fam      1Story        1961  \\\n",
              "2903              3         1600     31250      1Fam      1Story        1951   \n",
              "1013              3         1474     31220      1Fam      1Story        1952   \n",
              "970               3         1771     21750      1Fam      1Story        1960   \n",
              "2700              3         1640     21370      1Fam      1Story        1950   \n",
              "\n",
              "      Garage Area  Bathrooms  SalePrice  \n",
              "2298        444.0        1.0      80000  \n",
              "2903        270.0        1.5      81500  \n",
              "1013        495.0        1.0     115000  \n",
              "970         336.0        1.0     115000  \n",
              "2700        394.0        1.0     131000  "
            ]
          },
          "execution_count": 123,
          "metadata": {},
          "output_type": "execute_result"
        }
      ],
      "source": [
        "# ENTER YOUR CODE HERE. ADD AS MANY CELLS AS YOU WANT.\n",
        "df_recommend[[\"Bedroom AbvGr\", \"Gr Liv Area\", \"Lot Area\", \"Bldg Type\", \"House Style\", \"Year Built\", \"Garage Area\", \"Bathrooms\", \"SalePrice\"]].head(5)"
      ]
    },
    {
      "cell_type": "code",
      "execution_count": 122,
      "metadata": {},
      "outputs": [
        {
          "data": {
            "text/html": [
              "<div>\n",
              "<style scoped>\n",
              "    .dataframe tbody tr th:only-of-type {\n",
              "        vertical-align: middle;\n",
              "    }\n",
              "\n",
              "    .dataframe tbody tr th {\n",
              "        vertical-align: top;\n",
              "    }\n",
              "\n",
              "    .dataframe thead th {\n",
              "        text-align: right;\n",
              "    }\n",
              "</style>\n",
              "<table border=\"1\" class=\"dataframe\">\n",
              "  <thead>\n",
              "    <tr style=\"text-align: right;\">\n",
              "      <th></th>\n",
              "      <th>Bedroom AbvGr</th>\n",
              "      <th>Gr Liv Area</th>\n",
              "      <th>Lot Area</th>\n",
              "      <th>Bldg Type</th>\n",
              "      <th>House Style</th>\n",
              "      <th>Year Built</th>\n",
              "      <th>Garage Area</th>\n",
              "      <th>Bathrooms</th>\n",
              "      <th>SalePrice</th>\n",
              "    </tr>\n",
              "  </thead>\n",
              "  <tbody>\n",
              "    <tr>\n",
              "      <th>0</th>\n",
              "      <td>3</td>\n",
              "      <td>1656</td>\n",
              "      <td>31770</td>\n",
              "      <td>1Fam</td>\n",
              "      <td>1Story</td>\n",
              "      <td>1960</td>\n",
              "      <td>528.0</td>\n",
              "      <td>1.0</td>\n",
              "      <td>215000</td>\n",
              "    </tr>\n",
              "  </tbody>\n",
              "</table>\n",
              "</div>"
            ],
            "text/plain": [
              "   Bedroom AbvGr  Gr Liv Area  Lot Area Bldg Type House Style  Year Built   \n",
              "0              3         1656     31770      1Fam      1Story        1960  \\\n",
              "\n",
              "   Garage Area  Bathrooms  SalePrice  \n",
              "0        528.0        1.0     215000  "
            ]
          },
          "execution_count": 122,
          "metadata": {},
          "output_type": "execute_result"
        }
      ],
      "source": [
        "# get house number 0\n",
        "df_recommend[df_recommend[\"Order\"] == 1][[\"Bedroom AbvGr\", \"Gr Liv Area\", \"Lot Area\", \"Bldg Type\", \"House Style\", \"Year Built\", \"Garage Area\", \"Bathrooms\", \"SalePrice\"]]"
      ]
    },
    {
      "cell_type": "markdown",
      "metadata": {
        "id": "IUFHYVxMqJGv"
      },
      "source": [
        "3\\. Explain your choices here. Your explanation should include\n",
        "\n",
        "- Which variables you included, and why\n",
        "- Which scaling you used, and why\n",
        "- Which distance metric you used, and why\n",
        "- How sensitive your recommendations were to different choices (of variables, scaling, distance metric). You should at least compare to what you did in the previous parts (where you considered the 3 quantitative variables and 1 categorical variable)."
      ]
    },
    {
      "cell_type": "markdown",
      "metadata": {
        "id": "wAC1ZMK-qtwI"
      },
      "source": [
        "**YOUR RESPONSE HERE**\n",
        "\n",
        "- **Which variables you included, and why**\n",
        "    - Variables I included in my analysis are the bedrooms above ground, living area, lot area, building type, house style, year built, garage area, and bathrooms.\n",
        "    The reason I chose these variables because they are the most common aspects that people look for when buying a house.\n",
        "- **Which scaling you used, and why**\n",
        "    - The scaling I used was the Standard Scaler because it is the most common scaling method used in data science and it is the default scaling method in sklearn. Standardizing the data is important because it allows us to compare the data on the same scale.\n",
        "- **Which distance metric you used, and why**\n",
        "    - The distance metric I used was the Euclidean distance because it allows us to measure the distance between two points in space.\n",
        "- **How sensitive your recommendations were to different choices (of variables, scaling, distance metric). You should at least compare to what you did in the previous parts (where you considered the 3 quantitative variables and 1 categorical variable).**\n",
        "    - Choose a different scaling method or distance like manhattan."
      ]
    },
    {
      "cell_type": "code",
      "execution_count": 19,
      "metadata": {
        "id": "T4IhodNhlNcH"
      },
      "outputs": [],
      "source": [
        "# ENTER YOUR CODE HERE. ADD AS MANY CELLS AS YOU WANT.\n",
        "from sklearn.metrics.pairwise import manhattan_distances\n",
        "\n",
        "man_dist = manhattan_distances(df_housing_scaled, df_housing_scaled[0, :].reshape(1, -1))\n",
        "man_dist"
      ]
    },
    {
      "cell_type": "markdown",
      "metadata": {
        "id": "ArxUuzYNkVNe"
      },
      "source": [
        "## Submission Instructions\n",
        "\n",
        "- After you have completed the notebook, select **Runtime > Restart and run all**\n",
        "- After the notebook finishes rerunning check to make sure that you have no errors and everything runs properly.  Fix any problems and redo this step until it works.\n",
        "- Rename this notebook by clicking on \"DATA 301 Assigment - YOUR NAMES HERE\" at the very top of this page. Replace \"YOUR NAMES HERE\" with the first and last names of ALL partners who collaborated on this assignment.\n",
        "- Expand all cells with View > Expand Sections\n",
        "- Save a PDF version: File > Print > Save as PDF\n",
        "    - Under \"More Settings\" make sure \"Background graphics\" is checked\n",
        "    - Printing to PDF doesn't always work so well and some of your output might get cutoff. That's ok.\n",
        "    - It's not necessary, but if you want a more nicely formatted PDF you can uncomment and run the code in the following cell. (Here's a [video](https://www.youtube.com/watch?v=-Ti9Mm21uVc) with other options.)\n",
        "- Download the notebook: File > Download .ipynb\n",
        "- **Submit the notebook and PDF in Canvas**. If you worked in a team, only one person should submit in Canvas. Add the names of all team members in the comments in the submission in Canvas."
      ]
    },
    {
      "cell_type": "code",
      "execution_count": null,
      "metadata": {
        "id": "t_4T1BUFZjS3"
      },
      "outputs": [],
      "source": [
        "# !wget -nc https://raw.githubusercontent.com/brpy/colab-pdf/master/colab_pdf.py\n",
        "# from colab_pdf import colab_pdf\n",
        "# colab_pdf('DATA 301 Lab1B - YOUR NAMES HERE.ipynb')"
      ]
    }
  ],
  "metadata": {
    "colab": {
      "provenance": []
    },
    "kernelspec": {
      "display_name": "Python 3",
      "language": "python",
      "name": "python3"
    },
    "language_info": {
      "codemirror_mode": {
        "name": "ipython",
        "version": 3
      },
      "file_extension": ".py",
      "mimetype": "text/x-python",
      "name": "python",
      "nbconvert_exporter": "python",
      "pygments_lexer": "ipython3",
      "version": "3.9.6"
    }
  },
  "nbformat": 4,
  "nbformat_minor": 0
}
