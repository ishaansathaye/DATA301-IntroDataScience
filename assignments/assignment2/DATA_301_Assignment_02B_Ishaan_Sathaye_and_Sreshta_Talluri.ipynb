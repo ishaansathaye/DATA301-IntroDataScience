{
  "cells": [
    {
      "cell_type": "markdown",
      "metadata": {
        "id": "UhdfbaUsMMOR"
      },
      "source": [
        "**This assignment is in two parts. This is Part B; make sure to also complete Part A. Read the notebook from the beginning and answer the questions as you go. You can add as many cells as you want. Submission instructions are at the end. See Canvas for general rules about Assignments and collaboration.**"
      ]
    },
    {
      "cell_type": "markdown",
      "metadata": {
        "id": "qgCA4wjDMMXS"
      },
      "source": [
        "# Evidence of Discrimination?\n",
        "\n",
        "The Department of Developmental Services (DDS) in California is responsible for allocating funds to support over 250,000 developmentally-disabled residents. The data set `https://dlsun.github.io/pods/data/ca_dds_expenditures.csv` contains data on about 1,000 of these residents. The data comes from a discrimination lawsuit which alleged that California's Department of Developmental Services (DDS) privileged white (non-Hispanic) residents over Hispanic residents in allocating funds. We will focus on comparing the allocation of funds (i.e., expenditures) for these two ethnicities only, although there are other ethnicities in this data set.\n",
        "\n",
        "There are 6 variables in this data set:\n",
        "\n",
        "- Id:  5-digit, unique identification code for each consumer (similar to a social security number and used for identification purposes)  \n",
        "- Age Cohort:  Binned age variable represented as six age cohorts (0-5, 6-12, 13-17, 18-21, 22-50, and 51+)\n",
        "- Age:  Unbinned age variable\n",
        "- Gender:  Male or Female\n",
        "- Expenditures:  Dollar amount of annual expenditures spent on each consumer\n",
        "- Ethnicity:  Eight ethnic groups (American Indian, Asian, Black, Hispanic, Multi-race, Native Hawaiian, Other, and White non-Hispanic)"
      ]
    },
    {
      "cell_type": "markdown",
      "metadata": {
        "id": "pBrvxdVd7rEY"
      },
      "source": [
        "# Question 1\n",
        "\n",
        "Read in the data set. Make a graphic that compares the _average_ expenditures by the DDS on Hispanic residents and white (non-Hispanic) residents. Comment on what you see."
      ]
    },
    {
      "cell_type": "code",
      "execution_count": 1,
      "metadata": {
        "id": "HPu1DTOY7rEa"
      },
      "outputs": [],
      "source": [
        "# YOUR CODE HERE\n",
        "import pandas as pd"
      ]
    },
    {
      "cell_type": "code",
      "execution_count": 2,
      "metadata": {
        "colab": {
          "base_uri": "https://localhost:8080/",
          "height": 419
        },
        "id": "NxjHWtce2dG7",
        "outputId": "cdaf98b5-ebca-4826-85ee-330608e0e4ac"
      },
      "outputs": [
        {
          "data": {
            "text/html": [
              "<div>\n",
              "<style scoped>\n",
              "    .dataframe tbody tr th:only-of-type {\n",
              "        vertical-align: middle;\n",
              "    }\n",
              "\n",
              "    .dataframe tbody tr th {\n",
              "        vertical-align: top;\n",
              "    }\n",
              "\n",
              "    .dataframe thead th {\n",
              "        text-align: right;\n",
              "    }\n",
              "</style>\n",
              "<table border=\"1\" class=\"dataframe\">\n",
              "  <thead>\n",
              "    <tr style=\"text-align: right;\">\n",
              "      <th></th>\n",
              "      <th>Id</th>\n",
              "      <th>Age Cohort</th>\n",
              "      <th>Age</th>\n",
              "      <th>Gender</th>\n",
              "      <th>Expenditures</th>\n",
              "      <th>Ethnicity</th>\n",
              "    </tr>\n",
              "  </thead>\n",
              "  <tbody>\n",
              "    <tr>\n",
              "      <th>0</th>\n",
              "      <td>10210</td>\n",
              "      <td>13 to 17</td>\n",
              "      <td>17</td>\n",
              "      <td>Female</td>\n",
              "      <td>2113</td>\n",
              "      <td>White not Hispanic</td>\n",
              "    </tr>\n",
              "    <tr>\n",
              "      <th>1</th>\n",
              "      <td>10409</td>\n",
              "      <td>22 to 50</td>\n",
              "      <td>37</td>\n",
              "      <td>Male</td>\n",
              "      <td>41924</td>\n",
              "      <td>White not Hispanic</td>\n",
              "    </tr>\n",
              "    <tr>\n",
              "      <th>2</th>\n",
              "      <td>10486</td>\n",
              "      <td>0 to 5</td>\n",
              "      <td>3</td>\n",
              "      <td>Male</td>\n",
              "      <td>1454</td>\n",
              "      <td>Hispanic</td>\n",
              "    </tr>\n",
              "    <tr>\n",
              "      <th>3</th>\n",
              "      <td>10538</td>\n",
              "      <td>18 to 21</td>\n",
              "      <td>19</td>\n",
              "      <td>Female</td>\n",
              "      <td>6400</td>\n",
              "      <td>Hispanic</td>\n",
              "    </tr>\n",
              "    <tr>\n",
              "      <th>4</th>\n",
              "      <td>10568</td>\n",
              "      <td>13 to 17</td>\n",
              "      <td>13</td>\n",
              "      <td>Male</td>\n",
              "      <td>4412</td>\n",
              "      <td>White not Hispanic</td>\n",
              "    </tr>\n",
              "    <tr>\n",
              "      <th>...</th>\n",
              "      <td>...</td>\n",
              "      <td>...</td>\n",
              "      <td>...</td>\n",
              "      <td>...</td>\n",
              "      <td>...</td>\n",
              "      <td>...</td>\n",
              "    </tr>\n",
              "    <tr>\n",
              "      <th>995</th>\n",
              "      <td>99622</td>\n",
              "      <td>51+</td>\n",
              "      <td>86</td>\n",
              "      <td>Female</td>\n",
              "      <td>57055</td>\n",
              "      <td>White not Hispanic</td>\n",
              "    </tr>\n",
              "    <tr>\n",
              "      <th>996</th>\n",
              "      <td>99715</td>\n",
              "      <td>18 to 21</td>\n",
              "      <td>20</td>\n",
              "      <td>Male</td>\n",
              "      <td>7494</td>\n",
              "      <td>Hispanic</td>\n",
              "    </tr>\n",
              "    <tr>\n",
              "      <th>997</th>\n",
              "      <td>99718</td>\n",
              "      <td>13 to 17</td>\n",
              "      <td>17</td>\n",
              "      <td>Female</td>\n",
              "      <td>3673</td>\n",
              "      <td>Multi Race</td>\n",
              "    </tr>\n",
              "    <tr>\n",
              "      <th>998</th>\n",
              "      <td>99791</td>\n",
              "      <td>6 to 12</td>\n",
              "      <td>10</td>\n",
              "      <td>Male</td>\n",
              "      <td>3638</td>\n",
              "      <td>Hispanic</td>\n",
              "    </tr>\n",
              "    <tr>\n",
              "      <th>999</th>\n",
              "      <td>99898</td>\n",
              "      <td>22 to 50</td>\n",
              "      <td>23</td>\n",
              "      <td>Male</td>\n",
              "      <td>26702</td>\n",
              "      <td>White not Hispanic</td>\n",
              "    </tr>\n",
              "  </tbody>\n",
              "</table>\n",
              "<p>1000 rows × 6 columns</p>\n",
              "</div>"
            ],
            "text/plain": [
              "        Id Age Cohort  Age  Gender  Expenditures           Ethnicity\n",
              "0    10210   13 to 17   17  Female          2113  White not Hispanic\n",
              "1    10409   22 to 50   37    Male         41924  White not Hispanic\n",
              "2    10486     0 to 5    3    Male          1454            Hispanic\n",
              "3    10538   18 to 21   19  Female          6400            Hispanic\n",
              "4    10568   13 to 17   13    Male          4412  White not Hispanic\n",
              "..     ...        ...  ...     ...           ...                 ...\n",
              "995  99622        51+   86  Female         57055  White not Hispanic\n",
              "996  99715   18 to 21   20    Male          7494            Hispanic\n",
              "997  99718   13 to 17   17  Female          3673          Multi Race\n",
              "998  99791    6 to 12   10    Male          3638            Hispanic\n",
              "999  99898   22 to 50   23    Male         26702  White not Hispanic\n",
              "\n",
              "[1000 rows x 6 columns]"
            ]
          },
          "execution_count": 2,
          "metadata": {},
          "output_type": "execute_result"
        }
      ],
      "source": [
        "df_disc = pd.read_csv(\"https://dlsun.github.io/pods/data/ca_dds_expenditures.csv\")\n",
        "df_disc"
      ]
    },
    {
      "cell_type": "code",
      "execution_count": 3,
      "metadata": {
        "colab": {
          "base_uri": "https://localhost:8080/",
          "height": 606
        },
        "id": "svmK9Tw12ijB",
        "outputId": "5abc9ae1-1f49-4fe7-f849-bad2fca8a590"
      },
      "outputs": [
        {
          "data": {
            "text/plain": [
              "<Axes: title={'center': 'Average Expenditures for Hispanics and White not Hispanic'}, xlabel='Ethnicity', ylabel='Average Expenditures ($)'>"
            ]
          },
          "execution_count": 3,
          "metadata": {},
          "output_type": "execute_result"
        },
        {
          "data": {
            "image/png": "[encoded data removed]",
            "text/plain": [
              "<Figure size 640x480 with 1 Axes>"
            ]
          },
          "metadata": {},
          "output_type": "display_data"
        }
      ],
      "source": [
        "df_disc1 = df_disc.groupby(\"Ethnicity\")[\"Expenditures\"].mean()\n",
        "df_disc1[[\"White not Hispanic\", \"Hispanic\"]].plot.bar(ylabel=\"Average Expenditures ($)\", title=\"Average Expenditures for Hispanics and White not Hispanic\")\n"
      ]
    },
    {
      "cell_type": "markdown",
      "metadata": {
        "id": "FvfRcog37rEf"
      },
      "source": [
        "**YOUR EXPLANATION HERE**\n",
        "\n",
        "On average, white not hispanic people get significantly more funding yearly that hispanic people."
      ]
    },
    {
      "cell_type": "markdown",
      "metadata": {
        "id": "CmxE7M3o7rEg"
      },
      "source": [
        "# Question 2\n",
        "\n",
        "Now, calculate the average expenditures by ethnicity and age cohort. Make a graphic that compares the average expenditure on Hispanic residents and white (non-Hispanic) residents, _within each age cohort_.\n",
        "\n",
        "Comment on what you see. How do these results appear to contradict the results you obtained in Question 1?"
      ]
    },
    {
      "cell_type": "code",
      "execution_count": 4,
      "metadata": {
        "colab": {
          "base_uri": "https://localhost:8080/",
          "height": 419
        },
        "id": "u_J1LRI37rEh",
        "outputId": "68cfa3e6-e470-4192-8a87-bb41b6348d41"
      },
      "outputs": [
        {
          "data": {
            "text/html": [
              "<div>\n",
              "<style scoped>\n",
              "    .dataframe tbody tr th:only-of-type {\n",
              "        vertical-align: middle;\n",
              "    }\n",
              "\n",
              "    .dataframe tbody tr th {\n",
              "        vertical-align: top;\n",
              "    }\n",
              "\n",
              "    .dataframe thead th {\n",
              "        text-align: right;\n",
              "    }\n",
              "</style>\n",
              "<table border=\"1\" class=\"dataframe\">\n",
              "  <thead>\n",
              "    <tr style=\"text-align: right;\">\n",
              "      <th></th>\n",
              "      <th>Id</th>\n",
              "      <th>Age Cohort</th>\n",
              "      <th>Age</th>\n",
              "      <th>Gender</th>\n",
              "      <th>Expenditures</th>\n",
              "      <th>Ethnicity</th>\n",
              "    </tr>\n",
              "  </thead>\n",
              "  <tbody>\n",
              "    <tr>\n",
              "      <th>0</th>\n",
              "      <td>10210</td>\n",
              "      <td>13 to 17</td>\n",
              "      <td>17</td>\n",
              "      <td>Female</td>\n",
              "      <td>2113</td>\n",
              "      <td>White not Hispanic</td>\n",
              "    </tr>\n",
              "    <tr>\n",
              "      <th>1</th>\n",
              "      <td>10409</td>\n",
              "      <td>22 to 50</td>\n",
              "      <td>37</td>\n",
              "      <td>Male</td>\n",
              "      <td>41924</td>\n",
              "      <td>White not Hispanic</td>\n",
              "    </tr>\n",
              "    <tr>\n",
              "      <th>2</th>\n",
              "      <td>10486</td>\n",
              "      <td>0 to 5</td>\n",
              "      <td>3</td>\n",
              "      <td>Male</td>\n",
              "      <td>1454</td>\n",
              "      <td>Hispanic</td>\n",
              "    </tr>\n",
              "    <tr>\n",
              "      <th>3</th>\n",
              "      <td>10538</td>\n",
              "      <td>18 to 21</td>\n",
              "      <td>19</td>\n",
              "      <td>Female</td>\n",
              "      <td>6400</td>\n",
              "      <td>Hispanic</td>\n",
              "    </tr>\n",
              "    <tr>\n",
              "      <th>4</th>\n",
              "      <td>10568</td>\n",
              "      <td>13 to 17</td>\n",
              "      <td>13</td>\n",
              "      <td>Male</td>\n",
              "      <td>4412</td>\n",
              "      <td>White not Hispanic</td>\n",
              "    </tr>\n",
              "    <tr>\n",
              "      <th>...</th>\n",
              "      <td>...</td>\n",
              "      <td>...</td>\n",
              "      <td>...</td>\n",
              "      <td>...</td>\n",
              "      <td>...</td>\n",
              "      <td>...</td>\n",
              "    </tr>\n",
              "    <tr>\n",
              "      <th>992</th>\n",
              "      <td>99114</td>\n",
              "      <td>18 to 21</td>\n",
              "      <td>18</td>\n",
              "      <td>Male</td>\n",
              "      <td>5298</td>\n",
              "      <td>Hispanic</td>\n",
              "    </tr>\n",
              "    <tr>\n",
              "      <th>995</th>\n",
              "      <td>99622</td>\n",
              "      <td>51+</td>\n",
              "      <td>86</td>\n",
              "      <td>Female</td>\n",
              "      <td>57055</td>\n",
              "      <td>White not Hispanic</td>\n",
              "    </tr>\n",
              "    <tr>\n",
              "      <th>996</th>\n",
              "      <td>99715</td>\n",
              "      <td>18 to 21</td>\n",
              "      <td>20</td>\n",
              "      <td>Male</td>\n",
              "      <td>7494</td>\n",
              "      <td>Hispanic</td>\n",
              "    </tr>\n",
              "    <tr>\n",
              "      <th>998</th>\n",
              "      <td>99791</td>\n",
              "      <td>6 to 12</td>\n",
              "      <td>10</td>\n",
              "      <td>Male</td>\n",
              "      <td>3638</td>\n",
              "      <td>Hispanic</td>\n",
              "    </tr>\n",
              "    <tr>\n",
              "      <th>999</th>\n",
              "      <td>99898</td>\n",
              "      <td>22 to 50</td>\n",
              "      <td>23</td>\n",
              "      <td>Male</td>\n",
              "      <td>26702</td>\n",
              "      <td>White not Hispanic</td>\n",
              "    </tr>\n",
              "  </tbody>\n",
              "</table>\n",
              "<p>777 rows × 6 columns</p>\n",
              "</div>"
            ],
            "text/plain": [
              "        Id Age Cohort  Age  Gender  Expenditures           Ethnicity\n",
              "0    10210   13 to 17   17  Female          2113  White not Hispanic\n",
              "1    10409   22 to 50   37    Male         41924  White not Hispanic\n",
              "2    10486     0 to 5    3    Male          1454            Hispanic\n",
              "3    10538   18 to 21   19  Female          6400            Hispanic\n",
              "4    10568   13 to 17   13    Male          4412  White not Hispanic\n",
              "..     ...        ...  ...     ...           ...                 ...\n",
              "992  99114   18 to 21   18    Male          5298            Hispanic\n",
              "995  99622        51+   86  Female         57055  White not Hispanic\n",
              "996  99715   18 to 21   20    Male          7494            Hispanic\n",
              "998  99791    6 to 12   10    Male          3638            Hispanic\n",
              "999  99898   22 to 50   23    Male         26702  White not Hispanic\n",
              "\n",
              "[777 rows x 6 columns]"
            ]
          },
          "execution_count": 4,
          "metadata": {},
          "output_type": "execute_result"
        }
      ],
      "source": [
        "# YOUR CODE HERE\n",
        "df_disc2 = df_disc[(df_disc[\"Ethnicity\"] == \"Hispanic\") | (df_disc[\"Ethnicity\"] == \"White not Hispanic\")]\n",
        "df_disc2\n"
      ]
    },
    {
      "cell_type": "code",
      "execution_count": 5,
      "metadata": {
        "id": "b9EEEQVL8MY-"
      },
      "outputs": [],
      "source": [
        "import plotly.express as px\n",
        "import plotly.io as pio\n",
        "pio.renderers.default='notebook'"
      ]
    },
    {
      "cell_type": "code",
      "execution_count": 6,
      "metadata": {
        "colab": {
          "base_uri": "https://localhost:8080/",
          "height": 421
        },
        "id": "eTIzXAuF7Y3M",
        "outputId": "a573adf0-0829-4c50-9c2a-ab3dd8cf8b99"
      },
      "outputs": [
        {
          "data": {
            "text/html": [
              "<div>\n",
              "<style scoped>\n",
              "    .dataframe tbody tr th:only-of-type {\n",
              "        vertical-align: middle;\n",
              "    }\n",
              "\n",
              "    .dataframe tbody tr th {\n",
              "        vertical-align: top;\n",
              "    }\n",
              "\n",
              "    .dataframe thead th {\n",
              "        text-align: right;\n",
              "    }\n",
              "</style>\n",
              "<table border=\"1\" class=\"dataframe\">\n",
              "  <thead>\n",
              "    <tr style=\"text-align: right;\">\n",
              "      <th></th>\n",
              "      <th>Ethnicity</th>\n",
              "      <th>Age Cohort</th>\n",
              "      <th>Expenditures</th>\n",
              "    </tr>\n",
              "  </thead>\n",
              "  <tbody>\n",
              "    <tr>\n",
              "      <th>0</th>\n",
              "      <td>Hispanic</td>\n",
              "      <td>0 to 5</td>\n",
              "      <td>1393.204545</td>\n",
              "    </tr>\n",
              "    <tr>\n",
              "      <th>1</th>\n",
              "      <td>Hispanic</td>\n",
              "      <td>13 to 17</td>\n",
              "      <td>3955.281553</td>\n",
              "    </tr>\n",
              "    <tr>\n",
              "      <th>2</th>\n",
              "      <td>Hispanic</td>\n",
              "      <td>18 to 21</td>\n",
              "      <td>9959.846154</td>\n",
              "    </tr>\n",
              "    <tr>\n",
              "      <th>3</th>\n",
              "      <td>Hispanic</td>\n",
              "      <td>22 to 50</td>\n",
              "      <td>40924.116279</td>\n",
              "    </tr>\n",
              "    <tr>\n",
              "      <th>4</th>\n",
              "      <td>Hispanic</td>\n",
              "      <td>51+</td>\n",
              "      <td>55585.000000</td>\n",
              "    </tr>\n",
              "    <tr>\n",
              "      <th>5</th>\n",
              "      <td>Hispanic</td>\n",
              "      <td>6 to 12</td>\n",
              "      <td>2312.186813</td>\n",
              "    </tr>\n",
              "    <tr>\n",
              "      <th>6</th>\n",
              "      <td>White not Hispanic</td>\n",
              "      <td>0 to 5</td>\n",
              "      <td>1366.900000</td>\n",
              "    </tr>\n",
              "    <tr>\n",
              "      <th>7</th>\n",
              "      <td>White not Hispanic</td>\n",
              "      <td>13 to 17</td>\n",
              "      <td>3904.358209</td>\n",
              "    </tr>\n",
              "    <tr>\n",
              "      <th>8</th>\n",
              "      <td>White not Hispanic</td>\n",
              "      <td>18 to 21</td>\n",
              "      <td>10133.057971</td>\n",
              "    </tr>\n",
              "    <tr>\n",
              "      <th>9</th>\n",
              "      <td>White not Hispanic</td>\n",
              "      <td>22 to 50</td>\n",
              "      <td>40187.624060</td>\n",
              "    </tr>\n",
              "    <tr>\n",
              "      <th>10</th>\n",
              "      <td>White not Hispanic</td>\n",
              "      <td>51+</td>\n",
              "      <td>52670.424242</td>\n",
              "    </tr>\n",
              "    <tr>\n",
              "      <th>11</th>\n",
              "      <td>White not Hispanic</td>\n",
              "      <td>6 to 12</td>\n",
              "      <td>2052.260870</td>\n",
              "    </tr>\n",
              "  </tbody>\n",
              "</table>\n",
              "</div>"
            ],
            "text/plain": [
              "             Ethnicity Age Cohort  Expenditures\n",
              "0             Hispanic     0 to 5   1393.204545\n",
              "1             Hispanic   13 to 17   3955.281553\n",
              "2             Hispanic   18 to 21   9959.846154\n",
              "3             Hispanic   22 to 50  40924.116279\n",
              "4             Hispanic        51+  55585.000000\n",
              "5             Hispanic    6 to 12   2312.186813\n",
              "6   White not Hispanic     0 to 5   1366.900000\n",
              "7   White not Hispanic   13 to 17   3904.358209\n",
              "8   White not Hispanic   18 to 21  10133.057971\n",
              "9   White not Hispanic   22 to 50  40187.624060\n",
              "10  White not Hispanic        51+  52670.424242\n",
              "11  White not Hispanic    6 to 12   2052.260870"
            ]
          },
          "execution_count": 6,
          "metadata": {},
          "output_type": "execute_result"
        }
      ],
      "source": [
        "df_disc21 = df_disc2.groupby([\"Ethnicity\", \"Age Cohort\"])[\"Expenditures\"].mean().reset_index()\n",
        "df_disc21"
      ]
    },
    {
      "cell_type": "code",
      "execution_count": 7,
      "metadata": {
        "colab": {
          "base_uri": "https://localhost:8080/",
          "height": 421
        },
        "id": "mvH9HtWP8zW3",
        "outputId": "64462b2d-1037-4e5f-d111-bdd9d9a64d48"
      },
      "outputs": [
        {
          "data": {
            "text/html": [
              "<div>\n",
              "<style scoped>\n",
              "    .dataframe tbody tr th:only-of-type {\n",
              "        vertical-align: middle;\n",
              "    }\n",
              "\n",
              "    .dataframe tbody tr th {\n",
              "        vertical-align: top;\n",
              "    }\n",
              "\n",
              "    .dataframe thead th {\n",
              "        text-align: right;\n",
              "    }\n",
              "</style>\n",
              "<table border=\"1\" class=\"dataframe\">\n",
              "  <thead>\n",
              "    <tr style=\"text-align: right;\">\n",
              "      <th></th>\n",
              "      <th>Ethnicity</th>\n",
              "      <th>Age Cohort</th>\n",
              "      <th>Expenditures</th>\n",
              "    </tr>\n",
              "  </thead>\n",
              "  <tbody>\n",
              "    <tr>\n",
              "      <th>0</th>\n",
              "      <td>Hispanic</td>\n",
              "      <td>0 to 5</td>\n",
              "      <td>1393.204545</td>\n",
              "    </tr>\n",
              "    <tr>\n",
              "      <th>1</th>\n",
              "      <td>Hispanic</td>\n",
              "      <td>13 to 17</td>\n",
              "      <td>3955.281553</td>\n",
              "    </tr>\n",
              "    <tr>\n",
              "      <th>2</th>\n",
              "      <td>Hispanic</td>\n",
              "      <td>18 to 21</td>\n",
              "      <td>9959.846154</td>\n",
              "    </tr>\n",
              "    <tr>\n",
              "      <th>3</th>\n",
              "      <td>Hispanic</td>\n",
              "      <td>22 to 50</td>\n",
              "      <td>40924.116279</td>\n",
              "    </tr>\n",
              "    <tr>\n",
              "      <th>4</th>\n",
              "      <td>Hispanic</td>\n",
              "      <td>51+</td>\n",
              "      <td>55585.000000</td>\n",
              "    </tr>\n",
              "    <tr>\n",
              "      <th>5</th>\n",
              "      <td>Hispanic</td>\n",
              "      <td>6 to 12</td>\n",
              "      <td>2312.186813</td>\n",
              "    </tr>\n",
              "    <tr>\n",
              "      <th>6</th>\n",
              "      <td>White not Hispanic</td>\n",
              "      <td>0 to 5</td>\n",
              "      <td>1366.900000</td>\n",
              "    </tr>\n",
              "    <tr>\n",
              "      <th>7</th>\n",
              "      <td>White not Hispanic</td>\n",
              "      <td>13 to 17</td>\n",
              "      <td>3904.358209</td>\n",
              "    </tr>\n",
              "    <tr>\n",
              "      <th>8</th>\n",
              "      <td>White not Hispanic</td>\n",
              "      <td>18 to 21</td>\n",
              "      <td>10133.057971</td>\n",
              "    </tr>\n",
              "    <tr>\n",
              "      <th>9</th>\n",
              "      <td>White not Hispanic</td>\n",
              "      <td>22 to 50</td>\n",
              "      <td>40187.624060</td>\n",
              "    </tr>\n",
              "    <tr>\n",
              "      <th>10</th>\n",
              "      <td>White not Hispanic</td>\n",
              "      <td>51+</td>\n",
              "      <td>52670.424242</td>\n",
              "    </tr>\n",
              "    <tr>\n",
              "      <th>11</th>\n",
              "      <td>White not Hispanic</td>\n",
              "      <td>6 to 12</td>\n",
              "      <td>2052.260870</td>\n",
              "    </tr>\n",
              "  </tbody>\n",
              "</table>\n",
              "</div>"
            ],
            "text/plain": [
              "             Ethnicity Age Cohort  Expenditures\n",
              "0             Hispanic     0 to 5   1393.204545\n",
              "1             Hispanic   13 to 17   3955.281553\n",
              "2             Hispanic   18 to 21   9959.846154\n",
              "3             Hispanic   22 to 50  40924.116279\n",
              "4             Hispanic        51+  55585.000000\n",
              "5             Hispanic    6 to 12   2312.186813\n",
              "6   White not Hispanic     0 to 5   1366.900000\n",
              "7   White not Hispanic   13 to 17   3904.358209\n",
              "8   White not Hispanic   18 to 21  10133.057971\n",
              "9   White not Hispanic   22 to 50  40187.624060\n",
              "10  White not Hispanic        51+  52670.424242\n",
              "11  White not Hispanic    6 to 12   2052.260870"
            ]
          },
          "execution_count": 7,
          "metadata": {},
          "output_type": "execute_result"
        }
      ],
      "source": [
        "df_disc21[\"Age Cohort\"] = pd.Categorical(df_disc21[\"Age Cohort\"], [\"0 to 5\", \"6 to 12\", \"13 to 17\", \"18 to 21\", \"22 to 50\", \"51+\"])\n",
        "df_disc21"
      ]
    },
    {
      "cell_type": "code",
      "execution_count": 13,
      "metadata": {
        "colab": {
          "base_uri": "https://localhost:8080/",
          "height": 542
        },
        "id": "Sx069Tkr8ZSI",
        "outputId": "d2b0e596-b7a0-4ca7-d1b0-e00651a595cc"
      },
      "outputs": [
        {
          "data": {
            "text/html": [
              "<div>                            <div id=\"ac45c38c-bd42-455e-bd97-dec765b2c28d\" class=\"plotly-graph-div\" style=\"height:525px; width:100%;\"></div>            <script type=\"text/javascript\">                require([\"plotly\"], function(Plotly) {                    window.PLOTLYENV=window.PLOTLYENV || {};                                    if (document.getElementById(\"ac45c38c-bd42-455e-bd97-dec765b2c28d\")) {                    Plotly.newPlot(                        \"ac45c38c-bd42-455e-bd97-dec765b2c28d\",                        [{\"alignmentgroup\":\"True\",\"hovertemplate\":\"Ethnicity=Hispanic\\u003cbr\\u003eAge Cohort=%{x}\\u003cbr\\u003eExpenditures=%{y}\\u003cextra\\u003e\\u003c\\u002fextra\\u003e\",\"legendgroup\":\"Hispanic\",\"marker\":{\"color\":\"#636efa\",\"pattern\":{\"shape\":\"\"}},\"name\":\"Hispanic\",\"offsetgroup\":\"Hispanic\",\"orientation\":\"v\",\"showlegend\":true,\"textposition\":\"auto\",\"x\":[\"0 to 5\",\"13 to 17\",\"18 to 21\",\"22 to 50\",\"51+\",\"6 to 12\"],\"xaxis\":\"x\",\"y\":[1393.2045454545455,3955.2815533980583,9959.846153846154,40924.11627906977,55585.0,2312.186813186813],\"yaxis\":\"y\",\"type\":\"bar\"},{\"alignmentgroup\":\"True\",\"hovertemplate\":\"Ethnicity=White not Hispanic\\u003cbr\\u003eAge Cohort=%{x}\\u003cbr\\u003eExpenditures=%{y}\\u003cextra\\u003e\\u003c\\u002fextra\\u003e\",\"legendgroup\":\"White not Hispanic\",\"marker\":{\"color\":\"#EF553B\",\"pattern\":{\"shape\":\"\"}},\"name\":\"White not Hispanic\",\"offsetgroup\":\"White not Hispanic\",\"orientation\":\"v\",\"showlegend\":true,\"textposition\":\"auto\",\"x\":[\"0 to 5\",\"13 to 17\",\"18 to 21\",\"22 to 50\",\"51+\",\"6 to 12\"],\"xaxis\":\"x\",\"y\":[1366.9,3904.3582089552237,10133.057971014492,40187.624060150374,52670.42424242424,2052.2608695652175],\"yaxis\":\"y\",\"type\":\"bar\"}],                        {\"template\":{\"data\":{\"histogram2dcontour\":[{\"type\":\"histogram2dcontour\",\"colorbar\":{\"outlinewidth\":0,\"ticks\":\"\"},\"colorscale\":[[0.0,\"#0d0887\"],[0.1111111111111111,\"#46039f\"],[0.2222222222222222,\"#7201a8\"],[0.3333333333333333,\"#9c179e\"],[0.4444444444444444,\"#bd3786\"],[0.5555555555555556,\"#d8576b\"],[0.6666666666666666,\"#ed7953\"],[0.7777777777777778,\"#fb9f3a\"],[0.8888888888888888,\"#fdca26\"],[1.0,\"#f0f921\"]]}],\"choropleth\":[{\"type\":\"choropleth\",\"colorbar\":{\"outlinewidth\":0,\"ticks\":\"\"}}],\"histogram2d\":[{\"type\":\"histogram2d\",\"colorbar\":{\"outlinewidth\":0,\"ticks\":\"\"},\"colorscale\":[[0.0,\"#0d0887\"],[0.1111111111111111,\"#46039f\"],[0.2222222222222222,\"#7201a8\"],[0.3333333333333333,\"#9c179e\"],[0.4444444444444444,\"#bd3786\"],[0.5555555555555556,\"#d8576b\"],[0.6666666666666666,\"#ed7953\"],[0.7777777777777778,\"#fb9f3a\"],[0.8888888888888888,\"#fdca26\"],[1.0,\"#f0f921\"]]}],\"heatmap\":[{\"type\":\"heatmap\",\"colorbar\":{\"outlinewidth\":0,\"ticks\":\"\"},\"colorscale\":[[0.0,\"#0d0887\"],[0.1111111111111111,\"#46039f\"],[0.2222222222222222,\"#7201a8\"],[0.3333333333333333,\"#9c179e\"],[0.4444444444444444,\"#bd3786\"],[0.5555555555555556,\"#d8576b\"],[0.6666666666666666,\"#ed7953\"],[0.7777777777777778,\"#fb9f3a\"],[0.8888888888888888,\"#fdca26\"],[1.0,\"#f0f921\"]]}],\"heatmapgl\":[{\"type\":\"heatmapgl\",\"colorbar\":{\"outlinewidth\":0,\"ticks\":\"\"},\"colorscale\":[[0.0,\"#0d0887\"],[0.1111111111111111,\"#46039f\"],[0.2222222222222222,\"#7201a8\"],[0.3333333333333333,\"#9c179e\"],[0.4444444444444444,\"#bd3786\"],[0.5555555555555556,\"#d8576b\"],[0.6666666666666666,\"#ed7953\"],[0.7777777777777778,\"#fb9f3a\"],[0.8888888888888888,\"#fdca26\"],[1.0,\"#f0f921\"]]}],\"contourcarpet\":[{\"type\":\"contourcarpet\",\"colorbar\":{\"outlinewidth\":0,\"ticks\":\"\"}}],\"contour\":[{\"type\":\"contour\",\"colorbar\":{\"outlinewidth\":0,\"ticks\":\"\"},\"colorscale\":[[0.0,\"#0d0887\"],[0.1111111111111111,\"#46039f\"],[0.2222222222222222,\"#7201a8\"],[0.3333333333333333,\"#9c179e\"],[0.4444444444444444,\"#bd3786\"],[0.5555555555555556,\"#d8576b\"],[0.6666666666666666,\"#ed7953\"],[0.7777777777777778,\"#fb9f3a\"],[0.8888888888888888,\"#fdca26\"],[1.0,\"#f0f921\"]]}],\"surface\":[{\"type\":\"surface\",\"colorbar\":{\"outlinewidth\":0,\"ticks\":\"\"},\"colorscale\":[[0.0,\"#0d0887\"],[0.1111111111111111,\"#46039f\"],[0.2222222222222222,\"#7201a8\"],[0.3333333333333333,\"#9c179e\"],[0.4444444444444444,\"#bd3786\"],[0.5555555555555556,\"#d8576b\"],[0.6666666666666666,\"#ed7953\"],[0.7777777777777778,\"#fb9f3a\"],[0.8888888888888888,\"#fdca26\"],[1.0,\"#f0f921\"]]}],\"mesh3d\":[{\"type\":\"mesh3d\",\"colorbar\":{\"outlinewidth\":0,\"ticks\":\"\"}}],\"scatter\":[{\"fillpattern\":{\"fillmode\":\"overlay\",\"size\":10,\"solidity\":0.2},\"type\":\"scatter\"}],\"parcoords\":[{\"type\":\"parcoords\",\"line\":{\"colorbar\":{\"outlinewidth\":0,\"ticks\":\"\"}}}],\"scatterpolargl\":[{\"type\":\"scatterpolargl\",\"marker\":{\"colorbar\":{\"outlinewidth\":0,\"ticks\":\"\"}}}],\"bar\":[{\"error_x\":{\"color\":\"#2a3f5f\"},\"error_y\":{\"color\":\"#2a3f5f\"},\"marker\":{\"line\":{\"color\":\"#E5ECF6\",\"width\":0.5},\"pattern\":{\"fillmode\":\"overlay\",\"size\":10,\"solidity\":0.2}},\"type\":\"bar\"}],\"scattergeo\":[{\"type\":\"scattergeo\",\"marker\":{\"colorbar\":{\"outlinewidth\":0,\"ticks\":\"\"}}}],\"scatterpolar\":[{\"type\":\"scatterpolar\",\"marker\":{\"colorbar\":{\"outlinewidth\":0,\"ticks\":\"\"}}}],\"histogram\":[{\"marker\":{\"pattern\":{\"fillmode\":\"overlay\",\"size\":10,\"solidity\":0.2}},\"type\":\"histogram\"}],\"scattergl\":[{\"type\":\"scattergl\",\"marker\":{\"colorbar\":{\"outlinewidth\":0,\"ticks\":\"\"}}}],\"scatter3d\":[{\"type\":\"scatter3d\",\"line\":{\"colorbar\":{\"outlinewidth\":0,\"ticks\":\"\"}},\"marker\":{\"colorbar\":{\"outlinewidth\":0,\"ticks\":\"\"}}}],\"scattermapbox\":[{\"type\":\"scattermapbox\",\"marker\":{\"colorbar\":{\"outlinewidth\":0,\"ticks\":\"\"}}}],\"scatterternary\":[{\"type\":\"scatterternary\",\"marker\":{\"colorbar\":{\"outlinewidth\":0,\"ticks\":\"\"}}}],\"scattercarpet\":[{\"type\":\"scattercarpet\",\"marker\":{\"colorbar\":{\"outlinewidth\":0,\"ticks\":\"\"}}}],\"carpet\":[{\"aaxis\":{\"endlinecolor\":\"#2a3f5f\",\"gridcolor\":\"white\",\"linecolor\":\"white\",\"minorgridcolor\":\"white\",\"startlinecolor\":\"#2a3f5f\"},\"baxis\":{\"endlinecolor\":\"#2a3f5f\",\"gridcolor\":\"white\",\"linecolor\":\"white\",\"minorgridcolor\":\"white\",\"startlinecolor\":\"#2a3f5f\"},\"type\":\"carpet\"}],\"table\":[{\"cells\":{\"fill\":{\"color\":\"#EBF0F8\"},\"line\":{\"color\":\"white\"}},\"header\":{\"fill\":{\"color\":\"#C8D4E3\"},\"line\":{\"color\":\"white\"}},\"type\":\"table\"}],\"barpolar\":[{\"marker\":{\"line\":{\"color\":\"#E5ECF6\",\"width\":0.5},\"pattern\":{\"fillmode\":\"overlay\",\"size\":10,\"solidity\":0.2}},\"type\":\"barpolar\"}],\"pie\":[{\"automargin\":true,\"type\":\"pie\"}]},\"layout\":{\"autotypenumbers\":\"strict\",\"colorway\":[\"#636efa\",\"#EF553B\",\"#00cc96\",\"#ab63fa\",\"#FFA15A\",\"#19d3f3\",\"#FF6692\",\"#B6E880\",\"#FF97FF\",\"#FECB52\"],\"font\":{\"color\":\"#2a3f5f\"},\"hovermode\":\"closest\",\"hoverlabel\":{\"align\":\"left\"},\"paper_bgcolor\":\"white\",\"plot_bgcolor\":\"#E5ECF6\",\"polar\":{\"bgcolor\":\"#E5ECF6\",\"angularaxis\":{\"gridcolor\":\"white\",\"linecolor\":\"white\",\"ticks\":\"\"},\"radialaxis\":{\"gridcolor\":\"white\",\"linecolor\":\"white\",\"ticks\":\"\"}},\"ternary\":{\"bgcolor\":\"#E5ECF6\",\"aaxis\":{\"gridcolor\":\"white\",\"linecolor\":\"white\",\"ticks\":\"\"},\"baxis\":{\"gridcolor\":\"white\",\"linecolor\":\"white\",\"ticks\":\"\"},\"caxis\":{\"gridcolor\":\"white\",\"linecolor\":\"white\",\"ticks\":\"\"}},\"coloraxis\":{\"colorbar\":{\"outlinewidth\":0,\"ticks\":\"\"}},\"colorscale\":{\"sequential\":[[0.0,\"#0d0887\"],[0.1111111111111111,\"#46039f\"],[0.2222222222222222,\"#7201a8\"],[0.3333333333333333,\"#9c179e\"],[0.4444444444444444,\"#bd3786\"],[0.5555555555555556,\"#d8576b\"],[0.6666666666666666,\"#ed7953\"],[0.7777777777777778,\"#fb9f3a\"],[0.8888888888888888,\"#fdca26\"],[1.0,\"#f0f921\"]],\"sequentialminus\":[[0.0,\"#0d0887\"],[0.1111111111111111,\"#46039f\"],[0.2222222222222222,\"#7201a8\"],[0.3333333333333333,\"#9c179e\"],[0.4444444444444444,\"#bd3786\"],[0.5555555555555556,\"#d8576b\"],[0.6666666666666666,\"#ed7953\"],[0.7777777777777778,\"#fb9f3a\"],[0.8888888888888888,\"#fdca26\"],[1.0,\"#f0f921\"]],\"diverging\":[[0,\"#8e0152\"],[0.1,\"#c51b7d\"],[0.2,\"#de77ae\"],[0.3,\"#f1b6da\"],[0.4,\"#fde0ef\"],[0.5,\"#f7f7f7\"],[0.6,\"#e6f5d0\"],[0.7,\"#b8e186\"],[0.8,\"#7fbc41\"],[0.9,\"#4d9221\"],[1,\"#276419\"]]},\"xaxis\":{\"gridcolor\":\"white\",\"linecolor\":\"white\",\"ticks\":\"\",\"title\":{\"standoff\":15},\"zerolinecolor\":\"white\",\"automargin\":true,\"zerolinewidth\":2},\"yaxis\":{\"gridcolor\":\"white\",\"linecolor\":\"white\",\"ticks\":\"\",\"title\":{\"standoff\":15},\"zerolinecolor\":\"white\",\"automargin\":true,\"zerolinewidth\":2},\"scene\":{\"xaxis\":{\"backgroundcolor\":\"#E5ECF6\",\"gridcolor\":\"white\",\"linecolor\":\"white\",\"showbackground\":true,\"ticks\":\"\",\"zerolinecolor\":\"white\",\"gridwidth\":2},\"yaxis\":{\"backgroundcolor\":\"#E5ECF6\",\"gridcolor\":\"white\",\"linecolor\":\"white\",\"showbackground\":true,\"ticks\":\"\",\"zerolinecolor\":\"white\",\"gridwidth\":2},\"zaxis\":{\"backgroundcolor\":\"#E5ECF6\",\"gridcolor\":\"white\",\"linecolor\":\"white\",\"showbackground\":true,\"ticks\":\"\",\"zerolinecolor\":\"white\",\"gridwidth\":2}},\"shapedefaults\":{\"line\":{\"color\":\"#2a3f5f\"}},\"annotationdefaults\":{\"arrowcolor\":\"#2a3f5f\",\"arrowhead\":0,\"arrowwidth\":1},\"geo\":{\"bgcolor\":\"white\",\"landcolor\":\"#E5ECF6\",\"subunitcolor\":\"white\",\"showland\":true,\"showlakes\":true,\"lakecolor\":\"white\"},\"title\":{\"x\":0.05},\"mapbox\":{\"style\":\"light\"}}},\"xaxis\":{\"anchor\":\"y\",\"domain\":[0.0,1.0],\"title\":{\"text\":\"Age Cohort\"},\"categoryorder\":\"array\",\"categoryarray\":[\"0 to 5\",\"6 to 12\",\"13 to 17\",\"18 to 21\",\"22 to 50\",\"51+\"]},\"yaxis\":{\"anchor\":\"x\",\"domain\":[0.0,1.0],\"title\":{\"text\":\"Expenditures\"}},\"legend\":{\"title\":{\"text\":\"Ethnicity\"},\"tracegroupgap\":0},\"title\":{\"text\":\"Average Expenditures by Age Cohort for Hispanic and White not Hispanic\"},\"barmode\":\"group\"},                        {\"responsive\": true}                    ).then(function(){\n",
              "                            \n",
              "var gd = document.getElementById('ac45c38c-bd42-455e-bd97-dec765b2c28d');\n",
              "var x = new MutationObserver(function (mutations, observer) {{\n",
              "        var display = window.getComputedStyle(gd).display;\n",
              "        if (!display || display === 'none') {{\n",
              "            console.log([gd, 'removed!']);\n",
              "            Plotly.purge(gd);\n",
              "            observer.disconnect();\n",
              "        }}\n",
              "}});\n",
              "\n",
              "// Listen for the removal of the full notebook cells\n",
              "var notebookContainer = gd.closest('#notebook-container');\n",
              "if (notebookContainer) {{\n",
              "    x.observe(notebookContainer, {childList: true});\n",
              "}}\n",
              "\n",
              "// Listen for the clearing of the current output cell\n",
              "var outputEl = gd.closest('.output');\n",
              "if (outputEl) {{\n",
              "    x.observe(outputEl, {childList: true});\n",
              "}}\n",
              "\n",
              "                        })                };                });            </script>        </div>"
            ]
          },
          "metadata": {},
          "output_type": "display_data"
        }
      ],
      "source": [
        "fig = px.bar(\n",
        "    df_disc21,\n",
        "    x=\"Age Cohort\",\n",
        "    y=\"Expenditures\",\n",
        "    color=\"Ethnicity\",\n",
        "    barmode=\"group\",\n",
        "    title=\"Average Expenditures by Age Cohort for Hispanic and White not Hispanic\"\n",
        ")\n",
        "\n",
        "fig.update_xaxes(categoryorder='array', \n",
        "                 categoryarray= ['0 to 5','6 to 12','13 to 17','18 to 21','22 to 50','51+'])\n",
        "\n",
        "fig.show()"
      ]
    },
    {
      "cell_type": "markdown",
      "metadata": {
        "id": "CFriAmRB7rEl"
      },
      "source": [
        "**YOUR EXPLANATION HERE**\n",
        "\n",
        "Contrary to question 1, it appears that for each age group that the funds received for Hispanic and White not Hispanic are approximately even (White not Hispanic for some ages are also funded less)."
      ]
    },
    {
      "cell_type": "markdown",
      "metadata": {
        "id": "vNJHIPO77rEm"
      },
      "source": [
        "# Question 3\n",
        "\n",
        "Can you explain the discrepancy between the two analyses you conducted above (i.e., Questions 1 and 2)? Try to tell a complete story that interweaves tables, graphics, and explanation.\n",
        "\n",
        "_Hint:_ You might want to consider looking at:\n",
        "\n",
        "- the distributions of ages of Hispanics and whites\n",
        "- the average expenditure as a function of age"
      ]
    },
    {
      "cell_type": "code",
      "execution_count": null,
      "metadata": {
        "id": "HbhW06scjUXo"
      },
      "outputs": [],
      "source": [
        "import matplotlib.pyplot as plt"
      ]
    },
    {
      "cell_type": "code",
      "execution_count": null,
      "metadata": {
        "colab": {
          "base_uri": "https://localhost:8080/",
          "height": 472
        },
        "id": "mo4aLinP7rEn",
        "outputId": "224d6bd0-a16d-46ad-f39f-85b97e53922c"
      },
      "outputs": [
        {
          "data": {
            "image/png": "[encoded data removed]",
            "text/plain": [
              "<Figure size 640x480 with 1 Axes>"
            ]
          },
          "metadata": {},
          "output_type": "display_data"
        }
      ],
      "source": [
        "# YOUR CODE HERE (although you may want to add more code cells)\n",
        "ax = df_disc2.groupby(\"Ethnicity\")[\"Age\"].plot.density(\n",
        "    legend=True,\n",
        "    title=\"Distributions of Ages of Hispanics and Whites\",\n",
        "    xlim=[-5, 110]\n",
        ")\n",
        "plt.ylabel('Density')\n",
        "plt.xlabel('Age')\n",
        "plt.show()"
      ]
    },
    {
      "cell_type": "code",
      "execution_count": 22,
      "metadata": {
        "colab": {
          "base_uri": "https://localhost:8080/",
          "height": 533
        },
        "id": "pYnyBL6qAjmd",
        "outputId": "86995320-1525-47b8-aecb-69536fa66dd2"
      },
      "outputs": [
        {
          "data": {
            "text/html": [
              "<div>                            <div id=\"1dcc7c6b-d4eb-4e4d-845d-e2efc70cd1db\" class=\"plotly-graph-div\" style=\"height:525px; width:100%;\"></div>            <script type=\"text/javascript\">                require([\"plotly\"], function(Plotly) {                    window.PLOTLYENV=window.PLOTLYENV || {};                                    if (document.getElementById(\"1dcc7c6b-d4eb-4e4d-845d-e2efc70cd1db\")) {                    Plotly.newPlot(                        \"1dcc7c6b-d4eb-4e4d-845d-e2efc70cd1db\",                        [{\"alignmentgroup\":\"True\",\"hovertemplate\":\"Age Cohort=%{x}\\u003cbr\\u003eAverage Expenditures ($)=%{y}\\u003cextra\\u003e\\u003c\\u002fextra\\u003e\",\"legendgroup\":\"\",\"marker\":{\"color\":\"#636efa\",\"pattern\":{\"shape\":\"\"}},\"name\":\"\",\"offsetgroup\":\"\",\"orientation\":\"v\",\"showlegend\":false,\"textposition\":\"auto\",\"x\":[\"0 to 5\",\"13 to 17\",\"18 to 21\",\"22 to 50\",\"51+\",\"6 to 12\"],\"xaxis\":\"x\",\"y\":[1384.984375,3935.211764705882,10041.149659863946,40367.5625,53267.385542168675,2224.912408759124],\"yaxis\":\"y\",\"type\":\"bar\"}],                        {\"template\":{\"data\":{\"histogram2dcontour\":[{\"type\":\"histogram2dcontour\",\"colorbar\":{\"outlinewidth\":0,\"ticks\":\"\"},\"colorscale\":[[0.0,\"#0d0887\"],[0.1111111111111111,\"#46039f\"],[0.2222222222222222,\"#7201a8\"],[0.3333333333333333,\"#9c179e\"],[0.4444444444444444,\"#bd3786\"],[0.5555555555555556,\"#d8576b\"],[0.6666666666666666,\"#ed7953\"],[0.7777777777777778,\"#fb9f3a\"],[0.8888888888888888,\"#fdca26\"],[1.0,\"#f0f921\"]]}],\"choropleth\":[{\"type\":\"choropleth\",\"colorbar\":{\"outlinewidth\":0,\"ticks\":\"\"}}],\"histogram2d\":[{\"type\":\"histogram2d\",\"colorbar\":{\"outlinewidth\":0,\"ticks\":\"\"},\"colorscale\":[[0.0,\"#0d0887\"],[0.1111111111111111,\"#46039f\"],[0.2222222222222222,\"#7201a8\"],[0.3333333333333333,\"#9c179e\"],[0.4444444444444444,\"#bd3786\"],[0.5555555555555556,\"#d8576b\"],[0.6666666666666666,\"#ed7953\"],[0.7777777777777778,\"#fb9f3a\"],[0.8888888888888888,\"#fdca26\"],[1.0,\"#f0f921\"]]}],\"heatmap\":[{\"type\":\"heatmap\",\"colorbar\":{\"outlinewidth\":0,\"ticks\":\"\"},\"colorscale\":[[0.0,\"#0d0887\"],[0.1111111111111111,\"#46039f\"],[0.2222222222222222,\"#7201a8\"],[0.3333333333333333,\"#9c179e\"],[0.4444444444444444,\"#bd3786\"],[0.5555555555555556,\"#d8576b\"],[0.6666666666666666,\"#ed7953\"],[0.7777777777777778,\"#fb9f3a\"],[0.8888888888888888,\"#fdca26\"],[1.0,\"#f0f921\"]]}],\"heatmapgl\":[{\"type\":\"heatmapgl\",\"colorbar\":{\"outlinewidth\":0,\"ticks\":\"\"},\"colorscale\":[[0.0,\"#0d0887\"],[0.1111111111111111,\"#46039f\"],[0.2222222222222222,\"#7201a8\"],[0.3333333333333333,\"#9c179e\"],[0.4444444444444444,\"#bd3786\"],[0.5555555555555556,\"#d8576b\"],[0.6666666666666666,\"#ed7953\"],[0.7777777777777778,\"#fb9f3a\"],[0.8888888888888888,\"#fdca26\"],[1.0,\"#f0f921\"]]}],\"contourcarpet\":[{\"type\":\"contourcarpet\",\"colorbar\":{\"outlinewidth\":0,\"ticks\":\"\"}}],\"contour\":[{\"type\":\"contour\",\"colorbar\":{\"outlinewidth\":0,\"ticks\":\"\"},\"colorscale\":[[0.0,\"#0d0887\"],[0.1111111111111111,\"#46039f\"],[0.2222222222222222,\"#7201a8\"],[0.3333333333333333,\"#9c179e\"],[0.4444444444444444,\"#bd3786\"],[0.5555555555555556,\"#d8576b\"],[0.6666666666666666,\"#ed7953\"],[0.7777777777777778,\"#fb9f3a\"],[0.8888888888888888,\"#fdca26\"],[1.0,\"#f0f921\"]]}],\"surface\":[{\"type\":\"surface\",\"colorbar\":{\"outlinewidth\":0,\"ticks\":\"\"},\"colorscale\":[[0.0,\"#0d0887\"],[0.1111111111111111,\"#46039f\"],[0.2222222222222222,\"#7201a8\"],[0.3333333333333333,\"#9c179e\"],[0.4444444444444444,\"#bd3786\"],[0.5555555555555556,\"#d8576b\"],[0.6666666666666666,\"#ed7953\"],[0.7777777777777778,\"#fb9f3a\"],[0.8888888888888888,\"#fdca26\"],[1.0,\"#f0f921\"]]}],\"mesh3d\":[{\"type\":\"mesh3d\",\"colorbar\":{\"outlinewidth\":0,\"ticks\":\"\"}}],\"scatter\":[{\"fillpattern\":{\"fillmode\":\"overlay\",\"size\":10,\"solidity\":0.2},\"type\":\"scatter\"}],\"parcoords\":[{\"type\":\"parcoords\",\"line\":{\"colorbar\":{\"outlinewidth\":0,\"ticks\":\"\"}}}],\"scatterpolargl\":[{\"type\":\"scatterpolargl\",\"marker\":{\"colorbar\":{\"outlinewidth\":0,\"ticks\":\"\"}}}],\"bar\":[{\"error_x\":{\"color\":\"#2a3f5f\"},\"error_y\":{\"color\":\"#2a3f5f\"},\"marker\":{\"line\":{\"color\":\"#E5ECF6\",\"width\":0.5},\"pattern\":{\"fillmode\":\"overlay\",\"size\":10,\"solidity\":0.2}},\"type\":\"bar\"}],\"scattergeo\":[{\"type\":\"scattergeo\",\"marker\":{\"colorbar\":{\"outlinewidth\":0,\"ticks\":\"\"}}}],\"scatterpolar\":[{\"type\":\"scatterpolar\",\"marker\":{\"colorbar\":{\"outlinewidth\":0,\"ticks\":\"\"}}}],\"histogram\":[{\"marker\":{\"pattern\":{\"fillmode\":\"overlay\",\"size\":10,\"solidity\":0.2}},\"type\":\"histogram\"}],\"scattergl\":[{\"type\":\"scattergl\",\"marker\":{\"colorbar\":{\"outlinewidth\":0,\"ticks\":\"\"}}}],\"scatter3d\":[{\"type\":\"scatter3d\",\"line\":{\"colorbar\":{\"outlinewidth\":0,\"ticks\":\"\"}},\"marker\":{\"colorbar\":{\"outlinewidth\":0,\"ticks\":\"\"}}}],\"scattermapbox\":[{\"type\":\"scattermapbox\",\"marker\":{\"colorbar\":{\"outlinewidth\":0,\"ticks\":\"\"}}}],\"scatterternary\":[{\"type\":\"scatterternary\",\"marker\":{\"colorbar\":{\"outlinewidth\":0,\"ticks\":\"\"}}}],\"scattercarpet\":[{\"type\":\"scattercarpet\",\"marker\":{\"colorbar\":{\"outlinewidth\":0,\"ticks\":\"\"}}}],\"carpet\":[{\"aaxis\":{\"endlinecolor\":\"#2a3f5f\",\"gridcolor\":\"white\",\"linecolor\":\"white\",\"minorgridcolor\":\"white\",\"startlinecolor\":\"#2a3f5f\"},\"baxis\":{\"endlinecolor\":\"#2a3f5f\",\"gridcolor\":\"white\",\"linecolor\":\"white\",\"minorgridcolor\":\"white\",\"startlinecolor\":\"#2a3f5f\"},\"type\":\"carpet\"}],\"table\":[{\"cells\":{\"fill\":{\"color\":\"#EBF0F8\"},\"line\":{\"color\":\"white\"}},\"header\":{\"fill\":{\"color\":\"#C8D4E3\"},\"line\":{\"color\":\"white\"}},\"type\":\"table\"}],\"barpolar\":[{\"marker\":{\"line\":{\"color\":\"#E5ECF6\",\"width\":0.5},\"pattern\":{\"fillmode\":\"overlay\",\"size\":10,\"solidity\":0.2}},\"type\":\"barpolar\"}],\"pie\":[{\"automargin\":true,\"type\":\"pie\"}]},\"layout\":{\"autotypenumbers\":\"strict\",\"colorway\":[\"#636efa\",\"#EF553B\",\"#00cc96\",\"#ab63fa\",\"#FFA15A\",\"#19d3f3\",\"#FF6692\",\"#B6E880\",\"#FF97FF\",\"#FECB52\"],\"font\":{\"color\":\"#2a3f5f\"},\"hovermode\":\"closest\",\"hoverlabel\":{\"align\":\"left\"},\"paper_bgcolor\":\"white\",\"plot_bgcolor\":\"#E5ECF6\",\"polar\":{\"bgcolor\":\"#E5ECF6\",\"angularaxis\":{\"gridcolor\":\"white\",\"linecolor\":\"white\",\"ticks\":\"\"},\"radialaxis\":{\"gridcolor\":\"white\",\"linecolor\":\"white\",\"ticks\":\"\"}},\"ternary\":{\"bgcolor\":\"#E5ECF6\",\"aaxis\":{\"gridcolor\":\"white\",\"linecolor\":\"white\",\"ticks\":\"\"},\"baxis\":{\"gridcolor\":\"white\",\"linecolor\":\"white\",\"ticks\":\"\"},\"caxis\":{\"gridcolor\":\"white\",\"linecolor\":\"white\",\"ticks\":\"\"}},\"coloraxis\":{\"colorbar\":{\"outlinewidth\":0,\"ticks\":\"\"}},\"colorscale\":{\"sequential\":[[0.0,\"#0d0887\"],[0.1111111111111111,\"#46039f\"],[0.2222222222222222,\"#7201a8\"],[0.3333333333333333,\"#9c179e\"],[0.4444444444444444,\"#bd3786\"],[0.5555555555555556,\"#d8576b\"],[0.6666666666666666,\"#ed7953\"],[0.7777777777777778,\"#fb9f3a\"],[0.8888888888888888,\"#fdca26\"],[1.0,\"#f0f921\"]],\"sequentialminus\":[[0.0,\"#0d0887\"],[0.1111111111111111,\"#46039f\"],[0.2222222222222222,\"#7201a8\"],[0.3333333333333333,\"#9c179e\"],[0.4444444444444444,\"#bd3786\"],[0.5555555555555556,\"#d8576b\"],[0.6666666666666666,\"#ed7953\"],[0.7777777777777778,\"#fb9f3a\"],[0.8888888888888888,\"#fdca26\"],[1.0,\"#f0f921\"]],\"diverging\":[[0,\"#8e0152\"],[0.1,\"#c51b7d\"],[0.2,\"#de77ae\"],[0.3,\"#f1b6da\"],[0.4,\"#fde0ef\"],[0.5,\"#f7f7f7\"],[0.6,\"#e6f5d0\"],[0.7,\"#b8e186\"],[0.8,\"#7fbc41\"],[0.9,\"#4d9221\"],[1,\"#276419\"]]},\"xaxis\":{\"gridcolor\":\"white\",\"linecolor\":\"white\",\"ticks\":\"\",\"title\":{\"standoff\":15},\"zerolinecolor\":\"white\",\"automargin\":true,\"zerolinewidth\":2},\"yaxis\":{\"gridcolor\":\"white\",\"linecolor\":\"white\",\"ticks\":\"\",\"title\":{\"standoff\":15},\"zerolinecolor\":\"white\",\"automargin\":true,\"zerolinewidth\":2},\"scene\":{\"xaxis\":{\"backgroundcolor\":\"#E5ECF6\",\"gridcolor\":\"white\",\"linecolor\":\"white\",\"showbackground\":true,\"ticks\":\"\",\"zerolinecolor\":\"white\",\"gridwidth\":2},\"yaxis\":{\"backgroundcolor\":\"#E5ECF6\",\"gridcolor\":\"white\",\"linecolor\":\"white\",\"showbackground\":true,\"ticks\":\"\",\"zerolinecolor\":\"white\",\"gridwidth\":2},\"zaxis\":{\"backgroundcolor\":\"#E5ECF6\",\"gridcolor\":\"white\",\"linecolor\":\"white\",\"showbackground\":true,\"ticks\":\"\",\"zerolinecolor\":\"white\",\"gridwidth\":2}},\"shapedefaults\":{\"line\":{\"color\":\"#2a3f5f\"}},\"annotationdefaults\":{\"arrowcolor\":\"#2a3f5f\",\"arrowhead\":0,\"arrowwidth\":1},\"geo\":{\"bgcolor\":\"white\",\"landcolor\":\"#E5ECF6\",\"subunitcolor\":\"white\",\"showland\":true,\"showlakes\":true,\"lakecolor\":\"white\"},\"title\":{\"x\":0.05},\"mapbox\":{\"style\":\"light\"}}},\"xaxis\":{\"anchor\":\"y\",\"domain\":[0.0,1.0],\"title\":{\"text\":\"Age Cohort\"},\"categoryorder\":\"array\",\"categoryarray\":[\"0 to 5\",\"6 to 12\",\"13 to 17\",\"18 to 21\",\"22 to 50\",\"51+\"]},\"yaxis\":{\"anchor\":\"x\",\"domain\":[0.0,1.0],\"title\":{\"text\":\"Average Expenditures ($)\"}},\"legend\":{\"tracegroupgap\":0},\"title\":{\"text\":\"Average Expenditures for Each Age Cohort Among Hispanics and White not Hispanics\"},\"barmode\":\"relative\"},                        {\"responsive\": true}                    ).then(function(){\n",
              "                            \n",
              "var gd = document.getElementById('1dcc7c6b-d4eb-4e4d-845d-e2efc70cd1db');\n",
              "var x = new MutationObserver(function (mutations, observer) {{\n",
              "        var display = window.getComputedStyle(gd).display;\n",
              "        if (!display || display === 'none') {{\n",
              "            console.log([gd, 'removed!']);\n",
              "            Plotly.purge(gd);\n",
              "            observer.disconnect();\n",
              "        }}\n",
              "}});\n",
              "\n",
              "// Listen for the removal of the full notebook cells\n",
              "var notebookContainer = gd.closest('#notebook-container');\n",
              "if (notebookContainer) {{\n",
              "    x.observe(notebookContainer, {childList: true});\n",
              "}}\n",
              "\n",
              "// Listen for the clearing of the current output cell\n",
              "var outputEl = gd.closest('.output');\n",
              "if (outputEl) {{\n",
              "    x.observe(outputEl, {childList: true});\n",
              "}}\n",
              "\n",
              "                        })                };                });            </script>        </div>"
            ]
          },
          "metadata": {},
          "output_type": "display_data"
        }
      ],
      "source": [
        "fig2 = px.bar(df_disc2.groupby(\"Age Cohort\")[\"Expenditures\"].mean().reset_index(),\n",
        "              x=\"Age Cohort\",\n",
        "              y=\"Expenditures\",\n",
        "              title=\"Average Expenditures for Each Age Cohort Among Hispanics and White not Hispanics\",\n",
        "              labels={\"Age Cohort\": \"Age Cohort\", \"Expenditures\": \"Average Expenditures ($)\"})\n",
        "\n",
        "fig2.update_xaxes(categoryorder='array', \n",
        "                 categoryarray=['0 to 5','6 to 12','13 to 17','18 to 21','22 to 50','51+'])\n",
        "\n",
        "fig2.show()"
      ]
    },
    {
      "cell_type": "markdown",
      "metadata": {
        "id": "dmdJ1RTp7rEq"
      },
      "source": [
        "**YOUR EXPLANATION HERE (although you may want to add more markdown cells)**\n",
        "\n",
        "In the average expenditures per age cohort plot, we can see that those who are 51+ received the most funding. From the distribution of ages among Hispanics and White not Hispanics, we can see that White not Hispanics have a higher distribution of people over 51. Therefore, there seems to a discrepency known Simpson's Paradox. If we look at the average funding for each age cohort it seems that Hispanic people are slightly funded more. However, White not Hispanics have a higher population of older people which pulls their average expenditures up. On a similar note, the Hispanic younger population is higher which pulls their average expenditures down."
      ]
    },
    {
      "cell_type": "markdown",
      "metadata": {
        "id": "4JdcqKm57rEr"
      },
      "source": [
        "## Submission Instructions\n",
        "\n",
        "- After you have completed the notebook, select **Runtime > Run all**\n",
        "- After the notebook finishes rerunning check to make sure that you have no errors and everything runs properly.  Fix any problems and redo this step until it works.\n",
        "- Rename this notebook by clicking on \"DATA 301 Lab 2A - YOUR NAMES HERE\" at the very top of this page. Replace \"YOUR NAMES HERE\" with the first and last names of you and your partner (if you worked with one).\n",
        "- Expand all cells with View > Expand Sections\n",
        "- Save a PDF version: File > Print > Save as PDF\n",
        "    - Under \"More Settings\" make sure \"Background graphics\" is checked\n",
        "    - Printing Colab to PDF doesn't always work so well and some of your output might get cutoff. That's ok.\n",
        "    - It's not necessary, but if you want a more nicely formatted PDF you can uncomment and run the code in the following cell. (Here's a [video](https://www.youtube.com/watch?v=-Ti9Mm21uVc) with other options.)\n",
        "- Download the notebook: File > Download .ipynb\n",
        "- Submit the notebook and PDF in Canvas. If you worked in a pair, only one person should submit in Canvas."
      ]
    },
    {
      "cell_type": "code",
      "execution_count": null,
      "metadata": {
        "id": "5pOzNxPmkBee"
      },
      "outputs": [],
      "source": [
        "# !wget -nc https://raw.githubusercontent.com/brpy/colab-pdf/master/colab_pdf.py\n",
        "# from colab_pdf import colab_pdf\n",
        "# colab_pdf('DATA 301 Lab1A - YOUR NAMES HERE.ipynb')"
      ]
    }
  ],
  "metadata": {
    "colab": {
      "provenance": []
    },
    "kernelspec": {
      "display_name": "Python 3",
      "language": "python",
      "name": "python3"
    },
    "language_info": {
      "codemirror_mode": {
        "name": "ipython",
        "version": 3
      },
      "file_extension": ".py",
      "mimetype": "text/x-python",
      "name": "python",
      "nbconvert_exporter": "python",
      "pygments_lexer": "ipython3",
      "version": "3.9.6"
    }
  },
  "nbformat": 4,
  "nbformat_minor": 0
}
