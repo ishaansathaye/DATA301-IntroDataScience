{
  "cells": [
    {
      "cell_type": "markdown",
      "metadata": {
        "id": "tz5MYp2mgc1O"
      },
      "source": [
        "# Linear Regression\n",
        "\n",
        "In 1991, Orley Ashenfelter, an economics professor at Princeton University, stunned the wine world with a bold prediction. He predicted that the 1990 vintage of Bordeaux wines would be the \"wine of the century,'' even better than the prized 1961 vintage. Furthermore, he made this prediction without tasting even a drop of the wine, which had been placed in oak barrels just months earlier.\n",
        "\n",
        "How did Ashenfelter predict the quality of the wine without tasting it? He used data on past vintages to come up with the following formula for predicting wine quality:\n",
        "\n",
        "\\begin{align}\n",
        "    \\widehat{\\text{wine quality}} = -7.8 &+ 0.62 \\cdot (\\text{average summer temperature}) \\nonumber \\\\\n",
        "    &+ 0.0012 \\cdot (\\text{winter rainfall}) \\nonumber \\\\\n",
        "    &- 0.0037 \\cdot (\\text{harvest rainfall}) \\nonumber \\\\\n",
        "    &+ 0.024 \\cdot (\\text{age of the wine})\n",
        "\\end{align}\n",
        "\n",
        "The variable on the left-hand side of this expression, wine quality, is what we are trying to predict and is called\n",
        "the **target** (or **label**). (The hat symbol over  \"wine quality\" indicates that the values are predicted instead of observed.) The variables on the right-hand side, such as \"average summer temperature\" and \"harvest rainfall,\" are called **features** and are the inputs used to predict the target. Although Ashenfelter had no way of knowing the quality of the 1990 wines, he did have the values of the features in 1990, so to make a prediction, all he had to do was plug those values into the equation above. In this way, he arrived at the following prediction for the quality of the 1990 Bordeaux, after they had been aged for 31 years (like the 1961 Bordeaux had been at the time):\n",
        "\n",
        "\\begin{align}\n",
        "    -7.8 &+ 0.62 \\cdot (18.7) \\nonumber \\\\\n",
        "    &+ 0.0012 \\cdot (468) \\nonumber \\\\\n",
        "    &- 0.0037 \\cdot (80) \\nonumber \\\\\n",
        "    &+ 0.024 \\cdot (31) = 4.8.\n",
        "\\end{align}\n",
        "\n",
        "For comparison, the quality of the prized 1961 vintage was 4.6.\n",
        "\n",
        "You can imagine the uproar from wine experts, who had spent years refining their palates to distinguish good wines from bad. Robert Parker, the most influential wine critic in America, called Ashenfelter's predictions \"ludicrous and absurd\", comparing him to a \"movie critic who never goes to see the movie but tells you how good it is based on the actors and the director.\" It did not help that Ashenfelter had also openly challenged Parker's rating of the 1986 Bordeaux. Parker thought they would be \"very good and sometimes exceptional.\" But according to Ashenfelter's formula, the low summer temperatures and high harvest rainfalls in 1986 doomed the vintage.\n",
        "\n",
        "Who was right? Thirty years later, Robert Parker ranks the 1986 Bordeaux well, but the 1990 Bordeaux wines are exceptional, with three of the six wines scoring a 98 on a 100-point scale.\n",
        "\n",
        "In this lesson, we will reproduce Ashenfelter's analysis, which is an example of **machine learning**. Machine learning is concerned with the general problem of how to use data to make predictions. The process of producing a model like Ashenfelter's from data is called **fitting** a model (although the terms _training_ or _learning_ are also used), and the data that is used to fit the model is the **training data**."
      ]
    },
    {
      "cell_type": "markdown",
      "metadata": {
        "id": "kBuD03vngc12"
      },
      "source": [
        "## Getting Familiar with the Data\n",
        "\n",
        "First, we read in the historical data that Ashenfelter used. The observational unit in this data set is the vintage, so we index this `DataFrame` by the year."
      ]
    },
    {
      "cell_type": "code",
      "execution_count": 1,
      "metadata": {
        "id": "80drpebdgc14"
      },
      "outputs": [
        {
          "data": {
            "text/html": [
              "<div>\n",
              "<style scoped>\n",
              "    .dataframe tbody tr th:only-of-type {\n",
              "        vertical-align: middle;\n",
              "    }\n",
              "\n",
              "    .dataframe tbody tr th {\n",
              "        vertical-align: top;\n",
              "    }\n",
              "\n",
              "    .dataframe thead th {\n",
              "        text-align: right;\n",
              "    }\n",
              "</style>\n",
              "<table border=\"1\" class=\"dataframe\">\n",
              "  <thead>\n",
              "    <tr style=\"text-align: right;\">\n",
              "      <th></th>\n",
              "      <th>price</th>\n",
              "      <th>summer</th>\n",
              "      <th>har</th>\n",
              "      <th>sep</th>\n",
              "      <th>win</th>\n",
              "      <th>age</th>\n",
              "    </tr>\n",
              "    <tr>\n",
              "      <th>year</th>\n",
              "      <th></th>\n",
              "      <th></th>\n",
              "      <th></th>\n",
              "      <th></th>\n",
              "      <th></th>\n",
              "      <th></th>\n",
              "    </tr>\n",
              "  </thead>\n",
              "  <tbody>\n",
              "    <tr>\n",
              "      <th>1952</th>\n",
              "      <td>37.0</td>\n",
              "      <td>17.1</td>\n",
              "      <td>160</td>\n",
              "      <td>14.3</td>\n",
              "      <td>600</td>\n",
              "      <td>40</td>\n",
              "    </tr>\n",
              "    <tr>\n",
              "      <th>1953</th>\n",
              "      <td>63.0</td>\n",
              "      <td>16.7</td>\n",
              "      <td>80</td>\n",
              "      <td>17.3</td>\n",
              "      <td>690</td>\n",
              "      <td>39</td>\n",
              "    </tr>\n",
              "    <tr>\n",
              "      <th>1955</th>\n",
              "      <td>45.0</td>\n",
              "      <td>17.1</td>\n",
              "      <td>130</td>\n",
              "      <td>16.8</td>\n",
              "      <td>502</td>\n",
              "      <td>37</td>\n",
              "    </tr>\n",
              "    <tr>\n",
              "      <th>1957</th>\n",
              "      <td>22.0</td>\n",
              "      <td>16.1</td>\n",
              "      <td>110</td>\n",
              "      <td>16.2</td>\n",
              "      <td>420</td>\n",
              "      <td>35</td>\n",
              "    </tr>\n",
              "    <tr>\n",
              "      <th>1958</th>\n",
              "      <td>18.0</td>\n",
              "      <td>16.4</td>\n",
              "      <td>187</td>\n",
              "      <td>19.1</td>\n",
              "      <td>582</td>\n",
              "      <td>34</td>\n",
              "    </tr>\n",
              "  </tbody>\n",
              "</table>\n",
              "</div>"
            ],
            "text/plain": [
              "      price  summer  har   sep  win  age\n",
              "year                                    \n",
              "1952   37.0    17.1  160  14.3  600   40\n",
              "1953   63.0    16.7   80  17.3  690   39\n",
              "1955   45.0    17.1  130  16.8  502   37\n",
              "1957   22.0    16.1  110  16.2  420   35\n",
              "1958   18.0    16.4  187  19.1  582   34"
            ]
          },
          "execution_count": 1,
          "metadata": {},
          "output_type": "execute_result"
        }
      ],
      "source": [
        "import pandas as pd\n",
        "data_dir = \"https://dlsun.github.io/pods/data/\"\n",
        "bordeaux_df = pd.read_csv(data_dir + \"bordeaux.csv\",\n",
        "                          index_col=\"year\")\n",
        "bordeaux_df.head()"
      ]
    },
    {
      "cell_type": "markdown",
      "metadata": {
        "id": "24fRMKkZgc1_"
      },
      "source": [
        "The **price** column is in 1981 dollars, normalized so that the 1961 Bordeaux has a price of 100. Price is a reasonable proxy for the quality of the wine. The **summer** column contains the average summer temperature (in degrees Celsius), while the **har** and **win** columns contain the harvest and winter rainfalls (in millimeters). The **sep** column stores the average temperature in September, which Ashenfelter did not include in his model."
      ]
    },
    {
      "cell_type": "markdown",
      "metadata": {
        "id": "vL21wyW0gc2B"
      },
      "source": [
        "Let us also take a peek at the end of this `DataFrame`."
      ]
    },
    {
      "cell_type": "code",
      "execution_count": 2,
      "metadata": {
        "id": "pY5XHupXgc2C"
      },
      "outputs": [
        {
          "data": {
            "text/html": [
              "<div>\n",
              "<style scoped>\n",
              "    .dataframe tbody tr th:only-of-type {\n",
              "        vertical-align: middle;\n",
              "    }\n",
              "\n",
              "    .dataframe tbody tr th {\n",
              "        vertical-align: top;\n",
              "    }\n",
              "\n",
              "    .dataframe thead th {\n",
              "        text-align: right;\n",
              "    }\n",
              "</style>\n",
              "<table border=\"1\" class=\"dataframe\">\n",
              "  <thead>\n",
              "    <tr style=\"text-align: right;\">\n",
              "      <th></th>\n",
              "      <th>price</th>\n",
              "      <th>summer</th>\n",
              "      <th>har</th>\n",
              "      <th>sep</th>\n",
              "      <th>win</th>\n",
              "      <th>age</th>\n",
              "    </tr>\n",
              "    <tr>\n",
              "      <th>year</th>\n",
              "      <th></th>\n",
              "      <th></th>\n",
              "      <th></th>\n",
              "      <th></th>\n",
              "      <th></th>\n",
              "      <th></th>\n",
              "    </tr>\n",
              "  </thead>\n",
              "  <tbody>\n",
              "    <tr>\n",
              "      <th>1987</th>\n",
              "      <td>NaN</td>\n",
              "      <td>17.0</td>\n",
              "      <td>115</td>\n",
              "      <td>18.9</td>\n",
              "      <td>452</td>\n",
              "      <td>5</td>\n",
              "    </tr>\n",
              "    <tr>\n",
              "      <th>1988</th>\n",
              "      <td>NaN</td>\n",
              "      <td>17.1</td>\n",
              "      <td>59</td>\n",
              "      <td>16.8</td>\n",
              "      <td>808</td>\n",
              "      <td>4</td>\n",
              "    </tr>\n",
              "    <tr>\n",
              "      <th>1989</th>\n",
              "      <td>NaN</td>\n",
              "      <td>18.6</td>\n",
              "      <td>82</td>\n",
              "      <td>18.4</td>\n",
              "      <td>443</td>\n",
              "      <td>3</td>\n",
              "    </tr>\n",
              "    <tr>\n",
              "      <th>1990</th>\n",
              "      <td>NaN</td>\n",
              "      <td>18.7</td>\n",
              "      <td>80</td>\n",
              "      <td>19.3</td>\n",
              "      <td>468</td>\n",
              "      <td>2</td>\n",
              "    </tr>\n",
              "    <tr>\n",
              "      <th>1991</th>\n",
              "      <td>NaN</td>\n",
              "      <td>17.7</td>\n",
              "      <td>183</td>\n",
              "      <td>20.4</td>\n",
              "      <td>570</td>\n",
              "      <td>1</td>\n",
              "    </tr>\n",
              "  </tbody>\n",
              "</table>\n",
              "</div>"
            ],
            "text/plain": [
              "      price  summer  har   sep  win  age\n",
              "year                                    \n",
              "1987    NaN    17.0  115  18.9  452    5\n",
              "1988    NaN    17.1   59  16.8  808    4\n",
              "1989    NaN    18.6   82  18.4  443    3\n",
              "1990    NaN    18.7   80  19.3  468    2\n",
              "1991    NaN    17.7  183  20.4  570    1"
            ]
          },
          "execution_count": 2,
          "metadata": {},
          "output_type": "execute_result"
        }
      ],
      "source": [
        "bordeaux_df.tail()"
      ]
    },
    {
      "cell_type": "markdown",
      "metadata": {
        "id": "28uXMx4kgc2H"
      },
      "source": [
        "We see that the `DataFrame` also contains data for vintages where the price is missing (including 1990, the vintage for which Ashenfelter made his prediction). In fact, prices are only available up to 1980, as it takes several years before wine quality can be estimated with much reliability), so only part of the `DataFrame` can be used for training. The rest of the data, where the features are known but the target is not, is called the **test data**. Machine learning fits a model to the training data, which is then used to predict the targets in the test data. The following code splits the `DataFrame` into the training and test sets."
      ]
    },
    {
      "cell_type": "code",
      "execution_count": 3,
      "metadata": {
        "id": "BQ8xffEcgc2J"
      },
      "outputs": [],
      "source": [
        "bordeaux_train = bordeaux_df.loc[:1980].copy()\n",
        "bordeaux_test = bordeaux_df.loc[1981:].copy()"
      ]
    },
    {
      "cell_type": "markdown",
      "metadata": {
        "id": "TXbNNzWRgc2O"
      },
      "source": [
        "## Warm-Up: A Model with One Feature\n",
        "\n",
        "Before fitting a model that uses all of the features, we first consider a model that uses only the age of the wine to predict the price. That is, we fit a model of the form\n",
        "\\begin{equation}\n",
        "    \\widehat{\\text{price}} = b + c \\cdot \\text{age},\n",
        "\\end{equation}\n",
        "where $b$ and $c$ are numbers that we will learn from the training data. Models of the form above are called **linear regression** models. (The way in which this model is \"linear\" will become apparent in a moment.) This model only involves two variables, **age** and **price**, so we can visualize the data easily using a scatterplot)."
      ]
    },
    {
      "cell_type": "code",
      "execution_count": 4,
      "metadata": {
        "id": "v3KbYMldgc2Q"
      },
      "outputs": [
        {
          "data": {
            "text/plain": [
              "<Axes: xlabel='age', ylabel='price'>"
            ]
          },
          "execution_count": 4,
          "metadata": {},
          "output_type": "execute_result"
        },
        {
          "data": {
            "image/png": "[encoded data removed]",
            "text/plain": [
              "<Figure size 640x480 with 1 Axes>"
            ]
          },
          "metadata": {},
          "output_type": "display_data"
        }
      ],
      "source": [
        "bordeaux_train.plot.scatter(x=\"age\", y=\"price\")"
      ]
    },
    {
      "cell_type": "markdown",
      "metadata": {
        "id": "ejFCGYtlgc2Y"
      },
      "source": [
        "Now, to fit models like the above to the training data, we use the scikit-learn package, which we have already used for transforming variables and calculating distances. However, its main purpose is to fit machine learning models, including linear regression. All models in scikit-learn are used in essentially the same way, following the three-step pattern:\n",
        "\n",
        "1. Declare the model.\n",
        "2. Fit the model to training data.\n",
        "3. Use the model to predict on test data.\n",
        "\n",
        "In the case of the linear regression model above --- with age as the only features and price as the target --- the code is as follows."
      ]
    },
    {
      "cell_type": "code",
      "execution_count": 5,
      "metadata": {
        "id": "M5tdMqZugc2b"
      },
      "outputs": [
        {
          "data": {
            "text/plain": [
              "array([12.41648163, 11.26046336, 10.1044451 ,  8.94842683,  7.79240856,\n",
              "        6.6363903 ,  5.48037203,  4.32435376,  3.1683355 ,  2.01231723,\n",
              "        0.85629897])"
            ]
          },
          "execution_count": 5,
          "metadata": {},
          "output_type": "execute_result"
        }
      ],
      "source": [
        "from sklearn.linear_model import LinearRegression\n",
        "\n",
        "X_train = bordeaux_train[[\"age\"]]\n",
        "X_test = bordeaux_test[[\"age\"]]\n",
        "y_train = bordeaux_train[\"price\"]\n",
        "\n",
        "model = LinearRegression()\n",
        "model.fit(X=X_train, y=y_train)\n",
        "model.predict(X=X_test)"
      ]
    },
    {
      "cell_type": "markdown",
      "metadata": {
        "id": "vXNLm4DHgc2l"
      },
      "source": [
        "The parameters of `.fit()` are `X` for the features and `y` for the targets, which are assumed to be 2-D and 1-D arrays of numbers, respectively. So even when there is only one feature, as in this case, we still need to supply a 2-D array with one column---hence, the double brackets around `\"age\"` when defining `X_train` and `X_test`.\n",
        "\n",
        "By contrast, `.predict()` only has one parameter, `X` for the features. That is because its job is to predict the targets `y` for the given features. Note that the predictions will always be returned in the form of `numpy` arrays, no matter the type of the input data---so although we supplied `pandas` objects, `sklearn` still returned the predicted values as `numpy` arrays. The predictions are in the same order as the rows of `X`."
      ]
    },
    {
      "cell_type": "markdown",
      "metadata": {
        "id": "XFtfFRqRgc2v"
      },
      "source": [
        "Because there are only two variables involved, the model above is a rare example of a machine learning model we can visualize. A general way to do this is to generate a fine grid of `X` values using `np.linspace()` and call `model.predict()` to get the predicted target at each of these values. We can then use these predictions to draw a curve which depicts the predicted value of `y` at each value of `X`. In the code below, we put the predictions in a `pandas` `Series`, indexed by the `X` values, and then call `.plot.line()`."
      ]
    },
    {
      "cell_type": "code",
      "execution_count": 6,
      "metadata": {
        "id": "imqK17uOgc20"
      },
      "outputs": [
        {
          "data": {
            "text/plain": [
              "<Axes: xlabel='age', ylabel='price'>"
            ]
          },
          "execution_count": 6,
          "metadata": {},
          "output_type": "execute_result"
        },
        {
          "data": {
            "image/png": "[encoded data removed]",
            "text/plain": [
              "<Figure size 640x480 with 1 Axes>"
            ]
          },
          "metadata": {},
          "output_type": "display_data"
        }
      ],
      "source": [
        "import numpy as np\n",
        "\n",
        "X_new = pd.DataFrame()\n",
        "# create a sequence of 200 evenly spaced numbers from 10 to 41\n",
        "X_new[\"age\"] = np.linspace(10, 41, num=200)\n",
        "\n",
        "# create a Series out of the predicted values\n",
        "# (trailing underscore indicates fitted values)\n",
        "y_new_ = pd.Series(\n",
        "    model.predict(X_new), # y values in Series.plot.line()\n",
        "    index=X_new[\"age\"]    # x values in Series.plot.line()\n",
        ")\n",
        "\n",
        "# plot the data, then the model\n",
        "bordeaux_train.plot.scatter(x=\"age\", y=\"price\")\n",
        "y_new_.plot.line()"
      ]
    },
    {
      "cell_type": "markdown",
      "metadata": {
        "id": "4I42T5aGgc3E"
      },
      "source": [
        "The resulting plot is shown above. Notice that the curve is a straight line, which is why this model is called  _linear_ regression. In hindsight, this is obvious from the model equation: $b$ is simply the intercept and $c$ the slope of this line. All linear regression does is choose the intercept and slope to minimize the total squared distance between the points and the line---that is, between the observed and predicted prices. In mathematical terms, $b$ and $c$ are chosen to minimize\n",
        "\\begin{align}\n",
        "    & \\text{sum of } (\\text{price} - \\widehat{\\text{price}})^2 &= & & \\text{sum of } (\\text{price} - (b + c\\cdot \\text{age}))^2 \\\\\n",
        "    & \\text{over training data } &\\phantom{=} & & \\text{ over training data}.\n",
        "\\end{align}\n",
        "Since `sklearn` does this optimization for us, it is not necessary to understand the details of this process to extract useful insights out of linear regression. However, the math is explained in the appendix of this lesson for those who are curious."
      ]
    },
    {
      "cell_type": "markdown",
      "metadata": {
        "id": "HjyNFyiNgc3J"
      },
      "source": [
        "## What to Do about Nonlinearity\n",
        "\n",
        "One question is whether the relationship between age and price is truly linear. In the graph above, it seems that the points deviate more from the line when prices are high than when they are low. To correct this, we need to spread out low prices and rein in high prices. We have seen that this can be achieved by applying a log transformation to the prices. Let's add a column to the training data for the log-price."
      ]
    },
    {
      "cell_type": "code",
      "execution_count": 7,
      "metadata": {
        "id": "OEdVbxqugc3O"
      },
      "outputs": [],
      "source": [
        "bordeaux_train[\"log(price)\"] = np.log(bordeaux_train[\"price\"])"
      ]
    },
    {
      "cell_type": "markdown",
      "metadata": {
        "id": "DKsRIkhdgc3V"
      },
      "source": [
        "Now, we will fit a linear regression model to predict this new target. That is, in contrast to the previous model, we now fit the model\n",
        "\\begin{equation}\n",
        "    \\widehat{\\text{log(price)}} = b + c \\cdot \\text{age},\n",
        "\\end{equation}\n",
        "where $b$ and $c$ are chosen to minimize\n",
        "\\begin{equation}\n",
        "    \\text{sum of } (\\text{log(price)} - \\widehat{\\text{log(price)}})^2 \\text{ over training data}\n",
        "\\end{equation}\n",
        "over the training data. The code below fits this model."
      ]
    },
    {
      "cell_type": "code",
      "execution_count": 8,
      "metadata": {
        "id": "leZ3mYykgc3W"
      },
      "outputs": [
        {
          "data": {
            "text/plain": [
              "<Axes: xlabel='age', ylabel='log(price)'>"
            ]
          },
          "execution_count": 8,
          "metadata": {},
          "output_type": "execute_result"
        },
        {
          "data": {
            "image/png": "[encoded data removed]",
            "text/plain": [
              "<Figure size 640x480 with 1 Axes>"
            ]
          },
          "metadata": {},
          "output_type": "display_data"
        }
      ],
      "source": [
        "log_price_model = LinearRegression()\n",
        "log_price_model.fit(X=bordeaux_train[[\"age\"]],\n",
        "                    y=bordeaux_train[\"log(price)\"])\n",
        "\n",
        "X_new = pd.DataFrame()\n",
        "X_new[\"age\"] = np.linspace(10, 41, num=200)\n",
        "y_new_ = pd.Series(\n",
        "    log_price_model.predict(X_new),\n",
        "    index=X_new[\"age\"]\n",
        ")\n",
        "\n",
        "bordeaux_train.plot.scatter(x=\"age\", y=\"log(price)\")\n",
        "y_new_.plot.line()"
      ]
    },
    {
      "cell_type": "markdown",
      "metadata": {
        "id": "nRPZ83ixgc3b"
      },
      "source": [
        "The points are more evenly spread out when the target is log-price instead of price. For this reason, Ashenfelter chose log-price to be the measure of \"wine quality\" in his linear regression model."
      ]
    },
    {
      "cell_type": "markdown",
      "metadata": {
        "id": "27CMYtQLgc3d"
      },
      "source": [
        "## Fitting Ashenfelter's Model\n",
        "\n",
        "We are now ready to reproduce Ashenfelter's analysis. To do so, we will need to fit a linear regression model that predicts the log-price from the average summer temperature, winter rainfall, harvest rainfall, and the age of the wine. In other words, the model is of the form\n",
        "\\begin{align}\n",
        "    \\widehat{\\text{log(price)}} = b &+ c_1 \\cdot (\\text{average summer temperature}) \\nonumber \\\\\n",
        "    &+ c_2 \\cdot (\\text{winter rainfall}) \\nonumber \\\\\n",
        "    &+ c_3 \\cdot (\\text{harvest rainfall}) \\nonumber \\\\\n",
        "    &+ c_4 \\cdot (\\text{age of the wine}), \n",
        "\\end{align}\n",
        "where $b, c_1, c_2, c_3, c_4$ are chosen to minimize\n",
        "\\begin{equation}\n",
        "    \\text{sum of } (\\text{log(price)} - \\widehat{\\text{log(price)}})^2 \\text{ over training data.}\n",
        "\\end{equation}\n",
        "This is still a _linear regression_ model, albeit a more complicated one.\n",
        "\n",
        "The code to fit this model is the natural extension of the code we wrote to fit the earlier models in this lesson. Instead of passing `bordeaux_train[[\"age\"]]` for `X`, we now supply a `DataFrame` containing all of the features we want to be in the model."
      ]
    },
    {
      "cell_type": "code",
      "execution_count": 9,
      "metadata": {
        "id": "I7gTVpC_gc3f"
      },
      "outputs": [
        {
          "data": {
            "text/html": [
              "<style>#sk-container-id-1 {color: black;}#sk-container-id-1 pre{padding: 0;}#sk-container-id-1 div.sk-toggleable {background-color: white;}#sk-container-id-1 label.sk-toggleable__label {cursor: pointer;display: block;width: 100%;margin-bottom: 0;padding: 0.3em;box-sizing: border-box;text-align: center;}#sk-container-id-1 label.sk-toggleable__label-arrow:before {content: \"▸\";float: left;margin-right: 0.25em;color: #696969;}#sk-container-id-1 label.sk-toggleable__label-arrow:hover:before {color: black;}#sk-container-id-1 div.sk-estimator:hover label.sk-toggleable__label-arrow:before {color: black;}#sk-container-id-1 div.sk-toggleable__content {max-height: 0;max-width: 0;overflow: hidden;text-align: left;background-color: #f0f8ff;}#sk-container-id-1 div.sk-toggleable__content pre {margin: 0.2em;color: black;border-radius: 0.25em;background-color: #f0f8ff;}#sk-container-id-1 input.sk-toggleable__control:checked~div.sk-toggleable__content {max-height: 200px;max-width: 100%;overflow: auto;}#sk-container-id-1 input.sk-toggleable__control:checked~label.sk-toggleable__label-arrow:before {content: \"▾\";}#sk-container-id-1 div.sk-estimator input.sk-toggleable__control:checked~label.sk-toggleable__label {background-color: #d4ebff;}#sk-container-id-1 div.sk-label input.sk-toggleable__control:checked~label.sk-toggleable__label {background-color: #d4ebff;}#sk-container-id-1 input.sk-hidden--visually {border: 0;clip: rect(1px 1px 1px 1px);clip: rect(1px, 1px, 1px, 1px);height: 1px;margin: -1px;overflow: hidden;padding: 0;position: absolute;width: 1px;}#sk-container-id-1 div.sk-estimator {font-family: monospace;background-color: #f0f8ff;border: 1px dotted black;border-radius: 0.25em;box-sizing: border-box;margin-bottom: 0.5em;}#sk-container-id-1 div.sk-estimator:hover {background-color: #d4ebff;}#sk-container-id-1 div.sk-parallel-item::after {content: \"\";width: 100%;border-bottom: 1px solid gray;flex-grow: 1;}#sk-container-id-1 div.sk-label:hover label.sk-toggleable__label {background-color: #d4ebff;}#sk-container-id-1 div.sk-serial::before {content: \"\";position: absolute;border-left: 1px solid gray;box-sizing: border-box;top: 0;bottom: 0;left: 50%;z-index: 0;}#sk-container-id-1 div.sk-serial {display: flex;flex-direction: column;align-items: center;background-color: white;padding-right: 0.2em;padding-left: 0.2em;position: relative;}#sk-container-id-1 div.sk-item {position: relative;z-index: 1;}#sk-container-id-1 div.sk-parallel {display: flex;align-items: stretch;justify-content: center;background-color: white;position: relative;}#sk-container-id-1 div.sk-item::before, #sk-container-id-1 div.sk-parallel-item::before {content: \"\";position: absolute;border-left: 1px solid gray;box-sizing: border-box;top: 0;bottom: 0;left: 50%;z-index: -1;}#sk-container-id-1 div.sk-parallel-item {display: flex;flex-direction: column;z-index: 1;position: relative;background-color: white;}#sk-container-id-1 div.sk-parallel-item:first-child::after {align-self: flex-end;width: 50%;}#sk-container-id-1 div.sk-parallel-item:last-child::after {align-self: flex-start;width: 50%;}#sk-container-id-1 div.sk-parallel-item:only-child::after {width: 0;}#sk-container-id-1 div.sk-dashed-wrapped {border: 1px dashed gray;margin: 0 0.4em 0.5em 0.4em;box-sizing: border-box;padding-bottom: 0.4em;background-color: white;}#sk-container-id-1 div.sk-label label {font-family: monospace;font-weight: bold;display: inline-block;line-height: 1.2em;}#sk-container-id-1 div.sk-label-container {text-align: center;}#sk-container-id-1 div.sk-container {/* jupyter's `normalize.less` sets `[hidden] { display: none; }` but bootstrap.min.css set `[hidden] { display: none !important; }` so we also need the `!important` here to be able to override the default hidden behavior on the sphinx rendered scikit-learn.org. See: https://github.com/scikit-learn/scikit-learn/issues/21755 */display: inline-block !important;position: relative;}#sk-container-id-1 div.sk-text-repr-fallback {display: none;}</style><div id=\"sk-container-id-1\" class=\"sk-top-container\"><div class=\"sk-text-repr-fallback\"><pre>LinearRegression()</pre><b>In a Jupyter environment, please rerun this cell to show the HTML representation or trust the notebook. <br />On GitHub, the HTML representation is unable to render, please try loading this page with nbviewer.org.</b></div><div class=\"sk-container\" hidden><div class=\"sk-item\"><div class=\"sk-estimator sk-toggleable\"><input class=\"sk-toggleable__control sk-hidden--visually\" id=\"sk-estimator-id-1\" type=\"checkbox\" checked><label for=\"sk-estimator-id-1\" class=\"sk-toggleable__label sk-toggleable__label-arrow\">LinearRegression</label><div class=\"sk-toggleable__content\"><pre>LinearRegression()</pre></div></div></div></div></div>"
            ],
            "text/plain": [
              "LinearRegression()"
            ]
          },
          "execution_count": 9,
          "metadata": {},
          "output_type": "execute_result"
        }
      ],
      "source": [
        "ashen_model = LinearRegression()\n",
        "ashen_model.fit(\n",
        "    X=bordeaux_train[[\"summer\", \"win\", \"har\", \"age\"]],\n",
        "    y=bordeaux_train[\"log(price)\"]\n",
        ")"
      ]
    },
    {
      "cell_type": "markdown",
      "metadata": {
        "id": "hE_Ke72dgc35"
      },
      "source": [
        "This model is much harder to visualize, since it involves five variables: four features, plus the target. Nevertheless, we can obtain predictions from it just as we did with the simpler models above. We just need to supply the values of all of the features in the model, in the same order as in the training data."
      ]
    },
    {
      "cell_type": "code",
      "execution_count": 10,
      "metadata": {
        "id": "VizNj96-gc36"
      },
      "outputs": [
        {
          "data": {
            "text/plain": [
              "array([3.17926885, 3.4231464 , 3.71919787, 2.83391541, 3.48195778,\n",
              "       2.4330387 , 2.91879638, 3.5924235 , 3.97294747, 4.04789338,\n",
              "       3.14087609])"
            ]
          },
          "execution_count": 10,
          "metadata": {},
          "output_type": "execute_result"
        }
      ],
      "source": [
        "ashen_model.predict(\n",
        "    X=bordeaux_test[[\"summer\", \"win\", \"har\", \"age\"]]\n",
        ")"
      ]
    },
    {
      "cell_type": "markdown",
      "metadata": {
        "id": "yfpP96Nggc4C"
      },
      "source": [
        "## Interpreting the Model\n",
        "\n",
        "Even though we cannot visualize Ashenfelter's model, we can still\n",
        "interpret the model by examining the values of the _intercept_ $b$ and the _coefficients_ $c_1, c_2, c_3, c_4$.\n",
        "\n",
        "The coefficients are saved in the `.coef_` attribute, after the model has been fitted. (As above, the trailing underscore in `.coef_` reminds us that these are fitted values.)"
      ]
    },
    {
      "cell_type": "code",
      "execution_count": 11,
      "metadata": {
        "id": "8SGCnIk_gc4E"
      },
      "outputs": [
        {
          "data": {
            "text/plain": [
              "array([ 0.61871092,  0.00119721, -0.00374825,  0.02435187])"
            ]
          },
          "execution_count": 11,
          "metadata": {},
          "output_type": "execute_result"
        }
      ],
      "source": [
        "ashen_model.coef_"
      ]
    },
    {
      "cell_type": "markdown",
      "metadata": {
        "id": "CGVfEskHgc4L"
      },
      "source": [
        "These coefficients are in the same order as the columns of `X`. So $0.6187$ is the coefficient for **summer**, $0.0012$ the coefficient for **win**, and so on. If you compare these values with the model at the beginning of this lesson, you will see that they are exactly the coefficients that Ashenfelter obtained.\n",
        "\n",
        "A positive coefficient means that the predicted target _increases_ as that feature increases, while a negative coefficient means that it _decreases_ as that feature increases. Since **win** has a positive coefficient $(0.0012)$ and **har** has a negative coefficient $(-0.0037)$, we conclude from the model that Bordeaux wines tend to be best when winter rainfall is high and harvest rainfall is low (holding other variables constant).\n",
        "\n",
        "Another essential component of a linear regression model is the _intercept_, which is stored in the `.intercept_` attribute, separately from the coefficients."
      ]
    },
    {
      "cell_type": "code",
      "execution_count": 12,
      "metadata": {
        "id": "6oc0NmtLgc4M"
      },
      "outputs": [
        {
          "data": {
            "text/plain": [
              "-7.831137841446709"
            ]
          },
          "execution_count": 12,
          "metadata": {},
          "output_type": "execute_result"
        }
      ],
      "source": [
        "ashen_model.intercept_"
      ]
    },
    {
      "cell_type": "markdown",
      "metadata": {
        "id": "KxOtqiSdgc4Z"
      },
      "source": [
        "In principle, the intercept is the predicted value when all of the features are equal to $0$. However, this interpretation is often purely hypothetical, since it may be impossible for some features to be $0$. For example, to interpret the intercept of $-7.8$ in the model above, we would have to set **summer** equal to $0$. That is, we would have to imagine a summer in Bordeaux, France where the average temperature was $0^\\circ\\text{C}$ (i.e., freezing), which would be so catastrophic that the quality of red wine would be the least of our worries!"
      ]
    }
  ],
  "metadata": {
    "colab": {
      "provenance": []
    },
    "kernelspec": {
      "display_name": "Python 3",
      "language": "python",
      "name": "python3"
    },
    "language_info": {
      "codemirror_mode": {
        "name": "ipython",
        "version": 3
      },
      "file_extension": ".py",
      "mimetype": "text/x-python",
      "name": "python",
      "nbconvert_exporter": "python",
      "pygments_lexer": "ipython3",
      "version": "3.9.6"
    }
  },
  "nbformat": 4,
  "nbformat_minor": 0
}
