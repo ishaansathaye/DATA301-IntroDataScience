{
  "cells": [
    {
      "cell_type": "markdown",
      "metadata": {
        "id": "uLq7mGD6kjMd"
      },
      "source": [
        "# Estimating Test Metrics for Classification"
      ]
    },
    {
      "cell_type": "markdown",
      "metadata": {
        "id": "XmKrVx3pkjMl"
      },
      "source": [
        "We have learned several scores (accuracy, precision, recall, F1) for evaluating classification models. We calculated these scores on the training data---that is, the same data that was used to evaluate the model. When studying regression models, we saw that evaluating machine learning models on the training data is problematic because a machine learning model can achieve a good training score by _overfitting_ to the training data. We argued that the goal of a machine learning model should be to achieve a good score on test data. However, true labels are often not available for the test data. Nevertheless, we can use cross-validation on the training data to estimate the test scores. These so-called validation scores can be used to select between models and tune hyperparameters.\n",
        "\n",
        "The same cross-validation process for regression models can be carried out for classification models. Instead of calculating the *training* accuracy, precision, etc., we estimate the *test* accuracy, precision, etc. using cross-validation. This notebook demonstrates how to carry out this program, but the concepts (and even the code) are essentially identical what we did for regression models.\n",
        "\n",
        "First, we define a classifier that we want to evaluate, once again using the breast cancer data."
      ]
    },
    {
      "cell_type": "code",
      "execution_count": 1,
      "metadata": {
        "id": "WCtQkyAokjMn"
      },
      "outputs": [
        {
          "data": {
            "text/html": [
              "<style>#sk-container-id-1 {color: black;}#sk-container-id-1 pre{padding: 0;}#sk-container-id-1 div.sk-toggleable {background-color: white;}#sk-container-id-1 label.sk-toggleable__label {cursor: pointer;display: block;width: 100%;margin-bottom: 0;padding: 0.3em;box-sizing: border-box;text-align: center;}#sk-container-id-1 label.sk-toggleable__label-arrow:before {content: \"▸\";float: left;margin-right: 0.25em;color: #696969;}#sk-container-id-1 label.sk-toggleable__label-arrow:hover:before {color: black;}#sk-container-id-1 div.sk-estimator:hover label.sk-toggleable__label-arrow:before {color: black;}#sk-container-id-1 div.sk-toggleable__content {max-height: 0;max-width: 0;overflow: hidden;text-align: left;background-color: #f0f8ff;}#sk-container-id-1 div.sk-toggleable__content pre {margin: 0.2em;color: black;border-radius: 0.25em;background-color: #f0f8ff;}#sk-container-id-1 input.sk-toggleable__control:checked~div.sk-toggleable__content {max-height: 200px;max-width: 100%;overflow: auto;}#sk-container-id-1 input.sk-toggleable__control:checked~label.sk-toggleable__label-arrow:before {content: \"▾\";}#sk-container-id-1 div.sk-estimator input.sk-toggleable__control:checked~label.sk-toggleable__label {background-color: #d4ebff;}#sk-container-id-1 div.sk-label input.sk-toggleable__control:checked~label.sk-toggleable__label {background-color: #d4ebff;}#sk-container-id-1 input.sk-hidden--visually {border: 0;clip: rect(1px 1px 1px 1px);clip: rect(1px, 1px, 1px, 1px);height: 1px;margin: -1px;overflow: hidden;padding: 0;position: absolute;width: 1px;}#sk-container-id-1 div.sk-estimator {font-family: monospace;background-color: #f0f8ff;border: 1px dotted black;border-radius: 0.25em;box-sizing: border-box;margin-bottom: 0.5em;}#sk-container-id-1 div.sk-estimator:hover {background-color: #d4ebff;}#sk-container-id-1 div.sk-parallel-item::after {content: \"\";width: 100%;border-bottom: 1px solid gray;flex-grow: 1;}#sk-container-id-1 div.sk-label:hover label.sk-toggleable__label {background-color: #d4ebff;}#sk-container-id-1 div.sk-serial::before {content: \"\";position: absolute;border-left: 1px solid gray;box-sizing: border-box;top: 0;bottom: 0;left: 50%;z-index: 0;}#sk-container-id-1 div.sk-serial {display: flex;flex-direction: column;align-items: center;background-color: white;padding-right: 0.2em;padding-left: 0.2em;position: relative;}#sk-container-id-1 div.sk-item {position: relative;z-index: 1;}#sk-container-id-1 div.sk-parallel {display: flex;align-items: stretch;justify-content: center;background-color: white;position: relative;}#sk-container-id-1 div.sk-item::before, #sk-container-id-1 div.sk-parallel-item::before {content: \"\";position: absolute;border-left: 1px solid gray;box-sizing: border-box;top: 0;bottom: 0;left: 50%;z-index: -1;}#sk-container-id-1 div.sk-parallel-item {display: flex;flex-direction: column;z-index: 1;position: relative;background-color: white;}#sk-container-id-1 div.sk-parallel-item:first-child::after {align-self: flex-end;width: 50%;}#sk-container-id-1 div.sk-parallel-item:last-child::after {align-self: flex-start;width: 50%;}#sk-container-id-1 div.sk-parallel-item:only-child::after {width: 0;}#sk-container-id-1 div.sk-dashed-wrapped {border: 1px dashed gray;margin: 0 0.4em 0.5em 0.4em;box-sizing: border-box;padding-bottom: 0.4em;background-color: white;}#sk-container-id-1 div.sk-label label {font-family: monospace;font-weight: bold;display: inline-block;line-height: 1.2em;}#sk-container-id-1 div.sk-label-container {text-align: center;}#sk-container-id-1 div.sk-container {/* jupyter's `normalize.less` sets `[hidden] { display: none; }` but bootstrap.min.css set `[hidden] { display: none !important; }` so we also need the `!important` here to be able to override the default hidden behavior on the sphinx rendered scikit-learn.org. See: https://github.com/scikit-learn/scikit-learn/issues/21755 */display: inline-block !important;position: relative;}#sk-container-id-1 div.sk-text-repr-fallback {display: none;}</style><div id=\"sk-container-id-1\" class=\"sk-top-container\"><div class=\"sk-text-repr-fallback\"><pre>Pipeline(steps=[(&#x27;standardscaler&#x27;, StandardScaler()),\n",
              "                (&#x27;kneighborsclassifier&#x27;, KNeighborsClassifier(n_neighbors=10))])</pre><b>In a Jupyter environment, please rerun this cell to show the HTML representation or trust the notebook. <br />On GitHub, the HTML representation is unable to render, please try loading this page with nbviewer.org.</b></div><div class=\"sk-container\" hidden><div class=\"sk-item sk-dashed-wrapped\"><div class=\"sk-label-container\"><div class=\"sk-label sk-toggleable\"><input class=\"sk-toggleable__control sk-hidden--visually\" id=\"sk-estimator-id-1\" type=\"checkbox\" ><label for=\"sk-estimator-id-1\" class=\"sk-toggleable__label sk-toggleable__label-arrow\">Pipeline</label><div class=\"sk-toggleable__content\"><pre>Pipeline(steps=[(&#x27;standardscaler&#x27;, StandardScaler()),\n",
              "                (&#x27;kneighborsclassifier&#x27;, KNeighborsClassifier(n_neighbors=10))])</pre></div></div></div><div class=\"sk-serial\"><div class=\"sk-item\"><div class=\"sk-estimator sk-toggleable\"><input class=\"sk-toggleable__control sk-hidden--visually\" id=\"sk-estimator-id-2\" type=\"checkbox\" ><label for=\"sk-estimator-id-2\" class=\"sk-toggleable__label sk-toggleable__label-arrow\">StandardScaler</label><div class=\"sk-toggleable__content\"><pre>StandardScaler()</pre></div></div></div><div class=\"sk-item\"><div class=\"sk-estimator sk-toggleable\"><input class=\"sk-toggleable__control sk-hidden--visually\" id=\"sk-estimator-id-3\" type=\"checkbox\" ><label for=\"sk-estimator-id-3\" class=\"sk-toggleable__label sk-toggleable__label-arrow\">KNeighborsClassifier</label><div class=\"sk-toggleable__content\"><pre>KNeighborsClassifier(n_neighbors=10)</pre></div></div></div></div></div></div></div>"
            ],
            "text/plain": [
              "Pipeline(steps=[('standardscaler', StandardScaler()),\n",
              "                ('kneighborsclassifier', KNeighborsClassifier(n_neighbors=10))])"
            ]
          },
          "execution_count": 1,
          "metadata": {},
          "output_type": "execute_result"
        }
      ],
      "source": [
        "import pandas as pd\n",
        "from sklearn.preprocessing import StandardScaler\n",
        "from sklearn.neighbors import KNeighborsClassifier\n",
        "from sklearn.pipeline import make_pipeline\n",
        "\n",
        "df_breast = pd.read_csv(\"http://dlsun.github.io/pods/data/breast-cancer.csv\")\n",
        "\n",
        "X_train = df_breast[[\"Clump Thickness\", \"Uniformity of Cell Size\"]]\n",
        "y_train = df_breast[\"Class\"]\n",
        "\n",
        "pipeline = make_pipeline(\n",
        "    StandardScaler(),\n",
        "    KNeighborsClassifier(n_neighbors=10)\n",
        ")\n",
        "\n",
        "pipeline.fit(X=X_train, y=y_train)"
      ]
    },
    {
      "cell_type": "markdown",
      "metadata": {
        "id": "KzRWgQ7qkjMy"
      },
      "source": [
        "To calculate test scores using $k$-fold cross validation, we use the `cross_val_score` function in scikit-learn. For example, to calculate test accuracy, we do the following:"
      ]
    },
    {
      "cell_type": "code",
      "execution_count": 2,
      "metadata": {
        "id": "UJ4TfB4SkjM1"
      },
      "outputs": [
        {
          "data": {
            "text/plain": [
              "array([0.92753623, 0.89855072, 0.92753623, 0.94117647, 0.94117647,\n",
              "       0.91176471, 0.95588235, 1.        , 0.98529412, 0.97058824])"
            ]
          },
          "execution_count": 2,
          "metadata": {},
          "output_type": "execute_result"
        }
      ],
      "source": [
        "from sklearn.model_selection import cross_val_score\n",
        "\n",
        "cv_scores = cross_val_score(pipeline, X_train, y_train,\n",
        "                            cv=10, scoring=\"accuracy\")\n",
        "cv_scores"
      ]
    },
    {
      "cell_type": "markdown",
      "metadata": {
        "id": "8891bSQPkjM6"
      },
      "source": [
        "Compare to the code we used to perform cross-validation for regression; the only change is to `scoring`.\n",
        "\n",
        "We get 10 accuracy scores, one from each of the $k=10$ folds. It is customary to average these accuracy scores to obtain one overall estimate of the test accuracy."
      ]
    },
    {
      "cell_type": "code",
      "execution_count": 3,
      "metadata": {
        "id": "4lzoByBGkjM8"
      },
      "outputs": [
        {
          "data": {
            "text/plain": [
              "0.9459505541346973"
            ]
          },
          "execution_count": 3,
          "metadata": {},
          "output_type": "execute_result"
        }
      ],
      "source": [
        "cv_scores.mean()"
      ]
    },
    {
      "cell_type": "markdown",
      "metadata": {
        "id": "gghNK3x3kjNC"
      },
      "source": [
        "This validation accuracy is high, but a little lower than the 95.3% training accuracy that we obtained in the previous lesson. This makes sense because it is always harder for a model to predict on data it has not seen than on data it saw.\n",
        "\n",
        "However, accuracy is still not a great performance measure, even if it is test accuracy (rather than training accuracy). Instead, we focus on precision, recall, and F1 score."
      ]
    },
    {
      "cell_type": "markdown",
      "metadata": {
        "id": "rlHU2vkMkjNF"
      },
      "source": [
        "Remember that each class of the target variable has its own precision, recall, and F1 score. Scikit-Learn can calculate the precision and recall of a class $c$, but the labels need to be converted to a binary label&mdash;that is, $1$ (or `True`) if the observation is in class $c$ and $0$ (or `False`) otherwise. For example, to calculate the precision for malignant tumors (class 1), we define the new label `is_malignant`."
      ]
    },
    {
      "cell_type": "code",
      "execution_count": 4,
      "metadata": {
        "id": "oFe5IG5ukjNN"
      },
      "outputs": [
        {
          "data": {
            "text/plain": [
              "array([0.91304348, 0.94736842, 0.91304348, 0.91304348, 0.85714286,\n",
              "       0.95      , 0.95652174, 1.        , 1.        , 0.95833333])"
            ]
          },
          "execution_count": 4,
          "metadata": {},
          "output_type": "execute_result"
        }
      ],
      "source": [
        "is_malignant = (y_train == 1)\n",
        "\n",
        "cv_scores = cross_val_score(pipeline, X_train, is_malignant,\n",
        "                cv=10, scoring=\"precision\")\n",
        "\n",
        "cv_scores"
      ]
    },
    {
      "cell_type": "markdown",
      "metadata": {
        "id": "0NIzu9J2RUId"
      },
      "source": [
        "Once again, we get 10 precision scores, one from each of the $k=10$ folds, which we can average to get an overall estimate of the test precision."
      ]
    },
    {
      "cell_type": "code",
      "execution_count": 5,
      "metadata": {
        "id": "m5GT609_RgVo"
      },
      "outputs": [
        {
          "data": {
            "text/plain": [
              "0.9408496785441866"
            ]
          },
          "execution_count": 5,
          "metadata": {},
          "output_type": "execute_result"
        }
      ],
      "source": [
        "precision_1 = cv_scores.mean()\n",
        "precision_1"
      ]
    },
    {
      "cell_type": "markdown",
      "metadata": {
        "id": "ium7JD8OmxkI"
      },
      "source": [
        "To calculate recall or F1 score for malignancy we just need to change the scoring."
      ]
    },
    {
      "cell_type": "code",
      "execution_count": 6,
      "metadata": {
        "id": "9rCgv8GYmxwN"
      },
      "outputs": [
        {
          "data": {
            "text/plain": [
              "0.9038043478260871"
            ]
          },
          "execution_count": 6,
          "metadata": {},
          "output_type": "execute_result"
        }
      ],
      "source": [
        "recall_1 = cross_val_score(pipeline, X_train, is_malignant,\n",
        "                cv=10, scoring=\"recall\").mean()\n",
        "recall_1"
      ]
    },
    {
      "cell_type": "code",
      "execution_count": 7,
      "metadata": {
        "id": "rrd28j-wnDKI"
      },
      "outputs": [
        {
          "data": {
            "text/plain": [
              "0.9197427060207539"
            ]
          },
          "execution_count": 7,
          "metadata": {},
          "output_type": "execute_result"
        }
      ],
      "source": [
        "f1score_1 = cross_val_score(pipeline, X_train, is_malignant,\n",
        "                cv=10, scoring=\"f1\").mean()\n",
        "\n",
        "f1score_1"
      ]
    },
    {
      "cell_type": "markdown",
      "metadata": {
        "id": "R9kzEeuVkjN1"
      },
      "source": [
        "Likewise, the validation precision, recall, and F1 score for benign (class = 0) tumors is"
      ]
    },
    {
      "cell_type": "code",
      "execution_count": 8,
      "metadata": {
        "id": "X29ZE0KekjN4"
      },
      "outputs": [
        {
          "data": {
            "text/plain": [
              "(0.9800264645465042, 0.9482323232323232, 0.9633975996956522)"
            ]
          },
          "execution_count": 8,
          "metadata": {},
          "output_type": "execute_result"
        }
      ],
      "source": [
        "is_benign = (y_train == 0)\n",
        "\n",
        "precision_0 = cross_val_score(pipeline, X_train, is_benign,\n",
        "                              cv=10, scoring=\"precision\").mean()\n",
        "\n",
        "recall_0 = cross_val_score(pipeline, X_train, is_benign,\n",
        "                           cv=10, scoring=\"recall\").mean()\n",
        "\n",
        "f1score_0 = cross_val_score(pipeline, X_train, is_benign,\n",
        "                            cv=10, scoring=\"f1\").mean()\n",
        "\n",
        "precision_0, recall_0, f1score_0"
      ]
    },
    {
      "cell_type": "markdown",
      "metadata": {
        "id": "_hxn9BeLpx74"
      },
      "source": [
        "Remember that each category of the target variables has its own precision, recall, and F1 score. We can average these values over the categories to get a \"model\" precision, recall, and F1 score using `_macro` scoring."
      ]
    },
    {
      "cell_type": "code",
      "execution_count": 9,
      "metadata": {
        "id": "X4sbSAiFowwA"
      },
      "outputs": [
        {
          "data": {
            "text/plain": [
              "(0.9456715619079684, 0.9552755819060167, 0.9491032590587702)"
            ]
          },
          "execution_count": 9,
          "metadata": {},
          "output_type": "execute_result"
        }
      ],
      "source": [
        "precision_macro = cross_val_score(pipeline, X_train, is_benign,\n",
        "                                  cv=10, scoring=\"precision_macro\").mean()\n",
        "\n",
        "recall_macro = cross_val_score(pipeline, X_train, is_benign,\n",
        "                               cv=10, scoring=\"recall_macro\").mean()\n",
        "\n",
        "f1score_macro = cross_val_score(pipeline, X_train, is_benign,\n",
        "                                cv=10, scoring=\"f1_macro\").mean()\n",
        "\n",
        "precision_macro, recall_macro, f1score_macro"
      ]
    },
    {
      "cell_type": "markdown",
      "metadata": {
        "id": "rlfLbhqWkjN-"
      },
      "source": [
        "## Hyperparameter Tuning\n",
        "\n",
        "Could we do better with a different value of $k$ in our $k$-nearest neighbors model? We can use cross-validation on a grid of $k$ values and pick the one that maximizes some score. Since the F1 score summarizes both precision and recall, we'll use F1 as the score. There are two F1 scores---one for the benign masses and the malignant masses---`_macro` specifies that we take the average."
      ]
    },
    {
      "cell_type": "code",
      "execution_count": 10,
      "metadata": {
        "id": "ULyEVdT1kjN_"
      },
      "outputs": [
        {
          "data": {
            "text/plain": [
              "{'kneighborsclassifier__n_neighbors': 7}"
            ]
          },
          "execution_count": 10,
          "metadata": {},
          "output_type": "execute_result"
        }
      ],
      "source": [
        "from sklearn.model_selection import GridSearchCV\n",
        "\n",
        "grid_search = GridSearchCV(\n",
        "    pipeline,\n",
        "    param_grid={\"kneighborsclassifier__n_neighbors\": range(1, 50)},\n",
        "    scoring=\"f1_macro\",\n",
        "    cv=10\n",
        ")\n",
        "\n",
        "grid_search.fit(X_train, y_train)\n",
        "grid_search.best_params_"
      ]
    },
    {
      "cell_type": "markdown",
      "metadata": {
        "id": "JK-oZjwrTrvY"
      },
      "source": [
        "The grid search identifies $k=7$ as optimal. How does this value compare to other values of $k$?"
      ]
    },
    {
      "cell_type": "code",
      "execution_count": 11,
      "metadata": {
        "id": "F-dZXyVGSS7r"
      },
      "outputs": [
        {
          "data": {
            "text/html": [
              "<div>\n",
              "<style scoped>\n",
              "    .dataframe tbody tr th:only-of-type {\n",
              "        vertical-align: middle;\n",
              "    }\n",
              "\n",
              "    .dataframe tbody tr th {\n",
              "        vertical-align: top;\n",
              "    }\n",
              "\n",
              "    .dataframe thead th {\n",
              "        text-align: right;\n",
              "    }\n",
              "</style>\n",
              "<table border=\"1\" class=\"dataframe\">\n",
              "  <thead>\n",
              "    <tr style=\"text-align: right;\">\n",
              "      <th></th>\n",
              "      <th>mean_fit_time</th>\n",
              "      <th>std_fit_time</th>\n",
              "      <th>mean_score_time</th>\n",
              "      <th>std_score_time</th>\n",
              "      <th>param_kneighborsclassifier__n_neighbors</th>\n",
              "      <th>params</th>\n",
              "      <th>split0_test_score</th>\n",
              "      <th>split1_test_score</th>\n",
              "      <th>split2_test_score</th>\n",
              "      <th>split3_test_score</th>\n",
              "      <th>split4_test_score</th>\n",
              "      <th>split5_test_score</th>\n",
              "      <th>split6_test_score</th>\n",
              "      <th>split7_test_score</th>\n",
              "      <th>split8_test_score</th>\n",
              "      <th>split9_test_score</th>\n",
              "      <th>mean_test_score</th>\n",
              "      <th>std_test_score</th>\n",
              "      <th>rank_test_score</th>\n",
              "    </tr>\n",
              "  </thead>\n",
              "  <tbody>\n",
              "    <tr>\n",
              "      <th>6</th>\n",
              "      <td>0.001581</td>\n",
              "      <td>0.000011</td>\n",
              "      <td>0.003173</td>\n",
              "      <td>0.000060</td>\n",
              "      <td>7</td>\n",
              "      <td>{'kneighborsclassifier__n_neighbors': 7}</td>\n",
              "      <td>0.919336</td>\n",
              "      <td>0.917563</td>\n",
              "      <td>0.952534</td>\n",
              "      <td>0.935606</td>\n",
              "      <td>0.984049</td>\n",
              "      <td>0.918719</td>\n",
              "      <td>0.967803</td>\n",
              "      <td>0.984049</td>\n",
              "      <td>0.984049</td>\n",
              "      <td>0.968372</td>\n",
              "      <td>0.953208</td>\n",
              "      <td>0.026859</td>\n",
              "      <td>1</td>\n",
              "    </tr>\n",
              "    <tr>\n",
              "      <th>7</th>\n",
              "      <td>0.001587</td>\n",
              "      <td>0.000024</td>\n",
              "      <td>0.003188</td>\n",
              "      <td>0.000039</td>\n",
              "      <td>8</td>\n",
              "      <td>{'kneighborsclassifier__n_neighbors': 8}</td>\n",
              "      <td>0.919336</td>\n",
              "      <td>0.917563</td>\n",
              "      <td>0.952534</td>\n",
              "      <td>0.935606</td>\n",
              "      <td>0.984049</td>\n",
              "      <td>0.918719</td>\n",
              "      <td>0.950183</td>\n",
              "      <td>1.000000</td>\n",
              "      <td>0.983744</td>\n",
              "      <td>0.968372</td>\n",
              "      <td>0.953010</td>\n",
              "      <td>0.028687</td>\n",
              "      <td>2</td>\n",
              "    </tr>\n",
              "    <tr>\n",
              "      <th>8</th>\n",
              "      <td>0.001609</td>\n",
              "      <td>0.000053</td>\n",
              "      <td>0.003193</td>\n",
              "      <td>0.000052</td>\n",
              "      <td>9</td>\n",
              "      <td>{'kneighborsclassifier__n_neighbors': 9}</td>\n",
              "      <td>0.919336</td>\n",
              "      <td>0.917563</td>\n",
              "      <td>0.968636</td>\n",
              "      <td>0.935606</td>\n",
              "      <td>0.937729</td>\n",
              "      <td>0.918719</td>\n",
              "      <td>0.967803</td>\n",
              "      <td>0.984049</td>\n",
              "      <td>0.983744</td>\n",
              "      <td>0.968372</td>\n",
              "      <td>0.950156</td>\n",
              "      <td>0.025745</td>\n",
              "      <td>3</td>\n",
              "    </tr>\n",
              "    <tr>\n",
              "      <th>4</th>\n",
              "      <td>0.001644</td>\n",
              "      <td>0.000061</td>\n",
              "      <td>0.003315</td>\n",
              "      <td>0.000214</td>\n",
              "      <td>5</td>\n",
              "      <td>{'kneighborsclassifier__n_neighbors': 5}</td>\n",
              "      <td>0.919336</td>\n",
              "      <td>0.917563</td>\n",
              "      <td>0.937273</td>\n",
              "      <td>0.934300</td>\n",
              "      <td>0.984049</td>\n",
              "      <td>0.883761</td>\n",
              "      <td>0.935606</td>\n",
              "      <td>0.984049</td>\n",
              "      <td>0.984049</td>\n",
              "      <td>0.968372</td>\n",
              "      <td>0.944836</td>\n",
              "      <td>0.032472</td>\n",
              "      <td>4</td>\n",
              "    </tr>\n",
              "    <tr>\n",
              "      <th>5</th>\n",
              "      <td>0.001609</td>\n",
              "      <td>0.000044</td>\n",
              "      <td>0.003208</td>\n",
              "      <td>0.000075</td>\n",
              "      <td>6</td>\n",
              "      <td>{'kneighborsclassifier__n_neighbors': 6}</td>\n",
              "      <td>0.919336</td>\n",
              "      <td>0.917563</td>\n",
              "      <td>0.936111</td>\n",
              "      <td>0.934300</td>\n",
              "      <td>0.967803</td>\n",
              "      <td>0.827761</td>\n",
              "      <td>0.967150</td>\n",
              "      <td>1.000000</td>\n",
              "      <td>0.983744</td>\n",
              "      <td>0.968372</td>\n",
              "      <td>0.942214</td>\n",
              "      <td>0.046212</td>\n",
              "      <td>5</td>\n",
              "    </tr>\n",
              "    <tr>\n",
              "      <th>22</th>\n",
              "      <td>0.001638</td>\n",
              "      <td>0.000076</td>\n",
              "      <td>0.003323</td>\n",
              "      <td>0.000122</td>\n",
              "      <td>23</td>\n",
              "      <td>{'kneighborsclassifier__n_neighbors': 23}</td>\n",
              "      <td>0.919336</td>\n",
              "      <td>0.881763</td>\n",
              "      <td>0.919336</td>\n",
              "      <td>0.934300</td>\n",
              "      <td>0.984049</td>\n",
              "      <td>0.883761</td>\n",
              "      <td>0.950183</td>\n",
              "      <td>0.984049</td>\n",
              "      <td>0.984049</td>\n",
              "      <td>0.967803</td>\n",
              "      <td>0.940863</td>\n",
              "      <td>0.037591</td>\n",
              "      <td>6</td>\n",
              "    </tr>\n",
              "    <tr>\n",
              "      <th>23</th>\n",
              "      <td>0.001578</td>\n",
              "      <td>0.000018</td>\n",
              "      <td>0.003228</td>\n",
              "      <td>0.000042</td>\n",
              "      <td>24</td>\n",
              "      <td>{'kneighborsclassifier__n_neighbors': 24}</td>\n",
              "      <td>0.919336</td>\n",
              "      <td>0.881763</td>\n",
              "      <td>0.919336</td>\n",
              "      <td>0.934300</td>\n",
              "      <td>0.984049</td>\n",
              "      <td>0.883761</td>\n",
              "      <td>0.950183</td>\n",
              "      <td>0.984049</td>\n",
              "      <td>0.984049</td>\n",
              "      <td>0.967803</td>\n",
              "      <td>0.940863</td>\n",
              "      <td>0.037591</td>\n",
              "      <td>6</td>\n",
              "    </tr>\n",
              "    <tr>\n",
              "      <th>10</th>\n",
              "      <td>0.001580</td>\n",
              "      <td>0.000015</td>\n",
              "      <td>0.003182</td>\n",
              "      <td>0.000046</td>\n",
              "      <td>11</td>\n",
              "      <td>{'kneighborsclassifier__n_neighbors': 11}</td>\n",
              "      <td>0.917563</td>\n",
              "      <td>0.899903</td>\n",
              "      <td>0.920890</td>\n",
              "      <td>0.935606</td>\n",
              "      <td>0.937729</td>\n",
              "      <td>0.883761</td>\n",
              "      <td>0.951231</td>\n",
              "      <td>1.000000</td>\n",
              "      <td>0.984049</td>\n",
              "      <td>0.967803</td>\n",
              "      <td>0.939853</td>\n",
              "      <td>0.034789</td>\n",
              "      <td>8</td>\n",
              "    </tr>\n",
              "    <tr>\n",
              "      <th>9</th>\n",
              "      <td>0.001583</td>\n",
              "      <td>0.000021</td>\n",
              "      <td>0.003178</td>\n",
              "      <td>0.000059</td>\n",
              "      <td>10</td>\n",
              "      <td>{'kneighborsclassifier__n_neighbors': 10}</td>\n",
              "      <td>0.919336</td>\n",
              "      <td>0.881763</td>\n",
              "      <td>0.919336</td>\n",
              "      <td>0.934300</td>\n",
              "      <td>0.937729</td>\n",
              "      <td>0.899209</td>\n",
              "      <td>0.951231</td>\n",
              "      <td>1.000000</td>\n",
              "      <td>0.983744</td>\n",
              "      <td>0.967803</td>\n",
              "      <td>0.939445</td>\n",
              "      <td>0.035152</td>\n",
              "      <td>9</td>\n",
              "    </tr>\n",
              "    <tr>\n",
              "      <th>19</th>\n",
              "      <td>0.001581</td>\n",
              "      <td>0.000046</td>\n",
              "      <td>0.003206</td>\n",
              "      <td>0.000049</td>\n",
              "      <td>20</td>\n",
              "      <td>{'kneighborsclassifier__n_neighbors': 20}</td>\n",
              "      <td>0.919336</td>\n",
              "      <td>0.881763</td>\n",
              "      <td>0.904167</td>\n",
              "      <td>0.934300</td>\n",
              "      <td>0.984049</td>\n",
              "      <td>0.883761</td>\n",
              "      <td>0.950183</td>\n",
              "      <td>0.984049</td>\n",
              "      <td>0.984049</td>\n",
              "      <td>0.967803</td>\n",
              "      <td>0.939346</td>\n",
              "      <td>0.038719</td>\n",
              "      <td>10</td>\n",
              "    </tr>\n",
              "  </tbody>\n",
              "</table>\n",
              "</div>"
            ],
            "text/plain": [
              "    mean_fit_time  std_fit_time  mean_score_time  std_score_time   \n",
              "6        0.001581      0.000011         0.003173        0.000060  \\\n",
              "7        0.001587      0.000024         0.003188        0.000039   \n",
              "8        0.001609      0.000053         0.003193        0.000052   \n",
              "4        0.001644      0.000061         0.003315        0.000214   \n",
              "5        0.001609      0.000044         0.003208        0.000075   \n",
              "22       0.001638      0.000076         0.003323        0.000122   \n",
              "23       0.001578      0.000018         0.003228        0.000042   \n",
              "10       0.001580      0.000015         0.003182        0.000046   \n",
              "9        0.001583      0.000021         0.003178        0.000059   \n",
              "19       0.001581      0.000046         0.003206        0.000049   \n",
              "\n",
              "   param_kneighborsclassifier__n_neighbors   \n",
              "6                                        7  \\\n",
              "7                                        8   \n",
              "8                                        9   \n",
              "4                                        5   \n",
              "5                                        6   \n",
              "22                                      23   \n",
              "23                                      24   \n",
              "10                                      11   \n",
              "9                                       10   \n",
              "19                                      20   \n",
              "\n",
              "                                       params  split0_test_score   \n",
              "6    {'kneighborsclassifier__n_neighbors': 7}           0.919336  \\\n",
              "7    {'kneighborsclassifier__n_neighbors': 8}           0.919336   \n",
              "8    {'kneighborsclassifier__n_neighbors': 9}           0.919336   \n",
              "4    {'kneighborsclassifier__n_neighbors': 5}           0.919336   \n",
              "5    {'kneighborsclassifier__n_neighbors': 6}           0.919336   \n",
              "22  {'kneighborsclassifier__n_neighbors': 23}           0.919336   \n",
              "23  {'kneighborsclassifier__n_neighbors': 24}           0.919336   \n",
              "10  {'kneighborsclassifier__n_neighbors': 11}           0.917563   \n",
              "9   {'kneighborsclassifier__n_neighbors': 10}           0.919336   \n",
              "19  {'kneighborsclassifier__n_neighbors': 20}           0.919336   \n",
              "\n",
              "    split1_test_score  split2_test_score  split3_test_score   \n",
              "6            0.917563           0.952534           0.935606  \\\n",
              "7            0.917563           0.952534           0.935606   \n",
              "8            0.917563           0.968636           0.935606   \n",
              "4            0.917563           0.937273           0.934300   \n",
              "5            0.917563           0.936111           0.934300   \n",
              "22           0.881763           0.919336           0.934300   \n",
              "23           0.881763           0.919336           0.934300   \n",
              "10           0.899903           0.920890           0.935606   \n",
              "9            0.881763           0.919336           0.934300   \n",
              "19           0.881763           0.904167           0.934300   \n",
              "\n",
              "    split4_test_score  split5_test_score  split6_test_score   \n",
              "6            0.984049           0.918719           0.967803  \\\n",
              "7            0.984049           0.918719           0.950183   \n",
              "8            0.937729           0.918719           0.967803   \n",
              "4            0.984049           0.883761           0.935606   \n",
              "5            0.967803           0.827761           0.967150   \n",
              "22           0.984049           0.883761           0.950183   \n",
              "23           0.984049           0.883761           0.950183   \n",
              "10           0.937729           0.883761           0.951231   \n",
              "9            0.937729           0.899209           0.951231   \n",
              "19           0.984049           0.883761           0.950183   \n",
              "\n",
              "    split7_test_score  split8_test_score  split9_test_score  mean_test_score   \n",
              "6            0.984049           0.984049           0.968372         0.953208  \\\n",
              "7            1.000000           0.983744           0.968372         0.953010   \n",
              "8            0.984049           0.983744           0.968372         0.950156   \n",
              "4            0.984049           0.984049           0.968372         0.944836   \n",
              "5            1.000000           0.983744           0.968372         0.942214   \n",
              "22           0.984049           0.984049           0.967803         0.940863   \n",
              "23           0.984049           0.984049           0.967803         0.940863   \n",
              "10           1.000000           0.984049           0.967803         0.939853   \n",
              "9            1.000000           0.983744           0.967803         0.939445   \n",
              "19           0.984049           0.984049           0.967803         0.939346   \n",
              "\n",
              "    std_test_score  rank_test_score  \n",
              "6         0.026859                1  \n",
              "7         0.028687                2  \n",
              "8         0.025745                3  \n",
              "4         0.032472                4  \n",
              "5         0.046212                5  \n",
              "22        0.037591                6  \n",
              "23        0.037591                6  \n",
              "10        0.034789                8  \n",
              "9         0.035152                9  \n",
              "19        0.038719               10  "
            ]
          },
          "execution_count": 11,
          "metadata": {},
          "output_type": "execute_result"
        }
      ],
      "source": [
        "pd.DataFrame(grid_search.cv_results_).sort_values(\"rank_test_score\").head(10)"
      ]
    },
    {
      "cell_type": "markdown",
      "metadata": {
        "id": "F6uXKGD6kjOM"
      },
      "source": [
        "Is $k=7$ better than $k=10$, the value we had used previously? Choosing $k=7$ leads to a higher average F1 score, though the difference is relatively small. What about the precision and recall for malignant masses for $k=7$?"
      ]
    },
    {
      "cell_type": "code",
      "execution_count": 12,
      "metadata": {
        "id": "d_PygmI0kjOP"
      },
      "outputs": [
        {
          "data": {
            "text/plain": [
              "(0.9408496785441866, 0.9339878165312948)"
            ]
          },
          "execution_count": 12,
          "metadata": {},
          "output_type": "execute_result"
        }
      ],
      "source": [
        "new_precision = cross_val_score(\n",
        "    grid_search.best_estimator_,\n",
        "    X_train, is_malignant,\n",
        "    scoring=\"precision\",\n",
        "    cv=10).mean()\n",
        "\n",
        "new_recall = cross_val_score(\n",
        "    grid_search.best_estimator_,\n",
        "    X_train, is_malignant,\n",
        "    scoring=\"recall\",\n",
        "    cv=10).mean()\n",
        "\n",
        "precision_1, new_precision"
      ]
    },
    {
      "cell_type": "code",
      "execution_count": 13,
      "metadata": {
        "id": "-bZXwO_eVJ9C"
      },
      "outputs": [
        {
          "data": {
            "text/plain": [
              "(0.9038043478260871, 0.9456521739130436)"
            ]
          },
          "execution_count": 13,
          "metadata": {},
          "output_type": "execute_result"
        }
      ],
      "source": [
        "recall_1, new_recall"
      ]
    },
    {
      "cell_type": "markdown",
      "metadata": {
        "id": "3qslknI2kjOW"
      },
      "source": [
        "We see that the new model has a higher recall but a lower precision for malignancy. So depending on the scoring criteria, we can end up with different \"best\" models."
      ]
    },
    {
      "cell_type": "markdown",
      "metadata": {
        "id": "WpMEFheTX5Vr"
      },
      "source": [
        "While we won't cover it now, we'll mention that ensemble methods can also be used for to combine predictions for multiple classification models (like we did for regression models)."
      ]
    }
  ],
  "metadata": {
    "colab": {
      "provenance": []
    },
    "kernelspec": {
      "display_name": "Python 3",
      "language": "python",
      "name": "python3"
    },
    "language_info": {
      "codemirror_mode": {
        "name": "ipython",
        "version": 3
      },
      "file_extension": ".py",
      "mimetype": "text/x-python",
      "name": "python",
      "nbconvert_exporter": "python",
      "pygments_lexer": "ipython3",
      "version": "3.9.6"
    }
  },
  "nbformat": 4,
  "nbformat_minor": 0
}
