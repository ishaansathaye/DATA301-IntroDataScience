{
  "nbformat": 4,
  "nbformat_minor": 0,
  "metadata": {
    "colab": {
      "provenance": []
    },
    "kernelspec": {
      "name": "python3",
      "display_name": "Python 3"
    },
    "language_info": {
      "name": "python"
    }
  },
  "cells": [
    {
      "cell_type": "markdown",
      "source": [
        "# Training and Test Errors"
      ],
      "metadata": {
        "id": "Lgbl3R5z75IP"
      }
    },
    {
      "cell_type": "code",
      "source": [
        "import pandas as pd\n",
        "import numpy as np"
      ],
      "metadata": {
        "id": "br_h0Mo-75Qr"
      },
      "execution_count": null,
      "outputs": []
    },
    {
      "cell_type": "markdown",
      "source": [
        "**Try to use scikit-learn, including pipelines, whenever possible.**"
      ],
      "metadata": {
        "id": "iHFEhEQiEgS3"
      }
    },
    {
      "cell_type": "markdown",
      "source": [
        "## Ames Housing Data"
      ],
      "metadata": {
        "id": "9-zv1NQP8J7z"
      }
    },
    {
      "cell_type": "code",
      "source": [
        "df_ames = pd.read_csv(\"http://dlsun.github.io/pods/data/AmesHousing.txt\", sep = \"\\t\")\n",
        "\n",
        "df_ames"
      ],
      "metadata": {
        "id": "HaRc5qIz_3j2"
      },
      "execution_count": null,
      "outputs": []
    },
    {
      "cell_type": "markdown",
      "source": [
        "1\\. Fit a $10$-nearest neighbors model to predict **SalePrice** using **Bldg Type** as the only feature."
      ],
      "metadata": {
        "id": "wyajd1P98MX7"
      }
    },
    {
      "cell_type": "code",
      "source": [
        "# YOUR CODE HERE. ADD CELLS AS NEEDED"
      ],
      "metadata": {
        "id": "PxgCb6xo8Mf3"
      },
      "execution_count": null,
      "outputs": []
    },
    {
      "cell_type": "markdown",
      "source": [
        "2\\. Calculate the **training error** of this model. Try a few different performance metrics."
      ],
      "metadata": {
        "id": "H-x8QiJ98U3M"
      }
    },
    {
      "cell_type": "code",
      "source": [
        "# YOUR CODE HERE. ADD CELLS AS NEEDED"
      ],
      "metadata": {
        "id": "lUVY5QKZEndd"
      },
      "execution_count": null,
      "outputs": []
    },
    {
      "cell_type": "markdown",
      "source": [
        "3\\. Repeat the above process to calculate the training error for $k=1, 2, \\ldots, 10$. Which value of $k$ gives the smallest training error? Does that necessarily mean this is the best value of $k$? Discuss with your partner."
      ],
      "metadata": {
        "id": "OpMjqjaR8VGs"
      }
    },
    {
      "cell_type": "code",
      "source": [
        "# YOUR CODE HERE. ADD CELLS AS NEEDED"
      ],
      "metadata": {
        "id": "R_1QNdzYEoD6"
      },
      "execution_count": null,
      "outputs": []
    },
    {
      "cell_type": "markdown",
      "source": [
        "4\\. Return to the model in part 1. Now estimate the **test error** **of** the model using cross-validation. Try a few different performance metrics."
      ],
      "metadata": {
        "id": "gHvpjJ2y8pYf"
      }
    },
    {
      "cell_type": "code",
      "source": [
        "# YOUR CODE HERE. ADD CELLS AS NEEDED"
      ],
      "metadata": {
        "id": "wPm1l1rkEodt"
      },
      "execution_count": null,
      "outputs": []
    },
    {
      "cell_type": "markdown",
      "source": [
        "5\\. Now, define a 10-nearest neighbors model to predict **SalePrice** using **Neighborhood** as the only feature. Try to estimate the test error of this model using cross validation.\n",
        "\n",
        "You will get an error. Can you figure out why this error occurs? Can you figure out how to fix it?"
      ],
      "metadata": {
        "id": "oLp5mijg85os"
      }
    },
    {
      "cell_type": "code",
      "source": [
        "# YOUR CODE HERE. ADD CELLS AS NEEDED"
      ],
      "metadata": {
        "id": "occ07PEkEo4Z"
      },
      "execution_count": null,
      "outputs": []
    },
    {
      "cell_type": "markdown",
      "source": [
        "6\\. Recall that in a previous notebook we fit a 10-nearest neighbors regression model that predicts the price (just **SalePrice**, not log) of a home using square footage (**Gr Liv Area**), number of bedrooms (**Bedroom AbvGr**), number of full bathrooms (**Full Bath**), number of half bathrooms (**Half Bath**), and **Neighborhood**. Fit this model and estimate its test error using cross-validation. Try a few different performance metrics."
      ],
      "metadata": {
        "id": "2kkeYF16_C6O"
      }
    },
    {
      "cell_type": "code",
      "source": [
        "# YOUR CODE HERE. ADD CELLS AS NEEDED"
      ],
      "metadata": {
        "id": "Xh00uPoTEprB"
      },
      "execution_count": null,
      "outputs": []
    },
    {
      "cell_type": "markdown",
      "source": [
        "7\\. Repeat the process in part 6 to fit $k$-nearest neighbors regression models for several values of $k$ (say $k=1, \\ldots, 20$). Which value of $k$ produces the best test error? Try a few different performance metrics; does the best value of $k$ depend on the metric?"
      ],
      "metadata": {
        "id": "jYt5h-nT_Sge"
      }
    },
    {
      "cell_type": "code",
      "source": [
        "# YOUR CODE HERE. ADD CELLS AS NEEDED"
      ],
      "metadata": {
        "id": "X0kyzvbsEzAD"
      },
      "execution_count": null,
      "outputs": []
    }
  ]
}