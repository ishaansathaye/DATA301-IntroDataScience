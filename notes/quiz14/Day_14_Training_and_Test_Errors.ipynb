{
  "cells": [
    {
      "cell_type": "markdown",
      "metadata": {
        "id": "Lgbl3R5z75IP"
      },
      "source": [
        "# Training and Test Errors"
      ]
    },
    {
      "cell_type": "code",
      "execution_count": 6,
      "metadata": {
        "id": "br_h0Mo-75Qr"
      },
      "outputs": [],
      "source": [
        "import pandas as pd\n",
        "import numpy as np"
      ]
    },
    {
      "cell_type": "markdown",
      "metadata": {
        "id": "iHFEhEQiEgS3"
      },
      "source": [
        "**Try to use scikit-learn whenever possible.**"
      ]
    },
    {
      "cell_type": "markdown",
      "metadata": {
        "id": "9-zv1NQP8J7z"
      },
      "source": [
        "## Ames Housing Data"
      ]
    },
    {
      "cell_type": "code",
      "execution_count": 7,
      "metadata": {
        "colab": {
          "base_uri": "https://localhost:8080/",
          "height": 461
        },
        "id": "HaRc5qIz_3j2",
        "outputId": "e26192d9-8a5f-45eb-eee6-53b128d63e04"
      },
      "outputs": [
        {
          "data": {
            "text/html": [
              "<div>\n",
              "<style scoped>\n",
              "    .dataframe tbody tr th:only-of-type {\n",
              "        vertical-align: middle;\n",
              "    }\n",
              "\n",
              "    .dataframe tbody tr th {\n",
              "        vertical-align: top;\n",
              "    }\n",
              "\n",
              "    .dataframe thead th {\n",
              "        text-align: right;\n",
              "    }\n",
              "</style>\n",
              "<table border=\"1\" class=\"dataframe\">\n",
              "  <thead>\n",
              "    <tr style=\"text-align: right;\">\n",
              "      <th></th>\n",
              "      <th>Order</th>\n",
              "      <th>PID</th>\n",
              "      <th>MS SubClass</th>\n",
              "      <th>MS Zoning</th>\n",
              "      <th>Lot Frontage</th>\n",
              "      <th>Lot Area</th>\n",
              "      <th>Street</th>\n",
              "      <th>Alley</th>\n",
              "      <th>Lot Shape</th>\n",
              "      <th>Land Contour</th>\n",
              "      <th>...</th>\n",
              "      <th>Pool Area</th>\n",
              "      <th>Pool QC</th>\n",
              "      <th>Fence</th>\n",
              "      <th>Misc Feature</th>\n",
              "      <th>Misc Val</th>\n",
              "      <th>Mo Sold</th>\n",
              "      <th>Yr Sold</th>\n",
              "      <th>Sale Type</th>\n",
              "      <th>Sale Condition</th>\n",
              "      <th>SalePrice</th>\n",
              "    </tr>\n",
              "  </thead>\n",
              "  <tbody>\n",
              "    <tr>\n",
              "      <th>0</th>\n",
              "      <td>1</td>\n",
              "      <td>526301100</td>\n",
              "      <td>20</td>\n",
              "      <td>RL</td>\n",
              "      <td>141.0</td>\n",
              "      <td>31770</td>\n",
              "      <td>Pave</td>\n",
              "      <td>NaN</td>\n",
              "      <td>IR1</td>\n",
              "      <td>Lvl</td>\n",
              "      <td>...</td>\n",
              "      <td>0</td>\n",
              "      <td>NaN</td>\n",
              "      <td>NaN</td>\n",
              "      <td>NaN</td>\n",
              "      <td>0</td>\n",
              "      <td>5</td>\n",
              "      <td>2010</td>\n",
              "      <td>WD</td>\n",
              "      <td>Normal</td>\n",
              "      <td>215000</td>\n",
              "    </tr>\n",
              "    <tr>\n",
              "      <th>1</th>\n",
              "      <td>2</td>\n",
              "      <td>526350040</td>\n",
              "      <td>20</td>\n",
              "      <td>RH</td>\n",
              "      <td>80.0</td>\n",
              "      <td>11622</td>\n",
              "      <td>Pave</td>\n",
              "      <td>NaN</td>\n",
              "      <td>Reg</td>\n",
              "      <td>Lvl</td>\n",
              "      <td>...</td>\n",
              "      <td>0</td>\n",
              "      <td>NaN</td>\n",
              "      <td>MnPrv</td>\n",
              "      <td>NaN</td>\n",
              "      <td>0</td>\n",
              "      <td>6</td>\n",
              "      <td>2010</td>\n",
              "      <td>WD</td>\n",
              "      <td>Normal</td>\n",
              "      <td>105000</td>\n",
              "    </tr>\n",
              "    <tr>\n",
              "      <th>2</th>\n",
              "      <td>3</td>\n",
              "      <td>526351010</td>\n",
              "      <td>20</td>\n",
              "      <td>RL</td>\n",
              "      <td>81.0</td>\n",
              "      <td>14267</td>\n",
              "      <td>Pave</td>\n",
              "      <td>NaN</td>\n",
              "      <td>IR1</td>\n",
              "      <td>Lvl</td>\n",
              "      <td>...</td>\n",
              "      <td>0</td>\n",
              "      <td>NaN</td>\n",
              "      <td>NaN</td>\n",
              "      <td>Gar2</td>\n",
              "      <td>12500</td>\n",
              "      <td>6</td>\n",
              "      <td>2010</td>\n",
              "      <td>WD</td>\n",
              "      <td>Normal</td>\n",
              "      <td>172000</td>\n",
              "    </tr>\n",
              "    <tr>\n",
              "      <th>3</th>\n",
              "      <td>4</td>\n",
              "      <td>526353030</td>\n",
              "      <td>20</td>\n",
              "      <td>RL</td>\n",
              "      <td>93.0</td>\n",
              "      <td>11160</td>\n",
              "      <td>Pave</td>\n",
              "      <td>NaN</td>\n",
              "      <td>Reg</td>\n",
              "      <td>Lvl</td>\n",
              "      <td>...</td>\n",
              "      <td>0</td>\n",
              "      <td>NaN</td>\n",
              "      <td>NaN</td>\n",
              "      <td>NaN</td>\n",
              "      <td>0</td>\n",
              "      <td>4</td>\n",
              "      <td>2010</td>\n",
              "      <td>WD</td>\n",
              "      <td>Normal</td>\n",
              "      <td>244000</td>\n",
              "    </tr>\n",
              "    <tr>\n",
              "      <th>4</th>\n",
              "      <td>5</td>\n",
              "      <td>527105010</td>\n",
              "      <td>60</td>\n",
              "      <td>RL</td>\n",
              "      <td>74.0</td>\n",
              "      <td>13830</td>\n",
              "      <td>Pave</td>\n",
              "      <td>NaN</td>\n",
              "      <td>IR1</td>\n",
              "      <td>Lvl</td>\n",
              "      <td>...</td>\n",
              "      <td>0</td>\n",
              "      <td>NaN</td>\n",
              "      <td>MnPrv</td>\n",
              "      <td>NaN</td>\n",
              "      <td>0</td>\n",
              "      <td>3</td>\n",
              "      <td>2010</td>\n",
              "      <td>WD</td>\n",
              "      <td>Normal</td>\n",
              "      <td>189900</td>\n",
              "    </tr>\n",
              "    <tr>\n",
              "      <th>...</th>\n",
              "      <td>...</td>\n",
              "      <td>...</td>\n",
              "      <td>...</td>\n",
              "      <td>...</td>\n",
              "      <td>...</td>\n",
              "      <td>...</td>\n",
              "      <td>...</td>\n",
              "      <td>...</td>\n",
              "      <td>...</td>\n",
              "      <td>...</td>\n",
              "      <td>...</td>\n",
              "      <td>...</td>\n",
              "      <td>...</td>\n",
              "      <td>...</td>\n",
              "      <td>...</td>\n",
              "      <td>...</td>\n",
              "      <td>...</td>\n",
              "      <td>...</td>\n",
              "      <td>...</td>\n",
              "      <td>...</td>\n",
              "      <td>...</td>\n",
              "    </tr>\n",
              "    <tr>\n",
              "      <th>2925</th>\n",
              "      <td>2926</td>\n",
              "      <td>923275080</td>\n",
              "      <td>80</td>\n",
              "      <td>RL</td>\n",
              "      <td>37.0</td>\n",
              "      <td>7937</td>\n",
              "      <td>Pave</td>\n",
              "      <td>NaN</td>\n",
              "      <td>IR1</td>\n",
              "      <td>Lvl</td>\n",
              "      <td>...</td>\n",
              "      <td>0</td>\n",
              "      <td>NaN</td>\n",
              "      <td>GdPrv</td>\n",
              "      <td>NaN</td>\n",
              "      <td>0</td>\n",
              "      <td>3</td>\n",
              "      <td>2006</td>\n",
              "      <td>WD</td>\n",
              "      <td>Normal</td>\n",
              "      <td>142500</td>\n",
              "    </tr>\n",
              "    <tr>\n",
              "      <th>2926</th>\n",
              "      <td>2927</td>\n",
              "      <td>923276100</td>\n",
              "      <td>20</td>\n",
              "      <td>RL</td>\n",
              "      <td>NaN</td>\n",
              "      <td>8885</td>\n",
              "      <td>Pave</td>\n",
              "      <td>NaN</td>\n",
              "      <td>IR1</td>\n",
              "      <td>Low</td>\n",
              "      <td>...</td>\n",
              "      <td>0</td>\n",
              "      <td>NaN</td>\n",
              "      <td>MnPrv</td>\n",
              "      <td>NaN</td>\n",
              "      <td>0</td>\n",
              "      <td>6</td>\n",
              "      <td>2006</td>\n",
              "      <td>WD</td>\n",
              "      <td>Normal</td>\n",
              "      <td>131000</td>\n",
              "    </tr>\n",
              "    <tr>\n",
              "      <th>2927</th>\n",
              "      <td>2928</td>\n",
              "      <td>923400125</td>\n",
              "      <td>85</td>\n",
              "      <td>RL</td>\n",
              "      <td>62.0</td>\n",
              "      <td>10441</td>\n",
              "      <td>Pave</td>\n",
              "      <td>NaN</td>\n",
              "      <td>Reg</td>\n",
              "      <td>Lvl</td>\n",
              "      <td>...</td>\n",
              "      <td>0</td>\n",
              "      <td>NaN</td>\n",
              "      <td>MnPrv</td>\n",
              "      <td>Shed</td>\n",
              "      <td>700</td>\n",
              "      <td>7</td>\n",
              "      <td>2006</td>\n",
              "      <td>WD</td>\n",
              "      <td>Normal</td>\n",
              "      <td>132000</td>\n",
              "    </tr>\n",
              "    <tr>\n",
              "      <th>2928</th>\n",
              "      <td>2929</td>\n",
              "      <td>924100070</td>\n",
              "      <td>20</td>\n",
              "      <td>RL</td>\n",
              "      <td>77.0</td>\n",
              "      <td>10010</td>\n",
              "      <td>Pave</td>\n",
              "      <td>NaN</td>\n",
              "      <td>Reg</td>\n",
              "      <td>Lvl</td>\n",
              "      <td>...</td>\n",
              "      <td>0</td>\n",
              "      <td>NaN</td>\n",
              "      <td>NaN</td>\n",
              "      <td>NaN</td>\n",
              "      <td>0</td>\n",
              "      <td>4</td>\n",
              "      <td>2006</td>\n",
              "      <td>WD</td>\n",
              "      <td>Normal</td>\n",
              "      <td>170000</td>\n",
              "    </tr>\n",
              "    <tr>\n",
              "      <th>2929</th>\n",
              "      <td>2930</td>\n",
              "      <td>924151050</td>\n",
              "      <td>60</td>\n",
              "      <td>RL</td>\n",
              "      <td>74.0</td>\n",
              "      <td>9627</td>\n",
              "      <td>Pave</td>\n",
              "      <td>NaN</td>\n",
              "      <td>Reg</td>\n",
              "      <td>Lvl</td>\n",
              "      <td>...</td>\n",
              "      <td>0</td>\n",
              "      <td>NaN</td>\n",
              "      <td>NaN</td>\n",
              "      <td>NaN</td>\n",
              "      <td>0</td>\n",
              "      <td>11</td>\n",
              "      <td>2006</td>\n",
              "      <td>WD</td>\n",
              "      <td>Normal</td>\n",
              "      <td>188000</td>\n",
              "    </tr>\n",
              "  </tbody>\n",
              "</table>\n",
              "<p>2930 rows × 82 columns</p>\n",
              "</div>"
            ],
            "text/plain": [
              "      Order        PID  MS SubClass MS Zoning  Lot Frontage  Lot Area Street   \n",
              "0         1  526301100           20        RL         141.0     31770   Pave  \\\n",
              "1         2  526350040           20        RH          80.0     11622   Pave   \n",
              "2         3  526351010           20        RL          81.0     14267   Pave   \n",
              "3         4  526353030           20        RL          93.0     11160   Pave   \n",
              "4         5  527105010           60        RL          74.0     13830   Pave   \n",
              "...     ...        ...          ...       ...           ...       ...    ...   \n",
              "2925   2926  923275080           80        RL          37.0      7937   Pave   \n",
              "2926   2927  923276100           20        RL           NaN      8885   Pave   \n",
              "2927   2928  923400125           85        RL          62.0     10441   Pave   \n",
              "2928   2929  924100070           20        RL          77.0     10010   Pave   \n",
              "2929   2930  924151050           60        RL          74.0      9627   Pave   \n",
              "\n",
              "     Alley Lot Shape Land Contour  ... Pool Area Pool QC  Fence Misc Feature   \n",
              "0      NaN       IR1          Lvl  ...         0     NaN    NaN          NaN  \\\n",
              "1      NaN       Reg          Lvl  ...         0     NaN  MnPrv          NaN   \n",
              "2      NaN       IR1          Lvl  ...         0     NaN    NaN         Gar2   \n",
              "3      NaN       Reg          Lvl  ...         0     NaN    NaN          NaN   \n",
              "4      NaN       IR1          Lvl  ...         0     NaN  MnPrv          NaN   \n",
              "...    ...       ...          ...  ...       ...     ...    ...          ...   \n",
              "2925   NaN       IR1          Lvl  ...         0     NaN  GdPrv          NaN   \n",
              "2926   NaN       IR1          Low  ...         0     NaN  MnPrv          NaN   \n",
              "2927   NaN       Reg          Lvl  ...         0     NaN  MnPrv         Shed   \n",
              "2928   NaN       Reg          Lvl  ...         0     NaN    NaN          NaN   \n",
              "2929   NaN       Reg          Lvl  ...         0     NaN    NaN          NaN   \n",
              "\n",
              "     Misc Val Mo Sold Yr Sold Sale Type  Sale Condition  SalePrice  \n",
              "0           0       5    2010       WD           Normal     215000  \n",
              "1           0       6    2010       WD           Normal     105000  \n",
              "2       12500       6    2010       WD           Normal     172000  \n",
              "3           0       4    2010       WD           Normal     244000  \n",
              "4           0       3    2010       WD           Normal     189900  \n",
              "...       ...     ...     ...       ...             ...        ...  \n",
              "2925        0       3    2006       WD           Normal     142500  \n",
              "2926        0       6    2006       WD           Normal     131000  \n",
              "2927      700       7    2006       WD           Normal     132000  \n",
              "2928        0       4    2006       WD           Normal     170000  \n",
              "2929        0      11    2006       WD           Normal     188000  \n",
              "\n",
              "[2930 rows x 82 columns]"
            ]
          },
          "execution_count": 7,
          "metadata": {},
          "output_type": "execute_result"
        }
      ],
      "source": [
        "df_ames = pd.read_csv(\"http://dlsun.github.io/pods/data/AmesHousing.txt\", sep = \"\\t\")\n",
        "df_ames"
      ]
    },
    {
      "cell_type": "markdown",
      "metadata": {
        "id": "wyajd1P98MX7"
      },
      "source": [
        "1\\. Fit a $10$-nearest neighbors model to predict **SalePrice** using **Bldg Type** as the only feature."
      ]
    },
    {
      "cell_type": "code",
      "execution_count": 8,
      "metadata": {
        "id": "PxgCb6xo8Mf3"
      },
      "outputs": [
        {
          "data": {
            "text/html": [
              "<style>#sk-container-id-3 {color: black;}#sk-container-id-3 pre{padding: 0;}#sk-container-id-3 div.sk-toggleable {background-color: white;}#sk-container-id-3 label.sk-toggleable__label {cursor: pointer;display: block;width: 100%;margin-bottom: 0;padding: 0.3em;box-sizing: border-box;text-align: center;}#sk-container-id-3 label.sk-toggleable__label-arrow:before {content: \"▸\";float: left;margin-right: 0.25em;color: #696969;}#sk-container-id-3 label.sk-toggleable__label-arrow:hover:before {color: black;}#sk-container-id-3 div.sk-estimator:hover label.sk-toggleable__label-arrow:before {color: black;}#sk-container-id-3 div.sk-toggleable__content {max-height: 0;max-width: 0;overflow: hidden;text-align: left;background-color: #f0f8ff;}#sk-container-id-3 div.sk-toggleable__content pre {margin: 0.2em;color: black;border-radius: 0.25em;background-color: #f0f8ff;}#sk-container-id-3 input.sk-toggleable__control:checked~div.sk-toggleable__content {max-height: 200px;max-width: 100%;overflow: auto;}#sk-container-id-3 input.sk-toggleable__control:checked~label.sk-toggleable__label-arrow:before {content: \"▾\";}#sk-container-id-3 div.sk-estimator input.sk-toggleable__control:checked~label.sk-toggleable__label {background-color: #d4ebff;}#sk-container-id-3 div.sk-label input.sk-toggleable__control:checked~label.sk-toggleable__label {background-color: #d4ebff;}#sk-container-id-3 input.sk-hidden--visually {border: 0;clip: rect(1px 1px 1px 1px);clip: rect(1px, 1px, 1px, 1px);height: 1px;margin: -1px;overflow: hidden;padding: 0;position: absolute;width: 1px;}#sk-container-id-3 div.sk-estimator {font-family: monospace;background-color: #f0f8ff;border: 1px dotted black;border-radius: 0.25em;box-sizing: border-box;margin-bottom: 0.5em;}#sk-container-id-3 div.sk-estimator:hover {background-color: #d4ebff;}#sk-container-id-3 div.sk-parallel-item::after {content: \"\";width: 100%;border-bottom: 1px solid gray;flex-grow: 1;}#sk-container-id-3 div.sk-label:hover label.sk-toggleable__label {background-color: #d4ebff;}#sk-container-id-3 div.sk-serial::before {content: \"\";position: absolute;border-left: 1px solid gray;box-sizing: border-box;top: 0;bottom: 0;left: 50%;z-index: 0;}#sk-container-id-3 div.sk-serial {display: flex;flex-direction: column;align-items: center;background-color: white;padding-right: 0.2em;padding-left: 0.2em;position: relative;}#sk-container-id-3 div.sk-item {position: relative;z-index: 1;}#sk-container-id-3 div.sk-parallel {display: flex;align-items: stretch;justify-content: center;background-color: white;position: relative;}#sk-container-id-3 div.sk-item::before, #sk-container-id-3 div.sk-parallel-item::before {content: \"\";position: absolute;border-left: 1px solid gray;box-sizing: border-box;top: 0;bottom: 0;left: 50%;z-index: -1;}#sk-container-id-3 div.sk-parallel-item {display: flex;flex-direction: column;z-index: 1;position: relative;background-color: white;}#sk-container-id-3 div.sk-parallel-item:first-child::after {align-self: flex-end;width: 50%;}#sk-container-id-3 div.sk-parallel-item:last-child::after {align-self: flex-start;width: 50%;}#sk-container-id-3 div.sk-parallel-item:only-child::after {width: 0;}#sk-container-id-3 div.sk-dashed-wrapped {border: 1px dashed gray;margin: 0 0.4em 0.5em 0.4em;box-sizing: border-box;padding-bottom: 0.4em;background-color: white;}#sk-container-id-3 div.sk-label label {font-family: monospace;font-weight: bold;display: inline-block;line-height: 1.2em;}#sk-container-id-3 div.sk-label-container {text-align: center;}#sk-container-id-3 div.sk-container {/* jupyter's `normalize.less` sets `[hidden] { display: none; }` but bootstrap.min.css set `[hidden] { display: none !important; }` so we also need the `!important` here to be able to override the default hidden behavior on the sphinx rendered scikit-learn.org. See: https://github.com/scikit-learn/scikit-learn/issues/21755 */display: inline-block !important;position: relative;}#sk-container-id-3 div.sk-text-repr-fallback {display: none;}</style><div id=\"sk-container-id-3\" class=\"sk-top-container\"><div class=\"sk-text-repr-fallback\"><pre>ColumnTransformer(transformers=[(&#x27;onehotencoder&#x27;, OneHotEncoder(),\n",
              "                                 [&#x27;Bldg Type&#x27;])])</pre><b>In a Jupyter environment, please rerun this cell to show the HTML representation or trust the notebook. <br />On GitHub, the HTML representation is unable to render, please try loading this page with nbviewer.org.</b></div><div class=\"sk-container\" hidden><div class=\"sk-item sk-dashed-wrapped\"><div class=\"sk-label-container\"><div class=\"sk-label sk-toggleable\"><input class=\"sk-toggleable__control sk-hidden--visually\" id=\"sk-estimator-id-9\" type=\"checkbox\" ><label for=\"sk-estimator-id-9\" class=\"sk-toggleable__label sk-toggleable__label-arrow\">ColumnTransformer</label><div class=\"sk-toggleable__content\"><pre>ColumnTransformer(transformers=[(&#x27;onehotencoder&#x27;, OneHotEncoder(),\n",
              "                                 [&#x27;Bldg Type&#x27;])])</pre></div></div></div><div class=\"sk-parallel\"><div class=\"sk-parallel-item\"><div class=\"sk-item\"><div class=\"sk-label-container\"><div class=\"sk-label sk-toggleable\"><input class=\"sk-toggleable__control sk-hidden--visually\" id=\"sk-estimator-id-10\" type=\"checkbox\" ><label for=\"sk-estimator-id-10\" class=\"sk-toggleable__label sk-toggleable__label-arrow\">onehotencoder</label><div class=\"sk-toggleable__content\"><pre>[&#x27;Bldg Type&#x27;]</pre></div></div></div><div class=\"sk-serial\"><div class=\"sk-item\"><div class=\"sk-estimator sk-toggleable\"><input class=\"sk-toggleable__control sk-hidden--visually\" id=\"sk-estimator-id-11\" type=\"checkbox\" ><label for=\"sk-estimator-id-11\" class=\"sk-toggleable__label sk-toggleable__label-arrow\">OneHotEncoder</label><div class=\"sk-toggleable__content\"><pre>OneHotEncoder()</pre></div></div></div></div></div></div></div></div></div></div>"
            ],
            "text/plain": [
              "ColumnTransformer(transformers=[('onehotencoder', OneHotEncoder(),\n",
              "                                 ['Bldg Type'])])"
            ]
          },
          "execution_count": 8,
          "metadata": {},
          "output_type": "execute_result"
        }
      ],
      "source": [
        "from sklearn.compose import make_column_transformer\n",
        "from sklearn.preprocessing import StandardScaler, OneHotEncoder\n",
        "\n",
        "ct = make_column_transformer(\n",
        "    (OneHotEncoder(), [\"Bldg Type\"]),\n",
        "    remainder=\"drop\"  # all other columns in X will be dropped.\n",
        ")\n",
        "ct\n"
      ]
    },
    {
      "cell_type": "code",
      "execution_count": 9,
      "metadata": {
        "id": "cKYIiZ5sQNqy"
      },
      "outputs": [
        {
          "data": {
            "text/html": [
              "<style>#sk-container-id-4 {color: black;}#sk-container-id-4 pre{padding: 0;}#sk-container-id-4 div.sk-toggleable {background-color: white;}#sk-container-id-4 label.sk-toggleable__label {cursor: pointer;display: block;width: 100%;margin-bottom: 0;padding: 0.3em;box-sizing: border-box;text-align: center;}#sk-container-id-4 label.sk-toggleable__label-arrow:before {content: \"▸\";float: left;margin-right: 0.25em;color: #696969;}#sk-container-id-4 label.sk-toggleable__label-arrow:hover:before {color: black;}#sk-container-id-4 div.sk-estimator:hover label.sk-toggleable__label-arrow:before {color: black;}#sk-container-id-4 div.sk-toggleable__content {max-height: 0;max-width: 0;overflow: hidden;text-align: left;background-color: #f0f8ff;}#sk-container-id-4 div.sk-toggleable__content pre {margin: 0.2em;color: black;border-radius: 0.25em;background-color: #f0f8ff;}#sk-container-id-4 input.sk-toggleable__control:checked~div.sk-toggleable__content {max-height: 200px;max-width: 100%;overflow: auto;}#sk-container-id-4 input.sk-toggleable__control:checked~label.sk-toggleable__label-arrow:before {content: \"▾\";}#sk-container-id-4 div.sk-estimator input.sk-toggleable__control:checked~label.sk-toggleable__label {background-color: #d4ebff;}#sk-container-id-4 div.sk-label input.sk-toggleable__control:checked~label.sk-toggleable__label {background-color: #d4ebff;}#sk-container-id-4 input.sk-hidden--visually {border: 0;clip: rect(1px 1px 1px 1px);clip: rect(1px, 1px, 1px, 1px);height: 1px;margin: -1px;overflow: hidden;padding: 0;position: absolute;width: 1px;}#sk-container-id-4 div.sk-estimator {font-family: monospace;background-color: #f0f8ff;border: 1px dotted black;border-radius: 0.25em;box-sizing: border-box;margin-bottom: 0.5em;}#sk-container-id-4 div.sk-estimator:hover {background-color: #d4ebff;}#sk-container-id-4 div.sk-parallel-item::after {content: \"\";width: 100%;border-bottom: 1px solid gray;flex-grow: 1;}#sk-container-id-4 div.sk-label:hover label.sk-toggleable__label {background-color: #d4ebff;}#sk-container-id-4 div.sk-serial::before {content: \"\";position: absolute;border-left: 1px solid gray;box-sizing: border-box;top: 0;bottom: 0;left: 50%;z-index: 0;}#sk-container-id-4 div.sk-serial {display: flex;flex-direction: column;align-items: center;background-color: white;padding-right: 0.2em;padding-left: 0.2em;position: relative;}#sk-container-id-4 div.sk-item {position: relative;z-index: 1;}#sk-container-id-4 div.sk-parallel {display: flex;align-items: stretch;justify-content: center;background-color: white;position: relative;}#sk-container-id-4 div.sk-item::before, #sk-container-id-4 div.sk-parallel-item::before {content: \"\";position: absolute;border-left: 1px solid gray;box-sizing: border-box;top: 0;bottom: 0;left: 50%;z-index: -1;}#sk-container-id-4 div.sk-parallel-item {display: flex;flex-direction: column;z-index: 1;position: relative;background-color: white;}#sk-container-id-4 div.sk-parallel-item:first-child::after {align-self: flex-end;width: 50%;}#sk-container-id-4 div.sk-parallel-item:last-child::after {align-self: flex-start;width: 50%;}#sk-container-id-4 div.sk-parallel-item:only-child::after {width: 0;}#sk-container-id-4 div.sk-dashed-wrapped {border: 1px dashed gray;margin: 0 0.4em 0.5em 0.4em;box-sizing: border-box;padding-bottom: 0.4em;background-color: white;}#sk-container-id-4 div.sk-label label {font-family: monospace;font-weight: bold;display: inline-block;line-height: 1.2em;}#sk-container-id-4 div.sk-label-container {text-align: center;}#sk-container-id-4 div.sk-container {/* jupyter's `normalize.less` sets `[hidden] { display: none; }` but bootstrap.min.css set `[hidden] { display: none !important; }` so we also need the `!important` here to be able to override the default hidden behavior on the sphinx rendered scikit-learn.org. See: https://github.com/scikit-learn/scikit-learn/issues/21755 */display: inline-block !important;position: relative;}#sk-container-id-4 div.sk-text-repr-fallback {display: none;}</style><div id=\"sk-container-id-4\" class=\"sk-top-container\"><div class=\"sk-text-repr-fallback\"><pre>Pipeline(steps=[(&#x27;columntransformer&#x27;,\n",
              "                 ColumnTransformer(transformers=[(&#x27;onehotencoder&#x27;,\n",
              "                                                  OneHotEncoder(),\n",
              "                                                  [&#x27;Bldg Type&#x27;])])),\n",
              "                (&#x27;kneighborsregressor&#x27;, KNeighborsRegressor(n_neighbors=10))])</pre><b>In a Jupyter environment, please rerun this cell to show the HTML representation or trust the notebook. <br />On GitHub, the HTML representation is unable to render, please try loading this page with nbviewer.org.</b></div><div class=\"sk-container\" hidden><div class=\"sk-item sk-dashed-wrapped\"><div class=\"sk-label-container\"><div class=\"sk-label sk-toggleable\"><input class=\"sk-toggleable__control sk-hidden--visually\" id=\"sk-estimator-id-12\" type=\"checkbox\" ><label for=\"sk-estimator-id-12\" class=\"sk-toggleable__label sk-toggleable__label-arrow\">Pipeline</label><div class=\"sk-toggleable__content\"><pre>Pipeline(steps=[(&#x27;columntransformer&#x27;,\n",
              "                 ColumnTransformer(transformers=[(&#x27;onehotencoder&#x27;,\n",
              "                                                  OneHotEncoder(),\n",
              "                                                  [&#x27;Bldg Type&#x27;])])),\n",
              "                (&#x27;kneighborsregressor&#x27;, KNeighborsRegressor(n_neighbors=10))])</pre></div></div></div><div class=\"sk-serial\"><div class=\"sk-item sk-dashed-wrapped\"><div class=\"sk-label-container\"><div class=\"sk-label sk-toggleable\"><input class=\"sk-toggleable__control sk-hidden--visually\" id=\"sk-estimator-id-13\" type=\"checkbox\" ><label for=\"sk-estimator-id-13\" class=\"sk-toggleable__label sk-toggleable__label-arrow\">columntransformer: ColumnTransformer</label><div class=\"sk-toggleable__content\"><pre>ColumnTransformer(transformers=[(&#x27;onehotencoder&#x27;, OneHotEncoder(),\n",
              "                                 [&#x27;Bldg Type&#x27;])])</pre></div></div></div><div class=\"sk-parallel\"><div class=\"sk-parallel-item\"><div class=\"sk-item\"><div class=\"sk-label-container\"><div class=\"sk-label sk-toggleable\"><input class=\"sk-toggleable__control sk-hidden--visually\" id=\"sk-estimator-id-14\" type=\"checkbox\" ><label for=\"sk-estimator-id-14\" class=\"sk-toggleable__label sk-toggleable__label-arrow\">onehotencoder</label><div class=\"sk-toggleable__content\"><pre>[&#x27;Bldg Type&#x27;]</pre></div></div></div><div class=\"sk-serial\"><div class=\"sk-item\"><div class=\"sk-estimator sk-toggleable\"><input class=\"sk-toggleable__control sk-hidden--visually\" id=\"sk-estimator-id-15\" type=\"checkbox\" ><label for=\"sk-estimator-id-15\" class=\"sk-toggleable__label sk-toggleable__label-arrow\">OneHotEncoder</label><div class=\"sk-toggleable__content\"><pre>OneHotEncoder()</pre></div></div></div></div></div></div></div></div><div class=\"sk-item\"><div class=\"sk-estimator sk-toggleable\"><input class=\"sk-toggleable__control sk-hidden--visually\" id=\"sk-estimator-id-16\" type=\"checkbox\" ><label for=\"sk-estimator-id-16\" class=\"sk-toggleable__label sk-toggleable__label-arrow\">KNeighborsRegressor</label><div class=\"sk-toggleable__content\"><pre>KNeighborsRegressor(n_neighbors=10)</pre></div></div></div></div></div></div></div>"
            ],
            "text/plain": [
              "Pipeline(steps=[('columntransformer',\n",
              "                 ColumnTransformer(transformers=[('onehotencoder',\n",
              "                                                  OneHotEncoder(),\n",
              "                                                  ['Bldg Type'])])),\n",
              "                ('kneighborsregressor', KNeighborsRegressor(n_neighbors=10))])"
            ]
          },
          "execution_count": 9,
          "metadata": {},
          "output_type": "execute_result"
        }
      ],
      "source": [
        "from sklearn.pipeline import make_pipeline\n",
        "from sklearn.neighbors import KNeighborsRegressor\n",
        "\n",
        "pipeline = make_pipeline(\n",
        "    ct,\n",
        "    KNeighborsRegressor(n_neighbors=10)\n",
        ")\n",
        "\n",
        "pipeline.fit(X=df_ames[[\"Bldg Type\"]],\n",
        "             y=df_ames[\"SalePrice\"])"
      ]
    },
    {
      "cell_type": "markdown",
      "metadata": {
        "id": "H-x8QiJ98U3M"
      },
      "source": [
        "2\\. Calculate the **training error** of this model. Try a few different performance metrics."
      ]
    },
    {
      "cell_type": "code",
      "execution_count": 10,
      "metadata": {
        "colab": {
          "base_uri": "https://localhost:8080/"
        },
        "id": "lUVY5QKZEndd",
        "outputId": "4821281e-a740-4866-f7be-78c08ff3f820"
      },
      "outputs": [
        {
          "data": {
            "text/plain": [
              "array([185170., 185170., 185170., ..., 185170., 185170., 185170.])"
            ]
          },
          "execution_count": 10,
          "metadata": {},
          "output_type": "execute_result"
        }
      ],
      "source": [
        "y_train_ = pipeline.predict(X=df_ames[[\"Bldg Type\"]])\n",
        "y_train_"
      ]
    },
    {
      "cell_type": "code",
      "execution_count": 11,
      "metadata": {
        "colab": {
          "base_uri": "https://localhost:8080/"
        },
        "id": "h2MXAfOHUqYu",
        "outputId": "5290ef6c-c77b-4534-e5f4-c26b074c1ee5"
      },
      "outputs": [
        {
          "data": {
            "text/plain": [
              "78699.30648123682"
            ]
          },
          "execution_count": 11,
          "metadata": {},
          "output_type": "execute_result"
        }
      ],
      "source": [
        "from sklearn.metrics import mean_squared_error\n",
        "\n",
        "mse = mean_squared_error(df_ames[\"SalePrice\"], y_train_)\n",
        "rmse = np.sqrt(mse)\n",
        "rmse"
      ]
    },
    {
      "cell_type": "markdown",
      "metadata": {
        "id": "OpMjqjaR8VGs"
      },
      "source": [
        "3\\. Repeat the above process to calculate the training error for $k=1, 2, \\ldots, 10$. Which value of $k$ gives the smallest training error? Does that necessarily mean this is the best value of $k$? Discuss with your partner."
      ]
    },
    {
      "cell_type": "code",
      "execution_count": 12,
      "metadata": {
        "colab": {
          "base_uri": "https://localhost:8080/"
        },
        "id": "R_1QNdzYEoD6",
        "outputId": "7035266c-7cef-4f34-9825-4c2c6986097a"
      },
      "outputs": [
        {
          "name": "stdout",
          "output_type": "stream",
          "text": [
            "training error for k = 1 is 83869.12582123668\n",
            "training error for k = 2 is 82461.56991333194\n",
            "training error for k = 3 is 81459.84807307809\n",
            "training error for k = 4 is 79077.36953503109\n",
            "training error for k = 5 is 78841.98384073898\n",
            "training error for k = 6 is 78718.47565629905\n",
            "training error for k = 7 is 78666.84969111855\n",
            "training error for k = 8 is 78813.2596795962\n",
            "training error for k = 9 is 78781.76304262652\n",
            "training error for k = 10 is 78699.30648123682\n",
            "The smallest training error was with k = 7\n"
          ]
        }
      ],
      "source": [
        "'''for k in [1,2,3,4,5,6,7,8,9,10]:\n",
        "\n",
        "  pipeline = make_pipeline(\n",
        "    ct,\n",
        "    KNeighborsRegressor(n_neighbors=k)\n",
        ")\n",
        "\n",
        "pipeline.fit(X=df_ames[[\"Bldg Type\"]],\n",
        "             y=df_ames[\"SalePrice\"])\n",
        "\n",
        "y_new_train_ = pipeline.predict(X=df_ames[[\"Bldg Type\"]])\n",
        "y_new_train_\n",
        "\n",
        "mse = mean_squared_error(df_ames[\"SalePrice\"], y_new_train_)\n",
        "rmse = np.sqrt(mse)\n",
        "print('training error for k =', k, \"is\", rmse)\n",
        "'''\n",
        "errors = []\n",
        "\n",
        "for k in [1,2,3,4,5,6,7,8,9,10]:\n",
        "    pipeline = make_pipeline(\n",
        "        ct,\n",
        "        KNeighborsRegressor(n_neighbors=k)\n",
        "    )\n",
        "\n",
        "    # Convert the reshaped array back to DataFrame\n",
        "    X_train = pd.DataFrame(df_ames[\"Bldg Type\"].values, columns=[\"Bldg Type\"])\n",
        "    y_train = df_ames[\"SalePrice\"]\n",
        "\n",
        "    pipeline.fit(X=X_train, y=y_train)\n",
        "\n",
        "    y_pred = pipeline.predict(X_train)\n",
        "    mse = mean_squared_error(y_train, y_pred)\n",
        "    rmse = np.sqrt(mse)\n",
        "\n",
        "    print(f'training error for k = {k} is {rmse}')\n",
        "    errors.append(rmse)\n",
        "\n",
        "# Get the k value with the smallest error\n",
        "min_error_k = errors.index(min(errors)) + 1\n",
        "print(f\"The smallest training error was with k = {min_error_k}\")\n"
      ]
    },
    {
      "cell_type": "markdown",
      "metadata": {
        "id": "gHvpjJ2y8pYf"
      },
      "source": [
        "4\\. Return to the model in part 1. Now estimate the **test error** **of** the model using cross-validation. Try a few different performance metrics."
      ]
    },
    {
      "cell_type": "code",
      "execution_count": 13,
      "metadata": {
        "colab": {
          "base_uri": "https://localhost:8080/"
        },
        "id": "wPm1l1rkEodt",
        "outputId": "ce4d6c31-83a0-40dc-f37c-4bb3fe2c5956"
      },
      "outputs": [
        {
          "name": "stdout",
          "output_type": "stream",
          "text": [
            "Predicted SalePrice: 185170.0\n",
            "Cross-validated RMSE: 79374.27020857538\n"
          ]
        }
      ],
      "source": [
        "from sklearn.model_selection import cross_val_score\n",
        "from sklearn.metrics import mean_squared_error, mean_absolute_error, r2_score\n",
        "\n",
        "x_test = pd.Series()\n",
        "x_test[\"Bldg Type\"] = \"1Fam\"\n",
        "predicted_price = pipeline.predict(X=pd.DataFrame([x_test]))\n",
        "\n",
        "print(f\"Predicted SalePrice: {predicted_price[0]}\")\n",
        "\n",
        "# Estimating test error using Cross Validation\n",
        "cv_scores = cross_val_score(pipeline, df_ames[[\"Bldg Type\"]], df_ames[\"SalePrice\"], cv=5, scoring='neg_mean_squared_error')\n",
        "cv_rmse = np.sqrt(-cv_scores)\n",
        "print(f\"Cross-validated RMSE: {cv_rmse.mean()}\")"
      ]
    },
    {
      "cell_type": "markdown",
      "metadata": {
        "id": "oLp5mijg85os"
      },
      "source": [
        "5\\. Now, define a 10-nearest neighbors model to predict **SalePrice** using **Neighborhood** as the only feature. Try to estimate the test error of this model using cross validation.\n",
        "\n",
        "You will get an error. Can you figure out why this error occurs? Can you figure out how to fix it?"
      ]
    },
    {
      "cell_type": "code",
      "execution_count": 14,
      "metadata": {
        "colab": {
          "base_uri": "https://localhost:8080/"
        },
        "id": "occ07PEkEo4Z",
        "outputId": "e152d8b4-d53f-49c4-b122-b2b06217b765"
      },
      "outputs": [
        {
          "data": {
            "text/plain": [
              "array([-4.11299122e+09, -2.51802089e+09, -2.79031387e+09, -3.63297657e+09,\n",
              "       -2.56233932e+09])"
            ]
          },
          "execution_count": 14,
          "metadata": {},
          "output_type": "execute_result"
        }
      ],
      "source": [
        "from sklearn.model_selection import cross_val_score\n",
        "\n",
        "# Define a new column transformer for the \"Neighborhood\" feature\n",
        "ct_neighborhood = make_column_transformer(\n",
        "    (OneHotEncoder(handle_unknown = 'ignore'), [\"Neighborhood\"]),\n",
        "    remainder=\"drop\"\n",
        ")\n",
        "\n",
        "# Create a pipeline using the column transformer and a 10-nearest neighbors regressor\n",
        "pipeline_neighborhood = make_pipeline(\n",
        "    ct_neighborhood,\n",
        "    KNeighborsRegressor(n_neighbors=10)\n",
        ")\n",
        "\n",
        "# Try to estimate the test error using cross validation\n",
        "cv_scores_neighborhood = cross_val_score(pipeline_neighborhood, df_ames[[\"Neighborhood\"]], df_ames[\"SalePrice\"], cv=5, scoring='neg_mean_squared_error')\n",
        "cv_scores_neighborhood"
      ]
    },
    {
      "cell_type": "markdown",
      "metadata": {
        "id": "DMK2aHYImuQE"
      },
      "source": [
        "**Can fix it by set the handle_unknown parameter of the OneHotEncoder to 'ignore'. This will ensure that when the encoder encounters a category in the test set that it hasn't seen during training, it will ignore it instead of throwing an error.**"
      ]
    },
    {
      "cell_type": "markdown",
      "metadata": {
        "id": "2kkeYF16_C6O"
      },
      "source": [
        "6\\. Recall that in a previous notebook we fit a 10-nearest neighbors regression model that predicts the price (just **SalePrice**, not log) of a home using square footage (**Gr Liv Area**), number of bedrooms (**Bedroom AbvGr**), number of full bathrooms (**Full Bath**), number of half bathrooms (**Half Bath**), and **Neighborhood**. Fit this model and estimate its test error using cross-validation. Try a few different performance metrics."
      ]
    },
    {
      "cell_type": "code",
      "execution_count": 15,
      "metadata": {
        "colab": {
          "base_uri": "https://localhost:8080/"
        },
        "id": "Xh00uPoTEprB",
        "outputId": "f4dc184b-4416-46dd-d2c5-95fad0404df7"
      },
      "outputs": [
        {
          "name": "stdout",
          "output_type": "stream",
          "text": [
            "Average MSE: 1600499821.191833\n",
            "Average MAE: 25584.599761092148\n",
            "Average R^2 Score: 0.7470736050159748\n"
          ]
        }
      ],
      "source": [
        "from sklearn.preprocessing import StandardScaler\n",
        "\n",
        "# Features to use\n",
        "features = [\"Gr Liv Area\", \"Bedroom AbvGr\", \"Full Bath\", \"Half Bath\", \"Neighborhood\"]\n",
        "\n",
        "# Column transformer setup\n",
        "ct_full = make_column_transformer(\n",
        "    (StandardScaler(), [\"Gr Liv Area\", \"Bedroom AbvGr\", \"Full Bath\", \"Half Bath\"]),\n",
        "    (OneHotEncoder(handle_unknown='ignore'), [\"Neighborhood\"]),\n",
        "    remainder=\"drop\"\n",
        ")\n",
        "\n",
        "# Create a pipeline\n",
        "pipeline_full = make_pipeline(\n",
        "    ct_full,\n",
        "    KNeighborsRegressor(n_neighbors=10)\n",
        ")\n",
        "\n",
        "# Mean squared error\n",
        "mse_scores = cross_val_score(pipeline_full, df_ames[features], df_ames[\"SalePrice\"], cv=5, scoring='neg_mean_squared_error')\n",
        "mse_avg = -mse_scores.mean()\n",
        "\n",
        "# Mean absolute error\n",
        "mae_scores = cross_val_score(pipeline_full, df_ames[features], df_ames[\"SalePrice\"], cv=5, scoring='neg_mean_absolute_error')\n",
        "mae_avg = -mae_scores.mean()\n",
        "\n",
        "# R^2 score\n",
        "r2_scores = cross_val_score(pipeline_full, df_ames[features], df_ames[\"SalePrice\"], cv=5, scoring='r2')\n",
        "r2_avg = r2_scores.mean()\n",
        "\n",
        "print(f\"Average MSE: {mse_avg}\")\n",
        "print(f\"Average MAE: {mae_avg}\")\n",
        "print(f\"Average R^2 Score: {r2_avg}\")\n",
        "\n"
      ]
    },
    {
      "cell_type": "markdown",
      "metadata": {
        "id": "jYt5h-nT_Sge"
      },
      "source": [
        "7\\. Repeat the process in part 6 to fit $k$-nearest neighbors regression models for several values of $k$ (say $k=1, \\ldots, 20$). Which value of $k$ produces the best test error? Try a few different performance metrics; does the best value of $k$ depend on the metric?"
      ]
    },
    {
      "cell_type": "code",
      "execution_count": 16,
      "metadata": {
        "id": "X0kyzvbsEzAD"
      },
      "outputs": [],
      "source": [
        "# YOUR CODE HERE. ADD CELLS AS NEEDED"
      ]
    }
  ],
  "metadata": {
    "colab": {
      "provenance": []
    },
    "kernelspec": {
      "display_name": "Python 3",
      "name": "python3"
    },
    "language_info": {
      "codemirror_mode": {
        "name": "ipython",
        "version": 3
      },
      "file_extension": ".py",
      "mimetype": "text/x-python",
      "name": "python",
      "nbconvert_exporter": "python",
      "pygments_lexer": "ipython3",
      "version": "3.9.6"
    }
  },
  "nbformat": 4,
  "nbformat_minor": 0
}
