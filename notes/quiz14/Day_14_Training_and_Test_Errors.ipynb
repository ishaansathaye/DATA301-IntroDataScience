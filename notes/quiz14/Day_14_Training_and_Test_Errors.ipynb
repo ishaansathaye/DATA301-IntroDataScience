{
  "cells": [
    {
      "cell_type": "markdown",
      "metadata": {
        "id": "Lgbl3R5z75IP"
      },
      "source": [
        "# Training and Test Errors"
      ]
    },
    {
      "cell_type": "code",
      "execution_count": null,
      "metadata": {
        "id": "br_h0Mo-75Qr"
      },
      "outputs": [],
      "source": [
        "import pandas as pd\n",
        "import numpy as np"
      ]
    },
    {
      "cell_type": "markdown",
      "metadata": {
        "id": "iHFEhEQiEgS3"
      },
      "source": [
        "**Try to use scikit-learn, including pipelines, whenever possible.**"
      ]
    },
    {
      "cell_type": "markdown",
      "metadata": {
        "id": "9-zv1NQP8J7z"
      },
      "source": [
        "## Ames Housing Data"
      ]
    },
    {
      "cell_type": "code",
      "execution_count": null,
      "metadata": {
        "id": "HaRc5qIz_3j2"
      },
      "outputs": [],
      "source": [
        "df_ames = pd.read_csv(\"http://dlsun.github.io/pods/data/AmesHousing.txt\", sep = \"\\t\")\n",
        "\n",
        "df_ames"
      ]
    },
    {
      "cell_type": "markdown",
      "metadata": {
        "id": "wyajd1P98MX7"
      },
      "source": [
        "1\\. Fit a $10$-nearest neighbors model to predict **SalePrice** using **Bldg Type** as the only feature."
      ]
    },
    {
      "cell_type": "code",
      "execution_count": null,
      "metadata": {
        "id": "PxgCb6xo8Mf3"
      },
      "outputs": [],
      "source": [
        "# YOUR CODE HERE. ADD CELLS AS NEEDED"
      ]
    },
    {
      "cell_type": "markdown",
      "metadata": {
        "id": "H-x8QiJ98U3M"
      },
      "source": [
        "2\\. Calculate the **training error** of this model. Try a few different performance metrics."
      ]
    },
    {
      "cell_type": "code",
      "execution_count": null,
      "metadata": {
        "id": "lUVY5QKZEndd"
      },
      "outputs": [],
      "source": [
        "# YOUR CODE HERE. ADD CELLS AS NEEDED"
      ]
    },
    {
      "cell_type": "markdown",
      "metadata": {
        "id": "OpMjqjaR8VGs"
      },
      "source": [
        "3\\. Repeat the above process to calculate the training error for $k=1, 2, \\ldots, 10$. Which value of $k$ gives the smallest training error? Does that necessarily mean this is the best value of $k$? Discuss with your partner."
      ]
    },
    {
      "cell_type": "code",
      "execution_count": null,
      "metadata": {
        "id": "R_1QNdzYEoD6"
      },
      "outputs": [],
      "source": [
        "# YOUR CODE HERE. ADD CELLS AS NEEDED"
      ]
    },
    {
      "cell_type": "markdown",
      "metadata": {
        "id": "gHvpjJ2y8pYf"
      },
      "source": [
        "4\\. Return to the model in part 1. Now estimate the **test error** **of** the model using cross-validation. Try a few different performance metrics."
      ]
    },
    {
      "cell_type": "code",
      "execution_count": null,
      "metadata": {
        "id": "wPm1l1rkEodt"
      },
      "outputs": [],
      "source": [
        "# YOUR CODE HERE. ADD CELLS AS NEEDED"
      ]
    },
    {
      "cell_type": "markdown",
      "metadata": {
        "id": "oLp5mijg85os"
      },
      "source": [
        "5\\. Now, define a 10-nearest neighbors model to predict **SalePrice** using **Neighborhood** as the only feature. Try to estimate the test error of this model using cross validation.\n",
        "\n",
        "You will get an error. Can you figure out why this error occurs? Can you figure out how to fix it?"
      ]
    },
    {
      "cell_type": "code",
      "execution_count": null,
      "metadata": {
        "id": "occ07PEkEo4Z"
      },
      "outputs": [],
      "source": [
        "# YOUR CODE HERE. ADD CELLS AS NEEDED"
      ]
    },
    {
      "cell_type": "markdown",
      "metadata": {
        "id": "2kkeYF16_C6O"
      },
      "source": [
        "6\\. Recall that in a previous notebook we fit a 10-nearest neighbors regression model that predicts the price (just **SalePrice**, not log) of a home using square footage (**Gr Liv Area**), number of bedrooms (**Bedroom AbvGr**), number of full bathrooms (**Full Bath**), number of half bathrooms (**Half Bath**), and **Neighborhood**. Fit this model and estimate its test error using cross-validation. Try a few different performance metrics."
      ]
    },
    {
      "cell_type": "code",
      "execution_count": null,
      "metadata": {
        "id": "Xh00uPoTEprB"
      },
      "outputs": [],
      "source": [
        "# YOUR CODE HERE. ADD CELLS AS NEEDED\n"
      ]
    },
    {
      "cell_type": "markdown",
      "metadata": {
        "id": "jYt5h-nT_Sge"
      },
      "source": [
        "7\\. Repeat the process in part 6 to fit $k$-nearest neighbors regression models for several values of $k$ (say $k=1, \\ldots, 20$). Which value of $k$ produces the best test error? Try a few different performance metrics; does the best value of $k$ depend on the metric?"
      ]
    },
    {
      "cell_type": "code",
      "execution_count": null,
      "metadata": {
        "id": "X0kyzvbsEzAD"
      },
      "outputs": [],
      "source": [
        "# YOUR CODE HERE. ADD CELLS AS NEEDED"
      ]
    }
  ],
  "metadata": {
    "colab": {
      "provenance": []
    },
    "kernelspec": {
      "display_name": "Python 3",
      "name": "python3"
    },
    "language_info": {
      "name": "python"
    }
  },
  "nbformat": 4,
  "nbformat_minor": 0
}
