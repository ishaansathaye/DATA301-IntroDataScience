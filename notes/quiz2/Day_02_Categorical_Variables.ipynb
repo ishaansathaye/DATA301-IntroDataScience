{
  "cells": [
    {
      "cell_type": "markdown",
      "metadata": {
        "id": "joCIoBDTJtax"
      },
      "source": [
        "# Day 02: Categorical Variables\n",
        "\n",
        "Note: for many of these questions, once you produce crosstabs or value_counts, you could compute proportions by hand. However, try to compute them using Pandas to get more practice. (Though you are welcome to compute things like percentage change by hand.)\n"
      ]
    },
    {
      "cell_type": "markdown",
      "metadata": {
        "id": "4eHQJncNUPjV"
      },
      "source": [
        "## OKCupid data\n",
        "\n",
        "Recall the OKCupid data set \"https://raw.githubusercontent.com/kevindavisross/data301/main/data/okcupid.csv\" which contains a sample of user profiles in the San Francisco Bay Area from the online dating website\n",
        "OKCupid. Each observation is an OKCupid user."
      ]
    },
    {
      "cell_type": "markdown",
      "metadata": {
        "id": "xiHglI7xNnkz"
      },
      "source": [
        "1\\. Make a table and plot summarizing the drinks variable. (What do you think is the most reasonable ordering of categories?)"
      ]
    },
    {
      "cell_type": "code",
      "execution_count": 2,
      "metadata": {
        "id": "EGE5K0dbV9Rw"
      },
      "outputs": [
        {
          "data": {
            "text/html": [
              "<div>\n",
              "<style scoped>\n",
              "    .dataframe tbody tr th:only-of-type {\n",
              "        vertical-align: middle;\n",
              "    }\n",
              "\n",
              "    .dataframe tbody tr th {\n",
              "        vertical-align: top;\n",
              "    }\n",
              "\n",
              "    .dataframe thead th {\n",
              "        text-align: right;\n",
              "    }\n",
              "</style>\n",
              "<table border=\"1\" class=\"dataframe\">\n",
              "  <thead>\n",
              "    <tr style=\"text-align: right;\">\n",
              "      <th></th>\n",
              "      <th>age</th>\n",
              "      <th>body_type</th>\n",
              "      <th>diet</th>\n",
              "      <th>drinks</th>\n",
              "      <th>drugs</th>\n",
              "      <th>education</th>\n",
              "      <th>essay0</th>\n",
              "      <th>essay1</th>\n",
              "      <th>essay2</th>\n",
              "      <th>essay3</th>\n",
              "      <th>...</th>\n",
              "      <th>location</th>\n",
              "      <th>offspring</th>\n",
              "      <th>orientation</th>\n",
              "      <th>pets</th>\n",
              "      <th>religion</th>\n",
              "      <th>sex</th>\n",
              "      <th>sign</th>\n",
              "      <th>smokes</th>\n",
              "      <th>height</th>\n",
              "      <th>status</th>\n",
              "    </tr>\n",
              "  </thead>\n",
              "  <tbody>\n",
              "    <tr>\n",
              "      <th>0</th>\n",
              "      <td>31</td>\n",
              "      <td>NaN</td>\n",
              "      <td>mostly vegetarian</td>\n",
              "      <td>socially</td>\n",
              "      <td>sometimes</td>\n",
              "      <td>graduated from college/university</td>\n",
              "      <td>75% nice, 45% shy, 80% stubborn, 100% charming...</td>\n",
              "      <td>i'm a new nurse. it rules.</td>\n",
              "      <td>multiple-choice questions, dancing.</td>\n",
              "      <td>it depends on the people.</td>\n",
              "      <td>...</td>\n",
              "      <td>san francisco, california</td>\n",
              "      <td>might want kids</td>\n",
              "      <td>gay</td>\n",
              "      <td>likes cats</td>\n",
              "      <td>buddhism</td>\n",
              "      <td>f</td>\n",
              "      <td>taurus and it&amp;rsquo;s fun to think about</td>\n",
              "      <td>no</td>\n",
              "      <td>67.0</td>\n",
              "      <td>single</td>\n",
              "    </tr>\n",
              "    <tr>\n",
              "      <th>1</th>\n",
              "      <td>25</td>\n",
              "      <td>average</td>\n",
              "      <td>NaN</td>\n",
              "      <td>socially</td>\n",
              "      <td>NaN</td>\n",
              "      <td>working on college/university</td>\n",
              "      <td>i like trees, spending long periods of time co...</td>\n",
              "      <td>studying landscape horticulture, beekeeping, g...</td>\n",
              "      <td>wasting time, making breakfast, nesting</td>\n",
              "      <td>i have a lot of freckles</td>\n",
              "      <td>...</td>\n",
              "      <td>oakland, california</td>\n",
              "      <td>NaN</td>\n",
              "      <td>gay</td>\n",
              "      <td>NaN</td>\n",
              "      <td>NaN</td>\n",
              "      <td>m</td>\n",
              "      <td>sagittarius and it&amp;rsquo;s fun to think about</td>\n",
              "      <td>no</td>\n",
              "      <td>66.0</td>\n",
              "      <td>single</td>\n",
              "    </tr>\n",
              "    <tr>\n",
              "      <th>2</th>\n",
              "      <td>43</td>\n",
              "      <td>curvy</td>\n",
              "      <td>NaN</td>\n",
              "      <td>rarely</td>\n",
              "      <td>never</td>\n",
              "      <td>graduated from masters program</td>\n",
              "      <td>NaN</td>\n",
              "      <td>NaN</td>\n",
              "      <td>NaN</td>\n",
              "      <td>NaN</td>\n",
              "      <td>...</td>\n",
              "      <td>san francisco, california</td>\n",
              "      <td>has a kid</td>\n",
              "      <td>straight</td>\n",
              "      <td>likes dogs and has cats</td>\n",
              "      <td>other and laughing about it</td>\n",
              "      <td>f</td>\n",
              "      <td>leo and it&amp;rsquo;s fun to think about</td>\n",
              "      <td>trying to quit</td>\n",
              "      <td>65.0</td>\n",
              "      <td>single</td>\n",
              "    </tr>\n",
              "    <tr>\n",
              "      <th>3</th>\n",
              "      <td>31</td>\n",
              "      <td>average</td>\n",
              "      <td>NaN</td>\n",
              "      <td>socially</td>\n",
              "      <td>never</td>\n",
              "      <td>NaN</td>\n",
              "      <td>i am a seeker of laughs ,music ,magick good pe...</td>\n",
              "      <td>i strive to live life to the fullest and to tr...</td>\n",
              "      <td>i am good at my magic and weaving a world of i...</td>\n",
              "      <td>i am guessing y'all would notice my jewelry an...</td>\n",
              "      <td>...</td>\n",
              "      <td>san francisco, california</td>\n",
              "      <td>doesn&amp;rsquo;t want kids</td>\n",
              "      <td>gay</td>\n",
              "      <td>NaN</td>\n",
              "      <td>other and very serious about it</td>\n",
              "      <td>m</td>\n",
              "      <td>capricorn and it&amp;rsquo;s fun to think about</td>\n",
              "      <td>trying to quit</td>\n",
              "      <td>70.0</td>\n",
              "      <td>single</td>\n",
              "    </tr>\n",
              "    <tr>\n",
              "      <th>4</th>\n",
              "      <td>34</td>\n",
              "      <td>NaN</td>\n",
              "      <td>NaN</td>\n",
              "      <td>socially</td>\n",
              "      <td>NaN</td>\n",
              "      <td>graduated from ph.d program</td>\n",
              "      <td>i've just moved here from london after finishi...</td>\n",
              "      <td>i'm doing a postdoc in psychology at stanford</td>\n",
              "      <td>NaN</td>\n",
              "      <td>NaN</td>\n",
              "      <td>...</td>\n",
              "      <td>san francisco, california</td>\n",
              "      <td>NaN</td>\n",
              "      <td>gay</td>\n",
              "      <td>NaN</td>\n",
              "      <td>NaN</td>\n",
              "      <td>m</td>\n",
              "      <td>cancer but it doesn&amp;rsquo;t matter</td>\n",
              "      <td>NaN</td>\n",
              "      <td>71.0</td>\n",
              "      <td>single</td>\n",
              "    </tr>\n",
              "    <tr>\n",
              "      <th>...</th>\n",
              "      <td>...</td>\n",
              "      <td>...</td>\n",
              "      <td>...</td>\n",
              "      <td>...</td>\n",
              "      <td>...</td>\n",
              "      <td>...</td>\n",
              "      <td>...</td>\n",
              "      <td>...</td>\n",
              "      <td>...</td>\n",
              "      <td>...</td>\n",
              "      <td>...</td>\n",
              "      <td>...</td>\n",
              "      <td>...</td>\n",
              "      <td>...</td>\n",
              "      <td>...</td>\n",
              "      <td>...</td>\n",
              "      <td>...</td>\n",
              "      <td>...</td>\n",
              "      <td>...</td>\n",
              "      <td>...</td>\n",
              "      <td>...</td>\n",
              "    </tr>\n",
              "    <tr>\n",
              "      <th>2995</th>\n",
              "      <td>24</td>\n",
              "      <td>athletic</td>\n",
              "      <td>mostly anything</td>\n",
              "      <td>socially</td>\n",
              "      <td>sometimes</td>\n",
              "      <td>graduated from college/university</td>\n",
              "      <td>recent relocatee to san francisco. i'm writing...</td>\n",
              "      <td>cranking out two years of private equity so i ...</td>\n",
              "      <td>writing. criticizing. partying partying yeah.....</td>\n",
              "      <td>i've been described as 'all-american.' not sur...</td>\n",
              "      <td>...</td>\n",
              "      <td>san francisco, california</td>\n",
              "      <td>NaN</td>\n",
              "      <td>straight</td>\n",
              "      <td>NaN</td>\n",
              "      <td>catholicism</td>\n",
              "      <td>m</td>\n",
              "      <td>NaN</td>\n",
              "      <td>no</td>\n",
              "      <td>70.0</td>\n",
              "      <td>single</td>\n",
              "    </tr>\n",
              "    <tr>\n",
              "      <th>2996</th>\n",
              "      <td>50</td>\n",
              "      <td>fit</td>\n",
              "      <td>NaN</td>\n",
              "      <td>rarely</td>\n",
              "      <td>never</td>\n",
              "      <td>graduated from college/university</td>\n",
              "      <td>i'm generally happy and typically spend my tim...</td>\n",
              "      <td>i was raised with left-wing politics, pbs, bal...</td>\n",
              "      <td>i'm great with kids, dogs, cats and recycling....</td>\n",
              "      <td>gee, i don't know. . . that i'm smiling, that ...</td>\n",
              "      <td>...</td>\n",
              "      <td>oakland, california</td>\n",
              "      <td>NaN</td>\n",
              "      <td>straight</td>\n",
              "      <td>has dogs</td>\n",
              "      <td>agnosticism</td>\n",
              "      <td>f</td>\n",
              "      <td>scorpio but it doesn&amp;rsquo;t matter</td>\n",
              "      <td>no</td>\n",
              "      <td>63.0</td>\n",
              "      <td>single</td>\n",
              "    </tr>\n",
              "    <tr>\n",
              "      <th>2997</th>\n",
              "      <td>31</td>\n",
              "      <td>thin</td>\n",
              "      <td>vegetarian</td>\n",
              "      <td>socially</td>\n",
              "      <td>sometimes</td>\n",
              "      <td>NaN</td>\n",
              "      <td>NaN</td>\n",
              "      <td>i like to move around, therefore my life entai...</td>\n",
              "      <td>having fun and not taking life too seriously, ...</td>\n",
              "      <td>my smile and hair.</td>\n",
              "      <td>...</td>\n",
              "      <td>san francisco, california</td>\n",
              "      <td>NaN</td>\n",
              "      <td>straight</td>\n",
              "      <td>NaN</td>\n",
              "      <td>NaN</td>\n",
              "      <td>f</td>\n",
              "      <td>NaN</td>\n",
              "      <td>no</td>\n",
              "      <td>64.0</td>\n",
              "      <td>single</td>\n",
              "    </tr>\n",
              "    <tr>\n",
              "      <th>2998</th>\n",
              "      <td>31</td>\n",
              "      <td>athletic</td>\n",
              "      <td>mostly vegetarian</td>\n",
              "      <td>socially</td>\n",
              "      <td>sometimes</td>\n",
              "      <td>graduated from college/university</td>\n",
              "      <td>i work with seniors and i love it, so believe ...</td>\n",
              "      <td>going down in flames.</td>\n",
              "      <td>being a charming first date.</td>\n",
              "      <td>i dress like an adorable idiot.</td>\n",
              "      <td>...</td>\n",
              "      <td>walnut creek, california</td>\n",
              "      <td>NaN</td>\n",
              "      <td>straight</td>\n",
              "      <td>likes dogs and has cats</td>\n",
              "      <td>catholicism and laughing about it</td>\n",
              "      <td>f</td>\n",
              "      <td>aries and it&amp;rsquo;s fun to think about</td>\n",
              "      <td>when drinking</td>\n",
              "      <td>62.0</td>\n",
              "      <td>single</td>\n",
              "    </tr>\n",
              "    <tr>\n",
              "      <th>2999</th>\n",
              "      <td>60</td>\n",
              "      <td>fit</td>\n",
              "      <td>NaN</td>\n",
              "      <td>socially</td>\n",
              "      <td>NaN</td>\n",
              "      <td>graduated from college/university</td>\n",
              "      <td>quirky, trustworthy and unpredictable (in a go...</td>\n",
              "      <td>i easily live my life with as much zest, purpo...</td>\n",
              "      <td>NaN</td>\n",
              "      <td>i'm short in stature with a big personality. i...</td>\n",
              "      <td>...</td>\n",
              "      <td>san francisco, california</td>\n",
              "      <td>NaN</td>\n",
              "      <td>gay</td>\n",
              "      <td>likes dogs and has cats</td>\n",
              "      <td>other</td>\n",
              "      <td>f</td>\n",
              "      <td>gemini and it&amp;rsquo;s fun to think about</td>\n",
              "      <td>no</td>\n",
              "      <td>57.0</td>\n",
              "      <td>single</td>\n",
              "    </tr>\n",
              "  </tbody>\n",
              "</table>\n",
              "<p>3000 rows × 31 columns</p>\n",
              "</div>"
            ],
            "text/plain": [
              "      age body_type               diet    drinks      drugs   \n",
              "0      31       NaN  mostly vegetarian  socially  sometimes  \\\n",
              "1      25   average                NaN  socially        NaN   \n",
              "2      43     curvy                NaN    rarely      never   \n",
              "3      31   average                NaN  socially      never   \n",
              "4      34       NaN                NaN  socially        NaN   \n",
              "...   ...       ...                ...       ...        ...   \n",
              "2995   24  athletic    mostly anything  socially  sometimes   \n",
              "2996   50       fit                NaN    rarely      never   \n",
              "2997   31      thin         vegetarian  socially  sometimes   \n",
              "2998   31  athletic  mostly vegetarian  socially  sometimes   \n",
              "2999   60       fit                NaN  socially        NaN   \n",
              "\n",
              "                              education   \n",
              "0     graduated from college/university  \\\n",
              "1         working on college/university   \n",
              "2        graduated from masters program   \n",
              "3                                   NaN   \n",
              "4           graduated from ph.d program   \n",
              "...                                 ...   \n",
              "2995  graduated from college/university   \n",
              "2996  graduated from college/university   \n",
              "2997                                NaN   \n",
              "2998  graduated from college/university   \n",
              "2999  graduated from college/university   \n",
              "\n",
              "                                                 essay0   \n",
              "0     75% nice, 45% shy, 80% stubborn, 100% charming...  \\\n",
              "1     i like trees, spending long periods of time co...   \n",
              "2                                                   NaN   \n",
              "3     i am a seeker of laughs ,music ,magick good pe...   \n",
              "4     i've just moved here from london after finishi...   \n",
              "...                                                 ...   \n",
              "2995  recent relocatee to san francisco. i'm writing...   \n",
              "2996  i'm generally happy and typically spend my tim...   \n",
              "2997                                                NaN   \n",
              "2998  i work with seniors and i love it, so believe ...   \n",
              "2999  quirky, trustworthy and unpredictable (in a go...   \n",
              "\n",
              "                                                 essay1   \n",
              "0                            i'm a new nurse. it rules.  \\\n",
              "1     studying landscape horticulture, beekeeping, g...   \n",
              "2                                                   NaN   \n",
              "3     i strive to live life to the fullest and to tr...   \n",
              "4         i'm doing a postdoc in psychology at stanford   \n",
              "...                                                 ...   \n",
              "2995  cranking out two years of private equity so i ...   \n",
              "2996  i was raised with left-wing politics, pbs, bal...   \n",
              "2997  i like to move around, therefore my life entai...   \n",
              "2998                              going down in flames.   \n",
              "2999  i easily live my life with as much zest, purpo...   \n",
              "\n",
              "                                                 essay2   \n",
              "0                   multiple-choice questions, dancing.  \\\n",
              "1               wasting time, making breakfast, nesting   \n",
              "2                                                   NaN   \n",
              "3     i am good at my magic and weaving a world of i...   \n",
              "4                                                   NaN   \n",
              "...                                                 ...   \n",
              "2995  writing. criticizing. partying partying yeah.....   \n",
              "2996  i'm great with kids, dogs, cats and recycling....   \n",
              "2997  having fun and not taking life too seriously, ...   \n",
              "2998                       being a charming first date.   \n",
              "2999                                                NaN   \n",
              "\n",
              "                                                 essay3  ...   \n",
              "0                             it depends on the people.  ...  \\\n",
              "1                              i have a lot of freckles  ...   \n",
              "2                                                   NaN  ...   \n",
              "3     i am guessing y'all would notice my jewelry an...  ...   \n",
              "4                                                   NaN  ...   \n",
              "...                                                 ...  ...   \n",
              "2995  i've been described as 'all-american.' not sur...  ...   \n",
              "2996  gee, i don't know. . . that i'm smiling, that ...  ...   \n",
              "2997                                 my smile and hair.  ...   \n",
              "2998                    i dress like an adorable idiot.  ...   \n",
              "2999  i'm short in stature with a big personality. i...  ...   \n",
              "\n",
              "                       location                offspring orientation   \n",
              "0     san francisco, california          might want kids         gay  \\\n",
              "1           oakland, california                      NaN         gay   \n",
              "2     san francisco, california                has a kid    straight   \n",
              "3     san francisco, california  doesn&rsquo;t want kids         gay   \n",
              "4     san francisco, california                      NaN         gay   \n",
              "...                         ...                      ...         ...   \n",
              "2995  san francisco, california                      NaN    straight   \n",
              "2996        oakland, california                      NaN    straight   \n",
              "2997  san francisco, california                      NaN    straight   \n",
              "2998   walnut creek, california                      NaN    straight   \n",
              "2999  san francisco, california                      NaN         gay   \n",
              "\n",
              "                         pets                           religion sex   \n",
              "0                  likes cats                           buddhism   f  \\\n",
              "1                         NaN                                NaN   m   \n",
              "2     likes dogs and has cats        other and laughing about it   f   \n",
              "3                         NaN    other and very serious about it   m   \n",
              "4                         NaN                                NaN   m   \n",
              "...                       ...                                ...  ..   \n",
              "2995                      NaN                        catholicism   m   \n",
              "2996                 has dogs                        agnosticism   f   \n",
              "2997                      NaN                                NaN   f   \n",
              "2998  likes dogs and has cats  catholicism and laughing about it   f   \n",
              "2999  likes dogs and has cats                              other   f   \n",
              "\n",
              "                                               sign          smokes  height   \n",
              "0          taurus and it&rsquo;s fun to think about              no    67.0  \\\n",
              "1     sagittarius and it&rsquo;s fun to think about              no    66.0   \n",
              "2             leo and it&rsquo;s fun to think about  trying to quit    65.0   \n",
              "3       capricorn and it&rsquo;s fun to think about  trying to quit    70.0   \n",
              "4                cancer but it doesn&rsquo;t matter             NaN    71.0   \n",
              "...                                             ...             ...     ...   \n",
              "2995                                            NaN              no    70.0   \n",
              "2996            scorpio but it doesn&rsquo;t matter              no    63.0   \n",
              "2997                                            NaN              no    64.0   \n",
              "2998        aries and it&rsquo;s fun to think about   when drinking    62.0   \n",
              "2999       gemini and it&rsquo;s fun to think about              no    57.0   \n",
              "\n",
              "      status  \n",
              "0     single  \n",
              "1     single  \n",
              "2     single  \n",
              "3     single  \n",
              "4     single  \n",
              "...      ...  \n",
              "2995  single  \n",
              "2996  single  \n",
              "2997  single  \n",
              "2998  single  \n",
              "2999  single  \n",
              "\n",
              "[3000 rows x 31 columns]"
            ]
          },
          "execution_count": 2,
          "metadata": {},
          "output_type": "execute_result"
        }
      ],
      "source": [
        "# YOUR CODE HERE\n",
        "import pandas as pd\n",
        "\n",
        "df = pd.read_csv('https://raw.githubusercontent.com/kevindavisross/data301/main/data/okcupid.csv')\n",
        "df"
      ]
    },
    {
      "cell_type": "code",
      "execution_count": 3,
      "metadata": {},
      "outputs": [
        {
          "data": {
            "text/plain": [
              "drinks\n",
              "desperately    0.004563\n",
              "very often     0.009828\n",
              "not at all     0.057564\n",
              "often          0.100737\n",
              "rarely         0.105651\n",
              "socially       0.721657\n",
              "Name: proportion, dtype: float64"
            ]
          },
          "execution_count": 3,
          "metadata": {},
          "output_type": "execute_result"
        }
      ],
      "source": [
        "df_drinks = df['drinks'].value_counts(ascending=True, normalize=True)\n",
        "df_drinks"
      ]
    },
    {
      "cell_type": "code",
      "execution_count": 4,
      "metadata": {},
      "outputs": [
        {
          "data": {
            "text/plain": [
              "<Axes: xlabel='drinks'>"
            ]
          },
          "execution_count": 4,
          "metadata": {},
          "output_type": "execute_result"
        },
        {
          "data": {
            "image/png": "[encoded data removed]",
            "text/plain": [
              "<Figure size 640x480 with 1 Axes>"
            ]
          },
          "metadata": {},
          "output_type": "display_data"
        }
      ],
      "source": [
        "df_drinks.plot.bar()"
      ]
    },
    {
      "cell_type": "markdown",
      "metadata": {
        "id": "hdgBT4ywNnnq"
      },
      "source": [
        "2\\. Create a new variable that indicates whether the user has, likes, or dislikes cats. Then make a table and plot summarizing its distribution."
      ]
    },
    {
      "cell_type": "code",
      "execution_count": 5,
      "metadata": {
        "id": "8Op_Pl2MV-_B"
      },
      "outputs": [
        {
          "data": {
            "text/html": [
              "<div>\n",
              "<style scoped>\n",
              "    .dataframe tbody tr th:only-of-type {\n",
              "        vertical-align: middle;\n",
              "    }\n",
              "\n",
              "    .dataframe tbody tr th {\n",
              "        vertical-align: top;\n",
              "    }\n",
              "\n",
              "    .dataframe thead th {\n",
              "        text-align: right;\n",
              "    }\n",
              "</style>\n",
              "<table border=\"1\" class=\"dataframe\">\n",
              "  <thead>\n",
              "    <tr style=\"text-align: right;\">\n",
              "      <th></th>\n",
              "      <th>age</th>\n",
              "      <th>body_type</th>\n",
              "      <th>diet</th>\n",
              "      <th>drinks</th>\n",
              "      <th>drugs</th>\n",
              "      <th>education</th>\n",
              "      <th>essay0</th>\n",
              "      <th>essay1</th>\n",
              "      <th>essay2</th>\n",
              "      <th>essay3</th>\n",
              "      <th>...</th>\n",
              "      <th>offspring</th>\n",
              "      <th>orientation</th>\n",
              "      <th>pets</th>\n",
              "      <th>religion</th>\n",
              "      <th>sex</th>\n",
              "      <th>sign</th>\n",
              "      <th>smokes</th>\n",
              "      <th>height</th>\n",
              "      <th>status</th>\n",
              "      <th>cats</th>\n",
              "    </tr>\n",
              "  </thead>\n",
              "  <tbody>\n",
              "    <tr>\n",
              "      <th>0</th>\n",
              "      <td>31</td>\n",
              "      <td>NaN</td>\n",
              "      <td>mostly vegetarian</td>\n",
              "      <td>socially</td>\n",
              "      <td>sometimes</td>\n",
              "      <td>graduated from college/university</td>\n",
              "      <td>75% nice, 45% shy, 80% stubborn, 100% charming...</td>\n",
              "      <td>i'm a new nurse. it rules.</td>\n",
              "      <td>multiple-choice questions, dancing.</td>\n",
              "      <td>it depends on the people.</td>\n",
              "      <td>...</td>\n",
              "      <td>might want kids</td>\n",
              "      <td>gay</td>\n",
              "      <td>likes cats</td>\n",
              "      <td>buddhism</td>\n",
              "      <td>f</td>\n",
              "      <td>taurus and it&amp;rsquo;s fun to think about</td>\n",
              "      <td>no</td>\n",
              "      <td>67.0</td>\n",
              "      <td>single</td>\n",
              "      <td>likes cats</td>\n",
              "    </tr>\n",
              "    <tr>\n",
              "      <th>1</th>\n",
              "      <td>25</td>\n",
              "      <td>average</td>\n",
              "      <td>NaN</td>\n",
              "      <td>socially</td>\n",
              "      <td>NaN</td>\n",
              "      <td>working on college/university</td>\n",
              "      <td>i like trees, spending long periods of time co...</td>\n",
              "      <td>studying landscape horticulture, beekeeping, g...</td>\n",
              "      <td>wasting time, making breakfast, nesting</td>\n",
              "      <td>i have a lot of freckles</td>\n",
              "      <td>...</td>\n",
              "      <td>NaN</td>\n",
              "      <td>gay</td>\n",
              "      <td>other</td>\n",
              "      <td>NaN</td>\n",
              "      <td>m</td>\n",
              "      <td>sagittarius and it&amp;rsquo;s fun to think about</td>\n",
              "      <td>no</td>\n",
              "      <td>66.0</td>\n",
              "      <td>single</td>\n",
              "      <td>other</td>\n",
              "    </tr>\n",
              "    <tr>\n",
              "      <th>2</th>\n",
              "      <td>43</td>\n",
              "      <td>curvy</td>\n",
              "      <td>NaN</td>\n",
              "      <td>rarely</td>\n",
              "      <td>never</td>\n",
              "      <td>graduated from masters program</td>\n",
              "      <td>NaN</td>\n",
              "      <td>NaN</td>\n",
              "      <td>NaN</td>\n",
              "      <td>NaN</td>\n",
              "      <td>...</td>\n",
              "      <td>has a kid</td>\n",
              "      <td>straight</td>\n",
              "      <td>likes dogs and has cats</td>\n",
              "      <td>other and laughing about it</td>\n",
              "      <td>f</td>\n",
              "      <td>leo and it&amp;rsquo;s fun to think about</td>\n",
              "      <td>trying to quit</td>\n",
              "      <td>65.0</td>\n",
              "      <td>single</td>\n",
              "      <td>has cats</td>\n",
              "    </tr>\n",
              "    <tr>\n",
              "      <th>3</th>\n",
              "      <td>31</td>\n",
              "      <td>average</td>\n",
              "      <td>NaN</td>\n",
              "      <td>socially</td>\n",
              "      <td>never</td>\n",
              "      <td>NaN</td>\n",
              "      <td>i am a seeker of laughs ,music ,magick good pe...</td>\n",
              "      <td>i strive to live life to the fullest and to tr...</td>\n",
              "      <td>i am good at my magic and weaving a world of i...</td>\n",
              "      <td>i am guessing y'all would notice my jewelry an...</td>\n",
              "      <td>...</td>\n",
              "      <td>doesn&amp;rsquo;t want kids</td>\n",
              "      <td>gay</td>\n",
              "      <td>other</td>\n",
              "      <td>other and very serious about it</td>\n",
              "      <td>m</td>\n",
              "      <td>capricorn and it&amp;rsquo;s fun to think about</td>\n",
              "      <td>trying to quit</td>\n",
              "      <td>70.0</td>\n",
              "      <td>single</td>\n",
              "      <td>other</td>\n",
              "    </tr>\n",
              "    <tr>\n",
              "      <th>4</th>\n",
              "      <td>34</td>\n",
              "      <td>NaN</td>\n",
              "      <td>NaN</td>\n",
              "      <td>socially</td>\n",
              "      <td>NaN</td>\n",
              "      <td>graduated from ph.d program</td>\n",
              "      <td>i've just moved here from london after finishi...</td>\n",
              "      <td>i'm doing a postdoc in psychology at stanford</td>\n",
              "      <td>NaN</td>\n",
              "      <td>NaN</td>\n",
              "      <td>...</td>\n",
              "      <td>NaN</td>\n",
              "      <td>gay</td>\n",
              "      <td>other</td>\n",
              "      <td>NaN</td>\n",
              "      <td>m</td>\n",
              "      <td>cancer but it doesn&amp;rsquo;t matter</td>\n",
              "      <td>NaN</td>\n",
              "      <td>71.0</td>\n",
              "      <td>single</td>\n",
              "      <td>other</td>\n",
              "    </tr>\n",
              "    <tr>\n",
              "      <th>...</th>\n",
              "      <td>...</td>\n",
              "      <td>...</td>\n",
              "      <td>...</td>\n",
              "      <td>...</td>\n",
              "      <td>...</td>\n",
              "      <td>...</td>\n",
              "      <td>...</td>\n",
              "      <td>...</td>\n",
              "      <td>...</td>\n",
              "      <td>...</td>\n",
              "      <td>...</td>\n",
              "      <td>...</td>\n",
              "      <td>...</td>\n",
              "      <td>...</td>\n",
              "      <td>...</td>\n",
              "      <td>...</td>\n",
              "      <td>...</td>\n",
              "      <td>...</td>\n",
              "      <td>...</td>\n",
              "      <td>...</td>\n",
              "      <td>...</td>\n",
              "    </tr>\n",
              "    <tr>\n",
              "      <th>2995</th>\n",
              "      <td>24</td>\n",
              "      <td>athletic</td>\n",
              "      <td>mostly anything</td>\n",
              "      <td>socially</td>\n",
              "      <td>sometimes</td>\n",
              "      <td>graduated from college/university</td>\n",
              "      <td>recent relocatee to san francisco. i'm writing...</td>\n",
              "      <td>cranking out two years of private equity so i ...</td>\n",
              "      <td>writing. criticizing. partying partying yeah.....</td>\n",
              "      <td>i've been described as 'all-american.' not sur...</td>\n",
              "      <td>...</td>\n",
              "      <td>NaN</td>\n",
              "      <td>straight</td>\n",
              "      <td>other</td>\n",
              "      <td>catholicism</td>\n",
              "      <td>m</td>\n",
              "      <td>NaN</td>\n",
              "      <td>no</td>\n",
              "      <td>70.0</td>\n",
              "      <td>single</td>\n",
              "      <td>other</td>\n",
              "    </tr>\n",
              "    <tr>\n",
              "      <th>2996</th>\n",
              "      <td>50</td>\n",
              "      <td>fit</td>\n",
              "      <td>NaN</td>\n",
              "      <td>rarely</td>\n",
              "      <td>never</td>\n",
              "      <td>graduated from college/university</td>\n",
              "      <td>i'm generally happy and typically spend my tim...</td>\n",
              "      <td>i was raised with left-wing politics, pbs, bal...</td>\n",
              "      <td>i'm great with kids, dogs, cats and recycling....</td>\n",
              "      <td>gee, i don't know. . . that i'm smiling, that ...</td>\n",
              "      <td>...</td>\n",
              "      <td>NaN</td>\n",
              "      <td>straight</td>\n",
              "      <td>has dogs</td>\n",
              "      <td>agnosticism</td>\n",
              "      <td>f</td>\n",
              "      <td>scorpio but it doesn&amp;rsquo;t matter</td>\n",
              "      <td>no</td>\n",
              "      <td>63.0</td>\n",
              "      <td>single</td>\n",
              "      <td>other</td>\n",
              "    </tr>\n",
              "    <tr>\n",
              "      <th>2997</th>\n",
              "      <td>31</td>\n",
              "      <td>thin</td>\n",
              "      <td>vegetarian</td>\n",
              "      <td>socially</td>\n",
              "      <td>sometimes</td>\n",
              "      <td>NaN</td>\n",
              "      <td>NaN</td>\n",
              "      <td>i like to move around, therefore my life entai...</td>\n",
              "      <td>having fun and not taking life too seriously, ...</td>\n",
              "      <td>my smile and hair.</td>\n",
              "      <td>...</td>\n",
              "      <td>NaN</td>\n",
              "      <td>straight</td>\n",
              "      <td>other</td>\n",
              "      <td>NaN</td>\n",
              "      <td>f</td>\n",
              "      <td>NaN</td>\n",
              "      <td>no</td>\n",
              "      <td>64.0</td>\n",
              "      <td>single</td>\n",
              "      <td>other</td>\n",
              "    </tr>\n",
              "    <tr>\n",
              "      <th>2998</th>\n",
              "      <td>31</td>\n",
              "      <td>athletic</td>\n",
              "      <td>mostly vegetarian</td>\n",
              "      <td>socially</td>\n",
              "      <td>sometimes</td>\n",
              "      <td>graduated from college/university</td>\n",
              "      <td>i work with seniors and i love it, so believe ...</td>\n",
              "      <td>going down in flames.</td>\n",
              "      <td>being a charming first date.</td>\n",
              "      <td>i dress like an adorable idiot.</td>\n",
              "      <td>...</td>\n",
              "      <td>NaN</td>\n",
              "      <td>straight</td>\n",
              "      <td>likes dogs and has cats</td>\n",
              "      <td>catholicism and laughing about it</td>\n",
              "      <td>f</td>\n",
              "      <td>aries and it&amp;rsquo;s fun to think about</td>\n",
              "      <td>when drinking</td>\n",
              "      <td>62.0</td>\n",
              "      <td>single</td>\n",
              "      <td>has cats</td>\n",
              "    </tr>\n",
              "    <tr>\n",
              "      <th>2999</th>\n",
              "      <td>60</td>\n",
              "      <td>fit</td>\n",
              "      <td>NaN</td>\n",
              "      <td>socially</td>\n",
              "      <td>NaN</td>\n",
              "      <td>graduated from college/university</td>\n",
              "      <td>quirky, trustworthy and unpredictable (in a go...</td>\n",
              "      <td>i easily live my life with as much zest, purpo...</td>\n",
              "      <td>NaN</td>\n",
              "      <td>i'm short in stature with a big personality. i...</td>\n",
              "      <td>...</td>\n",
              "      <td>NaN</td>\n",
              "      <td>gay</td>\n",
              "      <td>likes dogs and has cats</td>\n",
              "      <td>other</td>\n",
              "      <td>f</td>\n",
              "      <td>gemini and it&amp;rsquo;s fun to think about</td>\n",
              "      <td>no</td>\n",
              "      <td>57.0</td>\n",
              "      <td>single</td>\n",
              "      <td>has cats</td>\n",
              "    </tr>\n",
              "  </tbody>\n",
              "</table>\n",
              "<p>3000 rows × 32 columns</p>\n",
              "</div>"
            ],
            "text/plain": [
              "      age body_type               diet    drinks      drugs   \n",
              "0      31       NaN  mostly vegetarian  socially  sometimes  \\\n",
              "1      25   average                NaN  socially        NaN   \n",
              "2      43     curvy                NaN    rarely      never   \n",
              "3      31   average                NaN  socially      never   \n",
              "4      34       NaN                NaN  socially        NaN   \n",
              "...   ...       ...                ...       ...        ...   \n",
              "2995   24  athletic    mostly anything  socially  sometimes   \n",
              "2996   50       fit                NaN    rarely      never   \n",
              "2997   31      thin         vegetarian  socially  sometimes   \n",
              "2998   31  athletic  mostly vegetarian  socially  sometimes   \n",
              "2999   60       fit                NaN  socially        NaN   \n",
              "\n",
              "                              education   \n",
              "0     graduated from college/university  \\\n",
              "1         working on college/university   \n",
              "2        graduated from masters program   \n",
              "3                                   NaN   \n",
              "4           graduated from ph.d program   \n",
              "...                                 ...   \n",
              "2995  graduated from college/university   \n",
              "2996  graduated from college/university   \n",
              "2997                                NaN   \n",
              "2998  graduated from college/university   \n",
              "2999  graduated from college/university   \n",
              "\n",
              "                                                 essay0   \n",
              "0     75% nice, 45% shy, 80% stubborn, 100% charming...  \\\n",
              "1     i like trees, spending long periods of time co...   \n",
              "2                                                   NaN   \n",
              "3     i am a seeker of laughs ,music ,magick good pe...   \n",
              "4     i've just moved here from london after finishi...   \n",
              "...                                                 ...   \n",
              "2995  recent relocatee to san francisco. i'm writing...   \n",
              "2996  i'm generally happy and typically spend my tim...   \n",
              "2997                                                NaN   \n",
              "2998  i work with seniors and i love it, so believe ...   \n",
              "2999  quirky, trustworthy and unpredictable (in a go...   \n",
              "\n",
              "                                                 essay1   \n",
              "0                            i'm a new nurse. it rules.  \\\n",
              "1     studying landscape horticulture, beekeeping, g...   \n",
              "2                                                   NaN   \n",
              "3     i strive to live life to the fullest and to tr...   \n",
              "4         i'm doing a postdoc in psychology at stanford   \n",
              "...                                                 ...   \n",
              "2995  cranking out two years of private equity so i ...   \n",
              "2996  i was raised with left-wing politics, pbs, bal...   \n",
              "2997  i like to move around, therefore my life entai...   \n",
              "2998                              going down in flames.   \n",
              "2999  i easily live my life with as much zest, purpo...   \n",
              "\n",
              "                                                 essay2   \n",
              "0                   multiple-choice questions, dancing.  \\\n",
              "1               wasting time, making breakfast, nesting   \n",
              "2                                                   NaN   \n",
              "3     i am good at my magic and weaving a world of i...   \n",
              "4                                                   NaN   \n",
              "...                                                 ...   \n",
              "2995  writing. criticizing. partying partying yeah.....   \n",
              "2996  i'm great with kids, dogs, cats and recycling....   \n",
              "2997  having fun and not taking life too seriously, ...   \n",
              "2998                       being a charming first date.   \n",
              "2999                                                NaN   \n",
              "\n",
              "                                                 essay3  ...   \n",
              "0                             it depends on the people.  ...  \\\n",
              "1                              i have a lot of freckles  ...   \n",
              "2                                                   NaN  ...   \n",
              "3     i am guessing y'all would notice my jewelry an...  ...   \n",
              "4                                                   NaN  ...   \n",
              "...                                                 ...  ...   \n",
              "2995  i've been described as 'all-american.' not sur...  ...   \n",
              "2996  gee, i don't know. . . that i'm smiling, that ...  ...   \n",
              "2997                                 my smile and hair.  ...   \n",
              "2998                    i dress like an adorable idiot.  ...   \n",
              "2999  i'm short in stature with a big personality. i...  ...   \n",
              "\n",
              "                    offspring orientation                     pets   \n",
              "0             might want kids         gay               likes cats  \\\n",
              "1                         NaN         gay                    other   \n",
              "2                   has a kid    straight  likes dogs and has cats   \n",
              "3     doesn&rsquo;t want kids         gay                    other   \n",
              "4                         NaN         gay                    other   \n",
              "...                       ...         ...                      ...   \n",
              "2995                      NaN    straight                    other   \n",
              "2996                      NaN    straight                 has dogs   \n",
              "2997                      NaN    straight                    other   \n",
              "2998                      NaN    straight  likes dogs and has cats   \n",
              "2999                      NaN         gay  likes dogs and has cats   \n",
              "\n",
              "                               religion sex   \n",
              "0                              buddhism   f  \\\n",
              "1                                   NaN   m   \n",
              "2           other and laughing about it   f   \n",
              "3       other and very serious about it   m   \n",
              "4                                   NaN   m   \n",
              "...                                 ...  ..   \n",
              "2995                        catholicism   m   \n",
              "2996                        agnosticism   f   \n",
              "2997                                NaN   f   \n",
              "2998  catholicism and laughing about it   f   \n",
              "2999                              other   f   \n",
              "\n",
              "                                               sign          smokes height   \n",
              "0          taurus and it&rsquo;s fun to think about              no   67.0  \\\n",
              "1     sagittarius and it&rsquo;s fun to think about              no   66.0   \n",
              "2             leo and it&rsquo;s fun to think about  trying to quit   65.0   \n",
              "3       capricorn and it&rsquo;s fun to think about  trying to quit   70.0   \n",
              "4                cancer but it doesn&rsquo;t matter             NaN   71.0   \n",
              "...                                             ...             ...    ...   \n",
              "2995                                            NaN              no   70.0   \n",
              "2996            scorpio but it doesn&rsquo;t matter              no   63.0   \n",
              "2997                                            NaN              no   64.0   \n",
              "2998        aries and it&rsquo;s fun to think about   when drinking   62.0   \n",
              "2999       gemini and it&rsquo;s fun to think about              no   57.0   \n",
              "\n",
              "      status        cats  \n",
              "0     single  likes cats  \n",
              "1     single       other  \n",
              "2     single    has cats  \n",
              "3     single       other  \n",
              "4     single       other  \n",
              "...      ...         ...  \n",
              "2995  single       other  \n",
              "2996  single       other  \n",
              "2997  single       other  \n",
              "2998  single    has cats  \n",
              "2999  single    has cats  \n",
              "\n",
              "[3000 rows x 32 columns]"
            ]
          },
          "execution_count": 5,
          "metadata": {},
          "output_type": "execute_result"
        }
      ],
      "source": [
        "# YOUR CODE HERE\n",
        "def cats(s):\n",
        "    if \"has cats\" in s:\n",
        "        return \"has cats\"\n",
        "    elif s in [\"dislikes cats\", \"likes dogs and dislikes cats\", \n",
        "               \"has dogs and dislikes cats\", \"dislikes dogs and dislikes cats\"]:\n",
        "        return \"dislikes cats\"\n",
        "    elif s in [\"likes dogs and likes cats\", \"has dogs and likes cats\", \n",
        "               \"likes cats\", \"dislikes dogs and likes cats\"]:\n",
        "        return \"likes cats\"\n",
        "    else:\n",
        "        return \"other\"\n",
        "df[\"pets\"].fillna(\"other\", inplace=True)\n",
        "df[\"cats\"] = df[\"pets\"].map(cats)\n",
        "df"
      ]
    },
    {
      "cell_type": "code",
      "execution_count": 6,
      "metadata": {},
      "outputs": [
        {
          "data": {
            "text/plain": [
              "cats\n",
              "dislikes cats     144\n",
              "has cats          351\n",
              "likes cats        924\n",
              "other            1581\n",
              "Name: count, dtype: int64"
            ]
          },
          "execution_count": 6,
          "metadata": {},
          "output_type": "execute_result"
        }
      ],
      "source": [
        "df_cats = df[\"cats\"].value_counts(ascending=True)\n",
        "df_cats"
      ]
    },
    {
      "cell_type": "code",
      "execution_count": 7,
      "metadata": {},
      "outputs": [
        {
          "data": {
            "text/plain": [
              "<Axes: xlabel='cats'>"
            ]
          },
          "execution_count": 7,
          "metadata": {},
          "output_type": "execute_result"
        },
        {
          "data": {
            "image/png": "[encoded data removed]",
            "text/plain": [
              "<Figure size 640x480 with 1 Axes>"
            ]
          },
          "metadata": {},
          "output_type": "display_data"
        }
      ],
      "source": [
        "df_cats.plot.bar()"
      ]
    },
    {
      "cell_type": "markdown",
      "metadata": {
        "id": "tBzXD_-mNnqj"
      },
      "source": [
        "3\\. Create a table and plot that summarizes the relationship between two categorical variables in this data set. You can pick the variables, and you are welcome to define new ones (like the cats variable)."
      ]
    },
    {
      "cell_type": "code",
      "execution_count": 8,
      "metadata": {
        "id": "M3atMHfgWBH7"
      },
      "outputs": [
        {
          "data": {
            "text/html": [
              "<div>\n",
              "<style scoped>\n",
              "    .dataframe tbody tr th:only-of-type {\n",
              "        vertical-align: middle;\n",
              "    }\n",
              "\n",
              "    .dataframe tbody tr th {\n",
              "        vertical-align: top;\n",
              "    }\n",
              "\n",
              "    .dataframe thead th {\n",
              "        text-align: right;\n",
              "    }\n",
              "</style>\n",
              "<table border=\"1\" class=\"dataframe\">\n",
              "  <thead>\n",
              "    <tr style=\"text-align: right;\">\n",
              "      <th>cats</th>\n",
              "      <th>dislikes cats</th>\n",
              "      <th>has cats</th>\n",
              "      <th>likes cats</th>\n",
              "      <th>other</th>\n",
              "    </tr>\n",
              "    <tr>\n",
              "      <th>sex</th>\n",
              "      <th></th>\n",
              "      <th></th>\n",
              "      <th></th>\n",
              "      <th></th>\n",
              "    </tr>\n",
              "  </thead>\n",
              "  <tbody>\n",
              "    <tr>\n",
              "      <th>f</th>\n",
              "      <td>0.022333</td>\n",
              "      <td>0.077</td>\n",
              "      <td>0.116</td>\n",
              "      <td>0.188667</td>\n",
              "    </tr>\n",
              "    <tr>\n",
              "      <th>m</th>\n",
              "      <td>0.025667</td>\n",
              "      <td>0.040</td>\n",
              "      <td>0.192</td>\n",
              "      <td>0.338333</td>\n",
              "    </tr>\n",
              "  </tbody>\n",
              "</table>\n",
              "</div>"
            ],
            "text/plain": [
              "cats  dislikes cats  has cats  likes cats     other\n",
              "sex                                                \n",
              "f          0.022333     0.077       0.116  0.188667\n",
              "m          0.025667     0.040       0.192  0.338333"
            ]
          },
          "execution_count": 8,
          "metadata": {},
          "output_type": "execute_result"
        }
      ],
      "source": [
        "# YOUR CODE HERE\n",
        "joint_cats_sex = pd.crosstab(df[\"sex\"], df[\"cats\"], normalize=True)\n",
        "joint_cats_sex\n"
      ]
    },
    {
      "cell_type": "code",
      "execution_count": 32,
      "metadata": {},
      "outputs": [
        {
          "data": {
            "text/html": [
              "<div>\n",
              "<style scoped>\n",
              "    .dataframe tbody tr th:only-of-type {\n",
              "        vertical-align: middle;\n",
              "    }\n",
              "\n",
              "    .dataframe tbody tr th {\n",
              "        vertical-align: top;\n",
              "    }\n",
              "\n",
              "    .dataframe thead th {\n",
              "        text-align: right;\n",
              "    }\n",
              "</style>\n",
              "<table border=\"1\" class=\"dataframe\">\n",
              "  <thead>\n",
              "    <tr style=\"text-align: right;\">\n",
              "      <th>cats</th>\n",
              "      <th>dislikes cats</th>\n",
              "      <th>has cats</th>\n",
              "      <th>likes cats</th>\n",
              "      <th>other</th>\n",
              "    </tr>\n",
              "    <tr>\n",
              "      <th>sex</th>\n",
              "      <th></th>\n",
              "      <th></th>\n",
              "      <th></th>\n",
              "      <th></th>\n",
              "    </tr>\n",
              "  </thead>\n",
              "  <tbody>\n",
              "    <tr>\n",
              "      <th>f</th>\n",
              "      <td>0.055281</td>\n",
              "      <td>0.190594</td>\n",
              "      <td>0.287129</td>\n",
              "      <td>0.466997</td>\n",
              "    </tr>\n",
              "    <tr>\n",
              "      <th>m</th>\n",
              "      <td>0.043065</td>\n",
              "      <td>0.067114</td>\n",
              "      <td>0.322148</td>\n",
              "      <td>0.567673</td>\n",
              "    </tr>\n",
              "  </tbody>\n",
              "</table>\n",
              "</div>"
            ],
            "text/plain": [
              "cats  dislikes cats  has cats  likes cats     other\n",
              "sex                                                \n",
              "f          0.055281  0.190594    0.287129  0.466997\n",
              "m          0.043065  0.067114    0.322148  0.567673"
            ]
          },
          "execution_count": 32,
          "metadata": {},
          "output_type": "execute_result"
        }
      ],
      "source": [
        "marginal_sex = joint_cats_sex.sum(axis=1)\n",
        "# marginal_sex\n",
        "conditional = joint_cats_sex.divide(marginal_sex, axis=0)\n",
        "conditional"
      ]
    },
    {
      "cell_type": "code",
      "execution_count": 37,
      "metadata": {},
      "outputs": [
        {
          "data": {
            "text/plain": [
              "<Axes: xlabel='cats'>"
            ]
          },
          "execution_count": 37,
          "metadata": {},
          "output_type": "execute_result"
        },
        {
          "data": {
            "image/png": "[encoded data removed]",
            "text/plain": [
              "<Figure size 640x480 with 1 Axes>"
            ]
          },
          "metadata": {},
          "output_type": "display_data"
        }
      ],
      "source": [
        "conditional.T.plot.bar(stacked=True)"
      ]
    },
    {
      "cell_type": "markdown",
      "metadata": {
        "id": "laNbeHoBNntM"
      },
      "source": [
        "4\\. Write a clearly worded sentence or two summarizing the results of your analysis from the previous part in context."
      ]
    },
    {
      "cell_type": "markdown",
      "metadata": {
        "id": "cNWJ9YfaWB7M"
      },
      "source": [
        "**YOUR RESPONSE HERE.**\n",
        "\n",
        "From the table and the bar chart it seems that females were more likely to dislike casts than males. It also seems that females and males like cats equally.\n"
      ]
    },
    {
      "cell_type": "markdown",
      "metadata": {
        "id": "bcHF9cORvjVw"
      },
      "source": [
        "## Titanic data\n",
        "\n",
        "Recall that we defined the **type** variable with levels passenger or crew."
      ]
    },
    {
      "cell_type": "code",
      "execution_count": 10,
      "metadata": {
        "id": "dDmYGgcdy25-"
      },
      "outputs": [
        {
          "data": {
            "text/html": [
              "<div>\n",
              "<style scoped>\n",
              "    .dataframe tbody tr th:only-of-type {\n",
              "        vertical-align: middle;\n",
              "    }\n",
              "\n",
              "    .dataframe tbody tr th {\n",
              "        vertical-align: top;\n",
              "    }\n",
              "\n",
              "    .dataframe thead th {\n",
              "        text-align: right;\n",
              "    }\n",
              "</style>\n",
              "<table border=\"1\" class=\"dataframe\">\n",
              "  <thead>\n",
              "    <tr style=\"text-align: right;\">\n",
              "      <th></th>\n",
              "      <th>name</th>\n",
              "      <th>gender</th>\n",
              "      <th>age</th>\n",
              "      <th>class</th>\n",
              "      <th>embarked</th>\n",
              "      <th>country</th>\n",
              "      <th>ticketno</th>\n",
              "      <th>fare</th>\n",
              "      <th>survived</th>\n",
              "      <th>pclass</th>\n",
              "      <th>crew</th>\n",
              "      <th>type</th>\n",
              "    </tr>\n",
              "  </thead>\n",
              "  <tbody>\n",
              "    <tr>\n",
              "      <th>0</th>\n",
              "      <td>Abbing, Mr. Anthony</td>\n",
              "      <td>male</td>\n",
              "      <td>42.0</td>\n",
              "      <td>3rd</td>\n",
              "      <td>S</td>\n",
              "      <td>United States</td>\n",
              "      <td>5547.0</td>\n",
              "      <td>7.11</td>\n",
              "      <td>0</td>\n",
              "      <td>3.0</td>\n",
              "      <td>NaN</td>\n",
              "      <td>passenger</td>\n",
              "    </tr>\n",
              "    <tr>\n",
              "      <th>1</th>\n",
              "      <td>Abbott, Mr. Eugene Joseph</td>\n",
              "      <td>male</td>\n",
              "      <td>13.0</td>\n",
              "      <td>3rd</td>\n",
              "      <td>S</td>\n",
              "      <td>United States</td>\n",
              "      <td>2673.0</td>\n",
              "      <td>20.05</td>\n",
              "      <td>0</td>\n",
              "      <td>3.0</td>\n",
              "      <td>NaN</td>\n",
              "      <td>passenger</td>\n",
              "    </tr>\n",
              "    <tr>\n",
              "      <th>2</th>\n",
              "      <td>Abbott, Mr. Rossmore Edward</td>\n",
              "      <td>male</td>\n",
              "      <td>16.0</td>\n",
              "      <td>3rd</td>\n",
              "      <td>S</td>\n",
              "      <td>United States</td>\n",
              "      <td>2673.0</td>\n",
              "      <td>20.05</td>\n",
              "      <td>0</td>\n",
              "      <td>3.0</td>\n",
              "      <td>NaN</td>\n",
              "      <td>passenger</td>\n",
              "    </tr>\n",
              "    <tr>\n",
              "      <th>3</th>\n",
              "      <td>Abbott, Mrs. Rhoda Mary 'Rosa'</td>\n",
              "      <td>female</td>\n",
              "      <td>39.0</td>\n",
              "      <td>3rd</td>\n",
              "      <td>S</td>\n",
              "      <td>England</td>\n",
              "      <td>2673.0</td>\n",
              "      <td>20.05</td>\n",
              "      <td>1</td>\n",
              "      <td>3.0</td>\n",
              "      <td>NaN</td>\n",
              "      <td>passenger</td>\n",
              "    </tr>\n",
              "    <tr>\n",
              "      <th>4</th>\n",
              "      <td>Abelseth, Miss. Karen Marie</td>\n",
              "      <td>female</td>\n",
              "      <td>16.0</td>\n",
              "      <td>3rd</td>\n",
              "      <td>S</td>\n",
              "      <td>Norway</td>\n",
              "      <td>348125.0</td>\n",
              "      <td>7.13</td>\n",
              "      <td>1</td>\n",
              "      <td>3.0</td>\n",
              "      <td>NaN</td>\n",
              "      <td>passenger</td>\n",
              "    </tr>\n",
              "    <tr>\n",
              "      <th>...</th>\n",
              "      <td>...</td>\n",
              "      <td>...</td>\n",
              "      <td>...</td>\n",
              "      <td>...</td>\n",
              "      <td>...</td>\n",
              "      <td>...</td>\n",
              "      <td>...</td>\n",
              "      <td>...</td>\n",
              "      <td>...</td>\n",
              "      <td>...</td>\n",
              "      <td>...</td>\n",
              "      <td>...</td>\n",
              "    </tr>\n",
              "    <tr>\n",
              "      <th>2202</th>\n",
              "      <td>Wynn, Mr. Walter</td>\n",
              "      <td>male</td>\n",
              "      <td>41.0</td>\n",
              "      <td>deck crew</td>\n",
              "      <td>B</td>\n",
              "      <td>England</td>\n",
              "      <td>NaN</td>\n",
              "      <td>NaN</td>\n",
              "      <td>1</td>\n",
              "      <td>NaN</td>\n",
              "      <td>deck crew</td>\n",
              "      <td>crew</td>\n",
              "    </tr>\n",
              "    <tr>\n",
              "      <th>2203</th>\n",
              "      <td>Yearsley, Mr. Harry</td>\n",
              "      <td>male</td>\n",
              "      <td>40.0</td>\n",
              "      <td>victualling crew</td>\n",
              "      <td>S</td>\n",
              "      <td>England</td>\n",
              "      <td>NaN</td>\n",
              "      <td>NaN</td>\n",
              "      <td>1</td>\n",
              "      <td>NaN</td>\n",
              "      <td>victualling crew</td>\n",
              "      <td>crew</td>\n",
              "    </tr>\n",
              "    <tr>\n",
              "      <th>2204</th>\n",
              "      <td>Young, Mr. Francis James</td>\n",
              "      <td>male</td>\n",
              "      <td>32.0</td>\n",
              "      <td>engineering crew</td>\n",
              "      <td>S</td>\n",
              "      <td>England</td>\n",
              "      <td>NaN</td>\n",
              "      <td>NaN</td>\n",
              "      <td>0</td>\n",
              "      <td>NaN</td>\n",
              "      <td>engineering crew</td>\n",
              "      <td>crew</td>\n",
              "    </tr>\n",
              "    <tr>\n",
              "      <th>2205</th>\n",
              "      <td>Zanetti, Sig. Minio</td>\n",
              "      <td>male</td>\n",
              "      <td>20.0</td>\n",
              "      <td>restaurant staff</td>\n",
              "      <td>S</td>\n",
              "      <td>England</td>\n",
              "      <td>NaN</td>\n",
              "      <td>NaN</td>\n",
              "      <td>0</td>\n",
              "      <td>NaN</td>\n",
              "      <td>restaurant staff</td>\n",
              "      <td>crew</td>\n",
              "    </tr>\n",
              "    <tr>\n",
              "      <th>2206</th>\n",
              "      <td>Zarracchi, Sig. L.</td>\n",
              "      <td>male</td>\n",
              "      <td>26.0</td>\n",
              "      <td>restaurant staff</td>\n",
              "      <td>S</td>\n",
              "      <td>England</td>\n",
              "      <td>NaN</td>\n",
              "      <td>NaN</td>\n",
              "      <td>0</td>\n",
              "      <td>NaN</td>\n",
              "      <td>restaurant staff</td>\n",
              "      <td>crew</td>\n",
              "    </tr>\n",
              "  </tbody>\n",
              "</table>\n",
              "<p>2207 rows × 12 columns</p>\n",
              "</div>"
            ],
            "text/plain": [
              "                                name  gender   age             class embarked   \n",
              "0                Abbing, Mr. Anthony    male  42.0               3rd        S  \\\n",
              "1          Abbott, Mr. Eugene Joseph    male  13.0               3rd        S   \n",
              "2        Abbott, Mr. Rossmore Edward    male  16.0               3rd        S   \n",
              "3     Abbott, Mrs. Rhoda Mary 'Rosa'  female  39.0               3rd        S   \n",
              "4        Abelseth, Miss. Karen Marie  female  16.0               3rd        S   \n",
              "...                              ...     ...   ...               ...      ...   \n",
              "2202                Wynn, Mr. Walter    male  41.0         deck crew        B   \n",
              "2203             Yearsley, Mr. Harry    male  40.0  victualling crew        S   \n",
              "2204        Young, Mr. Francis James    male  32.0  engineering crew        S   \n",
              "2205             Zanetti, Sig. Minio    male  20.0  restaurant staff        S   \n",
              "2206              Zarracchi, Sig. L.    male  26.0  restaurant staff        S   \n",
              "\n",
              "            country  ticketno   fare  survived  pclass              crew   \n",
              "0     United States    5547.0   7.11         0     3.0               NaN  \\\n",
              "1     United States    2673.0  20.05         0     3.0               NaN   \n",
              "2     United States    2673.0  20.05         0     3.0               NaN   \n",
              "3           England    2673.0  20.05         1     3.0               NaN   \n",
              "4            Norway  348125.0   7.13         1     3.0               NaN   \n",
              "...             ...       ...    ...       ...     ...               ...   \n",
              "2202        England       NaN    NaN         1     NaN         deck crew   \n",
              "2203        England       NaN    NaN         1     NaN  victualling crew   \n",
              "2204        England       NaN    NaN         0     NaN  engineering crew   \n",
              "2205        England       NaN    NaN         0     NaN  restaurant staff   \n",
              "2206        England       NaN    NaN         0     NaN  restaurant staff   \n",
              "\n",
              "           type  \n",
              "0     passenger  \n",
              "1     passenger  \n",
              "2     passenger  \n",
              "3     passenger  \n",
              "4     passenger  \n",
              "...         ...  \n",
              "2202       crew  \n",
              "2203       crew  \n",
              "2204       crew  \n",
              "2205       crew  \n",
              "2206       crew  \n",
              "\n",
              "[2207 rows x 12 columns]"
            ]
          },
          "execution_count": 10,
          "metadata": {},
          "output_type": "execute_result"
        }
      ],
      "source": [
        "df_titanic = pd.read_csv(\"https://raw.githubusercontent.com/kevindavisross/data301/main/data/titanic.csv\")\n",
        "\n",
        "def class_to_type(c):\n",
        "  if c in [\"1st\", \"2nd\", \"3rd\"]:\n",
        "    return \"passenger\"\n",
        "  else:\n",
        "    return \"crew\"\n",
        "\n",
        "df_titanic[\"type\"] = df_titanic[\"class\"].map(class_to_type)\n",
        "\n",
        "df_titanic"
      ]
    },
    {
      "cell_type": "markdown",
      "metadata": {
        "id": "hXITiL2NTxRp"
      },
      "source": [
        "1\\. What proportion of those onboard were male crewmembers? Use Python to compute."
      ]
    },
    {
      "cell_type": "code",
      "execution_count": 11,
      "metadata": {
        "id": "w4nkkMSiTv7g"
      },
      "outputs": [
        {
          "data": {
            "text/html": [
              "<div>\n",
              "<style scoped>\n",
              "    .dataframe tbody tr th:only-of-type {\n",
              "        vertical-align: middle;\n",
              "    }\n",
              "\n",
              "    .dataframe tbody tr th {\n",
              "        vertical-align: top;\n",
              "    }\n",
              "\n",
              "    .dataframe thead th {\n",
              "        text-align: right;\n",
              "    }\n",
              "</style>\n",
              "<table border=\"1\" class=\"dataframe\">\n",
              "  <thead>\n",
              "    <tr style=\"text-align: right;\">\n",
              "      <th>type</th>\n",
              "      <th>crew</th>\n",
              "      <th>passenger</th>\n",
              "    </tr>\n",
              "    <tr>\n",
              "      <th>gender</th>\n",
              "      <th></th>\n",
              "      <th></th>\n",
              "    </tr>\n",
              "  </thead>\n",
              "  <tbody>\n",
              "    <tr>\n",
              "      <th>female</th>\n",
              "      <td>0.010421</td>\n",
              "      <td>0.211146</td>\n",
              "    </tr>\n",
              "    <tr>\n",
              "      <th>male</th>\n",
              "      <td>0.392841</td>\n",
              "      <td>0.385591</td>\n",
              "    </tr>\n",
              "  </tbody>\n",
              "</table>\n",
              "</div>"
            ],
            "text/plain": [
              "type        crew  passenger\n",
              "gender                     \n",
              "female  0.010421   0.211146\n",
              "male    0.392841   0.385591"
            ]
          },
          "execution_count": 11,
          "metadata": {},
          "output_type": "execute_result"
        }
      ],
      "source": [
        "# YOUR CODE HERE\n",
        "joint_class_type = pd.crosstab(df_titanic[\"gender\"], df_titanic[\"type\"], normalize=True)\n",
        "joint_class_type"
      ]
    },
    {
      "cell_type": "markdown",
      "metadata": {
        "id": "gIVzdv1Cql63"
      },
      "source": [
        "2\\. What proportion of males were crewmembers? Use Python to compute."
      ]
    },
    {
      "cell_type": "code",
      "execution_count": 12,
      "metadata": {
        "id": "kbaIcDBpqsqf"
      },
      "outputs": [
        {
          "data": {
            "text/plain": [
              "gender\n",
              "female    0.221568\n",
              "male      0.778432\n",
              "dtype: float64"
            ]
          },
          "execution_count": 12,
          "metadata": {},
          "output_type": "execute_result"
        }
      ],
      "source": [
        "# YOUR CODE HERE\n",
        "marginal_gender = joint_class_type.sum(axis=1)\n",
        "marginal_gender"
      ]
    },
    {
      "cell_type": "code",
      "execution_count": 13,
      "metadata": {},
      "outputs": [
        {
          "data": {
            "text/html": [
              "<div>\n",
              "<style scoped>\n",
              "    .dataframe tbody tr th:only-of-type {\n",
              "        vertical-align: middle;\n",
              "    }\n",
              "\n",
              "    .dataframe tbody tr th {\n",
              "        vertical-align: top;\n",
              "    }\n",
              "\n",
              "    .dataframe thead th {\n",
              "        text-align: right;\n",
              "    }\n",
              "</style>\n",
              "<table border=\"1\" class=\"dataframe\">\n",
              "  <thead>\n",
              "    <tr style=\"text-align: right;\">\n",
              "      <th>type</th>\n",
              "      <th>crew</th>\n",
              "      <th>passenger</th>\n",
              "    </tr>\n",
              "    <tr>\n",
              "      <th>gender</th>\n",
              "      <th></th>\n",
              "      <th></th>\n",
              "    </tr>\n",
              "  </thead>\n",
              "  <tbody>\n",
              "    <tr>\n",
              "      <th>female</th>\n",
              "      <td>0.047035</td>\n",
              "      <td>0.952965</td>\n",
              "    </tr>\n",
              "    <tr>\n",
              "      <th>male</th>\n",
              "      <td>0.504657</td>\n",
              "      <td>0.495343</td>\n",
              "    </tr>\n",
              "  </tbody>\n",
              "</table>\n",
              "</div>"
            ],
            "text/plain": [
              "type        crew  passenger\n",
              "gender                     \n",
              "female  0.047035   0.952965\n",
              "male    0.504657   0.495343"
            ]
          },
          "execution_count": 13,
          "metadata": {},
          "output_type": "execute_result"
        }
      ],
      "source": [
        "cond_crew_males = joint_class_type.divide(marginal_gender, axis=0)\n",
        "cond_crew_males"
      ]
    },
    {
      "cell_type": "markdown",
      "metadata": {
        "id": "sX9ytljBqs2m"
      },
      "source": [
        "3\\. What proportion of crewmembers were male? Use Python to compute."
      ]
    },
    {
      "cell_type": "code",
      "execution_count": 14,
      "metadata": {
        "id": "_n00lkxdrHwe"
      },
      "outputs": [
        {
          "data": {
            "text/html": [
              "<div>\n",
              "<style scoped>\n",
              "    .dataframe tbody tr th:only-of-type {\n",
              "        vertical-align: middle;\n",
              "    }\n",
              "\n",
              "    .dataframe tbody tr th {\n",
              "        vertical-align: top;\n",
              "    }\n",
              "\n",
              "    .dataframe thead th {\n",
              "        text-align: right;\n",
              "    }\n",
              "</style>\n",
              "<table border=\"1\" class=\"dataframe\">\n",
              "  <thead>\n",
              "    <tr style=\"text-align: right;\">\n",
              "      <th>type</th>\n",
              "      <th>crew</th>\n",
              "      <th>passenger</th>\n",
              "    </tr>\n",
              "    <tr>\n",
              "      <th>gender</th>\n",
              "      <th></th>\n",
              "      <th></th>\n",
              "    </tr>\n",
              "  </thead>\n",
              "  <tbody>\n",
              "    <tr>\n",
              "      <th>female</th>\n",
              "      <td>0.025843</td>\n",
              "      <td>0.353834</td>\n",
              "    </tr>\n",
              "    <tr>\n",
              "      <th>male</th>\n",
              "      <td>0.974157</td>\n",
              "      <td>0.646166</td>\n",
              "    </tr>\n",
              "  </tbody>\n",
              "</table>\n",
              "</div>"
            ],
            "text/plain": [
              "type        crew  passenger\n",
              "gender                     \n",
              "female  0.025843   0.353834\n",
              "male    0.974157   0.646166"
            ]
          },
          "execution_count": 14,
          "metadata": {},
          "output_type": "execute_result"
        }
      ],
      "source": [
        "# YOUR CODE HERE\n",
        "marginal_type = joint_class_type.sum(axis=0)\n",
        "cond_male_crew = joint_class_type.divide(marginal_type, axis=1)\n",
        "cond_male_crew"
      ]
    },
    {
      "cell_type": "markdown",
      "metadata": {
        "id": "EzlOsN3IPMLS"
      },
      "source": [
        "4\\.  Make a table and plot summarizing the relationship between type and survived that will allow you to answer the question: Which type was more likely to survive?"
      ]
    },
    {
      "cell_type": "code",
      "execution_count": 15,
      "metadata": {
        "id": "9pCkupxMrzgc"
      },
      "outputs": [
        {
          "data": {
            "text/html": [
              "<div>\n",
              "<style scoped>\n",
              "    .dataframe tbody tr th:only-of-type {\n",
              "        vertical-align: middle;\n",
              "    }\n",
              "\n",
              "    .dataframe tbody tr th {\n",
              "        vertical-align: top;\n",
              "    }\n",
              "\n",
              "    .dataframe thead th {\n",
              "        text-align: right;\n",
              "    }\n",
              "</style>\n",
              "<table border=\"1\" class=\"dataframe\">\n",
              "  <thead>\n",
              "    <tr style=\"text-align: right;\">\n",
              "      <th>type</th>\n",
              "      <th>crew</th>\n",
              "      <th>passenger</th>\n",
              "    </tr>\n",
              "    <tr>\n",
              "      <th>survived</th>\n",
              "      <th></th>\n",
              "      <th></th>\n",
              "    </tr>\n",
              "  </thead>\n",
              "  <tbody>\n",
              "    <tr>\n",
              "      <th>0</th>\n",
              "      <td>0.762921</td>\n",
              "      <td>0.620349</td>\n",
              "    </tr>\n",
              "    <tr>\n",
              "      <th>1</th>\n",
              "      <td>0.237079</td>\n",
              "      <td>0.379651</td>\n",
              "    </tr>\n",
              "  </tbody>\n",
              "</table>\n",
              "</div>"
            ],
            "text/plain": [
              "type          crew  passenger\n",
              "survived                     \n",
              "0         0.762921   0.620349\n",
              "1         0.237079   0.379651"
            ]
          },
          "execution_count": 15,
          "metadata": {},
          "output_type": "execute_result"
        }
      ],
      "source": [
        "# YOUR CODE HERE\n",
        "joint_survived_type = pd.crosstab(df_titanic[\"survived\"], df_titanic[\"type\"], normalize=True)\n",
        "marginal_type = joint_survived_type.sum(axis=0)\n",
        "\n",
        "cond_survived_type = joint_survived_type.divide(marginal_type, axis=1)\n",
        "cond_survived_type"
      ]
    },
    {
      "cell_type": "code",
      "execution_count": 16,
      "metadata": {},
      "outputs": [
        {
          "data": {
            "text/plain": [
              "<Axes: xlabel='survived'>"
            ]
          },
          "execution_count": 16,
          "metadata": {},
          "output_type": "execute_result"
        },
        {
          "data": {
            "image/png": "[encoded data removed]",
            "text/plain": [
              "<Figure size 640x480 with 1 Axes>"
            ]
          },
          "metadata": {},
          "output_type": "display_data"
        }
      ],
      "source": [
        "cond_survived_type.plot.bar()"
      ]
    },
    {
      "cell_type": "code",
      "execution_count": 17,
      "metadata": {},
      "outputs": [
        {
          "data": {
            "text/plain": [
              "<Axes: xlabel='type'>"
            ]
          },
          "execution_count": 17,
          "metadata": {},
          "output_type": "execute_result"
        },
        {
          "data": {
            "image/png": "[encoded data removed]",
            "text/plain": [
              "<Figure size 640x480 with 1 Axes>"
            ]
          },
          "metadata": {},
          "output_type": "display_data"
        }
      ],
      "source": [
        "cond_survived_type.T.plot.bar(stacked=True)"
      ]
    },
    {
      "cell_type": "markdown",
      "metadata": {
        "id": "s1bJMWgPRx26"
      },
      "source": [
        "5\\. Which type was more likely to survive? How much more likely? Write a clearly worded sentence in response to this question."
      ]
    },
    {
      "cell_type": "markdown",
      "metadata": {
        "id": "jvqJqUXxqGaV"
      },
      "source": [
        "**YOUR RESPONSE HERE.**\n",
        "\n",
        "The passengers were more likely to survive since the proportion of passengers who survived were 0.379 while the proportion of crew who survived were 0.237. In percentage terms, 37.9% of passengers survived while 23.7% of crew survived. This means that passengers were 14.2 percentage points more likely to survive than crew."
      ]
    },
    {
      "cell_type": "markdown",
      "metadata": {
        "id": "sNLNUMRuQy8L"
      },
      "source": [
        "6\\. Now consider females only. Make a table and side-by-side bar chart comparing the proportions who survive or not between passenger and crew (among females only)."
      ]
    },
    {
      "cell_type": "code",
      "execution_count": 18,
      "metadata": {
        "id": "VYtFf6pTr0sv"
      },
      "outputs": [
        {
          "data": {
            "text/html": [
              "<div>\n",
              "<style scoped>\n",
              "    .dataframe tbody tr th:only-of-type {\n",
              "        vertical-align: middle;\n",
              "    }\n",
              "\n",
              "    .dataframe tbody tr th {\n",
              "        vertical-align: top;\n",
              "    }\n",
              "\n",
              "    .dataframe thead th {\n",
              "        text-align: right;\n",
              "    }\n",
              "</style>\n",
              "<table border=\"1\" class=\"dataframe\">\n",
              "  <thead>\n",
              "    <tr style=\"text-align: right;\">\n",
              "      <th>type</th>\n",
              "      <th>crew</th>\n",
              "      <th>passenger</th>\n",
              "    </tr>\n",
              "    <tr>\n",
              "      <th>survived</th>\n",
              "      <th></th>\n",
              "      <th></th>\n",
              "    </tr>\n",
              "  </thead>\n",
              "  <tbody>\n",
              "    <tr>\n",
              "      <th>0</th>\n",
              "      <td>0.130435</td>\n",
              "      <td>0.272532</td>\n",
              "    </tr>\n",
              "    <tr>\n",
              "      <th>1</th>\n",
              "      <td>0.869565</td>\n",
              "      <td>0.727468</td>\n",
              "    </tr>\n",
              "  </tbody>\n",
              "</table>\n",
              "</div>"
            ],
            "text/plain": [
              "type          crew  passenger\n",
              "survived                     \n",
              "0         0.130435   0.272532\n",
              "1         0.869565   0.727468"
            ]
          },
          "execution_count": 18,
          "metadata": {},
          "output_type": "execute_result"
        }
      ],
      "source": [
        "# YOUR CODE HERE\n",
        "\n",
        "df_female = df_titanic[(df_titanic[\"gender\"] == \"female\")]\n",
        "joint_female_type = pd.crosstab(df_female[\"survived\"], df_titanic[\"type\"], normalize=True)\n",
        "marginal_type = joint_female_type.sum(axis=0)\n",
        "cond_survived_type = joint_female_type.divide(marginal_type, axis=1)\n",
        "cond_survived_type\n"
      ]
    },
    {
      "cell_type": "code",
      "execution_count": 19,
      "metadata": {},
      "outputs": [
        {
          "data": {
            "text/plain": [
              "<Axes: xlabel='type'>"
            ]
          },
          "execution_count": 19,
          "metadata": {},
          "output_type": "execute_result"
        },
        {
          "data": {
            "image/png": "[encoded data removed]",
            "text/plain": [
              "<Figure size 640x480 with 1 Axes>"
            ]
          },
          "metadata": {},
          "output_type": "display_data"
        }
      ],
      "source": [
        "cond_survived_type.T.plot.bar()"
      ]
    },
    {
      "cell_type": "markdown",
      "metadata": {
        "id": "NyJ1L731RSes"
      },
      "source": [
        "7\\. Among females, which type was more likely to survive? How much more likely? Write a clearly worded sentence in response to this question."
      ]
    },
    {
      "cell_type": "markdown",
      "metadata": {
        "id": "utMf67_Wr7Uw"
      },
      "source": [
        "**YOUR RESPONSE HERE.**\n",
        "\n",
        "Among the females the crew were more likely to survive since 86.9% of crew survived while 73.7% of passengers survived. This means that crew were 13.2 percentage points more likely to survive than passengers."
      ]
    },
    {
      "cell_type": "markdown",
      "metadata": {
        "id": "XYdTVzGfRShM"
      },
      "source": [
        "8\\. Now consider males only. Make a table and stacked bar chart comparing the proportions who survive or not between passenger and crew (among males only). (The only reason we're doing stacked here and side-by-side above is to give you practice with each.)"
      ]
    },
    {
      "cell_type": "code",
      "execution_count": 20,
      "metadata": {
        "id": "MU5hmZAXsGVF"
      },
      "outputs": [
        {
          "data": {
            "text/html": [
              "<div>\n",
              "<style scoped>\n",
              "    .dataframe tbody tr th:only-of-type {\n",
              "        vertical-align: middle;\n",
              "    }\n",
              "\n",
              "    .dataframe tbody tr th {\n",
              "        vertical-align: top;\n",
              "    }\n",
              "\n",
              "    .dataframe thead th {\n",
              "        text-align: right;\n",
              "    }\n",
              "</style>\n",
              "<table border=\"1\" class=\"dataframe\">\n",
              "  <thead>\n",
              "    <tr style=\"text-align: right;\">\n",
              "      <th>type</th>\n",
              "      <th>crew</th>\n",
              "      <th>passenger</th>\n",
              "    </tr>\n",
              "    <tr>\n",
              "      <th>survived</th>\n",
              "      <th></th>\n",
              "      <th></th>\n",
              "    </tr>\n",
              "  </thead>\n",
              "  <tbody>\n",
              "    <tr>\n",
              "      <th>0</th>\n",
              "      <td>0.7797</td>\n",
              "      <td>0.810811</td>\n",
              "    </tr>\n",
              "    <tr>\n",
              "      <th>1</th>\n",
              "      <td>0.2203</td>\n",
              "      <td>0.189189</td>\n",
              "    </tr>\n",
              "  </tbody>\n",
              "</table>\n",
              "</div>"
            ],
            "text/plain": [
              "type        crew  passenger\n",
              "survived                   \n",
              "0         0.7797   0.810811\n",
              "1         0.2203   0.189189"
            ]
          },
          "execution_count": 20,
          "metadata": {},
          "output_type": "execute_result"
        }
      ],
      "source": [
        "# YOUR CODE HERE\n",
        "df_male = df_titanic[(df_titanic[\"gender\"] == \"male\")]\n",
        "joint_male_type = pd.crosstab(df_male[\"survived\"], df_titanic[\"type\"], normalize=True)\n",
        "marginal_type = joint_male_type.sum(axis=0)\n",
        "cond_survived_type = joint_male_type.divide(marginal_type, axis=1)\n",
        "cond_survived_type"
      ]
    },
    {
      "cell_type": "code",
      "execution_count": 21,
      "metadata": {},
      "outputs": [
        {
          "data": {
            "text/plain": [
              "<Axes: xlabel='type'>"
            ]
          },
          "execution_count": 21,
          "metadata": {},
          "output_type": "execute_result"
        },
        {
          "data": {
            "image/png": "[encoded data removed]",
            "text/plain": [
              "<Figure size 640x480 with 1 Axes>"
            ]
          },
          "metadata": {},
          "output_type": "display_data"
        }
      ],
      "source": [
        "cond_survived_type.T.plot.bar(stacked=True)"
      ]
    },
    {
      "cell_type": "markdown",
      "metadata": {
        "id": "Okwnn2QQRSjb"
      },
      "source": [
        "9\\. Among males, which type was more likely to survive? How much more likely? Write a clearly worded sentence in response to this question."
      ]
    },
    {
      "cell_type": "markdown",
      "metadata": {
        "id": "jqb33YhSR94w"
      },
      "source": [
        "**YOUR RESPONSE HERE.**\n",
        "\n",
        "Among the males, it seems that the crew were more likely to survive since 22.03% of crew survived while 18.9% of passengers survived. This means that crew were 3.13 percentage points more likely to survive than passengers."
      ]
    },
    {
      "cell_type": "markdown",
      "metadata": {
        "id": "O__TV5WzrRh2"
      },
      "source": [
        "10\\. Review your responses to part 4-9. Notice anything strange? Why do you think this happens? (We'll investigate further in the next class.)"
      ]
    },
    {
      "cell_type": "markdown",
      "metadata": {
        "id": "B6-P9N5bsAyL"
      },
      "source": [
        "**YOUR RESPONSE HERE.**\n",
        "\n",
        "In 4 it seems that the passengers were more likely to survive, while in the other problems it seems that the crew more likely to survive."
      ]
    },
    {
      "cell_type": "markdown",
      "metadata": {
        "id": "hGe9-Pj0uZwg"
      },
      "source": [
        "## Comparing COVID Fatalities\n",
        "\n",
        "Now we will compare COVID fatalities in Portugal (https://raw.githubusercontent.com/kevindavisross/data301/main/data/portugal_2020-05-28.csv) and Colombia (https://raw.githubusercontent.com/kevindavisross/data301/main/data/colombia_2020-05-28.csv) using data from both countries on May 28, 2020. Recall that we cleaned the Colombia data to match the formatting of the Portugal data."
      ]
    },
    {
      "cell_type": "code",
      "execution_count": 22,
      "metadata": {
        "id": "5ndI559Ity3D"
      },
      "outputs": [
        {
          "data": {
            "text/html": [
              "<div>\n",
              "<style scoped>\n",
              "    .dataframe tbody tr th:only-of-type {\n",
              "        vertical-align: middle;\n",
              "    }\n",
              "\n",
              "    .dataframe tbody tr th {\n",
              "        vertical-align: top;\n",
              "    }\n",
              "\n",
              "    .dataframe thead th {\n",
              "        text-align: right;\n",
              "    }\n",
              "</style>\n",
              "<table border=\"1\" class=\"dataframe\">\n",
              "  <thead>\n",
              "    <tr style=\"text-align: right;\">\n",
              "      <th></th>\n",
              "      <th>age</th>\n",
              "      <th>sex</th>\n",
              "      <th>fatality</th>\n",
              "    </tr>\n",
              "  </thead>\n",
              "  <tbody>\n",
              "    <tr>\n",
              "      <th>0</th>\n",
              "      <td>60-69</td>\n",
              "      <td>Female</td>\n",
              "      <td>0</td>\n",
              "    </tr>\n",
              "    <tr>\n",
              "      <th>1</th>\n",
              "      <td>60-69</td>\n",
              "      <td>Male</td>\n",
              "      <td>0</td>\n",
              "    </tr>\n",
              "    <tr>\n",
              "      <th>2</th>\n",
              "      <td>80+</td>\n",
              "      <td>Male</td>\n",
              "      <td>0</td>\n",
              "    </tr>\n",
              "    <tr>\n",
              "      <th>3</th>\n",
              "      <td>60-69</td>\n",
              "      <td>Female</td>\n",
              "      <td>0</td>\n",
              "    </tr>\n",
              "    <tr>\n",
              "      <th>4</th>\n",
              "      <td>50-59</td>\n",
              "      <td>Female</td>\n",
              "      <td>0</td>\n",
              "    </tr>\n",
              "    <tr>\n",
              "      <th>...</th>\n",
              "      <td>...</td>\n",
              "      <td>...</td>\n",
              "      <td>...</td>\n",
              "    </tr>\n",
              "    <tr>\n",
              "      <th>31591</th>\n",
              "      <td>40-49</td>\n",
              "      <td>Male</td>\n",
              "      <td>0</td>\n",
              "    </tr>\n",
              "    <tr>\n",
              "      <th>31592</th>\n",
              "      <td>30-39</td>\n",
              "      <td>Male</td>\n",
              "      <td>0</td>\n",
              "    </tr>\n",
              "    <tr>\n",
              "      <th>31593</th>\n",
              "      <td>80+</td>\n",
              "      <td>Female</td>\n",
              "      <td>0</td>\n",
              "    </tr>\n",
              "    <tr>\n",
              "      <th>31594</th>\n",
              "      <td>40-49</td>\n",
              "      <td>Female</td>\n",
              "      <td>0</td>\n",
              "    </tr>\n",
              "    <tr>\n",
              "      <th>31595</th>\n",
              "      <td>70-79</td>\n",
              "      <td>Female</td>\n",
              "      <td>0</td>\n",
              "    </tr>\n",
              "  </tbody>\n",
              "</table>\n",
              "<p>31596 rows × 3 columns</p>\n",
              "</div>"
            ],
            "text/plain": [
              "         age     sex  fatality\n",
              "0      60-69  Female         0\n",
              "1      60-69    Male         0\n",
              "2        80+    Male         0\n",
              "3      60-69  Female         0\n",
              "4      50-59  Female         0\n",
              "...      ...     ...       ...\n",
              "31591  40-49    Male         0\n",
              "31592  30-39    Male         0\n",
              "31593    80+  Female         0\n",
              "31594  40-49  Female         0\n",
              "31595  70-79  Female         0\n",
              "\n",
              "[31596 rows x 3 columns]"
            ]
          },
          "execution_count": 22,
          "metadata": {},
          "output_type": "execute_result"
        }
      ],
      "source": [
        "df_PT = pd.read_csv(\"https://raw.githubusercontent.com/kevindavisross/data301/main/data/portugal_2020-05-28.csv\")\n",
        "df_PT"
      ]
    },
    {
      "cell_type": "code",
      "execution_count": 23,
      "metadata": {
        "id": "eiiw8VIhtz6b"
      },
      "outputs": [
        {
          "data": {
            "text/html": [
              "<div>\n",
              "<style scoped>\n",
              "    .dataframe tbody tr th:only-of-type {\n",
              "        vertical-align: middle;\n",
              "    }\n",
              "\n",
              "    .dataframe tbody tr th {\n",
              "        vertical-align: top;\n",
              "    }\n",
              "\n",
              "    .dataframe thead th {\n",
              "        text-align: right;\n",
              "    }\n",
              "</style>\n",
              "<table border=\"1\" class=\"dataframe\">\n",
              "  <thead>\n",
              "    <tr style=\"text-align: right;\">\n",
              "      <th></th>\n",
              "      <th>Departamento</th>\n",
              "      <th>Edad</th>\n",
              "      <th>Sexo</th>\n",
              "      <th>Tipo</th>\n",
              "      <th>Ubicación</th>\n",
              "      <th>Estado</th>\n",
              "      <th>Fecha de inicio de síntomas</th>\n",
              "      <th>Fecha de muerte</th>\n",
              "      <th>Fecha de diagnóstico</th>\n",
              "      <th>Fecha recuperado</th>\n",
              "      <th>fatality</th>\n",
              "      <th>age</th>\n",
              "    </tr>\n",
              "  </thead>\n",
              "  <tbody>\n",
              "    <tr>\n",
              "      <th>0</th>\n",
              "      <td>Bogotá D.C.</td>\n",
              "      <td>19</td>\n",
              "      <td>F</td>\n",
              "      <td>Importado</td>\n",
              "      <td>Recuperado</td>\n",
              "      <td>Leve</td>\n",
              "      <td>2020-02-27</td>\n",
              "      <td>-   -</td>\n",
              "      <td>2020-03-06</td>\n",
              "      <td>2020-03-13</td>\n",
              "      <td>0.0</td>\n",
              "      <td>10-19</td>\n",
              "    </tr>\n",
              "    <tr>\n",
              "      <th>1</th>\n",
              "      <td>Valle del Cauca</td>\n",
              "      <td>34</td>\n",
              "      <td>M</td>\n",
              "      <td>Importado</td>\n",
              "      <td>Recuperado</td>\n",
              "      <td>Leve</td>\n",
              "      <td>2020-03-04</td>\n",
              "      <td>-   -</td>\n",
              "      <td>2020-03-09</td>\n",
              "      <td>2020-03-19</td>\n",
              "      <td>0.0</td>\n",
              "      <td>30-39</td>\n",
              "    </tr>\n",
              "    <tr>\n",
              "      <th>2</th>\n",
              "      <td>Antioquia</td>\n",
              "      <td>50</td>\n",
              "      <td>F</td>\n",
              "      <td>Importado</td>\n",
              "      <td>Recuperado</td>\n",
              "      <td>Leve</td>\n",
              "      <td>2020-02-29</td>\n",
              "      <td>-   -</td>\n",
              "      <td>2020-03-09</td>\n",
              "      <td>2020-03-15</td>\n",
              "      <td>0.0</td>\n",
              "      <td>50-59</td>\n",
              "    </tr>\n",
              "    <tr>\n",
              "      <th>3</th>\n",
              "      <td>Antioquia</td>\n",
              "      <td>55</td>\n",
              "      <td>M</td>\n",
              "      <td>Relacionado</td>\n",
              "      <td>Recuperado</td>\n",
              "      <td>Leve</td>\n",
              "      <td>2020-03-06</td>\n",
              "      <td>-   -</td>\n",
              "      <td>2020-03-11</td>\n",
              "      <td>2020-03-26</td>\n",
              "      <td>0.0</td>\n",
              "      <td>50-59</td>\n",
              "    </tr>\n",
              "    <tr>\n",
              "      <th>4</th>\n",
              "      <td>Antioquia</td>\n",
              "      <td>25</td>\n",
              "      <td>M</td>\n",
              "      <td>Relacionado</td>\n",
              "      <td>Recuperado</td>\n",
              "      <td>Leve</td>\n",
              "      <td>2020-03-08</td>\n",
              "      <td>-   -</td>\n",
              "      <td>2020-03-11</td>\n",
              "      <td>2020-03-23</td>\n",
              "      <td>0.0</td>\n",
              "      <td>20-29</td>\n",
              "    </tr>\n",
              "    <tr>\n",
              "      <th>...</th>\n",
              "      <td>...</td>\n",
              "      <td>...</td>\n",
              "      <td>...</td>\n",
              "      <td>...</td>\n",
              "      <td>...</td>\n",
              "      <td>...</td>\n",
              "      <td>...</td>\n",
              "      <td>...</td>\n",
              "      <td>...</td>\n",
              "      <td>...</td>\n",
              "      <td>...</td>\n",
              "      <td>...</td>\n",
              "    </tr>\n",
              "    <tr>\n",
              "      <th>25361</th>\n",
              "      <td>Buenaventura D.E.</td>\n",
              "      <td>48</td>\n",
              "      <td>M</td>\n",
              "      <td>En estudio</td>\n",
              "      <td>Hospital</td>\n",
              "      <td>Moderado</td>\n",
              "      <td>2020-05-12</td>\n",
              "      <td>-   -</td>\n",
              "      <td>2020-05-28</td>\n",
              "      <td>NaN</td>\n",
              "      <td>0.0</td>\n",
              "      <td>40-49</td>\n",
              "    </tr>\n",
              "    <tr>\n",
              "      <th>25362</th>\n",
              "      <td>Valle del Cauca</td>\n",
              "      <td>55</td>\n",
              "      <td>F</td>\n",
              "      <td>En estudio</td>\n",
              "      <td>Casa</td>\n",
              "      <td>Leve</td>\n",
              "      <td>2020-05-21</td>\n",
              "      <td>/  /</td>\n",
              "      <td>2020-05-28</td>\n",
              "      <td>NaN</td>\n",
              "      <td>0.0</td>\n",
              "      <td>50-59</td>\n",
              "    </tr>\n",
              "    <tr>\n",
              "      <th>25363</th>\n",
              "      <td>Buenaventura D.E.</td>\n",
              "      <td>39</td>\n",
              "      <td>F</td>\n",
              "      <td>En estudio</td>\n",
              "      <td>Casa</td>\n",
              "      <td>Leve</td>\n",
              "      <td>2020-05-23</td>\n",
              "      <td>/  /</td>\n",
              "      <td>2020-05-28</td>\n",
              "      <td>NaN</td>\n",
              "      <td>0.0</td>\n",
              "      <td>30-39</td>\n",
              "    </tr>\n",
              "    <tr>\n",
              "      <th>25364</th>\n",
              "      <td>Valle del Cauca</td>\n",
              "      <td>13</td>\n",
              "      <td>F</td>\n",
              "      <td>En estudio</td>\n",
              "      <td>Casa</td>\n",
              "      <td>Leve</td>\n",
              "      <td>2020-05-13</td>\n",
              "      <td>/  /</td>\n",
              "      <td>2020-05-28</td>\n",
              "      <td>NaN</td>\n",
              "      <td>0.0</td>\n",
              "      <td>10-19</td>\n",
              "    </tr>\n",
              "    <tr>\n",
              "      <th>25365</th>\n",
              "      <td>Córdoba</td>\n",
              "      <td>0</td>\n",
              "      <td>F</td>\n",
              "      <td>En estudio</td>\n",
              "      <td>Hospital</td>\n",
              "      <td>Moderado</td>\n",
              "      <td>2020-05-11</td>\n",
              "      <td>-   -</td>\n",
              "      <td>2020-05-28</td>\n",
              "      <td>NaN</td>\n",
              "      <td>0.0</td>\n",
              "      <td>0-9</td>\n",
              "    </tr>\n",
              "  </tbody>\n",
              "</table>\n",
              "<p>25366 rows × 12 columns</p>\n",
              "</div>"
            ],
            "text/plain": [
              "            Departamento  Edad Sexo         Tipo   Ubicación    Estado   \n",
              "0            Bogotá D.C.    19    F    Importado  Recuperado      Leve  \\\n",
              "1        Valle del Cauca    34    M    Importado  Recuperado      Leve   \n",
              "2              Antioquia    50    F    Importado  Recuperado      Leve   \n",
              "3              Antioquia    55    M  Relacionado  Recuperado      Leve   \n",
              "4              Antioquia    25    M  Relacionado  Recuperado      Leve   \n",
              "...                  ...   ...  ...          ...         ...       ...   \n",
              "25361  Buenaventura D.E.    48    M   En estudio    Hospital  Moderado   \n",
              "25362    Valle del Cauca    55    F   En estudio        Casa      Leve   \n",
              "25363  Buenaventura D.E.    39    F   En estudio        Casa      Leve   \n",
              "25364    Valle del Cauca    13    F   En estudio        Casa      Leve   \n",
              "25365            Córdoba     0    F   En estudio    Hospital  Moderado   \n",
              "\n",
              "      Fecha de inicio de síntomas Fecha de muerte Fecha de diagnóstico   \n",
              "0                      2020-02-27           -   -           2020-03-06  \\\n",
              "1                      2020-03-04           -   -           2020-03-09   \n",
              "2                      2020-02-29           -   -           2020-03-09   \n",
              "3                      2020-03-06           -   -           2020-03-11   \n",
              "4                      2020-03-08           -   -           2020-03-11   \n",
              "...                           ...             ...                  ...   \n",
              "25361                  2020-05-12           -   -           2020-05-28   \n",
              "25362                  2020-05-21            /  /           2020-05-28   \n",
              "25363                  2020-05-23            /  /           2020-05-28   \n",
              "25364                  2020-05-13            /  /           2020-05-28   \n",
              "25365                  2020-05-11           -   -           2020-05-28   \n",
              "\n",
              "      Fecha recuperado  fatality    age  \n",
              "0           2020-03-13       0.0  10-19  \n",
              "1           2020-03-19       0.0  30-39  \n",
              "2           2020-03-15       0.0  50-59  \n",
              "3           2020-03-26       0.0  50-59  \n",
              "4           2020-03-23       0.0  20-29  \n",
              "...                ...       ...    ...  \n",
              "25361              NaN       0.0  40-49  \n",
              "25362              NaN       0.0  50-59  \n",
              "25363              NaN       0.0  30-39  \n",
              "25364              NaN       0.0  10-19  \n",
              "25365              NaN       0.0    0-9  \n",
              "\n",
              "[25366 rows x 12 columns]"
            ]
          },
          "execution_count": 23,
          "metadata": {},
          "output_type": "execute_result"
        }
      ],
      "source": [
        "df_CO = pd.read_csv(\"https://raw.githubusercontent.com/kevindavisross/data301/main/data/colombia_2020-05-28.csv\")\n",
        "\n",
        "df_CO[\"fatality\"] = df_CO[\"Estado\"].map({\n",
        "    \"Fallecido\": 1\n",
        "}).fillna(0)\n",
        "\n",
        "df_CO[\"age\"] = pd.cut(\n",
        "    df_CO[\"Edad\"],\n",
        "    bins=[0, 10, 20, 30, 40, 50, 60, 70, 80, 120],\n",
        "    labels=[\"0-9\", \"10-19\", \"20-29\", \"30-39\", \"40-49\", \"50-59\", \"60-69\", \"70-79\", \"80+\"],\n",
        "    right=False)\n",
        "\n",
        "# Look for new columns called \"fatality\" and \"age\" in the DataFrame.\n",
        "df_CO"
      ]
    },
    {
      "cell_type": "markdown",
      "metadata": {
        "id": "ya7-RKc70T_U"
      },
      "source": [
        "1\\. Make a table and plot of the distribution of the fatality variable for Portugal."
      ]
    },
    {
      "cell_type": "code",
      "execution_count": 24,
      "metadata": {
        "id": "4EP1FSz7yhSh"
      },
      "outputs": [
        {
          "data": {
            "text/html": [
              "<div>\n",
              "<style scoped>\n",
              "    .dataframe tbody tr th:only-of-type {\n",
              "        vertical-align: middle;\n",
              "    }\n",
              "\n",
              "    .dataframe tbody tr th {\n",
              "        vertical-align: top;\n",
              "    }\n",
              "\n",
              "    .dataframe thead th {\n",
              "        text-align: right;\n",
              "    }\n",
              "</style>\n",
              "<table border=\"1\" class=\"dataframe\">\n",
              "  <thead>\n",
              "    <tr style=\"text-align: right;\">\n",
              "      <th>age</th>\n",
              "      <th>0-9</th>\n",
              "      <th>10-19</th>\n",
              "      <th>20-29</th>\n",
              "      <th>30-39</th>\n",
              "      <th>40-49</th>\n",
              "      <th>50-59</th>\n",
              "      <th>60-69</th>\n",
              "      <th>70-79</th>\n",
              "      <th>80+</th>\n",
              "    </tr>\n",
              "    <tr>\n",
              "      <th>fatality</th>\n",
              "      <th></th>\n",
              "      <th></th>\n",
              "      <th></th>\n",
              "      <th></th>\n",
              "      <th></th>\n",
              "      <th></th>\n",
              "      <th></th>\n",
              "      <th></th>\n",
              "      <th></th>\n",
              "    </tr>\n",
              "  </thead>\n",
              "  <tbody>\n",
              "    <tr>\n",
              "      <th>0.0</th>\n",
              "      <td>0.043365</td>\n",
              "      <td>0.076835</td>\n",
              "      <td>0.220807</td>\n",
              "      <td>0.220413</td>\n",
              "      <td>0.156588</td>\n",
              "      <td>0.124773</td>\n",
              "      <td>0.069739</td>\n",
              "      <td>0.035599</td>\n",
              "      <td>0.019475</td>\n",
              "    </tr>\n",
              "    <tr>\n",
              "      <th>1.0</th>\n",
              "      <td>0.000197</td>\n",
              "      <td>0.000039</td>\n",
              "      <td>0.000512</td>\n",
              "      <td>0.000946</td>\n",
              "      <td>0.002405</td>\n",
              "      <td>0.004770</td>\n",
              "      <td>0.007569</td>\n",
              "      <td>0.008436</td>\n",
              "      <td>0.007530</td>\n",
              "    </tr>\n",
              "  </tbody>\n",
              "</table>\n",
              "</div>"
            ],
            "text/plain": [
              "age            0-9     10-19     20-29     30-39     40-49     50-59   \n",
              "fatality                                                               \n",
              "0.0       0.043365  0.076835  0.220807  0.220413  0.156588  0.124773  \\\n",
              "1.0       0.000197  0.000039  0.000512  0.000946  0.002405  0.004770   \n",
              "\n",
              "age          60-69     70-79       80+  \n",
              "fatality                                \n",
              "0.0       0.069739  0.035599  0.019475  \n",
              "1.0       0.007569  0.008436  0.007530  "
            ]
          },
          "execution_count": 24,
          "metadata": {},
          "output_type": "execute_result"
        }
      ],
      "source": [
        "# YOUR CODE HERE\n",
        "joint_CO_fatality_age = pd.crosstab(df_CO[\"fatality\"], df_CO[\"age\"], normalize=True)\n",
        "joint_CO_fatality_age\n"
      ]
    },
    {
      "cell_type": "code",
      "execution_count": 25,
      "metadata": {},
      "outputs": [
        {
          "data": {
            "text/plain": [
              "<Axes: xlabel='age'>"
            ]
          },
          "execution_count": 25,
          "metadata": {},
          "output_type": "execute_result"
        },
        {
          "data": {
            "image/png": "[encoded data removed]",
            "text/plain": [
              "<Figure size 640x480 with 1 Axes>"
            ]
          },
          "metadata": {},
          "output_type": "display_data"
        }
      ],
      "source": [
        "joint_CO_fatality_age.T.plot.bar()"
      ]
    },
    {
      "cell_type": "markdown",
      "metadata": {
        "id": "-BccjgzPuiEk"
      },
      "source": [
        "2\\. Make a table and plot of the distribution of the fatality variable for Colombia."
      ]
    },
    {
      "cell_type": "code",
      "execution_count": 26,
      "metadata": {
        "id": "MV6JwUWGvw4j"
      },
      "outputs": [
        {
          "data": {
            "text/html": [
              "<div>\n",
              "<style scoped>\n",
              "    .dataframe tbody tr th:only-of-type {\n",
              "        vertical-align: middle;\n",
              "    }\n",
              "\n",
              "    .dataframe tbody tr th {\n",
              "        vertical-align: top;\n",
              "    }\n",
              "\n",
              "    .dataframe thead th {\n",
              "        text-align: right;\n",
              "    }\n",
              "</style>\n",
              "<table border=\"1\" class=\"dataframe\">\n",
              "  <thead>\n",
              "    <tr style=\"text-align: right;\">\n",
              "      <th>age</th>\n",
              "      <th>0-9</th>\n",
              "      <th>10-19</th>\n",
              "      <th>20-29</th>\n",
              "      <th>30-39</th>\n",
              "      <th>40-49</th>\n",
              "      <th>50-59</th>\n",
              "      <th>60-69</th>\n",
              "      <th>70-79</th>\n",
              "      <th>80+</th>\n",
              "    </tr>\n",
              "    <tr>\n",
              "      <th>fatality</th>\n",
              "      <th></th>\n",
              "      <th></th>\n",
              "      <th></th>\n",
              "      <th></th>\n",
              "      <th></th>\n",
              "      <th></th>\n",
              "      <th></th>\n",
              "      <th></th>\n",
              "      <th></th>\n",
              "    </tr>\n",
              "  </thead>\n",
              "  <tbody>\n",
              "    <tr>\n",
              "      <th>0</th>\n",
              "      <td>0.019813</td>\n",
              "      <td>0.033295</td>\n",
              "      <td>0.130175</td>\n",
              "      <td>0.149861</td>\n",
              "      <td>0.167743</td>\n",
              "      <td>0.164926</td>\n",
              "      <td>0.106406</td>\n",
              "      <td>0.071781</td>\n",
              "      <td>0.112672</td>\n",
              "    </tr>\n",
              "    <tr>\n",
              "      <th>1</th>\n",
              "      <td>0.000000</td>\n",
              "      <td>0.000000</td>\n",
              "      <td>0.000032</td>\n",
              "      <td>0.000032</td>\n",
              "      <td>0.000475</td>\n",
              "      <td>0.001329</td>\n",
              "      <td>0.003861</td>\n",
              "      <td>0.008514</td>\n",
              "      <td>0.029086</td>\n",
              "    </tr>\n",
              "  </tbody>\n",
              "</table>\n",
              "</div>"
            ],
            "text/plain": [
              "age            0-9     10-19     20-29     30-39     40-49     50-59   \n",
              "fatality                                                               \n",
              "0         0.019813  0.033295  0.130175  0.149861  0.167743  0.164926  \\\n",
              "1         0.000000  0.000000  0.000032  0.000032  0.000475  0.001329   \n",
              "\n",
              "age          60-69     70-79       80+  \n",
              "fatality                                \n",
              "0         0.106406  0.071781  0.112672  \n",
              "1         0.003861  0.008514  0.029086  "
            ]
          },
          "execution_count": 26,
          "metadata": {},
          "output_type": "execute_result"
        }
      ],
      "source": [
        "# YOUR CODE HERE\n",
        "joint_PO_fatality_age = pd.crosstab(df_PT[\"fatality\"], df_PT[\"age\"], normalize=True)\n",
        "joint_PO_fatality_age"
      ]
    },
    {
      "cell_type": "code",
      "execution_count": 27,
      "metadata": {},
      "outputs": [
        {
          "data": {
            "text/plain": [
              "<Axes: xlabel='age'>"
            ]
          },
          "execution_count": 27,
          "metadata": {},
          "output_type": "execute_result"
        },
        {
          "data": {
            "image/png": "[encoded data removed]",
            "text/plain": [
              "<Figure size 640x480 with 1 Axes>"
            ]
          },
          "metadata": {},
          "output_type": "display_data"
        }
      ],
      "source": [
        "joint_PO_fatality_age.T.plot.bar()"
      ]
    },
    {
      "cell_type": "markdown",
      "metadata": {
        "id": "8CyxYFWJumNh"
      },
      "source": [
        "3\\. Write a clearly worded sentence comparing the overall fatality rates for the two countries."
      ]
    },
    {
      "cell_type": "markdown",
      "metadata": {
        "id": "pv5HW_ZTu5Wl"
      },
      "source": [
        "**YOUR RESPONSE HERE.**\n",
        "\n",
        "For columbia it seems that ages 20-29 and 30-39 were the major age groups that had the most fatalities. For Portugal it seems that 40-49 and 50-59 were the major age groups that had the most fatalities. The older age groups survived more in Portugal than in Columbia."
      ]
    },
    {
      "cell_type": "markdown",
      "metadata": {
        "id": "HWIj8AMb3TaF"
      },
      "source": [
        "4\\. Calculate the fatality rates for each age group in Portugal, and plot them. Save the results in a `Series` called `fatality_rates_PT`. For this, we are only interested in the proportion of fatalities (1s, and not 0s)."
      ]
    },
    {
      "cell_type": "code",
      "execution_count": 28,
      "metadata": {
        "id": "bdhtOmmhtgWG"
      },
      "outputs": [
        {
          "data": {
            "text/plain": [
              "<Axes: xlabel='age'>"
            ]
          },
          "execution_count": 28,
          "metadata": {},
          "output_type": "execute_result"
        },
        {
          "data": {
            "image/png": "[encoded data removed]",
            "text/plain": [
              "<Figure size 640x480 with 1 Axes>"
            ]
          },
          "metadata": {},
          "output_type": "display_data"
        }
      ],
      "source": [
        "# YOUR CODE HERE\n",
        "marginal_age = joint_PO_fatality_age.sum(axis=0)\n",
        "cond_fatality_age_PO = joint_PO_fatality_age.divide(marginal_age, axis=1)\n",
        "cond_fatality_age_PO.T.plot.bar()\n"
      ]
    },
    {
      "cell_type": "markdown",
      "metadata": {
        "id": "MPf0UAtPwguC"
      },
      "source": [
        "5\\. Calculate the fatality rates for each age group in Colombia, and plot them. Save the results in a `Series` called `fatality_rates_CO`. For this, we are only interested in the proportion of fatalities (1s, and not 0s)."
      ]
    },
    {
      "cell_type": "code",
      "execution_count": 29,
      "metadata": {
        "id": "1_IPDs9Fwg8V"
      },
      "outputs": [
        {
          "data": {
            "text/plain": [
              "<Axes: xlabel='age'>"
            ]
          },
          "execution_count": 29,
          "metadata": {},
          "output_type": "execute_result"
        },
        {
          "data": {
            "image/png": "[encoded data removed]",
            "text/plain": [
              "<Figure size 640x480 with 1 Axes>"
            ]
          },
          "metadata": {},
          "output_type": "display_data"
        }
      ],
      "source": [
        "# YOUR CODE HERE\n",
        "marginal_age = joint_CO_fatality_age.sum(axis=0)\n",
        "cond_fatality_age_CO = joint_CO_fatality_age.divide(marginal_age, axis=1)\n",
        "cond_fatality_age_CO.T.plot.bar()\n"
      ]
    },
    {
      "cell_type": "markdown",
      "metadata": {
        "id": "xjAXDbUQ3nON"
      },
      "source": [
        "6\\. Make a single bar plot comparing the fatality rates for each age group in Colombia and Portugal.\n",
        "\n",
        "*Hint:* You will want to get the Colombia and Portugal results into a single `DataFrame` for plotting. You can stack multiple Pandas objects into one `DataFrame` using the `pd.concat([...], axis=...)`. You can access the documentation for a function by typing `?pd.concat` in a cell and running it, or by searching on Google."
      ]
    },
    {
      "cell_type": "code",
      "execution_count": 30,
      "metadata": {
        "id": "cxCX8ZqaxODV"
      },
      "outputs": [
        {
          "data": {
            "text/plain": [
              "<Axes: xlabel='age'>"
            ]
          },
          "execution_count": 30,
          "metadata": {},
          "output_type": "execute_result"
        },
        {
          "data": {
            "image/png": "[encoded data removed]",
            "text/plain": [
              "<Figure size 640x480 with 1 Axes>"
            ]
          },
          "metadata": {},
          "output_type": "display_data"
        }
      ],
      "source": [
        "# YOUR CODE HERE\n",
        "final = pd.concat([cond_fatality_age_PO, cond_fatality_age_CO], axis=1)\n",
        "final.T.plot.bar(stacked=True)"
      ]
    },
    {
      "cell_type": "markdown",
      "metadata": {
        "id": "gGLmkMEMxOUx"
      },
      "source": [
        " 7\\. Do you notice anything strange? (Hint: Compare your answers to parts 3 and 6.) Can you explain what is going on? (We'll investigate further next time.)"
      ]
    },
    {
      "cell_type": "markdown",
      "metadata": {
        "id": "UwubhGEX6mHA"
      },
      "source": [
        "**YOUR RESPONSE HERE.**"
      ]
    }
  ],
  "metadata": {
    "colab": {
      "provenance": []
    },
    "kernelspec": {
      "display_name": "Python 3",
      "language": "python",
      "name": "python3"
    },
    "language_info": {
      "codemirror_mode": {
        "name": "ipython",
        "version": 3
      },
      "file_extension": ".py",
      "mimetype": "text/x-python",
      "name": "python",
      "nbconvert_exporter": "python",
      "pygments_lexer": "ipython3",
      "version": "3.9.6"
    }
  },
  "nbformat": 4,
  "nbformat_minor": 0
}
