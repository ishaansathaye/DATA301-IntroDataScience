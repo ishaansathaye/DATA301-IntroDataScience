{
  "nbformat": 4,
  "nbformat_minor": 0,
  "metadata": {
    "kernelspec": {
      "display_name": "Python 3",
      "language": "python",
      "name": "python3"
    },
    "language_info": {
      "codemirror_mode": {
        "name": "ipython",
        "version": 3
      },
      "file_extension": ".py",
      "mimetype": "text/x-python",
      "name": "python",
      "nbconvert_exporter": "python",
      "pygments_lexer": "ipython3",
      "version": "3.6.8"
    },
    "colab": {
      "provenance": []
    }
  },
  "cells": [
    {
      "cell_type": "markdown",
      "metadata": {
        "id": "joCIoBDTJtax"
      },
      "source": [
        "# Day 02: Categorical Variables\n",
        "\n",
        "Note: for many of these questions, once you produce crosstabs or value_counts, you could compute proportions by hand. However, try to compute them using Pandas to get more practice. (Though you are welcome to compute things like percentage change by hand.)\n"
      ]
    },
    {
      "cell_type": "markdown",
      "source": [
        "## OKCupid data\n",
        "\n",
        "Recall the OKCupid data set \"https://raw.githubusercontent.com/kevindavisross/data301/main/data/okcupid.csv\" which contains a sample of user profiles in the San Francisco Bay Area from the online dating website\n",
        "OKCupid. Each observation is an OKCupid user."
      ],
      "metadata": {
        "id": "4eHQJncNUPjV"
      }
    },
    {
      "cell_type": "markdown",
      "source": [
        "1\\. Make a table and plot summarizing the drinks variable. (What do you think is the most reasonable ordering of categories?)"
      ],
      "metadata": {
        "id": "xiHglI7xNnkz"
      }
    },
    {
      "cell_type": "code",
      "source": [
        "# YOUR CODE HERE"
      ],
      "metadata": {
        "id": "EGE5K0dbV9Rw"
      },
      "execution_count": null,
      "outputs": []
    },
    {
      "cell_type": "markdown",
      "source": [
        "2\\. Create a new variable that indicates whether the user has, likes, or dislikes cats. Then make a table and plot summarizing its distribution."
      ],
      "metadata": {
        "id": "hdgBT4ywNnnq"
      }
    },
    {
      "cell_type": "code",
      "source": [
        "# YOUR CODE HERE"
      ],
      "metadata": {
        "id": "8Op_Pl2MV-_B"
      },
      "execution_count": null,
      "outputs": []
    },
    {
      "cell_type": "markdown",
      "source": [
        "3\\. Create a table and plot that summarizes the relationship between two categorical variables in this data set. You can pick the variables, and you are welcome to define new ones (like the cats variable)."
      ],
      "metadata": {
        "id": "tBzXD_-mNnqj"
      }
    },
    {
      "cell_type": "code",
      "source": [
        "# YOUR CODE HERE"
      ],
      "metadata": {
        "id": "M3atMHfgWBH7"
      },
      "execution_count": null,
      "outputs": []
    },
    {
      "cell_type": "markdown",
      "source": [
        "4\\. Write a clearly worded sentence or two summarizing the results of your analysis from the previous part in context."
      ],
      "metadata": {
        "id": "laNbeHoBNntM"
      }
    },
    {
      "cell_type": "markdown",
      "source": [
        "**YOUR RESPONSE HERE.**"
      ],
      "metadata": {
        "id": "cNWJ9YfaWB7M"
      }
    },
    {
      "cell_type": "markdown",
      "source": [
        "## Titanic data\n",
        "\n",
        "Recall that we defined the **type** variable with levels passenger or crew."
      ],
      "metadata": {
        "id": "bcHF9cORvjVw"
      }
    },
    {
      "cell_type": "code",
      "source": [
        "df_titanic = pd.read_csv(\"https://raw.githubusercontent.com/kevindavisross/data301/main/data/titanic.csv\")\n",
        "\n",
        "def class_to_type(c):\n",
        "  if c in [\"1st\", \"2nd\", \"3rd\"]:\n",
        "    return \"passenger\"\n",
        "  else:\n",
        "    return \"crew\"\n",
        "\n",
        "df_titanic[\"type\"] = df_titanic[\"class\"].map(class_to_type)\n",
        "\n",
        "df_titanic"
      ],
      "metadata": {
        "id": "dDmYGgcdy25-"
      },
      "execution_count": null,
      "outputs": []
    },
    {
      "cell_type": "markdown",
      "source": [
        "1\\. What proportion of those onboard were male crewmembers? Use Python to compute."
      ],
      "metadata": {
        "id": "hXITiL2NTxRp"
      }
    },
    {
      "cell_type": "code",
      "source": [
        "# YOUR CODE HERE"
      ],
      "metadata": {
        "id": "w4nkkMSiTv7g"
      },
      "execution_count": null,
      "outputs": []
    },
    {
      "cell_type": "markdown",
      "source": [
        "2\\. What proportion of males were crewmembers? Use Python to compute."
      ],
      "metadata": {
        "id": "gIVzdv1Cql63"
      }
    },
    {
      "cell_type": "code",
      "source": [
        "# YOUR CODE HERE"
      ],
      "metadata": {
        "id": "kbaIcDBpqsqf"
      },
      "execution_count": null,
      "outputs": []
    },
    {
      "cell_type": "markdown",
      "source": [
        "3\\. What proportion of crewmembers were male? Use Python to compute."
      ],
      "metadata": {
        "id": "sX9ytljBqs2m"
      }
    },
    {
      "cell_type": "code",
      "source": [
        "# YOUR CODE HERE"
      ],
      "metadata": {
        "id": "_n00lkxdrHwe"
      },
      "execution_count": null,
      "outputs": []
    },
    {
      "cell_type": "markdown",
      "source": [
        "4\\.  Make a table and plot summarizing the relationship between type and survived that will allow you to answer the question: Which type was more likely to survive?"
      ],
      "metadata": {
        "id": "EzlOsN3IPMLS"
      }
    },
    {
      "cell_type": "code",
      "source": [
        "# YOUR CODE HERE"
      ],
      "metadata": {
        "id": "9pCkupxMrzgc"
      },
      "execution_count": null,
      "outputs": []
    },
    {
      "cell_type": "markdown",
      "source": [
        "5\\. Which type was more likely to survive? How much more likely? Write a clearly worded sentence in response to this question."
      ],
      "metadata": {
        "id": "s1bJMWgPRx26"
      }
    },
    {
      "cell_type": "markdown",
      "source": [
        "**YOUR RESPONSE HERE.**"
      ],
      "metadata": {
        "id": "jvqJqUXxqGaV"
      }
    },
    {
      "cell_type": "markdown",
      "source": [
        "6\\. Now consider females only. Make a table and side-by-side bar chart comparing the proportions who survive or not between passenger and crew (among females only)."
      ],
      "metadata": {
        "id": "sNLNUMRuQy8L"
      }
    },
    {
      "cell_type": "code",
      "source": [
        "# YOUR CODE HERE"
      ],
      "metadata": {
        "id": "VYtFf6pTr0sv"
      },
      "execution_count": null,
      "outputs": []
    },
    {
      "cell_type": "markdown",
      "source": [
        "7\\. Among females, which type was more likely to survive? How much more likely? Write a clearly worded sentence in response to this question."
      ],
      "metadata": {
        "id": "NyJ1L731RSes"
      }
    },
    {
      "cell_type": "markdown",
      "source": [
        "**YOUR RESPONSE HERE.**"
      ],
      "metadata": {
        "id": "utMf67_Wr7Uw"
      }
    },
    {
      "cell_type": "markdown",
      "source": [
        "8\\. Now consider males only. Make a table and stacked bar chart comparing the proportions who survive or not between passenger and crew (among males only). (The only reason we're doing stacked here and side-by-side above is to give you practice with each.)"
      ],
      "metadata": {
        "id": "XYdTVzGfRShM"
      }
    },
    {
      "cell_type": "code",
      "source": [
        "# YOUR CODE HERE"
      ],
      "metadata": {
        "id": "MU5hmZAXsGVF"
      },
      "execution_count": null,
      "outputs": []
    },
    {
      "cell_type": "markdown",
      "source": [
        "9\\. Among males, which type was more likely to survive? How much more likely? Write a clearly worded sentence in response to this question."
      ],
      "metadata": {
        "id": "Okwnn2QQRSjb"
      }
    },
    {
      "cell_type": "markdown",
      "source": [
        "**YOUR RESPONSE HERE.**"
      ],
      "metadata": {
        "id": "jqb33YhSR94w"
      }
    },
    {
      "cell_type": "markdown",
      "source": [
        "10\\. Review your responses to part 4-9. Notice anything strange? Why do you think this happens? (We'll investigate further in the next class.)"
      ],
      "metadata": {
        "id": "O__TV5WzrRh2"
      }
    },
    {
      "cell_type": "markdown",
      "source": [
        "**YOUR RESPONSE HERE.**"
      ],
      "metadata": {
        "id": "B6-P9N5bsAyL"
      }
    },
    {
      "cell_type": "markdown",
      "metadata": {
        "id": "hGe9-Pj0uZwg"
      },
      "source": [
        "## Comparing COVID Fatalities\n",
        "\n",
        "Now we will compare COVID fatalities in Portugal (https://raw.githubusercontent.com/kevindavisross/data301/main/data/portugal_2020-05-28.csv) and Colombia (https://raw.githubusercontent.com/kevindavisross/data301/main/data/colombia_2020-05-28.csv) using data from both countries on May 28, 2020. Recall that we cleaned the Colombia data to match the formatting of the Portugal data."
      ]
    },
    {
      "cell_type": "code",
      "source": [
        "df_PT = pd.read_csv(\"https://raw.githubusercontent.com/kevindavisross/data301/main/data/portugal_2020-05-28.csv\")\n",
        "df_PT"
      ],
      "metadata": {
        "id": "5ndI559Ity3D"
      },
      "execution_count": null,
      "outputs": []
    },
    {
      "cell_type": "code",
      "source": [
        "df_CO = pd.read_csv(\"https://raw.githubusercontent.com/kevindavisross/data301/main/data/colombia_2020-05-28.csv\")\n",
        "\n",
        "df_CO[\"fatality\"] = df_CO[\"Estado\"].map({\n",
        "    \"Fallecido\": 1\n",
        "}).fillna(0)\n",
        "\n",
        "df_CO[\"age\"] = pd.cut(\n",
        "    df_CO[\"Edad\"],\n",
        "    bins=[0, 10, 20, 30, 40, 50, 60, 70, 80, 120],\n",
        "    labels=[\"0-9\", \"10-19\", \"20-29\", \"30-39\", \"40-49\", \"50-59\", \"60-69\", \"70-79\", \"80+\"],\n",
        "    right=False)\n",
        "\n",
        "# Look for new columns called \"fatality\" and \"age\" in the DataFrame.\n",
        "df_CO"
      ],
      "metadata": {
        "id": "eiiw8VIhtz6b"
      },
      "execution_count": null,
      "outputs": []
    },
    {
      "cell_type": "markdown",
      "metadata": {
        "id": "ya7-RKc70T_U"
      },
      "source": [
        "1\\. Make a table and plot of the distribution of the fatality variable for Portugal."
      ]
    },
    {
      "cell_type": "code",
      "metadata": {
        "id": "4EP1FSz7yhSh"
      },
      "source": [
        "# YOUR CODE HERE"
      ],
      "execution_count": null,
      "outputs": []
    },
    {
      "cell_type": "markdown",
      "source": [
        "2\\. Make a table and plot of the distribution of the fatality variable for Colombia."
      ],
      "metadata": {
        "id": "-BccjgzPuiEk"
      }
    },
    {
      "cell_type": "code",
      "source": [
        "# YOUR CODE HERE"
      ],
      "metadata": {
        "id": "MV6JwUWGvw4j"
      },
      "execution_count": null,
      "outputs": []
    },
    {
      "cell_type": "markdown",
      "source": [
        "3\\. Write a clearly worded sentence comparing the overall fatality rates for the two countries."
      ],
      "metadata": {
        "id": "8CyxYFWJumNh"
      }
    },
    {
      "cell_type": "markdown",
      "source": [
        "**YOUR RESPONSE HERE.**"
      ],
      "metadata": {
        "id": "pv5HW_ZTu5Wl"
      }
    },
    {
      "cell_type": "markdown",
      "source": [
        "4\\. Calculate the fatality rates for each age group in Portugal, and plot them. Save the results in a `Series` called `fatality_rates_PT`. For this, we are only interested in the proportion of fatalities (1s, and not 0s)."
      ],
      "metadata": {
        "id": "HWIj8AMb3TaF"
      }
    },
    {
      "cell_type": "code",
      "source": [
        "# YOUR CODE HERE"
      ],
      "metadata": {
        "id": "bdhtOmmhtgWG"
      },
      "execution_count": null,
      "outputs": []
    },
    {
      "cell_type": "markdown",
      "source": [
        "5\\. Calculate the fatality rates for each age group in Colombia, and plot them. Save the results in a `Series` called `fatality_rates_CO`. For this, we are only interested in the proportion of fatalities (1s, and not 0s)."
      ],
      "metadata": {
        "id": "MPf0UAtPwguC"
      }
    },
    {
      "cell_type": "code",
      "source": [
        "# YOUR CODE HERE"
      ],
      "metadata": {
        "id": "1_IPDs9Fwg8V"
      },
      "execution_count": null,
      "outputs": []
    },
    {
      "cell_type": "markdown",
      "source": [
        "6\\. Make a single bar plot comparing the fatality rates for each age group in Colombia and Portugal.\n",
        "\n",
        "*Hint:* You will want to get the Colombia and Portugal results into a single `DataFrame` for plotting. You can stack multiple Pandas objects into one `DataFrame` using the `pd.concat([...], axis=...)`. You can access the documentation for a function by typing `?pd.concat` in a cell and running it, or by searching on Google."
      ],
      "metadata": {
        "id": "xjAXDbUQ3nON"
      }
    },
    {
      "cell_type": "code",
      "source": [
        "# YOUR CODE HERE"
      ],
      "metadata": {
        "id": "cxCX8ZqaxODV"
      },
      "execution_count": null,
      "outputs": []
    },
    {
      "cell_type": "markdown",
      "source": [
        " 7\\. Do you notice anything strange? (Hint: Compare your answers to parts 3 and 6.) Can you explain what is going on? (We'll investigate further next time.)"
      ],
      "metadata": {
        "id": "gGLmkMEMxOUx"
      }
    },
    {
      "cell_type": "markdown",
      "source": [
        "**YOUR RESPONSE HERE.**"
      ],
      "metadata": {
        "id": "UwubhGEX6mHA"
      }
    }
  ]
}