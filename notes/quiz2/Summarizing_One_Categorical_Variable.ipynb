{
  "cells": [
    {
      "cell_type": "markdown",
      "metadata": {
        "id": "0bNZijfPJtYw"
      },
      "source": [
        "Recall that a **categorical variable** is a variable that can take on one of a limited set of values (which are called *levels* or *classes*). Now we will discuss ways to summarize categorical variables. We will use the Titanic data set as a working example. This data set contains information about all of the people who were aboard the RMS Titanic when it sank in 1912, including both passengers and crew. Let's start by reading in this data set."
      ]
    },
    {
      "cell_type": "code",
      "execution_count": 17,
      "metadata": {
        "id": "V43Nz7_mwQq5"
      },
      "outputs": [],
      "source": [
        "import pandas as pd"
      ]
    },
    {
      "cell_type": "code",
      "execution_count": 18,
      "metadata": {
        "colab": {
          "base_uri": "https://localhost:8080/",
          "height": 423
        },
        "id": "_YFx6GgqJtYz",
        "outputId": "964c3886-30d3-4057-a4ac-98429aed37cb"
      },
      "outputs": [
        {
          "data": {
            "text/html": [
              "<div>\n",
              "<style scoped>\n",
              "    .dataframe tbody tr th:only-of-type {\n",
              "        vertical-align: middle;\n",
              "    }\n",
              "\n",
              "    .dataframe tbody tr th {\n",
              "        vertical-align: top;\n",
              "    }\n",
              "\n",
              "    .dataframe thead th {\n",
              "        text-align: right;\n",
              "    }\n",
              "</style>\n",
              "<table border=\"1\" class=\"dataframe\">\n",
              "  <thead>\n",
              "    <tr style=\"text-align: right;\">\n",
              "      <th></th>\n",
              "      <th>name</th>\n",
              "      <th>gender</th>\n",
              "      <th>age</th>\n",
              "      <th>class</th>\n",
              "      <th>embarked</th>\n",
              "      <th>country</th>\n",
              "      <th>ticketno</th>\n",
              "      <th>fare</th>\n",
              "      <th>survived</th>\n",
              "      <th>pclass</th>\n",
              "      <th>crew</th>\n",
              "    </tr>\n",
              "  </thead>\n",
              "  <tbody>\n",
              "    <tr>\n",
              "      <th>0</th>\n",
              "      <td>Abbing, Mr. Anthony</td>\n",
              "      <td>male</td>\n",
              "      <td>42.0</td>\n",
              "      <td>3rd</td>\n",
              "      <td>S</td>\n",
              "      <td>United States</td>\n",
              "      <td>5547.0</td>\n",
              "      <td>7.11</td>\n",
              "      <td>0</td>\n",
              "      <td>3.0</td>\n",
              "      <td>NaN</td>\n",
              "    </tr>\n",
              "    <tr>\n",
              "      <th>1</th>\n",
              "      <td>Abbott, Mr. Eugene Joseph</td>\n",
              "      <td>male</td>\n",
              "      <td>13.0</td>\n",
              "      <td>3rd</td>\n",
              "      <td>S</td>\n",
              "      <td>United States</td>\n",
              "      <td>2673.0</td>\n",
              "      <td>20.05</td>\n",
              "      <td>0</td>\n",
              "      <td>3.0</td>\n",
              "      <td>NaN</td>\n",
              "    </tr>\n",
              "    <tr>\n",
              "      <th>2</th>\n",
              "      <td>Abbott, Mr. Rossmore Edward</td>\n",
              "      <td>male</td>\n",
              "      <td>16.0</td>\n",
              "      <td>3rd</td>\n",
              "      <td>S</td>\n",
              "      <td>United States</td>\n",
              "      <td>2673.0</td>\n",
              "      <td>20.05</td>\n",
              "      <td>0</td>\n",
              "      <td>3.0</td>\n",
              "      <td>NaN</td>\n",
              "    </tr>\n",
              "    <tr>\n",
              "      <th>3</th>\n",
              "      <td>Abbott, Mrs. Rhoda Mary 'Rosa'</td>\n",
              "      <td>female</td>\n",
              "      <td>39.0</td>\n",
              "      <td>3rd</td>\n",
              "      <td>S</td>\n",
              "      <td>England</td>\n",
              "      <td>2673.0</td>\n",
              "      <td>20.05</td>\n",
              "      <td>1</td>\n",
              "      <td>3.0</td>\n",
              "      <td>NaN</td>\n",
              "    </tr>\n",
              "    <tr>\n",
              "      <th>4</th>\n",
              "      <td>Abelseth, Miss. Karen Marie</td>\n",
              "      <td>female</td>\n",
              "      <td>16.0</td>\n",
              "      <td>3rd</td>\n",
              "      <td>S</td>\n",
              "      <td>Norway</td>\n",
              "      <td>348125.0</td>\n",
              "      <td>7.13</td>\n",
              "      <td>1</td>\n",
              "      <td>3.0</td>\n",
              "      <td>NaN</td>\n",
              "    </tr>\n",
              "    <tr>\n",
              "      <th>...</th>\n",
              "      <td>...</td>\n",
              "      <td>...</td>\n",
              "      <td>...</td>\n",
              "      <td>...</td>\n",
              "      <td>...</td>\n",
              "      <td>...</td>\n",
              "      <td>...</td>\n",
              "      <td>...</td>\n",
              "      <td>...</td>\n",
              "      <td>...</td>\n",
              "      <td>...</td>\n",
              "    </tr>\n",
              "    <tr>\n",
              "      <th>2202</th>\n",
              "      <td>Wynn, Mr. Walter</td>\n",
              "      <td>male</td>\n",
              "      <td>41.0</td>\n",
              "      <td>deck crew</td>\n",
              "      <td>B</td>\n",
              "      <td>England</td>\n",
              "      <td>NaN</td>\n",
              "      <td>NaN</td>\n",
              "      <td>1</td>\n",
              "      <td>NaN</td>\n",
              "      <td>deck crew</td>\n",
              "    </tr>\n",
              "    <tr>\n",
              "      <th>2203</th>\n",
              "      <td>Yearsley, Mr. Harry</td>\n",
              "      <td>male</td>\n",
              "      <td>40.0</td>\n",
              "      <td>victualling crew</td>\n",
              "      <td>S</td>\n",
              "      <td>England</td>\n",
              "      <td>NaN</td>\n",
              "      <td>NaN</td>\n",
              "      <td>1</td>\n",
              "      <td>NaN</td>\n",
              "      <td>victualling crew</td>\n",
              "    </tr>\n",
              "    <tr>\n",
              "      <th>2204</th>\n",
              "      <td>Young, Mr. Francis James</td>\n",
              "      <td>male</td>\n",
              "      <td>32.0</td>\n",
              "      <td>engineering crew</td>\n",
              "      <td>S</td>\n",
              "      <td>England</td>\n",
              "      <td>NaN</td>\n",
              "      <td>NaN</td>\n",
              "      <td>0</td>\n",
              "      <td>NaN</td>\n",
              "      <td>engineering crew</td>\n",
              "    </tr>\n",
              "    <tr>\n",
              "      <th>2205</th>\n",
              "      <td>Zanetti, Sig. Minio</td>\n",
              "      <td>male</td>\n",
              "      <td>20.0</td>\n",
              "      <td>restaurant staff</td>\n",
              "      <td>S</td>\n",
              "      <td>England</td>\n",
              "      <td>NaN</td>\n",
              "      <td>NaN</td>\n",
              "      <td>0</td>\n",
              "      <td>NaN</td>\n",
              "      <td>restaurant staff</td>\n",
              "    </tr>\n",
              "    <tr>\n",
              "      <th>2206</th>\n",
              "      <td>Zarracchi, Sig. L.</td>\n",
              "      <td>male</td>\n",
              "      <td>26.0</td>\n",
              "      <td>restaurant staff</td>\n",
              "      <td>S</td>\n",
              "      <td>England</td>\n",
              "      <td>NaN</td>\n",
              "      <td>NaN</td>\n",
              "      <td>0</td>\n",
              "      <td>NaN</td>\n",
              "      <td>restaurant staff</td>\n",
              "    </tr>\n",
              "  </tbody>\n",
              "</table>\n",
              "<p>2207 rows × 11 columns</p>\n",
              "</div>"
            ],
            "text/plain": [
              "                                name  gender   age             class embarked   \n",
              "0                Abbing, Mr. Anthony    male  42.0               3rd        S  \\\n",
              "1          Abbott, Mr. Eugene Joseph    male  13.0               3rd        S   \n",
              "2        Abbott, Mr. Rossmore Edward    male  16.0               3rd        S   \n",
              "3     Abbott, Mrs. Rhoda Mary 'Rosa'  female  39.0               3rd        S   \n",
              "4        Abelseth, Miss. Karen Marie  female  16.0               3rd        S   \n",
              "...                              ...     ...   ...               ...      ...   \n",
              "2202                Wynn, Mr. Walter    male  41.0         deck crew        B   \n",
              "2203             Yearsley, Mr. Harry    male  40.0  victualling crew        S   \n",
              "2204        Young, Mr. Francis James    male  32.0  engineering crew        S   \n",
              "2205             Zanetti, Sig. Minio    male  20.0  restaurant staff        S   \n",
              "2206              Zarracchi, Sig. L.    male  26.0  restaurant staff        S   \n",
              "\n",
              "            country  ticketno   fare  survived  pclass              crew  \n",
              "0     United States    5547.0   7.11         0     3.0               NaN  \n",
              "1     United States    2673.0  20.05         0     3.0               NaN  \n",
              "2     United States    2673.0  20.05         0     3.0               NaN  \n",
              "3           England    2673.0  20.05         1     3.0               NaN  \n",
              "4            Norway  348125.0   7.13         1     3.0               NaN  \n",
              "...             ...       ...    ...       ...     ...               ...  \n",
              "2202        England       NaN    NaN         1     NaN         deck crew  \n",
              "2203        England       NaN    NaN         1     NaN  victualling crew  \n",
              "2204        England       NaN    NaN         0     NaN  engineering crew  \n",
              "2205        England       NaN    NaN         0     NaN  restaurant staff  \n",
              "2206        England       NaN    NaN         0     NaN  restaurant staff  \n",
              "\n",
              "[2207 rows x 11 columns]"
            ]
          },
          "execution_count": 18,
          "metadata": {},
          "output_type": "execute_result"
        }
      ],
      "source": [
        "df_titanic = pd.read_csv(\"https://raw.githubusercontent.com/kevindavisross/data301/main/data/titanic.csv\")\n",
        "df_titanic"
      ]
    },
    {
      "cell_type": "markdown",
      "metadata": {
        "id": "c6RRWPfWJtY5"
      },
      "source": [
        "Some of the categorical variables in this data set are:\n",
        "- `gender` (which at the time of data collection was coded as either male or female)\n",
        "- `class`: what class they were in (1st, 2nd, or 3rd) or what type of crew member they were\n",
        "- `embarked`: where they embarked (Belfast, Southampton, Cherbourg, or Queenstown)\n",
        "- `country`: their country of origin\n",
        "- `ticketno`: the ticket number\n",
        "- `survived`: whether or not they survived the disaster\n",
        "\n",
        "Note that `age` and `fare` are quantitative variables. It is tempting to consider `name` a categorical variable, but it is not, since (almost) every person has a unique name. In order for a variable to be categorical, it must take on a reasonably limited set of values, ideally with each level appearing multiple times in the data set. Otherwise, the analyses that we describe in this notebook will not be very meaningful."
      ]
    },
    {
      "cell_type": "markdown",
      "metadata": {
        "id": "66hgjhNTlQUf"
      },
      "source": [
        "Remember that we previously created a few additional categorical variables, like \"type\" (passenger or crew)."
      ]
    },
    {
      "cell_type": "code",
      "execution_count": 19,
      "metadata": {
        "id": "1CpnFNLglQ2d"
      },
      "outputs": [],
      "source": [
        "df_titanic[\"type\"] = df_titanic[\"class\"].map({\n",
        "    \"1st\": \"passenger\",\n",
        "    \"2nd\": \"passenger\",\n",
        "    \"3rd\": \"passenger\"\n",
        "})\n",
        "\n",
        "# Replace all missing values by \"crew\"\n",
        "df_titanic[\"type\"].fillna(\"crew\", inplace=True)"
      ]
    },
    {
      "cell_type": "markdown",
      "metadata": {
        "id": "XRBPQWpZJtZm"
      },
      "source": [
        "# Analyzing One Categorical Variable\n",
        "\n",
        "In this notebook, we focus on a single categorical variable at a time. For a high-level summary of a categorical variable, we can use the `.describe()` command."
      ]
    },
    {
      "cell_type": "code",
      "execution_count": 20,
      "metadata": {
        "colab": {
          "base_uri": "https://localhost:8080/"
        },
        "id": "nru7HFtNJtZn",
        "outputId": "345d2d58-62e0-4b6b-a663-4493d475ede9"
      },
      "outputs": [
        {
          "data": {
            "text/plain": [
              "count     2207\n",
              "unique       7\n",
              "top        3rd\n",
              "freq       709\n",
              "Name: class, dtype: object"
            ]
          },
          "execution_count": 20,
          "metadata": {},
          "output_type": "execute_result"
        }
      ],
      "source": [
        "df_titanic[\"class\"].describe()"
      ]
    },
    {
      "cell_type": "markdown",
      "metadata": {
        "id": "Tb_-h3xFi7Gq"
      },
      "source": [
        "Note that the behavior of `.describe()` will change, depending on whether `pandas` thinks that the variable is quantitative or categorical, which is why it is important to cast categorical variables to the right type. See what happens when we use `describe` on `pclass` (which Pandas thinks is quantitative unless we cast it to the correct type.)"
      ]
    },
    {
      "cell_type": "code",
      "execution_count": 21,
      "metadata": {
        "colab": {
          "base_uri": "https://localhost:8080/"
        },
        "id": "LeLAYpNXjHV8",
        "outputId": "a6e1f738-e30e-44a7-b4d5-f6eaed00d51a"
      },
      "outputs": [
        {
          "data": {
            "text/plain": [
              "count    1317.000000\n",
              "mean        2.292331\n",
              "std         0.836321\n",
              "min         1.000000\n",
              "25%         2.000000\n",
              "50%         3.000000\n",
              "75%         3.000000\n",
              "max         3.000000\n",
              "Name: pclass, dtype: float64"
            ]
          },
          "execution_count": 21,
          "metadata": {},
          "output_type": "execute_result"
        }
      ],
      "source": [
        "df_titanic[\"pclass\"].describe()"
      ]
    },
    {
      "cell_type": "markdown",
      "metadata": {
        "id": "AUwJjfTQJtZt"
      },
      "source": [
        "To summarize a single categorical variable, we report each possible level and its **frequency**, that is, the number of observational units with that level of the variable. The command `value_counts` creates a `Series` containing the frequency of each level."
      ]
    },
    {
      "cell_type": "code",
      "execution_count": 22,
      "metadata": {
        "colab": {
          "base_uri": "https://localhost:8080/"
        },
        "id": "E4kcGK9TJtZt",
        "outputId": "7f1beaaa-7027-401b-d65a-8098eabc105d"
      },
      "outputs": [
        {
          "data": {
            "text/plain": [
              "class\n",
              "3rd                 709\n",
              "victualling crew    431\n",
              "1st                 324\n",
              "engineering crew    324\n",
              "2nd                 284\n",
              "restaurant staff     69\n",
              "deck crew            66\n",
              "Name: count, dtype: int64"
            ]
          },
          "execution_count": 22,
          "metadata": {},
          "output_type": "execute_result"
        }
      ],
      "source": [
        "class_counts = df_titanic[\"class\"].value_counts()\n",
        "class_counts"
      ]
    },
    {
      "cell_type": "markdown",
      "metadata": {
        "id": "Bmk5Y7zQJtZw"
      },
      "source": [
        "Does the table look strange? Notice that the levels are sorted in decreasing order of frequency by default. We can also report the levels in the order they appear in the data set..."
      ]
    },
    {
      "cell_type": "code",
      "execution_count": 23,
      "metadata": {
        "colab": {
          "base_uri": "https://localhost:8080/"
        },
        "id": "yEK0-PecJtZx",
        "outputId": "6c603ea0-9e49-45f8-e785-b3c9ffbe8ffa"
      },
      "outputs": [
        {
          "data": {
            "text/plain": [
              "class\n",
              "3rd                 709\n",
              "2nd                 284\n",
              "1st                 324\n",
              "engineering crew    324\n",
              "victualling crew    431\n",
              "restaurant staff     69\n",
              "deck crew            66\n",
              "Name: count, dtype: int64"
            ]
          },
          "execution_count": 23,
          "metadata": {},
          "output_type": "execute_result"
        }
      ],
      "source": [
        "df_titanic[\"class\"].value_counts(sort=False)"
      ]
    },
    {
      "cell_type": "markdown",
      "metadata": {
        "id": "7P-TqJvrJtZ0"
      },
      "source": [
        "...or in alphabetical order, by sorting the index:"
      ]
    },
    {
      "cell_type": "code",
      "execution_count": 24,
      "metadata": {
        "colab": {
          "base_uri": "https://localhost:8080/"
        },
        "id": "w1jjt1nuJtZ0",
        "outputId": "6add4a12-4c61-48f4-b4b1-2d23ec80e271"
      },
      "outputs": [
        {
          "data": {
            "text/plain": [
              "class\n",
              "1st                 324\n",
              "2nd                 284\n",
              "3rd                 709\n",
              "deck crew            66\n",
              "engineering crew    324\n",
              "restaurant staff     69\n",
              "victualling crew    431\n",
              "Name: count, dtype: int64"
            ]
          },
          "execution_count": 24,
          "metadata": {},
          "output_type": "execute_result"
        }
      ],
      "source": [
        "class_counts.sort_index()"
      ]
    },
    {
      "cell_type": "markdown",
      "metadata": {
        "id": "kCTkd_7OJtZ3"
      },
      "source": [
        "Note that this produces a _new_ `Series` with the index sorted. It does not sort the original `Series` `class_counts`. To sort the original series, we need to specify that the sorting should be done \"in place\", just like we did for `.set_index()` earlier."
      ]
    },
    {
      "cell_type": "code",
      "execution_count": 25,
      "metadata": {
        "colab": {
          "base_uri": "https://localhost:8080/"
        },
        "id": "6tMY5S4CJtZ3",
        "outputId": "d71825ac-ec03-4e09-887d-0207e73891a6"
      },
      "outputs": [
        {
          "data": {
            "text/plain": [
              "class\n",
              "1st                 324\n",
              "2nd                 284\n",
              "3rd                 709\n",
              "deck crew            66\n",
              "engineering crew    324\n",
              "restaurant staff     69\n",
              "victualling crew    431\n",
              "Name: count, dtype: int64"
            ]
          },
          "execution_count": 25,
          "metadata": {},
          "output_type": "execute_result"
        }
      ],
      "source": [
        "class_counts.sort_index(inplace=True)\n",
        "class_counts"
      ]
    },
    {
      "cell_type": "markdown",
      "metadata": {
        "id": "HBFyIJmYJtZ8"
      },
      "source": [
        "Any other order would require selecting the levels manually, in the desired order."
      ]
    },
    {
      "cell_type": "code",
      "execution_count": 26,
      "metadata": {
        "colab": {
          "base_uri": "https://localhost:8080/"
        },
        "id": "Q7vi4FgIJtZ9",
        "outputId": "f06bf75e-11e8-4a21-d49d-62e720b75380"
      },
      "outputs": [
        {
          "data": {
            "text/plain": [
              "class\n",
              "1st                 324\n",
              "2nd                 284\n",
              "3rd                 709\n",
              "deck crew            66\n",
              "engineering crew    324\n",
              "victualling crew    431\n",
              "restaurant staff     69\n",
              "Name: count, dtype: int64"
            ]
          },
          "execution_count": 26,
          "metadata": {},
          "output_type": "execute_result"
        }
      ],
      "source": [
        "class_counts.loc[\n",
        "    [\"1st\", \"2nd\", \"3rd\",\n",
        "     \"deck crew\", \"engineering crew\", \"victualling crew\",\n",
        "     \"restaurant staff\"]\n",
        "]"
      ]
    },
    {
      "cell_type": "markdown",
      "metadata": {
        "id": "IKNQM_UxJtZ_"
      },
      "source": [
        "This information can be visualized using a **bar chart**."
      ]
    },
    {
      "cell_type": "code",
      "execution_count": 27,
      "metadata": {
        "colab": {
          "base_uri": "https://localhost:8080/",
          "height": 553
        },
        "id": "1Pr1BpI9JtZ_",
        "outputId": "748453ff-3938-4365-fc87-8bad9b91dd6c"
      },
      "outputs": [
        {
          "data": {
            "text/plain": [
              "<Axes: xlabel='class'>"
            ]
          },
          "execution_count": 27,
          "metadata": {},
          "output_type": "execute_result"
        },
        {
          "data": {
            "image/png": "[encoded data removed]",
            "text/plain": [
              "<Figure size 640x480 with 1 Axes>"
            ]
          },
          "metadata": {},
          "output_type": "display_data"
        }
      ],
      "source": [
        "class_counts.plot.bar()"
      ]
    },
    {
      "cell_type": "markdown",
      "metadata": {
        "id": "D2ST50hRJtaB"
      },
      "source": [
        "In addition to reporting the frequency (count) for a level, we can also report the **relative frequency**, that is, the *proportion* of observational units with the level of the variable. We can calculate the relative frequencies by specifying `normalize=True` in `.value_counts()`. (\"Normalize\" here means \"rescale the values so that they sum to 1 while maintaining the ratios.\")"
      ]
    },
    {
      "cell_type": "code",
      "execution_count": 28,
      "metadata": {
        "colab": {
          "base_uri": "https://localhost:8080/"
        },
        "id": "D-3JccgEJtaC",
        "outputId": "7b1db590-deca-4126-cbf8-87285c5fcdc9"
      },
      "outputs": [
        {
          "data": {
            "text/plain": [
              "class\n",
              "1st                 0.146806\n",
              "2nd                 0.128681\n",
              "3rd                 0.321251\n",
              "deck crew           0.029905\n",
              "engineering crew    0.146806\n",
              "restaurant staff    0.031264\n",
              "victualling crew    0.195288\n",
              "Name: proportion, dtype: float64"
            ]
          },
          "execution_count": 28,
          "metadata": {},
          "output_type": "execute_result"
        }
      ],
      "source": [
        "class_probs = df_titanic[\"class\"].value_counts(normalize=True)\n",
        "class_probs.sort_index()"
      ]
    },
    {
      "cell_type": "markdown",
      "metadata": {
        "id": "g6EKTxBBJtaE"
      },
      "source": [
        "This is equivalent to taking the counts and dividing by their sum."
      ]
    },
    {
      "cell_type": "code",
      "execution_count": 29,
      "metadata": {
        "colab": {
          "base_uri": "https://localhost:8080/"
        },
        "id": "Z2X-cH0wJtaF",
        "outputId": "edc52caf-465a-4a79-fac8-36180b05e304"
      },
      "outputs": [
        {
          "data": {
            "text/plain": [
              "class\n",
              "1st                 0.146806\n",
              "2nd                 0.128681\n",
              "3rd                 0.321251\n",
              "deck crew           0.029905\n",
              "engineering crew    0.146806\n",
              "restaurant staff    0.031264\n",
              "victualling crew    0.195288\n",
              "Name: count, dtype: float64"
            ]
          },
          "execution_count": 29,
          "metadata": {},
          "output_type": "execute_result"
        }
      ],
      "source": [
        "class_counts / class_counts.sum()"
      ]
    },
    {
      "cell_type": "markdown",
      "metadata": {
        "id": "a5wGkd9AJtaH"
      },
      "source": [
        "Notice that the relative frequencies add up to 1.0, by construction. We can report these relative frequencies using probability notation. For example:\n",
        "\n",
        "$$ P(\\text{1st class}) = 0.146806. $$\n",
        "\n",
        "The complete collection of relative frequencies of all levels of a categorical variable is called the **distribution** of that variable. So the code above calculates the distribution of \"class\" for those on the Titanic."
      ]
    },
    {
      "cell_type": "markdown",
      "metadata": {
        "id": "swUzbXFGJtaH"
      },
      "source": [
        "The bar chart for relative frequencies looks qualitatively the same as the bar chart for frequencies (i.e., counts). The only difference is that the scale on the vertical axis is different."
      ]
    },
    {
      "cell_type": "code",
      "execution_count": 30,
      "metadata": {
        "colab": {
          "base_uri": "https://localhost:8080/",
          "height": 553
        },
        "id": "LNEzMug6JtaI",
        "outputId": "206ce91f-22bd-4d4b-e97c-9b4629340797"
      },
      "outputs": [
        {
          "data": {
            "text/plain": [
              "<Axes: xlabel='class'>"
            ]
          },
          "execution_count": 30,
          "metadata": {},
          "output_type": "execute_result"
        },
        {
          "data": {
            "image/png": "[encoded data removed]",
            "text/plain": [
              "<Figure size 640x480 with 1 Axes>"
            ]
          },
          "metadata": {},
          "output_type": "display_data"
        }
      ],
      "source": [
        "class_probs.sort_index().plot.bar()"
      ]
    },
    {
      "cell_type": "markdown",
      "metadata": {
        "id": "T-aiM7OfJtaM"
      },
      "source": [
        "It is often more useful to plot the relative frequencies (i.e., proportions) rather than the frequencies (i.e., counts), especially when comparing groups of different sizes."
      ]
    },
    {
      "cell_type": "markdown",
      "metadata": {
        "id": "yF-G7EIXJtaV"
      },
      "source": [
        "## Conditional Proportions\n",
        "\n",
        "What proportion of those coded as males were crew members? To answer questions like this, we have to **filter** the `DataFrame` to include only males. Filtering creates a subset of observations (rows) satisfying some criteria.\n",
        "\n",
        "The standard way to filter a `DataFrame` is to use a **boolean mask**. A boolean mask is simply a `Series` of booleans (i.e., True/False values) whose index matches the index of the `DataFrame`.\n",
        "\n",
        "The easiest way to create a boolean mask is to use one of the standard comparison operators `==`, `<`, `>`, and `!=` (not equal) on an existing column in the `DataFrame`. For example, the following code produces a boolean mask that is equal to `True` for the males on the Titanic and `False` otherwise."
      ]
    },
    {
      "cell_type": "code",
      "execution_count": 31,
      "metadata": {
        "colab": {
          "base_uri": "https://localhost:8080/"
        },
        "id": "LaR02lRMJtaW",
        "outputId": "28d3a415-c709-42ae-ad9e-07635bd230c5"
      },
      "outputs": [
        {
          "data": {
            "text/plain": [
              "0        True\n",
              "1        True\n",
              "2        True\n",
              "3       False\n",
              "4       False\n",
              "        ...  \n",
              "2202     True\n",
              "2203     True\n",
              "2204     True\n",
              "2205     True\n",
              "2206     True\n",
              "Name: gender, Length: 2207, dtype: bool"
            ]
          },
          "execution_count": 31,
          "metadata": {},
          "output_type": "execute_result"
        }
      ],
      "source": [
        "df_titanic[\"gender\"] == \"male\""
      ]
    },
    {
      "cell_type": "markdown",
      "metadata": {
        "id": "fPlvq_-mJtad"
      },
      "source": [
        "Notice the subtle way the equality operator `==` is being used here! We are comparing an array with a string, i.e.,\n",
        "\n",
        "\\begin{align}\n",
        "& \\begin{bmatrix} \\text{\"male\"} \\\\ \\text{\"male\"} \\\\ \\text{\"male\"} \\\\ \\text{\"female\"} \\\\ \\vdots \\\\ \\text{\"male\"} \\end{bmatrix} & \\text{with} & & \\text{\"male\"}.\n",
        "\\end{align}"
      ]
    },
    {
      "cell_type": "markdown",
      "metadata": {},
      "source": [
        "In most programming languages, this comparison would make no sense. An array of strings is obviously not equal to a string. However, `pandas` automatically applies the equality operator to _each_ element of the array. As a result, we get an entire array (i.e., a `Series`) of booleans."
      ]
    },
    {
      "cell_type": "markdown",
      "metadata": {},
      "source": [
        "\\begin{align}\n",
        " \\begin{bmatrix} \\text{\"male\"} \\\\ \\text{\"male\"} \\\\ \\text{\"male\"} \\\\ \\text{\"female\"} \\\\ \\vdots \\\\ \\text{\"male\"} \\end{bmatrix} &== \\text{\"male\"} &\\Longrightarrow & &  \\begin{bmatrix} \\text{True} \\\\ \\text{True} \\\\ \\text{True} \\\\ \\text{False} \\\\ \\vdots \\\\ \\text{True} \\end{bmatrix}.\n",
        "\\end{align}"
      ]
    },
    {
      "cell_type": "markdown",
      "metadata": {},
      "source": [
        "\n",
        "When an operation is applied to each element of an array, it is said to be **broadcast** over that array.\n",
        "\n",
        "Now, we can use the boolean mask as a filter on the `DataFrame` to extract the rows where the mask equals `True`."
      ]
    },
    {
      "cell_type": "code",
      "execution_count": 32,
      "metadata": {
        "colab": {
          "base_uri": "https://localhost:8080/",
          "height": 423
        },
        "id": "1O6x3ZoZJtaf",
        "outputId": "34ca1a90-9d15-4666-bd6b-f982ac4c5f8f"
      },
      "outputs": [
        {
          "data": {
            "text/html": [
              "<div>\n",
              "<style scoped>\n",
              "    .dataframe tbody tr th:only-of-type {\n",
              "        vertical-align: middle;\n",
              "    }\n",
              "\n",
              "    .dataframe tbody tr th {\n",
              "        vertical-align: top;\n",
              "    }\n",
              "\n",
              "    .dataframe thead th {\n",
              "        text-align: right;\n",
              "    }\n",
              "</style>\n",
              "<table border=\"1\" class=\"dataframe\">\n",
              "  <thead>\n",
              "    <tr style=\"text-align: right;\">\n",
              "      <th></th>\n",
              "      <th>name</th>\n",
              "      <th>gender</th>\n",
              "      <th>age</th>\n",
              "      <th>class</th>\n",
              "      <th>embarked</th>\n",
              "      <th>country</th>\n",
              "      <th>ticketno</th>\n",
              "      <th>fare</th>\n",
              "      <th>survived</th>\n",
              "      <th>pclass</th>\n",
              "      <th>crew</th>\n",
              "      <th>type</th>\n",
              "    </tr>\n",
              "  </thead>\n",
              "  <tbody>\n",
              "    <tr>\n",
              "      <th>0</th>\n",
              "      <td>Abbing, Mr. Anthony</td>\n",
              "      <td>male</td>\n",
              "      <td>42.0</td>\n",
              "      <td>3rd</td>\n",
              "      <td>S</td>\n",
              "      <td>United States</td>\n",
              "      <td>5547.0</td>\n",
              "      <td>7.11</td>\n",
              "      <td>0</td>\n",
              "      <td>3.0</td>\n",
              "      <td>NaN</td>\n",
              "      <td>passenger</td>\n",
              "    </tr>\n",
              "    <tr>\n",
              "      <th>1</th>\n",
              "      <td>Abbott, Mr. Eugene Joseph</td>\n",
              "      <td>male</td>\n",
              "      <td>13.0</td>\n",
              "      <td>3rd</td>\n",
              "      <td>S</td>\n",
              "      <td>United States</td>\n",
              "      <td>2673.0</td>\n",
              "      <td>20.05</td>\n",
              "      <td>0</td>\n",
              "      <td>3.0</td>\n",
              "      <td>NaN</td>\n",
              "      <td>passenger</td>\n",
              "    </tr>\n",
              "    <tr>\n",
              "      <th>2</th>\n",
              "      <td>Abbott, Mr. Rossmore Edward</td>\n",
              "      <td>male</td>\n",
              "      <td>16.0</td>\n",
              "      <td>3rd</td>\n",
              "      <td>S</td>\n",
              "      <td>United States</td>\n",
              "      <td>2673.0</td>\n",
              "      <td>20.05</td>\n",
              "      <td>0</td>\n",
              "      <td>3.0</td>\n",
              "      <td>NaN</td>\n",
              "      <td>passenger</td>\n",
              "    </tr>\n",
              "    <tr>\n",
              "      <th>5</th>\n",
              "      <td>Abelseth, Mr. Olaus Jørgensen</td>\n",
              "      <td>male</td>\n",
              "      <td>25.0</td>\n",
              "      <td>3rd</td>\n",
              "      <td>S</td>\n",
              "      <td>United States</td>\n",
              "      <td>348122.0</td>\n",
              "      <td>7.13</td>\n",
              "      <td>1</td>\n",
              "      <td>3.0</td>\n",
              "      <td>NaN</td>\n",
              "      <td>passenger</td>\n",
              "    </tr>\n",
              "    <tr>\n",
              "      <th>6</th>\n",
              "      <td>Abelson, Mr. Samuel</td>\n",
              "      <td>male</td>\n",
              "      <td>30.0</td>\n",
              "      <td>2nd</td>\n",
              "      <td>C</td>\n",
              "      <td>France</td>\n",
              "      <td>3381.0</td>\n",
              "      <td>24.00</td>\n",
              "      <td>0</td>\n",
              "      <td>2.0</td>\n",
              "      <td>NaN</td>\n",
              "      <td>passenger</td>\n",
              "    </tr>\n",
              "    <tr>\n",
              "      <th>...</th>\n",
              "      <td>...</td>\n",
              "      <td>...</td>\n",
              "      <td>...</td>\n",
              "      <td>...</td>\n",
              "      <td>...</td>\n",
              "      <td>...</td>\n",
              "      <td>...</td>\n",
              "      <td>...</td>\n",
              "      <td>...</td>\n",
              "      <td>...</td>\n",
              "      <td>...</td>\n",
              "      <td>...</td>\n",
              "    </tr>\n",
              "    <tr>\n",
              "      <th>2202</th>\n",
              "      <td>Wynn, Mr. Walter</td>\n",
              "      <td>male</td>\n",
              "      <td>41.0</td>\n",
              "      <td>deck crew</td>\n",
              "      <td>B</td>\n",
              "      <td>England</td>\n",
              "      <td>NaN</td>\n",
              "      <td>NaN</td>\n",
              "      <td>1</td>\n",
              "      <td>NaN</td>\n",
              "      <td>deck crew</td>\n",
              "      <td>crew</td>\n",
              "    </tr>\n",
              "    <tr>\n",
              "      <th>2203</th>\n",
              "      <td>Yearsley, Mr. Harry</td>\n",
              "      <td>male</td>\n",
              "      <td>40.0</td>\n",
              "      <td>victualling crew</td>\n",
              "      <td>S</td>\n",
              "      <td>England</td>\n",
              "      <td>NaN</td>\n",
              "      <td>NaN</td>\n",
              "      <td>1</td>\n",
              "      <td>NaN</td>\n",
              "      <td>victualling crew</td>\n",
              "      <td>crew</td>\n",
              "    </tr>\n",
              "    <tr>\n",
              "      <th>2204</th>\n",
              "      <td>Young, Mr. Francis James</td>\n",
              "      <td>male</td>\n",
              "      <td>32.0</td>\n",
              "      <td>engineering crew</td>\n",
              "      <td>S</td>\n",
              "      <td>England</td>\n",
              "      <td>NaN</td>\n",
              "      <td>NaN</td>\n",
              "      <td>0</td>\n",
              "      <td>NaN</td>\n",
              "      <td>engineering crew</td>\n",
              "      <td>crew</td>\n",
              "    </tr>\n",
              "    <tr>\n",
              "      <th>2205</th>\n",
              "      <td>Zanetti, Sig. Minio</td>\n",
              "      <td>male</td>\n",
              "      <td>20.0</td>\n",
              "      <td>restaurant staff</td>\n",
              "      <td>S</td>\n",
              "      <td>England</td>\n",
              "      <td>NaN</td>\n",
              "      <td>NaN</td>\n",
              "      <td>0</td>\n",
              "      <td>NaN</td>\n",
              "      <td>restaurant staff</td>\n",
              "      <td>crew</td>\n",
              "    </tr>\n",
              "    <tr>\n",
              "      <th>2206</th>\n",
              "      <td>Zarracchi, Sig. L.</td>\n",
              "      <td>male</td>\n",
              "      <td>26.0</td>\n",
              "      <td>restaurant staff</td>\n",
              "      <td>S</td>\n",
              "      <td>England</td>\n",
              "      <td>NaN</td>\n",
              "      <td>NaN</td>\n",
              "      <td>0</td>\n",
              "      <td>NaN</td>\n",
              "      <td>restaurant staff</td>\n",
              "      <td>crew</td>\n",
              "    </tr>\n",
              "  </tbody>\n",
              "</table>\n",
              "<p>1718 rows × 12 columns</p>\n",
              "</div>"
            ],
            "text/plain": [
              "                               name gender   age             class embarked   \n",
              "0               Abbing, Mr. Anthony   male  42.0               3rd        S  \\\n",
              "1         Abbott, Mr. Eugene Joseph   male  13.0               3rd        S   \n",
              "2       Abbott, Mr. Rossmore Edward   male  16.0               3rd        S   \n",
              "5     Abelseth, Mr. Olaus Jørgensen   male  25.0               3rd        S   \n",
              "6               Abelson, Mr. Samuel   male  30.0               2nd        C   \n",
              "...                             ...    ...   ...               ...      ...   \n",
              "2202               Wynn, Mr. Walter   male  41.0         deck crew        B   \n",
              "2203            Yearsley, Mr. Harry   male  40.0  victualling crew        S   \n",
              "2204       Young, Mr. Francis James   male  32.0  engineering crew        S   \n",
              "2205            Zanetti, Sig. Minio   male  20.0  restaurant staff        S   \n",
              "2206             Zarracchi, Sig. L.   male  26.0  restaurant staff        S   \n",
              "\n",
              "            country  ticketno   fare  survived  pclass              crew   \n",
              "0     United States    5547.0   7.11         0     3.0               NaN  \\\n",
              "1     United States    2673.0  20.05         0     3.0               NaN   \n",
              "2     United States    2673.0  20.05         0     3.0               NaN   \n",
              "5     United States  348122.0   7.13         1     3.0               NaN   \n",
              "6            France    3381.0  24.00         0     2.0               NaN   \n",
              "...             ...       ...    ...       ...     ...               ...   \n",
              "2202        England       NaN    NaN         1     NaN         deck crew   \n",
              "2203        England       NaN    NaN         1     NaN  victualling crew   \n",
              "2204        England       NaN    NaN         0     NaN  engineering crew   \n",
              "2205        England       NaN    NaN         0     NaN  restaurant staff   \n",
              "2206        England       NaN    NaN         0     NaN  restaurant staff   \n",
              "\n",
              "           type  \n",
              "0     passenger  \n",
              "1     passenger  \n",
              "2     passenger  \n",
              "5     passenger  \n",
              "6     passenger  \n",
              "...         ...  \n",
              "2202       crew  \n",
              "2203       crew  \n",
              "2204       crew  \n",
              "2205       crew  \n",
              "2206       crew  \n",
              "\n",
              "[1718 rows x 12 columns]"
            ]
          },
          "execution_count": 32,
          "metadata": {},
          "output_type": "execute_result"
        }
      ],
      "source": [
        "df_male = df_titanic[df_titanic[\"gender\"] == \"male\"]\n",
        "df_male"
      ]
    },
    {
      "cell_type": "markdown",
      "metadata": {
        "id": "1NXzBSg6Jtai"
      },
      "source": [
        "Note that every person in this new `DataFrame` is coded as male. If you inspect the index, you will see that rows 4 and 5 are missing. That is because those passengers were coded as female."
      ]
    },
    {
      "cell_type": "markdown",
      "metadata": {
        "id": "rj6sUAzlJtaj"
      },
      "source": [
        "Now we can answer the question: \"What proportion of those coded as males were crew members?\""
      ]
    },
    {
      "cell_type": "code",
      "execution_count": 33,
      "metadata": {
        "colab": {
          "base_uri": "https://localhost:8080/"
        },
        "id": "PL5AZdDCJtak",
        "outputId": "0e659d96-a5f0-4569-97aa-ac382946da8d"
      },
      "outputs": [
        {
          "data": {
            "text/plain": [
              "type\n",
              "crew         0.504657\n",
              "passenger    0.495343\n",
              "Name: proportion, dtype: float64"
            ]
          },
          "execution_count": 33,
          "metadata": {},
          "output_type": "execute_result"
        }
      ],
      "source": [
        "df_male[\"type\"].value_counts(normalize=True)"
      ]
    },
    {
      "cell_type": "markdown",
      "metadata": {
        "id": "h8JMRXKrJtam"
      },
      "source": [
        "It appears that about 50.4657% of the males were crew members. We can notate this using _conditional probability_ notation:\n",
        "\n",
        "$$ P(\\text{crew} | \\text{male}) = 0.504657. $$\n",
        "\n",
        "The bar $|$ is read as \"given\". The information after the bar is the given information. In this case, we were interested in the \"probability\" a person was a crew member, \"given\" they were male. That is, after restricting to the male passengers (i.e., using a boolean mask as a filter), we want to know the relative frequency of crew members."
      ]
    },
    {
      "cell_type": "markdown",
      "metadata": {
        "id": "ZGI7SaceJtam"
      },
      "source": [
        "We can also filter on multiple criteria. For example, if we want to know the proportion of male _survivors_ who were crew members, we need to combine two boolean masks, one based on the column `gender` and another based on the column `survived`. The two masks can be combined using the logical operator `&`."
      ]
    },
    {
      "cell_type": "code",
      "execution_count": 34,
      "metadata": {
        "colab": {
          "base_uri": "https://localhost:8080/"
        },
        "id": "5-OhXQDXJtan",
        "outputId": "e53de2ce-71e8-4cf9-d3c3-d8c5fedbd990"
      },
      "outputs": [
        {
          "data": {
            "text/plain": [
              "0       False\n",
              "1       False\n",
              "2       False\n",
              "3       False\n",
              "4       False\n",
              "        ...  \n",
              "2202     True\n",
              "2203     True\n",
              "2204    False\n",
              "2205    False\n",
              "2206    False\n",
              "Length: 2207, dtype: bool"
            ]
          },
          "execution_count": 34,
          "metadata": {},
          "output_type": "execute_result"
        }
      ],
      "source": [
        "(df_titanic[\"gender\"] == \"male\") & (df_titanic[\"survived\"] == 1)"
      ]
    },
    {
      "cell_type": "markdown",
      "metadata": {
        "id": "ygJIJbtOJtat"
      },
      "source": [
        "Notice that the logical operator was _broadcast_ (that word again!) over the elements of the two `Series`. In other words, the logical operator was applied to each element, producing a `Series` of booleans.\n",
        "\n",
        "Now we can use this new boolean mask to filter the `DataFrame`, just as we did before."
      ]
    },
    {
      "cell_type": "code",
      "execution_count": 35,
      "metadata": {
        "colab": {
          "base_uri": "https://localhost:8080/",
          "height": 527
        },
        "id": "KdfY3t-wJtau",
        "outputId": "6f40fb97-b567-4db7-a0a8-e99bb3caabdb"
      },
      "outputs": [
        {
          "data": {
            "text/html": [
              "<div>\n",
              "<style scoped>\n",
              "    .dataframe tbody tr th:only-of-type {\n",
              "        vertical-align: middle;\n",
              "    }\n",
              "\n",
              "    .dataframe tbody tr th {\n",
              "        vertical-align: top;\n",
              "    }\n",
              "\n",
              "    .dataframe thead th {\n",
              "        text-align: right;\n",
              "    }\n",
              "</style>\n",
              "<table border=\"1\" class=\"dataframe\">\n",
              "  <thead>\n",
              "    <tr style=\"text-align: right;\">\n",
              "      <th></th>\n",
              "      <th>name</th>\n",
              "      <th>gender</th>\n",
              "      <th>age</th>\n",
              "      <th>class</th>\n",
              "      <th>embarked</th>\n",
              "      <th>country</th>\n",
              "      <th>ticketno</th>\n",
              "      <th>fare</th>\n",
              "      <th>survived</th>\n",
              "      <th>pclass</th>\n",
              "      <th>crew</th>\n",
              "      <th>type</th>\n",
              "    </tr>\n",
              "  </thead>\n",
              "  <tbody>\n",
              "    <tr>\n",
              "      <th>5</th>\n",
              "      <td>Abelseth, Mr. Olaus Jørgensen</td>\n",
              "      <td>male</td>\n",
              "      <td>25.000000</td>\n",
              "      <td>3rd</td>\n",
              "      <td>S</td>\n",
              "      <td>United States</td>\n",
              "      <td>348122.0</td>\n",
              "      <td>7.1300</td>\n",
              "      <td>1</td>\n",
              "      <td>3.0</td>\n",
              "      <td>NaN</td>\n",
              "      <td>passenger</td>\n",
              "    </tr>\n",
              "    <tr>\n",
              "      <th>8</th>\n",
              "      <td>Abī-Al-Munà, Mr. Nāsīf Qāsim</td>\n",
              "      <td>male</td>\n",
              "      <td>27.000000</td>\n",
              "      <td>3rd</td>\n",
              "      <td>C</td>\n",
              "      <td>Lebanon</td>\n",
              "      <td>2699.0</td>\n",
              "      <td>18.1509</td>\n",
              "      <td>1</td>\n",
              "      <td>3.0</td>\n",
              "      <td>NaN</td>\n",
              "      <td>passenger</td>\n",
              "    </tr>\n",
              "    <tr>\n",
              "      <th>9</th>\n",
              "      <td>Abrahamsson, Mr. Abraham August Johannes</td>\n",
              "      <td>male</td>\n",
              "      <td>20.000000</td>\n",
              "      <td>3rd</td>\n",
              "      <td>S</td>\n",
              "      <td>Finland</td>\n",
              "      <td>3101284.0</td>\n",
              "      <td>7.1806</td>\n",
              "      <td>1</td>\n",
              "      <td>3.0</td>\n",
              "      <td>NaN</td>\n",
              "      <td>passenger</td>\n",
              "    </tr>\n",
              "    <tr>\n",
              "      <th>13</th>\n",
              "      <td>Aks, Master. Frank Philip</td>\n",
              "      <td>male</td>\n",
              "      <td>0.833333</td>\n",
              "      <td>3rd</td>\n",
              "      <td>S</td>\n",
              "      <td>England</td>\n",
              "      <td>392091.0</td>\n",
              "      <td>9.0700</td>\n",
              "      <td>1</td>\n",
              "      <td>3.0</td>\n",
              "      <td>NaN</td>\n",
              "      <td>passenger</td>\n",
              "    </tr>\n",
              "    <tr>\n",
              "      <th>22</th>\n",
              "      <td>Allison, Master. Hudson Trevor</td>\n",
              "      <td>male</td>\n",
              "      <td>0.916667</td>\n",
              "      <td>1st</td>\n",
              "      <td>S</td>\n",
              "      <td>Canada</td>\n",
              "      <td>113781.0</td>\n",
              "      <td>151.1600</td>\n",
              "      <td>1</td>\n",
              "      <td>1.0</td>\n",
              "      <td>NaN</td>\n",
              "      <td>passenger</td>\n",
              "    </tr>\n",
              "    <tr>\n",
              "      <th>...</th>\n",
              "      <td>...</td>\n",
              "      <td>...</td>\n",
              "      <td>...</td>\n",
              "      <td>...</td>\n",
              "      <td>...</td>\n",
              "      <td>...</td>\n",
              "      <td>...</td>\n",
              "      <td>...</td>\n",
              "      <td>...</td>\n",
              "      <td>...</td>\n",
              "      <td>...</td>\n",
              "      <td>...</td>\n",
              "    </tr>\n",
              "    <tr>\n",
              "      <th>2185</th>\n",
              "      <td>Windebank, Mr. Alfred Edgar</td>\n",
              "      <td>male</td>\n",
              "      <td>38.000000</td>\n",
              "      <td>victualling crew</td>\n",
              "      <td>S</td>\n",
              "      <td>England</td>\n",
              "      <td>NaN</td>\n",
              "      <td>NaN</td>\n",
              "      <td>1</td>\n",
              "      <td>NaN</td>\n",
              "      <td>victualling crew</td>\n",
              "      <td>crew</td>\n",
              "    </tr>\n",
              "    <tr>\n",
              "      <th>2188</th>\n",
              "      <td>Witter, Mr. James William Cheetham</td>\n",
              "      <td>male</td>\n",
              "      <td>31.000000</td>\n",
              "      <td>victualling crew</td>\n",
              "      <td>S</td>\n",
              "      <td>England</td>\n",
              "      <td>NaN</td>\n",
              "      <td>NaN</td>\n",
              "      <td>1</td>\n",
              "      <td>NaN</td>\n",
              "      <td>victualling crew</td>\n",
              "      <td>crew</td>\n",
              "    </tr>\n",
              "    <tr>\n",
              "      <th>2200</th>\n",
              "      <td>Wright, Mr. William</td>\n",
              "      <td>male</td>\n",
              "      <td>40.000000</td>\n",
              "      <td>victualling crew</td>\n",
              "      <td>S</td>\n",
              "      <td>England</td>\n",
              "      <td>NaN</td>\n",
              "      <td>NaN</td>\n",
              "      <td>1</td>\n",
              "      <td>NaN</td>\n",
              "      <td>victualling crew</td>\n",
              "      <td>crew</td>\n",
              "    </tr>\n",
              "    <tr>\n",
              "      <th>2202</th>\n",
              "      <td>Wynn, Mr. Walter</td>\n",
              "      <td>male</td>\n",
              "      <td>41.000000</td>\n",
              "      <td>deck crew</td>\n",
              "      <td>B</td>\n",
              "      <td>England</td>\n",
              "      <td>NaN</td>\n",
              "      <td>NaN</td>\n",
              "      <td>1</td>\n",
              "      <td>NaN</td>\n",
              "      <td>deck crew</td>\n",
              "      <td>crew</td>\n",
              "    </tr>\n",
              "    <tr>\n",
              "      <th>2203</th>\n",
              "      <td>Yearsley, Mr. Harry</td>\n",
              "      <td>male</td>\n",
              "      <td>40.000000</td>\n",
              "      <td>victualling crew</td>\n",
              "      <td>S</td>\n",
              "      <td>England</td>\n",
              "      <td>NaN</td>\n",
              "      <td>NaN</td>\n",
              "      <td>1</td>\n",
              "      <td>NaN</td>\n",
              "      <td>victualling crew</td>\n",
              "      <td>crew</td>\n",
              "    </tr>\n",
              "  </tbody>\n",
              "</table>\n",
              "<p>352 rows × 12 columns</p>\n",
              "</div>"
            ],
            "text/plain": [
              "                                          name gender        age   \n",
              "5                Abelseth, Mr. Olaus Jørgensen   male  25.000000  \\\n",
              "8                 Abī-Al-Munà, Mr. Nāsīf Qāsim   male  27.000000   \n",
              "9     Abrahamsson, Mr. Abraham August Johannes   male  20.000000   \n",
              "13                   Aks, Master. Frank Philip   male   0.833333   \n",
              "22              Allison, Master. Hudson Trevor   male   0.916667   \n",
              "...                                        ...    ...        ...   \n",
              "2185               Windebank, Mr. Alfred Edgar   male  38.000000   \n",
              "2188        Witter, Mr. James William Cheetham   male  31.000000   \n",
              "2200                       Wright, Mr. William   male  40.000000   \n",
              "2202                          Wynn, Mr. Walter   male  41.000000   \n",
              "2203                       Yearsley, Mr. Harry   male  40.000000   \n",
              "\n",
              "                 class embarked        country   ticketno      fare  survived   \n",
              "5                  3rd        S  United States   348122.0    7.1300         1  \\\n",
              "8                  3rd        C        Lebanon     2699.0   18.1509         1   \n",
              "9                  3rd        S        Finland  3101284.0    7.1806         1   \n",
              "13                 3rd        S        England   392091.0    9.0700         1   \n",
              "22                 1st        S         Canada   113781.0  151.1600         1   \n",
              "...                ...      ...            ...        ...       ...       ...   \n",
              "2185  victualling crew        S        England        NaN       NaN         1   \n",
              "2188  victualling crew        S        England        NaN       NaN         1   \n",
              "2200  victualling crew        S        England        NaN       NaN         1   \n",
              "2202         deck crew        B        England        NaN       NaN         1   \n",
              "2203  victualling crew        S        England        NaN       NaN         1   \n",
              "\n",
              "      pclass              crew       type  \n",
              "5        3.0               NaN  passenger  \n",
              "8        3.0               NaN  passenger  \n",
              "9        3.0               NaN  passenger  \n",
              "13       3.0               NaN  passenger  \n",
              "22       1.0               NaN  passenger  \n",
              "...      ...               ...        ...  \n",
              "2185     NaN  victualling crew       crew  \n",
              "2188     NaN  victualling crew       crew  \n",
              "2200     NaN  victualling crew       crew  \n",
              "2202     NaN         deck crew       crew  \n",
              "2203     NaN  victualling crew       crew  \n",
              "\n",
              "[352 rows x 12 columns]"
            ]
          },
          "execution_count": 35,
          "metadata": {},
          "output_type": "execute_result"
        }
      ],
      "source": [
        "df_male_survivors = df_titanic[(df_titanic[\"gender\"] == \"male\") & (df_titanic[\"survived\"] == 1)]\n",
        "df_male_survivors"
      ]
    },
    {
      "cell_type": "markdown",
      "metadata": {
        "id": "xabQIG56Jtaw"
      },
      "source": [
        "Besides `&`, there are two other logical operators that can be used to modify and combine boolean masks.\n",
        "\n",
        "- `&` means \"and\"\n",
        "- `|` means \"or\"\n",
        "- `~` means \"not\"\n",
        "\n",
        "Like `&`, the operators `|` and `~` are broadcast over the boolean masks."
      ]
    }
  ],
  "metadata": {
    "colab": {
      "provenance": []
    },
    "kernelspec": {
      "display_name": "Python 3",
      "language": "python",
      "name": "python3"
    },
    "language_info": {
      "codemirror_mode": {
        "name": "ipython",
        "version": 3
      },
      "file_extension": ".py",
      "mimetype": "text/x-python",
      "name": "python",
      "nbconvert_exporter": "python",
      "pygments_lexer": "ipython3",
      "version": "3.9.6"
    }
  },
  "nbformat": 4,
  "nbformat_minor": 0
}
