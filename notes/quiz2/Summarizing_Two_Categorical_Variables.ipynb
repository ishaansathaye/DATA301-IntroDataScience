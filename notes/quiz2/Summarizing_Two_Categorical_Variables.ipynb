{
  "cells": [
    {
      "cell_type": "markdown",
      "metadata": {
        "id": "wYwaQ8kH5T3p"
      },
      "source": [
        "# Summarizing Two Categorical Variables"
      ]
    },
    {
      "cell_type": "markdown",
      "metadata": {
        "id": "rQVaqbgu5T3s"
      },
      "source": [
        "Data science is all about relationships between variables. How do we summarize and visualize the relationship between two categorical variables?\n",
        "\n",
        "For example, what can we say about the relationship between coded gender and survival on the Titanic?"
      ]
    },
    {
      "cell_type": "code",
      "execution_count": 1,
      "metadata": {
        "id": "sAXvF4ob6Ldo"
      },
      "outputs": [],
      "source": [
        "import pandas as pd"
      ]
    },
    {
      "cell_type": "code",
      "execution_count": 2,
      "metadata": {
        "colab": {
          "base_uri": "https://localhost:8080/",
          "height": 423
        },
        "id": "1EBjRynE5T3t",
        "outputId": "631e68f9-a3a1-4d8b-9b13-018514f0fb03"
      },
      "outputs": [
        {
          "data": {
            "text/html": [
              "<div>\n",
              "<style scoped>\n",
              "    .dataframe tbody tr th:only-of-type {\n",
              "        vertical-align: middle;\n",
              "    }\n",
              "\n",
              "    .dataframe tbody tr th {\n",
              "        vertical-align: top;\n",
              "    }\n",
              "\n",
              "    .dataframe thead th {\n",
              "        text-align: right;\n",
              "    }\n",
              "</style>\n",
              "<table border=\"1\" class=\"dataframe\">\n",
              "  <thead>\n",
              "    <tr style=\"text-align: right;\">\n",
              "      <th></th>\n",
              "      <th>name</th>\n",
              "      <th>gender</th>\n",
              "      <th>age</th>\n",
              "      <th>class</th>\n",
              "      <th>embarked</th>\n",
              "      <th>country</th>\n",
              "      <th>ticketno</th>\n",
              "      <th>fare</th>\n",
              "      <th>survived</th>\n",
              "      <th>pclass</th>\n",
              "      <th>crew</th>\n",
              "    </tr>\n",
              "  </thead>\n",
              "  <tbody>\n",
              "    <tr>\n",
              "      <th>0</th>\n",
              "      <td>Abbing, Mr. Anthony</td>\n",
              "      <td>male</td>\n",
              "      <td>42.0</td>\n",
              "      <td>3rd</td>\n",
              "      <td>S</td>\n",
              "      <td>United States</td>\n",
              "      <td>5547.0</td>\n",
              "      <td>7.11</td>\n",
              "      <td>0</td>\n",
              "      <td>3.0</td>\n",
              "      <td>NaN</td>\n",
              "    </tr>\n",
              "    <tr>\n",
              "      <th>1</th>\n",
              "      <td>Abbott, Mr. Eugene Joseph</td>\n",
              "      <td>male</td>\n",
              "      <td>13.0</td>\n",
              "      <td>3rd</td>\n",
              "      <td>S</td>\n",
              "      <td>United States</td>\n",
              "      <td>2673.0</td>\n",
              "      <td>20.05</td>\n",
              "      <td>0</td>\n",
              "      <td>3.0</td>\n",
              "      <td>NaN</td>\n",
              "    </tr>\n",
              "    <tr>\n",
              "      <th>2</th>\n",
              "      <td>Abbott, Mr. Rossmore Edward</td>\n",
              "      <td>male</td>\n",
              "      <td>16.0</td>\n",
              "      <td>3rd</td>\n",
              "      <td>S</td>\n",
              "      <td>United States</td>\n",
              "      <td>2673.0</td>\n",
              "      <td>20.05</td>\n",
              "      <td>0</td>\n",
              "      <td>3.0</td>\n",
              "      <td>NaN</td>\n",
              "    </tr>\n",
              "    <tr>\n",
              "      <th>3</th>\n",
              "      <td>Abbott, Mrs. Rhoda Mary 'Rosa'</td>\n",
              "      <td>female</td>\n",
              "      <td>39.0</td>\n",
              "      <td>3rd</td>\n",
              "      <td>S</td>\n",
              "      <td>England</td>\n",
              "      <td>2673.0</td>\n",
              "      <td>20.05</td>\n",
              "      <td>1</td>\n",
              "      <td>3.0</td>\n",
              "      <td>NaN</td>\n",
              "    </tr>\n",
              "    <tr>\n",
              "      <th>4</th>\n",
              "      <td>Abelseth, Miss. Karen Marie</td>\n",
              "      <td>female</td>\n",
              "      <td>16.0</td>\n",
              "      <td>3rd</td>\n",
              "      <td>S</td>\n",
              "      <td>Norway</td>\n",
              "      <td>348125.0</td>\n",
              "      <td>7.13</td>\n",
              "      <td>1</td>\n",
              "      <td>3.0</td>\n",
              "      <td>NaN</td>\n",
              "    </tr>\n",
              "    <tr>\n",
              "      <th>...</th>\n",
              "      <td>...</td>\n",
              "      <td>...</td>\n",
              "      <td>...</td>\n",
              "      <td>...</td>\n",
              "      <td>...</td>\n",
              "      <td>...</td>\n",
              "      <td>...</td>\n",
              "      <td>...</td>\n",
              "      <td>...</td>\n",
              "      <td>...</td>\n",
              "      <td>...</td>\n",
              "    </tr>\n",
              "    <tr>\n",
              "      <th>2202</th>\n",
              "      <td>Wynn, Mr. Walter</td>\n",
              "      <td>male</td>\n",
              "      <td>41.0</td>\n",
              "      <td>deck crew</td>\n",
              "      <td>B</td>\n",
              "      <td>England</td>\n",
              "      <td>NaN</td>\n",
              "      <td>NaN</td>\n",
              "      <td>1</td>\n",
              "      <td>NaN</td>\n",
              "      <td>deck crew</td>\n",
              "    </tr>\n",
              "    <tr>\n",
              "      <th>2203</th>\n",
              "      <td>Yearsley, Mr. Harry</td>\n",
              "      <td>male</td>\n",
              "      <td>40.0</td>\n",
              "      <td>victualling crew</td>\n",
              "      <td>S</td>\n",
              "      <td>England</td>\n",
              "      <td>NaN</td>\n",
              "      <td>NaN</td>\n",
              "      <td>1</td>\n",
              "      <td>NaN</td>\n",
              "      <td>victualling crew</td>\n",
              "    </tr>\n",
              "    <tr>\n",
              "      <th>2204</th>\n",
              "      <td>Young, Mr. Francis James</td>\n",
              "      <td>male</td>\n",
              "      <td>32.0</td>\n",
              "      <td>engineering crew</td>\n",
              "      <td>S</td>\n",
              "      <td>England</td>\n",
              "      <td>NaN</td>\n",
              "      <td>NaN</td>\n",
              "      <td>0</td>\n",
              "      <td>NaN</td>\n",
              "      <td>engineering crew</td>\n",
              "    </tr>\n",
              "    <tr>\n",
              "      <th>2205</th>\n",
              "      <td>Zanetti, Sig. Minio</td>\n",
              "      <td>male</td>\n",
              "      <td>20.0</td>\n",
              "      <td>restaurant staff</td>\n",
              "      <td>S</td>\n",
              "      <td>England</td>\n",
              "      <td>NaN</td>\n",
              "      <td>NaN</td>\n",
              "      <td>0</td>\n",
              "      <td>NaN</td>\n",
              "      <td>restaurant staff</td>\n",
              "    </tr>\n",
              "    <tr>\n",
              "      <th>2206</th>\n",
              "      <td>Zarracchi, Sig. L.</td>\n",
              "      <td>male</td>\n",
              "      <td>26.0</td>\n",
              "      <td>restaurant staff</td>\n",
              "      <td>S</td>\n",
              "      <td>England</td>\n",
              "      <td>NaN</td>\n",
              "      <td>NaN</td>\n",
              "      <td>0</td>\n",
              "      <td>NaN</td>\n",
              "      <td>restaurant staff</td>\n",
              "    </tr>\n",
              "  </tbody>\n",
              "</table>\n",
              "<p>2207 rows × 11 columns</p>\n",
              "</div>"
            ],
            "text/plain": [
              "                                name  gender   age             class embarked   \n",
              "0                Abbing, Mr. Anthony    male  42.0               3rd        S  \\\n",
              "1          Abbott, Mr. Eugene Joseph    male  13.0               3rd        S   \n",
              "2        Abbott, Mr. Rossmore Edward    male  16.0               3rd        S   \n",
              "3     Abbott, Mrs. Rhoda Mary 'Rosa'  female  39.0               3rd        S   \n",
              "4        Abelseth, Miss. Karen Marie  female  16.0               3rd        S   \n",
              "...                              ...     ...   ...               ...      ...   \n",
              "2202                Wynn, Mr. Walter    male  41.0         deck crew        B   \n",
              "2203             Yearsley, Mr. Harry    male  40.0  victualling crew        S   \n",
              "2204        Young, Mr. Francis James    male  32.0  engineering crew        S   \n",
              "2205             Zanetti, Sig. Minio    male  20.0  restaurant staff        S   \n",
              "2206              Zarracchi, Sig. L.    male  26.0  restaurant staff        S   \n",
              "\n",
              "            country  ticketno   fare  survived  pclass              crew  \n",
              "0     United States    5547.0   7.11         0     3.0               NaN  \n",
              "1     United States    2673.0  20.05         0     3.0               NaN  \n",
              "2     United States    2673.0  20.05         0     3.0               NaN  \n",
              "3           England    2673.0  20.05         1     3.0               NaN  \n",
              "4            Norway  348125.0   7.13         1     3.0               NaN  \n",
              "...             ...       ...    ...       ...     ...               ...  \n",
              "2202        England       NaN    NaN         1     NaN         deck crew  \n",
              "2203        England       NaN    NaN         1     NaN  victualling crew  \n",
              "2204        England       NaN    NaN         0     NaN  engineering crew  \n",
              "2205        England       NaN    NaN         0     NaN  restaurant staff  \n",
              "2206        England       NaN    NaN         0     NaN  restaurant staff  \n",
              "\n",
              "[2207 rows x 11 columns]"
            ]
          },
          "execution_count": 2,
          "metadata": {},
          "output_type": "execute_result"
        }
      ],
      "source": [
        "df_titanic = pd.read_csv(\"https://raw.githubusercontent.com/kevindavisross/data301/main/data/titanic.csv\")\n",
        "df_titanic"
      ]
    },
    {
      "cell_type": "markdown",
      "metadata": {
        "id": "HV_CxOyd5T3x"
      },
      "source": [
        "We can summarize each variable individually like we did in the previous lesson."
      ]
    },
    {
      "cell_type": "code",
      "execution_count": 3,
      "metadata": {
        "colab": {
          "base_uri": "https://localhost:8080/"
        },
        "id": "IoU2Oyh45T3y",
        "outputId": "1085f964-d102-4405-df2c-121fb5096196"
      },
      "outputs": [
        {
          "data": {
            "text/plain": [
              "gender\n",
              "male      1718\n",
              "female     489\n",
              "Name: count, dtype: int64"
            ]
          },
          "execution_count": 3,
          "metadata": {},
          "output_type": "execute_result"
        }
      ],
      "source": [
        "df_titanic[\"gender\"].value_counts()"
      ]
    },
    {
      "cell_type": "code",
      "execution_count": 4,
      "metadata": {
        "colab": {
          "base_uri": "https://localhost:8080/"
        },
        "id": "JDOvAR_c5T31",
        "outputId": "0a9414a9-5f3d-4e73-f04d-990c3f709c4c"
      },
      "outputs": [
        {
          "data": {
            "text/plain": [
              "survived\n",
              "0    1496\n",
              "1     711\n",
              "Name: count, dtype: int64"
            ]
          },
          "execution_count": 4,
          "metadata": {},
          "output_type": "execute_result"
        }
      ],
      "source": [
        "df_titanic[\"survived\"].value_counts()"
      ]
    },
    {
      "cell_type": "markdown",
      "metadata": {
        "id": "9-j30d535T35"
      },
      "source": [
        "But this does not tell us how gender interacts with survival. To do that, we need to produce a **cross-tabulation**, or \"cross-tab\" for short. (Statisticians often call this a *contigency table* or a *two-way table*.)"
      ]
    },
    {
      "cell_type": "code",
      "execution_count": 5,
      "metadata": {
        "colab": {
          "base_uri": "https://localhost:8080/",
          "height": 143
        },
        "id": "tfPjloEx5T36",
        "outputId": "c2fd12c8-52c2-4d9a-bc59-83d977d90803"
      },
      "outputs": [
        {
          "data": {
            "text/html": [
              "<div>\n",
              "<style scoped>\n",
              "    .dataframe tbody tr th:only-of-type {\n",
              "        vertical-align: middle;\n",
              "    }\n",
              "\n",
              "    .dataframe tbody tr th {\n",
              "        vertical-align: top;\n",
              "    }\n",
              "\n",
              "    .dataframe thead th {\n",
              "        text-align: right;\n",
              "    }\n",
              "</style>\n",
              "<table border=\"1\" class=\"dataframe\">\n",
              "  <thead>\n",
              "    <tr style=\"text-align: right;\">\n",
              "      <th>gender</th>\n",
              "      <th>female</th>\n",
              "      <th>male</th>\n",
              "    </tr>\n",
              "    <tr>\n",
              "      <th>survived</th>\n",
              "      <th></th>\n",
              "      <th></th>\n",
              "    </tr>\n",
              "  </thead>\n",
              "  <tbody>\n",
              "    <tr>\n",
              "      <th>0</th>\n",
              "      <td>130</td>\n",
              "      <td>1366</td>\n",
              "    </tr>\n",
              "    <tr>\n",
              "      <th>1</th>\n",
              "      <td>359</td>\n",
              "      <td>352</td>\n",
              "    </tr>\n",
              "  </tbody>\n",
              "</table>\n",
              "</div>"
            ],
            "text/plain": [
              "gender    female  male\n",
              "survived              \n",
              "0            130  1366\n",
              "1            359   352"
            ]
          },
          "execution_count": 5,
          "metadata": {},
          "output_type": "execute_result"
        }
      ],
      "source": [
        "pd.crosstab(df_titanic[\"survived\"], df_titanic[\"gender\"])"
      ]
    },
    {
      "cell_type": "markdown",
      "metadata": {
        "id": "stYsPqxu5T38"
      },
      "source": [
        "A cross-tabulation of two categorical variables is a two-dimensional array, with the levels of one variable along the rows and the levels of the other variable along the columns. Each cell in this array contains the number of observations that had a particular combination of levels. So in the Titanic data set, there were 359 females who survived and 1366 males who died. From the cross-tabulation, we can see that there were more females who survived than not, while there were more males who died than not. Clearly, gender had a strong influence on survival because of the Titanic's policy of [\"women and children first\"](https://en.wikipedia.org/wiki/Women_and_children_first). (However, [the Titanic seems to be unusual in this regard](https://www.cbsnews.com/news/women-and-children-first-just-a-myth-researchers-say/).)\n",
        "\n",
        "To get proportions instead of counts, we specify `normalize=True`.\n"
      ]
    },
    {
      "cell_type": "code",
      "execution_count": 6,
      "metadata": {
        "colab": {
          "base_uri": "https://localhost:8080/",
          "height": 143
        },
        "id": "26rO6gus5T39",
        "outputId": "a9a48d94-0063-4ba1-fe4c-334354f67d18"
      },
      "outputs": [
        {
          "data": {
            "text/html": [
              "<div>\n",
              "<style scoped>\n",
              "    .dataframe tbody tr th:only-of-type {\n",
              "        vertical-align: middle;\n",
              "    }\n",
              "\n",
              "    .dataframe tbody tr th {\n",
              "        vertical-align: top;\n",
              "    }\n",
              "\n",
              "    .dataframe thead th {\n",
              "        text-align: right;\n",
              "    }\n",
              "</style>\n",
              "<table border=\"1\" class=\"dataframe\">\n",
              "  <thead>\n",
              "    <tr style=\"text-align: right;\">\n",
              "      <th>gender</th>\n",
              "      <th>female</th>\n",
              "      <th>male</th>\n",
              "    </tr>\n",
              "    <tr>\n",
              "      <th>survived</th>\n",
              "      <th></th>\n",
              "      <th></th>\n",
              "    </tr>\n",
              "  </thead>\n",
              "  <tbody>\n",
              "    <tr>\n",
              "      <th>0</th>\n",
              "      <td>0.058903</td>\n",
              "      <td>0.618940</td>\n",
              "    </tr>\n",
              "    <tr>\n",
              "      <th>1</th>\n",
              "      <td>0.162664</td>\n",
              "      <td>0.159493</td>\n",
              "    </tr>\n",
              "  </tbody>\n",
              "</table>\n",
              "</div>"
            ],
            "text/plain": [
              "gender      female      male\n",
              "survived                    \n",
              "0         0.058903  0.618940\n",
              "1         0.162664  0.159493"
            ]
          },
          "execution_count": 6,
          "metadata": {},
          "output_type": "execute_result"
        }
      ],
      "source": [
        "joint_survived_gender = pd.crosstab(df_titanic[\"survived\"], df_titanic[\"gender\"],\n",
        "                                    normalize=True)\n",
        "joint_survived_gender"
      ]
    },
    {
      "cell_type": "markdown",
      "metadata": {
        "id": "avjKJMgH5T3_"
      },
      "source": [
        "Notice that the four proportions in this table add up to 1.0. Each of these proportions is called a **joint proportion** and can be denoted, for example, as\n",
        "\n",
        "$$ P(\\text{female}, \\text{died}) = 0.058903.$$\n",
        "\n",
        "Collectively, these proportions make up the\n",
        "*joint distribution* of the variables **survived** and **gender**."
      ]
    },
    {
      "cell_type": "markdown",
      "metadata": {
        "id": "viccCmLk5T4A"
      },
      "source": [
        "## Marginal Distributions\n",
        "\n",
        "Is it possible to recover the distribution of **gender** alone from the joint distribution of **survived** and **gender**?"
      ]
    },
    {
      "cell_type": "markdown",
      "metadata": {
        "id": "Oed801JC5T4B"
      },
      "source": [
        "Yes! We simply sum the probabilities for each **gender** over all the possible levels of **survived**.\n",
        "\n",
        "\\begin{align}\n",
        "P(\\text{female}) = P(\\text{female}, \\text{died}) + P(\\text{female}, \\text{survived}) &= 0.058903 + 0.162664 = 0.221567 \\\\\n",
        "P(\\text{male}) = P(\\text{male}, \\text{died}) + P(\\text{male}, \\text{survived}) &= 0.618940 + 0.159493 = 0.778433\n",
        "\\end{align}"
      ]
    },
    {
      "cell_type": "markdown",
      "metadata": {
        "id": "-dfxBIpe5T4C"
      },
      "source": [
        "In code, this can be achieved by summing the `DataFrame` _over_ one of the dimensions. We can specify which dimension to *sum over*, using the `axis=` argument to `.sum()`.\n",
        "\n",
        "- `axis=0` refers to the rows. In the current example, **survived** is the variable along this axis.\n",
        "- `axis=1` refers to the columns. In the current example, **gender** is the variable along this axis.\n",
        "\n",
        "Since we want to sum _over_ the **survived** variable, we specify `.sum(axis=0)`."
      ]
    },
    {
      "cell_type": "code",
      "execution_count": 7,
      "metadata": {
        "colab": {
          "base_uri": "https://localhost:8080/"
        },
        "id": "N11E5yfV5T4C",
        "outputId": "36a094b9-591d-43ad-b901-a6b44cec8e6d"
      },
      "outputs": [
        {
          "data": {
            "text/plain": [
              "gender\n",
              "female    0.221568\n",
              "male      0.778432\n",
              "dtype: float64"
            ]
          },
          "execution_count": 7,
          "metadata": {},
          "output_type": "execute_result"
        }
      ],
      "source": [
        "marginal_gender = joint_survived_gender.sum(axis=0)\n",
        "marginal_gender"
      ]
    },
    {
      "cell_type": "markdown",
      "metadata": {
        "id": "N4V_vHVa5T4F"
      },
      "source": [
        "When calculated from a joint distribution, the distribution of one variable is called a _marginal distribution_. So the above is the marginal distribution of **gender**.\n",
        "\n",
        "The name \"marginal distribution\" comes from the fact that it is customary to write these totals in the _margins_ of the table. In fact `pd.crosstab()` has an argument `margins=` that automatically adds these margins to the cross-tabulation."
      ]
    },
    {
      "cell_type": "code",
      "execution_count": 8,
      "metadata": {
        "colab": {
          "base_uri": "https://localhost:8080/",
          "height": 175
        },
        "id": "1IVYHfJE5T4G",
        "outputId": "0a63996e-195e-4c9d-bef8-54d232ee12d0"
      },
      "outputs": [
        {
          "data": {
            "text/html": [
              "<div>\n",
              "<style scoped>\n",
              "    .dataframe tbody tr th:only-of-type {\n",
              "        vertical-align: middle;\n",
              "    }\n",
              "\n",
              "    .dataframe tbody tr th {\n",
              "        vertical-align: top;\n",
              "    }\n",
              "\n",
              "    .dataframe thead th {\n",
              "        text-align: right;\n",
              "    }\n",
              "</style>\n",
              "<table border=\"1\" class=\"dataframe\">\n",
              "  <thead>\n",
              "    <tr style=\"text-align: right;\">\n",
              "      <th>gender</th>\n",
              "      <th>female</th>\n",
              "      <th>male</th>\n",
              "      <th>All</th>\n",
              "    </tr>\n",
              "    <tr>\n",
              "      <th>survived</th>\n",
              "      <th></th>\n",
              "      <th></th>\n",
              "      <th></th>\n",
              "    </tr>\n",
              "  </thead>\n",
              "  <tbody>\n",
              "    <tr>\n",
              "      <th>0</th>\n",
              "      <td>0.058903</td>\n",
              "      <td>0.618940</td>\n",
              "      <td>0.677843</td>\n",
              "    </tr>\n",
              "    <tr>\n",
              "      <th>1</th>\n",
              "      <td>0.162664</td>\n",
              "      <td>0.159493</td>\n",
              "      <td>0.322157</td>\n",
              "    </tr>\n",
              "    <tr>\n",
              "      <th>All</th>\n",
              "      <td>0.221568</td>\n",
              "      <td>0.778432</td>\n",
              "      <td>1.000000</td>\n",
              "    </tr>\n",
              "  </tbody>\n",
              "</table>\n",
              "</div>"
            ],
            "text/plain": [
              "gender      female      male       All\n",
              "survived                              \n",
              "0         0.058903  0.618940  0.677843\n",
              "1         0.162664  0.159493  0.322157\n",
              "All       0.221568  0.778432  1.000000"
            ]
          },
          "execution_count": 8,
          "metadata": {},
          "output_type": "execute_result"
        }
      ],
      "source": [
        "pd.crosstab(df_titanic[\"survived\"], df_titanic[\"gender\"],\n",
        "            normalize=True, margins=True)"
      ]
    },
    {
      "cell_type": "markdown",
      "metadata": {
        "id": "xXEAUmrY5T4J"
      },
      "source": [
        "While the margins are useful for display purposes, they actually make computations more difficult, since it is easy to mix up which numbers correspond to joint probabilities and which ones correspond to marginal probabilities.\n",
        "\n",
        "Likewise, to obtain the marginal distribution of **survived**, we sum over the possible levels of **gender** (which is the variable along `axis=1`)."
      ]
    },
    {
      "cell_type": "code",
      "execution_count": 9,
      "metadata": {
        "colab": {
          "base_uri": "https://localhost:8080/"
        },
        "id": "73nrjS6q5T4K",
        "outputId": "a418ef77-3a18-4360-d283-a142b9ce67cc"
      },
      "outputs": [
        {
          "data": {
            "text/plain": [
              "survived\n",
              "0    0.677843\n",
              "1    0.322157\n",
              "dtype: float64"
            ]
          },
          "execution_count": 9,
          "metadata": {},
          "output_type": "execute_result"
        }
      ],
      "source": [
        "survived = joint_survived_gender.sum(axis=1)\n",
        "survived"
      ]
    },
    {
      "cell_type": "markdown",
      "metadata": {
        "id": "6_XMWBA_5T4M"
      },
      "source": [
        "We can check this answer by calculating the distribution of **survived** directly from the original data.\n"
      ]
    },
    {
      "cell_type": "code",
      "execution_count": 10,
      "metadata": {
        "colab": {
          "base_uri": "https://localhost:8080/"
        },
        "id": "iT5MSEBu5T4N",
        "outputId": "46de8f11-35e2-4993-a80d-3f00a2e39e7e"
      },
      "outputs": [
        {
          "data": {
            "text/plain": [
              "survived\n",
              "0    0.677843\n",
              "1    0.322157\n",
              "Name: proportion, dtype: float64"
            ]
          },
          "execution_count": 10,
          "metadata": {},
          "output_type": "execute_result"
        }
      ],
      "source": [
        "df_titanic[\"survived\"].value_counts(normalize=True)"
      ]
    },
    {
      "cell_type": "markdown",
      "metadata": {
        "id": "o3c5zVCp5T4P"
      },
      "source": [
        "## Conditional Distributions\n",
        "\n",
        "Let's take another look at the joint distribution of **survived** and **gender**."
      ]
    },
    {
      "cell_type": "code",
      "execution_count": 11,
      "metadata": {
        "colab": {
          "base_uri": "https://localhost:8080/",
          "height": 143
        },
        "id": "NnNzfDhl5T4Q",
        "outputId": "2bcddb8d-2f73-48f5-f747-4db4443a982c"
      },
      "outputs": [
        {
          "data": {
            "text/html": [
              "<div>\n",
              "<style scoped>\n",
              "    .dataframe tbody tr th:only-of-type {\n",
              "        vertical-align: middle;\n",
              "    }\n",
              "\n",
              "    .dataframe tbody tr th {\n",
              "        vertical-align: top;\n",
              "    }\n",
              "\n",
              "    .dataframe thead th {\n",
              "        text-align: right;\n",
              "    }\n",
              "</style>\n",
              "<table border=\"1\" class=\"dataframe\">\n",
              "  <thead>\n",
              "    <tr style=\"text-align: right;\">\n",
              "      <th>gender</th>\n",
              "      <th>female</th>\n",
              "      <th>male</th>\n",
              "    </tr>\n",
              "    <tr>\n",
              "      <th>survived</th>\n",
              "      <th></th>\n",
              "      <th></th>\n",
              "    </tr>\n",
              "  </thead>\n",
              "  <tbody>\n",
              "    <tr>\n",
              "      <th>0</th>\n",
              "      <td>0.058903</td>\n",
              "      <td>0.618940</td>\n",
              "    </tr>\n",
              "    <tr>\n",
              "      <th>1</th>\n",
              "      <td>0.162664</td>\n",
              "      <td>0.159493</td>\n",
              "    </tr>\n",
              "  </tbody>\n",
              "</table>\n",
              "</div>"
            ],
            "text/plain": [
              "gender      female      male\n",
              "survived                    \n",
              "0         0.058903  0.618940\n",
              "1         0.162664  0.159493"
            ]
          },
          "execution_count": 11,
          "metadata": {},
          "output_type": "execute_result"
        }
      ],
      "source": [
        "joint_survived_gender"
      ]
    },
    {
      "cell_type": "markdown",
      "metadata": {
        "id": "QAMzLIyS5T4S"
      },
      "source": [
        "From the joint distribution, it is tempting to conclude that females and males did not differ too much in their survival rates, since\n",
        "\n",
        "$$ P(\\text{female}, \\text{survived}) = 0.162664 $$\n",
        "\n",
        "is not too different from\n",
        "\n",
        "$$ P(\\text{male}, \\text{survived}) = 0.159493. $$\n",
        "\n",
        "This is because there were 359 women and 352 men who survived, out of 2207 passengers.\n",
        "\n",
        "But this is the wrong comparison. The joint proportions are affected by the baseline gender proportions, and over three-quarters of the people aboard the Titanic were men. $P(\\text{male}, \\text{survived})$ and $ P(\\text{female}, \\text{survived})$ should not even be close if men were just as likely to survive as women, simply because of the sheer number of men aboard."
      ]
    },
    {
      "cell_type": "markdown",
      "metadata": {
        "id": "p9x2uj995T4S"
      },
      "source": [
        "A better comparison is between the **conditional proportions**. We should compare\n",
        "\n",
        "$$ P(\\text{survived} | \\text{female}) $$\n",
        "\n",
        "to\n",
        "\n",
        "$$ P(\\text{survived} | \\text{male}). $$\n",
        "\n",
        "To calculate each conditional proportion, we simply divide the joint proportion by the appropriate marginal proportion. That is,\n",
        "\n",
        "\\begin{align}\n",
        "P(\\text{survived} | \\text{female}) = \\frac{P(\\text{female}, \\text{survived})}{P(\\text{female})} &= \\frac{0.162664}{0.221568} = .7341 \\\\\n",
        "P(\\text{survived} | \\text{male}) = \\frac{P(\\text{male}, \\text{survived})}{P(\\text{male})} &= \\frac{0.159493}{0.778432} = .2049\n",
        "\\end{align}\n",
        "\n",
        "The conditional proportions expose the stark difference in survival rates. One way to think about conditional proportions is that they _adjust_ for the baseline gender proportions. By dividing by $P(\\text{male})$ and $P(\\text{female})$, we adjust for the fact that there were more men and fewer women on the Titanic, thus enabling an apples-to-apples comparison."
      ]
    },
    {
      "cell_type": "markdown",
      "metadata": {
        "id": "FxUNMw_Q5T4T"
      },
      "source": [
        "In code, this can be achieved by dividing the joint distribution by the marginal distribution (of **gender**). However, we have to be careful:\n",
        "\n",
        "- The joint distribution is a two-dimensional array. It is stored as a `DataFrame`.\n",
        "- The marginal distribution (of **gender**) is a one-dimensional array. It is stored as a `Series`.\n",
        "\n",
        "How is it possible to divide a two-dimensional object by a one-dimensional object? Only if we _broadcast_ the one-dimensional object over the other dimension. A toy example is illustrated below.\n",
        "\n",
        "\\begin{align}\n",
        "\\begin{bmatrix} 1 & 2 \\\\ 3 & 4 \\\\ 5 & 6 \\end{bmatrix} \\Big/ \\begin{bmatrix} 7 \\\\ 8 \\end{bmatrix} &= \\begin{bmatrix} 1 & 2 \\\\ 3 & 4 \\\\ 5 & 6 \\end{bmatrix}  \\Big/ \\begin{bmatrix} 7 & 8 \\\\ 7 & 8 \\\\ 7 & 8 \\end{bmatrix} \\\\\n",
        "&= \\begin{bmatrix} 1/7 & 2/8 \\\\ 3/7 & 4/8 \\\\ 5/7 & 6/8 \\end{bmatrix}\n",
        "\\end{align}"
      ]
    },
    {
      "cell_type": "markdown",
      "metadata": {},
      "source": [
        "To do this in `pandas`, we use the `.divide()` method, specifying the dimension on which to align the `Series` with the `DataFrame`. Since **gender** is on `axis=1` of `joint_survived_gender`, we align the `DataFrame` and `Series` along `axis=1`."
      ]
    },
    {
      "cell_type": "code",
      "execution_count": 12,
      "metadata": {
        "colab": {
          "base_uri": "https://localhost:8080/",
          "height": 143
        },
        "id": "KP75UNxB5T4U",
        "outputId": "e45b83ac-be04-429c-c012-f7ca3826bccd"
      },
      "outputs": [
        {
          "data": {
            "text/html": [
              "<div>\n",
              "<style scoped>\n",
              "    .dataframe tbody tr th:only-of-type {\n",
              "        vertical-align: middle;\n",
              "    }\n",
              "\n",
              "    .dataframe tbody tr th {\n",
              "        vertical-align: top;\n",
              "    }\n",
              "\n",
              "    .dataframe thead th {\n",
              "        text-align: right;\n",
              "    }\n",
              "</style>\n",
              "<table border=\"1\" class=\"dataframe\">\n",
              "  <thead>\n",
              "    <tr style=\"text-align: right;\">\n",
              "      <th>gender</th>\n",
              "      <th>female</th>\n",
              "      <th>male</th>\n",
              "    </tr>\n",
              "    <tr>\n",
              "      <th>survived</th>\n",
              "      <th></th>\n",
              "      <th></th>\n",
              "    </tr>\n",
              "  </thead>\n",
              "  <tbody>\n",
              "    <tr>\n",
              "      <th>0</th>\n",
              "      <td>0.265849</td>\n",
              "      <td>0.795111</td>\n",
              "    </tr>\n",
              "    <tr>\n",
              "      <th>1</th>\n",
              "      <td>0.734151</td>\n",
              "      <td>0.204889</td>\n",
              "    </tr>\n",
              "  </tbody>\n",
              "</table>\n",
              "</div>"
            ],
            "text/plain": [
              "gender      female      male\n",
              "survived                    \n",
              "0         0.265849  0.795111\n",
              "1         0.734151  0.204889"
            ]
          },
          "execution_count": 12,
          "metadata": {},
          "output_type": "execute_result"
        }
      ],
      "source": [
        "cond_survived_given_gender = joint_survived_gender.divide(marginal_gender, axis=1)\n",
        "# In this case, joint_survived_gender / gender would also haved worked,\n",
        "# but better to play it safe and be explicit about the axis.\n",
        "\n",
        "cond_survived_given_gender"
      ]
    },
    {
      "cell_type": "markdown",
      "metadata": {
        "id": "m2qHa0pW5T4W"
      },
      "source": [
        "Every proportion in this table represents a conditional proportion of survival status given gender. So from the table, we can read that\n",
        "\n",
        "$$ P(\\text{survived} | \\text{female}) = 0.734151. $$\n",
        "\n",
        "Notice that each column sums to $1.0$---as it must, since given the information that a person was female, there are only two possibilities: they either survived or died.\n",
        "\n",
        "In other words, we have a distribution of **survived** for *each* level of **gender**. We might wish to compare these two distributions. When we call `.plot.bar()` on the `DataFrame`, it will plot the values in each column as a set of bars with its own color."
      ]
    },
    {
      "cell_type": "code",
      "execution_count": 13,
      "metadata": {
        "colab": {
          "base_uri": "https://localhost:8080/",
          "height": 461
        },
        "id": "3M5esSwg5T4X",
        "outputId": "3e6e3a63-9e13-45f3-9f3c-2cc3ebfb6c7e"
      },
      "outputs": [
        {
          "data": {
            "text/plain": [
              "<Axes: xlabel='survived'>"
            ]
          },
          "execution_count": 13,
          "metadata": {},
          "output_type": "execute_result"
        },
        {
          "data": {
            "image/png": "[encoded data removed]",
            "text/plain": [
              "<Figure size 640x480 with 1 Axes>"
            ]
          },
          "metadata": {},
          "output_type": "display_data"
        }
      ],
      "source": [
        "cond_survived_given_gender.plot.bar()"
      ]
    },
    {
      "cell_type": "markdown",
      "metadata": {
        "id": "9aekQnQq5T4a"
      },
      "source": [
        "A different way to visualize a conditional distribution is to use a stacked bar graph. Here, we want one bar for females and another for males, each one divided in proportion to the survival rates for that gender. First, let's take a look at the desired graph."
      ]
    },
    {
      "cell_type": "code",
      "execution_count": 14,
      "metadata": {
        "colab": {
          "base_uri": "https://localhost:8080/",
          "height": 500
        },
        "id": "uinqREkO5T4b",
        "outputId": "422cc64c-bba9-40a3-d652-23aa9d0c7dd1"
      },
      "outputs": [
        {
          "data": {
            "text/plain": [
              "<Axes: xlabel='gender'>"
            ]
          },
          "execution_count": 14,
          "metadata": {},
          "output_type": "execute_result"
        },
        {
          "data": {
            "image/png": "[encoded data removed]",
            "text/plain": [
              "<Figure size 640x480 with 1 Axes>"
            ]
          },
          "metadata": {},
          "output_type": "display_data"
        }
      ],
      "source": [
        "cond_survived_given_gender.T.plot.bar(stacked=True)"
      ]
    },
    {
      "cell_type": "markdown",
      "metadata": {
        "id": "6jL0QjI_5T4g"
      },
      "source": [
        "Now, let's unpack the code that generated this graphic. Recall that `.plot.bar()` plots each column of a `DataFrame` in a different color. Here we want different colors for each level of **survived**, so we need to swap the rows and columns of `cond_survived_gender`. In other words, we need the _transpose_ of the `DataFrame`, which is accomplished using `.T`."
      ]
    },
    {
      "cell_type": "code",
      "execution_count": 15,
      "metadata": {
        "colab": {
          "base_uri": "https://localhost:8080/",
          "height": 143
        },
        "id": "Mo-3NPxk5T4h",
        "outputId": "6f1513db-809e-49b2-e9cf-45d34a1bfb98"
      },
      "outputs": [
        {
          "data": {
            "text/html": [
              "<div>\n",
              "<style scoped>\n",
              "    .dataframe tbody tr th:only-of-type {\n",
              "        vertical-align: middle;\n",
              "    }\n",
              "\n",
              "    .dataframe tbody tr th {\n",
              "        vertical-align: top;\n",
              "    }\n",
              "\n",
              "    .dataframe thead th {\n",
              "        text-align: right;\n",
              "    }\n",
              "</style>\n",
              "<table border=\"1\" class=\"dataframe\">\n",
              "  <thead>\n",
              "    <tr style=\"text-align: right;\">\n",
              "      <th>survived</th>\n",
              "      <th>0</th>\n",
              "      <th>1</th>\n",
              "    </tr>\n",
              "    <tr>\n",
              "      <th>gender</th>\n",
              "      <th></th>\n",
              "      <th></th>\n",
              "    </tr>\n",
              "  </thead>\n",
              "  <tbody>\n",
              "    <tr>\n",
              "      <th>female</th>\n",
              "      <td>0.265849</td>\n",
              "      <td>0.734151</td>\n",
              "    </tr>\n",
              "    <tr>\n",
              "      <th>male</th>\n",
              "      <td>0.795111</td>\n",
              "      <td>0.204889</td>\n",
              "    </tr>\n",
              "  </tbody>\n",
              "</table>\n",
              "</div>"
            ],
            "text/plain": [
              "survived         0         1\n",
              "gender                      \n",
              "female    0.265849  0.734151\n",
              "male      0.795111  0.204889"
            ]
          },
          "execution_count": 15,
          "metadata": {},
          "output_type": "execute_result"
        }
      ],
      "source": [
        "cond_survived_given_gender.T"
      ]
    },
    {
      "cell_type": "markdown",
      "metadata": {
        "id": "0WdggwtW5T4j"
      },
      "source": [
        "When we call `.plot.bar()` on this transposed `DataFrame`, with `stacked=True`, we obtain the stacked bar graph above."
      ]
    },
    {
      "cell_type": "markdown",
      "metadata": {
        "id": "pHKC8fabyg37"
      },
      "source": [
        "What if we want to change the order of the stacking, so that 1 (survived) is on the bottom? We can sort the \"survived\" index of the transposed data frame to be in descending order (`ascending = False`) before plotting. \"Survived\" is represented by the columns of the transposed data frame, so we sort along `axis = 1`."
      ]
    },
    {
      "cell_type": "code",
      "execution_count": 16,
      "metadata": {
        "colab": {
          "base_uri": "https://localhost:8080/",
          "height": 143
        },
        "id": "0RZzvf69ywvP",
        "outputId": "1e3ae063-1690-4705-ef9d-afb7ef972287"
      },
      "outputs": [
        {
          "data": {
            "text/html": [
              "<div>\n",
              "<style scoped>\n",
              "    .dataframe tbody tr th:only-of-type {\n",
              "        vertical-align: middle;\n",
              "    }\n",
              "\n",
              "    .dataframe tbody tr th {\n",
              "        vertical-align: top;\n",
              "    }\n",
              "\n",
              "    .dataframe thead th {\n",
              "        text-align: right;\n",
              "    }\n",
              "</style>\n",
              "<table border=\"1\" class=\"dataframe\">\n",
              "  <thead>\n",
              "    <tr style=\"text-align: right;\">\n",
              "      <th>survived</th>\n",
              "      <th>1</th>\n",
              "      <th>0</th>\n",
              "    </tr>\n",
              "    <tr>\n",
              "      <th>gender</th>\n",
              "      <th></th>\n",
              "      <th></th>\n",
              "    </tr>\n",
              "  </thead>\n",
              "  <tbody>\n",
              "    <tr>\n",
              "      <th>female</th>\n",
              "      <td>0.734151</td>\n",
              "      <td>0.265849</td>\n",
              "    </tr>\n",
              "    <tr>\n",
              "      <th>male</th>\n",
              "      <td>0.204889</td>\n",
              "      <td>0.795111</td>\n",
              "    </tr>\n",
              "  </tbody>\n",
              "</table>\n",
              "</div>"
            ],
            "text/plain": [
              "survived         1         0\n",
              "gender                      \n",
              "female    0.734151  0.265849\n",
              "male      0.204889  0.795111"
            ]
          },
          "execution_count": 16,
          "metadata": {},
          "output_type": "execute_result"
        }
      ],
      "source": [
        "cond_survived_given_gender.T.sort_index(axis = 1, ascending=False)"
      ]
    },
    {
      "cell_type": "code",
      "execution_count": 17,
      "metadata": {
        "colab": {
          "base_uri": "https://localhost:8080/",
          "height": 500
        },
        "id": "Av_M_PflxuXO",
        "outputId": "c40ee696-6ed3-4e5d-b753-e75d6ccffc17"
      },
      "outputs": [
        {
          "data": {
            "text/plain": [
              "<Axes: xlabel='gender'>"
            ]
          },
          "execution_count": 17,
          "metadata": {},
          "output_type": "execute_result"
        },
        {
          "data": {
            "image/png": "[encoded data removed]",
            "text/plain": [
              "<Figure size 640x480 with 1 Axes>"
            ]
          },
          "metadata": {},
          "output_type": "display_data"
        }
      ],
      "source": [
        "cond_survived_given_gender.T.sort_index(axis = 1, ascending=False).plot.bar(stacked=True)"
      ]
    },
    {
      "cell_type": "markdown",
      "metadata": {
        "id": "P3k8BVALo1-z"
      },
      "source": [
        "## Communicating Differences in Proportions"
      ]
    },
    {
      "cell_type": "markdown",
      "metadata": {
        "id": "yfcKxLtvo9bB"
      },
      "source": [
        "We see that the proportion of females onboard who survived is 0.734, and the proportion of males on board who survived is 0.204. In percentage terms: 73.4% of females onboard survived, and 20.4% of males onboard survived. How do we report the difference between these two values? There are a number of ways:\n",
        "\n",
        "1. As an _additive change_: \"Females were\n",
        "$$ 73.4\\% - 20.4\\% = 53.0 \\text{ percentage points} $$\n",
        "more likely to survive than males.\"\n",
        "2. As a _relative change_ (often called \"relative risk\"): \"Females were\n",
        "$$ 73.4\\% \\big/ 20.4\\% = 3.60 \\text{ times} $$\n",
        "more likely to survive than males.\"\n",
        "3. We can translate a relative changes to a *percentage change* by subtracting $1$ and multiplying by $100\\%$. So we can rephrase the above as: \"Females were\n",
        "$$ 100\\% \\times (3.60 - 1.00) = 260\\% $$\n",
        "more likely to survive than males.\"\n",
        "4. As an _odds ratio_: \"The odds of a female surviving was\n",
        "$$ \\frac{73.4\\% \\big/ (100\\% - 73.4\\%)}{20.4\\% \\big/ (100\\% - 20.4\\%)} = 10.8 \\text{ times} $$\n",
        "greater than the odds of a male surviving.\"\n",
        "\n",
        "Note that additive changes and percent changes should be compared to a baseline of 0.0 (and can be negative), while relative changes and odds ratios should be compared to a baseline of 1.0 (and cannot be negative).\n",
        "\n",
        "Watch out: it is incorrect to say that females are $53.0\\%$ more likely to survive than males, since the percentage change is $260\\%$. An additive change should always be reported in units of \"percentage points\"."
      ]
    }
  ],
  "metadata": {
    "colab": {
      "provenance": []
    },
    "kernelspec": {
      "display_name": "Python 3",
      "language": "python",
      "name": "python3"
    },
    "language_info": {
      "codemirror_mode": {
        "name": "ipython",
        "version": 3
      },
      "file_extension": ".py",
      "mimetype": "text/x-python",
      "name": "python",
      "nbconvert_exporter": "python",
      "pygments_lexer": "ipython3",
      "version": "3.9.6"
    }
  },
  "nbformat": 4,
  "nbformat_minor": 0
}
