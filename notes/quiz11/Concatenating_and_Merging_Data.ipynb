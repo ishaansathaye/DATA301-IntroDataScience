{
  "nbformat": 4,
  "nbformat_minor": 0,
  "metadata": {
    "kernelspec": {
      "display_name": "Python 3",
      "language": "python",
      "name": "python3"
    },
    "language_info": {
      "codemirror_mode": {
        "name": "ipython",
        "version": 3
      },
      "file_extension": ".py",
      "mimetype": "text/x-python",
      "name": "python",
      "nbconvert_exporter": "python",
      "pygments_lexer": "ipython3",
      "version": "3.6.8"
    },
    "colab": {
      "provenance": []
    }
  },
  "cells": [
    {
      "cell_type": "markdown",
      "metadata": {
        "id": "GmvB1IjdCmt_"
      },
      "source": [
        "# Concatenating and Merging Data\n",
        "\n",
        "The information you need is often spread across multiple data sets, so you will typically need to combine multiple data sets into one. Now we'll discuss strategies for combining information from multiple (tabular) data sets.\n",
        "\n",
        "As a working example, we will use a data set of baby names collected by the Social Security Administration. Each data set in this collection contains the names of all babies born in the United States in a particular year. This data is [publicly available](https://www.ssa.gov/OACT/babynames/limits.html), and a copy has been made available at https://dlsun.github.io/pods/data/names/."
      ]
    },
    {
      "cell_type": "markdown",
      "metadata": {
        "id": "meUogYiGCmuD"
      },
      "source": [
        "## Concatenation\n",
        "\n",
        "Sometimes, the _rows_ of data are spread across multiple files, and we want to combine the rows into a single data set. The process of combining rows from different data sets is known as _concatenation_.\n",
        "\n",
        "Visually, to concatenate two `DataFrame`s, we simply stack them on top of one another.\n",
        "\n",
        "![](https://github.com/dlsun/pods/blob/master/09-Joining-Tabular-Data/concatenate.png?raw=1)\n",
        "\n",
        "For example, suppose we want to understand how the popularity of different names evolved between 1995 and 2015. The 1995 names and the 2015 names are stored in two different files: `yob1995.txt` and `yob2015.txt`, respectively. To carry out this analysis, we will need to combine these two data sets into one.\n",
        "\n",
        "First we read in the two data sets separately. Note that the files do not have column names, so we specify `header=None` and identify the column names with `names` in `read_csv`."
      ]
    },
    {
      "cell_type": "code",
      "metadata": {
        "id": "PNCQskTZCmuE"
      },
      "source": [
        "import pandas as pd\n",
        "\n",
        "data_dir = \"http://dlsun.github.io/pods/data/names/\"\n",
        "names1995 = pd.read_csv(data_dir + \"yob1995.txt\",\n",
        "                        header=None,\n",
        "                        names=[\"Name\", \"Sex\", \"Count\"])\n",
        "names1995"
      ],
      "execution_count": null,
      "outputs": []
    },
    {
      "cell_type": "code",
      "metadata": {
        "id": "r5RTnIu1CmuJ"
      },
      "source": [
        "names2015 = pd.read_csv(data_dir + \"yob2015.txt\",\n",
        "                        header=None,\n",
        "                        names=[\"Name\", \"Sex\", \"Count\"])\n",
        "names2015"
      ],
      "execution_count": null,
      "outputs": []
    },
    {
      "cell_type": "markdown",
      "metadata": {
        "id": "b91fXbntCmuN"
      },
      "source": [
        "To concatenate the two, we use the `pd.concat()` function, which accepts a list of `pandas` objects (`DataFrames` or `Series`) and concatenates them."
      ]
    },
    {
      "cell_type": "code",
      "metadata": {
        "id": "MOetC2OHCmuO"
      },
      "source": [
        "pd.concat([names1995, names2015])"
      ],
      "execution_count": null,
      "outputs": []
    },
    {
      "cell_type": "markdown",
      "metadata": {
        "id": "puqqype0CmuU"
      },
      "source": [
        "There are two problems with the combined data set above.\n",
        "\n",
        "1. There is no longer any way to distinguish the 1995 data from the 2015 data. To fix this, we can add a **Year** column to each `DataFrame` before we concatenate.\n",
        "2. The indexes from the original `DataFrame`s are preserved in the concatenated `DataFrame`. (To see this, observe that the last index in the `DataFrame` is around 33000, which corresponds to the number of rows in `names2015`, even though there are around 59000 rows in the `DataFrame`.) That means that there are two rows with an index of 0, two rows with an index of 1, and so on. To force `pandas` to generate a completely new index for this `DataFrame`, ignoring the indices from the original `DataFrame`s, we specify `ignore_index=True`."
      ]
    },
    {
      "cell_type": "code",
      "metadata": {
        "id": "INqjk9KWCmuW"
      },
      "source": [
        "names1995[\"Year\"] = 1995\n",
        "names2015[\"Year\"] = 2015\n",
        "names = pd.concat([names1995, names2015], ignore_index=True)\n",
        "names"
      ],
      "execution_count": null,
      "outputs": []
    },
    {
      "cell_type": "markdown",
      "metadata": {
        "id": "s2QZwChGCmua"
      },
      "source": [
        "Now this is a `DataFrame` that we can use!\n",
        "\n",
        "Notice that the data is currently in tabular form, with one row per combination of **Name**, **Sex**, and **Year**. It makes sense to make these variables the index of our `DataFrame`."
      ]
    },
    {
      "cell_type": "code",
      "metadata": {
        "id": "YHYMdUTMCmub"
      },
      "source": [
        "names.set_index([\"Name\", \"Sex\", \"Year\"], inplace=True)\n",
        "names"
      ],
      "execution_count": null,
      "outputs": []
    },
    {
      "cell_type": "markdown",
      "metadata": {
        "id": "1e2LCfLbCmuf"
      },
      "source": [
        "We may want to show the counts for the two years side by side. In other words, we want to pivot the data --- from \"long\" to \"wide\" --- so that **Name** and **Sex** are along one axis, and **Year** is along the other. To do this, we can `.unstack()` **Year** from the index. (The Panda `pivot` command is similar.)"
      ]
    },
    {
      "cell_type": "code",
      "metadata": {
        "id": "rejE3GYrCmuh"
      },
      "source": [
        "names.unstack(\"Year\")"
      ],
      "execution_count": null,
      "outputs": []
    },
    {
      "cell_type": "markdown",
      "metadata": {
        "id": "w2hs0eziCmuk"
      },
      "source": [
        "The missing values (`NaN`) simply indicate that there were no children born in the United States with that name in that year. In this case, it makes sense to fill these `NaN` values with 0. (Technically, if you read [the documentation](https://www.ssa.gov/OACT/babynames/limits.html), it actually means that fewer than 5 children were born with that name in that year.)"
      ]
    },
    {
      "cell_type": "code",
      "source": [
        "names.unstack(\"Year\").fillna(0)"
      ],
      "metadata": {
        "id": "js0E5JmENko_"
      },
      "execution_count": null,
      "outputs": []
    },
    {
      "cell_type": "markdown",
      "metadata": {
        "id": "d0cflEdjCmup"
      },
      "source": [
        "## Merging (a.k.a. Joining)\n",
        "\n",
        "More commonly, the data sets that we want to combine actually contain different information about the same observations. In other words, instead of stacking the `DataFrame`s on top of each other, as in concatenation, we want to stack them next to each other. The process of combining columns or variables from different data sets is known as _merging_ or _joining_.\n",
        "\n",
        "![](https://github.com/dlsun/pods/blob/master/09-Joining-Tabular-Data/merge.png?raw=1)\n",
        "\n",
        "The observations may be in a different order in the two data sets, so merging is not as simple as placing the two `DataFrame`s side-by-side. For example, suppose that we had two `DataFrame`s about the Beatles, one containing the year each member was born and another containing the years that each was active in the band. If we wanted to calculate how old each Beatle was when he joined the band, we would have to merge the two `DataFrame`s. (In the resulting `DataFrame`, we can simply subtract the **Born** column from the **Joined** column.) The process is illustrated below.\n",
        "\n",
        "![](https://github.com/dlsun/pods/blob/master/09-Joining-Tabular-Data/one-to-one.png?raw=1)\n",
        "\n",
        "In other words, _merging_ is an operation on two `DataFrame`s that returns a third `DataFrame`. By convention, the first `DataFrame` is referred to as the one on the \"left\", while the second `DataFrame` is the one on the \"right\"."
      ]
    },
    {
      "cell_type": "markdown",
      "metadata": {
        "id": "Iy4IDahQCmuq"
      },
      "source": [
        "This naming convention is reflected in the syntax of the `.merge()` function in `pandas`. In the code below, the \"left\" `DataFrame`, `names1995`, is quite literally on the left in the code, while the \"right\" `DataFrame`, `names2015`, is to the right. We also specify the variables to match across the two `DataFrame`s."
      ]
    },
    {
      "cell_type": "code",
      "metadata": {
        "id": "Mh1i5F1hCmur"
      },
      "source": [
        "names1995.merge(names2015, on=[\"Name\", \"Sex\"])"
      ],
      "execution_count": null,
      "outputs": []
    },
    {
      "cell_type": "markdown",
      "metadata": {
        "id": "PjooEX1xCmuu"
      },
      "source": [
        "The variables that we joined on (**Name** and **Sex**) appear once in the final `DataFrame`. The variable **Count**, which we did not join on, appears twice---since there was a column called **Count** in both of the original `DataFrame`s. Notice that `pandas` automatically appended the suffix **_x** to the name of the variable from the left `DataFrame` and **_y** to the one from the right `DataFrame`. We can customize the suffixes by specifying the `suffixes=` parameter."
      ]
    },
    {
      "cell_type": "code",
      "metadata": {
        "id": "4LtY5K8UCmuv"
      },
      "source": [
        "names1995.merge(names2015, on=[\"Name\", \"Sex\"], suffixes=(\"1995\", \"2015\"))"
      ],
      "execution_count": null,
      "outputs": []
    },
    {
      "cell_type": "markdown",
      "metadata": {
        "id": "TVN9fX1QCmuy"
      },
      "source": [
        "In the code above, we assumed that the columns that we joined on had the same names in the two data sets. What if they had different names? For example, suppose the variable had been called **Sex** in one data set and **Assigned Sex** in the other. We can specify which variables to use from the left and right data sets using the `left_on=` and `right_on=` parameters."
      ]
    },
    {
      "cell_type": "code",
      "metadata": {
        "id": "CJeLyugECmuz"
      },
      "source": [
        "# Create new DataFrames where the column names are different\n",
        "names2015_ = names2015.rename({\"Sex\": \"Assigned Sex\"}, axis=1)\n",
        "\n",
        "# This is how you merge them.\n",
        "names1995.merge(\n",
        "    names2015_,\n",
        "    left_on=(\"Name\", \"Sex\"),\n",
        "    right_on=(\"Name\", \"Assigned Sex\")\n",
        ")"
      ],
      "execution_count": null,
      "outputs": []
    },
    {
      "cell_type": "markdown",
      "metadata": {
        "id": "IT1upcM2Cmu4"
      },
      "source": [
        "What if we want to join on \"variables\" that are in the index of the `DataFrame`? One solution is to call `.reset_index()` to force them to be columns. However, we can also specify `left_index=True` or `right_index=True` to force the index to be used instead."
      ]
    },
    {
      "cell_type": "code",
      "metadata": {
        "id": "5EuITRe7Cmu4"
      },
      "source": [
        "# Create a DataFrame where \"Name\" and \"Sex\" are in the index\n",
        "names1995_ = names1995.set_index([\"Name\", \"Sex\"])\n",
        "\n",
        "names1995_.merge(names2015_, left_index=True, right_on=(\"Name\", \"Assigned Sex\"))"
      ],
      "execution_count": null,
      "outputs": []
    },
    {
      "cell_type": "markdown",
      "metadata": {
        "id": "btOSawAyCmu8"
      },
      "source": [
        "This only worked because the left `DataFrame` had an index with two levels, which were joined to two columns from the right `DataFrame`."
      ]
    },
    {
      "cell_type": "markdown",
      "metadata": {
        "id": "z-L8YuokCmu9"
      },
      "source": [
        "## One-to-One and Many-to-One Relationships\n",
        "\n",
        "In the example above, there was at most one combination of **Name** and **Sex** in the 2015 data set for each combination of **Name** and **Sex** in the 1995 data set. These two data sets are thus said to have a _one-to-one relationship_. Another example of two data sets with a one-to-one relationship is the Beatles example from above. Each Beatle appears in each data set exactly once, so the name is uniquely identifying.\n",
        "\n",
        "![](https://github.com/dlsun/pods/blob/master/09-Joining-Tabular-Data/one-to-one.png?raw=1)\n",
        "\n",
        "However, two data sets need not have a one-to-one relationship. For example, a data set that specifies the instrument(s) that each Beatle played could potentially feature each Beatle multiple times if they played multiple instruments. If we joined this data set to the data containing the years that each Beatle was active, then each row in that data set could potentially be mapped to multiple rows in the \"instruments\" data set. These two data sets are said to have a _many-to-one relationship_.\n",
        "\n",
        "![](https://github.com/dlsun/pods/blob/master/09-Joining-Tabular-Data/many-to-one.png?raw=1)\n",
        "\n",
        "While many-to-one joins are common, one must exercise caution when analyzing the resulting `DataFrame`. For example, it would not be valid to use this `DataFrame` to determine how many Beatles quit in 1969, unless we intended to double-count John Lennon and triple-count Paul McCartney."
      ]
    },
    {
      "cell_type": "markdown",
      "metadata": {
        "id": "wdhmIEfyCmu-"
      },
      "source": [
        "## Many-to-Many Relationships: A Cautionary Tale\n",
        "\n",
        "It is also possible for multiple rows in the left `DataFrame` to match multiple rows in the right `DataFrame`. In this case, the two data sets are said to have a _many-to-many relationship_. Many-to-many joins can lead to misleading analyses, so it is important to exercise caution when working with many-to-many relationships.\n",
        "\n",
        "For example, in the baby names data set, the **Name** variable is not uniquely identifying. For example, there are both males and females with the name \"Jessie\"."
      ]
    },
    {
      "cell_type": "code",
      "metadata": {
        "id": "j2jwP3KFCmu_"
      },
      "source": [
        "jessie1995 = names1995[names1995[\"Name\"] == \"Jessie\"]\n",
        "jessie1995"
      ],
      "execution_count": null,
      "outputs": []
    },
    {
      "cell_type": "code",
      "metadata": {
        "id": "7ienDvbLCmvC"
      },
      "source": [
        "jessie2015 = names2015[names2015[\"Name\"] == \"Jessie\"]\n",
        "jessie2015"
      ],
      "execution_count": null,
      "outputs": []
    },
    {
      "cell_type": "markdown",
      "metadata": {
        "id": "NcmLd4zMCmvF"
      },
      "source": [
        "If we join these two `DataFrame`s on **Name**, then we will end up with a many-to-many join, since each \"Jessie\" row in the 1995 data will be paired with each \"Jessie\" row in the 2015 data."
      ]
    },
    {
      "cell_type": "code",
      "metadata": {
        "id": "zHT6kTGkCmvG"
      },
      "source": [
        "jessie1995.merge(jessie2015, on=[\"Name\"])"
      ],
      "execution_count": null,
      "outputs": []
    },
    {
      "cell_type": "markdown",
      "metadata": {
        "id": "6PoCEYtlCmvJ"
      },
      "source": [
        "Notice that Jessie ends up appearing four times:\n",
        "\n",
        "- Female Jessies from 1995 are matched with female Jessies from 2015. (Good!)\n",
        "- Male Jessies from 1995 are matched with male Jessies from 2015. (Good!)\n",
        "- Female Jessies from 1995 are matched with male Jessies from 2015. (This is perhaps undesirable.)\n",
        "- Male Jessies from 1995 are matched with female Jessies from 2015. (Also unexpected and undesirable.)\n",
        "\n",
        "If we had used a data set like this to determine the number of Jessies in 1995, then we would end up with the wrong answer, since we would have double-counted both female and male Jessies as a result of the many-to-many join. This is why it is important to exercise caution when working with (potential) many-to-many relationships."
      ]
    }
  ]
}