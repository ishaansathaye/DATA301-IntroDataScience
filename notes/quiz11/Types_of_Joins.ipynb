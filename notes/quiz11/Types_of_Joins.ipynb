{
  "cells": [
    {
      "cell_type": "markdown",
      "metadata": {
        "id": "K4FOwVwpWkPD"
      },
      "source": [
        "# Types of Joins\n",
        "\n",
        "We have seen how to _merge_ (or _join_) two data sets by matching on certain variables. But what happens when a row in one `DataFrame` has no match in the other?\n",
        "\n",
        "First, let's investigate how _pandas_ handles this situation by default. The name \"Nevaeh\", which is \"heaven\" spelled backwards, gained popularity after Sonny Sandoval of the band P.O.D. gave his daughter the name in 2000. Let's look at how common this name was five years earlier and five years after."
      ]
    },
    {
      "cell_type": "code",
      "execution_count": 1,
      "metadata": {
        "id": "XZciltxCWkPH"
      },
      "outputs": [],
      "source": [
        "import pandas as pd\n",
        "\n",
        "data_dir = \"http://dlsun.github.io/pods/data/names/\"\n",
        "\n",
        "names1995 = pd.read_csv(data_dir + \"yob1995.txt\",\n",
        "                        header=None, names=[\"Name\", \"Sex\", \"Count\"])\n",
        "names2005 = pd.read_csv(data_dir + \"yob2005.txt\",\n",
        "                        header=None, names=[\"Name\", \"Sex\", \"Count\"])"
      ]
    },
    {
      "cell_type": "code",
      "execution_count": 2,
      "metadata": {
        "id": "e_uGW6jOWkPM"
      },
      "outputs": [
        {
          "data": {
            "text/html": [
              "<div>\n",
              "<style scoped>\n",
              "    .dataframe tbody tr th:only-of-type {\n",
              "        vertical-align: middle;\n",
              "    }\n",
              "\n",
              "    .dataframe tbody tr th {\n",
              "        vertical-align: top;\n",
              "    }\n",
              "\n",
              "    .dataframe thead th {\n",
              "        text-align: right;\n",
              "    }\n",
              "</style>\n",
              "<table border=\"1\" class=\"dataframe\">\n",
              "  <thead>\n",
              "    <tr style=\"text-align: right;\">\n",
              "      <th></th>\n",
              "      <th>Name</th>\n",
              "      <th>Sex</th>\n",
              "      <th>Count</th>\n",
              "    </tr>\n",
              "  </thead>\n",
              "  <tbody>\n",
              "  </tbody>\n",
              "</table>\n",
              "</div>"
            ],
            "text/plain": [
              "Empty DataFrame\n",
              "Columns: [Name, Sex, Count]\n",
              "Index: []"
            ]
          },
          "execution_count": 2,
          "metadata": {},
          "output_type": "execute_result"
        }
      ],
      "source": [
        "names1995[names1995.Name == \"Nevaeh\"]"
      ]
    },
    {
      "cell_type": "code",
      "execution_count": 3,
      "metadata": {
        "id": "H1QGLvAVWkPR"
      },
      "outputs": [
        {
          "data": {
            "text/html": [
              "<div>\n",
              "<style scoped>\n",
              "    .dataframe tbody tr th:only-of-type {\n",
              "        vertical-align: middle;\n",
              "    }\n",
              "\n",
              "    .dataframe tbody tr th {\n",
              "        vertical-align: top;\n",
              "    }\n",
              "\n",
              "    .dataframe thead th {\n",
              "        text-align: right;\n",
              "    }\n",
              "</style>\n",
              "<table border=\"1\" class=\"dataframe\">\n",
              "  <thead>\n",
              "    <tr style=\"text-align: right;\">\n",
              "      <th></th>\n",
              "      <th>Name</th>\n",
              "      <th>Sex</th>\n",
              "      <th>Count</th>\n",
              "    </tr>\n",
              "  </thead>\n",
              "  <tbody>\n",
              "    <tr>\n",
              "      <th>68</th>\n",
              "      <td>Nevaeh</td>\n",
              "      <td>F</td>\n",
              "      <td>4552</td>\n",
              "    </tr>\n",
              "    <tr>\n",
              "      <th>21353</th>\n",
              "      <td>Nevaeh</td>\n",
              "      <td>M</td>\n",
              "      <td>56</td>\n",
              "    </tr>\n",
              "  </tbody>\n",
              "</table>\n",
              "</div>"
            ],
            "text/plain": [
              "         Name Sex  Count\n",
              "68     Nevaeh   F   4552\n",
              "21353  Nevaeh   M     56"
            ]
          },
          "execution_count": 3,
          "metadata": {},
          "output_type": "execute_result"
        }
      ],
      "source": [
        "names2005[names2005.Name == \"Nevaeh\"]"
      ]
    },
    {
      "cell_type": "markdown",
      "metadata": {
        "id": "uAtPb7fyWkPV"
      },
      "source": [
        "In 1995, there were no girls (at least fewer than 5) named Nevaeh; just eight years later, there were over 4500 girls (and even 56 boys) with the name. It seems like Sonny Sandoval had a huge effect.\n",
        "\n",
        "What happens to the name \"Nevaeh\" when we merge the two data sets?"
      ]
    },
    {
      "cell_type": "code",
      "execution_count": 4,
      "metadata": {
        "id": "DFml5BTYWkPX"
      },
      "outputs": [
        {
          "data": {
            "text/html": [
              "<div>\n",
              "<style scoped>\n",
              "    .dataframe tbody tr th:only-of-type {\n",
              "        vertical-align: middle;\n",
              "    }\n",
              "\n",
              "    .dataframe tbody tr th {\n",
              "        vertical-align: top;\n",
              "    }\n",
              "\n",
              "    .dataframe thead th {\n",
              "        text-align: right;\n",
              "    }\n",
              "</style>\n",
              "<table border=\"1\" class=\"dataframe\">\n",
              "  <thead>\n",
              "    <tr style=\"text-align: right;\">\n",
              "      <th></th>\n",
              "      <th>Name</th>\n",
              "      <th>Sex</th>\n",
              "      <th>Count_x</th>\n",
              "      <th>Count_y</th>\n",
              "    </tr>\n",
              "  </thead>\n",
              "  <tbody>\n",
              "  </tbody>\n",
              "</table>\n",
              "</div>"
            ],
            "text/plain": [
              "Empty DataFrame\n",
              "Columns: [Name, Sex, Count_x, Count_y]\n",
              "Index: []"
            ]
          },
          "execution_count": 4,
          "metadata": {},
          "output_type": "execute_result"
        }
      ],
      "source": [
        "names = names1995.merge(names2005, on=[\"Name\", \"Sex\"])\n",
        "names[names.Name == \"Nevaeh\"]"
      ]
    },
    {
      "cell_type": "markdown",
      "metadata": {
        "id": "nJPjeNCfWkPh"
      },
      "source": [
        "By default, _pandas_ only includes combinations that are present in _both_ `DataFrame`s. If it cannot find a match for a row in one `DataFrame`, then the combination is simply dropped."
      ]
    },
    {
      "cell_type": "markdown",
      "metadata": {
        "id": "y9wzPN9AWkPj"
      },
      "source": [
        "But in this context, the fact that a name does not appear in one data set is informative. It means that no babies were born in that year with that name. We might want to also include names that appeared in only one of the two `DataFrame`s, rather than just the names that appeared in both.\n",
        "\n",
        "There are four types of joins, distinguished by whether they include the rows from the left `DataFrame`, the right `DataFrame`, both, or neither:\n",
        "\n",
        "1. _inner join_ (default): only values that are present in both `DataFrame`s are included in the result\n",
        "2. _outer join_: any value that appears in either `DataFrame` is included in the result\n",
        "3. _left join_: any value that appears in the left `DataFrame` is included in the result, whether or not it appears in the right `DataFrame`\n",
        "4. _right join_: any value that appears in the right `DataFrame` is included in the result, whether or not it appears in the left `DataFrame`.\n",
        "\n",
        "One way to visualize the different types of joins is using Venn diagrams. The shaded region indicates which rows that are included in the output. For example, only rows that appear in both the left and right `DataFrame`s are included in the output of an inner join.\n",
        "\n",
        "![](https://github.com/dlsun/pods/blob/master/09-Joining-Tabular-Data/joins.png?raw=1)"
      ]
    },
    {
      "cell_type": "markdown",
      "metadata": {
        "id": "uiVwc_ZYWkPk"
      },
      "source": [
        "In _pandas_, the join type is specified using the `how=` argument.\n",
        "\n",
        "Now let's look at examples of each of these types of joins. Pay attention to the numbers of rows that each join returns."
      ]
    },
    {
      "cell_type": "code",
      "execution_count": 5,
      "metadata": {
        "id": "m7xCYiFrWkPl"
      },
      "outputs": [
        {
          "data": {
            "text/html": [
              "<div>\n",
              "<style scoped>\n",
              "    .dataframe tbody tr th:only-of-type {\n",
              "        vertical-align: middle;\n",
              "    }\n",
              "\n",
              "    .dataframe tbody tr th {\n",
              "        vertical-align: top;\n",
              "    }\n",
              "\n",
              "    .dataframe thead th {\n",
              "        text-align: right;\n",
              "    }\n",
              "</style>\n",
              "<table border=\"1\" class=\"dataframe\">\n",
              "  <thead>\n",
              "    <tr style=\"text-align: right;\">\n",
              "      <th></th>\n",
              "      <th>Name</th>\n",
              "      <th>Sex</th>\n",
              "      <th>Count_x</th>\n",
              "      <th>Count_y</th>\n",
              "    </tr>\n",
              "  </thead>\n",
              "  <tbody>\n",
              "    <tr>\n",
              "      <th>0</th>\n",
              "      <td>Jessica</td>\n",
              "      <td>F</td>\n",
              "      <td>27935</td>\n",
              "      <td>8108</td>\n",
              "    </tr>\n",
              "    <tr>\n",
              "      <th>1</th>\n",
              "      <td>Ashley</td>\n",
              "      <td>F</td>\n",
              "      <td>26603</td>\n",
              "      <td>13270</td>\n",
              "    </tr>\n",
              "    <tr>\n",
              "      <th>2</th>\n",
              "      <td>Emily</td>\n",
              "      <td>F</td>\n",
              "      <td>24378</td>\n",
              "      <td>23930</td>\n",
              "    </tr>\n",
              "    <tr>\n",
              "      <th>3</th>\n",
              "      <td>Samantha</td>\n",
              "      <td>F</td>\n",
              "      <td>21646</td>\n",
              "      <td>13633</td>\n",
              "    </tr>\n",
              "    <tr>\n",
              "      <th>4</th>\n",
              "      <td>Sarah</td>\n",
              "      <td>F</td>\n",
              "      <td>21369</td>\n",
              "      <td>11527</td>\n",
              "    </tr>\n",
              "    <tr>\n",
              "      <th>...</th>\n",
              "      <td>...</td>\n",
              "      <td>...</td>\n",
              "      <td>...</td>\n",
              "      <td>...</td>\n",
              "    </tr>\n",
              "    <tr>\n",
              "      <th>19119</th>\n",
              "      <td>Zeppelin</td>\n",
              "      <td>M</td>\n",
              "      <td>5</td>\n",
              "      <td>7</td>\n",
              "    </tr>\n",
              "    <tr>\n",
              "      <th>19120</th>\n",
              "      <td>Zerek</td>\n",
              "      <td>M</td>\n",
              "      <td>5</td>\n",
              "      <td>8</td>\n",
              "    </tr>\n",
              "    <tr>\n",
              "      <th>19121</th>\n",
              "      <td>Zhen</td>\n",
              "      <td>M</td>\n",
              "      <td>5</td>\n",
              "      <td>7</td>\n",
              "    </tr>\n",
              "    <tr>\n",
              "      <th>19122</th>\n",
              "      <td>Ziggy</td>\n",
              "      <td>M</td>\n",
              "      <td>5</td>\n",
              "      <td>6</td>\n",
              "    </tr>\n",
              "    <tr>\n",
              "      <th>19123</th>\n",
              "      <td>Zyon</td>\n",
              "      <td>M</td>\n",
              "      <td>5</td>\n",
              "      <td>102</td>\n",
              "    </tr>\n",
              "  </tbody>\n",
              "</table>\n",
              "<p>19124 rows × 4 columns</p>\n",
              "</div>"
            ],
            "text/plain": [
              "           Name Sex  Count_x  Count_y\n",
              "0       Jessica   F    27935     8108\n",
              "1        Ashley   F    26603    13270\n",
              "2         Emily   F    24378    23930\n",
              "3      Samantha   F    21646    13633\n",
              "4         Sarah   F    21369    11527\n",
              "...         ...  ..      ...      ...\n",
              "19119  Zeppelin   M        5        7\n",
              "19120     Zerek   M        5        8\n",
              "19121      Zhen   M        5        7\n",
              "19122     Ziggy   M        5        6\n",
              "19123      Zyon   M        5      102\n",
              "\n",
              "[19124 rows x 4 columns]"
            ]
          },
          "execution_count": 5,
          "metadata": {},
          "output_type": "execute_result"
        }
      ],
      "source": [
        "# inner join\n",
        "names_inner = names1995.merge(names2005, on=[\"Name\", \"Sex\"], how=\"inner\")\n",
        "names_inner"
      ]
    },
    {
      "cell_type": "code",
      "execution_count": 6,
      "metadata": {
        "id": "Ornln3EcWkPt"
      },
      "outputs": [
        {
          "data": {
            "text/html": [
              "<div>\n",
              "<style scoped>\n",
              "    .dataframe tbody tr th:only-of-type {\n",
              "        vertical-align: middle;\n",
              "    }\n",
              "\n",
              "    .dataframe tbody tr th {\n",
              "        vertical-align: top;\n",
              "    }\n",
              "\n",
              "    .dataframe thead th {\n",
              "        text-align: right;\n",
              "    }\n",
              "</style>\n",
              "<table border=\"1\" class=\"dataframe\">\n",
              "  <thead>\n",
              "    <tr style=\"text-align: right;\">\n",
              "      <th></th>\n",
              "      <th>Name</th>\n",
              "      <th>Sex</th>\n",
              "      <th>Count_x</th>\n",
              "      <th>Count_y</th>\n",
              "    </tr>\n",
              "  </thead>\n",
              "  <tbody>\n",
              "    <tr>\n",
              "      <th>0</th>\n",
              "      <td>Jessica</td>\n",
              "      <td>F</td>\n",
              "      <td>27935.0</td>\n",
              "      <td>8108.0</td>\n",
              "    </tr>\n",
              "    <tr>\n",
              "      <th>1</th>\n",
              "      <td>Ashley</td>\n",
              "      <td>F</td>\n",
              "      <td>26603.0</td>\n",
              "      <td>13270.0</td>\n",
              "    </tr>\n",
              "    <tr>\n",
              "      <th>2</th>\n",
              "      <td>Emily</td>\n",
              "      <td>F</td>\n",
              "      <td>24378.0</td>\n",
              "      <td>23930.0</td>\n",
              "    </tr>\n",
              "    <tr>\n",
              "      <th>3</th>\n",
              "      <td>Samantha</td>\n",
              "      <td>F</td>\n",
              "      <td>21646.0</td>\n",
              "      <td>13633.0</td>\n",
              "    </tr>\n",
              "    <tr>\n",
              "      <th>4</th>\n",
              "      <td>Sarah</td>\n",
              "      <td>F</td>\n",
              "      <td>21369.0</td>\n",
              "      <td>11527.0</td>\n",
              "    </tr>\n",
              "    <tr>\n",
              "      <th>...</th>\n",
              "      <td>...</td>\n",
              "      <td>...</td>\n",
              "      <td>...</td>\n",
              "      <td>...</td>\n",
              "    </tr>\n",
              "    <tr>\n",
              "      <th>39490</th>\n",
              "      <td>Zymiere</td>\n",
              "      <td>M</td>\n",
              "      <td>NaN</td>\n",
              "      <td>5.0</td>\n",
              "    </tr>\n",
              "    <tr>\n",
              "      <th>39491</th>\n",
              "      <td>Zyrell</td>\n",
              "      <td>M</td>\n",
              "      <td>NaN</td>\n",
              "      <td>5.0</td>\n",
              "    </tr>\n",
              "    <tr>\n",
              "      <th>39492</th>\n",
              "      <td>Zyrian</td>\n",
              "      <td>M</td>\n",
              "      <td>NaN</td>\n",
              "      <td>5.0</td>\n",
              "    </tr>\n",
              "    <tr>\n",
              "      <th>39493</th>\n",
              "      <td>Zyshon</td>\n",
              "      <td>M</td>\n",
              "      <td>NaN</td>\n",
              "      <td>5.0</td>\n",
              "    </tr>\n",
              "    <tr>\n",
              "      <th>39494</th>\n",
              "      <td>Zytavious</td>\n",
              "      <td>M</td>\n",
              "      <td>NaN</td>\n",
              "      <td>5.0</td>\n",
              "    </tr>\n",
              "  </tbody>\n",
              "</table>\n",
              "<p>39495 rows × 4 columns</p>\n",
              "</div>"
            ],
            "text/plain": [
              "            Name Sex  Count_x  Count_y\n",
              "0        Jessica   F  27935.0   8108.0\n",
              "1         Ashley   F  26603.0  13270.0\n",
              "2          Emily   F  24378.0  23930.0\n",
              "3       Samantha   F  21646.0  13633.0\n",
              "4          Sarah   F  21369.0  11527.0\n",
              "...          ...  ..      ...      ...\n",
              "39490    Zymiere   M      NaN      5.0\n",
              "39491     Zyrell   M      NaN      5.0\n",
              "39492     Zyrian   M      NaN      5.0\n",
              "39493     Zyshon   M      NaN      5.0\n",
              "39494  Zytavious   M      NaN      5.0\n",
              "\n",
              "[39495 rows x 4 columns]"
            ]
          },
          "execution_count": 6,
          "metadata": {},
          "output_type": "execute_result"
        }
      ],
      "source": [
        "# outer join\n",
        "names_outer = names1995.merge(names2005, on=[\"Name\", \"Sex\"], how=\"outer\")\n",
        "names_outer"
      ]
    },
    {
      "cell_type": "markdown",
      "metadata": {
        "id": "H9_JE5xuWkP0"
      },
      "source": [
        "Names like \"Zyrell\" and \"Zyron\" appeared in the 2005 data but not the 1995 data. For this reason, their count in 1995 is `NaN`. In general, there will be missing values in `DataFrame`s that result from an outer join. Any time a value appears in one `DataFrame` but not the other, there will be `NaN`s in the columns from the `DataFrame` missing that value."
      ]
    },
    {
      "cell_type": "code",
      "execution_count": 7,
      "metadata": {
        "id": "KNRpHWgpWkP1"
      },
      "outputs": [
        {
          "data": {
            "text/plain": [
              "Name           0\n",
              "Sex            0\n",
              "Count_x    13415\n",
              "Count_y     6956\n",
              "dtype: int64"
            ]
          },
          "execution_count": 7,
          "metadata": {},
          "output_type": "execute_result"
        }
      ],
      "source": [
        "names_outer.isnull().sum()"
      ]
    },
    {
      "cell_type": "markdown",
      "metadata": {
        "id": "cm0uXw6nWkP4"
      },
      "source": [
        "By contrast, there are no `NaN`s when we do an inner join. That is because we restrict to only **Name** and **Sex** pairs that appeared in both `DataFrame`s, which guarantees that there are counts for both 1995 and 2005."
      ]
    },
    {
      "cell_type": "code",
      "execution_count": 8,
      "metadata": {
        "id": "I7ZbX5hPWkP6"
      },
      "outputs": [
        {
          "data": {
            "text/plain": [
              "Name       0\n",
              "Sex        0\n",
              "Count_x    0\n",
              "Count_y    0\n",
              "dtype: int64"
            ]
          },
          "execution_count": 8,
          "metadata": {},
          "output_type": "execute_result"
        }
      ],
      "source": [
        "names_inner.isnull().sum()"
      ]
    },
    {
      "cell_type": "markdown",
      "metadata": {
        "id": "ihHvQdd2WkQH"
      },
      "source": [
        "Left and right joins preserve data from one `DataFrame` but not the other. For example, if we were trying to calculate the percentage change for each name from 1995 to 2005, we would want to include all of the names that appeared in the 1995 data. If the name did not appear in the 2005 data, then that is informative."
      ]
    },
    {
      "cell_type": "code",
      "execution_count": 9,
      "metadata": {
        "id": "R4QYnIT6WkQI"
      },
      "outputs": [
        {
          "data": {
            "text/html": [
              "<div>\n",
              "<style scoped>\n",
              "    .dataframe tbody tr th:only-of-type {\n",
              "        vertical-align: middle;\n",
              "    }\n",
              "\n",
              "    .dataframe tbody tr th {\n",
              "        vertical-align: top;\n",
              "    }\n",
              "\n",
              "    .dataframe thead th {\n",
              "        text-align: right;\n",
              "    }\n",
              "</style>\n",
              "<table border=\"1\" class=\"dataframe\">\n",
              "  <thead>\n",
              "    <tr style=\"text-align: right;\">\n",
              "      <th></th>\n",
              "      <th>Name</th>\n",
              "      <th>Sex</th>\n",
              "      <th>Count_x</th>\n",
              "      <th>Count_y</th>\n",
              "    </tr>\n",
              "  </thead>\n",
              "  <tbody>\n",
              "    <tr>\n",
              "      <th>0</th>\n",
              "      <td>Jessica</td>\n",
              "      <td>F</td>\n",
              "      <td>27935</td>\n",
              "      <td>8108.0</td>\n",
              "    </tr>\n",
              "    <tr>\n",
              "      <th>1</th>\n",
              "      <td>Ashley</td>\n",
              "      <td>F</td>\n",
              "      <td>26603</td>\n",
              "      <td>13270.0</td>\n",
              "    </tr>\n",
              "    <tr>\n",
              "      <th>2</th>\n",
              "      <td>Emily</td>\n",
              "      <td>F</td>\n",
              "      <td>24378</td>\n",
              "      <td>23930.0</td>\n",
              "    </tr>\n",
              "    <tr>\n",
              "      <th>3</th>\n",
              "      <td>Samantha</td>\n",
              "      <td>F</td>\n",
              "      <td>21646</td>\n",
              "      <td>13633.0</td>\n",
              "    </tr>\n",
              "    <tr>\n",
              "      <th>4</th>\n",
              "      <td>Sarah</td>\n",
              "      <td>F</td>\n",
              "      <td>21369</td>\n",
              "      <td>11527.0</td>\n",
              "    </tr>\n",
              "    <tr>\n",
              "      <th>...</th>\n",
              "      <td>...</td>\n",
              "      <td>...</td>\n",
              "      <td>...</td>\n",
              "      <td>...</td>\n",
              "    </tr>\n",
              "    <tr>\n",
              "      <th>26075</th>\n",
              "      <td>Zerek</td>\n",
              "      <td>M</td>\n",
              "      <td>5</td>\n",
              "      <td>8.0</td>\n",
              "    </tr>\n",
              "    <tr>\n",
              "      <th>26076</th>\n",
              "      <td>Zhen</td>\n",
              "      <td>M</td>\n",
              "      <td>5</td>\n",
              "      <td>7.0</td>\n",
              "    </tr>\n",
              "    <tr>\n",
              "      <th>26077</th>\n",
              "      <td>Ziggy</td>\n",
              "      <td>M</td>\n",
              "      <td>5</td>\n",
              "      <td>6.0</td>\n",
              "    </tr>\n",
              "    <tr>\n",
              "      <th>26078</th>\n",
              "      <td>Zuberi</td>\n",
              "      <td>M</td>\n",
              "      <td>5</td>\n",
              "      <td>NaN</td>\n",
              "    </tr>\n",
              "    <tr>\n",
              "      <th>26079</th>\n",
              "      <td>Zyon</td>\n",
              "      <td>M</td>\n",
              "      <td>5</td>\n",
              "      <td>102.0</td>\n",
              "    </tr>\n",
              "  </tbody>\n",
              "</table>\n",
              "<p>26080 rows × 4 columns</p>\n",
              "</div>"
            ],
            "text/plain": [
              "           Name Sex  Count_x  Count_y\n",
              "0       Jessica   F    27935   8108.0\n",
              "1        Ashley   F    26603  13270.0\n",
              "2         Emily   F    24378  23930.0\n",
              "3      Samantha   F    21646  13633.0\n",
              "4         Sarah   F    21369  11527.0\n",
              "...         ...  ..      ...      ...\n",
              "26075     Zerek   M        5      8.0\n",
              "26076      Zhen   M        5      7.0\n",
              "26077     Ziggy   M        5      6.0\n",
              "26078    Zuberi   M        5      NaN\n",
              "26079      Zyon   M        5    102.0\n",
              "\n",
              "[26080 rows x 4 columns]"
            ]
          },
          "execution_count": 9,
          "metadata": {},
          "output_type": "execute_result"
        }
      ],
      "source": [
        "# left join\n",
        "names_left = names1995.merge(names2005, on=[\"Name\", \"Sex\"], how=\"left\")\n",
        "names_left"
      ]
    },
    {
      "cell_type": "markdown",
      "metadata": {
        "id": "wsMMFFioWkQP"
      },
      "source": [
        "The result of a left join has `NaN`s in the columns from the right `DataFrame`."
      ]
    },
    {
      "cell_type": "code",
      "execution_count": 10,
      "metadata": {
        "id": "ggqInGl2WkQR"
      },
      "outputs": [
        {
          "data": {
            "text/plain": [
              "Name          0\n",
              "Sex           0\n",
              "Count_x       0\n",
              "Count_y    6956\n",
              "dtype: int64"
            ]
          },
          "execution_count": 10,
          "metadata": {},
          "output_type": "execute_result"
        }
      ],
      "source": [
        "names_left.isnull().sum()"
      ]
    },
    {
      "cell_type": "markdown",
      "metadata": {
        "id": "kWS1GIB1WkQX"
      },
      "source": [
        "The result of a right join, on the other hand, has `NaN`s in the column from the left `DataFrame`."
      ]
    },
    {
      "cell_type": "code",
      "execution_count": 11,
      "metadata": {
        "id": "mNJH7ZGUWkQY"
      },
      "outputs": [
        {
          "data": {
            "text/html": [
              "<div>\n",
              "<style scoped>\n",
              "    .dataframe tbody tr th:only-of-type {\n",
              "        vertical-align: middle;\n",
              "    }\n",
              "\n",
              "    .dataframe tbody tr th {\n",
              "        vertical-align: top;\n",
              "    }\n",
              "\n",
              "    .dataframe thead th {\n",
              "        text-align: right;\n",
              "    }\n",
              "</style>\n",
              "<table border=\"1\" class=\"dataframe\">\n",
              "  <thead>\n",
              "    <tr style=\"text-align: right;\">\n",
              "      <th></th>\n",
              "      <th>Name</th>\n",
              "      <th>Sex</th>\n",
              "      <th>Count_x</th>\n",
              "      <th>Count_y</th>\n",
              "    </tr>\n",
              "  </thead>\n",
              "  <tbody>\n",
              "    <tr>\n",
              "      <th>0</th>\n",
              "      <td>Emily</td>\n",
              "      <td>F</td>\n",
              "      <td>24378.0</td>\n",
              "      <td>23930</td>\n",
              "    </tr>\n",
              "    <tr>\n",
              "      <th>1</th>\n",
              "      <td>Emma</td>\n",
              "      <td>F</td>\n",
              "      <td>5041.0</td>\n",
              "      <td>20335</td>\n",
              "    </tr>\n",
              "    <tr>\n",
              "      <th>2</th>\n",
              "      <td>Madison</td>\n",
              "      <td>F</td>\n",
              "      <td>9775.0</td>\n",
              "      <td>19562</td>\n",
              "    </tr>\n",
              "    <tr>\n",
              "      <th>3</th>\n",
              "      <td>Abigail</td>\n",
              "      <td>F</td>\n",
              "      <td>7821.0</td>\n",
              "      <td>15747</td>\n",
              "    </tr>\n",
              "    <tr>\n",
              "      <th>4</th>\n",
              "      <td>Olivia</td>\n",
              "      <td>F</td>\n",
              "      <td>7624.0</td>\n",
              "      <td>15691</td>\n",
              "    </tr>\n",
              "    <tr>\n",
              "      <th>...</th>\n",
              "      <td>...</td>\n",
              "      <td>...</td>\n",
              "      <td>...</td>\n",
              "      <td>...</td>\n",
              "    </tr>\n",
              "    <tr>\n",
              "      <th>32534</th>\n",
              "      <td>Zymiere</td>\n",
              "      <td>M</td>\n",
              "      <td>NaN</td>\n",
              "      <td>5</td>\n",
              "    </tr>\n",
              "    <tr>\n",
              "      <th>32535</th>\n",
              "      <td>Zyrell</td>\n",
              "      <td>M</td>\n",
              "      <td>NaN</td>\n",
              "      <td>5</td>\n",
              "    </tr>\n",
              "    <tr>\n",
              "      <th>32536</th>\n",
              "      <td>Zyrian</td>\n",
              "      <td>M</td>\n",
              "      <td>NaN</td>\n",
              "      <td>5</td>\n",
              "    </tr>\n",
              "    <tr>\n",
              "      <th>32537</th>\n",
              "      <td>Zyshon</td>\n",
              "      <td>M</td>\n",
              "      <td>NaN</td>\n",
              "      <td>5</td>\n",
              "    </tr>\n",
              "    <tr>\n",
              "      <th>32538</th>\n",
              "      <td>Zytavious</td>\n",
              "      <td>M</td>\n",
              "      <td>NaN</td>\n",
              "      <td>5</td>\n",
              "    </tr>\n",
              "  </tbody>\n",
              "</table>\n",
              "<p>32539 rows × 4 columns</p>\n",
              "</div>"
            ],
            "text/plain": [
              "            Name Sex  Count_x  Count_y\n",
              "0          Emily   F  24378.0    23930\n",
              "1           Emma   F   5041.0    20335\n",
              "2        Madison   F   9775.0    19562\n",
              "3        Abigail   F   7821.0    15747\n",
              "4         Olivia   F   7624.0    15691\n",
              "...          ...  ..      ...      ...\n",
              "32534    Zymiere   M      NaN        5\n",
              "32535     Zyrell   M      NaN        5\n",
              "32536     Zyrian   M      NaN        5\n",
              "32537     Zyshon   M      NaN        5\n",
              "32538  Zytavious   M      NaN        5\n",
              "\n",
              "[32539 rows x 4 columns]"
            ]
          },
          "execution_count": 11,
          "metadata": {},
          "output_type": "execute_result"
        }
      ],
      "source": [
        "# right join\n",
        "names_right = names1995.merge(names2005, on=[\"Name\", \"Sex\"], how=\"right\")\n",
        "names_right"
      ]
    },
    {
      "cell_type": "code",
      "execution_count": 12,
      "metadata": {
        "id": "814g3fCbWkQf"
      },
      "outputs": [
        {
          "data": {
            "text/plain": [
              "Name           0\n",
              "Sex            0\n",
              "Count_x    13415\n",
              "Count_y        0\n",
              "dtype: int64"
            ]
          },
          "execution_count": 12,
          "metadata": {},
          "output_type": "execute_result"
        }
      ],
      "source": [
        "names_right.isnull().sum()"
      ]
    }
  ],
  "metadata": {
    "colab": {
      "provenance": []
    },
    "kernelspec": {
      "display_name": "Python 3",
      "language": "python",
      "name": "python3"
    },
    "language_info": {
      "codemirror_mode": {
        "name": "ipython",
        "version": 3
      },
      "file_extension": ".py",
      "mimetype": "text/x-python",
      "name": "python",
      "nbconvert_exporter": "python",
      "pygments_lexer": "ipython3",
      "version": "3.9.6"
    }
  },
  "nbformat": 4,
  "nbformat_minor": 0
}
