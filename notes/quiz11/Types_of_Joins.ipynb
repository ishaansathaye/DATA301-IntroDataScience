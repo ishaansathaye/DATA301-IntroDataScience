{
  "nbformat": 4,
  "nbformat_minor": 0,
  "metadata": {
    "kernelspec": {
      "display_name": "Python 3",
      "language": "python",
      "name": "python3"
    },
    "language_info": {
      "codemirror_mode": {
        "name": "ipython",
        "version": 3
      },
      "file_extension": ".py",
      "mimetype": "text/x-python",
      "name": "python",
      "nbconvert_exporter": "python",
      "pygments_lexer": "ipython3",
      "version": "3.6.8"
    },
    "colab": {
      "provenance": []
    }
  },
  "cells": [
    {
      "cell_type": "markdown",
      "source": [],
      "metadata": {
        "id": "m-WKZi31WAi0"
      }
    },
    {
      "cell_type": "markdown",
      "metadata": {
        "id": "K4FOwVwpWkPD"
      },
      "source": [
        "# Types of Joins\n",
        "\n",
        "We have seen how to _merge_ (or _join_) two data sets by matching on certain variables. But what happens when a row in one `DataFrame` has no match in the other?\n",
        "\n",
        "First, let's investigate how _pandas_ handles this situation by default. The name \"Nevaeh\", which is \"heaven\" spelled backwards, gained popularity after Sonny Sandoval of the band P.O.D. gave his daughter the name in 2000. Let's look at how common this name was five years earlier and five years after."
      ]
    },
    {
      "cell_type": "code",
      "metadata": {
        "id": "XZciltxCWkPH"
      },
      "source": [
        "import pandas as pd\n",
        "\n",
        "data_dir = \"http://dlsun.github.io/pods/data/names/\"\n",
        "\n",
        "names1995 = pd.read_csv(data_dir + \"yob1995.txt\",\n",
        "                        header=None, names=[\"Name\", \"Sex\", \"Count\"])\n",
        "names2005 = pd.read_csv(data_dir + \"yob2005.txt\",\n",
        "                        header=None, names=[\"Name\", \"Sex\", \"Count\"])"
      ],
      "execution_count": null,
      "outputs": []
    },
    {
      "cell_type": "code",
      "metadata": {
        "id": "e_uGW6jOWkPM"
      },
      "source": [
        "names1995[names1995.Name == \"Nevaeh\"]"
      ],
      "execution_count": null,
      "outputs": []
    },
    {
      "cell_type": "code",
      "metadata": {
        "id": "H1QGLvAVWkPR"
      },
      "source": [
        "names2005[names2005.Name == \"Nevaeh\"]"
      ],
      "execution_count": null,
      "outputs": []
    },
    {
      "cell_type": "markdown",
      "metadata": {
        "id": "uAtPb7fyWkPV"
      },
      "source": [
        "In 1995, there were no girls (at least fewer than 5) named Nevaeh; just eight years later, there were over 4500 girls (and even 56 boys) with the name. It seems like Sonny Sandoval had a huge effect.\n",
        "\n",
        "What happens to the name \"Nevaeh\" when we merge the two data sets?"
      ]
    },
    {
      "cell_type": "code",
      "metadata": {
        "id": "DFml5BTYWkPX"
      },
      "source": [
        "names = names1995.merge(names2005, on=[\"Name\", \"Sex\"])\n",
        "names[names.Name == \"Nevaeh\"]"
      ],
      "execution_count": null,
      "outputs": []
    },
    {
      "cell_type": "markdown",
      "metadata": {
        "id": "nJPjeNCfWkPh"
      },
      "source": [
        "By default, _pandas_ only includes combinations that are present in _both_ `DataFrame`s. If it cannot find a match for a row in one `DataFrame`, then the combination is simply dropped."
      ]
    },
    {
      "cell_type": "markdown",
      "metadata": {
        "id": "y9wzPN9AWkPj"
      },
      "source": [
        "But in this context, the fact that a name does not appear in one data set is informative. It means that no babies were born in that year with that name. We might want to also include names that appeared in only one of the two `DataFrame`s, rather than just the names that appeared in both.\n",
        "\n",
        "There are four types of joins, distinguished by whether they include the rows from the left `DataFrame`, the right `DataFrame`, both, or neither:\n",
        "\n",
        "1. _inner join_ (default): only values that are present in both `DataFrame`s are included in the result\n",
        "2. _outer join_: any value that appears in either `DataFrame` is included in the result\n",
        "3. _left join_: any value that appears in the left `DataFrame` is included in the result, whether or not it appears in the right `DataFrame`\n",
        "4. _right join_: any value that appears in the right `DataFrame` is included in the result, whether or not it appears in the left `DataFrame`.\n",
        "\n",
        "One way to visualize the different types of joins is using Venn diagrams. The shaded region indicates which rows that are included in the output. For example, only rows that appear in both the left and right `DataFrame`s are included in the output of an inner join.\n",
        "\n",
        "![](https://github.com/dlsun/pods/blob/master/09-Joining-Tabular-Data/joins.png?raw=1)"
      ]
    },
    {
      "cell_type": "markdown",
      "metadata": {
        "id": "uiVwc_ZYWkPk"
      },
      "source": [
        "In _pandas_, the join type is specified using the `how=` argument.\n",
        "\n",
        "Now let's look at examples of each of these types of joins. Pay attention to the numbers of rows that each join returns."
      ]
    },
    {
      "cell_type": "code",
      "metadata": {
        "id": "m7xCYiFrWkPl"
      },
      "source": [
        "# inner join\n",
        "names_inner = names1995.merge(names2005, on=[\"Name\", \"Sex\"], how=\"inner\")\n",
        "names_inner"
      ],
      "execution_count": null,
      "outputs": []
    },
    {
      "cell_type": "code",
      "metadata": {
        "id": "Ornln3EcWkPt"
      },
      "source": [
        "# outer join\n",
        "names_outer = names1995.merge(names2005, on=[\"Name\", \"Sex\"], how=\"outer\")\n",
        "names_outer"
      ],
      "execution_count": null,
      "outputs": []
    },
    {
      "cell_type": "markdown",
      "metadata": {
        "id": "H9_JE5xuWkP0"
      },
      "source": [
        "Names like \"Zyrell\" and \"Zyron\" appeared in the 2005 data but not the 1995 data. For this reason, their count in 1995 is `NaN`. In general, there will be missing values in `DataFrame`s that result from an outer join. Any time a value appears in one `DataFrame` but not the other, there will be `NaN`s in the columns from the `DataFrame` missing that value."
      ]
    },
    {
      "cell_type": "code",
      "metadata": {
        "id": "KNRpHWgpWkP1"
      },
      "source": [
        "names_outer.isnull().sum()"
      ],
      "execution_count": null,
      "outputs": []
    },
    {
      "cell_type": "markdown",
      "metadata": {
        "id": "cm0uXw6nWkP4"
      },
      "source": [
        "By contrast, there are no `NaN`s when we do an inner join. That is because we restrict to only **Name** and **Sex** pairs that appeared in both `DataFrame`s, which guarantees that there are counts for both 1995 and 2005."
      ]
    },
    {
      "cell_type": "code",
      "metadata": {
        "id": "I7ZbX5hPWkP6"
      },
      "source": [
        "names_inner.isnull().sum()"
      ],
      "execution_count": null,
      "outputs": []
    },
    {
      "cell_type": "markdown",
      "metadata": {
        "id": "ihHvQdd2WkQH"
      },
      "source": [
        "Left and right joins preserve data from one `DataFrame` but not the other. For example, if we were trying to calculate the percentage change for each name from 1995 to 2005, we would want to include all of the names that appeared in the 1995 data. If the name did not appear in the 2005 data, then that is informative."
      ]
    },
    {
      "cell_type": "code",
      "metadata": {
        "id": "R4QYnIT6WkQI"
      },
      "source": [
        "# left join\n",
        "names_left = names1995.merge(names2005, on=[\"Name\", \"Sex\"], how=\"left\")\n",
        "names_left"
      ],
      "execution_count": null,
      "outputs": []
    },
    {
      "cell_type": "markdown",
      "metadata": {
        "id": "wsMMFFioWkQP"
      },
      "source": [
        "The result of a left join has `NaN`s in the columns from the right `DataFrame`."
      ]
    },
    {
      "cell_type": "code",
      "metadata": {
        "id": "ggqInGl2WkQR"
      },
      "source": [
        "names_left.isnull().sum()"
      ],
      "execution_count": null,
      "outputs": []
    },
    {
      "cell_type": "markdown",
      "metadata": {
        "id": "kWS1GIB1WkQX"
      },
      "source": [
        "The result of a right join, on the other hand, has `NaN`s in the column from the left `DataFrame`."
      ]
    },
    {
      "cell_type": "code",
      "metadata": {
        "id": "mNJH7ZGUWkQY"
      },
      "source": [
        "# right join\n",
        "names_right = names1995.merge(names2005, on=[\"Name\", \"Sex\"], how=\"right\")\n",
        "names_right"
      ],
      "execution_count": null,
      "outputs": []
    },
    {
      "cell_type": "code",
      "metadata": {
        "id": "814g3fCbWkQf"
      },
      "source": [
        "names_right.isnull().sum()"
      ],
      "execution_count": null,
      "outputs": []
    },
    {
      "cell_type": "code",
      "source": [],
      "metadata": {
        "id": "w185MPjbAf15"
      },
      "execution_count": null,
      "outputs": []
    }
  ]
}