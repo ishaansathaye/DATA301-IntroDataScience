{
  "cells": [
    {
      "cell_type": "markdown",
      "metadata": {
        "id": "uKwWV-uoouSN"
      },
      "source": [
        "# Choropleths"
      ]
    },
    {
      "cell_type": "code",
      "execution_count": null,
      "metadata": {
        "id": "EUJ8I52mbZgC"
      },
      "outputs": [],
      "source": [
        "#!pip install geopandas"
      ]
    },
    {
      "cell_type": "code",
      "execution_count": null,
      "metadata": {
        "id": "ns9ER0fORLkC"
      },
      "outputs": [],
      "source": [
        "import pandas as pd\n",
        "import numpy as np\n",
        "\n",
        "import geopandas as gpd\n",
        "\n",
        "from matplotlib import pyplot as plt"
      ]
    },
    {
      "cell_type": "markdown",
      "metadata": {
        "id": "8B5trwY1BImv"
      },
      "source": [
        "1\\. Create a choropleth of the 2016 U.S. presidential election results (\"https://dlsun.github.io/pods/data/election2016.csv\"), but for U.S. states rather than counties. (Hint: you will need to Google to get the shapefiles for states. You will also need to do some processing of the county results to get state results.)"
      ]
    },
    {
      "cell_type": "code",
      "execution_count": null,
      "metadata": {
        "id": "1-4-emh6xK2L"
      },
      "outputs": [],
      "source": [
        "# ENTER YOUR CODE HERE. ADD CELLS AS NEEDED"
      ]
    },
    {
      "cell_type": "markdown",
      "metadata": {
        "id": "3ZZBAbKjBIpd"
      },
      "source": [
        "2\\. When creating a world map using `gpd.datasets.get_path('naturalearth_lowres')`, you might have noticed a warning that this functionality is deprecated. The shortcut might go away, but you can still download the shapefiles directly from the [Natural Earth website](https://www.naturalearthdata.com/downloads/). Read in the shape files directly (that is, without using `gdp.datasets.get_path`). Then make a choropleth showing GDP per capita for each country. Try different projections, color schemes, etc. (Hint: GDP and population variables are included in the shapefiles; can you find them?)\n",
        "\n",
        "Note: I got an error when I tried to read the zipfile directly from Natural Earth, so I needed to download the zipfile, upload to Colab, then read in. If you figure out how to read directly from Natural Earth, please share in Discord!"
      ]
    },
    {
      "cell_type": "code",
      "execution_count": null,
      "metadata": {
        "id": "s5meaTetxPIC"
      },
      "outputs": [],
      "source": [
        "# ENTER YOUR CODE HERE. ADD CELLS AS NEEDED"
      ]
    },
    {
      "cell_type": "markdown",
      "metadata": {
        "id": "V3FOcJqcCwuT"
      },
      "source": [
        "3\\. These notebooks provided just a brief introduction to maps and geospatial data. Take some time to investigate online and experiment with what you can do in Python or with Plotly. Then create an interesting map of you own and share it in Discord!"
      ]
    },
    {
      "cell_type": "code",
      "execution_count": null,
      "metadata": {
        "id": "pGcHpNwixRX5"
      },
      "outputs": [],
      "source": [
        "# ENTER YOUR CODE HERE. ADD CELLS AS NEEDED"
      ]
    }
  ],
  "metadata": {
    "colab": {
      "provenance": []
    },
    "kernelspec": {
      "display_name": "Python 3",
      "name": "python3"
    },
    "language_info": {
      "name": "python"
    }
  },
  "nbformat": 4,
  "nbformat_minor": 0
}
