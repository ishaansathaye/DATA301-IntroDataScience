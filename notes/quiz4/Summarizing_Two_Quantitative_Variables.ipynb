{
  "cells": [
    {
      "cell_type": "markdown",
      "metadata": {
        "id": "FvFryk63dAVo"
      },
      "source": [
        "# Summarizing Two Quantitative Variables\n",
        "\n",
        "Now we'll discuss ways to summarize and visualize relationships between two quantitative variables. We'll use the Ames housing data set as an example."
      ]
    },
    {
      "cell_type": "code",
      "source": [
        "import pandas as pd"
      ],
      "metadata": {
        "id": "RDbzlzJZModr"
      },
      "execution_count": null,
      "outputs": []
    },
    {
      "cell_type": "code",
      "execution_count": null,
      "metadata": {
        "id": "gPI40qi1dAVp"
      },
      "outputs": [],
      "source": [
        "df_ames = pd.read_csv(\"https://raw.githubusercontent.com/kevindavisross/data301/main/data/AmesHousing.txt\", sep=\"\\t\")\n",
        "df_ames"
      ]
    },
    {
      "cell_type": "markdown",
      "metadata": {
        "id": "d9k6l3uGdAVq"
      },
      "source": [
        "## Visualization\n",
        "\n",
        "Let's start by visualizing the relationship between the square footage (\"Gr Liv Area\") and the sale price, both of which are quantitative variables. To do this, we can make a **scatterplot**. In a scatterplot, each observation is represented by a point. The $(x, y)$ coordinates of each point represent the values of two variables for that observation.\n",
        "\n",
        "To make a scatterplot in `pandas`, we use the `.plot.scatter()` method of `DataFrame`, specifying which variable is $x$ and which variable is $y$."
      ]
    },
    {
      "cell_type": "code",
      "execution_count": null,
      "metadata": {
        "id": "ufLyZiGGdAVq"
      },
      "outputs": [],
      "source": [
        "df_ames.plot.scatter(x=\"Gr Liv Area\", y=\"SalePrice\");"
      ]
    },
    {
      "cell_type": "markdown",
      "metadata": {
        "id": "Fq3_phLadAVr"
      },
      "source": [
        "We see that square footage (of the dwelling) and the sale price have a positive association. That is, houses with large values of square footage tend to have large selling prices; houses with small values of square footage tend to have small selling prices."
      ]
    },
    {
      "cell_type": "markdown",
      "source": [
        "We can pass many parameters into `scatter` to customize the appearance. For example, `alpha` controls the degrees of transparency."
      ],
      "metadata": {
        "id": "j2O-I9S6UIaX"
      }
    },
    {
      "cell_type": "code",
      "source": [
        "df_ames.plot.scatter(x=\"Gr Liv Area\", y=\"SalePrice\", alpha = 0.2);"
      ],
      "metadata": {
        "id": "y9g_t6g-UG03"
      },
      "execution_count": null,
      "outputs": []
    },
    {
      "cell_type": "markdown",
      "metadata": {
        "id": "EuOBxpXAdAVr"
      },
      "source": [
        "## Covariance\n",
        "\n",
        "To summarize the relationship between two quantitative variables $X$ and $Y$, we can report the _covariance_ between them, defined as\n",
        "\n",
        "$$ \\text{Cov}[X, Y] = \\frac{1}{n - 1} \\sum_{i=1}^n (x_i - \\bar x) (y_i - \\bar y)$$\n",
        "\n",
        "So the covariance is the average of the products of the paired deviations from the mean. Imagine that for each observation you make a rectangle whose sides are equal to the deviations from the mean (which could be positive or negative). Then the covariance is the average area of these rectangles (where the \"area\" is negative if exactly one of the deviations is negative). (As with variance, is usually doesn't make much difference in practice if you divide by $n$ or $n-1$ when taking the average.)\n",
        "\n",
        "\n",
        "The sign of the covariance will match the direction of the relationship between the two variables. The figures below illustrate why. If two variables are positively related, then the scatterplot might look as follows, with most points in the upper-right and lower-left quadrants (when you divide up the plane into four quadrants based on the means of $X$ and $Y$).\n",
        "\n",
        "![](https://github.com/dlsun/pods/blob/master/03-Quantitative-Data/positive_cov.png?raw=1)\n",
        "\n",
        "Each point on this scatterplot contributes to the sum that makes up the covariance. Any point in the upper-right quadrant (where $x$ and $y$ are both greater than their respective means) has a positive contribution, since the product of two positive numbers is positive. A point in the lower-left quadrant (where $x$ and $y$ are both less than their respective means) also has a positive contribution, since the product of two negative numbers is also positive. Therefore, on the whole, the covariance will be positive for two variables with a positive relationship.\n",
        "\n",
        "We can also consider two variables with a negative relationship. A scatterplot of two negatively-related variables might look as follows, with most points in the upper-left and lower-right quadrants. Points in both of these quadrants will have a negative contribution towards the covariance, since the product of a positive and a negative number is negative.\n",
        "\n",
        "![](https://github.com/dlsun/pods/blob/master/03-Quantitative-Data/negative_cov.png?raw=1)\n",
        "\n",
        "What does it mean for the covariance to be _zero_? It does NOT necessarily mean that there is _no_ relationship at all between the two variables. A covariance of 0 just means that the two variables do not follow an overall positive or negative association. For example, the two variables below have _zero_ covariance because the negative contributions from the upper-left and lower-right quadrants perfectly cancel out the positive contributions from the upper-right and lower-left quadrants. However, it would be inaccurate to say that $X$ and $Y$ have _no_ relationship; they have a strong relationship, but it just is not consistently in one direction.\n",
        "\n",
        "![](https://github.com/dlsun/pods/blob/master/03-Quantitative-Data/zero_cov.png?raw=1)\n",
        "\n",
        "To calculate the covariance between two quantitative variables, we use the `.cov()` method in `pandas`. This method is attached to one `Series` and takes another `Series` of the same length as input. It returns the covariance between the two `Series`."
      ]
    },
    {
      "cell_type": "code",
      "execution_count": null,
      "metadata": {
        "id": "8rcJU-UrdAVs"
      },
      "outputs": [],
      "source": [
        "df_ames[\"Gr Liv Area\"].cov(df_ames[\"SalePrice\"])"
      ]
    },
    {
      "cell_type": "markdown",
      "source": [
        "The covariance between the two variables is positive, as should be apparent from the scatterplot above. Larger houses sell for higher prices."
      ],
      "metadata": {
        "id": "PMQEN4RvQtrf"
      }
    },
    {
      "cell_type": "markdown",
      "source": [
        "Be careful when using `cov` as above; it assumes the observations are in the same order in the two Series so that the $(x, y)$ pairs make sense."
      ],
      "metadata": {
        "id": "EpjJzME_Q46r"
      }
    },
    {
      "cell_type": "markdown",
      "source": [
        "If we call `cov` on the DataFrame with both variables, we get the covariance matrix. The offdiagonal entries are covariances; the diagonal entries are variances."
      ],
      "metadata": {
        "id": "DNNJkH0TQKAf"
      }
    },
    {
      "cell_type": "code",
      "source": [
        "df_ames[[\"Gr Liv Area\", \"SalePrice\"]].cov()"
      ],
      "metadata": {
        "id": "nETKm-bwQIqh"
      },
      "execution_count": null,
      "outputs": []
    },
    {
      "cell_type": "markdown",
      "metadata": {
        "id": "c6ZfKHA5dAVt"
      },
      "source": [
        "## Correlation\n",
        "\n",
        "One criticism of the covariance is that the value itself is difficult to interpret, and covariances are not comparable across different variables.  Instead we often use a \"standardize covariance\", called the **correlation** (or correlation coefficient) which is symbolized with $r$:\n",
        "\n",
        "$$ r = \\frac{\\text{Cov}[X, Y]}{\\text{SD}[X] \\text{SD}[Y]} $$\n",
        "\n",
        "The correlation has all of the important properties of covariance:\n",
        "\n",
        "- A positive correlation indicates a positive relationship between the variables. As one increases, the other tends to increase as well.\n",
        "- A negative correlation indicates a negative relationship between the variables. As one increases, the other tends to decrease.\n",
        "- A zero correlation means that the two variables do not have an overall positive or negative association, but does not necessarily mean that they have _no_ relationship.\n",
        "\n",
        "But the correlation is also guaranteed to be between $-1$ and $1$, so it can be compared across data sets.\n",
        "\n",
        "What does a maximal correlation of $\\pm 1$ mean? It means that the data fall perfectly along a line.\n",
        "\n",
        "![](https://github.com/dlsun/pods/blob/master/03-Quantitative-Data/corr_1.png?raw=1)\n",
        "\n",
        "Correlation is calculated in `pandas` in much the same way that covariance is, using the `.corr()` method:"
      ]
    },
    {
      "cell_type": "code",
      "execution_count": null,
      "metadata": {
        "id": "6AXHyPBjdAVt"
      },
      "outputs": [],
      "source": [
        "df_ames[\"Gr Liv Area\"].corr(df_ames[\"SalePrice\"])"
      ]
    },
    {
      "cell_type": "markdown",
      "metadata": {
        "id": "GdRhHKngdAVu"
      },
      "source": [
        "Like the covariance, the correlation $r$ is positive, but is normalized to be between $-1$ and $+1$. $r=+1$ would mean that all of the points on the scatterplot fell perfectly along a line (with positive slope). Although the points in the scatterplot do not all fall perfectly on a line, they do seem to hover around an underlying line. This explains why the correlation is close to, but not equal to, $1$."
      ]
    },
    {
      "cell_type": "markdown",
      "source": [
        "If we call `corr` on the DataFrame with both variables, we get the correlation matrix. The offdiagonal entries are correlations; the diagonal entries are 1 because each variable has a perfect relationship with itself."
      ],
      "metadata": {
        "id": "TV4yJpZxRo3M"
      }
    },
    {
      "cell_type": "code",
      "source": [
        "df_ames[[\"Gr Liv Area\", \"SalePrice\"]].corr()"
      ],
      "metadata": {
        "id": "WIOTRucgSAs4"
      },
      "execution_count": null,
      "outputs": []
    },
    {
      "cell_type": "markdown",
      "source": [
        "For more than two variables, the correlation matrix contains the correlations between each pair of variables. Remember that we previously considered the log of Lot Area. Let's add that to the correlation matrix."
      ],
      "metadata": {
        "id": "n1JpIt3_SIoJ"
      }
    },
    {
      "cell_type": "code",
      "source": [
        "import numpy as np\n",
        "\n",
        "df_ames[\"log(Lot Area)\"] = np.log(df_ames[\"Lot Area\"])"
      ],
      "metadata": {
        "id": "CNzOiyvXTPC3"
      },
      "execution_count": null,
      "outputs": []
    },
    {
      "cell_type": "code",
      "source": [
        "df_ames[[\"Gr Liv Area\", \"SalePrice\", \"log(Lot Area)\"]].corr()"
      ],
      "metadata": {
        "id": "qOleQ8vuSIwC"
      },
      "execution_count": null,
      "outputs": []
    },
    {
      "cell_type": "markdown",
      "source": [
        "A scatterplot matrix displays scatterplots for each pair of variables for several quantitative variables. Histograms of each variable can be plotted on the diagonal."
      ],
      "metadata": {
        "id": "1lK5t6MmSpPs"
      }
    },
    {
      "cell_type": "code",
      "source": [
        "pd.plotting.scatter_matrix(df_ames[[\"Gr Liv Area\", \"SalePrice\", \"log(Lot Area)\"]], alpha = 0.2);"
      ],
      "metadata": {
        "id": "vgTiet71SpVr"
      },
      "execution_count": null,
      "outputs": []
    }
  ],
  "metadata": {
    "kernelspec": {
      "display_name": "Python 3",
      "language": "python",
      "name": "python3"
    },
    "language_info": {
      "codemirror_mode": {
        "name": "ipython",
        "version": 3
      },
      "file_extension": ".py",
      "mimetype": "text/x-python",
      "name": "python",
      "nbconvert_exporter": "python",
      "pygments_lexer": "ipython3",
      "version": "3.6.8"
    },
    "colab": {
      "provenance": []
    }
  },
  "nbformat": 4,
  "nbformat_minor": 0
}