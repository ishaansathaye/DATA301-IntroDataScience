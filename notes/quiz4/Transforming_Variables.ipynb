{
  "cells": [
    {
      "cell_type": "markdown",
      "metadata": {
        "id": "_oX5P21VM0Q8"
      },
      "source": [
        "# Transforming Variables\n",
        "\n",
        "We often transform and combine existing variables to obtain new variables. We'll see how to do this in Pandas, where \"vectorization\" greatly simplifies this process.\n",
        "\n",
        "Our examples concern a data set consisting of residential properties in Ames, Iowa from 2006 to 2010. For more information about the variables in this data set, please refer to the [data documentation](https://jse.amstat.org/v19n3/decock/DataDocumentation.txt). (Note: some of the data sets we will encounter, like this one, have become pretty famous examples in data science.)"
      ]
    },
    {
      "cell_type": "markdown",
      "metadata": {
        "id": "vJmUvclA1dMO"
      },
      "source": [
        "The data set is stored in a tab-separated values file, rather than a CSV. We can still use `read_csv`, but we need to specify the delimiter (tab rather than comma) with `sep=\\t`."
      ]
    },
    {
      "cell_type": "code",
      "execution_count": 1,
      "metadata": {
        "id": "DL4J6m-m1cU4"
      },
      "outputs": [],
      "source": [
        "import pandas as pd"
      ]
    },
    {
      "cell_type": "code",
      "execution_count": 2,
      "metadata": {
        "id": "i6DQVUUXM0Q-"
      },
      "outputs": [
        {
          "data": {
            "text/html": [
              "<div>\n",
              "<style scoped>\n",
              "    .dataframe tbody tr th:only-of-type {\n",
              "        vertical-align: middle;\n",
              "    }\n",
              "\n",
              "    .dataframe tbody tr th {\n",
              "        vertical-align: top;\n",
              "    }\n",
              "\n",
              "    .dataframe thead th {\n",
              "        text-align: right;\n",
              "    }\n",
              "</style>\n",
              "<table border=\"1\" class=\"dataframe\">\n",
              "  <thead>\n",
              "    <tr style=\"text-align: right;\">\n",
              "      <th></th>\n",
              "      <th>Order</th>\n",
              "      <th>PID</th>\n",
              "      <th>MS SubClass</th>\n",
              "      <th>MS Zoning</th>\n",
              "      <th>Lot Frontage</th>\n",
              "      <th>Lot Area</th>\n",
              "      <th>Street</th>\n",
              "      <th>Alley</th>\n",
              "      <th>Lot Shape</th>\n",
              "      <th>Land Contour</th>\n",
              "      <th>...</th>\n",
              "      <th>Pool Area</th>\n",
              "      <th>Pool QC</th>\n",
              "      <th>Fence</th>\n",
              "      <th>Misc Feature</th>\n",
              "      <th>Misc Val</th>\n",
              "      <th>Mo Sold</th>\n",
              "      <th>Yr Sold</th>\n",
              "      <th>Sale Type</th>\n",
              "      <th>Sale Condition</th>\n",
              "      <th>SalePrice</th>\n",
              "    </tr>\n",
              "  </thead>\n",
              "  <tbody>\n",
              "    <tr>\n",
              "      <th>0</th>\n",
              "      <td>1</td>\n",
              "      <td>526301100</td>\n",
              "      <td>20</td>\n",
              "      <td>RL</td>\n",
              "      <td>141.0</td>\n",
              "      <td>31770</td>\n",
              "      <td>Pave</td>\n",
              "      <td>NaN</td>\n",
              "      <td>IR1</td>\n",
              "      <td>Lvl</td>\n",
              "      <td>...</td>\n",
              "      <td>0</td>\n",
              "      <td>NaN</td>\n",
              "      <td>NaN</td>\n",
              "      <td>NaN</td>\n",
              "      <td>0</td>\n",
              "      <td>5</td>\n",
              "      <td>2010</td>\n",
              "      <td>WD</td>\n",
              "      <td>Normal</td>\n",
              "      <td>215000</td>\n",
              "    </tr>\n",
              "    <tr>\n",
              "      <th>1</th>\n",
              "      <td>2</td>\n",
              "      <td>526350040</td>\n",
              "      <td>20</td>\n",
              "      <td>RH</td>\n",
              "      <td>80.0</td>\n",
              "      <td>11622</td>\n",
              "      <td>Pave</td>\n",
              "      <td>NaN</td>\n",
              "      <td>Reg</td>\n",
              "      <td>Lvl</td>\n",
              "      <td>...</td>\n",
              "      <td>0</td>\n",
              "      <td>NaN</td>\n",
              "      <td>MnPrv</td>\n",
              "      <td>NaN</td>\n",
              "      <td>0</td>\n",
              "      <td>6</td>\n",
              "      <td>2010</td>\n",
              "      <td>WD</td>\n",
              "      <td>Normal</td>\n",
              "      <td>105000</td>\n",
              "    </tr>\n",
              "    <tr>\n",
              "      <th>2</th>\n",
              "      <td>3</td>\n",
              "      <td>526351010</td>\n",
              "      <td>20</td>\n",
              "      <td>RL</td>\n",
              "      <td>81.0</td>\n",
              "      <td>14267</td>\n",
              "      <td>Pave</td>\n",
              "      <td>NaN</td>\n",
              "      <td>IR1</td>\n",
              "      <td>Lvl</td>\n",
              "      <td>...</td>\n",
              "      <td>0</td>\n",
              "      <td>NaN</td>\n",
              "      <td>NaN</td>\n",
              "      <td>Gar2</td>\n",
              "      <td>12500</td>\n",
              "      <td>6</td>\n",
              "      <td>2010</td>\n",
              "      <td>WD</td>\n",
              "      <td>Normal</td>\n",
              "      <td>172000</td>\n",
              "    </tr>\n",
              "    <tr>\n",
              "      <th>3</th>\n",
              "      <td>4</td>\n",
              "      <td>526353030</td>\n",
              "      <td>20</td>\n",
              "      <td>RL</td>\n",
              "      <td>93.0</td>\n",
              "      <td>11160</td>\n",
              "      <td>Pave</td>\n",
              "      <td>NaN</td>\n",
              "      <td>Reg</td>\n",
              "      <td>Lvl</td>\n",
              "      <td>...</td>\n",
              "      <td>0</td>\n",
              "      <td>NaN</td>\n",
              "      <td>NaN</td>\n",
              "      <td>NaN</td>\n",
              "      <td>0</td>\n",
              "      <td>4</td>\n",
              "      <td>2010</td>\n",
              "      <td>WD</td>\n",
              "      <td>Normal</td>\n",
              "      <td>244000</td>\n",
              "    </tr>\n",
              "    <tr>\n",
              "      <th>4</th>\n",
              "      <td>5</td>\n",
              "      <td>527105010</td>\n",
              "      <td>60</td>\n",
              "      <td>RL</td>\n",
              "      <td>74.0</td>\n",
              "      <td>13830</td>\n",
              "      <td>Pave</td>\n",
              "      <td>NaN</td>\n",
              "      <td>IR1</td>\n",
              "      <td>Lvl</td>\n",
              "      <td>...</td>\n",
              "      <td>0</td>\n",
              "      <td>NaN</td>\n",
              "      <td>MnPrv</td>\n",
              "      <td>NaN</td>\n",
              "      <td>0</td>\n",
              "      <td>3</td>\n",
              "      <td>2010</td>\n",
              "      <td>WD</td>\n",
              "      <td>Normal</td>\n",
              "      <td>189900</td>\n",
              "    </tr>\n",
              "    <tr>\n",
              "      <th>...</th>\n",
              "      <td>...</td>\n",
              "      <td>...</td>\n",
              "      <td>...</td>\n",
              "      <td>...</td>\n",
              "      <td>...</td>\n",
              "      <td>...</td>\n",
              "      <td>...</td>\n",
              "      <td>...</td>\n",
              "      <td>...</td>\n",
              "      <td>...</td>\n",
              "      <td>...</td>\n",
              "      <td>...</td>\n",
              "      <td>...</td>\n",
              "      <td>...</td>\n",
              "      <td>...</td>\n",
              "      <td>...</td>\n",
              "      <td>...</td>\n",
              "      <td>...</td>\n",
              "      <td>...</td>\n",
              "      <td>...</td>\n",
              "      <td>...</td>\n",
              "    </tr>\n",
              "    <tr>\n",
              "      <th>2925</th>\n",
              "      <td>2926</td>\n",
              "      <td>923275080</td>\n",
              "      <td>80</td>\n",
              "      <td>RL</td>\n",
              "      <td>37.0</td>\n",
              "      <td>7937</td>\n",
              "      <td>Pave</td>\n",
              "      <td>NaN</td>\n",
              "      <td>IR1</td>\n",
              "      <td>Lvl</td>\n",
              "      <td>...</td>\n",
              "      <td>0</td>\n",
              "      <td>NaN</td>\n",
              "      <td>GdPrv</td>\n",
              "      <td>NaN</td>\n",
              "      <td>0</td>\n",
              "      <td>3</td>\n",
              "      <td>2006</td>\n",
              "      <td>WD</td>\n",
              "      <td>Normal</td>\n",
              "      <td>142500</td>\n",
              "    </tr>\n",
              "    <tr>\n",
              "      <th>2926</th>\n",
              "      <td>2927</td>\n",
              "      <td>923276100</td>\n",
              "      <td>20</td>\n",
              "      <td>RL</td>\n",
              "      <td>NaN</td>\n",
              "      <td>8885</td>\n",
              "      <td>Pave</td>\n",
              "      <td>NaN</td>\n",
              "      <td>IR1</td>\n",
              "      <td>Low</td>\n",
              "      <td>...</td>\n",
              "      <td>0</td>\n",
              "      <td>NaN</td>\n",
              "      <td>MnPrv</td>\n",
              "      <td>NaN</td>\n",
              "      <td>0</td>\n",
              "      <td>6</td>\n",
              "      <td>2006</td>\n",
              "      <td>WD</td>\n",
              "      <td>Normal</td>\n",
              "      <td>131000</td>\n",
              "    </tr>\n",
              "    <tr>\n",
              "      <th>2927</th>\n",
              "      <td>2928</td>\n",
              "      <td>923400125</td>\n",
              "      <td>85</td>\n",
              "      <td>RL</td>\n",
              "      <td>62.0</td>\n",
              "      <td>10441</td>\n",
              "      <td>Pave</td>\n",
              "      <td>NaN</td>\n",
              "      <td>Reg</td>\n",
              "      <td>Lvl</td>\n",
              "      <td>...</td>\n",
              "      <td>0</td>\n",
              "      <td>NaN</td>\n",
              "      <td>MnPrv</td>\n",
              "      <td>Shed</td>\n",
              "      <td>700</td>\n",
              "      <td>7</td>\n",
              "      <td>2006</td>\n",
              "      <td>WD</td>\n",
              "      <td>Normal</td>\n",
              "      <td>132000</td>\n",
              "    </tr>\n",
              "    <tr>\n",
              "      <th>2928</th>\n",
              "      <td>2929</td>\n",
              "      <td>924100070</td>\n",
              "      <td>20</td>\n",
              "      <td>RL</td>\n",
              "      <td>77.0</td>\n",
              "      <td>10010</td>\n",
              "      <td>Pave</td>\n",
              "      <td>NaN</td>\n",
              "      <td>Reg</td>\n",
              "      <td>Lvl</td>\n",
              "      <td>...</td>\n",
              "      <td>0</td>\n",
              "      <td>NaN</td>\n",
              "      <td>NaN</td>\n",
              "      <td>NaN</td>\n",
              "      <td>0</td>\n",
              "      <td>4</td>\n",
              "      <td>2006</td>\n",
              "      <td>WD</td>\n",
              "      <td>Normal</td>\n",
              "      <td>170000</td>\n",
              "    </tr>\n",
              "    <tr>\n",
              "      <th>2929</th>\n",
              "      <td>2930</td>\n",
              "      <td>924151050</td>\n",
              "      <td>60</td>\n",
              "      <td>RL</td>\n",
              "      <td>74.0</td>\n",
              "      <td>9627</td>\n",
              "      <td>Pave</td>\n",
              "      <td>NaN</td>\n",
              "      <td>Reg</td>\n",
              "      <td>Lvl</td>\n",
              "      <td>...</td>\n",
              "      <td>0</td>\n",
              "      <td>NaN</td>\n",
              "      <td>NaN</td>\n",
              "      <td>NaN</td>\n",
              "      <td>0</td>\n",
              "      <td>11</td>\n",
              "      <td>2006</td>\n",
              "      <td>WD</td>\n",
              "      <td>Normal</td>\n",
              "      <td>188000</td>\n",
              "    </tr>\n",
              "  </tbody>\n",
              "</table>\n",
              "<p>2930 rows × 82 columns</p>\n",
              "</div>"
            ],
            "text/plain": [
              "      Order        PID  MS SubClass MS Zoning  Lot Frontage  Lot Area Street   \n",
              "0         1  526301100           20        RL         141.0     31770   Pave  \\\n",
              "1         2  526350040           20        RH          80.0     11622   Pave   \n",
              "2         3  526351010           20        RL          81.0     14267   Pave   \n",
              "3         4  526353030           20        RL          93.0     11160   Pave   \n",
              "4         5  527105010           60        RL          74.0     13830   Pave   \n",
              "...     ...        ...          ...       ...           ...       ...    ...   \n",
              "2925   2926  923275080           80        RL          37.0      7937   Pave   \n",
              "2926   2927  923276100           20        RL           NaN      8885   Pave   \n",
              "2927   2928  923400125           85        RL          62.0     10441   Pave   \n",
              "2928   2929  924100070           20        RL          77.0     10010   Pave   \n",
              "2929   2930  924151050           60        RL          74.0      9627   Pave   \n",
              "\n",
              "     Alley Lot Shape Land Contour  ... Pool Area Pool QC  Fence Misc Feature   \n",
              "0      NaN       IR1          Lvl  ...         0     NaN    NaN          NaN  \\\n",
              "1      NaN       Reg          Lvl  ...         0     NaN  MnPrv          NaN   \n",
              "2      NaN       IR1          Lvl  ...         0     NaN    NaN         Gar2   \n",
              "3      NaN       Reg          Lvl  ...         0     NaN    NaN          NaN   \n",
              "4      NaN       IR1          Lvl  ...         0     NaN  MnPrv          NaN   \n",
              "...    ...       ...          ...  ...       ...     ...    ...          ...   \n",
              "2925   NaN       IR1          Lvl  ...         0     NaN  GdPrv          NaN   \n",
              "2926   NaN       IR1          Low  ...         0     NaN  MnPrv          NaN   \n",
              "2927   NaN       Reg          Lvl  ...         0     NaN  MnPrv         Shed   \n",
              "2928   NaN       Reg          Lvl  ...         0     NaN    NaN          NaN   \n",
              "2929   NaN       Reg          Lvl  ...         0     NaN    NaN          NaN   \n",
              "\n",
              "     Misc Val Mo Sold Yr Sold Sale Type  Sale Condition  SalePrice  \n",
              "0           0       5    2010       WD           Normal     215000  \n",
              "1           0       6    2010       WD           Normal     105000  \n",
              "2       12500       6    2010       WD           Normal     172000  \n",
              "3           0       4    2010       WD           Normal     244000  \n",
              "4           0       3    2010       WD           Normal     189900  \n",
              "...       ...     ...     ...       ...             ...        ...  \n",
              "2925        0       3    2006       WD           Normal     142500  \n",
              "2926        0       6    2006       WD           Normal     131000  \n",
              "2927      700       7    2006       WD           Normal     132000  \n",
              "2928        0       4    2006       WD           Normal     170000  \n",
              "2929        0      11    2006       WD           Normal     188000  \n",
              "\n",
              "[2930 rows x 82 columns]"
            ]
          },
          "execution_count": 2,
          "metadata": {},
          "output_type": "execute_result"
        }
      ],
      "source": [
        "df_ames = pd.read_csv(\"https://raw.githubusercontent.com/kevindavisross/data301/main/data/AmesHousing.txt\", sep=\"\\t\")\n",
        "df_ames"
      ]
    },
    {
      "cell_type": "markdown",
      "metadata": {
        "id": "wmrmQ9KmM3j2"
      },
      "source": [
        "## Transforming Quantitative Variables\n",
        "\n",
        "One reason to transform a quantitative variable is to change the measurement units. Suppose we want the lot areas to be in acres instead of square feet. Since there are 43560 square feet in an acre, this requires dividing each lot area by 43560. We can **broadcast** the division over the entire `Series`."
      ]
    },
    {
      "cell_type": "code",
      "execution_count": 3,
      "metadata": {
        "id": "NbZkpbY4M0RC"
      },
      "outputs": [
        {
          "data": {
            "text/plain": [
              "0       0.729339\n",
              "1       0.266804\n",
              "2       0.327525\n",
              "3       0.256198\n",
              "4       0.317493\n",
              "          ...   \n",
              "2925    0.182208\n",
              "2926    0.203972\n",
              "2927    0.239692\n",
              "2928    0.229798\n",
              "2929    0.221006\n",
              "Name: Lot Area, Length: 2930, dtype: float64"
            ]
          },
          "execution_count": 3,
          "metadata": {},
          "output_type": "execute_result"
        }
      ],
      "source": [
        "df_ames[\"Lot Area\"] / 43560"
      ]
    },
    {
      "cell_type": "markdown",
      "metadata": {
        "id": "FIt1oFdXM0RH"
      },
      "source": [
        "If we want to store the results as a new variable in the `DataFrame`, we simply assign the `Series` to a new column in the `DataFrame`. The command below does two things: creates a new column in the `DataFrame` called \"Lot Area (acres)\" _and_ populates it with the values from the `Series` above."
      ]
    },
    {
      "cell_type": "code",
      "execution_count": 5,
      "metadata": {
        "id": "VarSNkmEM0RI"
      },
      "outputs": [],
      "source": [
        "df_ames[\"Lot Area (acres)\"] = df_ames[\"Lot Area\"] / 43560"
      ]
    },
    {
      "cell_type": "markdown",
      "metadata": {
        "id": "COTRQVM5M0RK"
      },
      "source": [
        "Another reason for transforming quantitative variables is to make them more amenable to analysis. To see why a variable might not be amenable to analysis, let's take a look at a histogram of lot areas."
      ]
    },
    {
      "cell_type": "code",
      "execution_count": 6,
      "metadata": {
        "id": "6_zG203bM0RK"
      },
      "outputs": [
        {
          "data": {
            "text/plain": [
              "<Axes: ylabel='Frequency'>"
            ]
          },
          "execution_count": 6,
          "metadata": {},
          "output_type": "execute_result"
        },
        {
          "data": {
            "image/png": "[encoded data removed]",
            "text/plain": [
              "<Figure size 640x480 with 1 Axes>"
            ]
          },
          "metadata": {},
          "output_type": "display_data"
        }
      ],
      "source": [
        "df_ames[\"Lot Area\"].plot.hist()"
      ]
    },
    {
      "cell_type": "markdown",
      "metadata": {
        "id": "TVANBjWjM0RN"
      },
      "source": [
        "There are a few homes with such extreme lot areas that we get virtually no resolution at the lower end of the distribution. Over 95% of the observations are in a single bin of this histogram. In other words, this variable is extremely _skewed_.\n",
        "\n",
        "One way to improve this histogram is to use more bins. But this does not solve the fundamental problem: we need more resolution at the lower end of the scale and less resolution at the higher end. One way to spread out the values at the lower end of a distribution and to compress the values at the higher end is to take the logarithm (provided that the values are all positive). Log transformations are particularly effective at dealing with data that is skewed to the right.\n",
        "\n",
        "The log function is not built into Python or `pandas`. We have to import the log function from a library called `numpy`, which contains many functions and data structures for numerical computations. In fact, `pandas` is built on top of `numpy`. When we apply `numpy`'s `log` function to a `pandas` `Series`, the function is automatically broadcast over the elements of the `Series`, returning another `Series`. Let's save the results to a variable called \"log(Lot Area)\"."
      ]
    },
    {
      "cell_type": "code",
      "execution_count": 7,
      "metadata": {
        "id": "oNxbA4lx3W5K"
      },
      "outputs": [],
      "source": [
        "import numpy as np"
      ]
    },
    {
      "cell_type": "code",
      "execution_count": 8,
      "metadata": {
        "id": "kgEZ_OJgM0RN"
      },
      "outputs": [
        {
          "data": {
            "text/plain": [
              "0       10.366278\n",
              "1        9.360655\n",
              "2        9.565704\n",
              "3        9.320091\n",
              "4        9.534595\n",
              "          ...    \n",
              "2925     8.979291\n",
              "2926     9.092120\n",
              "2927     9.253496\n",
              "2928     9.211340\n",
              "2929     9.172327\n",
              "Name: log(Lot Area), Length: 2930, dtype: float64"
            ]
          },
          "execution_count": 8,
          "metadata": {},
          "output_type": "execute_result"
        }
      ],
      "source": [
        "df_ames[\"log(Lot Area)\"] = np.log(df_ames[\"Lot Area\"])\n",
        "df_ames[\"log(Lot Area)\"]"
      ]
    },
    {
      "cell_type": "markdown",
      "metadata": {
        "id": "YOUSuOgcM0RP"
      },
      "source": [
        "These numbers are not very interpretable on their own, but if we make a histogram of these values, we see that the lower end of the distribution is now more spread out, and the extreme values are not as far out on the logarithmic scale."
      ]
    },
    {
      "cell_type": "code",
      "execution_count": 9,
      "metadata": {
        "id": "y-sg8fqMM0RQ"
      },
      "outputs": [
        {
          "data": {
            "text/plain": [
              "<Axes: ylabel='Frequency'>"
            ]
          },
          "execution_count": 9,
          "metadata": {},
          "output_type": "execute_result"
        },
        {
          "data": {
            "image/png": "[encoded data removed]",
            "text/plain": [
              "<Figure size 640x480 with 1 Axes>"
            ]
          },
          "metadata": {},
          "output_type": "display_data"
        }
      ],
      "source": [
        "df_ames[\"log(Lot Area)\"].plot.hist()"
      ]
    },
    {
      "cell_type": "markdown",
      "metadata": {
        "id": "bvmmSc-h5TH2"
      },
      "source": [
        "Warning: do NOT interpret symmetric as \"good\" and skewed as \"bad\". The shape of the data is what it is; there is no right or wrong. From an analysis perpesctive, the fact that Lot Area was skewed just meant that the histogram---which uses bins of equal width---did not adequately visualize the sample data. It is often more natural to view values that span multiple orders of magnitude on a logarithmic/multiplicative scale (\"how many *times* bigger?\") rather than a linear/absolute scale. Taking a log transformation allows us to differentially zoom in to different ranges of the data, achieving better resolution when the distribution is skewed."
      ]
    },
    {
      "cell_type": "markdown",
      "metadata": {
        "id": "3BkKKbjmNNkw"
      },
      "source": [
        "You might wonder what other mathematical functions are available in `numpy` besides `log`. For one, there is `log10`, which implements the base-10 logarithm. By default, `np.log` is the natural logarithm, base-$e$, that is, $\\ln$. Saying \"log\" to mean \"natural log\" is common practice in data science.\n",
        "\n",
        "[Here is an exhaustive list of the mathematical functions](https://docs.scipy.org/doc/numpy-1.13.0/reference/routines.math.html). All of these functions are compatible with `pandas`."
      ]
    },
    {
      "cell_type": "markdown",
      "metadata": {
        "id": "4q9EmGRbM0RS"
      },
      "source": [
        "## Transformations and Skewness\n",
        "\n",
        "It is possible for a log transformation to \"overcorrect\" for skew. For example, the \"SalePrice\" variable is also right-skewed."
      ]
    },
    {
      "cell_type": "code",
      "execution_count": 10,
      "metadata": {
        "id": "pswlc_SgM0RT"
      },
      "outputs": [
        {
          "data": {
            "text/plain": [
              "<Axes: ylabel='Frequency'>"
            ]
          },
          "execution_count": 10,
          "metadata": {},
          "output_type": "execute_result"
        },
        {
          "data": {
            "image/png": "[encoded data removed]",
            "text/plain": [
              "<Figure size 640x480 with 1 Axes>"
            ]
          },
          "metadata": {},
          "output_type": "display_data"
        }
      ],
      "source": [
        "df_ames[\"SalePrice\"].plot.hist()"
      ]
    },
    {
      "cell_type": "markdown",
      "metadata": {
        "id": "dcm4G9JCM0RW"
      },
      "source": [
        "But if we take logs, the distribution becomes somewhat left-skewed."
      ]
    },
    {
      "cell_type": "code",
      "execution_count": 11,
      "metadata": {
        "id": "oNqH4y0AM0RW"
      },
      "outputs": [
        {
          "data": {
            "text/plain": [
              "<Axes: ylabel='Frequency'>"
            ]
          },
          "execution_count": 11,
          "metadata": {},
          "output_type": "execute_result"
        },
        {
          "data": {
            "image/png": "[encoded data removed]",
            "text/plain": [
              "<Figure size 640x480 with 1 Axes>"
            ]
          },
          "metadata": {},
          "output_type": "display_data"
        }
      ],
      "source": [
        "np.log(df_ames[\"SalePrice\"]).plot.hist()"
      ]
    },
    {
      "cell_type": "markdown",
      "metadata": {
        "id": "TFchUNBGM0Rb"
      },
      "source": [
        "Is there a transformation that makes the resulting distribution more symmetric?\n",
        "\n",
        "In fact, log is just one transformation in a whole family of transformations. Because the transformations in this family involve raising the values to some power, the statistician John Tukey called this the **ladder of powers**:\n",
        "\n",
        "$$ x(\\lambda) = \\begin{cases} x^\\lambda & \\lambda > 0 \\\\  \\log(x) & \\lambda = 0 \\\\ -x^\\lambda & \\lambda < 0 \\end{cases} $$\n",
        "\n",
        "$\\lambda = 1$ corresponds to no transformation at all. (If you're interested in why $\\lambda = 0$ corresponds to $\\log$ in the ladder of powers, see the \"Optional\" section at the bottom of this notebook.)\n",
        "\n",
        "As we decrease $\\lambda$, the distribution becomes more left-skewed (which is useful when the original distribution is right-skewed). Since log ($\\lambda = 0$) was an \"overcorrection\" for SalePrice, let's back off and increase $\\lambda$:"
      ]
    },
    {
      "cell_type": "code",
      "execution_count": 12,
      "metadata": {
        "id": "dslYnrJkM0Rb"
      },
      "outputs": [
        {
          "data": {
            "text/plain": [
              "<Axes: ylabel='Frequency'>"
            ]
          },
          "execution_count": 12,
          "metadata": {},
          "output_type": "execute_result"
        },
        {
          "data": {
            "image/png": "[encoded data removed]",
            "text/plain": [
              "<Figure size 640x480 with 1 Axes>"
            ]
          },
          "metadata": {},
          "output_type": "display_data"
        }
      ],
      "source": [
        "(df_ames[\"SalePrice\"] ** 0.3).plot.hist()"
      ]
    },
    {
      "cell_type": "markdown",
      "metadata": {
        "id": "8Jp3XdrKM0Re"
      },
      "source": [
        "This distribution seems a little more symmetric. We can move $\\lambda$ up and down the ladder until the distribution is the shape we want.\n",
        "\n",
        "Remember: do NOT interpret symmetric as \"good\" and skewed as \"bad\". The shape of the data is what it is; there is no right or wrong. However, symmetric distributions are the easiest to interpret, so transforming a distribution can aid interpretation; though now the interpretation refers to the transformed rather than original variable."
      ]
    },
    {
      "cell_type": "markdown",
      "metadata": {
        "id": "DWiPHR8RM0Rg"
      },
      "source": [
        "## Combining Variables\n",
        "\n",
        "We can also create new variables out of multiple existing variables. For example, in the current data set, the information about when a house was sold is spread across two variables, \"Yr Sold\" and \"Mo Sold\" (1-12 indicating the month). We can combine these two variables into one, by dividing the month the house was sold by 12 and then adding that to the year. So for example, this new variable would equal 2010.5 if the house was sold in June 2010 and 2006.75 if it was sold in September 2006."
      ]
    },
    {
      "cell_type": "code",
      "execution_count": 13,
      "metadata": {
        "id": "xHrV8H8EM0Rh"
      },
      "outputs": [
        {
          "data": {
            "text/plain": [
              "0       2010.416667\n",
              "1       2010.500000\n",
              "2       2010.500000\n",
              "3       2010.333333\n",
              "4       2010.250000\n",
              "           ...     \n",
              "2925    2006.250000\n",
              "2926    2006.500000\n",
              "2927    2006.583333\n",
              "2928    2006.333333\n",
              "2929    2006.916667\n",
              "Name: Date Sold, Length: 2930, dtype: float64"
            ]
          },
          "execution_count": 13,
          "metadata": {},
          "output_type": "execute_result"
        }
      ],
      "source": [
        "df_ames[\"Date Sold\"] = df_ames[\"Yr Sold\"] + df_ames[\"Mo Sold\"] / 12\n",
        "df_ames[\"Date Sold\"]"
      ]
    },
    {
      "cell_type": "markdown",
      "metadata": {
        "id": "pDacnlCZEFup"
      },
      "source": [
        "Take a look at the three columns"
      ]
    },
    {
      "cell_type": "code",
      "execution_count": 14,
      "metadata": {
        "id": "bwfqMd6gEFHw"
      },
      "outputs": [
        {
          "data": {
            "text/html": [
              "<div>\n",
              "<style scoped>\n",
              "    .dataframe tbody tr th:only-of-type {\n",
              "        vertical-align: middle;\n",
              "    }\n",
              "\n",
              "    .dataframe tbody tr th {\n",
              "        vertical-align: top;\n",
              "    }\n",
              "\n",
              "    .dataframe thead th {\n",
              "        text-align: right;\n",
              "    }\n",
              "</style>\n",
              "<table border=\"1\" class=\"dataframe\">\n",
              "  <thead>\n",
              "    <tr style=\"text-align: right;\">\n",
              "      <th></th>\n",
              "      <th>Yr Sold</th>\n",
              "      <th>Mo Sold</th>\n",
              "      <th>Date Sold</th>\n",
              "    </tr>\n",
              "  </thead>\n",
              "  <tbody>\n",
              "    <tr>\n",
              "      <th>0</th>\n",
              "      <td>2010</td>\n",
              "      <td>5</td>\n",
              "      <td>2010.416667</td>\n",
              "    </tr>\n",
              "    <tr>\n",
              "      <th>1</th>\n",
              "      <td>2010</td>\n",
              "      <td>6</td>\n",
              "      <td>2010.500000</td>\n",
              "    </tr>\n",
              "    <tr>\n",
              "      <th>2</th>\n",
              "      <td>2010</td>\n",
              "      <td>6</td>\n",
              "      <td>2010.500000</td>\n",
              "    </tr>\n",
              "    <tr>\n",
              "      <th>3</th>\n",
              "      <td>2010</td>\n",
              "      <td>4</td>\n",
              "      <td>2010.333333</td>\n",
              "    </tr>\n",
              "    <tr>\n",
              "      <th>4</th>\n",
              "      <td>2010</td>\n",
              "      <td>3</td>\n",
              "      <td>2010.250000</td>\n",
              "    </tr>\n",
              "    <tr>\n",
              "      <th>...</th>\n",
              "      <td>...</td>\n",
              "      <td>...</td>\n",
              "      <td>...</td>\n",
              "    </tr>\n",
              "    <tr>\n",
              "      <th>2925</th>\n",
              "      <td>2006</td>\n",
              "      <td>3</td>\n",
              "      <td>2006.250000</td>\n",
              "    </tr>\n",
              "    <tr>\n",
              "      <th>2926</th>\n",
              "      <td>2006</td>\n",
              "      <td>6</td>\n",
              "      <td>2006.500000</td>\n",
              "    </tr>\n",
              "    <tr>\n",
              "      <th>2927</th>\n",
              "      <td>2006</td>\n",
              "      <td>7</td>\n",
              "      <td>2006.583333</td>\n",
              "    </tr>\n",
              "    <tr>\n",
              "      <th>2928</th>\n",
              "      <td>2006</td>\n",
              "      <td>4</td>\n",
              "      <td>2006.333333</td>\n",
              "    </tr>\n",
              "    <tr>\n",
              "      <th>2929</th>\n",
              "      <td>2006</td>\n",
              "      <td>11</td>\n",
              "      <td>2006.916667</td>\n",
              "    </tr>\n",
              "  </tbody>\n",
              "</table>\n",
              "<p>2930 rows × 3 columns</p>\n",
              "</div>"
            ],
            "text/plain": [
              "      Yr Sold  Mo Sold    Date Sold\n",
              "0        2010        5  2010.416667\n",
              "1        2010        6  2010.500000\n",
              "2        2010        6  2010.500000\n",
              "3        2010        4  2010.333333\n",
              "4        2010        3  2010.250000\n",
              "...       ...      ...          ...\n",
              "2925     2006        3  2006.250000\n",
              "2926     2006        6  2006.500000\n",
              "2927     2006        7  2006.583333\n",
              "2928     2006        4  2006.333333\n",
              "2929     2006       11  2006.916667\n",
              "\n",
              "[2930 rows x 3 columns]"
            ]
          },
          "execution_count": 14,
          "metadata": {},
          "output_type": "execute_result"
        }
      ],
      "source": [
        "df_ames[[\"Yr Sold\", \"Mo Sold\", \"Date Sold\"]]"
      ]
    },
    {
      "cell_type": "markdown",
      "metadata": {
        "id": "IEunBKQ8M0Rl"
      },
      "source": [
        "Notice how division by 12 is _broadcast_ over the elements of the `Series` `df_ames[\"Mo Sold\"]` to produce a new `Series`. The resulting `Series` is then added to `df_ames[\"Yr Sold\"]`. The addition here is _elementwise_. This is an example of another feature of `pandas` and `numpy` called **vectorization**. In general, arithmetic operations between two `Series` (or two `DataFrame`s) are applied elementwise, resulting in a `Series` (or `DataFrame`) of the same shape.\n",
        "\n",
        "This property is called _vectorization_ because it mimics the way vectors work in math. For example, to add two vectors, we add each component separately:\n",
        "\n",
        "$$ {\\bf v} + {\\bf w} = \\begin{pmatrix} v_1 \\\\ \\vdots \\\\ v_n \\end{pmatrix} + \\begin{pmatrix} w_1 \\\\ \\vdots \\\\ w_n \\end{pmatrix} = \\begin{pmatrix} v_1 + w_1 \\\\ \\vdots \\\\ v_n + w_n \\end{pmatrix}, $$\n",
        "\n",
        "which is exactly how `Series` addition works. The analogy to vectors is not perfect. For example, we are allowed to divide two `Series` elementwise, which comes in handy if we want to calculate a per-unit metric (like cost per square foot):"
      ]
    },
    {
      "cell_type": "code",
      "execution_count": 15,
      "metadata": {
        "id": "D86t7lmyM0Rm"
      },
      "outputs": [
        {
          "data": {
            "text/html": [
              "<div>\n",
              "<style scoped>\n",
              "    .dataframe tbody tr th:only-of-type {\n",
              "        vertical-align: middle;\n",
              "    }\n",
              "\n",
              "    .dataframe tbody tr th {\n",
              "        vertical-align: top;\n",
              "    }\n",
              "\n",
              "    .dataframe thead th {\n",
              "        text-align: right;\n",
              "    }\n",
              "</style>\n",
              "<table border=\"1\" class=\"dataframe\">\n",
              "  <thead>\n",
              "    <tr style=\"text-align: right;\">\n",
              "      <th></th>\n",
              "      <th>SalePrice</th>\n",
              "      <th>Gr Liv Area</th>\n",
              "      <th>Cost per Sq Ft</th>\n",
              "    </tr>\n",
              "  </thead>\n",
              "  <tbody>\n",
              "    <tr>\n",
              "      <th>0</th>\n",
              "      <td>215000</td>\n",
              "      <td>1656</td>\n",
              "      <td>129.830918</td>\n",
              "    </tr>\n",
              "    <tr>\n",
              "      <th>1</th>\n",
              "      <td>105000</td>\n",
              "      <td>896</td>\n",
              "      <td>117.187500</td>\n",
              "    </tr>\n",
              "    <tr>\n",
              "      <th>2</th>\n",
              "      <td>172000</td>\n",
              "      <td>1329</td>\n",
              "      <td>129.420617</td>\n",
              "    </tr>\n",
              "    <tr>\n",
              "      <th>3</th>\n",
              "      <td>244000</td>\n",
              "      <td>2110</td>\n",
              "      <td>115.639810</td>\n",
              "    </tr>\n",
              "    <tr>\n",
              "      <th>4</th>\n",
              "      <td>189900</td>\n",
              "      <td>1629</td>\n",
              "      <td>116.574586</td>\n",
              "    </tr>\n",
              "    <tr>\n",
              "      <th>...</th>\n",
              "      <td>...</td>\n",
              "      <td>...</td>\n",
              "      <td>...</td>\n",
              "    </tr>\n",
              "    <tr>\n",
              "      <th>2925</th>\n",
              "      <td>142500</td>\n",
              "      <td>1003</td>\n",
              "      <td>142.073779</td>\n",
              "    </tr>\n",
              "    <tr>\n",
              "      <th>2926</th>\n",
              "      <td>131000</td>\n",
              "      <td>902</td>\n",
              "      <td>145.232816</td>\n",
              "    </tr>\n",
              "    <tr>\n",
              "      <th>2927</th>\n",
              "      <td>132000</td>\n",
              "      <td>970</td>\n",
              "      <td>136.082474</td>\n",
              "    </tr>\n",
              "    <tr>\n",
              "      <th>2928</th>\n",
              "      <td>170000</td>\n",
              "      <td>1389</td>\n",
              "      <td>122.390209</td>\n",
              "    </tr>\n",
              "    <tr>\n",
              "      <th>2929</th>\n",
              "      <td>188000</td>\n",
              "      <td>2000</td>\n",
              "      <td>94.000000</td>\n",
              "    </tr>\n",
              "  </tbody>\n",
              "</table>\n",
              "<p>2930 rows × 3 columns</p>\n",
              "</div>"
            ],
            "text/plain": [
              "      SalePrice  Gr Liv Area  Cost per Sq Ft\n",
              "0        215000         1656      129.830918\n",
              "1        105000          896      117.187500\n",
              "2        172000         1329      129.420617\n",
              "3        244000         2110      115.639810\n",
              "4        189900         1629      116.574586\n",
              "...         ...          ...             ...\n",
              "2925     142500         1003      142.073779\n",
              "2926     131000          902      145.232816\n",
              "2927     132000          970      136.082474\n",
              "2928     170000         1389      122.390209\n",
              "2929     188000         2000       94.000000\n",
              "\n",
              "[2930 rows x 3 columns]"
            ]
          },
          "execution_count": 15,
          "metadata": {},
          "output_type": "execute_result"
        }
      ],
      "source": [
        "df_ames[\"Cost per Sq Ft\"] = df_ames[\"SalePrice\"] / df_ames[\"Gr Liv Area\"]\n",
        "df_ames[[\"SalePrice\", \"Gr Liv Area\", \"Cost per Sq Ft\"]]"
      ]
    },
    {
      "cell_type": "markdown",
      "metadata": {
        "id": "iQ-6j0TnM0Rp"
      },
      "source": [
        "However, in math, division of two vectors is not defined: $ {\\bf v}\\ /\\ {\\bf w} =\\ ? $"
      ]
    },
    {
      "cell_type": "markdown",
      "metadata": {
        "id": "VwA9mU6O6Msb"
      },
      "source": [
        "## Converting Between Categorical and Quantitative Variables"
      ]
    },
    {
      "cell_type": "markdown",
      "metadata": {
        "id": "5DUz6g0G6Msu"
      },
      "source": [
        "We have seen how quantitative variables can be converted to categorical variables using the `cut` function. What about the other way around? Can categorical variables be converted to quantitative ones? We'll use the Titanic data set as an example.\n",
        "\n",
        "Binary categorical variables (categorical variables with exactly two categories---which are often of the form \"some category of interest\" and \"everything else\") can be converted into quantitative variables by coding one category as 1 and the other category as 0. The resulting 1/0 variable is sometimes called an \"indicator\" or \"Bernoulli\" variable. The **survived** column in the Titanic data set has already been coded this way. The easiest way to convert a categorical variable to an indicator to create a boolean mask. For example, to convert **type** (crew or passenger) to a quantitative variable **crew_indicator**, which is 1 for crew members and 0 otherwise, we can do the following:"
      ]
    },
    {
      "cell_type": "code",
      "execution_count": 16,
      "metadata": {
        "id": "hY_gh0waE7fe"
      },
      "outputs": [
        {
          "data": {
            "text/html": [
              "<div>\n",
              "<style scoped>\n",
              "    .dataframe tbody tr th:only-of-type {\n",
              "        vertical-align: middle;\n",
              "    }\n",
              "\n",
              "    .dataframe tbody tr th {\n",
              "        vertical-align: top;\n",
              "    }\n",
              "\n",
              "    .dataframe thead th {\n",
              "        text-align: right;\n",
              "    }\n",
              "</style>\n",
              "<table border=\"1\" class=\"dataframe\">\n",
              "  <thead>\n",
              "    <tr style=\"text-align: right;\">\n",
              "      <th></th>\n",
              "      <th>name</th>\n",
              "      <th>gender</th>\n",
              "      <th>age</th>\n",
              "      <th>class</th>\n",
              "      <th>embarked</th>\n",
              "      <th>country</th>\n",
              "      <th>ticketno</th>\n",
              "      <th>fare</th>\n",
              "      <th>survived</th>\n",
              "      <th>pclass</th>\n",
              "      <th>crew</th>\n",
              "      <th>type</th>\n",
              "    </tr>\n",
              "  </thead>\n",
              "  <tbody>\n",
              "    <tr>\n",
              "      <th>0</th>\n",
              "      <td>Abbing, Mr. Anthony</td>\n",
              "      <td>male</td>\n",
              "      <td>42.0</td>\n",
              "      <td>3rd</td>\n",
              "      <td>S</td>\n",
              "      <td>United States</td>\n",
              "      <td>5547.0</td>\n",
              "      <td>7.11</td>\n",
              "      <td>0</td>\n",
              "      <td>3.0</td>\n",
              "      <td>NaN</td>\n",
              "      <td>passenger</td>\n",
              "    </tr>\n",
              "    <tr>\n",
              "      <th>1</th>\n",
              "      <td>Abbott, Mr. Eugene Joseph</td>\n",
              "      <td>male</td>\n",
              "      <td>13.0</td>\n",
              "      <td>3rd</td>\n",
              "      <td>S</td>\n",
              "      <td>United States</td>\n",
              "      <td>2673.0</td>\n",
              "      <td>20.05</td>\n",
              "      <td>0</td>\n",
              "      <td>3.0</td>\n",
              "      <td>NaN</td>\n",
              "      <td>passenger</td>\n",
              "    </tr>\n",
              "    <tr>\n",
              "      <th>2</th>\n",
              "      <td>Abbott, Mr. Rossmore Edward</td>\n",
              "      <td>male</td>\n",
              "      <td>16.0</td>\n",
              "      <td>3rd</td>\n",
              "      <td>S</td>\n",
              "      <td>United States</td>\n",
              "      <td>2673.0</td>\n",
              "      <td>20.05</td>\n",
              "      <td>0</td>\n",
              "      <td>3.0</td>\n",
              "      <td>NaN</td>\n",
              "      <td>passenger</td>\n",
              "    </tr>\n",
              "    <tr>\n",
              "      <th>3</th>\n",
              "      <td>Abbott, Mrs. Rhoda Mary 'Rosa'</td>\n",
              "      <td>female</td>\n",
              "      <td>39.0</td>\n",
              "      <td>3rd</td>\n",
              "      <td>S</td>\n",
              "      <td>England</td>\n",
              "      <td>2673.0</td>\n",
              "      <td>20.05</td>\n",
              "      <td>1</td>\n",
              "      <td>3.0</td>\n",
              "      <td>NaN</td>\n",
              "      <td>passenger</td>\n",
              "    </tr>\n",
              "    <tr>\n",
              "      <th>4</th>\n",
              "      <td>Abelseth, Miss. Karen Marie</td>\n",
              "      <td>female</td>\n",
              "      <td>16.0</td>\n",
              "      <td>3rd</td>\n",
              "      <td>S</td>\n",
              "      <td>Norway</td>\n",
              "      <td>348125.0</td>\n",
              "      <td>7.13</td>\n",
              "      <td>1</td>\n",
              "      <td>3.0</td>\n",
              "      <td>NaN</td>\n",
              "      <td>passenger</td>\n",
              "    </tr>\n",
              "    <tr>\n",
              "      <th>...</th>\n",
              "      <td>...</td>\n",
              "      <td>...</td>\n",
              "      <td>...</td>\n",
              "      <td>...</td>\n",
              "      <td>...</td>\n",
              "      <td>...</td>\n",
              "      <td>...</td>\n",
              "      <td>...</td>\n",
              "      <td>...</td>\n",
              "      <td>...</td>\n",
              "      <td>...</td>\n",
              "      <td>...</td>\n",
              "    </tr>\n",
              "    <tr>\n",
              "      <th>2202</th>\n",
              "      <td>Wynn, Mr. Walter</td>\n",
              "      <td>male</td>\n",
              "      <td>41.0</td>\n",
              "      <td>deck crew</td>\n",
              "      <td>B</td>\n",
              "      <td>England</td>\n",
              "      <td>NaN</td>\n",
              "      <td>NaN</td>\n",
              "      <td>1</td>\n",
              "      <td>NaN</td>\n",
              "      <td>deck crew</td>\n",
              "      <td>crew</td>\n",
              "    </tr>\n",
              "    <tr>\n",
              "      <th>2203</th>\n",
              "      <td>Yearsley, Mr. Harry</td>\n",
              "      <td>male</td>\n",
              "      <td>40.0</td>\n",
              "      <td>victualling crew</td>\n",
              "      <td>S</td>\n",
              "      <td>England</td>\n",
              "      <td>NaN</td>\n",
              "      <td>NaN</td>\n",
              "      <td>1</td>\n",
              "      <td>NaN</td>\n",
              "      <td>victualling crew</td>\n",
              "      <td>crew</td>\n",
              "    </tr>\n",
              "    <tr>\n",
              "      <th>2204</th>\n",
              "      <td>Young, Mr. Francis James</td>\n",
              "      <td>male</td>\n",
              "      <td>32.0</td>\n",
              "      <td>engineering crew</td>\n",
              "      <td>S</td>\n",
              "      <td>England</td>\n",
              "      <td>NaN</td>\n",
              "      <td>NaN</td>\n",
              "      <td>0</td>\n",
              "      <td>NaN</td>\n",
              "      <td>engineering crew</td>\n",
              "      <td>crew</td>\n",
              "    </tr>\n",
              "    <tr>\n",
              "      <th>2205</th>\n",
              "      <td>Zanetti, Sig. Minio</td>\n",
              "      <td>male</td>\n",
              "      <td>20.0</td>\n",
              "      <td>restaurant staff</td>\n",
              "      <td>S</td>\n",
              "      <td>England</td>\n",
              "      <td>NaN</td>\n",
              "      <td>NaN</td>\n",
              "      <td>0</td>\n",
              "      <td>NaN</td>\n",
              "      <td>restaurant staff</td>\n",
              "      <td>crew</td>\n",
              "    </tr>\n",
              "    <tr>\n",
              "      <th>2206</th>\n",
              "      <td>Zarracchi, Sig. L.</td>\n",
              "      <td>male</td>\n",
              "      <td>26.0</td>\n",
              "      <td>restaurant staff</td>\n",
              "      <td>S</td>\n",
              "      <td>England</td>\n",
              "      <td>NaN</td>\n",
              "      <td>NaN</td>\n",
              "      <td>0</td>\n",
              "      <td>NaN</td>\n",
              "      <td>restaurant staff</td>\n",
              "      <td>crew</td>\n",
              "    </tr>\n",
              "  </tbody>\n",
              "</table>\n",
              "<p>2207 rows × 12 columns</p>\n",
              "</div>"
            ],
            "text/plain": [
              "                                name  gender   age             class embarked   \n",
              "0                Abbing, Mr. Anthony    male  42.0               3rd        S  \\\n",
              "1          Abbott, Mr. Eugene Joseph    male  13.0               3rd        S   \n",
              "2        Abbott, Mr. Rossmore Edward    male  16.0               3rd        S   \n",
              "3     Abbott, Mrs. Rhoda Mary 'Rosa'  female  39.0               3rd        S   \n",
              "4        Abelseth, Miss. Karen Marie  female  16.0               3rd        S   \n",
              "...                              ...     ...   ...               ...      ...   \n",
              "2202                Wynn, Mr. Walter    male  41.0         deck crew        B   \n",
              "2203             Yearsley, Mr. Harry    male  40.0  victualling crew        S   \n",
              "2204        Young, Mr. Francis James    male  32.0  engineering crew        S   \n",
              "2205             Zanetti, Sig. Minio    male  20.0  restaurant staff        S   \n",
              "2206              Zarracchi, Sig. L.    male  26.0  restaurant staff        S   \n",
              "\n",
              "            country  ticketno   fare  survived  pclass              crew   \n",
              "0     United States    5547.0   7.11         0     3.0               NaN  \\\n",
              "1     United States    2673.0  20.05         0     3.0               NaN   \n",
              "2     United States    2673.0  20.05         0     3.0               NaN   \n",
              "3           England    2673.0  20.05         1     3.0               NaN   \n",
              "4            Norway  348125.0   7.13         1     3.0               NaN   \n",
              "...             ...       ...    ...       ...     ...               ...   \n",
              "2202        England       NaN    NaN         1     NaN         deck crew   \n",
              "2203        England       NaN    NaN         1     NaN  victualling crew   \n",
              "2204        England       NaN    NaN         0     NaN  engineering crew   \n",
              "2205        England       NaN    NaN         0     NaN  restaurant staff   \n",
              "2206        England       NaN    NaN         0     NaN  restaurant staff   \n",
              "\n",
              "           type  \n",
              "0     passenger  \n",
              "1     passenger  \n",
              "2     passenger  \n",
              "3     passenger  \n",
              "4     passenger  \n",
              "...         ...  \n",
              "2202       crew  \n",
              "2203       crew  \n",
              "2204       crew  \n",
              "2205       crew  \n",
              "2206       crew  \n",
              "\n",
              "[2207 rows x 12 columns]"
            ]
          },
          "execution_count": 16,
          "metadata": {},
          "output_type": "execute_result"
        }
      ],
      "source": [
        "df_titanic = pd.read_csv(\"https://raw.githubusercontent.com/kevindavisross/data301/main/data/titanic.csv\")\n",
        "\n",
        "def class_to_type(c):\n",
        "  if c in [\"1st\", \"2nd\", \"3rd\"]:\n",
        "    return \"passenger\"\n",
        "  else:\n",
        "    return \"crew\"\n",
        "\n",
        "df_titanic[\"type\"] = df_titanic[\"class\"].map(class_to_type)\n",
        "\n",
        "df_titanic"
      ]
    },
    {
      "cell_type": "code",
      "execution_count": 17,
      "metadata": {
        "id": "LvuzF15m6Msx"
      },
      "outputs": [
        {
          "data": {
            "text/plain": [
              "0       0\n",
              "1       0\n",
              "2       0\n",
              "3       0\n",
              "4       0\n",
              "       ..\n",
              "2202    1\n",
              "2203    1\n",
              "2204    1\n",
              "2205    1\n",
              "2206    1\n",
              "Name: crew_indicator, Length: 2207, dtype: int64"
            ]
          },
          "execution_count": 17,
          "metadata": {},
          "output_type": "execute_result"
        }
      ],
      "source": [
        "df_titanic[\"crew_indicator\"] = 1 * (df_titanic[\"type\"] == \"crew\")\n",
        "df_titanic[\"crew_indicator\"]"
      ]
    },
    {
      "cell_type": "markdown",
      "metadata": {
        "id": "k2N9xUF56Msy"
      },
      "source": [
        "Multiplying by 1 converts the `Series` of booleans to a `Series` of integers, which Pandas will interpret as quantitative.\n",
        "\n",
        "Now we can manipulate this new variable as we would any other quantitative variable. For example, the sum would tell us how many onboard were crew members, while the mean would tell us the _proportion_ of those on board who were crew members."
      ]
    },
    {
      "cell_type": "code",
      "execution_count": 18,
      "metadata": {
        "id": "fR-Yrjfn6Ms0"
      },
      "outputs": [
        {
          "data": {
            "text/plain": [
              "(890, 0.40326234707748077)"
            ]
          },
          "execution_count": 18,
          "metadata": {},
          "output_type": "execute_result"
        }
      ],
      "source": [
        "df_titanic[\"crew_indicator\"].sum(), df_titanic[\"crew_indicator\"].mean()"
      ]
    },
    {
      "cell_type": "markdown",
      "metadata": {
        "id": "Q5HbIzJj6Ms3"
      },
      "source": [
        "What do we do about a categorical variable with more than two categories, like `embarked`, which has four categories (B, C, Q, S)? In general, a categorical variable with $K$ categories can be converted into $K$ separate 0/1 variables, or **dummy variables**. This is called **dummy encoding** or **one-hot encoding**. Each of the $K$ dummy variables is an indicator for one of the $K$ categories. That is, a dummy variable is 1 if the observation fell into its particular category and 0 otherwise.\n",
        "\n",
        "Although it is not difficult to create dummy variables manually, the easiest way to create them is the `get_dummies()` function in `pandas`."
      ]
    },
    {
      "cell_type": "code",
      "execution_count": 19,
      "metadata": {
        "id": "6sTKi4RB6Ms5"
      },
      "outputs": [
        {
          "data": {
            "text/html": [
              "<div>\n",
              "<style scoped>\n",
              "    .dataframe tbody tr th:only-of-type {\n",
              "        vertical-align: middle;\n",
              "    }\n",
              "\n",
              "    .dataframe tbody tr th {\n",
              "        vertical-align: top;\n",
              "    }\n",
              "\n",
              "    .dataframe thead th {\n",
              "        text-align: right;\n",
              "    }\n",
              "</style>\n",
              "<table border=\"1\" class=\"dataframe\">\n",
              "  <thead>\n",
              "    <tr style=\"text-align: right;\">\n",
              "      <th></th>\n",
              "      <th>B</th>\n",
              "      <th>C</th>\n",
              "      <th>Q</th>\n",
              "      <th>S</th>\n",
              "    </tr>\n",
              "  </thead>\n",
              "  <tbody>\n",
              "    <tr>\n",
              "      <th>0</th>\n",
              "      <td>False</td>\n",
              "      <td>False</td>\n",
              "      <td>False</td>\n",
              "      <td>True</td>\n",
              "    </tr>\n",
              "    <tr>\n",
              "      <th>1</th>\n",
              "      <td>False</td>\n",
              "      <td>False</td>\n",
              "      <td>False</td>\n",
              "      <td>True</td>\n",
              "    </tr>\n",
              "    <tr>\n",
              "      <th>2</th>\n",
              "      <td>False</td>\n",
              "      <td>False</td>\n",
              "      <td>False</td>\n",
              "      <td>True</td>\n",
              "    </tr>\n",
              "    <tr>\n",
              "      <th>3</th>\n",
              "      <td>False</td>\n",
              "      <td>False</td>\n",
              "      <td>False</td>\n",
              "      <td>True</td>\n",
              "    </tr>\n",
              "    <tr>\n",
              "      <th>4</th>\n",
              "      <td>False</td>\n",
              "      <td>False</td>\n",
              "      <td>False</td>\n",
              "      <td>True</td>\n",
              "    </tr>\n",
              "    <tr>\n",
              "      <th>...</th>\n",
              "      <td>...</td>\n",
              "      <td>...</td>\n",
              "      <td>...</td>\n",
              "      <td>...</td>\n",
              "    </tr>\n",
              "    <tr>\n",
              "      <th>2202</th>\n",
              "      <td>True</td>\n",
              "      <td>False</td>\n",
              "      <td>False</td>\n",
              "      <td>False</td>\n",
              "    </tr>\n",
              "    <tr>\n",
              "      <th>2203</th>\n",
              "      <td>False</td>\n",
              "      <td>False</td>\n",
              "      <td>False</td>\n",
              "      <td>True</td>\n",
              "    </tr>\n",
              "    <tr>\n",
              "      <th>2204</th>\n",
              "      <td>False</td>\n",
              "      <td>False</td>\n",
              "      <td>False</td>\n",
              "      <td>True</td>\n",
              "    </tr>\n",
              "    <tr>\n",
              "      <th>2205</th>\n",
              "      <td>False</td>\n",
              "      <td>False</td>\n",
              "      <td>False</td>\n",
              "      <td>True</td>\n",
              "    </tr>\n",
              "    <tr>\n",
              "      <th>2206</th>\n",
              "      <td>False</td>\n",
              "      <td>False</td>\n",
              "      <td>False</td>\n",
              "      <td>True</td>\n",
              "    </tr>\n",
              "  </tbody>\n",
              "</table>\n",
              "<p>2207 rows × 4 columns</p>\n",
              "</div>"
            ],
            "text/plain": [
              "          B      C      Q      S\n",
              "0     False  False  False   True\n",
              "1     False  False  False   True\n",
              "2     False  False  False   True\n",
              "3     False  False  False   True\n",
              "4     False  False  False   True\n",
              "...     ...    ...    ...    ...\n",
              "2202   True  False  False  False\n",
              "2203  False  False  False   True\n",
              "2204  False  False  False   True\n",
              "2205  False  False  False   True\n",
              "2206  False  False  False   True\n",
              "\n",
              "[2207 rows x 4 columns]"
            ]
          },
          "execution_count": 19,
          "metadata": {},
          "output_type": "execute_result"
        }
      ],
      "source": [
        "pd.get_dummies(df_titanic[\"embarked\"])"
      ]
    },
    {
      "cell_type": "markdown",
      "metadata": {
        "id": "dmR-wdts6Ms8"
      },
      "source": [
        "Since every observation is in exactly one category, each row contains exactly one 1; the rest of the values in each row are 0s. (Well, if an observation is missing the value of the categorical variable (NaN) then all of the dummy values in the row will be 0.)\n",
        "\n",
        "We can call `get_dummies` on a `DataFrame` to encode multiple categorical variables at once. `pandas` will only dummy-encode the variables it deems as categorical, leaving the quantitative variables alone. If there are any categorical variables that are represented in the `DataFrame` using numeric types, they must be cast explicitly to a categorical type, such as `str`.  `pandas` will also automatically prepend the variable name to all dummy variables, to prevent collisions between column names in the final `DataFrame`."
      ]
    },
    {
      "cell_type": "code",
      "execution_count": 20,
      "metadata": {
        "id": "0AXw0iVz6Ms-"
      },
      "outputs": [
        {
          "data": {
            "text/html": [
              "<div>\n",
              "<style scoped>\n",
              "    .dataframe tbody tr th:only-of-type {\n",
              "        vertical-align: middle;\n",
              "    }\n",
              "\n",
              "    .dataframe tbody tr th {\n",
              "        vertical-align: top;\n",
              "    }\n",
              "\n",
              "    .dataframe thead th {\n",
              "        text-align: right;\n",
              "    }\n",
              "</style>\n",
              "<table border=\"1\" class=\"dataframe\">\n",
              "  <thead>\n",
              "    <tr style=\"text-align: right;\">\n",
              "      <th></th>\n",
              "      <th>age</th>\n",
              "      <th>fare</th>\n",
              "      <th>survived</th>\n",
              "      <th>pclass</th>\n",
              "      <th>crew_indicator</th>\n",
              "      <th>gender_female</th>\n",
              "      <th>gender_male</th>\n",
              "      <th>class_1st</th>\n",
              "      <th>class_2nd</th>\n",
              "      <th>class_3rd</th>\n",
              "      <th>...</th>\n",
              "      <th>country_United States</th>\n",
              "      <th>country_Uruguay</th>\n",
              "      <th>country_Wales</th>\n",
              "      <th>country_Yugoslavia</th>\n",
              "      <th>crew_deck crew</th>\n",
              "      <th>crew_engineering crew</th>\n",
              "      <th>crew_restaurant staff</th>\n",
              "      <th>crew_victualling crew</th>\n",
              "      <th>type_crew</th>\n",
              "      <th>type_passenger</th>\n",
              "    </tr>\n",
              "  </thead>\n",
              "  <tbody>\n",
              "    <tr>\n",
              "      <th>0</th>\n",
              "      <td>42.0</td>\n",
              "      <td>7.11</td>\n",
              "      <td>0</td>\n",
              "      <td>3.0</td>\n",
              "      <td>0</td>\n",
              "      <td>False</td>\n",
              "      <td>True</td>\n",
              "      <td>False</td>\n",
              "      <td>False</td>\n",
              "      <td>True</td>\n",
              "      <td>...</td>\n",
              "      <td>True</td>\n",
              "      <td>False</td>\n",
              "      <td>False</td>\n",
              "      <td>False</td>\n",
              "      <td>False</td>\n",
              "      <td>False</td>\n",
              "      <td>False</td>\n",
              "      <td>False</td>\n",
              "      <td>False</td>\n",
              "      <td>True</td>\n",
              "    </tr>\n",
              "    <tr>\n",
              "      <th>1</th>\n",
              "      <td>13.0</td>\n",
              "      <td>20.05</td>\n",
              "      <td>0</td>\n",
              "      <td>3.0</td>\n",
              "      <td>0</td>\n",
              "      <td>False</td>\n",
              "      <td>True</td>\n",
              "      <td>False</td>\n",
              "      <td>False</td>\n",
              "      <td>True</td>\n",
              "      <td>...</td>\n",
              "      <td>True</td>\n",
              "      <td>False</td>\n",
              "      <td>False</td>\n",
              "      <td>False</td>\n",
              "      <td>False</td>\n",
              "      <td>False</td>\n",
              "      <td>False</td>\n",
              "      <td>False</td>\n",
              "      <td>False</td>\n",
              "      <td>True</td>\n",
              "    </tr>\n",
              "    <tr>\n",
              "      <th>2</th>\n",
              "      <td>16.0</td>\n",
              "      <td>20.05</td>\n",
              "      <td>0</td>\n",
              "      <td>3.0</td>\n",
              "      <td>0</td>\n",
              "      <td>False</td>\n",
              "      <td>True</td>\n",
              "      <td>False</td>\n",
              "      <td>False</td>\n",
              "      <td>True</td>\n",
              "      <td>...</td>\n",
              "      <td>True</td>\n",
              "      <td>False</td>\n",
              "      <td>False</td>\n",
              "      <td>False</td>\n",
              "      <td>False</td>\n",
              "      <td>False</td>\n",
              "      <td>False</td>\n",
              "      <td>False</td>\n",
              "      <td>False</td>\n",
              "      <td>True</td>\n",
              "    </tr>\n",
              "    <tr>\n",
              "      <th>3</th>\n",
              "      <td>39.0</td>\n",
              "      <td>20.05</td>\n",
              "      <td>1</td>\n",
              "      <td>3.0</td>\n",
              "      <td>0</td>\n",
              "      <td>True</td>\n",
              "      <td>False</td>\n",
              "      <td>False</td>\n",
              "      <td>False</td>\n",
              "      <td>True</td>\n",
              "      <td>...</td>\n",
              "      <td>False</td>\n",
              "      <td>False</td>\n",
              "      <td>False</td>\n",
              "      <td>False</td>\n",
              "      <td>False</td>\n",
              "      <td>False</td>\n",
              "      <td>False</td>\n",
              "      <td>False</td>\n",
              "      <td>False</td>\n",
              "      <td>True</td>\n",
              "    </tr>\n",
              "    <tr>\n",
              "      <th>4</th>\n",
              "      <td>16.0</td>\n",
              "      <td>7.13</td>\n",
              "      <td>1</td>\n",
              "      <td>3.0</td>\n",
              "      <td>0</td>\n",
              "      <td>True</td>\n",
              "      <td>False</td>\n",
              "      <td>False</td>\n",
              "      <td>False</td>\n",
              "      <td>True</td>\n",
              "      <td>...</td>\n",
              "      <td>False</td>\n",
              "      <td>False</td>\n",
              "      <td>False</td>\n",
              "      <td>False</td>\n",
              "      <td>False</td>\n",
              "      <td>False</td>\n",
              "      <td>False</td>\n",
              "      <td>False</td>\n",
              "      <td>False</td>\n",
              "      <td>True</td>\n",
              "    </tr>\n",
              "    <tr>\n",
              "      <th>...</th>\n",
              "      <td>...</td>\n",
              "      <td>...</td>\n",
              "      <td>...</td>\n",
              "      <td>...</td>\n",
              "      <td>...</td>\n",
              "      <td>...</td>\n",
              "      <td>...</td>\n",
              "      <td>...</td>\n",
              "      <td>...</td>\n",
              "      <td>...</td>\n",
              "      <td>...</td>\n",
              "      <td>...</td>\n",
              "      <td>...</td>\n",
              "      <td>...</td>\n",
              "      <td>...</td>\n",
              "      <td>...</td>\n",
              "      <td>...</td>\n",
              "      <td>...</td>\n",
              "      <td>...</td>\n",
              "      <td>...</td>\n",
              "      <td>...</td>\n",
              "    </tr>\n",
              "    <tr>\n",
              "      <th>2202</th>\n",
              "      <td>41.0</td>\n",
              "      <td>NaN</td>\n",
              "      <td>1</td>\n",
              "      <td>NaN</td>\n",
              "      <td>1</td>\n",
              "      <td>False</td>\n",
              "      <td>True</td>\n",
              "      <td>False</td>\n",
              "      <td>False</td>\n",
              "      <td>False</td>\n",
              "      <td>...</td>\n",
              "      <td>False</td>\n",
              "      <td>False</td>\n",
              "      <td>False</td>\n",
              "      <td>False</td>\n",
              "      <td>True</td>\n",
              "      <td>False</td>\n",
              "      <td>False</td>\n",
              "      <td>False</td>\n",
              "      <td>True</td>\n",
              "      <td>False</td>\n",
              "    </tr>\n",
              "    <tr>\n",
              "      <th>2203</th>\n",
              "      <td>40.0</td>\n",
              "      <td>NaN</td>\n",
              "      <td>1</td>\n",
              "      <td>NaN</td>\n",
              "      <td>1</td>\n",
              "      <td>False</td>\n",
              "      <td>True</td>\n",
              "      <td>False</td>\n",
              "      <td>False</td>\n",
              "      <td>False</td>\n",
              "      <td>...</td>\n",
              "      <td>False</td>\n",
              "      <td>False</td>\n",
              "      <td>False</td>\n",
              "      <td>False</td>\n",
              "      <td>False</td>\n",
              "      <td>False</td>\n",
              "      <td>False</td>\n",
              "      <td>True</td>\n",
              "      <td>True</td>\n",
              "      <td>False</td>\n",
              "    </tr>\n",
              "    <tr>\n",
              "      <th>2204</th>\n",
              "      <td>32.0</td>\n",
              "      <td>NaN</td>\n",
              "      <td>0</td>\n",
              "      <td>NaN</td>\n",
              "      <td>1</td>\n",
              "      <td>False</td>\n",
              "      <td>True</td>\n",
              "      <td>False</td>\n",
              "      <td>False</td>\n",
              "      <td>False</td>\n",
              "      <td>...</td>\n",
              "      <td>False</td>\n",
              "      <td>False</td>\n",
              "      <td>False</td>\n",
              "      <td>False</td>\n",
              "      <td>False</td>\n",
              "      <td>True</td>\n",
              "      <td>False</td>\n",
              "      <td>False</td>\n",
              "      <td>True</td>\n",
              "      <td>False</td>\n",
              "    </tr>\n",
              "    <tr>\n",
              "      <th>2205</th>\n",
              "      <td>20.0</td>\n",
              "      <td>NaN</td>\n",
              "      <td>0</td>\n",
              "      <td>NaN</td>\n",
              "      <td>1</td>\n",
              "      <td>False</td>\n",
              "      <td>True</td>\n",
              "      <td>False</td>\n",
              "      <td>False</td>\n",
              "      <td>False</td>\n",
              "      <td>...</td>\n",
              "      <td>False</td>\n",
              "      <td>False</td>\n",
              "      <td>False</td>\n",
              "      <td>False</td>\n",
              "      <td>False</td>\n",
              "      <td>False</td>\n",
              "      <td>True</td>\n",
              "      <td>False</td>\n",
              "      <td>True</td>\n",
              "      <td>False</td>\n",
              "    </tr>\n",
              "    <tr>\n",
              "      <th>2206</th>\n",
              "      <td>26.0</td>\n",
              "      <td>NaN</td>\n",
              "      <td>0</td>\n",
              "      <td>NaN</td>\n",
              "      <td>1</td>\n",
              "      <td>False</td>\n",
              "      <td>True</td>\n",
              "      <td>False</td>\n",
              "      <td>False</td>\n",
              "      <td>False</td>\n",
              "      <td>...</td>\n",
              "      <td>False</td>\n",
              "      <td>False</td>\n",
              "      <td>False</td>\n",
              "      <td>False</td>\n",
              "      <td>False</td>\n",
              "      <td>False</td>\n",
              "      <td>True</td>\n",
              "      <td>False</td>\n",
              "      <td>True</td>\n",
              "      <td>False</td>\n",
              "    </tr>\n",
              "  </tbody>\n",
              "</table>\n",
              "<p>2207 rows × 72 columns</p>\n",
              "</div>"
            ],
            "text/plain": [
              "       age   fare  survived  pclass  crew_indicator  gender_female   \n",
              "0     42.0   7.11         0     3.0               0          False  \\\n",
              "1     13.0  20.05         0     3.0               0          False   \n",
              "2     16.0  20.05         0     3.0               0          False   \n",
              "3     39.0  20.05         1     3.0               0           True   \n",
              "4     16.0   7.13         1     3.0               0           True   \n",
              "...    ...    ...       ...     ...             ...            ...   \n",
              "2202  41.0    NaN         1     NaN               1          False   \n",
              "2203  40.0    NaN         1     NaN               1          False   \n",
              "2204  32.0    NaN         0     NaN               1          False   \n",
              "2205  20.0    NaN         0     NaN               1          False   \n",
              "2206  26.0    NaN         0     NaN               1          False   \n",
              "\n",
              "      gender_male  class_1st  class_2nd  class_3rd  ...   \n",
              "0            True      False      False       True  ...  \\\n",
              "1            True      False      False       True  ...   \n",
              "2            True      False      False       True  ...   \n",
              "3           False      False      False       True  ...   \n",
              "4           False      False      False       True  ...   \n",
              "...           ...        ...        ...        ...  ...   \n",
              "2202         True      False      False      False  ...   \n",
              "2203         True      False      False      False  ...   \n",
              "2204         True      False      False      False  ...   \n",
              "2205         True      False      False      False  ...   \n",
              "2206         True      False      False      False  ...   \n",
              "\n",
              "      country_United States  country_Uruguay  country_Wales   \n",
              "0                      True            False          False  \\\n",
              "1                      True            False          False   \n",
              "2                      True            False          False   \n",
              "3                     False            False          False   \n",
              "4                     False            False          False   \n",
              "...                     ...              ...            ...   \n",
              "2202                  False            False          False   \n",
              "2203                  False            False          False   \n",
              "2204                  False            False          False   \n",
              "2205                  False            False          False   \n",
              "2206                  False            False          False   \n",
              "\n",
              "      country_Yugoslavia  crew_deck crew  crew_engineering crew   \n",
              "0                  False           False                  False  \\\n",
              "1                  False           False                  False   \n",
              "2                  False           False                  False   \n",
              "3                  False           False                  False   \n",
              "4                  False           False                  False   \n",
              "...                  ...             ...                    ...   \n",
              "2202               False            True                  False   \n",
              "2203               False           False                  False   \n",
              "2204               False           False                   True   \n",
              "2205               False           False                  False   \n",
              "2206               False           False                  False   \n",
              "\n",
              "      crew_restaurant staff  crew_victualling crew  type_crew  type_passenger  \n",
              "0                     False                  False      False            True  \n",
              "1                     False                  False      False            True  \n",
              "2                     False                  False      False            True  \n",
              "3                     False                  False      False            True  \n",
              "4                     False                  False      False            True  \n",
              "...                     ...                    ...        ...             ...  \n",
              "2202                  False                  False       True           False  \n",
              "2203                  False                   True       True           False  \n",
              "2204                  False                  False       True           False  \n",
              "2205                   True                  False       True           False  \n",
              "2206                   True                  False       True           False  \n",
              "\n",
              "[2207 rows x 72 columns]"
            ]
          },
          "execution_count": 20,
          "metadata": {},
          "output_type": "execute_result"
        }
      ],
      "source": [
        "# Pass all variables to get_dummies, dropping ones that are \"other\" types\n",
        "df_titanic_quant = pd.get_dummies(\n",
        "    df_titanic.drop([\"name\", \"ticketno\"], axis=1)\n",
        ")\n",
        "df_titanic_quant"
      ]
    },
    {
      "cell_type": "markdown",
      "metadata": {
        "id": "MEZBaZCe6MtA"
      },
      "source": [
        "Notice that categorical variables, like `class`, were converted to dummy variables with names like `class_1st`, `class_2nd` and `class_3rd`, while quantitative variables, like `age`, were left alone. (Remember that `pclass` was read by Pandas as quantitative, so we would need to convert that to a str if we wanted to convert it do dummies; but `class` has already done this.)"
      ]
    },
    {
      "cell_type": "markdown",
      "metadata": {
        "id": "VO8pwNlcYczq"
      },
      "source": [
        "For now we have just focused on *how* to convert categorical variables to quantitative variables. Later we will see *why* we might want to."
      ]
    },
    {
      "cell_type": "markdown",
      "metadata": {
        "id": "k6TPEQkEDLvX"
      },
      "source": [
        "### (Optional tangent) Why $\\lambda = 0$ corresponds to $\\log$\n",
        "\n",
        "You might have noticed that it does not make sense to use the transformation $x^0$ for $\\lambda = 0$, since anything raised to the zero power equals 1. But why is $\\log(x)$ the right function to replace $x^0$?\n",
        "\n",
        "The answer has to do with calculus. We want to understand the behavior of $x^\\lambda$ as $\\lambda$ approaches 0. To do this properly, we actually need to consider the function\n",
        "\n",
        "$$\\frac{x^\\lambda - 1}{\\lambda}.$$\n",
        "\n",
        "Subtracting 1 and dividing by $\\lambda$ are just constants that shift and scale the distribution; they do not affect the overall shape of the distribution. Therefore, the histogram of $x^\\lambda$ will look the same as the histogram of $(x^\\lambda - 1) / \\lambda$; only the axes will be different.\n",
        "\n",
        "Using calculus, you can show that the limit of the above function as $\\lambda$ approaches 0 is:\n",
        "\n",
        "$$\\lim_{\\lambda \\to 0} \\frac{x^\\lambda - 1}{\\lambda} = \\log(x).$$\n",
        "\n",
        "This is why it makes sense to slot $\\log(x)$ in for $x^0$."
      ]
    }
  ],
  "metadata": {
    "colab": {
      "provenance": []
    },
    "kernelspec": {
      "display_name": "Python 3",
      "language": "python",
      "name": "python3"
    },
    "language_info": {
      "codemirror_mode": {
        "name": "ipython",
        "version": 3
      },
      "file_extension": ".py",
      "mimetype": "text/x-python",
      "name": "python",
      "nbconvert_exporter": "python",
      "pygments_lexer": "ipython3",
      "version": "3.9.6"
    }
  },
  "nbformat": 4,
  "nbformat_minor": 0
}
