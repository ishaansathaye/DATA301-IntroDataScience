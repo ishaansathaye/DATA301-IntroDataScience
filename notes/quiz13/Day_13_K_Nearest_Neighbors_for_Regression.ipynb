{
  "nbformat": 4,
  "nbformat_minor": 0,
  "metadata": {
    "colab": {
      "provenance": []
    },
    "kernelspec": {
      "name": "python3",
      "display_name": "Python 3"
    },
    "language_info": {
      "name": "python"
    }
  },
  "cells": [
    {
      "cell_type": "markdown",
      "source": [
        "# K-Nearest Neighbors for Regression\n",
        "\n",
        "In this notebook we'll both implement some $k$-nearest neighbor regression models using scikit-learn, and think conceptually about what the $k$-nearest neighbors algorithm does."
      ],
      "metadata": {
        "id": "CKN3Il-f_7On"
      }
    },
    {
      "cell_type": "code",
      "source": [
        "import pandas as pd\n",
        "\n",
        "import numpy as np\n",
        "\n",
        "from matplotlib import pyplot as plt"
      ],
      "metadata": {
        "id": "jeUk7qJ9_7Ys"
      },
      "execution_count": null,
      "outputs": []
    },
    {
      "cell_type": "code",
      "source": [
        "from sklearn.preprocessing import StandardScaler\n",
        "from sklearn.neighbors import KNeighborsRegressor"
      ],
      "metadata": {
        "id": "DDPTK3g7mOLf"
      },
      "execution_count": null,
      "outputs": []
    },
    {
      "cell_type": "markdown",
      "source": [
        "## A Single Quantitative Feature\n",
        "\n",
        "Recall the K-Nearest Neighbors model for predicting quality (log(price)) from age for the wine data. In the reading, we created a plot of the 5-nearest neighbors regression function using the following code. (This code is all in the reading; I've just copied it here.)"
      ],
      "metadata": {
        "id": "MrWwsLuUoY4i"
      }
    },
    {
      "cell_type": "code",
      "source": [
        "data_dir = \"https://dlsun.github.io/pods/data/\"\n",
        "bordeaux_df = pd.read_csv(data_dir + \"bordeaux.csv\",\n",
        "                          index_col=\"year\")\n",
        "\n",
        "# Split the data into training and test sets.\n",
        "bordeaux_train = bordeaux_df.loc[:1980].copy()\n",
        "bordeaux_test = bordeaux_df.loc[1981:].copy()\n",
        "\n",
        "# Log transform the target.\n",
        "bordeaux_train[\"log(price)\"] = np.log(bordeaux_train[\"price\"])\n",
        "bordeaux_train.head()\n",
        "\n",
        "X_train = bordeaux_train[[\"age\"]]\n",
        "y_train = bordeaux_train[\"log(price)\"]"
      ],
      "metadata": {
        "id": "8mgoTsammC9W"
      },
      "execution_count": null,
      "outputs": []
    },
    {
      "cell_type": "code",
      "source": [
        "# Fit k-nearest neighbors\n",
        "model = KNeighborsRegressor(n_neighbors=5)\n",
        "model.fit(X=X_train, y=y_train)\n",
        "\n",
        "# Define a grid of feature values.\n",
        "X_new = pd.DataFrame()\n",
        "X_new[\"age\"] = np.linspace(10, 45, num=200)\n",
        "\n",
        "# Make predictions at those feature values.\n",
        "y_new_ = pd.Series(\n",
        "    model.predict(X_new),\n",
        "    index=X_new[\"age\"]\n",
        ")\n",
        "\n",
        "# Plot the predictions.\n",
        "bordeaux_train.plot.scatter(x=\"age\", y=\"log(price)\")\n",
        "y_new_.plot.line();"
      ],
      "metadata": {
        "colab": {
          "base_uri": "https://localhost:8080/",
          "height": 449
        },
        "id": "I_HyFoGrpJsW",
        "outputId": "2533e9a2-a75c-4e10-8219-0cdcd32d23e5"
      },
      "execution_count": null,
      "outputs": [
        {
          "output_type": "display_data",
          "data": {
            "text/plain": [
              "<Figure size 640x480 with 1 Axes>"
            ],
            "image/png": "[encoded data removed]"
          },
          "metadata": {}
        }
      ]
    },
    {
      "cell_type": "markdown",
      "source": [
        "**This section contains some conceptual questions to think about and discuss with your partner.**\n",
        "\n",
        "1\\. Explain intuitively why the 5-nearest neighbors regression function has this shape."
      ],
      "metadata": {
        "id": "3nBCZUWopZqN"
      }
    },
    {
      "cell_type": "markdown",
      "source": [
        "2\\. What would the 1-nearest neighbors regression function look like? Make a sketch and explain intuitively."
      ],
      "metadata": {
        "id": "rTbAZAxFpio5"
      }
    },
    {
      "cell_type": "markdown",
      "source": [
        "3\\. What would the 27-nearest neighbors regression function look like? Make a sketch and explain intuitively. Hint: what is special about 27 in this example?"
      ],
      "metadata": {
        "id": "gg1VpOaJptR-"
      }
    },
    {
      "cell_type": "markdown",
      "metadata": {
        "id": "4Ac0WvSvgdqk"
      },
      "source": [
        "**Think about and discuss the previous questions first, then run the following code and discuss the output.**\n",
        "\n",
        "4\\. The following code plots the $k$-nearest neighbors regression function for predicting the quality (log(price)) of a wine from its age for $k=1, 5, 10, 20, 27$. How does the regression function change as $k$ increases?"
      ]
    },
    {
      "cell_type": "code",
      "source": [
        "ks = [1, 5, 10, 20, 27]\n",
        "colors = [\"orange\", \"blue\", \"green\", \"magenta\", \"black\"]\n",
        "\n",
        "bordeaux_train.plot.scatter(x=\"age\", y=\"log(price)\")\n",
        "\n",
        "# Define a grid of feature values.\n",
        "X_new = pd.DataFrame()\n",
        "X_new[\"age\"] = np.linspace(10, 45, num=200)\n",
        "\n",
        "for i in range(len(ks)):\n",
        "\n",
        "  # Fit k-nearest neighbors\n",
        "  model = KNeighborsRegressor(n_neighbors=ks[i])\n",
        "  model.fit(X=X_train, y=y_train)\n",
        "\n",
        "  # Make predictions at those feature values.\n",
        "  y_new_ = pd.Series(\n",
        "      model.predict(X_new),\n",
        "      index=X_new[\"age\"]\n",
        "  )\n",
        "\n",
        "  # Plot the predictions.\n",
        "  y_new_.plot.line(color = colors[i])\n",
        "  plt.legend([\"values\"] + ks);\n"
      ],
      "metadata": {
        "id": "CkOuoppG7PbT"
      },
      "execution_count": null,
      "outputs": []
    },
    {
      "cell_type": "markdown",
      "source": [
        "## A Single Categorical Feature\n",
        "\n",
        "Recall the Ames housing data set. We'll use a single categorical feature---Neighborhood---to predict SalePrice.\n",
        "\n",
        "**Note:** some of the code from the \"Categorical Features in Regression Models\" notebook from Day 12 might be helpful. That notebook concerned linear regression, but you can just replace that with $k$-nearest neighbors."
      ],
      "metadata": {
        "id": "9gzRXkkytCHU"
      }
    },
    {
      "cell_type": "code",
      "source": [
        "df_ames = pd.read_csv(\"http://dlsun.github.io/pods/data/AmesHousing.txt\", sep = \"\\t\")\n",
        "\n",
        "df_ames"
      ],
      "metadata": {
        "id": "7FQI5PNptJic"
      },
      "execution_count": null,
      "outputs": []
    },
    {
      "cell_type": "markdown",
      "source": [
        "1\\. Build a $10$-nearest neighbors model to predict house price using **Neighborhood** as the only feature."
      ],
      "metadata": {
        "id": "VPJ5UP46tTgb"
      }
    },
    {
      "cell_type": "code",
      "source": [
        "# YOUR CODE HERE. ADD CELLS AS NEEDED"
      ],
      "metadata": {
        "id": "U0yOXe1-dqyU"
      },
      "execution_count": null,
      "outputs": []
    },
    {
      "cell_type": "markdown",
      "source": [
        "2\\. Use the model to predict the price for each neighborhood."
      ],
      "metadata": {
        "id": "2B7wuhCNto6-"
      }
    },
    {
      "cell_type": "code",
      "source": [
        "# YOUR CODE HERE. ADD CELLS AS NEEDED"
      ],
      "metadata": {
        "id": "cAdFiGHDdwBu"
      },
      "execution_count": null,
      "outputs": []
    },
    {
      "cell_type": "markdown",
      "source": [
        "**This is a conceptual question to think about and discuss with your partner.**\n",
        "\n",
        "3\\. Compare the predicted prices to the mean price for each neighborhood. For what neighborhood is the predicted price equal to the neighborhood's mean price? Why? What is special about that neighborhood? Can you explain why the predicted prices don't match the mean price for the other neighborhoods?"
      ],
      "metadata": {
        "id": "YfPqihgftv6J"
      }
    },
    {
      "cell_type": "code",
      "source": [
        "# YOUR CODE HERE. ADD CELLS AS NEEDED"
      ],
      "metadata": {
        "id": "xpXg0R2idxJK"
      },
      "execution_count": null,
      "outputs": []
    },
    {
      "cell_type": "markdown",
      "source": [
        "## Housing data"
      ],
      "metadata": {
        "id": "J9099E_T0w8b"
      }
    },
    {
      "cell_type": "markdown",
      "metadata": {
        "id": "1-I-np7Ugc40"
      },
      "source": [
        "1\\. Fit a 10-nearest neighbors regression model that predicts the price (just **SalePrice**, not log) of a home using square footage (**Gr Liv Area**), number of bedrooms (**Bedroom AbvGr**), number of full bathrooms (**Full Bath**), and number of half bathrooms (**Half Bath**)."
      ]
    },
    {
      "cell_type": "code",
      "source": [
        "# YOUR CODE HERE. ADD CELLS AS NEEDED"
      ],
      "metadata": {
        "id": "Lfx7vPXbevNs"
      },
      "execution_count": null,
      "outputs": []
    },
    {
      "cell_type": "markdown",
      "source": [
        "2\\. For the model in the previous part, make a scatterplot of actual price versus predicted price. Color the points by Neighborhood."
      ],
      "metadata": {
        "id": "h1Z2JB4URL1w"
      }
    },
    {
      "cell_type": "code",
      "source": [
        "# YOUR CODE HERE. ADD CELLS AS NEEDED"
      ],
      "metadata": {
        "id": "jhJvG0KFev-y"
      },
      "execution_count": null,
      "outputs": []
    },
    {
      "cell_type": "markdown",
      "source": [
        "3\\. Fit a 10-nearest neighbors regression model that predicts the price (just **SalePrice**, not log) of a home using square footage (**Gr Liv Area**), number of bedrooms (**Bedroom AbvGr**), number of full bathrooms (**Full Bath**), number of half bathrooms (**Half Bath**), and **Neighborhood**."
      ],
      "metadata": {
        "id": "Bz4N8sHhRbFv"
      }
    },
    {
      "cell_type": "code",
      "source": [
        "# YOUR CODE HERE. ADD CELLS AS NEEDED"
      ],
      "metadata": {
        "id": "yyt3mDPkewz7"
      },
      "execution_count": null,
      "outputs": []
    },
    {
      "cell_type": "markdown",
      "source": [
        "4\\. For the model in the previous part, make a scatterplot of actual price versus predicted price. Color the points by Neighborhood. How does adding Neighborhood change the predictions?"
      ],
      "metadata": {
        "id": "ojCAG4iHRtzE"
      }
    },
    {
      "cell_type": "code",
      "source": [
        "# YOUR CODE HERE. ADD CELLS AS NEEDED"
      ],
      "metadata": {
        "id": "BgWyX1OlfYa7"
      },
      "execution_count": null,
      "outputs": []
    },
    {
      "cell_type": "markdown",
      "source": [
        "5\\. Use each of the models that you fit --- there should be two --- to predict the price of a home that is 1500 square feet, with 3 bedrooms, 2 full baths, 1 half bath in the NAmes neighborhood. Compare to the predicts you made for linear regression models (from Day 12)."
      ],
      "metadata": {
        "id": "Z27VsEOPRTPO"
      }
    },
    {
      "cell_type": "code",
      "source": [
        "# YOUR CODE HERE. ADD CELLS AS NEEDED"
      ],
      "metadata": {
        "id": "YN6jWlwbeyKz"
      },
      "execution_count": null,
      "outputs": []
    },
    {
      "cell_type": "markdown",
      "source": [
        "6\\. Consider a $k$-nearest neighbors regression model that predicts the price (just **SalePrice**, not log) of a home using square footage (**Gr Liv Area**), number of bedrooms (**Bedroom AbvGr**), number of full bathrooms (**Full Bath**), and number of half bathrooms (**Half Bath**). (Same setup as in part 1 but with a general value of $k$ instead of 10). For $k=1, 2, \\ldots, 100$ fit the $k$-nearest neighbors regression model and use it to predict the price of a home that is 1500 square feet, with 3 bedrooms, 2 full baths, 1 half bath in the NAmes neighborhood. Plot the predicted price versus $k$. How do the predictions change as $k$ increases? What would happen as $k$ gets larger and larger?"
      ],
      "metadata": {
        "id": "TUD96pjf1lUH"
      }
    },
    {
      "cell_type": "code",
      "source": [
        "# YOUR CODE HERE. ADD CELLS AS NEEDED"
      ],
      "metadata": {
        "id": "cR8vU_Z6ez2j"
      },
      "execution_count": null,
      "outputs": []
    },
    {
      "cell_type": "code",
      "source": [],
      "metadata": {
        "id": "FHdr5Ckl-i6H"
      },
      "execution_count": null,
      "outputs": []
    }
  ]
}