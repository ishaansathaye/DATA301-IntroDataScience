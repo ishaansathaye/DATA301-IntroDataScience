{
  "cells": [
    {
      "cell_type": "markdown",
      "metadata": {
        "id": "cgjGNqjV11Mu"
      },
      "source": [
        "# K-Nearest Neighbors for Classification"
      ]
    },
    {
      "cell_type": "code",
      "execution_count": 1,
      "metadata": {
        "id": "w40T1cbrcuaV"
      },
      "outputs": [],
      "source": [
        "import pandas as pd"
      ]
    },
    {
      "cell_type": "markdown",
      "metadata": {
        "id": "4Nm8-t16GEHt"
      },
      "source": [
        "## Tissue samples\n",
        "\n",
        "Electrical signals can be used to detect if tissue is cancerous. The goal is to determine whether a sample of breast tissue is:\n",
        "\n",
        "- adipose tissue (\"adi\")\n",
        "- carcinoma (\"car\")\n",
        "- connective tissue (\"con\")\n",
        "- fibro-adenoma (\"fad\")\n",
        "- glandular tissue (\"gla\")\n",
        "- mastopathy (\"mas\")\n",
        "\n",
        "The training data consists of the results of scans for 106 tissue samples for which the above tissue class is known. We will focus on two features:\n",
        "\n",
        "- I0: impedivity at 0 kHz,\n",
        "- PA500: phase angle at 500 kHz"
      ]
    },
    {
      "cell_type": "code",
      "execution_count": 2,
      "metadata": {
        "id": "ithDXLsWZcio"
      },
      "outputs": [
        {
          "data": {
            "text/html": [
              "<div>\n",
              "<style scoped>\n",
              "    .dataframe tbody tr th:only-of-type {\n",
              "        vertical-align: middle;\n",
              "    }\n",
              "\n",
              "    .dataframe tbody tr th {\n",
              "        vertical-align: top;\n",
              "    }\n",
              "\n",
              "    .dataframe thead th {\n",
              "        text-align: right;\n",
              "    }\n",
              "</style>\n",
              "<table border=\"1\" class=\"dataframe\">\n",
              "  <thead>\n",
              "    <tr style=\"text-align: right;\">\n",
              "      <th></th>\n",
              "      <th>Case #</th>\n",
              "      <th>Class</th>\n",
              "      <th>I0</th>\n",
              "      <th>PA500</th>\n",
              "      <th>HFS</th>\n",
              "      <th>DA</th>\n",
              "      <th>Area</th>\n",
              "      <th>A/DA</th>\n",
              "      <th>Max IP</th>\n",
              "      <th>DR</th>\n",
              "      <th>P</th>\n",
              "    </tr>\n",
              "  </thead>\n",
              "  <tbody>\n",
              "    <tr>\n",
              "      <th>0</th>\n",
              "      <td>1</td>\n",
              "      <td>car</td>\n",
              "      <td>524.794072</td>\n",
              "      <td>0.187448</td>\n",
              "      <td>0.032114</td>\n",
              "      <td>228.800228</td>\n",
              "      <td>6843.598481</td>\n",
              "      <td>29.910803</td>\n",
              "      <td>60.204880</td>\n",
              "      <td>220.737212</td>\n",
              "      <td>556.828334</td>\n",
              "    </tr>\n",
              "    <tr>\n",
              "      <th>1</th>\n",
              "      <td>2</td>\n",
              "      <td>car</td>\n",
              "      <td>330.000000</td>\n",
              "      <td>0.226893</td>\n",
              "      <td>0.265290</td>\n",
              "      <td>121.154201</td>\n",
              "      <td>3163.239472</td>\n",
              "      <td>26.109202</td>\n",
              "      <td>69.717361</td>\n",
              "      <td>99.084964</td>\n",
              "      <td>400.225776</td>\n",
              "    </tr>\n",
              "    <tr>\n",
              "      <th>2</th>\n",
              "      <td>3</td>\n",
              "      <td>car</td>\n",
              "      <td>551.879287</td>\n",
              "      <td>0.232478</td>\n",
              "      <td>0.063530</td>\n",
              "      <td>264.804935</td>\n",
              "      <td>11888.391827</td>\n",
              "      <td>44.894903</td>\n",
              "      <td>77.793297</td>\n",
              "      <td>253.785300</td>\n",
              "      <td>656.769449</td>\n",
              "    </tr>\n",
              "    <tr>\n",
              "      <th>3</th>\n",
              "      <td>4</td>\n",
              "      <td>car</td>\n",
              "      <td>380.000000</td>\n",
              "      <td>0.240855</td>\n",
              "      <td>0.286234</td>\n",
              "      <td>137.640111</td>\n",
              "      <td>5402.171180</td>\n",
              "      <td>39.248524</td>\n",
              "      <td>88.758446</td>\n",
              "      <td>105.198568</td>\n",
              "      <td>493.701814</td>\n",
              "    </tr>\n",
              "    <tr>\n",
              "      <th>4</th>\n",
              "      <td>5</td>\n",
              "      <td>car</td>\n",
              "      <td>362.831266</td>\n",
              "      <td>0.200713</td>\n",
              "      <td>0.244346</td>\n",
              "      <td>124.912559</td>\n",
              "      <td>3290.462446</td>\n",
              "      <td>26.342127</td>\n",
              "      <td>69.389389</td>\n",
              "      <td>103.866552</td>\n",
              "      <td>424.796503</td>\n",
              "    </tr>\n",
              "    <tr>\n",
              "      <th>...</th>\n",
              "      <td>...</td>\n",
              "      <td>...</td>\n",
              "      <td>...</td>\n",
              "      <td>...</td>\n",
              "      <td>...</td>\n",
              "      <td>...</td>\n",
              "      <td>...</td>\n",
              "      <td>...</td>\n",
              "      <td>...</td>\n",
              "      <td>...</td>\n",
              "      <td>...</td>\n",
              "    </tr>\n",
              "    <tr>\n",
              "      <th>101</th>\n",
              "      <td>102</td>\n",
              "      <td>adi</td>\n",
              "      <td>2000.000000</td>\n",
              "      <td>0.106989</td>\n",
              "      <td>0.105418</td>\n",
              "      <td>520.222649</td>\n",
              "      <td>40087.920984</td>\n",
              "      <td>77.059161</td>\n",
              "      <td>204.090347</td>\n",
              "      <td>478.517223</td>\n",
              "      <td>2088.648870</td>\n",
              "    </tr>\n",
              "    <tr>\n",
              "      <th>102</th>\n",
              "      <td>103</td>\n",
              "      <td>adi</td>\n",
              "      <td>2600.000000</td>\n",
              "      <td>0.200538</td>\n",
              "      <td>0.208043</td>\n",
              "      <td>1063.441427</td>\n",
              "      <td>174480.476218</td>\n",
              "      <td>164.071543</td>\n",
              "      <td>418.687286</td>\n",
              "      <td>977.552367</td>\n",
              "      <td>2664.583623</td>\n",
              "    </tr>\n",
              "    <tr>\n",
              "      <th>103</th>\n",
              "      <td>104</td>\n",
              "      <td>adi</td>\n",
              "      <td>1600.000000</td>\n",
              "      <td>0.071908</td>\n",
              "      <td>-0.066323</td>\n",
              "      <td>436.943603</td>\n",
              "      <td>12655.342135</td>\n",
              "      <td>28.963331</td>\n",
              "      <td>103.732704</td>\n",
              "      <td>432.129749</td>\n",
              "      <td>1475.371534</td>\n",
              "    </tr>\n",
              "    <tr>\n",
              "      <th>104</th>\n",
              "      <td>105</td>\n",
              "      <td>adi</td>\n",
              "      <td>2300.000000</td>\n",
              "      <td>0.045029</td>\n",
              "      <td>0.136834</td>\n",
              "      <td>185.446044</td>\n",
              "      <td>5086.292497</td>\n",
              "      <td>27.427344</td>\n",
              "      <td>178.691742</td>\n",
              "      <td>49.593290</td>\n",
              "      <td>2480.592151</td>\n",
              "    </tr>\n",
              "    <tr>\n",
              "      <th>105</th>\n",
              "      <td>106</td>\n",
              "      <td>adi</td>\n",
              "      <td>2600.000000</td>\n",
              "      <td>0.069988</td>\n",
              "      <td>0.048869</td>\n",
              "      <td>745.474369</td>\n",
              "      <td>39845.773698</td>\n",
              "      <td>53.450226</td>\n",
              "      <td>154.122604</td>\n",
              "      <td>729.368395</td>\n",
              "      <td>2545.419744</td>\n",
              "    </tr>\n",
              "  </tbody>\n",
              "</table>\n",
              "<p>106 rows × 11 columns</p>\n",
              "</div>"
            ],
            "text/plain": [
              "     Case # Class           I0     PA500       HFS           DA   \n",
              "0         1   car   524.794072  0.187448  0.032114   228.800228  \\\n",
              "1         2   car   330.000000  0.226893  0.265290   121.154201   \n",
              "2         3   car   551.879287  0.232478  0.063530   264.804935   \n",
              "3         4   car   380.000000  0.240855  0.286234   137.640111   \n",
              "4         5   car   362.831266  0.200713  0.244346   124.912559   \n",
              "..      ...   ...          ...       ...       ...          ...   \n",
              "101     102   adi  2000.000000  0.106989  0.105418   520.222649   \n",
              "102     103   adi  2600.000000  0.200538  0.208043  1063.441427   \n",
              "103     104   adi  1600.000000  0.071908 -0.066323   436.943603   \n",
              "104     105   adi  2300.000000  0.045029  0.136834   185.446044   \n",
              "105     106   adi  2600.000000  0.069988  0.048869   745.474369   \n",
              "\n",
              "              Area        A/DA      Max IP          DR            P  \n",
              "0      6843.598481   29.910803   60.204880  220.737212   556.828334  \n",
              "1      3163.239472   26.109202   69.717361   99.084964   400.225776  \n",
              "2     11888.391827   44.894903   77.793297  253.785300   656.769449  \n",
              "3      5402.171180   39.248524   88.758446  105.198568   493.701814  \n",
              "4      3290.462446   26.342127   69.389389  103.866552   424.796503  \n",
              "..             ...         ...         ...         ...          ...  \n",
              "101   40087.920984   77.059161  204.090347  478.517223  2088.648870  \n",
              "102  174480.476218  164.071543  418.687286  977.552367  2664.583623  \n",
              "103   12655.342135   28.963331  103.732704  432.129749  1475.371534  \n",
              "104    5086.292497   27.427344  178.691742   49.593290  2480.592151  \n",
              "105   39845.773698   53.450226  154.122604  729.368395  2545.419744  \n",
              "\n",
              "[106 rows x 11 columns]"
            ]
          },
          "execution_count": 2,
          "metadata": {},
          "output_type": "execute_result"
        }
      ],
      "source": [
        "df_breast = pd.read_csv(\"http://dlsun.github.io/stats112/data/BreastTissue.csv\")\n",
        "df_breast"
      ]
    },
    {
      "cell_type": "markdown",
      "metadata": {
        "id": "tTN82HJPTRC9"
      },
      "source": [
        "1\\. Make a scatterplot of I0 and PA500; color the points by tissue class. Inspect the scatterplot and discuss the following questions before proceeding.\n",
        "\n",
        "- Which classes do you think a classification model will be most successful at classifying? Least successful? Why?\n",
        "- What tissue class would you predict for a new sample with an I0 of 400 and a PA500 of 0.18?"
      ]
    },
    {
      "cell_type": "code",
      "execution_count": 5,
      "metadata": {
        "id": "W-htPTzWQKla"
      },
      "outputs": [
        {
          "data": {
            "application/vnd.plotly.v1+json": {
              "config": {
                "plotlyServerURL": "https://plot.ly"
              },
              "data": [
                {
                  "hovertemplate": "Class=car<br>I0=%{x}<br>PA500=%{y}<extra></extra>",
                  "legendgroup": "car",
                  "marker": {
                    "color": "#636efa",
                    "symbol": "circle"
                  },
                  "mode": "markers",
                  "name": "car",
                  "orientation": "v",
                  "showlegend": true,
                  "type": "scatter",
                  "x": [
                    524.7940719572033,
                    330,
                    551.8792873984779,
                    380,
                    362.8312659099756,
                    389.8729777095242,
                    290.4551411532091,
                    275.6773933601227,
                    470,
                    423,
                    410,
                    500,
                    438.7801572296136,
                    366.9423790984524,
                    485.66880545435015,
                    390,
                    269.4959462917762,
                    300,
                    325,
                    294.474845619565,
                    500
                  ],
                  "xaxis": "x",
                  "y": [
                    0.187448361664191,
                    0.2268928027592628,
                    0.2324778563656446,
                    0.2408554367752174,
                    0.2007128639793478,
                    0.1500983156715123,
                    0.1441641962147316,
                    0.1539380400258998,
                    0.2131047016685076,
                    0.2195624199008866,
                    0.3178244567881674,
                    0.2272418686096617,
                    0.2124065699677098,
                    0.2801253449450899,
                    0.230208928338052,
                    0.3583160954344358,
                    0.2075196480621258,
                    0.1900663555421824,
                    0.2246238747316701,
                    0.2066469834361286,
                    0.1926843494201739
                  ],
                  "yaxis": "y"
                },
                {
                  "hovertemplate": "Class=fad<br>I0=%{x}<br>PA500=%{y}<extra></extra>",
                  "legendgroup": "fad",
                  "marker": {
                    "color": "#EF553B",
                    "symbol": "circle"
                  },
                  "mode": "markers",
                  "name": "fad",
                  "orientation": "v",
                  "showlegend": true,
                  "type": "scatter",
                  "x": [
                    211,
                    196.8567141789591,
                    245,
                    352.6564467782465,
                    243.29397573587264,
                    259.8851450407546,
                    250,
                    200,
                    355,
                    272,
                    341.62001310824894,
                    160.322452510402,
                    301.3043992290841,
                    155,
                    144
                  ],
                  "xaxis": "x",
                  "y": [
                    0.0539306738866248,
                    0.0200712863979347,
                    0.1890191579909858,
                    0.1219985147144036,
                    0.0399680398706701,
                    0.0706858347057703,
                    0.0680678408277788,
                    0.0376991118430775,
                    0.0640535835481918,
                    0.0914552528045029,
                    0.0919788515801011,
                    0.176976386152225,
                    0.1097812099504433,
                    0.1727875959474386,
                    0.1206022513128081
                  ],
                  "yaxis": "y"
                },
                {
                  "hovertemplate": "Class=mas<br>I0=%{x}<br>PA500=%{y}<extra></extra>",
                  "legendgroup": "mas",
                  "marker": {
                    "color": "#00cc96",
                    "symbol": "circle"
                  },
                  "mode": "markers",
                  "name": "mas",
                  "orientation": "v",
                  "showlegend": true,
                  "type": "scatter",
                  "x": [
                    178,
                    195,
                    435.09316664805294,
                    250,
                    339.5085476095779,
                    236,
                    481.4671493322105,
                    252,
                    172.5157972533025,
                    121,
                    196.3648643227069,
                    370.3957246909314,
                    260.277521025484,
                    544.6543494729137,
                    310,
                    274.9933958600104,
                    281.3232629076812,
                    327
                  ],
                  "xaxis": "x",
                  "y": [
                    0.1708677337702448,
                    0.139102741383948,
                    0.0769690200129499,
                    0.0471238898038468,
                    0.0453785605518525,
                    0.1246165085923951,
                    0.0785398163397448,
                    0.1061160185212552,
                    0.1272345024703866,
                    0.174183859349034,
                    0.1829105056090057,
                    0.1047197551196597,
                    0.0790634151153431,
                    0.063704517697793,
                    0.1747074581246324,
                    0.1471312559431219,
                    0.2323033234404452,
                    0.1410226035611418
                  ],
                  "yaxis": "y"
                },
                {
                  "hovertemplate": "Class=gla<br>I0=%{x}<br>PA500=%{y}<extra></extra>",
                  "legendgroup": "gla",
                  "marker": {
                    "color": "#ab63fa",
                    "symbol": "circle"
                  },
                  "mode": "markers",
                  "name": "gla",
                  "orientation": "v",
                  "showlegend": true,
                  "type": "scatter",
                  "x": [
                    470.51642013660114,
                    223,
                    152,
                    303,
                    250,
                    197,
                    197,
                    216.413257294186,
                    178,
                    185,
                    391,
                    502,
                    176,
                    145,
                    124.1287282354107,
                    103
                  ],
                  "xaxis": "x",
                  "y": [
                    0.127409035395586,
                    0.1240929098167968,
                    0.1658062789394613,
                    0.0633554518473941,
                    0.087091929674517,
                    0.132645023151569,
                    0.132645023151569,
                    0.1178097245096172,
                    0.1495747168959141,
                    0.1497492498211135,
                    0.0581194640914111,
                    0.0652753140245879,
                    0.0898844564777079,
                    0.1176351915844178,
                    0.1319468914507713,
                    0.1581268302306862
                  ],
                  "yaxis": "y"
                },
                {
                  "hovertemplate": "Class=con<br>I0=%{x}<br>PA500=%{y}<extra></extra>",
                  "legendgroup": "con",
                  "marker": {
                    "color": "#FFA15A",
                    "symbol": "circle"
                  },
                  "mode": "markers",
                  "name": "con",
                  "orientation": "v",
                  "showlegend": true,
                  "type": "scatter",
                  "x": [
                    1724.0898944486578,
                    1385.664721335629,
                    1084.2470372214843,
                    649.3693973478598,
                    1500,
                    770,
                    650,
                    691.9720314284654,
                    1461.750342433137,
                    1496.7360544463122,
                    1111.8140678206446,
                    1270.6667173341214,
                    1647.939811158628,
                    1535.8507395876754
                  ],
                  "xaxis": "x",
                  "y": [
                    0.0527089434102287,
                    0.0923279174305,
                    0.0734783615089612,
                    0.1075122819228507,
                    0.0565486677646162,
                    0.0416283303671788,
                    0.0410152374218667,
                    0.0260054058547155,
                    0.0408407044966673,
                    0.1038470904936625,
                    0.098785635662879,
                    0.0788888821901437,
                    0.0809832772925368,
                    0.0884881930761125
                  ],
                  "yaxis": "y"
                },
                {
                  "hovertemplate": "Class=adi<br>I0=%{x}<br>PA500=%{y}<extra></extra>",
                  "legendgroup": "adi",
                  "marker": {
                    "color": "#19d3f3",
                    "symbol": "circle"
                  },
                  "mode": "markers",
                  "name": "adi",
                  "orientation": "v",
                  "showlegend": true,
                  "type": "scatter",
                  "x": [
                    2100,
                    1800,
                    2100,
                    1666.148785564084,
                    1700,
                    1949.1181546752607,
                    1850,
                    2350,
                    1800,
                    1900,
                    1800,
                    1850,
                    1650,
                    2800,
                    2329.8401379048864,
                    2400,
                    2000,
                    2000,
                    2600,
                    1600,
                    2300,
                    2600
                  ],
                  "xaxis": "x",
                  "y": [
                    0.0619591884457987,
                    0.0342084533390888,
                    0.1216494488640047,
                    0.0123918376891597,
                    0.0439822971502571,
                    0.0517983105451823,
                    0.0791491625313998,
                    0.0815068760681352,
                    0.0919788515801011,
                    0.054454272662223,
                    0.0691150383789754,
                    0.0733038285837618,
                    0.0476474885794451,
                    0.0830776723949301,
                    0.0661479786505851,
                    0.0841248699461267,
                    0.0671951762017816,
                    0.1069886831472523,
                    0.2005383310541484,
                    0.0719075651821663,
                    0.0450294947014537,
                    0.0699877030049726
                  ],
                  "yaxis": "y"
                }
              ],
              "layout": {
                "legend": {
                  "title": {
                    "text": "Class"
                  },
                  "tracegroupgap": 0
                },
                "margin": {
                  "t": 60
                },
                "template": {
                  "data": {
                    "bar": [
                      {
                        "error_x": {
                          "color": "#2a3f5f"
                        },
                        "error_y": {
                          "color": "#2a3f5f"
                        },
                        "marker": {
                          "line": {
                            "color": "#E5ECF6",
                            "width": 0.5
                          },
                          "pattern": {
                            "fillmode": "overlay",
                            "size": 10,
                            "solidity": 0.2
                          }
                        },
                        "type": "bar"
                      }
                    ],
                    "barpolar": [
                      {
                        "marker": {
                          "line": {
                            "color": "#E5ECF6",
                            "width": 0.5
                          },
                          "pattern": {
                            "fillmode": "overlay",
                            "size": 10,
                            "solidity": 0.2
                          }
                        },
                        "type": "barpolar"
                      }
                    ],
                    "carpet": [
                      {
                        "aaxis": {
                          "endlinecolor": "#2a3f5f",
                          "gridcolor": "white",
                          "linecolor": "white",
                          "minorgridcolor": "white",
                          "startlinecolor": "#2a3f5f"
                        },
                        "baxis": {
                          "endlinecolor": "#2a3f5f",
                          "gridcolor": "white",
                          "linecolor": "white",
                          "minorgridcolor": "white",
                          "startlinecolor": "#2a3f5f"
                        },
                        "type": "carpet"
                      }
                    ],
                    "choropleth": [
                      {
                        "colorbar": {
                          "outlinewidth": 0,
                          "ticks": ""
                        },
                        "type": "choropleth"
                      }
                    ],
                    "contour": [
                      {
                        "colorbar": {
                          "outlinewidth": 0,
                          "ticks": ""
                        },
                        "colorscale": [
                          [
                            0,
                            "#0d0887"
                          ],
                          [
                            0.1111111111111111,
                            "#46039f"
                          ],
                          [
                            0.2222222222222222,
                            "#7201a8"
                          ],
                          [
                            0.3333333333333333,
                            "#9c179e"
                          ],
                          [
                            0.4444444444444444,
                            "#bd3786"
                          ],
                          [
                            0.5555555555555556,
                            "#d8576b"
                          ],
                          [
                            0.6666666666666666,
                            "#ed7953"
                          ],
                          [
                            0.7777777777777778,
                            "#fb9f3a"
                          ],
                          [
                            0.8888888888888888,
                            "#fdca26"
                          ],
                          [
                            1,
                            "#f0f921"
                          ]
                        ],
                        "type": "contour"
                      }
                    ],
                    "contourcarpet": [
                      {
                        "colorbar": {
                          "outlinewidth": 0,
                          "ticks": ""
                        },
                        "type": "contourcarpet"
                      }
                    ],
                    "heatmap": [
                      {
                        "colorbar": {
                          "outlinewidth": 0,
                          "ticks": ""
                        },
                        "colorscale": [
                          [
                            0,
                            "#0d0887"
                          ],
                          [
                            0.1111111111111111,
                            "#46039f"
                          ],
                          [
                            0.2222222222222222,
                            "#7201a8"
                          ],
                          [
                            0.3333333333333333,
                            "#9c179e"
                          ],
                          [
                            0.4444444444444444,
                            "#bd3786"
                          ],
                          [
                            0.5555555555555556,
                            "#d8576b"
                          ],
                          [
                            0.6666666666666666,
                            "#ed7953"
                          ],
                          [
                            0.7777777777777778,
                            "#fb9f3a"
                          ],
                          [
                            0.8888888888888888,
                            "#fdca26"
                          ],
                          [
                            1,
                            "#f0f921"
                          ]
                        ],
                        "type": "heatmap"
                      }
                    ],
                    "heatmapgl": [
                      {
                        "colorbar": {
                          "outlinewidth": 0,
                          "ticks": ""
                        },
                        "colorscale": [
                          [
                            0,
                            "#0d0887"
                          ],
                          [
                            0.1111111111111111,
                            "#46039f"
                          ],
                          [
                            0.2222222222222222,
                            "#7201a8"
                          ],
                          [
                            0.3333333333333333,
                            "#9c179e"
                          ],
                          [
                            0.4444444444444444,
                            "#bd3786"
                          ],
                          [
                            0.5555555555555556,
                            "#d8576b"
                          ],
                          [
                            0.6666666666666666,
                            "#ed7953"
                          ],
                          [
                            0.7777777777777778,
                            "#fb9f3a"
                          ],
                          [
                            0.8888888888888888,
                            "#fdca26"
                          ],
                          [
                            1,
                            "#f0f921"
                          ]
                        ],
                        "type": "heatmapgl"
                      }
                    ],
                    "histogram": [
                      {
                        "marker": {
                          "pattern": {
                            "fillmode": "overlay",
                            "size": 10,
                            "solidity": 0.2
                          }
                        },
                        "type": "histogram"
                      }
                    ],
                    "histogram2d": [
                      {
                        "colorbar": {
                          "outlinewidth": 0,
                          "ticks": ""
                        },
                        "colorscale": [
                          [
                            0,
                            "#0d0887"
                          ],
                          [
                            0.1111111111111111,
                            "#46039f"
                          ],
                          [
                            0.2222222222222222,
                            "#7201a8"
                          ],
                          [
                            0.3333333333333333,
                            "#9c179e"
                          ],
                          [
                            0.4444444444444444,
                            "#bd3786"
                          ],
                          [
                            0.5555555555555556,
                            "#d8576b"
                          ],
                          [
                            0.6666666666666666,
                            "#ed7953"
                          ],
                          [
                            0.7777777777777778,
                            "#fb9f3a"
                          ],
                          [
                            0.8888888888888888,
                            "#fdca26"
                          ],
                          [
                            1,
                            "#f0f921"
                          ]
                        ],
                        "type": "histogram2d"
                      }
                    ],
                    "histogram2dcontour": [
                      {
                        "colorbar": {
                          "outlinewidth": 0,
                          "ticks": ""
                        },
                        "colorscale": [
                          [
                            0,
                            "#0d0887"
                          ],
                          [
                            0.1111111111111111,
                            "#46039f"
                          ],
                          [
                            0.2222222222222222,
                            "#7201a8"
                          ],
                          [
                            0.3333333333333333,
                            "#9c179e"
                          ],
                          [
                            0.4444444444444444,
                            "#bd3786"
                          ],
                          [
                            0.5555555555555556,
                            "#d8576b"
                          ],
                          [
                            0.6666666666666666,
                            "#ed7953"
                          ],
                          [
                            0.7777777777777778,
                            "#fb9f3a"
                          ],
                          [
                            0.8888888888888888,
                            "#fdca26"
                          ],
                          [
                            1,
                            "#f0f921"
                          ]
                        ],
                        "type": "histogram2dcontour"
                      }
                    ],
                    "mesh3d": [
                      {
                        "colorbar": {
                          "outlinewidth": 0,
                          "ticks": ""
                        },
                        "type": "mesh3d"
                      }
                    ],
                    "parcoords": [
                      {
                        "line": {
                          "colorbar": {
                            "outlinewidth": 0,
                            "ticks": ""
                          }
                        },
                        "type": "parcoords"
                      }
                    ],
                    "pie": [
                      {
                        "automargin": true,
                        "type": "pie"
                      }
                    ],
                    "scatter": [
                      {
                        "fillpattern": {
                          "fillmode": "overlay",
                          "size": 10,
                          "solidity": 0.2
                        },
                        "type": "scatter"
                      }
                    ],
                    "scatter3d": [
                      {
                        "line": {
                          "colorbar": {
                            "outlinewidth": 0,
                            "ticks": ""
                          }
                        },
                        "marker": {
                          "colorbar": {
                            "outlinewidth": 0,
                            "ticks": ""
                          }
                        },
                        "type": "scatter3d"
                      }
                    ],
                    "scattercarpet": [
                      {
                        "marker": {
                          "colorbar": {
                            "outlinewidth": 0,
                            "ticks": ""
                          }
                        },
                        "type": "scattercarpet"
                      }
                    ],
                    "scattergeo": [
                      {
                        "marker": {
                          "colorbar": {
                            "outlinewidth": 0,
                            "ticks": ""
                          }
                        },
                        "type": "scattergeo"
                      }
                    ],
                    "scattergl": [
                      {
                        "marker": {
                          "colorbar": {
                            "outlinewidth": 0,
                            "ticks": ""
                          }
                        },
                        "type": "scattergl"
                      }
                    ],
                    "scattermapbox": [
                      {
                        "marker": {
                          "colorbar": {
                            "outlinewidth": 0,
                            "ticks": ""
                          }
                        },
                        "type": "scattermapbox"
                      }
                    ],
                    "scatterpolar": [
                      {
                        "marker": {
                          "colorbar": {
                            "outlinewidth": 0,
                            "ticks": ""
                          }
                        },
                        "type": "scatterpolar"
                      }
                    ],
                    "scatterpolargl": [
                      {
                        "marker": {
                          "colorbar": {
                            "outlinewidth": 0,
                            "ticks": ""
                          }
                        },
                        "type": "scatterpolargl"
                      }
                    ],
                    "scatterternary": [
                      {
                        "marker": {
                          "colorbar": {
                            "outlinewidth": 0,
                            "ticks": ""
                          }
                        },
                        "type": "scatterternary"
                      }
                    ],
                    "surface": [
                      {
                        "colorbar": {
                          "outlinewidth": 0,
                          "ticks": ""
                        },
                        "colorscale": [
                          [
                            0,
                            "#0d0887"
                          ],
                          [
                            0.1111111111111111,
                            "#46039f"
                          ],
                          [
                            0.2222222222222222,
                            "#7201a8"
                          ],
                          [
                            0.3333333333333333,
                            "#9c179e"
                          ],
                          [
                            0.4444444444444444,
                            "#bd3786"
                          ],
                          [
                            0.5555555555555556,
                            "#d8576b"
                          ],
                          [
                            0.6666666666666666,
                            "#ed7953"
                          ],
                          [
                            0.7777777777777778,
                            "#fb9f3a"
                          ],
                          [
                            0.8888888888888888,
                            "#fdca26"
                          ],
                          [
                            1,
                            "#f0f921"
                          ]
                        ],
                        "type": "surface"
                      }
                    ],
                    "table": [
                      {
                        "cells": {
                          "fill": {
                            "color": "#EBF0F8"
                          },
                          "line": {
                            "color": "white"
                          }
                        },
                        "header": {
                          "fill": {
                            "color": "#C8D4E3"
                          },
                          "line": {
                            "color": "white"
                          }
                        },
                        "type": "table"
                      }
                    ]
                  },
                  "layout": {
                    "annotationdefaults": {
                      "arrowcolor": "#2a3f5f",
                      "arrowhead": 0,
                      "arrowwidth": 1
                    },
                    "autotypenumbers": "strict",
                    "coloraxis": {
                      "colorbar": {
                        "outlinewidth": 0,
                        "ticks": ""
                      }
                    },
                    "colorscale": {
                      "diverging": [
                        [
                          0,
                          "#8e0152"
                        ],
                        [
                          0.1,
                          "#c51b7d"
                        ],
                        [
                          0.2,
                          "#de77ae"
                        ],
                        [
                          0.3,
                          "#f1b6da"
                        ],
                        [
                          0.4,
                          "#fde0ef"
                        ],
                        [
                          0.5,
                          "#f7f7f7"
                        ],
                        [
                          0.6,
                          "#e6f5d0"
                        ],
                        [
                          0.7,
                          "#b8e186"
                        ],
                        [
                          0.8,
                          "#7fbc41"
                        ],
                        [
                          0.9,
                          "#4d9221"
                        ],
                        [
                          1,
                          "#276419"
                        ]
                      ],
                      "sequential": [
                        [
                          0,
                          "#0d0887"
                        ],
                        [
                          0.1111111111111111,
                          "#46039f"
                        ],
                        [
                          0.2222222222222222,
                          "#7201a8"
                        ],
                        [
                          0.3333333333333333,
                          "#9c179e"
                        ],
                        [
                          0.4444444444444444,
                          "#bd3786"
                        ],
                        [
                          0.5555555555555556,
                          "#d8576b"
                        ],
                        [
                          0.6666666666666666,
                          "#ed7953"
                        ],
                        [
                          0.7777777777777778,
                          "#fb9f3a"
                        ],
                        [
                          0.8888888888888888,
                          "#fdca26"
                        ],
                        [
                          1,
                          "#f0f921"
                        ]
                      ],
                      "sequentialminus": [
                        [
                          0,
                          "#0d0887"
                        ],
                        [
                          0.1111111111111111,
                          "#46039f"
                        ],
                        [
                          0.2222222222222222,
                          "#7201a8"
                        ],
                        [
                          0.3333333333333333,
                          "#9c179e"
                        ],
                        [
                          0.4444444444444444,
                          "#bd3786"
                        ],
                        [
                          0.5555555555555556,
                          "#d8576b"
                        ],
                        [
                          0.6666666666666666,
                          "#ed7953"
                        ],
                        [
                          0.7777777777777778,
                          "#fb9f3a"
                        ],
                        [
                          0.8888888888888888,
                          "#fdca26"
                        ],
                        [
                          1,
                          "#f0f921"
                        ]
                      ]
                    },
                    "colorway": [
                      "#636efa",
                      "#EF553B",
                      "#00cc96",
                      "#ab63fa",
                      "#FFA15A",
                      "#19d3f3",
                      "#FF6692",
                      "#B6E880",
                      "#FF97FF",
                      "#FECB52"
                    ],
                    "font": {
                      "color": "#2a3f5f"
                    },
                    "geo": {
                      "bgcolor": "white",
                      "lakecolor": "white",
                      "landcolor": "#E5ECF6",
                      "showlakes": true,
                      "showland": true,
                      "subunitcolor": "white"
                    },
                    "hoverlabel": {
                      "align": "left"
                    },
                    "hovermode": "closest",
                    "mapbox": {
                      "style": "light"
                    },
                    "paper_bgcolor": "white",
                    "plot_bgcolor": "#E5ECF6",
                    "polar": {
                      "angularaxis": {
                        "gridcolor": "white",
                        "linecolor": "white",
                        "ticks": ""
                      },
                      "bgcolor": "#E5ECF6",
                      "radialaxis": {
                        "gridcolor": "white",
                        "linecolor": "white",
                        "ticks": ""
                      }
                    },
                    "scene": {
                      "xaxis": {
                        "backgroundcolor": "#E5ECF6",
                        "gridcolor": "white",
                        "gridwidth": 2,
                        "linecolor": "white",
                        "showbackground": true,
                        "ticks": "",
                        "zerolinecolor": "white"
                      },
                      "yaxis": {
                        "backgroundcolor": "#E5ECF6",
                        "gridcolor": "white",
                        "gridwidth": 2,
                        "linecolor": "white",
                        "showbackground": true,
                        "ticks": "",
                        "zerolinecolor": "white"
                      },
                      "zaxis": {
                        "backgroundcolor": "#E5ECF6",
                        "gridcolor": "white",
                        "gridwidth": 2,
                        "linecolor": "white",
                        "showbackground": true,
                        "ticks": "",
                        "zerolinecolor": "white"
                      }
                    },
                    "shapedefaults": {
                      "line": {
                        "color": "#2a3f5f"
                      }
                    },
                    "ternary": {
                      "aaxis": {
                        "gridcolor": "white",
                        "linecolor": "white",
                        "ticks": ""
                      },
                      "baxis": {
                        "gridcolor": "white",
                        "linecolor": "white",
                        "ticks": ""
                      },
                      "bgcolor": "#E5ECF6",
                      "caxis": {
                        "gridcolor": "white",
                        "linecolor": "white",
                        "ticks": ""
                      }
                    },
                    "title": {
                      "x": 0.05
                    },
                    "xaxis": {
                      "automargin": true,
                      "gridcolor": "white",
                      "linecolor": "white",
                      "ticks": "",
                      "title": {
                        "standoff": 15
                      },
                      "zerolinecolor": "white",
                      "zerolinewidth": 2
                    },
                    "yaxis": {
                      "automargin": true,
                      "gridcolor": "white",
                      "linecolor": "white",
                      "ticks": "",
                      "title": {
                        "standoff": 15
                      },
                      "zerolinecolor": "white",
                      "zerolinewidth": 2
                    }
                  }
                },
                "xaxis": {
                  "anchor": "y",
                  "domain": [
                    0,
                    1
                  ],
                  "title": {
                    "text": "I0"
                  }
                },
                "yaxis": {
                  "anchor": "x",
                  "domain": [
                    0,
                    1
                  ],
                  "title": {
                    "text": "PA500"
                  }
                }
              }
            }
          },
          "metadata": {},
          "output_type": "display_data"
        }
      ],
      "source": [
        "# YOUR CODE HERE. ADD CELLS AS NEEDED\n",
        "import plotly.express as px\n",
        "\n",
        "fig = px.scatter(df_breast, x=\"I0\", y=\"PA500\", color=\"Class\")\n",
        "fig.show()"
      ]
    },
    {
      "cell_type": "markdown",
      "metadata": {
        "id": "LI89bJofV8Zf"
      },
      "source": [
        "2\\. Fit a 5-nearest neighbors classification model for predicting tissue class from I0 and PA500. Don't forget to scale the features!"
      ]
    },
    {
      "cell_type": "code",
      "execution_count": 6,
      "metadata": {},
      "outputs": [],
      "source": [
        "X_train = df_breast[[\"I0\", \"PA500\"]]\n",
        "y_train = df_breast[\"Class\"]"
      ]
    },
    {
      "cell_type": "code",
      "execution_count": 7,
      "metadata": {
        "id": "T6Bh4ODvQP-e"
      },
      "outputs": [
        {
          "data": {
            "text/html": [
              "<style>#sk-container-id-1 {color: black;}#sk-container-id-1 pre{padding: 0;}#sk-container-id-1 div.sk-toggleable {background-color: white;}#sk-container-id-1 label.sk-toggleable__label {cursor: pointer;display: block;width: 100%;margin-bottom: 0;padding: 0.3em;box-sizing: border-box;text-align: center;}#sk-container-id-1 label.sk-toggleable__label-arrow:before {content: \"▸\";float: left;margin-right: 0.25em;color: #696969;}#sk-container-id-1 label.sk-toggleable__label-arrow:hover:before {color: black;}#sk-container-id-1 div.sk-estimator:hover label.sk-toggleable__label-arrow:before {color: black;}#sk-container-id-1 div.sk-toggleable__content {max-height: 0;max-width: 0;overflow: hidden;text-align: left;background-color: #f0f8ff;}#sk-container-id-1 div.sk-toggleable__content pre {margin: 0.2em;color: black;border-radius: 0.25em;background-color: #f0f8ff;}#sk-container-id-1 input.sk-toggleable__control:checked~div.sk-toggleable__content {max-height: 200px;max-width: 100%;overflow: auto;}#sk-container-id-1 input.sk-toggleable__control:checked~label.sk-toggleable__label-arrow:before {content: \"▾\";}#sk-container-id-1 div.sk-estimator input.sk-toggleable__control:checked~label.sk-toggleable__label {background-color: #d4ebff;}#sk-container-id-1 div.sk-label input.sk-toggleable__control:checked~label.sk-toggleable__label {background-color: #d4ebff;}#sk-container-id-1 input.sk-hidden--visually {border: 0;clip: rect(1px 1px 1px 1px);clip: rect(1px, 1px, 1px, 1px);height: 1px;margin: -1px;overflow: hidden;padding: 0;position: absolute;width: 1px;}#sk-container-id-1 div.sk-estimator {font-family: monospace;background-color: #f0f8ff;border: 1px dotted black;border-radius: 0.25em;box-sizing: border-box;margin-bottom: 0.5em;}#sk-container-id-1 div.sk-estimator:hover {background-color: #d4ebff;}#sk-container-id-1 div.sk-parallel-item::after {content: \"\";width: 100%;border-bottom: 1px solid gray;flex-grow: 1;}#sk-container-id-1 div.sk-label:hover label.sk-toggleable__label {background-color: #d4ebff;}#sk-container-id-1 div.sk-serial::before {content: \"\";position: absolute;border-left: 1px solid gray;box-sizing: border-box;top: 0;bottom: 0;left: 50%;z-index: 0;}#sk-container-id-1 div.sk-serial {display: flex;flex-direction: column;align-items: center;background-color: white;padding-right: 0.2em;padding-left: 0.2em;position: relative;}#sk-container-id-1 div.sk-item {position: relative;z-index: 1;}#sk-container-id-1 div.sk-parallel {display: flex;align-items: stretch;justify-content: center;background-color: white;position: relative;}#sk-container-id-1 div.sk-item::before, #sk-container-id-1 div.sk-parallel-item::before {content: \"\";position: absolute;border-left: 1px solid gray;box-sizing: border-box;top: 0;bottom: 0;left: 50%;z-index: -1;}#sk-container-id-1 div.sk-parallel-item {display: flex;flex-direction: column;z-index: 1;position: relative;background-color: white;}#sk-container-id-1 div.sk-parallel-item:first-child::after {align-self: flex-end;width: 50%;}#sk-container-id-1 div.sk-parallel-item:last-child::after {align-self: flex-start;width: 50%;}#sk-container-id-1 div.sk-parallel-item:only-child::after {width: 0;}#sk-container-id-1 div.sk-dashed-wrapped {border: 1px dashed gray;margin: 0 0.4em 0.5em 0.4em;box-sizing: border-box;padding-bottom: 0.4em;background-color: white;}#sk-container-id-1 div.sk-label label {font-family: monospace;font-weight: bold;display: inline-block;line-height: 1.2em;}#sk-container-id-1 div.sk-label-container {text-align: center;}#sk-container-id-1 div.sk-container {/* jupyter's `normalize.less` sets `[hidden] { display: none; }` but bootstrap.min.css set `[hidden] { display: none !important; }` so we also need the `!important` here to be able to override the default hidden behavior on the sphinx rendered scikit-learn.org. See: https://github.com/scikit-learn/scikit-learn/issues/21755 */display: inline-block !important;position: relative;}#sk-container-id-1 div.sk-text-repr-fallback {display: none;}</style><div id=\"sk-container-id-1\" class=\"sk-top-container\"><div class=\"sk-text-repr-fallback\"><pre>Pipeline(steps=[(&#x27;standardscaler&#x27;, StandardScaler()),\n",
              "                (&#x27;kneighborsclassifier&#x27;, KNeighborsClassifier())])</pre><b>In a Jupyter environment, please rerun this cell to show the HTML representation or trust the notebook. <br />On GitHub, the HTML representation is unable to render, please try loading this page with nbviewer.org.</b></div><div class=\"sk-container\" hidden><div class=\"sk-item sk-dashed-wrapped\"><div class=\"sk-label-container\"><div class=\"sk-label sk-toggleable\"><input class=\"sk-toggleable__control sk-hidden--visually\" id=\"sk-estimator-id-1\" type=\"checkbox\" ><label for=\"sk-estimator-id-1\" class=\"sk-toggleable__label sk-toggleable__label-arrow\">Pipeline</label><div class=\"sk-toggleable__content\"><pre>Pipeline(steps=[(&#x27;standardscaler&#x27;, StandardScaler()),\n",
              "                (&#x27;kneighborsclassifier&#x27;, KNeighborsClassifier())])</pre></div></div></div><div class=\"sk-serial\"><div class=\"sk-item\"><div class=\"sk-estimator sk-toggleable\"><input class=\"sk-toggleable__control sk-hidden--visually\" id=\"sk-estimator-id-2\" type=\"checkbox\" ><label for=\"sk-estimator-id-2\" class=\"sk-toggleable__label sk-toggleable__label-arrow\">StandardScaler</label><div class=\"sk-toggleable__content\"><pre>StandardScaler()</pre></div></div></div><div class=\"sk-item\"><div class=\"sk-estimator sk-toggleable\"><input class=\"sk-toggleable__control sk-hidden--visually\" id=\"sk-estimator-id-3\" type=\"checkbox\" ><label for=\"sk-estimator-id-3\" class=\"sk-toggleable__label sk-toggleable__label-arrow\">KNeighborsClassifier</label><div class=\"sk-toggleable__content\"><pre>KNeighborsClassifier()</pre></div></div></div></div></div></div></div>"
            ],
            "text/plain": [
              "Pipeline(steps=[('standardscaler', StandardScaler()),\n",
              "                ('kneighborsclassifier', KNeighborsClassifier())])"
            ]
          },
          "execution_count": 7,
          "metadata": {},
          "output_type": "execute_result"
        }
      ],
      "source": [
        "# YOUR CODE HERE. ADD CELLS AS NEEDED\n",
        "from sklearn.neighbors import KNeighborsClassifier\n",
        "from sklearn.preprocessing import StandardScaler\n",
        "from sklearn.pipeline import make_pipeline\n",
        "\n",
        "pipeline = make_pipeline(\n",
        "    StandardScaler(),\n",
        "    KNeighborsClassifier(n_neighbors=5)\n",
        ")\n",
        "\n",
        "pipeline.fit(X_train, y_train)"
      ]
    },
    {
      "cell_type": "markdown",
      "metadata": {
        "id": "8D25mF2pWEza"
      },
      "source": [
        "3\\. Use scikit-learn to produce the confusion matrix for the training data."
      ]
    },
    {
      "cell_type": "code",
      "execution_count": 10,
      "metadata": {
        "id": "Av1hGgYtQQh2"
      },
      "outputs": [
        {
          "data": {
            "text/plain": [
              "array([[20,  0,  2,  0,  0,  0],\n",
              "       [ 0, 20,  0,  0,  0,  1],\n",
              "       [ 2,  0, 11,  1,  0,  0],\n",
              "       [ 0,  0,  0, 13,  1,  1],\n",
              "       [ 0,  0,  0,  3, 12,  1],\n",
              "       [ 0,  2,  0,  8,  3,  5]])"
            ]
          },
          "execution_count": 10,
          "metadata": {},
          "output_type": "execute_result"
        }
      ],
      "source": [
        "# YOUR CODE HERE. ADD CELLS AS NEEDED\n",
        "from sklearn.metrics import confusion_matrix\n",
        "\n",
        "y_train_ = pd.Series(pipeline.predict(X_train), name=\"Predicted\")\n",
        "\n",
        "confusion_matrix(y_train, y_train_)\n"
      ]
    },
    {
      "cell_type": "markdown",
      "metadata": {
        "id": "DNjWkG9tXDPA"
      },
      "source": [
        "4\\. Compute by hand the training precision, recall, and F1 score for the carcinoma class. Then use scikit-learn to compute these values. Interpret the values."
      ]
    },
    {
      "cell_type": "code",
      "execution_count": 12,
      "metadata": {
        "id": "xptW5aS-QREF"
      },
      "outputs": [
        {
          "data": {
            "text/plain": [
              "(0.9090909090909091, 0.9523809523809523, 0.9302325581395349)"
            ]
          },
          "execution_count": 12,
          "metadata": {},
          "output_type": "execute_result"
        }
      ],
      "source": [
        "# YOUR CODE HERE. ADD CELLS AS NEEDED\n",
        "\n",
        "true_positives = ((y_train == \"car\") & (y_train_ == \"car\")).sum()\n",
        "\n",
        "precision = true_positives / (y_train_ == \"car\").sum()\n",
        "\n",
        "recall = true_positives / (y_train == \"car\").sum()\n",
        "\n",
        "f1 = 2 * precision * recall / (precision + recall)\n",
        "\n",
        "precision, recall, f1"
      ]
    },
    {
      "cell_type": "code",
      "execution_count": 16,
      "metadata": {},
      "outputs": [
        {
          "data": {
            "text/plain": [
              "(0.9090909090909091, 0.9523809523809523, 0.9302325581395349)"
            ]
          },
          "execution_count": 16,
          "metadata": {},
          "output_type": "execute_result"
        }
      ],
      "source": [
        "from sklearn.metrics import precision_score, recall_score, f1_score\n",
        "\n",
        "prec = precision_score(y_train == \"car\", y_train_ == \"car\")\n",
        "\n",
        "rec = recall_score(y_train == \"car\", y_train_ == \"car\")\n",
        "\n",
        "f1 = f1_score(y_train == \"car\", y_train_ == \"car\")\n",
        "\n",
        "prec, rec, f1\n"
      ]
    },
    {
      "cell_type": "markdown",
      "metadata": {},
      "source": [
        "This model did really well in classifying carcinoma. It had a recall of 0.95,\n",
        "which means that the models was effectively capturing most of the carcinoma cases. It also had a precision of 0.9, which means that when the model predicted carcinoma, it was correct 90% of the time. The F1 score is 0.93, which is a good balance between precision and recall."
      ]
    },
    {
      "cell_type": "markdown",
      "metadata": {
        "id": "Nn3lkdGRXV2A"
      },
      "source": [
        "5\\. Compute by hand the training precision, recall, and F1 score for the mastopathy class. Then use scikit-learn to compute these values. Is the F1 score closer to precision or recall? Why?"
      ]
    },
    {
      "cell_type": "code",
      "execution_count": 13,
      "metadata": {
        "id": "OMS6nmT4QRli"
      },
      "outputs": [
        {
          "data": {
            "text/plain": [
              "(0.625, 0.2777777777777778, 0.3846153846153846)"
            ]
          },
          "execution_count": 13,
          "metadata": {},
          "output_type": "execute_result"
        }
      ],
      "source": [
        "# YOUR CODE HERE. ADD CELLS AS NEEDED\n",
        "\n",
        "true_positives = ((y_train == \"mas\") & (y_train_ == \"mas\")).sum()\n",
        "\n",
        "precision = true_positives / (y_train_ == \"mas\").sum()\n",
        "\n",
        "recall = true_positives / (y_train == \"mas\").sum()\n",
        "\n",
        "f1 = 2 * precision * recall / (precision + recall)\n",
        "\n",
        "precision, recall, f1"
      ]
    },
    {
      "cell_type": "code",
      "execution_count": 17,
      "metadata": {},
      "outputs": [
        {
          "data": {
            "text/plain": [
              "(0.625, 0.2777777777777778, 0.3846153846153846)"
            ]
          },
          "execution_count": 17,
          "metadata": {},
          "output_type": "execute_result"
        }
      ],
      "source": [
        "prec = precision_score(y_train == \"mas\", y_train_ == \"mas\")\n",
        "\n",
        "rec = recall_score(y_train == \"mas\", y_train_ == \"mas\")\n",
        "\n",
        "f1 = f1_score(y_train == \"mas\", y_train_ == \"mas\")\n",
        "\n",
        "prec, rec, f1"
      ]
    },
    {
      "cell_type": "markdown",
      "metadata": {},
      "source": [
        "Overall, this models is very poor with a f1 score of 0.38, which means that neither precision nor recall is very good. The precision is much higher that the recall which means that it is more likely to miss mastopathy cases than to incorrectly classify them as mastopathy."
      ]
    },
    {
      "cell_type": "markdown",
      "metadata": {
        "id": "SWrXLngrb2tQ"
      },
      "source": [
        "6\\. Compare the scores for the carcinoma and mastopathy class. Do the results make sense in light of what you discussed in part 1?"
      ]
    },
    {
      "cell_type": "markdown",
      "metadata": {
        "id": "ajP4_EubQSMC"
      },
      "source": [
        "Yes, the results make sense. The model is much better at classifying carcinoma than mastopathy. This is because the carcinoma class is much more distinct from the other classes than the mastopathy class. The mastopathy class is much more similar to the other classes, so it is harder to classify."
      ]
    },
    {
      "cell_type": "markdown",
      "metadata": {
        "id": "1SM5yKbSXjfc"
      },
      "source": [
        "7\\. Use the model to predict the tissue class for a new sample with an I0 of 400 and a PA500 of 0.18. What are the predicted probabilities for each class?"
      ]
    },
    {
      "cell_type": "code",
      "execution_count": 18,
      "metadata": {
        "id": "02xwsnHAQStr"
      },
      "outputs": [
        {
          "name": "stderr",
          "output_type": "stream",
          "text": [
            "/Users/ishaansathaye/Library/Python/3.9/lib/python/site-packages/sklearn/base.py:465: UserWarning:\n",
            "\n",
            "X does not have valid feature names, but StandardScaler was fitted with feature names\n",
            "\n"
          ]
        },
        {
          "data": {
            "text/plain": [
              "array(['car'], dtype=object)"
            ]
          },
          "execution_count": 18,
          "metadata": {},
          "output_type": "execute_result"
        }
      ],
      "source": [
        "# YOUR CODE HERE. ADD CELLS AS NEEDED\n",
        "\n",
        "pipeline.predict([[400, 0.18]])"
      ]
    },
    {
      "cell_type": "markdown",
      "metadata": {
        "id": "ZhZc1Pb_NItl"
      },
      "source": [
        "## Titanic Data\n",
        "\n",
        "We'll use $k$-nearest neighbors to predict who survives based on age, sex, and class."
      ]
    },
    {
      "cell_type": "code",
      "execution_count": 19,
      "metadata": {
        "id": "-gYDrsSD04vO"
      },
      "outputs": [
        {
          "data": {
            "text/html": [
              "<div>\n",
              "<style scoped>\n",
              "    .dataframe tbody tr th:only-of-type {\n",
              "        vertical-align: middle;\n",
              "    }\n",
              "\n",
              "    .dataframe tbody tr th {\n",
              "        vertical-align: top;\n",
              "    }\n",
              "\n",
              "    .dataframe thead th {\n",
              "        text-align: right;\n",
              "    }\n",
              "</style>\n",
              "<table border=\"1\" class=\"dataframe\">\n",
              "  <thead>\n",
              "    <tr style=\"text-align: right;\">\n",
              "      <th></th>\n",
              "      <th>name</th>\n",
              "      <th>gender</th>\n",
              "      <th>age</th>\n",
              "      <th>class</th>\n",
              "      <th>embarked</th>\n",
              "      <th>country</th>\n",
              "      <th>ticketno</th>\n",
              "      <th>fare</th>\n",
              "      <th>survived</th>\n",
              "    </tr>\n",
              "  </thead>\n",
              "  <tbody>\n",
              "    <tr>\n",
              "      <th>0</th>\n",
              "      <td>Abbing, Mr. Anthony</td>\n",
              "      <td>male</td>\n",
              "      <td>42.0</td>\n",
              "      <td>3rd</td>\n",
              "      <td>S</td>\n",
              "      <td>United States</td>\n",
              "      <td>5547.0</td>\n",
              "      <td>7.11</td>\n",
              "      <td>0</td>\n",
              "    </tr>\n",
              "    <tr>\n",
              "      <th>1</th>\n",
              "      <td>Abbott, Mr. Eugene Joseph</td>\n",
              "      <td>male</td>\n",
              "      <td>13.0</td>\n",
              "      <td>3rd</td>\n",
              "      <td>S</td>\n",
              "      <td>United States</td>\n",
              "      <td>2673.0</td>\n",
              "      <td>20.05</td>\n",
              "      <td>0</td>\n",
              "    </tr>\n",
              "    <tr>\n",
              "      <th>2</th>\n",
              "      <td>Abbott, Mr. Rossmore Edward</td>\n",
              "      <td>male</td>\n",
              "      <td>16.0</td>\n",
              "      <td>3rd</td>\n",
              "      <td>S</td>\n",
              "      <td>United States</td>\n",
              "      <td>2673.0</td>\n",
              "      <td>20.05</td>\n",
              "      <td>0</td>\n",
              "    </tr>\n",
              "    <tr>\n",
              "      <th>3</th>\n",
              "      <td>Abbott, Mrs. Rhoda Mary 'Rosa'</td>\n",
              "      <td>female</td>\n",
              "      <td>39.0</td>\n",
              "      <td>3rd</td>\n",
              "      <td>S</td>\n",
              "      <td>England</td>\n",
              "      <td>2673.0</td>\n",
              "      <td>20.05</td>\n",
              "      <td>1</td>\n",
              "    </tr>\n",
              "    <tr>\n",
              "      <th>4</th>\n",
              "      <td>Abelseth, Miss. Karen Marie</td>\n",
              "      <td>female</td>\n",
              "      <td>16.0</td>\n",
              "      <td>3rd</td>\n",
              "      <td>S</td>\n",
              "      <td>Norway</td>\n",
              "      <td>348125.0</td>\n",
              "      <td>7.13</td>\n",
              "      <td>1</td>\n",
              "    </tr>\n",
              "    <tr>\n",
              "      <th>...</th>\n",
              "      <td>...</td>\n",
              "      <td>...</td>\n",
              "      <td>...</td>\n",
              "      <td>...</td>\n",
              "      <td>...</td>\n",
              "      <td>...</td>\n",
              "      <td>...</td>\n",
              "      <td>...</td>\n",
              "      <td>...</td>\n",
              "    </tr>\n",
              "    <tr>\n",
              "      <th>2202</th>\n",
              "      <td>Wynn, Mr. Walter</td>\n",
              "      <td>male</td>\n",
              "      <td>41.0</td>\n",
              "      <td>deck crew</td>\n",
              "      <td>B</td>\n",
              "      <td>England</td>\n",
              "      <td>NaN</td>\n",
              "      <td>NaN</td>\n",
              "      <td>1</td>\n",
              "    </tr>\n",
              "    <tr>\n",
              "      <th>2203</th>\n",
              "      <td>Yearsley, Mr. Harry</td>\n",
              "      <td>male</td>\n",
              "      <td>40.0</td>\n",
              "      <td>victualling crew</td>\n",
              "      <td>S</td>\n",
              "      <td>England</td>\n",
              "      <td>NaN</td>\n",
              "      <td>NaN</td>\n",
              "      <td>1</td>\n",
              "    </tr>\n",
              "    <tr>\n",
              "      <th>2204</th>\n",
              "      <td>Young, Mr. Francis James</td>\n",
              "      <td>male</td>\n",
              "      <td>32.0</td>\n",
              "      <td>engineering crew</td>\n",
              "      <td>S</td>\n",
              "      <td>England</td>\n",
              "      <td>NaN</td>\n",
              "      <td>NaN</td>\n",
              "      <td>0</td>\n",
              "    </tr>\n",
              "    <tr>\n",
              "      <th>2205</th>\n",
              "      <td>Zanetti, Sig. Minio</td>\n",
              "      <td>male</td>\n",
              "      <td>20.0</td>\n",
              "      <td>restaurant staff</td>\n",
              "      <td>S</td>\n",
              "      <td>England</td>\n",
              "      <td>NaN</td>\n",
              "      <td>NaN</td>\n",
              "      <td>0</td>\n",
              "    </tr>\n",
              "    <tr>\n",
              "      <th>2206</th>\n",
              "      <td>Zarracchi, Sig. L.</td>\n",
              "      <td>male</td>\n",
              "      <td>26.0</td>\n",
              "      <td>restaurant staff</td>\n",
              "      <td>S</td>\n",
              "      <td>England</td>\n",
              "      <td>NaN</td>\n",
              "      <td>NaN</td>\n",
              "      <td>0</td>\n",
              "    </tr>\n",
              "  </tbody>\n",
              "</table>\n",
              "<p>2205 rows × 9 columns</p>\n",
              "</div>"
            ],
            "text/plain": [
              "                                name  gender   age             class embarked   \n",
              "0                Abbing, Mr. Anthony    male  42.0               3rd        S  \\\n",
              "1          Abbott, Mr. Eugene Joseph    male  13.0               3rd        S   \n",
              "2        Abbott, Mr. Rossmore Edward    male  16.0               3rd        S   \n",
              "3     Abbott, Mrs. Rhoda Mary 'Rosa'  female  39.0               3rd        S   \n",
              "4        Abelseth, Miss. Karen Marie  female  16.0               3rd        S   \n",
              "...                              ...     ...   ...               ...      ...   \n",
              "2202                Wynn, Mr. Walter    male  41.0         deck crew        B   \n",
              "2203             Yearsley, Mr. Harry    male  40.0  victualling crew        S   \n",
              "2204        Young, Mr. Francis James    male  32.0  engineering crew        S   \n",
              "2205             Zanetti, Sig. Minio    male  20.0  restaurant staff        S   \n",
              "2206              Zarracchi, Sig. L.    male  26.0  restaurant staff        S   \n",
              "\n",
              "            country  ticketno   fare  survived  \n",
              "0     United States    5547.0   7.11         0  \n",
              "1     United States    2673.0  20.05         0  \n",
              "2     United States    2673.0  20.05         0  \n",
              "3           England    2673.0  20.05         1  \n",
              "4            Norway  348125.0   7.13         1  \n",
              "...             ...       ...    ...       ...  \n",
              "2202        England       NaN    NaN         1  \n",
              "2203        England       NaN    NaN         1  \n",
              "2204        England       NaN    NaN         0  \n",
              "2205        England       NaN    NaN         0  \n",
              "2206        England       NaN    NaN         0  \n",
              "\n",
              "[2205 rows x 9 columns]"
            ]
          },
          "execution_count": 19,
          "metadata": {},
          "output_type": "execute_result"
        }
      ],
      "source": [
        "df_titanic = pd.read_csv(\"https://dlsun.github.io/pods/data/titanic.csv \")\n",
        "\n",
        "# drop the NaN for age since we're using it as a predictor\n",
        "df_titanic = df_titanic.dropna(subset = [\"age\"])\n",
        "\n",
        "df_titanic"
      ]
    },
    {
      "cell_type": "code",
      "execution_count": 27,
      "metadata": {},
      "outputs": [
        {
          "data": {
            "text/plain": [
              "class\n",
              "3rd                 707\n",
              "victualling crew    431\n",
              "1st                 324\n",
              "engineering crew    324\n",
              "2nd                 284\n",
              "restaurant staff     69\n",
              "deck crew            66\n",
              "Name: count, dtype: int64"
            ]
          },
          "execution_count": 27,
          "metadata": {},
          "output_type": "execute_result"
        }
      ],
      "source": [
        "df_titanic[\"class\"].value_counts()"
      ]
    },
    {
      "cell_type": "markdown",
      "metadata": {
        "id": "EKL5tNmENItm"
      },
      "source": [
        "1\\. Train a 10-nearest neighbors model to predict whether or not a passenger on the Titanic survived, using their age, sex, and class as features."
      ]
    },
    {
      "cell_type": "code",
      "execution_count": 25,
      "metadata": {
        "id": "l4qZVACpQTz3"
      },
      "outputs": [
        {
          "data": {
            "text/html": [
              "<style>#sk-container-id-2 {color: black;}#sk-container-id-2 pre{padding: 0;}#sk-container-id-2 div.sk-toggleable {background-color: white;}#sk-container-id-2 label.sk-toggleable__label {cursor: pointer;display: block;width: 100%;margin-bottom: 0;padding: 0.3em;box-sizing: border-box;text-align: center;}#sk-container-id-2 label.sk-toggleable__label-arrow:before {content: \"▸\";float: left;margin-right: 0.25em;color: #696969;}#sk-container-id-2 label.sk-toggleable__label-arrow:hover:before {color: black;}#sk-container-id-2 div.sk-estimator:hover label.sk-toggleable__label-arrow:before {color: black;}#sk-container-id-2 div.sk-toggleable__content {max-height: 0;max-width: 0;overflow: hidden;text-align: left;background-color: #f0f8ff;}#sk-container-id-2 div.sk-toggleable__content pre {margin: 0.2em;color: black;border-radius: 0.25em;background-color: #f0f8ff;}#sk-container-id-2 input.sk-toggleable__control:checked~div.sk-toggleable__content {max-height: 200px;max-width: 100%;overflow: auto;}#sk-container-id-2 input.sk-toggleable__control:checked~label.sk-toggleable__label-arrow:before {content: \"▾\";}#sk-container-id-2 div.sk-estimator input.sk-toggleable__control:checked~label.sk-toggleable__label {background-color: #d4ebff;}#sk-container-id-2 div.sk-label input.sk-toggleable__control:checked~label.sk-toggleable__label {background-color: #d4ebff;}#sk-container-id-2 input.sk-hidden--visually {border: 0;clip: rect(1px 1px 1px 1px);clip: rect(1px, 1px, 1px, 1px);height: 1px;margin: -1px;overflow: hidden;padding: 0;position: absolute;width: 1px;}#sk-container-id-2 div.sk-estimator {font-family: monospace;background-color: #f0f8ff;border: 1px dotted black;border-radius: 0.25em;box-sizing: border-box;margin-bottom: 0.5em;}#sk-container-id-2 div.sk-estimator:hover {background-color: #d4ebff;}#sk-container-id-2 div.sk-parallel-item::after {content: \"\";width: 100%;border-bottom: 1px solid gray;flex-grow: 1;}#sk-container-id-2 div.sk-label:hover label.sk-toggleable__label {background-color: #d4ebff;}#sk-container-id-2 div.sk-serial::before {content: \"\";position: absolute;border-left: 1px solid gray;box-sizing: border-box;top: 0;bottom: 0;left: 50%;z-index: 0;}#sk-container-id-2 div.sk-serial {display: flex;flex-direction: column;align-items: center;background-color: white;padding-right: 0.2em;padding-left: 0.2em;position: relative;}#sk-container-id-2 div.sk-item {position: relative;z-index: 1;}#sk-container-id-2 div.sk-parallel {display: flex;align-items: stretch;justify-content: center;background-color: white;position: relative;}#sk-container-id-2 div.sk-item::before, #sk-container-id-2 div.sk-parallel-item::before {content: \"\";position: absolute;border-left: 1px solid gray;box-sizing: border-box;top: 0;bottom: 0;left: 50%;z-index: -1;}#sk-container-id-2 div.sk-parallel-item {display: flex;flex-direction: column;z-index: 1;position: relative;background-color: white;}#sk-container-id-2 div.sk-parallel-item:first-child::after {align-self: flex-end;width: 50%;}#sk-container-id-2 div.sk-parallel-item:last-child::after {align-self: flex-start;width: 50%;}#sk-container-id-2 div.sk-parallel-item:only-child::after {width: 0;}#sk-container-id-2 div.sk-dashed-wrapped {border: 1px dashed gray;margin: 0 0.4em 0.5em 0.4em;box-sizing: border-box;padding-bottom: 0.4em;background-color: white;}#sk-container-id-2 div.sk-label label {font-family: monospace;font-weight: bold;display: inline-block;line-height: 1.2em;}#sk-container-id-2 div.sk-label-container {text-align: center;}#sk-container-id-2 div.sk-container {/* jupyter's `normalize.less` sets `[hidden] { display: none; }` but bootstrap.min.css set `[hidden] { display: none !important; }` so we also need the `!important` here to be able to override the default hidden behavior on the sphinx rendered scikit-learn.org. See: https://github.com/scikit-learn/scikit-learn/issues/21755 */display: inline-block !important;position: relative;}#sk-container-id-2 div.sk-text-repr-fallback {display: none;}</style><div id=\"sk-container-id-2\" class=\"sk-top-container\"><div class=\"sk-text-repr-fallback\"><pre>Pipeline(steps=[(&#x27;columntransformer&#x27;,\n",
              "                 ColumnTransformer(transformers=[(&#x27;standardscaler&#x27;,\n",
              "                                                  StandardScaler(), [&#x27;age&#x27;]),\n",
              "                                                 (&#x27;onehotencoder&#x27;,\n",
              "                                                  OneHotEncoder(handle_unknown=&#x27;ignore&#x27;),\n",
              "                                                  [&#x27;gender&#x27;, &#x27;class&#x27;])])),\n",
              "                (&#x27;kneighborsclassifier&#x27;, KNeighborsClassifier(n_neighbors=10))])</pre><b>In a Jupyter environment, please rerun this cell to show the HTML representation or trust the notebook. <br />On GitHub, the HTML representation is unable to render, please try loading this page with nbviewer.org.</b></div><div class=\"sk-container\" hidden><div class=\"sk-item sk-dashed-wrapped\"><div class=\"sk-label-container\"><div class=\"sk-label sk-toggleable\"><input class=\"sk-toggleable__control sk-hidden--visually\" id=\"sk-estimator-id-4\" type=\"checkbox\" ><label for=\"sk-estimator-id-4\" class=\"sk-toggleable__label sk-toggleable__label-arrow\">Pipeline</label><div class=\"sk-toggleable__content\"><pre>Pipeline(steps=[(&#x27;columntransformer&#x27;,\n",
              "                 ColumnTransformer(transformers=[(&#x27;standardscaler&#x27;,\n",
              "                                                  StandardScaler(), [&#x27;age&#x27;]),\n",
              "                                                 (&#x27;onehotencoder&#x27;,\n",
              "                                                  OneHotEncoder(handle_unknown=&#x27;ignore&#x27;),\n",
              "                                                  [&#x27;gender&#x27;, &#x27;class&#x27;])])),\n",
              "                (&#x27;kneighborsclassifier&#x27;, KNeighborsClassifier(n_neighbors=10))])</pre></div></div></div><div class=\"sk-serial\"><div class=\"sk-item sk-dashed-wrapped\"><div class=\"sk-label-container\"><div class=\"sk-label sk-toggleable\"><input class=\"sk-toggleable__control sk-hidden--visually\" id=\"sk-estimator-id-5\" type=\"checkbox\" ><label for=\"sk-estimator-id-5\" class=\"sk-toggleable__label sk-toggleable__label-arrow\">columntransformer: ColumnTransformer</label><div class=\"sk-toggleable__content\"><pre>ColumnTransformer(transformers=[(&#x27;standardscaler&#x27;, StandardScaler(), [&#x27;age&#x27;]),\n",
              "                                (&#x27;onehotencoder&#x27;,\n",
              "                                 OneHotEncoder(handle_unknown=&#x27;ignore&#x27;),\n",
              "                                 [&#x27;gender&#x27;, &#x27;class&#x27;])])</pre></div></div></div><div class=\"sk-parallel\"><div class=\"sk-parallel-item\"><div class=\"sk-item\"><div class=\"sk-label-container\"><div class=\"sk-label sk-toggleable\"><input class=\"sk-toggleable__control sk-hidden--visually\" id=\"sk-estimator-id-6\" type=\"checkbox\" ><label for=\"sk-estimator-id-6\" class=\"sk-toggleable__label sk-toggleable__label-arrow\">standardscaler</label><div class=\"sk-toggleable__content\"><pre>[&#x27;age&#x27;]</pre></div></div></div><div class=\"sk-serial\"><div class=\"sk-item\"><div class=\"sk-estimator sk-toggleable\"><input class=\"sk-toggleable__control sk-hidden--visually\" id=\"sk-estimator-id-7\" type=\"checkbox\" ><label for=\"sk-estimator-id-7\" class=\"sk-toggleable__label sk-toggleable__label-arrow\">StandardScaler</label><div class=\"sk-toggleable__content\"><pre>StandardScaler()</pre></div></div></div></div></div></div><div class=\"sk-parallel-item\"><div class=\"sk-item\"><div class=\"sk-label-container\"><div class=\"sk-label sk-toggleable\"><input class=\"sk-toggleable__control sk-hidden--visually\" id=\"sk-estimator-id-8\" type=\"checkbox\" ><label for=\"sk-estimator-id-8\" class=\"sk-toggleable__label sk-toggleable__label-arrow\">onehotencoder</label><div class=\"sk-toggleable__content\"><pre>[&#x27;gender&#x27;, &#x27;class&#x27;]</pre></div></div></div><div class=\"sk-serial\"><div class=\"sk-item\"><div class=\"sk-estimator sk-toggleable\"><input class=\"sk-toggleable__control sk-hidden--visually\" id=\"sk-estimator-id-9\" type=\"checkbox\" ><label for=\"sk-estimator-id-9\" class=\"sk-toggleable__label sk-toggleable__label-arrow\">OneHotEncoder</label><div class=\"sk-toggleable__content\"><pre>OneHotEncoder(handle_unknown=&#x27;ignore&#x27;)</pre></div></div></div></div></div></div></div></div><div class=\"sk-item\"><div class=\"sk-estimator sk-toggleable\"><input class=\"sk-toggleable__control sk-hidden--visually\" id=\"sk-estimator-id-10\" type=\"checkbox\" ><label for=\"sk-estimator-id-10\" class=\"sk-toggleable__label sk-toggleable__label-arrow\">KNeighborsClassifier</label><div class=\"sk-toggleable__content\"><pre>KNeighborsClassifier(n_neighbors=10)</pre></div></div></div></div></div></div></div>"
            ],
            "text/plain": [
              "Pipeline(steps=[('columntransformer',\n",
              "                 ColumnTransformer(transformers=[('standardscaler',\n",
              "                                                  StandardScaler(), ['age']),\n",
              "                                                 ('onehotencoder',\n",
              "                                                  OneHotEncoder(handle_unknown='ignore'),\n",
              "                                                  ['gender', 'class'])])),\n",
              "                ('kneighborsclassifier', KNeighborsClassifier(n_neighbors=10))])"
            ]
          },
          "execution_count": 25,
          "metadata": {},
          "output_type": "execute_result"
        }
      ],
      "source": [
        "# YOUR CODE HERE. ADD CELLS AS NEEDED\n",
        "from sklearn.preprocessing import OneHotEncoder\n",
        "from sklearn.compose import make_column_transformer\n",
        "\n",
        "X_train = df_titanic[[\"age\", \"gender\", \"class\"]]\n",
        "y_train = df_titanic[\"survived\"]\n",
        "\n",
        "preprocessor = make_column_transformer(\n",
        "    (StandardScaler(), [\"age\"]),\n",
        "    (OneHotEncoder(handle_unknown=\"ignore\"), \n",
        "     ['gender', 'class'])\n",
        ")\n",
        "\n",
        "knn_model = make_pipeline(\n",
        "    preprocessor,\n",
        "    KNeighborsClassifier(n_neighbors=10)\n",
        ")\n",
        "\n",
        "knn_model.fit(X_train, y_train)"
      ]
    },
    {
      "cell_type": "markdown",
      "metadata": {
        "id": "SsvSN1FxLAse"
      },
      "source": [
        "2\\. Use your model to predict whether a 20-year old female in first-class would survive. What about a 20-year old female in third-class? What are the predicted probabilities for each?"
      ]
    },
    {
      "cell_type": "code",
      "execution_count": 33,
      "metadata": {
        "id": "3fD06vdBQUqJ"
      },
      "outputs": [
        {
          "data": {
            "text/plain": [
              "(array([1]), array([[0., 1.]]))"
            ]
          },
          "execution_count": 33,
          "metadata": {},
          "output_type": "execute_result"
        }
      ],
      "source": [
        "# YOUR CODE HERE. ADD CELLS AS NEEDED\n",
        "\n",
        "X_new = pd.DataFrame({'age': [20], 'gender': ['female'], 'class': ['1st']})\n",
        "\n",
        "knn_model.predict(X_new), knn_model.predict_proba(X_new)"
      ]
    },
    {
      "cell_type": "code",
      "execution_count": 34,
      "metadata": {},
      "outputs": [
        {
          "data": {
            "text/plain": [
              "(array([0]), array([[0.8, 0.2]]))"
            ]
          },
          "execution_count": 34,
          "metadata": {},
          "output_type": "execute_result"
        }
      ],
      "source": [
        "X_new = pd.DataFrame({'age': [20], 'gender': ['female'], 'class': ['3rd']})\n",
        "\n",
        "knn_model.predict(X_new), knn_model.predict_proba(X_new)"
      ]
    },
    {
      "cell_type": "markdown",
      "metadata": {
        "id": "PRAAEnm9NoNo"
      },
      "source": [
        "3\\. Calculate and interpret the training precision, recall, and F1 score for predicting survivors."
      ]
    },
    {
      "cell_type": "code",
      "execution_count": 36,
      "metadata": {
        "id": "C_0G-CkQQVYR"
      },
      "outputs": [
        {
          "data": {
            "text/plain": [
              "(0.8497757847533632, 0.5330520393811533, 0.6551426101987899)"
            ]
          },
          "execution_count": 36,
          "metadata": {},
          "output_type": "execute_result"
        }
      ],
      "source": [
        "# YOUR CODE HERE. ADD CELLS AS NEEDED\n",
        "\n",
        "# precision, recall, and f1 score for survivors (1)\n",
        "\n",
        "y_train_ = pd.Series(knn_model.predict(X_train), name=\"Predicted\")\n",
        "\n",
        "prec = precision_score(y_train == 1, y_train_ == 1)\n",
        "\n",
        "rec = recall_score(y_train == 1, y_train_ == 1)\n",
        "\n",
        "f1 = f1_score(y_train == 1, y_train_ == 1)\n",
        "\n",
        "prec, rec, f1"
      ]
    },
    {
      "cell_type": "markdown",
      "metadata": {
        "id": "e5M8LWvnNy0H"
      },
      "source": [
        "4\\. Calculate and interpret the training precision, recall, and F1 score for predicting non-survivors."
      ]
    },
    {
      "cell_type": "code",
      "execution_count": 37,
      "metadata": {
        "id": "U7vRR3QdQWMV"
      },
      "outputs": [
        {
          "data": {
            "text/plain": [
              "(0.8112563956793633, 0.9551539491298527, 0.8773439901629265)"
            ]
          },
          "execution_count": 37,
          "metadata": {},
          "output_type": "execute_result"
        }
      ],
      "source": [
        "# YOUR CODE HERE. ADD CELLS AS NEEDED\n",
        "\n",
        "prec = precision_score(y_train == 0, y_train_ == 0)\n",
        "\n",
        "rec = recall_score(y_train == 0, y_train_ == 0)\n",
        "\n",
        "f1 = f1_score(y_train == 0, y_train_ == 0)\n",
        "\n",
        "prec, rec, f1"
      ]
    },
    {
      "cell_type": "markdown",
      "metadata": {
        "id": "cvZVt4I-5F5W"
      },
      "source": [
        "5\\. Since there are only two classes (survived or not) the model predicts survival if the predicted probability of survival is $0.5$ or higher. Change the threshold from 0.5 to 0.8 and compute the precision and recall for survivors and the non-survivors. How do the values compare to those with the threshold of 0.5?"
      ]
    },
    {
      "cell_type": "code",
      "execution_count": 39,
      "metadata": {
        "id": "LvORkVX6QW7F"
      },
      "outputs": [
        {
          "data": {
            "text/plain": [
              "array([[1. , 0. ],\n",
              "       [0.8, 0.2],\n",
              "       [1. , 0. ],\n",
              "       ...,\n",
              "       [0.7, 0.3],\n",
              "       [1. , 0. ],\n",
              "       [0.9, 0.1]])"
            ]
          },
          "execution_count": 39,
          "metadata": {},
          "output_type": "execute_result"
        }
      ],
      "source": [
        "# YOUR CODE HERE. ADD CELLS AS NEEDED\n",
        "\n",
        "probas_ = knn_model.predict_proba(X_train)\n",
        "probas_"
      ]
    },
    {
      "cell_type": "code",
      "execution_count": 43,
      "metadata": {},
      "outputs": [
        {
          "data": {
            "text/plain": [
              "(0.9190031152647975, 0.4149085794655415, 0.5717054263565892)"
            ]
          },
          "execution_count": 43,
          "metadata": {},
          "output_type": "execute_result"
        }
      ],
      "source": [
        "y_train_ = (probas_[:, 1] >= 0.8)\n",
        "\n",
        "(precision_score(y_train == 1, y_train_ == 1),\n",
        " recall_score(y_train == 1, y_train_ == 1),\n",
        " f1_score(y_train == 1, y_train_ == 1))\n"
      ]
    },
    {
      "cell_type": "code",
      "execution_count": 44,
      "metadata": {},
      "outputs": [
        {
          "data": {
            "text/plain": [
              "(0.7791932059447984, 0.9825970548862115, 0.8691533451746597)"
            ]
          },
          "execution_count": 44,
          "metadata": {},
          "output_type": "execute_result"
        }
      ],
      "source": [
        "(precision_score(y_train == 0, y_train_ == 0),\n",
        " recall_score(y_train == 0, y_train_ == 0),\n",
        " f1_score(y_train == 0, y_train_ == 0))"
      ]
    },
    {
      "cell_type": "markdown",
      "metadata": {
        "id": "o6SQN3JoNItn"
      },
      "source": [
        "6\\. Plot the precision-recall curve for the survivors. Interpret what you see."
      ]
    },
    {
      "cell_type": "code",
      "execution_count": 52,
      "metadata": {
        "id": "Mm4Q6xTaQXn1"
      },
      "outputs": [
        {
          "data": {
            "image/png": "[encoded data removed]",
            "text/plain": [
              "<Figure size 640x480 with 1 Axes>"
            ]
          },
          "metadata": {},
          "output_type": "display_data"
        }
      ],
      "source": [
        "# YOUR CODE HERE. ADD CELLS AS NEEDED\n",
        "\n",
        "from sklearn.metrics import precision_recall_curve\n",
        "\n",
        "precisions, recalls, thresholds = precision_recall_curve(\n",
        "    y_train == 1, probas_[:, 1]\n",
        ")\n",
        "\n",
        "pd.DataFrame({\n",
        "    \"precision\": precisions,\n",
        "    \"recall\": recalls\n",
        "}).plot.line(x=\"recall\", y=\"precision\", title=\"Class = Malignant (1)\");\n"
      ]
    },
    {
      "cell_type": "markdown",
      "metadata": {
        "id": "4uDP45-wN6jl"
      },
      "source": [
        "7\\. Plot the precision-recall curve for non-survivors. Interpret what you see."
      ]
    },
    {
      "cell_type": "code",
      "execution_count": 53,
      "metadata": {
        "id": "EUk18_TvQYp_"
      },
      "outputs": [
        {
          "data": {
            "image/png": "[encoded data removed]",
            "text/plain": [
              "<Figure size 640x480 with 1 Axes>"
            ]
          },
          "metadata": {},
          "output_type": "display_data"
        }
      ],
      "source": [
        "# YOUR CODE HERE. ADD CELLS AS NEEDED\n",
        "\n",
        "precisions, recalls, thresholds = precision_recall_curve(\n",
        "    y_train == 0, probas_[:, 0]\n",
        ")\n",
        "\n",
        "pd.DataFrame({\n",
        "    \"precision\": precisions,\n",
        "    \"recall\": recalls\n",
        "}).plot.line(x=\"recall\", y=\"precision\", title=\"Class = Benign (0)\");\n"
      ]
    }
  ],
  "metadata": {
    "colab": {
      "provenance": []
    },
    "kernelspec": {
      "display_name": "Python 3",
      "language": "python",
      "name": "python3"
    },
    "language_info": {
      "codemirror_mode": {
        "name": "ipython",
        "version": 3
      },
      "file_extension": ".py",
      "mimetype": "text/x-python",
      "name": "python",
      "nbconvert_exporter": "python",
      "pygments_lexer": "ipython3",
      "version": "3.9.6"
    }
  },
  "nbformat": 4,
  "nbformat_minor": 0
}
