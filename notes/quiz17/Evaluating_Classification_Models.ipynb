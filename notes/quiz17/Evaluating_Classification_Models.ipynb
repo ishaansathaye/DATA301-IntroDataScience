{
  "cells": [
    {
      "cell_type": "markdown",
      "metadata": {
        "id": "tqf3kKm0NIrW"
      },
      "source": [
        "# Evaluating Classification Models\n",
        "\n",
        "There is an old joke that \"economists have predicted 9 of the last 5 recessions.\" In some sense, this is a commentary on the difficulty of evaluating predictive models. Even if economists predicted all 5 recessions that did happen, they should be penalized for predicting an additional 4 recessions that did not happen. In this section, we will develop the vocabulary to critique predictive models, such as the one mentioned in the joke.\n",
        "\n",
        "We'll continue using the breast cancer data from the previous notebook."
      ]
    },
    {
      "cell_type": "code",
      "execution_count": 1,
      "metadata": {
        "id": "11X82pIJNIre"
      },
      "outputs": [
        {
          "data": {
            "text/html": [
              "<div>\n",
              "<style scoped>\n",
              "    .dataframe tbody tr th:only-of-type {\n",
              "        vertical-align: middle;\n",
              "    }\n",
              "\n",
              "    .dataframe tbody tr th {\n",
              "        vertical-align: top;\n",
              "    }\n",
              "\n",
              "    .dataframe thead th {\n",
              "        text-align: right;\n",
              "    }\n",
              "</style>\n",
              "<table border=\"1\" class=\"dataframe\">\n",
              "  <thead>\n",
              "    <tr style=\"text-align: right;\">\n",
              "      <th></th>\n",
              "      <th>ID</th>\n",
              "      <th>Clump Thickness</th>\n",
              "      <th>Uniformity of Cell Size</th>\n",
              "      <th>Uniformity of Cell Shape</th>\n",
              "      <th>Marginal Adhesion</th>\n",
              "      <th>Single Epithelial Cell Size</th>\n",
              "      <th>Bare Nuclei</th>\n",
              "      <th>Bland Chromatin</th>\n",
              "      <th>Normal Nucleoli</th>\n",
              "      <th>Mitoses</th>\n",
              "      <th>Class</th>\n",
              "    </tr>\n",
              "  </thead>\n",
              "  <tbody>\n",
              "    <tr>\n",
              "      <th>0</th>\n",
              "      <td>1000025</td>\n",
              "      <td>5</td>\n",
              "      <td>1</td>\n",
              "      <td>1</td>\n",
              "      <td>1</td>\n",
              "      <td>2</td>\n",
              "      <td>1</td>\n",
              "      <td>3</td>\n",
              "      <td>1</td>\n",
              "      <td>1</td>\n",
              "      <td>0</td>\n",
              "    </tr>\n",
              "    <tr>\n",
              "      <th>1</th>\n",
              "      <td>1002945</td>\n",
              "      <td>5</td>\n",
              "      <td>4</td>\n",
              "      <td>4</td>\n",
              "      <td>5</td>\n",
              "      <td>7</td>\n",
              "      <td>10</td>\n",
              "      <td>3</td>\n",
              "      <td>2</td>\n",
              "      <td>1</td>\n",
              "      <td>0</td>\n",
              "    </tr>\n",
              "    <tr>\n",
              "      <th>2</th>\n",
              "      <td>1015425</td>\n",
              "      <td>3</td>\n",
              "      <td>1</td>\n",
              "      <td>1</td>\n",
              "      <td>1</td>\n",
              "      <td>2</td>\n",
              "      <td>2</td>\n",
              "      <td>3</td>\n",
              "      <td>1</td>\n",
              "      <td>1</td>\n",
              "      <td>0</td>\n",
              "    </tr>\n",
              "    <tr>\n",
              "      <th>3</th>\n",
              "      <td>1016277</td>\n",
              "      <td>6</td>\n",
              "      <td>8</td>\n",
              "      <td>8</td>\n",
              "      <td>1</td>\n",
              "      <td>3</td>\n",
              "      <td>4</td>\n",
              "      <td>3</td>\n",
              "      <td>7</td>\n",
              "      <td>1</td>\n",
              "      <td>0</td>\n",
              "    </tr>\n",
              "    <tr>\n",
              "      <th>4</th>\n",
              "      <td>1017023</td>\n",
              "      <td>4</td>\n",
              "      <td>1</td>\n",
              "      <td>1</td>\n",
              "      <td>3</td>\n",
              "      <td>2</td>\n",
              "      <td>1</td>\n",
              "      <td>3</td>\n",
              "      <td>1</td>\n",
              "      <td>1</td>\n",
              "      <td>0</td>\n",
              "    </tr>\n",
              "  </tbody>\n",
              "</table>\n",
              "</div>"
            ],
            "text/plain": [
              "        ID  Clump Thickness  Uniformity of Cell Size   \n",
              "0  1000025                5                        1  \\\n",
              "1  1002945                5                        4   \n",
              "2  1015425                3                        1   \n",
              "3  1016277                6                        8   \n",
              "4  1017023                4                        1   \n",
              "\n",
              "   Uniformity of Cell Shape  Marginal Adhesion  Single Epithelial Cell Size   \n",
              "0                         1                  1                            2  \\\n",
              "1                         4                  5                            7   \n",
              "2                         1                  1                            2   \n",
              "3                         8                  1                            3   \n",
              "4                         1                  3                            2   \n",
              "\n",
              "   Bare Nuclei  Bland Chromatin  Normal Nucleoli  Mitoses  Class  \n",
              "0            1                3                1        1      0  \n",
              "1           10                3                2        1      0  \n",
              "2            2                3                1        1      0  \n",
              "3            4                3                7        1      0  \n",
              "4            1                3                1        1      0  "
            ]
          },
          "execution_count": 1,
          "metadata": {},
          "output_type": "execute_result"
        }
      ],
      "source": [
        "import pandas as pd\n",
        "\n",
        "df_breast = pd.read_csv(\"http://dlsun.github.io/pods/data/breast-cancer.csv\")\n",
        "df_breast.head()"
      ]
    },
    {
      "cell_type": "markdown",
      "metadata": {
        "id": "Ylpmz96_NIrl"
      },
      "source": [
        "How do we measure how good a classification model is? Perhaps the most obvious metric is _accuracy_, which simply measures how often the predicted label matches the actual label. (Remember that the label in a classification model is a _categorical variable_.) Let's train a $10$-nearest neighbors model on the breast cancer data, just so that we have a model to evaluate."
      ]
    },
    {
      "cell_type": "code",
      "execution_count": 2,
      "metadata": {
        "id": "HaLknNNwNIr0"
      },
      "outputs": [
        {
          "data": {
            "text/html": [
              "<style>#sk-container-id-1 {color: black;}#sk-container-id-1 pre{padding: 0;}#sk-container-id-1 div.sk-toggleable {background-color: white;}#sk-container-id-1 label.sk-toggleable__label {cursor: pointer;display: block;width: 100%;margin-bottom: 0;padding: 0.3em;box-sizing: border-box;text-align: center;}#sk-container-id-1 label.sk-toggleable__label-arrow:before {content: \"▸\";float: left;margin-right: 0.25em;color: #696969;}#sk-container-id-1 label.sk-toggleable__label-arrow:hover:before {color: black;}#sk-container-id-1 div.sk-estimator:hover label.sk-toggleable__label-arrow:before {color: black;}#sk-container-id-1 div.sk-toggleable__content {max-height: 0;max-width: 0;overflow: hidden;text-align: left;background-color: #f0f8ff;}#sk-container-id-1 div.sk-toggleable__content pre {margin: 0.2em;color: black;border-radius: 0.25em;background-color: #f0f8ff;}#sk-container-id-1 input.sk-toggleable__control:checked~div.sk-toggleable__content {max-height: 200px;max-width: 100%;overflow: auto;}#sk-container-id-1 input.sk-toggleable__control:checked~label.sk-toggleable__label-arrow:before {content: \"▾\";}#sk-container-id-1 div.sk-estimator input.sk-toggleable__control:checked~label.sk-toggleable__label {background-color: #d4ebff;}#sk-container-id-1 div.sk-label input.sk-toggleable__control:checked~label.sk-toggleable__label {background-color: #d4ebff;}#sk-container-id-1 input.sk-hidden--visually {border: 0;clip: rect(1px 1px 1px 1px);clip: rect(1px, 1px, 1px, 1px);height: 1px;margin: -1px;overflow: hidden;padding: 0;position: absolute;width: 1px;}#sk-container-id-1 div.sk-estimator {font-family: monospace;background-color: #f0f8ff;border: 1px dotted black;border-radius: 0.25em;box-sizing: border-box;margin-bottom: 0.5em;}#sk-container-id-1 div.sk-estimator:hover {background-color: #d4ebff;}#sk-container-id-1 div.sk-parallel-item::after {content: \"\";width: 100%;border-bottom: 1px solid gray;flex-grow: 1;}#sk-container-id-1 div.sk-label:hover label.sk-toggleable__label {background-color: #d4ebff;}#sk-container-id-1 div.sk-serial::before {content: \"\";position: absolute;border-left: 1px solid gray;box-sizing: border-box;top: 0;bottom: 0;left: 50%;z-index: 0;}#sk-container-id-1 div.sk-serial {display: flex;flex-direction: column;align-items: center;background-color: white;padding-right: 0.2em;padding-left: 0.2em;position: relative;}#sk-container-id-1 div.sk-item {position: relative;z-index: 1;}#sk-container-id-1 div.sk-parallel {display: flex;align-items: stretch;justify-content: center;background-color: white;position: relative;}#sk-container-id-1 div.sk-item::before, #sk-container-id-1 div.sk-parallel-item::before {content: \"\";position: absolute;border-left: 1px solid gray;box-sizing: border-box;top: 0;bottom: 0;left: 50%;z-index: -1;}#sk-container-id-1 div.sk-parallel-item {display: flex;flex-direction: column;z-index: 1;position: relative;background-color: white;}#sk-container-id-1 div.sk-parallel-item:first-child::after {align-self: flex-end;width: 50%;}#sk-container-id-1 div.sk-parallel-item:last-child::after {align-self: flex-start;width: 50%;}#sk-container-id-1 div.sk-parallel-item:only-child::after {width: 0;}#sk-container-id-1 div.sk-dashed-wrapped {border: 1px dashed gray;margin: 0 0.4em 0.5em 0.4em;box-sizing: border-box;padding-bottom: 0.4em;background-color: white;}#sk-container-id-1 div.sk-label label {font-family: monospace;font-weight: bold;display: inline-block;line-height: 1.2em;}#sk-container-id-1 div.sk-label-container {text-align: center;}#sk-container-id-1 div.sk-container {/* jupyter's `normalize.less` sets `[hidden] { display: none; }` but bootstrap.min.css set `[hidden] { display: none !important; }` so we also need the `!important` here to be able to override the default hidden behavior on the sphinx rendered scikit-learn.org. See: https://github.com/scikit-learn/scikit-learn/issues/21755 */display: inline-block !important;position: relative;}#sk-container-id-1 div.sk-text-repr-fallback {display: none;}</style><div id=\"sk-container-id-1\" class=\"sk-top-container\"><div class=\"sk-text-repr-fallback\"><pre>Pipeline(steps=[(&#x27;standardscaler&#x27;, StandardScaler()),\n",
              "                (&#x27;kneighborsclassifier&#x27;, KNeighborsClassifier(n_neighbors=10))])</pre><b>In a Jupyter environment, please rerun this cell to show the HTML representation or trust the notebook. <br />On GitHub, the HTML representation is unable to render, please try loading this page with nbviewer.org.</b></div><div class=\"sk-container\" hidden><div class=\"sk-item sk-dashed-wrapped\"><div class=\"sk-label-container\"><div class=\"sk-label sk-toggleable\"><input class=\"sk-toggleable__control sk-hidden--visually\" id=\"sk-estimator-id-1\" type=\"checkbox\" ><label for=\"sk-estimator-id-1\" class=\"sk-toggleable__label sk-toggleable__label-arrow\">Pipeline</label><div class=\"sk-toggleable__content\"><pre>Pipeline(steps=[(&#x27;standardscaler&#x27;, StandardScaler()),\n",
              "                (&#x27;kneighborsclassifier&#x27;, KNeighborsClassifier(n_neighbors=10))])</pre></div></div></div><div class=\"sk-serial\"><div class=\"sk-item\"><div class=\"sk-estimator sk-toggleable\"><input class=\"sk-toggleable__control sk-hidden--visually\" id=\"sk-estimator-id-2\" type=\"checkbox\" ><label for=\"sk-estimator-id-2\" class=\"sk-toggleable__label sk-toggleable__label-arrow\">StandardScaler</label><div class=\"sk-toggleable__content\"><pre>StandardScaler()</pre></div></div></div><div class=\"sk-item\"><div class=\"sk-estimator sk-toggleable\"><input class=\"sk-toggleable__control sk-hidden--visually\" id=\"sk-estimator-id-3\" type=\"checkbox\" ><label for=\"sk-estimator-id-3\" class=\"sk-toggleable__label sk-toggleable__label-arrow\">KNeighborsClassifier</label><div class=\"sk-toggleable__content\"><pre>KNeighborsClassifier(n_neighbors=10)</pre></div></div></div></div></div></div></div>"
            ],
            "text/plain": [
              "Pipeline(steps=[('standardscaler', StandardScaler()),\n",
              "                ('kneighborsclassifier', KNeighborsClassifier(n_neighbors=10))])"
            ]
          },
          "execution_count": 2,
          "metadata": {},
          "output_type": "execute_result"
        }
      ],
      "source": [
        "from sklearn.preprocessing import StandardScaler\n",
        "from sklearn.neighbors import KNeighborsClassifier\n",
        "from sklearn.pipeline import make_pipeline\n",
        "\n",
        "X_train = df_breast[[\"Clump Thickness\", \"Uniformity of Cell Size\"]]\n",
        "y_train = df_breast[\"Class\"]\n",
        "\n",
        "# define a pipeline\n",
        "pipeline = make_pipeline(\n",
        "    StandardScaler(),\n",
        "    KNeighborsClassifier(n_neighbors=10)\n",
        ")\n",
        "\n",
        "pipeline.fit(X=X_train, y=y_train)"
      ]
    },
    {
      "cell_type": "markdown",
      "metadata": {
        "id": "zodIJIw3NIsC"
      },
      "source": [
        "Now, we calculate the model's predictions on the training data, and compare to the actual labels in the training data."
      ]
    },
    {
      "cell_type": "code",
      "execution_count": 3,
      "metadata": {
        "id": "_vZc6TU4j3GQ"
      },
      "outputs": [
        {
          "data": {
            "text/html": [
              "<div>\n",
              "<style scoped>\n",
              "    .dataframe tbody tr th:only-of-type {\n",
              "        vertical-align: middle;\n",
              "    }\n",
              "\n",
              "    .dataframe tbody tr th {\n",
              "        vertical-align: top;\n",
              "    }\n",
              "\n",
              "    .dataframe thead th {\n",
              "        text-align: right;\n",
              "    }\n",
              "</style>\n",
              "<table border=\"1\" class=\"dataframe\">\n",
              "  <thead>\n",
              "    <tr style=\"text-align: right;\">\n",
              "      <th>Predicted</th>\n",
              "      <th>0</th>\n",
              "      <th>1</th>\n",
              "      <th>All</th>\n",
              "    </tr>\n",
              "    <tr>\n",
              "      <th>Class</th>\n",
              "      <th></th>\n",
              "      <th></th>\n",
              "      <th></th>\n",
              "    </tr>\n",
              "  </thead>\n",
              "  <tbody>\n",
              "    <tr>\n",
              "      <th>0</th>\n",
              "      <td>426</td>\n",
              "      <td>18</td>\n",
              "      <td>444</td>\n",
              "    </tr>\n",
              "    <tr>\n",
              "      <th>1</th>\n",
              "      <td>14</td>\n",
              "      <td>225</td>\n",
              "      <td>239</td>\n",
              "    </tr>\n",
              "    <tr>\n",
              "      <th>All</th>\n",
              "      <td>440</td>\n",
              "      <td>243</td>\n",
              "      <td>683</td>\n",
              "    </tr>\n",
              "  </tbody>\n",
              "</table>\n",
              "</div>"
            ],
            "text/plain": [
              "Predicted    0    1  All\n",
              "Class                   \n",
              "0          426   18  444\n",
              "1           14  225  239\n",
              "All        440  243  683"
            ]
          },
          "execution_count": 3,
          "metadata": {},
          "output_type": "execute_result"
        }
      ],
      "source": [
        "y_train_ = pd.Series(pipeline.predict(X_train), name = \"Predicted\")\n",
        "\n",
        "pd.crosstab(y_train, y_train_, margins=True)"
      ]
    },
    {
      "cell_type": "markdown",
      "metadata": {
        "id": "4_ZTTnCkx0lC"
      },
      "source": [
        "The two-way table above is a called a **confusion matrix**, which can also be computed using scikit-learn."
      ]
    },
    {
      "cell_type": "code",
      "execution_count": 4,
      "metadata": {
        "id": "4rZDbCNaxmNl"
      },
      "outputs": [
        {
          "data": {
            "text/plain": [
              "array([[426,  18],\n",
              "       [ 14, 225]])"
            ]
          },
          "execution_count": 4,
          "metadata": {},
          "output_type": "execute_result"
        }
      ],
      "source": [
        "from sklearn.metrics import confusion_matrix\n",
        "\n",
        "confusion_matrix(y_train, y_train_)\n"
      ]
    },
    {
      "cell_type": "markdown",
      "metadata": {
        "id": "SY15bIg6kKdi"
      },
      "source": [
        "The predictions were correct for 426 + 225 = 651 observations out of 683 total, for an accuracy of 651/683 = 0.953, or 95.3%."
      ]
    },
    {
      "cell_type": "markdown",
      "metadata": {
        "id": "U7PeSTY5NIsP"
      },
      "source": [
        "There is also a scikit-learn function that calculates the accuracy."
      ]
    },
    {
      "cell_type": "code",
      "execution_count": 5,
      "metadata": {
        "id": "ML0tnAGQNIsR"
      },
      "outputs": [
        {
          "data": {
            "text/plain": [
              "0.9531478770131772"
            ]
          },
          "execution_count": 5,
          "metadata": {},
          "output_type": "execute_result"
        }
      ],
      "source": [
        "from sklearn.metrics import accuracy_score\n",
        "\n",
        "accuracy_score(y_train, y_train_)"
      ]
    },
    {
      "cell_type": "markdown",
      "metadata": {
        "id": "UPZN71CZNIsa"
      },
      "source": [
        "The accuracy is 95.3%, which sounds impressive. Is it? Consider the hypothetical example represented by the table below. The accuracy here is also 95%. But would you say this is a great model? Also, given this hypothetical training data, can you think of a simple model that achieves even better than 95% accuracy?\n",
        "\n",
        "|       | Predicted |    0 |   1 |   All |\n",
        "|-------|----------:|-----:|----:|------:|\n",
        "| Class |           |      |     |       |\n",
        "| 0     |           | 9400 | 300 |  9700 |\n",
        "| 1     |           |  200 | 100 |   300 |\n",
        "| All   |           | 9600 | 400 | 10000 |\n",
        "\n",
        "This model does a very poor job at identifying malignant samples:\n",
        "\n",
        "- out of the 300 malignant samples in the training data, the model only correctly predicted 33% as malignant\n",
        "- out of the 400 samples predicted to be malignant, only 25% actually were.\n",
        "\n",
        "Also, in this case, a model which predicts every sample is benign would have 97% training accuracy, but would never correctly predicted malignant samples."
      ]
    },
    {
      "cell_type": "markdown",
      "metadata": {
        "id": "puIVPm2_levK"
      },
      "source": [
        "Going back to the real data and model, the accuracy of 95.3% would be less impressive if 95.3% of all samples in the data were benign, since the same accuracy could be achieved by a simple model that predicts that every sample is benign.\n",
        "\n",
        "The problem with a model that predicts that every sample is benign is that, although the model might be accurate overall, it is very inaccurate for malignant samples. We want a model that is not just accurate overall, but accurate for both benign and malignant samples. There is some ambiguity in how to define \"accuracy for malignant samples\". As a result, there are two metrics: _precision_ and _recall_."
      ]
    },
    {
      "cell_type": "markdown",
      "metadata": {
        "id": "2EqUCAOqNIsc"
      },
      "source": [
        "## Precision and Recall"
      ]
    },
    {
      "cell_type": "markdown",
      "metadata": {
        "id": "ib6PvyM8NIsf"
      },
      "source": [
        "Suppose we want to calculate the \"accuracy\" of our model for class $c$. There are two ways to interpret \"accuracy for class $c$\". Do we want to know the accuracy among the observations our model _predicted to be_ in class $c$ or the accuracy among the observations that _actually were_ in class $c$? The two options lead to two different notions of \"accuracy\" for class $c$: precision and recall.\n",
        "\n",
        "The **precision** (a.k.a. positive predictive value) of a model for class $c$ is the proportion of observations predicted to be in class $c$ that actually were in class $c$.\n",
        "\n",
        "$$ \\textrm{precision for class } c = \\frac{\\text{number of observations in class $c$ that were predicted to be in $c$}}{\\text{number of observations predicted to be in class $c$}}. $$\n",
        "\n",
        "The **recall** (a.k.a. sensitivity) of a model for class $c$ is the proportion of observations actually in class $c$ that were predicted to be in class $c$.\n",
        "\n",
        "$$ \\textrm{recall for class } c = \\frac{\\text{number of observations in class $c$ that were predicted to be in $c$}}{\\text{number of observations in class $c$}}. $$\n",
        "\n",
        "Another way to think about precision and recall is in terms of true positives (TP) and false positives (FP). A \"positive\" is an observation that the model identified as belonging to class $c$ (i.e., $\\hat y = c$). A true positive is one that actually was in class $c$ (i.e., $\\hat y = c$ and $y = c$), while a false positive is one that was not (i.e., $\\hat y = c$ and $y \\neq c$). True negatives (TN) and false negatives (FN) are defined analogously.\n",
        "\n",
        "In the language of positives and negatives, the precision is the proportion of positives that are true positives:\n",
        "$$ \\textrm{precision for class } c = \\frac{TP}{TP + FP}, $$\n",
        "The recall is the proportion of observations in class $c$ that are positives (as opposed to negatives):\n",
        "$$ \\textrm{recall for class } c = \\frac{TP}{TP + FN}. $$\n",
        "\n",
        "The figure below may help you to remember which numbers go in the numerator and denominator. The precision is the proportion of the circle that TP makes up, while the recall is the proportion of the red rectangle that TP makes up.\n",
        "\n",
        "![](https://github.com/dlsun/pods/blob/master/06-Classification-Models/precision_recall.png?raw=1)"
      ]
    },
    {
      "cell_type": "markdown",
      "metadata": {
        "id": "94xNYpftNIsg"
      },
      "source": [
        "Let's calculate the precision and recall of our $10$-nearest neighbors model for benign masses (**Class** = 0). Be sure to carefully note the difference between `y_train` and `y_train_` in the code below."
      ]
    },
    {
      "cell_type": "code",
      "execution_count": 6,
      "metadata": {
        "id": "5VzNqrUJNIsj"
      },
      "outputs": [
        {
          "data": {
            "text/plain": [
              "(0.9681818181818181, 0.9594594594594594)"
            ]
          },
          "execution_count": 6,
          "metadata": {},
          "output_type": "execute_result"
        }
      ],
      "source": [
        "true_positives = ((y_train_ == 0) & (y_train == 0)).sum()\n",
        "\n",
        "precision = true_positives / (y_train_ == 0).sum()\n",
        "\n",
        "recall = true_positives / (y_train == 0).sum()\n",
        "\n",
        "precision, recall"
      ]
    },
    {
      "cell_type": "markdown",
      "metadata": {
        "id": "iCzNC0dpNIsq"
      },
      "source": [
        "You can also have scikit-learn calculate the precision and recall. These functions work similarly to `accuracy_score` above, except we have to explicitly specify the class for which we want the precision and recall. For example, to calculate the precision and recall for benign (0) masses:"
      ]
    },
    {
      "cell_type": "code",
      "execution_count": 7,
      "metadata": {
        "id": "Np6dlSEsNIsr"
      },
      "outputs": [
        {
          "data": {
            "text/plain": [
              "(0.9681818181818181, 0.9594594594594594)"
            ]
          },
          "execution_count": 7,
          "metadata": {},
          "output_type": "execute_result"
        }
      ],
      "source": [
        "from sklearn.metrics import precision_score, recall_score\n",
        "\n",
        "(precision_score(y_train == 0, y_train_ == 0),\n",
        " recall_score(y_train == 0, y_train_ == 0))"
      ]
    },
    {
      "cell_type": "markdown",
      "metadata": {
        "id": "DcOOSN1ANIsy"
      },
      "source": [
        "It is important to specify the class explicitly when calculating the precision and recall. Each class has a different precision and recall. For example, the precision and recall for malignant masses is lower."
      ]
    },
    {
      "cell_type": "code",
      "execution_count": 8,
      "metadata": {
        "id": "EzxcFHa4rR_K"
      },
      "outputs": [
        {
          "data": {
            "text/plain": [
              "(0.9259259259259259, 0.9414225941422594)"
            ]
          },
          "execution_count": 8,
          "metadata": {},
          "output_type": "execute_result"
        }
      ],
      "source": [
        "true_positives_1 = ((y_train_ == 1) & (y_train == 1)).sum()\n",
        "\n",
        "precision_1 = true_positives_1 / (y_train_ == 1).sum()\n",
        "recall_1 = true_positives_1 / (y_train == 1).sum()\n",
        "\n",
        "precision_1, recall_1"
      ]
    },
    {
      "cell_type": "code",
      "execution_count": 9,
      "metadata": {
        "id": "xMwm6UvzNIsz"
      },
      "outputs": [
        {
          "data": {
            "text/plain": [
              "(0.9259259259259259, 0.9414225941422594)"
            ]
          },
          "execution_count": 9,
          "metadata": {},
          "output_type": "execute_result"
        }
      ],
      "source": [
        "(precision_score(y_train == 1, y_train_ == 1),\n",
        " recall_score(y_train == 1, y_train_ == 1))"
      ]
    },
    {
      "cell_type": "markdown",
      "metadata": {
        "id": "piBOupQ6NIs8"
      },
      "source": [
        "## Precision-Recall Curves"
      ]
    },
    {
      "cell_type": "markdown",
      "metadata": {
        "id": "c_NG-ZOlNIs_"
      },
      "source": [
        "In general, there is a tradeoff between precision and recall. For example, you can improve recall by casting a wider net, predicting more observations to be in class $c$, but this will hurt precision in general. To take an extreme example, a model that predicts that _every_ observation is in class $c$ necessarily has 100% recall, but its precision will likely be poor. To visualize this phenomenon, suppose we expand the positives from the dashed circle to the solid circle, as shown in the figure on the right below. This increases recall (because the circle now covers more of the red rectangle) but decreases precision (because the red rectangle now makes up a smaller fraction of the circle).\n",
        "\n",
        "![](https://github.com/dlsun/pods/blob/master/06-Classification-Models/precision_recall_tradeoff.png?raw=1)\n",
        "*Moving from the dashed circle to the solid circle yields...*\n",
        "\n",
        "Likewise, we can improve precision by predicting fewer observations to be in class $c$ (i.e., only the ones you are very confident about), but this will hurt recall. This is illustrated in the figure above, at left."
      ]
    },
    {
      "cell_type": "markdown",
      "metadata": {
        "id": "DYgHK_JHNItA"
      },
      "source": [
        "How do we cast a wider (or narrower) net? In many classification models, the predicted label is obtained by first obtaining the predicted probabilities and then choosing the class with the highest probability.\n",
        "\n",
        "In the case of the breast cancer data set, there are only two classes, so we predict that a breast mass is malignant if the predicted probability of malignancy is $0.5$ or higher. (We predict it is benign otherwise). Instead of using $0.5$ as the threshold, we could cast a wider net for malignancy by lowering the threshold to $0.4$, predicting a breast mass to be malignant as long as the predicted probability is $0.4$ or higher."
      ]
    },
    {
      "cell_type": "code",
      "execution_count": 10,
      "metadata": {
        "id": "7wh16AkFNItC"
      },
      "outputs": [
        {
          "data": {
            "text/plain": [
              "array([[1. , 0. ],\n",
              "       [0.4, 0.6],\n",
              "       [1. , 0. ],\n",
              "       ...,\n",
              "       [0. , 1. ],\n",
              "       [0. , 1. ],\n",
              "       [0. , 1. ]])"
            ]
          },
          "execution_count": 10,
          "metadata": {},
          "output_type": "execute_result"
        }
      ],
      "source": [
        "probas_ = pipeline.predict_proba(X_train)\n",
        "probas_"
      ]
    },
    {
      "cell_type": "code",
      "execution_count": 11,
      "metadata": {
        "id": "uObOFLpPNItG"
      },
      "outputs": [
        {
          "data": {
            "text/plain": [
              "(0.8888888888888888, 0.9707112970711297)"
            ]
          },
          "execution_count": 11,
          "metadata": {},
          "output_type": "execute_result"
        }
      ],
      "source": [
        "y_train_ = (probas_[:, 1] >= 0.4)\n",
        "\n",
        "(precision_score(y_train == 1, y_train_ == 1),\n",
        " recall_score(y_train == 1, y_train_ == 1))"
      ]
    },
    {
      "cell_type": "markdown",
      "metadata": {
        "id": "dClWFj6ONItK"
      },
      "source": [
        "We see that recall for malignancy increases from 94.1% to 95.8% when we cast this wider net, at the expense of precision, which drops from 92.6% to 90.5%."
      ]
    },
    {
      "cell_type": "markdown",
      "metadata": {
        "id": "dBI2LCckNItQ"
      },
      "source": [
        "It is often instructive to calculate the precision and recall for all possible thresholds and then graph the values as a _precision-recall curve_. Scikit-learn provides a function to calculate the precision and recall for different thresholds."
      ]
    },
    {
      "cell_type": "code",
      "execution_count": 12,
      "metadata": {
        "id": "sYu4uzMzy8XR"
      },
      "outputs": [
        {
          "data": {
            "image/png": "[encoded data removed]",
            "text/plain": [
              "<Figure size 640x480 with 1 Axes>"
            ]
          },
          "metadata": {},
          "output_type": "display_data"
        }
      ],
      "source": [
        "from sklearn.metrics import precision_recall_curve\n",
        "\n",
        "precisions, recalls, thresholds = precision_recall_curve(\n",
        "    y_train == 1, probas_[:, 1]\n",
        ")\n",
        "\n",
        "pd.DataFrame({\n",
        "    \"precision\": precisions,\n",
        "    \"recall\": recalls\n",
        "}).plot.line(x=\"recall\", y=\"precision\", title=\"Class = Malignant (1)\");"
      ]
    },
    {
      "cell_type": "markdown",
      "metadata": {
        "id": "cn9eIIuTNItW"
      },
      "source": [
        "This curve makes the tradeoff between precision and recall explicit. As we lower the threshold, the recall for malignant masses increases from 0% to 100%, while the precision decreases from 100% to about 35%.\n",
        "\n",
        "We can also plot the precision-recall curve for benign (0) masses."
      ]
    },
    {
      "cell_type": "code",
      "execution_count": 13,
      "metadata": {
        "id": "aVU9o7MDzdf3"
      },
      "outputs": [
        {
          "data": {
            "image/png": "[encoded data removed]",
            "text/plain": [
              "<Figure size 640x480 with 1 Axes>"
            ]
          },
          "metadata": {},
          "output_type": "display_data"
        }
      ],
      "source": [
        "precisions, recalls, thresholds = precision_recall_curve(\n",
        "    y_train == 0, probas_[:, 0]\n",
        ")\n",
        "\n",
        "pd.DataFrame({\n",
        "    \"precision\": precisions,\n",
        "    \"recall\": recalls\n",
        "}).plot.line(x=\"recall\", y=\"precision\", title=\"Class = Benign (0)\");"
      ]
    },
    {
      "cell_type": "markdown",
      "metadata": {
        "id": "b6AovsC4NItY"
      },
      "source": [
        "## F1 Score: Combining Precision and Recall\n",
        "\n",
        "We have replaced accuracy by two numbers: precision and recall. We can combine the precision and recall into a single number, called the **F1 score**.\n",
        "\n",
        "The F1 score is defined to be the **harmonic mean** of the precision and the recall. That is,\n",
        "\n",
        "$$ \\frac{1}{\\text{F1 score}} = \\frac{ \\frac{1}{\\text{precision}} + \\frac{1}{\\text{recall}}}{2}, $$\n",
        "\n",
        "or equivalently,\n",
        "\n",
        "$$ \\text{F1 score} = \\frac{2 \\cdot \\text{precision} \\cdot \\text{recall}}{\\text{precision} + \\text{recall}}. $$\n",
        "\n",
        "The harmonic mean of two numbers is always between the two numbers, but in general will be closer to the smaller number. For example, if precision is $90\\%$ and recall is $10\\%$, then the harmonic mean is\n",
        "\n",
        "$$ \\text{F1 score} = \\frac{2 \\cdot 0.9 \\cdot 0.1}{0.9 + 0.1} = 18\\%. $$\n",
        "\n",
        "This is a desirable property of F1 scores because we want to encourage models to have both high precision _and_ high recall. It is not sufficient for one of these to be high if the other is very low. In other words, we do not want a high precision to compensate for a low recall, or vice versa. (This is why we don't just simply take the average of precision and recall.)\n",
        "\n",
        "The F1 score for benign masses is:"
      ]
    },
    {
      "cell_type": "code",
      "execution_count": 14,
      "metadata": {
        "id": "Eezl_zxVNIta"
      },
      "outputs": [
        {
          "data": {
            "text/plain": [
              "0.9638009049773756"
            ]
          },
          "execution_count": 14,
          "metadata": {},
          "output_type": "execute_result"
        }
      ],
      "source": [
        "2 * precision * recall / (precision + recall)"
      ]
    },
    {
      "cell_type": "markdown",
      "metadata": {
        "id": "4PafbrlKNItg"
      },
      "source": [
        "We could have also asked Scikit-Learn calculate this for us. If we know the actual and predicted labels, we can use the `f1_score` function, which works similarly to `precision_score` and `recall_score` from above:"
      ]
    },
    {
      "cell_type": "code",
      "execution_count": 15,
      "metadata": {
        "id": "CKVwXTo-NIti"
      },
      "outputs": [
        {
          "data": {
            "text/plain": [
              "0.9638009049773756"
            ]
          },
          "execution_count": 15,
          "metadata": {},
          "output_type": "execute_result"
        }
      ],
      "source": [
        "from sklearn.metrics import f1_score\n",
        "\n",
        "# changing the predicted values back to what they were before we changed the threshold\n",
        "y_train_ = pd.Series(pipeline.predict(X_train), name = \"Predicted\")\n",
        "\n",
        "f1_score(y_train == 0, y_train_ == 0)"
      ]
    },
    {
      "cell_type": "markdown",
      "metadata": {
        "id": "tyZunoxnuKjq"
      },
      "source": [
        "Likewise, we can compute the F1 score for malignant masses."
      ]
    },
    {
      "cell_type": "code",
      "execution_count": 16,
      "metadata": {
        "id": "YIrNbtQWuAr9"
      },
      "outputs": [
        {
          "data": {
            "text/plain": [
              "0.9336099585062242"
            ]
          },
          "execution_count": 16,
          "metadata": {},
          "output_type": "execute_result"
        }
      ],
      "source": [
        "2 * precision_1 * recall_1 / (precision_1 + recall_1)"
      ]
    },
    {
      "cell_type": "code",
      "execution_count": 17,
      "metadata": {
        "id": "1FdZ-o7IuAut"
      },
      "outputs": [
        {
          "data": {
            "text/plain": [
              "0.9336099585062242"
            ]
          },
          "execution_count": 17,
          "metadata": {},
          "output_type": "execute_result"
        }
      ],
      "source": [
        "f1_score(y_train == 1, y_train_ == 1)"
      ]
    },
    {
      "cell_type": "markdown",
      "metadata": {
        "id": "lLQQzHksuUiG"
      },
      "source": [
        "Accuracy, precision, recall, and F1 score are measures for evaluating classification models. So far we have focused on computing these measures for the *training* data. But just as with regression, we really want to evaluate models based on their *test* scores. We will see how to so this in the next notebook. But consider what we have already seen for regression; what will be different for classification?"
      ]
    }
  ],
  "metadata": {
    "colab": {
      "provenance": []
    },
    "kernelspec": {
      "display_name": "Python 3",
      "language": "python",
      "name": "python3"
    },
    "language_info": {
      "codemirror_mode": {
        "name": "ipython",
        "version": 3
      },
      "file_extension": ".py",
      "mimetype": "text/x-python",
      "name": "python",
      "nbconvert_exporter": "python",
      "pygments_lexer": "ipython3",
      "version": "3.9.6"
    }
  },
  "nbformat": 4,
  "nbformat_minor": 0
}
