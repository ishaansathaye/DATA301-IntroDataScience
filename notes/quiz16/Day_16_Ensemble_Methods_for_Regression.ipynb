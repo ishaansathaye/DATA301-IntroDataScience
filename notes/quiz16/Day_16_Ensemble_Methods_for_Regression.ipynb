{
  "nbformat": 4,
  "nbformat_minor": 0,
  "metadata": {
    "colab": {
      "provenance": []
    },
    "kernelspec": {
      "name": "python3",
      "display_name": "Python 3"
    },
    "language_info": {
      "name": "python"
    }
  },
  "cells": [
    {
      "cell_type": "markdown",
      "source": [
        "# Ensemble Methods for Regression\n",
        "\n",
        "**In these exercises, use scikit-learn whenever possible!**"
      ],
      "metadata": {
        "id": "Yespd3LPi4po"
      }
    },
    {
      "cell_type": "code",
      "source": [
        "import pandas as pd\n",
        "\n",
        "import numpy as np"
      ],
      "metadata": {
        "id": "Kvzl0-Q9kwsE"
      },
      "execution_count": null,
      "outputs": []
    },
    {
      "cell_type": "markdown",
      "source": [
        "## Ames Housing Data"
      ],
      "metadata": {
        "id": "THJiRpHJk616"
      }
    },
    {
      "cell_type": "markdown",
      "source": [
        "\n",
        "In the Day 15 notebook, you tried to find a single model for predicting SalePrice that resulted in your lowest test RMSE; the model is determined by its features, method (linear or kNN), value of $k$ if applicable, etc.\n",
        "\n",
        "Now you'll work with a partner to create an ensemble model.\n",
        "\n",
        "Note: If you and your partner worked together to come up with the same model from Day 15, you'll need to find a partner with a different model!"
      ],
      "metadata": {
        "id": "ozVaJBS8lJMP"
      }
    },
    {
      "cell_type": "code",
      "source": [
        "df_ames = pd.read_csv(\"https://raw.githubusercontent.com/kevindavisross/data301/main/data/AmesHousing.txt\", sep=\"\\t\")\n",
        "df_ames"
      ],
      "metadata": {
        "id": "nqhve6ynk8UJ"
      },
      "execution_count": null,
      "outputs": []
    },
    {
      "cell_type": "markdown",
      "source": [
        "1\\.  Work with your partner to create an ensemble model from your two models using **voting**.\n",
        "\n",
        "Use cross-validation to see if the ensemble model is better\n",
        "than your individual models.\n",
        "\n"
      ],
      "metadata": {
        "id": "N2a_4_5Gi4sg"
      }
    },
    {
      "cell_type": "code",
      "source": [
        "# YOUR CODE HERE. ADD CELLS AS NEEDED"
      ],
      "metadata": {
        "id": "eaTS9Vg-knz0"
      },
      "execution_count": null,
      "outputs": []
    },
    {
      "cell_type": "markdown",
      "source": [
        "2\\. Work with your partner to create an ensemble model from your two models using **stacking**.\n",
        "\n",
        "Use cross-validation to see if the ensemble model is better\n",
        "than your individual models.\n"
      ],
      "metadata": {
        "id": "rZ317t0ElBOu"
      }
    },
    {
      "cell_type": "code",
      "source": [
        "# YOUR CODE HERE. ADD CELLS AS NEEDED"
      ],
      "metadata": {
        "id": "VOFip_LDlbFw"
      },
      "execution_count": null,
      "outputs": []
    },
    {
      "cell_type": "markdown",
      "source": [
        "3\\. In Discord, describe your model that resulted in your lowest MSE: features, method (linear or kNN), value of $k$ if applicable, ensemble method etc. What was the test RMSE?"
      ],
      "metadata": {
        "id": "MH_EIkF-lb08"
      }
    },
    {
      "cell_type": "markdown",
      "source": [
        "**YOUR RESPONSE HERE.**"
      ],
      "metadata": {
        "id": "EzpZE1bLmPCj"
      }
    },
    {
      "cell_type": "markdown",
      "source": [
        "## Restaurant Tips Data\n",
        "\n",
        "The file `tips.csv` is an older data set containing information about dining parties at a restaurant, including the amount of the tips paid to the waiter. Our goal is to create a model for predicting the amount of the tip."
      ],
      "metadata": {
        "id": "Ld7ozw0di4vH"
      }
    },
    {
      "cell_type": "code",
      "source": [
        "df_tips = pd.read_csv(\"https://raw.githubusercontent.com/kevindavisross/data301/main/data/tips.csv\")\n",
        "\n",
        "df_tips"
      ],
      "metadata": {
        "id": "KqQBjEVEmVgO"
      },
      "execution_count": null,
      "outputs": []
    },
    {
      "cell_type": "markdown",
      "source": [
        "1\\. Use the data to determine a model for predicting the amount of the tip. In Discord, describe your model: features, method (linear or kNN), value of $k$ if applicable, ensemble method etc. What was the test RMSE?\n",
        "\n",
        "Note: this will be a good review exercise; can you implement all the relevant steps?"
      ],
      "metadata": {
        "id": "I5gVhhiEqR_s"
      }
    },
    {
      "cell_type": "code",
      "source": [
        "# YOUR CODE HERE. ADD CELLS AS NEEDED"
      ],
      "metadata": {
        "id": "w6TctHH9q2hp"
      },
      "execution_count": null,
      "outputs": []
    },
    {
      "cell_type": "markdown",
      "source": [
        "2\\. What is a rough benchmark for RMSE in this context? Is your model's RMSE a substantial improvement over this benchmark?\n"
      ],
      "metadata": {
        "id": "LQT5TWqqqdDn"
      }
    },
    {
      "cell_type": "code",
      "source": [
        "# YOUR CODE HERE. ADD CELLS AS NEEDED"
      ],
      "metadata": {
        "id": "yZ2E3uwWq3aP"
      },
      "execution_count": null,
      "outputs": []
    }
  ]
}