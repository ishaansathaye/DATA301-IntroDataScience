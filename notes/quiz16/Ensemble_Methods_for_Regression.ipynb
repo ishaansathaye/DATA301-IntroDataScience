{
  "cells": [
    {
      "cell_type": "markdown",
      "metadata": {
        "id": "6yh8LgLQKCOG"
      },
      "source": [
        "# Ensemble Methods for Regression\n",
        "\n",
        "We have see how to choose between competing machine learning models. However, we don't have to choose! It is usually better to combine predictions from several models than to use the prediction from the single best model. This notebook investigates methods for combining predictions from different regression models. Methods for combining predictions from different machine learning models are called _ensemble methods_.\n",
        "\n",
        "We'll continue using the Ames housing data, using features **Gr Liv Area**, **Bedroom AbvGr**, and **Full Bath** to predict **SalePrice**."
      ]
    },
    {
      "cell_type": "code",
      "execution_count": 1,
      "metadata": {
        "id": "x1mMoOQaX7B8"
      },
      "outputs": [],
      "source": [
        "import pandas as pd\n",
        "\n",
        "import numpy as np"
      ]
    },
    {
      "cell_type": "code",
      "execution_count": 2,
      "metadata": {
        "id": "AAxWAo9tKCON"
      },
      "outputs": [],
      "source": [
        "df_housing = pd.read_csv(\"http://dlsun.github.io/pods/data/AmesHousing.txt\", sep=\"\\t\")\n",
        "\n",
        "X_train = df_housing[[\"Gr Liv Area\", \"Bedroom AbvGr\", \"Full Bath\"]]\n",
        "y_train = df_housing[\"SalePrice\"]"
      ]
    },
    {
      "cell_type": "markdown",
      "metadata": {
        "id": "jPahklsxKCOQ"
      },
      "source": [
        "First, we fit two models to predict house price: a linear regression model and a $10$-nearest neighbors model. Then we use each of the models to predict the price of a a 1500 sqft, 2BR/2BA house."
      ]
    },
    {
      "cell_type": "code",
      "execution_count": 3,
      "metadata": {
        "id": "MJ-pfIzuKCOR"
      },
      "outputs": [
        {
          "name": "stderr",
          "output_type": "stream",
          "text": [
            "/Users/ishaansathaye/Library/Python/3.9/lib/python/site-packages/sklearn/base.py:465: UserWarning: X does not have valid feature names, but LinearRegression was fitted with feature names\n",
            "  warnings.warn(\n",
            "/Users/ishaansathaye/Library/Python/3.9/lib/python/site-packages/sklearn/base.py:465: UserWarning: X does not have valid feature names, but StandardScaler was fitted with feature names\n",
            "  warnings.warn(\n"
          ]
        },
        {
          "data": {
            "text/plain": [
              "(array([217919.89318936]), array([229259.]))"
            ]
          },
          "execution_count": 3,
          "metadata": {},
          "output_type": "execute_result"
        }
      ],
      "source": [
        "from sklearn.linear_model import LinearRegression\n",
        "from sklearn.neighbors import KNeighborsRegressor\n",
        "from sklearn.preprocessing import StandardScaler\n",
        "from sklearn.pipeline import make_pipeline\n",
        "\n",
        "# Train linear regression model\n",
        "linear_model = LinearRegression()\n",
        "linear_model.fit(X=X_train, y=y_train)\n",
        "\n",
        "# Train 10-nearest neighbors model\n",
        "knn_model = make_pipeline(\n",
        "    StandardScaler(),\n",
        "    KNeighborsRegressor(n_neighbors=10)\n",
        ")\n",
        "knn_model.fit(X=X_train, y=y_train)\n",
        "\n",
        "# Predict for a 1500 sqft, 2BR/2BA house\n",
        "new_house = [[1500, 2, 2]]\n",
        "linear_model.predict(new_house), knn_model.predict(new_house)"
      ]
    },
    {
      "cell_type": "markdown",
      "metadata": {
        "id": "9BgCAzeYKCOS"
      },
      "source": [
        "The $k$-nearest neighbors model predicts a larger price than the linear regression model. How should we reconcile these two different predictions?"
      ]
    },
    {
      "cell_type": "markdown",
      "metadata": {
        "id": "OVYjAOfxKCOT"
      },
      "source": [
        "## Voting\n",
        "\n",
        "The simplest ensemble method is _voting_. To apply voting to regression models, we simply average the predictions from the different models. So the predicted quality of a 1500 sqft, 2BR/2BA house is:"
      ]
    },
    {
      "cell_type": "code",
      "execution_count": 4,
      "metadata": {
        "id": "YvLandEnKCOU"
      },
      "outputs": [
        {
          "name": "stderr",
          "output_type": "stream",
          "text": [
            "/Users/ishaansathaye/Library/Python/3.9/lib/python/site-packages/sklearn/base.py:465: UserWarning: X does not have valid feature names, but LinearRegression was fitted with feature names\n",
            "  warnings.warn(\n",
            "/Users/ishaansathaye/Library/Python/3.9/lib/python/site-packages/sklearn/base.py:465: UserWarning: X does not have valid feature names, but StandardScaler was fitted with feature names\n",
            "  warnings.warn(\n"
          ]
        },
        {
          "data": {
            "text/plain": [
              "223589.44659468165"
            ]
          },
          "execution_count": 4,
          "metadata": {},
          "output_type": "execute_result"
        }
      ],
      "source": [
        "import numpy as np\n",
        "np.mean([\n",
        "    linear_model.predict(new_house),\n",
        "    knn_model.predict(new_house)\n",
        "])"
      ]
    },
    {
      "cell_type": "markdown",
      "metadata": {
        "id": "W8p4GCzKKCOW"
      },
      "source": [
        "We can also specify the voting ensemble in scikit-learn, using `VotingRegressor`."
      ]
    },
    {
      "cell_type": "code",
      "execution_count": 5,
      "metadata": {
        "id": "Zf-LLpyHKCOX"
      },
      "outputs": [
        {
          "name": "stderr",
          "output_type": "stream",
          "text": [
            "/Users/ishaansathaye/Library/Python/3.9/lib/python/site-packages/sklearn/base.py:465: UserWarning: X does not have valid feature names, but LinearRegression was fitted with feature names\n",
            "  warnings.warn(\n",
            "/Users/ishaansathaye/Library/Python/3.9/lib/python/site-packages/sklearn/base.py:465: UserWarning: X does not have valid feature names, but StandardScaler was fitted with feature names\n",
            "  warnings.warn(\n"
          ]
        },
        {
          "data": {
            "text/plain": [
              "array([223589.44659468])"
            ]
          },
          "execution_count": 5,
          "metadata": {},
          "output_type": "execute_result"
        }
      ],
      "source": [
        "from sklearn.ensemble import VotingRegressor\n",
        "\n",
        "ensemble_model = VotingRegressor([\n",
        "    (\"linear\", linear_model),\n",
        "    (\"knn\", knn_model)\n",
        "])\n",
        "ensemble_model.fit(X=X_train, y=y_train)\n",
        "ensemble_model.predict(new_house)"
      ]
    },
    {
      "cell_type": "markdown",
      "metadata": {
        "id": "ftnrhAg7KCOY"
      },
      "source": [
        "How good is this ensemble model? Is it better than each model individually? We let cross-validation decide, using 5-fold cross-validation."
      ]
    },
    {
      "cell_type": "code",
      "execution_count": 6,
      "metadata": {
        "id": "r8hsF9_UKCOZ"
      },
      "outputs": [
        {
          "name": "stdout",
          "output_type": "stream",
          "text": [
            "2694147782.5379286\n",
            "2439435755.1347885\n",
            "2406743430.23774\n"
          ]
        }
      ],
      "source": [
        "from sklearn.model_selection import cross_val_score\n",
        "\n",
        "for model in [linear_model, knn_model, ensemble_model]:\n",
        "    print(-cross_val_score(model, X=X_train, y=y_train, cv=5,\n",
        "                           scoring=\"neg_mean_squared_error\").mean())"
      ]
    },
    {
      "cell_type": "markdown",
      "metadata": {
        "id": "S8rHIiZ3KCOa"
      },
      "source": [
        "Remember that these errors are large because the metric is the mean *squared* error (MSE). To obtain a more interpretable metric, we can take the square root to obtain the RMSE. However, for the purposes of determining which model is best, we just need to know which value is smallest. The ensemble model has a lower MSE than either model individually, even though it simply averages the predictions from the two models. This example illustrates the power of ensembling."
      ]
    },
    {
      "cell_type": "markdown",
      "metadata": {
        "id": "USAwtQA1Tr7H"
      },
      "source": [
        "By default, `VotingRegressor` computes a simple average of the predictions. The `weights` parameter can be used to specify weights $c_1, \\ldots, c_M$ given to each of the $M$ models so that the predicted label is a weighted average of the $M$ predictions.\n",
        "\n",
        "$$ \\hat y = c_1 \\hat y_1 + \\ldots + c_M \\hat y_M $$"
      ]
    },
    {
      "cell_type": "code",
      "execution_count": 7,
      "metadata": {
        "id": "-wfLq9laTIgv"
      },
      "outputs": [
        {
          "name": "stderr",
          "output_type": "stream",
          "text": [
            "/Users/ishaansathaye/Library/Python/3.9/lib/python/site-packages/sklearn/base.py:465: UserWarning: X does not have valid feature names, but LinearRegression was fitted with feature names\n",
            "  warnings.warn(\n",
            "/Users/ishaansathaye/Library/Python/3.9/lib/python/site-packages/sklearn/base.py:465: UserWarning: X does not have valid feature names, but StandardScaler was fitted with feature names\n",
            "  warnings.warn(\n"
          ]
        },
        {
          "data": {
            "text/plain": [
              "array([224723.35727575])"
            ]
          },
          "execution_count": 7,
          "metadata": {},
          "output_type": "execute_result"
        }
      ],
      "source": [
        "# 40% weight to linear regression; 60% weight for KNN\n",
        "ensemble_model_weighted = VotingRegressor([\n",
        "    (\"linear\", linear_model),\n",
        "    (\"knn\", knn_model)],\n",
        "    weights = [0.4, 0.6]\n",
        ")\n",
        "ensemble_model_weighted.fit(X=X_train, y=y_train)\n",
        "ensemble_model_weighted.predict(new_house)"
      ]
    },
    {
      "cell_type": "markdown",
      "metadata": {
        "id": "Ci2vUCmIKCOa"
      },
      "source": [
        "## Stacking\n",
        "\n",
        "In voting, every model's prediction gets equal weight, or a predefined weight (which can be specified using the `weights=` parameter of `VotingRegressor`). Another approach, called _stacking_ , **learns** the weights $c_1, \\ldots, c_M$ given to each of the $M$ models so that the predicted label\n",
        "\n",
        "$$ \\hat y = c_1 \\hat y_1 + \\ldots + c_M \\hat y_M $$\n",
        "\n",
        "is as close to the true label as possible.\n",
        "\n",
        "We already know how to fit a model of this form. We fit linear regression to predict the same label $y$, but the features are now the *predictions* $\\hat y_1, \\ldots, \\hat y_M$ from the individual models.\n",
        "\n",
        "For example, to learn the weights that should be given to the linear regression and 10-nearest neighbors models above, we first stack the predictions into an array with two columns: the first columns has the predictions from the linear regression model, the second from $k$-nearest neighbors model."
      ]
    },
    {
      "cell_type": "code",
      "execution_count": 8,
      "metadata": {
        "id": "UefrG3cVKCOb"
      },
      "outputs": [
        {
          "data": {
            "text/plain": [
              "array([[179976.84549368, 161120.        ],\n",
              "       [119672.36873575, 108065.        ],\n",
              "       [141137.57264119, 135475.        ],\n",
              "       ...,\n",
              "       [ 98497.51467775, 115065.        ],\n",
              "       [178228.21435129, 134590.        ],\n",
              "       [247342.99092085, 262469.        ]])"
            ]
          },
          "execution_count": 8,
          "metadata": {},
          "output_type": "execute_result"
        }
      ],
      "source": [
        "preds = np.stack([\n",
        "    linear_model.predict(X_train), knn_model.predict(X_train)\n",
        "], axis=1)\n",
        "preds"
      ]
    },
    {
      "cell_type": "markdown",
      "metadata": {
        "id": "5E2C5wUxKCOb"
      },
      "source": [
        "Now, we train a linear regression model on these predictions."
      ]
    },
    {
      "cell_type": "code",
      "execution_count": 9,
      "metadata": {
        "id": "LgbA0RcgKCOb"
      },
      "outputs": [
        {
          "data": {
            "text/html": [
              "<style>#sk-container-id-1 {color: black;}#sk-container-id-1 pre{padding: 0;}#sk-container-id-1 div.sk-toggleable {background-color: white;}#sk-container-id-1 label.sk-toggleable__label {cursor: pointer;display: block;width: 100%;margin-bottom: 0;padding: 0.3em;box-sizing: border-box;text-align: center;}#sk-container-id-1 label.sk-toggleable__label-arrow:before {content: \"▸\";float: left;margin-right: 0.25em;color: #696969;}#sk-container-id-1 label.sk-toggleable__label-arrow:hover:before {color: black;}#sk-container-id-1 div.sk-estimator:hover label.sk-toggleable__label-arrow:before {color: black;}#sk-container-id-1 div.sk-toggleable__content {max-height: 0;max-width: 0;overflow: hidden;text-align: left;background-color: #f0f8ff;}#sk-container-id-1 div.sk-toggleable__content pre {margin: 0.2em;color: black;border-radius: 0.25em;background-color: #f0f8ff;}#sk-container-id-1 input.sk-toggleable__control:checked~div.sk-toggleable__content {max-height: 200px;max-width: 100%;overflow: auto;}#sk-container-id-1 input.sk-toggleable__control:checked~label.sk-toggleable__label-arrow:before {content: \"▾\";}#sk-container-id-1 div.sk-estimator input.sk-toggleable__control:checked~label.sk-toggleable__label {background-color: #d4ebff;}#sk-container-id-1 div.sk-label input.sk-toggleable__control:checked~label.sk-toggleable__label {background-color: #d4ebff;}#sk-container-id-1 input.sk-hidden--visually {border: 0;clip: rect(1px 1px 1px 1px);clip: rect(1px, 1px, 1px, 1px);height: 1px;margin: -1px;overflow: hidden;padding: 0;position: absolute;width: 1px;}#sk-container-id-1 div.sk-estimator {font-family: monospace;background-color: #f0f8ff;border: 1px dotted black;border-radius: 0.25em;box-sizing: border-box;margin-bottom: 0.5em;}#sk-container-id-1 div.sk-estimator:hover {background-color: #d4ebff;}#sk-container-id-1 div.sk-parallel-item::after {content: \"\";width: 100%;border-bottom: 1px solid gray;flex-grow: 1;}#sk-container-id-1 div.sk-label:hover label.sk-toggleable__label {background-color: #d4ebff;}#sk-container-id-1 div.sk-serial::before {content: \"\";position: absolute;border-left: 1px solid gray;box-sizing: border-box;top: 0;bottom: 0;left: 50%;z-index: 0;}#sk-container-id-1 div.sk-serial {display: flex;flex-direction: column;align-items: center;background-color: white;padding-right: 0.2em;padding-left: 0.2em;position: relative;}#sk-container-id-1 div.sk-item {position: relative;z-index: 1;}#sk-container-id-1 div.sk-parallel {display: flex;align-items: stretch;justify-content: center;background-color: white;position: relative;}#sk-container-id-1 div.sk-item::before, #sk-container-id-1 div.sk-parallel-item::before {content: \"\";position: absolute;border-left: 1px solid gray;box-sizing: border-box;top: 0;bottom: 0;left: 50%;z-index: -1;}#sk-container-id-1 div.sk-parallel-item {display: flex;flex-direction: column;z-index: 1;position: relative;background-color: white;}#sk-container-id-1 div.sk-parallel-item:first-child::after {align-self: flex-end;width: 50%;}#sk-container-id-1 div.sk-parallel-item:last-child::after {align-self: flex-start;width: 50%;}#sk-container-id-1 div.sk-parallel-item:only-child::after {width: 0;}#sk-container-id-1 div.sk-dashed-wrapped {border: 1px dashed gray;margin: 0 0.4em 0.5em 0.4em;box-sizing: border-box;padding-bottom: 0.4em;background-color: white;}#sk-container-id-1 div.sk-label label {font-family: monospace;font-weight: bold;display: inline-block;line-height: 1.2em;}#sk-container-id-1 div.sk-label-container {text-align: center;}#sk-container-id-1 div.sk-container {/* jupyter's `normalize.less` sets `[hidden] { display: none; }` but bootstrap.min.css set `[hidden] { display: none !important; }` so we also need the `!important` here to be able to override the default hidden behavior on the sphinx rendered scikit-learn.org. See: https://github.com/scikit-learn/scikit-learn/issues/21755 */display: inline-block !important;position: relative;}#sk-container-id-1 div.sk-text-repr-fallback {display: none;}</style><div id=\"sk-container-id-1\" class=\"sk-top-container\"><div class=\"sk-text-repr-fallback\"><pre>LinearRegression()</pre><b>In a Jupyter environment, please rerun this cell to show the HTML representation or trust the notebook. <br />On GitHub, the HTML representation is unable to render, please try loading this page with nbviewer.org.</b></div><div class=\"sk-container\" hidden><div class=\"sk-item\"><div class=\"sk-estimator sk-toggleable\"><input class=\"sk-toggleable__control sk-hidden--visually\" id=\"sk-estimator-id-1\" type=\"checkbox\" checked><label for=\"sk-estimator-id-1\" class=\"sk-toggleable__label sk-toggleable__label-arrow\">LinearRegression</label><div class=\"sk-toggleable__content\"><pre>LinearRegression()</pre></div></div></div></div></div>"
            ],
            "text/plain": [
              "LinearRegression()"
            ]
          },
          "execution_count": 9,
          "metadata": {},
          "output_type": "execute_result"
        }
      ],
      "source": [
        "stacker = LinearRegression()\n",
        "stacker.fit(X=preds, y=y_train)"
      ]
    },
    {
      "cell_type": "markdown",
      "metadata": {
        "id": "X2vOsc2MKCOb"
      },
      "source": [
        "The description of stacking above, while conceptually correct, is not quite accurate. In practice, to prevent overfitting, each prediction in `preds` is calculated using a model that was trained on different data. In order to evaluate ensemble models, we need to cross-validate the entire process:\n",
        "\n",
        "1.  Fit each individual model to the training set.\n",
        "1.  Fit a final model on the predictions on the training set (for\n",
        "stacking).\n",
        "1.  Make predictions on the validation set.\n",
        "\n",
        "The full details are beyond the scope of this course. Fortunately, scikit-learn handles most of the details."
      ]
    },
    {
      "cell_type": "code",
      "execution_count": 11,
      "metadata": {
        "id": "vUIw7THjKCOc"
      },
      "outputs": [
        {
          "data": {
            "text/plain": [
              "(277.7042949357128, array([0.30067628, 0.69896079]))"
            ]
          },
          "execution_count": 11,
          "metadata": {},
          "output_type": "execute_result"
        }
      ],
      "source": [
        "from sklearn.ensemble import StackingRegressor\n",
        "\n",
        "stacking_model = StackingRegressor([\n",
        "    (\"linear\", linear_model),\n",
        "    (\"knn\", knn_model)],\n",
        "    final_estimator=LinearRegression()\n",
        ")\n",
        "stacking_model.fit(X=X_train, y=y_train)\n",
        "\n",
        "stacker = stacking_model.final_estimator_\n",
        "stacker.intercept_, stacker.coef_"
      ]
    },
    {
      "cell_type": "markdown",
      "metadata": {
        "id": "A-4xWhNFKCOc"
      },
      "source": [
        "In other words, the combined prediction is\n",
        "\n",
        "$$ \\widehat{\\text{SalePrice}} = 262.7 + 0.298 \\cdot (\\text{linear regression prediction}) + 0.702 \\cdot (\\text{$10$-nearest neighbors prediction}). $$\n",
        "\n",
        "Contrast this with voting, which gave equal weight (i.e., $0.50$) to the two predictions."
      ]
    },
    {
      "cell_type": "markdown",
      "metadata": {
        "id": "hK9iiKjMKCOc"
      },
      "source": [
        "How well does stacking do? Again, we use cross-validation to evaluate."
      ]
    },
    {
      "cell_type": "code",
      "execution_count": 12,
      "metadata": {
        "id": "h9j37nINKCOd"
      },
      "outputs": [
        {
          "data": {
            "text/plain": [
              "2390886907.924657"
            ]
          },
          "execution_count": 12,
          "metadata": {},
          "output_type": "execute_result"
        }
      ],
      "source": [
        "-cross_val_score(stacking_model, X=X_train, y=y_train, cv=5,\n",
        "                 scoring=\"neg_mean_squared_error\").mean()"
      ]
    },
    {
      "cell_type": "markdown",
      "metadata": {
        "id": "EIYHBMuaKCOd"
      },
      "source": [
        "This is the best model we've seen so far. The error is even lower than the voting ensembler."
      ]
    },
    {
      "cell_type": "markdown",
      "metadata": {
        "id": "tOUxnbInKCOd"
      },
      "source": [
        "## Some Intuition for Ensemble Methods\n",
        "\n",
        "Why do ensemble methods work so well? Let's consider a model with just one feature **Gr Liv Area** (sqft). The plot below displays the data, along with the regression functions from the linear regression model, the $k$-nearest neighbors model, and the ensemble model."
      ]
    },
    {
      "cell_type": "code",
      "execution_count": 13,
      "metadata": {
        "id": "oa7IwXMVKCOe"
      },
      "outputs": [
        {
          "data": {
            "image/png": "[encoded data removed]",
            "text/plain": [
              "<Figure size 640x480 with 1 Axes>"
            ]
          },
          "metadata": {},
          "output_type": "display_data"
        }
      ],
      "source": [
        "df_housing.plot.scatter(x=\"Gr Liv Area\", y=\"SalePrice\", color=\"gray\")\n",
        "\n",
        "X_train = df_housing[[\"Gr Liv Area\"]]\n",
        "y_train = df_housing[\"SalePrice\"]\n",
        "\n",
        "for model in [LinearRegression(),\n",
        "              KNeighborsRegressor(n_neighbors=10),\n",
        "              ensemble_model]:\n",
        "    model.fit(X=X_train, y=y_train)\n",
        "    X_test = pd.DataFrame({\"Gr Liv Area\": np.arange(6000)})\n",
        "    predictions = pd.Series(\n",
        "        model.predict(X_test),\n",
        "        index=X_test[\"Gr Liv Area\"]\n",
        "    )\n",
        "    predictions.plot.line(legend=True, label=type(model).__name__)"
      ]
    },
    {
      "cell_type": "markdown",
      "metadata": {
        "id": "U18eTm6ZKCOe"
      },
      "source": [
        "We see that the ensemble model combines the best features of $k$-nearest neighbors and linear regression.\n",
        "\n",
        "- Like $k$-nearest neighbors, it is able to model nonlinear relationships (such as the pattern near 3000 sqft).\n",
        "- Like linear regression, it is able to extrapolate near the boundaries of the data range. (Contrast this with $k$-nearest neighbors, which produces predictions that are constant near the boundaries.) (Also be careful: we're saying the linear regression extrapolates better near the boundary *within* the range of the data; we don't want to extrapolate far beyond the range of the data.)\n",
        "\n",
        "This is why the ensemble model is often superior to each model individually."
      ]
    },
    {
      "cell_type": "markdown",
      "metadata": {
        "id": "8INOiDPIgs7N"
      },
      "source": [
        "## Caution when judging the value of MSE\n",
        "\n",
        "Suppose you have a model for which the test error, measured as MSE, is close to 0. Is this necessarily a good model? Pause to think before proceeding.\n",
        "\n",
        "The answer is no, for two reasons. The first is that MSE depends on the (squared) measurement units of the target variable. More importantly, MSE must be judged relative to the variance of the target variable. Consider a model which just predicts the mean of the target variable for every observation, regardless of the values of the features. Then the MSE of this model would just be the variance of the target variable. So if the target has little variance, then just predicting the mean for every observation is pretty effective!\n",
        "\n",
        "Therefore, we can consider the variance of the target variable as a rough benchmark when evaluating MSE (or the standard deviation of the target variable as a rough benchmark for RMSE). If the test error of a particular model is not a substantial improvement over the variance of the target, then the model isn't much more effective than just predicting the mean for every observation."
      ]
    },
    {
      "cell_type": "code",
      "execution_count": 14,
      "metadata": {
        "id": "uSDRustqtlWq"
      },
      "outputs": [
        {
          "data": {
            "text/plain": [
              "6381883615.6884365"
            ]
          },
          "execution_count": 14,
          "metadata": {},
          "output_type": "execute_result"
        }
      ],
      "source": [
        "y_train.var()"
      ]
    },
    {
      "cell_type": "markdown",
      "metadata": {
        "id": "JK0BrJsPmdhd"
      },
      "source": [
        "We see that the ensemble models we have fit do provide a substantial reduction in MSE relative to the variance of the target.\n",
        "\n"
      ]
    },
    {
      "cell_type": "markdown",
      "metadata": {
        "id": "GfC-_8Yvl2KL"
      },
      "source": [
        "Technically, due to train versus test set considerations, the variance of the target for the training data isn't quite the benchmark. We can use `DummyRegressor` in scikit-learn to see what the test error would be for a model that just predicts the mean (of the training data) for every observation. Note that we would never actually use `DummyRegressor` as a practical model; it just gives a benchmark for comparison."
      ]
    },
    {
      "cell_type": "code",
      "execution_count": 15,
      "metadata": {
        "id": "gmJctdJpiOs-"
      },
      "outputs": [
        {
          "data": {
            "text/plain": [
              "6406895302.778119"
            ]
          },
          "execution_count": 15,
          "metadata": {},
          "output_type": "execute_result"
        }
      ],
      "source": [
        "from sklearn.dummy import DummyRegressor\n",
        "\n",
        "mean_model = DummyRegressor(strategy=\"mean\")\n",
        "\n",
        "-cross_val_score(mean_model, X=X_train, y=y_train, cv=5,\n",
        "                           scoring=\"neg_mean_squared_error\").mean()"
      ]
    }
  ],
  "metadata": {
    "colab": {
      "provenance": []
    },
    "kernelspec": {
      "display_name": "Python 3",
      "language": "python",
      "name": "python3"
    },
    "language_info": {
      "codemirror_mode": {
        "name": "ipython",
        "version": 3
      },
      "file_extension": ".py",
      "mimetype": "text/x-python",
      "name": "python",
      "nbconvert_exporter": "python",
      "pygments_lexer": "ipython3",
      "version": "3.9.6"
    }
  },
  "nbformat": 4,
  "nbformat_minor": 0
}
