{
  "nbformat": 4,
  "nbformat_minor": 0,
  "metadata": {
    "colab": {
      "provenance": []
    },
    "kernelspec": {
      "name": "python3",
      "display_name": "Python 3"
    },
    "language_info": {
      "name": "python"
    }
  },
  "cells": [
    {
      "cell_type": "markdown",
      "source": [
        "# Split-Apply-Combine and Summarizing Relationships between Categorical and Quantitative Variables"
      ],
      "metadata": {
        "id": "RyGvYWLTCiPP"
      }
    },
    {
      "cell_type": "markdown",
      "source": [
        "In this notebook you will redo some of the exercises you have already done. **For all of the exercises in this notebook you should use `groupby` whenever possible to streamline the code.**"
      ],
      "metadata": {
        "id": "4zvuG9TuN5_z"
      }
    },
    {
      "cell_type": "code",
      "source": [
        "import pandas as pd"
      ],
      "metadata": {
        "id": "8_TkTnARCjeO"
      },
      "execution_count": null,
      "outputs": []
    },
    {
      "cell_type": "markdown",
      "source": [
        "## Titanic\n",
        "\n",
        "Recall the Titanic data set where we witnessed a Simpson's paradox when comparing the survival rates of crew members and passengers."
      ],
      "metadata": {
        "id": "e6ptyeSWClwD"
      }
    },
    {
      "cell_type": "code",
      "source": [
        "df_titanic = pd.read_csv(\"https://raw.githubusercontent.com/kevindavisross/data301/main/data/titanic.csv\")\n",
        "\n",
        "def class_to_type(c):\n",
        "  if c in [\"1st\", \"2nd\", \"3rd\"]:\n",
        "    return \"passenger\"\n",
        "  else:\n",
        "    return \"crew\"\n",
        "\n",
        "df_titanic[\"type\"] = df_titanic[\"class\"].map(class_to_type)\n",
        "\n",
        "df_titanic"
      ],
      "metadata": {
        "id": "XheZL3me9kN5"
      },
      "execution_count": null,
      "outputs": []
    },
    {
      "cell_type": "markdown",
      "source": [
        "1\\. Compare the proportion of passengers who survived and the proportion of crew members who survived. Do this by creating a Series or DataFrame that contains this information. Hint: you should not have to divide at all."
      ],
      "metadata": {
        "id": "1yTnfIt8N4TJ"
      }
    },
    {
      "cell_type": "code",
      "source": [
        "# YOUR CODE HERE. ADD AS MANY CELLS AS YOU WANT"
      ],
      "metadata": {
        "id": "OhWKSq7h9jQC"
      },
      "execution_count": null,
      "outputs": []
    },
    {
      "cell_type": "markdown",
      "source": [
        "2\\. Compare the proportion of passengers who survived and the proportion of crew members who survived *among both females and males*. Do this by creating a Series or DataFrame that contains this information. Hint: you should not have to divide at all."
      ],
      "metadata": {
        "id": "JIEQDBoIOZTK"
      }
    },
    {
      "cell_type": "code",
      "source": [
        "# YOUR CODE HERE. ADD AS MANY CELLS AS YOU WANT"
      ],
      "metadata": {
        "id": "KLR4Yd4m9jvh"
      },
      "execution_count": null,
      "outputs": []
    },
    {
      "cell_type": "markdown",
      "source": [
        "## Ames Housing data"
      ],
      "metadata": {
        "id": "dYZ4wDP-DEA8"
      }
    },
    {
      "cell_type": "code",
      "source": [
        "df_ames = pd.read_csv(\"https://raw.githubusercontent.com/kevindavisross/data301/main/data/AmesHousing.txt\", sep=\"\\t\")\n",
        "df_ames"
      ],
      "metadata": {
        "id": "rWnVf8nHDHIg"
      },
      "execution_count": null,
      "outputs": []
    },
    {
      "cell_type": "markdown",
      "source": [
        "1\\. Create a data frame with one row for each neighbood and columns for the mean and SD of lot area for the neighborhood. Hint: use `agg`."
      ],
      "metadata": {
        "id": "cFknbnPmDGRn"
      }
    },
    {
      "cell_type": "code",
      "source": [
        "# YOUR CODE HERE. ADD AS MANY CELLS AS YOU WANT"
      ],
      "metadata": {
        "id": "Jk0DAJ79DcWr"
      },
      "execution_count": null,
      "outputs": []
    },
    {
      "cell_type": "markdown",
      "source": [
        "2\\. Create a scatterplot displaying the information from the previous exercise."
      ],
      "metadata": {
        "id": "F9aaSQ0ZDc3j"
      }
    },
    {
      "cell_type": "code",
      "source": [
        "# YOUR CODE HERE. ADD AS MANY CELLS AS YOU WANT"
      ],
      "metadata": {
        "id": "9zFR8J4wDrrf"
      },
      "execution_count": null,
      "outputs": []
    },
    {
      "cell_type": "markdown",
      "source": [
        "## COVID\n",
        "\n",
        "Recall that created a bar chart comparing the fatality rate between cases in Portugal and Colombia in each age group. Now you'll recreate this plot.\n",
        "\n",
        "The file `covid_PT_CO_2020-05-28.csv` is the result of the data cleaning steps that we have already done.\n",
        "\n",
        "- Colombia: added the fatality column and created the age groups\n",
        "- Combined both data files into one, adding a country column (we also only kept the columns we need for this exercise)"
      ],
      "metadata": {
        "id": "TAJFimHCCqbd"
      }
    },
    {
      "cell_type": "code",
      "source": [
        "df_covid = pd.read_csv(\"https://raw.githubusercontent.com/kevindavisross/data301/main/data/covid_PT_CO_2020-05-28.csv\")\n",
        "df_covid"
      ],
      "metadata": {
        "id": "3N9vHushLR4K"
      },
      "execution_count": null,
      "outputs": []
    },
    {
      "cell_type": "markdown",
      "source": [
        "1\\. Create a side-by-side bar chart with age on the horizontal axis, side-by-side bars at each age colored by country, with the heights of bars representing the proportion of cases that result in fatalities, at each age for each country. Hint: first create a Series or DataFrame that contains the information you want."
      ],
      "metadata": {
        "id": "LZrdHR77_H4R"
      }
    },
    {
      "cell_type": "code",
      "source": [
        "# YOUR CODE HERE. ADD AS MANY CELLS AS YOU WANT"
      ],
      "metadata": {
        "id": "w9lDDieE_q-L"
      },
      "execution_count": null,
      "outputs": []
    },
    {
      "cell_type": "markdown",
      "source": [
        "## Penguins\n",
        "\n",
        "The [\"Palmer penguins\"](https://allisonhorst.github.io/palmerpenguins/) data set (`penguins.csv`) contains data on a sample of penguins collected at Palmer Station in Antarctica."
      ],
      "metadata": {
        "id": "ZLwQmWXlALqG"
      }
    },
    {
      "cell_type": "code",
      "source": [
        "df_penguins = pd.read_csv(\"https://raw.githubusercontent.com/kevindavisross/data301/main/data/penguins.csv\")\n",
        "\n",
        "df_penguins"
      ],
      "metadata": {
        "id": "mON27gLEAN5Z"
      },
      "execution_count": null,
      "outputs": []
    },
    {
      "cell_type": "markdown",
      "source": [
        "1\\. Compute the correlation between bill length and bill depth for each species. Do this by creating a Series or DataFrame that contains the information."
      ],
      "metadata": {
        "id": "EmXwXhpQALtc"
      }
    },
    {
      "cell_type": "code",
      "source": [
        "# YOUR CODE HERE. ADD AS MANY CELLS AS YOU WANT"
      ],
      "metadata": {
        "id": "qHzyd-RJAd3b"
      },
      "execution_count": null,
      "outputs": []
    },
    {
      "cell_type": "markdown",
      "source": [
        "2\\. Create a scatterplot of bill length and bill depth with the points colored by species. (For now, do this manually like in the pre-class notebook reading. We'll see a better way next time.)"
      ],
      "metadata": {
        "id": "AO9KJDSDAzDR"
      }
    },
    {
      "cell_type": "code",
      "source": [
        "# YOUR CODE HERE. ADD AS MANY CELLS AS YOU WANT"
      ],
      "metadata": {
        "id": "Xis4oA7dAzPx"
      },
      "execution_count": null,
      "outputs": []
    },
    {
      "cell_type": "markdown",
      "source": [
        "3\\. Create a scatterplot of bill length and bill depth faceted by species. (For now, do this manually like in the pre-class notebook reading. We'll see a better way next time.)"
      ],
      "metadata": {
        "id": "IUJiq3B2BBwI"
      }
    },
    {
      "cell_type": "code",
      "source": [
        "# YOUR CODE HERE. ADD AS MANY CELLS AS YOU WANT"
      ],
      "metadata": {
        "id": "ud90cIVnBB9j"
      },
      "execution_count": null,
      "outputs": []
    },
    {
      "cell_type": "markdown",
      "source": [
        "## Restaurant Tips Data\n",
        "\n",
        "The file `tips.csv` is an older data set containing information about dining parties at a restaurant, including the amount of the tips paid to the waiter. Answer the questions below by first creating a Series or DataFrame that contains the relevant information."
      ],
      "metadata": {
        "id": "gWjsQzgvB4TS"
      }
    },
    {
      "cell_type": "code",
      "source": [
        "df_tips = pd.read_csv(\"https://raw.githubusercontent.com/kevindavisross/data301/main/data/tips.csv\")\n",
        "\n",
        "df_tips"
      ],
      "metadata": {
        "id": "s3Z8FSecB8-3"
      },
      "execution_count": null,
      "outputs": []
    },
    {
      "cell_type": "markdown",
      "metadata": {
        "id": "7OLcAC8zkMIq"
      },
      "source": [
        "1\\. On which day of the week does the waiter serve the largest parties, on average?"
      ]
    },
    {
      "cell_type": "code",
      "source": [
        "# YOUR CODE HERE. ADD AS MANY CELLS AS YOU WANT"
      ],
      "metadata": {
        "id": "smlPlIenD-6s"
      },
      "execution_count": null,
      "outputs": []
    },
    {
      "cell_type": "markdown",
      "metadata": {
        "id": "sQEOV8mmkMIr"
      },
      "source": [
        "2\\. Calculate the average bill by day and time. What day-time combination has the highest average bill?"
      ]
    },
    {
      "cell_type": "code",
      "source": [
        "# YOUR CODE HERE. ADD AS MANY CELLS AS YOU WANT"
      ],
      "metadata": {
        "id": "Araa-4gpD_pb"
      },
      "execution_count": null,
      "outputs": []
    },
    {
      "cell_type": "markdown",
      "metadata": {
        "id": "w29DkGDukMIr"
      },
      "source": [
        "3\\. Extract the average bill for Friday lunch from the result of Exercise 2."
      ]
    },
    {
      "cell_type": "code",
      "source": [
        "# YOUR CODE HERE. ADD AS MANY CELLS AS YOU WANT"
      ],
      "metadata": {
        "id": "4kwNtgFPEAbm"
      },
      "execution_count": null,
      "outputs": []
    },
    {
      "cell_type": "markdown",
      "metadata": {
        "id": "u8PO0e5_kMIs"
      },
      "source": [
        "4\\. Make a visualization comparing the distribution of tip percentages left by males and females. How do they compare?"
      ]
    },
    {
      "cell_type": "code",
      "source": [
        "# YOUR CODE HERE. ADD AS MANY CELLS AS YOU WANT"
      ],
      "metadata": {
        "id": "NG5LE-vHEBM7"
      },
      "execution_count": null,
      "outputs": []
    },
    {
      "cell_type": "markdown",
      "metadata": {
        "id": "X8bXtatKkMIs"
      },
      "source": [
        "5\\. Make a visualization that shows the average tip percentage as a function of table size."
      ]
    },
    {
      "cell_type": "code",
      "source": [
        "# YOUR CODE HERE. ADD AS MANY CELLS AS YOU WANT"
      ],
      "metadata": {
        "id": "N8KJQBLsEB7o"
      },
      "execution_count": null,
      "outputs": []
    },
    {
      "cell_type": "markdown",
      "source": [
        "## Earnings and Height Data\n",
        "\n",
        "We will use the \"Earnings and Height\" data from [this website](https://www.princeton.edu/~mwatson/Stock-Watson_3u/Students/Stock-Watson-EmpiricalExercises-DataSets.htm). Read the [Data Description](https://www.princeton.edu/~mwatson/Stock-Watson_3u/Students/EE_Datasets/Earnings_and_Height_Description.pdf).\n",
        "\n",
        "You can read in a CSV from here https://raw.githubusercontent.com/kevindavisross/data301/main/data/Earnings_and_Height.csv"
      ],
      "metadata": {
        "id": "MK6iSvpOCdnb"
      }
    },
    {
      "cell_type": "code",
      "source": [
        "df_workers = pd.read_csv(\"https://raw.githubusercontent.com/kevindavisross/data301/main/data/Earnings_and_Height.csv\")\n",
        "\n",
        "df_workers"
      ],
      "metadata": {
        "id": "0-ebcAV9CgEW"
      },
      "execution_count": null,
      "outputs": []
    },
    {
      "cell_type": "markdown",
      "source": [
        "1\\. Calculate the average earnings in each region. Which region has the highest average earnings?\n",
        "\n",
        "Hint: Check the data description for the definition of each region. Your final result should show the region name (not the numerical code)."
      ],
      "metadata": {
        "id": "bB_21Noix3xi"
      }
    },
    {
      "cell_type": "code",
      "source": [
        "# YOUR CODE HERE. ADD AS MANY CELLS AS YOU WANT"
      ],
      "metadata": {
        "id": "j7fI1-SwEDFM"
      },
      "execution_count": null,
      "outputs": []
    },
    {
      "cell_type": "markdown",
      "source": [
        "2\\. Create a plot comparing the distributions of education levels across the races/ethnicities in the data set. What do you notice?\n",
        "\n",
        "Hint: transform the numerical codes for race/ethnicity to the descriptive name."
      ],
      "metadata": {
        "id": "TQtx0ScPy3ED"
      }
    },
    {
      "cell_type": "code",
      "source": [
        "# YOUR CODE HERE. ADD AS MANY CELLS AS YOU WANT"
      ],
      "metadata": {
        "id": "p40ayNjXEEYM"
      },
      "execution_count": null,
      "outputs": []
    },
    {
      "cell_type": "markdown",
      "source": [
        "3\\. Compare the proportions of workers of each region with more than a high school education (i.e., educ > 13). Which region has the highest rate of higher education?"
      ],
      "metadata": {
        "id": "ETeflZ9r0TYi"
      }
    },
    {
      "cell_type": "code",
      "source": [
        "# YOUR CODE HERE. ADD AS MANY CELLS AS YOU WANT"
      ],
      "metadata": {
        "id": "WLaYrncaEFMQ"
      },
      "execution_count": null,
      "outputs": []
    },
    {
      "cell_type": "markdown",
      "source": [
        "4\\. Create a plot comparing the distribution of earnings of workers who are at least 6 feet tall with that of workers who are under 6 feet tall. Also compute and compare appropriate summary statistics."
      ],
      "metadata": {
        "id": "GmcI15HN1qbs"
      }
    },
    {
      "cell_type": "code",
      "source": [
        "# YOUR CODE HERE. ADD AS MANY CELLS AS YOU WANT"
      ],
      "metadata": {
        "id": "aS33Ek8tEF3_"
      },
      "execution_count": null,
      "outputs": []
    },
    {
      "cell_type": "markdown",
      "source": [
        "5\\. Repeat the previous part, but only for females."
      ],
      "metadata": {
        "id": "FPGuH9WX4DTk"
      }
    },
    {
      "cell_type": "code",
      "source": [
        "# YOUR CODE HERE. ADD AS MANY CELLS AS YOU WANT"
      ],
      "metadata": {
        "id": "PsDVwAkEEGrU"
      },
      "execution_count": null,
      "outputs": []
    }
  ]
}