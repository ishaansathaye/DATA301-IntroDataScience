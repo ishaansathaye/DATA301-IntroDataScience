{
  "cells": [
    {
      "cell_type": "markdown",
      "metadata": {
        "id": "1h4kRko7W00T"
      },
      "source": [
        "# Introduction to Notebooks and Colab\n",
        "\n",
        "In a previous computer science class, you might have written Python code in an IDE (integrated development environment) such as Pycharm. You first write a Python program in a file like `myscript.py`, then you run the script by typing `python3 myscript.py` at the terminal.\n",
        "\n",
        "In this class, we will write Python code in a **notebook**, like this one. Notebooks can be on your computer or be hosted in the cloud. **Colab** is a free Google service that offers hosted notebooks within Google Drive. (Colab is similar to Jupyter, which is another popular type of notebook.)"
      ]
    },
    {
      "cell_type": "markdown",
      "metadata": {
        "id": "lv_T_CBaGu9_"
      },
      "source": [
        "## Saving Your Work\n",
        "\n",
        "The first thing you do whenever you open up a notebook that someone shares with you is to save a copy in your personal Google Drive. You'll need to do this if you want to save your work. Otherwise, any changes that you make cannot be saved and will be lost when you close the browser.\n",
        "\n",
        "**Save a copy of this notebook in your Google Drive** by clicking the \"Copy to Drive\" button (or File > Save a copy in Drive)."
      ]
    },
    {
      "cell_type": "markdown",
      "metadata": {
        "id": "WD46mZ0VXM7_"
      },
      "source": [
        "## Why use notebooks instead of scripts?\n",
        "\n",
        "### Advantage 1\n",
        "\n",
        "Notebooks integrate code, text, and output in a single document. Since data science is about _interpreting_ the _results_ from executing code, it is helpful to have everything in one place. It also helps make your analysis _reproducible_: others can trace your entire analysis from start to finish."
      ]
    },
    {
      "cell_type": "markdown",
      "metadata": {
        "id": "qm_XerMeHsRf"
      },
      "source": [
        "Notebooks can contain Code or Text cells. You can add cells at any point in the notebook using the \"+ Code\" or \"+ Text\" buttons (or Insert > Code cell)."
      ]
    },
    {
      "cell_type": "markdown",
      "metadata": {
        "id": "5yK3CnMCU2dp"
      },
      "source": [
        "_Example of a Text Cell_\n",
        "\n",
        "To edit the text in the cell, double click on the cell.\n",
        "\n",
        "Text cells can contain [Markdown](https://www.markdownguide.org/cheat-sheet/) syntax for typsetting. Double click on this cell to see how *italics*, **boldface**, and [weblinks](https://www.markdownguide.org/cheat-sheet/) are represented in Markdown syntax.\n",
        "\n",
        "You can also typset mathematical notation like $\\frac{\\exp(-x^2/2)}{\\sqrt{2 \\pi}}$ using [LaTeX](https://www.overleaf.com/learn/latex/Learn_LaTeX_in_30_minutes)."
      ]
    },
    {
      "cell_type": "markdown",
      "metadata": {
        "id": "Cu3CEXb9Jmm6"
      },
      "source": [
        "**Exercise.** Add a text cell after this one and experiment with writing some Markdown syntax. In particular, try to create a numbered list."
      ]
    },
    {
      "cell_type": "markdown",
      "metadata": {
        "id": "ts6pRv0VK8Cp"
      },
      "source": [
        "The next cell is an example of a Code cell."
      ]
    },
    {
      "cell_type": "code",
      "execution_count": 3,
      "metadata": {
        "id": "zBnFWHBRVGoR"
      },
      "outputs": [
        {
          "data": {
            "text/plain": [
              "212.0"
            ]
          },
          "execution_count": 3,
          "metadata": {},
          "output_type": "execute_result"
        }
      ],
      "source": [
        "# Example of a Code Cell\n",
        "\n",
        "# To run the code, hover your cursor over the cell and click the play button\n",
        "# that appears on the left. Or you can click on the cell and press Shift+Enter.\n",
        "\n",
        "# You can write Python code in a code cell.\n",
        "def convert_celsius_to_fahrenheit(temperature_in_celsius):\n",
        "  return 9 / 5 * temperature_in_celsius + 32\n",
        "\n",
        "# Intermediate lines of code are executed, but the output is not printed.\n",
        "convert_celsius_to_fahrenheit(0)\n",
        "\n",
        "# The output of the last line of code in a cell is printed.\n",
        "convert_celsius_to_fahrenheit(100)"
      ]
    },
    {
      "cell_type": "markdown",
      "metadata": {
        "id": "Aeikjj5-LVxu"
      },
      "source": [
        "When you run a code cell, all the code in the cell is evaluated but only the output of the last line of code in a cell is displayed automatically. If you want to display multiple pieces of output, you can add cells and put each line that you want to display in a separate cell (or you can use `print()`.)"
      ]
    },
    {
      "cell_type": "markdown",
      "metadata": {
        "id": "POpqbYrZWzJT"
      },
      "source": [
        "### Advantage 2\n",
        "\n",
        "Notebooks allow for a more interactive style of programming. You don't have to write your entire program before executing it!\n",
        "\n",
        "You can build up code gradually. You can do a computation in one cell and follow up in another cell.\n",
        "\n",
        "In the example below, the function `convert_celsius_to_fahrenheit` was defined when we ran the code cell above. The notebook maintains a \"memory\" of all the variables and functions that have been defined."
      ]
    },
    {
      "cell_type": "code",
      "execution_count": 4,
      "metadata": {
        "id": "hlDUqhi2Wx6T"
      },
      "outputs": [
        {
          "data": {
            "text/plain": [
              "32.0"
            ]
          },
          "execution_count": 4,
          "metadata": {},
          "output_type": "execute_result"
        }
      ],
      "source": [
        "convert_celsius_to_fahrenheit(0)"
      ]
    },
    {
      "cell_type": "markdown",
      "metadata": {
        "id": "6o0ooIJvL2QL"
      },
      "source": [
        "We can store the results of one cell and use them in others."
      ]
    },
    {
      "cell_type": "code",
      "execution_count": 5,
      "metadata": {
        "id": "FlVLJUsgL7rT"
      },
      "outputs": [],
      "source": [
        "x = 2 * 3"
      ]
    },
    {
      "cell_type": "code",
      "execution_count": 6,
      "metadata": {
        "id": "t7fCYibjL76P"
      },
      "outputs": [
        {
          "data": {
            "text/plain": [
              "5"
            ]
          },
          "execution_count": 6,
          "metadata": {},
          "output_type": "execute_result"
        }
      ],
      "source": [
        "x - 1"
      ]
    },
    {
      "cell_type": "markdown",
      "metadata": {
        "id": "UPU29I6WMmgi"
      },
      "source": [
        "In long notebooks, you might want to collapse cells. Click the arrow to the left of \"Advantage 2\" above to collapse all the cells under this heading. You can expand them by clicking the arrow again. (You can also use View > Expand sections or View > Collapse sections.)"
      ]
    },
    {
      "cell_type": "markdown",
      "metadata": {
        "id": "gxMloq_yZCAY"
      },
      "source": [
        "### A Caution about Notebooks\n",
        "\n",
        "The code cells in a notebook are usually designed to be run in order, from top to bottom. Bad things can happen if you run them out of order!\n",
        "\n",
        "Let's start from a clean state. Let's clear all the variables that we have defined. Go to Runtime > Restart runtime. What happens if you run the code cell below, without first running the cells above it?"
      ]
    },
    {
      "cell_type": "code",
      "execution_count": 7,
      "metadata": {
        "id": "krFrKZcUa2fc"
      },
      "outputs": [
        {
          "data": {
            "text/plain": [
              "68.0"
            ]
          },
          "execution_count": 7,
          "metadata": {},
          "output_type": "execute_result"
        }
      ],
      "source": [
        "convert_celsius_to_fahrenheit(20)"
      ]
    },
    {
      "cell_type": "markdown",
      "metadata": {
        "id": "MLBvfXbWdsxk"
      },
      "source": [
        "## Exercises\n",
        "\n",
        "1. What do you think the numbers (e.g., `[1]`, `[2]`, `[3]`, ...) on the left of the code cells indicate?\n",
        "    - they indicate the order in which the cells were run\n",
        "1. If you want clear all output and run all of the cells in a notebook from top to bottom, what can you do? Hint: look under the Runtime menu.\n",
        "    - Runtime > Restart runtime\n",
        "1. Run the code cell below. Why doesn't the cell output anything? How would you modify the code so that it outputs the temperature in Fahrenheit?\n",
        "    - need to print the result by printing or putting it in the last line of the cell"
      ]
    },
    {
      "cell_type": "code",
      "execution_count": 9,
      "metadata": {
        "id": "VE3PtZe-Y15-"
      },
      "outputs": [
        {
          "data": {
            "text/plain": [
              "86.0"
            ]
          },
          "execution_count": 9,
          "metadata": {},
          "output_type": "execute_result"
        }
      ],
      "source": [
        "temperature_in_fahrenheit = convert_celsius_to_fahrenheit(30)\n",
        "temperature_in_fahrenheit"
      ]
    }
  ],
  "metadata": {
    "colab": {
      "provenance": []
    },
    "kernelspec": {
      "display_name": "Python 3",
      "name": "python3"
    },
    "language_info": {
      "codemirror_mode": {
        "name": "ipython",
        "version": 3
      },
      "file_extension": ".py",
      "mimetype": "text/x-python",
      "name": "python",
      "nbconvert_exporter": "python",
      "pygments_lexer": "ipython3",
      "version": "3.9.6"
    }
  },
  "nbformat": 4,
  "nbformat_minor": 0
}
