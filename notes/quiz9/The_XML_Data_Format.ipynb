{
  "cells": [
    {
      "cell_type": "markdown",
      "metadata": {
        "id": "QyGyHllgvdJe"
      },
      "source": [
        "# The XML Data Format\n",
        "\n",
        "**XML**, which stands for eXtensible Markup Language, is another way to represent hierarchical data. The basic building block of XML is the **tag**, denoted by angle brackets `<>`.\n",
        "\n",
        "For example, a data set of movies might be represented using XML as follows:\n",
        "\n",
        "```\n",
        "<movies>\n",
        "  <movie id=\"1\" title=\"The Godfather\">\n",
        "    <director id=\"50\" name=\"Coppola, Francis Ford\">\n",
        "    </director>\n",
        "    <releasedate>1972-03-24</releasedate>\n",
        "    <character id=\"100\" name=\"Vito Corleone\">\n",
        "      <actor id=\"200\" name=\"Brando, Marlon\">\n",
        "      </actor>\n",
        "    </character>\n",
        "    <character id=\"101\" name=\"Michael Corleone\">\n",
        "      <actor id=\"201\" name=\"Pacino, Al\">\n",
        "      </actor>\n",
        "    </character>\n",
        "    ...\n",
        "  </movie>\n",
        "  <movie id=\"2\" title=\"The Godfather: Part II\">\n",
        "    <director id=\"50\" name=\"Coppola, Francis Ford\">\n",
        "    </director>\n",
        "    <releasedate>1974-10-20</releasedate>\n",
        "    <character id=\"101\" name=\"Michael Corleone\">\n",
        "      <actor id=\"201\" name=\"Pacino, Al\">\n",
        "      </actor>\n",
        "    </character>\n",
        "    <character id=\"100\" name=\"Vito Corleone\">\n",
        "      <actor id=\"250\" name=\"De Niro, Robert\">\n",
        "      </actor>\n",
        "    </character>\n",
        "    ...\n",
        "  </movie>\n",
        "  ...\n",
        "</movies>\n",
        "```\n",
        "\n",
        "Note the following features of XML:\n",
        "\n",
        "- Every tag `<a>` has a corresponding closing tag `</a>`. You can always recognize a closing tag by the forward slash `/`.\n",
        "- Additional tags and/or strings can be nested between the opening and closing tags. In the example above, `<actor>` is nested between `<character>` and `</character>`, and `<character>` is nested between `<movie>` and `</movie>`. The nesting is used to represent hierarchy.\n",
        "- Indentation is used to make the code more readable (to make it easier to see the nesting structure). But it is optional.\n",
        "- Attributes can be associated with each tag, like `id=` and `name=` with the `<character>` tag and `id=` and `title=` with the `<movie>` tag.\n",
        "- Children are represented by nested tags.\n",
        "- Repeated fields are represented by repeated tages.\n",
        "\n",
        "Each tag represents a variable in the data set. Unlike JSON, which uses lists to represent repeated fields, XML represents repeated fields by simply repeating tags where necessary. In the example above, there are multiple instances of `<movie>` within `<movies>` and multiple instances of `<character>` within `<movie>`, so `movie` and `character` are both repeated fields. (In fact, `director` is also a repeated field, but it is impossible to tell from the code above, since the movies shown above only have one director.)\n",
        "\n"
      ]
    },
    {
      "cell_type": "markdown",
      "metadata": {
        "id": "WMpU4yDtIPj9"
      },
      "source": [
        "We will process XML files using a Python library called [Beautiful Soup 4](https://pypi.org/project/beautifulsoup4/)."
      ]
    },
    {
      "cell_type": "markdown",
      "metadata": {
        "id": "EyQtRErPHgbq"
      },
      "source": [
        "First, we read in the XML data from a URL (https://dlsun.github.io/pods/data/tvshows.xml) using the requests library. Note: you should also open this link in a browser window to see how the data is stored; note the tags for `<show>`, `<cast>`, `<episode>`, etc."
      ]
    },
    {
      "cell_type": "code",
      "execution_count": 1,
      "metadata": {
        "id": "V2pni_I4Ia--"
      },
      "outputs": [
        {
          "data": {
            "text/plain": [
              "<Response [200]>"
            ]
          },
          "execution_count": 1,
          "metadata": {},
          "output_type": "execute_result"
        }
      ],
      "source": [
        "import requests\n",
        "response = requests.get(\"https://dlsun.github.io/pods/data/tvshows.xml\")\n",
        "response"
      ]
    },
    {
      "cell_type": "markdown",
      "metadata": {
        "id": "pz2cxUE6HgeY"
      },
      "source": [
        "Currently `response` is a very long string which we can parse with Beautiful Soup. We read the XML data into a `BeautifulSoup` object, which\n",
        "represents the data as a tree.\n",
        "\n",
        "- You can navigate this tree using `.parent` (`.parents`) and `.children` (`.descendants`).\n",
        "- You can search for a tag using `.find_all()` or `.find()` (which returns the first tag found).\n"
      ]
    },
    {
      "cell_type": "code",
      "execution_count": 4,
      "metadata": {
        "id": "-8bcIg4dIl3U"
      },
      "outputs": [],
      "source": [
        "from bs4 import BeautifulSoup\n",
        "soup = BeautifulSoup(response.text, \"xml\")"
      ]
    },
    {
      "cell_type": "markdown",
      "metadata": {
        "id": "tpc_3f57ImGH"
      },
      "source": [
        "![](https://github.com/dlsun/pods/blob/master/11-Hierarchical-Data/hierarchical_data.png?raw=1)"
      ]
    },
    {
      "cell_type": "markdown",
      "metadata": {
        "id": "cN02c3pcJBHb"
      },
      "source": [
        "Suppose we want to create a DataFrame with one row for each show and a column for the number of episodes. The following code\n",
        "\n",
        "- Searches through `soup` to find all instances of the `<show>` tag: `soup.find_all(\"show\")`\n",
        "- Loops through all instances of the show tag to find for each `show`...\n",
        "- the show name (and convert it to string): `show.find(\"name\").string`\n",
        "- and the number of episodes, by finding all instances of the `<episode>` tag for the `show` and finding the length of this list: `len(show.find_all(\"episode\"))`"
      ]
    },
    {
      "cell_type": "code",
      "execution_count": 5,
      "metadata": {
        "id": "8ZDHJbXUJBTa"
      },
      "outputs": [],
      "source": [
        "# intialize empty lists\n",
        "show_names = []\n",
        "show_episodes = []\n",
        "\n",
        "# find all <show> tags, then iterate through them\n",
        "for show in soup.find_all(\"show\"):\n",
        "\n",
        "  # find the name of the show, and append to the list\n",
        "  show_names.append(show.find(\"name\").string)\n",
        "\n",
        "  # find the number of episodes of the show, and append to the list\n",
        "  show_episodes.append(len(show.find_all(\"episode\")))\n",
        "\n"
      ]
    },
    {
      "cell_type": "markdown",
      "metadata": {
        "id": "cxPlKjyAJBgU"
      },
      "source": [
        "After running the for loop the `show_names` and `show_episodes` lists are filled in; we just have to convert them to a Pandas DataFrame."
      ]
    },
    {
      "cell_type": "code",
      "execution_count": 6,
      "metadata": {
        "id": "BXWhROOsJBtw"
      },
      "outputs": [
        {
          "data": {
            "text/html": [
              "<div>\n",
              "<style scoped>\n",
              "    .dataframe tbody tr th:only-of-type {\n",
              "        vertical-align: middle;\n",
              "    }\n",
              "\n",
              "    .dataframe tbody tr th {\n",
              "        vertical-align: top;\n",
              "    }\n",
              "\n",
              "    .dataframe thead th {\n",
              "        text-align: right;\n",
              "    }\n",
              "</style>\n",
              "<table border=\"1\" class=\"dataframe\">\n",
              "  <thead>\n",
              "    <tr style=\"text-align: right;\">\n",
              "      <th></th>\n",
              "      <th>name</th>\n",
              "      <th>episodes</th>\n",
              "    </tr>\n",
              "  </thead>\n",
              "  <tbody>\n",
              "    <tr>\n",
              "      <th>0</th>\n",
              "      <td>Girls</td>\n",
              "      <td>63</td>\n",
              "    </tr>\n",
              "    <tr>\n",
              "      <th>1</th>\n",
              "      <td>The Golden Girls</td>\n",
              "      <td>181</td>\n",
              "    </tr>\n",
              "    <tr>\n",
              "      <th>2</th>\n",
              "      <td>Good Girls</td>\n",
              "      <td>26</td>\n",
              "    </tr>\n",
              "    <tr>\n",
              "      <th>3</th>\n",
              "      <td>The Powerpuff Girls</td>\n",
              "      <td>119</td>\n",
              "    </tr>\n",
              "    <tr>\n",
              "      <th>4</th>\n",
              "      <td>Florida Girls</td>\n",
              "      <td>10</td>\n",
              "    </tr>\n",
              "    <tr>\n",
              "      <th>5</th>\n",
              "      <td>Chicken Girls</td>\n",
              "      <td>76</td>\n",
              "    </tr>\n",
              "    <tr>\n",
              "      <th>6</th>\n",
              "      <td>Derry Girls</td>\n",
              "      <td>12</td>\n",
              "    </tr>\n",
              "    <tr>\n",
              "      <th>7</th>\n",
              "      <td>The Powerpuff Girls</td>\n",
              "      <td>82</td>\n",
              "    </tr>\n",
              "    <tr>\n",
              "      <th>8</th>\n",
              "      <td>Bomb Girls</td>\n",
              "      <td>19</td>\n",
              "    </tr>\n",
              "    <tr>\n",
              "      <th>9</th>\n",
              "      <td>Gilmore Girls</td>\n",
              "      <td>153</td>\n",
              "    </tr>\n",
              "  </tbody>\n",
              "</table>\n",
              "</div>"
            ],
            "text/plain": [
              "                  name  episodes\n",
              "0                Girls        63\n",
              "1     The Golden Girls       181\n",
              "2           Good Girls        26\n",
              "3  The Powerpuff Girls       119\n",
              "4        Florida Girls        10\n",
              "5        Chicken Girls        76\n",
              "6          Derry Girls        12\n",
              "7  The Powerpuff Girls        82\n",
              "8           Bomb Girls        19\n",
              "9        Gilmore Girls       153"
            ]
          },
          "execution_count": 6,
          "metadata": {},
          "output_type": "execute_result"
        }
      ],
      "source": [
        "import pandas as pd\n",
        "pd.DataFrame({\n",
        "    \"name\": show_names,\n",
        "    \"episodes\": show_episodes\n",
        "})\n"
      ]
    },
    {
      "cell_type": "markdown",
      "metadata": {
        "id": "q23SgF_sI7Qk"
      },
      "source": [
        "Suppose we want to find out which TV show the episode \"Those Are Strings, Pinocchio\" comes from. Now we can search through `soup` to find all instances of the `<episode>` tag, find the name of the episode, and if it matches the one want, return the name of the show. Note that `<episode>` is nested within `<season>` which is nested within `<show>`. So `episode.parent` returns the season and `episode.parent.parent` returns the show; we want to find the `<name>` at the show level in the hierarchy."
      ]
    },
    {
      "cell_type": "code",
      "execution_count": 7,
      "metadata": {
        "id": "UJavyADdIvXA"
      },
      "outputs": [
        {
          "name": "stdout",
          "output_type": "stream",
          "text": [
            "Gilmore Girls\n"
          ]
        }
      ],
      "source": [
        "# iterate over all instances of the <episode> tag\n",
        "for episode in soup.find_all(\"episode\"):\n",
        "\n",
        "  # find the <name> of the current episode\n",
        "  episode_name = episode.find(\"name\").string\n",
        "\n",
        "  # check if the episode name is what we're looking for\n",
        "  if episode_name == \"Those Are Strings, Pinocchio\":\n",
        "\n",
        "    # navigate from the episode level up two levels to the show level\n",
        "    # and find the <name> at the show level (and convert to string)\n",
        "    print(episode.parent.parent.find(\"name\").string)"
      ]
    }
  ],
  "metadata": {
    "colab": {
      "provenance": []
    },
    "kernelspec": {
      "display_name": "Python 3",
      "language": "python",
      "name": "python3"
    },
    "language_info": {
      "codemirror_mode": {
        "name": "ipython",
        "version": 3
      },
      "file_extension": ".py",
      "mimetype": "text/x-python",
      "name": "python",
      "nbconvert_exporter": "python",
      "pygments_lexer": "ipython3",
      "version": "3.9.6"
    }
  },
  "nbformat": 4,
  "nbformat_minor": 0
}
