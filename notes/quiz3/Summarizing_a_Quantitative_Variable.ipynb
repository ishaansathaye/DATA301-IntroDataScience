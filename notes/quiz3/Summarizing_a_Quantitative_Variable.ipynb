{
  "cells": [
    {
      "cell_type": "markdown",
      "metadata": {
        "id": "YF_1q_0kjVGf"
      },
      "source": [
        "# Summarizing a Quantitative Variable\n",
        "\n",
        "We have discussed ways to analyze categorical variables, such as **gender**, **class**, and **embarked** in the Titanic data set. Now we will discuss ways to analyze quantitative variables, such as **age** and **fare**.\n",
        "\n",
        "Note: much of the material in this notebook should be a review from previous Statistics classes. However, there might be some concepts you haven't seen before (e.g., MAD). Also, implementation in Python is likely new to you. So do read carefully from to to bottom as always."
      ]
    },
    {
      "cell_type": "code",
      "execution_count": 1,
      "metadata": {
        "id": "WQrxrFke5X-F"
      },
      "outputs": [],
      "source": [
        "import pandas as pd"
      ]
    },
    {
      "cell_type": "code",
      "execution_count": 2,
      "metadata": {
        "id": "Z1gRTdpUFKWz"
      },
      "outputs": [
        {
          "data": {
            "text/html": [
              "<div>\n",
              "<style scoped>\n",
              "    .dataframe tbody tr th:only-of-type {\n",
              "        vertical-align: middle;\n",
              "    }\n",
              "\n",
              "    .dataframe tbody tr th {\n",
              "        vertical-align: top;\n",
              "    }\n",
              "\n",
              "    .dataframe thead th {\n",
              "        text-align: right;\n",
              "    }\n",
              "</style>\n",
              "<table border=\"1\" class=\"dataframe\">\n",
              "  <thead>\n",
              "    <tr style=\"text-align: right;\">\n",
              "      <th></th>\n",
              "      <th>name</th>\n",
              "      <th>gender</th>\n",
              "      <th>age</th>\n",
              "      <th>class</th>\n",
              "      <th>embarked</th>\n",
              "      <th>country</th>\n",
              "      <th>ticketno</th>\n",
              "      <th>fare</th>\n",
              "      <th>survived</th>\n",
              "      <th>pclass</th>\n",
              "      <th>crew</th>\n",
              "    </tr>\n",
              "  </thead>\n",
              "  <tbody>\n",
              "    <tr>\n",
              "      <th>0</th>\n",
              "      <td>Abbing, Mr. Anthony</td>\n",
              "      <td>male</td>\n",
              "      <td>42.0</td>\n",
              "      <td>3rd</td>\n",
              "      <td>S</td>\n",
              "      <td>United States</td>\n",
              "      <td>5547.0</td>\n",
              "      <td>7.11</td>\n",
              "      <td>0</td>\n",
              "      <td>3.0</td>\n",
              "      <td>NaN</td>\n",
              "    </tr>\n",
              "    <tr>\n",
              "      <th>1</th>\n",
              "      <td>Abbott, Mr. Eugene Joseph</td>\n",
              "      <td>male</td>\n",
              "      <td>13.0</td>\n",
              "      <td>3rd</td>\n",
              "      <td>S</td>\n",
              "      <td>United States</td>\n",
              "      <td>2673.0</td>\n",
              "      <td>20.05</td>\n",
              "      <td>0</td>\n",
              "      <td>3.0</td>\n",
              "      <td>NaN</td>\n",
              "    </tr>\n",
              "    <tr>\n",
              "      <th>2</th>\n",
              "      <td>Abbott, Mr. Rossmore Edward</td>\n",
              "      <td>male</td>\n",
              "      <td>16.0</td>\n",
              "      <td>3rd</td>\n",
              "      <td>S</td>\n",
              "      <td>United States</td>\n",
              "      <td>2673.0</td>\n",
              "      <td>20.05</td>\n",
              "      <td>0</td>\n",
              "      <td>3.0</td>\n",
              "      <td>NaN</td>\n",
              "    </tr>\n",
              "    <tr>\n",
              "      <th>3</th>\n",
              "      <td>Abbott, Mrs. Rhoda Mary 'Rosa'</td>\n",
              "      <td>female</td>\n",
              "      <td>39.0</td>\n",
              "      <td>3rd</td>\n",
              "      <td>S</td>\n",
              "      <td>England</td>\n",
              "      <td>2673.0</td>\n",
              "      <td>20.05</td>\n",
              "      <td>1</td>\n",
              "      <td>3.0</td>\n",
              "      <td>NaN</td>\n",
              "    </tr>\n",
              "    <tr>\n",
              "      <th>4</th>\n",
              "      <td>Abelseth, Miss. Karen Marie</td>\n",
              "      <td>female</td>\n",
              "      <td>16.0</td>\n",
              "      <td>3rd</td>\n",
              "      <td>S</td>\n",
              "      <td>Norway</td>\n",
              "      <td>348125.0</td>\n",
              "      <td>7.13</td>\n",
              "      <td>1</td>\n",
              "      <td>3.0</td>\n",
              "      <td>NaN</td>\n",
              "    </tr>\n",
              "    <tr>\n",
              "      <th>...</th>\n",
              "      <td>...</td>\n",
              "      <td>...</td>\n",
              "      <td>...</td>\n",
              "      <td>...</td>\n",
              "      <td>...</td>\n",
              "      <td>...</td>\n",
              "      <td>...</td>\n",
              "      <td>...</td>\n",
              "      <td>...</td>\n",
              "      <td>...</td>\n",
              "      <td>...</td>\n",
              "    </tr>\n",
              "    <tr>\n",
              "      <th>2202</th>\n",
              "      <td>Wynn, Mr. Walter</td>\n",
              "      <td>male</td>\n",
              "      <td>41.0</td>\n",
              "      <td>deck crew</td>\n",
              "      <td>B</td>\n",
              "      <td>England</td>\n",
              "      <td>NaN</td>\n",
              "      <td>NaN</td>\n",
              "      <td>1</td>\n",
              "      <td>NaN</td>\n",
              "      <td>deck crew</td>\n",
              "    </tr>\n",
              "    <tr>\n",
              "      <th>2203</th>\n",
              "      <td>Yearsley, Mr. Harry</td>\n",
              "      <td>male</td>\n",
              "      <td>40.0</td>\n",
              "      <td>victualling crew</td>\n",
              "      <td>S</td>\n",
              "      <td>England</td>\n",
              "      <td>NaN</td>\n",
              "      <td>NaN</td>\n",
              "      <td>1</td>\n",
              "      <td>NaN</td>\n",
              "      <td>victualling crew</td>\n",
              "    </tr>\n",
              "    <tr>\n",
              "      <th>2204</th>\n",
              "      <td>Young, Mr. Francis James</td>\n",
              "      <td>male</td>\n",
              "      <td>32.0</td>\n",
              "      <td>engineering crew</td>\n",
              "      <td>S</td>\n",
              "      <td>England</td>\n",
              "      <td>NaN</td>\n",
              "      <td>NaN</td>\n",
              "      <td>0</td>\n",
              "      <td>NaN</td>\n",
              "      <td>engineering crew</td>\n",
              "    </tr>\n",
              "    <tr>\n",
              "      <th>2205</th>\n",
              "      <td>Zanetti, Sig. Minio</td>\n",
              "      <td>male</td>\n",
              "      <td>20.0</td>\n",
              "      <td>restaurant staff</td>\n",
              "      <td>S</td>\n",
              "      <td>England</td>\n",
              "      <td>NaN</td>\n",
              "      <td>NaN</td>\n",
              "      <td>0</td>\n",
              "      <td>NaN</td>\n",
              "      <td>restaurant staff</td>\n",
              "    </tr>\n",
              "    <tr>\n",
              "      <th>2206</th>\n",
              "      <td>Zarracchi, Sig. L.</td>\n",
              "      <td>male</td>\n",
              "      <td>26.0</td>\n",
              "      <td>restaurant staff</td>\n",
              "      <td>S</td>\n",
              "      <td>England</td>\n",
              "      <td>NaN</td>\n",
              "      <td>NaN</td>\n",
              "      <td>0</td>\n",
              "      <td>NaN</td>\n",
              "      <td>restaurant staff</td>\n",
              "    </tr>\n",
              "  </tbody>\n",
              "</table>\n",
              "<p>2207 rows × 11 columns</p>\n",
              "</div>"
            ],
            "text/plain": [
              "                                name  gender   age             class embarked   \n",
              "0                Abbing, Mr. Anthony    male  42.0               3rd        S  \\\n",
              "1          Abbott, Mr. Eugene Joseph    male  13.0               3rd        S   \n",
              "2        Abbott, Mr. Rossmore Edward    male  16.0               3rd        S   \n",
              "3     Abbott, Mrs. Rhoda Mary 'Rosa'  female  39.0               3rd        S   \n",
              "4        Abelseth, Miss. Karen Marie  female  16.0               3rd        S   \n",
              "...                              ...     ...   ...               ...      ...   \n",
              "2202                Wynn, Mr. Walter    male  41.0         deck crew        B   \n",
              "2203             Yearsley, Mr. Harry    male  40.0  victualling crew        S   \n",
              "2204        Young, Mr. Francis James    male  32.0  engineering crew        S   \n",
              "2205             Zanetti, Sig. Minio    male  20.0  restaurant staff        S   \n",
              "2206              Zarracchi, Sig. L.    male  26.0  restaurant staff        S   \n",
              "\n",
              "            country  ticketno   fare  survived  pclass              crew  \n",
              "0     United States    5547.0   7.11         0     3.0               NaN  \n",
              "1     United States    2673.0  20.05         0     3.0               NaN  \n",
              "2     United States    2673.0  20.05         0     3.0               NaN  \n",
              "3           England    2673.0  20.05         1     3.0               NaN  \n",
              "4            Norway  348125.0   7.13         1     3.0               NaN  \n",
              "...             ...       ...    ...       ...     ...               ...  \n",
              "2202        England       NaN    NaN         1     NaN         deck crew  \n",
              "2203        England       NaN    NaN         1     NaN  victualling crew  \n",
              "2204        England       NaN    NaN         0     NaN  engineering crew  \n",
              "2205        England       NaN    NaN         0     NaN  restaurant staff  \n",
              "2206        England       NaN    NaN         0     NaN  restaurant staff  \n",
              "\n",
              "[2207 rows x 11 columns]"
            ]
          },
          "execution_count": 2,
          "metadata": {},
          "output_type": "execute_result"
        }
      ],
      "source": [
        "df_titanic = pd.read_csv(\"https://raw.githubusercontent.com/kevindavisross/data301/main/data/titanic.csv\")\n",
        "df_titanic"
      ]
    },
    {
      "cell_type": "markdown",
      "metadata": {
        "id": "x3zYKBXa5kCa"
      },
      "source": [
        "If a column in a `pandas` `DataFrame` has a numeric type, such as `int64` or `float64`, then the `.describe()` method will automatically produce many of the summaries discussed in this lesson."
      ]
    },
    {
      "cell_type": "code",
      "execution_count": 3,
      "metadata": {
        "id": "Ltx4kSMcFln6"
      },
      "outputs": [
        {
          "data": {
            "text/plain": [
              "0       42.0\n",
              "1       13.0\n",
              "2       16.0\n",
              "3       39.0\n",
              "4       16.0\n",
              "        ... \n",
              "2202    41.0\n",
              "2203    40.0\n",
              "2204    32.0\n",
              "2205    20.0\n",
              "2206    26.0\n",
              "Name: age, Length: 2207, dtype: float64"
            ]
          },
          "execution_count": 3,
          "metadata": {},
          "output_type": "execute_result"
        }
      ],
      "source": [
        "df_titanic[\"age\"]"
      ]
    },
    {
      "cell_type": "code",
      "execution_count": 4,
      "metadata": {
        "id": "jT4lvWsXs2Wh"
      },
      "outputs": [
        {
          "data": {
            "text/plain": [
              "count    2205.000000\n",
              "mean       30.436735\n",
              "std        12.159677\n",
              "min         0.166667\n",
              "25%        22.000000\n",
              "50%        29.000000\n",
              "75%        38.000000\n",
              "max        74.000000\n",
              "Name: age, dtype: float64"
            ]
          },
          "execution_count": 4,
          "metadata": {},
          "output_type": "execute_result"
        }
      ],
      "source": [
        "df_titanic[\"age\"].describe()"
      ]
    },
    {
      "cell_type": "markdown",
      "metadata": {
        "id": "Ia9HDuVH7lC4"
      },
      "source": [
        "Three important features of the distribution of a quantitative variables are\n",
        "\n",
        "- Center\n",
        "- Variability (or spread)\n",
        "- Shape"
      ]
    },
    {
      "cell_type": "markdown",
      "metadata": {
        "id": "Z4yNNG7m87M0"
      },
      "source": [
        "### Measures of Center\n",
        "\n",
        "Some statistics measure the _center_ of a variable. Two commonly used measures of the center are:\n",
        "\n",
        "- the _mean_ (a.k.a. average): the sum of the values divided by the count. If the values are represented by the variables $x_1, x_2, ..., x_n$, then the mean $\\bar x$ is defined as\n",
        "$$ \\bar x = \\frac{1}{n} \\sum_{i=1}^n x_i. $$\n",
        "- the _median_: the middle value when you sort the values (i.e., a value such that 50% of the values lie below and 50% of the values lie above)\n",
        "\n",
        "A measure of center gives us information about the \"typical\" value of a variable. For example, you might not know whether a typical fare on the Titanic was £1, £10, or £100. But if we calculate the mean:"
      ]
    },
    {
      "cell_type": "code",
      "execution_count": 7,
      "metadata": {
        "id": "DVxaWPJW7RhY"
      },
      "outputs": [
        {
          "data": {
            "text/plain": [
              "33.40476049573974"
            ]
          },
          "execution_count": 7,
          "metadata": {},
          "output_type": "execute_result"
        }
      ],
      "source": [
        "df_titanic.fare.mean()\n",
        "# df_titanic[\"fare\"].mean()"
      ]
    },
    {
      "cell_type": "markdown",
      "metadata": {
        "id": "TdhrHvIQ7rm1"
      },
      "source": [
        "we see that a typical fare is around £30.\n",
        "\n",
        "Let's see what the median says about the \"typical\" fare:"
      ]
    },
    {
      "cell_type": "code",
      "execution_count": 8,
      "metadata": {
        "id": "TQ6AeOgD7pPW"
      },
      "outputs": [
        {
          "data": {
            "text/plain": [
              "14.0902"
            ]
          },
          "execution_count": 8,
          "metadata": {},
          "output_type": "execute_result"
        }
      ],
      "source": [
        "df_titanic.fare.median()"
      ]
    },
    {
      "cell_type": "markdown",
      "metadata": {
        "id": "q2XTiUAt7u3z"
      },
      "source": [
        "The median is quite different from the mean! It says that about 50% of the passengers paid less than £15 and about 50% paid more, so another reasonable value for the \"typical\" fare is £15.\n",
        "\n",
        "The mean was twice the median! What explains this discrepancy? The reason is that the mean is very sensitive to extreme values. To see this, let's look at the highest fare that any passenger paid."
      ]
    },
    {
      "cell_type": "code",
      "execution_count": 9,
      "metadata": {
        "id": "-lFaz7Ej7xqy"
      },
      "outputs": [
        {
          "data": {
            "text/plain": [
              "512.0607"
            ]
          },
          "execution_count": 9,
          "metadata": {},
          "output_type": "execute_result"
        }
      ],
      "source": [
        "df_titanic.fare.max()"
      ]
    },
    {
      "cell_type": "markdown",
      "metadata": {
        "id": "qWefRPRb71lE"
      },
      "source": [
        "The highest fare paid was over £500! Even if most passengers paid less than £15, extreme values like this one will pull the mean upward. On the other hand, since the median is always the middle value, it is not affected by the extreme values, as long as the ordering of the values does not change.\n",
        "\n",
        "To drive this point home, let's see what would happen to the mean and median if that maximum fare were (hypothetically) £10,000 instead of £512."
      ]
    },
    {
      "cell_type": "code",
      "execution_count": 10,
      "metadata": {
        "id": "HMPoHx5f7_UW"
      },
      "outputs": [
        {
          "data": {
            "text/plain": [
              "(62.80193880712625, 14.0902)"
            ]
          },
          "execution_count": 10,
          "metadata": {},
          "output_type": "execute_result"
        }
      ],
      "source": [
        "fare_10k = df_titanic.fare.replace(df_titanic.fare.max(), 10000)\n",
        "fare_10k.mean(), fare_10k.median()"
      ]
    },
    {
      "cell_type": "markdown",
      "metadata": {
        "id": "puOZBFQi7_5i"
      },
      "source": [
        "Notice how the mean now increases to over £60, but the median is unaffected."
      ]
    },
    {
      "cell_type": "markdown",
      "metadata": {
        "id": "KJRyasay8QDA"
      },
      "source": [
        "Just to satisfy our curiosity, let's learn more about this passenger who paid the maximum fare. To do this, we have to find the row that achieved this maximum value. Fortunately, there is a convenient `pandas` function, `.idxmax()`, that returns the _row index_ of the maximum fare. (A mathematician might call this the [\"arg max\"](https://en.wikipedia.org/wiki/Arg_max).)"
      ]
    },
    {
      "cell_type": "code",
      "execution_count": 11,
      "metadata": {
        "id": "DbIS0XDv8T6P"
      },
      "outputs": [
        {
          "data": {
            "text/plain": [
              "197"
            ]
          },
          "execution_count": 11,
          "metadata": {},
          "output_type": "execute_result"
        }
      ],
      "source": [
        "df_titanic.fare.idxmax()"
      ]
    },
    {
      "cell_type": "markdown",
      "metadata": {
        "id": "B0toi2l38W-4"
      },
      "source": [
        "Now we can select the row corresponding to this index using `.loc`."
      ]
    },
    {
      "cell_type": "code",
      "execution_count": 12,
      "metadata": {
        "id": "DpiNlLsj8bhT"
      },
      "outputs": [
        {
          "data": {
            "text/plain": [
              "name        Cardeza, Mrs. Charlotte Wardle\n",
              "gender                              female\n",
              "age                                   58.0\n",
              "class                                  1st\n",
              "embarked                                 C\n",
              "country                      United States\n",
              "ticketno                           17755.0\n",
              "fare                              512.0607\n",
              "survived                                 1\n",
              "pclass                                 1.0\n",
              "crew                                   NaN\n",
              "Name: 197, dtype: object"
            ]
          },
          "execution_count": 12,
          "metadata": {},
          "output_type": "execute_result"
        }
      ],
      "source": [
        "df_titanic.loc[df_titanic.fare.idxmax()]"
      ]
    },
    {
      "cell_type": "markdown",
      "metadata": {
        "id": "Knx5kR628dL3"
      },
      "source": [
        "The median is a number below which 50% of the values fall. What if we want to know some other percentile? We can use the `.quantile()` function, which takes a percentile rank (between 0 and 1) as input and returns the corresponding percentile.\n",
        "\n",
        "For example, the 75th percentile is:"
      ]
    },
    {
      "cell_type": "code",
      "execution_count": 13,
      "metadata": {
        "id": "SPRGkg2o8jof"
      },
      "outputs": [
        {
          "data": {
            "text/plain": [
              "31.06075"
            ]
          },
          "execution_count": 13,
          "metadata": {},
          "output_type": "execute_result"
        }
      ],
      "source": [
        "df_titanic.fare.quantile(.75)"
      ]
    },
    {
      "cell_type": "markdown",
      "metadata": {
        "id": "rRwsIzT-8lPn"
      },
      "source": [
        "which is pretty close to the mean. So only about 25% of the passengers paid more than the mean! The mean is not a great measure of center in the sense of \"typical\" when there are extreme values, as in this data set."
      ]
    },
    {
      "cell_type": "markdown",
      "metadata": {
        "id": "uSTOdrPO8pd9"
      },
      "source": [
        "To summarize, we have encountered several `pandas` functions that can be used to summarize a quantitative variable:\n",
        "\n",
        "- `.mean()` calculates the mean or average.\n",
        "- `.median()` calculates the median.\n",
        "- `.quantile(q)` returns a value such that a fraction `q` of the values fall below that value (in other words, the (100q)th percentile).\n",
        "- `.max()` calculates the maximum value.\n",
        "- `.idxmax()` returns the index of the row with the maximum value. *If there are multiple rows that achieve this value, then it will only return the index of the first occurrence.*\n",
        "\n",
        "The corresponding functions for the _minimum_ value exist as well:\n",
        "\n",
        "- `.min()` calculates the minimum value.\n",
        "- `.idxmin()` returns the index of the row with the minimum value. *If there are multiple rows that achieve this value, then it will only return the index of the first occurrence.*"
      ]
    },
    {
      "cell_type": "code",
      "execution_count": 14,
      "metadata": {
        "id": "GT2EqnHC8sUH"
      },
      "outputs": [
        {
          "data": {
            "text/plain": [
              "3.0305"
            ]
          },
          "execution_count": 14,
          "metadata": {},
          "output_type": "execute_result"
        }
      ],
      "source": [
        "df_titanic.fare.min()"
      ]
    },
    {
      "cell_type": "code",
      "execution_count": 15,
      "metadata": {
        "id": "T22lyDZLGyGP"
      },
      "outputs": [
        {
          "data": {
            "text/plain": [
              "name        Olsen, Master. Artur Karl\n",
              "gender                           male\n",
              "age                               9.0\n",
              "class                             3rd\n",
              "embarked                            S\n",
              "country                        Norway\n",
              "ticketno                      17368.0\n",
              "fare                           3.0305\n",
              "survived                            1\n",
              "pclass                            3.0\n",
              "crew                              NaN\n",
              "Name: 906, dtype: object"
            ]
          },
          "execution_count": 15,
          "metadata": {},
          "output_type": "execute_result"
        }
      ],
      "source": [
        "df_titanic.loc[df_titanic.fare.idxmin()]"
      ]
    },
    {
      "cell_type": "markdown",
      "metadata": {
        "id": "1fQpqJu68-0C"
      },
      "source": [
        "### Measures of Variability\n",
        "\n",
        "The center of a quantitative variable only tells a small part of the story. For one, it tells us nothing about how spread out the values are. Therefore, it is important to also report a measure of the degree of _variability_. The measures of variability that we will explore in this section are:\n",
        "\n",
        "- mean absolute deviation\n",
        "- variance\n",
        "- standard deviation"
      ]
    },
    {
      "cell_type": "markdown",
      "metadata": {
        "id": "B1N-a1vB80hu"
      },
      "source": [
        "Let's investigate a few measures of variability that are built into `pandas`. For completeness, the formulas for these statistics are provided, where $x_1, ..., x_n$ represent the values and $\\bar x$ their mean. But the intuition is more important to understand than the formulas.\n",
        "\n",
        "The first statistic that might come to mind is the _mean absolute deviation_, or _MAD_. To calculate the MAD, we first calculate the difference between each observation and the mean. Values below the mean will have a negative difference, while values above the mean will have a positive difference. We don't want the negative differences to cancel out the positive differences, since _all_ of them contribute to the overall degree of variability. So we take the absolute value of all the differences and then average.\n",
        "\n",
        "$$\n",
        "\\begin{align*}\n",
        "\\textrm{MAD} &= \\textrm{mean of } |x_i - \\bar x| \\\\\n",
        "&= \\frac{1}{n} \\sum_{i=1}^n |x_i - \\bar x|\n",
        "\\end{align*}\n",
        "$$\n",
        "\n",
        "We can implement the MAD ourselves using the `.mean()` and `.abs()` functions."
      ]
    },
    {
      "cell_type": "code",
      "execution_count": 16,
      "metadata": {
        "id": "BmLAAQKq9Nwz"
      },
      "outputs": [
        {
          "data": {
            "text/plain": [
              "0      -26.29476\n",
              "1      -13.35476\n",
              "2      -13.35476\n",
              "3      -13.35476\n",
              "4      -26.27476\n",
              "          ...   \n",
              "2202         NaN\n",
              "2203         NaN\n",
              "2204         NaN\n",
              "2205         NaN\n",
              "2206         NaN\n",
              "Name: fare, Length: 2207, dtype: float64"
            ]
          },
          "execution_count": 16,
          "metadata": {},
          "output_type": "execute_result"
        }
      ],
      "source": [
        "# STEP 1: Calculate the difference between each fare and the mean.\n",
        "(df_titanic.fare - df_titanic.fare.mean())"
      ]
    },
    {
      "cell_type": "code",
      "execution_count": 17,
      "metadata": {
        "id": "KZ-_BdsM9S9O"
      },
      "outputs": [
        {
          "data": {
            "text/plain": [
              "0       26.29476\n",
              "1       13.35476\n",
              "2       13.35476\n",
              "3       13.35476\n",
              "4       26.27476\n",
              "          ...   \n",
              "2202         NaN\n",
              "2203         NaN\n",
              "2204         NaN\n",
              "2205         NaN\n",
              "2206         NaN\n",
              "Name: fare, Length: 2207, dtype: float64"
            ]
          },
          "execution_count": 17,
          "metadata": {},
          "output_type": "execute_result"
        }
      ],
      "source": [
        "# STEP 2: Calculate the absolute value of each difference.\n",
        "(df_titanic.fare - df_titanic.fare.mean()).abs()"
      ]
    },
    {
      "cell_type": "code",
      "execution_count": 18,
      "metadata": {
        "id": "32Bx2FIK9U_d"
      },
      "outputs": [
        {
          "data": {
            "text/plain": [
              "30.053517846306516"
            ]
          },
          "execution_count": 18,
          "metadata": {},
          "output_type": "execute_result"
        }
      ],
      "source": [
        "# STEP 3: Take the mean of these absolute differences.\n",
        "(df_titanic.fare - df_titanic.fare.mean()).abs().mean()"
      ]
    },
    {
      "cell_type": "markdown",
      "metadata": {
        "id": "6ep5Vska9cMd"
      },
      "source": [
        "Notice that in Step 1, we subtracted a single number (`df_titanic.fare.mean()`) from a Pandas `Series` (`df_titanic.fare`). Pandas  automatically _broadcasted_ the subtraction over each number in the `Series`.\n",
        "\n",
        "The `.abs()` function in Step 2 is an example of a _vectorized_ function. The absolute value function is applied to each element of the `Series`."
      ]
    },
    {
      "cell_type": "markdown",
      "metadata": {
        "id": "eOG7qaXL-ApP"
      },
      "source": [
        "The MAD is currently built into Pandas as `mad` (but see the next note in the next text cell). Let's check that we get the same answer when we call the built-in *function*.\n",
        "\n"
      ]
    },
    {
      "cell_type": "code",
      "execution_count": 19,
      "metadata": {
        "id": "s6xoX1ra91IZ"
      },
      "outputs": [
        {
          "ename": "AttributeError",
          "evalue": "'Series' object has no attribute 'mad'",
          "output_type": "error",
          "traceback": [
            "\u001b[0;31m---------------------------------------------------------------------------\u001b[0m",
            "\u001b[0;31mAttributeError\u001b[0m                            Traceback (most recent call last)",
            "\u001b[1;32m/Users/ishaansathaye/Git/DATA301-IntroDataScience/notes/quiz3/Summarizing_a_Quantitative_Variable.ipynb Cell 34\u001b[0m line \u001b[0;36m1\n\u001b[0;32m----> <a href='vscode-notebook-cell:/Users/ishaansathaye/Git/DATA301-IntroDataScience/notes/quiz3/Summarizing_a_Quantitative_Variable.ipynb#X45sZmlsZQ%3D%3D?line=0'>1</a>\u001b[0m df_titanic\u001b[39m.\u001b[39;49mfare\u001b[39m.\u001b[39;49mmad()\n",
            "File \u001b[0;32m~/Library/Python/3.9/lib/python/site-packages/pandas/core/generic.py:5989\u001b[0m, in \u001b[0;36mNDFrame.__getattr__\u001b[0;34m(self, name)\u001b[0m\n\u001b[1;32m   5982\u001b[0m \u001b[39mif\u001b[39;00m (\n\u001b[1;32m   5983\u001b[0m     name \u001b[39mnot\u001b[39;00m \u001b[39min\u001b[39;00m \u001b[39mself\u001b[39m\u001b[39m.\u001b[39m_internal_names_set\n\u001b[1;32m   5984\u001b[0m     \u001b[39mand\u001b[39;00m name \u001b[39mnot\u001b[39;00m \u001b[39min\u001b[39;00m \u001b[39mself\u001b[39m\u001b[39m.\u001b[39m_metadata\n\u001b[1;32m   5985\u001b[0m     \u001b[39mand\u001b[39;00m name \u001b[39mnot\u001b[39;00m \u001b[39min\u001b[39;00m \u001b[39mself\u001b[39m\u001b[39m.\u001b[39m_accessors\n\u001b[1;32m   5986\u001b[0m     \u001b[39mand\u001b[39;00m \u001b[39mself\u001b[39m\u001b[39m.\u001b[39m_info_axis\u001b[39m.\u001b[39m_can_hold_identifiers_and_holds_name(name)\n\u001b[1;32m   5987\u001b[0m ):\n\u001b[1;32m   5988\u001b[0m     \u001b[39mreturn\u001b[39;00m \u001b[39mself\u001b[39m[name]\n\u001b[0;32m-> 5989\u001b[0m \u001b[39mreturn\u001b[39;00m \u001b[39mobject\u001b[39;49m\u001b[39m.\u001b[39;49m\u001b[39m__getattribute__\u001b[39;49m(\u001b[39mself\u001b[39;49m, name)\n",
            "\u001b[0;31mAttributeError\u001b[0m: 'Series' object has no attribute 'mad'"
          ]
        }
      ],
      "source": [
        "df_titanic.fare.mad()"
      ]
    },
    {
      "cell_type": "markdown",
      "metadata": {
        "id": "Wqow7L-mIQPk"
      },
      "source": [
        "Note: `mad` is *deprecated* in Pandas, which means it will eventually be removed. On reason why is that MAD is also used to represent *median* absolute deviation, and \"mad\" in different software packages might mean different things. You can be explicit about the version --- mean AD versus median AD --- by writing the code from scratch as we have done above."
      ]
    },
    {
      "cell_type": "markdown",
      "metadata": {
        "id": "97d54PV1-LlV"
      },
      "source": [
        "Some fares are close to the mean, and some are far from the mean. On average, fares are about £30 away from the mean."
      ]
    },
    {
      "cell_type": "markdown",
      "metadata": {
        "id": "wgBkWtLB-PBC"
      },
      "source": [
        "A different way to ensure that the negative and positive differences don't cancel is to square all the differences before averaging. This leads to the definition of _variance_.\n",
        "\n",
        "\\begin{align}\n",
        "\\textrm{Variance} &= \\textrm{mean of } (x_i - \\bar x)^2 \\\\\n",
        "&= \\frac{1}{n} \\sum_{i=1}^n (x_i - \\bar x)^2\n",
        "\\end{align}\n",
        "\n",
        "We can implement the variance ourselves. Again, notice how the subtraction and the power operations are broadcast over the elements of the `Series`."
      ]
    },
    {
      "cell_type": "code",
      "execution_count": 20,
      "metadata": {
        "id": "uZLqmhIL-IiK"
      },
      "outputs": [
        {
          "data": {
            "text/plain": [
              "2725.6084735888962"
            ]
          },
          "execution_count": 20,
          "metadata": {},
          "output_type": "execute_result"
        }
      ],
      "source": [
        "((df_titanic.fare - df_titanic.fare.mean()) ** 2).mean()"
      ]
    },
    {
      "cell_type": "markdown",
      "metadata": {
        "id": "guGpqpIm-xvA"
      },
      "source": [
        "Alternatively, we can simply call the `.var()` function in `pandas`."
      ]
    },
    {
      "cell_type": "code",
      "execution_count": 21,
      "metadata": {
        "id": "0esz7NKm-3By"
      },
      "outputs": [
        {
          "data": {
            "text/plain": [
              "2727.721348374624"
            ]
          },
          "execution_count": 21,
          "metadata": {},
          "output_type": "execute_result"
        }
      ],
      "source": [
        "df_titanic.fare.var()"
      ]
    },
    {
      "cell_type": "markdown",
      "metadata": {
        "id": "DfWU9sAs-8Qp"
      },
      "source": [
        "You might be surprised that `.var()` produced a slightly different number. This is because `pandas` divided by $n-1$ (rather than $n$) in calculating the mean of the squared differences. That is, the default variance formula that `pandas` uses is\n",
        "\n",
        "$$\\text{Variance} = \\frac{1}{n-1} \\sum_{i=1}^n (x_i - \\bar x)^2.$$\n",
        "\n",
        "To force Pandas to divide by $n$, you can set `ddof=0`."
      ]
    },
    {
      "cell_type": "code",
      "execution_count": 22,
      "metadata": {
        "id": "PP4vo7rG-5Cc"
      },
      "outputs": [
        {
          "data": {
            "text/plain": [
              "2725.6084735888962"
            ]
          },
          "execution_count": 22,
          "metadata": {},
          "output_type": "execute_result"
        }
      ],
      "source": [
        "df_titanic.fare.var(ddof=0)"
      ]
    },
    {
      "cell_type": "markdown",
      "metadata": {
        "id": "iemSdXr9Jnfu"
      },
      "source": [
        "Whether you divide by $n$ or $n-1$ typically only makes a practical difference in small data sets."
      ]
    },
    {
      "cell_type": "markdown",
      "metadata": {
        "id": "da0FZEro_TEs"
      },
      "source": [
        "The trouble with variance is that its units are wrong. If the original values $x_1, ..., x_n$ are in £, the variance would be in squared £. This is obvious if you simply look at the magnitude of the variance in the example above; the variance is in the _thousands_, even though the largest fare is just over £500.  To correct the units of variance, we take the square root to obtain a more interpretable measure of variability, called the _standard deviation_:\n",
        "\n",
        "$$\\textrm{SD} = \\sqrt{\\textrm{Variance}}.$$"
      ]
    },
    {
      "cell_type": "code",
      "execution_count": 23,
      "metadata": {
        "id": "4ztL8PsK_F8D"
      },
      "outputs": [
        {
          "data": {
            "text/plain": [
              "52.22759183012964"
            ]
          },
          "execution_count": 23,
          "metadata": {},
          "output_type": "execute_result"
        }
      ],
      "source": [
        "df_titanic.fare.std()"
      ]
    },
    {
      "cell_type": "markdown",
      "metadata": {
        "id": "03_759No_Xzg"
      },
      "source": [
        "Standard deviation has a similar interpretation to MAD: roughly, on \"average\" fares are about £52 away from the mean. However, note the difference in values between the MAD and SD. The SD squares deviations before averaging, and values with large deviations have even larger squared deviations."
      ]
    },
    {
      "cell_type": "markdown",
      "metadata": {
        "id": "DmcnNi3A_cos"
      },
      "source": [
        "Standard deviation is the most widely used measure of variability, more common than the MAD. At first, this might seem odd. To calculate the standard deviation, we squared the differences from the mean, only to take a square root in the end. Why bother with this rigmarole, when we could just calculate absolute values instead?\n",
        "\n",
        "The reasons for preferring the standard deviation are complicated. But the short answer is that the variance (i.e., the square of the standard deviation) is much nicer mathematically. Remember the Pythagorean theorem: it's $a^2 + b^2 = c^2$, so working with squared values is natural; something similar happens with variance. Also, if you know calculus, you might remember that the absolute value function does not have a derivative at 0. Therefore, the MAD is not _differentiable_, which makes it inconvenient mathematically.\n",
        "\n",
        "However, MAD is not necessarily any better or worse as a measure of variability than SD. Each measures variability in a particular way, and each has advantages and disadvantages."
      ]
    },
    {
      "cell_type": "markdown",
      "metadata": {
        "id": "DotU6BF4_3ij"
      },
      "source": [
        "## Visualizing a Quantitative Variable\n",
        "\n",
        "Graphics can help us understand how the values of a quantitative variable are distributed. We will study two types of visualizations for quantitative variables: histograms and densities."
      ]
    },
    {
      "cell_type": "markdown",
      "metadata": {
        "id": "MxcFa2EHAJCi"
      },
      "source": [
        "### Histograms\n",
        "\n",
        "The standard visualization for a single quantitative variable is the _histogram_. A histogram sorts the values into bins and uses bars to represent the number of values in each bin.\n",
        "\n",
        "To make a histogram, we call the `.plot.hist()` method of the selected variable."
      ]
    },
    {
      "cell_type": "code",
      "execution_count": 24,
      "metadata": {
        "id": "GLkYl-eI_peO"
      },
      "outputs": [
        {
          "data": {
            "text/plain": [
              "<Axes: ylabel='Frequency'>"
            ]
          },
          "execution_count": 24,
          "metadata": {},
          "output_type": "execute_result"
        },
        {
          "data": {
            "image/png": "[encoded data removed]",
            "text/plain": [
              "<Figure size 640x480 with 1 Axes>"
            ]
          },
          "metadata": {},
          "output_type": "display_data"
        }
      ],
      "source": [
        "df_titanic.fare.plot.hist()"
      ]
    },
    {
      "cell_type": "markdown",
      "metadata": {
        "id": "_yVtBO1WAW7l"
      },
      "source": [
        "It seems that we did not get enough resolution to really determine what is going on at the lower end of the scale. Let's ask for more bins."
      ]
    },
    {
      "cell_type": "code",
      "execution_count": 25,
      "metadata": {
        "id": "AzP5uZDSAT1Q"
      },
      "outputs": [
        {
          "data": {
            "text/plain": [
              "<Axes: ylabel='Frequency'>"
            ]
          },
          "execution_count": 25,
          "metadata": {},
          "output_type": "execute_result"
        },
        {
          "data": {
            "image/png": "[encoded data removed]",
            "text/plain": [
              "<Figure size 640x480 with 1 Axes>"
            ]
          },
          "metadata": {},
          "output_type": "display_data"
        }
      ],
      "source": [
        "df_titanic.fare.plot.hist(bins=50)"
      ]
    },
    {
      "cell_type": "markdown",
      "metadata": {
        "id": "eTpx8Rs2Ajne"
      },
      "source": [
        "From this graph, we see a concentration of values around 10-30 (which we previously identified as the \"center\") and a \"typical\" deviation of 30-50 (which we previously identified as the \"variability\"). We also see the outlier who paid more than £500. We also see features that were not obvious before: the skewed shape of the distribution, the gap between £300 and £500, and so on. This single picture has managed to convey more information than a dozen summary statistics."
      ]
    },
    {
      "cell_type": "markdown",
      "metadata": {
        "id": "rJOC6_S7AofJ"
      },
      "source": [
        "We might want to plot multiple histograms on the same graphic to make for easy comparison. To do this, we simply make multiple calls to plotting functions within the same cell. For example, if we wanted to compare the distributions of the ages of 1st class and 3rd class passengers, we could call `.plot.hist()` twice."
      ]
    },
    {
      "cell_type": "code",
      "execution_count": 26,
      "metadata": {
        "id": "gpYiV61lAbYP"
      },
      "outputs": [
        {
          "data": {
            "text/plain": [
              "<Axes: ylabel='Frequency'>"
            ]
          },
          "execution_count": 26,
          "metadata": {},
          "output_type": "execute_result"
        },
        {
          "data": {
            "image/png": "[encoded data removed]",
            "text/plain": [
              "<Figure size 640x480 with 1 Axes>"
            ]
          },
          "metadata": {},
          "output_type": "display_data"
        }
      ],
      "source": [
        "df_titanic[df_titanic[\"class\"] == \"1st\"][\"age\"].plot.hist()\n",
        "df_titanic[df_titanic[\"class\"] == \"3rd\"][\"age\"].plot.hist()"
      ]
    },
    {
      "cell_type": "markdown",
      "metadata": {
        "id": "mSJDlAx1A9nQ"
      },
      "source": [
        "Notice that `pandas` automatically plotted the two histograms using different colors. There are two problems with this plot. First, we don't know which color corresponds to which variable. Second, we cannot see the blue histogram underneath the orange histogram because the colors are opaque.\n",
        "\n",
        "To solve the first problem, we add a legend for each variable by specifying `legend=True`. The label that will be used in the legend will be the name of the `Series` by default; to customize this, we can specify the label using `label=`.\n",
        "\n",
        "To solve the second problem, we set the transparency `alpha`, which is a number between 0 and 1, with 0 being perfectly transparent and 1 being completely opaque. Try varying `alpha` to get a feel for what it does."
      ]
    },
    {
      "cell_type": "code",
      "execution_count": 27,
      "metadata": {
        "id": "TWMrPFWCAhbQ"
      },
      "outputs": [
        {
          "data": {
            "text/plain": [
              "<Axes: ylabel='Frequency'>"
            ]
          },
          "execution_count": 27,
          "metadata": {},
          "output_type": "execute_result"
        },
        {
          "data": {
            "image/png": "[encoded data removed]",
            "text/plain": [
              "<Figure size 640x480 with 1 Axes>"
            ]
          },
          "metadata": {},
          "output_type": "display_data"
        }
      ],
      "source": [
        "df_titanic[df_titanic[\"class\"] == \"1st\"][\"age\"].plot.hist(\n",
        "    label=\"1st\", legend=True, alpha=0.5\n",
        ")\n",
        "df_titanic[df_titanic[\"class\"] == \"3rd\"][\"age\"].plot.hist(\n",
        "    label=\"3rd\", legend=True, alpha=0.5\n",
        ")"
      ]
    },
    {
      "cell_type": "markdown",
      "metadata": {
        "id": "Cubp2y63BEbM"
      },
      "source": [
        "### Densities\n",
        "\n",
        "Another way to visualize the distribution of a quantitative variable is by plotting its **density**. A density plot turns the jagged histogram into a smooth curve, allowing the user to focus on the general shape of the distribution."
      ]
    },
    {
      "cell_type": "code",
      "execution_count": 31,
      "metadata": {
        "id": "roxJARIDB0jZ"
      },
      "outputs": [
        {
          "data": {
            "text/plain": [
              "<Axes: ylabel='Density'>"
            ]
          },
          "execution_count": 31,
          "metadata": {},
          "output_type": "execute_result"
        },
        {
          "data": {
            "image/png": "[encoded data removed]",
            "text/plain": [
              "<Figure size 640x480 with 1 Axes>"
            ]
          },
          "metadata": {},
          "output_type": "display_data"
        }
      ],
      "source": [
        "df_titanic.fare.plot.density()"
      ]
    },
    {
      "cell_type": "markdown",
      "metadata": {
        "id": "JAUStBW0B7ZT"
      },
      "source": [
        "The x-axis is too wide. (You cannot have negative fares.) We can set the limits of the x-axis manually using the `xlim` argument."
      ]
    },
    {
      "cell_type": "code",
      "execution_count": 32,
      "metadata": {
        "id": "GRuG5sREB-hD"
      },
      "outputs": [
        {
          "data": {
            "text/plain": [
              "<Axes: ylabel='Density'>"
            ]
          },
          "execution_count": 32,
          "metadata": {},
          "output_type": "execute_result"
        },
        {
          "data": {
            "image/png": "[encoded data removed]",
            "text/plain": [
              "<Figure size 640x480 with 1 Axes>"
            ]
          },
          "metadata": {},
          "output_type": "display_data"
        }
      ],
      "source": [
        "df_titanic.fare.plot.density(xlim=(-10, 600))"
      ]
    },
    {
      "cell_type": "markdown",
      "metadata": {
        "id": "145admmDCDtJ"
      },
      "source": [
        "Let's superimpose this density curve on top of the histogram, by making two calls to plotting functions:"
      ]
    },
    {
      "cell_type": "code",
      "execution_count": 33,
      "metadata": {
        "id": "AYvwFxGlCAlU"
      },
      "outputs": [
        {
          "data": {
            "text/plain": [
              "<Axes: ylabel='Density'>"
            ]
          },
          "execution_count": 33,
          "metadata": {},
          "output_type": "execute_result"
        },
        {
          "data": {
            "image/png": "[encoded data removed]",
            "text/plain": [
              "<Figure size 640x480 with 1 Axes>"
            ]
          },
          "metadata": {},
          "output_type": "display_data"
        }
      ],
      "source": [
        "df_titanic.fare.plot.hist(bins=50)\n",
        "df_titanic.fare.plot.density(xlim=(-10, 600))"
      ]
    },
    {
      "cell_type": "markdown",
      "metadata": {
        "id": "KZ3V-C_JCIO8"
      },
      "source": [
        "If you squint at this plot, you will see an orange line at the bottom of the plot. This is supposed to be the density. But why does it appear as a flat line? The y-axis offers a hint. When we made the density plot earlier, the y-axis extended from 0 to about 0.02. Now the y-axis extends all the way to 500. On such a scale, a curve that fluctuates between 0 and 0.02 will appear to be a flat line!\n",
        "\n",
        "The problem is that the histogram and the density are currently on different scales. By default, histograms display counts, while densities display distributions. In other words, densities are normalized so that the total *area* under the curve is 1. To be able to display a histogram and density on the same graph, we have to normalize the histogram so that the total area of the bars is 1. We can do this by setting the option `density=True`."
      ]
    },
    {
      "cell_type": "code",
      "execution_count": 42,
      "metadata": {
        "id": "zfDfgNHMCH9E"
      },
      "outputs": [
        {
          "data": {
            "text/plain": [
              "<Axes: ylabel='Density'>"
            ]
          },
          "execution_count": 42,
          "metadata": {},
          "output_type": "execute_result"
        },
        {
          "data": {
            "image/png": "[encoded data removed]",
            "text/plain": [
              "<Figure size 800x400 with 1 Axes>"
            ]
          },
          "metadata": {},
          "output_type": "display_data"
        }
      ],
      "source": [
        "df_titanic.fare.plot.hist(bins=50, density=True, figsize=(8, 4))\n",
        "df_titanic.fare.plot.density(xlim=(-10, 600), color=\"red\")"
      ]
    },
    {
      "cell_type": "markdown",
      "metadata": {
        "id": "W71GjPywCO5P"
      },
      "source": [
        "Now we can clearly see how the density smooths the histogram. It does a pretty good job for the most part, but it \"oversmooths\" near 0, missing the spike."
      ]
    },
    {
      "cell_type": "markdown",
      "metadata": {
        "id": "OtZBBzCQCSSo"
      },
      "source": [
        "You might wonder what options are available besides `legend`, `alpha`, `bins`, `density`, and `xlim`. Let's look at the documentation for `.plot.hist()`."
      ]
    },
    {
      "cell_type": "code",
      "execution_count": 35,
      "metadata": {
        "id": "B9wl_ShMCOog"
      },
      "outputs": [
        {
          "data": {
            "text/plain": [
              "<Axes: ylabel='Frequency'>"
            ]
          },
          "execution_count": 35,
          "metadata": {},
          "output_type": "execute_result"
        },
        {
          "data": {
            "image/png": "[encoded data removed]",
            "text/plain": [
              "<Figure size 640x480 with 1 Axes>"
            ]
          },
          "metadata": {},
          "output_type": "display_data"
        }
      ],
      "source": [
        "df_titanic.fare.plot.hist()"
      ]
    },
    {
      "cell_type": "markdown",
      "metadata": {
        "id": "islDILU2CbwO"
      },
      "source": [
        "The documentation for `.plot.hist()` tells us about one option, `bins`, but then refers us to `.plot()` for additional options. If you peek inside `.plot()`, you will find the `legend`, `density`, and `xlim` options, as well as many others."
      ]
    },
    {
      "cell_type": "code",
      "execution_count": 37,
      "metadata": {
        "id": "GIu2BO44Cbhd"
      },
      "outputs": [
        {
          "data": {
            "text/plain": [
              "<Axes: >"
            ]
          },
          "execution_count": 37,
          "metadata": {},
          "output_type": "execute_result"
        },
        {
          "data": {
            "image/png": "[encoded data removed]",
            "text/plain": [
              "<Figure size 640x480 with 1 Axes>"
            ]
          },
          "metadata": {},
          "output_type": "display_data"
        }
      ],
      "source": [
        "df_titanic.fare.plot()"
      ]
    },
    {
      "cell_type": "markdown",
      "metadata": {
        "id": "peaOk3u2CfvL"
      },
      "source": [
        "Try these out to get a feel for what they do. For example, can you figure out how to make the density curve red in the above graph? Or how to change the size of the figure?\n",
        "\n",
        "You might be surprised that `alpha` is not listed among the options above. This is because `alpha` is an option of the `matplotlib` plotting method that `pandas` calls. (Notice that the last argument of `.plot()` is `**kwds`, for \"options to pass to matplotlib plotting method\".)"
      ]
    }
  ],
  "metadata": {
    "colab": {
      "collapsed_sections": [
        "Z4yNNG7m87M0",
        "1fQpqJu68-0C",
        "MxcFa2EHAJCi",
        "Cubp2y63BEbM"
      ],
      "provenance": []
    },
    "kernelspec": {
      "display_name": "Python 3",
      "name": "python3"
    },
    "language_info": {
      "codemirror_mode": {
        "name": "ipython",
        "version": 3
      },
      "file_extension": ".py",
      "mimetype": "text/x-python",
      "name": "python",
      "nbconvert_exporter": "python",
      "pygments_lexer": "ipython3",
      "version": "3.9.6"
    }
  },
  "nbformat": 4,
  "nbformat_minor": 0
}
