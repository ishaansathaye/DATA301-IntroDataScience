{
  "cells": [
    {
      "cell_type": "markdown",
      "metadata": {
        "id": "uRiJZiI2UGqS"
      },
      "source": [
        "# Multi-Way Tables and Simpson's Paradox"
      ]
    },
    {
      "cell_type": "markdown",
      "metadata": {
        "id": "UepmwTW_ZbM2"
      },
      "source": [
        "In the previous lesson, we summarized two categorical variables by cross-tabulating their frequencies. Now we'll see how to introduce a third variable. We'll continue with the Titanic data set.\n",
        "\n",
        "Note: you have performed many of these calculations in a previous notebook using tables involving two variables. Now we'll see how to work with tables involving three variables."
      ]
    },
    {
      "cell_type": "code",
      "execution_count": 1,
      "metadata": {
        "id": "kKJz5H_549re"
      },
      "outputs": [],
      "source": [
        "import pandas as pd"
      ]
    },
    {
      "cell_type": "code",
      "execution_count": 2,
      "metadata": {
        "colab": {
          "base_uri": "https://localhost:8080/",
          "height": 423
        },
        "id": "mkHddwRY4-AY",
        "outputId": "c78e8ce3-319d-4454-8528-bce19ef80bce"
      },
      "outputs": [
        {
          "data": {
            "text/html": [
              "<div>\n",
              "<style scoped>\n",
              "    .dataframe tbody tr th:only-of-type {\n",
              "        vertical-align: middle;\n",
              "    }\n",
              "\n",
              "    .dataframe tbody tr th {\n",
              "        vertical-align: top;\n",
              "    }\n",
              "\n",
              "    .dataframe thead th {\n",
              "        text-align: right;\n",
              "    }\n",
              "</style>\n",
              "<table border=\"1\" class=\"dataframe\">\n",
              "  <thead>\n",
              "    <tr style=\"text-align: right;\">\n",
              "      <th></th>\n",
              "      <th>name</th>\n",
              "      <th>gender</th>\n",
              "      <th>age</th>\n",
              "      <th>class</th>\n",
              "      <th>embarked</th>\n",
              "      <th>country</th>\n",
              "      <th>ticketno</th>\n",
              "      <th>fare</th>\n",
              "      <th>survived</th>\n",
              "      <th>pclass</th>\n",
              "      <th>crew</th>\n",
              "    </tr>\n",
              "  </thead>\n",
              "  <tbody>\n",
              "    <tr>\n",
              "      <th>0</th>\n",
              "      <td>Abbing, Mr. Anthony</td>\n",
              "      <td>male</td>\n",
              "      <td>42.0</td>\n",
              "      <td>3rd</td>\n",
              "      <td>S</td>\n",
              "      <td>United States</td>\n",
              "      <td>5547.0</td>\n",
              "      <td>7.11</td>\n",
              "      <td>0</td>\n",
              "      <td>3.0</td>\n",
              "      <td>NaN</td>\n",
              "    </tr>\n",
              "    <tr>\n",
              "      <th>1</th>\n",
              "      <td>Abbott, Mr. Eugene Joseph</td>\n",
              "      <td>male</td>\n",
              "      <td>13.0</td>\n",
              "      <td>3rd</td>\n",
              "      <td>S</td>\n",
              "      <td>United States</td>\n",
              "      <td>2673.0</td>\n",
              "      <td>20.05</td>\n",
              "      <td>0</td>\n",
              "      <td>3.0</td>\n",
              "      <td>NaN</td>\n",
              "    </tr>\n",
              "    <tr>\n",
              "      <th>2</th>\n",
              "      <td>Abbott, Mr. Rossmore Edward</td>\n",
              "      <td>male</td>\n",
              "      <td>16.0</td>\n",
              "      <td>3rd</td>\n",
              "      <td>S</td>\n",
              "      <td>United States</td>\n",
              "      <td>2673.0</td>\n",
              "      <td>20.05</td>\n",
              "      <td>0</td>\n",
              "      <td>3.0</td>\n",
              "      <td>NaN</td>\n",
              "    </tr>\n",
              "    <tr>\n",
              "      <th>3</th>\n",
              "      <td>Abbott, Mrs. Rhoda Mary 'Rosa'</td>\n",
              "      <td>female</td>\n",
              "      <td>39.0</td>\n",
              "      <td>3rd</td>\n",
              "      <td>S</td>\n",
              "      <td>England</td>\n",
              "      <td>2673.0</td>\n",
              "      <td>20.05</td>\n",
              "      <td>1</td>\n",
              "      <td>3.0</td>\n",
              "      <td>NaN</td>\n",
              "    </tr>\n",
              "    <tr>\n",
              "      <th>4</th>\n",
              "      <td>Abelseth, Miss. Karen Marie</td>\n",
              "      <td>female</td>\n",
              "      <td>16.0</td>\n",
              "      <td>3rd</td>\n",
              "      <td>S</td>\n",
              "      <td>Norway</td>\n",
              "      <td>348125.0</td>\n",
              "      <td>7.13</td>\n",
              "      <td>1</td>\n",
              "      <td>3.0</td>\n",
              "      <td>NaN</td>\n",
              "    </tr>\n",
              "    <tr>\n",
              "      <th>...</th>\n",
              "      <td>...</td>\n",
              "      <td>...</td>\n",
              "      <td>...</td>\n",
              "      <td>...</td>\n",
              "      <td>...</td>\n",
              "      <td>...</td>\n",
              "      <td>...</td>\n",
              "      <td>...</td>\n",
              "      <td>...</td>\n",
              "      <td>...</td>\n",
              "      <td>...</td>\n",
              "    </tr>\n",
              "    <tr>\n",
              "      <th>2202</th>\n",
              "      <td>Wynn, Mr. Walter</td>\n",
              "      <td>male</td>\n",
              "      <td>41.0</td>\n",
              "      <td>deck crew</td>\n",
              "      <td>B</td>\n",
              "      <td>England</td>\n",
              "      <td>NaN</td>\n",
              "      <td>NaN</td>\n",
              "      <td>1</td>\n",
              "      <td>NaN</td>\n",
              "      <td>deck crew</td>\n",
              "    </tr>\n",
              "    <tr>\n",
              "      <th>2203</th>\n",
              "      <td>Yearsley, Mr. Harry</td>\n",
              "      <td>male</td>\n",
              "      <td>40.0</td>\n",
              "      <td>victualling crew</td>\n",
              "      <td>S</td>\n",
              "      <td>England</td>\n",
              "      <td>NaN</td>\n",
              "      <td>NaN</td>\n",
              "      <td>1</td>\n",
              "      <td>NaN</td>\n",
              "      <td>victualling crew</td>\n",
              "    </tr>\n",
              "    <tr>\n",
              "      <th>2204</th>\n",
              "      <td>Young, Mr. Francis James</td>\n",
              "      <td>male</td>\n",
              "      <td>32.0</td>\n",
              "      <td>engineering crew</td>\n",
              "      <td>S</td>\n",
              "      <td>England</td>\n",
              "      <td>NaN</td>\n",
              "      <td>NaN</td>\n",
              "      <td>0</td>\n",
              "      <td>NaN</td>\n",
              "      <td>engineering crew</td>\n",
              "    </tr>\n",
              "    <tr>\n",
              "      <th>2205</th>\n",
              "      <td>Zanetti, Sig. Minio</td>\n",
              "      <td>male</td>\n",
              "      <td>20.0</td>\n",
              "      <td>restaurant staff</td>\n",
              "      <td>S</td>\n",
              "      <td>England</td>\n",
              "      <td>NaN</td>\n",
              "      <td>NaN</td>\n",
              "      <td>0</td>\n",
              "      <td>NaN</td>\n",
              "      <td>restaurant staff</td>\n",
              "    </tr>\n",
              "    <tr>\n",
              "      <th>2206</th>\n",
              "      <td>Zarracchi, Sig. L.</td>\n",
              "      <td>male</td>\n",
              "      <td>26.0</td>\n",
              "      <td>restaurant staff</td>\n",
              "      <td>S</td>\n",
              "      <td>England</td>\n",
              "      <td>NaN</td>\n",
              "      <td>NaN</td>\n",
              "      <td>0</td>\n",
              "      <td>NaN</td>\n",
              "      <td>restaurant staff</td>\n",
              "    </tr>\n",
              "  </tbody>\n",
              "</table>\n",
              "<p>2207 rows × 11 columns</p>\n",
              "</div>"
            ],
            "text/plain": [
              "                                name  gender   age             class embarked   \n",
              "0                Abbing, Mr. Anthony    male  42.0               3rd        S  \\\n",
              "1          Abbott, Mr. Eugene Joseph    male  13.0               3rd        S   \n",
              "2        Abbott, Mr. Rossmore Edward    male  16.0               3rd        S   \n",
              "3     Abbott, Mrs. Rhoda Mary 'Rosa'  female  39.0               3rd        S   \n",
              "4        Abelseth, Miss. Karen Marie  female  16.0               3rd        S   \n",
              "...                              ...     ...   ...               ...      ...   \n",
              "2202                Wynn, Mr. Walter    male  41.0         deck crew        B   \n",
              "2203             Yearsley, Mr. Harry    male  40.0  victualling crew        S   \n",
              "2204        Young, Mr. Francis James    male  32.0  engineering crew        S   \n",
              "2205             Zanetti, Sig. Minio    male  20.0  restaurant staff        S   \n",
              "2206              Zarracchi, Sig. L.    male  26.0  restaurant staff        S   \n",
              "\n",
              "            country  ticketno   fare  survived  pclass              crew  \n",
              "0     United States    5547.0   7.11         0     3.0               NaN  \n",
              "1     United States    2673.0  20.05         0     3.0               NaN  \n",
              "2     United States    2673.0  20.05         0     3.0               NaN  \n",
              "3           England    2673.0  20.05         1     3.0               NaN  \n",
              "4            Norway  348125.0   7.13         1     3.0               NaN  \n",
              "...             ...       ...    ...       ...     ...               ...  \n",
              "2202        England       NaN    NaN         1     NaN         deck crew  \n",
              "2203        England       NaN    NaN         1     NaN  victualling crew  \n",
              "2204        England       NaN    NaN         0     NaN  engineering crew  \n",
              "2205        England       NaN    NaN         0     NaN  restaurant staff  \n",
              "2206        England       NaN    NaN         0     NaN  restaurant staff  \n",
              "\n",
              "[2207 rows x 11 columns]"
            ]
          },
          "execution_count": 2,
          "metadata": {},
          "output_type": "execute_result"
        }
      ],
      "source": [
        "df_titanic = pd.read_csv(\"https://raw.githubusercontent.com/kevindavisross/data301/main/data/titanic.csv\")\n",
        "df_titanic"
      ]
    },
    {
      "cell_type": "markdown",
      "metadata": {
        "id": "DA_FpXbA5Cbp"
      },
      "source": [
        "Recall that we also created the \"type\" variable (passenger or crew)."
      ]
    },
    {
      "cell_type": "code",
      "execution_count": 25,
      "metadata": {
        "id": "id7WQ9gyj23f"
      },
      "outputs": [
        {
          "data": {
            "text/plain": [
              "gender\n",
              "female    0.221568\n",
              "male      0.778432\n",
              "dtype: float64"
            ]
          },
          "execution_count": 25,
          "metadata": {},
          "output_type": "execute_result"
        }
      ],
      "source": [
        "def class_to_type(c):\n",
        "  if c in [\"1st\", \"2nd\", \"3rd\"]:\n",
        "    return \"passenger\"\n",
        "  else:\n",
        "    return \"crew\"\n",
        "\n",
        "df_titanic[\"type\"] = df_titanic[\"class\"].map(class_to_type)\n",
        "pd.crosstab(df_titanic[\"survived\"], df_titanic[\"gender\"], normalize=True).sum(axis=0)"
      ]
    },
    {
      "cell_type": "markdown",
      "metadata": {
        "id": "D1baXaBv5WFJ"
      },
      "source": [
        "We can create a two-way table to summarize the joint distribution of type and survival status for those onboard the Titanic."
      ]
    },
    {
      "cell_type": "code",
      "execution_count": 4,
      "metadata": {
        "colab": {
          "base_uri": "https://localhost:8080/",
          "height": 143
        },
        "id": "KtOW-jbM5WLT",
        "outputId": "ace29c52-b9a4-4d35-c16d-59625be610df"
      },
      "outputs": [
        {
          "data": {
            "text/html": [
              "<div>\n",
              "<style scoped>\n",
              "    .dataframe tbody tr th:only-of-type {\n",
              "        vertical-align: middle;\n",
              "    }\n",
              "\n",
              "    .dataframe tbody tr th {\n",
              "        vertical-align: top;\n",
              "    }\n",
              "\n",
              "    .dataframe thead th {\n",
              "        text-align: right;\n",
              "    }\n",
              "</style>\n",
              "<table border=\"1\" class=\"dataframe\">\n",
              "  <thead>\n",
              "    <tr style=\"text-align: right;\">\n",
              "      <th>survived</th>\n",
              "      <th>0</th>\n",
              "      <th>1</th>\n",
              "    </tr>\n",
              "    <tr>\n",
              "      <th>type</th>\n",
              "      <th></th>\n",
              "      <th></th>\n",
              "    </tr>\n",
              "  </thead>\n",
              "  <tbody>\n",
              "    <tr>\n",
              "      <th>crew</th>\n",
              "      <td>0.307657</td>\n",
              "      <td>0.095605</td>\n",
              "    </tr>\n",
              "    <tr>\n",
              "      <th>passenger</th>\n",
              "      <td>0.370186</td>\n",
              "      <td>0.226552</td>\n",
              "    </tr>\n",
              "  </tbody>\n",
              "</table>\n",
              "</div>"
            ],
            "text/plain": [
              "survived          0         1\n",
              "type                         \n",
              "crew       0.307657  0.095605\n",
              "passenger  0.370186  0.226552"
            ]
          },
          "execution_count": 4,
          "metadata": {},
          "output_type": "execute_result"
        }
      ],
      "source": [
        "joint_type_survived = pd.crosstab(\n",
        "    df_titanic[\"type\"],\n",
        "    df_titanic[\"survived\"],\n",
        "    normalize=True\n",
        ")\n",
        "\n",
        "joint_type_survived"
      ]
    },
    {
      "cell_type": "markdown",
      "metadata": {
        "id": "xgorPDfGQgP8"
      },
      "source": [
        "Each number in this table represents a joint proportion. For example:\n",
        "$$ P(\\text{crew}, \\text{survived}) = 0.095605. $$\n",
        "\n",
        "We might want to know whether crew members or passengers survived at higher rates. To do this, we have to compare the *conditional* proportions\n",
        "\\begin{align}\n",
        "P(\\text{survived} | \\text{crew}) & & \\text{vs.} & & P(\\text{survived} | \\text{passenger}).\n",
        "\\end{align}\n",
        "\n",
        "We have learned how to calculate conditional distributions using broadcasting."
      ]
    },
    {
      "cell_type": "code",
      "execution_count": 19,
      "metadata": {
        "colab": {
          "base_uri": "https://localhost:8080/",
          "height": 143
        },
        "id": "CpaMfTs5TyY6",
        "outputId": "e9e73dce-dabf-436a-fa2b-3981979a1c67"
      },
      "outputs": [
        {
          "data": {
            "text/plain": [
              "type\n",
              "crew         0.403262\n",
              "passenger    0.596738\n",
              "dtype: float64"
            ]
          },
          "execution_count": 19,
          "metadata": {},
          "output_type": "execute_result"
        }
      ],
      "source": [
        "survived_given_type = joint_type_survived.divide(\n",
        "    joint_type_survived.sum(axis=1),\n",
        "    axis=0\n",
        ")\n",
        "\n",
        "survived_given_type"
      ]
    },
    {
      "cell_type": "markdown",
      "metadata": {
        "id": "T0U4NYOewnFW"
      },
      "source": [
        "From the table, it is apparent that passengers survived at higher rates than crew members:\n",
        "$$ P(\\text{survived}|\\text{crew}) = 0.237079 < 0.379651 = P(\\text{survived}|\\text{passenger}). $$\n",
        "\n"
      ]
    },
    {
      "cell_type": "markdown",
      "metadata": {
        "id": "-KLAqbr3ll3P"
      },
      "source": [
        "## Controlling for a Variable\n",
        "\n",
        "But is this the whole story? We know also that survival rates for males and females were very different. Will the trend between the survival rates for crew and passengers still hold after we _control_ for **gender**?\n",
        "\n",
        "To do this, let's determine the joint distribution of these two variables and a third variable, **gender**. In principle, the frequencies could be represented using a three-dimensional table, but it is difficult to visualize more than two dimensions on paper or on a screen. So we put two of the variables along one dimension and one variable along the other, creating a _three-way table_."
      ]
    },
    {
      "cell_type": "code",
      "execution_count": 6,
      "metadata": {
        "colab": {
          "base_uri": "https://localhost:8080/",
          "height": 206
        },
        "id": "B7osWJ2kTz-Q",
        "outputId": "884d0a73-f371-4690-e8b6-980918a06684"
      },
      "outputs": [
        {
          "data": {
            "text/html": [
              "<div>\n",
              "<style scoped>\n",
              "    .dataframe tbody tr th:only-of-type {\n",
              "        vertical-align: middle;\n",
              "    }\n",
              "\n",
              "    .dataframe tbody tr th {\n",
              "        vertical-align: top;\n",
              "    }\n",
              "\n",
              "    .dataframe thead th {\n",
              "        text-align: right;\n",
              "    }\n",
              "</style>\n",
              "<table border=\"1\" class=\"dataframe\">\n",
              "  <thead>\n",
              "    <tr style=\"text-align: right;\">\n",
              "      <th></th>\n",
              "      <th>survived</th>\n",
              "      <th>0</th>\n",
              "      <th>1</th>\n",
              "    </tr>\n",
              "    <tr>\n",
              "      <th>gender</th>\n",
              "      <th>type</th>\n",
              "      <th></th>\n",
              "      <th></th>\n",
              "    </tr>\n",
              "  </thead>\n",
              "  <tbody>\n",
              "    <tr>\n",
              "      <th rowspan=\"2\" valign=\"top\">female</th>\n",
              "      <th>crew</th>\n",
              "      <td>0.001359</td>\n",
              "      <td>0.009062</td>\n",
              "    </tr>\n",
              "    <tr>\n",
              "      <th>passenger</th>\n",
              "      <td>0.057544</td>\n",
              "      <td>0.153602</td>\n",
              "    </tr>\n",
              "    <tr>\n",
              "      <th rowspan=\"2\" valign=\"top\">male</th>\n",
              "      <th>crew</th>\n",
              "      <td>0.306298</td>\n",
              "      <td>0.086543</td>\n",
              "    </tr>\n",
              "    <tr>\n",
              "      <th>passenger</th>\n",
              "      <td>0.312642</td>\n",
              "      <td>0.072950</td>\n",
              "    </tr>\n",
              "  </tbody>\n",
              "</table>\n",
              "</div>"
            ],
            "text/plain": [
              "survived                 0         1\n",
              "gender type                         \n",
              "female crew       0.001359  0.009062\n",
              "       passenger  0.057544  0.153602\n",
              "male   crew       0.306298  0.086543\n",
              "       passenger  0.312642  0.072950"
            ]
          },
          "execution_count": 6,
          "metadata": {},
          "output_type": "execute_result"
        }
      ],
      "source": [
        "joint_gender_type_survived = pd.crosstab(\n",
        "    [df_titanic[\"gender\"], df_titanic[\"type\"]],\n",
        "    df_titanic[\"survived\"],\n",
        "    normalize=True\n",
        ")\n",
        "\n",
        "joint_gender_type_survived"
      ]
    },
    {
      "cell_type": "markdown",
      "metadata": {
        "id": "wXI16Sz92C8R"
      },
      "source": [
        "Of course, we would have chosen any two of the variables to place along the rows, or had the two variables along the columns instead of the rows. The particular representation above was chosen because it makes it easy to find survival rates for each gender and type, i.e.,\n",
        "$$ P(\\text{survived} | \\textbf{gender}, \\textbf{type}), $$\n",
        "where **gender** is either \"male\" or \"female\" and **type** is either \"crew\" or \"passenger\". Recall that the conditional proportion is calculated as\n",
        "$$ P(\\text{survived} | \\textbf{gender}, \\textbf{type}) = \\frac{P(\\text{survived}, \\textbf{gender}, \\textbf{type})}{P(\\textbf{gender}, \\textbf{type})}. $$\n",
        "The numerator comes from the joint distribution above. The denominator can be calculated by summing over the possible values of **survived**---in other words, across each row, over the columns."
      ]
    },
    {
      "cell_type": "code",
      "execution_count": 11,
      "metadata": {
        "colab": {
          "base_uri": "https://localhost:8080/"
        },
        "id": "sykAVbOLx6-5",
        "outputId": "3ab2c048-d9bd-4c27-f9ef-ddb26b062410"
      },
      "outputs": [
        {
          "data": {
            "text/plain": [
              "gender  type     \n",
              "female  crew         0.010421\n",
              "        passenger    0.211146\n",
              "male    crew         0.392841\n",
              "        passenger    0.385591\n",
              "dtype: float64"
            ]
          },
          "execution_count": 11,
          "metadata": {},
          "output_type": "execute_result"
        }
      ],
      "source": [
        "joint_gender_type = joint_gender_type_survived.sum(axis=1)\n",
        "joint_gender_type"
      ]
    },
    {
      "cell_type": "markdown",
      "metadata": {
        "id": "grc73IHU4c4l"
      },
      "source": [
        "To obtain the conditional probabilities, we simply divide the joint distribution by the marginal."
      ]
    },
    {
      "cell_type": "code",
      "execution_count": 12,
      "metadata": {
        "colab": {
          "base_uri": "https://localhost:8080/",
          "height": 206
        },
        "id": "nFAuhAAy3kPQ",
        "outputId": "3f735517-eca6-4b70-f6a1-59c739f6b607"
      },
      "outputs": [
        {
          "data": {
            "text/html": [
              "<div>\n",
              "<style scoped>\n",
              "    .dataframe tbody tr th:only-of-type {\n",
              "        vertical-align: middle;\n",
              "    }\n",
              "\n",
              "    .dataframe tbody tr th {\n",
              "        vertical-align: top;\n",
              "    }\n",
              "\n",
              "    .dataframe thead th {\n",
              "        text-align: right;\n",
              "    }\n",
              "</style>\n",
              "<table border=\"1\" class=\"dataframe\">\n",
              "  <thead>\n",
              "    <tr style=\"text-align: right;\">\n",
              "      <th></th>\n",
              "      <th>survived</th>\n",
              "      <th>0</th>\n",
              "      <th>1</th>\n",
              "    </tr>\n",
              "    <tr>\n",
              "      <th>gender</th>\n",
              "      <th>type</th>\n",
              "      <th></th>\n",
              "      <th></th>\n",
              "    </tr>\n",
              "  </thead>\n",
              "  <tbody>\n",
              "    <tr>\n",
              "      <th rowspan=\"2\" valign=\"top\">female</th>\n",
              "      <th>crew</th>\n",
              "      <td>0.130435</td>\n",
              "      <td>0.869565</td>\n",
              "    </tr>\n",
              "    <tr>\n",
              "      <th>passenger</th>\n",
              "      <td>0.272532</td>\n",
              "      <td>0.727468</td>\n",
              "    </tr>\n",
              "    <tr>\n",
              "      <th rowspan=\"2\" valign=\"top\">male</th>\n",
              "      <th>crew</th>\n",
              "      <td>0.779700</td>\n",
              "      <td>0.220300</td>\n",
              "    </tr>\n",
              "    <tr>\n",
              "      <th>passenger</th>\n",
              "      <td>0.810811</td>\n",
              "      <td>0.189189</td>\n",
              "    </tr>\n",
              "  </tbody>\n",
              "</table>\n",
              "</div>"
            ],
            "text/plain": [
              "survived                 0         1\n",
              "gender type                         \n",
              "female crew       0.130435  0.869565\n",
              "       passenger  0.272532  0.727468\n",
              "male   crew       0.779700  0.220300\n",
              "       passenger  0.810811  0.189189"
            ]
          },
          "execution_count": 12,
          "metadata": {},
          "output_type": "execute_result"
        }
      ],
      "source": [
        "survived_given_gender_type = joint_gender_type_survived.divide(\n",
        "    joint_gender_type,\n",
        "    axis=0\n",
        ")\n",
        "\n",
        "survived_given_gender_type"
      ]
    },
    {
      "cell_type": "markdown",
      "metadata": {
        "id": "hO6Xl5uc4yeJ"
      },
      "source": [
        "Now, let's compare the survival rates of passengers and crew members for females and males separately.\n",
        "\n",
        "- For females, crew members survived at a higher rate:\n",
        "$$ P(\\text{survived} | \\text{female}, \\text{crew}) = 0.869565 > 0.727468 = P(\\text{survived} | \\text{female}, \\text{passenger}) $$\n",
        "- For males, crew members survived at a higher rate:\n",
        "$$ P(\\text{survived} | \\text{male}, \\text{crew}) = 0.220300 > 0.189189 = P(\\text{survived} | \\text{male}, \\text{passenger}) $$\n",
        "\n",
        "But remember, we found earlier that passengers survived at a higher rate overall:\n",
        "$$ P(\\text{survived}|\\text{crew}) = 0.237079 < 0.379651 = P(\\text{survived}|\\text{passenger}). $$\n",
        "\n",
        "How is it possible that both male and female crew members survived at a higher rate, yet crew members survived at a lower rate overall? This surprising phenomenon is known as _Simpson's paradox_."
      ]
    },
    {
      "cell_type": "markdown",
      "metadata": {
        "id": "A4ZGZYHU_cmQ"
      },
      "source": [
        "## Simpson's Paradox\n",
        "\n",
        "*Simpson's paradox* is a phenomenon where a relationship or trend that is present in all of several groups disappears or reverses when the data is aggregated. In the Titanic data set, both male and female crew members survived at higher rates, but when we aggregated over gender, the trend reversed.\n",
        "\n",
        "In order to investigate Simpson's paradox (and also to play with some Pandas commands), we first reorganize the proportions. First, we keep only the survival rate, dropping the death rate (since it is just one minus the survival rate)."
      ]
    },
    {
      "cell_type": "code",
      "execution_count": 13,
      "metadata": {
        "colab": {
          "base_uri": "https://localhost:8080/"
        },
        "id": "gSHq3a0p4lHc",
        "outputId": "62453d85-5821-42c0-c214-610e3f43e1d9"
      },
      "outputs": [
        {
          "data": {
            "text/plain": [
              "gender  type     \n",
              "female  crew         0.869565\n",
              "        passenger    0.727468\n",
              "male    crew         0.220300\n",
              "        passenger    0.189189\n",
              "Name: 1, dtype: float64"
            ]
          },
          "execution_count": 13,
          "metadata": {},
          "output_type": "execute_result"
        }
      ],
      "source": [
        "survived_given_gender_type[1]"
      ]
    },
    {
      "cell_type": "markdown",
      "metadata": {
        "id": "891TTK5yD4-C"
      },
      "source": [
        "Next, we rearrange these proportions into a two-way table, with gender along one dimension and type along the other. This can be achieved in code by \"unstacking\" a level of the index. (There are two \"levels\": **gender** and **type**.)"
      ]
    },
    {
      "cell_type": "code",
      "execution_count": 14,
      "metadata": {
        "colab": {
          "base_uri": "https://localhost:8080/",
          "height": 143
        },
        "id": "z_TLvYAZAuHh",
        "outputId": "b1f30556-d520-40cb-dc8c-956302df057d"
      },
      "outputs": [
        {
          "data": {
            "text/html": [
              "<div>\n",
              "<style scoped>\n",
              "    .dataframe tbody tr th:only-of-type {\n",
              "        vertical-align: middle;\n",
              "    }\n",
              "\n",
              "    .dataframe tbody tr th {\n",
              "        vertical-align: top;\n",
              "    }\n",
              "\n",
              "    .dataframe thead th {\n",
              "        text-align: right;\n",
              "    }\n",
              "</style>\n",
              "<table border=\"1\" class=\"dataframe\">\n",
              "  <thead>\n",
              "    <tr style=\"text-align: right;\">\n",
              "      <th>type</th>\n",
              "      <th>crew</th>\n",
              "      <th>passenger</th>\n",
              "    </tr>\n",
              "    <tr>\n",
              "      <th>gender</th>\n",
              "      <th></th>\n",
              "      <th></th>\n",
              "    </tr>\n",
              "  </thead>\n",
              "  <tbody>\n",
              "    <tr>\n",
              "      <th>female</th>\n",
              "      <td>0.869565</td>\n",
              "      <td>0.727468</td>\n",
              "    </tr>\n",
              "    <tr>\n",
              "      <th>male</th>\n",
              "      <td>0.220300</td>\n",
              "      <td>0.189189</td>\n",
              "    </tr>\n",
              "  </tbody>\n",
              "</table>\n",
              "</div>"
            ],
            "text/plain": [
              "type        crew  passenger\n",
              "gender                     \n",
              "female  0.869565   0.727468\n",
              "male    0.220300   0.189189"
            ]
          },
          "execution_count": 14,
          "metadata": {},
          "output_type": "execute_result"
        }
      ],
      "source": [
        "survival_rates_by_gender_type = survived_given_gender_type[1].unstack(level=\"type\")\n",
        "survival_rates_by_gender_type"
      ]
    },
    {
      "cell_type": "markdown",
      "metadata": {
        "id": "tfqITo_eERio"
      },
      "source": [
        "Caution: the proportions in this table do not represent a distribution. They do not add up to 1.0. These proportions originally came from the conditional distribution of **survived** given **gender** and **type**, but we dropped the death rates from the data.\n",
        "\n",
        "For comparison, recall that we computed the overall survival rates for each of crew and passenger as a column in `survived_given_type`. Let's extract that column (which will be a Series), convert it to a DataFrame (`to_frame()`) and treat it as a row (`T` for transpose)."
      ]
    },
    {
      "cell_type": "code",
      "execution_count": 15,
      "metadata": {
        "colab": {
          "base_uri": "https://localhost:8080/",
          "height": 80
        },
        "id": "pGHSG0Xi-4-Q",
        "outputId": "9304f549-5031-468b-8142-2d7211654aad"
      },
      "outputs": [
        {
          "data": {
            "text/html": [
              "<div>\n",
              "<style scoped>\n",
              "    .dataframe tbody tr th:only-of-type {\n",
              "        vertical-align: middle;\n",
              "    }\n",
              "\n",
              "    .dataframe tbody tr th {\n",
              "        vertical-align: top;\n",
              "    }\n",
              "\n",
              "    .dataframe thead th {\n",
              "        text-align: right;\n",
              "    }\n",
              "</style>\n",
              "<table border=\"1\" class=\"dataframe\">\n",
              "  <thead>\n",
              "    <tr style=\"text-align: right;\">\n",
              "      <th>type</th>\n",
              "      <th>crew</th>\n",
              "      <th>passenger</th>\n",
              "    </tr>\n",
              "  </thead>\n",
              "  <tbody>\n",
              "    <tr>\n",
              "      <th>1</th>\n",
              "      <td>0.237079</td>\n",
              "      <td>0.379651</td>\n",
              "    </tr>\n",
              "  </tbody>\n",
              "</table>\n",
              "</div>"
            ],
            "text/plain": [
              "type      crew  passenger\n",
              "1     0.237079   0.379651"
            ]
          },
          "execution_count": 15,
          "metadata": {},
          "output_type": "execute_result"
        }
      ],
      "source": [
        "survival_rates_by_type = survived_given_type[1].to_frame().T\n",
        "survival_rates_by_type"
      ]
    },
    {
      "cell_type": "markdown",
      "metadata": {
        "id": "mVzg1B3xB9Zb"
      },
      "source": [
        "Now we can append the overall survival rates to `survival_rates_by_gender_type` using `pd.concat`, which stacks the rows of two data frames on top of one another."
      ]
    },
    {
      "cell_type": "code",
      "execution_count": 16,
      "metadata": {
        "colab": {
          "base_uri": "https://localhost:8080/",
          "height": 143
        },
        "id": "MXlkaYF5A98_",
        "outputId": "d9d4fd51-941d-4aa0-cbad-b72c3582b117"
      },
      "outputs": [
        {
          "data": {
            "text/html": [
              "<div>\n",
              "<style scoped>\n",
              "    .dataframe tbody tr th:only-of-type {\n",
              "        vertical-align: middle;\n",
              "    }\n",
              "\n",
              "    .dataframe tbody tr th {\n",
              "        vertical-align: top;\n",
              "    }\n",
              "\n",
              "    .dataframe thead th {\n",
              "        text-align: right;\n",
              "    }\n",
              "</style>\n",
              "<table border=\"1\" class=\"dataframe\">\n",
              "  <thead>\n",
              "    <tr style=\"text-align: right;\">\n",
              "      <th>type</th>\n",
              "      <th>crew</th>\n",
              "      <th>passenger</th>\n",
              "    </tr>\n",
              "  </thead>\n",
              "  <tbody>\n",
              "    <tr>\n",
              "      <th>female</th>\n",
              "      <td>0.869565</td>\n",
              "      <td>0.727468</td>\n",
              "    </tr>\n",
              "    <tr>\n",
              "      <th>male</th>\n",
              "      <td>0.220300</td>\n",
              "      <td>0.189189</td>\n",
              "    </tr>\n",
              "    <tr>\n",
              "      <th>1</th>\n",
              "      <td>0.237079</td>\n",
              "      <td>0.379651</td>\n",
              "    </tr>\n",
              "  </tbody>\n",
              "</table>\n",
              "</div>"
            ],
            "text/plain": [
              "type        crew  passenger\n",
              "female  0.869565   0.727468\n",
              "male    0.220300   0.189189\n",
              "1       0.237079   0.379651"
            ]
          },
          "execution_count": 16,
          "metadata": {},
          "output_type": "execute_result"
        }
      ],
      "source": [
        "pd.concat([survival_rates_by_gender_type, survival_rates_by_type])"
      ]
    },
    {
      "cell_type": "markdown",
      "metadata": {
        "id": "2DJtoUFbFsoS"
      },
      "source": [
        "The overall survival rates are weighted averages of the survival rates for each gender. If we look at the survival rates for crew members:\n",
        "\n",
        "- The survival rate for female crew is 87.0%.\n",
        "- The survival rate for male crew is 22.0%.\n",
        "- The overall survival rate for all crew is 23.7%, which is between the gender-specific survival rates, but much closer to the survival rate for male crew.\n",
        "\n",
        "Likewise, if we look at the survival rates for passengers:\n",
        "\n",
        "- The survival rate for female passengers is 72.7%.\n",
        "- The survival rate for male passengers is 18.9%.\n",
        "- The overall survival rate for all passenger is 38.0%, which is closer to the middle of the gender-specific survival rates.\n",
        "\n",
        "Why would the survival rate for crew members be so close to the survival rate for male crew? To answer this question, let's examine the weights that go into this weighted average."
      ]
    },
    {
      "cell_type": "markdown",
      "metadata": {
        "id": "kpberZC6JgcS"
      },
      "source": [
        "In mathematical notation, the overall survival rate can be decomposed as:\n",
        "$$ \\underbrace{P(\\text{survived} | \\textbf{type})}_{\\text{overall survival rate}} = \\sum_{\\textbf{gender}} \\underbrace{P(\\textbf{gender} | \\textbf{type})}_{\\text{weight}} \\underbrace{P(\\text{survived} | \\textbf{gender}, \\textbf{type})}_{\\text{gender-specific survival rate}}. $$\n",
        "So we see that the weights are $P(\\textbf{gender} | \\textbf{type})$.\n",
        "\n",
        "First, we calculate this conditional distribution from the joint distribution of **gender** and **type**."
      ]
    },
    {
      "cell_type": "code",
      "execution_count": 17,
      "metadata": {
        "colab": {
          "base_uri": "https://localhost:8080/",
          "height": 143
        },
        "id": "RFbY1iHjD0Op",
        "outputId": "32345c51-1160-44f3-ce83-4abb86a9a10e"
      },
      "outputs": [
        {
          "data": {
            "text/html": [
              "<div>\n",
              "<style scoped>\n",
              "    .dataframe tbody tr th:only-of-type {\n",
              "        vertical-align: middle;\n",
              "    }\n",
              "\n",
              "    .dataframe tbody tr th {\n",
              "        vertical-align: top;\n",
              "    }\n",
              "\n",
              "    .dataframe thead th {\n",
              "        text-align: right;\n",
              "    }\n",
              "</style>\n",
              "<table border=\"1\" class=\"dataframe\">\n",
              "  <thead>\n",
              "    <tr style=\"text-align: right;\">\n",
              "      <th>type</th>\n",
              "      <th>crew</th>\n",
              "      <th>passenger</th>\n",
              "    </tr>\n",
              "    <tr>\n",
              "      <th>gender</th>\n",
              "      <th></th>\n",
              "      <th></th>\n",
              "    </tr>\n",
              "  </thead>\n",
              "  <tbody>\n",
              "    <tr>\n",
              "      <th>female</th>\n",
              "      <td>0.025843</td>\n",
              "      <td>0.353834</td>\n",
              "    </tr>\n",
              "    <tr>\n",
              "      <th>male</th>\n",
              "      <td>0.974157</td>\n",
              "      <td>0.646166</td>\n",
              "    </tr>\n",
              "  </tbody>\n",
              "</table>\n",
              "</div>"
            ],
            "text/plain": [
              "type        crew  passenger\n",
              "gender                     \n",
              "female  0.025843   0.353834\n",
              "male    0.974157   0.646166"
            ]
          },
          "execution_count": 17,
          "metadata": {},
          "output_type": "execute_result"
        }
      ],
      "source": [
        "joint_gender_type = pd.crosstab(\n",
        "    df_titanic[\"gender\"],\n",
        "    df_titanic[\"type\"],\n",
        "    normalize=True\n",
        ")\n",
        "\n",
        "gender_given_type = joint_gender_type.divide(\n",
        "    joint_gender_type.sum(axis=0),\n",
        "    axis=1\n",
        ")\n",
        "\n",
        "gender_given_type"
      ]
    },
    {
      "cell_type": "markdown",
      "metadata": {
        "id": "YRPNUw50LYK5"
      },
      "source": [
        "Notice that 97.4% of crew members were male! So the lower male survival rate is going to dominate the weighted average when we calculate the overall survival rate for crew members. On the other hand, the gender ratio for passengers was more balanced, so their overall survival rate will end up being closer to the middle of the male and female survival rates.\n",
        "\n",
        "Now, we calculate the weighted average, using the conditional distribution of gender as \"weights\" that we multiply by the survival rates. Then, we sum over the genders to get the weighted averages---i.e., the overall survival rates."
      ]
    },
    {
      "cell_type": "code",
      "execution_count": 18,
      "metadata": {
        "colab": {
          "base_uri": "https://localhost:8080/"
        },
        "id": "IdYvc3FxEf4b",
        "outputId": "534efc0e-9266-4341-cf69-0ccbbc3c6d28"
      },
      "outputs": [
        {
          "data": {
            "text/plain": [
              "type\n",
              "crew         0.237079\n",
              "passenger    0.379651\n",
              "dtype: float64"
            ]
          },
          "execution_count": 18,
          "metadata": {},
          "output_type": "execute_result"
        }
      ],
      "source": [
        "(gender_given_type * survival_rates_by_gender_type).sum(axis=0)"
      ]
    },
    {
      "cell_type": "markdown",
      "metadata": {
        "id": "-7wX2B2AL9Eu"
      },
      "source": [
        "Check that these match the overall survival rates that we calculated above.\n",
        "\n",
        "So the secret of Simpson's Paradox lies in two facts:\n",
        "\n",
        "1. Survival rates were generally much lower for males than for females.\n",
        "2. Because crew members were predominantly male, their survival rate was weighted towards the lower male survival rate, that their overall survival rate ended up being lower than the survival rate for passengers.\n",
        "\n",
        "Simpson's Paradox means that we have to be careful when comparing proportions from a two-way table, such as survival rates for crew and passengers. When we control for a third variable, such as **gender**, the direction of the effect could change!"
      ]
    }
  ],
  "metadata": {
    "colab": {
      "collapsed_sections": [
        "P3k8BVALo1-z"
      ],
      "provenance": []
    },
    "kernelspec": {
      "display_name": "Python 3",
      "name": "python3"
    },
    "language_info": {
      "codemirror_mode": {
        "name": "ipython",
        "version": 3
      },
      "file_extension": ".py",
      "mimetype": "text/x-python",
      "name": "python",
      "nbconvert_exporter": "python",
      "pygments_lexer": "ipython3",
      "version": "3.9.6"
    }
  },
  "nbformat": 4,
  "nbformat_minor": 0
}
