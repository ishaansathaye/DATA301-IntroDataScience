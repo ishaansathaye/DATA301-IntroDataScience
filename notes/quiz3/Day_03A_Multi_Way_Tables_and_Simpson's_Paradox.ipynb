{
  "cells": [
    {
      "cell_type": "markdown",
      "metadata": {
        "id": "iV6TwnqR0LWV"
      },
      "source": [
        "## COVID DATA\n",
        "\n",
        "You have observed:\n",
        "\n",
        "- The overall fatality rate is higher for Portugal (4.3%) than Colombia (3.2%)\n",
        "- Within each group group, the fatality rate is higher for Colombia than for Portugal\n",
        "\n",
        "This is an example of Simpson's paradox. Why is that happening for this data? Make a guess before proceeding."
      ]
    },
    {
      "cell_type": "code",
      "execution_count": 1,
      "metadata": {
        "id": "ibNz5snKK4d-"
      },
      "outputs": [],
      "source": [
        "import pandas as pd"
      ]
    },
    {
      "cell_type": "code",
      "execution_count": 2,
      "metadata": {
        "id": "JhMk2QvSK40R"
      },
      "outputs": [
        {
          "data": {
            "text/html": [
              "<div>\n",
              "<style scoped>\n",
              "    .dataframe tbody tr th:only-of-type {\n",
              "        vertical-align: middle;\n",
              "    }\n",
              "\n",
              "    .dataframe tbody tr th {\n",
              "        vertical-align: top;\n",
              "    }\n",
              "\n",
              "    .dataframe thead th {\n",
              "        text-align: right;\n",
              "    }\n",
              "</style>\n",
              "<table border=\"1\" class=\"dataframe\">\n",
              "  <thead>\n",
              "    <tr style=\"text-align: right;\">\n",
              "      <th></th>\n",
              "      <th>age</th>\n",
              "      <th>sex</th>\n",
              "      <th>fatality</th>\n",
              "    </tr>\n",
              "  </thead>\n",
              "  <tbody>\n",
              "    <tr>\n",
              "      <th>0</th>\n",
              "      <td>60-69</td>\n",
              "      <td>Female</td>\n",
              "      <td>0</td>\n",
              "    </tr>\n",
              "    <tr>\n",
              "      <th>1</th>\n",
              "      <td>60-69</td>\n",
              "      <td>Male</td>\n",
              "      <td>0</td>\n",
              "    </tr>\n",
              "    <tr>\n",
              "      <th>2</th>\n",
              "      <td>80+</td>\n",
              "      <td>Male</td>\n",
              "      <td>0</td>\n",
              "    </tr>\n",
              "    <tr>\n",
              "      <th>3</th>\n",
              "      <td>60-69</td>\n",
              "      <td>Female</td>\n",
              "      <td>0</td>\n",
              "    </tr>\n",
              "    <tr>\n",
              "      <th>4</th>\n",
              "      <td>50-59</td>\n",
              "      <td>Female</td>\n",
              "      <td>0</td>\n",
              "    </tr>\n",
              "    <tr>\n",
              "      <th>...</th>\n",
              "      <td>...</td>\n",
              "      <td>...</td>\n",
              "      <td>...</td>\n",
              "    </tr>\n",
              "    <tr>\n",
              "      <th>31591</th>\n",
              "      <td>40-49</td>\n",
              "      <td>Male</td>\n",
              "      <td>0</td>\n",
              "    </tr>\n",
              "    <tr>\n",
              "      <th>31592</th>\n",
              "      <td>30-39</td>\n",
              "      <td>Male</td>\n",
              "      <td>0</td>\n",
              "    </tr>\n",
              "    <tr>\n",
              "      <th>31593</th>\n",
              "      <td>80+</td>\n",
              "      <td>Female</td>\n",
              "      <td>0</td>\n",
              "    </tr>\n",
              "    <tr>\n",
              "      <th>31594</th>\n",
              "      <td>40-49</td>\n",
              "      <td>Female</td>\n",
              "      <td>0</td>\n",
              "    </tr>\n",
              "    <tr>\n",
              "      <th>31595</th>\n",
              "      <td>70-79</td>\n",
              "      <td>Female</td>\n",
              "      <td>0</td>\n",
              "    </tr>\n",
              "  </tbody>\n",
              "</table>\n",
              "<p>31596 rows × 3 columns</p>\n",
              "</div>"
            ],
            "text/plain": [
              "         age     sex  fatality\n",
              "0      60-69  Female         0\n",
              "1      60-69    Male         0\n",
              "2        80+    Male         0\n",
              "3      60-69  Female         0\n",
              "4      50-59  Female         0\n",
              "...      ...     ...       ...\n",
              "31591  40-49    Male         0\n",
              "31592  30-39    Male         0\n",
              "31593    80+  Female         0\n",
              "31594  40-49  Female         0\n",
              "31595  70-79  Female         0\n",
              "\n",
              "[31596 rows x 3 columns]"
            ]
          },
          "execution_count": 2,
          "metadata": {},
          "output_type": "execute_result"
        }
      ],
      "source": [
        "df_PT = pd.read_csv(\"https://raw.githubusercontent.com/kevindavisross/data301/main/data/portugal_2020-05-28.csv\")\n",
        "df_PT"
      ]
    },
    {
      "cell_type": "code",
      "execution_count": 3,
      "metadata": {
        "id": "5qI_b2DMK_Jl"
      },
      "outputs": [
        {
          "data": {
            "text/html": [
              "<div>\n",
              "<style scoped>\n",
              "    .dataframe tbody tr th:only-of-type {\n",
              "        vertical-align: middle;\n",
              "    }\n",
              "\n",
              "    .dataframe tbody tr th {\n",
              "        vertical-align: top;\n",
              "    }\n",
              "\n",
              "    .dataframe thead th {\n",
              "        text-align: right;\n",
              "    }\n",
              "</style>\n",
              "<table border=\"1\" class=\"dataframe\">\n",
              "  <thead>\n",
              "    <tr style=\"text-align: right;\">\n",
              "      <th></th>\n",
              "      <th>Departamento</th>\n",
              "      <th>Edad</th>\n",
              "      <th>Sexo</th>\n",
              "      <th>Tipo</th>\n",
              "      <th>Ubicación</th>\n",
              "      <th>Estado</th>\n",
              "      <th>Fecha de inicio de síntomas</th>\n",
              "      <th>Fecha de muerte</th>\n",
              "      <th>Fecha de diagnóstico</th>\n",
              "      <th>Fecha recuperado</th>\n",
              "      <th>fatality</th>\n",
              "      <th>age</th>\n",
              "    </tr>\n",
              "  </thead>\n",
              "  <tbody>\n",
              "    <tr>\n",
              "      <th>0</th>\n",
              "      <td>Bogotá D.C.</td>\n",
              "      <td>19</td>\n",
              "      <td>F</td>\n",
              "      <td>Importado</td>\n",
              "      <td>Recuperado</td>\n",
              "      <td>Leve</td>\n",
              "      <td>2020-02-27</td>\n",
              "      <td>-   -</td>\n",
              "      <td>2020-03-06</td>\n",
              "      <td>2020-03-13</td>\n",
              "      <td>0.0</td>\n",
              "      <td>10-19</td>\n",
              "    </tr>\n",
              "    <tr>\n",
              "      <th>1</th>\n",
              "      <td>Valle del Cauca</td>\n",
              "      <td>34</td>\n",
              "      <td>M</td>\n",
              "      <td>Importado</td>\n",
              "      <td>Recuperado</td>\n",
              "      <td>Leve</td>\n",
              "      <td>2020-03-04</td>\n",
              "      <td>-   -</td>\n",
              "      <td>2020-03-09</td>\n",
              "      <td>2020-03-19</td>\n",
              "      <td>0.0</td>\n",
              "      <td>30-39</td>\n",
              "    </tr>\n",
              "    <tr>\n",
              "      <th>2</th>\n",
              "      <td>Antioquia</td>\n",
              "      <td>50</td>\n",
              "      <td>F</td>\n",
              "      <td>Importado</td>\n",
              "      <td>Recuperado</td>\n",
              "      <td>Leve</td>\n",
              "      <td>2020-02-29</td>\n",
              "      <td>-   -</td>\n",
              "      <td>2020-03-09</td>\n",
              "      <td>2020-03-15</td>\n",
              "      <td>0.0</td>\n",
              "      <td>50-59</td>\n",
              "    </tr>\n",
              "    <tr>\n",
              "      <th>3</th>\n",
              "      <td>Antioquia</td>\n",
              "      <td>55</td>\n",
              "      <td>M</td>\n",
              "      <td>Relacionado</td>\n",
              "      <td>Recuperado</td>\n",
              "      <td>Leve</td>\n",
              "      <td>2020-03-06</td>\n",
              "      <td>-   -</td>\n",
              "      <td>2020-03-11</td>\n",
              "      <td>2020-03-26</td>\n",
              "      <td>0.0</td>\n",
              "      <td>50-59</td>\n",
              "    </tr>\n",
              "    <tr>\n",
              "      <th>4</th>\n",
              "      <td>Antioquia</td>\n",
              "      <td>25</td>\n",
              "      <td>M</td>\n",
              "      <td>Relacionado</td>\n",
              "      <td>Recuperado</td>\n",
              "      <td>Leve</td>\n",
              "      <td>2020-03-08</td>\n",
              "      <td>-   -</td>\n",
              "      <td>2020-03-11</td>\n",
              "      <td>2020-03-23</td>\n",
              "      <td>0.0</td>\n",
              "      <td>20-29</td>\n",
              "    </tr>\n",
              "    <tr>\n",
              "      <th>...</th>\n",
              "      <td>...</td>\n",
              "      <td>...</td>\n",
              "      <td>...</td>\n",
              "      <td>...</td>\n",
              "      <td>...</td>\n",
              "      <td>...</td>\n",
              "      <td>...</td>\n",
              "      <td>...</td>\n",
              "      <td>...</td>\n",
              "      <td>...</td>\n",
              "      <td>...</td>\n",
              "      <td>...</td>\n",
              "    </tr>\n",
              "    <tr>\n",
              "      <th>25361</th>\n",
              "      <td>Buenaventura D.E.</td>\n",
              "      <td>48</td>\n",
              "      <td>M</td>\n",
              "      <td>En estudio</td>\n",
              "      <td>Hospital</td>\n",
              "      <td>Moderado</td>\n",
              "      <td>2020-05-12</td>\n",
              "      <td>-   -</td>\n",
              "      <td>2020-05-28</td>\n",
              "      <td>NaN</td>\n",
              "      <td>0.0</td>\n",
              "      <td>40-49</td>\n",
              "    </tr>\n",
              "    <tr>\n",
              "      <th>25362</th>\n",
              "      <td>Valle del Cauca</td>\n",
              "      <td>55</td>\n",
              "      <td>F</td>\n",
              "      <td>En estudio</td>\n",
              "      <td>Casa</td>\n",
              "      <td>Leve</td>\n",
              "      <td>2020-05-21</td>\n",
              "      <td>/  /</td>\n",
              "      <td>2020-05-28</td>\n",
              "      <td>NaN</td>\n",
              "      <td>0.0</td>\n",
              "      <td>50-59</td>\n",
              "    </tr>\n",
              "    <tr>\n",
              "      <th>25363</th>\n",
              "      <td>Buenaventura D.E.</td>\n",
              "      <td>39</td>\n",
              "      <td>F</td>\n",
              "      <td>En estudio</td>\n",
              "      <td>Casa</td>\n",
              "      <td>Leve</td>\n",
              "      <td>2020-05-23</td>\n",
              "      <td>/  /</td>\n",
              "      <td>2020-05-28</td>\n",
              "      <td>NaN</td>\n",
              "      <td>0.0</td>\n",
              "      <td>30-39</td>\n",
              "    </tr>\n",
              "    <tr>\n",
              "      <th>25364</th>\n",
              "      <td>Valle del Cauca</td>\n",
              "      <td>13</td>\n",
              "      <td>F</td>\n",
              "      <td>En estudio</td>\n",
              "      <td>Casa</td>\n",
              "      <td>Leve</td>\n",
              "      <td>2020-05-13</td>\n",
              "      <td>/  /</td>\n",
              "      <td>2020-05-28</td>\n",
              "      <td>NaN</td>\n",
              "      <td>0.0</td>\n",
              "      <td>10-19</td>\n",
              "    </tr>\n",
              "    <tr>\n",
              "      <th>25365</th>\n",
              "      <td>Córdoba</td>\n",
              "      <td>0</td>\n",
              "      <td>F</td>\n",
              "      <td>En estudio</td>\n",
              "      <td>Hospital</td>\n",
              "      <td>Moderado</td>\n",
              "      <td>2020-05-11</td>\n",
              "      <td>-   -</td>\n",
              "      <td>2020-05-28</td>\n",
              "      <td>NaN</td>\n",
              "      <td>0.0</td>\n",
              "      <td>0-9</td>\n",
              "    </tr>\n",
              "  </tbody>\n",
              "</table>\n",
              "<p>25366 rows × 12 columns</p>\n",
              "</div>"
            ],
            "text/plain": [
              "            Departamento  Edad Sexo         Tipo   Ubicación    Estado   \n",
              "0            Bogotá D.C.    19    F    Importado  Recuperado      Leve  \\\n",
              "1        Valle del Cauca    34    M    Importado  Recuperado      Leve   \n",
              "2              Antioquia    50    F    Importado  Recuperado      Leve   \n",
              "3              Antioquia    55    M  Relacionado  Recuperado      Leve   \n",
              "4              Antioquia    25    M  Relacionado  Recuperado      Leve   \n",
              "...                  ...   ...  ...          ...         ...       ...   \n",
              "25361  Buenaventura D.E.    48    M   En estudio    Hospital  Moderado   \n",
              "25362    Valle del Cauca    55    F   En estudio        Casa      Leve   \n",
              "25363  Buenaventura D.E.    39    F   En estudio        Casa      Leve   \n",
              "25364    Valle del Cauca    13    F   En estudio        Casa      Leve   \n",
              "25365            Córdoba     0    F   En estudio    Hospital  Moderado   \n",
              "\n",
              "      Fecha de inicio de síntomas Fecha de muerte Fecha de diagnóstico   \n",
              "0                      2020-02-27           -   -           2020-03-06  \\\n",
              "1                      2020-03-04           -   -           2020-03-09   \n",
              "2                      2020-02-29           -   -           2020-03-09   \n",
              "3                      2020-03-06           -   -           2020-03-11   \n",
              "4                      2020-03-08           -   -           2020-03-11   \n",
              "...                           ...             ...                  ...   \n",
              "25361                  2020-05-12           -   -           2020-05-28   \n",
              "25362                  2020-05-21            /  /           2020-05-28   \n",
              "25363                  2020-05-23            /  /           2020-05-28   \n",
              "25364                  2020-05-13            /  /           2020-05-28   \n",
              "25365                  2020-05-11           -   -           2020-05-28   \n",
              "\n",
              "      Fecha recuperado  fatality    age  \n",
              "0           2020-03-13       0.0  10-19  \n",
              "1           2020-03-19       0.0  30-39  \n",
              "2           2020-03-15       0.0  50-59  \n",
              "3           2020-03-26       0.0  50-59  \n",
              "4           2020-03-23       0.0  20-29  \n",
              "...                ...       ...    ...  \n",
              "25361              NaN       0.0  40-49  \n",
              "25362              NaN       0.0  50-59  \n",
              "25363              NaN       0.0  30-39  \n",
              "25364              NaN       0.0  10-19  \n",
              "25365              NaN       0.0    0-9  \n",
              "\n",
              "[25366 rows x 12 columns]"
            ]
          },
          "execution_count": 3,
          "metadata": {},
          "output_type": "execute_result"
        }
      ],
      "source": [
        "df_CO = pd.read_csv(\"https://raw.githubusercontent.com/kevindavisross/data301/main/data/colombia_2020-05-28.csv\")\n",
        "\n",
        "df_CO[\"fatality\"] = df_CO[\"Estado\"].map({\n",
        "    \"Fallecido\": 1\n",
        "}).fillna(0)\n",
        "\n",
        "df_CO[\"age\"] = pd.cut(\n",
        "    df_CO[\"Edad\"],\n",
        "    bins=[0, 10, 20, 30, 40, 50, 60, 70, 80, 120],\n",
        "    labels=[\"0-9\", \"10-19\", \"20-29\", \"30-39\", \"40-49\", \"50-59\", \"60-69\", \"70-79\", \"80+\"],\n",
        "    right=False)\n",
        "\n",
        "# Look for new columns called \"fatality\" and \"age\" in the DataFrame.\n",
        "df_CO"
      ]
    },
    {
      "cell_type": "markdown",
      "metadata": {
        "id": "GOAQIG_3JBZE"
      },
      "source": [
        "Make a side-by-side bar chart comparing the age distributions in the two countries. (Be sure to arrange the columns in the appropriate order.)"
      ]
    },
    {
      "cell_type": "code",
      "execution_count": 42,
      "metadata": {
        "id": "GdvYyXRO0Lgl"
      },
      "outputs": [
        {
          "data": {
            "text/plain": [
              "<Axes: xlabel='age'>"
            ]
          },
          "execution_count": 42,
          "metadata": {},
          "output_type": "execute_result"
        },
        {
          "data": {
            "image/png": "[encoded data removed]",
            "text/plain": [
              "<Figure size 640x480 with 1 Axes>"
            ]
          },
          "metadata": {},
          "output_type": "display_data"
        }
      ],
      "source": [
        "# YOUR CODE HERE\n",
        "# Make a side-by-side bar chart comparing the age distributions in the two countries. (Be sure to arrange the columns in the appropriate order.)\n",
        "together = pd.concat([df_CO[\"age\"].value_counts(normalize=True).sort_index(), df_PT[\"age\"].value_counts(normalize=True).sort_index()], axis=1)\n",
        "together.columns = [\"Colombia\", \"Portugal\"]\n",
        "together.plot.bar()"
      ]
    },
    {
      "cell_type": "markdown",
      "metadata": {
        "id": "7B7-5P3OKEVW"
      },
      "source": [
        "Make a bar chart displaying the fatality rate of the two countries combined for each age. (*Hint*: use `pd.concat` to combine the two data frames.)"
      ]
    },
    {
      "cell_type": "code",
      "execution_count": 41,
      "metadata": {},
      "outputs": [
        {
          "data": {
            "text/plain": [
              "<Axes: xlabel='age'>"
            ]
          },
          "execution_count": 41,
          "metadata": {},
          "output_type": "execute_result"
        },
        {
          "data": {
            "image/png": "[encoded data removed]",
            "text/plain": [
              "<Figure size 640x480 with 1 Axes>"
            ]
          },
          "metadata": {},
          "output_type": "display_data"
        }
      ],
      "source": [
        "joint_CO = pd.crosstab(df_CO[\"age\"], df_CO[\"fatality\"], normalize=True)\n",
        "marginal_fatalities_CO = joint_CO.sum(axis=1)\n",
        "cond_CO = joint_CO[1].divide(marginal_fatalities_CO, axis=0)\n",
        "\n",
        "joint_PT = pd.crosstab(df_PT[\"age\"], df_PT[\"fatality\"], normalize=True)\n",
        "marginal_fatalities_PT = joint_PT.sum(axis=1)\n",
        "cond_PT = joint_PT[1].divide(marginal_fatalities_PT, axis=0)\n",
        "\n",
        "together = pd.concat([cond_CO, cond_PT], axis=1)\n",
        "together.columns = [\"CO\", \"PT\"]\n",
        "together.plot.bar()"
      ]
    },
    {
      "cell_type": "markdown",
      "metadata": {
        "id": "02ZS37NuO_si"
      },
      "source": [
        "Write a few clearly worded sentences explaining why Simpson's paradox is happening in this data set."
      ]
    },
    {
      "cell_type": "markdown",
      "metadata": {
        "id": "vSHU5CB1PAZE"
      },
      "source": [
        "**YOUR RESPONSE HERE.**\n",
        "\n",
        "It seems when we look at the data as a whole, Portugal has a higher fatality rate than Colombia. However, when we look at the data by age group, we see that Portugal has a lower fatality rate than Colombia for every age group. This is an example of Simpson's paradox because the trend reverses when we look at the data by age group."
      ]
    }
  ],
  "metadata": {
    "colab": {
      "provenance": []
    },
    "kernelspec": {
      "display_name": "Python 3",
      "language": "python",
      "name": "python3"
    },
    "language_info": {
      "codemirror_mode": {
        "name": "ipython",
        "version": 3
      },
      "file_extension": ".py",
      "mimetype": "text/x-python",
      "name": "python",
      "nbconvert_exporter": "python",
      "pygments_lexer": "ipython3",
      "version": "3.9.6"
    }
  },
  "nbformat": 4,
  "nbformat_minor": 0
}
