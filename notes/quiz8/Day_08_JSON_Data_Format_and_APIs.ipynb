{
  "nbformat": 4,
  "nbformat_minor": 0,
  "metadata": {
    "colab": {
      "provenance": []
    },
    "kernelspec": {
      "name": "python3",
      "display_name": "Python 3"
    },
    "language_info": {
      "name": "python"
    }
  },
  "cells": [
    {
      "cell_type": "markdown",
      "source": [
        "# Hierarchical Data, the JSON Data Format, and APIs"
      ],
      "metadata": {
        "id": "OgXDIeTMHTSE"
      }
    },
    {
      "cell_type": "code",
      "source": [
        "import pandas as pd"
      ],
      "metadata": {
        "id": "OoFDWOOTHTa8"
      },
      "execution_count": null,
      "outputs": []
    },
    {
      "cell_type": "markdown",
      "source": [
        "## Shows Data\n",
        "\n",
        "First we'll work with the \"Girls\" shows JSON data from the reading."
      ],
      "metadata": {
        "id": "f-gpLYS873Q4"
      }
    },
    {
      "cell_type": "code",
      "source": [
        "# Fetch data from a URL\n",
        "import requests\n",
        "response = requests.get(\"https://dlsun.github.io/pods/data/tvshows.json\")\n",
        "\n",
        "import json\n",
        "data_shows = response.json()"
      ],
      "metadata": {
        "id": "D0FCuFp373e5"
      },
      "execution_count": null,
      "outputs": []
    },
    {
      "cell_type": "code",
      "source": [
        "df_shows = pd.json_normalize(data_shows)\n",
        "df_shows"
      ],
      "metadata": {
        "id": "OLdK3Bjn_Nvk"
      },
      "execution_count": null,
      "outputs": []
    },
    {
      "cell_type": "markdown",
      "source": [
        "1\\. Summarize the networks represented by these shows and the number of these shows that aired on each network."
      ],
      "metadata": {
        "id": "D6UZ2LiGCfIk"
      }
    },
    {
      "cell_type": "code",
      "source": [
        "# YOUR CODE HERE. ADD CELLS AS NEEDED"
      ],
      "metadata": {
        "id": "z3HLNEHZFo5J"
      },
      "execution_count": null,
      "outputs": []
    },
    {
      "cell_type": "markdown",
      "source": [
        "2\\. Find the number of seasons for each show in the data. Do this two ways: one which uses `df_shows`, and another that first flattens `data_shows` to a different data frame."
      ],
      "metadata": {
        "id": "kxNnaktaCjeO"
      }
    },
    {
      "cell_type": "code",
      "source": [
        "# YOUR CODE HERE. ADD CELLS AS NEEDED"
      ],
      "metadata": {
        "id": "cIY5Wsd6TaUH"
      },
      "execution_count": null,
      "outputs": []
    },
    {
      "cell_type": "markdown",
      "source": [
        "3\\. For each episode, find the length (number of characters) of the title. Then create summaries to answer: Which show tends to have the longest episode titles? The shortest? Which show has the most variability in lengths of episode titles? The least?"
      ],
      "metadata": {
        "id": "xIDEdoIdGj-l"
      }
    },
    {
      "cell_type": "code",
      "source": [
        "# YOUR CODE HERE. ADD CELLS AS NEEDED"
      ],
      "metadata": {
        "id": "gOQSr6dzTd6b"
      },
      "execution_count": null,
      "outputs": []
    },
    {
      "cell_type": "markdown",
      "source": [
        "4\\. Do any cast members in the data set share a birthday with you? Who, and what show are they on? (If there isn't anyone, see if anyone shares a birthday with Lena Dunham.)"
      ],
      "metadata": {
        "id": "dRMEO2L6z5OZ"
      }
    },
    {
      "cell_type": "code",
      "source": [
        "# YOUR CODE HERE. ADD CELLS AS NEEDED"
      ],
      "metadata": {
        "id": "oUpYK2HdThks"
      },
      "execution_count": null,
      "outputs": []
    },
    {
      "cell_type": "markdown",
      "source": [
        "## TVMaze API\n",
        "\n",
        "Now you will work with the [TVMaze API](http://www.tvmaze.com/api) from the reading. Use the API to request JSON data that you can use to answer the following questions."
      ],
      "metadata": {
        "id": "eUrgTlyV1iP6"
      }
    },
    {
      "cell_type": "markdown",
      "metadata": {
        "id": "LvXWUVQFWkMC"
      },
      "source": [
        "1\\. What was the longest show that aired in the U.S. on February 3, 2019?\n",
        "\n",
        "(_Hint:_ Use the [\"Schedule\" endpoint](http://www.tvmaze.com/api#schedule).)"
      ]
    },
    {
      "cell_type": "code",
      "source": [
        "# YOUR CODE HERE. ADD CELLS AS NEEDED"
      ],
      "metadata": {
        "id": "g5PMajwRUMJA"
      },
      "execution_count": null,
      "outputs": []
    },
    {
      "cell_type": "markdown",
      "metadata": {
        "id": "vbvNHWh-WkME"
      },
      "source": [
        "2\\. Among all shows that aired in the U.S. on Feburary 3, 2019, only one person appeared on more than one show. (You may find three people. Two of them actually appeared in two different roles on the same show.) Who was it?\n",
        "\n",
        "Hint: You will need to write a loop. Use the \"show.id\" from the data above, and use the [\"Shows\" endpoint](http://www.tvmaze.com/api#show-cast) to get the cast of each show. Don't forget to stagger your requests, or you will be blocked by the website!"
      ]
    },
    {
      "cell_type": "code",
      "source": [
        "# YOUR CODE HERE. ADD CELLS AS NEEDED"
      ],
      "metadata": {
        "id": "ZMLG9sVmUYcm"
      },
      "execution_count": null,
      "outputs": []
    },
    {
      "cell_type": "markdown",
      "source": [
        "# Tasty API\n",
        "\n",
        "[Tasty.co](http://tasty.co) is a website and app that offers food recipes. They have made these recipes available through a [a REST API](https://rapidapi.com/apidojo/api/tasty). However, unlike the TVMaze API, this one requires authentication.\n",
        "\n",
        "Specifically, you will need to sign up for a free account. You will then be provided with an API key that will need to be supplied with every request you make. This is used to track and limit usage."
      ],
      "metadata": {
        "id": "KBFFcFs4C2il"
      }
    },
    {
      "cell_type": "markdown",
      "source": [
        "Take a look at [the documentation](https://rapidapi.com/apidojo/api/tasty). We will use the recipes/list endpoint.\n",
        "\n",
        "Make sure you are logged into the account you are created, and select the recipes/list endpoint from the menu at left. Now, take a look at the code snippet. By default, it provides Node.js code. Change this to Python (with the Requests library) to get you started.\n",
        "\n",
        "If you need more help, [take a look at this doc](https://rapidapi.com/blog/tasty-api-with-java-python-php-ruby-javascript-examples/)."
      ],
      "metadata": {
        "id": "5FSHiZkKEWgE"
      }
    },
    {
      "cell_type": "markdown",
      "source": [
        "1\\. Search for recipes containing \"daikon\" (an Asian radish) and request the JSON data."
      ],
      "metadata": {
        "id": "c0MjoXrvGH46"
      }
    },
    {
      "cell_type": "code",
      "execution_count": null,
      "metadata": {
        "id": "EXp-tiAi6EDl"
      },
      "outputs": [],
      "source": [
        "# YOUR CODE HERE. ADD CELLS AS NEEDED"
      ]
    },
    {
      "cell_type": "markdown",
      "source": [
        "2\\. How many recipes containing daikon are there? Which one is the cheapest per portion?"
      ],
      "metadata": {
        "id": "sQ6poay2URQR"
      }
    },
    {
      "cell_type": "code",
      "source": [
        "# YOUR CODE HERE. ADD CELLS AS NEEDED"
      ],
      "metadata": {
        "id": "m8ElcGTAVjNJ"
      },
      "execution_count": null,
      "outputs": []
    },
    {
      "cell_type": "markdown",
      "source": [
        "3\\. Find recipes containing avocado and request the JSON data.\n",
        "\n",
        "**Hint:** Note that there are hundreds of results, but the API only returns 20 results by default and only 40 results maximum, even if you specify the `size=` parameter, so you will need to use a `for` loop, incrementing the `from=` parameter. Be sure to respect the API's rate limits (or you may be blocked!)\n",
        "\n",
        "**Note:** Recall from the example in the reading that we created an empty list `episodes = []` and then added the results of each request to it in the for loop with `episodes.extend(response.json())`. But note that in the recipes/list endpoint there are two keys: count and results. We only want the results so try instead `.extend(response.json()).get(\"results\")`.\n",
        "\n",
        "**Suggestion:** Try writing a loop that only makes 2 or 3 requests first so you can test that it's working correctly. Also, make sure you use separate cells for code that makes requests to the API versus processing of the results; you don't want to rerun the requests unless absolutely necessary!"
      ],
      "metadata": {
        "id": "Pb6CY8tDLuce"
      }
    },
    {
      "cell_type": "code",
      "source": [
        "# YOUR CODE HERE. ADD CELLS AS NEEDED"
      ],
      "metadata": {
        "id": "QLGqX97U9Gp_"
      },
      "execution_count": null,
      "outputs": []
    },
    {
      "cell_type": "markdown",
      "source": [
        "4\\. For the recipes containing avocado, compute the proportion of reviews that are positive. For the avocado recipes with over 500 reviews, which one has the highest proportion of positive reviews?\n"
      ],
      "metadata": {
        "id": "Oqtyw9kaVOev"
      }
    },
    {
      "cell_type": "code",
      "source": [
        "# YOUR CODE HERE. ADD CELLS AS NEEDED"
      ],
      "metadata": {
        "id": "fq-vcp7FVtii"
      },
      "execution_count": null,
      "outputs": []
    },
    {
      "cell_type": "markdown",
      "source": [
        "5\\. Take the avocado JSON data from above (you do NOT need to read in the data from the REST API again). How many recipes are vegetarian? You should be able to identify this from the \"tags\" attribute.\n",
        "\n",
        "Hint: Try using `json_normalize` with \"tags\" as the record path."
      ],
      "metadata": {
        "id": "jsDamUsyPHet"
      }
    },
    {
      "cell_type": "markdown",
      "source": [
        "6\\. Use the Tasty REST API to answer a question of interest to you. Maybe you can use it to help you decide what to have for dinner tonight!"
      ],
      "metadata": {
        "id": "9jD8xBicQ4rz"
      }
    },
    {
      "cell_type": "code",
      "source": [
        "# YOUR CODE HERE. ADD CELLS AS NEEDED\n"
      ],
      "metadata": {
        "id": "XloMe9QlP09t"
      },
      "execution_count": null,
      "outputs": []
    },
    {
      "cell_type": "markdown",
      "source": [
        "## Your choice!\n",
        "\n",
        "Find a public API [here](https://publicapi.dev/) or [here](https://publicapis.dev/) on a topic that interests you and practice fetching data from it."
      ],
      "metadata": {
        "id": "4XR8mRoaMIGx"
      }
    },
    {
      "cell_type": "code",
      "source": [
        "# YOUR CODE HERE. ADD CELLS AS NEEDED"
      ],
      "metadata": {
        "id": "N0n1qmVbMJ62"
      },
      "execution_count": null,
      "outputs": []
    }
  ]
}