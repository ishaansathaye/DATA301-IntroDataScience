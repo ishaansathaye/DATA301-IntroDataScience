{
  "nbformat": 4,
  "nbformat_minor": 0,
  "metadata": {
    "colab": {
      "provenance": []
    },
    "kernelspec": {
      "name": "python3",
      "display_name": "Python 3"
    },
    "language_info": {
      "name": "python"
    }
  },
  "cells": [
    {
      "cell_type": "markdown",
      "source": [
        "# Introduction to Notebooks and Colab\n",
        "\n",
        "In a previous computer science class, you might have written Python code in an IDE (integrated development environment) such as Pycharm. You first write a Python program in a file like `myscript.py`, then you run the script by typing `python3 myscript.py` at the terminal.\n",
        "\n",
        "In this class, we will write Python code in a **notebook**, like this one. Notebooks can be on your computer or be hosted in the cloud. **Colab** is a free Google service that offers hosted notebooks within Google Drive. (Colab is similar to Jupyter, which is another popular type of notebook.)"
      ],
      "metadata": {
        "id": "1h4kRko7W00T"
      }
    },
    {
      "cell_type": "markdown",
      "source": [
        "## Saving Your Work\n",
        "\n",
        "The first thing you do whenever you open up a notebook that someone shares with you is to save a copy in your personal Google Drive. You'll need to do this if you want to save your work. Otherwise, any changes that you make cannot be saved and will be lost when you close the browser.\n",
        "\n",
        "**Save a copy of this notebook in your Google Drive** by clicking the \"Copy to Drive\" button (or File > Save a copy in Drive)."
      ],
      "metadata": {
        "id": "lv_T_CBaGu9_"
      }
    },
    {
      "cell_type": "markdown",
      "source": [
        "## Why use notebooks instead of scripts?\n",
        "\n",
        "### Advantage 1\n",
        "\n",
        "Notebooks integrate code, text, and output in a single document. Since data science is about _interpreting_ the _results_ from executing code, it is helpful to have everything in one place. It also helps make your analysis _reproducible_: others can trace your entire analysis from start to finish."
      ],
      "metadata": {
        "id": "WD46mZ0VXM7_"
      }
    },
    {
      "cell_type": "markdown",
      "source": [
        "Notebooks can contain Code or Text cells. You can add cells at any point in the notebook using the \"+ Code\" or \"+ Text\" buttons (or Insert > Code cell)."
      ],
      "metadata": {
        "id": "qm_XerMeHsRf"
      }
    },
    {
      "cell_type": "markdown",
      "source": [
        "_Example of a Text Cell_\n",
        "\n",
        "To edit the text in the cell, double click on the cell.\n",
        "\n",
        "Text cells can contain [Markdown](https://www.markdownguide.org/cheat-sheet/) syntax for typsetting. Double click on this cell to see how *italics*, **boldface**, and [weblinks](https://www.markdownguide.org/cheat-sheet/) are represented in Markdown syntax.\n",
        "\n",
        "You can also typset mathematical notation like $\\frac{\\exp(-x^2/2)}{\\sqrt{2 \\pi}}$ using [LaTeX](https://www.overleaf.com/learn/latex/Learn_LaTeX_in_30_minutes)."
      ],
      "metadata": {
        "id": "5yK3CnMCU2dp"
      }
    },
    {
      "cell_type": "markdown",
      "source": [
        "**Exercise.** Add a text cell after this one and experiment with writing some Markdown syntax. In particular, try to create a numbered list."
      ],
      "metadata": {
        "id": "Cu3CEXb9Jmm6"
      }
    },
    {
      "cell_type": "markdown",
      "source": [
        "The next cell is an example of a Code cell."
      ],
      "metadata": {
        "id": "ts6pRv0VK8Cp"
      }
    },
    {
      "cell_type": "code",
      "source": [
        "# Example of a Code Cell\n",
        "\n",
        "# To run the code, hover your cursor over the cell and click the play button\n",
        "# that appears on the left. Or you can click on the cell and press Shift+Enter.\n",
        "\n",
        "# You can write Python code in a code cell.\n",
        "def convert_celsius_to_fahrenheit(temperature_in_celsius):\n",
        "  return 9 / 5 * temperature_in_celsius + 32\n",
        "\n",
        "# Intermediate lines of code are executed, but the output is not printed.\n",
        "convert_celsius_to_fahrenheit(0)\n",
        "\n",
        "# The output of the last line of code in a cell is printed.\n",
        "convert_celsius_to_fahrenheit(100)"
      ],
      "metadata": {
        "id": "zBnFWHBRVGoR"
      },
      "execution_count": null,
      "outputs": []
    },
    {
      "cell_type": "markdown",
      "source": [
        "When you run a code cell, all the code in the cell is evaluated but only the output of the last line of code in a cell is displayed automatically. If you want to display multiple pieces of output, you can add cells and put each line that you want to display in a separate cell (or you can use `print()`.)"
      ],
      "metadata": {
        "id": "Aeikjj5-LVxu"
      }
    },
    {
      "cell_type": "markdown",
      "source": [
        "### Advantage 2\n",
        "\n",
        "Notebooks allow for a more interactive style of programming. You don't have to write your entire program before executing it!\n",
        "\n",
        "You can build up code gradually. You can do a computation in one cell and follow up in another cell.\n",
        "\n",
        "In the example below, the function `convert_celsius_to_fahrenheit` was defined when we ran the code cell above. The notebook maintains a \"memory\" of all the variables and functions that have been defined."
      ],
      "metadata": {
        "id": "POpqbYrZWzJT"
      }
    },
    {
      "cell_type": "code",
      "source": [
        "convert_celsius_to_fahrenheit(0)"
      ],
      "metadata": {
        "id": "hlDUqhi2Wx6T"
      },
      "execution_count": null,
      "outputs": []
    },
    {
      "cell_type": "markdown",
      "source": [
        "We can store the results of one cell and use them in others."
      ],
      "metadata": {
        "id": "6o0ooIJvL2QL"
      }
    },
    {
      "cell_type": "code",
      "source": [
        "x = 2 * 3"
      ],
      "metadata": {
        "id": "FlVLJUsgL7rT"
      },
      "execution_count": null,
      "outputs": []
    },
    {
      "cell_type": "code",
      "source": [
        "x - 1"
      ],
      "metadata": {
        "id": "t7fCYibjL76P"
      },
      "execution_count": null,
      "outputs": []
    },
    {
      "cell_type": "markdown",
      "source": [
        "In long notebooks, you might want to collapse cells. Click the arrow to the left of \"Advantage 2\" above to collapse all the cells under this heading. You can expand them by clicking the arrow again. (You can also use View > Expand sections or View > Collapse sections.)"
      ],
      "metadata": {
        "id": "UPU29I6WMmgi"
      }
    },
    {
      "cell_type": "markdown",
      "source": [
        "### A Caution about Notebooks\n",
        "\n",
        "The code cells in a notebook are usually designed to be run in order, from top to bottom. Bad things can happen if you run them out of order!\n",
        "\n",
        "Let's start from a clean state. Let's clear all the variables that we have defined. Go to Runtime > Restart runtime. What happens if you run the code cell below, without first running the cells above it?"
      ],
      "metadata": {
        "id": "gxMloq_yZCAY"
      }
    },
    {
      "cell_type": "code",
      "source": [
        "convert_celsius_to_fahrenheit(20)"
      ],
      "metadata": {
        "id": "krFrKZcUa2fc"
      },
      "execution_count": null,
      "outputs": []
    },
    {
      "cell_type": "markdown",
      "source": [
        "## Exercises\n",
        "\n",
        "1. What do you think the numbers (e.g., `[1]`, `[2]`, `[3]`, ...) on the left of the code cells indicate?\n",
        "1. If you want clear all output and run all of the cells in a notebook from top to bottom, what can you do? Hint: look under the Runtime menu.\n",
        "1. Run the code cell below. Why doesn't the cell output anything? How would you modify the code so that it outputs the temperature in Fahrenheit?"
      ],
      "metadata": {
        "id": "MLBvfXbWdsxk"
      }
    },
    {
      "cell_type": "code",
      "source": [
        "temperature_in_fahrenheit = convert_celsius_to_fahrenheit(30)"
      ],
      "metadata": {
        "id": "VE3PtZe-Y15-"
      },
      "execution_count": null,
      "outputs": []
    }
  ]
}