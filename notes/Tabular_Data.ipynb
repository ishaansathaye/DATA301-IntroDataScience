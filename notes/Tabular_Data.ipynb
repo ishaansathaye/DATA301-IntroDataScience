{
  "nbformat": 4,
  "nbformat_minor": 0,
  "metadata": {
    "colab": {
      "provenance": []
    },
    "kernelspec": {
      "name": "python3",
      "display_name": "Python 3"
    }
  },
  "cells": [
    {
      "cell_type": "markdown",
      "metadata": {
        "id": "N4l5tHGE3TJK"
      },
      "source": [
        "# Tabular Data\n",
        "\n",
        "What does data look like? For most people, the first image that comes to mind is a spreadsheet, where each row represents something for which information is being measured and each column a type of measurement. This stereotype exists for a reason; many real-world data sets can indeed be organized this way. Data that can be represented using rows and columns is called **tabular data**. The rows are also called **observations** or **records**,  while the columns are called **variables** or **fields**. The different terms reflect the diverse communities within data science, and their origins are summarized in the table below.\n",
        "\n",
        "|                     | Rows           | Columns     |\n",
        "|---------------------|----------------|-------------|\n",
        "| Statisticians       | \"observations\" | \"variables\" |\n",
        "| Computer Scientists | \"records\"      | \"fields\"    |\n",
        "\n",
        "The table below is an example of a\n",
        "data set that can be represented in tabular form.\n",
        "This is a sample of user profiles in the\n",
        "San Francisco Bay Area from the online dating website\n",
        "OKCupid. In this case, each observation is an OKCupid user, and the variables include age, body type, height, and\n",
        "(relationship) status. Although a\n",
        "data table can contain values of all types, the\n",
        "values within a column are typically all of the same\n",
        "type---the age and height columns store\n",
        "numbers, while the body type and\n",
        "status columns store strings. Some values may be missing, such as body type for the first user\n",
        "and diet for the second.\n",
        "\n",
        "| age | body type |        diet       | ... | smokes | height | status |\n",
        "|-----|-----------|-------------------|-----|--------|--------|--------|\n",
        "| 31  |           | mostly vegetarian | ... |   no   |   67   | single |\n",
        "| 31  |  average  |                   | ... |   no   |   66   | single |\n",
        "| 43  |   curvy   |                   | ... | trying to quit | 65 | single |\n",
        "| ... |    ...    |       ...         | ... |  ...   |  ...   | ... |\n",
        "| 60  |    fit    |                   | ... |   no   |   57   | single |\n",
        "\n"
      ]
    },
    {
      "cell_type": "markdown",
      "source": [
        "# Introduction to Pandas\n",
        "\n",
        "Tabular data is essential for doing data science. But a structure for tabular data is not built into Python, so we need to import a library. That library is [Pandas](https://pandas.pydata.org/), which essentially does one thing---define a data structure called a `DataFrame` for storing tabular data. But this data structure is so fundamental to data science that importing `pandas` is the very first line of many Colab notebooks and Python scripts.\n",
        "\n",
        "Let's import `pandas`. The standard abbreviation for Pandas is `pd`."
      ],
      "metadata": {
        "id": "qSb0BROzQi-g"
      }
    },
    {
      "cell_type": "code",
      "source": [
        "import pandas as pd"
      ],
      "metadata": {
        "id": "UAczc7vuQqsT"
      },
      "execution_count": null,
      "outputs": []
    },
    {
      "cell_type": "markdown",
      "source": [
        "A Pandas `DataFrame` is optimized for storing tabular data; for example, it uses the fact that the values within a column are all the same type to save memory and speed up computations."
      ],
      "metadata": {
        "id": "duBZAbGOQeS3"
      }
    },
    {
      "cell_type": "markdown",
      "source": [
        "Many data sets are stored as files on disk, such as in **comma-separated values (CSV)** files. How do we get data into a `pandas` `DataFrame`? Pandas provides a function called `read_csv()` for reading in files in CSV format."
      ],
      "metadata": {
        "id": "gQ6CLHiDGsi5"
      }
    },
    {
      "cell_type": "markdown",
      "source": [
        "## Reading in Data from a URL\n",
        "\n",
        "If the data file already lives on the Internet, then you can simply pass in the URL to `read_csv()`."
      ],
      "metadata": {
        "id": "YHmob7ZjByc8"
      }
    },
    {
      "cell_type": "code",
      "metadata": {
        "id": "P6aZVeKg9ZGb"
      },
      "source": [
        "# Read in the OKCupid data set using the Pandas `read_csv` function.\n",
        "df_okcupid = pd.read_csv(\"https://raw.githubusercontent.com/kevindavisross/data301/main/data/okcupid.csv\")"
      ],
      "execution_count": null,
      "outputs": []
    },
    {
      "cell_type": "code",
      "source": [
        "# Display the first few and last few rows and columns\n",
        "df_okcupid"
      ],
      "metadata": {
        "id": "MhVt2z_j_mJK"
      },
      "execution_count": null,
      "outputs": []
    },
    {
      "cell_type": "markdown",
      "source": [
        "Notice above how missing values are represented in a `pandas` `DataFrame`. Each missing value is represented by a `NaN`, which is short for \"not a number\". As we will see, most `pandas` operations simply ignore `NaN` values."
      ],
      "metadata": {
        "id": "EOzK4C-lHaSY"
      }
    },
    {
      "cell_type": "markdown",
      "source": [
        "The `info` method returns some information about the data frame."
      ],
      "metadata": {
        "id": "_K3nHSMTHh8p"
      }
    },
    {
      "cell_type": "code",
      "source": [
        "df_okcupid.info"
      ],
      "metadata": {
        "id": "hWI9O0-FHiKA"
      },
      "execution_count": null,
      "outputs": []
    },
    {
      "cell_type": "markdown",
      "source": [
        "The `shape` attribute returns the number of (rows, columns)."
      ],
      "metadata": {
        "id": "LzRj3WUUHiVt"
      }
    },
    {
      "cell_type": "code",
      "source": [
        "df_okcupid.shape"
      ],
      "metadata": {
        "id": "58h9IeYZHijo"
      },
      "execution_count": null,
      "outputs": []
    },
    {
      "cell_type": "markdown",
      "source": [
        "## Reading in Data from a File\n",
        "\n",
        "If you instead want to read in a data file on your computer, you can pass in the path to the file (e.g., `\"/home/data/mydata.csv\"`) to `read_csv()`.\n",
        "\n",
        "There's just one catch. Colab is a cloud service; it can't read files on your computer. In order to read in a data file from Colab, you have to upload the file to the Colab file system.\n",
        "\n",
        "Instructions:\n",
        "\n",
        "1. Click on the folder icon in the left toolbar. This will open up a pane that allows you to interact with the Colab file system.\n",
        "2. Click on the upload icon and find the file that you want to upload.\n",
        "\n",
        "Now the data file is on the Colab file system, so we can read it in using `read_csv()`. By default, files get uploaded to `/content/`. If you get a `FileNotFoundError`, double check where you uploaded the file."
      ],
      "metadata": {
        "id": "ICnnjxCSWq7S"
      }
    },
    {
      "cell_type": "code",
      "source": [
        "# First download the okcupid.csv file to your compute\n",
        "# Then upload the file to Colab using the instructions above\n",
        "# Now you can read in the OK Cupid data set using the Pandas `read_csv` function.\n",
        "df_okcupid = pd.read_csv(\"/content/okcupid.csv\")\n",
        "\n",
        "df_okcupid"
      ],
      "metadata": {
        "id": "YSJ97VqmWzHM"
      },
      "execution_count": null,
      "outputs": []
    }
  ]
}