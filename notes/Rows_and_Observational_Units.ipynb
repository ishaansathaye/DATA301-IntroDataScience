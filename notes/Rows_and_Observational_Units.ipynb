{
  "nbformat": 4,
  "nbformat_minor": 0,
  "metadata": {
    "colab": {
      "provenance": []
    },
    "kernelspec": {
      "name": "python3",
      "display_name": "Python 3"
    }
  },
  "cells": [
    {
      "cell_type": "markdown",
      "metadata": {
        "id": "1X5JiiJ-8vWe"
      },
      "source": [
        "# Rows and Observational Units\n",
        "\n",
        "Recall that the rows of a tabular data set represent observations (or records). Whenever you encounter a new (tabular) data\n",
        "set, the first question you should ask yourself is\n",
        "\n",
        "> \"What is the observational unit?\"\n",
        "\n",
        "In other words, what does each row of the\n",
        "`DataFrame` represent? In the case of\n",
        "the OKCupid data set in the previous section, the observational unit was clearly an OKCupid user. But it is not always so obvious what the observational unit is.\n",
        "\n",
        "For example, consider the [Framingham Heart Study](https://www.framinghamheartstudy.org/fhs-about/) data set, which is available at https://raw.githubusercontent.com/kevindavisross/data301/main/data/framingham_long.csv.\n",
        "This data comes from a study of men and women in\n",
        "the town of Framingham, Massachusetts, which has enrolled\n",
        "thousands of patients since it began in 1948 and is still ongoing. The goal of the study is to identify risk factors for cardivascular disease (CVD) by following the subjects over time. The data set that we will analyze was collected on 4,434 subjects between 1956 and 1968. A description of the data set is available [here](https://biolincc.nhlbi.nih.gov/media/teachingstudies/FHS_Teaching_Longitudinal_Data_Documentation_2021a.pdf).\n",
        "\n",
        "You might guess that the observational unit is a subject. Let's see if that guess is correct."
      ]
    },
    {
      "cell_type": "code",
      "metadata": {
        "id": "jsx-_UIF89Ip"
      },
      "source": [
        "import pandas as pd"
      ],
      "execution_count": null,
      "outputs": []
    },
    {
      "cell_type": "code",
      "source": [
        "df_framingham = pd.read_csv(\"https://raw.githubusercontent.com/kevindavisross/data301/main/data/framingham_long.csv\")\n",
        "df_framingham"
      ],
      "metadata": {
        "id": "AIMJ9iFKLyLa"
      },
      "execution_count": null,
      "outputs": []
    },
    {
      "cell_type": "markdown",
      "metadata": {
        "id": "9Ba16vOJgtNS"
      },
      "source": [
        "Each `RANDID` corresponds to a unique subject in the study, but each subject appears multiple times in the data set. That is because this is a *longitudinal* study; each subject was measured at multiple points during their lifetime. So the observational unit in the Framingham Heart Study data set is a _measurement_ of a subject at a point in time.\n",
        "\n",
        "If there is a variable or a set of variables in the data set that uniquely identifies the observational unit, then it is customary to make those variables the **index** of the `DataFrame`. In the Framingham data set, `RANDID` and `TIME` uniquely identify the observational unit, so we move these columns to the index. (Notice that we specify `inplace=True` so that `.set_index()` modifies the existing `DataFrame` rather than returning a new one.)"
      ]
    },
    {
      "cell_type": "code",
      "metadata": {
        "id": "pd-r5l0HgZT5"
      },
      "source": [
        "df_framingham.set_index([\"RANDID\", \"TIME\"], inplace=True)\n",
        "df_framingham"
      ],
      "execution_count": null,
      "outputs": []
    },
    {
      "cell_type": "markdown",
      "metadata": {
        "id": "5hL9M1z7n4Rp"
      },
      "source": [
        "## Selecting Rows\n",
        "\n",
        "We can select an individual row from a `DataFrame` using its label in the index. For example, the fourth row in the Framingham data set above has `(RANDID, TIME)` label (6238, 2156). The `.loc` attribute of the `DataFrame` is used to select a row by its label."
      ]
    },
    {
      "cell_type": "code",
      "metadata": {
        "id": "mXJ0uhZOnHQ6"
      },
      "source": [
        "row = df_framingham.loc[(6238, 2156)]\n",
        "row"
      ],
      "execution_count": null,
      "outputs": []
    },
    {
      "cell_type": "markdown",
      "metadata": {
        "id": "4wWzsdsdo7PH"
      },
      "source": [
        "We can also select a row by its position using the `.iloc` attribute. Keeping in mind that Python uses zero-based indexing so the first row is actually row 0, the fourth row could also be extracted as:"
      ]
    },
    {
      "cell_type": "code",
      "metadata": {
        "id": "7D4_bbzwo7Cm"
      },
      "source": [
        "df_framingham.iloc[3]"
      ],
      "execution_count": null,
      "outputs": []
    },
    {
      "cell_type": "markdown",
      "metadata": {
        "id": "ZGVvJwgnoZd7"
      },
      "source": [
        "Notice that a single row from a `DataFrame` is no longer a `DataFrame` but a different data structure, called a `Series`."
      ]
    },
    {
      "cell_type": "code",
      "metadata": {
        "id": "jYV8NFGQoEOL"
      },
      "source": [
        "type(row)"
      ],
      "execution_count": null,
      "outputs": []
    },
    {
      "cell_type": "markdown",
      "metadata": {
        "id": "vVbqeHPfomMN"
      },
      "source": [
        "We can also select multiple rows by passing a _list_ of labels or positions to `.loc` and `.iloc`, respectively."
      ]
    },
    {
      "cell_type": "code",
      "metadata": {
        "id": "bH3i9bF_odFR"
      },
      "source": [
        "rows = df_framingham.loc[[(2448, 4628), (6238, 2156)]]\n",
        "rows"
      ],
      "execution_count": null,
      "outputs": []
    },
    {
      "cell_type": "code",
      "metadata": {
        "id": "J7h1BComoyn8"
      },
      "source": [
        "df_framingham.iloc[[1, 3]]"
      ],
      "execution_count": null,
      "outputs": []
    },
    {
      "cell_type": "markdown",
      "metadata": {
        "id": "dGptztglqsj0"
      },
      "source": [
        "Notice that when we select multiple rows, we get a `DataFrame` back."
      ]
    },
    {
      "cell_type": "code",
      "metadata": {
        "id": "y7rQhUtKqdGI"
      },
      "source": [
        "type(rows)"
      ],
      "execution_count": null,
      "outputs": []
    },
    {
      "cell_type": "markdown",
      "metadata": {
        "id": "BeR4x4lwthcz"
      },
      "source": [
        "A `Series` can be used to store a single observation (across multiple variables), while a `DataFrame` is used to store multiple observations (across multiple variables). We will see soon that a `Series` can also be used to store a single column (across multiple observations), so\n",
        "\n",
        "- A `Series` stores one-dimensional data (i.e., a single row or column).\n",
        "- A `DataFrame` stores two-dimensional data (i.e., both rows and columns)."
      ]
    },
    {
      "cell_type": "markdown",
      "metadata": {
        "id": "qpBmZ0E-uccO"
      },
      "source": [
        "If selecting consecutive rows, we can use Python's `slice` notation. For example, the code below selects all rows from the fourth row, up to (but not including) the tenth row."
      ]
    },
    {
      "cell_type": "code",
      "metadata": {
        "id": "JBcVmf3OucRy"
      },
      "source": [
        "df_framingham.iloc[3:9]"
      ],
      "execution_count": null,
      "outputs": []
    }
  ]
}