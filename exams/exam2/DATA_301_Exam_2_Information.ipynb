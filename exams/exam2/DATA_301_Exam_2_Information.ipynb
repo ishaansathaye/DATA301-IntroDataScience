{
  "cells": [
    {
      "cell_type": "markdown",
      "metadata": {
        "id": "v7fFun2jV4YK"
      },
      "source": [
        "# Exam 2 Info\n",
        "\n",
        "Exam 2 will be in class on Wednesday, Nov 15. You will have the entire class period (110 minutes) to complete the exam. Most of the questions on Exam 2 will require coding, though there might also be some more conceptual questions. You will complete and submit your work in a Colab notebook. **You will be required to use the desktop computers in the classroom for the exam.**\n",
        "\n"
      ]
    },
    {
      "cell_type": "markdown",
      "metadata": {
        "id": "FyXhu_M_R9bz"
      },
      "source": [
        "The exam is cumulative, with an emphasis on material from Day 10: Introduction to Text Data through Day 18: Estimating Test Metrics for Classification Models"
      ]
    },
    {
      "cell_type": "markdown",
      "metadata": {
        "id": "Dwy0uewA8iYa"
      },
      "source": [
        "Some of the questions on the exam might be deliberately ambiguous. I want to see how you take an ambiguous, real-world question and translate it into a concrete question that can be answered with data. For some problems, several answers might be acceptable, as long as you do a good job justifying your approach and answer. Just answer each question to the best of your ability according to _your_ interpretation of the question, and be clear about how you are interpreting the question."
      ]
    },
    {
      "cell_type": "markdown",
      "metadata": {
        "id": "A5KpMQoa82gF"
      },
      "source": [
        "You will need to know how to read in data sets from a file (e.g., `read_csv`). You will NOT be required to scrape data from webpages or APIs during the exam. However, I might give you data that I pulled from an API or webpage or you might need to use the documentation of the API or the source of the webpage."
      ]
    },
    {
      "cell_type": "markdown",
      "metadata": {
        "id": "XMQ91_cUwWwr"
      },
      "source": [
        "## What is allowed during the exam\n",
        "\n",
        "- You are allowed to use your own notes, electronic or hard copy, as long as they are your own original notes and not just copies of other sources.\n",
        "- You are allowed to use all course content posted in Canvas without citation.\n",
        "- You are allowed to use the internet and consult outside resources.  However, you must CITE any outside resources that you consult and include references.  Also, consulting is not copying.  Your can consult and cite references, but your work must be original. Moreover, copying material - including computer code - from outside sources is plagiarism.\n",
        "- In particular, **if you consult any websites outside of Canvas or the course Colab notebooks, be sure to site those websites by providing the link.**\n",
        "\n",
        "## What is NOT allowed during the exam\n",
        "\n",
        "- You are NOT allowed to post questions to internet websites, such as (but not limited to) Chegg.com.\n",
        "- You are NOT allowed to post questions from assignments to any AI, such as (but not limited to) ChatGPT or GPT-4.\n",
        "- You are NOT allowed to copy material from outside sources.  Your can consult sources, but you must CITE any sources that you consult and include references.  Moreover, copying material - including computer code - from outside sources is plagiarism.\n",
        "- You are NOT allowed to communicate with anyone during exams.\n",
        "- You are NOT allowed to use any devices except for the desktop computers (unless you have DRC accommodations that you have discussed with me).\n",
        "\n",
        "One example: you are allowed to use Google to find the documentation for a Pandas function to see what arguments are available, but you need to cite the websites you visit. You are NOT allowed to ask Google or AI or whatever to write the code for you.\n",
        "\n",
        "**If you are not sure if something is allowed, ASK ME before doing it.**"
      ]
    },
    {
      "cell_type": "markdown",
      "metadata": {
        "id": "eofNv3t19RAg"
      },
      "source": [
        "## Prepaing for the Exam\n",
        "\n",
        "You should start by reviewing the reading, in class notebooks, and assignments. Those items provide the most representative sample of the kinds of problems you will see on the exam.\n",
        "\n",
        "There are also a few practice problems below. These are just a few examples of the kinds of problems you might see on the exam. This is NOT a representative sample of problems, and certainly NOT an exhaustive list of the kinds of problems you'll see on the exam. Do NOT study only the following problems."
      ]
    },
    {
      "cell_type": "markdown",
      "metadata": {
        "id": "4idtb9urdrYx"
      },
      "source": [
        "## Problem\n",
        "\n",
        "Your friends Walter and Anna are considering buying one of 2 homes. To determine the fair price of these 2 homes, Walter obtains a DataFrame, `df_housing`, consisting of data about 100 recently purchased homes in the area. He trains a linear regression model to predict the sale prices of these homes, using the features: square footage, number of bedrooms, number of bathrooms, and the house style - a categorical variable with 5 categories.\n",
        "\n",
        "Here is Walter's code for fitting the model.\n",
        "\n",
        "```\n",
        "X_train = pd.get_dummies(df_housing[[\"sqft\", \"bed\", \"bath\", \"style\"]])\n",
        "y_train = df_housing[\"price\"]\n",
        "model = LinearRegression()\n",
        "model.fit(X_train, y_train)\n",
        "```\n"
      ]
    },
    {
      "cell_type": "markdown",
      "metadata": {
        "id": "mtcdDHx7iQy3"
      },
      "source": [
        "a) The data for the two homes that Walter is considering buying are stored in a different DataFrame, `df_new_homes`. Explain why the following code would not necessarily produce the correct predictions from the fitted\n",
        "model above.\n",
        "\n",
        "```\n",
        "X_test = pd.get_dummies(df_new_homes[[\"sqft\", \"bed\", \"bath\", \"style\"]])\n",
        "model.predict(X_test)\n",
        "```"
      ]
    },
    {
      "cell_type": "markdown",
      "metadata": {},
      "source": [
        "**There might be a mismatch for the dummies for 'style' / the columns that it would result in causing an error.**"
      ]
    },
    {
      "cell_type": "markdown",
      "metadata": {
        "id": "NBtb2sE8UIc8"
      },
      "source": [
        "b) Walter trains his model using only the first 50 observations and evaluates the model based on the remaining 50 observations.\n",
        "\n",
        "```\n",
        "model.fit(X_train.iloc[:50], y_train.iloc[:50])\n",
        "mean_squared_error(y_train.iloc[50:], model.predict(X_train.iloc[50:]))\n",
        "```\n",
        "\n",
        "Explain why and how Walter could improve his evaluation process. You should NOT write code; explain in words."
      ]
    },
    {
      "cell_type": "markdown",
      "metadata": {},
      "source": [
        "__One potential way to improve his evaluation process is to use a holdout set where Walter could split the data into a training set and holdout set. He would train on the training set and then evaluate on the holdout set. This would prevent overfitting.__\n",
        "\n",
        "__Another way is to use validation where data is split into multiple folds. The model should be trained on some folds and then evaluated on the remaining fold. Repeating this process with different folds would allow for a more robust evaluation of the model.__ "
      ]
    },
    {
      "cell_type": "markdown",
      "metadata": {
        "id": "NFWTQ8z3uxQw"
      },
      "source": [
        "c) Anna fits a 2-nearest neighbors regression model to predict price from square footage, number of bedrooms, number of bathrooms, and the house style. You can assume that the model is fit correctly.\n",
        "\n",
        "Suppose that the training data consists only of the following 5 houses.\n",
        "\n",
        "| **price** | **sqft** | **bed** | **bath** |     **style** |\n",
        "|----------:|---------:|--------:|---------:|--------------:|\n",
        "|    700000 |     2000 |       3 |        2 | single family |\n",
        "|    800000 |     2800 |       4 |      1.5 | single family |\n",
        "|    500000 |     2000 |       3 |        2 |         condo |\n",
        "|    550000 |     2000 |       3 |        3 |         condo |\n",
        "|    600000 |     1800 |       3 |      1.5 | single family |\n",
        "\n",
        "What price would this model predict for a 1500 square foot, 3 bedroom, 1.5 bathroom single family home? Provide a value and explain your reasoning."
      ]
    },
    {
      "cell_type": "markdown",
      "metadata": {},
      "source": [
        "__$650,000 which is the avg between the first entry and the last entry as those would be considered as the 2-nearest neighbors.__"
      ]
    },
    {
      "cell_type": "markdown",
      "metadata": {
        "id": "e-ZXkZRGl3i6"
      },
      "source": [
        "d) Anna fits a $k$-nearest neighbors regression model to predict sales price, for different values of $k$, using the training data on the 100 houses in `df_housing`. Here is Anna's code; you can assume that appropriate steps are included in `...` below.\n",
        "\n",
        "```\n",
        "X_train = ...\n",
        "y_train = ...\n",
        "\n",
        "pipeline = (...,\n",
        "            KNeighborsRegressor(n_neighbors = k))\n",
        "pipeline.fit(X_train, y_train)\n",
        "```\n",
        "\n",
        "There are two code snippets below, (A) and (B). For each code snippet choose the curve (1, 2, 3, 4) in the plot below that the code snippet produces as Anna varies values of $k$. (Two curves will be left out.) Clearly identify your choices and explain your reasoning.\n",
        "\n",
        "(A) `-cross_val_score(pipeline, X_train, y_train, cv = 10, scoring = neg_mean_squared_error).mean()`\n",
        "\n",
        "(B) `((y_train - pipeline.predict(X_train)) ** 2).mean()`"
      ]
    },
    {
      "cell_type": "markdown",
      "metadata": {
        "id": "Oq5TgpBkTV0Q"
      },
      "source": [
        "<img src = 'https://drive.google.com/uc?id=1ZIhkTmJqFcby5OHzSIY8_tT1R5hEar2X'>"
      ]
    },
    {
      "cell_type": "markdown",
      "metadata": {},
      "source": [
        "A ---> 4\n",
        "\n",
        "B ---> 3"
      ]
    },
    {
      "cell_type": "markdown",
      "metadata": {
        "id": "2gQ-rA1TA7bO"
      },
      "source": [
        "## Problem\n",
        "\n",
        "This question involves the wines data set (https://dlsun.github.io/pods/data/wines.csv) which contains data about the chemical composition of various wines. We want to use $k$-nearest neighbors to predict the color (red or white) of a wine using the two features: **sulphates** and **alcohol**.\n",
        "\n",
        "Find the value of $k$ between 1 and 20 that optimizes the average precision score."
      ]
    },
    {
      "cell_type": "code",
      "execution_count": 20,
      "metadata": {},
      "outputs": [],
      "source": [
        "import pandas as pd\n",
        "from sklearn.pipeline import make_pipeline\n",
        "from sklearn.preprocessing import StandardScaler\n",
        "from sklearn.neighbors import KNeighborsClassifier\n",
        "from sklearn.model_selection import GridSearchCV"
      ]
    },
    {
      "cell_type": "code",
      "execution_count": 21,
      "metadata": {},
      "outputs": [
        {
          "data": {
            "text/html": [
              "<div>\n",
              "<style scoped>\n",
              "    .dataframe tbody tr th:only-of-type {\n",
              "        vertical-align: middle;\n",
              "    }\n",
              "\n",
              "    .dataframe tbody tr th {\n",
              "        vertical-align: top;\n",
              "    }\n",
              "\n",
              "    .dataframe thead th {\n",
              "        text-align: right;\n",
              "    }\n",
              "</style>\n",
              "<table border=\"1\" class=\"dataframe\">\n",
              "  <thead>\n",
              "    <tr style=\"text-align: right;\">\n",
              "      <th></th>\n",
              "      <th>fixed acidity</th>\n",
              "      <th>volatile acidity</th>\n",
              "      <th>citric acid</th>\n",
              "      <th>residual sugar</th>\n",
              "      <th>chlorides</th>\n",
              "      <th>free sulfur dioxide</th>\n",
              "      <th>total sulfur dioxide</th>\n",
              "      <th>density</th>\n",
              "      <th>pH</th>\n",
              "      <th>sulphates</th>\n",
              "      <th>alcohol</th>\n",
              "      <th>quality</th>\n",
              "      <th>color</th>\n",
              "    </tr>\n",
              "  </thead>\n",
              "  <tbody>\n",
              "    <tr>\n",
              "      <th>0</th>\n",
              "      <td>7.4</td>\n",
              "      <td>0.70</td>\n",
              "      <td>0.00</td>\n",
              "      <td>1.9</td>\n",
              "      <td>0.076</td>\n",
              "      <td>11.0</td>\n",
              "      <td>34.0</td>\n",
              "      <td>0.9978</td>\n",
              "      <td>3.51</td>\n",
              "      <td>0.56</td>\n",
              "      <td>9.4</td>\n",
              "      <td>5</td>\n",
              "      <td>red</td>\n",
              "    </tr>\n",
              "    <tr>\n",
              "      <th>1</th>\n",
              "      <td>7.8</td>\n",
              "      <td>0.88</td>\n",
              "      <td>0.00</td>\n",
              "      <td>2.6</td>\n",
              "      <td>0.098</td>\n",
              "      <td>25.0</td>\n",
              "      <td>67.0</td>\n",
              "      <td>0.9968</td>\n",
              "      <td>3.20</td>\n",
              "      <td>0.68</td>\n",
              "      <td>9.8</td>\n",
              "      <td>5</td>\n",
              "      <td>red</td>\n",
              "    </tr>\n",
              "    <tr>\n",
              "      <th>2</th>\n",
              "      <td>7.8</td>\n",
              "      <td>0.76</td>\n",
              "      <td>0.04</td>\n",
              "      <td>2.3</td>\n",
              "      <td>0.092</td>\n",
              "      <td>15.0</td>\n",
              "      <td>54.0</td>\n",
              "      <td>0.9970</td>\n",
              "      <td>3.26</td>\n",
              "      <td>0.65</td>\n",
              "      <td>9.8</td>\n",
              "      <td>5</td>\n",
              "      <td>red</td>\n",
              "    </tr>\n",
              "    <tr>\n",
              "      <th>3</th>\n",
              "      <td>11.2</td>\n",
              "      <td>0.28</td>\n",
              "      <td>0.56</td>\n",
              "      <td>1.9</td>\n",
              "      <td>0.075</td>\n",
              "      <td>17.0</td>\n",
              "      <td>60.0</td>\n",
              "      <td>0.9980</td>\n",
              "      <td>3.16</td>\n",
              "      <td>0.58</td>\n",
              "      <td>9.8</td>\n",
              "      <td>6</td>\n",
              "      <td>red</td>\n",
              "    </tr>\n",
              "    <tr>\n",
              "      <th>4</th>\n",
              "      <td>7.4</td>\n",
              "      <td>0.70</td>\n",
              "      <td>0.00</td>\n",
              "      <td>1.9</td>\n",
              "      <td>0.076</td>\n",
              "      <td>11.0</td>\n",
              "      <td>34.0</td>\n",
              "      <td>0.9978</td>\n",
              "      <td>3.51</td>\n",
              "      <td>0.56</td>\n",
              "      <td>9.4</td>\n",
              "      <td>5</td>\n",
              "      <td>red</td>\n",
              "    </tr>\n",
              "  </tbody>\n",
              "</table>\n",
              "</div>"
            ],
            "text/plain": [
              "   fixed acidity  volatile acidity  citric acid  residual sugar  chlorides  \\\n",
              "0            7.4              0.70         0.00             1.9      0.076   \n",
              "1            7.8              0.88         0.00             2.6      0.098   \n",
              "2            7.8              0.76         0.04             2.3      0.092   \n",
              "3           11.2              0.28         0.56             1.9      0.075   \n",
              "4            7.4              0.70         0.00             1.9      0.076   \n",
              "\n",
              "   free sulfur dioxide  total sulfur dioxide  density    pH  sulphates  \\\n",
              "0                 11.0                  34.0   0.9978  3.51       0.56   \n",
              "1                 25.0                  67.0   0.9968  3.20       0.68   \n",
              "2                 15.0                  54.0   0.9970  3.26       0.65   \n",
              "3                 17.0                  60.0   0.9980  3.16       0.58   \n",
              "4                 11.0                  34.0   0.9978  3.51       0.56   \n",
              "\n",
              "   alcohol  quality color  \n",
              "0      9.4        5   red  \n",
              "1      9.8        5   red  \n",
              "2      9.8        5   red  \n",
              "3      9.8        6   red  \n",
              "4      9.4        5   red  "
            ]
          },
          "execution_count": 21,
          "metadata": {},
          "output_type": "execute_result"
        }
      ],
      "source": [
        "df_wines = pd.read_csv('https://dlsun.github.io/pods/data/wines.csv')\n",
        "df_wines.head()"
      ]
    },
    {
      "cell_type": "code",
      "execution_count": 22,
      "metadata": {},
      "outputs": [
        {
          "data": {
            "text/html": [
              "<style>#sk-container-id-6 {color: black;}#sk-container-id-6 pre{padding: 0;}#sk-container-id-6 div.sk-toggleable {background-color: white;}#sk-container-id-6 label.sk-toggleable__label {cursor: pointer;display: block;width: 100%;margin-bottom: 0;padding: 0.3em;box-sizing: border-box;text-align: center;}#sk-container-id-6 label.sk-toggleable__label-arrow:before {content: \"▸\";float: left;margin-right: 0.25em;color: #696969;}#sk-container-id-6 label.sk-toggleable__label-arrow:hover:before {color: black;}#sk-container-id-6 div.sk-estimator:hover label.sk-toggleable__label-arrow:before {color: black;}#sk-container-id-6 div.sk-toggleable__content {max-height: 0;max-width: 0;overflow: hidden;text-align: left;background-color: #f0f8ff;}#sk-container-id-6 div.sk-toggleable__content pre {margin: 0.2em;color: black;border-radius: 0.25em;background-color: #f0f8ff;}#sk-container-id-6 input.sk-toggleable__control:checked~div.sk-toggleable__content {max-height: 200px;max-width: 100%;overflow: auto;}#sk-container-id-6 input.sk-toggleable__control:checked~label.sk-toggleable__label-arrow:before {content: \"▾\";}#sk-container-id-6 div.sk-estimator input.sk-toggleable__control:checked~label.sk-toggleable__label {background-color: #d4ebff;}#sk-container-id-6 div.sk-label input.sk-toggleable__control:checked~label.sk-toggleable__label {background-color: #d4ebff;}#sk-container-id-6 input.sk-hidden--visually {border: 0;clip: rect(1px 1px 1px 1px);clip: rect(1px, 1px, 1px, 1px);height: 1px;margin: -1px;overflow: hidden;padding: 0;position: absolute;width: 1px;}#sk-container-id-6 div.sk-estimator {font-family: monospace;background-color: #f0f8ff;border: 1px dotted black;border-radius: 0.25em;box-sizing: border-box;margin-bottom: 0.5em;}#sk-container-id-6 div.sk-estimator:hover {background-color: #d4ebff;}#sk-container-id-6 div.sk-parallel-item::after {content: \"\";width: 100%;border-bottom: 1px solid gray;flex-grow: 1;}#sk-container-id-6 div.sk-label:hover label.sk-toggleable__label {background-color: #d4ebff;}#sk-container-id-6 div.sk-serial::before {content: \"\";position: absolute;border-left: 1px solid gray;box-sizing: border-box;top: 0;bottom: 0;left: 50%;z-index: 0;}#sk-container-id-6 div.sk-serial {display: flex;flex-direction: column;align-items: center;background-color: white;padding-right: 0.2em;padding-left: 0.2em;position: relative;}#sk-container-id-6 div.sk-item {position: relative;z-index: 1;}#sk-container-id-6 div.sk-parallel {display: flex;align-items: stretch;justify-content: center;background-color: white;position: relative;}#sk-container-id-6 div.sk-item::before, #sk-container-id-6 div.sk-parallel-item::before {content: \"\";position: absolute;border-left: 1px solid gray;box-sizing: border-box;top: 0;bottom: 0;left: 50%;z-index: -1;}#sk-container-id-6 div.sk-parallel-item {display: flex;flex-direction: column;z-index: 1;position: relative;background-color: white;}#sk-container-id-6 div.sk-parallel-item:first-child::after {align-self: flex-end;width: 50%;}#sk-container-id-6 div.sk-parallel-item:last-child::after {align-self: flex-start;width: 50%;}#sk-container-id-6 div.sk-parallel-item:only-child::after {width: 0;}#sk-container-id-6 div.sk-dashed-wrapped {border: 1px dashed gray;margin: 0 0.4em 0.5em 0.4em;box-sizing: border-box;padding-bottom: 0.4em;background-color: white;}#sk-container-id-6 div.sk-label label {font-family: monospace;font-weight: bold;display: inline-block;line-height: 1.2em;}#sk-container-id-6 div.sk-label-container {text-align: center;}#sk-container-id-6 div.sk-container {/* jupyter's `normalize.less` sets `[hidden] { display: none; }` but bootstrap.min.css set `[hidden] { display: none !important; }` so we also need the `!important` here to be able to override the default hidden behavior on the sphinx rendered scikit-learn.org. See: https://github.com/scikit-learn/scikit-learn/issues/21755 */display: inline-block !important;position: relative;}#sk-container-id-6 div.sk-text-repr-fallback {display: none;}</style><div id=\"sk-container-id-6\" class=\"sk-top-container\"><div class=\"sk-text-repr-fallback\"><pre>Pipeline(steps=[(&#x27;standardscaler&#x27;, StandardScaler()),\n",
              "                (&#x27;kneighborsclassifier&#x27;, KNeighborsClassifier())])</pre><b>In a Jupyter environment, please rerun this cell to show the HTML representation or trust the notebook. <br />On GitHub, the HTML representation is unable to render, please try loading this page with nbviewer.org.</b></div><div class=\"sk-container\" hidden><div class=\"sk-item sk-dashed-wrapped\"><div class=\"sk-label-container\"><div class=\"sk-label sk-toggleable\"><input class=\"sk-toggleable__control sk-hidden--visually\" id=\"sk-estimator-id-19\" type=\"checkbox\" ><label for=\"sk-estimator-id-19\" class=\"sk-toggleable__label sk-toggleable__label-arrow\">Pipeline</label><div class=\"sk-toggleable__content\"><pre>Pipeline(steps=[(&#x27;standardscaler&#x27;, StandardScaler()),\n",
              "                (&#x27;kneighborsclassifier&#x27;, KNeighborsClassifier())])</pre></div></div></div><div class=\"sk-serial\"><div class=\"sk-item\"><div class=\"sk-estimator sk-toggleable\"><input class=\"sk-toggleable__control sk-hidden--visually\" id=\"sk-estimator-id-20\" type=\"checkbox\" ><label for=\"sk-estimator-id-20\" class=\"sk-toggleable__label sk-toggleable__label-arrow\">StandardScaler</label><div class=\"sk-toggleable__content\"><pre>StandardScaler()</pre></div></div></div><div class=\"sk-item\"><div class=\"sk-estimator sk-toggleable\"><input class=\"sk-toggleable__control sk-hidden--visually\" id=\"sk-estimator-id-21\" type=\"checkbox\" ><label for=\"sk-estimator-id-21\" class=\"sk-toggleable__label sk-toggleable__label-arrow\">KNeighborsClassifier</label><div class=\"sk-toggleable__content\"><pre>KNeighborsClassifier()</pre></div></div></div></div></div></div></div>"
            ],
            "text/plain": [
              "Pipeline(steps=[('standardscaler', StandardScaler()),\n",
              "                ('kneighborsclassifier', KNeighborsClassifier())])"
            ]
          },
          "execution_count": 22,
          "metadata": {},
          "output_type": "execute_result"
        }
      ],
      "source": [
        "X_train = df_wines[['sulphates', 'alcohol']]\n",
        "y_train = df_wines['color']\n",
        "\n",
        "pipeline = make_pipeline(\n",
        "    StandardScaler(),\n",
        "    KNeighborsClassifier(n_neighbors=5)\n",
        ")\n",
        "\n",
        "pipeline.fit(X_train, y_train)"
      ]
    },
    {
      "cell_type": "code",
      "execution_count": 23,
      "metadata": {},
      "outputs": [
        {
          "data": {
            "text/html": [
              "<style>#sk-container-id-7 {color: black;}#sk-container-id-7 pre{padding: 0;}#sk-container-id-7 div.sk-toggleable {background-color: white;}#sk-container-id-7 label.sk-toggleable__label {cursor: pointer;display: block;width: 100%;margin-bottom: 0;padding: 0.3em;box-sizing: border-box;text-align: center;}#sk-container-id-7 label.sk-toggleable__label-arrow:before {content: \"▸\";float: left;margin-right: 0.25em;color: #696969;}#sk-container-id-7 label.sk-toggleable__label-arrow:hover:before {color: black;}#sk-container-id-7 div.sk-estimator:hover label.sk-toggleable__label-arrow:before {color: black;}#sk-container-id-7 div.sk-toggleable__content {max-height: 0;max-width: 0;overflow: hidden;text-align: left;background-color: #f0f8ff;}#sk-container-id-7 div.sk-toggleable__content pre {margin: 0.2em;color: black;border-radius: 0.25em;background-color: #f0f8ff;}#sk-container-id-7 input.sk-toggleable__control:checked~div.sk-toggleable__content {max-height: 200px;max-width: 100%;overflow: auto;}#sk-container-id-7 input.sk-toggleable__control:checked~label.sk-toggleable__label-arrow:before {content: \"▾\";}#sk-container-id-7 div.sk-estimator input.sk-toggleable__control:checked~label.sk-toggleable__label {background-color: #d4ebff;}#sk-container-id-7 div.sk-label input.sk-toggleable__control:checked~label.sk-toggleable__label {background-color: #d4ebff;}#sk-container-id-7 input.sk-hidden--visually {border: 0;clip: rect(1px 1px 1px 1px);clip: rect(1px, 1px, 1px, 1px);height: 1px;margin: -1px;overflow: hidden;padding: 0;position: absolute;width: 1px;}#sk-container-id-7 div.sk-estimator {font-family: monospace;background-color: #f0f8ff;border: 1px dotted black;border-radius: 0.25em;box-sizing: border-box;margin-bottom: 0.5em;}#sk-container-id-7 div.sk-estimator:hover {background-color: #d4ebff;}#sk-container-id-7 div.sk-parallel-item::after {content: \"\";width: 100%;border-bottom: 1px solid gray;flex-grow: 1;}#sk-container-id-7 div.sk-label:hover label.sk-toggleable__label {background-color: #d4ebff;}#sk-container-id-7 div.sk-serial::before {content: \"\";position: absolute;border-left: 1px solid gray;box-sizing: border-box;top: 0;bottom: 0;left: 50%;z-index: 0;}#sk-container-id-7 div.sk-serial {display: flex;flex-direction: column;align-items: center;background-color: white;padding-right: 0.2em;padding-left: 0.2em;position: relative;}#sk-container-id-7 div.sk-item {position: relative;z-index: 1;}#sk-container-id-7 div.sk-parallel {display: flex;align-items: stretch;justify-content: center;background-color: white;position: relative;}#sk-container-id-7 div.sk-item::before, #sk-container-id-7 div.sk-parallel-item::before {content: \"\";position: absolute;border-left: 1px solid gray;box-sizing: border-box;top: 0;bottom: 0;left: 50%;z-index: -1;}#sk-container-id-7 div.sk-parallel-item {display: flex;flex-direction: column;z-index: 1;position: relative;background-color: white;}#sk-container-id-7 div.sk-parallel-item:first-child::after {align-self: flex-end;width: 50%;}#sk-container-id-7 div.sk-parallel-item:last-child::after {align-self: flex-start;width: 50%;}#sk-container-id-7 div.sk-parallel-item:only-child::after {width: 0;}#sk-container-id-7 div.sk-dashed-wrapped {border: 1px dashed gray;margin: 0 0.4em 0.5em 0.4em;box-sizing: border-box;padding-bottom: 0.4em;background-color: white;}#sk-container-id-7 div.sk-label label {font-family: monospace;font-weight: bold;display: inline-block;line-height: 1.2em;}#sk-container-id-7 div.sk-label-container {text-align: center;}#sk-container-id-7 div.sk-container {/* jupyter's `normalize.less` sets `[hidden] { display: none; }` but bootstrap.min.css set `[hidden] { display: none !important; }` so we also need the `!important` here to be able to override the default hidden behavior on the sphinx rendered scikit-learn.org. See: https://github.com/scikit-learn/scikit-learn/issues/21755 */display: inline-block !important;position: relative;}#sk-container-id-7 div.sk-text-repr-fallback {display: none;}</style><div id=\"sk-container-id-7\" class=\"sk-top-container\"><div class=\"sk-text-repr-fallback\"><pre>GridSearchCV(cv=10,\n",
              "             estimator=Pipeline(steps=[(&#x27;standardscaler&#x27;, StandardScaler()),\n",
              "                                       (&#x27;kneighborsclassifier&#x27;,\n",
              "                                        KNeighborsClassifier())]),\n",
              "             param_grid={&#x27;kneighborsclassifier__n_neighbors&#x27;: range(1, 20)},\n",
              "             scoring=&#x27;precision_macro&#x27;)</pre><b>In a Jupyter environment, please rerun this cell to show the HTML representation or trust the notebook. <br />On GitHub, the HTML representation is unable to render, please try loading this page with nbviewer.org.</b></div><div class=\"sk-container\" hidden><div class=\"sk-item sk-dashed-wrapped\"><div class=\"sk-label-container\"><div class=\"sk-label sk-toggleable\"><input class=\"sk-toggleable__control sk-hidden--visually\" id=\"sk-estimator-id-22\" type=\"checkbox\" ><label for=\"sk-estimator-id-22\" class=\"sk-toggleable__label sk-toggleable__label-arrow\">GridSearchCV</label><div class=\"sk-toggleable__content\"><pre>GridSearchCV(cv=10,\n",
              "             estimator=Pipeline(steps=[(&#x27;standardscaler&#x27;, StandardScaler()),\n",
              "                                       (&#x27;kneighborsclassifier&#x27;,\n",
              "                                        KNeighborsClassifier())]),\n",
              "             param_grid={&#x27;kneighborsclassifier__n_neighbors&#x27;: range(1, 20)},\n",
              "             scoring=&#x27;precision_macro&#x27;)</pre></div></div></div><div class=\"sk-parallel\"><div class=\"sk-parallel-item\"><div class=\"sk-item\"><div class=\"sk-label-container\"><div class=\"sk-label sk-toggleable\"><input class=\"sk-toggleable__control sk-hidden--visually\" id=\"sk-estimator-id-23\" type=\"checkbox\" ><label for=\"sk-estimator-id-23\" class=\"sk-toggleable__label sk-toggleable__label-arrow\">estimator: Pipeline</label><div class=\"sk-toggleable__content\"><pre>Pipeline(steps=[(&#x27;standardscaler&#x27;, StandardScaler()),\n",
              "                (&#x27;kneighborsclassifier&#x27;, KNeighborsClassifier())])</pre></div></div></div><div class=\"sk-serial\"><div class=\"sk-item\"><div class=\"sk-serial\"><div class=\"sk-item\"><div class=\"sk-estimator sk-toggleable\"><input class=\"sk-toggleable__control sk-hidden--visually\" id=\"sk-estimator-id-24\" type=\"checkbox\" ><label for=\"sk-estimator-id-24\" class=\"sk-toggleable__label sk-toggleable__label-arrow\">StandardScaler</label><div class=\"sk-toggleable__content\"><pre>StandardScaler()</pre></div></div></div><div class=\"sk-item\"><div class=\"sk-estimator sk-toggleable\"><input class=\"sk-toggleable__control sk-hidden--visually\" id=\"sk-estimator-id-25\" type=\"checkbox\" ><label for=\"sk-estimator-id-25\" class=\"sk-toggleable__label sk-toggleable__label-arrow\">KNeighborsClassifier</label><div class=\"sk-toggleable__content\"><pre>KNeighborsClassifier()</pre></div></div></div></div></div></div></div></div></div></div></div></div>"
            ],
            "text/plain": [
              "GridSearchCV(cv=10,\n",
              "             estimator=Pipeline(steps=[('standardscaler', StandardScaler()),\n",
              "                                       ('kneighborsclassifier',\n",
              "                                        KNeighborsClassifier())]),\n",
              "             param_grid={'kneighborsclassifier__n_neighbors': range(1, 20)},\n",
              "             scoring='precision_macro')"
            ]
          },
          "execution_count": 23,
          "metadata": {},
          "output_type": "execute_result"
        }
      ],
      "source": [
        "grid_search = GridSearchCV(pipeline,\n",
        "                           param_grid={'kneighborsclassifier__n_neighbors': range(1, 20)},\n",
        "                           scoring='precision_macro',\n",
        "                           cv=10)\n",
        "\n",
        "grid_search.fit(X_train, y_train)"
      ]
    },
    {
      "cell_type": "code",
      "execution_count": 24,
      "metadata": {},
      "outputs": [
        {
          "data": {
            "text/plain": [
              "{'kneighborsclassifier__n_neighbors': 15}"
            ]
          },
          "execution_count": 24,
          "metadata": {},
          "output_type": "execute_result"
        }
      ],
      "source": [
        "grid_search.best_params_"
      ]
    },
    {
      "cell_type": "code",
      "execution_count": 25,
      "metadata": {},
      "outputs": [
        {
          "data": {
            "text/plain": [
              "<Axes: xlabel='param_kneighborsclassifier__n_neighbors'>"
            ]
          },
          "execution_count": 25,
          "metadata": {},
          "output_type": "execute_result"
        },
        {
          "data": {
            "image/png": "[encoded data removed]",
            "text/plain": [
              "<Figure size 640x480 with 1 Axes>"
            ]
          },
          "metadata": {},
          "output_type": "display_data"
        }
      ],
      "source": [
        "pd.DataFrame(grid_search.cv_results_).plot(x='param_kneighborsclassifier__n_neighbors',\n",
        "                                           y='mean_test_score')"
      ]
    },
    {
      "cell_type": "markdown",
      "metadata": {
        "id": "kRWUDK0QbpW1"
      },
      "source": [
        "## Problem\n",
        "\n",
        "The following two data sets contain data retrieved using the [Bing Maps API](https://docs.microsoft.com/en-us/bingmaps/rest-services/getting-started-with-the-bing-maps-rest-services).\n",
        "\n",
        "- (1) A data set retrieved using the  [Traffic API](https://docs.microsoft.com/en-us/bingmaps/rest-services/traffic/) of traffic incidents in California (in `mapArea`, the bounding box for California is 32.534156, -124.409591, 42.009518, -114.131211.): http://users.csc.calpoly.edu/~dsun09/data301/traffic_incidents.csv. [This page](https://docs.microsoft.com/en-us/bingmaps/rest-services/traffic/traffic-incident-data) provides information about the fields that are returned by the Traffic API.\n",
        "\n",
        "- (2) A subset of the data set consisting only of construction incidents, along with the elevation obtained using the [Elevations API](https://docs.microsoft.com/en-us/bingmaps/rest-services/elevations/get-elevations): http://users.csc.calpoly.edu/~dsun09/data301/construction_with_elevations.csv.\n",
        "\n",
        "\n",
        "Using the construction incidents data set (2), you want to train a $5$-nearest neighbor model that predicts the **severity** of a construction incident. Consider two models, with the following features,\n",
        "\n",
        "- (A) **description** and **roadClosed**\n",
        "- (B) **description**, **roadClosed**, and **elevation**\n",
        "\n",
        "Which of these two models would you prefer? Justify your choice with appropriate analysis."
      ]
    },
    {
      "cell_type": "code",
      "execution_count": 31,
      "metadata": {},
      "outputs": [],
      "source": [
        "from sklearn.neighbors import KNeighborsRegressor\n",
        "from sklearn.preprocessing import StandardScaler, OneHotEncoder\n",
        "from sklearn.compose import make_column_transformer"
      ]
    },
    {
      "cell_type": "code",
      "execution_count": 27,
      "metadata": {},
      "outputs": [
        {
          "data": {
            "text/html": [
              "<div>\n",
              "<style scoped>\n",
              "    .dataframe tbody tr th:only-of-type {\n",
              "        vertical-align: middle;\n",
              "    }\n",
              "\n",
              "    .dataframe tbody tr th {\n",
              "        vertical-align: top;\n",
              "    }\n",
              "\n",
              "    .dataframe thead th {\n",
              "        text-align: right;\n",
              "    }\n",
              "</style>\n",
              "<table border=\"1\" class=\"dataframe\">\n",
              "  <thead>\n",
              "    <tr style=\"text-align: right;\">\n",
              "      <th></th>\n",
              "      <th>__type</th>\n",
              "      <th>description</th>\n",
              "      <th>end</th>\n",
              "      <th>incidentId</th>\n",
              "      <th>lastModified</th>\n",
              "      <th>roadClosed</th>\n",
              "      <th>severity</th>\n",
              "      <th>source</th>\n",
              "      <th>start</th>\n",
              "      <th>type</th>\n",
              "      <th>verified</th>\n",
              "      <th>point.type</th>\n",
              "      <th>point.coordinates</th>\n",
              "      <th>toPoint.type</th>\n",
              "      <th>toPoint.coordinates</th>\n",
              "      <th>elevation</th>\n",
              "    </tr>\n",
              "  </thead>\n",
              "  <tbody>\n",
              "    <tr>\n",
              "      <th>0</th>\n",
              "      <td>TrafficIncident:http://schemas.microsoft.com/s...</td>\n",
              "      <td>At 4th St - Roadwork.</td>\n",
              "      <td>/Date(1583751326000)/</td>\n",
              "      <td>4439319157134259790</td>\n",
              "      <td>/Date(1583406000517)/</td>\n",
              "      <td>False</td>\n",
              "      <td>2</td>\n",
              "      <td>9</td>\n",
              "      <td>/Date(1583405731000)/</td>\n",
              "      <td>9</td>\n",
              "      <td>True</td>\n",
              "      <td>Point</td>\n",
              "      <td>[34.05434, -118.25355]</td>\n",
              "      <td>Point</td>\n",
              "      <td>[34.05279, -118.255]</td>\n",
              "      <td>100</td>\n",
              "    </tr>\n",
              "    <tr>\n",
              "      <th>1</th>\n",
              "      <td>TrafficIncident:http://schemas.microsoft.com/s...</td>\n",
              "      <td>At Lake St/Empire Ave - Roadwork.</td>\n",
              "      <td>/Date(1583699508000)/</td>\n",
              "      <td>1756561160417118801</td>\n",
              "      <td>/Date(1583369733763)/</td>\n",
              "      <td>False</td>\n",
              "      <td>2</td>\n",
              "      <td>9</td>\n",
              "      <td>/Date(1583353942000)/</td>\n",
              "      <td>9</td>\n",
              "      <td>True</td>\n",
              "      <td>Point</td>\n",
              "      <td>[34.19208, -118.32929]</td>\n",
              "      <td>Point</td>\n",
              "      <td>[34.19178, -118.32886]</td>\n",
              "      <td>238</td>\n",
              "    </tr>\n",
              "    <tr>\n",
              "      <th>2</th>\n",
              "      <td>TrafficIncident:http://schemas.microsoft.com/s...</td>\n",
              "      <td>At 6th Ave - Construction work.</td>\n",
              "      <td>/Date(1583699508000)/</td>\n",
              "      <td>2907481111744996361</td>\n",
              "      <td>/Date(1583369733763)/</td>\n",
              "      <td>False</td>\n",
              "      <td>3</td>\n",
              "      <td>9</td>\n",
              "      <td>/Date(1583353942000)/</td>\n",
              "      <td>9</td>\n",
              "      <td>True</td>\n",
              "      <td>Point</td>\n",
              "      <td>[32.74833, -117.15953]</td>\n",
              "      <td>Point</td>\n",
              "      <td>[32.75163, -117.15821]</td>\n",
              "      <td>47</td>\n",
              "    </tr>\n",
              "    <tr>\n",
              "      <th>3</th>\n",
              "      <td>TrafficIncident:http://schemas.microsoft.com/s...</td>\n",
              "      <td>At Sweetwater Creek - Maintenance work.</td>\n",
              "      <td>/Date(1583456460000)/</td>\n",
              "      <td>2364337417081418991</td>\n",
              "      <td>/Date(1583421866040)/</td>\n",
              "      <td>False</td>\n",
              "      <td>2</td>\n",
              "      <td>9</td>\n",
              "      <td>/Date(1583420460000)/</td>\n",
              "      <td>9</td>\n",
              "      <td>True</td>\n",
              "      <td>Point</td>\n",
              "      <td>[37.60462, -119.96607]</td>\n",
              "      <td>Point</td>\n",
              "      <td>[37.64227, -119.92548]</td>\n",
              "      <td>831</td>\n",
              "    </tr>\n",
              "    <tr>\n",
              "      <th>4</th>\n",
              "      <td>TrafficIncident:http://schemas.microsoft.com/s...</td>\n",
              "      <td>Between Maryland Pkwy and NV-582/Boulder Hwy -...</td>\n",
              "      <td>/Date(1583699508000)/</td>\n",
              "      <td>3981690120991033745</td>\n",
              "      <td>/Date(1583369733763)/</td>\n",
              "      <td>False</td>\n",
              "      <td>2</td>\n",
              "      <td>9</td>\n",
              "      <td>/Date(1583353942000)/</td>\n",
              "      <td>9</td>\n",
              "      <td>True</td>\n",
              "      <td>Point</td>\n",
              "      <td>[36.10096, -115.13693]</td>\n",
              "      <td>Point</td>\n",
              "      <td>[36.10091, -115.05077]</td>\n",
              "      <td>617</td>\n",
              "    </tr>\n",
              "  </tbody>\n",
              "</table>\n",
              "</div>"
            ],
            "text/plain": [
              "                                              __type  \\\n",
              "0  TrafficIncident:http://schemas.microsoft.com/s...   \n",
              "1  TrafficIncident:http://schemas.microsoft.com/s...   \n",
              "2  TrafficIncident:http://schemas.microsoft.com/s...   \n",
              "3  TrafficIncident:http://schemas.microsoft.com/s...   \n",
              "4  TrafficIncident:http://schemas.microsoft.com/s...   \n",
              "\n",
              "                                         description                    end  \\\n",
              "0                              At 4th St - Roadwork.  /Date(1583751326000)/   \n",
              "1                  At Lake St/Empire Ave - Roadwork.  /Date(1583699508000)/   \n",
              "2                    At 6th Ave - Construction work.  /Date(1583699508000)/   \n",
              "3            At Sweetwater Creek - Maintenance work.  /Date(1583456460000)/   \n",
              "4  Between Maryland Pkwy and NV-582/Boulder Hwy -...  /Date(1583699508000)/   \n",
              "\n",
              "            incidentId           lastModified  roadClosed  severity  source  \\\n",
              "0  4439319157134259790  /Date(1583406000517)/       False         2       9   \n",
              "1  1756561160417118801  /Date(1583369733763)/       False         2       9   \n",
              "2  2907481111744996361  /Date(1583369733763)/       False         3       9   \n",
              "3  2364337417081418991  /Date(1583421866040)/       False         2       9   \n",
              "4  3981690120991033745  /Date(1583369733763)/       False         2       9   \n",
              "\n",
              "                   start  type  verified point.type       point.coordinates  \\\n",
              "0  /Date(1583405731000)/     9      True      Point  [34.05434, -118.25355]   \n",
              "1  /Date(1583353942000)/     9      True      Point  [34.19208, -118.32929]   \n",
              "2  /Date(1583353942000)/     9      True      Point  [32.74833, -117.15953]   \n",
              "3  /Date(1583420460000)/     9      True      Point  [37.60462, -119.96607]   \n",
              "4  /Date(1583353942000)/     9      True      Point  [36.10096, -115.13693]   \n",
              "\n",
              "  toPoint.type     toPoint.coordinates  elevation  \n",
              "0        Point    [34.05279, -118.255]        100  \n",
              "1        Point  [34.19178, -118.32886]        238  \n",
              "2        Point  [32.75163, -117.15821]         47  \n",
              "3        Point  [37.64227, -119.92548]        831  \n",
              "4        Point  [36.10091, -115.05077]        617  "
            ]
          },
          "execution_count": 27,
          "metadata": {},
          "output_type": "execute_result"
        }
      ],
      "source": [
        "df_construction = pd.read_csv('http://users.csc.calpoly.edu/~dsun09/data301/construction_with_elevations.csv')\n",
        "df_construction.head()"
      ]
    },
    {
      "cell_type": "markdown",
      "metadata": {},
      "source": [
        "__Compare Elevation to Severity__"
      ]
    },
    {
      "cell_type": "code",
      "execution_count": 38,
      "metadata": {},
      "outputs": [
        {
          "data": {
            "text/plain": [
              "<Axes: xlabel='elevation', ylabel='severity'>"
            ]
          },
          "execution_count": 38,
          "metadata": {},
          "output_type": "execute_result"
        },
        {
          "data": {
            "image/png": "[encoded data removed]",
            "text/plain": [
              "<Figure size 640x480 with 1 Axes>"
            ]
          },
          "metadata": {},
          "output_type": "display_data"
        }
      ],
      "source": [
        "df_construction.plot.scatter(x='elevation', y='severity')"
      ]
    },
    {
      "cell_type": "markdown",
      "metadata": {},
      "source": [
        "__Actual Code__"
      ]
    },
    {
      "cell_type": "code",
      "execution_count": 37,
      "metadata": {},
      "outputs": [
        {
          "name": "stderr",
          "output_type": "stream",
          "text": [
            "/var/folders/k7/10_k144d7ld4n27r23xj0lym0000gn/T/ipykernel_2368/4183424113.py:2: SettingWithCopyWarning: \n",
            "A value is trying to be set on a copy of a slice from a DataFrame.\n",
            "Try using .loc[row_indexer,col_indexer] = value instead\n",
            "\n",
            "See the caveats in the documentation: https://pandas.pydata.org/pandas-docs/stable/user_guide/indexing.html#returning-a-view-versus-a-copy\n",
            "  X_train['roadClosed'] = X_train['roadClosed'].astype(int)\n"
          ]
        },
        {
          "data": {
            "text/html": [
              "<div>\n",
              "<style scoped>\n",
              "    .dataframe tbody tr th:only-of-type {\n",
              "        vertical-align: middle;\n",
              "    }\n",
              "\n",
              "    .dataframe tbody tr th {\n",
              "        vertical-align: top;\n",
              "    }\n",
              "\n",
              "    .dataframe thead th {\n",
              "        text-align: right;\n",
              "    }\n",
              "</style>\n",
              "<table border=\"1\" class=\"dataframe\">\n",
              "  <thead>\n",
              "    <tr style=\"text-align: right;\">\n",
              "      <th></th>\n",
              "      <th>description</th>\n",
              "      <th>roadClosed</th>\n",
              "    </tr>\n",
              "  </thead>\n",
              "  <tbody>\n",
              "    <tr>\n",
              "      <th>0</th>\n",
              "      <td>At 4th St - Roadwork.</td>\n",
              "      <td>0</td>\n",
              "    </tr>\n",
              "    <tr>\n",
              "      <th>1</th>\n",
              "      <td>At Lake St/Empire Ave - Roadwork.</td>\n",
              "      <td>0</td>\n",
              "    </tr>\n",
              "    <tr>\n",
              "      <th>2</th>\n",
              "      <td>At 6th Ave - Construction work.</td>\n",
              "      <td>0</td>\n",
              "    </tr>\n",
              "    <tr>\n",
              "      <th>3</th>\n",
              "      <td>At Sweetwater Creek - Maintenance work.</td>\n",
              "      <td>0</td>\n",
              "    </tr>\n",
              "    <tr>\n",
              "      <th>4</th>\n",
              "      <td>Between Maryland Pkwy and NV-582/Boulder Hwy -...</td>\n",
              "      <td>0</td>\n",
              "    </tr>\n",
              "  </tbody>\n",
              "</table>\n",
              "</div>"
            ],
            "text/plain": [
              "                                         description  roadClosed\n",
              "0                              At 4th St - Roadwork.           0\n",
              "1                  At Lake St/Empire Ave - Roadwork.           0\n",
              "2                    At 6th Ave - Construction work.           0\n",
              "3            At Sweetwater Creek - Maintenance work.           0\n",
              "4  Between Maryland Pkwy and NV-582/Boulder Hwy -...           0"
            ]
          },
          "execution_count": 37,
          "metadata": {},
          "output_type": "execute_result"
        }
      ],
      "source": [
        "X_train = df_construction[['description', 'roadClosed']]\n",
        "X_train['roadClosed'] = X_train['roadClosed'].astype(int)\n",
        "y_train = df_construction['severity']\n",
        "X_train.head()"
      ]
    },
    {
      "cell_type": "code",
      "execution_count": 32,
      "metadata": {},
      "outputs": [
        {
          "data": {
            "text/html": [
              "<style>#sk-container-id-8 {color: black;}#sk-container-id-8 pre{padding: 0;}#sk-container-id-8 div.sk-toggleable {background-color: white;}#sk-container-id-8 label.sk-toggleable__label {cursor: pointer;display: block;width: 100%;margin-bottom: 0;padding: 0.3em;box-sizing: border-box;text-align: center;}#sk-container-id-8 label.sk-toggleable__label-arrow:before {content: \"▸\";float: left;margin-right: 0.25em;color: #696969;}#sk-container-id-8 label.sk-toggleable__label-arrow:hover:before {color: black;}#sk-container-id-8 div.sk-estimator:hover label.sk-toggleable__label-arrow:before {color: black;}#sk-container-id-8 div.sk-toggleable__content {max-height: 0;max-width: 0;overflow: hidden;text-align: left;background-color: #f0f8ff;}#sk-container-id-8 div.sk-toggleable__content pre {margin: 0.2em;color: black;border-radius: 0.25em;background-color: #f0f8ff;}#sk-container-id-8 input.sk-toggleable__control:checked~div.sk-toggleable__content {max-height: 200px;max-width: 100%;overflow: auto;}#sk-container-id-8 input.sk-toggleable__control:checked~label.sk-toggleable__label-arrow:before {content: \"▾\";}#sk-container-id-8 div.sk-estimator input.sk-toggleable__control:checked~label.sk-toggleable__label {background-color: #d4ebff;}#sk-container-id-8 div.sk-label input.sk-toggleable__control:checked~label.sk-toggleable__label {background-color: #d4ebff;}#sk-container-id-8 input.sk-hidden--visually {border: 0;clip: rect(1px 1px 1px 1px);clip: rect(1px, 1px, 1px, 1px);height: 1px;margin: -1px;overflow: hidden;padding: 0;position: absolute;width: 1px;}#sk-container-id-8 div.sk-estimator {font-family: monospace;background-color: #f0f8ff;border: 1px dotted black;border-radius: 0.25em;box-sizing: border-box;margin-bottom: 0.5em;}#sk-container-id-8 div.sk-estimator:hover {background-color: #d4ebff;}#sk-container-id-8 div.sk-parallel-item::after {content: \"\";width: 100%;border-bottom: 1px solid gray;flex-grow: 1;}#sk-container-id-8 div.sk-label:hover label.sk-toggleable__label {background-color: #d4ebff;}#sk-container-id-8 div.sk-serial::before {content: \"\";position: absolute;border-left: 1px solid gray;box-sizing: border-box;top: 0;bottom: 0;left: 50%;z-index: 0;}#sk-container-id-8 div.sk-serial {display: flex;flex-direction: column;align-items: center;background-color: white;padding-right: 0.2em;padding-left: 0.2em;position: relative;}#sk-container-id-8 div.sk-item {position: relative;z-index: 1;}#sk-container-id-8 div.sk-parallel {display: flex;align-items: stretch;justify-content: center;background-color: white;position: relative;}#sk-container-id-8 div.sk-item::before, #sk-container-id-8 div.sk-parallel-item::before {content: \"\";position: absolute;border-left: 1px solid gray;box-sizing: border-box;top: 0;bottom: 0;left: 50%;z-index: -1;}#sk-container-id-8 div.sk-parallel-item {display: flex;flex-direction: column;z-index: 1;position: relative;background-color: white;}#sk-container-id-8 div.sk-parallel-item:first-child::after {align-self: flex-end;width: 50%;}#sk-container-id-8 div.sk-parallel-item:last-child::after {align-self: flex-start;width: 50%;}#sk-container-id-8 div.sk-parallel-item:only-child::after {width: 0;}#sk-container-id-8 div.sk-dashed-wrapped {border: 1px dashed gray;margin: 0 0.4em 0.5em 0.4em;box-sizing: border-box;padding-bottom: 0.4em;background-color: white;}#sk-container-id-8 div.sk-label label {font-family: monospace;font-weight: bold;display: inline-block;line-height: 1.2em;}#sk-container-id-8 div.sk-label-container {text-align: center;}#sk-container-id-8 div.sk-container {/* jupyter's `normalize.less` sets `[hidden] { display: none; }` but bootstrap.min.css set `[hidden] { display: none !important; }` so we also need the `!important` here to be able to override the default hidden behavior on the sphinx rendered scikit-learn.org. See: https://github.com/scikit-learn/scikit-learn/issues/21755 */display: inline-block !important;position: relative;}#sk-container-id-8 div.sk-text-repr-fallback {display: none;}</style><div id=\"sk-container-id-8\" class=\"sk-top-container\"><div class=\"sk-text-repr-fallback\"><pre>ColumnTransformer(remainder=&#x27;passthrough&#x27;,\n",
              "                  transformers=[(&#x27;onehotencoder&#x27;, OneHotEncoder(),\n",
              "                                 [&#x27;Description&#x27;])])</pre><b>In a Jupyter environment, please rerun this cell to show the HTML representation or trust the notebook. <br />On GitHub, the HTML representation is unable to render, please try loading this page with nbviewer.org.</b></div><div class=\"sk-container\" hidden><div class=\"sk-item sk-dashed-wrapped\"><div class=\"sk-label-container\"><div class=\"sk-label sk-toggleable\"><input class=\"sk-toggleable__control sk-hidden--visually\" id=\"sk-estimator-id-26\" type=\"checkbox\" ><label for=\"sk-estimator-id-26\" class=\"sk-toggleable__label sk-toggleable__label-arrow\">ColumnTransformer</label><div class=\"sk-toggleable__content\"><pre>ColumnTransformer(remainder=&#x27;passthrough&#x27;,\n",
              "                  transformers=[(&#x27;onehotencoder&#x27;, OneHotEncoder(),\n",
              "                                 [&#x27;Description&#x27;])])</pre></div></div></div><div class=\"sk-parallel\"><div class=\"sk-parallel-item\"><div class=\"sk-item\"><div class=\"sk-label-container\"><div class=\"sk-label sk-toggleable\"><input class=\"sk-toggleable__control sk-hidden--visually\" id=\"sk-estimator-id-27\" type=\"checkbox\" ><label for=\"sk-estimator-id-27\" class=\"sk-toggleable__label sk-toggleable__label-arrow\">onehotencoder</label><div class=\"sk-toggleable__content\"><pre>[&#x27;Description&#x27;]</pre></div></div></div><div class=\"sk-serial\"><div class=\"sk-item\"><div class=\"sk-estimator sk-toggleable\"><input class=\"sk-toggleable__control sk-hidden--visually\" id=\"sk-estimator-id-28\" type=\"checkbox\" ><label for=\"sk-estimator-id-28\" class=\"sk-toggleable__label sk-toggleable__label-arrow\">OneHotEncoder</label><div class=\"sk-toggleable__content\"><pre>OneHotEncoder()</pre></div></div></div></div></div></div><div class=\"sk-parallel-item\"><div class=\"sk-item\"><div class=\"sk-label-container\"><div class=\"sk-label sk-toggleable\"><input class=\"sk-toggleable__control sk-hidden--visually\" id=\"sk-estimator-id-29\" type=\"checkbox\" ><label for=\"sk-estimator-id-29\" class=\"sk-toggleable__label sk-toggleable__label-arrow\">remainder</label><div class=\"sk-toggleable__content\"><pre></pre></div></div></div><div class=\"sk-serial\"><div class=\"sk-item\"><div class=\"sk-estimator sk-toggleable\"><input class=\"sk-toggleable__control sk-hidden--visually\" id=\"sk-estimator-id-30\" type=\"checkbox\" ><label for=\"sk-estimator-id-30\" class=\"sk-toggleable__label sk-toggleable__label-arrow\">passthrough</label><div class=\"sk-toggleable__content\"><pre>passthrough</pre></div></div></div></div></div></div></div></div></div></div>"
            ],
            "text/plain": [
              "ColumnTransformer(remainder='passthrough',\n",
              "                  transformers=[('onehotencoder', OneHotEncoder(),\n",
              "                                 ['Description'])])"
            ]
          },
          "execution_count": 32,
          "metadata": {},
          "output_type": "execute_result"
        }
      ],
      "source": [
        "ct = make_column_transformer(\n",
        "    (OneHotEncoder(), [\"Description\"]),\n",
        "    remainder=\"passthrough\"  # all other columns in X will be passed through unchanged\n",
        ")\n",
        "ct"
      ]
    },
    {
      "cell_type": "code",
      "execution_count": null,
      "metadata": {},
      "outputs": [],
      "source": [
        "pipeline = make_pipeline(\n",
        "    ct,\n",
        "    StandardScaler(),\n",
        "    KNeighborsRegressor(n_neighbors=5)\n",
        ")"
      ]
    },
    {
      "cell_type": "markdown",
      "metadata": {
        "id": "HhdGNxizUWUu"
      },
      "source": [
        "## Problem\n",
        "\n",
        "Consider the OKCupid data set available at https://dlsun.github.io/pods/data/okcupid.csv, and the data documentation is [available here](https://github.com/rudeboybert/JSE_OkCupid/raw/master/okcupid_codebook.txt).\n",
        "\n",
        "Study the profile of user 2855 in the data set, especially what they wrote in `essay9` about what they are looking for in a partner. Recommend five users in this data set that you think would be most compatible with this user."
      ]
    },
    {
      "cell_type": "markdown",
      "metadata": {},
      "source": [
        "__SRESHTA'S NOTE:__ *Also check out the Exam 1 as there is the same exact question there. However, we used a different approach to solve, so just compare this with that one. The approach below uses a **TF-IDF matrix** and **cosine similarities**, whereas, the approach in the Exam 1 practice just checks for key words and does a liner regression.*"
      ]
    },
    {
      "cell_type": "code",
      "execution_count": 52,
      "metadata": {},
      "outputs": [],
      "source": [
        "from sklearn.feature_extraction.text import TfidfVectorizer\n",
        "from sklearn.metrics.pairwise import cosine_similarity, cosine_distances"
      ]
    },
    {
      "cell_type": "code",
      "execution_count": 39,
      "metadata": {},
      "outputs": [
        {
          "data": {
            "text/html": [
              "<div>\n",
              "<style scoped>\n",
              "    .dataframe tbody tr th:only-of-type {\n",
              "        vertical-align: middle;\n",
              "    }\n",
              "\n",
              "    .dataframe tbody tr th {\n",
              "        vertical-align: top;\n",
              "    }\n",
              "\n",
              "    .dataframe thead th {\n",
              "        text-align: right;\n",
              "    }\n",
              "</style>\n",
              "<table border=\"1\" class=\"dataframe\">\n",
              "  <thead>\n",
              "    <tr style=\"text-align: right;\">\n",
              "      <th></th>\n",
              "      <th>age</th>\n",
              "      <th>body_type</th>\n",
              "      <th>diet</th>\n",
              "      <th>drinks</th>\n",
              "      <th>drugs</th>\n",
              "      <th>education</th>\n",
              "      <th>essay0</th>\n",
              "      <th>essay1</th>\n",
              "      <th>essay2</th>\n",
              "      <th>essay3</th>\n",
              "      <th>...</th>\n",
              "      <th>location</th>\n",
              "      <th>offspring</th>\n",
              "      <th>orientation</th>\n",
              "      <th>pets</th>\n",
              "      <th>religion</th>\n",
              "      <th>sex</th>\n",
              "      <th>sign</th>\n",
              "      <th>smokes</th>\n",
              "      <th>height</th>\n",
              "      <th>status</th>\n",
              "    </tr>\n",
              "  </thead>\n",
              "  <tbody>\n",
              "    <tr>\n",
              "      <th>0</th>\n",
              "      <td>31</td>\n",
              "      <td>NaN</td>\n",
              "      <td>mostly vegetarian</td>\n",
              "      <td>socially</td>\n",
              "      <td>sometimes</td>\n",
              "      <td>graduated from college/university</td>\n",
              "      <td>75% nice, 45% shy, 80% stubborn, 100% charming...</td>\n",
              "      <td>i'm a new nurse. it rules.</td>\n",
              "      <td>multiple-choice questions, dancing.</td>\n",
              "      <td>it depends on the people.</td>\n",
              "      <td>...</td>\n",
              "      <td>san francisco, california</td>\n",
              "      <td>might want kids</td>\n",
              "      <td>gay</td>\n",
              "      <td>likes cats</td>\n",
              "      <td>buddhism</td>\n",
              "      <td>f</td>\n",
              "      <td>taurus and it&amp;rsquo;s fun to think about</td>\n",
              "      <td>no</td>\n",
              "      <td>67.0</td>\n",
              "      <td>single</td>\n",
              "    </tr>\n",
              "    <tr>\n",
              "      <th>1</th>\n",
              "      <td>25</td>\n",
              "      <td>average</td>\n",
              "      <td>NaN</td>\n",
              "      <td>socially</td>\n",
              "      <td>NaN</td>\n",
              "      <td>working on college/university</td>\n",
              "      <td>i like trees, spending long periods of time co...</td>\n",
              "      <td>studying landscape horticulture, beekeeping, g...</td>\n",
              "      <td>wasting time, making breakfast, nesting</td>\n",
              "      <td>i have a lot of freckles</td>\n",
              "      <td>...</td>\n",
              "      <td>oakland, california</td>\n",
              "      <td>NaN</td>\n",
              "      <td>gay</td>\n",
              "      <td>NaN</td>\n",
              "      <td>NaN</td>\n",
              "      <td>m</td>\n",
              "      <td>sagittarius and it&amp;rsquo;s fun to think about</td>\n",
              "      <td>no</td>\n",
              "      <td>66.0</td>\n",
              "      <td>single</td>\n",
              "    </tr>\n",
              "    <tr>\n",
              "      <th>2</th>\n",
              "      <td>43</td>\n",
              "      <td>curvy</td>\n",
              "      <td>NaN</td>\n",
              "      <td>rarely</td>\n",
              "      <td>never</td>\n",
              "      <td>graduated from masters program</td>\n",
              "      <td>NaN</td>\n",
              "      <td>NaN</td>\n",
              "      <td>NaN</td>\n",
              "      <td>NaN</td>\n",
              "      <td>...</td>\n",
              "      <td>san francisco, california</td>\n",
              "      <td>has a kid</td>\n",
              "      <td>straight</td>\n",
              "      <td>likes dogs and has cats</td>\n",
              "      <td>other and laughing about it</td>\n",
              "      <td>f</td>\n",
              "      <td>leo and it&amp;rsquo;s fun to think about</td>\n",
              "      <td>trying to quit</td>\n",
              "      <td>65.0</td>\n",
              "      <td>single</td>\n",
              "    </tr>\n",
              "    <tr>\n",
              "      <th>3</th>\n",
              "      <td>31</td>\n",
              "      <td>average</td>\n",
              "      <td>NaN</td>\n",
              "      <td>socially</td>\n",
              "      <td>never</td>\n",
              "      <td>NaN</td>\n",
              "      <td>i am a seeker of laughs ,music ,magick good pe...</td>\n",
              "      <td>i strive to live life to the fullest and to tr...</td>\n",
              "      <td>i am good at my magic and weaving a world of i...</td>\n",
              "      <td>i am guessing y'all would notice my jewelry an...</td>\n",
              "      <td>...</td>\n",
              "      <td>san francisco, california</td>\n",
              "      <td>doesn&amp;rsquo;t want kids</td>\n",
              "      <td>gay</td>\n",
              "      <td>NaN</td>\n",
              "      <td>other and very serious about it</td>\n",
              "      <td>m</td>\n",
              "      <td>capricorn and it&amp;rsquo;s fun to think about</td>\n",
              "      <td>trying to quit</td>\n",
              "      <td>70.0</td>\n",
              "      <td>single</td>\n",
              "    </tr>\n",
              "    <tr>\n",
              "      <th>4</th>\n",
              "      <td>34</td>\n",
              "      <td>NaN</td>\n",
              "      <td>NaN</td>\n",
              "      <td>socially</td>\n",
              "      <td>NaN</td>\n",
              "      <td>graduated from ph.d program</td>\n",
              "      <td>i've just moved here from london after finishi...</td>\n",
              "      <td>i'm doing a postdoc in psychology at stanford</td>\n",
              "      <td>NaN</td>\n",
              "      <td>NaN</td>\n",
              "      <td>...</td>\n",
              "      <td>san francisco, california</td>\n",
              "      <td>NaN</td>\n",
              "      <td>gay</td>\n",
              "      <td>NaN</td>\n",
              "      <td>NaN</td>\n",
              "      <td>m</td>\n",
              "      <td>cancer but it doesn&amp;rsquo;t matter</td>\n",
              "      <td>NaN</td>\n",
              "      <td>71.0</td>\n",
              "      <td>single</td>\n",
              "    </tr>\n",
              "  </tbody>\n",
              "</table>\n",
              "<p>5 rows × 31 columns</p>\n",
              "</div>"
            ],
            "text/plain": [
              "   age body_type               diet    drinks      drugs  \\\n",
              "0   31       NaN  mostly vegetarian  socially  sometimes   \n",
              "1   25   average                NaN  socially        NaN   \n",
              "2   43     curvy                NaN    rarely      never   \n",
              "3   31   average                NaN  socially      never   \n",
              "4   34       NaN                NaN  socially        NaN   \n",
              "\n",
              "                           education  \\\n",
              "0  graduated from college/university   \n",
              "1      working on college/university   \n",
              "2     graduated from masters program   \n",
              "3                                NaN   \n",
              "4        graduated from ph.d program   \n",
              "\n",
              "                                              essay0  \\\n",
              "0  75% nice, 45% shy, 80% stubborn, 100% charming...   \n",
              "1  i like trees, spending long periods of time co...   \n",
              "2                                                NaN   \n",
              "3  i am a seeker of laughs ,music ,magick good pe...   \n",
              "4  i've just moved here from london after finishi...   \n",
              "\n",
              "                                              essay1  \\\n",
              "0                         i'm a new nurse. it rules.   \n",
              "1  studying landscape horticulture, beekeeping, g...   \n",
              "2                                                NaN   \n",
              "3  i strive to live life to the fullest and to tr...   \n",
              "4      i'm doing a postdoc in psychology at stanford   \n",
              "\n",
              "                                              essay2  \\\n",
              "0                multiple-choice questions, dancing.   \n",
              "1            wasting time, making breakfast, nesting   \n",
              "2                                                NaN   \n",
              "3  i am good at my magic and weaving a world of i...   \n",
              "4                                                NaN   \n",
              "\n",
              "                                              essay3  ...  \\\n",
              "0                          it depends on the people.  ...   \n",
              "1                           i have a lot of freckles  ...   \n",
              "2                                                NaN  ...   \n",
              "3  i am guessing y'all would notice my jewelry an...  ...   \n",
              "4                                                NaN  ...   \n",
              "\n",
              "                    location                offspring orientation  \\\n",
              "0  san francisco, california          might want kids         gay   \n",
              "1        oakland, california                      NaN         gay   \n",
              "2  san francisco, california                has a kid    straight   \n",
              "3  san francisco, california  doesn&rsquo;t want kids         gay   \n",
              "4  san francisco, california                      NaN         gay   \n",
              "\n",
              "                      pets                         religion sex  \\\n",
              "0               likes cats                         buddhism   f   \n",
              "1                      NaN                              NaN   m   \n",
              "2  likes dogs and has cats      other and laughing about it   f   \n",
              "3                      NaN  other and very serious about it   m   \n",
              "4                      NaN                              NaN   m   \n",
              "\n",
              "                                            sign          smokes  height  \\\n",
              "0       taurus and it&rsquo;s fun to think about              no    67.0   \n",
              "1  sagittarius and it&rsquo;s fun to think about              no    66.0   \n",
              "2          leo and it&rsquo;s fun to think about  trying to quit    65.0   \n",
              "3    capricorn and it&rsquo;s fun to think about  trying to quit    70.0   \n",
              "4             cancer but it doesn&rsquo;t matter             NaN    71.0   \n",
              "\n",
              "   status  \n",
              "0  single  \n",
              "1  single  \n",
              "2  single  \n",
              "3  single  \n",
              "4  single  \n",
              "\n",
              "[5 rows x 31 columns]"
            ]
          },
          "execution_count": 39,
          "metadata": {},
          "output_type": "execute_result"
        }
      ],
      "source": [
        "ok_cupid = pd.read_csv('https://dlsun.github.io/pods/data/okcupid.csv')\n",
        "ok_cupid.head()"
      ]
    },
    {
      "cell_type": "code",
      "execution_count": 41,
      "metadata": {},
      "outputs": [
        {
          "data": {
            "text/plain": [
              "'you are looking for a friend, i make a great one.<br />\\nyou love chocolate, so do i.<br />\\nyou enjoy intellectually stimulating conversation...'"
            ]
          },
          "execution_count": 41,
          "metadata": {},
          "output_type": "execute_result"
        }
      ],
      "source": [
        "ok_cupid.loc[2855, 'essay9']"
      ]
    },
    {
      "cell_type": "code",
      "execution_count": 51,
      "metadata": {},
      "outputs": [],
      "source": [
        "essays = ok_cupid['essay0'].fillna('')\n",
        "essays[2855] = ok_cupid.loc[2855, 'essay9']"
      ]
    },
    {
      "cell_type": "code",
      "execution_count": 55,
      "metadata": {},
      "outputs": [
        {
          "data": {
            "text/html": [
              "<div>\n",
              "<style scoped>\n",
              "    .dataframe tbody tr th:only-of-type {\n",
              "        vertical-align: middle;\n",
              "    }\n",
              "\n",
              "    .dataframe tbody tr th {\n",
              "        vertical-align: top;\n",
              "    }\n",
              "\n",
              "    .dataframe thead th {\n",
              "        text-align: right;\n",
              "    }\n",
              "</style>\n",
              "<table border=\"1\" class=\"dataframe\">\n",
              "  <thead>\n",
              "    <tr style=\"text-align: right;\">\n",
              "      <th></th>\n",
              "      <th>0</th>\n",
              "      <th>00</th>\n",
              "      <th>000</th>\n",
              "      <th>01</th>\n",
              "      <th>01101000</th>\n",
              "      <th>01101001</th>\n",
              "      <th>03</th>\n",
              "      <th>06</th>\n",
              "      <th>07</th>\n",
              "      <th>08cm</th>\n",
              "      <th>...</th>\n",
              "      <th>zone</th>\n",
              "      <th>zones</th>\n",
              "      <th>zoo</th>\n",
              "      <th>zoolander</th>\n",
              "      <th>zubin</th>\n",
              "      <th>zumba</th>\n",
              "      <th>zurich</th>\n",
              "      <th>zydeco</th>\n",
              "      <th>zynga</th>\n",
              "      <th>zyrtec</th>\n",
              "    </tr>\n",
              "  </thead>\n",
              "  <tbody>\n",
              "    <tr>\n",
              "      <th>0</th>\n",
              "      <td>0.0</td>\n",
              "      <td>0.0</td>\n",
              "      <td>0.0</td>\n",
              "      <td>0.0</td>\n",
              "      <td>0.0</td>\n",
              "      <td>0.0</td>\n",
              "      <td>0.0</td>\n",
              "      <td>0.0</td>\n",
              "      <td>0.0</td>\n",
              "      <td>0.0</td>\n",
              "      <td>...</td>\n",
              "      <td>0.0</td>\n",
              "      <td>0.0</td>\n",
              "      <td>0.0</td>\n",
              "      <td>0.0</td>\n",
              "      <td>0.0</td>\n",
              "      <td>0.0</td>\n",
              "      <td>0.0</td>\n",
              "      <td>0.0</td>\n",
              "      <td>0.0</td>\n",
              "      <td>0.0</td>\n",
              "    </tr>\n",
              "    <tr>\n",
              "      <th>1</th>\n",
              "      <td>0.0</td>\n",
              "      <td>0.0</td>\n",
              "      <td>0.0</td>\n",
              "      <td>0.0</td>\n",
              "      <td>0.0</td>\n",
              "      <td>0.0</td>\n",
              "      <td>0.0</td>\n",
              "      <td>0.0</td>\n",
              "      <td>0.0</td>\n",
              "      <td>0.0</td>\n",
              "      <td>...</td>\n",
              "      <td>0.0</td>\n",
              "      <td>0.0</td>\n",
              "      <td>0.0</td>\n",
              "      <td>0.0</td>\n",
              "      <td>0.0</td>\n",
              "      <td>0.0</td>\n",
              "      <td>0.0</td>\n",
              "      <td>0.0</td>\n",
              "      <td>0.0</td>\n",
              "      <td>0.0</td>\n",
              "    </tr>\n",
              "    <tr>\n",
              "      <th>2</th>\n",
              "      <td>0.0</td>\n",
              "      <td>0.0</td>\n",
              "      <td>0.0</td>\n",
              "      <td>0.0</td>\n",
              "      <td>0.0</td>\n",
              "      <td>0.0</td>\n",
              "      <td>0.0</td>\n",
              "      <td>0.0</td>\n",
              "      <td>0.0</td>\n",
              "      <td>0.0</td>\n",
              "      <td>...</td>\n",
              "      <td>0.0</td>\n",
              "      <td>0.0</td>\n",
              "      <td>0.0</td>\n",
              "      <td>0.0</td>\n",
              "      <td>0.0</td>\n",
              "      <td>0.0</td>\n",
              "      <td>0.0</td>\n",
              "      <td>0.0</td>\n",
              "      <td>0.0</td>\n",
              "      <td>0.0</td>\n",
              "    </tr>\n",
              "    <tr>\n",
              "      <th>3</th>\n",
              "      <td>0.0</td>\n",
              "      <td>0.0</td>\n",
              "      <td>0.0</td>\n",
              "      <td>0.0</td>\n",
              "      <td>0.0</td>\n",
              "      <td>0.0</td>\n",
              "      <td>0.0</td>\n",
              "      <td>0.0</td>\n",
              "      <td>0.0</td>\n",
              "      <td>0.0</td>\n",
              "      <td>...</td>\n",
              "      <td>0.0</td>\n",
              "      <td>0.0</td>\n",
              "      <td>0.0</td>\n",
              "      <td>0.0</td>\n",
              "      <td>0.0</td>\n",
              "      <td>0.0</td>\n",
              "      <td>0.0</td>\n",
              "      <td>0.0</td>\n",
              "      <td>0.0</td>\n",
              "      <td>0.0</td>\n",
              "    </tr>\n",
              "    <tr>\n",
              "      <th>4</th>\n",
              "      <td>0.0</td>\n",
              "      <td>0.0</td>\n",
              "      <td>0.0</td>\n",
              "      <td>0.0</td>\n",
              "      <td>0.0</td>\n",
              "      <td>0.0</td>\n",
              "      <td>0.0</td>\n",
              "      <td>0.0</td>\n",
              "      <td>0.0</td>\n",
              "      <td>0.0</td>\n",
              "      <td>...</td>\n",
              "      <td>0.0</td>\n",
              "      <td>0.0</td>\n",
              "      <td>0.0</td>\n",
              "      <td>0.0</td>\n",
              "      <td>0.0</td>\n",
              "      <td>0.0</td>\n",
              "      <td>0.0</td>\n",
              "      <td>0.0</td>\n",
              "      <td>0.0</td>\n",
              "      <td>0.0</td>\n",
              "    </tr>\n",
              "    <tr>\n",
              "      <th>...</th>\n",
              "      <td>...</td>\n",
              "      <td>...</td>\n",
              "      <td>...</td>\n",
              "      <td>...</td>\n",
              "      <td>...</td>\n",
              "      <td>...</td>\n",
              "      <td>...</td>\n",
              "      <td>...</td>\n",
              "      <td>...</td>\n",
              "      <td>...</td>\n",
              "      <td>...</td>\n",
              "      <td>...</td>\n",
              "      <td>...</td>\n",
              "      <td>...</td>\n",
              "      <td>...</td>\n",
              "      <td>...</td>\n",
              "      <td>...</td>\n",
              "      <td>...</td>\n",
              "      <td>...</td>\n",
              "      <td>...</td>\n",
              "      <td>...</td>\n",
              "    </tr>\n",
              "    <tr>\n",
              "      <th>2995</th>\n",
              "      <td>0.0</td>\n",
              "      <td>0.0</td>\n",
              "      <td>0.0</td>\n",
              "      <td>0.0</td>\n",
              "      <td>0.0</td>\n",
              "      <td>0.0</td>\n",
              "      <td>0.0</td>\n",
              "      <td>0.0</td>\n",
              "      <td>0.0</td>\n",
              "      <td>0.0</td>\n",
              "      <td>...</td>\n",
              "      <td>0.0</td>\n",
              "      <td>0.0</td>\n",
              "      <td>0.0</td>\n",
              "      <td>0.0</td>\n",
              "      <td>0.0</td>\n",
              "      <td>0.0</td>\n",
              "      <td>0.0</td>\n",
              "      <td>0.0</td>\n",
              "      <td>0.0</td>\n",
              "      <td>0.0</td>\n",
              "    </tr>\n",
              "    <tr>\n",
              "      <th>2996</th>\n",
              "      <td>0.0</td>\n",
              "      <td>0.0</td>\n",
              "      <td>0.0</td>\n",
              "      <td>0.0</td>\n",
              "      <td>0.0</td>\n",
              "      <td>0.0</td>\n",
              "      <td>0.0</td>\n",
              "      <td>0.0</td>\n",
              "      <td>0.0</td>\n",
              "      <td>0.0</td>\n",
              "      <td>...</td>\n",
              "      <td>0.0</td>\n",
              "      <td>0.0</td>\n",
              "      <td>0.0</td>\n",
              "      <td>0.0</td>\n",
              "      <td>0.0</td>\n",
              "      <td>0.0</td>\n",
              "      <td>0.0</td>\n",
              "      <td>0.0</td>\n",
              "      <td>0.0</td>\n",
              "      <td>0.0</td>\n",
              "    </tr>\n",
              "    <tr>\n",
              "      <th>2997</th>\n",
              "      <td>0.0</td>\n",
              "      <td>0.0</td>\n",
              "      <td>0.0</td>\n",
              "      <td>0.0</td>\n",
              "      <td>0.0</td>\n",
              "      <td>0.0</td>\n",
              "      <td>0.0</td>\n",
              "      <td>0.0</td>\n",
              "      <td>0.0</td>\n",
              "      <td>0.0</td>\n",
              "      <td>...</td>\n",
              "      <td>0.0</td>\n",
              "      <td>0.0</td>\n",
              "      <td>0.0</td>\n",
              "      <td>0.0</td>\n",
              "      <td>0.0</td>\n",
              "      <td>0.0</td>\n",
              "      <td>0.0</td>\n",
              "      <td>0.0</td>\n",
              "      <td>0.0</td>\n",
              "      <td>0.0</td>\n",
              "    </tr>\n",
              "    <tr>\n",
              "      <th>2998</th>\n",
              "      <td>0.0</td>\n",
              "      <td>0.0</td>\n",
              "      <td>0.0</td>\n",
              "      <td>0.0</td>\n",
              "      <td>0.0</td>\n",
              "      <td>0.0</td>\n",
              "      <td>0.0</td>\n",
              "      <td>0.0</td>\n",
              "      <td>0.0</td>\n",
              "      <td>0.0</td>\n",
              "      <td>...</td>\n",
              "      <td>0.0</td>\n",
              "      <td>0.0</td>\n",
              "      <td>0.0</td>\n",
              "      <td>0.0</td>\n",
              "      <td>0.0</td>\n",
              "      <td>0.0</td>\n",
              "      <td>0.0</td>\n",
              "      <td>0.0</td>\n",
              "      <td>0.0</td>\n",
              "      <td>0.0</td>\n",
              "    </tr>\n",
              "    <tr>\n",
              "      <th>2999</th>\n",
              "      <td>0.0</td>\n",
              "      <td>0.0</td>\n",
              "      <td>0.0</td>\n",
              "      <td>0.0</td>\n",
              "      <td>0.0</td>\n",
              "      <td>0.0</td>\n",
              "      <td>0.0</td>\n",
              "      <td>0.0</td>\n",
              "      <td>0.0</td>\n",
              "      <td>0.0</td>\n",
              "      <td>...</td>\n",
              "      <td>0.0</td>\n",
              "      <td>0.0</td>\n",
              "      <td>0.0</td>\n",
              "      <td>0.0</td>\n",
              "      <td>0.0</td>\n",
              "      <td>0.0</td>\n",
              "      <td>0.0</td>\n",
              "      <td>0.0</td>\n",
              "      <td>0.0</td>\n",
              "      <td>0.0</td>\n",
              "    </tr>\n",
              "  </tbody>\n",
              "</table>\n",
              "<p>3000 rows × 16599 columns</p>\n",
              "</div>"
            ],
            "text/plain": [
              "        0   00  000   01  01101000  01101001   03   06   07  08cm  ...  zone  \\\n",
              "0     0.0  0.0  0.0  0.0       0.0       0.0  0.0  0.0  0.0   0.0  ...   0.0   \n",
              "1     0.0  0.0  0.0  0.0       0.0       0.0  0.0  0.0  0.0   0.0  ...   0.0   \n",
              "2     0.0  0.0  0.0  0.0       0.0       0.0  0.0  0.0  0.0   0.0  ...   0.0   \n",
              "3     0.0  0.0  0.0  0.0       0.0       0.0  0.0  0.0  0.0   0.0  ...   0.0   \n",
              "4     0.0  0.0  0.0  0.0       0.0       0.0  0.0  0.0  0.0   0.0  ...   0.0   \n",
              "...   ...  ...  ...  ...       ...       ...  ...  ...  ...   ...  ...   ...   \n",
              "2995  0.0  0.0  0.0  0.0       0.0       0.0  0.0  0.0  0.0   0.0  ...   0.0   \n",
              "2996  0.0  0.0  0.0  0.0       0.0       0.0  0.0  0.0  0.0   0.0  ...   0.0   \n",
              "2997  0.0  0.0  0.0  0.0       0.0       0.0  0.0  0.0  0.0   0.0  ...   0.0   \n",
              "2998  0.0  0.0  0.0  0.0       0.0       0.0  0.0  0.0  0.0   0.0  ...   0.0   \n",
              "2999  0.0  0.0  0.0  0.0       0.0       0.0  0.0  0.0  0.0   0.0  ...   0.0   \n",
              "\n",
              "      zones  zoo  zoolander  zubin  zumba  zurich  zydeco  zynga  zyrtec  \n",
              "0       0.0  0.0        0.0    0.0    0.0     0.0     0.0    0.0     0.0  \n",
              "1       0.0  0.0        0.0    0.0    0.0     0.0     0.0    0.0     0.0  \n",
              "2       0.0  0.0        0.0    0.0    0.0     0.0     0.0    0.0     0.0  \n",
              "3       0.0  0.0        0.0    0.0    0.0     0.0     0.0    0.0     0.0  \n",
              "4       0.0  0.0        0.0    0.0    0.0     0.0     0.0    0.0     0.0  \n",
              "...     ...  ...        ...    ...    ...     ...     ...    ...     ...  \n",
              "2995    0.0  0.0        0.0    0.0    0.0     0.0     0.0    0.0     0.0  \n",
              "2996    0.0  0.0        0.0    0.0    0.0     0.0     0.0    0.0     0.0  \n",
              "2997    0.0  0.0        0.0    0.0    0.0     0.0     0.0    0.0     0.0  \n",
              "2998    0.0  0.0        0.0    0.0    0.0     0.0     0.0    0.0     0.0  \n",
              "2999    0.0  0.0        0.0    0.0    0.0     0.0     0.0    0.0     0.0  \n",
              "\n",
              "[3000 rows x 16599 columns]"
            ]
          },
          "execution_count": 55,
          "metadata": {},
          "output_type": "execute_result"
        }
      ],
      "source": [
        "vec = TfidfVectorizer(token_pattern=r\"(?u)\\b\\w+\\b\", smooth_idf = False, norm=None)\n",
        "vec.fit(essays)\n",
        "tf_idf_sparse = vec.transform(essays)\n",
        "\n",
        "pd.DataFrame(\n",
        "    tf_idf_sparse.todense(),\n",
        "    columns=vec.get_feature_names_out()\n",
        ")\n"
      ]
    },
    {
      "cell_type": "code",
      "execution_count": 58,
      "metadata": {},
      "outputs": [
        {
          "data": {
            "text/plain": [
              "1107    0.379910\n",
              "1392    0.323154\n",
              "316     0.278317\n",
              "1076    0.278282\n",
              "2519    0.270985\n",
              "Name: 2855, dtype: float64"
            ]
          },
          "execution_count": 58,
          "metadata": {},
          "output_type": "execute_result"
        }
      ],
      "source": [
        "cos_sim = pd.DataFrame(cosine_similarity(tf_idf_sparse))[2855]\n",
        "most_similar = cos_sim.sort_values(ascending=False)\n",
        "most_similar[1:6]"
      ]
    }
  ],
  "metadata": {
    "colab": {
      "provenance": []
    },
    "kernelspec": {
      "display_name": "Python 3",
      "language": "python",
      "name": "python3"
    },
    "language_info": {
      "codemirror_mode": {
        "name": "ipython",
        "version": 3
      },
      "file_extension": ".py",
      "mimetype": "text/x-python",
      "name": "python",
      "nbconvert_exporter": "python",
      "pygments_lexer": "ipython3",
      "version": "3.9.18"
    }
  },
  "nbformat": 4,
  "nbformat_minor": 0
}
