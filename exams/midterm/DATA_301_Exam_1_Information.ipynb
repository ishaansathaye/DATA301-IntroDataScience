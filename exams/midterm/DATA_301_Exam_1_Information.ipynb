{
  "nbformat": 4,
  "nbformat_minor": 0,
  "metadata": {
    "kernelspec": {
      "display_name": "Python 3",
      "language": "python",
      "name": "python3"
    },
    "language_info": {
      "codemirror_mode": {
        "name": "ipython",
        "version": 3
      },
      "file_extension": ".py",
      "mimetype": "text/x-python",
      "name": "python",
      "nbconvert_exporter": "python",
      "pygments_lexer": "ipython3",
      "version": "3.6.8"
    },
    "colab": {
      "provenance": []
    }
  },
  "cells": [
    {
      "cell_type": "markdown",
      "metadata": {
        "id": "v7fFun2jV4YK"
      },
      "source": [
        "# Exam 1 Info\n",
        "\n",
        "Exam 1 will be in class on Friday, Oct 20. You will have the entire class period (110 minutes) to complete the exam. Most of the questions on Exam 1 will require coding, though there might also be some more conceptual questions. You will complete and submit your work in a Colab notebook. **You will be required to use the desktop computers in the classroom for the exam.**\n",
        "\n"
      ]
    },
    {
      "cell_type": "markdown",
      "source": [
        "Some of the questions on the exam might be deliberately ambiguous. I want to see how you take an ambiguous, real-world question and translate it into a concrete question that can be answered with data. For some problems, several answers might be acceptable, as long as you do a good job justifying your approach and answer. Just answer each question to the best of your ability according to _your_ interpretation of the question, and be clear about how you are interpreting the question."
      ],
      "metadata": {
        "id": "Dwy0uewA8iYa"
      }
    },
    {
      "cell_type": "markdown",
      "source": [
        "You will need to know how to read in data sets from a file (e.g., `read_csv`). You will NOT be required to scrape data from webpages or APIs during the exam. However, I might give you data that I pulled from an API or webpage or you might need to use the documentation of the API or the source of the webpage."
      ],
      "metadata": {
        "id": "A5KpMQoa82gF"
      }
    },
    {
      "cell_type": "markdown",
      "source": [
        "## What is allowed during the exam\n",
        "\n",
        "- You are allowed to use your own notes, electronic or hard copy, as long as they are your own original notes and not just copies of other sources.\n",
        "- You are allowed to use all course content posted in Canvas without citation.\n",
        "- You are allowed to use the internet and consult outside resources.  However, you must CITE any outside resources that you consult and include references.  Also, consulting is not copying.  Your can consult and cite references, but your work must be original. Moreover, copying material - including computer code - from outside sources is plagiarism.\n",
        "- In particular, **if you consult any websites outside of Canvas or the course Colab notebooks, be sure to site those websites by providing the link.**\n",
        "\n",
        "## What is NOT allowed during the exam\n",
        "\n",
        "- You are NOT allowed to post questions to internet websites, such as (but not limited to) Chegg.com.\n",
        "- You are NOT allowed to post questions from assignments to any AI, such as (but not limited to) ChatGPT or GPT-4.\n",
        "- You are NOT allowed to copy material from outside sources.  Your can consult sources, but you must CITE any sources that you consult and include references.  Moreover, copying material - including computer code - from outside sources is plagiarism.\n",
        "- You are NOT allowed to communicate with anyone during exams.\n",
        "\n",
        "One example: you are allowed to use Google to find the documentation for a Pandas function to see what arguments are available, but you need to cite the websites you visit. You are NOT allowed to ask Google or AI or whatever to write the code for you."
      ],
      "metadata": {
        "id": "XMQ91_cUwWwr"
      }
    },
    {
      "cell_type": "markdown",
      "source": [
        "There are a few practice problems below. These are just examples of the kinds of problems you might see on the exam. This is NOT necessarily a representative sample of problems, and certainly NOT an exhaustive list of the kinds of problems you'll see on the exam. Be sure to also review reading, in class notebooks, and assignments."
      ],
      "metadata": {
        "id": "eofNv3t19RAg"
      }
    },
    {
      "cell_type": "markdown",
      "metadata": {
        "id": "DmCHupi8UWTz"
      },
      "source": [
        "# Some Practice Problems about the OKCupid data\n",
        "\n",
        "These problems concern data on OKCupid users living in the San Francisco Bay Area. This data set is available at https://dlsun.github.io/pods/data/okcupid.csv, and the data documentation is [available here](https://github.com/rudeboybert/JSE_OkCupid/raw/master/okcupid_codebook.txt).\n",
        "\n",
        "You have seen this data set before, but not the questions below."
      ]
    },
    {
      "cell_type": "code",
      "metadata": {
        "id": "lhDzfdlWUWT2"
      },
      "source": [
        "import pandas as pd\n",
        "import numpy as np"
      ],
      "execution_count": null,
      "outputs": []
    },
    {
      "cell_type": "markdown",
      "metadata": {
        "id": "kQsVQ8JRUWT8"
      },
      "source": [
        "## Question 1\n",
        "\n",
        "What proportion of OKCupid users report never smoking? Explain how you came up with your answer."
      ]
    },
    {
      "cell_type": "code",
      "metadata": {
        "id": "4EmL4rYjUWT9"
      },
      "source": [
        "# TYPE YOUR CODE HERE."
      ],
      "execution_count": null,
      "outputs": []
    },
    {
      "cell_type": "markdown",
      "metadata": {
        "id": "srGwd0_5UWUA"
      },
      "source": [
        "**EXPLAIN YOUR ANSWER HERE.**"
      ]
    },
    {
      "cell_type": "markdown",
      "metadata": {
        "id": "UsrU4nSiUWUB"
      },
      "source": [
        "## Question 2\n",
        "\n",
        "Make a single visualization that displays and facilitates comparison of:\n",
        "- the distribution of ages of users who are currently in college/university\n",
        "- the distribution of ages of users who are currently in med school\n",
        "\n",
        "Interpret what you see."
      ]
    },
    {
      "cell_type": "code",
      "metadata": {
        "id": "HUm1lG4EUWUC"
      },
      "source": [
        "# TYPE YOUR CODE HERE."
      ],
      "execution_count": null,
      "outputs": []
    },
    {
      "cell_type": "markdown",
      "metadata": {
        "id": "Hp9-jbtMUWUF"
      },
      "source": [
        "**INTERPRET YOUR PLOT HERE.**"
      ]
    },
    {
      "cell_type": "markdown",
      "metadata": {
        "id": "rN4ucit3UWUH"
      },
      "source": [
        "## Question 3\n",
        "\n",
        "There are 10 essay prompts. Each user can choose which prompts to respond to. Make a visualization that shows the proportion of users that responded to each essay prompt. Interpret what you see. (Refer to the codebook for information about the essay prompts.)"
      ]
    },
    {
      "cell_type": "code",
      "metadata": {
        "id": "VU1wSeBwUWUJ"
      },
      "source": [
        "# TYPE YOUR CODE HERE."
      ],
      "execution_count": null,
      "outputs": []
    },
    {
      "cell_type": "markdown",
      "metadata": {
        "id": "4h94HPtPUWUO"
      },
      "source": [
        "**INTERPRET YOUR PLOT HERE.**"
      ]
    },
    {
      "cell_type": "markdown",
      "metadata": {
        "id": "0eoq-RjAUWUP"
      },
      "source": [
        "## Question 4\n",
        "\n",
        "Make a visualization showing the conditional distributions of sexual orientation given sex. Interpret what you see."
      ]
    },
    {
      "cell_type": "code",
      "metadata": {
        "id": "Dhjd9EUFUWUQ"
      },
      "source": [
        "# TYPE YOUR CODE HERE."
      ],
      "execution_count": null,
      "outputs": []
    },
    {
      "cell_type": "markdown",
      "metadata": {
        "id": "Co6zhm27UWUU"
      },
      "source": [
        "**INTERPRET YOUR PLOT HERE.**"
      ]
    },
    {
      "cell_type": "markdown",
      "metadata": {
        "id": "wso35gRJUWUV"
      },
      "source": [
        "## Question 5\n",
        "\n",
        "Make a visualization that shows the average height, as a function of age and sex. Interpret what you see.\n",
        "\n",
        "_Hint:_ There are two outliers in the data set that you may want to remove to make this plot look better."
      ]
    },
    {
      "cell_type": "code",
      "metadata": {
        "id": "AE7c1HCsUWUV"
      },
      "source": [
        "# TYPE YOUR CODE HERE."
      ],
      "execution_count": null,
      "outputs": []
    },
    {
      "cell_type": "markdown",
      "metadata": {
        "id": "OGotjoZiUWUY"
      },
      "source": [
        "**INTERPRET YOUR PLOT HERE.**"
      ]
    },
    {
      "cell_type": "markdown",
      "metadata": {
        "id": "W8KZMLlpUWUZ"
      },
      "source": [
        "## Question 6\n",
        "\n",
        "Make a bar chart showing the number of users with each type of job. Sort the jobs by average reported income. (No explanation necessary.)"
      ]
    },
    {
      "cell_type": "code",
      "metadata": {
        "id": "jIHT0YCAUWUa"
      },
      "source": [
        "# TYPE YOUR CODE HERE."
      ],
      "execution_count": null,
      "outputs": []
    },
    {
      "cell_type": "markdown",
      "metadata": {
        "id": "v_8pKNCcUWUd"
      },
      "source": [
        "## Question 7\n",
        "\n",
        "Make a visualization that shows the distribution of the _number_ of languages spoken by OKCupid users. (No explanation necessary.)"
      ]
    },
    {
      "cell_type": "code",
      "metadata": {
        "id": "s4uq5cqWUWUe"
      },
      "source": [
        "# TYPE YOUR CODE HERE."
      ],
      "execution_count": null,
      "outputs": []
    },
    {
      "cell_type": "markdown",
      "metadata": {
        "id": "eXJ5PUXtUWUi"
      },
      "source": [
        "## Question 8\n",
        "\n",
        "In this group of users, which religion's adherents are the most serious about their religion? Explain your answer."
      ]
    },
    {
      "cell_type": "code",
      "metadata": {
        "id": "Awi4AzuSUWUj"
      },
      "source": [
        "# TYPE YOUR CODE HERE."
      ],
      "execution_count": null,
      "outputs": []
    },
    {
      "cell_type": "markdown",
      "metadata": {
        "id": "sMPwOHacUWUs"
      },
      "source": [
        "**EXPLAIN YOUR ANSWER HERE.**"
      ]
    },
    {
      "cell_type": "markdown",
      "metadata": {
        "id": "HhdGNxizUWUu"
      },
      "source": [
        "## Question 9\n",
        "\n",
        "Study the profile of user 2855 in the data set, especially what they wrote in `essay9` about what they are looking for in a partner. Recommend five users in this data set that you think would be most compatible with this user."
      ]
    },
    {
      "cell_type": "code",
      "metadata": {
        "id": "ozKEXt-lUWUv"
      },
      "source": [
        "# TYPE YOUR CODE HERE."
      ],
      "execution_count": null,
      "outputs": []
    },
    {
      "cell_type": "markdown",
      "metadata": {
        "id": "hzs6ZgaRUWU4"
      },
      "source": [
        "**EXPLAIN YOUR METHODOLOGY AND YOUR ANSWER HERE.**"
      ]
    },
    {
      "cell_type": "code",
      "source": [],
      "metadata": {
        "id": "TgSPNWMc6WrP"
      },
      "execution_count": null,
      "outputs": []
    },
    {
      "cell_type": "markdown",
      "source": [
        "## Some practice problems about Flight Data\n",
        "\n",
        "The following questions concern two related data sets of flight delays from the Bureau of Transportation Statistics:\n",
        "\n",
        "- Main Data Set: https://dlsun.github.io/pods/data/flights_jun_2018.csv, which contains information about all flights on June 1-9, 2018. (This is a very large data set!)\n",
        "- Original Data Set: https://dlsun.github.io/pods/data/flight_delays_2018.csv, which contains aggregate information for 2018 by month. Most of the columns are [explained here](https://github.com/buswedg/Udacity/blob/master/Data%20Analyst%20Nanodegree/P6%20Make%20Effective%20Data%20Visualization/data.Rmd).\n"
      ],
      "metadata": {
        "id": "3hzmYR8y8Mi9"
      }
    },
    {
      "cell_type": "markdown",
      "metadata": {
        "id": "xXcMX4AKTxnb"
      },
      "source": [
        "## Question 1 (3 points)\n",
        "\n",
        "Remember: The first thing you should do when analyzing a data set is to determine the observational unit. Read in both data sets above. What is the observational unit of each data set?"
      ]
    },
    {
      "cell_type": "code",
      "source": [
        "# Enter your code here. Feel free to add as many code cells as necessary."
      ],
      "metadata": {
        "id": "HSzqbxt6c1eM"
      },
      "execution_count": null,
      "outputs": []
    },
    {
      "cell_type": "markdown",
      "source": [
        "**TYPE YOUR EXPLANATION HERE.**"
      ],
      "metadata": {
        "id": "t8gzinIuc1tL"
      }
    },
    {
      "cell_type": "markdown",
      "metadata": {
        "id": "5i3BWQ5STxnd"
      },
      "source": [
        "## Question 2 (3 points)\n",
        "\n",
        "Calculate the total number of flights - as measured by number of arrivals - in the year 2018 for each carrier. Make a graphic displaying this information."
      ]
    },
    {
      "cell_type": "code",
      "source": [
        "# Enter your code here. Feel free to add as many code cells as necessary."
      ],
      "metadata": {
        "id": "2O_E21TTc9tt"
      },
      "execution_count": null,
      "outputs": []
    },
    {
      "cell_type": "markdown",
      "source": [
        "**TYPE YOUR EXPLANATION HERE.**"
      ],
      "metadata": {
        "id": "fiomAG23c98R"
      }
    },
    {
      "cell_type": "markdown",
      "metadata": {
        "id": "jCa33iclTxne"
      },
      "source": [
        "## Question 3 (3 points)\n",
        "\n",
        "In the June 1-9 flights data, the column **ARR_DEL15** is a column of 0s and 1s, where a 1 indicates that the delay was _at least 15 minutes_. Show how to construct this column from the **ARR_DELAY** column. Verify that the column you constructed matches **ARR_DEL15** exactly.\n",
        "\n",
        "(_Hint:_ Be careful when comparing missing values.)"
      ]
    },
    {
      "cell_type": "code",
      "source": [
        "# Enter your code here. Feel free to add as many code cells as necessary."
      ],
      "metadata": {
        "id": "FjDgGHfCc-9f"
      },
      "execution_count": null,
      "outputs": []
    },
    {
      "cell_type": "markdown",
      "source": [
        "**TYPE YOUR EXPLANATION HERE.**"
      ],
      "metadata": {
        "id": "OXCmXuF9c_LN"
      }
    },
    {
      "cell_type": "markdown",
      "metadata": {
        "id": "9QE4CqvbTxnf"
      },
      "source": [
        "## Question 4 (3 points)\n",
        "\n",
        "The longest flight in the United States - in terms of distance - is between which two cities?"
      ]
    },
    {
      "cell_type": "code",
      "source": [
        "# Enter your code here. Feel free to add as many code cells as necessary."
      ],
      "metadata": {
        "id": "MQOPORMJdFDp"
      },
      "execution_count": null,
      "outputs": []
    },
    {
      "cell_type": "markdown",
      "source": [
        "**TYPE YOUR EXPLANATION HERE.**"
      ],
      "metadata": {
        "id": "ujmaqihPdFXp"
      }
    },
    {
      "cell_type": "markdown",
      "metadata": {
        "id": "LvS8urhYTxng"
      },
      "source": [
        "## Question 5 (4 points)\n",
        "\n",
        "What is the probability that a flight that arrived in San Luis Obispo, CA (on June 1-9, 2018) came from Denver, CO? Answer this question by first calculating the appropriate conditional distributions (for all cities, not just these two)."
      ]
    },
    {
      "cell_type": "code",
      "source": [
        "# Enter your code here. Feel free to add as many code cells as necessary."
      ],
      "metadata": {
        "id": "N1tFbXo0dGxz"
      },
      "execution_count": null,
      "outputs": []
    },
    {
      "cell_type": "markdown",
      "source": [
        "**TYPE YOUR EXPLANATION HERE.**"
      ],
      "metadata": {
        "id": "F8bc5ubIdHAn"
      }
    },
    {
      "cell_type": "markdown",
      "metadata": {
        "id": "EIr0IgvYTxnh"
      },
      "source": [
        "## Question 6 (4 points)\n",
        "\n",
        "Make a visualization from which the answer to the following question can be determined: in what months is a given flight least likely and most likely to be delayed?\n",
        "\n",
        "*Hint:* Create what you think is the most effective relevant visualization. It doesn't only have to contain the answer to the above question; it can also contain other information."
      ]
    },
    {
      "cell_type": "code",
      "source": [
        "# Enter your code here. Feel free to add as many code cells as necessary."
      ],
      "metadata": {
        "id": "cqX-omQadH-S"
      },
      "execution_count": null,
      "outputs": []
    },
    {
      "cell_type": "markdown",
      "source": [
        "**TYPE YOUR EXPLANATION HERE.**"
      ],
      "metadata": {
        "id": "O-TvUB1FdIZ-"
      }
    },
    {
      "cell_type": "markdown",
      "metadata": {
        "id": "f9fKBALhTxni"
      },
      "source": [
        "## Question 7 (5 points)\n",
        "\n",
        "What is the relationship between the distance of a flight and whether or not it gets cancelled? Justify your answer using appropriate summary statistics and visualizations."
      ]
    },
    {
      "cell_type": "code",
      "source": [
        "# Enter your code here. Feel free to add as many code cells as necessary."
      ],
      "metadata": {
        "id": "puDdnHQxdJxj"
      },
      "execution_count": null,
      "outputs": []
    },
    {
      "cell_type": "markdown",
      "source": [
        "**TYPE YOUR EXPLANATION HERE.**"
      ],
      "metadata": {
        "id": "uTFKO3TFdKVt"
      }
    },
    {
      "cell_type": "markdown",
      "metadata": {
        "id": "HNrUFvHvTxnj"
      },
      "source": [
        "## Question 8 (5 points)\n",
        "\n",
        "In 2018, which airports were most similar to SFO (San Francisco) in terms of its patterns of flight delays?"
      ]
    },
    {
      "cell_type": "code",
      "source": [
        "# Enter your code here. Feel free to add as many code cells as necessary."
      ],
      "metadata": {
        "id": "DlcLOQbWdLug"
      },
      "execution_count": null,
      "outputs": []
    },
    {
      "cell_type": "markdown",
      "source": [
        "**TYPE YOUR EXPLANATION HERE.**"
      ],
      "metadata": {
        "id": "-56rXj_UdL_y"
      }
    },
    {
      "cell_type": "markdown",
      "metadata": {
        "id": "dARueLLGTxnk"
      },
      "source": [
        "# Submission Instructions\n",
        "\n",
        "1. Restart this notebook and run the cells from beginning to end.\n",
        "    - Go to Runtime > Restart and Run All.\n",
        "2. Download the notebook in two formats.\n",
        "    - Go to File > Download .ipynb.\n",
        "    - Go to File > Print, and print the notebook to a PDF file. Double check that no text is cut off. If any text is cut off, try setting the paper size to A3 instead of Letter.\n",
        "3. Upload both files (.ipynb and .pdf) to Canvas."
      ]
    }
  ]
}