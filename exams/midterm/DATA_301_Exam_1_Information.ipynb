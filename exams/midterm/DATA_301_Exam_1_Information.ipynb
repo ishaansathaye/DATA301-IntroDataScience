{
  "cells": [
    {
      "cell_type": "markdown",
      "metadata": {
        "id": "v7fFun2jV4YK"
      },
      "source": [
        "# Exam 1 Info\n",
        "\n",
        "Exam 1 will be in class on Friday, Oct 20. You will have the entire class period (110 minutes) to complete the exam. Most of the questions on Exam 1 will require coding, though there might also be some more conceptual questions. You will complete and submit your work in a Colab notebook. **You will be required to use the desktop computers in the classroom for the exam.**\n",
        "\n"
      ]
    },
    {
      "cell_type": "markdown",
      "metadata": {
        "id": "Dwy0uewA8iYa"
      },
      "source": [
        "Some of the questions on the exam might be deliberately ambiguous. I want to see how you take an ambiguous, real-world question and translate it into a concrete question that can be answered with data. For some problems, several answers might be acceptable, as long as you do a good job justifying your approach and answer. Just answer each question to the best of your ability according to _your_ interpretation of the question, and be clear about how you are interpreting the question."
      ]
    },
    {
      "cell_type": "markdown",
      "metadata": {
        "id": "A5KpMQoa82gF"
      },
      "source": [
        "You will need to know how to read in data sets from a file (e.g., `read_csv`). You will NOT be required to scrape data from webpages or APIs during the exam. However, I might give you data that I pulled from an API or webpage or you might need to use the documentation of the API or the source of the webpage."
      ]
    },
    {
      "cell_type": "markdown",
      "metadata": {
        "id": "XMQ91_cUwWwr"
      },
      "source": [
        "## What is allowed during the exam\n",
        "\n",
        "- You are allowed to use your own notes, electronic or hard copy, as long as they are your own original notes and not just copies of other sources.\n",
        "- You are allowed to use all course content posted in Canvas without citation.\n",
        "- You are allowed to use the internet and consult outside resources.  However, you must CITE any outside resources that you consult and include references.  Also, consulting is not copying.  Your can consult and cite references, but your work must be original. Moreover, copying material - including computer code - from outside sources is plagiarism.\n",
        "- In particular, **if you consult any websites outside of Canvas or the course Colab notebooks, be sure to site those websites by providing the link.**\n",
        "\n",
        "## What is NOT allowed during the exam\n",
        "\n",
        "- You are NOT allowed to post questions to internet websites, such as (but not limited to) Chegg.com.\n",
        "- You are NOT allowed to post questions from assignments to any AI, such as (but not limited to) ChatGPT or GPT-4.\n",
        "- You are NOT allowed to copy material from outside sources.  Your can consult sources, but you must CITE any sources that you consult and include references.  Moreover, copying material - including computer code - from outside sources is plagiarism.\n",
        "- You are NOT allowed to communicate with anyone during exams.\n",
        "\n",
        "One example: you are allowed to use Google to find the documentation for a Pandas function to see what arguments are available, but you need to cite the websites you visit. You are NOT allowed to ask Google or AI or whatever to write the code for you."
      ]
    },
    {
      "cell_type": "markdown",
      "metadata": {
        "id": "eofNv3t19RAg"
      },
      "source": [
        "There are a few practice problems below. These are just examples of the kinds of problems you might see on the exam. This is NOT necessarily a representative sample of problems, and certainly NOT an exhaustive list of the kinds of problems you'll see on the exam. Be sure to also review reading, in class notebooks, and assignments."
      ]
    },
    {
      "cell_type": "markdown",
      "metadata": {
        "id": "DmCHupi8UWTz"
      },
      "source": [
        "# Some Practice Problems about the OKCupid data\n",
        "\n",
        "These problems concern data on OKCupid users living in the San Francisco Bay Area. This data set is available at https://dlsun.github.io/pods/data/okcupid.csv, and the data documentation is [available here](https://github.com/rudeboybert/JSE_OkCupid/raw/master/okcupid_codebook.txt).\n",
        "\n",
        "You have seen this data set before, but not the questions below."
      ]
    },
    {
      "cell_type": "code",
      "execution_count": 2,
      "metadata": {
        "id": "lhDzfdlWUWT2"
      },
      "outputs": [],
      "source": [
        "import pandas as pd\n",
        "import numpy as np"
      ]
    },
    {
      "cell_type": "markdown",
      "metadata": {
        "id": "kQsVQ8JRUWT8"
      },
      "source": [
        "## Question 1\n",
        "\n",
        "What proportion of OKCupid users report never smoking? Explain how you came up with your answer."
      ]
    },
    {
      "cell_type": "code",
      "execution_count": 4,
      "metadata": {
        "id": "4EmL4rYjUWT9"
      },
      "outputs": [
        {
          "data": {
            "text/html": [
              "<div>\n",
              "<style scoped>\n",
              "    .dataframe tbody tr th:only-of-type {\n",
              "        vertical-align: middle;\n",
              "    }\n",
              "\n",
              "    .dataframe tbody tr th {\n",
              "        vertical-align: top;\n",
              "    }\n",
              "\n",
              "    .dataframe thead th {\n",
              "        text-align: right;\n",
              "    }\n",
              "</style>\n",
              "<table border=\"1\" class=\"dataframe\">\n",
              "  <thead>\n",
              "    <tr style=\"text-align: right;\">\n",
              "      <th></th>\n",
              "      <th>age</th>\n",
              "      <th>body_type</th>\n",
              "      <th>diet</th>\n",
              "      <th>drinks</th>\n",
              "      <th>drugs</th>\n",
              "      <th>education</th>\n",
              "      <th>essay0</th>\n",
              "      <th>essay1</th>\n",
              "      <th>essay2</th>\n",
              "      <th>essay3</th>\n",
              "      <th>...</th>\n",
              "      <th>location</th>\n",
              "      <th>offspring</th>\n",
              "      <th>orientation</th>\n",
              "      <th>pets</th>\n",
              "      <th>religion</th>\n",
              "      <th>sex</th>\n",
              "      <th>sign</th>\n",
              "      <th>smokes</th>\n",
              "      <th>height</th>\n",
              "      <th>status</th>\n",
              "    </tr>\n",
              "  </thead>\n",
              "  <tbody>\n",
              "    <tr>\n",
              "      <th>0</th>\n",
              "      <td>31</td>\n",
              "      <td>NaN</td>\n",
              "      <td>mostly vegetarian</td>\n",
              "      <td>socially</td>\n",
              "      <td>sometimes</td>\n",
              "      <td>graduated from college/university</td>\n",
              "      <td>75% nice, 45% shy, 80% stubborn, 100% charming...</td>\n",
              "      <td>i'm a new nurse. it rules.</td>\n",
              "      <td>multiple-choice questions, dancing.</td>\n",
              "      <td>it depends on the people.</td>\n",
              "      <td>...</td>\n",
              "      <td>san francisco, california</td>\n",
              "      <td>might want kids</td>\n",
              "      <td>gay</td>\n",
              "      <td>likes cats</td>\n",
              "      <td>buddhism</td>\n",
              "      <td>f</td>\n",
              "      <td>taurus and it&amp;rsquo;s fun to think about</td>\n",
              "      <td>no</td>\n",
              "      <td>67.0</td>\n",
              "      <td>single</td>\n",
              "    </tr>\n",
              "    <tr>\n",
              "      <th>1</th>\n",
              "      <td>25</td>\n",
              "      <td>average</td>\n",
              "      <td>NaN</td>\n",
              "      <td>socially</td>\n",
              "      <td>NaN</td>\n",
              "      <td>working on college/university</td>\n",
              "      <td>i like trees, spending long periods of time co...</td>\n",
              "      <td>studying landscape horticulture, beekeeping, g...</td>\n",
              "      <td>wasting time, making breakfast, nesting</td>\n",
              "      <td>i have a lot of freckles</td>\n",
              "      <td>...</td>\n",
              "      <td>oakland, california</td>\n",
              "      <td>NaN</td>\n",
              "      <td>gay</td>\n",
              "      <td>NaN</td>\n",
              "      <td>NaN</td>\n",
              "      <td>m</td>\n",
              "      <td>sagittarius and it&amp;rsquo;s fun to think about</td>\n",
              "      <td>no</td>\n",
              "      <td>66.0</td>\n",
              "      <td>single</td>\n",
              "    </tr>\n",
              "    <tr>\n",
              "      <th>2</th>\n",
              "      <td>43</td>\n",
              "      <td>curvy</td>\n",
              "      <td>NaN</td>\n",
              "      <td>rarely</td>\n",
              "      <td>never</td>\n",
              "      <td>graduated from masters program</td>\n",
              "      <td>NaN</td>\n",
              "      <td>NaN</td>\n",
              "      <td>NaN</td>\n",
              "      <td>NaN</td>\n",
              "      <td>...</td>\n",
              "      <td>san francisco, california</td>\n",
              "      <td>has a kid</td>\n",
              "      <td>straight</td>\n",
              "      <td>likes dogs and has cats</td>\n",
              "      <td>other and laughing about it</td>\n",
              "      <td>f</td>\n",
              "      <td>leo and it&amp;rsquo;s fun to think about</td>\n",
              "      <td>trying to quit</td>\n",
              "      <td>65.0</td>\n",
              "      <td>single</td>\n",
              "    </tr>\n",
              "    <tr>\n",
              "      <th>3</th>\n",
              "      <td>31</td>\n",
              "      <td>average</td>\n",
              "      <td>NaN</td>\n",
              "      <td>socially</td>\n",
              "      <td>never</td>\n",
              "      <td>NaN</td>\n",
              "      <td>i am a seeker of laughs ,music ,magick good pe...</td>\n",
              "      <td>i strive to live life to the fullest and to tr...</td>\n",
              "      <td>i am good at my magic and weaving a world of i...</td>\n",
              "      <td>i am guessing y'all would notice my jewelry an...</td>\n",
              "      <td>...</td>\n",
              "      <td>san francisco, california</td>\n",
              "      <td>doesn&amp;rsquo;t want kids</td>\n",
              "      <td>gay</td>\n",
              "      <td>NaN</td>\n",
              "      <td>other and very serious about it</td>\n",
              "      <td>m</td>\n",
              "      <td>capricorn and it&amp;rsquo;s fun to think about</td>\n",
              "      <td>trying to quit</td>\n",
              "      <td>70.0</td>\n",
              "      <td>single</td>\n",
              "    </tr>\n",
              "    <tr>\n",
              "      <th>4</th>\n",
              "      <td>34</td>\n",
              "      <td>NaN</td>\n",
              "      <td>NaN</td>\n",
              "      <td>socially</td>\n",
              "      <td>NaN</td>\n",
              "      <td>graduated from ph.d program</td>\n",
              "      <td>i've just moved here from london after finishi...</td>\n",
              "      <td>i'm doing a postdoc in psychology at stanford</td>\n",
              "      <td>NaN</td>\n",
              "      <td>NaN</td>\n",
              "      <td>...</td>\n",
              "      <td>san francisco, california</td>\n",
              "      <td>NaN</td>\n",
              "      <td>gay</td>\n",
              "      <td>NaN</td>\n",
              "      <td>NaN</td>\n",
              "      <td>m</td>\n",
              "      <td>cancer but it doesn&amp;rsquo;t matter</td>\n",
              "      <td>NaN</td>\n",
              "      <td>71.0</td>\n",
              "      <td>single</td>\n",
              "    </tr>\n",
              "  </tbody>\n",
              "</table>\n",
              "<p>5 rows × 31 columns</p>\n",
              "</div>"
            ],
            "text/plain": [
              "   age body_type               diet    drinks      drugs   \n",
              "0   31       NaN  mostly vegetarian  socially  sometimes  \\\n",
              "1   25   average                NaN  socially        NaN   \n",
              "2   43     curvy                NaN    rarely      never   \n",
              "3   31   average                NaN  socially      never   \n",
              "4   34       NaN                NaN  socially        NaN   \n",
              "\n",
              "                           education   \n",
              "0  graduated from college/university  \\\n",
              "1      working on college/university   \n",
              "2     graduated from masters program   \n",
              "3                                NaN   \n",
              "4        graduated from ph.d program   \n",
              "\n",
              "                                              essay0   \n",
              "0  75% nice, 45% shy, 80% stubborn, 100% charming...  \\\n",
              "1  i like trees, spending long periods of time co...   \n",
              "2                                                NaN   \n",
              "3  i am a seeker of laughs ,music ,magick good pe...   \n",
              "4  i've just moved here from london after finishi...   \n",
              "\n",
              "                                              essay1   \n",
              "0                         i'm a new nurse. it rules.  \\\n",
              "1  studying landscape horticulture, beekeeping, g...   \n",
              "2                                                NaN   \n",
              "3  i strive to live life to the fullest and to tr...   \n",
              "4      i'm doing a postdoc in psychology at stanford   \n",
              "\n",
              "                                              essay2   \n",
              "0                multiple-choice questions, dancing.  \\\n",
              "1            wasting time, making breakfast, nesting   \n",
              "2                                                NaN   \n",
              "3  i am good at my magic and weaving a world of i...   \n",
              "4                                                NaN   \n",
              "\n",
              "                                              essay3  ...   \n",
              "0                          it depends on the people.  ...  \\\n",
              "1                           i have a lot of freckles  ...   \n",
              "2                                                NaN  ...   \n",
              "3  i am guessing y'all would notice my jewelry an...  ...   \n",
              "4                                                NaN  ...   \n",
              "\n",
              "                    location                offspring orientation   \n",
              "0  san francisco, california          might want kids         gay  \\\n",
              "1        oakland, california                      NaN         gay   \n",
              "2  san francisco, california                has a kid    straight   \n",
              "3  san francisco, california  doesn&rsquo;t want kids         gay   \n",
              "4  san francisco, california                      NaN         gay   \n",
              "\n",
              "                      pets                         religion sex   \n",
              "0               likes cats                         buddhism   f  \\\n",
              "1                      NaN                              NaN   m   \n",
              "2  likes dogs and has cats      other and laughing about it   f   \n",
              "3                      NaN  other and very serious about it   m   \n",
              "4                      NaN                              NaN   m   \n",
              "\n",
              "                                            sign          smokes  height   \n",
              "0       taurus and it&rsquo;s fun to think about              no    67.0  \\\n",
              "1  sagittarius and it&rsquo;s fun to think about              no    66.0   \n",
              "2          leo and it&rsquo;s fun to think about  trying to quit    65.0   \n",
              "3    capricorn and it&rsquo;s fun to think about  trying to quit    70.0   \n",
              "4             cancer but it doesn&rsquo;t matter             NaN    71.0   \n",
              "\n",
              "   status  \n",
              "0  single  \n",
              "1  single  \n",
              "2  single  \n",
              "3  single  \n",
              "4  single  \n",
              "\n",
              "[5 rows x 31 columns]"
            ]
          },
          "execution_count": 4,
          "metadata": {},
          "output_type": "execute_result"
        }
      ],
      "source": [
        "# TYPE YOUR CODE HERE.\n",
        "df_cupid = pd.read_csv('https://dlsun.github.io/pods/data/okcupid.csv')\n",
        "df_cupid.head(5)"
      ]
    },
    {
      "cell_type": "code",
      "execution_count": 15,
      "metadata": {},
      "outputs": [
        {
          "data": {
            "text/plain": [
              "0.8109710896960711"
            ]
          },
          "execution_count": 15,
          "metadata": {},
          "output_type": "execute_result"
        }
      ],
      "source": [
        "df_cupid['smokes'].value_counts(normalize=True)[\"no\"]"
      ]
    },
    {
      "cell_type": "markdown",
      "metadata": {
        "id": "srGwd0_5UWUA"
      },
      "source": [
        "**EXPLAIN YOUR ANSWER HERE.**"
      ]
    },
    {
      "cell_type": "markdown",
      "metadata": {
        "id": "UsrU4nSiUWUB"
      },
      "source": [
        "## Question 2\n",
        "\n",
        "Make a single visualization that displays and facilitates comparison of:\n",
        "- the distribution of ages of users who are currently in college/university\n",
        "- the distribution of ages of users who are currently in med school\n",
        "\n",
        "Interpret what you see."
      ]
    },
    {
      "cell_type": "code",
      "execution_count": 21,
      "metadata": {
        "id": "HUm1lG4EUWUC"
      },
      "outputs": [
        {
          "data": {
            "text/plain": [
              "education\n",
              "graduated from college/university    1245\n",
              "graduated from masters program        443\n",
              "working on college/university         284\n",
              "graduated from high school             90\n",
              "graduated from two-year college        76\n",
              "working on masters program             69\n",
              "graduated from ph.d program            65\n",
              "dropped out of college/university      57\n",
              "graduated from law school              55\n",
              "working on ph.d program                49\n",
              "working on two-year college            47\n",
              "college/university                     43\n",
              "graduated from space camp              40\n",
              "working on space camp                  22\n",
              "dropped out of space camp              20\n",
              "graduated from med school              18\n",
              "two-year college                       12\n",
              "working on med school                  10\n",
              "working on law school                   8\n",
              "masters program                         6\n",
              "working on high school                  5\n",
              "dropped out of two-year college         5\n",
              "dropped out of high school              4\n",
              "space camp                              4\n",
              "high school                             3\n",
              "ph.d program                            3\n",
              "dropped out of masters program          3\n",
              "dropped out of law school               2\n",
              "dropped out of ph.d program             2\n",
              "dropped out of med school               1\n",
              "Name: count, dtype: int64"
            ]
          },
          "execution_count": 21,
          "metadata": {},
          "output_type": "execute_result"
        }
      ],
      "source": [
        "# TYPE YOUR CODE HERE.\n",
        "df_cupid['education'].value_counts()"
      ]
    },
    {
      "cell_type": "code",
      "execution_count": 61,
      "metadata": {},
      "outputs": [
        {
          "data": {
            "text/plain": [
              "<Axes: xlabel='Age', ylabel='Frequency'>"
            ]
          },
          "execution_count": 61,
          "metadata": {},
          "output_type": "execute_result"
        },
        {
          "data": {
            "image/png": "[encoded data removed]",
            "text/plain": [
              "<Figure size 640x480 with 1 Axes>"
            ]
          },
          "metadata": {},
          "output_type": "display_data"
        }
      ],
      "source": [
        "import matplotlib.pyplot as plt\n",
        "df_cupid_college = df_cupid[df_cupid[\"education\"] == \"working on college/university\"]\n",
        "df_cupid_med = df_cupid[df_cupid[\"education\"] == \"working on med school\"]\n",
        "\n",
        "plt.xlabel('Age')\n",
        "plt.ylabel('Frequency')\n",
        "\n",
        "df_cupid_college['age'].hist(density=True, alpha=0.5, legend=True)\n",
        "df_cupid_med['age'].hist(density=True, alpha=0.5, legend=True)\n",
        "\n",
        "\n"
      ]
    },
    {
      "cell_type": "markdown",
      "metadata": {
        "id": "Hp9-jbtMUWUF"
      },
      "source": [
        "**INTERPRET YOUR PLOT HERE.**"
      ]
    },
    {
      "cell_type": "markdown",
      "metadata": {
        "id": "rN4ucit3UWUH"
      },
      "source": [
        "## Question 3\n",
        "\n",
        "There are 10 essay prompts. Each user can choose which prompts to respond to. Make a visualization that shows the proportion of users that responded to each essay prompt. Interpret what you see. (Refer to the codebook for information about the essay prompts.)"
      ]
    },
    {
      "cell_type": "code",
      "execution_count": 81,
      "metadata": {
        "id": "VU1wSeBwUWUJ"
      },
      "outputs": [
        {
          "data": {
            "text/plain": [
              "Text(0, 0.5, 'Proportion of Users')"
            ]
          },
          "execution_count": 81,
          "metadata": {},
          "output_type": "execute_result"
        },
        {
          "data": {
            "image/png": "[encoded data removed]",
            "text/plain": [
              "<Figure size 640x480 with 1 Axes>"
            ]
          },
          "metadata": {},
          "output_type": "display_data"
        }
      ],
      "source": [
        "# TYPE YOUR CODE HERE.\n",
        "df_cupid.iloc[:, 6:16].notnull().mean().plot.bar(title=\"Test\")\n",
        "plt.xlabel('Essay Number')\n",
        "plt.ylabel('Proportion of Users')"
      ]
    },
    {
      "cell_type": "markdown",
      "metadata": {
        "id": "4h94HPtPUWUO"
      },
      "source": [
        "**INTERPRET YOUR PLOT HERE.**\n",
        "\n",
        "From essay 0 is the most responded to while essay 8 is the least responded to."
      ]
    },
    {
      "cell_type": "markdown",
      "metadata": {
        "id": "0eoq-RjAUWUP"
      },
      "source": [
        "## Question 4\n",
        "\n",
        "Make a visualization showing the conditional distributions of sexual orientation given sex. Interpret what you see."
      ]
    },
    {
      "cell_type": "code",
      "execution_count": 86,
      "metadata": {
        "id": "Dhjd9EUFUWUQ"
      },
      "outputs": [
        {
          "data": {
            "text/html": [
              "<div>\n",
              "<style scoped>\n",
              "    .dataframe tbody tr th:only-of-type {\n",
              "        vertical-align: middle;\n",
              "    }\n",
              "\n",
              "    .dataframe tbody tr th {\n",
              "        vertical-align: top;\n",
              "    }\n",
              "\n",
              "    .dataframe thead th {\n",
              "        text-align: right;\n",
              "    }\n",
              "</style>\n",
              "<table border=\"1\" class=\"dataframe\">\n",
              "  <thead>\n",
              "    <tr style=\"text-align: right;\">\n",
              "      <th>orientation</th>\n",
              "      <th>bisexual</th>\n",
              "      <th>gay</th>\n",
              "      <th>straight</th>\n",
              "    </tr>\n",
              "    <tr>\n",
              "      <th>sex</th>\n",
              "      <th></th>\n",
              "      <th></th>\n",
              "      <th></th>\n",
              "    </tr>\n",
              "  </thead>\n",
              "  <tbody>\n",
              "    <tr>\n",
              "      <th>f</th>\n",
              "      <td>0.035000</td>\n",
              "      <td>0.024000</td>\n",
              "      <td>0.345</td>\n",
              "    </tr>\n",
              "    <tr>\n",
              "      <th>m</th>\n",
              "      <td>0.012333</td>\n",
              "      <td>0.063667</td>\n",
              "      <td>0.520</td>\n",
              "    </tr>\n",
              "  </tbody>\n",
              "</table>\n",
              "</div>"
            ],
            "text/plain": [
              "orientation  bisexual       gay  straight\n",
              "sex                                      \n",
              "f            0.035000  0.024000     0.345\n",
              "m            0.012333  0.063667     0.520"
            ]
          },
          "execution_count": 86,
          "metadata": {},
          "output_type": "execute_result"
        }
      ],
      "source": [
        "# TYPE YOUR CODE HERE.\n",
        "joint_orientation_gender = pd.crosstab(df_cupid[\"sex\"], df_cupid[\"orientation\"], normalize=True)\n",
        "\n",
        "joint_orientation_gender"
      ]
    },
    {
      "cell_type": "code",
      "execution_count": 91,
      "metadata": {},
      "outputs": [
        {
          "data": {
            "text/plain": [
              "sex\n",
              "f    0.404\n",
              "m    0.596\n",
              "dtype: float64"
            ]
          },
          "execution_count": 91,
          "metadata": {},
          "output_type": "execute_result"
        }
      ],
      "source": [
        "marginal_sex = joint_orientation_gender.sum(axis=1)\n",
        "marginal_sex"
      ]
    },
    {
      "cell_type": "code",
      "execution_count": 92,
      "metadata": {},
      "outputs": [
        {
          "data": {
            "text/plain": [
              "<Axes: title={'center': 'Test'}, xlabel='sex'>"
            ]
          },
          "execution_count": 92,
          "metadata": {},
          "output_type": "execute_result"
        },
        {
          "data": {
            "image/png": "[encoded data removed]",
            "text/plain": [
              "<Figure size 640x480 with 1 Axes>"
            ]
          },
          "metadata": {},
          "output_type": "display_data"
        }
      ],
      "source": [
        "cond_oritentation_given_gender = joint_orientation_gender.divide(marginal_sex, axis=0)\n",
        "\n",
        "cond_oritentation_given_gender.plot.bar(title=\"Test\")"
      ]
    },
    {
      "cell_type": "markdown",
      "metadata": {
        "id": "Co6zhm27UWUU"
      },
      "source": [
        "**INTERPRET YOUR PLOT HERE.**"
      ]
    },
    {
      "cell_type": "markdown",
      "metadata": {
        "id": "wso35gRJUWUV"
      },
      "source": [
        "## Question 5\n",
        "\n",
        "Make a visualization that shows the average height, as a function of age and sex. Interpret what you see.\n",
        "\n",
        "_Hint:_ There are two outliers in the data set that you may want to remove to make this plot look better."
      ]
    },
    {
      "cell_type": "code",
      "execution_count": 123,
      "metadata": {
        "id": "AE7c1HCsUWUV"
      },
      "outputs": [
        {
          "data": {
            "application/vnd.plotly.v1+json": {
              "config": {
                "plotlyServerURL": "https://plot.ly"
              },
              "data": [
                {
                  "hovertemplate": "sex=f<br>age=%{x}<br>height=%{y}<extra></extra>",
                  "legendgroup": "f",
                  "marker": {
                    "color": "#636efa",
                    "symbol": "circle"
                  },
                  "mode": "markers",
                  "name": "f",
                  "orientation": "v",
                  "showlegend": true,
                  "type": "scatter",
                  "x": [
                    18,
                    19,
                    20,
                    21,
                    22,
                    23,
                    24,
                    25,
                    26,
                    27,
                    28,
                    29,
                    30,
                    31,
                    32,
                    33,
                    34,
                    35,
                    36,
                    37,
                    38,
                    39,
                    40,
                    41,
                    42,
                    43,
                    44,
                    45,
                    46,
                    47,
                    48,
                    49,
                    50,
                    51,
                    52,
                    53,
                    54,
                    55,
                    56,
                    57,
                    58,
                    59,
                    61,
                    62,
                    63,
                    64,
                    65,
                    67,
                    69
                  ],
                  "xaxis": "x",
                  "y": [
                    64.41666666666667,
                    64.54545454545455,
                    64.86666666666666,
                    65.57142857142857,
                    65.31372549019608,
                    64.58490566037736,
                    64.57627118644068,
                    64.9873417721519,
                    65.13846153846154,
                    65.20689655172414,
                    65.34285714285714,
                    65.5,
                    65.11290322580645,
                    65.125,
                    65.07272727272728,
                    64.68,
                    65.38461538461539,
                    64.92105263157895,
                    64.8,
                    65.48148148148148,
                    64.8695652173913,
                    64.6086956521739,
                    64.41666666666667,
                    66.85714285714286,
                    65.88461538461539,
                    65.06666666666666,
                    64.13333333333334,
                    65.0909090909091,
                    66.44444444444444,
                    66.54545454545455,
                    65,
                    65.66666666666667,
                    64.375,
                    64.33333333333333,
                    66.4,
                    64.55555555555556,
                    65.55555555555556,
                    64.71428571428571,
                    64.8,
                    64.9,
                    63.8,
                    65.5,
                    64,
                    64.25,
                    66,
                    66,
                    66,
                    64.66666666666667,
                    63
                  ],
                  "yaxis": "y"
                },
                {
                  "hovertemplate": "<b>OLS trendline</b><br>height = -0.00226271 * age + 65.158<br>R<sup>2</sup>=0.001991<br><br>sex=f<br>age=%{x}<br>height=%{y} <b>(trend)</b><extra></extra>",
                  "legendgroup": "f",
                  "marker": {
                    "color": "#636efa",
                    "symbol": "circle"
                  },
                  "mode": "lines",
                  "name": "f",
                  "showlegend": false,
                  "type": "scatter",
                  "x": [
                    18,
                    19,
                    20,
                    21,
                    22,
                    23,
                    24,
                    25,
                    26,
                    27,
                    28,
                    29,
                    30,
                    31,
                    32,
                    33,
                    34,
                    35,
                    36,
                    37,
                    38,
                    39,
                    40,
                    41,
                    42,
                    43,
                    44,
                    45,
                    46,
                    47,
                    48,
                    49,
                    50,
                    51,
                    52,
                    53,
                    54,
                    55,
                    56,
                    57,
                    58,
                    59,
                    61,
                    62,
                    63,
                    64,
                    65,
                    67,
                    69
                  ],
                  "xaxis": "x",
                  "y": [
                    65.11727718341612,
                    65.11501447781082,
                    65.1127517722055,
                    65.1104890666002,
                    65.10822636099489,
                    65.10596365538959,
                    65.10370094978427,
                    65.10143824417896,
                    65.09917553857366,
                    65.09691283296836,
                    65.09465012736304,
                    65.09238742175773,
                    65.09012471615243,
                    65.08786201054713,
                    65.08559930494181,
                    65.0833365993365,
                    65.0810738937312,
                    65.0788111881259,
                    65.0765484825206,
                    65.07428577691527,
                    65.07202307130997,
                    65.06976036570467,
                    65.06749766009936,
                    65.06523495449404,
                    65.06297224888874,
                    65.06070954328344,
                    65.05844683767813,
                    65.05618413207281,
                    65.05392142646751,
                    65.0516587208622,
                    65.0493960152569,
                    65.04713330965158,
                    65.04487060404628,
                    65.04260789844098,
                    65.04034519283567,
                    65.03808248723037,
                    65.03581978162505,
                    65.03355707601975,
                    65.03129437041444,
                    65.02903166480914,
                    65.02676895920382,
                    65.02450625359852,
                    65.01998084238791,
                    65.01771813678259,
                    65.01545543117729,
                    65.01319272557198,
                    65.01093001996668,
                    65.00640460875606,
                    65.00187919754545
                  ],
                  "yaxis": "y"
                },
                {
                  "hovertemplate": "sex=m<br>age=%{x}<br>height=%{y}<extra></extra>",
                  "legendgroup": "m",
                  "marker": {
                    "color": "#EF553B",
                    "symbol": "circle"
                  },
                  "mode": "markers",
                  "name": "m",
                  "orientation": "v",
                  "showlegend": true,
                  "type": "scatter",
                  "x": [
                    18,
                    19,
                    20,
                    21,
                    22,
                    23,
                    24,
                    25,
                    26,
                    27,
                    28,
                    29,
                    30,
                    31,
                    32,
                    33,
                    34,
                    35,
                    36,
                    37,
                    38,
                    39,
                    40,
                    41,
                    42,
                    43,
                    44,
                    45,
                    46,
                    47,
                    48,
                    49,
                    50,
                    51,
                    52,
                    53,
                    54,
                    55,
                    56,
                    57,
                    58,
                    59,
                    60,
                    61,
                    62,
                    63,
                    65,
                    66,
                    68,
                    69
                  ],
                  "xaxis": "x",
                  "y": [
                    68.14285714285714,
                    68.8695652173913,
                    70.7,
                    70.35,
                    69.9795918367347,
                    70.61643835616438,
                    70.46938775510205,
                    70.59139784946237,
                    70.26190476190476,
                    70.77884615384616,
                    70.58558558558559,
                    70.17647058823529,
                    71.04385964912281,
                    70.07865168539325,
                    70.51190476190476,
                    70.68253968253968,
                    70.2063492063492,
                    70.91228070175438,
                    70.64285714285714,
                    70.24489795918367,
                    69.75757575757575,
                    71,
                    71.19354838709677,
                    70.8,
                    70.03571428571429,
                    70.76923076923077,
                    71.20833333333333,
                    70.42857142857143,
                    69.8125,
                    70,
                    70.83333333333333,
                    69.66666666666667,
                    72.33333333333333,
                    68.58823529411765,
                    72.11111111111111,
                    72.28571428571429,
                    70.66666666666667,
                    71.16666666666667,
                    72.5,
                    70.6,
                    68,
                    71,
                    70.5,
                    71,
                    68.33333333333333,
                    68.5,
                    67,
                    69.66666666666667,
                    73,
                    70
                  ],
                  "yaxis": "y"
                },
                {
                  "hovertemplate": "<b>OLS trendline</b><br>height = 0.00112716 * age + 70.324<br>R<sup>2</sup>=0.000210<br><br>sex=m<br>age=%{x}<br>height=%{y} <b>(trend)</b><extra></extra>",
                  "legendgroup": "m",
                  "marker": {
                    "color": "#EF553B",
                    "symbol": "circle"
                  },
                  "mode": "lines",
                  "name": "m",
                  "showlegend": false,
                  "type": "scatter",
                  "x": [
                    18,
                    19,
                    20,
                    21,
                    22,
                    23,
                    24,
                    25,
                    26,
                    27,
                    28,
                    29,
                    30,
                    31,
                    32,
                    33,
                    34,
                    35,
                    36,
                    37,
                    38,
                    39,
                    40,
                    41,
                    42,
                    43,
                    44,
                    45,
                    46,
                    47,
                    48,
                    49,
                    50,
                    51,
                    52,
                    53,
                    54,
                    55,
                    56,
                    57,
                    58,
                    59,
                    60,
                    61,
                    62,
                    63,
                    65,
                    66,
                    68,
                    69
                  ],
                  "xaxis": "x",
                  "y": [
                    70.34430107396952,
                    70.34542823372342,
                    70.34655539347732,
                    70.34768255323121,
                    70.3488097129851,
                    70.349936872739,
                    70.3510640324929,
                    70.35219119224679,
                    70.35331835200068,
                    70.35444551175458,
                    70.35557267150847,
                    70.35669983126238,
                    70.35782699101627,
                    70.35895415077016,
                    70.36008131052405,
                    70.36120847027794,
                    70.36233563003185,
                    70.36346278978574,
                    70.36458994953963,
                    70.36571710929353,
                    70.36684426904742,
                    70.36797142880133,
                    70.36909858855522,
                    70.37022574830911,
                    70.371352908063,
                    70.3724800678169,
                    70.37360722757079,
                    70.3747343873247,
                    70.37586154707859,
                    70.37698870683248,
                    70.37811586658637,
                    70.37924302634026,
                    70.38037018609417,
                    70.38149734584806,
                    70.38262450560195,
                    70.38375166535585,
                    70.38487882510974,
                    70.38600598486364,
                    70.38713314461754,
                    70.38826030437143,
                    70.38938746412532,
                    70.39051462387921,
                    70.39164178363312,
                    70.39276894338701,
                    70.3938961031409,
                    70.3950232628948,
                    70.3972775824026,
                    70.39840474215649,
                    70.40065906166427,
                    70.40178622141816
                  ],
                  "yaxis": "y"
                }
              ],
              "layout": {
                "legend": {
                  "title": {
                    "text": "sex"
                  },
                  "tracegroupgap": 0
                },
                "margin": {
                  "t": 60
                },
                "template": {
                  "data": {
                    "bar": [
                      {
                        "error_x": {
                          "color": "#2a3f5f"
                        },
                        "error_y": {
                          "color": "#2a3f5f"
                        },
                        "marker": {
                          "line": {
                            "color": "#E5ECF6",
                            "width": 0.5
                          },
                          "pattern": {
                            "fillmode": "overlay",
                            "size": 10,
                            "solidity": 0.2
                          }
                        },
                        "type": "bar"
                      }
                    ],
                    "barpolar": [
                      {
                        "marker": {
                          "line": {
                            "color": "#E5ECF6",
                            "width": 0.5
                          },
                          "pattern": {
                            "fillmode": "overlay",
                            "size": 10,
                            "solidity": 0.2
                          }
                        },
                        "type": "barpolar"
                      }
                    ],
                    "carpet": [
                      {
                        "aaxis": {
                          "endlinecolor": "#2a3f5f",
                          "gridcolor": "white",
                          "linecolor": "white",
                          "minorgridcolor": "white",
                          "startlinecolor": "#2a3f5f"
                        },
                        "baxis": {
                          "endlinecolor": "#2a3f5f",
                          "gridcolor": "white",
                          "linecolor": "white",
                          "minorgridcolor": "white",
                          "startlinecolor": "#2a3f5f"
                        },
                        "type": "carpet"
                      }
                    ],
                    "choropleth": [
                      {
                        "colorbar": {
                          "outlinewidth": 0,
                          "ticks": ""
                        },
                        "type": "choropleth"
                      }
                    ],
                    "contour": [
                      {
                        "colorbar": {
                          "outlinewidth": 0,
                          "ticks": ""
                        },
                        "colorscale": [
                          [
                            0,
                            "#0d0887"
                          ],
                          [
                            0.1111111111111111,
                            "#46039f"
                          ],
                          [
                            0.2222222222222222,
                            "#7201a8"
                          ],
                          [
                            0.3333333333333333,
                            "#9c179e"
                          ],
                          [
                            0.4444444444444444,
                            "#bd3786"
                          ],
                          [
                            0.5555555555555556,
                            "#d8576b"
                          ],
                          [
                            0.6666666666666666,
                            "#ed7953"
                          ],
                          [
                            0.7777777777777778,
                            "#fb9f3a"
                          ],
                          [
                            0.8888888888888888,
                            "#fdca26"
                          ],
                          [
                            1,
                            "#f0f921"
                          ]
                        ],
                        "type": "contour"
                      }
                    ],
                    "contourcarpet": [
                      {
                        "colorbar": {
                          "outlinewidth": 0,
                          "ticks": ""
                        },
                        "type": "contourcarpet"
                      }
                    ],
                    "heatmap": [
                      {
                        "colorbar": {
                          "outlinewidth": 0,
                          "ticks": ""
                        },
                        "colorscale": [
                          [
                            0,
                            "#0d0887"
                          ],
                          [
                            0.1111111111111111,
                            "#46039f"
                          ],
                          [
                            0.2222222222222222,
                            "#7201a8"
                          ],
                          [
                            0.3333333333333333,
                            "#9c179e"
                          ],
                          [
                            0.4444444444444444,
                            "#bd3786"
                          ],
                          [
                            0.5555555555555556,
                            "#d8576b"
                          ],
                          [
                            0.6666666666666666,
                            "#ed7953"
                          ],
                          [
                            0.7777777777777778,
                            "#fb9f3a"
                          ],
                          [
                            0.8888888888888888,
                            "#fdca26"
                          ],
                          [
                            1,
                            "#f0f921"
                          ]
                        ],
                        "type": "heatmap"
                      }
                    ],
                    "heatmapgl": [
                      {
                        "colorbar": {
                          "outlinewidth": 0,
                          "ticks": ""
                        },
                        "colorscale": [
                          [
                            0,
                            "#0d0887"
                          ],
                          [
                            0.1111111111111111,
                            "#46039f"
                          ],
                          [
                            0.2222222222222222,
                            "#7201a8"
                          ],
                          [
                            0.3333333333333333,
                            "#9c179e"
                          ],
                          [
                            0.4444444444444444,
                            "#bd3786"
                          ],
                          [
                            0.5555555555555556,
                            "#d8576b"
                          ],
                          [
                            0.6666666666666666,
                            "#ed7953"
                          ],
                          [
                            0.7777777777777778,
                            "#fb9f3a"
                          ],
                          [
                            0.8888888888888888,
                            "#fdca26"
                          ],
                          [
                            1,
                            "#f0f921"
                          ]
                        ],
                        "type": "heatmapgl"
                      }
                    ],
                    "histogram": [
                      {
                        "marker": {
                          "pattern": {
                            "fillmode": "overlay",
                            "size": 10,
                            "solidity": 0.2
                          }
                        },
                        "type": "histogram"
                      }
                    ],
                    "histogram2d": [
                      {
                        "colorbar": {
                          "outlinewidth": 0,
                          "ticks": ""
                        },
                        "colorscale": [
                          [
                            0,
                            "#0d0887"
                          ],
                          [
                            0.1111111111111111,
                            "#46039f"
                          ],
                          [
                            0.2222222222222222,
                            "#7201a8"
                          ],
                          [
                            0.3333333333333333,
                            "#9c179e"
                          ],
                          [
                            0.4444444444444444,
                            "#bd3786"
                          ],
                          [
                            0.5555555555555556,
                            "#d8576b"
                          ],
                          [
                            0.6666666666666666,
                            "#ed7953"
                          ],
                          [
                            0.7777777777777778,
                            "#fb9f3a"
                          ],
                          [
                            0.8888888888888888,
                            "#fdca26"
                          ],
                          [
                            1,
                            "#f0f921"
                          ]
                        ],
                        "type": "histogram2d"
                      }
                    ],
                    "histogram2dcontour": [
                      {
                        "colorbar": {
                          "outlinewidth": 0,
                          "ticks": ""
                        },
                        "colorscale": [
                          [
                            0,
                            "#0d0887"
                          ],
                          [
                            0.1111111111111111,
                            "#46039f"
                          ],
                          [
                            0.2222222222222222,
                            "#7201a8"
                          ],
                          [
                            0.3333333333333333,
                            "#9c179e"
                          ],
                          [
                            0.4444444444444444,
                            "#bd3786"
                          ],
                          [
                            0.5555555555555556,
                            "#d8576b"
                          ],
                          [
                            0.6666666666666666,
                            "#ed7953"
                          ],
                          [
                            0.7777777777777778,
                            "#fb9f3a"
                          ],
                          [
                            0.8888888888888888,
                            "#fdca26"
                          ],
                          [
                            1,
                            "#f0f921"
                          ]
                        ],
                        "type": "histogram2dcontour"
                      }
                    ],
                    "mesh3d": [
                      {
                        "colorbar": {
                          "outlinewidth": 0,
                          "ticks": ""
                        },
                        "type": "mesh3d"
                      }
                    ],
                    "parcoords": [
                      {
                        "line": {
                          "colorbar": {
                            "outlinewidth": 0,
                            "ticks": ""
                          }
                        },
                        "type": "parcoords"
                      }
                    ],
                    "pie": [
                      {
                        "automargin": true,
                        "type": "pie"
                      }
                    ],
                    "scatter": [
                      {
                        "fillpattern": {
                          "fillmode": "overlay",
                          "size": 10,
                          "solidity": 0.2
                        },
                        "type": "scatter"
                      }
                    ],
                    "scatter3d": [
                      {
                        "line": {
                          "colorbar": {
                            "outlinewidth": 0,
                            "ticks": ""
                          }
                        },
                        "marker": {
                          "colorbar": {
                            "outlinewidth": 0,
                            "ticks": ""
                          }
                        },
                        "type": "scatter3d"
                      }
                    ],
                    "scattercarpet": [
                      {
                        "marker": {
                          "colorbar": {
                            "outlinewidth": 0,
                            "ticks": ""
                          }
                        },
                        "type": "scattercarpet"
                      }
                    ],
                    "scattergeo": [
                      {
                        "marker": {
                          "colorbar": {
                            "outlinewidth": 0,
                            "ticks": ""
                          }
                        },
                        "type": "scattergeo"
                      }
                    ],
                    "scattergl": [
                      {
                        "marker": {
                          "colorbar": {
                            "outlinewidth": 0,
                            "ticks": ""
                          }
                        },
                        "type": "scattergl"
                      }
                    ],
                    "scattermapbox": [
                      {
                        "marker": {
                          "colorbar": {
                            "outlinewidth": 0,
                            "ticks": ""
                          }
                        },
                        "type": "scattermapbox"
                      }
                    ],
                    "scatterpolar": [
                      {
                        "marker": {
                          "colorbar": {
                            "outlinewidth": 0,
                            "ticks": ""
                          }
                        },
                        "type": "scatterpolar"
                      }
                    ],
                    "scatterpolargl": [
                      {
                        "marker": {
                          "colorbar": {
                            "outlinewidth": 0,
                            "ticks": ""
                          }
                        },
                        "type": "scatterpolargl"
                      }
                    ],
                    "scatterternary": [
                      {
                        "marker": {
                          "colorbar": {
                            "outlinewidth": 0,
                            "ticks": ""
                          }
                        },
                        "type": "scatterternary"
                      }
                    ],
                    "surface": [
                      {
                        "colorbar": {
                          "outlinewidth": 0,
                          "ticks": ""
                        },
                        "colorscale": [
                          [
                            0,
                            "#0d0887"
                          ],
                          [
                            0.1111111111111111,
                            "#46039f"
                          ],
                          [
                            0.2222222222222222,
                            "#7201a8"
                          ],
                          [
                            0.3333333333333333,
                            "#9c179e"
                          ],
                          [
                            0.4444444444444444,
                            "#bd3786"
                          ],
                          [
                            0.5555555555555556,
                            "#d8576b"
                          ],
                          [
                            0.6666666666666666,
                            "#ed7953"
                          ],
                          [
                            0.7777777777777778,
                            "#fb9f3a"
                          ],
                          [
                            0.8888888888888888,
                            "#fdca26"
                          ],
                          [
                            1,
                            "#f0f921"
                          ]
                        ],
                        "type": "surface"
                      }
                    ],
                    "table": [
                      {
                        "cells": {
                          "fill": {
                            "color": "#EBF0F8"
                          },
                          "line": {
                            "color": "white"
                          }
                        },
                        "header": {
                          "fill": {
                            "color": "#C8D4E3"
                          },
                          "line": {
                            "color": "white"
                          }
                        },
                        "type": "table"
                      }
                    ]
                  },
                  "layout": {
                    "annotationdefaults": {
                      "arrowcolor": "#2a3f5f",
                      "arrowhead": 0,
                      "arrowwidth": 1
                    },
                    "autotypenumbers": "strict",
                    "coloraxis": {
                      "colorbar": {
                        "outlinewidth": 0,
                        "ticks": ""
                      }
                    },
                    "colorscale": {
                      "diverging": [
                        [
                          0,
                          "#8e0152"
                        ],
                        [
                          0.1,
                          "#c51b7d"
                        ],
                        [
                          0.2,
                          "#de77ae"
                        ],
                        [
                          0.3,
                          "#f1b6da"
                        ],
                        [
                          0.4,
                          "#fde0ef"
                        ],
                        [
                          0.5,
                          "#f7f7f7"
                        ],
                        [
                          0.6,
                          "#e6f5d0"
                        ],
                        [
                          0.7,
                          "#b8e186"
                        ],
                        [
                          0.8,
                          "#7fbc41"
                        ],
                        [
                          0.9,
                          "#4d9221"
                        ],
                        [
                          1,
                          "#276419"
                        ]
                      ],
                      "sequential": [
                        [
                          0,
                          "#0d0887"
                        ],
                        [
                          0.1111111111111111,
                          "#46039f"
                        ],
                        [
                          0.2222222222222222,
                          "#7201a8"
                        ],
                        [
                          0.3333333333333333,
                          "#9c179e"
                        ],
                        [
                          0.4444444444444444,
                          "#bd3786"
                        ],
                        [
                          0.5555555555555556,
                          "#d8576b"
                        ],
                        [
                          0.6666666666666666,
                          "#ed7953"
                        ],
                        [
                          0.7777777777777778,
                          "#fb9f3a"
                        ],
                        [
                          0.8888888888888888,
                          "#fdca26"
                        ],
                        [
                          1,
                          "#f0f921"
                        ]
                      ],
                      "sequentialminus": [
                        [
                          0,
                          "#0d0887"
                        ],
                        [
                          0.1111111111111111,
                          "#46039f"
                        ],
                        [
                          0.2222222222222222,
                          "#7201a8"
                        ],
                        [
                          0.3333333333333333,
                          "#9c179e"
                        ],
                        [
                          0.4444444444444444,
                          "#bd3786"
                        ],
                        [
                          0.5555555555555556,
                          "#d8576b"
                        ],
                        [
                          0.6666666666666666,
                          "#ed7953"
                        ],
                        [
                          0.7777777777777778,
                          "#fb9f3a"
                        ],
                        [
                          0.8888888888888888,
                          "#fdca26"
                        ],
                        [
                          1,
                          "#f0f921"
                        ]
                      ]
                    },
                    "colorway": [
                      "#636efa",
                      "#EF553B",
                      "#00cc96",
                      "#ab63fa",
                      "#FFA15A",
                      "#19d3f3",
                      "#FF6692",
                      "#B6E880",
                      "#FF97FF",
                      "#FECB52"
                    ],
                    "font": {
                      "color": "#2a3f5f"
                    },
                    "geo": {
                      "bgcolor": "white",
                      "lakecolor": "white",
                      "landcolor": "#E5ECF6",
                      "showlakes": true,
                      "showland": true,
                      "subunitcolor": "white"
                    },
                    "hoverlabel": {
                      "align": "left"
                    },
                    "hovermode": "closest",
                    "mapbox": {
                      "style": "light"
                    },
                    "paper_bgcolor": "white",
                    "plot_bgcolor": "#E5ECF6",
                    "polar": {
                      "angularaxis": {
                        "gridcolor": "white",
                        "linecolor": "white",
                        "ticks": ""
                      },
                      "bgcolor": "#E5ECF6",
                      "radialaxis": {
                        "gridcolor": "white",
                        "linecolor": "white",
                        "ticks": ""
                      }
                    },
                    "scene": {
                      "xaxis": {
                        "backgroundcolor": "#E5ECF6",
                        "gridcolor": "white",
                        "gridwidth": 2,
                        "linecolor": "white",
                        "showbackground": true,
                        "ticks": "",
                        "zerolinecolor": "white"
                      },
                      "yaxis": {
                        "backgroundcolor": "#E5ECF6",
                        "gridcolor": "white",
                        "gridwidth": 2,
                        "linecolor": "white",
                        "showbackground": true,
                        "ticks": "",
                        "zerolinecolor": "white"
                      },
                      "zaxis": {
                        "backgroundcolor": "#E5ECF6",
                        "gridcolor": "white",
                        "gridwidth": 2,
                        "linecolor": "white",
                        "showbackground": true,
                        "ticks": "",
                        "zerolinecolor": "white"
                      }
                    },
                    "shapedefaults": {
                      "line": {
                        "color": "#2a3f5f"
                      }
                    },
                    "ternary": {
                      "aaxis": {
                        "gridcolor": "white",
                        "linecolor": "white",
                        "ticks": ""
                      },
                      "baxis": {
                        "gridcolor": "white",
                        "linecolor": "white",
                        "ticks": ""
                      },
                      "bgcolor": "#E5ECF6",
                      "caxis": {
                        "gridcolor": "white",
                        "linecolor": "white",
                        "ticks": ""
                      }
                    },
                    "title": {
                      "x": 0.05
                    },
                    "xaxis": {
                      "automargin": true,
                      "gridcolor": "white",
                      "linecolor": "white",
                      "ticks": "",
                      "title": {
                        "standoff": 15
                      },
                      "zerolinecolor": "white",
                      "zerolinewidth": 2
                    },
                    "yaxis": {
                      "automargin": true,
                      "gridcolor": "white",
                      "linecolor": "white",
                      "ticks": "",
                      "title": {
                        "standoff": 15
                      },
                      "zerolinecolor": "white",
                      "zerolinewidth": 2
                    }
                  }
                },
                "xaxis": {
                  "anchor": "y",
                  "domain": [
                    0,
                    1
                  ],
                  "title": {
                    "text": "age"
                  }
                },
                "yaxis": {
                  "anchor": "x",
                  "domain": [
                    0,
                    1
                  ],
                  "title": {
                    "text": "height"
                  }
                }
              }
            }
          },
          "metadata": {},
          "output_type": "display_data"
        }
      ],
      "source": [
        "# TYPE YOUR CODE HERE.\n",
        "import plotly.express as px\n",
        "\n",
        "df_cupid5 = df_cupid.groupby([\"age\", \"sex\"])[\"height\"].mean().reset_index()\n",
        "\n",
        "df_cupid5 = df_cupid5[(df_cupid5[\"age\"] != 64) | (df_cupid5['sex'] != \"m\")]\n",
        "df_cupid5 = df_cupid5[(df_cupid5[\"age\"] != 60) | (df_cupid5['sex'] != \"f\")]\n",
        "px.scatter(df_cupid5, x=\"age\", y=\"height\", color=\"sex\", trendline=\"ols\")                                                                 "
      ]
    },
    {
      "cell_type": "markdown",
      "metadata": {
        "id": "OGotjoZiUWUY"
      },
      "source": [
        "**INTERPRET YOUR PLOT HERE.**"
      ]
    },
    {
      "cell_type": "markdown",
      "metadata": {
        "id": "W8KZMLlpUWUZ"
      },
      "source": [
        "## Question 6\n",
        "\n",
        "Make a bar chart showing the number of users with each type of job. Sort the jobs by average reported income. (No explanation necessary.)"
      ]
    },
    {
      "cell_type": "code",
      "execution_count": 158,
      "metadata": {
        "id": "jIHT0YCAUWUa"
      },
      "outputs": [
        {
          "data": {
            "text/plain": [
              "<Axes: title={'center': 'Test'}, xlabel='job'>"
            ]
          },
          "execution_count": 158,
          "metadata": {},
          "output_type": "execute_result"
        },
        {
          "data": {
            "image/png": "[encoded data removed]",
            "text/plain": [
              "<Figure size 640x480 with 1 Axes>"
            ]
          },
          "metadata": {},
          "output_type": "display_data"
        }
      ],
      "source": [
        "# TYPE YOUR CODE HERE.\n",
        "# bar chart showing then number of users each type of job. sort by avg income\n",
        "df_cupid6 = df_cupid.groupby([\"job\"])[\"income\"].mean().sort_values(ascending=False).index\n",
        "\n",
        "df_cupid[\"job\"].value_counts()[df_cupid6].plot.bar(title=\"Test\")"
      ]
    },
    {
      "cell_type": "markdown",
      "metadata": {
        "id": "v_8pKNCcUWUd"
      },
      "source": [
        "## Question 7\n",
        "\n",
        "Make a visualization that shows the distribution of the _number_ of languages spoken by OKCupid users. (No explanation necessary.)"
      ]
    },
    {
      "cell_type": "code",
      "execution_count": 168,
      "metadata": {
        "id": "s4uq5cqWUWUe"
      },
      "outputs": [
        {
          "data": {
            "text/plain": [
              "<Axes: title={'center': 'Test'}, xlabel='num_langs'>"
            ]
          },
          "execution_count": 168,
          "metadata": {},
          "output_type": "execute_result"
        },
        {
          "data": {
            "image/png": "[encoded data removed]",
            "text/plain": [
              "<Figure size 640x480 with 1 Axes>"
            ]
          },
          "metadata": {},
          "output_type": "display_data"
        }
      ],
      "source": [
        "# TYPE YOUR CODE HERE.\n",
        "def get_num_words(s):\n",
        "    return len(s.split(\",\"))\n",
        "\n",
        "df_cupid[\"speaks\"] = df_cupid[\"speaks\"].dropna()\n",
        "df_cupid[\"num_langs\"] = df_cupid[\"speaks\"].apply(get_num_words)\n",
        "df_cupid[\"num_langs\"].value_counts().sort_index().plot.bar(title=\"Test\")"
      ]
    },
    {
      "cell_type": "markdown",
      "metadata": {
        "id": "eXJ5PUXtUWUi"
      },
      "source": [
        "## Question 8\n",
        "\n",
        "In this group of users, which religion's adherents are the most serious about their religion? Explain your answer."
      ]
    },
    {
      "cell_type": "code",
      "execution_count": 173,
      "metadata": {},
      "outputs": [
        {
          "data": {
            "text/plain": [
              "religion\n",
              "agnosticism but not too serious about it      138\n",
              "other                                         133\n",
              "agnosticism                                   130\n",
              "other and laughing about it                   118\n",
              "atheism                                       115\n",
              "catholicism but not too serious about it      114\n",
              "agnosticism and laughing about it             104\n",
              "atheism and laughing about it                 102\n",
              "other but not too serious about it             99\n",
              "christianity                                   96\n",
              "christianity but not too serious about it      93\n",
              "judaism but not too serious about it           77\n",
              "atheism but not too serious about it           61\n",
              "catholicism                                    61\n",
              "catholicism and laughing about it              41\n",
              "atheism and somewhat serious about it          40\n",
              "christianity and somewhat serious about it     39\n",
              "other and somewhat serious about it            38\n",
              "judaism and laughing about it                  37\n",
              "buddhism but not too serious about it          35\n",
              "other and very serious about it                34\n",
              "christianity and very serious about it         32\n",
              "atheism and very serious about it              31\n",
              "buddhism                                       29\n",
              "judaism                                        29\n",
              "agnosticism and very serious about it          28\n",
              "agnosticism and somewhat serious about it      27\n",
              "buddhism and laughing about it                 24\n",
              "catholicism and somewhat serious about it      23\n",
              "christianity and laughing about it             23\n",
              "buddhism and somewhat serious about it         13\n",
              "hinduism but not too serious about it           9\n",
              "buddhism and very serious about it              7\n",
              "catholicism and very serious about it           6\n",
              "judaism and somewhat serious about it           5\n",
              "hinduism                                        5\n",
              "hinduism and somewhat serious about it          2\n",
              "islam and somewhat serious about it             1\n",
              "hinduism and laughing about it                  1\n",
              "islam                                           1\n",
              "islam but not too serious about it              1\n",
              "Name: count, dtype: int64"
            ]
          },
          "execution_count": 173,
          "metadata": {},
          "output_type": "execute_result"
        }
      ],
      "source": [
        "df_cupid[\"religion\"].value_counts()"
      ]
    },
    {
      "cell_type": "code",
      "execution_count": 196,
      "metadata": {
        "id": "Awi4AzuSUWUj"
      },
      "outputs": [],
      "source": [
        "# TYPE YOUR CODE HERE.\n",
        "def serious_religion(s):\n",
        "    if \"very serious\" in s:\n",
        "        return \"serious\"\n",
        "    else:\n",
        "        return \"not very serious\"\n",
        "    \n",
        "def get_religion(r):\n",
        "    return r.split(\" \")[0]\n",
        "    \n",
        "df_cupid[\"religion_serious\"] = df_cupid[\"religion\"].dropna().map(serious_religion)\n",
        "df_cupid[\"exact religion\"] = df_cupid[\"religion\"].dropna().map(get_religion)"
      ]
    },
    {
      "cell_type": "code",
      "execution_count": 197,
      "metadata": {},
      "outputs": [
        {
          "data": {
            "text/html": [
              "<div>\n",
              "<style scoped>\n",
              "    .dataframe tbody tr th:only-of-type {\n",
              "        vertical-align: middle;\n",
              "    }\n",
              "\n",
              "    .dataframe tbody tr th {\n",
              "        vertical-align: top;\n",
              "    }\n",
              "\n",
              "    .dataframe thead th {\n",
              "        text-align: right;\n",
              "    }\n",
              "</style>\n",
              "<table border=\"1\" class=\"dataframe\">\n",
              "  <thead>\n",
              "    <tr style=\"text-align: right;\">\n",
              "      <th></th>\n",
              "      <th>exact religion</th>\n",
              "      <th>religion_serious</th>\n",
              "      <th>proportion</th>\n",
              "    </tr>\n",
              "  </thead>\n",
              "  <tbody>\n",
              "    <tr>\n",
              "      <th>9</th>\n",
              "      <td>christianity</td>\n",
              "      <td>serious</td>\n",
              "      <td>0.113074</td>\n",
              "    </tr>\n",
              "  </tbody>\n",
              "</table>\n",
              "</div>"
            ],
            "text/plain": [
              "  exact religion religion_serious  proportion\n",
              "9   christianity          serious    0.113074"
            ]
          },
          "execution_count": 197,
          "metadata": {},
          "output_type": "execute_result"
        }
      ],
      "source": [
        "df_cupid8 = df_cupid.groupby([\"exact religion\"])[\"religion_serious\"].value_counts(normalize=True).reset_index()\n",
        "df_cupid8 = df_cupid8[df_cupid8[\"religion_serious\"] == \"serious\"].sort_values(by=\"proportion\", ascending=False).head(1)\n",
        "\n",
        "df_cupid8"
      ]
    },
    {
      "cell_type": "markdown",
      "metadata": {
        "id": "sMPwOHacUWUs"
      },
      "source": [
        "**EXPLAIN YOUR ANSWER HERE.**"
      ]
    },
    {
      "cell_type": "markdown",
      "metadata": {
        "id": "HhdGNxizUWUu"
      },
      "source": [
        "## Question 9\n",
        "\n",
        "Study the profile of user 2855 in the data set, especially what they wrote in `essay9` about what they are looking for in a partner. Recommend five users in this data set that you think would be most compatible with this user."
      ]
    },
    {
      "cell_type": "code",
      "execution_count": 205,
      "metadata": {},
      "outputs": [
        {
          "data": {
            "text/plain": [
              "Index(['age', 'body_type', 'diet', 'drinks', 'drugs', 'education', 'essay0',\n",
              "       'essay1', 'essay2', 'essay3', 'essay4', 'essay5', 'essay6', 'essay7',\n",
              "       'essay8', 'essay9', 'ethnicity', 'speaks', 'income', 'job',\n",
              "       'last_online', 'location', 'offspring', 'orientation', 'pets',\n",
              "       'religion', 'sex', 'sign', 'smokes', 'height', 'status',\n",
              "       'working on college/university', 'working on med school', 'num_words',\n",
              "       'num_langs', 'religion_serious', 'exact religion'],\n",
              "      dtype='object')"
            ]
          },
          "execution_count": 205,
          "metadata": {},
          "output_type": "execute_result"
        }
      ],
      "source": [
        "df_cupid.columns"
      ]
    },
    {
      "cell_type": "code",
      "execution_count": 211,
      "metadata": {},
      "outputs": [
        {
          "data": {
            "text/plain": [
              "diet\n",
              "mostly anything        797\n",
              "strictly anything      280\n",
              "anything               274\n",
              "mostly vegetarian      182\n",
              "mostly other            55\n",
              "strictly vegetarian     45\n",
              "vegetarian              37\n",
              "strictly other          31\n",
              "other                   20\n",
              "mostly vegan            13\n",
              "strictly vegan          13\n",
              "vegan                    5\n",
              "mostly halal             1\n",
              "strictly halal           1\n",
              "mostly kosher            1\n",
              "Name: count, dtype: int64"
            ]
          },
          "execution_count": 211,
          "metadata": {},
          "output_type": "execute_result"
        }
      ],
      "source": [
        "df_cupid[\"diet\"].value_counts()"
      ]
    },
    {
      "cell_type": "code",
      "execution_count": 204,
      "metadata": {
        "id": "ozKEXt-lUWUv"
      },
      "outputs": [
        {
          "data": {
            "text/plain": [
              "'you are looking for a friend, i make a great one.<br />\\nyou love chocolate, so do i.<br />\\nyou enjoy intellectually stimulating conversation...'"
            ]
          },
          "execution_count": 204,
          "metadata": {},
          "output_type": "execute_result"
        }
      ],
      "source": [
        "# TYPE YOUR CODE HERE.\n",
        "df_cupid.loc[2855, \"essay9\"]"
      ]
    },
    {
      "cell_type": "markdown",
      "metadata": {
        "id": "hzs6ZgaRUWU4"
      },
      "source": [
        "**EXPLAIN YOUR METHODOLOGY AND YOUR ANSWER HERE.**"
      ]
    },
    {
      "cell_type": "code",
      "execution_count": 228,
      "metadata": {},
      "outputs": [
        {
          "data": {
            "text/html": [
              "<div>\n",
              "<style scoped>\n",
              "    .dataframe tbody tr th:only-of-type {\n",
              "        vertical-align: middle;\n",
              "    }\n",
              "\n",
              "    .dataframe tbody tr th {\n",
              "        vertical-align: top;\n",
              "    }\n",
              "\n",
              "    .dataframe thead th {\n",
              "        text-align: right;\n",
              "    }\n",
              "</style>\n",
              "<table border=\"1\" class=\"dataframe\">\n",
              "  <thead>\n",
              "    <tr style=\"text-align: right;\">\n",
              "      <th></th>\n",
              "      <th>age</th>\n",
              "      <th>body_type</th>\n",
              "      <th>diet</th>\n",
              "      <th>drinks</th>\n",
              "      <th>drugs</th>\n",
              "      <th>education</th>\n",
              "      <th>essay0</th>\n",
              "      <th>essay1</th>\n",
              "      <th>essay2</th>\n",
              "      <th>essay3</th>\n",
              "      <th>...</th>\n",
              "      <th>status</th>\n",
              "      <th>working on college/university</th>\n",
              "      <th>working on med school</th>\n",
              "      <th>num_words</th>\n",
              "      <th>num_langs</th>\n",
              "      <th>religion_serious</th>\n",
              "      <th>exact religion</th>\n",
              "      <th>intro_chocolate</th>\n",
              "      <th>intro_friend</th>\n",
              "      <th>intro_conv</th>\n",
              "    </tr>\n",
              "  </thead>\n",
              "  <tbody>\n",
              "    <tr>\n",
              "      <th>0</th>\n",
              "      <td>31</td>\n",
              "      <td>NaN</td>\n",
              "      <td>mostly vegetarian</td>\n",
              "      <td>socially</td>\n",
              "      <td>sometimes</td>\n",
              "      <td>graduated from college/university</td>\n",
              "      <td>75% nice, 45% shy, 80% stubborn, 100% charming...</td>\n",
              "      <td>i'm a new nurse. it rules.</td>\n",
              "      <td>multiple-choice questions, dancing.</td>\n",
              "      <td>it depends on the people.</td>\n",
              "      <td>...</td>\n",
              "      <td>single</td>\n",
              "      <td>False</td>\n",
              "      <td>False</td>\n",
              "      <td>1</td>\n",
              "      <td>1</td>\n",
              "      <td>not very serious</td>\n",
              "      <td>buddhism</td>\n",
              "      <td>False</td>\n",
              "      <td>False</td>\n",
              "      <td>False</td>\n",
              "    </tr>\n",
              "    <tr>\n",
              "      <th>1</th>\n",
              "      <td>25</td>\n",
              "      <td>average</td>\n",
              "      <td>NaN</td>\n",
              "      <td>socially</td>\n",
              "      <td>NaN</td>\n",
              "      <td>working on college/university</td>\n",
              "      <td>i like trees, spending long periods of time co...</td>\n",
              "      <td>studying landscape horticulture, beekeeping, g...</td>\n",
              "      <td>wasting time, making breakfast, nesting</td>\n",
              "      <td>i have a lot of freckles</td>\n",
              "      <td>...</td>\n",
              "      <td>single</td>\n",
              "      <td>True</td>\n",
              "      <td>False</td>\n",
              "      <td>1</td>\n",
              "      <td>1</td>\n",
              "      <td>NaN</td>\n",
              "      <td>NaN</td>\n",
              "      <td>False</td>\n",
              "      <td>False</td>\n",
              "      <td>False</td>\n",
              "    </tr>\n",
              "    <tr>\n",
              "      <th>2</th>\n",
              "      <td>43</td>\n",
              "      <td>curvy</td>\n",
              "      <td>NaN</td>\n",
              "      <td>rarely</td>\n",
              "      <td>never</td>\n",
              "      <td>graduated from masters program</td>\n",
              "      <td>NaN</td>\n",
              "      <td>NaN</td>\n",
              "      <td>NaN</td>\n",
              "      <td>NaN</td>\n",
              "      <td>...</td>\n",
              "      <td>single</td>\n",
              "      <td>False</td>\n",
              "      <td>False</td>\n",
              "      <td>1</td>\n",
              "      <td>1</td>\n",
              "      <td>not very serious</td>\n",
              "      <td>other</td>\n",
              "      <td>NaN</td>\n",
              "      <td>NaN</td>\n",
              "      <td>NaN</td>\n",
              "    </tr>\n",
              "    <tr>\n",
              "      <th>3</th>\n",
              "      <td>31</td>\n",
              "      <td>average</td>\n",
              "      <td>NaN</td>\n",
              "      <td>socially</td>\n",
              "      <td>never</td>\n",
              "      <td>NaN</td>\n",
              "      <td>i am a seeker of laughs ,music ,magick good pe...</td>\n",
              "      <td>i strive to live life to the fullest and to tr...</td>\n",
              "      <td>i am good at my magic and weaving a world of i...</td>\n",
              "      <td>i am guessing y'all would notice my jewelry an...</td>\n",
              "      <td>...</td>\n",
              "      <td>single</td>\n",
              "      <td>False</td>\n",
              "      <td>False</td>\n",
              "      <td>1</td>\n",
              "      <td>1</td>\n",
              "      <td>serious</td>\n",
              "      <td>other</td>\n",
              "      <td>False</td>\n",
              "      <td>False</td>\n",
              "      <td>False</td>\n",
              "    </tr>\n",
              "    <tr>\n",
              "      <th>4</th>\n",
              "      <td>34</td>\n",
              "      <td>NaN</td>\n",
              "      <td>NaN</td>\n",
              "      <td>socially</td>\n",
              "      <td>NaN</td>\n",
              "      <td>graduated from ph.d program</td>\n",
              "      <td>i've just moved here from london after finishi...</td>\n",
              "      <td>i'm doing a postdoc in psychology at stanford</td>\n",
              "      <td>NaN</td>\n",
              "      <td>NaN</td>\n",
              "      <td>...</td>\n",
              "      <td>single</td>\n",
              "      <td>False</td>\n",
              "      <td>False</td>\n",
              "      <td>3</td>\n",
              "      <td>3</td>\n",
              "      <td>NaN</td>\n",
              "      <td>NaN</td>\n",
              "      <td>False</td>\n",
              "      <td>False</td>\n",
              "      <td>False</td>\n",
              "    </tr>\n",
              "  </tbody>\n",
              "</table>\n",
              "<p>5 rows × 40 columns</p>\n",
              "</div>"
            ],
            "text/plain": [
              "   age body_type               diet    drinks      drugs   \n",
              "0   31       NaN  mostly vegetarian  socially  sometimes  \\\n",
              "1   25   average                NaN  socially        NaN   \n",
              "2   43     curvy                NaN    rarely      never   \n",
              "3   31   average                NaN  socially      never   \n",
              "4   34       NaN                NaN  socially        NaN   \n",
              "\n",
              "                           education   \n",
              "0  graduated from college/university  \\\n",
              "1      working on college/university   \n",
              "2     graduated from masters program   \n",
              "3                                NaN   \n",
              "4        graduated from ph.d program   \n",
              "\n",
              "                                              essay0   \n",
              "0  75% nice, 45% shy, 80% stubborn, 100% charming...  \\\n",
              "1  i like trees, spending long periods of time co...   \n",
              "2                                                NaN   \n",
              "3  i am a seeker of laughs ,music ,magick good pe...   \n",
              "4  i've just moved here from london after finishi...   \n",
              "\n",
              "                                              essay1   \n",
              "0                         i'm a new nurse. it rules.  \\\n",
              "1  studying landscape horticulture, beekeeping, g...   \n",
              "2                                                NaN   \n",
              "3  i strive to live life to the fullest and to tr...   \n",
              "4      i'm doing a postdoc in psychology at stanford   \n",
              "\n",
              "                                              essay2   \n",
              "0                multiple-choice questions, dancing.  \\\n",
              "1            wasting time, making breakfast, nesting   \n",
              "2                                                NaN   \n",
              "3  i am good at my magic and weaving a world of i...   \n",
              "4                                                NaN   \n",
              "\n",
              "                                              essay3  ...  status   \n",
              "0                          it depends on the people.  ...  single  \\\n",
              "1                           i have a lot of freckles  ...  single   \n",
              "2                                                NaN  ...  single   \n",
              "3  i am guessing y'all would notice my jewelry an...  ...  single   \n",
              "4                                                NaN  ...  single   \n",
              "\n",
              "  working on college/university working on med school num_words num_langs   \n",
              "0                         False                 False         1         1  \\\n",
              "1                          True                 False         1         1   \n",
              "2                         False                 False         1         1   \n",
              "3                         False                 False         1         1   \n",
              "4                         False                 False         3         3   \n",
              "\n",
              "   religion_serious exact religion intro_chocolate  intro_friend intro_conv  \n",
              "0  not very serious       buddhism           False         False      False  \n",
              "1               NaN            NaN           False         False      False  \n",
              "2  not very serious          other             NaN           NaN        NaN  \n",
              "3           serious          other           False         False      False  \n",
              "4               NaN            NaN           False         False      False  \n",
              "\n",
              "[5 rows x 40 columns]"
            ]
          },
          "execution_count": 228,
          "metadata": {},
          "output_type": "execute_result"
        }
      ],
      "source": [
        "df_cupid[\"intro_chocolate\"] = df_cupid[\"essay0\"].str.contains(\"chocolate\")\n",
        "df_cupid[\"intro_friend\"] = df_cupid[\"essay0\"].str.contains(\"friend\")\n",
        "df_cupid[\"intro_conv\"] = df_cupid[\"essay0\"].str.contains(\"conversation\")\n",
        "df_cupid.head(5)"
      ]
    },
    {
      "cell_type": "code",
      "execution_count": 235,
      "metadata": {
        "id": "TgSPNWMc6WrP"
      },
      "outputs": [
        {
          "name": "stderr",
          "output_type": "stream",
          "text": [
            "/var/folders/q8/mqm68gfx7pjfpqftf7y_v6140000gn/T/ipykernel_45072/1762434710.py:2: SettingWithCopyWarning:\n",
            "\n",
            "\n",
            "A value is trying to be set on a copy of a slice from a DataFrame\n",
            "\n",
            "See the caveats in the documentation: https://pandas.pydata.org/pandas-docs/stable/user_guide/indexing.html#returning-a-view-versus-a-copy\n",
            "\n"
          ]
        },
        {
          "data": {
            "text/html": [
              "<div>\n",
              "<style scoped>\n",
              "    .dataframe tbody tr th:only-of-type {\n",
              "        vertical-align: middle;\n",
              "    }\n",
              "\n",
              "    .dataframe tbody tr th {\n",
              "        vertical-align: top;\n",
              "    }\n",
              "\n",
              "    .dataframe thead th {\n",
              "        text-align: right;\n",
              "    }\n",
              "</style>\n",
              "<table border=\"1\" class=\"dataframe\">\n",
              "  <thead>\n",
              "    <tr style=\"text-align: right;\">\n",
              "      <th></th>\n",
              "      <th>age</th>\n",
              "      <th>diet</th>\n",
              "      <th>drinks</th>\n",
              "      <th>exact religion</th>\n",
              "      <th>intro_chocolate</th>\n",
              "      <th>intro_friend</th>\n",
              "      <th>intro_conv</th>\n",
              "    </tr>\n",
              "  </thead>\n",
              "  <tbody>\n",
              "    <tr>\n",
              "      <th>0</th>\n",
              "      <td>31</td>\n",
              "      <td>mostly vegetarian</td>\n",
              "      <td>socially</td>\n",
              "      <td>buddhism</td>\n",
              "      <td>False</td>\n",
              "      <td>False</td>\n",
              "      <td>False</td>\n",
              "    </tr>\n",
              "    <tr>\n",
              "      <th>1</th>\n",
              "      <td>25</td>\n",
              "      <td>False</td>\n",
              "      <td>socially</td>\n",
              "      <td>False</td>\n",
              "      <td>False</td>\n",
              "      <td>False</td>\n",
              "      <td>False</td>\n",
              "    </tr>\n",
              "    <tr>\n",
              "      <th>2</th>\n",
              "      <td>43</td>\n",
              "      <td>False</td>\n",
              "      <td>rarely</td>\n",
              "      <td>other</td>\n",
              "      <td>False</td>\n",
              "      <td>False</td>\n",
              "      <td>False</td>\n",
              "    </tr>\n",
              "    <tr>\n",
              "      <th>3</th>\n",
              "      <td>31</td>\n",
              "      <td>False</td>\n",
              "      <td>socially</td>\n",
              "      <td>other</td>\n",
              "      <td>False</td>\n",
              "      <td>False</td>\n",
              "      <td>False</td>\n",
              "    </tr>\n",
              "    <tr>\n",
              "      <th>4</th>\n",
              "      <td>34</td>\n",
              "      <td>False</td>\n",
              "      <td>socially</td>\n",
              "      <td>False</td>\n",
              "      <td>False</td>\n",
              "      <td>False</td>\n",
              "      <td>False</td>\n",
              "    </tr>\n",
              "    <tr>\n",
              "      <th>...</th>\n",
              "      <td>...</td>\n",
              "      <td>...</td>\n",
              "      <td>...</td>\n",
              "      <td>...</td>\n",
              "      <td>...</td>\n",
              "      <td>...</td>\n",
              "      <td>...</td>\n",
              "    </tr>\n",
              "    <tr>\n",
              "      <th>2995</th>\n",
              "      <td>24</td>\n",
              "      <td>mostly anything</td>\n",
              "      <td>socially</td>\n",
              "      <td>catholicism</td>\n",
              "      <td>False</td>\n",
              "      <td>True</td>\n",
              "      <td>False</td>\n",
              "    </tr>\n",
              "    <tr>\n",
              "      <th>2996</th>\n",
              "      <td>50</td>\n",
              "      <td>False</td>\n",
              "      <td>rarely</td>\n",
              "      <td>agnosticism</td>\n",
              "      <td>False</td>\n",
              "      <td>False</td>\n",
              "      <td>False</td>\n",
              "    </tr>\n",
              "    <tr>\n",
              "      <th>2997</th>\n",
              "      <td>31</td>\n",
              "      <td>vegetarian</td>\n",
              "      <td>socially</td>\n",
              "      <td>False</td>\n",
              "      <td>False</td>\n",
              "      <td>False</td>\n",
              "      <td>False</td>\n",
              "    </tr>\n",
              "    <tr>\n",
              "      <th>2998</th>\n",
              "      <td>31</td>\n",
              "      <td>mostly vegetarian</td>\n",
              "      <td>socially</td>\n",
              "      <td>catholicism</td>\n",
              "      <td>False</td>\n",
              "      <td>False</td>\n",
              "      <td>False</td>\n",
              "    </tr>\n",
              "    <tr>\n",
              "      <th>2999</th>\n",
              "      <td>60</td>\n",
              "      <td>False</td>\n",
              "      <td>socially</td>\n",
              "      <td>other</td>\n",
              "      <td>False</td>\n",
              "      <td>False</td>\n",
              "      <td>False</td>\n",
              "    </tr>\n",
              "  </tbody>\n",
              "</table>\n",
              "<p>3000 rows × 7 columns</p>\n",
              "</div>"
            ],
            "text/plain": [
              "      age               diet    drinks exact religion  intro_chocolate   \n",
              "0      31  mostly vegetarian  socially       buddhism            False  \\\n",
              "1      25              False  socially          False            False   \n",
              "2      43              False    rarely          other            False   \n",
              "3      31              False  socially          other            False   \n",
              "4      34              False  socially          False            False   \n",
              "...   ...                ...       ...            ...              ...   \n",
              "2995   24    mostly anything  socially    catholicism            False   \n",
              "2996   50              False    rarely    agnosticism            False   \n",
              "2997   31         vegetarian  socially          False            False   \n",
              "2998   31  mostly vegetarian  socially    catholicism            False   \n",
              "2999   60              False  socially          other            False   \n",
              "\n",
              "      intro_friend  intro_conv  \n",
              "0            False       False  \n",
              "1            False       False  \n",
              "2            False       False  \n",
              "3            False       False  \n",
              "4            False       False  \n",
              "...            ...         ...  \n",
              "2995          True       False  \n",
              "2996         False       False  \n",
              "2997         False       False  \n",
              "2998         False       False  \n",
              "2999         False       False  \n",
              "\n",
              "[3000 rows x 7 columns]"
            ]
          },
          "execution_count": 235,
          "metadata": {},
          "output_type": "execute_result"
        }
      ],
      "source": [
        "df_cupid_rec = df_cupid[[\"age\", \"diet\", \"drinks\", \"exact religion\", \"intro_chocolate\", \"intro_friend\", \"intro_conv\"]]\n",
        "df_cupid_rec.fillna(False, inplace=True)\n",
        "df_cupid_rec"
      ]
    },
    {
      "cell_type": "code",
      "execution_count": 236,
      "metadata": {},
      "outputs": [
        {
          "data": {
            "text/html": [
              "<div>\n",
              "<style scoped>\n",
              "    .dataframe tbody tr th:only-of-type {\n",
              "        vertical-align: middle;\n",
              "    }\n",
              "\n",
              "    .dataframe tbody tr th {\n",
              "        vertical-align: top;\n",
              "    }\n",
              "\n",
              "    .dataframe thead th {\n",
              "        text-align: right;\n",
              "    }\n",
              "</style>\n",
              "<table border=\"1\" class=\"dataframe\">\n",
              "  <thead>\n",
              "    <tr style=\"text-align: right;\">\n",
              "      <th></th>\n",
              "      <th>age</th>\n",
              "      <th>intro_chocolate</th>\n",
              "      <th>intro_friend</th>\n",
              "      <th>intro_conv</th>\n",
              "      <th>diet_False</th>\n",
              "      <th>diet_anything</th>\n",
              "      <th>diet_mostly anything</th>\n",
              "      <th>diet_mostly halal</th>\n",
              "      <th>diet_mostly kosher</th>\n",
              "      <th>diet_mostly other</th>\n",
              "      <th>...</th>\n",
              "      <th>exact religion_False</th>\n",
              "      <th>exact religion_agnosticism</th>\n",
              "      <th>exact religion_atheism</th>\n",
              "      <th>exact religion_buddhism</th>\n",
              "      <th>exact religion_catholicism</th>\n",
              "      <th>exact religion_christianity</th>\n",
              "      <th>exact religion_hinduism</th>\n",
              "      <th>exact religion_islam</th>\n",
              "      <th>exact religion_judaism</th>\n",
              "      <th>exact religion_other</th>\n",
              "    </tr>\n",
              "  </thead>\n",
              "  <tbody>\n",
              "    <tr>\n",
              "      <th>0</th>\n",
              "      <td>31</td>\n",
              "      <td>False</td>\n",
              "      <td>False</td>\n",
              "      <td>False</td>\n",
              "      <td>False</td>\n",
              "      <td>False</td>\n",
              "      <td>False</td>\n",
              "      <td>False</td>\n",
              "      <td>False</td>\n",
              "      <td>False</td>\n",
              "      <td>...</td>\n",
              "      <td>False</td>\n",
              "      <td>False</td>\n",
              "      <td>False</td>\n",
              "      <td>True</td>\n",
              "      <td>False</td>\n",
              "      <td>False</td>\n",
              "      <td>False</td>\n",
              "      <td>False</td>\n",
              "      <td>False</td>\n",
              "      <td>False</td>\n",
              "    </tr>\n",
              "    <tr>\n",
              "      <th>1</th>\n",
              "      <td>25</td>\n",
              "      <td>False</td>\n",
              "      <td>False</td>\n",
              "      <td>False</td>\n",
              "      <td>True</td>\n",
              "      <td>False</td>\n",
              "      <td>False</td>\n",
              "      <td>False</td>\n",
              "      <td>False</td>\n",
              "      <td>False</td>\n",
              "      <td>...</td>\n",
              "      <td>True</td>\n",
              "      <td>False</td>\n",
              "      <td>False</td>\n",
              "      <td>False</td>\n",
              "      <td>False</td>\n",
              "      <td>False</td>\n",
              "      <td>False</td>\n",
              "      <td>False</td>\n",
              "      <td>False</td>\n",
              "      <td>False</td>\n",
              "    </tr>\n",
              "    <tr>\n",
              "      <th>2</th>\n",
              "      <td>43</td>\n",
              "      <td>False</td>\n",
              "      <td>False</td>\n",
              "      <td>False</td>\n",
              "      <td>True</td>\n",
              "      <td>False</td>\n",
              "      <td>False</td>\n",
              "      <td>False</td>\n",
              "      <td>False</td>\n",
              "      <td>False</td>\n",
              "      <td>...</td>\n",
              "      <td>False</td>\n",
              "      <td>False</td>\n",
              "      <td>False</td>\n",
              "      <td>False</td>\n",
              "      <td>False</td>\n",
              "      <td>False</td>\n",
              "      <td>False</td>\n",
              "      <td>False</td>\n",
              "      <td>False</td>\n",
              "      <td>True</td>\n",
              "    </tr>\n",
              "    <tr>\n",
              "      <th>3</th>\n",
              "      <td>31</td>\n",
              "      <td>False</td>\n",
              "      <td>False</td>\n",
              "      <td>False</td>\n",
              "      <td>True</td>\n",
              "      <td>False</td>\n",
              "      <td>False</td>\n",
              "      <td>False</td>\n",
              "      <td>False</td>\n",
              "      <td>False</td>\n",
              "      <td>...</td>\n",
              "      <td>False</td>\n",
              "      <td>False</td>\n",
              "      <td>False</td>\n",
              "      <td>False</td>\n",
              "      <td>False</td>\n",
              "      <td>False</td>\n",
              "      <td>False</td>\n",
              "      <td>False</td>\n",
              "      <td>False</td>\n",
              "      <td>True</td>\n",
              "    </tr>\n",
              "    <tr>\n",
              "      <th>4</th>\n",
              "      <td>34</td>\n",
              "      <td>False</td>\n",
              "      <td>False</td>\n",
              "      <td>False</td>\n",
              "      <td>True</td>\n",
              "      <td>False</td>\n",
              "      <td>False</td>\n",
              "      <td>False</td>\n",
              "      <td>False</td>\n",
              "      <td>False</td>\n",
              "      <td>...</td>\n",
              "      <td>True</td>\n",
              "      <td>False</td>\n",
              "      <td>False</td>\n",
              "      <td>False</td>\n",
              "      <td>False</td>\n",
              "      <td>False</td>\n",
              "      <td>False</td>\n",
              "      <td>False</td>\n",
              "      <td>False</td>\n",
              "      <td>False</td>\n",
              "    </tr>\n",
              "    <tr>\n",
              "      <th>...</th>\n",
              "      <td>...</td>\n",
              "      <td>...</td>\n",
              "      <td>...</td>\n",
              "      <td>...</td>\n",
              "      <td>...</td>\n",
              "      <td>...</td>\n",
              "      <td>...</td>\n",
              "      <td>...</td>\n",
              "      <td>...</td>\n",
              "      <td>...</td>\n",
              "      <td>...</td>\n",
              "      <td>...</td>\n",
              "      <td>...</td>\n",
              "      <td>...</td>\n",
              "      <td>...</td>\n",
              "      <td>...</td>\n",
              "      <td>...</td>\n",
              "      <td>...</td>\n",
              "      <td>...</td>\n",
              "      <td>...</td>\n",
              "      <td>...</td>\n",
              "    </tr>\n",
              "    <tr>\n",
              "      <th>2995</th>\n",
              "      <td>24</td>\n",
              "      <td>False</td>\n",
              "      <td>True</td>\n",
              "      <td>False</td>\n",
              "      <td>False</td>\n",
              "      <td>False</td>\n",
              "      <td>True</td>\n",
              "      <td>False</td>\n",
              "      <td>False</td>\n",
              "      <td>False</td>\n",
              "      <td>...</td>\n",
              "      <td>False</td>\n",
              "      <td>False</td>\n",
              "      <td>False</td>\n",
              "      <td>False</td>\n",
              "      <td>True</td>\n",
              "      <td>False</td>\n",
              "      <td>False</td>\n",
              "      <td>False</td>\n",
              "      <td>False</td>\n",
              "      <td>False</td>\n",
              "    </tr>\n",
              "    <tr>\n",
              "      <th>2996</th>\n",
              "      <td>50</td>\n",
              "      <td>False</td>\n",
              "      <td>False</td>\n",
              "      <td>False</td>\n",
              "      <td>True</td>\n",
              "      <td>False</td>\n",
              "      <td>False</td>\n",
              "      <td>False</td>\n",
              "      <td>False</td>\n",
              "      <td>False</td>\n",
              "      <td>...</td>\n",
              "      <td>False</td>\n",
              "      <td>True</td>\n",
              "      <td>False</td>\n",
              "      <td>False</td>\n",
              "      <td>False</td>\n",
              "      <td>False</td>\n",
              "      <td>False</td>\n",
              "      <td>False</td>\n",
              "      <td>False</td>\n",
              "      <td>False</td>\n",
              "    </tr>\n",
              "    <tr>\n",
              "      <th>2997</th>\n",
              "      <td>31</td>\n",
              "      <td>False</td>\n",
              "      <td>False</td>\n",
              "      <td>False</td>\n",
              "      <td>False</td>\n",
              "      <td>False</td>\n",
              "      <td>False</td>\n",
              "      <td>False</td>\n",
              "      <td>False</td>\n",
              "      <td>False</td>\n",
              "      <td>...</td>\n",
              "      <td>True</td>\n",
              "      <td>False</td>\n",
              "      <td>False</td>\n",
              "      <td>False</td>\n",
              "      <td>False</td>\n",
              "      <td>False</td>\n",
              "      <td>False</td>\n",
              "      <td>False</td>\n",
              "      <td>False</td>\n",
              "      <td>False</td>\n",
              "    </tr>\n",
              "    <tr>\n",
              "      <th>2998</th>\n",
              "      <td>31</td>\n",
              "      <td>False</td>\n",
              "      <td>False</td>\n",
              "      <td>False</td>\n",
              "      <td>False</td>\n",
              "      <td>False</td>\n",
              "      <td>False</td>\n",
              "      <td>False</td>\n",
              "      <td>False</td>\n",
              "      <td>False</td>\n",
              "      <td>...</td>\n",
              "      <td>False</td>\n",
              "      <td>False</td>\n",
              "      <td>False</td>\n",
              "      <td>False</td>\n",
              "      <td>True</td>\n",
              "      <td>False</td>\n",
              "      <td>False</td>\n",
              "      <td>False</td>\n",
              "      <td>False</td>\n",
              "      <td>False</td>\n",
              "    </tr>\n",
              "    <tr>\n",
              "      <th>2999</th>\n",
              "      <td>60</td>\n",
              "      <td>False</td>\n",
              "      <td>False</td>\n",
              "      <td>False</td>\n",
              "      <td>True</td>\n",
              "      <td>False</td>\n",
              "      <td>False</td>\n",
              "      <td>False</td>\n",
              "      <td>False</td>\n",
              "      <td>False</td>\n",
              "      <td>...</td>\n",
              "      <td>False</td>\n",
              "      <td>False</td>\n",
              "      <td>False</td>\n",
              "      <td>False</td>\n",
              "      <td>False</td>\n",
              "      <td>False</td>\n",
              "      <td>False</td>\n",
              "      <td>False</td>\n",
              "      <td>False</td>\n",
              "      <td>True</td>\n",
              "    </tr>\n",
              "  </tbody>\n",
              "</table>\n",
              "<p>3000 rows × 37 columns</p>\n",
              "</div>"
            ],
            "text/plain": [
              "      age  intro_chocolate  intro_friend  intro_conv  diet_False   \n",
              "0      31            False         False       False       False  \\\n",
              "1      25            False         False       False        True   \n",
              "2      43            False         False       False        True   \n",
              "3      31            False         False       False        True   \n",
              "4      34            False         False       False        True   \n",
              "...   ...              ...           ...         ...         ...   \n",
              "2995   24            False          True       False       False   \n",
              "2996   50            False         False       False        True   \n",
              "2997   31            False         False       False       False   \n",
              "2998   31            False         False       False       False   \n",
              "2999   60            False         False       False        True   \n",
              "\n",
              "      diet_anything  diet_mostly anything  diet_mostly halal   \n",
              "0             False                 False              False  \\\n",
              "1             False                 False              False   \n",
              "2             False                 False              False   \n",
              "3             False                 False              False   \n",
              "4             False                 False              False   \n",
              "...             ...                   ...                ...   \n",
              "2995          False                  True              False   \n",
              "2996          False                 False              False   \n",
              "2997          False                 False              False   \n",
              "2998          False                 False              False   \n",
              "2999          False                 False              False   \n",
              "\n",
              "      diet_mostly kosher  diet_mostly other  ...  exact religion_False   \n",
              "0                  False              False  ...                 False  \\\n",
              "1                  False              False  ...                  True   \n",
              "2                  False              False  ...                 False   \n",
              "3                  False              False  ...                 False   \n",
              "4                  False              False  ...                  True   \n",
              "...                  ...                ...  ...                   ...   \n",
              "2995               False              False  ...                 False   \n",
              "2996               False              False  ...                 False   \n",
              "2997               False              False  ...                  True   \n",
              "2998               False              False  ...                 False   \n",
              "2999               False              False  ...                 False   \n",
              "\n",
              "      exact religion_agnosticism  exact religion_atheism   \n",
              "0                          False                   False  \\\n",
              "1                          False                   False   \n",
              "2                          False                   False   \n",
              "3                          False                   False   \n",
              "4                          False                   False   \n",
              "...                          ...                     ...   \n",
              "2995                       False                   False   \n",
              "2996                        True                   False   \n",
              "2997                       False                   False   \n",
              "2998                       False                   False   \n",
              "2999                       False                   False   \n",
              "\n",
              "      exact religion_buddhism  exact religion_catholicism   \n",
              "0                        True                       False  \\\n",
              "1                       False                       False   \n",
              "2                       False                       False   \n",
              "3                       False                       False   \n",
              "4                       False                       False   \n",
              "...                       ...                         ...   \n",
              "2995                    False                        True   \n",
              "2996                    False                       False   \n",
              "2997                    False                       False   \n",
              "2998                    False                        True   \n",
              "2999                    False                       False   \n",
              "\n",
              "      exact religion_christianity  exact religion_hinduism   \n",
              "0                           False                    False  \\\n",
              "1                           False                    False   \n",
              "2                           False                    False   \n",
              "3                           False                    False   \n",
              "4                           False                    False   \n",
              "...                           ...                      ...   \n",
              "2995                        False                    False   \n",
              "2996                        False                    False   \n",
              "2997                        False                    False   \n",
              "2998                        False                    False   \n",
              "2999                        False                    False   \n",
              "\n",
              "      exact religion_islam  exact religion_judaism  exact religion_other  \n",
              "0                    False                   False                 False  \n",
              "1                    False                   False                 False  \n",
              "2                    False                   False                  True  \n",
              "3                    False                   False                  True  \n",
              "4                    False                   False                 False  \n",
              "...                    ...                     ...                   ...  \n",
              "2995                 False                   False                 False  \n",
              "2996                 False                   False                 False  \n",
              "2997                 False                   False                 False  \n",
              "2998                 False                   False                 False  \n",
              "2999                 False                   False                  True  \n",
              "\n",
              "[3000 rows x 37 columns]"
            ]
          },
          "execution_count": 236,
          "metadata": {},
          "output_type": "execute_result"
        }
      ],
      "source": [
        "df_cupid_rec = pd.get_dummies(df_cupid_rec, columns=[\"diet\", \"drinks\", \"exact religion\"])\n",
        "df_cupid_rec"
      ]
    },
    {
      "cell_type": "code",
      "execution_count": 237,
      "metadata": {},
      "outputs": [
        {
          "data": {
            "text/plain": [
              "array([[-0.14142531, -0.08789709, -0.63393151, ..., -0.0316386 ,\n",
              "        -0.22780125, -0.40458965],\n",
              "       [-0.78540596, -0.08789709, -0.63393151, ..., -0.0316386 ,\n",
              "        -0.22780125, -0.40458965],\n",
              "       [ 1.14653601, -0.08789709, -0.63393151, ..., -0.0316386 ,\n",
              "        -0.22780125,  2.47164009],\n",
              "       ...,\n",
              "       [-0.14142531, -0.08789709, -0.63393151, ..., -0.0316386 ,\n",
              "        -0.22780125, -0.40458965],\n",
              "       [-0.14142531, -0.08789709, -0.63393151, ..., -0.0316386 ,\n",
              "        -0.22780125, -0.40458965],\n",
              "       [ 2.97114787, -0.08789709, -0.63393151, ..., -0.0316386 ,\n",
              "        -0.22780125,  2.47164009]])"
            ]
          },
          "execution_count": 237,
          "metadata": {},
          "output_type": "execute_result"
        }
      ],
      "source": [
        "from sklearn.preprocessing import StandardScaler\n",
        "\n",
        "scaler = StandardScaler()\n",
        "scaler.fit(df_cupid_rec)\n",
        "df_cupid_ss = scaler.transform(df_cupid_rec)\n",
        "df_cupid_ss"
      ]
    },
    {
      "cell_type": "code",
      "execution_count": 241,
      "metadata": {},
      "outputs": [
        {
          "data": {
            "text/html": [
              "<div>\n",
              "<style scoped>\n",
              "    .dataframe tbody tr th:only-of-type {\n",
              "        vertical-align: middle;\n",
              "    }\n",
              "\n",
              "    .dataframe tbody tr th {\n",
              "        vertical-align: top;\n",
              "    }\n",
              "\n",
              "    .dataframe thead th {\n",
              "        text-align: right;\n",
              "    }\n",
              "</style>\n",
              "<table border=\"1\" class=\"dataframe\">\n",
              "  <thead>\n",
              "    <tr style=\"text-align: right;\">\n",
              "      <th></th>\n",
              "      <th>age</th>\n",
              "      <th>body_type</th>\n",
              "      <th>diet</th>\n",
              "      <th>drinks</th>\n",
              "      <th>drugs</th>\n",
              "      <th>education</th>\n",
              "      <th>essay0</th>\n",
              "      <th>essay1</th>\n",
              "      <th>essay2</th>\n",
              "      <th>essay3</th>\n",
              "      <th>...</th>\n",
              "      <th>working on college/university</th>\n",
              "      <th>working on med school</th>\n",
              "      <th>num_words</th>\n",
              "      <th>num_langs</th>\n",
              "      <th>religion_serious</th>\n",
              "      <th>exact religion</th>\n",
              "      <th>intro_chocolate</th>\n",
              "      <th>intro_friend</th>\n",
              "      <th>intro_conv</th>\n",
              "      <th>eu_distances</th>\n",
              "    </tr>\n",
              "  </thead>\n",
              "  <tbody>\n",
              "    <tr>\n",
              "      <th>2855</th>\n",
              "      <td>55</td>\n",
              "      <td>NaN</td>\n",
              "      <td>NaN</td>\n",
              "      <td>not at all</td>\n",
              "      <td>never</td>\n",
              "      <td>graduated from masters program</td>\n",
              "      <td>here goes........ it is extremely difficult to...</td>\n",
              "      <td>after a long, successful career i have changed...</td>\n",
              "      <td>most things i set my mind to do...sometimes th...</td>\n",
              "      <td>is my laughter, the laugh lines around my eyes...</td>\n",
              "      <td>...</td>\n",
              "      <td>False</td>\n",
              "      <td>False</td>\n",
              "      <td>1</td>\n",
              "      <td>1</td>\n",
              "      <td>not very serious</td>\n",
              "      <td>other</td>\n",
              "      <td>True</td>\n",
              "      <td>False</td>\n",
              "      <td>False</td>\n",
              "      <td>0.000000</td>\n",
              "    </tr>\n",
              "    <tr>\n",
              "      <th>495</th>\n",
              "      <td>48</td>\n",
              "      <td>thin</td>\n",
              "      <td>NaN</td>\n",
              "      <td>socially</td>\n",
              "      <td>never</td>\n",
              "      <td>graduated from masters program</td>\n",
              "      <td>i laugh a lot, perhaps too much, most when it'...</td>\n",
              "      <td>living it and enjoying it, every step of the w...</td>\n",
              "      <td>writing, duh! what else? um...seeing the posit...</td>\n",
              "      <td>the enormous hairy mole on my nose. and that i...</td>\n",
              "      <td>...</td>\n",
              "      <td>False</td>\n",
              "      <td>False</td>\n",
              "      <td>4</td>\n",
              "      <td>4</td>\n",
              "      <td>NaN</td>\n",
              "      <td>NaN</td>\n",
              "      <td>True</td>\n",
              "      <td>False</td>\n",
              "      <td>False</td>\n",
              "      <td>6.109771</td>\n",
              "    </tr>\n",
              "    <tr>\n",
              "      <th>905</th>\n",
              "      <td>42</td>\n",
              "      <td>athletic</td>\n",
              "      <td>NaN</td>\n",
              "      <td>socially</td>\n",
              "      <td>never</td>\n",
              "      <td>graduated from masters program</td>\n",
              "      <td>a transplant from belgium, land of the chocola...</td>\n",
              "      <td>NaN</td>\n",
              "      <td>NaN</td>\n",
              "      <td>a slight accent</td>\n",
              "      <td>...</td>\n",
              "      <td>False</td>\n",
              "      <td>False</td>\n",
              "      <td>3</td>\n",
              "      <td>3</td>\n",
              "      <td>NaN</td>\n",
              "      <td>NaN</td>\n",
              "      <td>True</td>\n",
              "      <td>False</td>\n",
              "      <td>False</td>\n",
              "      <td>6.221870</td>\n",
              "    </tr>\n",
              "    <tr>\n",
              "      <th>1888</th>\n",
              "      <td>37</td>\n",
              "      <td>average</td>\n",
              "      <td>NaN</td>\n",
              "      <td>socially</td>\n",
              "      <td>NaN</td>\n",
              "      <td>graduated from masters program</td>\n",
              "      <td>hmmi freely give compliments. i appreciate a g...</td>\n",
              "      <td>i'm a teacher by day and i usually love it. i'...</td>\n",
              "      <td>NaN</td>\n",
              "      <td>NaN</td>\n",
              "      <td>...</td>\n",
              "      <td>False</td>\n",
              "      <td>False</td>\n",
              "      <td>1</td>\n",
              "      <td>1</td>\n",
              "      <td>NaN</td>\n",
              "      <td>NaN</td>\n",
              "      <td>True</td>\n",
              "      <td>False</td>\n",
              "      <td>False</td>\n",
              "      <td>6.363744</td>\n",
              "    </tr>\n",
              "    <tr>\n",
              "      <th>2676</th>\n",
              "      <td>20</td>\n",
              "      <td>full figured</td>\n",
              "      <td>mostly anything</td>\n",
              "      <td>not at all</td>\n",
              "      <td>never</td>\n",
              "      <td>working on college/university</td>\n",
              "      <td>hey, my name is jazmin! i always have a hard t...</td>\n",
              "      <td>currently, trying to decide on picking a major...</td>\n",
              "      <td>making people smile, laughing.&lt;br /&gt;\\nlearning...</td>\n",
              "      <td>my smile and laugh. :)&lt;br /&gt;\\noh and apparentl...</td>\n",
              "      <td>...</td>\n",
              "      <td>True</td>\n",
              "      <td>False</td>\n",
              "      <td>3</td>\n",
              "      <td>3</td>\n",
              "      <td>not very serious</td>\n",
              "      <td>catholicism</td>\n",
              "      <td>True</td>\n",
              "      <td>False</td>\n",
              "      <td>False</td>\n",
              "      <td>6.705457</td>\n",
              "    </tr>\n",
              "    <tr>\n",
              "      <th>...</th>\n",
              "      <td>...</td>\n",
              "      <td>...</td>\n",
              "      <td>...</td>\n",
              "      <td>...</td>\n",
              "      <td>...</td>\n",
              "      <td>...</td>\n",
              "      <td>...</td>\n",
              "      <td>...</td>\n",
              "      <td>...</td>\n",
              "      <td>...</td>\n",
              "      <td>...</td>\n",
              "      <td>...</td>\n",
              "      <td>...</td>\n",
              "      <td>...</td>\n",
              "      <td>...</td>\n",
              "      <td>...</td>\n",
              "      <td>...</td>\n",
              "      <td>...</td>\n",
              "      <td>...</td>\n",
              "      <td>...</td>\n",
              "      <td>...</td>\n",
              "    </tr>\n",
              "    <tr>\n",
              "      <th>2757</th>\n",
              "      <td>28</td>\n",
              "      <td>average</td>\n",
              "      <td>NaN</td>\n",
              "      <td>NaN</td>\n",
              "      <td>never</td>\n",
              "      <td>NaN</td>\n",
              "      <td>hi,&lt;br /&gt;\\ni work in san jose and live in sout...</td>\n",
              "      <td>i am working full time at the moment but in sp...</td>\n",
              "      <td>sports like cricket and snooker, computer and ...</td>\n",
              "      <td>smile on my face</td>\n",
              "      <td>...</td>\n",
              "      <td>False</td>\n",
              "      <td>False</td>\n",
              "      <td>2</td>\n",
              "      <td>2</td>\n",
              "      <td>not very serious</td>\n",
              "      <td>islam</td>\n",
              "      <td>False</td>\n",
              "      <td>False</td>\n",
              "      <td>False</td>\n",
              "      <td>34.487464</td>\n",
              "    </tr>\n",
              "    <tr>\n",
              "      <th>2878</th>\n",
              "      <td>26</td>\n",
              "      <td>athletic</td>\n",
              "      <td>mostly anything</td>\n",
              "      <td>desperately</td>\n",
              "      <td>NaN</td>\n",
              "      <td>graduated from college/university</td>\n",
              "      <td>http://www.youtube.com/watch?v=imtdwizwedu</td>\n",
              "      <td>http://www.youtube.com/watch?nr=1&amp;amp;feature=...</td>\n",
              "      <td>http://www.youtube.com/watch?v=ovn9ywivexc</td>\n",
              "      <td>http://current.com/shows/the-war-room/videos/y...</td>\n",
              "      <td>...</td>\n",
              "      <td>False</td>\n",
              "      <td>False</td>\n",
              "      <td>2</td>\n",
              "      <td>2</td>\n",
              "      <td>not very serious</td>\n",
              "      <td>islam</td>\n",
              "      <td>False</td>\n",
              "      <td>False</td>\n",
              "      <td>False</td>\n",
              "      <td>37.560263</td>\n",
              "    </tr>\n",
              "    <tr>\n",
              "      <th>1089</th>\n",
              "      <td>21</td>\n",
              "      <td>athletic</td>\n",
              "      <td>strictly halal</td>\n",
              "      <td>often</td>\n",
              "      <td>sometimes</td>\n",
              "      <td>working on space camp</td>\n",
              "      <td>i'm a filmmaker and illustrator, i make lots o...</td>\n",
              "      <td>just finished directing and acting in a short ...</td>\n",
              "      <td>rappin n rhymin</td>\n",
              "      <td>my eyes as green as avada kadavra</td>\n",
              "      <td>...</td>\n",
              "      <td>False</td>\n",
              "      <td>False</td>\n",
              "      <td>2</td>\n",
              "      <td>2</td>\n",
              "      <td>not very serious</td>\n",
              "      <td>atheism</td>\n",
              "      <td>False</td>\n",
              "      <td>False</td>\n",
              "      <td>False</td>\n",
              "      <td>56.557832</td>\n",
              "    </tr>\n",
              "    <tr>\n",
              "      <th>2718</th>\n",
              "      <td>23</td>\n",
              "      <td>athletic</td>\n",
              "      <td>mostly kosher</td>\n",
              "      <td>socially</td>\n",
              "      <td>never</td>\n",
              "      <td>graduated from masters program</td>\n",
              "      <td>working hard, playing hard, living life. you k...</td>\n",
              "      <td>i'm a software engineer working in mobile adve...</td>\n",
              "      <td>- making myself (and hopefully others) laugh&lt;b...</td>\n",
              "      <td>i'm an aryan-looking jewish guy? when my hair ...</td>\n",
              "      <td>...</td>\n",
              "      <td>False</td>\n",
              "      <td>False</td>\n",
              "      <td>5</td>\n",
              "      <td>5</td>\n",
              "      <td>not very serious</td>\n",
              "      <td>judaism</td>\n",
              "      <td>False</td>\n",
              "      <td>False</td>\n",
              "      <td>False</td>\n",
              "      <td>56.585692</td>\n",
              "    </tr>\n",
              "    <tr>\n",
              "      <th>1021</th>\n",
              "      <td>36</td>\n",
              "      <td>fit</td>\n",
              "      <td>mostly halal</td>\n",
              "      <td>socially</td>\n",
              "      <td>never</td>\n",
              "      <td>graduated from high school</td>\n",
              "      <td>what can i say im algerian born , i have been ...</td>\n",
              "      <td>no much till now , but im trying to do a lot o...</td>\n",
              "      <td>im good at couple things i thing lol , cooking...</td>\n",
              "      <td>that im silly in the good way</td>\n",
              "      <td>...</td>\n",
              "      <td>False</td>\n",
              "      <td>False</td>\n",
              "      <td>3</td>\n",
              "      <td>3</td>\n",
              "      <td>not very serious</td>\n",
              "      <td>islam</td>\n",
              "      <td>False</td>\n",
              "      <td>True</td>\n",
              "      <td>False</td>\n",
              "      <td>64.644196</td>\n",
              "    </tr>\n",
              "  </tbody>\n",
              "</table>\n",
              "<p>3000 rows × 41 columns</p>\n",
              "</div>"
            ],
            "text/plain": [
              "      age     body_type             diet       drinks      drugs   \n",
              "2855   55           NaN              NaN   not at all      never  \\\n",
              "495    48          thin              NaN     socially      never   \n",
              "905    42      athletic              NaN     socially      never   \n",
              "1888   37       average              NaN     socially        NaN   \n",
              "2676   20  full figured  mostly anything   not at all      never   \n",
              "...   ...           ...              ...          ...        ...   \n",
              "2757   28       average              NaN          NaN      never   \n",
              "2878   26      athletic  mostly anything  desperately        NaN   \n",
              "1089   21      athletic   strictly halal        often  sometimes   \n",
              "2718   23      athletic    mostly kosher     socially      never   \n",
              "1021   36           fit     mostly halal     socially      never   \n",
              "\n",
              "                              education   \n",
              "2855     graduated from masters program  \\\n",
              "495      graduated from masters program   \n",
              "905      graduated from masters program   \n",
              "1888     graduated from masters program   \n",
              "2676      working on college/university   \n",
              "...                                 ...   \n",
              "2757                                NaN   \n",
              "2878  graduated from college/university   \n",
              "1089              working on space camp   \n",
              "2718     graduated from masters program   \n",
              "1021         graduated from high school   \n",
              "\n",
              "                                                 essay0   \n",
              "2855  here goes........ it is extremely difficult to...  \\\n",
              "495   i laugh a lot, perhaps too much, most when it'...   \n",
              "905   a transplant from belgium, land of the chocola...   \n",
              "1888  hmmi freely give compliments. i appreciate a g...   \n",
              "2676  hey, my name is jazmin! i always have a hard t...   \n",
              "...                                                 ...   \n",
              "2757  hi,<br />\\ni work in san jose and live in sout...   \n",
              "2878         http://www.youtube.com/watch?v=imtdwizwedu   \n",
              "1089  i'm a filmmaker and illustrator, i make lots o...   \n",
              "2718  working hard, playing hard, living life. you k...   \n",
              "1021  what can i say im algerian born , i have been ...   \n",
              "\n",
              "                                                 essay1   \n",
              "2855  after a long, successful career i have changed...  \\\n",
              "495   living it and enjoying it, every step of the w...   \n",
              "905                                                 NaN   \n",
              "1888  i'm a teacher by day and i usually love it. i'...   \n",
              "2676  currently, trying to decide on picking a major...   \n",
              "...                                                 ...   \n",
              "2757  i am working full time at the moment but in sp...   \n",
              "2878  http://www.youtube.com/watch?nr=1&amp;feature=...   \n",
              "1089  just finished directing and acting in a short ...   \n",
              "2718  i'm a software engineer working in mobile adve...   \n",
              "1021  no much till now , but im trying to do a lot o...   \n",
              "\n",
              "                                                 essay2   \n",
              "2855  most things i set my mind to do...sometimes th...  \\\n",
              "495   writing, duh! what else? um...seeing the posit...   \n",
              "905                                                 NaN   \n",
              "1888                                                NaN   \n",
              "2676  making people smile, laughing.<br />\\nlearning...   \n",
              "...                                                 ...   \n",
              "2757  sports like cricket and snooker, computer and ...   \n",
              "2878         http://www.youtube.com/watch?v=ovn9ywivexc   \n",
              "1089                                    rappin n rhymin   \n",
              "2718  - making myself (and hopefully others) laugh<b...   \n",
              "1021  im good at couple things i thing lol , cooking...   \n",
              "\n",
              "                                                 essay3  ...   \n",
              "2855  is my laughter, the laugh lines around my eyes...  ...  \\\n",
              "495   the enormous hairy mole on my nose. and that i...  ...   \n",
              "905                                     a slight accent  ...   \n",
              "1888                                                NaN  ...   \n",
              "2676  my smile and laugh. :)<br />\\noh and apparentl...  ...   \n",
              "...                                                 ...  ...   \n",
              "2757                                   smile on my face  ...   \n",
              "2878  http://current.com/shows/the-war-room/videos/y...  ...   \n",
              "1089                  my eyes as green as avada kadavra  ...   \n",
              "2718  i'm an aryan-looking jewish guy? when my hair ...  ...   \n",
              "1021                      that im silly in the good way  ...   \n",
              "\n",
              "     working on college/university working on med school num_words num_langs   \n",
              "2855                         False                 False         1         1  \\\n",
              "495                          False                 False         4         4   \n",
              "905                          False                 False         3         3   \n",
              "1888                         False                 False         1         1   \n",
              "2676                          True                 False         3         3   \n",
              "...                            ...                   ...       ...       ...   \n",
              "2757                         False                 False         2         2   \n",
              "2878                         False                 False         2         2   \n",
              "1089                         False                 False         2         2   \n",
              "2718                         False                 False         5         5   \n",
              "1021                         False                 False         3         3   \n",
              "\n",
              "      religion_serious exact religion intro_chocolate intro_friend   \n",
              "2855  not very serious          other            True        False  \\\n",
              "495                NaN            NaN            True        False   \n",
              "905                NaN            NaN            True        False   \n",
              "1888               NaN            NaN            True        False   \n",
              "2676  not very serious    catholicism            True        False   \n",
              "...                ...            ...             ...          ...   \n",
              "2757  not very serious          islam           False        False   \n",
              "2878  not very serious          islam           False        False   \n",
              "1089  not very serious        atheism           False        False   \n",
              "2718  not very serious        judaism           False        False   \n",
              "1021  not very serious          islam           False         True   \n",
              "\n",
              "      intro_conv eu_distances  \n",
              "2855       False     0.000000  \n",
              "495        False     6.109771  \n",
              "905        False     6.221870  \n",
              "1888       False     6.363744  \n",
              "2676       False     6.705457  \n",
              "...          ...          ...  \n",
              "2757       False    34.487464  \n",
              "2878       False    37.560263  \n",
              "1089       False    56.557832  \n",
              "2718       False    56.585692  \n",
              "1021       False    64.644196  \n",
              "\n",
              "[3000 rows x 41 columns]"
            ]
          },
          "execution_count": 241,
          "metadata": {},
          "output_type": "execute_result"
        }
      ],
      "source": [
        "from sklearn.metrics.pairwise import euclidean_distances\n",
        "\n",
        "eu_dist = euclidean_distances(df_cupid_ss, df_cupid_ss[2855, :].reshape(1, -1))\n",
        "eu_dist\n",
        "df_cupid[\"eu_distances\"] = eu_dist\n",
        "df_temp = df_cupid.sort_values(by = \"eu_distances\")\n",
        "df_temp"
      ]
    },
    {
      "cell_type": "code",
      "execution_count": 255,
      "metadata": {},
      "outputs": [
        {
          "data": {
            "text/plain": [
              "'straight'"
            ]
          },
          "execution_count": 255,
          "metadata": {},
          "output_type": "execute_result"
        }
      ],
      "source": [
        "df_cupid.loc[2855, \"orientation\"]"
      ]
    },
    {
      "cell_type": "code",
      "execution_count": 257,
      "metadata": {},
      "outputs": [
        {
          "data": {
            "text/html": [
              "<div>\n",
              "<style scoped>\n",
              "    .dataframe tbody tr th:only-of-type {\n",
              "        vertical-align: middle;\n",
              "    }\n",
              "\n",
              "    .dataframe tbody tr th {\n",
              "        vertical-align: top;\n",
              "    }\n",
              "\n",
              "    .dataframe thead th {\n",
              "        text-align: right;\n",
              "    }\n",
              "</style>\n",
              "<table border=\"1\" class=\"dataframe\">\n",
              "  <thead>\n",
              "    <tr style=\"text-align: right;\">\n",
              "      <th></th>\n",
              "      <th>age</th>\n",
              "      <th>body_type</th>\n",
              "      <th>diet</th>\n",
              "      <th>drinks</th>\n",
              "      <th>drugs</th>\n",
              "      <th>education</th>\n",
              "      <th>essay0</th>\n",
              "      <th>essay1</th>\n",
              "      <th>essay2</th>\n",
              "      <th>essay3</th>\n",
              "      <th>...</th>\n",
              "      <th>working on college/university</th>\n",
              "      <th>working on med school</th>\n",
              "      <th>num_words</th>\n",
              "      <th>num_langs</th>\n",
              "      <th>religion_serious</th>\n",
              "      <th>exact religion</th>\n",
              "      <th>intro_chocolate</th>\n",
              "      <th>intro_friend</th>\n",
              "      <th>intro_conv</th>\n",
              "      <th>eu_distances</th>\n",
              "    </tr>\n",
              "  </thead>\n",
              "  <tbody>\n",
              "    <tr>\n",
              "      <th>1568</th>\n",
              "      <td>28</td>\n",
              "      <td>fit</td>\n",
              "      <td>NaN</td>\n",
              "      <td>rarely</td>\n",
              "      <td>never</td>\n",
              "      <td>graduated from college/university</td>\n",
              "      <td>i'm interested in meeting you if you look like...</td>\n",
              "      <td>NaN</td>\n",
              "      <td>NaN</td>\n",
              "      <td>NaN</td>\n",
              "      <td>...</td>\n",
              "      <td>False</td>\n",
              "      <td>False</td>\n",
              "      <td>3</td>\n",
              "      <td>3</td>\n",
              "      <td>not very serious</td>\n",
              "      <td>agnosticism</td>\n",
              "      <td>True</td>\n",
              "      <td>True</td>\n",
              "      <td>False</td>\n",
              "      <td>7.757665</td>\n",
              "    </tr>\n",
              "    <tr>\n",
              "      <th>1528</th>\n",
              "      <td>34</td>\n",
              "      <td>fit</td>\n",
              "      <td>mostly anything</td>\n",
              "      <td>rarely</td>\n",
              "      <td>never</td>\n",
              "      <td>graduated from college/university</td>\n",
              "      <td>*** update ***&lt;br /&gt;\\ni recently moved to oakl...</td>\n",
              "      <td>i'm an it/project manager. i love my job, espe...</td>\n",
              "      <td>reading people's emotions.&lt;br /&gt;\\nhaving a per...</td>\n",
              "      <td>my blue-gray eyes.</td>\n",
              "      <td>...</td>\n",
              "      <td>False</td>\n",
              "      <td>False</td>\n",
              "      <td>1</td>\n",
              "      <td>1</td>\n",
              "      <td>not very serious</td>\n",
              "      <td>agnosticism</td>\n",
              "      <td>True</td>\n",
              "      <td>False</td>\n",
              "      <td>False</td>\n",
              "      <td>7.824217</td>\n",
              "    </tr>\n",
              "    <tr>\n",
              "      <th>216</th>\n",
              "      <td>27</td>\n",
              "      <td>fit</td>\n",
              "      <td>strictly anything</td>\n",
              "      <td>socially</td>\n",
              "      <td>never</td>\n",
              "      <td>graduated from space camp</td>\n",
              "      <td>i am adventurous. i like to plan trips and pla...</td>\n",
              "      <td>after college, i decided to write a screenplay...</td>\n",
              "      <td>acting as the glue in my friendships. i am als...</td>\n",
              "      <td>...probably the sinewy, chiseled intellect on ...</td>\n",
              "      <td>...</td>\n",
              "      <td>False</td>\n",
              "      <td>False</td>\n",
              "      <td>3</td>\n",
              "      <td>3</td>\n",
              "      <td>NaN</td>\n",
              "      <td>NaN</td>\n",
              "      <td>True</td>\n",
              "      <td>False</td>\n",
              "      <td>False</td>\n",
              "      <td>7.857009</td>\n",
              "    </tr>\n",
              "    <tr>\n",
              "      <th>2818</th>\n",
              "      <td>41</td>\n",
              "      <td>fit</td>\n",
              "      <td>mostly anything</td>\n",
              "      <td>socially</td>\n",
              "      <td>never</td>\n",
              "      <td>graduated from college/university</td>\n",
              "      <td>to me, life as one giant adventure. i travel r...</td>\n",
              "      <td>i'm an author and a speaker. it's an unconvent...</td>\n",
              "      <td>listening, speaking and writing.</td>\n",
              "      <td>my eyes.</td>\n",
              "      <td>...</td>\n",
              "      <td>False</td>\n",
              "      <td>False</td>\n",
              "      <td>3</td>\n",
              "      <td>3</td>\n",
              "      <td>not very serious</td>\n",
              "      <td>catholicism</td>\n",
              "      <td>True</td>\n",
              "      <td>True</td>\n",
              "      <td>False</td>\n",
              "      <td>7.873195</td>\n",
              "    </tr>\n",
              "    <tr>\n",
              "      <th>2441</th>\n",
              "      <td>51</td>\n",
              "      <td>fit</td>\n",
              "      <td>NaN</td>\n",
              "      <td>not at all</td>\n",
              "      <td>never</td>\n",
              "      <td>graduated from high school</td>\n",
              "      <td>ilove to laugh and make you laugh ..treat peop...</td>\n",
              "      <td>working and grateful, doing the deal that make...</td>\n",
              "      <td>kissing,makin you laugh,all i set my mind on.</td>\n",
              "      <td>eyes....blue eyes..</td>\n",
              "      <td>...</td>\n",
              "      <td>False</td>\n",
              "      <td>False</td>\n",
              "      <td>2</td>\n",
              "      <td>2</td>\n",
              "      <td>not very serious</td>\n",
              "      <td>other</td>\n",
              "      <td>False</td>\n",
              "      <td>False</td>\n",
              "      <td>False</td>\n",
              "      <td>11.472873</td>\n",
              "    </tr>\n",
              "  </tbody>\n",
              "</table>\n",
              "<p>5 rows × 41 columns</p>\n",
              "</div>"
            ],
            "text/plain": [
              "      age body_type               diet      drinks  drugs   \n",
              "1568   28       fit                NaN      rarely  never  \\\n",
              "1528   34       fit    mostly anything      rarely  never   \n",
              "216    27       fit  strictly anything    socially  never   \n",
              "2818   41       fit    mostly anything    socially  never   \n",
              "2441   51       fit                NaN  not at all  never   \n",
              "\n",
              "                              education   \n",
              "1568  graduated from college/university  \\\n",
              "1528  graduated from college/university   \n",
              "216           graduated from space camp   \n",
              "2818  graduated from college/university   \n",
              "2441         graduated from high school   \n",
              "\n",
              "                                                 essay0   \n",
              "1568  i'm interested in meeting you if you look like...  \\\n",
              "1528  *** update ***<br />\\ni recently moved to oakl...   \n",
              "216   i am adventurous. i like to plan trips and pla...   \n",
              "2818  to me, life as one giant adventure. i travel r...   \n",
              "2441  ilove to laugh and make you laugh ..treat peop...   \n",
              "\n",
              "                                                 essay1   \n",
              "1568                                                NaN  \\\n",
              "1528  i'm an it/project manager. i love my job, espe...   \n",
              "216   after college, i decided to write a screenplay...   \n",
              "2818  i'm an author and a speaker. it's an unconvent...   \n",
              "2441  working and grateful, doing the deal that make...   \n",
              "\n",
              "                                                 essay2   \n",
              "1568                                                NaN  \\\n",
              "1528  reading people's emotions.<br />\\nhaving a per...   \n",
              "216   acting as the glue in my friendships. i am als...   \n",
              "2818                   listening, speaking and writing.   \n",
              "2441      kissing,makin you laugh,all i set my mind on.   \n",
              "\n",
              "                                                 essay3  ...   \n",
              "1568                                                NaN  ...  \\\n",
              "1528                                 my blue-gray eyes.  ...   \n",
              "216   ...probably the sinewy, chiseled intellect on ...  ...   \n",
              "2818                                           my eyes.  ...   \n",
              "2441                                eyes....blue eyes..  ...   \n",
              "\n",
              "     working on college/university working on med school num_words num_langs   \n",
              "1568                         False                 False         3         3  \\\n",
              "1528                         False                 False         1         1   \n",
              "216                          False                 False         3         3   \n",
              "2818                         False                 False         3         3   \n",
              "2441                         False                 False         2         2   \n",
              "\n",
              "      religion_serious exact religion intro_chocolate intro_friend   \n",
              "1568  not very serious    agnosticism            True         True  \\\n",
              "1528  not very serious    agnosticism            True        False   \n",
              "216                NaN            NaN            True        False   \n",
              "2818  not very serious    catholicism            True         True   \n",
              "2441  not very serious          other           False        False   \n",
              "\n",
              "      intro_conv eu_distances  \n",
              "1568       False     7.757665  \n",
              "1528       False     7.824217  \n",
              "216        False     7.857009  \n",
              "2818       False     7.873195  \n",
              "2441       False    11.472873  \n",
              "\n",
              "[5 rows x 41 columns]"
            ]
          },
          "execution_count": 257,
          "metadata": {},
          "output_type": "execute_result"
        }
      ],
      "source": [
        "df_temp[(df_temp[\"sex\"] == 'm') & (df_temp[\"orientation\"] == \"straight\")].head(5)"
      ]
    },
    {
      "cell_type": "markdown",
      "metadata": {
        "id": "3hzmYR8y8Mi9"
      },
      "source": [
        "## Some practice problems about Flight Data\n",
        "\n",
        "The following questions concern two related data sets of flight delays from the Bureau of Transportation Statistics:\n",
        "\n",
        "- Main Data Set: https://dlsun.github.io/pods/data/flights_jun_2018.csv, which contains information about all flights on June 1-9, 2018. (This is a very large data set!)\n",
        "- Original Data Set: https://dlsun.github.io/pods/data/flight_delays_2018.csv, which contains aggregate information for 2018 by month. Most of the columns are [explained here](https://github.com/buswedg/Udacity/blob/master/Data%20Analyst%20Nanodegree/P6%20Make%20Effective%20Data%20Visualization/data.Rmd).\n"
      ]
    },
    {
      "cell_type": "markdown",
      "metadata": {
        "id": "xXcMX4AKTxnb"
      },
      "source": [
        "## Question 1 (3 points)\n",
        "\n",
        "Remember: The first thing you should do when analyzing a data set is to determine the observational unit. Read in both data sets above. What is the observational unit of each data set?"
      ]
    },
    {
      "cell_type": "code",
      "execution_count": 398,
      "metadata": {
        "id": "HSzqbxt6c1eM"
      },
      "outputs": [
        {
          "data": {
            "text/html": [
              "<div>\n",
              "<style scoped>\n",
              "    .dataframe tbody tr th:only-of-type {\n",
              "        vertical-align: middle;\n",
              "    }\n",
              "\n",
              "    .dataframe tbody tr th {\n",
              "        vertical-align: top;\n",
              "    }\n",
              "\n",
              "    .dataframe thead th {\n",
              "        text-align: right;\n",
              "    }\n",
              "</style>\n",
              "<table border=\"1\" class=\"dataframe\">\n",
              "  <thead>\n",
              "    <tr style=\"text-align: right;\">\n",
              "      <th></th>\n",
              "      <th>YEAR</th>\n",
              "      <th>MONTH</th>\n",
              "      <th>DAY_OF_MONTH</th>\n",
              "      <th>DAY_OF_WEEK</th>\n",
              "      <th>FL_DATE</th>\n",
              "      <th>OP_UNIQUE_CARRIER</th>\n",
              "      <th>OP_CARRIER_AIRLINE_ID</th>\n",
              "      <th>OP_CARRIER</th>\n",
              "      <th>TAIL_NUM</th>\n",
              "      <th>OP_CARRIER_FL_NUM</th>\n",
              "      <th>...</th>\n",
              "      <th>DISTANCE</th>\n",
              "      <th>DISTANCE_GROUP</th>\n",
              "      <th>CARRIER_DELAY</th>\n",
              "      <th>WEATHER_DELAY</th>\n",
              "      <th>NAS_DELAY</th>\n",
              "      <th>SECURITY_DELAY</th>\n",
              "      <th>LATE_AIRCRAFT_DELAY</th>\n",
              "      <th>FIRST_DEP_TIME</th>\n",
              "      <th>TOTAL_ADD_GTIME</th>\n",
              "      <th>LONGEST_ADD_GTIME</th>\n",
              "    </tr>\n",
              "  </thead>\n",
              "  <tbody>\n",
              "    <tr>\n",
              "      <th>0</th>\n",
              "      <td>2018</td>\n",
              "      <td>6</td>\n",
              "      <td>9</td>\n",
              "      <td>6</td>\n",
              "      <td>2018-06-09</td>\n",
              "      <td>F9</td>\n",
              "      <td>20436</td>\n",
              "      <td>F9</td>\n",
              "      <td>N709FR</td>\n",
              "      <td>1672</td>\n",
              "      <td>...</td>\n",
              "      <td>861.0</td>\n",
              "      <td>4</td>\n",
              "      <td>84.0</td>\n",
              "      <td>0.0</td>\n",
              "      <td>3.0</td>\n",
              "      <td>0.0</td>\n",
              "      <td>0.0</td>\n",
              "      <td>NaN</td>\n",
              "      <td>NaN</td>\n",
              "      <td>NaN</td>\n",
              "    </tr>\n",
              "    <tr>\n",
              "      <th>1</th>\n",
              "      <td>2018</td>\n",
              "      <td>6</td>\n",
              "      <td>9</td>\n",
              "      <td>6</td>\n",
              "      <td>2018-06-09</td>\n",
              "      <td>F9</td>\n",
              "      <td>20436</td>\n",
              "      <td>F9</td>\n",
              "      <td>N710FR</td>\n",
              "      <td>782</td>\n",
              "      <td>...</td>\n",
              "      <td>628.0</td>\n",
              "      <td>3</td>\n",
              "      <td>NaN</td>\n",
              "      <td>NaN</td>\n",
              "      <td>NaN</td>\n",
              "      <td>NaN</td>\n",
              "      <td>NaN</td>\n",
              "      <td>NaN</td>\n",
              "      <td>NaN</td>\n",
              "      <td>NaN</td>\n",
              "    </tr>\n",
              "    <tr>\n",
              "      <th>2</th>\n",
              "      <td>2018</td>\n",
              "      <td>6</td>\n",
              "      <td>9</td>\n",
              "      <td>6</td>\n",
              "      <td>2018-06-09</td>\n",
              "      <td>F9</td>\n",
              "      <td>20436</td>\n",
              "      <td>F9</td>\n",
              "      <td>N710FR</td>\n",
              "      <td>555</td>\n",
              "      <td>...</td>\n",
              "      <td>853.0</td>\n",
              "      <td>4</td>\n",
              "      <td>NaN</td>\n",
              "      <td>NaN</td>\n",
              "      <td>NaN</td>\n",
              "      <td>NaN</td>\n",
              "      <td>NaN</td>\n",
              "      <td>NaN</td>\n",
              "      <td>NaN</td>\n",
              "      <td>NaN</td>\n",
              "    </tr>\n",
              "    <tr>\n",
              "      <th>3</th>\n",
              "      <td>2018</td>\n",
              "      <td>6</td>\n",
              "      <td>9</td>\n",
              "      <td>6</td>\n",
              "      <td>2018-06-09</td>\n",
              "      <td>F9</td>\n",
              "      <td>20436</td>\n",
              "      <td>F9</td>\n",
              "      <td>N710FR</td>\n",
              "      <td>560</td>\n",
              "      <td>...</td>\n",
              "      <td>853.0</td>\n",
              "      <td>4</td>\n",
              "      <td>NaN</td>\n",
              "      <td>NaN</td>\n",
              "      <td>NaN</td>\n",
              "      <td>NaN</td>\n",
              "      <td>NaN</td>\n",
              "      <td>NaN</td>\n",
              "      <td>NaN</td>\n",
              "      <td>NaN</td>\n",
              "    </tr>\n",
              "    <tr>\n",
              "      <th>4</th>\n",
              "      <td>2018</td>\n",
              "      <td>6</td>\n",
              "      <td>9</td>\n",
              "      <td>6</td>\n",
              "      <td>2018-06-09</td>\n",
              "      <td>F9</td>\n",
              "      <td>20436</td>\n",
              "      <td>F9</td>\n",
              "      <td>N710FR</td>\n",
              "      <td>802</td>\n",
              "      <td>...</td>\n",
              "      <td>872.0</td>\n",
              "      <td>4</td>\n",
              "      <td>NaN</td>\n",
              "      <td>NaN</td>\n",
              "      <td>NaN</td>\n",
              "      <td>NaN</td>\n",
              "      <td>NaN</td>\n",
              "      <td>NaN</td>\n",
              "      <td>NaN</td>\n",
              "      <td>NaN</td>\n",
              "    </tr>\n",
              "  </tbody>\n",
              "</table>\n",
              "<p>5 rows × 63 columns</p>\n",
              "</div>"
            ],
            "text/plain": [
              "   YEAR  MONTH  DAY_OF_MONTH  DAY_OF_WEEK     FL_DATE OP_UNIQUE_CARRIER   \n",
              "0  2018      6             9            6  2018-06-09                F9  \\\n",
              "1  2018      6             9            6  2018-06-09                F9   \n",
              "2  2018      6             9            6  2018-06-09                F9   \n",
              "3  2018      6             9            6  2018-06-09                F9   \n",
              "4  2018      6             9            6  2018-06-09                F9   \n",
              "\n",
              "   OP_CARRIER_AIRLINE_ID OP_CARRIER TAIL_NUM  OP_CARRIER_FL_NUM  ...   \n",
              "0                  20436         F9   N709FR               1672  ...  \\\n",
              "1                  20436         F9   N710FR                782  ...   \n",
              "2                  20436         F9   N710FR                555  ...   \n",
              "3                  20436         F9   N710FR                560  ...   \n",
              "4                  20436         F9   N710FR                802  ...   \n",
              "\n",
              "   DISTANCE  DISTANCE_GROUP  CARRIER_DELAY WEATHER_DELAY NAS_DELAY   \n",
              "0     861.0               4           84.0           0.0       3.0  \\\n",
              "1     628.0               3            NaN           NaN       NaN   \n",
              "2     853.0               4            NaN           NaN       NaN   \n",
              "3     853.0               4            NaN           NaN       NaN   \n",
              "4     872.0               4            NaN           NaN       NaN   \n",
              "\n",
              "  SECURITY_DELAY  LATE_AIRCRAFT_DELAY FIRST_DEP_TIME  TOTAL_ADD_GTIME   \n",
              "0            0.0                  0.0            NaN              NaN  \\\n",
              "1            NaN                  NaN            NaN              NaN   \n",
              "2            NaN                  NaN            NaN              NaN   \n",
              "3            NaN                  NaN            NaN              NaN   \n",
              "4            NaN                  NaN            NaN              NaN   \n",
              "\n",
              "   LONGEST_ADD_GTIME  \n",
              "0                NaN  \n",
              "1                NaN  \n",
              "2                NaN  \n",
              "3                NaN  \n",
              "4                NaN  \n",
              "\n",
              "[5 rows x 63 columns]"
            ]
          },
          "execution_count": 398,
          "metadata": {},
          "output_type": "execute_result"
        }
      ],
      "source": [
        "# Enter your code here. Feel free to add as many code cells as necessary.\n",
        "\n",
        "df_flights = pd.read_csv(\"https://dlsun.github.io/pods/data/flights_jun_2018.csv\")\n",
        "df_flights.head(5)"
      ]
    },
    {
      "cell_type": "code",
      "execution_count": 399,
      "metadata": {},
      "outputs": [
        {
          "data": {
            "text/html": [
              "<div>\n",
              "<style scoped>\n",
              "    .dataframe tbody tr th:only-of-type {\n",
              "        vertical-align: middle;\n",
              "    }\n",
              "\n",
              "    .dataframe tbody tr th {\n",
              "        vertical-align: top;\n",
              "    }\n",
              "\n",
              "    .dataframe thead th {\n",
              "        text-align: right;\n",
              "    }\n",
              "</style>\n",
              "<table border=\"1\" class=\"dataframe\">\n",
              "  <thead>\n",
              "    <tr style=\"text-align: right;\">\n",
              "      <th></th>\n",
              "      <th>year</th>\n",
              "      <th>month</th>\n",
              "      <th>carrier</th>\n",
              "      <th>carrier_name</th>\n",
              "      <th>airport</th>\n",
              "      <th>airport_name</th>\n",
              "      <th>arr_flights</th>\n",
              "      <th>arr_del15</th>\n",
              "      <th>carrier_ct</th>\n",
              "      <th>weather_ct</th>\n",
              "      <th>...</th>\n",
              "      <th>security_ct</th>\n",
              "      <th>late_aircraft_ct</th>\n",
              "      <th>arr_cancelled</th>\n",
              "      <th>arr_diverted</th>\n",
              "      <th>arr_delay</th>\n",
              "      <th>carrier_delay</th>\n",
              "      <th>weather_delay</th>\n",
              "      <th>nas_delay</th>\n",
              "      <th>security_delay</th>\n",
              "      <th>late_aircraft_delay</th>\n",
              "    </tr>\n",
              "  </thead>\n",
              "  <tbody>\n",
              "    <tr>\n",
              "      <th>0</th>\n",
              "      <td>2018</td>\n",
              "      <td>1</td>\n",
              "      <td>MQ</td>\n",
              "      <td>Envoy Air</td>\n",
              "      <td>BIS</td>\n",
              "      <td>Bismarck/Mandan, ND: Bismarck Municipal</td>\n",
              "      <td>5.0</td>\n",
              "      <td>3.0</td>\n",
              "      <td>1.00</td>\n",
              "      <td>0.06</td>\n",
              "      <td>...</td>\n",
              "      <td>0.0</td>\n",
              "      <td>0.00</td>\n",
              "      <td>0.0</td>\n",
              "      <td>0.0</td>\n",
              "      <td>104.0</td>\n",
              "      <td>54.0</td>\n",
              "      <td>1.0</td>\n",
              "      <td>49.0</td>\n",
              "      <td>0.0</td>\n",
              "      <td>0.0</td>\n",
              "    </tr>\n",
              "    <tr>\n",
              "      <th>1</th>\n",
              "      <td>2018</td>\n",
              "      <td>1</td>\n",
              "      <td>MQ</td>\n",
              "      <td>Envoy Air</td>\n",
              "      <td>BNA</td>\n",
              "      <td>Nashville, TN: Nashville International</td>\n",
              "      <td>110.0</td>\n",
              "      <td>21.0</td>\n",
              "      <td>7.17</td>\n",
              "      <td>1.16</td>\n",
              "      <td>...</td>\n",
              "      <td>0.0</td>\n",
              "      <td>5.92</td>\n",
              "      <td>3.0</td>\n",
              "      <td>0.0</td>\n",
              "      <td>897.0</td>\n",
              "      <td>344.0</td>\n",
              "      <td>37.0</td>\n",
              "      <td>226.0</td>\n",
              "      <td>0.0</td>\n",
              "      <td>290.0</td>\n",
              "    </tr>\n",
              "    <tr>\n",
              "      <th>2</th>\n",
              "      <td>2018</td>\n",
              "      <td>1</td>\n",
              "      <td>MQ</td>\n",
              "      <td>Envoy Air</td>\n",
              "      <td>BOI</td>\n",
              "      <td>Boise, ID: Boise Air Terminal</td>\n",
              "      <td>32.0</td>\n",
              "      <td>8.0</td>\n",
              "      <td>0.22</td>\n",
              "      <td>0.35</td>\n",
              "      <td>...</td>\n",
              "      <td>0.0</td>\n",
              "      <td>1.82</td>\n",
              "      <td>0.0</td>\n",
              "      <td>0.0</td>\n",
              "      <td>353.0</td>\n",
              "      <td>9.0</td>\n",
              "      <td>18.0</td>\n",
              "      <td>233.0</td>\n",
              "      <td>0.0</td>\n",
              "      <td>93.0</td>\n",
              "    </tr>\n",
              "    <tr>\n",
              "      <th>3</th>\n",
              "      <td>2018</td>\n",
              "      <td>1</td>\n",
              "      <td>MQ</td>\n",
              "      <td>Envoy Air</td>\n",
              "      <td>BPT</td>\n",
              "      <td>Beaumont/Port Arthur, TX: Jack Brooks Regional</td>\n",
              "      <td>63.0</td>\n",
              "      <td>11.0</td>\n",
              "      <td>1.75</td>\n",
              "      <td>1.08</td>\n",
              "      <td>...</td>\n",
              "      <td>0.0</td>\n",
              "      <td>5.19</td>\n",
              "      <td>3.0</td>\n",
              "      <td>0.0</td>\n",
              "      <td>657.0</td>\n",
              "      <td>83.0</td>\n",
              "      <td>34.0</td>\n",
              "      <td>130.0</td>\n",
              "      <td>0.0</td>\n",
              "      <td>410.0</td>\n",
              "    </tr>\n",
              "    <tr>\n",
              "      <th>4</th>\n",
              "      <td>2018</td>\n",
              "      <td>1</td>\n",
              "      <td>MQ</td>\n",
              "      <td>Envoy Air</td>\n",
              "      <td>BUF</td>\n",
              "      <td>Buffalo, NY: Buffalo Niagara International</td>\n",
              "      <td>31.0</td>\n",
              "      <td>12.0</td>\n",
              "      <td>0.82</td>\n",
              "      <td>3.00</td>\n",
              "      <td>...</td>\n",
              "      <td>0.0</td>\n",
              "      <td>1.55</td>\n",
              "      <td>0.0</td>\n",
              "      <td>0.0</td>\n",
              "      <td>484.0</td>\n",
              "      <td>27.0</td>\n",
              "      <td>136.0</td>\n",
              "      <td>207.0</td>\n",
              "      <td>0.0</td>\n",
              "      <td>114.0</td>\n",
              "    </tr>\n",
              "  </tbody>\n",
              "</table>\n",
              "<p>5 rows × 21 columns</p>\n",
              "</div>"
            ],
            "text/plain": [
              "   year   month carrier carrier_name airport   \n",
              "0  2018       1      MQ    Envoy Air     BIS  \\\n",
              "1  2018       1      MQ    Envoy Air     BNA   \n",
              "2  2018       1      MQ    Envoy Air     BOI   \n",
              "3  2018       1      MQ    Envoy Air     BPT   \n",
              "4  2018       1      MQ    Envoy Air     BUF   \n",
              "\n",
              "                                     airport_name  arr_flights  arr_del15   \n",
              "0         Bismarck/Mandan, ND: Bismarck Municipal          5.0        3.0  \\\n",
              "1          Nashville, TN: Nashville International        110.0       21.0   \n",
              "2                   Boise, ID: Boise Air Terminal         32.0        8.0   \n",
              "3  Beaumont/Port Arthur, TX: Jack Brooks Regional         63.0       11.0   \n",
              "4      Buffalo, NY: Buffalo Niagara International         31.0       12.0   \n",
              "\n",
              "   carrier_ct   weather_ct  ...  security_ct  late_aircraft_ct  arr_cancelled   \n",
              "0        1.00         0.06  ...          0.0              0.00            0.0  \\\n",
              "1        7.17         1.16  ...          0.0              5.92            3.0   \n",
              "2        0.22         0.35  ...          0.0              1.82            0.0   \n",
              "3        1.75         1.08  ...          0.0              5.19            3.0   \n",
              "4        0.82         3.00  ...          0.0              1.55            0.0   \n",
              "\n",
              "   arr_diverted   arr_delay   carrier_delay  weather_delay  nas_delay   \n",
              "0           0.0       104.0            54.0            1.0       49.0  \\\n",
              "1           0.0       897.0           344.0           37.0      226.0   \n",
              "2           0.0       353.0             9.0           18.0      233.0   \n",
              "3           0.0       657.0            83.0           34.0      130.0   \n",
              "4           0.0       484.0            27.0          136.0      207.0   \n",
              "\n",
              "   security_delay  late_aircraft_delay  \n",
              "0             0.0                  0.0  \n",
              "1             0.0                290.0  \n",
              "2             0.0                 93.0  \n",
              "3             0.0                410.0  \n",
              "4             0.0                114.0  \n",
              "\n",
              "[5 rows x 21 columns]"
            ]
          },
          "execution_count": 399,
          "metadata": {},
          "output_type": "execute_result"
        }
      ],
      "source": [
        "df_original = pd.read_csv(\"https://dlsun.github.io/pods/data/flight_delays_2018.csv\")\n",
        "df_original.head(5)"
      ]
    },
    {
      "cell_type": "markdown",
      "metadata": {
        "id": "t8gzinIuc1tL"
      },
      "source": [
        "**TYPE YOUR EXPLANATION HERE.**"
      ]
    },
    {
      "cell_type": "markdown",
      "metadata": {
        "id": "5i3BWQ5STxnd"
      },
      "source": [
        "## Question 2 (3 points)\n",
        "\n",
        "Calculate the total number of flights - as measured by number of arrivals - in the year 2018 for each carrier. Make a graphic displaying this information."
      ]
    },
    {
      "cell_type": "code",
      "execution_count": 400,
      "metadata": {
        "id": "2O_E21TTc9tt"
      },
      "outputs": [
        {
          "data": {
            "text/plain": [
              "<Axes: title={'center': 'Test'}, xlabel='carrier'>"
            ]
          },
          "execution_count": 400,
          "metadata": {},
          "output_type": "execute_result"
        },
        {
          "data": {
            "image/png": "[encoded data removed]",
            "text/plain": [
              "<Figure size 640x480 with 1 Axes>"
            ]
          },
          "metadata": {},
          "output_type": "display_data"
        }
      ],
      "source": [
        "# Enter your code here. Feel free to add as many code cells as necessary.\n",
        "# calcualate the total number of flights - as measured by number of arrivals - in the year 2018 for each carrier\n",
        "\n",
        "df_original.groupby(\"carrier\")[\"arr_flights\"].sum().sort_values(ascending=False).plot.bar(title=\"Test\")"
      ]
    },
    {
      "cell_type": "markdown",
      "metadata": {
        "id": "fiomAG23c98R"
      },
      "source": [
        "**TYPE YOUR EXPLANATION HERE.**"
      ]
    },
    {
      "cell_type": "markdown",
      "metadata": {
        "id": "jCa33iclTxne"
      },
      "source": [
        "## Question 3 (3 points)\n",
        "\n",
        "In the June 1-9 flights data, the column **ARR_DEL15** is a column of 0s and 1s, where a 1 indicates that the delay was _at least 15 minutes_. Show how to construct this column from the **ARR_DELAY** column. Verify that the column you constructed matches **ARR_DEL15** exactly.\n",
        "\n",
        "(_Hint:_ Be careful when comparing missing values.)"
      ]
    },
    {
      "cell_type": "code",
      "execution_count": 401,
      "metadata": {},
      "outputs": [
        {
          "data": {
            "text/plain": [
              "Index(['YEAR', 'MONTH', 'DAY_OF_MONTH', 'DAY_OF_WEEK', 'FL_DATE',\n",
              "       'OP_UNIQUE_CARRIER', 'OP_CARRIER_AIRLINE_ID', 'OP_CARRIER', 'TAIL_NUM',\n",
              "       'OP_CARRIER_FL_NUM', 'ORIGIN_AIRPORT_ID', 'ORIGIN_AIRPORT_SEQ_ID',\n",
              "       'ORIGIN_CITY_MARKET_ID', 'ORIGIN', 'ORIGIN_CITY_NAME',\n",
              "       'ORIGIN_STATE_ABR', 'ORIGIN_STATE_FIPS', 'ORIGIN_STATE_NM',\n",
              "       'ORIGIN_WAC', 'DEST_AIRPORT_ID', 'DEST_AIRPORT_SEQ_ID',\n",
              "       'DEST_CITY_MARKET_ID', 'DEST', 'DEST_CITY_NAME', 'DEST_STATE_ABR',\n",
              "       'DEST_STATE_FIPS', 'DEST_STATE_NM', 'DEST_WAC', 'CRS_DEP_TIME',\n",
              "       'DEP_TIME', 'DEP_DELAY', 'DEP_DELAY_NEW', 'DEP_DEL15',\n",
              "       'DEP_DELAY_GROUP', 'DEP_TIME_BLK', 'TAXI_OUT', 'WHEELS_OFF',\n",
              "       'WHEELS_ON', 'TAXI_IN', 'CRS_ARR_TIME', 'ARR_TIME', 'ARR_DELAY',\n",
              "       'ARR_DELAY_NEW', 'ARR_DEL15', 'ARR_DELAY_GROUP', 'ARR_TIME_BLK',\n",
              "       'CANCELLED', 'CANCELLATION_CODE', 'DIVERTED', 'CRS_ELAPSED_TIME',\n",
              "       'ACTUAL_ELAPSED_TIME', 'AIR_TIME', 'FLIGHTS', 'DISTANCE',\n",
              "       'DISTANCE_GROUP', 'CARRIER_DELAY', 'WEATHER_DELAY', 'NAS_DELAY',\n",
              "       'SECURITY_DELAY', 'LATE_AIRCRAFT_DELAY', 'FIRST_DEP_TIME',\n",
              "       'TOTAL_ADD_GTIME', 'LONGEST_ADD_GTIME'],\n",
              "      dtype='object')"
            ]
          },
          "execution_count": 401,
          "metadata": {},
          "output_type": "execute_result"
        }
      ],
      "source": [
        "df_flights.columns"
      ]
    },
    {
      "cell_type": "code",
      "execution_count": 402,
      "metadata": {},
      "outputs": [
        {
          "data": {
            "text/plain": [
              "Index(['year', ' month', 'carrier', 'carrier_name', 'airport', 'airport_name',\n",
              "       'arr_flights', 'arr_del15', 'carrier_ct', ' weather_ct', 'nas_ct',\n",
              "       'security_ct', 'late_aircraft_ct', 'arr_cancelled', 'arr_diverted',\n",
              "       ' arr_delay', ' carrier_delay', 'weather_delay', 'nas_delay',\n",
              "       'security_delay', 'late_aircraft_delay'],\n",
              "      dtype='object')"
            ]
          },
          "execution_count": 402,
          "metadata": {},
          "output_type": "execute_result"
        }
      ],
      "source": [
        "df_original.columns"
      ]
    },
    {
      "cell_type": "code",
      "execution_count": 403,
      "metadata": {
        "id": "FjDgGHfCc-9f"
      },
      "outputs": [
        {
          "data": {
            "text/html": [
              "<div>\n",
              "<style scoped>\n",
              "    .dataframe tbody tr th:only-of-type {\n",
              "        vertical-align: middle;\n",
              "    }\n",
              "\n",
              "    .dataframe tbody tr th {\n",
              "        vertical-align: top;\n",
              "    }\n",
              "\n",
              "    .dataframe thead th {\n",
              "        text-align: right;\n",
              "    }\n",
              "</style>\n",
              "<table border=\"1\" class=\"dataframe\">\n",
              "  <thead>\n",
              "    <tr style=\"text-align: right;\">\n",
              "      <th></th>\n",
              "      <th>YEAR</th>\n",
              "      <th>MONTH</th>\n",
              "      <th>DAY_OF_MONTH</th>\n",
              "      <th>DAY_OF_WEEK</th>\n",
              "      <th>FL_DATE</th>\n",
              "      <th>OP_UNIQUE_CARRIER</th>\n",
              "      <th>OP_CARRIER_AIRLINE_ID</th>\n",
              "      <th>OP_CARRIER</th>\n",
              "      <th>TAIL_NUM</th>\n",
              "      <th>OP_CARRIER_FL_NUM</th>\n",
              "      <th>...</th>\n",
              "      <th>DISTANCE_GROUP</th>\n",
              "      <th>CARRIER_DELAY</th>\n",
              "      <th>WEATHER_DELAY</th>\n",
              "      <th>NAS_DELAY</th>\n",
              "      <th>SECURITY_DELAY</th>\n",
              "      <th>LATE_AIRCRAFT_DELAY</th>\n",
              "      <th>FIRST_DEP_TIME</th>\n",
              "      <th>TOTAL_ADD_GTIME</th>\n",
              "      <th>LONGEST_ADD_GTIME</th>\n",
              "      <th>ARR_DELAY15</th>\n",
              "    </tr>\n",
              "  </thead>\n",
              "  <tbody>\n",
              "    <tr>\n",
              "      <th>0</th>\n",
              "      <td>2018</td>\n",
              "      <td>6</td>\n",
              "      <td>9</td>\n",
              "      <td>6</td>\n",
              "      <td>2018-06-09</td>\n",
              "      <td>F9</td>\n",
              "      <td>20436</td>\n",
              "      <td>F9</td>\n",
              "      <td>N709FR</td>\n",
              "      <td>1672</td>\n",
              "      <td>...</td>\n",
              "      <td>4</td>\n",
              "      <td>84.0</td>\n",
              "      <td>0.0</td>\n",
              "      <td>3.0</td>\n",
              "      <td>0.0</td>\n",
              "      <td>0.0</td>\n",
              "      <td>NaN</td>\n",
              "      <td>NaN</td>\n",
              "      <td>NaN</td>\n",
              "      <td>1.0</td>\n",
              "    </tr>\n",
              "    <tr>\n",
              "      <th>1</th>\n",
              "      <td>2018</td>\n",
              "      <td>6</td>\n",
              "      <td>9</td>\n",
              "      <td>6</td>\n",
              "      <td>2018-06-09</td>\n",
              "      <td>F9</td>\n",
              "      <td>20436</td>\n",
              "      <td>F9</td>\n",
              "      <td>N710FR</td>\n",
              "      <td>782</td>\n",
              "      <td>...</td>\n",
              "      <td>3</td>\n",
              "      <td>NaN</td>\n",
              "      <td>NaN</td>\n",
              "      <td>NaN</td>\n",
              "      <td>NaN</td>\n",
              "      <td>NaN</td>\n",
              "      <td>NaN</td>\n",
              "      <td>NaN</td>\n",
              "      <td>NaN</td>\n",
              "      <td>0.0</td>\n",
              "    </tr>\n",
              "    <tr>\n",
              "      <th>2</th>\n",
              "      <td>2018</td>\n",
              "      <td>6</td>\n",
              "      <td>9</td>\n",
              "      <td>6</td>\n",
              "      <td>2018-06-09</td>\n",
              "      <td>F9</td>\n",
              "      <td>20436</td>\n",
              "      <td>F9</td>\n",
              "      <td>N710FR</td>\n",
              "      <td>555</td>\n",
              "      <td>...</td>\n",
              "      <td>4</td>\n",
              "      <td>NaN</td>\n",
              "      <td>NaN</td>\n",
              "      <td>NaN</td>\n",
              "      <td>NaN</td>\n",
              "      <td>NaN</td>\n",
              "      <td>NaN</td>\n",
              "      <td>NaN</td>\n",
              "      <td>NaN</td>\n",
              "      <td>0.0</td>\n",
              "    </tr>\n",
              "    <tr>\n",
              "      <th>3</th>\n",
              "      <td>2018</td>\n",
              "      <td>6</td>\n",
              "      <td>9</td>\n",
              "      <td>6</td>\n",
              "      <td>2018-06-09</td>\n",
              "      <td>F9</td>\n",
              "      <td>20436</td>\n",
              "      <td>F9</td>\n",
              "      <td>N710FR</td>\n",
              "      <td>560</td>\n",
              "      <td>...</td>\n",
              "      <td>4</td>\n",
              "      <td>NaN</td>\n",
              "      <td>NaN</td>\n",
              "      <td>NaN</td>\n",
              "      <td>NaN</td>\n",
              "      <td>NaN</td>\n",
              "      <td>NaN</td>\n",
              "      <td>NaN</td>\n",
              "      <td>NaN</td>\n",
              "      <td>0.0</td>\n",
              "    </tr>\n",
              "    <tr>\n",
              "      <th>4</th>\n",
              "      <td>2018</td>\n",
              "      <td>6</td>\n",
              "      <td>9</td>\n",
              "      <td>6</td>\n",
              "      <td>2018-06-09</td>\n",
              "      <td>F9</td>\n",
              "      <td>20436</td>\n",
              "      <td>F9</td>\n",
              "      <td>N710FR</td>\n",
              "      <td>802</td>\n",
              "      <td>...</td>\n",
              "      <td>4</td>\n",
              "      <td>NaN</td>\n",
              "      <td>NaN</td>\n",
              "      <td>NaN</td>\n",
              "      <td>NaN</td>\n",
              "      <td>NaN</td>\n",
              "      <td>NaN</td>\n",
              "      <td>NaN</td>\n",
              "      <td>NaN</td>\n",
              "      <td>0.0</td>\n",
              "    </tr>\n",
              "    <tr>\n",
              "      <th>...</th>\n",
              "      <td>...</td>\n",
              "      <td>...</td>\n",
              "      <td>...</td>\n",
              "      <td>...</td>\n",
              "      <td>...</td>\n",
              "      <td>...</td>\n",
              "      <td>...</td>\n",
              "      <td>...</td>\n",
              "      <td>...</td>\n",
              "      <td>...</td>\n",
              "      <td>...</td>\n",
              "      <td>...</td>\n",
              "      <td>...</td>\n",
              "      <td>...</td>\n",
              "      <td>...</td>\n",
              "      <td>...</td>\n",
              "      <td>...</td>\n",
              "      <td>...</td>\n",
              "      <td>...</td>\n",
              "      <td>...</td>\n",
              "      <td>...</td>\n",
              "    </tr>\n",
              "    <tr>\n",
              "      <th>181733</th>\n",
              "      <td>2018</td>\n",
              "      <td>6</td>\n",
              "      <td>5</td>\n",
              "      <td>2</td>\n",
              "      <td>2018-06-05</td>\n",
              "      <td>B6</td>\n",
              "      <td>20409</td>\n",
              "      <td>B6</td>\n",
              "      <td>N206JB</td>\n",
              "      <td>2954</td>\n",
              "      <td>...</td>\n",
              "      <td>5</td>\n",
              "      <td>NaN</td>\n",
              "      <td>NaN</td>\n",
              "      <td>NaN</td>\n",
              "      <td>NaN</td>\n",
              "      <td>NaN</td>\n",
              "      <td>NaN</td>\n",
              "      <td>NaN</td>\n",
              "      <td>NaN</td>\n",
              "      <td>0.0</td>\n",
              "    </tr>\n",
              "    <tr>\n",
              "      <th>181734</th>\n",
              "      <td>2018</td>\n",
              "      <td>6</td>\n",
              "      <td>6</td>\n",
              "      <td>3</td>\n",
              "      <td>2018-06-06</td>\n",
              "      <td>B6</td>\n",
              "      <td>20409</td>\n",
              "      <td>B6</td>\n",
              "      <td>N298JB</td>\n",
              "      <td>2954</td>\n",
              "      <td>...</td>\n",
              "      <td>5</td>\n",
              "      <td>NaN</td>\n",
              "      <td>NaN</td>\n",
              "      <td>NaN</td>\n",
              "      <td>NaN</td>\n",
              "      <td>NaN</td>\n",
              "      <td>NaN</td>\n",
              "      <td>NaN</td>\n",
              "      <td>NaN</td>\n",
              "      <td>0.0</td>\n",
              "    </tr>\n",
              "    <tr>\n",
              "      <th>181735</th>\n",
              "      <td>2018</td>\n",
              "      <td>6</td>\n",
              "      <td>7</td>\n",
              "      <td>4</td>\n",
              "      <td>2018-06-07</td>\n",
              "      <td>B6</td>\n",
              "      <td>20409</td>\n",
              "      <td>B6</td>\n",
              "      <td>N284JB</td>\n",
              "      <td>2954</td>\n",
              "      <td>...</td>\n",
              "      <td>5</td>\n",
              "      <td>7.0</td>\n",
              "      <td>0.0</td>\n",
              "      <td>0.0</td>\n",
              "      <td>0.0</td>\n",
              "      <td>17.0</td>\n",
              "      <td>NaN</td>\n",
              "      <td>NaN</td>\n",
              "      <td>NaN</td>\n",
              "      <td>1.0</td>\n",
              "    </tr>\n",
              "    <tr>\n",
              "      <th>181736</th>\n",
              "      <td>2018</td>\n",
              "      <td>6</td>\n",
              "      <td>8</td>\n",
              "      <td>5</td>\n",
              "      <td>2018-06-08</td>\n",
              "      <td>B6</td>\n",
              "      <td>20409</td>\n",
              "      <td>B6</td>\n",
              "      <td>N339JB</td>\n",
              "      <td>2954</td>\n",
              "      <td>...</td>\n",
              "      <td>5</td>\n",
              "      <td>NaN</td>\n",
              "      <td>NaN</td>\n",
              "      <td>NaN</td>\n",
              "      <td>NaN</td>\n",
              "      <td>NaN</td>\n",
              "      <td>NaN</td>\n",
              "      <td>NaN</td>\n",
              "      <td>NaN</td>\n",
              "      <td>0.0</td>\n",
              "    </tr>\n",
              "    <tr>\n",
              "      <th>181737</th>\n",
              "      <td>2018</td>\n",
              "      <td>6</td>\n",
              "      <td>9</td>\n",
              "      <td>6</td>\n",
              "      <td>2018-06-09</td>\n",
              "      <td>B6</td>\n",
              "      <td>20409</td>\n",
              "      <td>B6</td>\n",
              "      <td>N281JB</td>\n",
              "      <td>2954</td>\n",
              "      <td>...</td>\n",
              "      <td>5</td>\n",
              "      <td>NaN</td>\n",
              "      <td>NaN</td>\n",
              "      <td>NaN</td>\n",
              "      <td>NaN</td>\n",
              "      <td>NaN</td>\n",
              "      <td>NaN</td>\n",
              "      <td>NaN</td>\n",
              "      <td>NaN</td>\n",
              "      <td>0.0</td>\n",
              "    </tr>\n",
              "  </tbody>\n",
              "</table>\n",
              "<p>181738 rows × 64 columns</p>\n",
              "</div>"
            ],
            "text/plain": [
              "        YEAR  MONTH  DAY_OF_MONTH  DAY_OF_WEEK     FL_DATE OP_UNIQUE_CARRIER   \n",
              "0       2018      6             9            6  2018-06-09                F9  \\\n",
              "1       2018      6             9            6  2018-06-09                F9   \n",
              "2       2018      6             9            6  2018-06-09                F9   \n",
              "3       2018      6             9            6  2018-06-09                F9   \n",
              "4       2018      6             9            6  2018-06-09                F9   \n",
              "...      ...    ...           ...          ...         ...               ...   \n",
              "181733  2018      6             5            2  2018-06-05                B6   \n",
              "181734  2018      6             6            3  2018-06-06                B6   \n",
              "181735  2018      6             7            4  2018-06-07                B6   \n",
              "181736  2018      6             8            5  2018-06-08                B6   \n",
              "181737  2018      6             9            6  2018-06-09                B6   \n",
              "\n",
              "        OP_CARRIER_AIRLINE_ID OP_CARRIER TAIL_NUM  OP_CARRIER_FL_NUM  ...   \n",
              "0                       20436         F9   N709FR               1672  ...  \\\n",
              "1                       20436         F9   N710FR                782  ...   \n",
              "2                       20436         F9   N710FR                555  ...   \n",
              "3                       20436         F9   N710FR                560  ...   \n",
              "4                       20436         F9   N710FR                802  ...   \n",
              "...                       ...        ...      ...                ...  ...   \n",
              "181733                  20409         B6   N206JB               2954  ...   \n",
              "181734                  20409         B6   N298JB               2954  ...   \n",
              "181735                  20409         B6   N284JB               2954  ...   \n",
              "181736                  20409         B6   N339JB               2954  ...   \n",
              "181737                  20409         B6   N281JB               2954  ...   \n",
              "\n",
              "        DISTANCE_GROUP  CARRIER_DELAY  WEATHER_DELAY NAS_DELAY SECURITY_DELAY   \n",
              "0                    4           84.0            0.0       3.0            0.0  \\\n",
              "1                    3            NaN            NaN       NaN            NaN   \n",
              "2                    4            NaN            NaN       NaN            NaN   \n",
              "3                    4            NaN            NaN       NaN            NaN   \n",
              "4                    4            NaN            NaN       NaN            NaN   \n",
              "...                ...            ...            ...       ...            ...   \n",
              "181733               5            NaN            NaN       NaN            NaN   \n",
              "181734               5            NaN            NaN       NaN            NaN   \n",
              "181735               5            7.0            0.0       0.0            0.0   \n",
              "181736               5            NaN            NaN       NaN            NaN   \n",
              "181737               5            NaN            NaN       NaN            NaN   \n",
              "\n",
              "       LATE_AIRCRAFT_DELAY  FIRST_DEP_TIME TOTAL_ADD_GTIME  LONGEST_ADD_GTIME   \n",
              "0                      0.0             NaN             NaN                NaN  \\\n",
              "1                      NaN             NaN             NaN                NaN   \n",
              "2                      NaN             NaN             NaN                NaN   \n",
              "3                      NaN             NaN             NaN                NaN   \n",
              "4                      NaN             NaN             NaN                NaN   \n",
              "...                    ...             ...             ...                ...   \n",
              "181733                 NaN             NaN             NaN                NaN   \n",
              "181734                 NaN             NaN             NaN                NaN   \n",
              "181735                17.0             NaN             NaN                NaN   \n",
              "181736                 NaN             NaN             NaN                NaN   \n",
              "181737                 NaN             NaN             NaN                NaN   \n",
              "\n",
              "        ARR_DELAY15  \n",
              "0               1.0  \n",
              "1               0.0  \n",
              "2               0.0  \n",
              "3               0.0  \n",
              "4               0.0  \n",
              "...             ...  \n",
              "181733          0.0  \n",
              "181734          0.0  \n",
              "181735          1.0  \n",
              "181736          0.0  \n",
              "181737          0.0  \n",
              "\n",
              "[181738 rows x 64 columns]"
            ]
          },
          "execution_count": 403,
          "metadata": {},
          "output_type": "execute_result"
        }
      ],
      "source": [
        "# Enter your code here. Feel free to add as many code cells as necessary.\n",
        "\n",
        "def greater_15(x):\n",
        "    if x > 15:\n",
        "        return 1.0\n",
        "    else:\n",
        "        return 0.0\n",
        "\n",
        "df_flights[\"ARR_DELAY15\"] = df_flights[\"ARR_DELAY\"].map(greater_15)\n",
        "df_flights"
      ]
    },
    {
      "cell_type": "code",
      "execution_count": 404,
      "metadata": {},
      "outputs": [
        {
          "data": {
            "text/html": [
              "<div>\n",
              "<style scoped>\n",
              "    .dataframe tbody tr th:only-of-type {\n",
              "        vertical-align: middle;\n",
              "    }\n",
              "\n",
              "    .dataframe tbody tr th {\n",
              "        vertical-align: top;\n",
              "    }\n",
              "\n",
              "    .dataframe thead th {\n",
              "        text-align: right;\n",
              "    }\n",
              "</style>\n",
              "<table border=\"1\" class=\"dataframe\">\n",
              "  <thead>\n",
              "    <tr style=\"text-align: right;\">\n",
              "      <th></th>\n",
              "      <th>ARR_DELAY15</th>\n",
              "      <th>ARR_DEL15</th>\n",
              "    </tr>\n",
              "  </thead>\n",
              "  <tbody>\n",
              "    <tr>\n",
              "      <th>0</th>\n",
              "      <td>1.0</td>\n",
              "      <td>1.0</td>\n",
              "    </tr>\n",
              "    <tr>\n",
              "      <th>1</th>\n",
              "      <td>0.0</td>\n",
              "      <td>0.0</td>\n",
              "    </tr>\n",
              "    <tr>\n",
              "      <th>2</th>\n",
              "      <td>0.0</td>\n",
              "      <td>0.0</td>\n",
              "    </tr>\n",
              "    <tr>\n",
              "      <th>3</th>\n",
              "      <td>0.0</td>\n",
              "      <td>0.0</td>\n",
              "    </tr>\n",
              "    <tr>\n",
              "      <th>4</th>\n",
              "      <td>0.0</td>\n",
              "      <td>0.0</td>\n",
              "    </tr>\n",
              "    <tr>\n",
              "      <th>...</th>\n",
              "      <td>...</td>\n",
              "      <td>...</td>\n",
              "    </tr>\n",
              "    <tr>\n",
              "      <th>181733</th>\n",
              "      <td>0.0</td>\n",
              "      <td>0.0</td>\n",
              "    </tr>\n",
              "    <tr>\n",
              "      <th>181734</th>\n",
              "      <td>0.0</td>\n",
              "      <td>0.0</td>\n",
              "    </tr>\n",
              "    <tr>\n",
              "      <th>181735</th>\n",
              "      <td>1.0</td>\n",
              "      <td>1.0</td>\n",
              "    </tr>\n",
              "    <tr>\n",
              "      <th>181736</th>\n",
              "      <td>0.0</td>\n",
              "      <td>0.0</td>\n",
              "    </tr>\n",
              "    <tr>\n",
              "      <th>181737</th>\n",
              "      <td>0.0</td>\n",
              "      <td>0.0</td>\n",
              "    </tr>\n",
              "  </tbody>\n",
              "</table>\n",
              "<p>181738 rows × 2 columns</p>\n",
              "</div>"
            ],
            "text/plain": [
              "        ARR_DELAY15  ARR_DEL15\n",
              "0               1.0        1.0\n",
              "1               0.0        0.0\n",
              "2               0.0        0.0\n",
              "3               0.0        0.0\n",
              "4               0.0        0.0\n",
              "...             ...        ...\n",
              "181733          0.0        0.0\n",
              "181734          0.0        0.0\n",
              "181735          1.0        1.0\n",
              "181736          0.0        0.0\n",
              "181737          0.0        0.0\n",
              "\n",
              "[181738 rows x 2 columns]"
            ]
          },
          "execution_count": 404,
          "metadata": {},
          "output_type": "execute_result"
        }
      ],
      "source": [
        "df_flights[['ARR_DELAY15', 'ARR_DEL15']]"
      ]
    },
    {
      "cell_type": "markdown",
      "metadata": {
        "id": "OXCmXuF9c_LN"
      },
      "source": [
        "**TYPE YOUR EXPLANATION HERE.**"
      ]
    },
    {
      "cell_type": "markdown",
      "metadata": {
        "id": "9QE4CqvbTxnf"
      },
      "source": [
        "## Question 4 (3 points)\n",
        "\n",
        "The longest flight in the United States - in terms of distance - is between which two cities?"
      ]
    },
    {
      "cell_type": "code",
      "execution_count": 405,
      "metadata": {
        "id": "MQOPORMJdFDp"
      },
      "outputs": [
        {
          "data": {
            "text/html": [
              "<div>\n",
              "<style scoped>\n",
              "    .dataframe tbody tr th:only-of-type {\n",
              "        vertical-align: middle;\n",
              "    }\n",
              "\n",
              "    .dataframe tbody tr th {\n",
              "        vertical-align: top;\n",
              "    }\n",
              "\n",
              "    .dataframe thead th {\n",
              "        text-align: right;\n",
              "    }\n",
              "</style>\n",
              "<table border=\"1\" class=\"dataframe\">\n",
              "  <thead>\n",
              "    <tr style=\"text-align: right;\">\n",
              "      <th></th>\n",
              "      <th>ORIGIN_CITY_NAME</th>\n",
              "      <th>DEST_CITY_NAME</th>\n",
              "    </tr>\n",
              "  </thead>\n",
              "  <tbody>\n",
              "    <tr>\n",
              "      <th>8206</th>\n",
              "      <td>Honolulu, HI</td>\n",
              "      <td>New York, NY</td>\n",
              "    </tr>\n",
              "  </tbody>\n",
              "</table>\n",
              "</div>"
            ],
            "text/plain": [
              "     ORIGIN_CITY_NAME DEST_CITY_NAME\n",
              "8206     Honolulu, HI   New York, NY"
            ]
          },
          "execution_count": 405,
          "metadata": {},
          "output_type": "execute_result"
        }
      ],
      "source": [
        "# Enter your code here. Feel free to add as many code cells as necessary.\n",
        "df_flights[df_flights[\"DISTANCE\"] == df_flights[\"DISTANCE\"].max()][[\"ORIGIN_CITY_NAME\", \"DEST_CITY_NAME\"]].head(1)"
      ]
    },
    {
      "cell_type": "markdown",
      "metadata": {
        "id": "ujmaqihPdFXp"
      },
      "source": [
        "**TYPE YOUR EXPLANATION HERE.**"
      ]
    },
    {
      "cell_type": "markdown",
      "metadata": {
        "id": "LvS8urhYTxng"
      },
      "source": [
        "## Question 5 (4 points)\n",
        "\n",
        "What is the probability that a flight that arrived in San Luis Obispo, CA (on June 1-9, 2018) came from Denver, CO? Answer this question by first calculating the appropriate conditional distributions (for all cities, not just these two)."
      ]
    },
    {
      "cell_type": "code",
      "execution_count": 406,
      "metadata": {
        "id": "N1tFbXo0dGxz"
      },
      "outputs": [
        {
          "data": {
            "text/html": [
              "<div>\n",
              "<style scoped>\n",
              "    .dataframe tbody tr th:only-of-type {\n",
              "        vertical-align: middle;\n",
              "    }\n",
              "\n",
              "    .dataframe tbody tr th {\n",
              "        vertical-align: top;\n",
              "    }\n",
              "\n",
              "    .dataframe thead th {\n",
              "        text-align: right;\n",
              "    }\n",
              "</style>\n",
              "<table border=\"1\" class=\"dataframe\">\n",
              "  <thead>\n",
              "    <tr style=\"text-align: right;\">\n",
              "      <th>DEST_CITY_NAME</th>\n",
              "      <th>Aberdeen, SD</th>\n",
              "      <th>Abilene, TX</th>\n",
              "      <th>Adak Island, AK</th>\n",
              "      <th>Aguadilla, PR</th>\n",
              "      <th>Akron, OH</th>\n",
              "      <th>Albany, GA</th>\n",
              "      <th>Albany, NY</th>\n",
              "      <th>Albuquerque, NM</th>\n",
              "      <th>Alexandria, LA</th>\n",
              "      <th>Allentown/Bethlehem/Easton, PA</th>\n",
              "      <th>...</th>\n",
              "      <th>West Yellowstone, MT</th>\n",
              "      <th>White Plains, NY</th>\n",
              "      <th>Wichita Falls, TX</th>\n",
              "      <th>Wichita, KS</th>\n",
              "      <th>Williston, ND</th>\n",
              "      <th>Wilmington, NC</th>\n",
              "      <th>Worcester, MA</th>\n",
              "      <th>Wrangell, AK</th>\n",
              "      <th>Yakutat, AK</th>\n",
              "      <th>Yuma, AZ</th>\n",
              "    </tr>\n",
              "    <tr>\n",
              "      <th>ORIGIN_CITY_NAME</th>\n",
              "      <th></th>\n",
              "      <th></th>\n",
              "      <th></th>\n",
              "      <th></th>\n",
              "      <th></th>\n",
              "      <th></th>\n",
              "      <th></th>\n",
              "      <th></th>\n",
              "      <th></th>\n",
              "      <th></th>\n",
              "      <th></th>\n",
              "      <th></th>\n",
              "      <th></th>\n",
              "      <th></th>\n",
              "      <th></th>\n",
              "      <th></th>\n",
              "      <th></th>\n",
              "      <th></th>\n",
              "      <th></th>\n",
              "      <th></th>\n",
              "      <th></th>\n",
              "    </tr>\n",
              "  </thead>\n",
              "  <tbody>\n",
              "    <tr>\n",
              "      <th>Aberdeen, SD</th>\n",
              "      <td>0.0</td>\n",
              "      <td>0.0</td>\n",
              "      <td>0.0</td>\n",
              "      <td>0.0</td>\n",
              "      <td>0.0</td>\n",
              "      <td>0.0</td>\n",
              "      <td>0.0</td>\n",
              "      <td>0.0</td>\n",
              "      <td>0.0</td>\n",
              "      <td>0.0</td>\n",
              "      <td>...</td>\n",
              "      <td>0.0</td>\n",
              "      <td>0.0</td>\n",
              "      <td>0.0</td>\n",
              "      <td>0.0</td>\n",
              "      <td>0.0</td>\n",
              "      <td>0.0</td>\n",
              "      <td>0.0</td>\n",
              "      <td>0.0</td>\n",
              "      <td>0.0</td>\n",
              "      <td>0.0</td>\n",
              "    </tr>\n",
              "    <tr>\n",
              "      <th>Abilene, TX</th>\n",
              "      <td>0.0</td>\n",
              "      <td>0.0</td>\n",
              "      <td>0.0</td>\n",
              "      <td>0.0</td>\n",
              "      <td>0.0</td>\n",
              "      <td>0.0</td>\n",
              "      <td>0.0</td>\n",
              "      <td>0.0</td>\n",
              "      <td>0.0</td>\n",
              "      <td>0.0</td>\n",
              "      <td>...</td>\n",
              "      <td>0.0</td>\n",
              "      <td>0.0</td>\n",
              "      <td>0.0</td>\n",
              "      <td>0.0</td>\n",
              "      <td>0.0</td>\n",
              "      <td>0.0</td>\n",
              "      <td>0.0</td>\n",
              "      <td>0.0</td>\n",
              "      <td>0.0</td>\n",
              "      <td>0.0</td>\n",
              "    </tr>\n",
              "  </tbody>\n",
              "</table>\n",
              "<p>2 rows × 339 columns</p>\n",
              "</div>"
            ],
            "text/plain": [
              "DEST_CITY_NAME    Aberdeen, SD  Abilene, TX  Adak Island, AK  Aguadilla, PR   \n",
              "ORIGIN_CITY_NAME                                                              \n",
              "Aberdeen, SD               0.0          0.0              0.0            0.0  \\\n",
              "Abilene, TX                0.0          0.0              0.0            0.0   \n",
              "\n",
              "DEST_CITY_NAME    Akron, OH  Albany, GA  Albany, NY  Albuquerque, NM   \n",
              "ORIGIN_CITY_NAME                                                       \n",
              "Aberdeen, SD            0.0         0.0         0.0              0.0  \\\n",
              "Abilene, TX             0.0         0.0         0.0              0.0   \n",
              "\n",
              "DEST_CITY_NAME    Alexandria, LA  Allentown/Bethlehem/Easton, PA  ...   \n",
              "ORIGIN_CITY_NAME                                                  ...   \n",
              "Aberdeen, SD                 0.0                             0.0  ...  \\\n",
              "Abilene, TX                  0.0                             0.0  ...   \n",
              "\n",
              "DEST_CITY_NAME    West Yellowstone, MT  White Plains, NY  Wichita Falls, TX   \n",
              "ORIGIN_CITY_NAME                                                              \n",
              "Aberdeen, SD                       0.0               0.0                0.0  \\\n",
              "Abilene, TX                        0.0               0.0                0.0   \n",
              "\n",
              "DEST_CITY_NAME    Wichita, KS  Williston, ND  Wilmington, NC  Worcester, MA   \n",
              "ORIGIN_CITY_NAME                                                              \n",
              "Aberdeen, SD              0.0            0.0             0.0            0.0  \\\n",
              "Abilene, TX               0.0            0.0             0.0            0.0   \n",
              "\n",
              "DEST_CITY_NAME    Wrangell, AK  Yakutat, AK  Yuma, AZ  \n",
              "ORIGIN_CITY_NAME                                       \n",
              "Aberdeen, SD               0.0          0.0       0.0  \n",
              "Abilene, TX                0.0          0.0       0.0  \n",
              "\n",
              "[2 rows x 339 columns]"
            ]
          },
          "execution_count": 406,
          "metadata": {},
          "output_type": "execute_result"
        }
      ],
      "source": [
        "# Enter your code here. Feel free to add as many code cells as necessary.\n",
        "join_flights = pd.crosstab(df_flights[\"ORIGIN_CITY_NAME\"], df_flights[\"DEST_CITY_NAME\"], normalize=True)\n",
        "join_flights.head(2)\n"
      ]
    },
    {
      "cell_type": "code",
      "execution_count": 407,
      "metadata": {},
      "outputs": [
        {
          "data": {
            "text/plain": [
              "DEST_CITY_NAME\n",
              "Aberdeen, SD       0.000099\n",
              "Abilene, TX        0.000275\n",
              "Adak Island, AK    0.000017\n",
              "Aguadilla, PR      0.000297\n",
              "Akron, OH          0.000990\n",
              "                     ...   \n",
              "Wilmington, NC     0.000996\n",
              "Worcester, MA      0.000149\n",
              "Wrangell, AK       0.000099\n",
              "Yakutat, AK        0.000099\n",
              "Yuma, AZ           0.000187\n",
              "Length: 339, dtype: float64"
            ]
          },
          "execution_count": 407,
          "metadata": {},
          "output_type": "execute_result"
        }
      ],
      "source": [
        "marginal_flights = join_flights.sum(axis=0)\n",
        "marginal_flights"
      ]
    },
    {
      "cell_type": "code",
      "execution_count": 408,
      "metadata": {},
      "outputs": [
        {
          "data": {
            "text/html": [
              "<div>\n",
              "<style scoped>\n",
              "    .dataframe tbody tr th:only-of-type {\n",
              "        vertical-align: middle;\n",
              "    }\n",
              "\n",
              "    .dataframe tbody tr th {\n",
              "        vertical-align: top;\n",
              "    }\n",
              "\n",
              "    .dataframe thead th {\n",
              "        text-align: right;\n",
              "    }\n",
              "</style>\n",
              "<table border=\"1\" class=\"dataframe\">\n",
              "  <thead>\n",
              "    <tr style=\"text-align: right;\">\n",
              "      <th>DEST_CITY_NAME</th>\n",
              "      <th>Aberdeen, SD</th>\n",
              "      <th>Abilene, TX</th>\n",
              "      <th>Adak Island, AK</th>\n",
              "      <th>Aguadilla, PR</th>\n",
              "      <th>Akron, OH</th>\n",
              "      <th>Albany, GA</th>\n",
              "      <th>Albany, NY</th>\n",
              "      <th>Albuquerque, NM</th>\n",
              "      <th>Alexandria, LA</th>\n",
              "      <th>Allentown/Bethlehem/Easton, PA</th>\n",
              "      <th>...</th>\n",
              "      <th>West Yellowstone, MT</th>\n",
              "      <th>White Plains, NY</th>\n",
              "      <th>Wichita Falls, TX</th>\n",
              "      <th>Wichita, KS</th>\n",
              "      <th>Williston, ND</th>\n",
              "      <th>Wilmington, NC</th>\n",
              "      <th>Worcester, MA</th>\n",
              "      <th>Wrangell, AK</th>\n",
              "      <th>Yakutat, AK</th>\n",
              "      <th>Yuma, AZ</th>\n",
              "    </tr>\n",
              "    <tr>\n",
              "      <th>ORIGIN_CITY_NAME</th>\n",
              "      <th></th>\n",
              "      <th></th>\n",
              "      <th></th>\n",
              "      <th></th>\n",
              "      <th></th>\n",
              "      <th></th>\n",
              "      <th></th>\n",
              "      <th></th>\n",
              "      <th></th>\n",
              "      <th></th>\n",
              "      <th></th>\n",
              "      <th></th>\n",
              "      <th></th>\n",
              "      <th></th>\n",
              "      <th></th>\n",
              "      <th></th>\n",
              "      <th></th>\n",
              "      <th></th>\n",
              "      <th></th>\n",
              "      <th></th>\n",
              "      <th></th>\n",
              "    </tr>\n",
              "  </thead>\n",
              "  <tbody>\n",
              "    <tr>\n",
              "      <th>Aberdeen, SD</th>\n",
              "      <td>0.0</td>\n",
              "      <td>0.0</td>\n",
              "      <td>0.0</td>\n",
              "      <td>0.0</td>\n",
              "      <td>0.0</td>\n",
              "      <td>0.0</td>\n",
              "      <td>0.0</td>\n",
              "      <td>0.0</td>\n",
              "      <td>0.0</td>\n",
              "      <td>0.0</td>\n",
              "      <td>...</td>\n",
              "      <td>0.0</td>\n",
              "      <td>0.0</td>\n",
              "      <td>0.0</td>\n",
              "      <td>0.0</td>\n",
              "      <td>0.0</td>\n",
              "      <td>0.0</td>\n",
              "      <td>0.0</td>\n",
              "      <td>0.0</td>\n",
              "      <td>0.0</td>\n",
              "      <td>0.0</td>\n",
              "    </tr>\n",
              "    <tr>\n",
              "      <th>Abilene, TX</th>\n",
              "      <td>0.0</td>\n",
              "      <td>0.0</td>\n",
              "      <td>0.0</td>\n",
              "      <td>0.0</td>\n",
              "      <td>0.0</td>\n",
              "      <td>0.0</td>\n",
              "      <td>0.0</td>\n",
              "      <td>0.0</td>\n",
              "      <td>0.0</td>\n",
              "      <td>0.0</td>\n",
              "      <td>...</td>\n",
              "      <td>0.0</td>\n",
              "      <td>0.0</td>\n",
              "      <td>0.0</td>\n",
              "      <td>0.0</td>\n",
              "      <td>0.0</td>\n",
              "      <td>0.0</td>\n",
              "      <td>0.0</td>\n",
              "      <td>0.0</td>\n",
              "      <td>0.0</td>\n",
              "      <td>0.0</td>\n",
              "    </tr>\n",
              "    <tr>\n",
              "      <th>Adak Island, AK</th>\n",
              "      <td>0.0</td>\n",
              "      <td>0.0</td>\n",
              "      <td>0.0</td>\n",
              "      <td>0.0</td>\n",
              "      <td>0.0</td>\n",
              "      <td>0.0</td>\n",
              "      <td>0.0</td>\n",
              "      <td>0.0</td>\n",
              "      <td>0.0</td>\n",
              "      <td>0.0</td>\n",
              "      <td>...</td>\n",
              "      <td>0.0</td>\n",
              "      <td>0.0</td>\n",
              "      <td>0.0</td>\n",
              "      <td>0.0</td>\n",
              "      <td>0.0</td>\n",
              "      <td>0.0</td>\n",
              "      <td>0.0</td>\n",
              "      <td>0.0</td>\n",
              "      <td>0.0</td>\n",
              "      <td>0.0</td>\n",
              "    </tr>\n",
              "    <tr>\n",
              "      <th>Aguadilla, PR</th>\n",
              "      <td>0.0</td>\n",
              "      <td>0.0</td>\n",
              "      <td>0.0</td>\n",
              "      <td>0.0</td>\n",
              "      <td>0.0</td>\n",
              "      <td>0.0</td>\n",
              "      <td>0.0</td>\n",
              "      <td>0.0</td>\n",
              "      <td>0.0</td>\n",
              "      <td>0.0</td>\n",
              "      <td>...</td>\n",
              "      <td>0.0</td>\n",
              "      <td>0.0</td>\n",
              "      <td>0.0</td>\n",
              "      <td>0.0</td>\n",
              "      <td>0.0</td>\n",
              "      <td>0.0</td>\n",
              "      <td>0.0</td>\n",
              "      <td>0.0</td>\n",
              "      <td>0.0</td>\n",
              "      <td>0.0</td>\n",
              "    </tr>\n",
              "    <tr>\n",
              "      <th>Akron, OH</th>\n",
              "      <td>0.0</td>\n",
              "      <td>0.0</td>\n",
              "      <td>0.0</td>\n",
              "      <td>0.0</td>\n",
              "      <td>0.0</td>\n",
              "      <td>0.0</td>\n",
              "      <td>0.0</td>\n",
              "      <td>0.0</td>\n",
              "      <td>0.0</td>\n",
              "      <td>0.0</td>\n",
              "      <td>...</td>\n",
              "      <td>0.0</td>\n",
              "      <td>0.0</td>\n",
              "      <td>0.0</td>\n",
              "      <td>0.0</td>\n",
              "      <td>0.0</td>\n",
              "      <td>0.0</td>\n",
              "      <td>0.0</td>\n",
              "      <td>0.0</td>\n",
              "      <td>0.0</td>\n",
              "      <td>0.0</td>\n",
              "    </tr>\n",
              "    <tr>\n",
              "      <th>...</th>\n",
              "      <td>...</td>\n",
              "      <td>...</td>\n",
              "      <td>...</td>\n",
              "      <td>...</td>\n",
              "      <td>...</td>\n",
              "      <td>...</td>\n",
              "      <td>...</td>\n",
              "      <td>...</td>\n",
              "      <td>...</td>\n",
              "      <td>...</td>\n",
              "      <td>...</td>\n",
              "      <td>...</td>\n",
              "      <td>...</td>\n",
              "      <td>...</td>\n",
              "      <td>...</td>\n",
              "      <td>...</td>\n",
              "      <td>...</td>\n",
              "      <td>...</td>\n",
              "      <td>...</td>\n",
              "      <td>...</td>\n",
              "      <td>...</td>\n",
              "    </tr>\n",
              "    <tr>\n",
              "      <th>Wilmington, NC</th>\n",
              "      <td>0.0</td>\n",
              "      <td>0.0</td>\n",
              "      <td>0.0</td>\n",
              "      <td>0.0</td>\n",
              "      <td>0.0</td>\n",
              "      <td>0.0</td>\n",
              "      <td>0.0</td>\n",
              "      <td>0.0</td>\n",
              "      <td>0.0</td>\n",
              "      <td>0.0</td>\n",
              "      <td>...</td>\n",
              "      <td>0.0</td>\n",
              "      <td>0.0</td>\n",
              "      <td>0.0</td>\n",
              "      <td>0.0</td>\n",
              "      <td>0.0</td>\n",
              "      <td>0.0</td>\n",
              "      <td>0.0</td>\n",
              "      <td>0.0</td>\n",
              "      <td>0.0</td>\n",
              "      <td>0.0</td>\n",
              "    </tr>\n",
              "    <tr>\n",
              "      <th>Worcester, MA</th>\n",
              "      <td>0.0</td>\n",
              "      <td>0.0</td>\n",
              "      <td>0.0</td>\n",
              "      <td>0.0</td>\n",
              "      <td>0.0</td>\n",
              "      <td>0.0</td>\n",
              "      <td>0.0</td>\n",
              "      <td>0.0</td>\n",
              "      <td>0.0</td>\n",
              "      <td>0.0</td>\n",
              "      <td>...</td>\n",
              "      <td>0.0</td>\n",
              "      <td>0.0</td>\n",
              "      <td>0.0</td>\n",
              "      <td>0.0</td>\n",
              "      <td>0.0</td>\n",
              "      <td>0.0</td>\n",
              "      <td>0.0</td>\n",
              "      <td>0.0</td>\n",
              "      <td>0.0</td>\n",
              "      <td>0.0</td>\n",
              "    </tr>\n",
              "    <tr>\n",
              "      <th>Wrangell, AK</th>\n",
              "      <td>0.0</td>\n",
              "      <td>0.0</td>\n",
              "      <td>0.0</td>\n",
              "      <td>0.0</td>\n",
              "      <td>0.0</td>\n",
              "      <td>0.0</td>\n",
              "      <td>0.0</td>\n",
              "      <td>0.0</td>\n",
              "      <td>0.0</td>\n",
              "      <td>0.0</td>\n",
              "      <td>...</td>\n",
              "      <td>0.0</td>\n",
              "      <td>0.0</td>\n",
              "      <td>0.0</td>\n",
              "      <td>0.0</td>\n",
              "      <td>0.0</td>\n",
              "      <td>0.0</td>\n",
              "      <td>0.0</td>\n",
              "      <td>0.0</td>\n",
              "      <td>0.0</td>\n",
              "      <td>0.0</td>\n",
              "    </tr>\n",
              "    <tr>\n",
              "      <th>Yakutat, AK</th>\n",
              "      <td>0.0</td>\n",
              "      <td>0.0</td>\n",
              "      <td>0.0</td>\n",
              "      <td>0.0</td>\n",
              "      <td>0.0</td>\n",
              "      <td>0.0</td>\n",
              "      <td>0.0</td>\n",
              "      <td>0.0</td>\n",
              "      <td>0.0</td>\n",
              "      <td>0.0</td>\n",
              "      <td>...</td>\n",
              "      <td>0.0</td>\n",
              "      <td>0.0</td>\n",
              "      <td>0.0</td>\n",
              "      <td>0.0</td>\n",
              "      <td>0.0</td>\n",
              "      <td>0.0</td>\n",
              "      <td>0.0</td>\n",
              "      <td>0.0</td>\n",
              "      <td>0.0</td>\n",
              "      <td>0.0</td>\n",
              "    </tr>\n",
              "    <tr>\n",
              "      <th>Yuma, AZ</th>\n",
              "      <td>0.0</td>\n",
              "      <td>0.0</td>\n",
              "      <td>0.0</td>\n",
              "      <td>0.0</td>\n",
              "      <td>0.0</td>\n",
              "      <td>0.0</td>\n",
              "      <td>0.0</td>\n",
              "      <td>0.0</td>\n",
              "      <td>0.0</td>\n",
              "      <td>0.0</td>\n",
              "      <td>...</td>\n",
              "      <td>0.0</td>\n",
              "      <td>0.0</td>\n",
              "      <td>0.0</td>\n",
              "      <td>0.0</td>\n",
              "      <td>0.0</td>\n",
              "      <td>0.0</td>\n",
              "      <td>0.0</td>\n",
              "      <td>0.0</td>\n",
              "      <td>0.0</td>\n",
              "      <td>0.0</td>\n",
              "    </tr>\n",
              "  </tbody>\n",
              "</table>\n",
              "<p>338 rows × 339 columns</p>\n",
              "</div>"
            ],
            "text/plain": [
              "DEST_CITY_NAME    Aberdeen, SD  Abilene, TX  Adak Island, AK  Aguadilla, PR   \n",
              "ORIGIN_CITY_NAME                                                              \n",
              "Aberdeen, SD               0.0          0.0              0.0            0.0  \\\n",
              "Abilene, TX                0.0          0.0              0.0            0.0   \n",
              "Adak Island, AK            0.0          0.0              0.0            0.0   \n",
              "Aguadilla, PR              0.0          0.0              0.0            0.0   \n",
              "Akron, OH                  0.0          0.0              0.0            0.0   \n",
              "...                        ...          ...              ...            ...   \n",
              "Wilmington, NC             0.0          0.0              0.0            0.0   \n",
              "Worcester, MA              0.0          0.0              0.0            0.0   \n",
              "Wrangell, AK               0.0          0.0              0.0            0.0   \n",
              "Yakutat, AK                0.0          0.0              0.0            0.0   \n",
              "Yuma, AZ                   0.0          0.0              0.0            0.0   \n",
              "\n",
              "DEST_CITY_NAME    Akron, OH  Albany, GA  Albany, NY  Albuquerque, NM   \n",
              "ORIGIN_CITY_NAME                                                       \n",
              "Aberdeen, SD            0.0         0.0         0.0              0.0  \\\n",
              "Abilene, TX             0.0         0.0         0.0              0.0   \n",
              "Adak Island, AK         0.0         0.0         0.0              0.0   \n",
              "Aguadilla, PR           0.0         0.0         0.0              0.0   \n",
              "Akron, OH               0.0         0.0         0.0              0.0   \n",
              "...                     ...         ...         ...              ...   \n",
              "Wilmington, NC          0.0         0.0         0.0              0.0   \n",
              "Worcester, MA           0.0         0.0         0.0              0.0   \n",
              "Wrangell, AK            0.0         0.0         0.0              0.0   \n",
              "Yakutat, AK             0.0         0.0         0.0              0.0   \n",
              "Yuma, AZ                0.0         0.0         0.0              0.0   \n",
              "\n",
              "DEST_CITY_NAME    Alexandria, LA  Allentown/Bethlehem/Easton, PA  ...   \n",
              "ORIGIN_CITY_NAME                                                  ...   \n",
              "Aberdeen, SD                 0.0                             0.0  ...  \\\n",
              "Abilene, TX                  0.0                             0.0  ...   \n",
              "Adak Island, AK              0.0                             0.0  ...   \n",
              "Aguadilla, PR                0.0                             0.0  ...   \n",
              "Akron, OH                    0.0                             0.0  ...   \n",
              "...                          ...                             ...  ...   \n",
              "Wilmington, NC               0.0                             0.0  ...   \n",
              "Worcester, MA                0.0                             0.0  ...   \n",
              "Wrangell, AK                 0.0                             0.0  ...   \n",
              "Yakutat, AK                  0.0                             0.0  ...   \n",
              "Yuma, AZ                     0.0                             0.0  ...   \n",
              "\n",
              "DEST_CITY_NAME    West Yellowstone, MT  White Plains, NY  Wichita Falls, TX   \n",
              "ORIGIN_CITY_NAME                                                              \n",
              "Aberdeen, SD                       0.0               0.0                0.0  \\\n",
              "Abilene, TX                        0.0               0.0                0.0   \n",
              "Adak Island, AK                    0.0               0.0                0.0   \n",
              "Aguadilla, PR                      0.0               0.0                0.0   \n",
              "Akron, OH                          0.0               0.0                0.0   \n",
              "...                                ...               ...                ...   \n",
              "Wilmington, NC                     0.0               0.0                0.0   \n",
              "Worcester, MA                      0.0               0.0                0.0   \n",
              "Wrangell, AK                       0.0               0.0                0.0   \n",
              "Yakutat, AK                        0.0               0.0                0.0   \n",
              "Yuma, AZ                           0.0               0.0                0.0   \n",
              "\n",
              "DEST_CITY_NAME    Wichita, KS  Williston, ND  Wilmington, NC  Worcester, MA   \n",
              "ORIGIN_CITY_NAME                                                              \n",
              "Aberdeen, SD              0.0            0.0             0.0            0.0  \\\n",
              "Abilene, TX               0.0            0.0             0.0            0.0   \n",
              "Adak Island, AK           0.0            0.0             0.0            0.0   \n",
              "Aguadilla, PR             0.0            0.0             0.0            0.0   \n",
              "Akron, OH                 0.0            0.0             0.0            0.0   \n",
              "...                       ...            ...             ...            ...   \n",
              "Wilmington, NC            0.0            0.0             0.0            0.0   \n",
              "Worcester, MA             0.0            0.0             0.0            0.0   \n",
              "Wrangell, AK              0.0            0.0             0.0            0.0   \n",
              "Yakutat, AK               0.0            0.0             0.0            0.0   \n",
              "Yuma, AZ                  0.0            0.0             0.0            0.0   \n",
              "\n",
              "DEST_CITY_NAME    Wrangell, AK  Yakutat, AK  Yuma, AZ  \n",
              "ORIGIN_CITY_NAME                                       \n",
              "Aberdeen, SD               0.0          0.0       0.0  \n",
              "Abilene, TX                0.0          0.0       0.0  \n",
              "Adak Island, AK            0.0          0.0       0.0  \n",
              "Aguadilla, PR              0.0          0.0       0.0  \n",
              "Akron, OH                  0.0          0.0       0.0  \n",
              "...                        ...          ...       ...  \n",
              "Wilmington, NC             0.0          0.0       0.0  \n",
              "Worcester, MA              0.0          0.0       0.0  \n",
              "Wrangell, AK               0.0          0.0       0.0  \n",
              "Yakutat, AK                0.0          0.0       0.0  \n",
              "Yuma, AZ                   0.0          0.0       0.0  \n",
              "\n",
              "[338 rows x 339 columns]"
            ]
          },
          "execution_count": 408,
          "metadata": {},
          "output_type": "execute_result"
        }
      ],
      "source": [
        "cond_flights = join_flights.divide(marginal_flights, axis=1)\n",
        "cond_flights"
      ]
    },
    {
      "cell_type": "code",
      "execution_count": 409,
      "metadata": {},
      "outputs": [
        {
          "data": {
            "text/plain": [
              "0.0031613976705490844"
            ]
          },
          "execution_count": 409,
          "metadata": {},
          "output_type": "execute_result"
        }
      ],
      "source": [
        "cond_flights[\"Denver, CO\"][\"San Luis Obispo, CA\"]"
      ]
    },
    {
      "cell_type": "markdown",
      "metadata": {
        "id": "F8bc5ubIdHAn"
      },
      "source": [
        "**TYPE YOUR EXPLANATION HERE.**"
      ]
    },
    {
      "cell_type": "markdown",
      "metadata": {
        "id": "EIr0IgvYTxnh"
      },
      "source": [
        "## Question 6 (4 points)\n",
        "\n",
        "Make a visualization from which the answer to the following question can be determined: in what months is a given flight least likely and most likely to be delayed?\n",
        "\n",
        "*Hint:* Create what you think is the most effective relevant visualization. It doesn't only have to contain the answer to the above question; it can also contain other information."
      ]
    },
    {
      "cell_type": "code",
      "execution_count": 410,
      "metadata": {},
      "outputs": [
        {
          "data": {
            "text/plain": [
              "Index(['year', ' month', 'carrier', 'carrier_name', 'airport', 'airport_name',\n",
              "       'arr_flights', 'arr_del15', 'carrier_ct', ' weather_ct', 'nas_ct',\n",
              "       'security_ct', 'late_aircraft_ct', 'arr_cancelled', 'arr_diverted',\n",
              "       ' arr_delay', ' carrier_delay', 'weather_delay', 'nas_delay',\n",
              "       'security_delay', 'late_aircraft_delay'],\n",
              "      dtype='object')"
            ]
          },
          "execution_count": 410,
          "metadata": {},
          "output_type": "execute_result"
        }
      ],
      "source": [
        "df_original.columns"
      ]
    },
    {
      "cell_type": "code",
      "execution_count": 411,
      "metadata": {
        "id": "cqX-omQadH-S"
      },
      "outputs": [
        {
          "data": {
            "text/plain": [
              "<Axes: title={'center': 'Test'}, xlabel=' month'>"
            ]
          },
          "execution_count": 411,
          "metadata": {},
          "output_type": "execute_result"
        },
        {
          "data": {
            "image/png": "[encoded data removed]",
            "text/plain": [
              "<Figure size 640x480 with 1 Axes>"
            ]
          },
          "metadata": {},
          "output_type": "display_data"
        }
      ],
      "source": [
        "# Enter your code here. Feel free to add as many code cells as necessary.\n",
        "def delayed(d):\n",
        "    if d > 0:\n",
        "        return 1.0\n",
        "    else:\n",
        "        return 0.0\n",
        "\n",
        "df_original[\"delayed?\"] = df_original[\" arr_delay\"].map(delayed)\n",
        "df_original.groupby(\" month\")[\"delayed?\"].mean().sort_values(ascending=False).plot.bar(title=\"Test\")"
      ]
    },
    {
      "cell_type": "markdown",
      "metadata": {
        "id": "O-TvUB1FdIZ-"
      },
      "source": [
        "**TYPE YOUR EXPLANATION HERE.**"
      ]
    },
    {
      "cell_type": "markdown",
      "metadata": {
        "id": "f9fKBALhTxni"
      },
      "source": [
        "## Question 7 (5 points)\n",
        "\n",
        "What is the relationship between the distance of a flight and whether or not it gets cancelled? Justify your answer using appropriate summary statistics and visualizations."
      ]
    },
    {
      "cell_type": "code",
      "execution_count": 412,
      "metadata": {},
      "outputs": [
        {
          "data": {
            "text/plain": [
              "Index(['year', ' month', 'carrier', 'carrier_name', 'airport', 'airport_name',\n",
              "       'arr_flights', 'arr_del15', 'carrier_ct', ' weather_ct', 'nas_ct',\n",
              "       'security_ct', 'late_aircraft_ct', 'arr_cancelled', 'arr_diverted',\n",
              "       ' arr_delay', ' carrier_delay', 'weather_delay', 'nas_delay',\n",
              "       'security_delay', 'late_aircraft_delay', 'delayed?'],\n",
              "      dtype='object')"
            ]
          },
          "execution_count": 412,
          "metadata": {},
          "output_type": "execute_result"
        }
      ],
      "source": [
        "df_original.columns"
      ]
    },
    {
      "cell_type": "code",
      "execution_count": 413,
      "metadata": {
        "id": "puDdnHQxdJxj"
      },
      "outputs": [
        {
          "data": {
            "text/plain": [
              "-0.029357942015216097"
            ]
          },
          "execution_count": 413,
          "metadata": {},
          "output_type": "execute_result"
        }
      ],
      "source": [
        "# Enter your code here. Feel free to add as many code cells as necessary.\n",
        "df_flights[\"DISTANCE\"].corr(df_flights[\"CANCELLED\"])"
      ]
    },
    {
      "cell_type": "code",
      "execution_count": 414,
      "metadata": {},
      "outputs": [
        {
          "data": {
            "text/plain": [
              "<matplotlib.legend.Legend at 0x2819b85b0>"
            ]
          },
          "execution_count": 414,
          "metadata": {},
          "output_type": "execute_result"
        },
        {
          "data": {
            "image/png": "[encoded data removed]",
            "text/plain": [
              "<Figure size 640x480 with 1 Axes>"
            ]
          },
          "metadata": {},
          "output_type": "display_data"
        }
      ],
      "source": [
        "df_flights[df_flights[\"CANCELLED\"] == 1][\"DISTANCE\"].plot.hist(title=\"Test\", density=True, alpha=0.5)\n",
        "df_flights[df_flights[\"CANCELLED\"] == 0][\"DISTANCE\"].plot.hist(title=\"Test\", density=True, alpha=0.5)\n",
        "\n",
        "# labels\n",
        "plt.xlabel('Distance')\n",
        "plt.ylabel('Density')\n",
        "# legend\n",
        "plt.legend(['Cancelled', 'Not Cancelled'])"
      ]
    },
    {
      "cell_type": "markdown",
      "metadata": {
        "id": "uTFKO3TFdKVt"
      },
      "source": [
        "**TYPE YOUR EXPLANATION HERE.**"
      ]
    },
    {
      "cell_type": "markdown",
      "metadata": {
        "id": "HNrUFvHvTxnj"
      },
      "source": [
        "## Question 8 (5 points)\n",
        "\n",
        "In 2018, which airports were most similar to SFO (San Francisco) in terms of its patterns of flight delays?"
      ]
    },
    {
      "cell_type": "code",
      "execution_count": 415,
      "metadata": {},
      "outputs": [
        {
          "data": {
            "text/plain": [
              "Index(['year', ' month', 'carrier', 'carrier_name', 'airport', 'airport_name',\n",
              "       'arr_flights', 'arr_del15', 'carrier_ct', ' weather_ct', 'nas_ct',\n",
              "       'security_ct', 'late_aircraft_ct', 'arr_cancelled', 'arr_diverted',\n",
              "       ' arr_delay', ' carrier_delay', 'weather_delay', 'nas_delay',\n",
              "       'security_delay', 'late_aircraft_delay', 'delayed?'],\n",
              "      dtype='object')"
            ]
          },
          "execution_count": 415,
          "metadata": {},
          "output_type": "execute_result"
        }
      ],
      "source": [
        "df_original.columns"
      ]
    },
    {
      "cell_type": "code",
      "execution_count": 416,
      "metadata": {},
      "outputs": [
        {
          "data": {
            "text/plain": [
              "0        BIS\n",
              "1        BNA\n",
              "2        BOI\n",
              "3        BPT\n",
              "4        BUF\n",
              "        ... \n",
              "20226    TLH\n",
              "20227    TUL\n",
              "20228    TYS\n",
              "20229    VPS\n",
              "20230    XNA\n",
              "Name: airport, Length: 20231, dtype: object"
            ]
          },
          "execution_count": 416,
          "metadata": {},
          "output_type": "execute_result"
        }
      ],
      "source": [
        "df_original[\"airport\"]"
      ]
    },
    {
      "cell_type": "code",
      "execution_count": 420,
      "metadata": {
        "id": "DlcLOQbWdLug"
      },
      "outputs": [
        {
          "ename": "ValueError",
          "evalue": "Cannot use mean strategy with non-numeric data:\ncould not convert string to float: 'MQ'",
          "output_type": "error",
          "traceback": [
            "\u001b[0;31m---------------------------------------------------------------------------\u001b[0m",
            "\u001b[0;31mValueError\u001b[0m                                Traceback (most recent call last)",
            "\u001b[1;32m/Users/ishaansathaye/Git/CalPolyCourses/DATA301-IntroDataScience/exams/midterm/DATA_301_Exam_1_Information.ipynb Cell 83\u001b[0m line \u001b[0;36m6\n\u001b[1;32m      <a href='vscode-notebook-cell:/Users/ishaansathaye/Git/CalPolyCourses/DATA301-IntroDataScience/exams/midterm/DATA_301_Exam_1_Information.ipynb#Y110sZmlsZQ%3D%3D?line=2'>3</a>\u001b[0m \u001b[39mfrom\u001b[39;00m \u001b[39msklearn\u001b[39;00m\u001b[39m.\u001b[39;00m\u001b[39mimpute\u001b[39;00m \u001b[39mimport\u001b[39;00m SimpleImputer\n\u001b[1;32m      <a href='vscode-notebook-cell:/Users/ishaansathaye/Git/CalPolyCourses/DATA301-IntroDataScience/exams/midterm/DATA_301_Exam_1_Information.ipynb#Y110sZmlsZQ%3D%3D?line=4'>5</a>\u001b[0m imputer \u001b[39m=\u001b[39m SimpleImputer(strategy\u001b[39m=\u001b[39m\u001b[39m'\u001b[39m\u001b[39mmean\u001b[39m\u001b[39m'\u001b[39m)\n\u001b[0;32m----> <a href='vscode-notebook-cell:/Users/ishaansathaye/Git/CalPolyCourses/DATA301-IntroDataScience/exams/midterm/DATA_301_Exam_1_Information.ipynb#Y110sZmlsZQ%3D%3D?line=5'>6</a>\u001b[0m data_2018_imputed \u001b[39m=\u001b[39m pd\u001b[39m.\u001b[39mDataFrame(imputer\u001b[39m.\u001b[39;49mfit_transform(df_original\u001b[39m.\u001b[39;49miloc[:, \u001b[39m2\u001b[39;49m:]), columns\u001b[39m=\u001b[39mdf_original\u001b[39m.\u001b[39mcolumns[\u001b[39m2\u001b[39m:])\n\u001b[1;32m      <a href='vscode-notebook-cell:/Users/ishaansathaye/Git/CalPolyCourses/DATA301-IntroDataScience/exams/midterm/DATA_301_Exam_1_Information.ipynb#Y110sZmlsZQ%3D%3D?line=7'>8</a>\u001b[0m sfo_data \u001b[39m=\u001b[39m df_original[df_original[\u001b[39m\"\u001b[39m\u001b[39mairport\u001b[39m\u001b[39m\"\u001b[39m] \u001b[39m==\u001b[39m \u001b[39m\"\u001b[39m\u001b[39mSFO\u001b[39m\u001b[39m\"\u001b[39m]\n\u001b[1;32m      <a href='vscode-notebook-cell:/Users/ishaansathaye/Git/CalPolyCourses/DATA301-IntroDataScience/exams/midterm/DATA_301_Exam_1_Information.ipynb#Y110sZmlsZQ%3D%3D?line=8'>9</a>\u001b[0m data_2018 \u001b[39m=\u001b[39m df_original[df_original[\u001b[39m\"\u001b[39m\u001b[39myear\u001b[39m\u001b[39m\"\u001b[39m] \u001b[39m==\u001b[39m \u001b[39m2018\u001b[39m]\n",
            "File \u001b[0;32m~/Library/Python/3.9/lib/python/site-packages/sklearn/utils/_set_output.py:157\u001b[0m, in \u001b[0;36m_wrap_method_output.<locals>.wrapped\u001b[0;34m(self, X, *args, **kwargs)\u001b[0m\n\u001b[1;32m    155\u001b[0m \u001b[39m@wraps\u001b[39m(f)\n\u001b[1;32m    156\u001b[0m \u001b[39mdef\u001b[39;00m \u001b[39mwrapped\u001b[39m(\u001b[39mself\u001b[39m, X, \u001b[39m*\u001b[39margs, \u001b[39m*\u001b[39m\u001b[39m*\u001b[39mkwargs):\n\u001b[0;32m--> 157\u001b[0m     data_to_wrap \u001b[39m=\u001b[39m f(\u001b[39mself\u001b[39;49m, X, \u001b[39m*\u001b[39;49margs, \u001b[39m*\u001b[39;49m\u001b[39m*\u001b[39;49mkwargs)\n\u001b[1;32m    158\u001b[0m     \u001b[39mif\u001b[39;00m \u001b[39misinstance\u001b[39m(data_to_wrap, \u001b[39mtuple\u001b[39m):\n\u001b[1;32m    159\u001b[0m         \u001b[39m# only wrap the first output for cross decomposition\u001b[39;00m\n\u001b[1;32m    160\u001b[0m         return_tuple \u001b[39m=\u001b[39m (\n\u001b[1;32m    161\u001b[0m             _wrap_data_with_container(method, data_to_wrap[\u001b[39m0\u001b[39m], X, \u001b[39mself\u001b[39m),\n\u001b[1;32m    162\u001b[0m             \u001b[39m*\u001b[39mdata_to_wrap[\u001b[39m1\u001b[39m:],\n\u001b[1;32m    163\u001b[0m         )\n",
            "File \u001b[0;32m~/Library/Python/3.9/lib/python/site-packages/sklearn/base.py:916\u001b[0m, in \u001b[0;36mTransformerMixin.fit_transform\u001b[0;34m(self, X, y, **fit_params)\u001b[0m\n\u001b[1;32m    912\u001b[0m \u001b[39m# non-optimized default implementation; override when a better\u001b[39;00m\n\u001b[1;32m    913\u001b[0m \u001b[39m# method is possible for a given clustering algorithm\u001b[39;00m\n\u001b[1;32m    914\u001b[0m \u001b[39mif\u001b[39;00m y \u001b[39mis\u001b[39;00m \u001b[39mNone\u001b[39;00m:\n\u001b[1;32m    915\u001b[0m     \u001b[39m# fit method of arity 1 (unsupervised transformation)\u001b[39;00m\n\u001b[0;32m--> 916\u001b[0m     \u001b[39mreturn\u001b[39;00m \u001b[39mself\u001b[39;49m\u001b[39m.\u001b[39;49mfit(X, \u001b[39m*\u001b[39;49m\u001b[39m*\u001b[39;49mfit_params)\u001b[39m.\u001b[39mtransform(X)\n\u001b[1;32m    917\u001b[0m \u001b[39melse\u001b[39;00m:\n\u001b[1;32m    918\u001b[0m     \u001b[39m# fit method of arity 2 (supervised transformation)\u001b[39;00m\n\u001b[1;32m    919\u001b[0m     \u001b[39mreturn\u001b[39;00m \u001b[39mself\u001b[39m\u001b[39m.\u001b[39mfit(X, y, \u001b[39m*\u001b[39m\u001b[39m*\u001b[39mfit_params)\u001b[39m.\u001b[39mtransform(X)\n",
            "File \u001b[0;32m~/Library/Python/3.9/lib/python/site-packages/sklearn/base.py:1152\u001b[0m, in \u001b[0;36m_fit_context.<locals>.decorator.<locals>.wrapper\u001b[0;34m(estimator, *args, **kwargs)\u001b[0m\n\u001b[1;32m   1145\u001b[0m     estimator\u001b[39m.\u001b[39m_validate_params()\n\u001b[1;32m   1147\u001b[0m \u001b[39mwith\u001b[39;00m config_context(\n\u001b[1;32m   1148\u001b[0m     skip_parameter_validation\u001b[39m=\u001b[39m(\n\u001b[1;32m   1149\u001b[0m         prefer_skip_nested_validation \u001b[39mor\u001b[39;00m global_skip_validation\n\u001b[1;32m   1150\u001b[0m     )\n\u001b[1;32m   1151\u001b[0m ):\n\u001b[0;32m-> 1152\u001b[0m     \u001b[39mreturn\u001b[39;00m fit_method(estimator, \u001b[39m*\u001b[39;49margs, \u001b[39m*\u001b[39;49m\u001b[39m*\u001b[39;49mkwargs)\n",
            "File \u001b[0;32m~/Library/Python/3.9/lib/python/site-packages/sklearn/impute/_base.py:369\u001b[0m, in \u001b[0;36mSimpleImputer.fit\u001b[0;34m(self, X, y)\u001b[0m\n\u001b[1;32m    351\u001b[0m \u001b[39m@_fit_context\u001b[39m(prefer_skip_nested_validation\u001b[39m=\u001b[39m\u001b[39mTrue\u001b[39;00m)\n\u001b[1;32m    352\u001b[0m \u001b[39mdef\u001b[39;00m \u001b[39mfit\u001b[39m(\u001b[39mself\u001b[39m, X, y\u001b[39m=\u001b[39m\u001b[39mNone\u001b[39;00m):\n\u001b[1;32m    353\u001b[0m \u001b[39m    \u001b[39m\u001b[39m\"\"\"Fit the imputer on `X`.\u001b[39;00m\n\u001b[1;32m    354\u001b[0m \n\u001b[1;32m    355\u001b[0m \u001b[39m    Parameters\u001b[39;00m\n\u001b[0;32m   (...)\u001b[0m\n\u001b[1;32m    367\u001b[0m \u001b[39m        Fitted estimator.\u001b[39;00m\n\u001b[1;32m    368\u001b[0m \u001b[39m    \"\"\"\u001b[39;00m\n\u001b[0;32m--> 369\u001b[0m     X \u001b[39m=\u001b[39m \u001b[39mself\u001b[39;49m\u001b[39m.\u001b[39;49m_validate_input(X, in_fit\u001b[39m=\u001b[39;49m\u001b[39mTrue\u001b[39;49;00m)\n\u001b[1;32m    371\u001b[0m     \u001b[39m# default fill_value is 0 for numerical input and \"missing_value\"\u001b[39;00m\n\u001b[1;32m    372\u001b[0m     \u001b[39m# otherwise\u001b[39;00m\n\u001b[1;32m    373\u001b[0m     \u001b[39mif\u001b[39;00m \u001b[39mself\u001b[39m\u001b[39m.\u001b[39mfill_value \u001b[39mis\u001b[39;00m \u001b[39mNone\u001b[39;00m:\n",
            "File \u001b[0;32m~/Library/Python/3.9/lib/python/site-packages/sklearn/impute/_base.py:330\u001b[0m, in \u001b[0;36mSimpleImputer._validate_input\u001b[0;34m(self, X, in_fit)\u001b[0m\n\u001b[1;32m    324\u001b[0m \u001b[39mif\u001b[39;00m \u001b[39m\"\u001b[39m\u001b[39mcould not convert\u001b[39m\u001b[39m\"\u001b[39m \u001b[39min\u001b[39;00m \u001b[39mstr\u001b[39m(ve):\n\u001b[1;32m    325\u001b[0m     new_ve \u001b[39m=\u001b[39m \u001b[39mValueError\u001b[39;00m(\n\u001b[1;32m    326\u001b[0m         \u001b[39m\"\u001b[39m\u001b[39mCannot use \u001b[39m\u001b[39m{}\u001b[39;00m\u001b[39m strategy with non-numeric data:\u001b[39m\u001b[39m\\n\u001b[39;00m\u001b[39m{}\u001b[39;00m\u001b[39m\"\u001b[39m\u001b[39m.\u001b[39mformat(\n\u001b[1;32m    327\u001b[0m             \u001b[39mself\u001b[39m\u001b[39m.\u001b[39mstrategy, ve\n\u001b[1;32m    328\u001b[0m         )\n\u001b[1;32m    329\u001b[0m     )\n\u001b[0;32m--> 330\u001b[0m     \u001b[39mraise\u001b[39;00m new_ve \u001b[39mfrom\u001b[39;00m \u001b[39mNone\u001b[39m\n\u001b[1;32m    331\u001b[0m \u001b[39melse\u001b[39;00m:\n\u001b[1;32m    332\u001b[0m     \u001b[39mraise\u001b[39;00m ve\n",
            "\u001b[0;31mValueError\u001b[0m: Cannot use mean strategy with non-numeric data:\ncould not convert string to float: 'MQ'"
          ]
        }
      ],
      "source": [
        "# Enter your code here. Feel free to add as many code cells as necessary.\n",
        "from sklearn.metrics.pairwise import cosine_similarity\n",
        "from sklearn.impute import SimpleImputer\n",
        "\n",
        "imputer = SimpleImputer(strategy='mean')\n",
        "data_2018_imputed = pd.DataFrame(imputer.fit_transform(df_original.iloc[:, 2:]), columns=df_original.columns[2:])\n",
        "\n",
        "sfo_data = df_original[df_original[\"airport\"] == \"SFO\"]\n",
        "data_2018 = df_original[df_original[\"year\"] == 2018]\n",
        "\n",
        "similarity_scores = cosine_similarity(sfo_data.iloc[:, 2:], data_2018.iloc[:, 2:])\n",
        "similarity_scores"
      ]
    },
    {
      "cell_type": "markdown",
      "metadata": {
        "id": "-56rXj_UdL_y"
      },
      "source": [
        "**TYPE YOUR EXPLANATION HERE.**"
      ]
    },
    {
      "cell_type": "markdown",
      "metadata": {
        "id": "dARueLLGTxnk"
      },
      "source": [
        "# Submission Instructions\n",
        "\n",
        "1. Restart this notebook and run the cells from beginning to end.\n",
        "    - Go to Runtime > Restart and Run All.\n",
        "2. Download the notebook in two formats.\n",
        "    - Go to File > Download .ipynb.\n",
        "    - Go to File > Print, and print the notebook to a PDF file. Double check that no text is cut off. If any text is cut off, try setting the paper size to A3 instead of Letter.\n",
        "3. Upload both files (.ipynb and .pdf) to Canvas."
      ]
    }
  ],
  "metadata": {
    "colab": {
      "provenance": []
    },
    "kernelspec": {
      "display_name": "Python 3",
      "language": "python",
      "name": "python3"
    },
    "language_info": {
      "codemirror_mode": {
        "name": "ipython",
        "version": 3
      },
      "file_extension": ".py",
      "mimetype": "text/x-python",
      "name": "python",
      "nbconvert_exporter": "python",
      "pygments_lexer": "ipython3",
      "version": "3.9.6"
    }
  },
  "nbformat": 4,
  "nbformat_minor": 0
}
