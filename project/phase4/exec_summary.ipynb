{
 "cells": [
  {
   "cell_type": "markdown",
   "metadata": {},
   "source": [
    "# Executive Summary"
   ]
  },
  {
   "cell_type": "markdown",
   "metadata": {},
   "source": [
    "## Project Proposal"
   ]
  },
  {
   "cell_type": "markdown",
   "metadata": {},
   "source": [
    "American football is one of the most popular sports in the United States, and it is also a very complex sport. There are many different factors that can affect the outcome of a game, including the players, the coaches, the plays, and the weather.\n",
    "\n",
    "Our project will focus on using data to analyze American football. We will use data from past games to identify trends and patterns. We will also be using team statistics and team data for past seasons and use the game and team data to predict the outcome of future games and for this current NFL season.\n",
    "\n",
    "We are interested in this project because we are big fanatics of the NFL and football in general. Also, we believe that this data could be used to improve the understanding of the sports and its results.\n",
    "\n",
    "Our data sources for the project include:\n",
    "- Game statistics\n",
    "- Team statistics\n",
    "- Weather data\n",
    "\n",
    "We will use this data to answer the following research questions:\n",
    "- What are the factors that most affect the outcome of an American football game?\n",
    "- How can data be used to predict the outcome of future games (scores and winners)?\n",
    "\n",
    "We believe that this project has the potential to make a significant contribution to the field of American football. We are excited to see what we can learn from the data.\n"
   ]
  },
  {
   "cell_type": "markdown",
   "metadata": {},
   "source": [
    "## Description of Data Sources"
   ]
  },
  {
   "cell_type": "markdown",
   "metadata": {},
   "source": [
    "#### [NFL Box Scores](https://www.kaggle.com/datasets/grayengineering425/nfl-box-scores)\n",
    "- Dataset includes box scores for every NFL game from 1960 to 2017\n",
    "- Box scores include statistics for each home and away team for each game\n",
    "- Another csv file includes the weather data for each game but we will not be using this data because it is not complete \n",
    "\n",
    "#### [NFL Game Results and Teams](https://www.kaggle.com/tobycrabtree/nfl-scores-and-betting-data)\n",
    "- There are 2 main datasets that we will be using from this source\n",
    "- The first dataset includes game results for every NFL game from 1966 to 2023\n",
    "  - It also includes descriptive info such as if it is a playoff game, if it is played at a neutral site, and some weather information if available\n",
    "  - It also includes betting data for each game such as the spread, over/under, and money line for the games\n",
    "- The second dataset includes information regarding the teams in the NFL\n",
    "  - It includes the team name, the team abbreviation, the conference, and the division\n",
    "\n",
    "#### [NFL Team Stats](https://www.kaggle.com/datasets/shanyachaubey/nfl20102021offdefplayoffteamstats)\n",
    "- Dataset includes team statistics for each team for each season from 2010 to 2021\n",
    "- The dataset includes basic information such as win-loss percentage and which season\n",
    "- The dataset also includes more in depth information regarding offensive and defensive statistics such as points scored, yards gained, and turnovers\n",
    "- It also includes playoff data for each team for each season"
   ]
  },
  {
   "cell_type": "markdown",
   "metadata": {},
   "source": [
    "## Description of Observational Units"
   ]
  },
  {
   "cell_type": "markdown",
   "metadata": {},
   "source": [
    "#### NFL Box Scores\n",
    "- Observational unit in the box scores data set is each game played in the NFL from 1960 to 2017\n",
    "- There is an emphasis on the statistics between each home and away team\n",
    "- Data set was built by an individual contributor in 2017, and no additional information is provided in Kaggle about the data set\n",
    "- The observational unit in the weather data set is each game played in the NFL from 1960 to 2013\n",
    "    - Data after 2013 is not included in the data set\n",
    "\n",
    "#### NFL Game Results and Teams\n",
    "- The observational unit in game results dataset is each game played in the NFL from 1966 to 2023\n",
    "- The observational unit in the team dataset is each team in the NFL (including teams that are no longer in the NFL or have changed their names, i.e. the San Diego Chargers or the Washington Football Team)\n",
    "- Data set was built from publicly available NFL data, weather provided by the NOAA, and betting data from a variety of sources but cross referenced with Pro Football Reference.\n",
    "\n",
    "#### NFL Team Stats\n",
    "- The observational unit in the team stats dataset is each team in the NFL for each season from 2010 to 2021\n",
    "    - So, the dataset includes data for each of the 32 teams for each of the seasons from 2010 to 2021\n",
    "- This data was created using three different sources: pro-football-reference.com, covers.com, teamrankings.com\n",
    "- The author used various CSV files and web scraping to combine 88 tables to create this data set"
   ]
  },
  {
   "cell_type": "markdown",
   "metadata": {},
   "source": [
    "## Description of Main Variables of Interest"
   ]
  },
  {
   "cell_type": "markdown",
   "metadata": {},
   "source": [
    "#### NFL Box Scores\n",
    "- In this dataset, the main variables of interest for us would be home and away teams' first downs, their net yards, the total plays, average gain, and time of possession\n",
    "- We trimmed down to these variables because this data will be valuable when combining with the other datasets\n",
    "- We deemed these variables important since they give a good summary of the game and how the statistics differed throughout the seasons when teams were at home or away\n",
    "\n",
    "\n",
    "#### NFL Scores and Teams\n",
    "- ScoresGame Resultset\n",
    " Game Results main variables of interest in this dataset are the home and away teams' scores, the home and away teams' yards, and the home and away teams' turnovers  - The main variables of interest in this dataset are the home and away teams' scores, the betting favorite, the date of the game, and the weather \n",
    "  - The score and date variables were taken from publicly available NFl data, the weather was taken from the NOAA, and the betting favorite was taken from a variety of sources but cross referenced with Pro Football Reference\n",
    "- Team Dataset\n",
    "  - The main variables of interest in this dataset are the team name, the team abbreviation, the conference, and the division\n",
    "  - These variables are important because they will be used to merge the data with the other datasets\n",
    "  - This data was taken from public NFL data\n",
    "\n",
    "#### NFL Team Stats\n",
    "- The main variables of interest in this dataset are the team name, the season, the win-loss percentage, the point differential, the points scored per game, the points allowed per game, the yards gained per game, the yards allowed per game, and the possession time per game\n",
    "- This data was taken from 3 sources: pro-football-reference.com, covers.com, teamrankings.come"
   ]
  },
  {
   "cell_type": "markdown",
   "metadata": {},
   "source": [
    "## Description of Data Cleaning Process"
   ]
  },
  {
   "cell_type": "markdown",
   "metadata": {},
   "source": [
    "#### NFL Box Scores\n",
    "- We decided to only take into account seasons from 2010 and onwards since this would be more relevant to the current NFL season\n",
    "- First we got the columns information and decided which variables were important to us\n",
    "- Next, we dropped the columns that we did not need and converted the date column to a datetime object\n",
    "- We also converted all the numeric columns to numeric data types\n",
    "- We discarded the weather csv file in this data set\n",
    "\n",
    "#### NFL Game Results and Teams\n",
    "- Game Result Dataset\n",
    "  - We decided to only take into account seasons from 2010 and onwards since this would be more relevant to the current NFL season (especially so the players, coaches, and teams would be more relevant and similar to the current NFL season)\n",
    "  - We first decided which columns were important to us and dropped the columns that we did not need\n",
    "  - There were some rows missing data for scores, so we dropped those rows\n",
    "  - We also converted the date column to a datetime object\n",
    "  - There were some rows missing data for the weather, but we decided to keep them as the scores for those games were still present and we could still use that data for our analysis\n",
    "- Team Dataset\n",
    "  - We decided which columns were important to us and dropped the columns that we did not need such as the team conference and division before 2002 (especially because we are only considering seasons from 2010 and onwards)\n",
    "  - There were some teams that did not have a current division, so we dropped those rows (these were teams that existed before 2002)\n",
    "  - We realized that the conference value for the Jets was incorrect, so we manually changed that to the correct value\n",
    "  - We sorted the teams by their division and conference to make it easier to read\n",
    "  - We decided to keep the teams that are no longer in the NFL because their team name still exists in the game results and scores datasets as the teams changed names or moved cities (i.e. the San Diego Chargers to the Los Angeles Chargers or the Washington Football Team to the Washington Commanders)\n",
    "    - This provides a way to connect the past team data with more recent team data as the names and cities of the teams have changed over time\n",
    "\n",
    "#### NFL Team Stats\n",
    "- This data set only contains data from 2010 to 2021, so we did not need to filter out any data\n",
    "- We decided which columns were important to us and dropped the columns that we did not need such as perc_punt_20, Turnover_perc, etc.\n",
    "- There were no missing values in this data set, so we did not need to drop any rows\n",
    "\n",
    "#### Setting Up Data\n",
    "- We realized that it would be best if we joined the box scores dataset with the game results dataset, so that we get more information and features for each game that we could build a model off of\n",
    "- Before merging, we still had a little cleaning we had to do in order to make sure that each dataset and the same features (in the same format) to merge on\n",
    "- We inspected all of our data and decided which teams names were missing/incorrect and fixed/added them in a dataframe\n",
    "- Most importantly, we created a function called `get_team_id` which pulled the team id from the team dataframe applied it to the box scores and game data dataframes to create new columns for the home id and the away id\n",
    "    - This ensured that we had a common key to join the dataframes on\n",
    "\n",
    "#### Joining The Data\n",
    "After the initial set up of the data was done, our next step was to join the box score dataset with the game data dataset. \n",
    "- we used inner join, so we only got the games that were present in both datasets\n",
    "- we joined, so that we had more variables for each game that we could train our model on\n",
    "- we then dropped repeating columns and columns we knew we were not going to use to train (i.e. duplicate score columns, duplicate date columns, and duplicate team names)\n",
    "- we then added a columns for the winning team (0 if the home team won, 1 if the away team won, and 2 if the game resulted in a tie)\n",
    "- we also converted all the numeric / quantitative features that we will be using to integers and floats (to build the model)"
   ]
  },
  {
   "cell_type": "markdown",
   "metadata": {},
   "source": [
    "## Visualizations"
   ]
  },
  {
   "cell_type": "markdown",
   "metadata": {},
   "source": [
    "- Total Scores by Year\n",
    "    - Created this to see how the total scores have changed throughout the years\n",
    "\n",
    "![Total Scores by Year](../images/box_score_total_scores.png)"
   ]
  },
  {
   "cell_type": "markdown",
   "metadata": {},
   "source": [
    "- Distribution of Scores\n",
    "    - Shows the distribution of scores for home teams\n",
    "\n",
    "![Distribution of Scores](../images/game_data_dist_home.png)"
   ]
  },
  {
   "cell_type": "markdown",
   "metadata": {},
   "source": [
    "- Chiefs scoring over the Seasons for home and away games\n",
    "\n",
    "![Chiefs scoring over the Seasons for home and away games](../images/game_data_chiefs.png)"
   ]
  },
  {
   "cell_type": "markdown",
   "metadata": {},
   "source": [
    "We used these plots above to determine which variables we wanted to use to train our model. We found out that we should include various models to see which one would be the best to use. We came to this conclusion because we saw that there is an impact on the score when a team is home or away."
   ]
  },
  {
   "cell_type": "markdown",
   "metadata": {},
   "source": [
    "## Machine Learning"
   ]
  },
  {
   "cell_type": "markdown",
   "metadata": {},
   "source": [
    "## Explain Model"
   ]
  },
  {
   "cell_type": "markdown",
   "metadata": {},
   "source": [
    "The next step was to train a model. The model that we chose to go with was a KNN Regressor, since we wanted to predict who would win a game given net yards, time of possession, and scores for both home and away teams.\n",
    "- First we transformed the ids of the teams to become one hot encoded since they are categorical variables.\n",
    "- Next we made a pipeline with a standard scaler and a KNN Regressor with 5 neighbors.\n",
    "- To get the best k value, we used a grid search with cross validation.\n",
    "    - For the scoring, we chose the negative mean squared error, since we wanted to minimize the error.\n",
    "    - We used 10 folds for the cross validation, but we intend to model folds vs error to see if we can get a better k value.\n",
    "\n",
    "![KNN Regressor](../images/k.png)\n",
    "\n",
    "- After getting the best k value of 10 with the manhattan distance metric as the best metric, we trained the model on the training data.\n",
    "- We then used the model to predict the outcome of the test data.\n",
    "- The predictions were float values, so we rounded them to the nearest integer.\n",
    "    - From the predictions, the model predicted 340 results correctly out of 417 games.\n",
    "\n",
    "We then realized that our model was more of an \"explaining\" model rather than a predicting model as we used in-game statistics to predict who won that game itself.\n",
    "- this model would not work for predicting future games as we would need in-game statistics for those games (which we don't have as they are future games)\n",
    "- so we worked on creating a new model using past games to predict a future game\n",
    "\n",
    "We can draw some conclusions from the \"explain\" model:\n",
    "- Since using a team's net yards and time of possession \"explained\" 340 results out of 417 games correctly, it seems as though there is a correlation between a teams net yards, their time of possession, and if they win or not\n",
    "    - It seems as though more net yards correlate with winning games\n",
    "- However, it makes sense for the other results to not be \"explained\" properly as net yards and time of possession is only a small part of the game\n",
    "    - One team may get more yards than the other team, but it does not matter if they are not able to score as consistently as the other team"
   ]
  },
  {
   "cell_type": "markdown",
   "metadata": {},
   "source": [
    "## Predict Models"
   ]
  },
  {
   "cell_type": "markdown",
   "metadata": {},
   "source": [
    "### Training Models"
   ]
  },
  {
   "cell_type": "markdown",
   "metadata": {},
   "source": [
    "- To effectively predict the winner of games and their scores, we decided to make a function that gets the last *n* games of each team and then uses those games to predict the outcome of the next game.\n",
    "- ```get_last_n_games()``` as well as ```create_last_n_games_stats_df()``` were used to get the last *n* games of each team and then create a dataframe with the statistics of those games.\n",
    "    - These functions were applied to our merged dataset to get the last n games of each team.\n",
    "- Statistics that we deemed important in training out model were the scores, points allowed, time of possession, first downs, total plays, and average gain for each the home and away team."
   ]
  },
  {
   "cell_type": "markdown",
   "metadata": {},
   "source": [
    "### KNN Regressor: Multi Output Model"
   ]
  },
  {
   "cell_type": "markdown",
   "metadata": {},
   "source": [
    "- We decided to use a KNN Regressor as our model since we wanted to predict the scores of each team and then use those scores to predict the winner of the game.\n",
    "- Our ```last_n_games_stats_df``` was our X.\n",
    "    - These were split into training and testing sets.\n",
    "- We used a multi output model to predict the scores of each team, so our model would be predicting 2 values.\n",
    "- We used a column transformer to encode the categorical variables, which were the team ids.\n",
    "    - Then we used a pipeline with a standard scaler and a KNN Regressor with 5 neighbors.\n",
    "- To find the best k value, we used a grid search with cross validation.\n",
    "    - For the scoring, we chose the negative mean squared error, since we wanted to minimize the error.\n",
    "    - For the metrics, we used the manhattan distance and the euclidean distance.\n",
    "    - We used 10 folds for the cross validation to get the best k value.\n",
    "- Finally we predicted the scores of the test data and added them to the test data dataframe.\n",
    "- We then used the predicted scores to predict the winner of the game.\n",
    "    - At the end we calculated the amount of predictions that were correct."
   ]
  },
  {
   "cell_type": "markdown",
   "metadata": {},
   "source": [
    "### KNN Regressor: Home and Away Model"
   ]
  },
  {
   "cell_type": "markdown",
   "metadata": {},
   "source": [
    "- To better understand the impact of being home or away, we decided to make a model that predicts the scores of each team separately.\n",
    "- We used the same ```last_n_games_stats_df``` but split the features into home and away features.\n",
    "    - We also split the target into home and away targets.\n",
    "- The same methods were used such as column transformer and pipeline.\n",
    "- However, there were 2 models that were fit and predicted on.\n",
    "    - Each model would only predict the scores of the home team or the away team.\n",
    "    - So each yielded CV errors and predictions.\n",
    "- At the end, we combined the model's predictions and concatenated them to the test data dataframe.\n",
    "- We then used the predicted scores to predict the winner of the game.\n",
    "    - At the end we calculated the amount of predictions that were correct.\n"
   ]
  },
  {
   "cell_type": "markdown",
   "metadata": {},
   "source": [
    "### Linear Regression Model"
   ]
  },
  {
   "cell_type": "markdown",
   "metadata": {},
   "source": [
    "- After making the KNN model, we wanted to compare it with a Linear Regression model to see if Linear Regression would be a better way to predict scores for the teams and who would win.\n",
    "- We used the same ```last_n_games_stats_df``` for our X train and the game scores for the y train\n",
    "- We used the same method for the column transformer (in order to encode the team ids) and used that with a new pipeline with a Linear Regression model instead.\n",
    "  - We still used the Standard Scaler in order to scale the quantitative values as the features units and ranges are different\n",
    "- We fit the model with the X train and then predicted the game scores.\n",
    "  - we then used those predicted values to find our predicted winner for the game and calculated the amount of predictions that were correct."
   ]
  },
  {
   "cell_type": "markdown",
   "metadata": {},
   "source": [
    "### Voting Ensemble Model"
   ]
  },
  {
   "cell_type": "markdown",
   "metadata": {},
   "source": [
    "- We decided to use a voting ensemble model to combine the predictions of the Linear Regression Model and the KNN Regressor: Multi Output Model to better predict the winner of the game.\n",
    "- To do this, we used the ```VotingRegressor``` from sklearn, however we had to use ```MultiOutputRegressor``` since we are predicting 2 values.\n",
    "- To get the best weight, we looped through a range of weights and then found the weight that yielded the best CV error.\n",
    "- Then we used the best weight in a final model that would predict the scores of the test data.\n",
    "- We then used the predicted scores to predict the winner of the game.\n",
    "    - At the end we calculated the amount of predictions that were correct."
   ]
  },
  {
   "cell_type": "markdown",
   "metadata": {},
   "source": [
    "### Metrics and Results"
   ]
  },
  {
   "cell_type": "markdown",
   "metadata": {},
   "source": [
    "- To better understand the results of our models, we calculated the cross validation error for each model.\n",
    "    - We used the negative mean squared error as our scoring metric.\n",
    "- In addition, we calculated the amount of predictions that were correct for each model as the accuracy metric.\n",
    "- However, we wanted to understand the impact of the last *n* games on the accuracy and CV errors, and to see if changing n would improve our models.\n",
    "    - To achieve this we created a function for each model that take in a dataframe and a train/test split.\n",
    "    - Each of these functions train and test the model as we described above.\n",
    "    - The only difference is that these functions would return 4 values: the model itself, the CV error, the number of predictions that were correct, and the total number of predictions.\n",
    "- Using these functions, we looped through a range of *n* values (from 1 to 10) and then added the outputs into a dataframe.\n",
    "    - We then decided to go with the best model that yielded the best accuracy, which was the **KNN Regressor: Multi Output Model**.\n",
    "\n",
    "Here are the the 5 best and 5 worst configurations for our models in the final dataframe:\n",
    "\n",
    "![Best Model Configurations](../images/results_df.png)\n"
   ]
  },
  {
   "cell_type": "markdown",
   "metadata": {},
   "source": [
    "### Predicting Model: **KNN Regressor Multi Output Model**"
   ]
  },
  {
   "cell_type": "markdown",
   "metadata": {},
   "source": [
    "Once we found which model was the best (by testing out different n values and different regression models), we wanted to apply that to some current games to see if our model is still appropriate for the 2023 NFL Season.\n",
    "\n",
    "So, we tested our model against 2 games that took place on Sunday, Dec. 10, 2023: the 49ers vs Seahawks game and the Cowboys vs Eagles game.\n",
    "\n",
    "Since our best model uses averages from the previous 5 games for a team, we researched to find the stats we needed from each of the teams last 5 games, averaged the values out, and then added it to its own dataframe that we could use on model on.\n",
    "\n",
    "#### 49ers vs Seahawks Game\n",
    "Here is a table of our predictions for score compared to actual score:\n",
    "\n",
    "| Team   | Predicted Score | Actual Score |\n",
    "|--------|-----------------|--------------|\n",
    "| SF  |      22.82         |      28      |\n",
    "| SEA |      17.58         |      16      |\n",
    "\n",
    "Here is a table of our predicted winner compared to the actual winner:\n",
    "\n",
    "| Predicted Winner | Actual Winner |\n",
    "|------------------|---------------|\n",
    "| SF | SF |\n",
    "\n",
    "#### Cowboys vs Eagles Game\n",
    "Here is a table of our predictions for score compared to actual score:\n",
    "\n",
    "| Team   | Predicted Score | Actual Score |\n",
    "|--------|-----------------|--------------|\n",
    "| DAL  |      27.06         |      TBD      |\n",
    "| PHI |      24.68         |      TBD      |\n",
    "\n",
    "Here is a table of our predicted winner compared to the actual winner:\n",
    "\n",
    "| Predicted Winner | Actual Winner |\n",
    "|------------------|---------------|\n",
    "| DAL | TBD |"
   ]
  },
  {
   "cell_type": "markdown",
   "metadata": {},
   "source": []
  }
 ],
 "metadata": {
  "kernelspec": {
   "display_name": "Python 3 (ipykernel)",
   "language": "python",
   "name": "python3"
  },
  "language_info": {
   "codemirror_mode": {
    "name": "ipython",
    "version": 3
   },
   "file_extension": ".py",
   "mimetype": "text/x-python",
   "name": "python",
   "nbconvert_exporter": "python",
   "pygments_lexer": "ipython3",
   "version": "3.9.6"
  }
 },
 "nbformat": 4,
 "nbformat_minor": 4
}
