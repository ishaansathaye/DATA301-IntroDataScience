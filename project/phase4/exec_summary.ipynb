{
 "cells": [
  {
   "cell_type": "markdown",
   "metadata": {},
   "source": [
    "# Executive Summary"
   ]
  },
  {
   "cell_type": "markdown",
   "metadata": {},
   "source": [
    "## Project Proposal"
   ]
  },
  {
   "cell_type": "markdown",
   "metadata": {},
   "source": [
    "American football is one of the most popular sports in the United States, and it is also a very complex sport. There are many different factors that can affect the outcome of a game, including the players, the coaches, the plays, and the weather.\n",
    "\n",
    "Our project will focus on using data to analyze American football. We will use data from past games to identify trends and patterns. We will also be using team statistics and team data for past seasons and use the game and team data to predict the outcome of future games and for this current NFL season.\n",
    "\n",
    "We are interested in this project because we are big fanatics of the NFL and football in general. Also, we believe that this data could be used to improve the understanding of the sports and its results.\n",
    "\n",
    "Our data sources for the project include:\n",
    "- Game statistics\n",
    "- Team statistics\n",
    "- Weather data\n",
    "\n",
    "We will use this data to answer the following research questions:\n",
    "- What are the factors that most affect the outcome of an American football game?\n",
    "- How can data be used to predict the outcome of future games?\n",
    "\n",
    "We believe that this project has the potential to make a significant contribution to the field of American football. We are excited to see what we can learn from the data.\n"
   ]
  },
  {
   "cell_type": "markdown",
   "metadata": {},
   "source": [
    "## Description of Data Sources"
   ]
  },
  {
   "cell_type": "markdown",
   "metadata": {},
   "source": [
    "#### [NFL Box Scores](https://www.kaggle.com/datasets/grayengineering425/nfl-box-scores)\n",
    "- Dataset includes box scores for every NFL game from 1960 to 2017\n",
    "- Box scores include statistics for each home and away team for each game\n",
    "- Another csv file includes the weather data for each game but we will not be using this data because it is not complete \n",
    "\n",
    "#### [NFL Game Results and Teams](https://www.kaggle.com/tobycrabtree/nfl-scores-and-betting-data)\n",
    "- There are 2 main datasets that we will be using from this source\n",
    "- The first dataset includes game results for every NFL game from 1966 to 2023\n",
    "  - It also includes descriptive info such as if it is a playoff game, if it is played at a neutral site, and some weather information if available\n",
    "  - It also includes betting data for each game such as the spread, over/under, and money line for the games\n",
    "- The second dataset includes information regarding the teams in the NFL\n",
    "  - It includes the team name, the team abbreviation, the conference, and the division\n",
    "\n",
    "#### [NFL Team Stats](https://www.kaggle.com/datasets/shanyachaubey/nfl20102021offdefplayoffteamstats)\n",
    "- Dataset includes team statistics for each team for each season from 2010 to 2021\n",
    "- The dataset includes basic information such as win-loss percentage and which season\n",
    "- The dataset also includes more in depth information regarding offensive and defensive statistics such as points scored, yards gained, and turnovers\n",
    "- It also includes playoff data for each team for each season"
   ]
  },
  {
   "cell_type": "markdown",
   "metadata": {},
   "source": [
    "## Description of Observational Units"
   ]
  },
  {
   "cell_type": "markdown",
   "metadata": {},
   "source": [
    "#### NFL Box Scores\n",
    "- Observational unit in the box scores data set is each game played in the NFL from 1960 to 2017\n",
    "- There is an emphasis on the statistics between each home and away team\n",
    "- Data set was built by an individual contributor in 2017, and no additional information is provided in Kaggle about the data set\n",
    "- The observational unit in the weather data set is each game played in the NFL from 1960 to 2013\n",
    "    - Data after 2013 is not included in the data set\n",
    "\n",
    "#### NFL Game Results and Teams\n",
    "- The observational unit in game results dataset is each game played in the NFL from 1966 to 2023\n",
    "- The observational unit in the team dataset is each team in the NFL (including teams that are no longer in the NFL or have changed their names, i.e. the San Diego Chargers or the Washington Football Team)\n",
    "- Data set was built from publicly available NFL data, weather provided by the NOAA, and betting data from a variety of sources but cross referenced with Pro Football Reference.\n",
    "\n",
    "#### NFL Team Stats\n",
    "- The observational unit in the team stats dataset is each team in the NFL for each season from 2010 to 2021\n",
    "    - So, the dataset includes data for each of the 32 teams for each of the seasons from 2010 to 2021\n",
    "- This data was created using three different sources: pro-football-reference.com, covers.com, teamrankings.com\n",
    "- The author used various CSV files and web scraping to combine 88 tables to create this data set"
   ]
  },
  {
   "cell_type": "markdown",
   "metadata": {},
   "source": [
    "## Description of Main Variables of Interest"
   ]
  },
  {
   "cell_type": "markdown",
   "metadata": {},
   "source": [
    "#### NFL Box Scores\n",
    "- In this dataset, the main variables of interest for us would be home and away teams' first downs, their net yards, the total plays, average gain, and time of possession\n",
    "- We trimmed down to these variables because this data will be valuable when combining with the other datasets\n",
    "- We deemed these variables important since they give a good summary of the game and how the statistics differed throughout the seasons when teams were at home or away\n",
    "\n",
    "\n",
    "#### NFL Scores and Teams\n",
    "- ScoresGame Resultset\n",
    " Game Results main variables of interest in this dataset are the home and away teams' scores, the home and away teams' yards, and the home and away teams' turnovers  - The main variables of interest in this dataset are the home and away teams' scores, the betting favorite, the date of the game, and the weather \n",
    "  - The score and date variables were taken from publicly available NFl data, the weather was taken from the NOAA, and the betting favorite was taken from a variety of sources but cross referenced with Pro Football Reference\n",
    "- Team Dataset\n",
    "  - The main variables of interest in this dataset are the team name, the team abbreviation, the conference, and the division\n",
    "  - These variables are important because they will be used to merge the data with the other datasets\n",
    "  - This data was taken from public NFL data\n",
    "\n",
    "#### NFL Team Stats\n",
    "- The main variables of interest in this dataset are the team name, the season, the win-loss percentage, the point differential, the points scored per game, the points allowed per game, the yards gained per game, the yards allowed per game, and the possession time per game\n",
    "- This data was taken from 3 sources: pro-football-reference.com, covers.com, teamrankings.come"
   ]
  },
  {
   "cell_type": "markdown",
   "metadata": {},
   "source": [
    "## Description of Data Cleaning Process"
   ]
  },
  {
   "cell_type": "markdown",
   "metadata": {},
   "source": [
    "#### NFL Box Scores\n",
    "- We decided to only take into account seasons from 2010 and onwards since this would be more relevant to the current NFL season\n",
    "- First we got the columns information and decided which variables were important to us\n",
    "- Next, we dropped the columns that we did not need and converted the date column to a datetime object\n",
    "- We also converted all the numeric columns to numeric data types\n",
    "- We discarded the weather csv file in this data set\n",
    "\n",
    "#### NFL Game Results and Teams\n",
    "- Game Result Dataset\n",
    "  - We decided to only take into account seasons from 2010 and onwards since this would be more relevant to the current NFL season (especially so the players, coaches, and teams would be more relevant and similar to the current NFL season)\n",
    "  - We first decided which columns were important to us and dropped the columns that we did not need\n",
    "  - There were some rows missing data for scores, so we dropped those rows\n",
    "  - We also converted the date column to a datetime object\n",
    "  - There were some rows missing data for the weather, but we decided to keep them as the scores for those games were still present and we could still use that data for our analysis\n",
    "- Team Dataset\n",
    "  - We decided which columns were important to us and dropped the columns that we did not need such as the team conference and division before 2002 (especially because we are only considering seasons from 2010 and onwards)\n",
    "  - There were some teams that did not have a current division, so we dropped those rows (these were teams that existed before 2002)\n",
    "  - We realized that the conference value for the Jets was incorrect, so we manually changed that to the correct value\n",
    "  - We sorted the teams by their division and conference to make it easier to read\n",
    "  - We decided to keep the teams that are no longer in the NFL because their team name still exists in the game results and scores datasets as the teams changed names or moved cities (i.e. the San Diego Chargers to the Los Angeles Chargers or the Washington Football Team to the Washington Commanders)\n",
    "    - This provides a way to connect the past team data with more recent team data as the names and cities of the teams have changed over time\n",
    "\n",
    "#### NFL Team Stats\n",
    "- This data set only contains data from 2010 to 2021, so we did not need to filter out any data\n",
    "- We decided which columns were important to us and dropped the columns that we did not need such as perc_punt_20, Turnover_perc, etc.\n",
    "- There were no missing values in this data set, so we did not need to drop any rows\n",
    "\n",
    "#### Setting Up Data\n",
    "- We realized that it would be best if we joined the box scores dataset with the game results dataset, so that we get more information and features for each game that we could build a model off of\n",
    "- Before merging, we still had a little cleaning we had to do in order to make sure that each dataset and the same features (in the same format) to merge on\n",
    "- "
   ]
  },
  {
   "cell_type": "markdown",
   "metadata": {},
   "source": [
    "## Visualizations"
   ]
  },
  {
   "cell_type": "markdown",
   "metadata": {},
   "source": [
    "#### NFL Box Scores Visualizations"
   ]
  },
  {
   "cell_type": "markdown",
   "metadata": {},
   "source": [
    "- Total Scores by Year\n",
    "    - Created this to see how the total scores have changed throughout the years\n",
    "\n",
    "![Total Scores by Year](../images/box_score_total_scores.png)"
   ]
  },
  {
   "cell_type": "markdown",
   "metadata": {},
   "source": [
    "- Mean Net Yards by Year\n",
    "    - Created this to see how the mean net yards have changed throughout the years for the 9ers\n",
    "\n",
    "![Mean Net Yards by Year](../images/9ers_box_score.png)"
   ]
  },
  {
   "cell_type": "markdown",
   "metadata": {},
   "source": [
    "#### Team Stats Visualizations"
   ]
  },
  {
   "cell_type": "markdown",
   "metadata": {},
   "source": [
    "- 9ers Performance Over Time\n",
    "    - Shows the percentage / points per game over the seasons for the 9ers:\n",
    "\n",
    "![9ers Performance Over Time](../images/team_stats_9ers.png)\n",
    "![9ers Performance Over Time](../images/team_stats_9ers_1.png)"
   ]
  },
  {
   "cell_type": "markdown",
   "metadata": {},
   "source": [
    "- Patriots Performance Over Time\n",
    "    - Shows the percentage / points per game over the seasons for the Patriots\n",
    "\n",
    "![Patriots Performance Over Time](../images/team_stats_pats.png)"
   ]
  },
  {
   "cell_type": "markdown",
   "metadata": {},
   "source": [
    "- Chiefs Performance Over Time\n",
    "    - Shows the percentage / points per game over the seasons for the Chiefs\n",
    "\n",
    "![Chiefs Performance Over Time](../images/team_stats_chiefs.png)"
   ]
  },
  {
   "cell_type": "markdown",
   "metadata": {},
   "source": [
    "- Distribution of Points Allowed Per Game\n",
    "    - Can demonstrate the defensive strength of a team\n",
    "\n",
    "![Distribution of Points Allowed Per Game](../images/team_stats_distribution.png)"
   ]
  },
  {
   "cell_type": "markdown",
   "metadata": {},
   "source": [
    "- Team Comparison of Win-Loss Percent vs Points Scored Per Game\n",
    "\n",
    "![Team Comparison of Win-Loss Percent vs Points Scored Per Game](../images/team_stats_win_loss_percent.png)"
   ]
  },
  {
   "cell_type": "markdown",
   "metadata": {},
   "source": [
    "- Offensive vs Defensive Performance\n",
    "    - Relationship between points allowed and points scored for each team\n",
    "\n",
    "![Offensive vs Defensive Performance](../images/team_stats_off_def.png)"
   ]
  },
  {
   "cell_type": "markdown",
   "metadata": {},
   "source": [
    "#### NFL Game Data Visualizations"
   ]
  },
  {
   "cell_type": "markdown",
   "metadata": {},
   "source": [
    "- Distribution of Scores\n",
    "    - Shows the distribution of scores for home teams\n",
    "\n",
    "![Distribution of Scores](../images/game_data_dist_home.png)"
   ]
  },
  {
   "cell_type": "markdown",
   "metadata": {},
   "source": [
    "- Chiefs scoring over the Seasons for home and away games\n",
    "\n",
    "![Chiefs scoring over the Seasons for home and away games](../images/game_data_chiefs.png)"
   ]
  },
  {
   "cell_type": "markdown",
   "metadata": {},
   "source": [
    "## Machine Learning"
   ]
  },
  {
   "cell_type": "markdown",
   "metadata": {},
   "source": [
    "### Setting up the Data"
   ]
  },
  {
   "cell_type": "markdown",
   "metadata": {},
   "source": [
    "The first step in our ML process was to process all the cleaned data.\n",
    "- We inspected all of our data and decided which teams names were missing/incorrect and fixed/added them in a dataframe\n",
    "- Most importantly, we created a function called `get_team_id` which pulled the team id from the team dataframe applied it to the box scores and game data dataframes\n",
    "```python\n",
    "# function to get team id from city/team name\n",
    "def get_team_id(city):\n",
    "    # find the team name \n",
    "    for team in nfl_teams[\"team_name\"]:\n",
    "        if city in team:\n",
    "            return nfl_teams[nfl_teams[\"team_name\"] == team][\"team_id\"].values[0]\n",
    "        elif city == \"NY Giants\":\n",
    "            return \"NYG\"\n",
    "        elif city == \"NY Jets\":\n",
    "            return \"NYJ\"\n",
    "        elif city == \"LA Rams\":\n",
    "            return \"LAR\"\n",
    "        elif city == \"LA Chargers\":\n",
    "            return \"LAC\"\n",
    "```\n",
    "- This ensured that we had a common key to join the dataframes on"
   ]
  },
  {
   "cell_type": "markdown",
   "metadata": {},
   "source": [
    "### Joining the Data"
   ]
  },
  {
   "cell_type": "markdown",
   "metadata": {},
   "source": [
    "After the initial set up of the data was done, our next step was to join the box score dataset with the game data dataset. \n",
    "- we used inner join, so we only got the games that were present in both datasets\n",
    "- we joined, so that we had more variables for each game that we could train our model on\n",
    "- we then dropped repeating columns and columns we knew we were not going to use to train (i.e. duplicate score columns, duplicate date columns, and duplicate team names)"
   ]
  },
  {
   "cell_type": "markdown",
   "metadata": {},
   "source": [
    "### Training Model(s)"
   ]
  },
  {
   "cell_type": "markdown",
   "metadata": {},
   "source": [
    "The next step was to train a model. The model that we chose to go with was a KNN Regressor, since we wanted to predict who would win a game given net yards, time of possession, and scores for both home and away teams.\n",
    "- First we transformed the ids of the teams to become one hot encoded since they are categorical variables.\n",
    "- Next we made a pipeline with a standard scaler and a KNN Regressor with 5 neighbors.\n",
    "- To get the best k value, we used a grid search with cross validation.\n",
    "    - For the scoring, we chose the negative mean squared error, since we wanted to minimize the error.\n",
    "    - We used 10 folds for the cross validation, but we intend to model folds vs error to see if we can get a better k value.\n",
    "\n",
    "![KNN Regressor](./images/k.png)\n",
    "\n",
    "- After getting the best k value of 10 with the manhattan distance metric as the best metric, we trained the model on the training data.\n",
    "- We then used the model to predict the outcome of the test data.\n",
    "- The predictions were float values, so we rounded them to the nearest integer.\n",
    "    - From the predictions, the model predicted 340 results correctly out of 417 games."
   ]
  },
  {
   "cell_type": "markdown",
   "metadata": {},
   "source": [
    "### Unfinished Thoughts"
   ]
  },
  {
   "cell_type": "markdown",
   "metadata": {},
   "source": [
    "There are some pending thoughts that we are still yet to add / are also confused on.\n",
    "- The current model uses KNN and we are using the model to predict the winner which is technically a categorical variable. So, we will try and use the Nearest Classifier Model and see if that works better.\n",
    "  - A change we are thinking for the KNN model is to use it to predict the scores for each individual team first and then use those predicted scores variables to predict the winner (we will then compare this with the other models).\n",
    "- We also are thinking of trying out an ensemble model using our other models and compare the predictions to the other models themselves.\n",
    "- CONFUSION: We will do more research regarding this, but as of now we are confused on how to predict future games / games that do not have the existing variables that we built the model on. In order to use the model to predict data, we have to have the same variables in the test data that the train data was trained with. However, future games do not have values for the variables we trained on (i.e. time of possession of each team or the net yards for each team)"
   ]
  }
 ],
 "metadata": {
  "kernelspec": {
   "display_name": "Python 3 (ipykernel)",
   "language": "python",
   "name": "python3"
  },
  "language_info": {
   "codemirror_mode": {
    "name": "ipython",
    "version": 3
   },
   "file_extension": ".py",
   "mimetype": "text/x-python",
   "name": "python",
   "nbconvert_exporter": "python",
   "pygments_lexer": "ipython3",
   "version": "3.9.6"
  }
 },
 "nbformat": 4,
 "nbformat_minor": 4
}
