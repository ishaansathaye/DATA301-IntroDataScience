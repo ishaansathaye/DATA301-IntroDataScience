{
 "cells": [
  {
   "cell_type": "markdown",
   "metadata": {},
   "source": [
    "kaggle datatsets:\n",
    "- https://www.kaggle.com/datasets/zynicide/nfl-football-player-stats?select=games_1512362753.8735218.json\n",
    "- https://www.kaggle.com/datasets/mur418/espn-2019-stats-and-2020-nfl-fantasy-projections\n",
    "- https://www.kaggle.com/datasets/kendallgillies/nflstatistics\n",
    "\n",
    "scrape:\n",
    "- pro-football-reference.com"
   ]
  },
  {
   "cell_type": "code",
   "execution_count": null,
   "metadata": {},
   "outputs": [],
   "source": []
  }
 ],
 "metadata": {
  "language_info": {
   "name": "python"
  }
 },
 "nbformat": 4,
 "nbformat_minor": 2
}
