{
 "cells": [
  {
   "cell_type": "markdown",
   "metadata": {},
   "source": [
    "kaggle datatsets:\n",
    "- https://www.kaggle.com/datasets/zynicide/nfl-football-player-stats?select=games_1512362753.8735218.json\n",
    "- https://www.kaggle.com/datasets/kendallgillies/nflstatistics\n",
    "- https://www.kaggle.com/datasets/tobycrabtree/nfl-scores-and-betting-data?select=spreadspoke_scores.csv\n",
    "- https://www.kaggle.com/datasets/grayengineering425/nfl-box-scores\n",
    "\n",
    "kaggle notebook:\n",
    "- https://www.kaggle.com/code/sanjayv007/nfl-big-data-bowl-beginner-s-complete-eda#Data-Cleaning\n",
    "- https://www.kaggle.com/code/zwartfreak/nfl-games-players-analysis-and-visualization#Data-visualization\n",
    "\n",
    "scrape:\n",
    "- pro-football-reference.com"
   ]
  },
  {
   "cell_type": "code",
   "execution_count": null,
   "metadata": {},
   "outputs": [],
   "source": []
  }
 ],
 "metadata": {
  "language_info": {
   "name": "python"
  }
 },
 "nbformat": 4,
 "nbformat_minor": 2
}
